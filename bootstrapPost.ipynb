{
 "cells": [
  {
   "cell_type": "markdown",
   "metadata": {},
   "source": [
    "# installing and updating nikola"
   ]
  },
  {
   "cell_type": "code",
   "execution_count": 1,
   "metadata": {
    "ExecuteTime": {
     "end_time": "2018-09-07T10:25:40.747475Z",
     "start_time": "2018-09-07T10:25:38.376282Z"
    }
   },
   "outputs": [
    {
     "name": "stdout",
     "output_type": "stream",
     "text": [
      "Nikola v8.1.3\n",
      "The latest version of Nikola is v8.2.0. Please upgrade using `pip install --upgrade Nikola==8.2.0` or your system package manager.\n"
     ]
    }
   ],
   "source": [
    "!nikola version --check"
   ]
  },
  {
   "cell_type": "raw",
   "metadata": {},
   "source": [
    "%conda install -c asmeurer nikola"
   ]
  },
  {
   "cell_type": "code",
   "execution_count": 2,
   "metadata": {},
   "outputs": [
    {
     "name": "stdout",
     "output_type": "stream",
     "text": [
      "Found existing installation: Nikola 8.1.3\n",
      "Uninstalling Nikola-8.1.3:\n",
      "  Successfully uninstalled Nikola-8.1.3\n"
     ]
    }
   ],
   "source": [
    "!python3 -m pip uninstall -y nikola"
   ]
  },
  {
   "cell_type": "code",
   "execution_count": 19,
   "metadata": {
    "ExecuteTime": {
     "end_time": "2018-09-07T10:24:17.333057Z",
     "start_time": "2018-09-07T10:24:14.585077Z"
    }
   },
   "outputs": [
    {
     "name": "stdout",
     "output_type": "stream",
     "text": [
      "\u001b[33mDEPRECATION: Configuring installation scheme with distutils config files is deprecated and will no longer work in the near future. If you are using a Homebrew or Linuxbrew Python, please see discussion at https://github.com/Homebrew/homebrew-core/issues/76621\u001b[0m\u001b[33m\n",
      "\u001b[0mRequirement already satisfied: lxml in /usr/local/lib/python3.9/site-packages (4.8.0)\n",
      "Requirement already satisfied: Nikola[extras] in /usr/local/lib/python3.9/site-packages (8.2.0)\n",
      "Requirement already satisfied: Pygments>=1.6 in /usr/local/lib/python3.9/site-packages (from Nikola[extras]) (2.10.0)\n",
      "Requirement already satisfied: docutils>=0.13 in /usr/local/lib/python3.9/site-packages (from Nikola[extras]) (0.16)\n",
      "Requirement already satisfied: PyRSS2Gen>=1.1 in /usr/local/lib/python3.9/site-packages (from Nikola[extras]) (1.1)\n",
      "Requirement already satisfied: Pillow>=2.4.0 in /usr/local/lib/python3.9/site-packages (from Nikola[extras]) (9.0.1)\n",
      "Requirement already satisfied: python-dateutil>=2.6.0 in /usr/local/lib/python3.9/site-packages (from Nikola[extras]) (2.8.2)\n",
      "Requirement already satisfied: Yapsy>=1.11.223 in /usr/local/lib/python3.9/site-packages (from Nikola[extras]) (1.12.2)\n",
      "Requirement already satisfied: natsort>=3.5.2 in /usr/local/lib/python3.9/site-packages (from Nikola[extras]) (7.1.0)\n",
      "Requirement already satisfied: piexif>=1.0.3 in /usr/local/lib/python3.9/site-packages (from Nikola[extras]) (1.1.3)\n",
      "Requirement already satisfied: Babel>=2.6.0 in /usr/local/lib/python3.9/site-packages (from Nikola[extras]) (2.9.1)\n",
      "Requirement already satisfied: blinker>=1.3 in /usr/local/lib/python3.9/site-packages (from Nikola[extras]) (1.4)\n",
      "Requirement already satisfied: unidecode>=0.04.16 in /usr/local/lib/python3.9/site-packages (from Nikola[extras]) (1.2.0)\n",
      "Requirement already satisfied: requests>=2.2.0 in /usr/local/lib/python3.9/site-packages (from Nikola[extras]) (2.26.0)\n",
      "Requirement already satisfied: setuptools>=24.2.0 in /usr/local/lib/python3.9/site-packages (from Nikola[extras]) (60.10.0)\n",
      "Requirement already satisfied: doit>=0.32.0 in /usr/local/lib/python3.9/site-packages (from Nikola[extras]) (0.33.1)\n",
      "Requirement already satisfied: Markdown>=3.0.0 in /usr/local/lib/python3.9/site-packages (from Nikola[extras]) (3.3.4)\n",
      "Requirement already satisfied: mako>=1.0.0 in /usr/local/lib/python3.9/site-packages (from Nikola[extras]) (1.1.4)\n",
      "Requirement already satisfied: micawber>=0.3.0 in /usr/local/lib/python3.9/site-packages (from Nikola[extras]) (0.5.2)\n",
      "Requirement already satisfied: hsluv>=5.0.0 in /usr/local/lib/python3.9/site-packages (from Nikola[extras]) (5.0.2)\n",
      "Requirement already satisfied: phpserialize>=1.3 in /usr/local/lib/python3.9/site-packages (from Nikola[extras]) (1.3)\n",
      "Requirement already satisfied: ipykernel>=4.0.0 in /usr/local/lib/python3.9/site-packages (from Nikola[extras]) (6.10.0)\n",
      "Requirement already satisfied: notebook>=4.0.0 in /usr/local/lib/python3.9/site-packages (from Nikola[extras]) (6.4.10)\n",
      "Requirement already satisfied: typogrify>=2.0.4 in /usr/local/lib/python3.9/site-packages (from Nikola[extras]) (2.0.7)\n",
      "Requirement already satisfied: pyphen>=0.9.1 in /usr/local/lib/python3.9/site-packages (from Nikola[extras]) (0.10.0)\n",
      "Requirement already satisfied: toml>=0.9.2 in /usr/local/lib/python3.9/site-packages (from Nikola[extras]) (0.10.2)\n",
      "Requirement already satisfied: ghp-import>=1.0.0 in /usr/local/lib/python3.9/site-packages (from Nikola[extras]) (1.1.0)\n",
      "Requirement already satisfied: pygal>=2.0.0 in /usr/local/lib/python3.9/site-packages (from Nikola[extras]) (2.4.0)\n",
      "Requirement already satisfied: watchdog>=0.8.3 in /usr/local/lib/python3.9/site-packages (from Nikola[extras]) (2.0.2)\n",
      "Requirement already satisfied: html5lib>=1.0 in /usr/local/lib/python3.9/site-packages (from Nikola[extras]) (1.1)\n",
      "Requirement already satisfied: ruamel.yaml>=0.15 in /usr/local/lib/python3.9/site-packages (from Nikola[extras]) (0.16.10)\n",
      "Requirement already satisfied: aiohttp>=3.0.0 in /usr/local/lib/python3.9/site-packages (from Nikola[extras]) (3.7.3)\n",
      "Requirement already satisfied: Jinja2>=2.7.2 in /usr/local/lib/python3.9/site-packages (from Nikola[extras]) (3.0.1)\n",
      "Requirement already satisfied: yarl<2.0,>=1.0 in /usr/local/lib/python3.9/site-packages (from aiohttp>=3.0.0->Nikola[extras]) (1.6.3)\n",
      "Requirement already satisfied: chardet<4.0,>=2.0 in /usr/local/lib/python3.9/site-packages (from aiohttp>=3.0.0->Nikola[extras]) (3.0.4)\n",
      "Requirement already satisfied: async-timeout<4.0,>=3.0 in /usr/local/lib/python3.9/site-packages (from aiohttp>=3.0.0->Nikola[extras]) (3.0.1)\n",
      "Requirement already satisfied: attrs>=17.3.0 in /usr/local/lib/python3.9/site-packages (from aiohttp>=3.0.0->Nikola[extras]) (20.3.0)\n",
      "Requirement already satisfied: typing-extensions>=3.6.5 in /usr/local/lib/python3.9/site-packages (from aiohttp>=3.0.0->Nikola[extras]) (3.10.0.2)\n",
      "Requirement already satisfied: multidict<7.0,>=4.5 in /usr/local/lib/python3.9/site-packages (from aiohttp>=3.0.0->Nikola[extras]) (5.1.0)\n",
      "Requirement already satisfied: pytz>=2015.7 in /usr/local/lib/python3.9/site-packages (from Babel>=2.6.0->Nikola[extras]) (2021.1)\n",
      "Requirement already satisfied: cloudpickle in /usr/local/lib/python3.9/site-packages (from doit>=0.32.0->Nikola[extras]) (1.6.0)\n",
      "Requirement already satisfied: macfsevents in /usr/local/lib/python3.9/site-packages (from doit>=0.32.0->Nikola[extras]) (0.8.1)\n",
      "Requirement already satisfied: six>=1.9 in /usr/local/lib/python3.9/site-packages (from html5lib>=1.0->Nikola[extras]) (1.16.0)\n",
      "Requirement already satisfied: webencodings in /usr/local/lib/python3.9/site-packages (from html5lib>=1.0->Nikola[extras]) (0.5.1)\n",
      "Requirement already satisfied: jupyter-client<8.0 in /usr/local/lib/python3.9/site-packages (from ipykernel>=4.0.0->Nikola[extras]) (7.2.1)\n",
      "Requirement already satisfied: traitlets<6.0,>=5.1.0 in /usr/local/lib/python3.9/site-packages (from ipykernel>=4.0.0->Nikola[extras]) (5.1.1)\n",
      "Requirement already satisfied: appnope in /usr/local/lib/python3.9/site-packages (from ipykernel>=4.0.0->Nikola[extras]) (0.1.2)\n",
      "Requirement already satisfied: tornado<7.0,>=5.0 in /usr/local/lib/python3.9/site-packages (from ipykernel>=4.0.0->Nikola[extras]) (6.1)\n",
      "Requirement already satisfied: ipython>=7.23.1 in /usr/local/lib/python3.9/site-packages (from ipykernel>=4.0.0->Nikola[extras]) (8.2.0)\n",
      "Requirement already satisfied: debugpy<2.0,>=1.0.0 in /usr/local/lib/python3.9/site-packages (from ipykernel>=4.0.0->Nikola[extras]) (1.4.1)\n",
      "Requirement already satisfied: matplotlib-inline<0.2.0,>=0.1.0 in /usr/local/lib/python3.9/site-packages (from ipykernel>=4.0.0->Nikola[extras]) (0.1.2)\n",
      "Requirement already satisfied: psutil in /usr/local/lib/python3.9/site-packages (from ipykernel>=4.0.0->Nikola[extras]) (5.8.0)\n",
      "Requirement already satisfied: nest-asyncio in /usr/local/lib/python3.9/site-packages (from ipykernel>=4.0.0->Nikola[extras]) (1.5.4)\n",
      "Requirement already satisfied: MarkupSafe>=2.0 in /usr/local/lib/python3.9/site-packages (from Jinja2>=2.7.2->Nikola[extras]) (2.0.1)\n",
      "Requirement already satisfied: jupyter-core>=4.6.1 in /usr/local/lib/python3.9/site-packages (from notebook>=4.0.0->Nikola[extras]) (4.9.2)\n",
      "Requirement already satisfied: Send2Trash>=1.8.0 in /usr/local/lib/python3.9/site-packages (from notebook>=4.0.0->Nikola[extras]) (1.8.0)\n",
      "Requirement already satisfied: prometheus-client in /usr/local/lib/python3.9/site-packages (from notebook>=4.0.0->Nikola[extras]) (0.11.0)\n",
      "Requirement already satisfied: ipython-genutils in /usr/local/lib/python3.9/site-packages (from notebook>=4.0.0->Nikola[extras]) (0.2.0)\n",
      "Requirement already satisfied: nbformat in /usr/local/lib/python3.9/site-packages (from notebook>=4.0.0->Nikola[extras]) (5.1.3)\n",
      "Requirement already satisfied: terminado>=0.8.3 in /usr/local/lib/python3.9/site-packages (from notebook>=4.0.0->Nikola[extras]) (0.12.1)\n",
      "Requirement already satisfied: argon2-cffi in /usr/local/lib/python3.9/site-packages (from notebook>=4.0.0->Nikola[extras]) (20.1.0)\n",
      "Requirement already satisfied: nbconvert>=5 in /usr/local/lib/python3.9/site-packages (from notebook>=4.0.0->Nikola[extras]) (6.4.5)\n",
      "Requirement already satisfied: pyzmq>=17 in /usr/local/lib/python3.9/site-packages (from notebook>=4.0.0->Nikola[extras]) (22.3.0)\n",
      "Requirement already satisfied: idna<4,>=2.5 in /usr/local/lib/python3.9/site-packages (from requests>=2.2.0->Nikola[extras]) (2.10)\n",
      "Requirement already satisfied: charset-normalizer~=2.0.0 in /usr/local/lib/python3.9/site-packages (from requests>=2.2.0->Nikola[extras]) (2.0.4)\n",
      "Requirement already satisfied: certifi>=2017.4.17 in /usr/local/lib/python3.9/site-packages (from requests>=2.2.0->Nikola[extras]) (2020.12.5)\n",
      "Requirement already satisfied: urllib3<1.27,>=1.21.1 in /usr/local/lib/python3.9/site-packages (from requests>=2.2.0->Nikola[extras]) (1.26.4)\n",
      "Requirement already satisfied: smartypants>=1.8.3 in /usr/local/lib/python3.9/site-packages (from typogrify>=2.0.4->Nikola[extras]) (2.0.1)\n",
      "Requirement already satisfied: stack-data in /usr/local/lib/python3.9/site-packages (from ipython>=7.23.1->ipykernel>=4.0.0->Nikola[extras]) (0.2.0)\n",
      "Requirement already satisfied: pickleshare in /usr/local/lib/python3.9/site-packages (from ipython>=7.23.1->ipykernel>=4.0.0->Nikola[extras]) (0.7.5)\n",
      "Requirement already satisfied: pexpect>4.3 in /usr/local/lib/python3.9/site-packages (from ipython>=7.23.1->ipykernel>=4.0.0->Nikola[extras]) (4.8.0)\n",
      "Requirement already satisfied: jedi>=0.16 in /usr/local/lib/python3.9/site-packages (from ipython>=7.23.1->ipykernel>=4.0.0->Nikola[extras]) (0.17.2)\n",
      "Requirement already satisfied: decorator in /usr/local/lib/python3.9/site-packages (from ipython>=7.23.1->ipykernel>=4.0.0->Nikola[extras]) (4.4.2)\n",
      "Requirement already satisfied: prompt-toolkit!=3.0.0,!=3.0.1,<3.1.0,>=2.0.0 in /usr/local/lib/python3.9/site-packages (from ipython>=7.23.1->ipykernel>=4.0.0->Nikola[extras]) (3.0.18)\n",
      "Requirement already satisfied: backcall in /usr/local/lib/python3.9/site-packages (from ipython>=7.23.1->ipykernel>=4.0.0->Nikola[extras]) (0.2.0)\n",
      "Requirement already satisfied: entrypoints in /usr/local/lib/python3.9/site-packages (from jupyter-client<8.0->ipykernel>=4.0.0->Nikola[extras]) (0.3)\n",
      "Requirement already satisfied: beautifulsoup4 in /usr/local/lib/python3.9/site-packages (from nbconvert>=5->notebook>=4.0.0->Nikola[extras]) (4.10.0)\n",
      "Requirement already satisfied: bleach in /usr/local/lib/python3.9/site-packages (from nbconvert>=5->notebook>=4.0.0->Nikola[extras]) (3.3.0)\n",
      "Requirement already satisfied: mistune<2,>=0.8.1 in /usr/local/lib/python3.9/site-packages (from nbconvert>=5->notebook>=4.0.0->Nikola[extras]) (0.8.4)\n",
      "Requirement already satisfied: jupyterlab-pygments in /usr/local/lib/python3.9/site-packages (from nbconvert>=5->notebook>=4.0.0->Nikola[extras]) (0.1.2)\n",
      "Requirement already satisfied: defusedxml in /usr/local/lib/python3.9/site-packages (from nbconvert>=5->notebook>=4.0.0->Nikola[extras]) (0.7.1)\n",
      "Requirement already satisfied: pandocfilters>=1.4.1 in /usr/local/lib/python3.9/site-packages (from nbconvert>=5->notebook>=4.0.0->Nikola[extras]) (1.4.3)\n",
      "Requirement already satisfied: testpath in /usr/local/lib/python3.9/site-packages (from nbconvert>=5->notebook>=4.0.0->Nikola[extras]) (0.4.4)\n",
      "Requirement already satisfied: nbclient<0.6.0,>=0.5.0 in /usr/local/lib/python3.9/site-packages (from nbconvert>=5->notebook>=4.0.0->Nikola[extras]) (0.5.3)\n",
      "Requirement already satisfied: jsonschema!=2.5.0,>=2.4 in /usr/local/lib/python3.9/site-packages (from nbformat->notebook>=4.0.0->Nikola[extras]) (3.2.0)\n",
      "Requirement already satisfied: ptyprocess in /usr/local/lib/python3.9/site-packages (from terminado>=0.8.3->notebook>=4.0.0->Nikola[extras]) (0.7.0)\n",
      "Requirement already satisfied: cffi>=1.0.0 in /usr/local/lib/python3.9/site-packages (from argon2-cffi->notebook>=4.0.0->Nikola[extras]) (1.14.5)\n",
      "Requirement already satisfied: pycparser in /usr/local/lib/python3.9/site-packages (from cffi>=1.0.0->argon2-cffi->notebook>=4.0.0->Nikola[extras]) (2.20)\n",
      "Requirement already satisfied: parso<0.8.0,>=0.7.0 in /usr/local/lib/python3.9/site-packages (from jedi>=0.16->ipython>=7.23.1->ipykernel>=4.0.0->Nikola[extras]) (0.7.1)\n",
      "Requirement already satisfied: pyrsistent>=0.14.0 in /usr/local/lib/python3.9/site-packages (from jsonschema!=2.5.0,>=2.4->nbformat->notebook>=4.0.0->Nikola[extras]) (0.17.3)\n",
      "Requirement already satisfied: async-generator in /usr/local/lib/python3.9/site-packages (from nbclient<0.6.0,>=0.5.0->nbconvert>=5->notebook>=4.0.0->Nikola[extras]) (1.10)\n",
      "Requirement already satisfied: wcwidth in /usr/local/lib/python3.9/site-packages (from prompt-toolkit!=3.0.0,!=3.0.1,<3.1.0,>=2.0.0->ipython>=7.23.1->ipykernel>=4.0.0->Nikola[extras]) (0.2.5)\n",
      "Requirement already satisfied: soupsieve>1.2 in /usr/local/lib/python3.9/site-packages (from beautifulsoup4->nbconvert>=5->notebook>=4.0.0->Nikola[extras]) (2.3.1)\n",
      "Requirement already satisfied: packaging in /usr/local/lib/python3.9/site-packages (from bleach->nbconvert>=5->notebook>=4.0.0->Nikola[extras]) (20.9)\n",
      "Requirement already satisfied: executing in /usr/local/lib/python3.9/site-packages (from stack-data->ipython>=7.23.1->ipykernel>=4.0.0->Nikola[extras]) (0.8.3)\n",
      "Requirement already satisfied: pure-eval in /usr/local/lib/python3.9/site-packages (from stack-data->ipython>=7.23.1->ipykernel>=4.0.0->Nikola[extras]) (0.2.2)\n",
      "Requirement already satisfied: asttokens in /usr/local/lib/python3.9/site-packages (from stack-data->ipython>=7.23.1->ipykernel>=4.0.0->Nikola[extras]) (2.0.5)\n",
      "Requirement already satisfied: pyparsing>=2.0.2 in /usr/local/lib/python3.9/site-packages (from packaging->bleach->nbconvert>=5->notebook>=4.0.0->Nikola[extras]) (2.4.7)\n",
      "\u001b[33mDEPRECATION: Configuring installation scheme with distutils config files is deprecated and will no longer work in the near future. If you are using a Homebrew or Linuxbrew Python, please see discussion at https://github.com/Homebrew/homebrew-core/issues/76621\u001b[0m\u001b[33m\n",
      "\u001b[0mNote: you may need to restart the kernel to use updated packages.\n"
     ]
    }
   ],
   "source": [
    "%pip install -U lxml \"Nikola[extras]\""
   ]
  },
  {
   "cell_type": "raw",
   "metadata": {
    "ExecuteTime": {
     "end_time": "2018-09-07T10:24:48.097536Z",
     "start_time": "2018-09-07T10:24:43.118411Z"
    }
   },
   "source": [
    "#!python3 -m pip uninstall -y rst2html5\n",
    "!python3 -m pip install -U --force rst2html5"
   ]
  },
  {
   "cell_type": "raw",
   "metadata": {
    "ExecuteTime": {
     "end_time": "2018-09-07T10:24:57.383520Z",
     "start_time": "2018-09-07T10:24:54.879696Z"
    }
   },
   "source": [
    "#!pip uninstall -y html5lib\n",
    "!python3 -m pip install -U --force html5lib"
   ]
  },
  {
   "cell_type": "code",
   "execution_count": 4,
   "metadata": {
    "ExecuteTime": {
     "end_time": "2018-09-07T10:24:57.383520Z",
     "start_time": "2018-09-07T10:24:54.879696Z"
    }
   },
   "outputs": [],
   "source": [
    "#!pip uninstall -y html5lib"
   ]
  },
  {
   "cell_type": "code",
   "execution_count": 5,
   "metadata": {
    "ExecuteTime": {
     "end_time": "2018-09-07T10:25:37.163105Z",
     "start_time": "2018-09-07T10:25:34.804602Z"
    }
   },
   "outputs": [
    {
     "name": "stdout",
     "output_type": "stream",
     "text": [
      "Nikola v8.2.0\n"
     ]
    }
   ],
   "source": [
    "!nikola version"
   ]
  },
  {
   "cell_type": "markdown",
   "metadata": {},
   "source": [
    "# Adding a new post"
   ]
  },
  {
   "cell_type": "code",
   "execution_count": 1,
   "metadata": {
    "ExecuteTime": {
     "end_time": "2018-11-05T14:34:58.343345Z",
     "start_time": "2018-11-05T14:34:58.224501Z"
    }
   },
   "outputs": [
    {
     "name": "stdout",
     "output_type": "stream",
     "text": [
      "Fri Feb 11 12:34:57 CET 2022\n"
     ]
    }
   ],
   "source": [
    "!date\n",
    "import datetime"
   ]
  },
  {
   "cell_type": "code",
   "execution_count": 2,
   "metadata": {
    "ExecuteTime": {
     "end_time": "2018-11-05T14:34:58.697822Z",
     "start_time": "2018-11-05T14:34:58.694703Z"
    }
   },
   "outputs": [
    {
     "name": "stdout",
     "output_type": "stream",
     "text": [
      "2022-02-11 12:34:57.198840\n"
     ]
    }
   ],
   "source": [
    "print(datetime.datetime.now())"
   ]
  },
  {
   "cell_type": "code",
   "execution_count": 3,
   "metadata": {
    "ExecuteTime": {
     "end_time": "2018-11-05T14:34:59.176807Z",
     "start_time": "2018-11-05T14:34:59.173942Z"
    }
   },
   "outputs": [
    {
     "name": "stdout",
     "output_type": "stream",
     "text": [
      "2022-02-11\n"
     ]
    }
   ],
   "source": [
    "now = datetime.datetime.now().date()\n",
    "date = now.isoformat()#[2:]\n",
    "print(date)"
   ]
  },
  {
   "cell_type": "raw",
   "metadata": {},
   "source": [
    "date = '2019-10-07'"
   ]
  },
  {
   "cell_type": "code",
   "execution_count": 4,
   "metadata": {
    "ExecuteTime": {
     "end_time": "2018-11-05T14:34:58.343345Z",
     "start_time": "2018-11-05T14:34:58.224501Z"
    }
   },
   "outputs": [
    {
     "name": "stdout",
     "output_type": "stream",
     "text": [
      "2022-02-11\n"
     ]
    }
   ],
   "source": [
    "import datetime\n",
    "date = datetime.datetime.now().date().isoformat()\n",
    "print(date)"
   ]
  },
  {
   "cell_type": "code",
   "execution_count": 5,
   "metadata": {},
   "outputs": [
    {
     "data": {
      "text/plain": [
       "\u001b[0;31mDocstring:\u001b[0m Return string in ISO 8601 format, YYYY-MM-DD.\n",
       "\u001b[0;31mType:\u001b[0m      builtin_function_or_method\n"
      ]
     },
     "metadata": {},
     "output_type": "display_data"
    }
   ],
   "source": [
    "now.isoformat?"
   ]
  },
  {
   "cell_type": "code",
   "execution_count": 6,
   "metadata": {
    "ExecuteTime": {
     "end_time": "2018-11-05T14:35:00.048738Z",
     "start_time": "2018-11-05T14:34:59.677518Z"
    }
   },
   "outputs": [],
   "source": [
    "from nikola import utils"
   ]
  },
  {
   "cell_type": "code",
   "execution_count": 7,
   "metadata": {
    "ExecuteTime": {
     "end_time": "2018-11-05T14:40:53.234519Z",
     "start_time": "2018-11-05T14:40:53.230930Z"
    }
   },
   "outputs": [],
   "source": [
    "tags_list = [\n",
    "    'python', \n",
    "#    'ipython', \n",
    "#    'jupyter', \n",
    "#    'nikola', \n",
    "    'blog', \n",
    "#    'themes', \n",
    "#    'pupil',\n",
    "#    'psychophysics',\n",
    "#    'outreach',   \n",
    "#    'grand-public',\n",
    "#    'space', \n",
    "#    'behavior',\n",
    "#    'povray', \n",
    "#    'elasticite', \n",
    "#    'art', \n",
    "#    'trames', \n",
    "#    'math',\n",
    "#    'bicv', \n",
    "#    'SLIP', \n",
    "#    'LogGabor', \n",
    "#    'SHL_scripts', \n",
    "#    'sparse', \n",
    "#    'Matching Pursuit',\n",
    "#    'Motion Particles',\n",
    "#    'holoviews',\n",
    "#    'pytorch',\n",
    "#    'deep-learning',\n",
    "#    'machine-learning',\n",
    "#     'moviepy', \n",
    "#     'numpy', \n",
    "#    'vispy', \n",
    "#    'neural',\n",
    "#    'motionclouds',\n",
    "#    'motion',\n",
    "#    'pynn',\n",
    "#    'saccades',\n",
    "#    'Free Energy',\n",
    "#    'learning',\n",
    "    'open-science',\n",
    "    'pandas',\n",
    "#    'shell',\n",
    "#    'vim',\n",
    "#    'orientation',\n",
    "#    'vision',\n",
    "#    'v1',\n",
    "]\n",
    "formt = 'rest'\n",
    "formt = 'markdown'\n",
    "formt = 'ipynb'"
   ]
  },
  {
   "cell_type": "code",
   "execution_count": 8,
   "metadata": {
    "ExecuteTime": {
     "end_time": "2018-11-05T14:41:01.475071Z",
     "start_time": "2018-11-05T14:41:00.415148Z"
    }
   },
   "outputs": [
    {
     "name": "stdout",
     "output_type": "stream",
     "text": [
      "nikola new_post [options] [path]\n",
      "    create a new blog post or site page\n",
      "\n",
      "Options:\n",
      "    -p, --page\n",
      "        Create a page instead of a blog post. (see also: `nikola\n",
      "        new_page`)\n",
      "    -t ARG, --title=ARG\n",
      "        Title for the post.\n",
      "    -a ARG, --author=ARG\n",
      "        Author of the post.\n",
      "    --tags=ARG\n",
      "        Comma-separated tags for the post.\n",
      "    -1\n",
      "        Create the post with embedded metadata (single file format)\n",
      "    -2\n",
      "        Create the post with separate metadata (two file format)\n",
      "    -e\n",
      "        Open the post (and meta file, if any) in $EDITOR after\n",
      "        creation.\n",
      "    -f ARG, --format=ARG\n",
      "        Markup format for the post (use --available-formats for list)\n",
      "    -F, --available-formats\n",
      "        List all available input formats\n",
      "    -s\n",
      "        Schedule the post based on recurrence rule\n",
      "    -i ARG, --import=ARG\n",
      "        Import an existing file instead of creating a placeholder\n",
      "    -d, --date-path\n",
      "        Create post with date path (eg. year/month/day, see\n",
      "        NEW_POST_DATE_PATH_FORMAT in config)\n"
     ]
    }
   ],
   "source": [
    "!nikola new_post -h"
   ]
  },
  {
   "cell_type": "code",
   "execution_count": 9,
   "metadata": {
    "ExecuteTime": {
     "end_time": "2018-11-05T14:41:01.475071Z",
     "start_time": "2018-11-05T14:41:00.415148Z"
    }
   },
   "outputs": [
    {
     "name": "stdout",
     "output_type": "stream",
     "text": [
      "Available input formats:\n",
      "\n",
      " NAME        DESCRIPTION       EXTENSIONS\n",
      "\n",
      " html        HTML              .html, .htm\n",
      " ipynb       Jupyter Notebook  .ipynb\n",
      " markdown    Markdown          .md, .mdown, .markdown\n",
      " rest        reStructuredText  .rst, .txt\n",
      "!php         PHP               .php\n",
      "~pandoc      Pandoc            (disabled: not in COMPILERS)\n",
      "~rest_html5  rest_html5        (disabled: not in COMPILERS)\n",
      "\n",
      "    More compilers are available in the Plugins Index.\n",
      "\n",
      "    Compilers marked with ! and ~ require additional configuration:\n",
      "        ! not in the POSTS/PAGES tuples and any post scanners (unused)\n",
      "        ~ not in the COMPILERS dict (disabled)\n",
      "    Read more: https://getnikola.com/handbook.html#configuring-other-input-formats\n"
     ]
    }
   ],
   "source": [
    "!nikola new_post  --available-formats"
   ]
  },
  {
   "cell_type": "code",
   "execution_count": 10,
   "metadata": {
    "ExecuteTime": {
     "end_time": "2018-11-05T14:41:08.343633Z",
     "start_time": "2018-11-05T14:41:02.455292Z"
    }
   },
   "outputs": [
    {
     "name": "stdout",
     "output_type": "stream",
     "text": [
      "Creating New Post\n",
      "-----------------\n",
      "\n",
      "Title: 2022-02-11 COSYNE reviewer feedback\n",
      "Scanning posts...........done!\n",
      "\u001b[1;33m[2022-02-11 12:35:58] WARNING: ipynb: No kernel specified, assuming \"python3\".\u001b[0m\n",
      "\u001b[1m[2022-02-11 12:35:58] INFO: new_post: Your post's metadata is at: posts/2022-02-11-cosyne-reviewer-feedback.meta\u001b[0m\n",
      "\u001b[1m[2022-02-11 12:35:58] INFO: new_post: Your post's text is at: posts/2022-02-11-cosyne-reviewer-feedback.ipynb\u001b[0m\n"
     ]
    }
   ],
   "source": [
    "tags = ', '.join(tags_list)\n",
    "title = date + ' ' + \"COSYNE reviewer feedback\"\n",
    "#title = '2017-12-13 accessing the data from a pupil recording'\n",
    "!nikola new_post -f \"{formt}\" -2 -t \"{title}\" --tags=\"{tags}\""
   ]
  },
  {
   "cell_type": "code",
   "execution_count": 11,
   "metadata": {
    "ExecuteTime": {
     "end_time": "2018-11-08T10:17:49.012273Z",
     "start_time": "2018-11-08T10:17:49.005411Z"
    }
   },
   "outputs": [
    {
     "name": "stdout",
     "output_type": "stream",
     "text": [
      "posts/2022-02-11-cosyne-reviewer-feedback.ipynb\n"
     ]
    }
   ],
   "source": [
    "fname = utils.os.path.join('posts', utils.slugify(title) + '.' + formt)\n",
    "print(fname)"
   ]
  },
  {
   "cell_type": "code",
   "execution_count": 12,
   "metadata": {
    "ExecuteTime": {
     "end_time": "2018-11-05T14:41:18.822843Z",
     "start_time": "2018-11-05T14:41:18.813958Z"
    }
   },
   "outputs": [
    {
     "data": {
      "text/plain": [
       "'posts/2022-02-11-cosyne-reviewer-feedback.ipynb'"
      ]
     },
     "execution_count": 12,
     "metadata": {},
     "output_type": "execute_result"
    }
   ],
   "source": [
    "utils.shutil.copy('template.ipynb', fname)"
   ]
  },
  {
   "cell_type": "markdown",
   "metadata": {},
   "source": [
    "# Copying existing notebooks"
   ]
  },
  {
   "cell_type": "code",
   "execution_count": 19,
   "metadata": {},
   "outputs": [
    {
     "data": {
      "text/plain": [
       "\u001b[0;31mSignature:\u001b[0m \u001b[0mutils\u001b[0m\u001b[0;34m.\u001b[0m\u001b[0mshutil\u001b[0m\u001b[0;34m.\u001b[0m\u001b[0mcopy\u001b[0m\u001b[0;34m(\u001b[0m\u001b[0msrc\u001b[0m\u001b[0;34m,\u001b[0m \u001b[0mdst\u001b[0m\u001b[0;34m,\u001b[0m \u001b[0;34m*\u001b[0m\u001b[0;34m,\u001b[0m \u001b[0mfollow_symlinks\u001b[0m\u001b[0;34m=\u001b[0m\u001b[0;32mTrue\u001b[0m\u001b[0;34m)\u001b[0m\u001b[0;34m\u001b[0m\u001b[0;34m\u001b[0m\u001b[0m\n",
       "\u001b[0;31mDocstring:\u001b[0m\n",
       "Copy data and mode bits (\"cp src dst\"). Return the file's destination.\n",
       "\n",
       "The destination may be a directory.\n",
       "\n",
       "If follow_symlinks is false, symlinks won't be followed. This\n",
       "resembles GNU's \"cp -P src dst\".\n",
       "\n",
       "If source and destination are the same file, a SameFileError will be\n",
       "raised.\n",
       "\u001b[0;31mFile:\u001b[0m      /usr/local/Cellar/python/3.7.7/Frameworks/Python.framework/Versions/3.7/lib/python3.7/shutil.py\n",
       "\u001b[0;31mType:\u001b[0m      function\n"
      ]
     },
     "metadata": {},
     "output_type": "display_data"
    }
   ],
   "source": [
    "utils.shutil.copy?"
   ]
  },
  {
   "cell_type": "markdown",
   "metadata": {
    "tags": []
   },
   "source": [
    "## 2022\n"
   ]
  },
  {
   "cell_type": "code",
   "execution_count": 26,
   "metadata": {},
   "outputs": [],
   "source": [
    "fname = 'posts/2022-02-11-cosyne-reviewer-feedback.ipynb'"
   ]
  },
  {
   "cell_type": "code",
   "execution_count": 27,
   "metadata": {
    "ExecuteTime": {
     "end_time": "2018-11-05T14:41:18.822843Z",
     "start_time": "2018-11-05T14:41:18.813958Z"
    }
   },
   "outputs": [
    {
     "data": {
      "text/plain": [
       "'posts/2022-02-11-cosyne-reviewer-feedback.ipynb'"
      ]
     },
     "execution_count": 27,
     "metadata": {},
     "output_type": "execute_result"
    }
   ],
   "source": [
    "from nikola import utils\n",
    "utils.shutil.copy('/Users/laurentperrinet/quantic/RTC/2022-02-11_COSYNE-scoresheet/2022-02-11_COSYNE-scoresheet.ipynb', fname)"
   ]
  },
  {
   "cell_type": "markdown",
   "metadata": {},
   "source": [
    "## 2021\n"
   ]
  },
  {
   "cell_type": "code",
   "execution_count": 13,
   "metadata": {},
   "outputs": [],
   "source": [
    "fname = 'posts/2021-03-27-density-of-stars-on-the-surface-of-the-sky.ipynb'"
   ]
  },
  {
   "cell_type": "code",
   "execution_count": 14,
   "metadata": {
    "ExecuteTime": {
     "end_time": "2018-11-05T14:41:18.822843Z",
     "start_time": "2018-11-05T14:41:18.813958Z"
    }
   },
   "outputs": [
    {
     "data": {
      "text/plain": [
       "'/Users/laurentperrinet/quantic/EtienneRey/2019-06_StarField/2021-03-27-density-of-stars-on-the-surface-of-the-sky.ipynb'"
      ]
     },
     "execution_count": 14,
     "metadata": {},
     "output_type": "execute_result"
    }
   ],
   "source": [
    "from nikola import utils\n",
    "utils.shutil.copy(fname, '/Users/laurentperrinet/quantic/EtienneRey/2019-06_StarField/')"
   ]
  },
  {
   "cell_type": "code",
   "execution_count": null,
   "metadata": {
    "ExecuteTime": {
     "end_time": "2018-11-05T14:41:18.822843Z",
     "start_time": "2018-11-05T14:41:18.813958Z"
    }
   },
   "outputs": [],
   "source": [
    "from nikola import utils\n",
    "utils.shutil.copy('/Users/laurentperrinet/Downloads/NetworkModel_Toolbox/RunAnalyse_Simulations.ipynb', fname)"
   ]
  },
  {
   "cell_type": "markdown",
   "metadata": {},
   "source": [
    "## 2020"
   ]
  },
  {
   "cell_type": "code",
   "execution_count": 44,
   "metadata": {
    "ExecuteTime": {
     "end_time": "2018-11-05T14:41:18.822843Z",
     "start_time": "2018-11-05T14:41:18.813958Z"
    }
   },
   "outputs": [
    {
     "data": {
      "text/plain": [
       "'posts/2020-11-24-extracting-music-from-the-screenshots-of-a-spotify-playlist.ipynb'"
      ]
     },
     "execution_count": 44,
     "metadata": {},
     "output_type": "execute_result"
    }
   ],
   "source": [
    "from nikola import utils\n",
    "utils.shutil.copy('/Users/laurentperrinet/quantic/Documents/downloads/PLayList-Etienne-2019/dev-Genius.ipynb', 'posts/2020-11-24-extracting-music-from-the-screenshots-of-a-spotify-playlist.ipynb')"
   ]
  },
  {
   "cell_type": "code",
   "execution_count": 24,
   "metadata": {
    "ExecuteTime": {
     "end_time": "2018-11-05T14:41:18.822843Z",
     "start_time": "2018-11-05T14:41:18.813958Z"
    }
   },
   "outputs": [
    {
     "data": {
      "text/plain": [
       "'posts/2020-09-28-benchmarking-cnns.ipynb'"
      ]
     },
     "execution_count": 24,
     "metadata": {},
     "output_type": "execute_result"
    }
   ],
   "source": [
    "from nikola import utils\n",
    "utils.shutil.copy('/Users/laurentperrinet/quantic/science/ActiveVision/2020_StageM1_Jean-Nicolas/2020-06-26_fast_and_curious/benchmark_image_recognition.ipynb', 'posts/2020-09-28-benchmarking-cnns.ipynb')"
   ]
  },
  {
   "cell_type": "code",
   "execution_count": 39,
   "metadata": {
    "ExecuteTime": {
     "end_time": "2018-11-05T14:41:18.822843Z",
     "start_time": "2018-11-05T14:41:18.813958Z"
    }
   },
   "outputs": [
    {
     "data": {
      "text/plain": [
       "'posts/2020-06-19-caustic-optics.ipynb'"
      ]
     },
     "execution_count": 39,
     "metadata": {},
     "output_type": "execute_result"
    }
   ],
   "source": [
    "from nikola import utils\n",
    "utils.shutil.copy('/Users/laurentperrinet/quantic/EtienneRey/2020_caustiques/2020-06-19_caustique.ipynb', 'posts/2020-06-19-caustic-optics.ipynb')"
   ]
  },
  {
   "cell_type": "code",
   "execution_count": 43,
   "metadata": {
    "ExecuteTime": {
     "end_time": "2018-11-05T14:41:18.822843Z",
     "start_time": "2018-11-05T14:41:18.813958Z"
    }
   },
   "outputs": [],
   "source": [
    "!nbdiff /Users/laurentperrinet/quantic/EtienneRey/2020_caustiques/2020-06-19_caustique.ipynb posts/2020-06-19-caustic-optics.ipynb"
   ]
  },
  {
   "cell_type": "code",
   "execution_count": 41,
   "metadata": {
    "ExecuteTime": {
     "end_time": "2018-11-05T14:41:18.822843Z",
     "start_time": "2018-11-05T14:41:18.813958Z"
    }
   },
   "outputs": [
    {
     "data": {
      "text/plain": [
       "'files/2020-06-19_caustique'"
      ]
     },
     "execution_count": 41,
     "metadata": {},
     "output_type": "execute_result"
    }
   ],
   "source": [
    "utils.shutil.rmtree('files/2020-06-19_caustique', ignore_errors=True)\n",
    "utils.shutil.copytree('/Users/laurentperrinet/quantic/EtienneRey/2020_caustiques/2020-06-19_caustique', 'files/2020-06-19_caustique')"
   ]
  },
  {
   "cell_type": "code",
   "execution_count": 42,
   "metadata": {},
   "outputs": [
    {
     "data": {
      "text/plain": [
       "'/Users/laurentperrinet/quantic/EtienneRey/2020_caustiques/2020-06-19_caustique'"
      ]
     },
     "execution_count": 42,
     "metadata": {},
     "output_type": "execute_result"
    }
   ],
   "source": [
    "#utils.shutil.rmtree('/Users/laurentperrinet/quantic/EtienneRey/files', ignore_errors=True)\n",
    "#utils.shutil.move('/Users/laurentperrinet/quantic/EtienneRey/files/2020-06-19_caustique', '/Users/laurentperrinet/quantic/EtienneRey/2020_caustiques/2020-06-19_caustique')"
   ]
  },
  {
   "cell_type": "markdown",
   "metadata": {},
   "source": [
    "## 2019"
   ]
  },
  {
   "cell_type": "code",
   "execution_count": 36,
   "metadata": {
    "ExecuteTime": {
     "end_time": "2018-11-05T14:41:18.822843Z",
     "start_time": "2018-11-05T14:41:18.813958Z"
    }
   },
   "outputs": [
    {
     "data": {
      "text/plain": [
       "'posts/2020-04-08-fitting-a-psychometric-curve-using-pytorch.ipynb'"
      ]
     },
     "execution_count": 36,
     "metadata": {},
     "output_type": "execute_result"
    }
   ],
   "source": [
    "utils.shutil.copy('/Users/laurentperrinet/quantic/science/OBV1/jennafradin_MSc-Internship/Notebooks/W13/10_theory-fitting_psychometric.ipynb', fname)"
   ]
  },
  {
   "cell_type": "code",
   "execution_count": 15,
   "metadata": {},
   "outputs": [
    {
     "name": "stdout",
     "output_type": "stream",
     "text": [
      "posts/2015-05-22-a-hitchhiker-guide-to-matching-pursuit.ipynb\n",
      "posts/2015-05-22-a-hitchhiker-guide-to-matching-pursuit.meta\n"
     ]
    }
   ],
   "source": [
    "%ls posts/2015*hitch*"
   ]
  },
  {
   "cell_type": "code",
   "execution_count": 16,
   "metadata": {
    "ExecuteTime": {
     "end_time": "2018-11-05T14:41:18.822843Z",
     "start_time": "2018-11-05T14:41:18.813958Z"
    }
   },
   "outputs": [
    {
     "data": {
      "text/plain": [
       "'posts/2019-11-28-role-of-gamma-correction-in-sparse-coding.ipynb'"
      ]
     },
     "execution_count": 16,
     "metadata": {},
     "output_type": "execute_result"
    }
   ],
   "source": [
    "utils.shutil.copy('posts/2015-05-22-a-hitchhiker-guide-to-matching-pursuit.ipynb', fname)"
   ]
  },
  {
   "cell_type": "code",
   "execution_count": null,
   "metadata": {
    "ExecuteTime": {
     "end_time": "2018-11-08T10:17:33.863368Z",
     "start_time": "2018-11-08T10:17:33.822970Z"
    }
   },
   "outputs": [],
   "source": [
    "utils.shutil.copy('/Users/laurentperrinet/pool/TimeWarp/2018-11-05_Statistics of the natural input to a ring model.ipynb', fname)\n",
    "utils.shutil.copy('/Users/laurentperrinet/pool/TimeWarp/figs/2018-11-05_Ring_input.mp4', 'files/')"
   ]
  },
  {
   "cell_type": "code",
   "execution_count": null,
   "metadata": {},
   "outputs": [],
   "source": [
    "utils.shutil.copy('/Users/laurentperrinet//science/pupil/dev/2017-12-13 accessing the data from a pupil recording.ipynb', 'posts/2017-12-13-accessing-the-data-from-a-pupil-recording.ipynb')"
   ]
  },
  {
   "cell_type": "code",
   "execution_count": null,
   "metadata": {
    "collapsed": true,
    "jupyter": {
     "outputs_hidden": true
    }
   },
   "outputs": [],
   "source": [
    "titles = ['2017-03-29 testing COMPs-Pcum', '2017-03-29 testing COMPs-fastPcum', '2017-03-29 testing COMPs-fastPcum_scripted']"
   ]
  },
  {
   "cell_type": "code",
   "execution_count": null,
   "metadata": {},
   "outputs": [],
   "source": [
    "tags = ', '.join(tags_list)\n",
    "for title in titles:\n",
    "    !nikola new_post -f \"{formt}\" -2 -t \"{title}\" --tags=\"{tags}\""
   ]
  },
  {
   "cell_type": "code",
   "execution_count": null,
   "metadata": {},
   "outputs": [],
   "source": [
    "for title in titles:\n",
    "    fname = utils.os.path.join('posts', utils.slugify(title) + '.' + formt)\n",
    "    print(fname)\n",
    "    import os\n",
    "    home = os.environ['HOME']\n",
    "    print(home)\n",
    "    filepath = home +  \"/science/VB_These/Rapport d'avancement/2017-03/\"\n",
    "    print(filepath + title +'.ipynb')\n",
    "    utils.shutil.copy(filepath + title +'.ipynb', fname)"
   ]
  },
  {
   "cell_type": "markdown",
   "metadata": {},
   "source": [
    "\n",
    "TODO : 2017-05-23-reproducing-olshausens-classical-sparsenet-part-5.ipynb and others from 2017-05-23-reproducing-olshausens-classical-sparsenet-part-5.ipynb\n"
   ]
  },
  {
   "cell_type": "raw",
   "metadata": {},
   "source": [
    "Below, I detail some thoughts on why it is a perfect preamble for most ipython notebooks.\n",
    "\n",
    "<!-- TEASER_END -->"
   ]
  },
  {
   "cell_type": "code",
   "execution_count": null,
   "metadata": {
    "collapsed": true,
    "jupyter": {
     "outputs_hidden": true
    }
   },
   "outputs": [],
   "source": [
    "import nikola"
   ]
  },
  {
   "cell_type": "code",
   "execution_count": null,
   "metadata": {
    "collapsed": true,
    "jupyter": {
     "outputs_hidden": true
    }
   },
   "outputs": [],
   "source": [
    "nikola.utils."
   ]
  },
  {
   "cell_type": "code",
   "execution_count": null,
   "metadata": {
    "collapsed": true,
    "jupyter": {
     "outputs_hidden": true
    }
   },
   "outputs": [],
   "source": [
    "from nikola.plugins import commands"
   ]
  },
  {
   "cell_type": "code",
   "execution_count": null,
   "metadata": {
    "collapsed": true,
    "jupyter": {
     "outputs_hidden": true
    }
   },
   "outputs": [],
   "source": [
    "plugins.absolute_import"
   ]
  },
  {
   "cell_type": "code",
   "execution_count": null,
   "metadata": {
    "collapsed": true,
    "jupyter": {
     "outputs_hidden": true
    }
   },
   "outputs": [],
   "source": [
    "!nikola help new_post "
   ]
  },
  {
   "cell_type": "code",
   "execution_count": null,
   "metadata": {
    "collapsed": true,
    "jupyter": {
     "outputs_hidden": true
    }
   },
   "outputs": [],
   "source": [
    "base_url = \"http://127.0.0.1:\"\n",
    "port = 8889\n",
    "\n",
    "from nikola import utils\n",
    "notebook = \"/notebooks/posts/\" + utils.slugify(unicode(title)) + \".ipynb\"  \n",
    "\n",
    "url = base_url + str(port) + notebook\n",
    "print url"
   ]
  },
  {
   "cell_type": "code",
   "execution_count": null,
   "metadata": {
    "collapsed": true,
    "jupyter": {
     "outputs_hidden": true
    }
   },
   "outputs": [],
   "source": [
    "def convert(URL, DATE, TIME, TITLE, TAGS, doit=True):\n",
    "\n",
    "    TIMEDTITLE = DATE[2:] + ' ' + TITLE\n",
    "    SLUG = DATE[2:] + '-' + TITLE.replace(' ', '-')\n",
    "    tmplt = \"\"\"\\\n",
    ".. title: %s %s\n",
    ".. slug: %s\n",
    ".. date: %s %s\n",
    ".. type: text\n",
    ".. tags: %s\n",
    "    \n",
    "\"\"\" % (DATE[2:], TITLE, SLUG, DATE, TIME, TAGS)\n",
    "\n",
    "    print tmplt\n",
    "\n",
    "    if doit:\n",
    "        import os\n",
    "        print TITLE, TAGS\n",
    "        cmd = 'cd ..; nikola new_post --title=\"%s\" --tags=\"%s\"' % (TIMEDTITLE, TAGS)\n",
    "        print cmd\n",
    "        os.system(cmd)\n",
    "        f = file(SLUG + '.rst', 'w')\n",
    "        f.write(tmplt + pagerst)\n",
    "        f.close()\n",
    "    else:\n",
    "        print tmplt"
   ]
  },
  {
   "cell_type": "markdown",
   "metadata": {},
   "source": [
    "## updating dates to iso8601 : ipython notebooks"
   ]
  },
  {
   "cell_type": "code",
   "execution_count": null,
   "metadata": {
    "collapsed": true,
    "jupyter": {
     "outputs_hidden": true
    },
    "scrolled": true
   },
   "outputs": [],
   "source": [
    "import glob, os, shutil\n",
    "from nikola import utils\n",
    "\n",
    "for fname in glob.glob(\"posts/14*.ipynb\"):\n",
    "    ROOT, FILE = os.path.split(fname)\n",
    "    SLUG = 'posts/' + FILE.replace('.ipynb', '.meta')\n",
    "    FILE_new = 'posts/20' + FILE\n",
    "    SLUG_new = 'posts/20' + FILE.replace('.ipynb', '.meta')\n",
    "    print(SLUG)\n",
    "    meta = ''\n",
    "    with open(SLUG, 'r') as f: \n",
    "        for line in f.readlines():\n",
    "            meta += line.replace(' 14-', ' 2014-')\n",
    "    print(FILE_new, SLUG_new)\n",
    "    print(meta)\n",
    "    if True:\n",
    "        with open(SLUG_new, 'w') as f: f.write(meta)\n",
    "        shutil.copy( 'posts/' + FILE, FILE_new)\n",
    "        os.remove('posts/' + FILE)\n",
    "        os.remove(SLUG)"
   ]
  },
  {
   "cell_type": "markdown",
   "metadata": {},
   "source": [
    "## updating dates to iso8601 : other posts"
   ]
  },
  {
   "cell_type": "code",
   "execution_count": null,
   "metadata": {
    "collapsed": true,
    "jupyter": {
     "outputs_hidden": true
    }
   },
   "outputs": [],
   "source": [
    "import glob, os, shutil\n",
    "from nikola import utils\n",
    "\n",
    "for YEAR in [\"10\", \"11\", \"12\", \"13\", \"14\"]:\n",
    "    for fname in glob.glob(\"posts/\"+ YEAR + \"-*.txt\"):\n",
    "        ROOT, FILE = os.path.split(fname)\n",
    "        FILE_new = 'posts/20' + FILE\n",
    "        print(FILE_new)\n",
    "        if True:\n",
    "            shutil.copy( 'posts/' + FILE, FILE_new)\n",
    "            os.remove('posts/' + FILE)\n"
   ]
  },
  {
   "cell_type": "code",
   "execution_count": null,
   "metadata": {
    "collapsed": true,
    "jupyter": {
     "outputs_hidden": true
    },
    "scrolled": true
   },
   "outputs": [],
   "source": [
    "import glob, os, shutil\n",
    "from nikola import utils\n",
    "\n",
    "for ext in [\"*.txt\", \"*.rst\"]:\n",
    "    for YEAR in [\"06\", \"07\", \"08\", \"09\", \"10\", \"11\", \"12\", \"13\", \"14\", \"15\"]:\n",
    "        for fname in glob.glob(\"posts/20\"+ YEAR + ext):\n",
    "            ROOT, FILE = os.path.split(fname)\n",
    "            post = ''\n",
    "            with open('posts/' + FILE, 'r') as f: \n",
    "                for line in f.readlines():\n",
    "                    line = line.replace(' '+ YEAR + '-', ' 20'+ YEAR + '-')\n",
    "                    for YEAR_ in [\"10\", \"11\", \"12\", \"13\", \"14\"]:\n",
    "                        line = line.replace('<'+ YEAR_ + '-', '<20'+ YEAR_ + '-')\n",
    "                    post += line\n",
    "            print(FILE)\n",
    "            if True:\n",
    "                with open('posts/' + FILE, 'w') as f: f.write(post)\n",
    "            else:\n",
    "                print(post)\n"
   ]
  },
  {
   "cell_type": "markdown",
   "metadata": {},
   "source": [
    "# deploying changes"
   ]
  },
  {
   "cell_type": "code",
   "execution_count": 6,
   "metadata": {},
   "outputs": [
    {
     "name": "stdout",
     "output_type": "stream",
     "text": [
      "total 69576\n",
      "drwxr-xr-x   26 laurentperrinet  staff       832 Mar 31 15:36 \u001b[1m\u001b[36m.\u001b[m\u001b[m/\n",
      "drwxr-xr-x    7 laurentperrinet  staff       224 Mar 25 15:52 \u001b[1m\u001b[36m..\u001b[m\u001b[m/\n",
      "-rw-r--r--    1 laurentperrinet  staff     14340 Dec  8 20:55 .DS_Store\n",
      "-rw-r--r--    1 laurentperrinet  staff  19918848 Feb 20 20:09 .doit.db\n",
      "-rw-r--r--    1 laurentperrinet  staff  15015936 Jan  8  2021 .doit.db.db\n",
      "drwxr-xr-x   16 laurentperrinet  staff       512 Mar 31 15:36 \u001b[1m\u001b[36m.git\u001b[m\u001b[m/\n",
      "drwxr-xr-x    3 laurentperrinet  staff        96 Feb  4  2021 \u001b[1m\u001b[36m.github_old\u001b[m\u001b[m/\n",
      "-rw-r--r--    1 laurentperrinet  staff       512 Nov 24  2020 .gitignore\n",
      "drwxr-xr-x    4 laurentperrinet  staff       128 Sep 11  2021 \u001b[1m\u001b[36m.ipynb_checkpoints\u001b[m\u001b[m/\n",
      "-rw-r--r--    1 laurentperrinet  staff      8887 Dec 15  2014 LICENSE\n",
      "-rw-r--r--    1 laurentperrinet  staff       155 Dec 10  2020 Makefile\n",
      "-rw-r--r--    1 laurentperrinet  staff        16 Jan 17  2019 README.md\n",
      "drwxr-xr-x    3 laurentperrinet  staff        96 Feb 14 10:53 \u001b[1m\u001b[36m__pycache__\u001b[m\u001b[m/\n",
      "-rw-r--r--    1 laurentperrinet  staff     60883 Mar 31 15:36 bootstrapPost.ipynb\n",
      "drwxr-xr-x    4 laurentperrinet  staff       128 Feb 20 20:09 \u001b[1m\u001b[36mcache\u001b[m\u001b[m/\n",
      "-rw-r--r--    1 laurentperrinet  staff     57078 Feb 14 10:53 conf.py\n",
      "drwxr-xr-x   41 laurentperrinet  staff      1312 Feb 20 12:12 \u001b[1m\u001b[36mdocs\u001b[m\u001b[m/\n",
      "drwxr-xr-x  105 laurentperrinet  staff      3360 Feb 20 11:43 \u001b[1m\u001b[36mfiles\u001b[m\u001b[m/\n",
      "drwxr-xr-x    2 laurentperrinet  staff        64 Feb  4  2021 \u001b[1m\u001b[36mgalleries\u001b[m\u001b[m/\n",
      "drwxr-xr-x    4 laurentperrinet  staff       128 Feb  4  2021 \u001b[1m\u001b[36mlistings\u001b[m\u001b[m/\n",
      "drwxr-xr-x    7 laurentperrinet  staff       224 Feb  4  2021 \u001b[1m\u001b[36mplugins\u001b[m\u001b[m/\n",
      "drwxr-xr-x  417 laurentperrinet  staff     13344 Mar 31 11:29 \u001b[1m\u001b[36mposts\u001b[m\u001b[m/\n",
      "-rw-------    1 laurentperrinet  staff        49 Feb 20 12:21 state_data.json\n",
      "drwxr-xr-x   14 laurentperrinet  staff       448 Feb  4  2021 \u001b[1m\u001b[36mstories\u001b[m\u001b[m/\n",
      "-rw-r--r--    1 laurentperrinet  staff      5330 Sep 11  2021 template.ipynb\n",
      "drwxr-xr-x    7 laurentperrinet  staff       224 Feb 20 11:56 \u001b[1m\u001b[36mthemes\u001b[m\u001b[m/\n"
     ]
    }
   ],
   "source": [
    "%ls -al"
   ]
  },
  {
   "cell_type": "raw",
   "metadata": {},
   "source": [
    "%rm -fr .doit.db cache"
   ]
  },
  {
   "cell_type": "raw",
   "metadata": {},
   "source": [
    "!nikola clean"
   ]
  },
  {
   "cell_type": "code",
   "execution_count": 20,
   "metadata": {},
   "outputs": [
    {
     "name": "stdout",
     "output_type": "stream",
     "text": [
      "Already up to date.\n"
     ]
    }
   ],
   "source": [
    "!git pull"
   ]
  },
  {
   "cell_type": "code",
   "execution_count": 21,
   "metadata": {},
   "outputs": [
    {
     "name": "stdout",
     "output_type": "stream",
     "text": [
      "On branch master\n",
      "Your branch is up to date with 'origin/master'.\n",
      "\n",
      "Changes not staged for commit:\n",
      "  (use \"git add <file>...\" to update what will be committed)\n",
      "  (use \"git restore <file>...\" to discard changes in working directory)\n",
      "\t\u001b[32mmodified:   bootstrapPost.ipynb\u001b[m\n",
      "\n",
      "no changes added to commit (use \"git add\" and/or \"git commit -a\")\n"
     ]
    }
   ],
   "source": [
    "!git status"
   ]
  },
  {
   "cell_type": "raw",
   "metadata": {},
   "source": [
    "!ls -ltr files"
   ]
  },
  {
   "cell_type": "code",
   "execution_count": null,
   "metadata": {},
   "outputs": [
    {
     "name": "stdout",
     "output_type": "stream",
     "text": [
      "Scanning posts...........done!\n",
      ".  render_taxonomies:docs/index.html\n"
     ]
    }
   ],
   "source": [
    "!nikola build"
   ]
  },
  {
   "cell_type": "code",
   "execution_count": null,
   "metadata": {},
   "outputs": [],
   "source": [
    "%rm posts/__temp__.mp4 \tposts/debug.log"
   ]
  },
  {
   "cell_type": "code",
   "execution_count": null,
   "metadata": {},
   "outputs": [],
   "source": [
    "!nikola deploy"
   ]
  },
  {
   "cell_type": "raw",
   "metadata": {},
   "source": [
    "import time\n",
    "time.sleep(3600*0)"
   ]
  },
  {
   "cell_type": "code",
   "execution_count": 14,
   "metadata": {},
   "outputs": [
    {
     "name": "stdout",
     "output_type": "stream",
     "text": [
      "\u001b[33mDEPRECATION: Configuring installation scheme with distutils config files is deprecated and will no longer work in the near future. If you are using a Homebrew or Linuxbrew Python, please see discussion at https://github.com/Homebrew/homebrew-core/issues/76621\u001b[0m\u001b[33m\n",
      "\u001b[0mRequirement already satisfied: lxml in /usr/local/lib/python3.9/site-packages (4.6.3)\n",
      "Collecting lxml\n",
      "  Downloading lxml-4.8.0-cp39-cp39-macosx_10_15_x86_64.whl (4.6 MB)\n",
      "\u001b[2K     \u001b[38;2;114;156;31m━━━━━━━━━━━━━━━━━━━━━━━━━━━━━━━━━━━━━━━━\u001b[0m \u001b[32m4.6/4.6 MB\u001b[0m \u001b[31m32.3 MB/s\u001b[0m eta \u001b[36m0:00:00\u001b[0mm eta \u001b[36m0:00:01\u001b[0m[36m0:00:01\u001b[0m\n",
      "\u001b[?25hInstalling collected packages: lxml\n",
      "  Attempting uninstall: lxml\n",
      "    Found existing installation: lxml 4.6.3\n",
      "    Uninstalling lxml-4.6.3:\n",
      "      Successfully uninstalled lxml-4.6.3\n",
      "\u001b[33m  DEPRECATION: Configuring installation scheme with distutils config files is deprecated and will no longer work in the near future. If you are using a Homebrew or Linuxbrew Python, please see discussion at https://github.com/Homebrew/homebrew-core/issues/76621\u001b[0m\u001b[33m\n",
      "\u001b[0m\u001b[33mDEPRECATION: Configuring installation scheme with distutils config files is deprecated and will no longer work in the near future. If you are using a Homebrew or Linuxbrew Python, please see discussion at https://github.com/Homebrew/homebrew-core/issues/76621\u001b[0m\u001b[33m\n",
      "\u001b[0mSuccessfully installed lxml-4.8.0\n",
      "Note: you may need to restart the kernel to use updated packages.\n"
     ]
    }
   ],
   "source": [
    "%pip install -U lxml"
   ]
  },
  {
   "cell_type": "code",
   "execution_count": 15,
   "metadata": {},
   "outputs": [
    {
     "name": "stdout",
     "output_type": "stream",
     "text": [
      "Scanning posts...........done!\n",
      ".  render_taxonomies:docs/index.html\n",
      ".  render_taxonomies:docs/index-1.html\n",
      "TaskError - taskid:render_taxonomies:docs/index-1.html\n",
      "PythonAction Error\n",
      "Traceback (most recent call last):\n",
      "  File \"/usr/local/lib/python3.9/site-packages/doit/action.py\", line 437, in execute\n",
      "    returned_value = self.py_callable(*self.args, **kwargs)\n",
      "  File \"/usr/local/lib/python3.9/site-packages/nikola/nikola.py\", line 1487, in render_template\n",
      "    data = self.template_system.render_template(\n",
      "  File \"/usr/local/lib/python3.9/site-packages/nikola/plugins/template/mako.py\", line 118, in render_template\n",
      "    data = template.render_unicode(**context)\n",
      "  File \"/usr/local/lib/python3.9/site-packages/mako/template.py\", line 478, in render_unicode\n",
      "    return runtime._render(\n",
      "  File \"/usr/local/lib/python3.9/site-packages/mako/runtime.py\", line 878, in _render\n",
      "    _render_context(\n",
      "  File \"/usr/local/lib/python3.9/site-packages/mako/runtime.py\", line 920, in _render_context\n",
      "    _exec_template(inherit, lclcontext, args=args, kwargs=kwargs)\n",
      "  File \"/usr/local/lib/python3.9/site-packages/mako/runtime.py\", line 947, in _exec_template\n",
      "    callable_(context, *args, **kwargs)\n",
      "  File \"/Users/laurentperrinet/metagit/blog/laurentperrinet.github.io_sciblog/cache/.mako.tmp/base.tmpl.py\", line 138, in render_body\n",
      "    context['self'].content(**pageargs)\n",
      "  File \"/Users/laurentperrinet/metagit/blog/laurentperrinet.github.io_sciblog/cache/.mako.tmp/index.tmpl.py\", line 236, in render_content\n",
      "    __M_writer(str(post.text(teaser_only=True)))\n",
      "  File \"/usr/local/lib/python3.9/site-packages/nikola/post.py\", line 928, in text\n",
      "    min_remaining_read=self.messages[lang][\"%d min remaining to read\"] % (self.remaining_reading_time),\n",
      "  File \"/usr/local/lib/python3.9/site-packages/nikola/post.py\", line 976, in remaining_reading_time\n",
      "    text = self.text(teaser_only=True, strip_html=True)\n",
      "  File \"/usr/local/lib/python3.9/site-packages/nikola/post.py\", line 935, in text\n",
      "    document = lxml.html.fromstring(teaser)\n",
      "  File \"/usr/local/lib/python3.9/site-packages/lxml/html/__init__.py\", line 875, in fromstring\n",
      "    doc = document_fromstring(html, parser=parser, base_url=base_url, **kw)\n",
      "  File \"/usr/local/lib/python3.9/site-packages/lxml/html/__init__.py\", line 763, in document_fromstring\n",
      "    raise etree.ParserError(\n",
      "lxml.etree.ParserError: Document is empty\n",
      "\n",
      "########################################\n",
      "render_taxonomies:docs/index-1.html <stdout>:\n",
      "'<ul class=\"simple\">\\n<li><p>you may get errors if trying to install pyglet using the traditional\\nway, using <code class=\"docutils literal\">pip</code> for instance (was my case on MacOs X Lion 10.7.0 +\\npython 64bits from EPD or homebrew). in cause is the carbon code that\\nhas been abandonned in the 64bits libraries that come with the OS</p></li>\\n</ul>\\n<!-- TEASER_END -->\\n<div class=\"admonition warning\">\\n<p class=\"admonition-title\">Warning</p>\\n<p>This post is certainly obsolete...</p>\\n</div>\\n<ul>\\n<li><p>the solution comes from the\\n<a class=\"reference external\" href=\"https://code.google.com/p/cocoa-python/\">https://code.google.com/p/cocoa-python/</a>\\npackage</p>\\n<ol class=\"arabic\">\\n<li><p>clone the package\\n<a href=\"/posts/2012-01-18-Compiling-pyglet-on-MacOsX.html#id1\"><span class=\"problematic\" id=\"id2\">``</span></a>hg\\xa0clone\\xa0<a class=\"reference external\" href=\"https://code.google.com/p/cocoa-python\">https://code.google.com/p/cocoa-python</a>\\xa0``</p>\\n<div class=\"system-message\" id=\"id1\">\\n<p class=\"system-message-title\">System Message: WARNING/2 (<span class=\"docutils literal\">&lt;string&gt;</span>, line 18); <em><a href=\"/posts/2012-01-18-Compiling-pyglet-on-MacOsX.html#id2\">backlink</a></em></p>\\n<p>Inline literal start-string without end-string.</p>\\n</div>\\n</li>\\n<li><p>insert the code in your PYTHONPATH:\\n<code class=\"docutils literal\"><span class=\"pre\">rsync\\xa0-av\\xa0cocoapy\\xa0/usr/local/lib/python2.7/site-packages/pyglet/libs/darwin</span></code></p></li>\\n</ol>\\n</li>\\n<li><p>a simpler solution is to install the pyglet code from\\n<a class=\"reference external\" href=\"https://code.google.com/r/evilphillip-cocoa-ctypes2/\">https://code.google.com/r/evilphillip-cocoa-ctypes2/</a>\\n:</p>\\n<ol class=\"arabic simple\">\\n<li><p><code class=\"docutils literal\"><span class=\"pre\">hg\\xa0clone\\xa0https://code.google.com/r/evilphillip-cocoa-ctypes2/</span></code></p></li>\\n<li><p><code class=\"docutils literal\"><span class=\"pre\">cd\\xa0evilphillip-cocoa-ctypes2/</span></code></p></li>\\n<li><p><code class=\"docutils literal\">python\\xa0setup.py\\xa0install</code></p></li>\\n</ol>\\n</li>\\n<li><p>works!</p></li>\\n</ul></body>'\n",
      "'<ul class=\"simple\">\\n<li><p>you may get errors if trying to install pyglet using the traditional\\nway, using <code class=\"docutils literal\">pip</code> for instance (was my case on MacOs X Lion 10.7.0 +\\npython 64bits from EPD or homebrew). in cause is the carbon code that\\nhas been abandonned in the 64bits libraries that come with the OS</p></li>\\n</ul>\\n<!-- TEASER_END -->\\n<div class=\"admonition warning\">\\n<p class=\"admonition-title\">Warning</p>\\n<p>This post is certainly obsolete...</p>\\n</div>\\n<ul>\\n<li><p>the solution comes from the\\n<a class=\"reference external\" href=\"https://code.google.com/p/cocoa-python/\">https://code.google.com/p/cocoa-python/</a>\\npackage</p>\\n<ol class=\"arabic\">\\n<li><p>clone the package\\n<a href=\"/posts/2012-01-18-Compiling-pyglet-on-MacOsX.html#id1\"><span class=\"problematic\" id=\"id2\">``</span></a>hg\\xa0clone\\xa0<a class=\"reference external\" href=\"https://code.google.com/p/cocoa-python\">https://code.google.com/p/cocoa-python</a>\\xa0``</p>\\n<div class=\"system-message\" id=\"id1\">\\n<p class=\"system-message-title\">System Message: WARNING/2 (<span class=\"docutils literal\">&lt;string&gt;</span>, line 18); <em><a href=\"/posts/2012-01-18-Compiling-pyglet-on-MacOsX.html#id2\">backlink</a></em></p>\\n<p>Inline literal start-string without end-string.</p>\\n</div>\\n</li>\\n<li><p>insert the code in your PYTHONPATH:\\n<code class=\"docutils literal\"><span class=\"pre\">rsync\\xa0-av\\xa0cocoapy\\xa0/usr/local/lib/python2.7/site-packages/pyglet/libs/darwin</span></code></p></li>\\n</ol>\\n</li>\\n<li><p>a simpler solution is to install the pyglet code from\\n<a class=\"reference external\" href=\"https://code.google.com/r/evilphillip-cocoa-ctypes2/\">https://code.google.com/r/evilphillip-cocoa-ctypes2/</a>\\n:</p>\\n<ol class=\"arabic simple\">\\n<li><p><code class=\"docutils literal\"><span class=\"pre\">hg\\xa0clone\\xa0https://code.google.com/r/evilphillip-cocoa-ctypes2/</span></code></p></li>\\n<li><p><code class=\"docutils literal\"><span class=\"pre\">cd\\xa0evilphillip-cocoa-ctypes2/</span></code></p></li>\\n<li><p><code class=\"docutils literal\">python\\xa0setup.py\\xa0install</code></p></li>\\n</ol>\\n</li>\\n<li><p>works!</p></li>\\n</ul>'\n",
      "'<ul class=\"simple\">\\n<li><p>you may get errors if trying to install pyglet using the traditional\\nway, using <code class=\"docutils literal\">pip</code> for instance (was my case on MacOs X Lion 10.7.0 +\\npython 64bits from EPD or homebrew). in cause is the carbon code that\\nhas been abandonned in the 64bits libraries that come with the OS</p></li>\\n</ul>\\n<!-- TEASER_END -->\\n<div class=\"admonition warning\">\\n<p class=\"admonition-title\">Warning</p>\\n<p>This post is certainly obsolete...</p>\\n</div>\\n<ul>\\n<li><p>the solution comes from the\\n<a class=\"reference external\" href=\"https://code.google.com/p/cocoa-python/\">https://code.google.com/p/cocoa-python/</a>\\npackage</p>\\n<ol class=\"arabic\">\\n<li><p>clone the package\\n<a href=\"/posts/2012-01-18-Compiling-pyglet-on-MacOsX.html#id1\"><span class=\"problematic\" id=\"id2\">``</span></a>hg\\xa0clone\\xa0<a class=\"reference external\" href=\"https://code.google.com/p/cocoa-python\">https://code.google.com/p/cocoa-python</a>\\xa0``</p>\\n<div class=\"system-message\" id=\"id1\">\\n<p class=\"system-message-title\">System Message: WARNING/2 (<span class=\"docutils literal\">&lt;string&gt;</span>, line 18); <em><a href=\"/posts/2012-01-18-Compiling-pyglet-on-MacOsX.html#id2\">backlink</a></em></p>\\n<p>Inline literal start-string without end-string.</p>\\n</div>\\n</li>\\n<li><p>insert the code in your PYTHONPATH:\\n<code class=\"docutils literal\"><span class=\"pre\">rsync\\xa0-av\\xa0cocoapy\\xa0/usr/local/lib/python2.7/site-packages/pyglet/libs/darwin</span></code></p></li>\\n</ol>\\n</li>\\n<li><p>a simpler solution is to install the pyglet code from\\n<a class=\"reference external\" href=\"https://code.google.com/r/evilphillip-cocoa-ctypes2/\">https://code.google.com/r/evilphillip-cocoa-ctypes2/</a>\\n:</p>\\n<ol class=\"arabic simple\">\\n<li><p><code class=\"docutils literal\"><span class=\"pre\">hg\\xa0clone\\xa0https://code.google.com/r/evilphillip-cocoa-ctypes2/</span></code></p></li>\\n<li><p><code class=\"docutils literal\"><span class=\"pre\">cd\\xa0evilphillip-cocoa-ctypes2/</span></code></p></li>\\n<li><p><code class=\"docutils literal\">python\\xa0setup.py\\xa0install</code></p></li>\\n</ol>\\n</li>\\n<li><p>works!</p></li>\\n</ul></body>'\n",
      "'<ul class=\"simple\">\\n<li><p>you may get errors if trying to install pyglet using the traditional\\nway, using <code class=\"docutils literal\">pip</code> for instance (was my case on MacOs X Lion 10.7.0 +\\npython 64bits from EPD or homebrew). in cause is the carbon code that\\nhas been abandonned in the 64bits libraries that come with the OS</p></li>\\n</ul>\\n<!-- TEASER_END -->\\n<div class=\"admonition warning\">\\n<p class=\"admonition-title\">Warning</p>\\n<p>This post is certainly obsolete...</p>\\n</div>\\n<ul>\\n<li><p>the solution comes from the\\n<a class=\"reference external\" href=\"https://code.google.com/p/cocoa-python/\">https://code.google.com/p/cocoa-python/</a>\\npackage</p>\\n<ol class=\"arabic\">\\n<li><p>clone the package\\n<a href=\"/posts/2012-01-18-Compiling-pyglet-on-MacOsX.html#id1\"><span class=\"problematic\" id=\"id2\">``</span></a>hg\\xa0clone\\xa0<a class=\"reference external\" href=\"https://code.google.com/p/cocoa-python\">https://code.google.com/p/cocoa-python</a>\\xa0``</p>\\n<div class=\"system-message\" id=\"id1\">\\n<p class=\"system-message-title\">System Message: WARNING/2 (<span class=\"docutils literal\">&lt;string&gt;</span>, line 18); <em><a href=\"/posts/2012-01-18-Compiling-pyglet-on-MacOsX.html#id2\">backlink</a></em></p>\\n<p>Inline literal start-string without end-string.</p>\\n</div>\\n</li>\\n<li><p>insert the code in your PYTHONPATH:\\n<code class=\"docutils literal\"><span class=\"pre\">rsync\\xa0-av\\xa0cocoapy\\xa0/usr/local/lib/python2.7/site-packages/pyglet/libs/darwin</span></code></p></li>\\n</ol>\\n</li>\\n<li><p>a simpler solution is to install the pyglet code from\\n<a class=\"reference external\" href=\"https://code.google.com/r/evilphillip-cocoa-ctypes2/\">https://code.google.com/r/evilphillip-cocoa-ctypes2/</a>\\n:</p>\\n<ol class=\"arabic simple\">\\n<li><p><code class=\"docutils literal\"><span class=\"pre\">hg\\xa0clone\\xa0https://code.google.com/r/evilphillip-cocoa-ctypes2/</span></code></p></li>\\n<li><p><code class=\"docutils literal\"><span class=\"pre\">cd\\xa0evilphillip-cocoa-ctypes2/</span></code></p></li>\\n<li><p><code class=\"docutils literal\">python\\xa0setup.py\\xa0install</code></p></li>\\n</ol>\\n</li>\\n<li><p>works!</p></li>\\n</ul>'\n",
      "'<ul class=\"simple\">\\n<li><p>you may get errors if trying to install pyglet using the traditional\\nway, using <code class=\"docutils literal\">pip</code> for instance (was my case on MacOs X Lion 10.7.0 +\\npython 64bits from EPD or homebrew). in cause is the carbon code that\\nhas been abandonned in the 64bits libraries that come with the OS</p></li>\\n</ul>\\n</body>'\n",
      "'<ul class=\"simple\">\\n<li><p>you may get errors if trying to install pyglet using the traditional\\nway, using <code class=\"docutils literal\">pip</code> for instance (was my case on MacOs X Lion 10.7.0 +\\npython 64bits from EPD or homebrew). in cause is the carbon code that\\nhas been abandonned in the 64bits libraries that come with the OS</p></li>\\n</ul>'\n",
      "'<ul class=\"simple\">\\n<li><p>you may get errors if trying to install pyglet using the traditional\\nway, using <code class=\"docutils literal\">pip</code> for instance (was my case on MacOs X Lion 10.7.0 +\\npython 64bits from EPD or homebrew). in cause is the carbon code that\\nhas been abandonned in the 64bits libraries that come with the OS</p></li>\\n</ul>\\n<!-- TEASER_END -->\\n<div class=\"admonition warning\">\\n<p class=\"admonition-title\">Warning</p>\\n<p>This post is certainly obsolete...</p>\\n</div>\\n<ul>\\n<li><p>the solution comes from the\\n<a class=\"reference external\" href=\"https://code.google.com/p/cocoa-python/\">https://code.google.com/p/cocoa-python/</a>\\npackage</p>\\n<ol class=\"arabic\">\\n<li><p>clone the package\\n<a href=\"/posts/2012-01-18-Compiling-pyglet-on-MacOsX.html#id1\"><span class=\"problematic\" id=\"id2\">``</span></a>hg\\xa0clone\\xa0<a class=\"reference external\" href=\"https://code.google.com/p/cocoa-python\">https://code.google.com/p/cocoa-python</a>\\xa0``</p>\\n<div class=\"system-message\" id=\"id1\">\\n<p class=\"system-message-title\">System Message: WARNING/2 (<span class=\"docutils literal\">&lt;string&gt;</span>, line 18); <em><a href=\"/posts/2012-01-18-Compiling-pyglet-on-MacOsX.html#id2\">backlink</a></em></p>\\n<p>Inline literal start-string without end-string.</p>\\n</div>\\n</li>\\n<li><p>insert the code in your PYTHONPATH:\\n<code class=\"docutils literal\"><span class=\"pre\">rsync\\xa0-av\\xa0cocoapy\\xa0/usr/local/lib/python2.7/site-packages/pyglet/libs/darwin</span></code></p></li>\\n</ol>\\n</li>\\n<li><p>a simpler solution is to install the pyglet code from\\n<a class=\"reference external\" href=\"https://code.google.com/r/evilphillip-cocoa-ctypes2/\">https://code.google.com/r/evilphillip-cocoa-ctypes2/</a>\\n:</p>\\n<ol class=\"arabic simple\">\\n<li><p><code class=\"docutils literal\"><span class=\"pre\">hg\\xa0clone\\xa0https://code.google.com/r/evilphillip-cocoa-ctypes2/</span></code></p></li>\\n<li><p><code class=\"docutils literal\"><span class=\"pre\">cd\\xa0evilphillip-cocoa-ctypes2/</span></code></p></li>\\n<li><p><code class=\"docutils literal\">python\\xa0setup.py\\xa0install</code></p></li>\\n</ol>\\n</li>\\n<li><p>works!</p></li>\\n</ul></body>'\n",
      "'<ul class=\"simple\">\\n<li><p>you may get errors if trying to install pyglet using the traditional\\nway, using <code class=\"docutils literal\">pip</code> for instance (was my case on MacOs X Lion 10.7.0 +\\npython 64bits from EPD or homebrew). in cause is the carbon code that\\nhas been abandonned in the 64bits libraries that come with the OS</p></li>\\n</ul>\\n<!-- TEASER_END -->\\n<div class=\"admonition warning\">\\n<p class=\"admonition-title\">Warning</p>\\n<p>This post is certainly obsolete...</p>\\n</div>\\n<ul>\\n<li><p>the solution comes from the\\n<a class=\"reference external\" href=\"https://code.google.com/p/cocoa-python/\">https://code.google.com/p/cocoa-python/</a>\\npackage</p>\\n<ol class=\"arabic\">\\n<li><p>clone the package\\n<a href=\"/posts/2012-01-18-Compiling-pyglet-on-MacOsX.html#id1\"><span class=\"problematic\" id=\"id2\">``</span></a>hg\\xa0clone\\xa0<a class=\"reference external\" href=\"https://code.google.com/p/cocoa-python\">https://code.google.com/p/cocoa-python</a>\\xa0``</p>\\n<div class=\"system-message\" id=\"id1\">\\n<p class=\"system-message-title\">System Message: WARNING/2 (<span class=\"docutils literal\">&lt;string&gt;</span>, line 18); <em><a href=\"/posts/2012-01-18-Compiling-pyglet-on-MacOsX.html#id2\">backlink</a></em></p>\\n<p>Inline literal start-string without end-string.</p>\\n</div>\\n</li>\\n<li><p>insert the code in your PYTHONPATH:\\n<code class=\"docutils literal\"><span class=\"pre\">rsync\\xa0-av\\xa0cocoapy\\xa0/usr/local/lib/python2.7/site-packages/pyglet/libs/darwin</span></code></p></li>\\n</ol>\\n</li>\\n<li><p>a simpler solution is to install the pyglet code from\\n<a class=\"reference external\" href=\"https://code.google.com/r/evilphillip-cocoa-ctypes2/\">https://code.google.com/r/evilphillip-cocoa-ctypes2/</a>\\n:</p>\\n<ol class=\"arabic simple\">\\n<li><p><code class=\"docutils literal\"><span class=\"pre\">hg\\xa0clone\\xa0https://code.google.com/r/evilphillip-cocoa-ctypes2/</span></code></p></li>\\n<li><p><code class=\"docutils literal\"><span class=\"pre\">cd\\xa0evilphillip-cocoa-ctypes2/</span></code></p></li>\\n<li><p><code class=\"docutils literal\">python\\xa0setup.py\\xa0install</code></p></li>\\n</ol>\\n</li>\\n<li><p>works!</p></li>\\n</ul>'\n",
      "'<ul class=\"simple\">\\n<li><p>you may get errors if trying to install pyglet using the traditional\\nway, using <code class=\"docutils literal\">pip</code> for instance (was my case on MacOs X Lion 10.7.0 +\\npython 64bits from EPD or homebrew). in cause is the carbon code that\\nhas been abandonned in the 64bits libraries that come with the OS</p></li>\\n</ul>\\n<!-- TEASER_END -->\\n<div class=\"admonition warning\">\\n<p class=\"admonition-title\">Warning</p>\\n<p>This post is certainly obsolete...</p>\\n</div>\\n<ul>\\n<li><p>the solution comes from the\\n<a class=\"reference external\" href=\"https://code.google.com/p/cocoa-python/\">https://code.google.com/p/cocoa-python/</a>\\npackage</p>\\n<ol class=\"arabic\">\\n<li><p>clone the package\\n<a href=\"/posts/2012-01-18-Compiling-pyglet-on-MacOsX.html#id1\"><span class=\"problematic\" id=\"id2\">``</span></a>hg\\xa0clone\\xa0<a class=\"reference external\" href=\"https://code.google.com/p/cocoa-python\">https://code.google.com/p/cocoa-python</a>\\xa0``</p>\\n<div class=\"system-message\" id=\"id1\">\\n<p class=\"system-message-title\">System Message: WARNING/2 (<span class=\"docutils literal\">&lt;string&gt;</span>, line 18); <em><a href=\"/posts/2012-01-18-Compiling-pyglet-on-MacOsX.html#id2\">backlink</a></em></p>\\n<p>Inline literal start-string without end-string.</p>\\n</div>\\n</li>\\n<li><p>insert the code in your PYTHONPATH:\\n<code class=\"docutils literal\"><span class=\"pre\">rsync\\xa0-av\\xa0cocoapy\\xa0/usr/local/lib/python2.7/site-packages/pyglet/libs/darwin</span></code></p></li>\\n</ol>\\n</li>\\n<li><p>a simpler solution is to install the pyglet code from\\n<a class=\"reference external\" href=\"https://code.google.com/r/evilphillip-cocoa-ctypes2/\">https://code.google.com/r/evilphillip-cocoa-ctypes2/</a>\\n:</p>\\n<ol class=\"arabic simple\">\\n<li><p><code class=\"docutils literal\"><span class=\"pre\">hg\\xa0clone\\xa0https://code.google.com/r/evilphillip-cocoa-ctypes2/</span></code></p></li>\\n<li><p><code class=\"docutils literal\"><span class=\"pre\">cd\\xa0evilphillip-cocoa-ctypes2/</span></code></p></li>\\n<li><p><code class=\"docutils literal\">python\\xa0setup.py\\xa0install</code></p></li>\\n</ol>\\n</li>\\n<li><p>works!</p></li>\\n</ul></body>'\n",
      "'<ul class=\"simple\">\\n<li><p>you may get errors if trying to install pyglet using the traditional\\nway, using <code class=\"docutils literal\">pip</code> for instance (was my case on MacOs X Lion 10.7.0 +\\npython 64bits from EPD or homebrew). in cause is the carbon code that\\nhas been abandonned in the 64bits libraries that come with the OS</p></li>\\n</ul>\\n<!-- TEASER_END -->\\n<div class=\"admonition warning\">\\n<p class=\"admonition-title\">Warning</p>\\n<p>This post is certainly obsolete...</p>\\n</div>\\n<ul>\\n<li><p>the solution comes from the\\n<a class=\"reference external\" href=\"https://code.google.com/p/cocoa-python/\">https://code.google.com/p/cocoa-python/</a>\\npackage</p>\\n<ol class=\"arabic\">\\n<li><p>clone the package\\n<a href=\"/posts/2012-01-18-Compiling-pyglet-on-MacOsX.html#id1\"><span class=\"problematic\" id=\"id2\">``</span></a>hg\\xa0clone\\xa0<a class=\"reference external\" href=\"https://code.google.com/p/cocoa-python\">https://code.google.com/p/cocoa-python</a>\\xa0``</p>\\n<div class=\"system-message\" id=\"id1\">\\n<p class=\"system-message-title\">System Message: WARNING/2 (<span class=\"docutils literal\">&lt;string&gt;</span>, line 18); <em><a href=\"/posts/2012-01-18-Compiling-pyglet-on-MacOsX.html#id2\">backlink</a></em></p>\\n<p>Inline literal start-string without end-string.</p>\\n</div>\\n</li>\\n<li><p>insert the code in your PYTHONPATH:\\n<code class=\"docutils literal\"><span class=\"pre\">rsync\\xa0-av\\xa0cocoapy\\xa0/usr/local/lib/python2.7/site-packages/pyglet/libs/darwin</span></code></p></li>\\n</ol>\\n</li>\\n<li><p>a simpler solution is to install the pyglet code from\\n<a class=\"reference external\" href=\"https://code.google.com/r/evilphillip-cocoa-ctypes2/\">https://code.google.com/r/evilphillip-cocoa-ctypes2/</a>\\n:</p>\\n<ol class=\"arabic simple\">\\n<li><p><code class=\"docutils literal\"><span class=\"pre\">hg\\xa0clone\\xa0https://code.google.com/r/evilphillip-cocoa-ctypes2/</span></code></p></li>\\n<li><p><code class=\"docutils literal\"><span class=\"pre\">cd\\xa0evilphillip-cocoa-ctypes2/</span></code></p></li>\\n<li><p><code class=\"docutils literal\">python\\xa0setup.py\\xa0install</code></p></li>\\n</ol>\\n</li>\\n<li><p>works!</p></li>\\n</ul>'\n",
      "'<ul class=\"simple\">\\n<li><p>you may get errors if trying to install pyglet using the traditional\\nway, using <code class=\"docutils literal\">pip</code> for instance (was my case on MacOs X Lion 10.7.0 +\\npython 64bits from EPD or homebrew). in cause is the carbon code that\\nhas been abandonned in the 64bits libraries that come with the OS</p></li>\\n</ul>\\n<!-- TEASER_END -->\\n<div class=\"admonition warning\">\\n<p class=\"admonition-title\">Warning</p>\\n<p>This post is certainly obsolete...</p>\\n</div>\\n<ul>\\n<li><p>the solution comes from the\\n<a class=\"reference external\" href=\"https://code.google.com/p/cocoa-python/\">https://code.google.com/p/cocoa-python/</a>\\npackage</p>\\n<ol class=\"arabic\">\\n<li><p>clone the package\\n<a href=\"/posts/2012-01-18-Compiling-pyglet-on-MacOsX.html#id1\"><span class=\"problematic\" id=\"id2\">``</span></a>hg\\xa0clone\\xa0<a class=\"reference external\" href=\"https://code.google.com/p/cocoa-python\">https://code.google.com/p/cocoa-python</a>\\xa0``</p>\\n<div class=\"system-message\" id=\"id1\">\\n<p class=\"system-message-title\">System Message: WARNING/2 (<span class=\"docutils literal\">&lt;string&gt;</span>, line 18); <em><a href=\"/posts/2012-01-18-Compiling-pyglet-on-MacOsX.html#id2\">backlink</a></em></p>\\n<p>Inline literal start-string without end-string.</p>\\n</div>\\n</li>\\n<li><p>insert the code in your PYTHONPATH:\\n<code class=\"docutils literal\"><span class=\"pre\">rsync\\xa0-av\\xa0cocoapy\\xa0/usr/local/lib/python2.7/site-packages/pyglet/libs/darwin</span></code></p></li>\\n</ol>\\n</li>\\n<li><p>a simpler solution is to install the pyglet code from\\n<a class=\"reference external\" href=\"https://code.google.com/r/evilphillip-cocoa-ctypes2/\">https://code.google.com/r/evilphillip-cocoa-ctypes2/</a>\\n:</p>\\n<ol class=\"arabic simple\">\\n<li><p><code class=\"docutils literal\"><span class=\"pre\">hg\\xa0clone\\xa0https://code.google.com/r/evilphillip-cocoa-ctypes2/</span></code></p></li>\\n<li><p><code class=\"docutils literal\"><span class=\"pre\">cd\\xa0evilphillip-cocoa-ctypes2/</span></code></p></li>\\n<li><p><code class=\"docutils literal\">python\\xa0setup.py\\xa0install</code></p></li>\\n</ol>\\n</li>\\n<li><p>works!</p></li>\\n</ul></body>'\n",
      "'<ul class=\"simple\">\\n<li><p>you may get errors if trying to install pyglet using the traditional\\nway, using <code class=\"docutils literal\">pip</code> for instance (was my case on MacOs X Lion 10.7.0 +\\npython 64bits from EPD or homebrew). in cause is the carbon code that\\nhas been abandonned in the 64bits libraries that come with the OS</p></li>\\n</ul>\\n<!-- TEASER_END -->\\n<div class=\"admonition warning\">\\n<p class=\"admonition-title\">Warning</p>\\n<p>This post is certainly obsolete...</p>\\n</div>\\n<ul>\\n<li><p>the solution comes from the\\n<a class=\"reference external\" href=\"https://code.google.com/p/cocoa-python/\">https://code.google.com/p/cocoa-python/</a>\\npackage</p>\\n<ol class=\"arabic\">\\n<li><p>clone the package\\n<a href=\"/posts/2012-01-18-Compiling-pyglet-on-MacOsX.html#id1\"><span class=\"problematic\" id=\"id2\">``</span></a>hg\\xa0clone\\xa0<a class=\"reference external\" href=\"https://code.google.com/p/cocoa-python\">https://code.google.com/p/cocoa-python</a>\\xa0``</p>\\n<div class=\"system-message\" id=\"id1\">\\n<p class=\"system-message-title\">System Message: WARNING/2 (<span class=\"docutils literal\">&lt;string&gt;</span>, line 18); <em><a href=\"/posts/2012-01-18-Compiling-pyglet-on-MacOsX.html#id2\">backlink</a></em></p>\\n<p>Inline literal start-string without end-string.</p>\\n</div>\\n</li>\\n<li><p>insert the code in your PYTHONPATH:\\n<code class=\"docutils literal\"><span class=\"pre\">rsync\\xa0-av\\xa0cocoapy\\xa0/usr/local/lib/python2.7/site-packages/pyglet/libs/darwin</span></code></p></li>\\n</ol>\\n</li>\\n<li><p>a simpler solution is to install the pyglet code from\\n<a class=\"reference external\" href=\"https://code.google.com/r/evilphillip-cocoa-ctypes2/\">https://code.google.com/r/evilphillip-cocoa-ctypes2/</a>\\n:</p>\\n<ol class=\"arabic simple\">\\n<li><p><code class=\"docutils literal\"><span class=\"pre\">hg\\xa0clone\\xa0https://code.google.com/r/evilphillip-cocoa-ctypes2/</span></code></p></li>\\n<li><p><code class=\"docutils literal\"><span class=\"pre\">cd\\xa0evilphillip-cocoa-ctypes2/</span></code></p></li>\\n<li><p><code class=\"docutils literal\">python\\xa0setup.py\\xa0install</code></p></li>\\n</ol>\\n</li>\\n<li><p>works!</p></li>\\n</ul>'\n",
      "'<ul class=\"simple\">\\n<li><p>you may get errors if trying to install pyglet using the traditional\\nway, using <code class=\"docutils literal\">pip</code> for instance (was my case on MacOs X Lion 10.7.0 +\\npython 64bits from EPD or homebrew). in cause is the carbon code that\\nhas been abandonned in the 64bits libraries that come with the OS</p></li>\\n</ul>\\n<!-- TEASER_END -->\\n<div class=\"admonition warning\">\\n<p class=\"admonition-title\">Warning</p>\\n<p>This post is certainly obsolete...</p>\\n</div>\\n<ul>\\n<li><p>the solution comes from the\\n<a class=\"reference external\" href=\"https://code.google.com/p/cocoa-python/\">https://code.google.com/p/cocoa-python/</a>\\npackage</p>\\n<ol class=\"arabic\">\\n<li><p>clone the package\\n<a href=\"/posts/2012-01-18-Compiling-pyglet-on-MacOsX.html#id1\"><span class=\"problematic\" id=\"id2\">``</span></a>hg\\xa0clone\\xa0<a class=\"reference external\" href=\"https://code.google.com/p/cocoa-python\">https://code.google.com/p/cocoa-python</a>\\xa0``</p>\\n<div class=\"system-message\" id=\"id1\">\\n<p class=\"system-message-title\">System Message: WARNING/2 (<span class=\"docutils literal\">&lt;string&gt;</span>, line 18); <em><a href=\"/posts/2012-01-18-Compiling-pyglet-on-MacOsX.html#id2\">backlink</a></em></p>\\n<p>Inline literal start-string without end-string.</p>\\n</div>\\n</li>\\n<li><p>insert the code in your PYTHONPATH:\\n<code class=\"docutils literal\"><span class=\"pre\">rsync\\xa0-av\\xa0cocoapy\\xa0/usr/local/lib/python2.7/site-packages/pyglet/libs/darwin</span></code></p></li>\\n</ol>\\n</li>\\n<li><p>a simpler solution is to install the pyglet code from\\n<a class=\"reference external\" href=\"https://code.google.com/r/evilphillip-cocoa-ctypes2/\">https://code.google.com/r/evilphillip-cocoa-ctypes2/</a>\\n:</p>\\n<ol class=\"arabic simple\">\\n<li><p><code class=\"docutils literal\"><span class=\"pre\">hg\\xa0clone\\xa0https://code.google.com/r/evilphillip-cocoa-ctypes2/</span></code></p></li>\\n<li><p><code class=\"docutils literal\"><span class=\"pre\">cd\\xa0evilphillip-cocoa-ctypes2/</span></code></p></li>\\n<li><p><code class=\"docutils literal\">python\\xa0setup.py\\xa0install</code></p></li>\\n</ol>\\n</li>\\n<li><p>works!</p></li>\\n</ul></body>'\n",
      "'<ul class=\"simple\">\\n<li><p>you may get errors if trying to install pyglet using the traditional\\nway, using <code class=\"docutils literal\">pip</code> for instance (was my case on MacOs X Lion 10.7.0 +\\npython 64bits from EPD or homebrew). in cause is the carbon code that\\nhas been abandonned in the 64bits libraries that come with the OS</p></li>\\n</ul>\\n<!-- TEASER_END -->\\n<div class=\"admonition warning\">\\n<p class=\"admonition-title\">Warning</p>\\n<p>This post is certainly obsolete...</p>\\n</div>\\n<ul>\\n<li><p>the solution comes from the\\n<a class=\"reference external\" href=\"https://code.google.com/p/cocoa-python/\">https://code.google.com/p/cocoa-python/</a>\\npackage</p>\\n<ol class=\"arabic\">\\n<li><p>clone the package\\n<a href=\"/posts/2012-01-18-Compiling-pyglet-on-MacOsX.html#id1\"><span class=\"problematic\" id=\"id2\">``</span></a>hg\\xa0clone\\xa0<a class=\"reference external\" href=\"https://code.google.com/p/cocoa-python\">https://code.google.com/p/cocoa-python</a>\\xa0``</p>\\n<div class=\"system-message\" id=\"id1\">\\n<p class=\"system-message-title\">System Message: WARNING/2 (<span class=\"docutils literal\">&lt;string&gt;</span>, line 18); <em><a href=\"/posts/2012-01-18-Compiling-pyglet-on-MacOsX.html#id2\">backlink</a></em></p>\\n<p>Inline literal start-string without end-string.</p>\\n</div>\\n</li>\\n<li><p>insert the code in your PYTHONPATH:\\n<code class=\"docutils literal\"><span class=\"pre\">rsync\\xa0-av\\xa0cocoapy\\xa0/usr/local/lib/python2.7/site-packages/pyglet/libs/darwin</span></code></p></li>\\n</ol>\\n</li>\\n<li><p>a simpler solution is to install the pyglet code from\\n<a class=\"reference external\" href=\"https://code.google.com/r/evilphillip-cocoa-ctypes2/\">https://code.google.com/r/evilphillip-cocoa-ctypes2/</a>\\n:</p>\\n<ol class=\"arabic simple\">\\n<li><p><code class=\"docutils literal\"><span class=\"pre\">hg\\xa0clone\\xa0https://code.google.com/r/evilphillip-cocoa-ctypes2/</span></code></p></li>\\n<li><p><code class=\"docutils literal\"><span class=\"pre\">cd\\xa0evilphillip-cocoa-ctypes2/</span></code></p></li>\\n<li><p><code class=\"docutils literal\">python\\xa0setup.py\\xa0install</code></p></li>\\n</ol>\\n</li>\\n<li><p>works!</p></li>\\n</ul>'\n",
      "'<ul class=\"simple\">\\n<li><p>you may get errors if trying to install pyglet using the traditional\\nway, using <code class=\"docutils literal\">pip</code> for instance (was my case on MacOs X Lion 10.7.0 +\\npython 64bits from EPD or homebrew). in cause is the carbon code that\\nhas been abandonned in the 64bits libraries that come with the OS</p></li>\\n</ul>\\n</body>'\n",
      "'<ul class=\"simple\">\\n<li><p>you may get errors if trying to install pyglet using the traditional\\nway, using <code class=\"docutils literal\">pip</code> for instance (was my case on MacOs X Lion 10.7.0 +\\npython 64bits from EPD or homebrew). in cause is the carbon code that\\nhas been abandonned in the 64bits libraries that come with the OS</p></li>\\n</ul>'\n",
      "'<ul class=\"simple\">\\n<li><p>you may get errors if trying to install pyglet using the traditional\\nway, using <code class=\"docutils literal\">pip</code> for instance (was my case on MacOs X Lion 10.7.0 +\\npython 64bits from EPD or homebrew). in cause is the carbon code that\\nhas been abandonned in the 64bits libraries that come with the OS</p></li>\\n</ul></body>'\n",
      "'<ul class=\"simple\">\\n<li><p>you may get errors if trying to install pyglet using the traditional\\nway, using <code class=\"docutils literal\">pip</code> for instance (was my case on MacOs X Lion 10.7.0 +\\npython 64bits from EPD or homebrew). in cause is the carbon code that\\nhas been abandonned in the 64bits libraries that come with the OS</p></li>\\n</ul>'\n",
      "'<div><ul class=\"simple\">\\n<li><p>you may get errors if trying to install pyglet using the traditional\\nway, using <code class=\"docutils literal\">pip</code> for instance (was my case on MacOs X Lion 10.7.0 +\\npython 64bits from EPD or homebrew). in cause is the carbon code that\\nhas been abandonned in the 64bits libraries that come with the OS</p></li>\\n</ul>\\n<p class=\"more\"><a href=\"/posts/2012-01-18-Compiling-pyglet-on-MacOsX.html\">Read more…</a></p></div></body>'\n",
      "'<div><ul class=\"simple\">\\n<li><p>you may get errors if trying to install pyglet using the traditional\\nway, using <code class=\"docutils literal\">pip</code> for instance (was my case on MacOs X Lion 10.7.0 +\\npython 64bits from EPD or homebrew). in cause is the carbon code that\\nhas been abandonned in the 64bits libraries that come with the OS</p></li>\\n</ul>\\n<p class=\"more\"><a href=\"/posts/2012-01-18-Compiling-pyglet-on-MacOsX.html\">Read more…</a></p></div>'\n",
      "'<ul class=\"simple\">\\n<li><p>due to a disruption on my previous server, I had to move in a rush to\\na new server.</p></li>\\n</ul>\\n<!-- TEASER_END -->\\n<ul>\\n<li><p>choosing the right provider</p>\\n<ul class=\"simple\">\\n<li><p><a class=\"reference external\" href=\"http://240plan.ovh.net/infos/python.cgi\">http://240plan.ovh.net/infos/python.cgi</a></p></li>\\n<li><p><a class=\"reference external\" href=\"http://240plan.ovh.net/net2ftp/index.php\">http://240plan.ovh.net/net2ftp/index.php</a></p></li>\\n</ul>\\n</li>\\n<li><p>getting a basic MoinMoin instance running</p>\\n<ul class=\"simple\">\\n<li><p><a class=\"reference external\" href=\"http://moinmo.in/via_ftp_on_vserver\">http://moinmo.in/via_ftp_on_vserver</a></p></li>\\n<li><p><a class=\"reference external\" href=\"http://hg.moinmo.in/moin/1.9/raw-file/1.9.3/docs/REQUIREMENTS\">http://hg.moinmo.in/moin/1.9/raw-file/1.9.3/docs/REQUIREMENTS</a></p></li>\\n</ul>\\n</li>\\n<li><p>getting the path of the pages on the server using the <code class=\"docutils literal\">explore.py</code>\\nscript in\\n<a class=\"reference external\" href=\"http://wiki.python.org/jython/HelpOnInstalling/ApacheOnLinuxFtp\">http://wiki.python.org/jython/HelpOnInstalling/ApacheOnLinuxFtp</a></p></li>\\n<li><p>setting up an empty MoinMoin instance, using:</p>\\n<ul>\\n<li><p>the following <code class=\"docutils literal\"><span class=\"pre\">cgi-bin/index.cgi</span></code> script:</p>\\n<pre class=\"literal-block\"> 1 #!/usr/bin/python\\n 2\\n 3 import sys, os\\n 4\\n 5 sys.path.insert(0, \\'/homez.52/invibe/moin\\')\\n 6\\n 7 os.environ[\\'FCGI_FORCE_CGI\\'] = \\'N\\' # \\'Y\\' for (slow) CGI, \\'N\\' for FCGI\\n 8\\n 9 from MoinMoin.web.flup_frontend import CGIFrontEnd\\n10 CGIFrontEnd().run()</pre>\\n</li>\\n<li><p>setting up the right path in <code class=\"docutils literal\">xikiconfig.py</code> :</p>\\n<pre class=\"literal-block\">1     data_dir = \\'/homez.52/invibe/moin/data/\\'\\n2     data_underlay_dir = \\'/homez.52/invibe/moin/underlay_min/\\'\\n3     url_prefix_static = \\'/moin_static193\\'\\n4     url_mappings = {\\'/cgi-bin/index.cgi\\':\\'/LaurentPerrinet\\'}</pre>\\n</li>\\n<li><p>note that I installed the htdocs as <code class=\"docutils literal\">www/moin_static193</code></p></li>\\n</ul>\\n</li>\\n<li><p>once functional, getting my old stuff on the new server</p>\\n<ul class=\"simple\">\\n<li><p>do not forget to set up permissions to <code class=\"docutils literal\">755</code> on the site (I used\\ntheir online ftp tool for that -\\n<a class=\"reference external\" href=\"http://240plan.ovh.net/net2ftp/index.php\">http://240plan.ovh.net/net2ftp/index.php</a>\\n)</p></li>\\n</ul>\\n</li>\\n<li><p>rewrite rule</p>\\n<ul>\\n<li><p><a class=\"reference external\" href=\"http://rabaix.net/en/articles/2007/08/31/how-to-install-django-on-ovh-net\">http://rabaix.net/en/articles/2007/08/31/how-to-install-django-on-ovh-net</a></p></li>\\n<li><p><a class=\"reference external\" href=\"http://guide.ovh.com/HtaccessModRewrite\">http://guide.ovh.com/HtaccessModRewrite</a></p></li>\\n<li><p>I opted for this config in the <code class=\"docutils literal\"><span class=\"pre\">www/.htaccess</span></code> file:</p>\\n<pre class=\"literal-block\">Options +FollowSymlinks\\nRewriteEngine on\\nRewriteRule ^LaurentPerrinet$  LaurentPerrinet/ [L]\\nRewriteRule ^LaurentPerrinet(.*)$  /cgi-bin/index.cgi$1 [L]\\nRewriteRule !(moin_static193|images|robots.txt|favicon.ico|cgi-bin) LaurentPerrinet  [L]</pre>\\n</li>\\n</ul>\\n</li>\\n<li><p>overall, this process was not linear and quite frustrating as there\\nis no ssh (only a ftp) access and absolutely no simple guide and\\nworse, no logfile from apache (you see quite often an \"error 500\"\\nwithout any cue as what is going wrong)</p></li>\\n</ul></body>'\n",
      "'<ul class=\"simple\">\\n<li><p>due to a disruption on my previous server, I had to move in a rush to\\na new server.</p></li>\\n</ul>\\n<!-- TEASER_END -->\\n<ul>\\n<li><p>choosing the right provider</p>\\n<ul class=\"simple\">\\n<li><p><a class=\"reference external\" href=\"http://240plan.ovh.net/infos/python.cgi\">http://240plan.ovh.net/infos/python.cgi</a></p></li>\\n<li><p><a class=\"reference external\" href=\"http://240plan.ovh.net/net2ftp/index.php\">http://240plan.ovh.net/net2ftp/index.php</a></p></li>\\n</ul>\\n</li>\\n<li><p>getting a basic MoinMoin instance running</p>\\n<ul class=\"simple\">\\n<li><p><a class=\"reference external\" href=\"http://moinmo.in/via_ftp_on_vserver\">http://moinmo.in/via_ftp_on_vserver</a></p></li>\\n<li><p><a class=\"reference external\" href=\"http://hg.moinmo.in/moin/1.9/raw-file/1.9.3/docs/REQUIREMENTS\">http://hg.moinmo.in/moin/1.9/raw-file/1.9.3/docs/REQUIREMENTS</a></p></li>\\n</ul>\\n</li>\\n<li><p>getting the path of the pages on the server using the <code class=\"docutils literal\">explore.py</code>\\nscript in\\n<a class=\"reference external\" href=\"http://wiki.python.org/jython/HelpOnInstalling/ApacheOnLinuxFtp\">http://wiki.python.org/jython/HelpOnInstalling/ApacheOnLinuxFtp</a></p></li>\\n<li><p>setting up an empty MoinMoin instance, using:</p>\\n<ul>\\n<li><p>the following <code class=\"docutils literal\"><span class=\"pre\">cgi-bin/index.cgi</span></code> script:</p>\\n<pre class=\"literal-block\"> 1 #!/usr/bin/python\\n 2\\n 3 import sys, os\\n 4\\n 5 sys.path.insert(0, \\'/homez.52/invibe/moin\\')\\n 6\\n 7 os.environ[\\'FCGI_FORCE_CGI\\'] = \\'N\\' # \\'Y\\' for (slow) CGI, \\'N\\' for FCGI\\n 8\\n 9 from MoinMoin.web.flup_frontend import CGIFrontEnd\\n10 CGIFrontEnd().run()</pre>\\n</li>\\n<li><p>setting up the right path in <code class=\"docutils literal\">xikiconfig.py</code> :</p>\\n<pre class=\"literal-block\">1     data_dir = \\'/homez.52/invibe/moin/data/\\'\\n2     data_underlay_dir = \\'/homez.52/invibe/moin/underlay_min/\\'\\n3     url_prefix_static = \\'/moin_static193\\'\\n4     url_mappings = {\\'/cgi-bin/index.cgi\\':\\'/LaurentPerrinet\\'}</pre>\\n</li>\\n<li><p>note that I installed the htdocs as <code class=\"docutils literal\">www/moin_static193</code></p></li>\\n</ul>\\n</li>\\n<li><p>once functional, getting my old stuff on the new server</p>\\n<ul class=\"simple\">\\n<li><p>do not forget to set up permissions to <code class=\"docutils literal\">755</code> on the site (I used\\ntheir online ftp tool for that -\\n<a class=\"reference external\" href=\"http://240plan.ovh.net/net2ftp/index.php\">http://240plan.ovh.net/net2ftp/index.php</a>\\n)</p></li>\\n</ul>\\n</li>\\n<li><p>rewrite rule</p>\\n<ul>\\n<li><p><a class=\"reference external\" href=\"http://rabaix.net/en/articles/2007/08/31/how-to-install-django-on-ovh-net\">http://rabaix.net/en/articles/2007/08/31/how-to-install-django-on-ovh-net</a></p></li>\\n<li><p><a class=\"reference external\" href=\"http://guide.ovh.com/HtaccessModRewrite\">http://guide.ovh.com/HtaccessModRewrite</a></p></li>\\n<li><p>I opted for this config in the <code class=\"docutils literal\"><span class=\"pre\">www/.htaccess</span></code> file:</p>\\n<pre class=\"literal-block\">Options +FollowSymlinks\\nRewriteEngine on\\nRewriteRule ^LaurentPerrinet$  LaurentPerrinet/ [L]\\nRewriteRule ^LaurentPerrinet(.*)$  /cgi-bin/index.cgi$1 [L]\\nRewriteRule !(moin_static193|images|robots.txt|favicon.ico|cgi-bin) LaurentPerrinet  [L]</pre>\\n</li>\\n</ul>\\n</li>\\n<li><p>overall, this process was not linear and quite frustrating as there\\nis no ssh (only a ftp) access and absolutely no simple guide and\\nworse, no logfile from apache (you see quite often an \"error 500\"\\nwithout any cue as what is going wrong)</p></li>\\n</ul>'\n",
      "'<ul class=\"simple\">\\n<li><p>due to a disruption on my previous server, I had to move in a rush to\\na new server.</p></li>\\n</ul>\\n<!-- TEASER_END -->\\n<ul>\\n<li><p>choosing the right provider</p>\\n<ul class=\"simple\">\\n<li><p><a class=\"reference external\" href=\"http://240plan.ovh.net/infos/python.cgi\">http://240plan.ovh.net/infos/python.cgi</a></p></li>\\n<li><p><a class=\"reference external\" href=\"http://240plan.ovh.net/net2ftp/index.php\">http://240plan.ovh.net/net2ftp/index.php</a></p></li>\\n</ul>\\n</li>\\n<li><p>getting a basic MoinMoin instance running</p>\\n<ul class=\"simple\">\\n<li><p><a class=\"reference external\" href=\"http://moinmo.in/via_ftp_on_vserver\">http://moinmo.in/via_ftp_on_vserver</a></p></li>\\n<li><p><a class=\"reference external\" href=\"http://hg.moinmo.in/moin/1.9/raw-file/1.9.3/docs/REQUIREMENTS\">http://hg.moinmo.in/moin/1.9/raw-file/1.9.3/docs/REQUIREMENTS</a></p></li>\\n</ul>\\n</li>\\n<li><p>getting the path of the pages on the server using the <code class=\"docutils literal\">explore.py</code>\\nscript in\\n<a class=\"reference external\" href=\"http://wiki.python.org/jython/HelpOnInstalling/ApacheOnLinuxFtp\">http://wiki.python.org/jython/HelpOnInstalling/ApacheOnLinuxFtp</a></p></li>\\n<li><p>setting up an empty MoinMoin instance, using:</p>\\n<ul>\\n<li><p>the following <code class=\"docutils literal\"><span class=\"pre\">cgi-bin/index.cgi</span></code> script:</p>\\n<pre class=\"literal-block\"> 1 #!/usr/bin/python\\n 2\\n 3 import sys, os\\n 4\\n 5 sys.path.insert(0, \\'/homez.52/invibe/moin\\')\\n 6\\n 7 os.environ[\\'FCGI_FORCE_CGI\\'] = \\'N\\' # \\'Y\\' for (slow) CGI, \\'N\\' for FCGI\\n 8\\n 9 from MoinMoin.web.flup_frontend import CGIFrontEnd\\n10 CGIFrontEnd().run()</pre>\\n</li>\\n<li><p>setting up the right path in <code class=\"docutils literal\">xikiconfig.py</code> :</p>\\n<pre class=\"literal-block\">1     data_dir = \\'/homez.52/invibe/moin/data/\\'\\n2     data_underlay_dir = \\'/homez.52/invibe/moin/underlay_min/\\'\\n3     url_prefix_static = \\'/moin_static193\\'\\n4     url_mappings = {\\'/cgi-bin/index.cgi\\':\\'/LaurentPerrinet\\'}</pre>\\n</li>\\n<li><p>note that I installed the htdocs as <code class=\"docutils literal\">www/moin_static193</code></p></li>\\n</ul>\\n</li>\\n<li><p>once functional, getting my old stuff on the new server</p>\\n<ul class=\"simple\">\\n<li><p>do not forget to set up permissions to <code class=\"docutils literal\">755</code> on the site (I used\\ntheir online ftp tool for that -\\n<a class=\"reference external\" href=\"http://240plan.ovh.net/net2ftp/index.php\">http://240plan.ovh.net/net2ftp/index.php</a>\\n)</p></li>\\n</ul>\\n</li>\\n<li><p>rewrite rule</p>\\n<ul>\\n<li><p><a class=\"reference external\" href=\"http://rabaix.net/en/articles/2007/08/31/how-to-install-django-on-ovh-net\">http://rabaix.net/en/articles/2007/08/31/how-to-install-django-on-ovh-net</a></p></li>\\n<li><p><a class=\"reference external\" href=\"http://guide.ovh.com/HtaccessModRewrite\">http://guide.ovh.com/HtaccessModRewrite</a></p></li>\\n<li><p>I opted for this config in the <code class=\"docutils literal\"><span class=\"pre\">www/.htaccess</span></code> file:</p>\\n<pre class=\"literal-block\">Options +FollowSymlinks\\nRewriteEngine on\\nRewriteRule ^LaurentPerrinet$  LaurentPerrinet/ [L]\\nRewriteRule ^LaurentPerrinet(.*)$  /cgi-bin/index.cgi$1 [L]\\nRewriteRule !(moin_static193|images|robots.txt|favicon.ico|cgi-bin) LaurentPerrinet  [L]</pre>\\n</li>\\n</ul>\\n</li>\\n<li><p>overall, this process was not linear and quite frustrating as there\\nis no ssh (only a ftp) access and absolutely no simple guide and\\nworse, no logfile from apache (you see quite often an \"error 500\"\\nwithout any cue as what is going wrong)</p></li>\\n</ul></body>'\n",
      "'<ul class=\"simple\">\\n<li><p>due to a disruption on my previous server, I had to move in a rush to\\na new server.</p></li>\\n</ul>\\n<!-- TEASER_END -->\\n<ul>\\n<li><p>choosing the right provider</p>\\n<ul class=\"simple\">\\n<li><p><a class=\"reference external\" href=\"http://240plan.ovh.net/infos/python.cgi\">http://240plan.ovh.net/infos/python.cgi</a></p></li>\\n<li><p><a class=\"reference external\" href=\"http://240plan.ovh.net/net2ftp/index.php\">http://240plan.ovh.net/net2ftp/index.php</a></p></li>\\n</ul>\\n</li>\\n<li><p>getting a basic MoinMoin instance running</p>\\n<ul class=\"simple\">\\n<li><p><a class=\"reference external\" href=\"http://moinmo.in/via_ftp_on_vserver\">http://moinmo.in/via_ftp_on_vserver</a></p></li>\\n<li><p><a class=\"reference external\" href=\"http://hg.moinmo.in/moin/1.9/raw-file/1.9.3/docs/REQUIREMENTS\">http://hg.moinmo.in/moin/1.9/raw-file/1.9.3/docs/REQUIREMENTS</a></p></li>\\n</ul>\\n</li>\\n<li><p>getting the path of the pages on the server using the <code class=\"docutils literal\">explore.py</code>\\nscript in\\n<a class=\"reference external\" href=\"http://wiki.python.org/jython/HelpOnInstalling/ApacheOnLinuxFtp\">http://wiki.python.org/jython/HelpOnInstalling/ApacheOnLinuxFtp</a></p></li>\\n<li><p>setting up an empty MoinMoin instance, using:</p>\\n<ul>\\n<li><p>the following <code class=\"docutils literal\"><span class=\"pre\">cgi-bin/index.cgi</span></code> script:</p>\\n<pre class=\"literal-block\"> 1 #!/usr/bin/python\\n 2\\n 3 import sys, os\\n 4\\n 5 sys.path.insert(0, \\'/homez.52/invibe/moin\\')\\n 6\\n 7 os.environ[\\'FCGI_FORCE_CGI\\'] = \\'N\\' # \\'Y\\' for (slow) CGI, \\'N\\' for FCGI\\n 8\\n 9 from MoinMoin.web.flup_frontend import CGIFrontEnd\\n10 CGIFrontEnd().run()</pre>\\n</li>\\n<li><p>setting up the right path in <code class=\"docutils literal\">xikiconfig.py</code> :</p>\\n<pre class=\"literal-block\">1     data_dir = \\'/homez.52/invibe/moin/data/\\'\\n2     data_underlay_dir = \\'/homez.52/invibe/moin/underlay_min/\\'\\n3     url_prefix_static = \\'/moin_static193\\'\\n4     url_mappings = {\\'/cgi-bin/index.cgi\\':\\'/LaurentPerrinet\\'}</pre>\\n</li>\\n<li><p>note that I installed the htdocs as <code class=\"docutils literal\">www/moin_static193</code></p></li>\\n</ul>\\n</li>\\n<li><p>once functional, getting my old stuff on the new server</p>\\n<ul class=\"simple\">\\n<li><p>do not forget to set up permissions to <code class=\"docutils literal\">755</code> on the site (I used\\ntheir online ftp tool for that -\\n<a class=\"reference external\" href=\"http://240plan.ovh.net/net2ftp/index.php\">http://240plan.ovh.net/net2ftp/index.php</a>\\n)</p></li>\\n</ul>\\n</li>\\n<li><p>rewrite rule</p>\\n<ul>\\n<li><p><a class=\"reference external\" href=\"http://rabaix.net/en/articles/2007/08/31/how-to-install-django-on-ovh-net\">http://rabaix.net/en/articles/2007/08/31/how-to-install-django-on-ovh-net</a></p></li>\\n<li><p><a class=\"reference external\" href=\"http://guide.ovh.com/HtaccessModRewrite\">http://guide.ovh.com/HtaccessModRewrite</a></p></li>\\n<li><p>I opted for this config in the <code class=\"docutils literal\"><span class=\"pre\">www/.htaccess</span></code> file:</p>\\n<pre class=\"literal-block\">Options +FollowSymlinks\\nRewriteEngine on\\nRewriteRule ^LaurentPerrinet$  LaurentPerrinet/ [L]\\nRewriteRule ^LaurentPerrinet(.*)$  /cgi-bin/index.cgi$1 [L]\\nRewriteRule !(moin_static193|images|robots.txt|favicon.ico|cgi-bin) LaurentPerrinet  [L]</pre>\\n</li>\\n</ul>\\n</li>\\n<li><p>overall, this process was not linear and quite frustrating as there\\nis no ssh (only a ftp) access and absolutely no simple guide and\\nworse, no logfile from apache (you see quite often an \"error 500\"\\nwithout any cue as what is going wrong)</p></li>\\n</ul>'\n",
      "'<ul class=\"simple\">\\n<li><p>due to a disruption on my previous server, I had to move in a rush to\\na new server.</p></li>\\n</ul>\\n</body>'\n",
      "'<ul class=\"simple\">\\n<li><p>due to a disruption on my previous server, I had to move in a rush to\\na new server.</p></li>\\n</ul>'\n",
      "'<ul class=\"simple\">\\n<li><p>due to a disruption on my previous server, I had to move in a rush to\\na new server.</p></li>\\n</ul>\\n<!-- TEASER_END -->\\n<ul>\\n<li><p>choosing the right provider</p>\\n<ul class=\"simple\">\\n<li><p><a class=\"reference external\" href=\"http://240plan.ovh.net/infos/python.cgi\">http://240plan.ovh.net/infos/python.cgi</a></p></li>\\n<li><p><a class=\"reference external\" href=\"http://240plan.ovh.net/net2ftp/index.php\">http://240plan.ovh.net/net2ftp/index.php</a></p></li>\\n</ul>\\n</li>\\n<li><p>getting a basic MoinMoin instance running</p>\\n<ul class=\"simple\">\\n<li><p><a class=\"reference external\" href=\"http://moinmo.in/via_ftp_on_vserver\">http://moinmo.in/via_ftp_on_vserver</a></p></li>\\n<li><p><a class=\"reference external\" href=\"http://hg.moinmo.in/moin/1.9/raw-file/1.9.3/docs/REQUIREMENTS\">http://hg.moinmo.in/moin/1.9/raw-file/1.9.3/docs/REQUIREMENTS</a></p></li>\\n</ul>\\n</li>\\n<li><p>getting the path of the pages on the server using the <code class=\"docutils literal\">explore.py</code>\\nscript in\\n<a class=\"reference external\" href=\"http://wiki.python.org/jython/HelpOnInstalling/ApacheOnLinuxFtp\">http://wiki.python.org/jython/HelpOnInstalling/ApacheOnLinuxFtp</a></p></li>\\n<li><p>setting up an empty MoinMoin instance, using:</p>\\n<ul>\\n<li><p>the following <code class=\"docutils literal\"><span class=\"pre\">cgi-bin/index.cgi</span></code> script:</p>\\n<pre class=\"literal-block\"> 1 #!/usr/bin/python\\n 2\\n 3 import sys, os\\n 4\\n 5 sys.path.insert(0, \\'/homez.52/invibe/moin\\')\\n 6\\n 7 os.environ[\\'FCGI_FORCE_CGI\\'] = \\'N\\' # \\'Y\\' for (slow) CGI, \\'N\\' for FCGI\\n 8\\n 9 from MoinMoin.web.flup_frontend import CGIFrontEnd\\n10 CGIFrontEnd().run()</pre>\\n</li>\\n<li><p>setting up the right path in <code class=\"docutils literal\">xikiconfig.py</code> :</p>\\n<pre class=\"literal-block\">1     data_dir = \\'/homez.52/invibe/moin/data/\\'\\n2     data_underlay_dir = \\'/homez.52/invibe/moin/underlay_min/\\'\\n3     url_prefix_static = \\'/moin_static193\\'\\n4     url_mappings = {\\'/cgi-bin/index.cgi\\':\\'/LaurentPerrinet\\'}</pre>\\n</li>\\n<li><p>note that I installed the htdocs as <code class=\"docutils literal\">www/moin_static193</code></p></li>\\n</ul>\\n</li>\\n<li><p>once functional, getting my old stuff on the new server</p>\\n<ul class=\"simple\">\\n<li><p>do not forget to set up permissions to <code class=\"docutils literal\">755</code> on the site (I used\\ntheir online ftp tool for that -\\n<a class=\"reference external\" href=\"http://240plan.ovh.net/net2ftp/index.php\">http://240plan.ovh.net/net2ftp/index.php</a>\\n)</p></li>\\n</ul>\\n</li>\\n<li><p>rewrite rule</p>\\n<ul>\\n<li><p><a class=\"reference external\" href=\"http://rabaix.net/en/articles/2007/08/31/how-to-install-django-on-ovh-net\">http://rabaix.net/en/articles/2007/08/31/how-to-install-django-on-ovh-net</a></p></li>\\n<li><p><a class=\"reference external\" href=\"http://guide.ovh.com/HtaccessModRewrite\">http://guide.ovh.com/HtaccessModRewrite</a></p></li>\\n<li><p>I opted for this config in the <code class=\"docutils literal\"><span class=\"pre\">www/.htaccess</span></code> file:</p>\\n<pre class=\"literal-block\">Options +FollowSymlinks\\nRewriteEngine on\\nRewriteRule ^LaurentPerrinet$  LaurentPerrinet/ [L]\\nRewriteRule ^LaurentPerrinet(.*)$  /cgi-bin/index.cgi$1 [L]\\nRewriteRule !(moin_static193|images|robots.txt|favicon.ico|cgi-bin) LaurentPerrinet  [L]</pre>\\n</li>\\n</ul>\\n</li>\\n<li><p>overall, this process was not linear and quite frustrating as there\\nis no ssh (only a ftp) access and absolutely no simple guide and\\nworse, no logfile from apache (you see quite often an \"error 500\"\\nwithout any cue as what is going wrong)</p></li>\\n</ul></body>'\n",
      "'<ul class=\"simple\">\\n<li><p>due to a disruption on my previous server, I had to move in a rush to\\na new server.</p></li>\\n</ul>\\n<!-- TEASER_END -->\\n<ul>\\n<li><p>choosing the right provider</p>\\n<ul class=\"simple\">\\n<li><p><a class=\"reference external\" href=\"http://240plan.ovh.net/infos/python.cgi\">http://240plan.ovh.net/infos/python.cgi</a></p></li>\\n<li><p><a class=\"reference external\" href=\"http://240plan.ovh.net/net2ftp/index.php\">http://240plan.ovh.net/net2ftp/index.php</a></p></li>\\n</ul>\\n</li>\\n<li><p>getting a basic MoinMoin instance running</p>\\n<ul class=\"simple\">\\n<li><p><a class=\"reference external\" href=\"http://moinmo.in/via_ftp_on_vserver\">http://moinmo.in/via_ftp_on_vserver</a></p></li>\\n<li><p><a class=\"reference external\" href=\"http://hg.moinmo.in/moin/1.9/raw-file/1.9.3/docs/REQUIREMENTS\">http://hg.moinmo.in/moin/1.9/raw-file/1.9.3/docs/REQUIREMENTS</a></p></li>\\n</ul>\\n</li>\\n<li><p>getting the path of the pages on the server using the <code class=\"docutils literal\">explore.py</code>\\nscript in\\n<a class=\"reference external\" href=\"http://wiki.python.org/jython/HelpOnInstalling/ApacheOnLinuxFtp\">http://wiki.python.org/jython/HelpOnInstalling/ApacheOnLinuxFtp</a></p></li>\\n<li><p>setting up an empty MoinMoin instance, using:</p>\\n<ul>\\n<li><p>the following <code class=\"docutils literal\"><span class=\"pre\">cgi-bin/index.cgi</span></code> script:</p>\\n<pre class=\"literal-block\"> 1 #!/usr/bin/python\\n 2\\n 3 import sys, os\\n 4\\n 5 sys.path.insert(0, \\'/homez.52/invibe/moin\\')\\n 6\\n 7 os.environ[\\'FCGI_FORCE_CGI\\'] = \\'N\\' # \\'Y\\' for (slow) CGI, \\'N\\' for FCGI\\n 8\\n 9 from MoinMoin.web.flup_frontend import CGIFrontEnd\\n10 CGIFrontEnd().run()</pre>\\n</li>\\n<li><p>setting up the right path in <code class=\"docutils literal\">xikiconfig.py</code> :</p>\\n<pre class=\"literal-block\">1     data_dir = \\'/homez.52/invibe/moin/data/\\'\\n2     data_underlay_dir = \\'/homez.52/invibe/moin/underlay_min/\\'\\n3     url_prefix_static = \\'/moin_static193\\'\\n4     url_mappings = {\\'/cgi-bin/index.cgi\\':\\'/LaurentPerrinet\\'}</pre>\\n</li>\\n<li><p>note that I installed the htdocs as <code class=\"docutils literal\">www/moin_static193</code></p></li>\\n</ul>\\n</li>\\n<li><p>once functional, getting my old stuff on the new server</p>\\n<ul class=\"simple\">\\n<li><p>do not forget to set up permissions to <code class=\"docutils literal\">755</code> on the site (I used\\ntheir online ftp tool for that -\\n<a class=\"reference external\" href=\"http://240plan.ovh.net/net2ftp/index.php\">http://240plan.ovh.net/net2ftp/index.php</a>\\n)</p></li>\\n</ul>\\n</li>\\n<li><p>rewrite rule</p>\\n<ul>\\n<li><p><a class=\"reference external\" href=\"http://rabaix.net/en/articles/2007/08/31/how-to-install-django-on-ovh-net\">http://rabaix.net/en/articles/2007/08/31/how-to-install-django-on-ovh-net</a></p></li>\\n<li><p><a class=\"reference external\" href=\"http://guide.ovh.com/HtaccessModRewrite\">http://guide.ovh.com/HtaccessModRewrite</a></p></li>\\n<li><p>I opted for this config in the <code class=\"docutils literal\"><span class=\"pre\">www/.htaccess</span></code> file:</p>\\n<pre class=\"literal-block\">Options +FollowSymlinks\\nRewriteEngine on\\nRewriteRule ^LaurentPerrinet$  LaurentPerrinet/ [L]\\nRewriteRule ^LaurentPerrinet(.*)$  /cgi-bin/index.cgi$1 [L]\\nRewriteRule !(moin_static193|images|robots.txt|favicon.ico|cgi-bin) LaurentPerrinet  [L]</pre>\\n</li>\\n</ul>\\n</li>\\n<li><p>overall, this process was not linear and quite frustrating as there\\nis no ssh (only a ftp) access and absolutely no simple guide and\\nworse, no logfile from apache (you see quite often an \"error 500\"\\nwithout any cue as what is going wrong)</p></li>\\n</ul>'\n",
      "'<ul class=\"simple\">\\n<li><p>due to a disruption on my previous server, I had to move in a rush to\\na new server.</p></li>\\n</ul>\\n<!-- TEASER_END -->\\n<ul>\\n<li><p>choosing the right provider</p>\\n<ul class=\"simple\">\\n<li><p><a class=\"reference external\" href=\"http://240plan.ovh.net/infos/python.cgi\">http://240plan.ovh.net/infos/python.cgi</a></p></li>\\n<li><p><a class=\"reference external\" href=\"http://240plan.ovh.net/net2ftp/index.php\">http://240plan.ovh.net/net2ftp/index.php</a></p></li>\\n</ul>\\n</li>\\n<li><p>getting a basic MoinMoin instance running</p>\\n<ul class=\"simple\">\\n<li><p><a class=\"reference external\" href=\"http://moinmo.in/via_ftp_on_vserver\">http://moinmo.in/via_ftp_on_vserver</a></p></li>\\n<li><p><a class=\"reference external\" href=\"http://hg.moinmo.in/moin/1.9/raw-file/1.9.3/docs/REQUIREMENTS\">http://hg.moinmo.in/moin/1.9/raw-file/1.9.3/docs/REQUIREMENTS</a></p></li>\\n</ul>\\n</li>\\n<li><p>getting the path of the pages on the server using the <code class=\"docutils literal\">explore.py</code>\\nscript in\\n<a class=\"reference external\" href=\"http://wiki.python.org/jython/HelpOnInstalling/ApacheOnLinuxFtp\">http://wiki.python.org/jython/HelpOnInstalling/ApacheOnLinuxFtp</a></p></li>\\n<li><p>setting up an empty MoinMoin instance, using:</p>\\n<ul>\\n<li><p>the following <code class=\"docutils literal\"><span class=\"pre\">cgi-bin/index.cgi</span></code> script:</p>\\n<pre class=\"literal-block\"> 1 #!/usr/bin/python\\n 2\\n 3 import sys, os\\n 4\\n 5 sys.path.insert(0, \\'/homez.52/invibe/moin\\')\\n 6\\n 7 os.environ[\\'FCGI_FORCE_CGI\\'] = \\'N\\' # \\'Y\\' for (slow) CGI, \\'N\\' for FCGI\\n 8\\n 9 from MoinMoin.web.flup_frontend import CGIFrontEnd\\n10 CGIFrontEnd().run()</pre>\\n</li>\\n<li><p>setting up the right path in <code class=\"docutils literal\">xikiconfig.py</code> :</p>\\n<pre class=\"literal-block\">1     data_dir = \\'/homez.52/invibe/moin/data/\\'\\n2     data_underlay_dir = \\'/homez.52/invibe/moin/underlay_min/\\'\\n3     url_prefix_static = \\'/moin_static193\\'\\n4     url_mappings = {\\'/cgi-bin/index.cgi\\':\\'/LaurentPerrinet\\'}</pre>\\n</li>\\n<li><p>note that I installed the htdocs as <code class=\"docutils literal\">www/moin_static193</code></p></li>\\n</ul>\\n</li>\\n<li><p>once functional, getting my old stuff on the new server</p>\\n<ul class=\"simple\">\\n<li><p>do not forget to set up permissions to <code class=\"docutils literal\">755</code> on the site (I used\\ntheir online ftp tool for that -\\n<a class=\"reference external\" href=\"http://240plan.ovh.net/net2ftp/index.php\">http://240plan.ovh.net/net2ftp/index.php</a>\\n)</p></li>\\n</ul>\\n</li>\\n<li><p>rewrite rule</p>\\n<ul>\\n<li><p><a class=\"reference external\" href=\"http://rabaix.net/en/articles/2007/08/31/how-to-install-django-on-ovh-net\">http://rabaix.net/en/articles/2007/08/31/how-to-install-django-on-ovh-net</a></p></li>\\n<li><p><a class=\"reference external\" href=\"http://guide.ovh.com/HtaccessModRewrite\">http://guide.ovh.com/HtaccessModRewrite</a></p></li>\\n<li><p>I opted for this config in the <code class=\"docutils literal\"><span class=\"pre\">www/.htaccess</span></code> file:</p>\\n<pre class=\"literal-block\">Options +FollowSymlinks\\nRewriteEngine on\\nRewriteRule ^LaurentPerrinet$  LaurentPerrinet/ [L]\\nRewriteRule ^LaurentPerrinet(.*)$  /cgi-bin/index.cgi$1 [L]\\nRewriteRule !(moin_static193|images|robots.txt|favicon.ico|cgi-bin) LaurentPerrinet  [L]</pre>\\n</li>\\n</ul>\\n</li>\\n<li><p>overall, this process was not linear and quite frustrating as there\\nis no ssh (only a ftp) access and absolutely no simple guide and\\nworse, no logfile from apache (you see quite often an \"error 500\"\\nwithout any cue as what is going wrong)</p></li>\\n</ul></body>'\n",
      "'<ul class=\"simple\">\\n<li><p>due to a disruption on my previous server, I had to move in a rush to\\na new server.</p></li>\\n</ul>\\n<!-- TEASER_END -->\\n<ul>\\n<li><p>choosing the right provider</p>\\n<ul class=\"simple\">\\n<li><p><a class=\"reference external\" href=\"http://240plan.ovh.net/infos/python.cgi\">http://240plan.ovh.net/infos/python.cgi</a></p></li>\\n<li><p><a class=\"reference external\" href=\"http://240plan.ovh.net/net2ftp/index.php\">http://240plan.ovh.net/net2ftp/index.php</a></p></li>\\n</ul>\\n</li>\\n<li><p>getting a basic MoinMoin instance running</p>\\n<ul class=\"simple\">\\n<li><p><a class=\"reference external\" href=\"http://moinmo.in/via_ftp_on_vserver\">http://moinmo.in/via_ftp_on_vserver</a></p></li>\\n<li><p><a class=\"reference external\" href=\"http://hg.moinmo.in/moin/1.9/raw-file/1.9.3/docs/REQUIREMENTS\">http://hg.moinmo.in/moin/1.9/raw-file/1.9.3/docs/REQUIREMENTS</a></p></li>\\n</ul>\\n</li>\\n<li><p>getting the path of the pages on the server using the <code class=\"docutils literal\">explore.py</code>\\nscript in\\n<a class=\"reference external\" href=\"http://wiki.python.org/jython/HelpOnInstalling/ApacheOnLinuxFtp\">http://wiki.python.org/jython/HelpOnInstalling/ApacheOnLinuxFtp</a></p></li>\\n<li><p>setting up an empty MoinMoin instance, using:</p>\\n<ul>\\n<li><p>the following <code class=\"docutils literal\"><span class=\"pre\">cgi-bin/index.cgi</span></code> script:</p>\\n<pre class=\"literal-block\"> 1 #!/usr/bin/python\\n 2\\n 3 import sys, os\\n 4\\n 5 sys.path.insert(0, \\'/homez.52/invibe/moin\\')\\n 6\\n 7 os.environ[\\'FCGI_FORCE_CGI\\'] = \\'N\\' # \\'Y\\' for (slow) CGI, \\'N\\' for FCGI\\n 8\\n 9 from MoinMoin.web.flup_frontend import CGIFrontEnd\\n10 CGIFrontEnd().run()</pre>\\n</li>\\n<li><p>setting up the right path in <code class=\"docutils literal\">xikiconfig.py</code> :</p>\\n<pre class=\"literal-block\">1     data_dir = \\'/homez.52/invibe/moin/data/\\'\\n2     data_underlay_dir = \\'/homez.52/invibe/moin/underlay_min/\\'\\n3     url_prefix_static = \\'/moin_static193\\'\\n4     url_mappings = {\\'/cgi-bin/index.cgi\\':\\'/LaurentPerrinet\\'}</pre>\\n</li>\\n<li><p>note that I installed the htdocs as <code class=\"docutils literal\">www/moin_static193</code></p></li>\\n</ul>\\n</li>\\n<li><p>once functional, getting my old stuff on the new server</p>\\n<ul class=\"simple\">\\n<li><p>do not forget to set up permissions to <code class=\"docutils literal\">755</code> on the site (I used\\ntheir online ftp tool for that -\\n<a class=\"reference external\" href=\"http://240plan.ovh.net/net2ftp/index.php\">http://240plan.ovh.net/net2ftp/index.php</a>\\n)</p></li>\\n</ul>\\n</li>\\n<li><p>rewrite rule</p>\\n<ul>\\n<li><p><a class=\"reference external\" href=\"http://rabaix.net/en/articles/2007/08/31/how-to-install-django-on-ovh-net\">http://rabaix.net/en/articles/2007/08/31/how-to-install-django-on-ovh-net</a></p></li>\\n<li><p><a class=\"reference external\" href=\"http://guide.ovh.com/HtaccessModRewrite\">http://guide.ovh.com/HtaccessModRewrite</a></p></li>\\n<li><p>I opted for this config in the <code class=\"docutils literal\"><span class=\"pre\">www/.htaccess</span></code> file:</p>\\n<pre class=\"literal-block\">Options +FollowSymlinks\\nRewriteEngine on\\nRewriteRule ^LaurentPerrinet$  LaurentPerrinet/ [L]\\nRewriteRule ^LaurentPerrinet(.*)$  /cgi-bin/index.cgi$1 [L]\\nRewriteRule !(moin_static193|images|robots.txt|favicon.ico|cgi-bin) LaurentPerrinet  [L]</pre>\\n</li>\\n</ul>\\n</li>\\n<li><p>overall, this process was not linear and quite frustrating as there\\nis no ssh (only a ftp) access and absolutely no simple guide and\\nworse, no logfile from apache (you see quite often an \"error 500\"\\nwithout any cue as what is going wrong)</p></li>\\n</ul>'\n",
      "'<ul class=\"simple\">\\n<li><p>due to a disruption on my previous server, I had to move in a rush to\\na new server.</p></li>\\n</ul>\\n<!-- TEASER_END -->\\n<ul>\\n<li><p>choosing the right provider</p>\\n<ul class=\"simple\">\\n<li><p><a class=\"reference external\" href=\"http://240plan.ovh.net/infos/python.cgi\">http://240plan.ovh.net/infos/python.cgi</a></p></li>\\n<li><p><a class=\"reference external\" href=\"http://240plan.ovh.net/net2ftp/index.php\">http://240plan.ovh.net/net2ftp/index.php</a></p></li>\\n</ul>\\n</li>\\n<li><p>getting a basic MoinMoin instance running</p>\\n<ul class=\"simple\">\\n<li><p><a class=\"reference external\" href=\"http://moinmo.in/via_ftp_on_vserver\">http://moinmo.in/via_ftp_on_vserver</a></p></li>\\n<li><p><a class=\"reference external\" href=\"http://hg.moinmo.in/moin/1.9/raw-file/1.9.3/docs/REQUIREMENTS\">http://hg.moinmo.in/moin/1.9/raw-file/1.9.3/docs/REQUIREMENTS</a></p></li>\\n</ul>\\n</li>\\n<li><p>getting the path of the pages on the server using the <code class=\"docutils literal\">explore.py</code>\\nscript in\\n<a class=\"reference external\" href=\"http://wiki.python.org/jython/HelpOnInstalling/ApacheOnLinuxFtp\">http://wiki.python.org/jython/HelpOnInstalling/ApacheOnLinuxFtp</a></p></li>\\n<li><p>setting up an empty MoinMoin instance, using:</p>\\n<ul>\\n<li><p>the following <code class=\"docutils literal\"><span class=\"pre\">cgi-bin/index.cgi</span></code> script:</p>\\n<pre class=\"literal-block\"> 1 #!/usr/bin/python\\n 2\\n 3 import sys, os\\n 4\\n 5 sys.path.insert(0, \\'/homez.52/invibe/moin\\')\\n 6\\n 7 os.environ[\\'FCGI_FORCE_CGI\\'] = \\'N\\' # \\'Y\\' for (slow) CGI, \\'N\\' for FCGI\\n 8\\n 9 from MoinMoin.web.flup_frontend import CGIFrontEnd\\n10 CGIFrontEnd().run()</pre>\\n</li>\\n<li><p>setting up the right path in <code class=\"docutils literal\">xikiconfig.py</code> :</p>\\n<pre class=\"literal-block\">1     data_dir = \\'/homez.52/invibe/moin/data/\\'\\n2     data_underlay_dir = \\'/homez.52/invibe/moin/underlay_min/\\'\\n3     url_prefix_static = \\'/moin_static193\\'\\n4     url_mappings = {\\'/cgi-bin/index.cgi\\':\\'/LaurentPerrinet\\'}</pre>\\n</li>\\n<li><p>note that I installed the htdocs as <code class=\"docutils literal\">www/moin_static193</code></p></li>\\n</ul>\\n</li>\\n<li><p>once functional, getting my old stuff on the new server</p>\\n<ul class=\"simple\">\\n<li><p>do not forget to set up permissions to <code class=\"docutils literal\">755</code> on the site (I used\\ntheir online ftp tool for that -\\n<a class=\"reference external\" href=\"http://240plan.ovh.net/net2ftp/index.php\">http://240plan.ovh.net/net2ftp/index.php</a>\\n)</p></li>\\n</ul>\\n</li>\\n<li><p>rewrite rule</p>\\n<ul>\\n<li><p><a class=\"reference external\" href=\"http://rabaix.net/en/articles/2007/08/31/how-to-install-django-on-ovh-net\">http://rabaix.net/en/articles/2007/08/31/how-to-install-django-on-ovh-net</a></p></li>\\n<li><p><a class=\"reference external\" href=\"http://guide.ovh.com/HtaccessModRewrite\">http://guide.ovh.com/HtaccessModRewrite</a></p></li>\\n<li><p>I opted for this config in the <code class=\"docutils literal\"><span class=\"pre\">www/.htaccess</span></code> file:</p>\\n<pre class=\"literal-block\">Options +FollowSymlinks\\nRewriteEngine on\\nRewriteRule ^LaurentPerrinet$  LaurentPerrinet/ [L]\\nRewriteRule ^LaurentPerrinet(.*)$  /cgi-bin/index.cgi$1 [L]\\nRewriteRule !(moin_static193|images|robots.txt|favicon.ico|cgi-bin) LaurentPerrinet  [L]</pre>\\n</li>\\n</ul>\\n</li>\\n<li><p>overall, this process was not linear and quite frustrating as there\\nis no ssh (only a ftp) access and absolutely no simple guide and\\nworse, no logfile from apache (you see quite often an \"error 500\"\\nwithout any cue as what is going wrong)</p></li>\\n</ul></body>'\n",
      "'<ul class=\"simple\">\\n<li><p>due to a disruption on my previous server, I had to move in a rush to\\na new server.</p></li>\\n</ul>\\n<!-- TEASER_END -->\\n<ul>\\n<li><p>choosing the right provider</p>\\n<ul class=\"simple\">\\n<li><p><a class=\"reference external\" href=\"http://240plan.ovh.net/infos/python.cgi\">http://240plan.ovh.net/infos/python.cgi</a></p></li>\\n<li><p><a class=\"reference external\" href=\"http://240plan.ovh.net/net2ftp/index.php\">http://240plan.ovh.net/net2ftp/index.php</a></p></li>\\n</ul>\\n</li>\\n<li><p>getting a basic MoinMoin instance running</p>\\n<ul class=\"simple\">\\n<li><p><a class=\"reference external\" href=\"http://moinmo.in/via_ftp_on_vserver\">http://moinmo.in/via_ftp_on_vserver</a></p></li>\\n<li><p><a class=\"reference external\" href=\"http://hg.moinmo.in/moin/1.9/raw-file/1.9.3/docs/REQUIREMENTS\">http://hg.moinmo.in/moin/1.9/raw-file/1.9.3/docs/REQUIREMENTS</a></p></li>\\n</ul>\\n</li>\\n<li><p>getting the path of the pages on the server using the <code class=\"docutils literal\">explore.py</code>\\nscript in\\n<a class=\"reference external\" href=\"http://wiki.python.org/jython/HelpOnInstalling/ApacheOnLinuxFtp\">http://wiki.python.org/jython/HelpOnInstalling/ApacheOnLinuxFtp</a></p></li>\\n<li><p>setting up an empty MoinMoin instance, using:</p>\\n<ul>\\n<li><p>the following <code class=\"docutils literal\"><span class=\"pre\">cgi-bin/index.cgi</span></code> script:</p>\\n<pre class=\"literal-block\"> 1 #!/usr/bin/python\\n 2\\n 3 import sys, os\\n 4\\n 5 sys.path.insert(0, \\'/homez.52/invibe/moin\\')\\n 6\\n 7 os.environ[\\'FCGI_FORCE_CGI\\'] = \\'N\\' # \\'Y\\' for (slow) CGI, \\'N\\' for FCGI\\n 8\\n 9 from MoinMoin.web.flup_frontend import CGIFrontEnd\\n10 CGIFrontEnd().run()</pre>\\n</li>\\n<li><p>setting up the right path in <code class=\"docutils literal\">xikiconfig.py</code> :</p>\\n<pre class=\"literal-block\">1     data_dir = \\'/homez.52/invibe/moin/data/\\'\\n2     data_underlay_dir = \\'/homez.52/invibe/moin/underlay_min/\\'\\n3     url_prefix_static = \\'/moin_static193\\'\\n4     url_mappings = {\\'/cgi-bin/index.cgi\\':\\'/LaurentPerrinet\\'}</pre>\\n</li>\\n<li><p>note that I installed the htdocs as <code class=\"docutils literal\">www/moin_static193</code></p></li>\\n</ul>\\n</li>\\n<li><p>once functional, getting my old stuff on the new server</p>\\n<ul class=\"simple\">\\n<li><p>do not forget to set up permissions to <code class=\"docutils literal\">755</code> on the site (I used\\ntheir online ftp tool for that -\\n<a class=\"reference external\" href=\"http://240plan.ovh.net/net2ftp/index.php\">http://240plan.ovh.net/net2ftp/index.php</a>\\n)</p></li>\\n</ul>\\n</li>\\n<li><p>rewrite rule</p>\\n<ul>\\n<li><p><a class=\"reference external\" href=\"http://rabaix.net/en/articles/2007/08/31/how-to-install-django-on-ovh-net\">http://rabaix.net/en/articles/2007/08/31/how-to-install-django-on-ovh-net</a></p></li>\\n<li><p><a class=\"reference external\" href=\"http://guide.ovh.com/HtaccessModRewrite\">http://guide.ovh.com/HtaccessModRewrite</a></p></li>\\n<li><p>I opted for this config in the <code class=\"docutils literal\"><span class=\"pre\">www/.htaccess</span></code> file:</p>\\n<pre class=\"literal-block\">Options +FollowSymlinks\\nRewriteEngine on\\nRewriteRule ^LaurentPerrinet$  LaurentPerrinet/ [L]\\nRewriteRule ^LaurentPerrinet(.*)$  /cgi-bin/index.cgi$1 [L]\\nRewriteRule !(moin_static193|images|robots.txt|favicon.ico|cgi-bin) LaurentPerrinet  [L]</pre>\\n</li>\\n</ul>\\n</li>\\n<li><p>overall, this process was not linear and quite frustrating as there\\nis no ssh (only a ftp) access and absolutely no simple guide and\\nworse, no logfile from apache (you see quite often an \"error 500\"\\nwithout any cue as what is going wrong)</p></li>\\n</ul>'\n",
      "'<ul class=\"simple\">\\n<li><p>due to a disruption on my previous server, I had to move in a rush to\\na new server.</p></li>\\n</ul>\\n<!-- TEASER_END -->\\n<ul>\\n<li><p>choosing the right provider</p>\\n<ul class=\"simple\">\\n<li><p><a class=\"reference external\" href=\"http://240plan.ovh.net/infos/python.cgi\">http://240plan.ovh.net/infos/python.cgi</a></p></li>\\n<li><p><a class=\"reference external\" href=\"http://240plan.ovh.net/net2ftp/index.php\">http://240plan.ovh.net/net2ftp/index.php</a></p></li>\\n</ul>\\n</li>\\n<li><p>getting a basic MoinMoin instance running</p>\\n<ul class=\"simple\">\\n<li><p><a class=\"reference external\" href=\"http://moinmo.in/via_ftp_on_vserver\">http://moinmo.in/via_ftp_on_vserver</a></p></li>\\n<li><p><a class=\"reference external\" href=\"http://hg.moinmo.in/moin/1.9/raw-file/1.9.3/docs/REQUIREMENTS\">http://hg.moinmo.in/moin/1.9/raw-file/1.9.3/docs/REQUIREMENTS</a></p></li>\\n</ul>\\n</li>\\n<li><p>getting the path of the pages on the server using the <code class=\"docutils literal\">explore.py</code>\\nscript in\\n<a class=\"reference external\" href=\"http://wiki.python.org/jython/HelpOnInstalling/ApacheOnLinuxFtp\">http://wiki.python.org/jython/HelpOnInstalling/ApacheOnLinuxFtp</a></p></li>\\n<li><p>setting up an empty MoinMoin instance, using:</p>\\n<ul>\\n<li><p>the following <code class=\"docutils literal\"><span class=\"pre\">cgi-bin/index.cgi</span></code> script:</p>\\n<pre class=\"literal-block\"> 1 #!/usr/bin/python\\n 2\\n 3 import sys, os\\n 4\\n 5 sys.path.insert(0, \\'/homez.52/invibe/moin\\')\\n 6\\n 7 os.environ[\\'FCGI_FORCE_CGI\\'] = \\'N\\' # \\'Y\\' for (slow) CGI, \\'N\\' for FCGI\\n 8\\n 9 from MoinMoin.web.flup_frontend import CGIFrontEnd\\n10 CGIFrontEnd().run()</pre>\\n</li>\\n<li><p>setting up the right path in <code class=\"docutils literal\">xikiconfig.py</code> :</p>\\n<pre class=\"literal-block\">1     data_dir = \\'/homez.52/invibe/moin/data/\\'\\n2     data_underlay_dir = \\'/homez.52/invibe/moin/underlay_min/\\'\\n3     url_prefix_static = \\'/moin_static193\\'\\n4     url_mappings = {\\'/cgi-bin/index.cgi\\':\\'/LaurentPerrinet\\'}</pre>\\n</li>\\n<li><p>note that I installed the htdocs as <code class=\"docutils literal\">www/moin_static193</code></p></li>\\n</ul>\\n</li>\\n<li><p>once functional, getting my old stuff on the new server</p>\\n<ul class=\"simple\">\\n<li><p>do not forget to set up permissions to <code class=\"docutils literal\">755</code> on the site (I used\\ntheir online ftp tool for that -\\n<a class=\"reference external\" href=\"http://240plan.ovh.net/net2ftp/index.php\">http://240plan.ovh.net/net2ftp/index.php</a>\\n)</p></li>\\n</ul>\\n</li>\\n<li><p>rewrite rule</p>\\n<ul>\\n<li><p><a class=\"reference external\" href=\"http://rabaix.net/en/articles/2007/08/31/how-to-install-django-on-ovh-net\">http://rabaix.net/en/articles/2007/08/31/how-to-install-django-on-ovh-net</a></p></li>\\n<li><p><a class=\"reference external\" href=\"http://guide.ovh.com/HtaccessModRewrite\">http://guide.ovh.com/HtaccessModRewrite</a></p></li>\\n<li><p>I opted for this config in the <code class=\"docutils literal\"><span class=\"pre\">www/.htaccess</span></code> file:</p>\\n<pre class=\"literal-block\">Options +FollowSymlinks\\nRewriteEngine on\\nRewriteRule ^LaurentPerrinet$  LaurentPerrinet/ [L]\\nRewriteRule ^LaurentPerrinet(.*)$  /cgi-bin/index.cgi$1 [L]\\nRewriteRule !(moin_static193|images|robots.txt|favicon.ico|cgi-bin) LaurentPerrinet  [L]</pre>\\n</li>\\n</ul>\\n</li>\\n<li><p>overall, this process was not linear and quite frustrating as there\\nis no ssh (only a ftp) access and absolutely no simple guide and\\nworse, no logfile from apache (you see quite often an \"error 500\"\\nwithout any cue as what is going wrong)</p></li>\\n</ul></body>'\n",
      "'<ul class=\"simple\">\\n<li><p>due to a disruption on my previous server, I had to move in a rush to\\na new server.</p></li>\\n</ul>\\n<!-- TEASER_END -->\\n<ul>\\n<li><p>choosing the right provider</p>\\n<ul class=\"simple\">\\n<li><p><a class=\"reference external\" href=\"http://240plan.ovh.net/infos/python.cgi\">http://240plan.ovh.net/infos/python.cgi</a></p></li>\\n<li><p><a class=\"reference external\" href=\"http://240plan.ovh.net/net2ftp/index.php\">http://240plan.ovh.net/net2ftp/index.php</a></p></li>\\n</ul>\\n</li>\\n<li><p>getting a basic MoinMoin instance running</p>\\n<ul class=\"simple\">\\n<li><p><a class=\"reference external\" href=\"http://moinmo.in/via_ftp_on_vserver\">http://moinmo.in/via_ftp_on_vserver</a></p></li>\\n<li><p><a class=\"reference external\" href=\"http://hg.moinmo.in/moin/1.9/raw-file/1.9.3/docs/REQUIREMENTS\">http://hg.moinmo.in/moin/1.9/raw-file/1.9.3/docs/REQUIREMENTS</a></p></li>\\n</ul>\\n</li>\\n<li><p>getting the path of the pages on the server using the <code class=\"docutils literal\">explore.py</code>\\nscript in\\n<a class=\"reference external\" href=\"http://wiki.python.org/jython/HelpOnInstalling/ApacheOnLinuxFtp\">http://wiki.python.org/jython/HelpOnInstalling/ApacheOnLinuxFtp</a></p></li>\\n<li><p>setting up an empty MoinMoin instance, using:</p>\\n<ul>\\n<li><p>the following <code class=\"docutils literal\"><span class=\"pre\">cgi-bin/index.cgi</span></code> script:</p>\\n<pre class=\"literal-block\"> 1 #!/usr/bin/python\\n 2\\n 3 import sys, os\\n 4\\n 5 sys.path.insert(0, \\'/homez.52/invibe/moin\\')\\n 6\\n 7 os.environ[\\'FCGI_FORCE_CGI\\'] = \\'N\\' # \\'Y\\' for (slow) CGI, \\'N\\' for FCGI\\n 8\\n 9 from MoinMoin.web.flup_frontend import CGIFrontEnd\\n10 CGIFrontEnd().run()</pre>\\n</li>\\n<li><p>setting up the right path in <code class=\"docutils literal\">xikiconfig.py</code> :</p>\\n<pre class=\"literal-block\">1     data_dir = \\'/homez.52/invibe/moin/data/\\'\\n2     data_underlay_dir = \\'/homez.52/invibe/moin/underlay_min/\\'\\n3     url_prefix_static = \\'/moin_static193\\'\\n4     url_mappings = {\\'/cgi-bin/index.cgi\\':\\'/LaurentPerrinet\\'}</pre>\\n</li>\\n<li><p>note that I installed the htdocs as <code class=\"docutils literal\">www/moin_static193</code></p></li>\\n</ul>\\n</li>\\n<li><p>once functional, getting my old stuff on the new server</p>\\n<ul class=\"simple\">\\n<li><p>do not forget to set up permissions to <code class=\"docutils literal\">755</code> on the site (I used\\ntheir online ftp tool for that -\\n<a class=\"reference external\" href=\"http://240plan.ovh.net/net2ftp/index.php\">http://240plan.ovh.net/net2ftp/index.php</a>\\n)</p></li>\\n</ul>\\n</li>\\n<li><p>rewrite rule</p>\\n<ul>\\n<li><p><a class=\"reference external\" href=\"http://rabaix.net/en/articles/2007/08/31/how-to-install-django-on-ovh-net\">http://rabaix.net/en/articles/2007/08/31/how-to-install-django-on-ovh-net</a></p></li>\\n<li><p><a class=\"reference external\" href=\"http://guide.ovh.com/HtaccessModRewrite\">http://guide.ovh.com/HtaccessModRewrite</a></p></li>\\n<li><p>I opted for this config in the <code class=\"docutils literal\"><span class=\"pre\">www/.htaccess</span></code> file:</p>\\n<pre class=\"literal-block\">Options +FollowSymlinks\\nRewriteEngine on\\nRewriteRule ^LaurentPerrinet$  LaurentPerrinet/ [L]\\nRewriteRule ^LaurentPerrinet(.*)$  /cgi-bin/index.cgi$1 [L]\\nRewriteRule !(moin_static193|images|robots.txt|favicon.ico|cgi-bin) LaurentPerrinet  [L]</pre>\\n</li>\\n</ul>\\n</li>\\n<li><p>overall, this process was not linear and quite frustrating as there\\nis no ssh (only a ftp) access and absolutely no simple guide and\\nworse, no logfile from apache (you see quite often an \"error 500\"\\nwithout any cue as what is going wrong)</p></li>\\n</ul>'\n",
      "'<ul class=\"simple\">\\n<li><p>due to a disruption on my previous server, I had to move in a rush to\\na new server.</p></li>\\n</ul>\\n</body>'\n",
      "'<ul class=\"simple\">\\n<li><p>due to a disruption on my previous server, I had to move in a rush to\\na new server.</p></li>\\n</ul>'\n",
      "'<ul class=\"simple\">\\n<li><p>due to a disruption on my previous server, I had to move in a rush to\\na new server.</p></li>\\n</ul></body>'\n",
      "'<ul class=\"simple\">\\n<li><p>due to a disruption on my previous server, I had to move in a rush to\\na new server.</p></li>\\n</ul>'\n",
      "'<div><ul class=\"simple\">\\n<li><p>due to a disruption on my previous server, I had to move in a rush to\\na new server.</p></li>\\n</ul>\\n<p class=\"more\"><a href=\"/posts/2012-01-07-installing-MoinMoin-on-a-OVH-server.html\">Read more…</a></p></div></body>'\n",
      "'<div><ul class=\"simple\">\\n<li><p>due to a disruption on my previous server, I had to move in a rush to\\na new server.</p></li>\\n</ul>\\n<p class=\"more\"><a href=\"/posts/2012-01-07-installing-MoinMoin-on-a-OVH-server.html\">Read more…</a></p></div>'\n",
      "'<div class=\"section\" id=\"the-poll\">\\n<h1>the poll</h1>\\n<ul class=\"simple\">\\n<li><p>On april 1st, 2011, I sent the following message to the comp-neuro\\nand connectionists lists: (see\\n<a class=\"reference external\" href=\"http://www.neuroinf.org/pipermail/comp-neuro/2011-April/002613.html\">http://www.neuroinf.org/pipermail/comp-neuro/2011-April/002613.html</a></p></li>\\n</ul>\\n<!-- TEASER_END -->\\n<ul>\\n<li><pre class=\"literal-block\">Dear list\\n\\nA recent paper in PLoS Computational Biology\\n\\n&gt; The Roots of Bioinformatics in Theoretical Biology\\n&gt; Paulien Hogeweg\\n&gt; Volume 7(3) March 2011 http://www.ploscompbiol.org/article/info%3Adoi%2F10.1371%2Fjournal.pcbi.1002021\\n\\nmakes a point in the evolution of the meaning of the field of bioinformatics with the advent of data-driven modeling.\\n\\nThe same seems to have appeared in computational neuroscience. The sense slowly drifted from the original papers (such as Science, Vol. 241, No. 4871, 1988, pp. 1299-1306. by T. J. Sejnowski, C. Koch, P. S. Churchland) which I believed is perfectly captured in the sentence: \"The ultimate aim of computational neuroscience is to explain how electrical and chemical signals are used in the brain to represent and process information.\"  (this does not exclude using computers of course).\\n\\nIt seems to be solely a semantical problem, but this may generate some confusion (realpolitik translation: \"and this may hinder the efficiency of your grant proposal\"). Recently an (anonymous) colleague told me they called their group \"computational AND theoretical neuroscience\" (just as these two fields where separated) out of the lack of consensus on the meaning of words and to not exclude anyone. Nowadays, even in the university, there is a continuum of fields combining biology,  mathematics or computer science and all computational neuroscientists reflect this as individuals. so what\\'s the situation in 2011?\\n\\nI often asked to fellow colleagues this question, \"what is computational neuroscience?\" and often got one of these answers (I try to be unbiased - please correct me):\\n\\n [ ] it is a field of neuroscience involving the use of computers (von Neumann machines, Dell boxes, macbooks, ...) to simulate and analyze data obtained from experimental neuroscience and advance our knowledge from this dialogue. Theoretical neuroscience is different in the sense that it proposes mathematical models of how it works.\\n\\n [ ] it is the field of neuroscience studying how information is represented and processed in neural activity. This involves a dialogue with experimental neuroscience to analyze and propose experiments. It proposes models, that is theories for the relation between function and structure. Theoretical neuroscience is a subset of computational neuroscience that tries to express these models in standard mathematical language.\\n\\n [ ] it is some field of neuroscience and why would you care to give an exact definition? its frontiers are moving and it has many facets, theoretical neuroscience being just one example. it cares about being less ignorant on relation between function and structure in neuroscience.\\n\\nIf you want to express your opinion, you can so in one click:\\nhttps://spreadsheets.google.com/viewform?formkey=dDc5X2dJRS1zMHRiSndSNERWelBkQlE6MQ\\nresults :\\nhttps://spreadsheets.google.com/lv?key=0AueMPskll6yrdDc5X2dJRS1zMHRiSndSNERWelBkQlE&amp;hl=fr&amp;f=0&amp;rm=full#gid=0\\n\\ncheers,\\nLaurent</pre>\\n</li>\\n</ul>\\n</div>\\n<div class=\"section\" id=\"results\">\\n<h1>results</h1>\\n<ul>\\n<li><p>I have received 36 responses with the following results (see\\n<a class=\"reference external\" href=\"https://spreadsheets.google.com/lv?key=0AueMPskll6yrdDc5X2dJRS1zMHRiSndSNERWelBkQlE&amp;hl=fr&amp;f=0&amp;rm=full#gid=0\">https://spreadsheets.google.com/lv?key=0AueMPskll6yrdDc5X2dJRS1zMHRiSndSNERWelBkQlE&amp;hl=fr&amp;f=0&amp;rm=full#gid=0</a>\\n):</p>\\n<ol class=\"arabic\">\\n<li><p>[ 5 ] it is a field of neuroscience involving the use of computers\\n(von Neumann machines, Dell boxes, macbooks, ...) to simulate and\\nanalyze data obtained from experimental neuroscience and advance\\nour knowledge from this dialogue. Theoretical neuroscience is\\ndifferent in the sense that it proposes mathematical models of how\\nit works.</p></li>\\n<li><p>[ 21 ] it is the field of neuroscience studying how information is\\nrepresented and processed in neural activity. This involves a\\ndialogue with experimental neuroscience to analyze and propose\\nexperiments. It proposes models, that is theories for the relation\\nbetween function and structure. Theoretical neuroscience is a\\nsubset of computational neuroscience that tries to express these\\nmodels in standard mathematical language.</p>\\n<ul class=\"simple\">\\n<li><p>one answer is amended by \"is a sub-field of theoretical\\nneuroscience that seeks to understand how information is\\nrepresented and processed in the nervous system by implementing\\nand testing theories in the form of computer simulations.\"</p></li>\\n<li><p>another answer comments \"Not a definition, but a comment. Since\\nComp. Neurosci. (or whatever it should be called -- some people\\nnow call it Neurodynamics) is already such a small field and\\nbarely represented on the map, I think it is foolish to further\\nsubdivide it. That is why I like the first definition a bit\\nmore, such that both are collected under one roof.\"</p></li>\\n</ul>\\n</li>\\n<li><p>[ 6 ] it is some field of neuroscience and why would you care to\\ngive an exact definition? its frontiers are moving and it has many\\nfacets, theoretical neuroscience being just one example. it cares\\nabout being less ignorant on relation between function and\\nstructure in neuroscience.</p></li>\\n<li><p>[ 4 ] other free-form answers were given:</p>\\n<ol class=\"arabic\">\\n<li><p>with a slight modification to the first definition</p>\\n<pre class=\"literal-block\">I agree with definition (1) except the \"Theoretical neuroscience is a subset of ...\" as I might argue that \"Computational neuroscience is a subset of theoretical neuroscience\".</pre>\\n</li>\\n<li><p>with a new definition close to the aims of theoretical\\nneuroscience</p>\\n<pre class=\"literal-block\">it is field of neuroscience that use mathematical models to analyze the data obtained from experimental neuroscience. Therefore, it gives a logical result to it and it can be explained instead to be as a magic box</pre>\\n</li>\\n<li><p>to a strict \"computational\" view</p>\\n<pre class=\"literal-block\">It is the subset of theoretical neuroscience that hypothesises that the brain is a computer. This relates to the first definition to the extent that \\'computation\\' is identified with \\'information processing\\'. Theoretical neuroscience is simply the development of models (in any form, including mathematics or computer simulations) of neural processes. It is possible for a process to be simulated or analyzed using a computer - see the second definition - without claiming the process itself is an example of computation. \\'Computational neuroscience\\' usually implies this stronger claim, though it is now often used more loosely (definition three).</pre>\\n</li>\\n<li><p>or to the interesting view that these different approaches\\noverlap but correspond to different approaches:</p>\\n<pre class=\"literal-block\">In my view, theoretical neuroscience is the non-experimenting version of neuroscience, much like theoretical physics is the non-experimenting version of physics.\\n\\nI would argue that theoretical neuroscience and computational neuroscience are different in their approaches.\\n\\nComputational neuroscience has a strong focus on simulation. It is the \"virtual\" extension of electrophysiology. The modeling philosophies of GENESIS and Neuron clearly reflect this. So called \"biologically realistic\" simulations are the gold standard in computational neuroscience.\\n\\nTheoretical neuroscience, by contrast, has its focus on mathematical descriptions and properties of nervous structures. Theoretical neuroscience starts, when the experiments, real or simulated, are done. The excellent books of Henry Tuckwell illustrate this. Here, simulation is not the method of choice, but the last resort after all pencils are broken and all paper is used up ;-)\\n\\nAt best, I would say that there is overlap between the two rather than that one comprises the other.\\n\\nAnd while we are at definitions. Why not add the re-incarnated term of \"Neuroinformatics\" to the contest?</pre>\\n</li>\\n</ol>\\n</li>\\n</ol>\\n</li>\\n</ul>\\n</div>\\n<div class=\"section\" id=\"analysis\">\\n<h1>analysis</h1>\\n<ul class=\"simple\">\\n<li><p>While there is a strong majority of participants that express an\\nagreement with the \"standard\", original definition of computational\\nneuroscience from the original papers, discussions raised by this\\npoll show that there is no consensus. A good sign of health for the\\ncommunity!</p></li>\\n<li><p>some more pointers:\\n<a class=\"reference external\" href=\"http://en.wikipedia.org/wiki/Computational_neuroscience\">http://en.wikipedia.org/wiki/Computational_neuroscience</a>\\n-\\n<a class=\"reference external\" href=\"http://www.citeulike.org/tag/computational_neuroscience\">http://www.citeulike.org/tag/computational_neuroscience</a></p></li>\\n</ul>\\n</div></body>'\n",
      "'<div class=\"section\" id=\"the-poll\">\\n<h1>the poll</h1>\\n<ul class=\"simple\">\\n<li><p>On april 1st, 2011, I sent the following message to the comp-neuro\\nand connectionists lists: (see\\n<a class=\"reference external\" href=\"http://www.neuroinf.org/pipermail/comp-neuro/2011-April/002613.html\">http://www.neuroinf.org/pipermail/comp-neuro/2011-April/002613.html</a></p></li>\\n</ul>\\n<!-- TEASER_END -->\\n<ul>\\n<li><pre class=\"literal-block\">Dear list\\n\\nA recent paper in PLoS Computational Biology\\n\\n&gt; The Roots of Bioinformatics in Theoretical Biology\\n&gt; Paulien Hogeweg\\n&gt; Volume 7(3) March 2011 http://www.ploscompbiol.org/article/info%3Adoi%2F10.1371%2Fjournal.pcbi.1002021\\n\\nmakes a point in the evolution of the meaning of the field of bioinformatics with the advent of data-driven modeling.\\n\\nThe same seems to have appeared in computational neuroscience. The sense slowly drifted from the original papers (such as Science, Vol. 241, No. 4871, 1988, pp. 1299-1306. by T. J. Sejnowski, C. Koch, P. S. Churchland) which I believed is perfectly captured in the sentence: \"The ultimate aim of computational neuroscience is to explain how electrical and chemical signals are used in the brain to represent and process information.\"  (this does not exclude using computers of course).\\n\\nIt seems to be solely a semantical problem, but this may generate some confusion (realpolitik translation: \"and this may hinder the efficiency of your grant proposal\"). Recently an (anonymous) colleague told me they called their group \"computational AND theoretical neuroscience\" (just as these two fields where separated) out of the lack of consensus on the meaning of words and to not exclude anyone. Nowadays, even in the university, there is a continuum of fields combining biology,  mathematics or computer science and all computational neuroscientists reflect this as individuals. so what\\'s the situation in 2011?\\n\\nI often asked to fellow colleagues this question, \"what is computational neuroscience?\" and often got one of these answers (I try to be unbiased - please correct me):\\n\\n [ ] it is a field of neuroscience involving the use of computers (von Neumann machines, Dell boxes, macbooks, ...) to simulate and analyze data obtained from experimental neuroscience and advance our knowledge from this dialogue. Theoretical neuroscience is different in the sense that it proposes mathematical models of how it works.\\n\\n [ ] it is the field of neuroscience studying how information is represented and processed in neural activity. This involves a dialogue with experimental neuroscience to analyze and propose experiments. It proposes models, that is theories for the relation between function and structure. Theoretical neuroscience is a subset of computational neuroscience that tries to express these models in standard mathematical language.\\n\\n [ ] it is some field of neuroscience and why would you care to give an exact definition? its frontiers are moving and it has many facets, theoretical neuroscience being just one example. it cares about being less ignorant on relation between function and structure in neuroscience.\\n\\nIf you want to express your opinion, you can so in one click:\\nhttps://spreadsheets.google.com/viewform?formkey=dDc5X2dJRS1zMHRiSndSNERWelBkQlE6MQ\\nresults :\\nhttps://spreadsheets.google.com/lv?key=0AueMPskll6yrdDc5X2dJRS1zMHRiSndSNERWelBkQlE&amp;hl=fr&amp;f=0&amp;rm=full#gid=0\\n\\ncheers,\\nLaurent</pre>\\n</li>\\n</ul>\\n</div>\\n<div class=\"section\" id=\"results\">\\n<h1>results</h1>\\n<ul>\\n<li><p>I have received 36 responses with the following results (see\\n<a class=\"reference external\" href=\"https://spreadsheets.google.com/lv?key=0AueMPskll6yrdDc5X2dJRS1zMHRiSndSNERWelBkQlE&amp;hl=fr&amp;f=0&amp;rm=full#gid=0\">https://spreadsheets.google.com/lv?key=0AueMPskll6yrdDc5X2dJRS1zMHRiSndSNERWelBkQlE&amp;hl=fr&amp;f=0&amp;rm=full#gid=0</a>\\n):</p>\\n<ol class=\"arabic\">\\n<li><p>[ 5 ] it is a field of neuroscience involving the use of computers\\n(von Neumann machines, Dell boxes, macbooks, ...) to simulate and\\nanalyze data obtained from experimental neuroscience and advance\\nour knowledge from this dialogue. Theoretical neuroscience is\\ndifferent in the sense that it proposes mathematical models of how\\nit works.</p></li>\\n<li><p>[ 21 ] it is the field of neuroscience studying how information is\\nrepresented and processed in neural activity. This involves a\\ndialogue with experimental neuroscience to analyze and propose\\nexperiments. It proposes models, that is theories for the relation\\nbetween function and structure. Theoretical neuroscience is a\\nsubset of computational neuroscience that tries to express these\\nmodels in standard mathematical language.</p>\\n<ul class=\"simple\">\\n<li><p>one answer is amended by \"is a sub-field of theoretical\\nneuroscience that seeks to understand how information is\\nrepresented and processed in the nervous system by implementing\\nand testing theories in the form of computer simulations.\"</p></li>\\n<li><p>another answer comments \"Not a definition, but a comment. Since\\nComp. Neurosci. (or whatever it should be called -- some people\\nnow call it Neurodynamics) is already such a small field and\\nbarely represented on the map, I think it is foolish to further\\nsubdivide it. That is why I like the first definition a bit\\nmore, such that both are collected under one roof.\"</p></li>\\n</ul>\\n</li>\\n<li><p>[ 6 ] it is some field of neuroscience and why would you care to\\ngive an exact definition? its frontiers are moving and it has many\\nfacets, theoretical neuroscience being just one example. it cares\\nabout being less ignorant on relation between function and\\nstructure in neuroscience.</p></li>\\n<li><p>[ 4 ] other free-form answers were given:</p>\\n<ol class=\"arabic\">\\n<li><p>with a slight modification to the first definition</p>\\n<pre class=\"literal-block\">I agree with definition (1) except the \"Theoretical neuroscience is a subset of ...\" as I might argue that \"Computational neuroscience is a subset of theoretical neuroscience\".</pre>\\n</li>\\n<li><p>with a new definition close to the aims of theoretical\\nneuroscience</p>\\n<pre class=\"literal-block\">it is field of neuroscience that use mathematical models to analyze the data obtained from experimental neuroscience. Therefore, it gives a logical result to it and it can be explained instead to be as a magic box</pre>\\n</li>\\n<li><p>to a strict \"computational\" view</p>\\n<pre class=\"literal-block\">It is the subset of theoretical neuroscience that hypothesises that the brain is a computer. This relates to the first definition to the extent that \\'computation\\' is identified with \\'information processing\\'. Theoretical neuroscience is simply the development of models (in any form, including mathematics or computer simulations) of neural processes. It is possible for a process to be simulated or analyzed using a computer - see the second definition - without claiming the process itself is an example of computation. \\'Computational neuroscience\\' usually implies this stronger claim, though it is now often used more loosely (definition three).</pre>\\n</li>\\n<li><p>or to the interesting view that these different approaches\\noverlap but correspond to different approaches:</p>\\n<pre class=\"literal-block\">In my view, theoretical neuroscience is the non-experimenting version of neuroscience, much like theoretical physics is the non-experimenting version of physics.\\n\\nI would argue that theoretical neuroscience and computational neuroscience are different in their approaches.\\n\\nComputational neuroscience has a strong focus on simulation. It is the \"virtual\" extension of electrophysiology. The modeling philosophies of GENESIS and Neuron clearly reflect this. So called \"biologically realistic\" simulations are the gold standard in computational neuroscience.\\n\\nTheoretical neuroscience, by contrast, has its focus on mathematical descriptions and properties of nervous structures. Theoretical neuroscience starts, when the experiments, real or simulated, are done. The excellent books of Henry Tuckwell illustrate this. Here, simulation is not the method of choice, but the last resort after all pencils are broken and all paper is used up ;-)\\n\\nAt best, I would say that there is overlap between the two rather than that one comprises the other.\\n\\nAnd while we are at definitions. Why not add the re-incarnated term of \"Neuroinformatics\" to the contest?</pre>\\n</li>\\n</ol>\\n</li>\\n</ol>\\n</li>\\n</ul>\\n</div>\\n<div class=\"section\" id=\"analysis\">\\n<h1>analysis</h1>\\n<ul class=\"simple\">\\n<li><p>While there is a strong majority of participants that express an\\nagreement with the \"standard\", original definition of computational\\nneuroscience from the original papers, discussions raised by this\\npoll show that there is no consensus. A good sign of health for the\\ncommunity!</p></li>\\n<li><p>some more pointers:\\n<a class=\"reference external\" href=\"http://en.wikipedia.org/wiki/Computational_neuroscience\">http://en.wikipedia.org/wiki/Computational_neuroscience</a>\\n-\\n<a class=\"reference external\" href=\"http://www.citeulike.org/tag/computational_neuroscience\">http://www.citeulike.org/tag/computational_neuroscience</a></p></li>\\n</ul>\\n</div>'\n",
      "'<div class=\"section\" id=\"the-poll\">\\n<h1>the poll</h1>\\n<ul class=\"simple\">\\n<li><p>On april 1st, 2011, I sent the following message to the comp-neuro\\nand connectionists lists: (see\\n<a class=\"reference external\" href=\"http://www.neuroinf.org/pipermail/comp-neuro/2011-April/002613.html\">http://www.neuroinf.org/pipermail/comp-neuro/2011-April/002613.html</a></p></li>\\n</ul>\\n<!-- TEASER_END -->\\n<ul>\\n<li><pre class=\"literal-block\">Dear list\\n\\nA recent paper in PLoS Computational Biology\\n\\n&gt; The Roots of Bioinformatics in Theoretical Biology\\n&gt; Paulien Hogeweg\\n&gt; Volume 7(3) March 2011 http://www.ploscompbiol.org/article/info%3Adoi%2F10.1371%2Fjournal.pcbi.1002021\\n\\nmakes a point in the evolution of the meaning of the field of bioinformatics with the advent of data-driven modeling.\\n\\nThe same seems to have appeared in computational neuroscience. The sense slowly drifted from the original papers (such as Science, Vol. 241, No. 4871, 1988, pp. 1299-1306. by T. J. Sejnowski, C. Koch, P. S. Churchland) which I believed is perfectly captured in the sentence: \"The ultimate aim of computational neuroscience is to explain how electrical and chemical signals are used in the brain to represent and process information.\"  (this does not exclude using computers of course).\\n\\nIt seems to be solely a semantical problem, but this may generate some confusion (realpolitik translation: \"and this may hinder the efficiency of your grant proposal\"). Recently an (anonymous) colleague told me they called their group \"computational AND theoretical neuroscience\" (just as these two fields where separated) out of the lack of consensus on the meaning of words and to not exclude anyone. Nowadays, even in the university, there is a continuum of fields combining biology,  mathematics or computer science and all computational neuroscientists reflect this as individuals. so what\\'s the situation in 2011?\\n\\nI often asked to fellow colleagues this question, \"what is computational neuroscience?\" and often got one of these answers (I try to be unbiased - please correct me):\\n\\n [ ] it is a field of neuroscience involving the use of computers (von Neumann machines, Dell boxes, macbooks, ...) to simulate and analyze data obtained from experimental neuroscience and advance our knowledge from this dialogue. Theoretical neuroscience is different in the sense that it proposes mathematical models of how it works.\\n\\n [ ] it is the field of neuroscience studying how information is represented and processed in neural activity. This involves a dialogue with experimental neuroscience to analyze and propose experiments. It proposes models, that is theories for the relation between function and structure. Theoretical neuroscience is a subset of computational neuroscience that tries to express these models in standard mathematical language.\\n\\n [ ] it is some field of neuroscience and why would you care to give an exact definition? its frontiers are moving and it has many facets, theoretical neuroscience being just one example. it cares about being less ignorant on relation between function and structure in neuroscience.\\n\\nIf you want to express your opinion, you can so in one click:\\nhttps://spreadsheets.google.com/viewform?formkey=dDc5X2dJRS1zMHRiSndSNERWelBkQlE6MQ\\nresults :\\nhttps://spreadsheets.google.com/lv?key=0AueMPskll6yrdDc5X2dJRS1zMHRiSndSNERWelBkQlE&amp;hl=fr&amp;f=0&amp;rm=full#gid=0\\n\\ncheers,\\nLaurent</pre>\\n</li>\\n</ul>\\n</div>\\n<div class=\"section\" id=\"results\">\\n<h1>results</h1>\\n<ul>\\n<li><p>I have received 36 responses with the following results (see\\n<a class=\"reference external\" href=\"https://spreadsheets.google.com/lv?key=0AueMPskll6yrdDc5X2dJRS1zMHRiSndSNERWelBkQlE&amp;hl=fr&amp;f=0&amp;rm=full#gid=0\">https://spreadsheets.google.com/lv?key=0AueMPskll6yrdDc5X2dJRS1zMHRiSndSNERWelBkQlE&amp;hl=fr&amp;f=0&amp;rm=full#gid=0</a>\\n):</p>\\n<ol class=\"arabic\">\\n<li><p>[ 5 ] it is a field of neuroscience involving the use of computers\\n(von Neumann machines, Dell boxes, macbooks, ...) to simulate and\\nanalyze data obtained from experimental neuroscience and advance\\nour knowledge from this dialogue. Theoretical neuroscience is\\ndifferent in the sense that it proposes mathematical models of how\\nit works.</p></li>\\n<li><p>[ 21 ] it is the field of neuroscience studying how information is\\nrepresented and processed in neural activity. This involves a\\ndialogue with experimental neuroscience to analyze and propose\\nexperiments. It proposes models, that is theories for the relation\\nbetween function and structure. Theoretical neuroscience is a\\nsubset of computational neuroscience that tries to express these\\nmodels in standard mathematical language.</p>\\n<ul class=\"simple\">\\n<li><p>one answer is amended by \"is a sub-field of theoretical\\nneuroscience that seeks to understand how information is\\nrepresented and processed in the nervous system by implementing\\nand testing theories in the form of computer simulations.\"</p></li>\\n<li><p>another answer comments \"Not a definition, but a comment. Since\\nComp. Neurosci. (or whatever it should be called -- some people\\nnow call it Neurodynamics) is already such a small field and\\nbarely represented on the map, I think it is foolish to further\\nsubdivide it. That is why I like the first definition a bit\\nmore, such that both are collected under one roof.\"</p></li>\\n</ul>\\n</li>\\n<li><p>[ 6 ] it is some field of neuroscience and why would you care to\\ngive an exact definition? its frontiers are moving and it has many\\nfacets, theoretical neuroscience being just one example. it cares\\nabout being less ignorant on relation between function and\\nstructure in neuroscience.</p></li>\\n<li><p>[ 4 ] other free-form answers were given:</p>\\n<ol class=\"arabic\">\\n<li><p>with a slight modification to the first definition</p>\\n<pre class=\"literal-block\">I agree with definition (1) except the \"Theoretical neuroscience is a subset of ...\" as I might argue that \"Computational neuroscience is a subset of theoretical neuroscience\".</pre>\\n</li>\\n<li><p>with a new definition close to the aims of theoretical\\nneuroscience</p>\\n<pre class=\"literal-block\">it is field of neuroscience that use mathematical models to analyze the data obtained from experimental neuroscience. Therefore, it gives a logical result to it and it can be explained instead to be as a magic box</pre>\\n</li>\\n<li><p>to a strict \"computational\" view</p>\\n<pre class=\"literal-block\">It is the subset of theoretical neuroscience that hypothesises that the brain is a computer. This relates to the first definition to the extent that \\'computation\\' is identified with \\'information processing\\'. Theoretical neuroscience is simply the development of models (in any form, including mathematics or computer simulations) of neural processes. It is possible for a process to be simulated or analyzed using a computer - see the second definition - without claiming the process itself is an example of computation. \\'Computational neuroscience\\' usually implies this stronger claim, though it is now often used more loosely (definition three).</pre>\\n</li>\\n<li><p>or to the interesting view that these different approaches\\noverlap but correspond to different approaches:</p>\\n<pre class=\"literal-block\">In my view, theoretical neuroscience is the non-experimenting version of neuroscience, much like theoretical physics is the non-experimenting version of physics.\\n\\nI would argue that theoretical neuroscience and computational neuroscience are different in their approaches.\\n\\nComputational neuroscience has a strong focus on simulation. It is the \"virtual\" extension of electrophysiology. The modeling philosophies of GENESIS and Neuron clearly reflect this. So called \"biologically realistic\" simulations are the gold standard in computational neuroscience.\\n\\nTheoretical neuroscience, by contrast, has its focus on mathematical descriptions and properties of nervous structures. Theoretical neuroscience starts, when the experiments, real or simulated, are done. The excellent books of Henry Tuckwell illustrate this. Here, simulation is not the method of choice, but the last resort after all pencils are broken and all paper is used up ;-)\\n\\nAt best, I would say that there is overlap between the two rather than that one comprises the other.\\n\\nAnd while we are at definitions. Why not add the re-incarnated term of \"Neuroinformatics\" to the contest?</pre>\\n</li>\\n</ol>\\n</li>\\n</ol>\\n</li>\\n</ul>\\n</div>\\n<div class=\"section\" id=\"analysis\">\\n<h1>analysis</h1>\\n<ul class=\"simple\">\\n<li><p>While there is a strong majority of participants that express an\\nagreement with the \"standard\", original definition of computational\\nneuroscience from the original papers, discussions raised by this\\npoll show that there is no consensus. A good sign of health for the\\ncommunity!</p></li>\\n<li><p>some more pointers:\\n<a class=\"reference external\" href=\"http://en.wikipedia.org/wiki/Computational_neuroscience\">http://en.wikipedia.org/wiki/Computational_neuroscience</a>\\n-\\n<a class=\"reference external\" href=\"http://www.citeulike.org/tag/computational_neuroscience\">http://www.citeulike.org/tag/computational_neuroscience</a></p></li>\\n</ul>\\n</div></body>'\n",
      "'<div class=\"section\" id=\"the-poll\">\\n<h1>the poll</h1>\\n<ul class=\"simple\">\\n<li><p>On april 1st, 2011, I sent the following message to the comp-neuro\\nand connectionists lists: (see\\n<a class=\"reference external\" href=\"http://www.neuroinf.org/pipermail/comp-neuro/2011-April/002613.html\">http://www.neuroinf.org/pipermail/comp-neuro/2011-April/002613.html</a></p></li>\\n</ul>\\n<!-- TEASER_END -->\\n<ul>\\n<li><pre class=\"literal-block\">Dear list\\n\\nA recent paper in PLoS Computational Biology\\n\\n&gt; The Roots of Bioinformatics in Theoretical Biology\\n&gt; Paulien Hogeweg\\n&gt; Volume 7(3) March 2011 http://www.ploscompbiol.org/article/info%3Adoi%2F10.1371%2Fjournal.pcbi.1002021\\n\\nmakes a point in the evolution of the meaning of the field of bioinformatics with the advent of data-driven modeling.\\n\\nThe same seems to have appeared in computational neuroscience. The sense slowly drifted from the original papers (such as Science, Vol. 241, No. 4871, 1988, pp. 1299-1306. by T. J. Sejnowski, C. Koch, P. S. Churchland) which I believed is perfectly captured in the sentence: \"The ultimate aim of computational neuroscience is to explain how electrical and chemical signals are used in the brain to represent and process information.\"  (this does not exclude using computers of course).\\n\\nIt seems to be solely a semantical problem, but this may generate some confusion (realpolitik translation: \"and this may hinder the efficiency of your grant proposal\"). Recently an (anonymous) colleague told me they called their group \"computational AND theoretical neuroscience\" (just as these two fields where separated) out of the lack of consensus on the meaning of words and to not exclude anyone. Nowadays, even in the university, there is a continuum of fields combining biology,  mathematics or computer science and all computational neuroscientists reflect this as individuals. so what\\'s the situation in 2011?\\n\\nI often asked to fellow colleagues this question, \"what is computational neuroscience?\" and often got one of these answers (I try to be unbiased - please correct me):\\n\\n [ ] it is a field of neuroscience involving the use of computers (von Neumann machines, Dell boxes, macbooks, ...) to simulate and analyze data obtained from experimental neuroscience and advance our knowledge from this dialogue. Theoretical neuroscience is different in the sense that it proposes mathematical models of how it works.\\n\\n [ ] it is the field of neuroscience studying how information is represented and processed in neural activity. This involves a dialogue with experimental neuroscience to analyze and propose experiments. It proposes models, that is theories for the relation between function and structure. Theoretical neuroscience is a subset of computational neuroscience that tries to express these models in standard mathematical language.\\n\\n [ ] it is some field of neuroscience and why would you care to give an exact definition? its frontiers are moving and it has many facets, theoretical neuroscience being just one example. it cares about being less ignorant on relation between function and structure in neuroscience.\\n\\nIf you want to express your opinion, you can so in one click:\\nhttps://spreadsheets.google.com/viewform?formkey=dDc5X2dJRS1zMHRiSndSNERWelBkQlE6MQ\\nresults :\\nhttps://spreadsheets.google.com/lv?key=0AueMPskll6yrdDc5X2dJRS1zMHRiSndSNERWelBkQlE&amp;hl=fr&amp;f=0&amp;rm=full#gid=0\\n\\ncheers,\\nLaurent</pre>\\n</li>\\n</ul>\\n</div>\\n<div class=\"section\" id=\"results\">\\n<h1>results</h1>\\n<ul>\\n<li><p>I have received 36 responses with the following results (see\\n<a class=\"reference external\" href=\"https://spreadsheets.google.com/lv?key=0AueMPskll6yrdDc5X2dJRS1zMHRiSndSNERWelBkQlE&amp;hl=fr&amp;f=0&amp;rm=full#gid=0\">https://spreadsheets.google.com/lv?key=0AueMPskll6yrdDc5X2dJRS1zMHRiSndSNERWelBkQlE&amp;hl=fr&amp;f=0&amp;rm=full#gid=0</a>\\n):</p>\\n<ol class=\"arabic\">\\n<li><p>[ 5 ] it is a field of neuroscience involving the use of computers\\n(von Neumann machines, Dell boxes, macbooks, ...) to simulate and\\nanalyze data obtained from experimental neuroscience and advance\\nour knowledge from this dialogue. Theoretical neuroscience is\\ndifferent in the sense that it proposes mathematical models of how\\nit works.</p></li>\\n<li><p>[ 21 ] it is the field of neuroscience studying how information is\\nrepresented and processed in neural activity. This involves a\\ndialogue with experimental neuroscience to analyze and propose\\nexperiments. It proposes models, that is theories for the relation\\nbetween function and structure. Theoretical neuroscience is a\\nsubset of computational neuroscience that tries to express these\\nmodels in standard mathematical language.</p>\\n<ul class=\"simple\">\\n<li><p>one answer is amended by \"is a sub-field of theoretical\\nneuroscience that seeks to understand how information is\\nrepresented and processed in the nervous system by implementing\\nand testing theories in the form of computer simulations.\"</p></li>\\n<li><p>another answer comments \"Not a definition, but a comment. Since\\nComp. Neurosci. (or whatever it should be called -- some people\\nnow call it Neurodynamics) is already such a small field and\\nbarely represented on the map, I think it is foolish to further\\nsubdivide it. That is why I like the first definition a bit\\nmore, such that both are collected under one roof.\"</p></li>\\n</ul>\\n</li>\\n<li><p>[ 6 ] it is some field of neuroscience and why would you care to\\ngive an exact definition? its frontiers are moving and it has many\\nfacets, theoretical neuroscience being just one example. it cares\\nabout being less ignorant on relation between function and\\nstructure in neuroscience.</p></li>\\n<li><p>[ 4 ] other free-form answers were given:</p>\\n<ol class=\"arabic\">\\n<li><p>with a slight modification to the first definition</p>\\n<pre class=\"literal-block\">I agree with definition (1) except the \"Theoretical neuroscience is a subset of ...\" as I might argue that \"Computational neuroscience is a subset of theoretical neuroscience\".</pre>\\n</li>\\n<li><p>with a new definition close to the aims of theoretical\\nneuroscience</p>\\n<pre class=\"literal-block\">it is field of neuroscience that use mathematical models to analyze the data obtained from experimental neuroscience. Therefore, it gives a logical result to it and it can be explained instead to be as a magic box</pre>\\n</li>\\n<li><p>to a strict \"computational\" view</p>\\n<pre class=\"literal-block\">It is the subset of theoretical neuroscience that hypothesises that the brain is a computer. This relates to the first definition to the extent that \\'computation\\' is identified with \\'information processing\\'. Theoretical neuroscience is simply the development of models (in any form, including mathematics or computer simulations) of neural processes. It is possible for a process to be simulated or analyzed using a computer - see the second definition - without claiming the process itself is an example of computation. \\'Computational neuroscience\\' usually implies this stronger claim, though it is now often used more loosely (definition three).</pre>\\n</li>\\n<li><p>or to the interesting view that these different approaches\\noverlap but correspond to different approaches:</p>\\n<pre class=\"literal-block\">In my view, theoretical neuroscience is the non-experimenting version of neuroscience, much like theoretical physics is the non-experimenting version of physics.\\n\\nI would argue that theoretical neuroscience and computational neuroscience are different in their approaches.\\n\\nComputational neuroscience has a strong focus on simulation. It is the \"virtual\" extension of electrophysiology. The modeling philosophies of GENESIS and Neuron clearly reflect this. So called \"biologically realistic\" simulations are the gold standard in computational neuroscience.\\n\\nTheoretical neuroscience, by contrast, has its focus on mathematical descriptions and properties of nervous structures. Theoretical neuroscience starts, when the experiments, real or simulated, are done. The excellent books of Henry Tuckwell illustrate this. Here, simulation is not the method of choice, but the last resort after all pencils are broken and all paper is used up ;-)\\n\\nAt best, I would say that there is overlap between the two rather than that one comprises the other.\\n\\nAnd while we are at definitions. Why not add the re-incarnated term of \"Neuroinformatics\" to the contest?</pre>\\n</li>\\n</ol>\\n</li>\\n</ol>\\n</li>\\n</ul>\\n</div>\\n<div class=\"section\" id=\"analysis\">\\n<h1>analysis</h1>\\n<ul class=\"simple\">\\n<li><p>While there is a strong majority of participants that express an\\nagreement with the \"standard\", original definition of computational\\nneuroscience from the original papers, discussions raised by this\\npoll show that there is no consensus. A good sign of health for the\\ncommunity!</p></li>\\n<li><p>some more pointers:\\n<a class=\"reference external\" href=\"http://en.wikipedia.org/wiki/Computational_neuroscience\">http://en.wikipedia.org/wiki/Computational_neuroscience</a>\\n-\\n<a class=\"reference external\" href=\"http://www.citeulike.org/tag/computational_neuroscience\">http://www.citeulike.org/tag/computational_neuroscience</a></p></li>\\n</ul>\\n</div>'\n",
      "'<div class=\"section\" id=\"the-poll\">\\n<h1>the poll</h1>\\n<ul class=\"simple\">\\n<li><p>On april 1st, 2011, I sent the following message to the comp-neuro\\nand connectionists lists: (see\\n<a class=\"reference external\" href=\"http://www.neuroinf.org/pipermail/comp-neuro/2011-April/002613.html\">http://www.neuroinf.org/pipermail/comp-neuro/2011-April/002613.html</a></p></li>\\n</ul>\\n</div></body>'\n",
      "'<div class=\"section\" id=\"the-poll\">\\n<h1>the poll</h1>\\n<ul class=\"simple\">\\n<li><p>On april 1st, 2011, I sent the following message to the comp-neuro\\nand connectionists lists: (see\\n<a class=\"reference external\" href=\"http://www.neuroinf.org/pipermail/comp-neuro/2011-April/002613.html\">http://www.neuroinf.org/pipermail/comp-neuro/2011-April/002613.html</a></p></li>\\n</ul>\\n</div>'\n",
      "'<div class=\"section\" id=\"the-poll\">\\n<h1>the poll</h1>\\n<ul class=\"simple\">\\n<li><p>On april 1st, 2011, I sent the following message to the comp-neuro\\nand connectionists lists: (see\\n<a class=\"reference external\" href=\"http://www.neuroinf.org/pipermail/comp-neuro/2011-April/002613.html\">http://www.neuroinf.org/pipermail/comp-neuro/2011-April/002613.html</a></p></li>\\n</ul>\\n<!-- TEASER_END -->\\n<ul>\\n<li><pre class=\"literal-block\">Dear list\\n\\nA recent paper in PLoS Computational Biology\\n\\n&gt; The Roots of Bioinformatics in Theoretical Biology\\n&gt; Paulien Hogeweg\\n&gt; Volume 7(3) March 2011 http://www.ploscompbiol.org/article/info%3Adoi%2F10.1371%2Fjournal.pcbi.1002021\\n\\nmakes a point in the evolution of the meaning of the field of bioinformatics with the advent of data-driven modeling.\\n\\nThe same seems to have appeared in computational neuroscience. The sense slowly drifted from the original papers (such as Science, Vol. 241, No. 4871, 1988, pp. 1299-1306. by T. J. Sejnowski, C. Koch, P. S. Churchland) which I believed is perfectly captured in the sentence: \"The ultimate aim of computational neuroscience is to explain how electrical and chemical signals are used in the brain to represent and process information.\"  (this does not exclude using computers of course).\\n\\nIt seems to be solely a semantical problem, but this may generate some confusion (realpolitik translation: \"and this may hinder the efficiency of your grant proposal\"). Recently an (anonymous) colleague told me they called their group \"computational AND theoretical neuroscience\" (just as these two fields where separated) out of the lack of consensus on the meaning of words and to not exclude anyone. Nowadays, even in the university, there is a continuum of fields combining biology,  mathematics or computer science and all computational neuroscientists reflect this as individuals. so what\\'s the situation in 2011?\\n\\nI often asked to fellow colleagues this question, \"what is computational neuroscience?\" and often got one of these answers (I try to be unbiased - please correct me):\\n\\n [ ] it is a field of neuroscience involving the use of computers (von Neumann machines, Dell boxes, macbooks, ...) to simulate and analyze data obtained from experimental neuroscience and advance our knowledge from this dialogue. Theoretical neuroscience is different in the sense that it proposes mathematical models of how it works.\\n\\n [ ] it is the field of neuroscience studying how information is represented and processed in neural activity. This involves a dialogue with experimental neuroscience to analyze and propose experiments. It proposes models, that is theories for the relation between function and structure. Theoretical neuroscience is a subset of computational neuroscience that tries to express these models in standard mathematical language.\\n\\n [ ] it is some field of neuroscience and why would you care to give an exact definition? its frontiers are moving and it has many facets, theoretical neuroscience being just one example. it cares about being less ignorant on relation between function and structure in neuroscience.\\n\\nIf you want to express your opinion, you can so in one click:\\nhttps://spreadsheets.google.com/viewform?formkey=dDc5X2dJRS1zMHRiSndSNERWelBkQlE6MQ\\nresults :\\nhttps://spreadsheets.google.com/lv?key=0AueMPskll6yrdDc5X2dJRS1zMHRiSndSNERWelBkQlE&amp;hl=fr&amp;f=0&amp;rm=full#gid=0\\n\\ncheers,\\nLaurent</pre>\\n</li>\\n</ul>\\n</div>\\n<div class=\"section\" id=\"results\">\\n<h1>results</h1>\\n<ul>\\n<li><p>I have received 36 responses with the following results (see\\n<a class=\"reference external\" href=\"https://spreadsheets.google.com/lv?key=0AueMPskll6yrdDc5X2dJRS1zMHRiSndSNERWelBkQlE&amp;hl=fr&amp;f=0&amp;rm=full#gid=0\">https://spreadsheets.google.com/lv?key=0AueMPskll6yrdDc5X2dJRS1zMHRiSndSNERWelBkQlE&amp;hl=fr&amp;f=0&amp;rm=full#gid=0</a>\\n):</p>\\n<ol class=\"arabic\">\\n<li><p>[ 5 ] it is a field of neuroscience involving the use of computers\\n(von Neumann machines, Dell boxes, macbooks, ...) to simulate and\\nanalyze data obtained from experimental neuroscience and advance\\nour knowledge from this dialogue. Theoretical neuroscience is\\ndifferent in the sense that it proposes mathematical models of how\\nit works.</p></li>\\n<li><p>[ 21 ] it is the field of neuroscience studying how information is\\nrepresented and processed in neural activity. This involves a\\ndialogue with experimental neuroscience to analyze and propose\\nexperiments. It proposes models, that is theories for the relation\\nbetween function and structure. Theoretical neuroscience is a\\nsubset of computational neuroscience that tries to express these\\nmodels in standard mathematical language.</p>\\n<ul class=\"simple\">\\n<li><p>one answer is amended by \"is a sub-field of theoretical\\nneuroscience that seeks to understand how information is\\nrepresented and processed in the nervous system by implementing\\nand testing theories in the form of computer simulations.\"</p></li>\\n<li><p>another answer comments \"Not a definition, but a comment. Since\\nComp. Neurosci. (or whatever it should be called -- some people\\nnow call it Neurodynamics) is already such a small field and\\nbarely represented on the map, I think it is foolish to further\\nsubdivide it. That is why I like the first definition a bit\\nmore, such that both are collected under one roof.\"</p></li>\\n</ul>\\n</li>\\n<li><p>[ 6 ] it is some field of neuroscience and why would you care to\\ngive an exact definition? its frontiers are moving and it has many\\nfacets, theoretical neuroscience being just one example. it cares\\nabout being less ignorant on relation between function and\\nstructure in neuroscience.</p></li>\\n<li><p>[ 4 ] other free-form answers were given:</p>\\n<ol class=\"arabic\">\\n<li><p>with a slight modification to the first definition</p>\\n<pre class=\"literal-block\">I agree with definition (1) except the \"Theoretical neuroscience is a subset of ...\" as I might argue that \"Computational neuroscience is a subset of theoretical neuroscience\".</pre>\\n</li>\\n<li><p>with a new definition close to the aims of theoretical\\nneuroscience</p>\\n<pre class=\"literal-block\">it is field of neuroscience that use mathematical models to analyze the data obtained from experimental neuroscience. Therefore, it gives a logical result to it and it can be explained instead to be as a magic box</pre>\\n</li>\\n<li><p>to a strict \"computational\" view</p>\\n<pre class=\"literal-block\">It is the subset of theoretical neuroscience that hypothesises that the brain is a computer. This relates to the first definition to the extent that \\'computation\\' is identified with \\'information processing\\'. Theoretical neuroscience is simply the development of models (in any form, including mathematics or computer simulations) of neural processes. It is possible for a process to be simulated or analyzed using a computer - see the second definition - without claiming the process itself is an example of computation. \\'Computational neuroscience\\' usually implies this stronger claim, though it is now often used more loosely (definition three).</pre>\\n</li>\\n<li><p>or to the interesting view that these different approaches\\noverlap but correspond to different approaches:</p>\\n<pre class=\"literal-block\">In my view, theoretical neuroscience is the non-experimenting version of neuroscience, much like theoretical physics is the non-experimenting version of physics.\\n\\nI would argue that theoretical neuroscience and computational neuroscience are different in their approaches.\\n\\nComputational neuroscience has a strong focus on simulation. It is the \"virtual\" extension of electrophysiology. The modeling philosophies of GENESIS and Neuron clearly reflect this. So called \"biologically realistic\" simulations are the gold standard in computational neuroscience.\\n\\nTheoretical neuroscience, by contrast, has its focus on mathematical descriptions and properties of nervous structures. Theoretical neuroscience starts, when the experiments, real or simulated, are done. The excellent books of Henry Tuckwell illustrate this. Here, simulation is not the method of choice, but the last resort after all pencils are broken and all paper is used up ;-)\\n\\nAt best, I would say that there is overlap between the two rather than that one comprises the other.\\n\\nAnd while we are at definitions. Why not add the re-incarnated term of \"Neuroinformatics\" to the contest?</pre>\\n</li>\\n</ol>\\n</li>\\n</ol>\\n</li>\\n</ul>\\n</div>\\n<div class=\"section\" id=\"analysis\">\\n<h1>analysis</h1>\\n<ul class=\"simple\">\\n<li><p>While there is a strong majority of participants that express an\\nagreement with the \"standard\", original definition of computational\\nneuroscience from the original papers, discussions raised by this\\npoll show that there is no consensus. A good sign of health for the\\ncommunity!</p></li>\\n<li><p>some more pointers:\\n<a class=\"reference external\" href=\"http://en.wikipedia.org/wiki/Computational_neuroscience\">http://en.wikipedia.org/wiki/Computational_neuroscience</a>\\n-\\n<a class=\"reference external\" href=\"http://www.citeulike.org/tag/computational_neuroscience\">http://www.citeulike.org/tag/computational_neuroscience</a></p></li>\\n</ul>\\n</div></body>'\n",
      "'<div class=\"section\" id=\"the-poll\">\\n<h1>the poll</h1>\\n<ul class=\"simple\">\\n<li><p>On april 1st, 2011, I sent the following message to the comp-neuro\\nand connectionists lists: (see\\n<a class=\"reference external\" href=\"http://www.neuroinf.org/pipermail/comp-neuro/2011-April/002613.html\">http://www.neuroinf.org/pipermail/comp-neuro/2011-April/002613.html</a></p></li>\\n</ul>\\n<!-- TEASER_END -->\\n<ul>\\n<li><pre class=\"literal-block\">Dear list\\n\\nA recent paper in PLoS Computational Biology\\n\\n&gt; The Roots of Bioinformatics in Theoretical Biology\\n&gt; Paulien Hogeweg\\n&gt; Volume 7(3) March 2011 http://www.ploscompbiol.org/article/info%3Adoi%2F10.1371%2Fjournal.pcbi.1002021\\n\\nmakes a point in the evolution of the meaning of the field of bioinformatics with the advent of data-driven modeling.\\n\\nThe same seems to have appeared in computational neuroscience. The sense slowly drifted from the original papers (such as Science, Vol. 241, No. 4871, 1988, pp. 1299-1306. by T. J. Sejnowski, C. Koch, P. S. Churchland) which I believed is perfectly captured in the sentence: \"The ultimate aim of computational neuroscience is to explain how electrical and chemical signals are used in the brain to represent and process information.\"  (this does not exclude using computers of course).\\n\\nIt seems to be solely a semantical problem, but this may generate some confusion (realpolitik translation: \"and this may hinder the efficiency of your grant proposal\"). Recently an (anonymous) colleague told me they called their group \"computational AND theoretical neuroscience\" (just as these two fields where separated) out of the lack of consensus on the meaning of words and to not exclude anyone. Nowadays, even in the university, there is a continuum of fields combining biology,  mathematics or computer science and all computational neuroscientists reflect this as individuals. so what\\'s the situation in 2011?\\n\\nI often asked to fellow colleagues this question, \"what is computational neuroscience?\" and often got one of these answers (I try to be unbiased - please correct me):\\n\\n [ ] it is a field of neuroscience involving the use of computers (von Neumann machines, Dell boxes, macbooks, ...) to simulate and analyze data obtained from experimental neuroscience and advance our knowledge from this dialogue. Theoretical neuroscience is different in the sense that it proposes mathematical models of how it works.\\n\\n [ ] it is the field of neuroscience studying how information is represented and processed in neural activity. This involves a dialogue with experimental neuroscience to analyze and propose experiments. It proposes models, that is theories for the relation between function and structure. Theoretical neuroscience is a subset of computational neuroscience that tries to express these models in standard mathematical language.\\n\\n [ ] it is some field of neuroscience and why would you care to give an exact definition? its frontiers are moving and it has many facets, theoretical neuroscience being just one example. it cares about being less ignorant on relation between function and structure in neuroscience.\\n\\nIf you want to express your opinion, you can so in one click:\\nhttps://spreadsheets.google.com/viewform?formkey=dDc5X2dJRS1zMHRiSndSNERWelBkQlE6MQ\\nresults :\\nhttps://spreadsheets.google.com/lv?key=0AueMPskll6yrdDc5X2dJRS1zMHRiSndSNERWelBkQlE&amp;hl=fr&amp;f=0&amp;rm=full#gid=0\\n\\ncheers,\\nLaurent</pre>\\n</li>\\n</ul>\\n</div>\\n<div class=\"section\" id=\"results\">\\n<h1>results</h1>\\n<ul>\\n<li><p>I have received 36 responses with the following results (see\\n<a class=\"reference external\" href=\"https://spreadsheets.google.com/lv?key=0AueMPskll6yrdDc5X2dJRS1zMHRiSndSNERWelBkQlE&amp;hl=fr&amp;f=0&amp;rm=full#gid=0\">https://spreadsheets.google.com/lv?key=0AueMPskll6yrdDc5X2dJRS1zMHRiSndSNERWelBkQlE&amp;hl=fr&amp;f=0&amp;rm=full#gid=0</a>\\n):</p>\\n<ol class=\"arabic\">\\n<li><p>[ 5 ] it is a field of neuroscience involving the use of computers\\n(von Neumann machines, Dell boxes, macbooks, ...) to simulate and\\nanalyze data obtained from experimental neuroscience and advance\\nour knowledge from this dialogue. Theoretical neuroscience is\\ndifferent in the sense that it proposes mathematical models of how\\nit works.</p></li>\\n<li><p>[ 21 ] it is the field of neuroscience studying how information is\\nrepresented and processed in neural activity. This involves a\\ndialogue with experimental neuroscience to analyze and propose\\nexperiments. It proposes models, that is theories for the relation\\nbetween function and structure. Theoretical neuroscience is a\\nsubset of computational neuroscience that tries to express these\\nmodels in standard mathematical language.</p>\\n<ul class=\"simple\">\\n<li><p>one answer is amended by \"is a sub-field of theoretical\\nneuroscience that seeks to understand how information is\\nrepresented and processed in the nervous system by implementing\\nand testing theories in the form of computer simulations.\"</p></li>\\n<li><p>another answer comments \"Not a definition, but a comment. Since\\nComp. Neurosci. (or whatever it should be called -- some people\\nnow call it Neurodynamics) is already such a small field and\\nbarely represented on the map, I think it is foolish to further\\nsubdivide it. That is why I like the first definition a bit\\nmore, such that both are collected under one roof.\"</p></li>\\n</ul>\\n</li>\\n<li><p>[ 6 ] it is some field of neuroscience and why would you care to\\ngive an exact definition? its frontiers are moving and it has many\\nfacets, theoretical neuroscience being just one example. it cares\\nabout being less ignorant on relation between function and\\nstructure in neuroscience.</p></li>\\n<li><p>[ 4 ] other free-form answers were given:</p>\\n<ol class=\"arabic\">\\n<li><p>with a slight modification to the first definition</p>\\n<pre class=\"literal-block\">I agree with definition (1) except the \"Theoretical neuroscience is a subset of ...\" as I might argue that \"Computational neuroscience is a subset of theoretical neuroscience\".</pre>\\n</li>\\n<li><p>with a new definition close to the aims of theoretical\\nneuroscience</p>\\n<pre class=\"literal-block\">it is field of neuroscience that use mathematical models to analyze the data obtained from experimental neuroscience. Therefore, it gives a logical result to it and it can be explained instead to be as a magic box</pre>\\n</li>\\n<li><p>to a strict \"computational\" view</p>\\n<pre class=\"literal-block\">It is the subset of theoretical neuroscience that hypothesises that the brain is a computer. This relates to the first definition to the extent that \\'computation\\' is identified with \\'information processing\\'. Theoretical neuroscience is simply the development of models (in any form, including mathematics or computer simulations) of neural processes. It is possible for a process to be simulated or analyzed using a computer - see the second definition - without claiming the process itself is an example of computation. \\'Computational neuroscience\\' usually implies this stronger claim, though it is now often used more loosely (definition three).</pre>\\n</li>\\n<li><p>or to the interesting view that these different approaches\\noverlap but correspond to different approaches:</p>\\n<pre class=\"literal-block\">In my view, theoretical neuroscience is the non-experimenting version of neuroscience, much like theoretical physics is the non-experimenting version of physics.\\n\\nI would argue that theoretical neuroscience and computational neuroscience are different in their approaches.\\n\\nComputational neuroscience has a strong focus on simulation. It is the \"virtual\" extension of electrophysiology. The modeling philosophies of GENESIS and Neuron clearly reflect this. So called \"biologically realistic\" simulations are the gold standard in computational neuroscience.\\n\\nTheoretical neuroscience, by contrast, has its focus on mathematical descriptions and properties of nervous structures. Theoretical neuroscience starts, when the experiments, real or simulated, are done. The excellent books of Henry Tuckwell illustrate this. Here, simulation is not the method of choice, but the last resort after all pencils are broken and all paper is used up ;-)\\n\\nAt best, I would say that there is overlap between the two rather than that one comprises the other.\\n\\nAnd while we are at definitions. Why not add the re-incarnated term of \"Neuroinformatics\" to the contest?</pre>\\n</li>\\n</ol>\\n</li>\\n</ol>\\n</li>\\n</ul>\\n</div>\\n<div class=\"section\" id=\"analysis\">\\n<h1>analysis</h1>\\n<ul class=\"simple\">\\n<li><p>While there is a strong majority of participants that express an\\nagreement with the \"standard\", original definition of computational\\nneuroscience from the original papers, discussions raised by this\\npoll show that there is no consensus. A good sign of health for the\\ncommunity!</p></li>\\n<li><p>some more pointers:\\n<a class=\"reference external\" href=\"http://en.wikipedia.org/wiki/Computational_neuroscience\">http://en.wikipedia.org/wiki/Computational_neuroscience</a>\\n-\\n<a class=\"reference external\" href=\"http://www.citeulike.org/tag/computational_neuroscience\">http://www.citeulike.org/tag/computational_neuroscience</a></p></li>\\n</ul>\\n</div>'\n",
      "'<div class=\"section\" id=\"the-poll\">\\n<h1>the poll</h1>\\n<ul class=\"simple\">\\n<li><p>On april 1st, 2011, I sent the following message to the comp-neuro\\nand connectionists lists: (see\\n<a class=\"reference external\" href=\"http://www.neuroinf.org/pipermail/comp-neuro/2011-April/002613.html\">http://www.neuroinf.org/pipermail/comp-neuro/2011-April/002613.html</a></p></li>\\n</ul>\\n<!-- TEASER_END -->\\n<ul>\\n<li><pre class=\"literal-block\">Dear list\\n\\nA recent paper in PLoS Computational Biology\\n\\n&gt; The Roots of Bioinformatics in Theoretical Biology\\n&gt; Paulien Hogeweg\\n&gt; Volume 7(3) March 2011 http://www.ploscompbiol.org/article/info%3Adoi%2F10.1371%2Fjournal.pcbi.1002021\\n\\nmakes a point in the evolution of the meaning of the field of bioinformatics with the advent of data-driven modeling.\\n\\nThe same seems to have appeared in computational neuroscience. The sense slowly drifted from the original papers (such as Science, Vol. 241, No. 4871, 1988, pp. 1299-1306. by T. J. Sejnowski, C. Koch, P. S. Churchland) which I believed is perfectly captured in the sentence: \"The ultimate aim of computational neuroscience is to explain how electrical and chemical signals are used in the brain to represent and process information.\"  (this does not exclude using computers of course).\\n\\nIt seems to be solely a semantical problem, but this may generate some confusion (realpolitik translation: \"and this may hinder the efficiency of your grant proposal\"). Recently an (anonymous) colleague told me they called their group \"computational AND theoretical neuroscience\" (just as these two fields where separated) out of the lack of consensus on the meaning of words and to not exclude anyone. Nowadays, even in the university, there is a continuum of fields combining biology,  mathematics or computer science and all computational neuroscientists reflect this as individuals. so what\\'s the situation in 2011?\\n\\nI often asked to fellow colleagues this question, \"what is computational neuroscience?\" and often got one of these answers (I try to be unbiased - please correct me):\\n\\n [ ] it is a field of neuroscience involving the use of computers (von Neumann machines, Dell boxes, macbooks, ...) to simulate and analyze data obtained from experimental neuroscience and advance our knowledge from this dialogue. Theoretical neuroscience is different in the sense that it proposes mathematical models of how it works.\\n\\n [ ] it is the field of neuroscience studying how information is represented and processed in neural activity. This involves a dialogue with experimental neuroscience to analyze and propose experiments. It proposes models, that is theories for the relation between function and structure. Theoretical neuroscience is a subset of computational neuroscience that tries to express these models in standard mathematical language.\\n\\n [ ] it is some field of neuroscience and why would you care to give an exact definition? its frontiers are moving and it has many facets, theoretical neuroscience being just one example. it cares about being less ignorant on relation between function and structure in neuroscience.\\n\\nIf you want to express your opinion, you can so in one click:\\nhttps://spreadsheets.google.com/viewform?formkey=dDc5X2dJRS1zMHRiSndSNERWelBkQlE6MQ\\nresults :\\nhttps://spreadsheets.google.com/lv?key=0AueMPskll6yrdDc5X2dJRS1zMHRiSndSNERWelBkQlE&amp;hl=fr&amp;f=0&amp;rm=full#gid=0\\n\\ncheers,\\nLaurent</pre>\\n</li>\\n</ul>\\n</div>\\n<div class=\"section\" id=\"results\">\\n<h1>results</h1>\\n<ul>\\n<li><p>I have received 36 responses with the following results (see\\n<a class=\"reference external\" href=\"https://spreadsheets.google.com/lv?key=0AueMPskll6yrdDc5X2dJRS1zMHRiSndSNERWelBkQlE&amp;hl=fr&amp;f=0&amp;rm=full#gid=0\">https://spreadsheets.google.com/lv?key=0AueMPskll6yrdDc5X2dJRS1zMHRiSndSNERWelBkQlE&amp;hl=fr&amp;f=0&amp;rm=full#gid=0</a>\\n):</p>\\n<ol class=\"arabic\">\\n<li><p>[ 5 ] it is a field of neuroscience involving the use of computers\\n(von Neumann machines, Dell boxes, macbooks, ...) to simulate and\\nanalyze data obtained from experimental neuroscience and advance\\nour knowledge from this dialogue. Theoretical neuroscience is\\ndifferent in the sense that it proposes mathematical models of how\\nit works.</p></li>\\n<li><p>[ 21 ] it is the field of neuroscience studying how information is\\nrepresented and processed in neural activity. This involves a\\ndialogue with experimental neuroscience to analyze and propose\\nexperiments. It proposes models, that is theories for the relation\\nbetween function and structure. Theoretical neuroscience is a\\nsubset of computational neuroscience that tries to express these\\nmodels in standard mathematical language.</p>\\n<ul class=\"simple\">\\n<li><p>one answer is amended by \"is a sub-field of theoretical\\nneuroscience that seeks to understand how information is\\nrepresented and processed in the nervous system by implementing\\nand testing theories in the form of computer simulations.\"</p></li>\\n<li><p>another answer comments \"Not a definition, but a comment. Since\\nComp. Neurosci. (or whatever it should be called -- some people\\nnow call it Neurodynamics) is already such a small field and\\nbarely represented on the map, I think it is foolish to further\\nsubdivide it. That is why I like the first definition a bit\\nmore, such that both are collected under one roof.\"</p></li>\\n</ul>\\n</li>\\n<li><p>[ 6 ] it is some field of neuroscience and why would you care to\\ngive an exact definition? its frontiers are moving and it has many\\nfacets, theoretical neuroscience being just one example. it cares\\nabout being less ignorant on relation between function and\\nstructure in neuroscience.</p></li>\\n<li><p>[ 4 ] other free-form answers were given:</p>\\n<ol class=\"arabic\">\\n<li><p>with a slight modification to the first definition</p>\\n<pre class=\"literal-block\">I agree with definition (1) except the \"Theoretical neuroscience is a subset of ...\" as I might argue that \"Computational neuroscience is a subset of theoretical neuroscience\".</pre>\\n</li>\\n<li><p>with a new definition close to the aims of theoretical\\nneuroscience</p>\\n<pre class=\"literal-block\">it is field of neuroscience that use mathematical models to analyze the data obtained from experimental neuroscience. Therefore, it gives a logical result to it and it can be explained instead to be as a magic box</pre>\\n</li>\\n<li><p>to a strict \"computational\" view</p>\\n<pre class=\"literal-block\">It is the subset of theoretical neuroscience that hypothesises that the brain is a computer. This relates to the first definition to the extent that \\'computation\\' is identified with \\'information processing\\'. Theoretical neuroscience is simply the development of models (in any form, including mathematics or computer simulations) of neural processes. It is possible for a process to be simulated or analyzed using a computer - see the second definition - without claiming the process itself is an example of computation. \\'Computational neuroscience\\' usually implies this stronger claim, though it is now often used more loosely (definition three).</pre>\\n</li>\\n<li><p>or to the interesting view that these different approaches\\noverlap but correspond to different approaches:</p>\\n<pre class=\"literal-block\">In my view, theoretical neuroscience is the non-experimenting version of neuroscience, much like theoretical physics is the non-experimenting version of physics.\\n\\nI would argue that theoretical neuroscience and computational neuroscience are different in their approaches.\\n\\nComputational neuroscience has a strong focus on simulation. It is the \"virtual\" extension of electrophysiology. The modeling philosophies of GENESIS and Neuron clearly reflect this. So called \"biologically realistic\" simulations are the gold standard in computational neuroscience.\\n\\nTheoretical neuroscience, by contrast, has its focus on mathematical descriptions and properties of nervous structures. Theoretical neuroscience starts, when the experiments, real or simulated, are done. The excellent books of Henry Tuckwell illustrate this. Here, simulation is not the method of choice, but the last resort after all pencils are broken and all paper is used up ;-)\\n\\nAt best, I would say that there is overlap between the two rather than that one comprises the other.\\n\\nAnd while we are at definitions. Why not add the re-incarnated term of \"Neuroinformatics\" to the contest?</pre>\\n</li>\\n</ol>\\n</li>\\n</ol>\\n</li>\\n</ul>\\n</div>\\n<div class=\"section\" id=\"analysis\">\\n<h1>analysis</h1>\\n<ul class=\"simple\">\\n<li><p>While there is a strong majority of participants that express an\\nagreement with the \"standard\", original definition of computational\\nneuroscience from the original papers, discussions raised by this\\npoll show that there is no consensus. A good sign of health for the\\ncommunity!</p></li>\\n<li><p>some more pointers:\\n<a class=\"reference external\" href=\"http://en.wikipedia.org/wiki/Computational_neuroscience\">http://en.wikipedia.org/wiki/Computational_neuroscience</a>\\n-\\n<a class=\"reference external\" href=\"http://www.citeulike.org/tag/computational_neuroscience\">http://www.citeulike.org/tag/computational_neuroscience</a></p></li>\\n</ul>\\n</div></body>'\n",
      "'<div class=\"section\" id=\"the-poll\">\\n<h1>the poll</h1>\\n<ul class=\"simple\">\\n<li><p>On april 1st, 2011, I sent the following message to the comp-neuro\\nand connectionists lists: (see\\n<a class=\"reference external\" href=\"http://www.neuroinf.org/pipermail/comp-neuro/2011-April/002613.html\">http://www.neuroinf.org/pipermail/comp-neuro/2011-April/002613.html</a></p></li>\\n</ul>\\n<!-- TEASER_END -->\\n<ul>\\n<li><pre class=\"literal-block\">Dear list\\n\\nA recent paper in PLoS Computational Biology\\n\\n&gt; The Roots of Bioinformatics in Theoretical Biology\\n&gt; Paulien Hogeweg\\n&gt; Volume 7(3) March 2011 http://www.ploscompbiol.org/article/info%3Adoi%2F10.1371%2Fjournal.pcbi.1002021\\n\\nmakes a point in the evolution of the meaning of the field of bioinformatics with the advent of data-driven modeling.\\n\\nThe same seems to have appeared in computational neuroscience. The sense slowly drifted from the original papers (such as Science, Vol. 241, No. 4871, 1988, pp. 1299-1306. by T. J. Sejnowski, C. Koch, P. S. Churchland) which I believed is perfectly captured in the sentence: \"The ultimate aim of computational neuroscience is to explain how electrical and chemical signals are used in the brain to represent and process information.\"  (this does not exclude using computers of course).\\n\\nIt seems to be solely a semantical problem, but this may generate some confusion (realpolitik translation: \"and this may hinder the efficiency of your grant proposal\"). Recently an (anonymous) colleague told me they called their group \"computational AND theoretical neuroscience\" (just as these two fields where separated) out of the lack of consensus on the meaning of words and to not exclude anyone. Nowadays, even in the university, there is a continuum of fields combining biology,  mathematics or computer science and all computational neuroscientists reflect this as individuals. so what\\'s the situation in 2011?\\n\\nI often asked to fellow colleagues this question, \"what is computational neuroscience?\" and often got one of these answers (I try to be unbiased - please correct me):\\n\\n [ ] it is a field of neuroscience involving the use of computers (von Neumann machines, Dell boxes, macbooks, ...) to simulate and analyze data obtained from experimental neuroscience and advance our knowledge from this dialogue. Theoretical neuroscience is different in the sense that it proposes mathematical models of how it works.\\n\\n [ ] it is the field of neuroscience studying how information is represented and processed in neural activity. This involves a dialogue with experimental neuroscience to analyze and propose experiments. It proposes models, that is theories for the relation between function and structure. Theoretical neuroscience is a subset of computational neuroscience that tries to express these models in standard mathematical language.\\n\\n [ ] it is some field of neuroscience and why would you care to give an exact definition? its frontiers are moving and it has many facets, theoretical neuroscience being just one example. it cares about being less ignorant on relation between function and structure in neuroscience.\\n\\nIf you want to express your opinion, you can so in one click:\\nhttps://spreadsheets.google.com/viewform?formkey=dDc5X2dJRS1zMHRiSndSNERWelBkQlE6MQ\\nresults :\\nhttps://spreadsheets.google.com/lv?key=0AueMPskll6yrdDc5X2dJRS1zMHRiSndSNERWelBkQlE&amp;hl=fr&amp;f=0&amp;rm=full#gid=0\\n\\ncheers,\\nLaurent</pre>\\n</li>\\n</ul>\\n</div>\\n<div class=\"section\" id=\"results\">\\n<h1>results</h1>\\n<ul>\\n<li><p>I have received 36 responses with the following results (see\\n<a class=\"reference external\" href=\"https://spreadsheets.google.com/lv?key=0AueMPskll6yrdDc5X2dJRS1zMHRiSndSNERWelBkQlE&amp;hl=fr&amp;f=0&amp;rm=full#gid=0\">https://spreadsheets.google.com/lv?key=0AueMPskll6yrdDc5X2dJRS1zMHRiSndSNERWelBkQlE&amp;hl=fr&amp;f=0&amp;rm=full#gid=0</a>\\n):</p>\\n<ol class=\"arabic\">\\n<li><p>[ 5 ] it is a field of neuroscience involving the use of computers\\n(von Neumann machines, Dell boxes, macbooks, ...) to simulate and\\nanalyze data obtained from experimental neuroscience and advance\\nour knowledge from this dialogue. Theoretical neuroscience is\\ndifferent in the sense that it proposes mathematical models of how\\nit works.</p></li>\\n<li><p>[ 21 ] it is the field of neuroscience studying how information is\\nrepresented and processed in neural activity. This involves a\\ndialogue with experimental neuroscience to analyze and propose\\nexperiments. It proposes models, that is theories for the relation\\nbetween function and structure. Theoretical neuroscience is a\\nsubset of computational neuroscience that tries to express these\\nmodels in standard mathematical language.</p>\\n<ul class=\"simple\">\\n<li><p>one answer is amended by \"is a sub-field of theoretical\\nneuroscience that seeks to understand how information is\\nrepresented and processed in the nervous system by implementing\\nand testing theories in the form of computer simulations.\"</p></li>\\n<li><p>another answer comments \"Not a definition, but a comment. Since\\nComp. Neurosci. (or whatever it should be called -- some people\\nnow call it Neurodynamics) is already such a small field and\\nbarely represented on the map, I think it is foolish to further\\nsubdivide it. That is why I like the first definition a bit\\nmore, such that both are collected under one roof.\"</p></li>\\n</ul>\\n</li>\\n<li><p>[ 6 ] it is some field of neuroscience and why would you care to\\ngive an exact definition? its frontiers are moving and it has many\\nfacets, theoretical neuroscience being just one example. it cares\\nabout being less ignorant on relation between function and\\nstructure in neuroscience.</p></li>\\n<li><p>[ 4 ] other free-form answers were given:</p>\\n<ol class=\"arabic\">\\n<li><p>with a slight modification to the first definition</p>\\n<pre class=\"literal-block\">I agree with definition (1) except the \"Theoretical neuroscience is a subset of ...\" as I might argue that \"Computational neuroscience is a subset of theoretical neuroscience\".</pre>\\n</li>\\n<li><p>with a new definition close to the aims of theoretical\\nneuroscience</p>\\n<pre class=\"literal-block\">it is field of neuroscience that use mathematical models to analyze the data obtained from experimental neuroscience. Therefore, it gives a logical result to it and it can be explained instead to be as a magic box</pre>\\n</li>\\n<li><p>to a strict \"computational\" view</p>\\n<pre class=\"literal-block\">It is the subset of theoretical neuroscience that hypothesises that the brain is a computer. This relates to the first definition to the extent that \\'computation\\' is identified with \\'information processing\\'. Theoretical neuroscience is simply the development of models (in any form, including mathematics or computer simulations) of neural processes. It is possible for a process to be simulated or analyzed using a computer - see the second definition - without claiming the process itself is an example of computation. \\'Computational neuroscience\\' usually implies this stronger claim, though it is now often used more loosely (definition three).</pre>\\n</li>\\n<li><p>or to the interesting view that these different approaches\\noverlap but correspond to different approaches:</p>\\n<pre class=\"literal-block\">In my view, theoretical neuroscience is the non-experimenting version of neuroscience, much like theoretical physics is the non-experimenting version of physics.\\n\\nI would argue that theoretical neuroscience and computational neuroscience are different in their approaches.\\n\\nComputational neuroscience has a strong focus on simulation. It is the \"virtual\" extension of electrophysiology. The modeling philosophies of GENESIS and Neuron clearly reflect this. So called \"biologically realistic\" simulations are the gold standard in computational neuroscience.\\n\\nTheoretical neuroscience, by contrast, has its focus on mathematical descriptions and properties of nervous structures. Theoretical neuroscience starts, when the experiments, real or simulated, are done. The excellent books of Henry Tuckwell illustrate this. Here, simulation is not the method of choice, but the last resort after all pencils are broken and all paper is used up ;-)\\n\\nAt best, I would say that there is overlap between the two rather than that one comprises the other.\\n\\nAnd while we are at definitions. Why not add the re-incarnated term of \"Neuroinformatics\" to the contest?</pre>\\n</li>\\n</ol>\\n</li>\\n</ol>\\n</li>\\n</ul>\\n</div>\\n<div class=\"section\" id=\"analysis\">\\n<h1>analysis</h1>\\n<ul class=\"simple\">\\n<li><p>While there is a strong majority of participants that express an\\nagreement with the \"standard\", original definition of computational\\nneuroscience from the original papers, discussions raised by this\\npoll show that there is no consensus. A good sign of health for the\\ncommunity!</p></li>\\n<li><p>some more pointers:\\n<a class=\"reference external\" href=\"http://en.wikipedia.org/wiki/Computational_neuroscience\">http://en.wikipedia.org/wiki/Computational_neuroscience</a>\\n-\\n<a class=\"reference external\" href=\"http://www.citeulike.org/tag/computational_neuroscience\">http://www.citeulike.org/tag/computational_neuroscience</a></p></li>\\n</ul>\\n</div>'\n",
      "'<div class=\"section\" id=\"the-poll\">\\n<h2>the poll</h2>\\n<ul class=\"simple\">\\n<li><p>On april 1st, 2011, I sent the following message to the comp-neuro\\nand connectionists lists: (see\\n<a class=\"reference external\" href=\"http://www.neuroinf.org/pipermail/comp-neuro/2011-April/002613.html\">http://www.neuroinf.org/pipermail/comp-neuro/2011-April/002613.html</a></p></li>\\n</ul>\\n<!-- TEASER_END -->\\n<ul>\\n<li><pre class=\"literal-block\">Dear list\\n\\nA recent paper in PLoS Computational Biology\\n\\n&gt; The Roots of Bioinformatics in Theoretical Biology\\n&gt; Paulien Hogeweg\\n&gt; Volume 7(3) March 2011 http://www.ploscompbiol.org/article/info%3Adoi%2F10.1371%2Fjournal.pcbi.1002021\\n\\nmakes a point in the evolution of the meaning of the field of bioinformatics with the advent of data-driven modeling.\\n\\nThe same seems to have appeared in computational neuroscience. The sense slowly drifted from the original papers (such as Science, Vol. 241, No. 4871, 1988, pp. 1299-1306. by T. J. Sejnowski, C. Koch, P. S. Churchland) which I believed is perfectly captured in the sentence: \"The ultimate aim of computational neuroscience is to explain how electrical and chemical signals are used in the brain to represent and process information.\"  (this does not exclude using computers of course).\\n\\nIt seems to be solely a semantical problem, but this may generate some confusion (realpolitik translation: \"and this may hinder the efficiency of your grant proposal\"). Recently an (anonymous) colleague told me they called their group \"computational AND theoretical neuroscience\" (just as these two fields where separated) out of the lack of consensus on the meaning of words and to not exclude anyone. Nowadays, even in the university, there is a continuum of fields combining biology,  mathematics or computer science and all computational neuroscientists reflect this as individuals. so what\\'s the situation in 2011?\\n\\nI often asked to fellow colleagues this question, \"what is computational neuroscience?\" and often got one of these answers (I try to be unbiased - please correct me):\\n\\n [ ] it is a field of neuroscience involving the use of computers (von Neumann machines, Dell boxes, macbooks, ...) to simulate and analyze data obtained from experimental neuroscience and advance our knowledge from this dialogue. Theoretical neuroscience is different in the sense that it proposes mathematical models of how it works.\\n\\n [ ] it is the field of neuroscience studying how information is represented and processed in neural activity. This involves a dialogue with experimental neuroscience to analyze and propose experiments. It proposes models, that is theories for the relation between function and structure. Theoretical neuroscience is a subset of computational neuroscience that tries to express these models in standard mathematical language.\\n\\n [ ] it is some field of neuroscience and why would you care to give an exact definition? its frontiers are moving and it has many facets, theoretical neuroscience being just one example. it cares about being less ignorant on relation between function and structure in neuroscience.\\n\\nIf you want to express your opinion, you can so in one click:\\nhttps://spreadsheets.google.com/viewform?formkey=dDc5X2dJRS1zMHRiSndSNERWelBkQlE6MQ\\nresults :\\nhttps://spreadsheets.google.com/lv?key=0AueMPskll6yrdDc5X2dJRS1zMHRiSndSNERWelBkQlE&amp;hl=fr&amp;f=0&amp;rm=full#gid=0\\n\\ncheers,\\nLaurent</pre>\\n</li>\\n</ul>\\n</div>\\n<div class=\"section\" id=\"results\">\\n<h2>results</h2>\\n<ul>\\n<li><p>I have received 36 responses with the following results (see\\n<a class=\"reference external\" href=\"https://spreadsheets.google.com/lv?key=0AueMPskll6yrdDc5X2dJRS1zMHRiSndSNERWelBkQlE&amp;hl=fr&amp;f=0&amp;rm=full#gid=0\">https://spreadsheets.google.com/lv?key=0AueMPskll6yrdDc5X2dJRS1zMHRiSndSNERWelBkQlE&amp;hl=fr&amp;f=0&amp;rm=full#gid=0</a>\\n):</p>\\n<ol class=\"arabic\">\\n<li><p>[ 5 ] it is a field of neuroscience involving the use of computers\\n(von Neumann machines, Dell boxes, macbooks, ...) to simulate and\\nanalyze data obtained from experimental neuroscience and advance\\nour knowledge from this dialogue. Theoretical neuroscience is\\ndifferent in the sense that it proposes mathematical models of how\\nit works.</p></li>\\n<li><p>[ 21 ] it is the field of neuroscience studying how information is\\nrepresented and processed in neural activity. This involves a\\ndialogue with experimental neuroscience to analyze and propose\\nexperiments. It proposes models, that is theories for the relation\\nbetween function and structure. Theoretical neuroscience is a\\nsubset of computational neuroscience that tries to express these\\nmodels in standard mathematical language.</p>\\n<ul class=\"simple\">\\n<li><p>one answer is amended by \"is a sub-field of theoretical\\nneuroscience that seeks to understand how information is\\nrepresented and processed in the nervous system by implementing\\nand testing theories in the form of computer simulations.\"</p></li>\\n<li><p>another answer comments \"Not a definition, but a comment. Since\\nComp. Neurosci. (or whatever it should be called -- some people\\nnow call it Neurodynamics) is already such a small field and\\nbarely represented on the map, I think it is foolish to further\\nsubdivide it. That is why I like the first definition a bit\\nmore, such that both are collected under one roof.\"</p></li>\\n</ul>\\n</li>\\n<li><p>[ 6 ] it is some field of neuroscience and why would you care to\\ngive an exact definition? its frontiers are moving and it has many\\nfacets, theoretical neuroscience being just one example. it cares\\nabout being less ignorant on relation between function and\\nstructure in neuroscience.</p></li>\\n<li><p>[ 4 ] other free-form answers were given:</p>\\n<ol class=\"arabic\">\\n<li><p>with a slight modification to the first definition</p>\\n<pre class=\"literal-block\">I agree with definition (1) except the \"Theoretical neuroscience is a subset of ...\" as I might argue that \"Computational neuroscience is a subset of theoretical neuroscience\".</pre>\\n</li>\\n<li><p>with a new definition close to the aims of theoretical\\nneuroscience</p>\\n<pre class=\"literal-block\">it is field of neuroscience that use mathematical models to analyze the data obtained from experimental neuroscience. Therefore, it gives a logical result to it and it can be explained instead to be as a magic box</pre>\\n</li>\\n<li><p>to a strict \"computational\" view</p>\\n<pre class=\"literal-block\">It is the subset of theoretical neuroscience that hypothesises that the brain is a computer. This relates to the first definition to the extent that \\'computation\\' is identified with \\'information processing\\'. Theoretical neuroscience is simply the development of models (in any form, including mathematics or computer simulations) of neural processes. It is possible for a process to be simulated or analyzed using a computer - see the second definition - without claiming the process itself is an example of computation. \\'Computational neuroscience\\' usually implies this stronger claim, though it is now often used more loosely (definition three).</pre>\\n</li>\\n<li><p>or to the interesting view that these different approaches\\noverlap but correspond to different approaches:</p>\\n<pre class=\"literal-block\">In my view, theoretical neuroscience is the non-experimenting version of neuroscience, much like theoretical physics is the non-experimenting version of physics.\\n\\nI would argue that theoretical neuroscience and computational neuroscience are different in their approaches.\\n\\nComputational neuroscience has a strong focus on simulation. It is the \"virtual\" extension of electrophysiology. The modeling philosophies of GENESIS and Neuron clearly reflect this. So called \"biologically realistic\" simulations are the gold standard in computational neuroscience.\\n\\nTheoretical neuroscience, by contrast, has its focus on mathematical descriptions and properties of nervous structures. Theoretical neuroscience starts, when the experiments, real or simulated, are done. The excellent books of Henry Tuckwell illustrate this. Here, simulation is not the method of choice, but the last resort after all pencils are broken and all paper is used up ;-)\\n\\nAt best, I would say that there is overlap between the two rather than that one comprises the other.\\n\\nAnd while we are at definitions. Why not add the re-incarnated term of \"Neuroinformatics\" to the contest?</pre>\\n</li>\\n</ol>\\n</li>\\n</ol>\\n</li>\\n</ul>\\n</div>\\n<div class=\"section\" id=\"analysis\">\\n<h2>analysis</h2>\\n<ul class=\"simple\">\\n<li><p>While there is a strong majority of participants that express an\\nagreement with the \"standard\", original definition of computational\\nneuroscience from the original papers, discussions raised by this\\npoll show that there is no consensus. A good sign of health for the\\ncommunity!</p></li>\\n<li><p>some more pointers:\\n<a class=\"reference external\" href=\"http://en.wikipedia.org/wiki/Computational_neuroscience\">http://en.wikipedia.org/wiki/Computational_neuroscience</a>\\n-\\n<a class=\"reference external\" href=\"http://www.citeulike.org/tag/computational_neuroscience\">http://www.citeulike.org/tag/computational_neuroscience</a></p></li>\\n</ul>\\n</div></body>'\n",
      "'<div class=\"section\" id=\"the-poll\">\\n<h2>the poll</h2>\\n<ul class=\"simple\">\\n<li><p>On april 1st, 2011, I sent the following message to the comp-neuro\\nand connectionists lists: (see\\n<a class=\"reference external\" href=\"http://www.neuroinf.org/pipermail/comp-neuro/2011-April/002613.html\">http://www.neuroinf.org/pipermail/comp-neuro/2011-April/002613.html</a></p></li>\\n</ul>\\n<!-- TEASER_END -->\\n<ul>\\n<li><pre class=\"literal-block\">Dear list\\n\\nA recent paper in PLoS Computational Biology\\n\\n&gt; The Roots of Bioinformatics in Theoretical Biology\\n&gt; Paulien Hogeweg\\n&gt; Volume 7(3) March 2011 http://www.ploscompbiol.org/article/info%3Adoi%2F10.1371%2Fjournal.pcbi.1002021\\n\\nmakes a point in the evolution of the meaning of the field of bioinformatics with the advent of data-driven modeling.\\n\\nThe same seems to have appeared in computational neuroscience. The sense slowly drifted from the original papers (such as Science, Vol. 241, No. 4871, 1988, pp. 1299-1306. by T. J. Sejnowski, C. Koch, P. S. Churchland) which I believed is perfectly captured in the sentence: \"The ultimate aim of computational neuroscience is to explain how electrical and chemical signals are used in the brain to represent and process information.\"  (this does not exclude using computers of course).\\n\\nIt seems to be solely a semantical problem, but this may generate some confusion (realpolitik translation: \"and this may hinder the efficiency of your grant proposal\"). Recently an (anonymous) colleague told me they called their group \"computational AND theoretical neuroscience\" (just as these two fields where separated) out of the lack of consensus on the meaning of words and to not exclude anyone. Nowadays, even in the university, there is a continuum of fields combining biology,  mathematics or computer science and all computational neuroscientists reflect this as individuals. so what\\'s the situation in 2011?\\n\\nI often asked to fellow colleagues this question, \"what is computational neuroscience?\" and often got one of these answers (I try to be unbiased - please correct me):\\n\\n [ ] it is a field of neuroscience involving the use of computers (von Neumann machines, Dell boxes, macbooks, ...) to simulate and analyze data obtained from experimental neuroscience and advance our knowledge from this dialogue. Theoretical neuroscience is different in the sense that it proposes mathematical models of how it works.\\n\\n [ ] it is the field of neuroscience studying how information is represented and processed in neural activity. This involves a dialogue with experimental neuroscience to analyze and propose experiments. It proposes models, that is theories for the relation between function and structure. Theoretical neuroscience is a subset of computational neuroscience that tries to express these models in standard mathematical language.\\n\\n [ ] it is some field of neuroscience and why would you care to give an exact definition? its frontiers are moving and it has many facets, theoretical neuroscience being just one example. it cares about being less ignorant on relation between function and structure in neuroscience.\\n\\nIf you want to express your opinion, you can so in one click:\\nhttps://spreadsheets.google.com/viewform?formkey=dDc5X2dJRS1zMHRiSndSNERWelBkQlE6MQ\\nresults :\\nhttps://spreadsheets.google.com/lv?key=0AueMPskll6yrdDc5X2dJRS1zMHRiSndSNERWelBkQlE&amp;hl=fr&amp;f=0&amp;rm=full#gid=0\\n\\ncheers,\\nLaurent</pre>\\n</li>\\n</ul>\\n</div>\\n<div class=\"section\" id=\"results\">\\n<h2>results</h2>\\n<ul>\\n<li><p>I have received 36 responses with the following results (see\\n<a class=\"reference external\" href=\"https://spreadsheets.google.com/lv?key=0AueMPskll6yrdDc5X2dJRS1zMHRiSndSNERWelBkQlE&amp;hl=fr&amp;f=0&amp;rm=full#gid=0\">https://spreadsheets.google.com/lv?key=0AueMPskll6yrdDc5X2dJRS1zMHRiSndSNERWelBkQlE&amp;hl=fr&amp;f=0&amp;rm=full#gid=0</a>\\n):</p>\\n<ol class=\"arabic\">\\n<li><p>[ 5 ] it is a field of neuroscience involving the use of computers\\n(von Neumann machines, Dell boxes, macbooks, ...) to simulate and\\nanalyze data obtained from experimental neuroscience and advance\\nour knowledge from this dialogue. Theoretical neuroscience is\\ndifferent in the sense that it proposes mathematical models of how\\nit works.</p></li>\\n<li><p>[ 21 ] it is the field of neuroscience studying how information is\\nrepresented and processed in neural activity. This involves a\\ndialogue with experimental neuroscience to analyze and propose\\nexperiments. It proposes models, that is theories for the relation\\nbetween function and structure. Theoretical neuroscience is a\\nsubset of computational neuroscience that tries to express these\\nmodels in standard mathematical language.</p>\\n<ul class=\"simple\">\\n<li><p>one answer is amended by \"is a sub-field of theoretical\\nneuroscience that seeks to understand how information is\\nrepresented and processed in the nervous system by implementing\\nand testing theories in the form of computer simulations.\"</p></li>\\n<li><p>another answer comments \"Not a definition, but a comment. Since\\nComp. Neurosci. (or whatever it should be called -- some people\\nnow call it Neurodynamics) is already such a small field and\\nbarely represented on the map, I think it is foolish to further\\nsubdivide it. That is why I like the first definition a bit\\nmore, such that both are collected under one roof.\"</p></li>\\n</ul>\\n</li>\\n<li><p>[ 6 ] it is some field of neuroscience and why would you care to\\ngive an exact definition? its frontiers are moving and it has many\\nfacets, theoretical neuroscience being just one example. it cares\\nabout being less ignorant on relation between function and\\nstructure in neuroscience.</p></li>\\n<li><p>[ 4 ] other free-form answers were given:</p>\\n<ol class=\"arabic\">\\n<li><p>with a slight modification to the first definition</p>\\n<pre class=\"literal-block\">I agree with definition (1) except the \"Theoretical neuroscience is a subset of ...\" as I might argue that \"Computational neuroscience is a subset of theoretical neuroscience\".</pre>\\n</li>\\n<li><p>with a new definition close to the aims of theoretical\\nneuroscience</p>\\n<pre class=\"literal-block\">it is field of neuroscience that use mathematical models to analyze the data obtained from experimental neuroscience. Therefore, it gives a logical result to it and it can be explained instead to be as a magic box</pre>\\n</li>\\n<li><p>to a strict \"computational\" view</p>\\n<pre class=\"literal-block\">It is the subset of theoretical neuroscience that hypothesises that the brain is a computer. This relates to the first definition to the extent that \\'computation\\' is identified with \\'information processing\\'. Theoretical neuroscience is simply the development of models (in any form, including mathematics or computer simulations) of neural processes. It is possible for a process to be simulated or analyzed using a computer - see the second definition - without claiming the process itself is an example of computation. \\'Computational neuroscience\\' usually implies this stronger claim, though it is now often used more loosely (definition three).</pre>\\n</li>\\n<li><p>or to the interesting view that these different approaches\\noverlap but correspond to different approaches:</p>\\n<pre class=\"literal-block\">In my view, theoretical neuroscience is the non-experimenting version of neuroscience, much like theoretical physics is the non-experimenting version of physics.\\n\\nI would argue that theoretical neuroscience and computational neuroscience are different in their approaches.\\n\\nComputational neuroscience has a strong focus on simulation. It is the \"virtual\" extension of electrophysiology. The modeling philosophies of GENESIS and Neuron clearly reflect this. So called \"biologically realistic\" simulations are the gold standard in computational neuroscience.\\n\\nTheoretical neuroscience, by contrast, has its focus on mathematical descriptions and properties of nervous structures. Theoretical neuroscience starts, when the experiments, real or simulated, are done. The excellent books of Henry Tuckwell illustrate this. Here, simulation is not the method of choice, but the last resort after all pencils are broken and all paper is used up ;-)\\n\\nAt best, I would say that there is overlap between the two rather than that one comprises the other.\\n\\nAnd while we are at definitions. Why not add the re-incarnated term of \"Neuroinformatics\" to the contest?</pre>\\n</li>\\n</ol>\\n</li>\\n</ol>\\n</li>\\n</ul>\\n</div>\\n<div class=\"section\" id=\"analysis\">\\n<h2>analysis</h2>\\n<ul class=\"simple\">\\n<li><p>While there is a strong majority of participants that express an\\nagreement with the \"standard\", original definition of computational\\nneuroscience from the original papers, discussions raised by this\\npoll show that there is no consensus. A good sign of health for the\\ncommunity!</p></li>\\n<li><p>some more pointers:\\n<a class=\"reference external\" href=\"http://en.wikipedia.org/wiki/Computational_neuroscience\">http://en.wikipedia.org/wiki/Computational_neuroscience</a>\\n-\\n<a class=\"reference external\" href=\"http://www.citeulike.org/tag/computational_neuroscience\">http://www.citeulike.org/tag/computational_neuroscience</a></p></li>\\n</ul>\\n</div>'\n",
      "'<div class=\"section\" id=\"the-poll\">\\n<h1>the poll</h1>\\n<ul class=\"simple\">\\n<li><p>On april 1st, 2011, I sent the following message to the comp-neuro\\nand connectionists lists: (see\\n<a class=\"reference external\" href=\"http://www.neuroinf.org/pipermail/comp-neuro/2011-April/002613.html\">http://www.neuroinf.org/pipermail/comp-neuro/2011-April/002613.html</a></p></li>\\n</ul>\\n<!-- TEASER_END -->\\n<ul>\\n<li><pre class=\"literal-block\">Dear list\\n\\nA recent paper in PLoS Computational Biology\\n\\n&gt; The Roots of Bioinformatics in Theoretical Biology\\n&gt; Paulien Hogeweg\\n&gt; Volume 7(3) March 2011 http://www.ploscompbiol.org/article/info%3Adoi%2F10.1371%2Fjournal.pcbi.1002021\\n\\nmakes a point in the evolution of the meaning of the field of bioinformatics with the advent of data-driven modeling.\\n\\nThe same seems to have appeared in computational neuroscience. The sense slowly drifted from the original papers (such as Science, Vol. 241, No. 4871, 1988, pp. 1299-1306. by T. J. Sejnowski, C. Koch, P. S. Churchland) which I believed is perfectly captured in the sentence: \"The ultimate aim of computational neuroscience is to explain how electrical and chemical signals are used in the brain to represent and process information.\"  (this does not exclude using computers of course).\\n\\nIt seems to be solely a semantical problem, but this may generate some confusion (realpolitik translation: \"and this may hinder the efficiency of your grant proposal\"). Recently an (anonymous) colleague told me they called their group \"computational AND theoretical neuroscience\" (just as these two fields where separated) out of the lack of consensus on the meaning of words and to not exclude anyone. Nowadays, even in the university, there is a continuum of fields combining biology,  mathematics or computer science and all computational neuroscientists reflect this as individuals. so what\\'s the situation in 2011?\\n\\nI often asked to fellow colleagues this question, \"what is computational neuroscience?\" and often got one of these answers (I try to be unbiased - please correct me):\\n\\n [ ] it is a field of neuroscience involving the use of computers (von Neumann machines, Dell boxes, macbooks, ...) to simulate and analyze data obtained from experimental neuroscience and advance our knowledge from this dialogue. Theoretical neuroscience is different in the sense that it proposes mathematical models of how it works.\\n\\n [ ] it is the field of neuroscience studying how information is represented and processed in neural activity. This involves a dialogue with experimental neuroscience to analyze and propose experiments. It proposes models, that is theories for the relation between function and structure. Theoretical neuroscience is a subset of computational neuroscience that tries to express these models in standard mathematical language.\\n\\n [ ] it is some field of neuroscience and why would you care to give an exact definition? its frontiers are moving and it has many facets, theoretical neuroscience being just one example. it cares about being less ignorant on relation between function and structure in neuroscience.\\n\\nIf you want to express your opinion, you can so in one click:\\nhttps://spreadsheets.google.com/viewform?formkey=dDc5X2dJRS1zMHRiSndSNERWelBkQlE6MQ\\nresults :\\nhttps://spreadsheets.google.com/lv?key=0AueMPskll6yrdDc5X2dJRS1zMHRiSndSNERWelBkQlE&amp;hl=fr&amp;f=0&amp;rm=full#gid=0\\n\\ncheers,\\nLaurent</pre>\\n</li>\\n</ul>\\n</div>\\n<div class=\"section\" id=\"results\">\\n<h1>results</h1>\\n<ul>\\n<li><p>I have received 36 responses with the following results (see\\n<a class=\"reference external\" href=\"https://spreadsheets.google.com/lv?key=0AueMPskll6yrdDc5X2dJRS1zMHRiSndSNERWelBkQlE&amp;hl=fr&amp;f=0&amp;rm=full#gid=0\">https://spreadsheets.google.com/lv?key=0AueMPskll6yrdDc5X2dJRS1zMHRiSndSNERWelBkQlE&amp;hl=fr&amp;f=0&amp;rm=full#gid=0</a>\\n):</p>\\n<ol class=\"arabic\">\\n<li><p>[ 5 ] it is a field of neuroscience involving the use of computers\\n(von Neumann machines, Dell boxes, macbooks, ...) to simulate and\\nanalyze data obtained from experimental neuroscience and advance\\nour knowledge from this dialogue. Theoretical neuroscience is\\ndifferent in the sense that it proposes mathematical models of how\\nit works.</p></li>\\n<li><p>[ 21 ] it is the field of neuroscience studying how information is\\nrepresented and processed in neural activity. This involves a\\ndialogue with experimental neuroscience to analyze and propose\\nexperiments. It proposes models, that is theories for the relation\\nbetween function and structure. Theoretical neuroscience is a\\nsubset of computational neuroscience that tries to express these\\nmodels in standard mathematical language.</p>\\n<ul class=\"simple\">\\n<li><p>one answer is amended by \"is a sub-field of theoretical\\nneuroscience that seeks to understand how information is\\nrepresented and processed in the nervous system by implementing\\nand testing theories in the form of computer simulations.\"</p></li>\\n<li><p>another answer comments \"Not a definition, but a comment. Since\\nComp. Neurosci. (or whatever it should be called -- some people\\nnow call it Neurodynamics) is already such a small field and\\nbarely represented on the map, I think it is foolish to further\\nsubdivide it. That is why I like the first definition a bit\\nmore, such that both are collected under one roof.\"</p></li>\\n</ul>\\n</li>\\n<li><p>[ 6 ] it is some field of neuroscience and why would you care to\\ngive an exact definition? its frontiers are moving and it has many\\nfacets, theoretical neuroscience being just one example. it cares\\nabout being less ignorant on relation between function and\\nstructure in neuroscience.</p></li>\\n<li><p>[ 4 ] other free-form answers were given:</p>\\n<ol class=\"arabic\">\\n<li><p>with a slight modification to the first definition</p>\\n<pre class=\"literal-block\">I agree with definition (1) except the \"Theoretical neuroscience is a subset of ...\" as I might argue that \"Computational neuroscience is a subset of theoretical neuroscience\".</pre>\\n</li>\\n<li><p>with a new definition close to the aims of theoretical\\nneuroscience</p>\\n<pre class=\"literal-block\">it is field of neuroscience that use mathematical models to analyze the data obtained from experimental neuroscience. Therefore, it gives a logical result to it and it can be explained instead to be as a magic box</pre>\\n</li>\\n<li><p>to a strict \"computational\" view</p>\\n<pre class=\"literal-block\">It is the subset of theoretical neuroscience that hypothesises that the brain is a computer. This relates to the first definition to the extent that \\'computation\\' is identified with \\'information processing\\'. Theoretical neuroscience is simply the development of models (in any form, including mathematics or computer simulations) of neural processes. It is possible for a process to be simulated or analyzed using a computer - see the second definition - without claiming the process itself is an example of computation. \\'Computational neuroscience\\' usually implies this stronger claim, though it is now often used more loosely (definition three).</pre>\\n</li>\\n<li><p>or to the interesting view that these different approaches\\noverlap but correspond to different approaches:</p>\\n<pre class=\"literal-block\">In my view, theoretical neuroscience is the non-experimenting version of neuroscience, much like theoretical physics is the non-experimenting version of physics.\\n\\nI would argue that theoretical neuroscience and computational neuroscience are different in their approaches.\\n\\nComputational neuroscience has a strong focus on simulation. It is the \"virtual\" extension of electrophysiology. The modeling philosophies of GENESIS and Neuron clearly reflect this. So called \"biologically realistic\" simulations are the gold standard in computational neuroscience.\\n\\nTheoretical neuroscience, by contrast, has its focus on mathematical descriptions and properties of nervous structures. Theoretical neuroscience starts, when the experiments, real or simulated, are done. The excellent books of Henry Tuckwell illustrate this. Here, simulation is not the method of choice, but the last resort after all pencils are broken and all paper is used up ;-)\\n\\nAt best, I would say that there is overlap between the two rather than that one comprises the other.\\n\\nAnd while we are at definitions. Why not add the re-incarnated term of \"Neuroinformatics\" to the contest?</pre>\\n</li>\\n</ol>\\n</li>\\n</ol>\\n</li>\\n</ul>\\n</div>\\n<div class=\"section\" id=\"analysis\">\\n<h1>analysis</h1>\\n<ul class=\"simple\">\\n<li><p>While there is a strong majority of participants that express an\\nagreement with the \"standard\", original definition of computational\\nneuroscience from the original papers, discussions raised by this\\npoll show that there is no consensus. A good sign of health for the\\ncommunity!</p></li>\\n<li><p>some more pointers:\\n<a class=\"reference external\" href=\"http://en.wikipedia.org/wiki/Computational_neuroscience\">http://en.wikipedia.org/wiki/Computational_neuroscience</a>\\n-\\n<a class=\"reference external\" href=\"http://www.citeulike.org/tag/computational_neuroscience\">http://www.citeulike.org/tag/computational_neuroscience</a></p></li>\\n</ul>\\n</div></body>'\n",
      "'<div class=\"section\" id=\"the-poll\">\\n<h1>the poll</h1>\\n<ul class=\"simple\">\\n<li><p>On april 1st, 2011, I sent the following message to the comp-neuro\\nand connectionists lists: (see\\n<a class=\"reference external\" href=\"http://www.neuroinf.org/pipermail/comp-neuro/2011-April/002613.html\">http://www.neuroinf.org/pipermail/comp-neuro/2011-April/002613.html</a></p></li>\\n</ul>\\n<!-- TEASER_END -->\\n<ul>\\n<li><pre class=\"literal-block\">Dear list\\n\\nA recent paper in PLoS Computational Biology\\n\\n&gt; The Roots of Bioinformatics in Theoretical Biology\\n&gt; Paulien Hogeweg\\n&gt; Volume 7(3) March 2011 http://www.ploscompbiol.org/article/info%3Adoi%2F10.1371%2Fjournal.pcbi.1002021\\n\\nmakes a point in the evolution of the meaning of the field of bioinformatics with the advent of data-driven modeling.\\n\\nThe same seems to have appeared in computational neuroscience. The sense slowly drifted from the original papers (such as Science, Vol. 241, No. 4871, 1988, pp. 1299-1306. by T. J. Sejnowski, C. Koch, P. S. Churchland) which I believed is perfectly captured in the sentence: \"The ultimate aim of computational neuroscience is to explain how electrical and chemical signals are used in the brain to represent and process information.\"  (this does not exclude using computers of course).\\n\\nIt seems to be solely a semantical problem, but this may generate some confusion (realpolitik translation: \"and this may hinder the efficiency of your grant proposal\"). Recently an (anonymous) colleague told me they called their group \"computational AND theoretical neuroscience\" (just as these two fields where separated) out of the lack of consensus on the meaning of words and to not exclude anyone. Nowadays, even in the university, there is a continuum of fields combining biology,  mathematics or computer science and all computational neuroscientists reflect this as individuals. so what\\'s the situation in 2011?\\n\\nI often asked to fellow colleagues this question, \"what is computational neuroscience?\" and often got one of these answers (I try to be unbiased - please correct me):\\n\\n [ ] it is a field of neuroscience involving the use of computers (von Neumann machines, Dell boxes, macbooks, ...) to simulate and analyze data obtained from experimental neuroscience and advance our knowledge from this dialogue. Theoretical neuroscience is different in the sense that it proposes mathematical models of how it works.\\n\\n [ ] it is the field of neuroscience studying how information is represented and processed in neural activity. This involves a dialogue with experimental neuroscience to analyze and propose experiments. It proposes models, that is theories for the relation between function and structure. Theoretical neuroscience is a subset of computational neuroscience that tries to express these models in standard mathematical language.\\n\\n [ ] it is some field of neuroscience and why would you care to give an exact definition? its frontiers are moving and it has many facets, theoretical neuroscience being just one example. it cares about being less ignorant on relation between function and structure in neuroscience.\\n\\nIf you want to express your opinion, you can so in one click:\\nhttps://spreadsheets.google.com/viewform?formkey=dDc5X2dJRS1zMHRiSndSNERWelBkQlE6MQ\\nresults :\\nhttps://spreadsheets.google.com/lv?key=0AueMPskll6yrdDc5X2dJRS1zMHRiSndSNERWelBkQlE&amp;hl=fr&amp;f=0&amp;rm=full#gid=0\\n\\ncheers,\\nLaurent</pre>\\n</li>\\n</ul>\\n</div>\\n<div class=\"section\" id=\"results\">\\n<h1>results</h1>\\n<ul>\\n<li><p>I have received 36 responses with the following results (see\\n<a class=\"reference external\" href=\"https://spreadsheets.google.com/lv?key=0AueMPskll6yrdDc5X2dJRS1zMHRiSndSNERWelBkQlE&amp;hl=fr&amp;f=0&amp;rm=full#gid=0\">https://spreadsheets.google.com/lv?key=0AueMPskll6yrdDc5X2dJRS1zMHRiSndSNERWelBkQlE&amp;hl=fr&amp;f=0&amp;rm=full#gid=0</a>\\n):</p>\\n<ol class=\"arabic\">\\n<li><p>[ 5 ] it is a field of neuroscience involving the use of computers\\n(von Neumann machines, Dell boxes, macbooks, ...) to simulate and\\nanalyze data obtained from experimental neuroscience and advance\\nour knowledge from this dialogue. Theoretical neuroscience is\\ndifferent in the sense that it proposes mathematical models of how\\nit works.</p></li>\\n<li><p>[ 21 ] it is the field of neuroscience studying how information is\\nrepresented and processed in neural activity. This involves a\\ndialogue with experimental neuroscience to analyze and propose\\nexperiments. It proposes models, that is theories for the relation\\nbetween function and structure. Theoretical neuroscience is a\\nsubset of computational neuroscience that tries to express these\\nmodels in standard mathematical language.</p>\\n<ul class=\"simple\">\\n<li><p>one answer is amended by \"is a sub-field of theoretical\\nneuroscience that seeks to understand how information is\\nrepresented and processed in the nervous system by implementing\\nand testing theories in the form of computer simulations.\"</p></li>\\n<li><p>another answer comments \"Not a definition, but a comment. Since\\nComp. Neurosci. (or whatever it should be called -- some people\\nnow call it Neurodynamics) is already such a small field and\\nbarely represented on the map, I think it is foolish to further\\nsubdivide it. That is why I like the first definition a bit\\nmore, such that both are collected under one roof.\"</p></li>\\n</ul>\\n</li>\\n<li><p>[ 6 ] it is some field of neuroscience and why would you care to\\ngive an exact definition? its frontiers are moving and it has many\\nfacets, theoretical neuroscience being just one example. it cares\\nabout being less ignorant on relation between function and\\nstructure in neuroscience.</p></li>\\n<li><p>[ 4 ] other free-form answers were given:</p>\\n<ol class=\"arabic\">\\n<li><p>with a slight modification to the first definition</p>\\n<pre class=\"literal-block\">I agree with definition (1) except the \"Theoretical neuroscience is a subset of ...\" as I might argue that \"Computational neuroscience is a subset of theoretical neuroscience\".</pre>\\n</li>\\n<li><p>with a new definition close to the aims of theoretical\\nneuroscience</p>\\n<pre class=\"literal-block\">it is field of neuroscience that use mathematical models to analyze the data obtained from experimental neuroscience. Therefore, it gives a logical result to it and it can be explained instead to be as a magic box</pre>\\n</li>\\n<li><p>to a strict \"computational\" view</p>\\n<pre class=\"literal-block\">It is the subset of theoretical neuroscience that hypothesises that the brain is a computer. This relates to the first definition to the extent that \\'computation\\' is identified with \\'information processing\\'. Theoretical neuroscience is simply the development of models (in any form, including mathematics or computer simulations) of neural processes. It is possible for a process to be simulated or analyzed using a computer - see the second definition - without claiming the process itself is an example of computation. \\'Computational neuroscience\\' usually implies this stronger claim, though it is now often used more loosely (definition three).</pre>\\n</li>\\n<li><p>or to the interesting view that these different approaches\\noverlap but correspond to different approaches:</p>\\n<pre class=\"literal-block\">In my view, theoretical neuroscience is the non-experimenting version of neuroscience, much like theoretical physics is the non-experimenting version of physics.\\n\\nI would argue that theoretical neuroscience and computational neuroscience are different in their approaches.\\n\\nComputational neuroscience has a strong focus on simulation. It is the \"virtual\" extension of electrophysiology. The modeling philosophies of GENESIS and Neuron clearly reflect this. So called \"biologically realistic\" simulations are the gold standard in computational neuroscience.\\n\\nTheoretical neuroscience, by contrast, has its focus on mathematical descriptions and properties of nervous structures. Theoretical neuroscience starts, when the experiments, real or simulated, are done. The excellent books of Henry Tuckwell illustrate this. Here, simulation is not the method of choice, but the last resort after all pencils are broken and all paper is used up ;-)\\n\\nAt best, I would say that there is overlap between the two rather than that one comprises the other.\\n\\nAnd while we are at definitions. Why not add the re-incarnated term of \"Neuroinformatics\" to the contest?</pre>\\n</li>\\n</ol>\\n</li>\\n</ol>\\n</li>\\n</ul>\\n</div>\\n<div class=\"section\" id=\"analysis\">\\n<h1>analysis</h1>\\n<ul class=\"simple\">\\n<li><p>While there is a strong majority of participants that express an\\nagreement with the \"standard\", original definition of computational\\nneuroscience from the original papers, discussions raised by this\\npoll show that there is no consensus. A good sign of health for the\\ncommunity!</p></li>\\n<li><p>some more pointers:\\n<a class=\"reference external\" href=\"http://en.wikipedia.org/wiki/Computational_neuroscience\">http://en.wikipedia.org/wiki/Computational_neuroscience</a>\\n-\\n<a class=\"reference external\" href=\"http://www.citeulike.org/tag/computational_neuroscience\">http://www.citeulike.org/tag/computational_neuroscience</a></p></li>\\n</ul>\\n</div>'\n",
      "'<div class=\"section\" id=\"the-poll\">\\n<h1>the poll</h1>\\n<ul class=\"simple\">\\n<li><p>On april 1st, 2011, I sent the following message to the comp-neuro\\nand connectionists lists: (see\\n<a class=\"reference external\" href=\"http://www.neuroinf.org/pipermail/comp-neuro/2011-April/002613.html\">http://www.neuroinf.org/pipermail/comp-neuro/2011-April/002613.html</a></p></li>\\n</ul>\\n</div></body>'\n",
      "'<div class=\"section\" id=\"the-poll\">\\n<h1>the poll</h1>\\n<ul class=\"simple\">\\n<li><p>On april 1st, 2011, I sent the following message to the comp-neuro\\nand connectionists lists: (see\\n<a class=\"reference external\" href=\"http://www.neuroinf.org/pipermail/comp-neuro/2011-April/002613.html\">http://www.neuroinf.org/pipermail/comp-neuro/2011-April/002613.html</a></p></li>\\n</ul>\\n</div>'\n",
      "'<div class=\"section\" id=\"the-poll\">\\n<h2>the poll</h2>\\n<ul class=\"simple\">\\n<li><p>On april 1st, 2011, I sent the following message to the comp-neuro\\nand connectionists lists: (see\\n<a class=\"reference external\" href=\"http://www.neuroinf.org/pipermail/comp-neuro/2011-April/002613.html\">http://www.neuroinf.org/pipermail/comp-neuro/2011-April/002613.html</a></p></li>\\n</ul>\\n</div></body>'\n",
      "'<div class=\"section\" id=\"the-poll\">\\n<h2>the poll</h2>\\n<ul class=\"simple\">\\n<li><p>On april 1st, 2011, I sent the following message to the comp-neuro\\nand connectionists lists: (see\\n<a class=\"reference external\" href=\"http://www.neuroinf.org/pipermail/comp-neuro/2011-April/002613.html\">http://www.neuroinf.org/pipermail/comp-neuro/2011-April/002613.html</a></p></li>\\n</ul>\\n</div>'\n",
      "'<div class=\"section\" id=\"the-poll\">\\n<h1>the poll</h1>\\n<ul class=\"simple\">\\n<li><p>On april 1st, 2011, I sent the following message to the comp-neuro\\nand connectionists lists: (see\\n<a class=\"reference external\" href=\"http://www.neuroinf.org/pipermail/comp-neuro/2011-April/002613.html\">http://www.neuroinf.org/pipermail/comp-neuro/2011-April/002613.html</a></p></li>\\n</ul>\\n<p class=\"more\"><a href=\"/posts/2011-07-25-computational-and-theoretical-neuroscience.html\">Read more…</a></p></div></body>'\n",
      "'<div class=\"section\" id=\"the-poll\">\\n<h1>the poll</h1>\\n<ul class=\"simple\">\\n<li><p>On april 1st, 2011, I sent the following message to the comp-neuro\\nand connectionists lists: (see\\n<a class=\"reference external\" href=\"http://www.neuroinf.org/pipermail/comp-neuro/2011-April/002613.html\">http://www.neuroinf.org/pipermail/comp-neuro/2011-April/002613.html</a></p></li>\\n</ul>\\n<p class=\"more\"><a href=\"/posts/2011-07-25-computational-and-theoretical-neuroscience.html\">Read more…</a></p></div>'\n",
      "'<div class=\"section\" id=\"the-poll\">\\n<h2>the poll</h2>\\n<ul class=\"simple\">\\n<li><p>On april 1st, 2011, I sent the following message to the comp-neuro\\nand connectionists lists: (see\\n<a class=\"reference external\" href=\"http://www.neuroinf.org/pipermail/comp-neuro/2011-April/002613.html\">http://www.neuroinf.org/pipermail/comp-neuro/2011-April/002613.html</a></p></li>\\n</ul>\\n<p class=\"more\"><a href=\"/posts/2011-07-25-computational-and-theoretical-neuroscience.html\">Read more…</a></p></div></body>'\n",
      "'<div class=\"section\" id=\"the-poll\">\\n<h2>the poll</h2>\\n<ul class=\"simple\">\\n<li><p>On april 1st, 2011, I sent the following message to the comp-neuro\\nand connectionists lists: (see\\n<a class=\"reference external\" href=\"http://www.neuroinf.org/pipermail/comp-neuro/2011-April/002613.html\">http://www.neuroinf.org/pipermail/comp-neuro/2011-April/002613.html</a></p></li>\\n</ul>\\n<p class=\"more\"><a href=\"/posts/2011-07-25-computational-and-theoretical-neuroscience.html\">Read more…</a></p></div>'\n",
      "'<div class=\"section\" id=\"install-on-ubuntu\">\\n<h1>install on ubuntu</h1>\\n<!-- TEASER_END -->\\n<ol class=\"arabic\">\\n<li><pre class=\"literal-block\">$ sudo apt-get install sshfs\\n[sudo] password for toto:\\nReading package lists... Done\\nBuilding dependency tree\\nReading state information... Done\\nThe following NEW packages will be installed\\n  sshfs\\n0 upgraded, 1 newly installed, 0 to remove and 0 not upgraded.\\nNeed to get 43.7 kB of archives.\\nAfter this operation, 160 kB of additional disk space will be used.\\nGet:1 http://gb.archive.ubuntu.com/ubuntu/ natty/main sshfs amd64 2.2-1build1 [43.7 kB]\\nFetched 43.7 kB in 0s (1,477 kB/s)\\nSelecting previously deselected package sshfs.\\n(Reading database ... 342224 files and directories currently installed.)\\nUnpacking sshfs (from .../sshfs_2.2-1build1_amd64.deb) ...\\nProcessing triggers for man-db ...\\nSetting up sshfs (2.2-1build1) ...</pre>\\n</li>\\n<li><pre class=\"literal-block\">$ sudo gpasswd -a $USER fuse\\nAdding user toto to group fuse</pre>\\n</li>\\n</ol>\\n</div>\\n<div class=\"section\" id=\"install-on-macosx\">\\n<h1>install on macosx</h1>\\n<ol class=\"arabic simple\">\\n<li><p>install\\n<a class=\"reference external\" href=\"http://code.google.com/p/macfuse\">http://code.google.com/p/macfuse</a></p></li>\\n<li><p>follow\\n<a class=\"reference external\" href=\"http://code.google.com/p/macfuse/wiki/MACFUSE_FS_SSHFS\">http://code.google.com/p/macfuse/wiki/MACFUSE_FS_SSHFS</a></p></li>\\n<li><p>on a 64 bits system, you have to install a proper version,\\nfollow\\n<a class=\"reference external\" href=\"http://superuser.com/questions/75332/is-truecrypt-macfuse-supported-on-snow-leopard-with-64-bit-kernel\">http://superuser.com/questions/75332/is-truecrypt-macfuse-supported-on-snow-leopard-with-64-bit-kernel</a></p></li>\\n</ol>\\n</div>\\n<div class=\"section\" id=\"using-sshfs-mac-and-ubuntu\">\\n<h1>using sshfs (mac and ubuntu)</h1>\\n<ol class=\"arabic\">\\n<li><p>Create a mountpoint and give yourself ownership</p>\\n<pre class=\"literal-block\">sudo mkdir /media/mount-name\\nsudo chown your-username /media/mount-name</pre>\\n</li>\\n<li><p>Mount the filesystem</p>\\n<pre class=\"literal-block\">sshfs remote-system-name:/remote-folder /media/mount-name</pre>\\n</li>\\n<li><p>Unmount the filesystem</p>\\n<pre class=\"literal-block\">fusermount -u /media/mount-name</pre>\\n</li>\\n</ol>\\n</div>\\n<div class=\"section\" id=\"automating-the-process-sshfs-mac-and-ubuntu\">\\n<h1>automating the process sshfs (mac and ubuntu)</h1>\\n<ol class=\"arabic\">\\n<li><p>script to <code class=\"docutils literal\">mount_cluster.sh</code> :</p>\\n<pre class=\"literal-block\">mkdir ~/spawn\\nsshfs toto@server:~/spawn ~/spawn</pre>\\n</li>\\n<li><p>script to unmount <code class=\"docutils literal\">umount_cluster.sh</code> :</p>\\n<pre class=\"literal-block\">fusermount -u  ~/spawn\\nrmdir ~/spawn</pre>\\n</li>\\n</ol>\\n</div></body>'\n",
      "'<div class=\"section\" id=\"install-on-ubuntu\">\\n<h1>install on ubuntu</h1>\\n<!-- TEASER_END -->\\n<ol class=\"arabic\">\\n<li><pre class=\"literal-block\">$ sudo apt-get install sshfs\\n[sudo] password for toto:\\nReading package lists... Done\\nBuilding dependency tree\\nReading state information... Done\\nThe following NEW packages will be installed\\n  sshfs\\n0 upgraded, 1 newly installed, 0 to remove and 0 not upgraded.\\nNeed to get 43.7 kB of archives.\\nAfter this operation, 160 kB of additional disk space will be used.\\nGet:1 http://gb.archive.ubuntu.com/ubuntu/ natty/main sshfs amd64 2.2-1build1 [43.7 kB]\\nFetched 43.7 kB in 0s (1,477 kB/s)\\nSelecting previously deselected package sshfs.\\n(Reading database ... 342224 files and directories currently installed.)\\nUnpacking sshfs (from .../sshfs_2.2-1build1_amd64.deb) ...\\nProcessing triggers for man-db ...\\nSetting up sshfs (2.2-1build1) ...</pre>\\n</li>\\n<li><pre class=\"literal-block\">$ sudo gpasswd -a $USER fuse\\nAdding user toto to group fuse</pre>\\n</li>\\n</ol>\\n</div>\\n<div class=\"section\" id=\"install-on-macosx\">\\n<h1>install on macosx</h1>\\n<ol class=\"arabic simple\">\\n<li><p>install\\n<a class=\"reference external\" href=\"http://code.google.com/p/macfuse\">http://code.google.com/p/macfuse</a></p></li>\\n<li><p>follow\\n<a class=\"reference external\" href=\"http://code.google.com/p/macfuse/wiki/MACFUSE_FS_SSHFS\">http://code.google.com/p/macfuse/wiki/MACFUSE_FS_SSHFS</a></p></li>\\n<li><p>on a 64 bits system, you have to install a proper version,\\nfollow\\n<a class=\"reference external\" href=\"http://superuser.com/questions/75332/is-truecrypt-macfuse-supported-on-snow-leopard-with-64-bit-kernel\">http://superuser.com/questions/75332/is-truecrypt-macfuse-supported-on-snow-leopard-with-64-bit-kernel</a></p></li>\\n</ol>\\n</div>\\n<div class=\"section\" id=\"using-sshfs-mac-and-ubuntu\">\\n<h1>using sshfs (mac and ubuntu)</h1>\\n<ol class=\"arabic\">\\n<li><p>Create a mountpoint and give yourself ownership</p>\\n<pre class=\"literal-block\">sudo mkdir /media/mount-name\\nsudo chown your-username /media/mount-name</pre>\\n</li>\\n<li><p>Mount the filesystem</p>\\n<pre class=\"literal-block\">sshfs remote-system-name:/remote-folder /media/mount-name</pre>\\n</li>\\n<li><p>Unmount the filesystem</p>\\n<pre class=\"literal-block\">fusermount -u /media/mount-name</pre>\\n</li>\\n</ol>\\n</div>\\n<div class=\"section\" id=\"automating-the-process-sshfs-mac-and-ubuntu\">\\n<h1>automating the process sshfs (mac and ubuntu)</h1>\\n<ol class=\"arabic\">\\n<li><p>script to <code class=\"docutils literal\">mount_cluster.sh</code> :</p>\\n<pre class=\"literal-block\">mkdir ~/spawn\\nsshfs toto@server:~/spawn ~/spawn</pre>\\n</li>\\n<li><p>script to unmount <code class=\"docutils literal\">umount_cluster.sh</code> :</p>\\n<pre class=\"literal-block\">fusermount -u  ~/spawn\\nrmdir ~/spawn</pre>\\n</li>\\n</ol>\\n</div>'\n",
      "'<div class=\"section\" id=\"install-on-ubuntu\">\\n<h1>install on ubuntu</h1>\\n<!-- TEASER_END -->\\n<ol class=\"arabic\">\\n<li><pre class=\"literal-block\">$ sudo apt-get install sshfs\\n[sudo] password for toto:\\nReading package lists... Done\\nBuilding dependency tree\\nReading state information... Done\\nThe following NEW packages will be installed\\n  sshfs\\n0 upgraded, 1 newly installed, 0 to remove and 0 not upgraded.\\nNeed to get 43.7 kB of archives.\\nAfter this operation, 160 kB of additional disk space will be used.\\nGet:1 http://gb.archive.ubuntu.com/ubuntu/ natty/main sshfs amd64 2.2-1build1 [43.7 kB]\\nFetched 43.7 kB in 0s (1,477 kB/s)\\nSelecting previously deselected package sshfs.\\n(Reading database ... 342224 files and directories currently installed.)\\nUnpacking sshfs (from .../sshfs_2.2-1build1_amd64.deb) ...\\nProcessing triggers for man-db ...\\nSetting up sshfs (2.2-1build1) ...</pre>\\n</li>\\n<li><pre class=\"literal-block\">$ sudo gpasswd -a $USER fuse\\nAdding user toto to group fuse</pre>\\n</li>\\n</ol>\\n</div>\\n<div class=\"section\" id=\"install-on-macosx\">\\n<h1>install on macosx</h1>\\n<ol class=\"arabic simple\">\\n<li><p>install\\n<a class=\"reference external\" href=\"http://code.google.com/p/macfuse\">http://code.google.com/p/macfuse</a></p></li>\\n<li><p>follow\\n<a class=\"reference external\" href=\"http://code.google.com/p/macfuse/wiki/MACFUSE_FS_SSHFS\">http://code.google.com/p/macfuse/wiki/MACFUSE_FS_SSHFS</a></p></li>\\n<li><p>on a 64 bits system, you have to install a proper version,\\nfollow\\n<a class=\"reference external\" href=\"http://superuser.com/questions/75332/is-truecrypt-macfuse-supported-on-snow-leopard-with-64-bit-kernel\">http://superuser.com/questions/75332/is-truecrypt-macfuse-supported-on-snow-leopard-with-64-bit-kernel</a></p></li>\\n</ol>\\n</div>\\n<div class=\"section\" id=\"using-sshfs-mac-and-ubuntu\">\\n<h1>using sshfs (mac and ubuntu)</h1>\\n<ol class=\"arabic\">\\n<li><p>Create a mountpoint and give yourself ownership</p>\\n<pre class=\"literal-block\">sudo mkdir /media/mount-name\\nsudo chown your-username /media/mount-name</pre>\\n</li>\\n<li><p>Mount the filesystem</p>\\n<pre class=\"literal-block\">sshfs remote-system-name:/remote-folder /media/mount-name</pre>\\n</li>\\n<li><p>Unmount the filesystem</p>\\n<pre class=\"literal-block\">fusermount -u /media/mount-name</pre>\\n</li>\\n</ol>\\n</div>\\n<div class=\"section\" id=\"automating-the-process-sshfs-mac-and-ubuntu\">\\n<h1>automating the process sshfs (mac and ubuntu)</h1>\\n<ol class=\"arabic\">\\n<li><p>script to <code class=\"docutils literal\">mount_cluster.sh</code> :</p>\\n<pre class=\"literal-block\">mkdir ~/spawn\\nsshfs toto@server:~/spawn ~/spawn</pre>\\n</li>\\n<li><p>script to unmount <code class=\"docutils literal\">umount_cluster.sh</code> :</p>\\n<pre class=\"literal-block\">fusermount -u  ~/spawn\\nrmdir ~/spawn</pre>\\n</li>\\n</ol>\\n</div></body>'\n",
      "'<div class=\"section\" id=\"install-on-ubuntu\">\\n<h1>install on ubuntu</h1>\\n<!-- TEASER_END -->\\n<ol class=\"arabic\">\\n<li><pre class=\"literal-block\">$ sudo apt-get install sshfs\\n[sudo] password for toto:\\nReading package lists... Done\\nBuilding dependency tree\\nReading state information... Done\\nThe following NEW packages will be installed\\n  sshfs\\n0 upgraded, 1 newly installed, 0 to remove and 0 not upgraded.\\nNeed to get 43.7 kB of archives.\\nAfter this operation, 160 kB of additional disk space will be used.\\nGet:1 http://gb.archive.ubuntu.com/ubuntu/ natty/main sshfs amd64 2.2-1build1 [43.7 kB]\\nFetched 43.7 kB in 0s (1,477 kB/s)\\nSelecting previously deselected package sshfs.\\n(Reading database ... 342224 files and directories currently installed.)\\nUnpacking sshfs (from .../sshfs_2.2-1build1_amd64.deb) ...\\nProcessing triggers for man-db ...\\nSetting up sshfs (2.2-1build1) ...</pre>\\n</li>\\n<li><pre class=\"literal-block\">$ sudo gpasswd -a $USER fuse\\nAdding user toto to group fuse</pre>\\n</li>\\n</ol>\\n</div>\\n<div class=\"section\" id=\"install-on-macosx\">\\n<h1>install on macosx</h1>\\n<ol class=\"arabic simple\">\\n<li><p>install\\n<a class=\"reference external\" href=\"http://code.google.com/p/macfuse\">http://code.google.com/p/macfuse</a></p></li>\\n<li><p>follow\\n<a class=\"reference external\" href=\"http://code.google.com/p/macfuse/wiki/MACFUSE_FS_SSHFS\">http://code.google.com/p/macfuse/wiki/MACFUSE_FS_SSHFS</a></p></li>\\n<li><p>on a 64 bits system, you have to install a proper version,\\nfollow\\n<a class=\"reference external\" href=\"http://superuser.com/questions/75332/is-truecrypt-macfuse-supported-on-snow-leopard-with-64-bit-kernel\">http://superuser.com/questions/75332/is-truecrypt-macfuse-supported-on-snow-leopard-with-64-bit-kernel</a></p></li>\\n</ol>\\n</div>\\n<div class=\"section\" id=\"using-sshfs-mac-and-ubuntu\">\\n<h1>using sshfs (mac and ubuntu)</h1>\\n<ol class=\"arabic\">\\n<li><p>Create a mountpoint and give yourself ownership</p>\\n<pre class=\"literal-block\">sudo mkdir /media/mount-name\\nsudo chown your-username /media/mount-name</pre>\\n</li>\\n<li><p>Mount the filesystem</p>\\n<pre class=\"literal-block\">sshfs remote-system-name:/remote-folder /media/mount-name</pre>\\n</li>\\n<li><p>Unmount the filesystem</p>\\n<pre class=\"literal-block\">fusermount -u /media/mount-name</pre>\\n</li>\\n</ol>\\n</div>\\n<div class=\"section\" id=\"automating-the-process-sshfs-mac-and-ubuntu\">\\n<h1>automating the process sshfs (mac and ubuntu)</h1>\\n<ol class=\"arabic\">\\n<li><p>script to <code class=\"docutils literal\">mount_cluster.sh</code> :</p>\\n<pre class=\"literal-block\">mkdir ~/spawn\\nsshfs toto@server:~/spawn ~/spawn</pre>\\n</li>\\n<li><p>script to unmount <code class=\"docutils literal\">umount_cluster.sh</code> :</p>\\n<pre class=\"literal-block\">fusermount -u  ~/spawn\\nrmdir ~/spawn</pre>\\n</li>\\n</ol>\\n</div>'\n",
      "'<div class=\"section\" id=\"install-on-ubuntu\">\\n<h1>install on ubuntu</h1>\\n</div></body>'\n",
      "'<div class=\"section\" id=\"install-on-ubuntu\">\\n<h1>install on ubuntu</h1>\\n</div>'\n",
      "'<div class=\"section\" id=\"install-on-ubuntu\">\\n<h1>install on ubuntu</h1>\\n<!-- TEASER_END -->\\n<ol class=\"arabic\">\\n<li><pre class=\"literal-block\">$ sudo apt-get install sshfs\\n[sudo] password for toto:\\nReading package lists... Done\\nBuilding dependency tree\\nReading state information... Done\\nThe following NEW packages will be installed\\n  sshfs\\n0 upgraded, 1 newly installed, 0 to remove and 0 not upgraded.\\nNeed to get 43.7 kB of archives.\\nAfter this operation, 160 kB of additional disk space will be used.\\nGet:1 http://gb.archive.ubuntu.com/ubuntu/ natty/main sshfs amd64 2.2-1build1 [43.7 kB]\\nFetched 43.7 kB in 0s (1,477 kB/s)\\nSelecting previously deselected package sshfs.\\n(Reading database ... 342224 files and directories currently installed.)\\nUnpacking sshfs (from .../sshfs_2.2-1build1_amd64.deb) ...\\nProcessing triggers for man-db ...\\nSetting up sshfs (2.2-1build1) ...</pre>\\n</li>\\n<li><pre class=\"literal-block\">$ sudo gpasswd -a $USER fuse\\nAdding user toto to group fuse</pre>\\n</li>\\n</ol>\\n</div>\\n<div class=\"section\" id=\"install-on-macosx\">\\n<h1>install on macosx</h1>\\n<ol class=\"arabic simple\">\\n<li><p>install\\n<a class=\"reference external\" href=\"http://code.google.com/p/macfuse\">http://code.google.com/p/macfuse</a></p></li>\\n<li><p>follow\\n<a class=\"reference external\" href=\"http://code.google.com/p/macfuse/wiki/MACFUSE_FS_SSHFS\">http://code.google.com/p/macfuse/wiki/MACFUSE_FS_SSHFS</a></p></li>\\n<li><p>on a 64 bits system, you have to install a proper version,\\nfollow\\n<a class=\"reference external\" href=\"http://superuser.com/questions/75332/is-truecrypt-macfuse-supported-on-snow-leopard-with-64-bit-kernel\">http://superuser.com/questions/75332/is-truecrypt-macfuse-supported-on-snow-leopard-with-64-bit-kernel</a></p></li>\\n</ol>\\n</div>\\n<div class=\"section\" id=\"using-sshfs-mac-and-ubuntu\">\\n<h1>using sshfs (mac and ubuntu)</h1>\\n<ol class=\"arabic\">\\n<li><p>Create a mountpoint and give yourself ownership</p>\\n<pre class=\"literal-block\">sudo mkdir /media/mount-name\\nsudo chown your-username /media/mount-name</pre>\\n</li>\\n<li><p>Mount the filesystem</p>\\n<pre class=\"literal-block\">sshfs remote-system-name:/remote-folder /media/mount-name</pre>\\n</li>\\n<li><p>Unmount the filesystem</p>\\n<pre class=\"literal-block\">fusermount -u /media/mount-name</pre>\\n</li>\\n</ol>\\n</div>\\n<div class=\"section\" id=\"automating-the-process-sshfs-mac-and-ubuntu\">\\n<h1>automating the process sshfs (mac and ubuntu)</h1>\\n<ol class=\"arabic\">\\n<li><p>script to <code class=\"docutils literal\">mount_cluster.sh</code> :</p>\\n<pre class=\"literal-block\">mkdir ~/spawn\\nsshfs toto@server:~/spawn ~/spawn</pre>\\n</li>\\n<li><p>script to unmount <code class=\"docutils literal\">umount_cluster.sh</code> :</p>\\n<pre class=\"literal-block\">fusermount -u  ~/spawn\\nrmdir ~/spawn</pre>\\n</li>\\n</ol>\\n</div></body>'\n",
      "'<div class=\"section\" id=\"install-on-ubuntu\">\\n<h1>install on ubuntu</h1>\\n<!-- TEASER_END -->\\n<ol class=\"arabic\">\\n<li><pre class=\"literal-block\">$ sudo apt-get install sshfs\\n[sudo] password for toto:\\nReading package lists... Done\\nBuilding dependency tree\\nReading state information... Done\\nThe following NEW packages will be installed\\n  sshfs\\n0 upgraded, 1 newly installed, 0 to remove and 0 not upgraded.\\nNeed to get 43.7 kB of archives.\\nAfter this operation, 160 kB of additional disk space will be used.\\nGet:1 http://gb.archive.ubuntu.com/ubuntu/ natty/main sshfs amd64 2.2-1build1 [43.7 kB]\\nFetched 43.7 kB in 0s (1,477 kB/s)\\nSelecting previously deselected package sshfs.\\n(Reading database ... 342224 files and directories currently installed.)\\nUnpacking sshfs (from .../sshfs_2.2-1build1_amd64.deb) ...\\nProcessing triggers for man-db ...\\nSetting up sshfs (2.2-1build1) ...</pre>\\n</li>\\n<li><pre class=\"literal-block\">$ sudo gpasswd -a $USER fuse\\nAdding user toto to group fuse</pre>\\n</li>\\n</ol>\\n</div>\\n<div class=\"section\" id=\"install-on-macosx\">\\n<h1>install on macosx</h1>\\n<ol class=\"arabic simple\">\\n<li><p>install\\n<a class=\"reference external\" href=\"http://code.google.com/p/macfuse\">http://code.google.com/p/macfuse</a></p></li>\\n<li><p>follow\\n<a class=\"reference external\" href=\"http://code.google.com/p/macfuse/wiki/MACFUSE_FS_SSHFS\">http://code.google.com/p/macfuse/wiki/MACFUSE_FS_SSHFS</a></p></li>\\n<li><p>on a 64 bits system, you have to install a proper version,\\nfollow\\n<a class=\"reference external\" href=\"http://superuser.com/questions/75332/is-truecrypt-macfuse-supported-on-snow-leopard-with-64-bit-kernel\">http://superuser.com/questions/75332/is-truecrypt-macfuse-supported-on-snow-leopard-with-64-bit-kernel</a></p></li>\\n</ol>\\n</div>\\n<div class=\"section\" id=\"using-sshfs-mac-and-ubuntu\">\\n<h1>using sshfs (mac and ubuntu)</h1>\\n<ol class=\"arabic\">\\n<li><p>Create a mountpoint and give yourself ownership</p>\\n<pre class=\"literal-block\">sudo mkdir /media/mount-name\\nsudo chown your-username /media/mount-name</pre>\\n</li>\\n<li><p>Mount the filesystem</p>\\n<pre class=\"literal-block\">sshfs remote-system-name:/remote-folder /media/mount-name</pre>\\n</li>\\n<li><p>Unmount the filesystem</p>\\n<pre class=\"literal-block\">fusermount -u /media/mount-name</pre>\\n</li>\\n</ol>\\n</div>\\n<div class=\"section\" id=\"automating-the-process-sshfs-mac-and-ubuntu\">\\n<h1>automating the process sshfs (mac and ubuntu)</h1>\\n<ol class=\"arabic\">\\n<li><p>script to <code class=\"docutils literal\">mount_cluster.sh</code> :</p>\\n<pre class=\"literal-block\">mkdir ~/spawn\\nsshfs toto@server:~/spawn ~/spawn</pre>\\n</li>\\n<li><p>script to unmount <code class=\"docutils literal\">umount_cluster.sh</code> :</p>\\n<pre class=\"literal-block\">fusermount -u  ~/spawn\\nrmdir ~/spawn</pre>\\n</li>\\n</ol>\\n</div>'\n",
      "'<div class=\"section\" id=\"install-on-ubuntu\">\\n<h1>install on ubuntu</h1>\\n<!-- TEASER_END -->\\n<ol class=\"arabic\">\\n<li><pre class=\"literal-block\">$ sudo apt-get install sshfs\\n[sudo] password for toto:\\nReading package lists... Done\\nBuilding dependency tree\\nReading state information... Done\\nThe following NEW packages will be installed\\n  sshfs\\n0 upgraded, 1 newly installed, 0 to remove and 0 not upgraded.\\nNeed to get 43.7 kB of archives.\\nAfter this operation, 160 kB of additional disk space will be used.\\nGet:1 http://gb.archive.ubuntu.com/ubuntu/ natty/main sshfs amd64 2.2-1build1 [43.7 kB]\\nFetched 43.7 kB in 0s (1,477 kB/s)\\nSelecting previously deselected package sshfs.\\n(Reading database ... 342224 files and directories currently installed.)\\nUnpacking sshfs (from .../sshfs_2.2-1build1_amd64.deb) ...\\nProcessing triggers for man-db ...\\nSetting up sshfs (2.2-1build1) ...</pre>\\n</li>\\n<li><pre class=\"literal-block\">$ sudo gpasswd -a $USER fuse\\nAdding user toto to group fuse</pre>\\n</li>\\n</ol>\\n</div>\\n<div class=\"section\" id=\"install-on-macosx\">\\n<h1>install on macosx</h1>\\n<ol class=\"arabic simple\">\\n<li><p>install\\n<a class=\"reference external\" href=\"http://code.google.com/p/macfuse\">http://code.google.com/p/macfuse</a></p></li>\\n<li><p>follow\\n<a class=\"reference external\" href=\"http://code.google.com/p/macfuse/wiki/MACFUSE_FS_SSHFS\">http://code.google.com/p/macfuse/wiki/MACFUSE_FS_SSHFS</a></p></li>\\n<li><p>on a 64 bits system, you have to install a proper version,\\nfollow\\n<a class=\"reference external\" href=\"http://superuser.com/questions/75332/is-truecrypt-macfuse-supported-on-snow-leopard-with-64-bit-kernel\">http://superuser.com/questions/75332/is-truecrypt-macfuse-supported-on-snow-leopard-with-64-bit-kernel</a></p></li>\\n</ol>\\n</div>\\n<div class=\"section\" id=\"using-sshfs-mac-and-ubuntu\">\\n<h1>using sshfs (mac and ubuntu)</h1>\\n<ol class=\"arabic\">\\n<li><p>Create a mountpoint and give yourself ownership</p>\\n<pre class=\"literal-block\">sudo mkdir /media/mount-name\\nsudo chown your-username /media/mount-name</pre>\\n</li>\\n<li><p>Mount the filesystem</p>\\n<pre class=\"literal-block\">sshfs remote-system-name:/remote-folder /media/mount-name</pre>\\n</li>\\n<li><p>Unmount the filesystem</p>\\n<pre class=\"literal-block\">fusermount -u /media/mount-name</pre>\\n</li>\\n</ol>\\n</div>\\n<div class=\"section\" id=\"automating-the-process-sshfs-mac-and-ubuntu\">\\n<h1>automating the process sshfs (mac and ubuntu)</h1>\\n<ol class=\"arabic\">\\n<li><p>script to <code class=\"docutils literal\">mount_cluster.sh</code> :</p>\\n<pre class=\"literal-block\">mkdir ~/spawn\\nsshfs toto@server:~/spawn ~/spawn</pre>\\n</li>\\n<li><p>script to unmount <code class=\"docutils literal\">umount_cluster.sh</code> :</p>\\n<pre class=\"literal-block\">fusermount -u  ~/spawn\\nrmdir ~/spawn</pre>\\n</li>\\n</ol>\\n</div></body>'\n",
      "'<div class=\"section\" id=\"install-on-ubuntu\">\\n<h1>install on ubuntu</h1>\\n<!-- TEASER_END -->\\n<ol class=\"arabic\">\\n<li><pre class=\"literal-block\">$ sudo apt-get install sshfs\\n[sudo] password for toto:\\nReading package lists... Done\\nBuilding dependency tree\\nReading state information... Done\\nThe following NEW packages will be installed\\n  sshfs\\n0 upgraded, 1 newly installed, 0 to remove and 0 not upgraded.\\nNeed to get 43.7 kB of archives.\\nAfter this operation, 160 kB of additional disk space will be used.\\nGet:1 http://gb.archive.ubuntu.com/ubuntu/ natty/main sshfs amd64 2.2-1build1 [43.7 kB]\\nFetched 43.7 kB in 0s (1,477 kB/s)\\nSelecting previously deselected package sshfs.\\n(Reading database ... 342224 files and directories currently installed.)\\nUnpacking sshfs (from .../sshfs_2.2-1build1_amd64.deb) ...\\nProcessing triggers for man-db ...\\nSetting up sshfs (2.2-1build1) ...</pre>\\n</li>\\n<li><pre class=\"literal-block\">$ sudo gpasswd -a $USER fuse\\nAdding user toto to group fuse</pre>\\n</li>\\n</ol>\\n</div>\\n<div class=\"section\" id=\"install-on-macosx\">\\n<h1>install on macosx</h1>\\n<ol class=\"arabic simple\">\\n<li><p>install\\n<a class=\"reference external\" href=\"http://code.google.com/p/macfuse\">http://code.google.com/p/macfuse</a></p></li>\\n<li><p>follow\\n<a class=\"reference external\" href=\"http://code.google.com/p/macfuse/wiki/MACFUSE_FS_SSHFS\">http://code.google.com/p/macfuse/wiki/MACFUSE_FS_SSHFS</a></p></li>\\n<li><p>on a 64 bits system, you have to install a proper version,\\nfollow\\n<a class=\"reference external\" href=\"http://superuser.com/questions/75332/is-truecrypt-macfuse-supported-on-snow-leopard-with-64-bit-kernel\">http://superuser.com/questions/75332/is-truecrypt-macfuse-supported-on-snow-leopard-with-64-bit-kernel</a></p></li>\\n</ol>\\n</div>\\n<div class=\"section\" id=\"using-sshfs-mac-and-ubuntu\">\\n<h1>using sshfs (mac and ubuntu)</h1>\\n<ol class=\"arabic\">\\n<li><p>Create a mountpoint and give yourself ownership</p>\\n<pre class=\"literal-block\">sudo mkdir /media/mount-name\\nsudo chown your-username /media/mount-name</pre>\\n</li>\\n<li><p>Mount the filesystem</p>\\n<pre class=\"literal-block\">sshfs remote-system-name:/remote-folder /media/mount-name</pre>\\n</li>\\n<li><p>Unmount the filesystem</p>\\n<pre class=\"literal-block\">fusermount -u /media/mount-name</pre>\\n</li>\\n</ol>\\n</div>\\n<div class=\"section\" id=\"automating-the-process-sshfs-mac-and-ubuntu\">\\n<h1>automating the process sshfs (mac and ubuntu)</h1>\\n<ol class=\"arabic\">\\n<li><p>script to <code class=\"docutils literal\">mount_cluster.sh</code> :</p>\\n<pre class=\"literal-block\">mkdir ~/spawn\\nsshfs toto@server:~/spawn ~/spawn</pre>\\n</li>\\n<li><p>script to unmount <code class=\"docutils literal\">umount_cluster.sh</code> :</p>\\n<pre class=\"literal-block\">fusermount -u  ~/spawn\\nrmdir ~/spawn</pre>\\n</li>\\n</ol>\\n</div>'\n",
      "'<div class=\"section\" id=\"install-on-ubuntu\">\\n<h2>install on ubuntu</h2>\\n<!-- TEASER_END -->\\n<ol class=\"arabic\">\\n<li><pre class=\"literal-block\">$ sudo apt-get install sshfs\\n[sudo] password for toto:\\nReading package lists... Done\\nBuilding dependency tree\\nReading state information... Done\\nThe following NEW packages will be installed\\n  sshfs\\n0 upgraded, 1 newly installed, 0 to remove and 0 not upgraded.\\nNeed to get 43.7 kB of archives.\\nAfter this operation, 160 kB of additional disk space will be used.\\nGet:1 http://gb.archive.ubuntu.com/ubuntu/ natty/main sshfs amd64 2.2-1build1 [43.7 kB]\\nFetched 43.7 kB in 0s (1,477 kB/s)\\nSelecting previously deselected package sshfs.\\n(Reading database ... 342224 files and directories currently installed.)\\nUnpacking sshfs (from .../sshfs_2.2-1build1_amd64.deb) ...\\nProcessing triggers for man-db ...\\nSetting up sshfs (2.2-1build1) ...</pre>\\n</li>\\n<li><pre class=\"literal-block\">$ sudo gpasswd -a $USER fuse\\nAdding user toto to group fuse</pre>\\n</li>\\n</ol>\\n</div>\\n<div class=\"section\" id=\"install-on-macosx\">\\n<h2>install on macosx</h2>\\n<ol class=\"arabic simple\">\\n<li><p>install\\n<a class=\"reference external\" href=\"http://code.google.com/p/macfuse\">http://code.google.com/p/macfuse</a></p></li>\\n<li><p>follow\\n<a class=\"reference external\" href=\"http://code.google.com/p/macfuse/wiki/MACFUSE_FS_SSHFS\">http://code.google.com/p/macfuse/wiki/MACFUSE_FS_SSHFS</a></p></li>\\n<li><p>on a 64 bits system, you have to install a proper version,\\nfollow\\n<a class=\"reference external\" href=\"http://superuser.com/questions/75332/is-truecrypt-macfuse-supported-on-snow-leopard-with-64-bit-kernel\">http://superuser.com/questions/75332/is-truecrypt-macfuse-supported-on-snow-leopard-with-64-bit-kernel</a></p></li>\\n</ol>\\n</div>\\n<div class=\"section\" id=\"using-sshfs-mac-and-ubuntu\">\\n<h2>using sshfs (mac and ubuntu)</h2>\\n<ol class=\"arabic\">\\n<li><p>Create a mountpoint and give yourself ownership</p>\\n<pre class=\"literal-block\">sudo mkdir /media/mount-name\\nsudo chown your-username /media/mount-name</pre>\\n</li>\\n<li><p>Mount the filesystem</p>\\n<pre class=\"literal-block\">sshfs remote-system-name:/remote-folder /media/mount-name</pre>\\n</li>\\n<li><p>Unmount the filesystem</p>\\n<pre class=\"literal-block\">fusermount -u /media/mount-name</pre>\\n</li>\\n</ol>\\n</div>\\n<div class=\"section\" id=\"automating-the-process-sshfs-mac-and-ubuntu\">\\n<h2>automating the process sshfs (mac and ubuntu)</h2>\\n<ol class=\"arabic\">\\n<li><p>script to <code class=\"docutils literal\">mount_cluster.sh</code> :</p>\\n<pre class=\"literal-block\">mkdir ~/spawn\\nsshfs toto@server:~/spawn ~/spawn</pre>\\n</li>\\n<li><p>script to unmount <code class=\"docutils literal\">umount_cluster.sh</code> :</p>\\n<pre class=\"literal-block\">fusermount -u  ~/spawn\\nrmdir ~/spawn</pre>\\n</li>\\n</ol>\\n</div></body>'\n",
      "'<div class=\"section\" id=\"install-on-ubuntu\">\\n<h2>install on ubuntu</h2>\\n<!-- TEASER_END -->\\n<ol class=\"arabic\">\\n<li><pre class=\"literal-block\">$ sudo apt-get install sshfs\\n[sudo] password for toto:\\nReading package lists... Done\\nBuilding dependency tree\\nReading state information... Done\\nThe following NEW packages will be installed\\n  sshfs\\n0 upgraded, 1 newly installed, 0 to remove and 0 not upgraded.\\nNeed to get 43.7 kB of archives.\\nAfter this operation, 160 kB of additional disk space will be used.\\nGet:1 http://gb.archive.ubuntu.com/ubuntu/ natty/main sshfs amd64 2.2-1build1 [43.7 kB]\\nFetched 43.7 kB in 0s (1,477 kB/s)\\nSelecting previously deselected package sshfs.\\n(Reading database ... 342224 files and directories currently installed.)\\nUnpacking sshfs (from .../sshfs_2.2-1build1_amd64.deb) ...\\nProcessing triggers for man-db ...\\nSetting up sshfs (2.2-1build1) ...</pre>\\n</li>\\n<li><pre class=\"literal-block\">$ sudo gpasswd -a $USER fuse\\nAdding user toto to group fuse</pre>\\n</li>\\n</ol>\\n</div>\\n<div class=\"section\" id=\"install-on-macosx\">\\n<h2>install on macosx</h2>\\n<ol class=\"arabic simple\">\\n<li><p>install\\n<a class=\"reference external\" href=\"http://code.google.com/p/macfuse\">http://code.google.com/p/macfuse</a></p></li>\\n<li><p>follow\\n<a class=\"reference external\" href=\"http://code.google.com/p/macfuse/wiki/MACFUSE_FS_SSHFS\">http://code.google.com/p/macfuse/wiki/MACFUSE_FS_SSHFS</a></p></li>\\n<li><p>on a 64 bits system, you have to install a proper version,\\nfollow\\n<a class=\"reference external\" href=\"http://superuser.com/questions/75332/is-truecrypt-macfuse-supported-on-snow-leopard-with-64-bit-kernel\">http://superuser.com/questions/75332/is-truecrypt-macfuse-supported-on-snow-leopard-with-64-bit-kernel</a></p></li>\\n</ol>\\n</div>\\n<div class=\"section\" id=\"using-sshfs-mac-and-ubuntu\">\\n<h2>using sshfs (mac and ubuntu)</h2>\\n<ol class=\"arabic\">\\n<li><p>Create a mountpoint and give yourself ownership</p>\\n<pre class=\"literal-block\">sudo mkdir /media/mount-name\\nsudo chown your-username /media/mount-name</pre>\\n</li>\\n<li><p>Mount the filesystem</p>\\n<pre class=\"literal-block\">sshfs remote-system-name:/remote-folder /media/mount-name</pre>\\n</li>\\n<li><p>Unmount the filesystem</p>\\n<pre class=\"literal-block\">fusermount -u /media/mount-name</pre>\\n</li>\\n</ol>\\n</div>\\n<div class=\"section\" id=\"automating-the-process-sshfs-mac-and-ubuntu\">\\n<h2>automating the process sshfs (mac and ubuntu)</h2>\\n<ol class=\"arabic\">\\n<li><p>script to <code class=\"docutils literal\">mount_cluster.sh</code> :</p>\\n<pre class=\"literal-block\">mkdir ~/spawn\\nsshfs toto@server:~/spawn ~/spawn</pre>\\n</li>\\n<li><p>script to unmount <code class=\"docutils literal\">umount_cluster.sh</code> :</p>\\n<pre class=\"literal-block\">fusermount -u  ~/spawn\\nrmdir ~/spawn</pre>\\n</li>\\n</ol>\\n</div>'\n",
      "'<div class=\"section\" id=\"install-on-ubuntu\">\\n<h1>install on ubuntu</h1>\\n<!-- TEASER_END -->\\n<ol class=\"arabic\">\\n<li><pre class=\"literal-block\">$ sudo apt-get install sshfs\\n[sudo] password for toto:\\nReading package lists... Done\\nBuilding dependency tree\\nReading state information... Done\\nThe following NEW packages will be installed\\n  sshfs\\n0 upgraded, 1 newly installed, 0 to remove and 0 not upgraded.\\nNeed to get 43.7 kB of archives.\\nAfter this operation, 160 kB of additional disk space will be used.\\nGet:1 http://gb.archive.ubuntu.com/ubuntu/ natty/main sshfs amd64 2.2-1build1 [43.7 kB]\\nFetched 43.7 kB in 0s (1,477 kB/s)\\nSelecting previously deselected package sshfs.\\n(Reading database ... 342224 files and directories currently installed.)\\nUnpacking sshfs (from .../sshfs_2.2-1build1_amd64.deb) ...\\nProcessing triggers for man-db ...\\nSetting up sshfs (2.2-1build1) ...</pre>\\n</li>\\n<li><pre class=\"literal-block\">$ sudo gpasswd -a $USER fuse\\nAdding user toto to group fuse</pre>\\n</li>\\n</ol>\\n</div>\\n<div class=\"section\" id=\"install-on-macosx\">\\n<h1>install on macosx</h1>\\n<ol class=\"arabic simple\">\\n<li><p>install\\n<a class=\"reference external\" href=\"http://code.google.com/p/macfuse\">http://code.google.com/p/macfuse</a></p></li>\\n<li><p>follow\\n<a class=\"reference external\" href=\"http://code.google.com/p/macfuse/wiki/MACFUSE_FS_SSHFS\">http://code.google.com/p/macfuse/wiki/MACFUSE_FS_SSHFS</a></p></li>\\n<li><p>on a 64 bits system, you have to install a proper version,\\nfollow\\n<a class=\"reference external\" href=\"http://superuser.com/questions/75332/is-truecrypt-macfuse-supported-on-snow-leopard-with-64-bit-kernel\">http://superuser.com/questions/75332/is-truecrypt-macfuse-supported-on-snow-leopard-with-64-bit-kernel</a></p></li>\\n</ol>\\n</div>\\n<div class=\"section\" id=\"using-sshfs-mac-and-ubuntu\">\\n<h1>using sshfs (mac and ubuntu)</h1>\\n<ol class=\"arabic\">\\n<li><p>Create a mountpoint and give yourself ownership</p>\\n<pre class=\"literal-block\">sudo mkdir /media/mount-name\\nsudo chown your-username /media/mount-name</pre>\\n</li>\\n<li><p>Mount the filesystem</p>\\n<pre class=\"literal-block\">sshfs remote-system-name:/remote-folder /media/mount-name</pre>\\n</li>\\n<li><p>Unmount the filesystem</p>\\n<pre class=\"literal-block\">fusermount -u /media/mount-name</pre>\\n</li>\\n</ol>\\n</div>\\n<div class=\"section\" id=\"automating-the-process-sshfs-mac-and-ubuntu\">\\n<h1>automating the process sshfs (mac and ubuntu)</h1>\\n<ol class=\"arabic\">\\n<li><p>script to <code class=\"docutils literal\">mount_cluster.sh</code> :</p>\\n<pre class=\"literal-block\">mkdir ~/spawn\\nsshfs toto@server:~/spawn ~/spawn</pre>\\n</li>\\n<li><p>script to unmount <code class=\"docutils literal\">umount_cluster.sh</code> :</p>\\n<pre class=\"literal-block\">fusermount -u  ~/spawn\\nrmdir ~/spawn</pre>\\n</li>\\n</ol>\\n</div></body>'\n",
      "'<div class=\"section\" id=\"install-on-ubuntu\">\\n<h1>install on ubuntu</h1>\\n<!-- TEASER_END -->\\n<ol class=\"arabic\">\\n<li><pre class=\"literal-block\">$ sudo apt-get install sshfs\\n[sudo] password for toto:\\nReading package lists... Done\\nBuilding dependency tree\\nReading state information... Done\\nThe following NEW packages will be installed\\n  sshfs\\n0 upgraded, 1 newly installed, 0 to remove and 0 not upgraded.\\nNeed to get 43.7 kB of archives.\\nAfter this operation, 160 kB of additional disk space will be used.\\nGet:1 http://gb.archive.ubuntu.com/ubuntu/ natty/main sshfs amd64 2.2-1build1 [43.7 kB]\\nFetched 43.7 kB in 0s (1,477 kB/s)\\nSelecting previously deselected package sshfs.\\n(Reading database ... 342224 files and directories currently installed.)\\nUnpacking sshfs (from .../sshfs_2.2-1build1_amd64.deb) ...\\nProcessing triggers for man-db ...\\nSetting up sshfs (2.2-1build1) ...</pre>\\n</li>\\n<li><pre class=\"literal-block\">$ sudo gpasswd -a $USER fuse\\nAdding user toto to group fuse</pre>\\n</li>\\n</ol>\\n</div>\\n<div class=\"section\" id=\"install-on-macosx\">\\n<h1>install on macosx</h1>\\n<ol class=\"arabic simple\">\\n<li><p>install\\n<a class=\"reference external\" href=\"http://code.google.com/p/macfuse\">http://code.google.com/p/macfuse</a></p></li>\\n<li><p>follow\\n<a class=\"reference external\" href=\"http://code.google.com/p/macfuse/wiki/MACFUSE_FS_SSHFS\">http://code.google.com/p/macfuse/wiki/MACFUSE_FS_SSHFS</a></p></li>\\n<li><p>on a 64 bits system, you have to install a proper version,\\nfollow\\n<a class=\"reference external\" href=\"http://superuser.com/questions/75332/is-truecrypt-macfuse-supported-on-snow-leopard-with-64-bit-kernel\">http://superuser.com/questions/75332/is-truecrypt-macfuse-supported-on-snow-leopard-with-64-bit-kernel</a></p></li>\\n</ol>\\n</div>\\n<div class=\"section\" id=\"using-sshfs-mac-and-ubuntu\">\\n<h1>using sshfs (mac and ubuntu)</h1>\\n<ol class=\"arabic\">\\n<li><p>Create a mountpoint and give yourself ownership</p>\\n<pre class=\"literal-block\">sudo mkdir /media/mount-name\\nsudo chown your-username /media/mount-name</pre>\\n</li>\\n<li><p>Mount the filesystem</p>\\n<pre class=\"literal-block\">sshfs remote-system-name:/remote-folder /media/mount-name</pre>\\n</li>\\n<li><p>Unmount the filesystem</p>\\n<pre class=\"literal-block\">fusermount -u /media/mount-name</pre>\\n</li>\\n</ol>\\n</div>\\n<div class=\"section\" id=\"automating-the-process-sshfs-mac-and-ubuntu\">\\n<h1>automating the process sshfs (mac and ubuntu)</h1>\\n<ol class=\"arabic\">\\n<li><p>script to <code class=\"docutils literal\">mount_cluster.sh</code> :</p>\\n<pre class=\"literal-block\">mkdir ~/spawn\\nsshfs toto@server:~/spawn ~/spawn</pre>\\n</li>\\n<li><p>script to unmount <code class=\"docutils literal\">umount_cluster.sh</code> :</p>\\n<pre class=\"literal-block\">fusermount -u  ~/spawn\\nrmdir ~/spawn</pre>\\n</li>\\n</ol>\\n</div>'\n",
      "'<div class=\"section\" id=\"install-on-ubuntu\">\\n<h1>install on ubuntu</h1>\\n</div></body>'\n",
      "'<div class=\"section\" id=\"install-on-ubuntu\">\\n<h1>install on ubuntu</h1>\\n</div>'\n",
      "'<div class=\"section\" id=\"install-on-ubuntu\">\\n<h2>install on ubuntu</h2>\\n</div></body>'\n",
      "'<div class=\"section\" id=\"install-on-ubuntu\">\\n<h2>install on ubuntu</h2>\\n</div>'\n",
      "'<div class=\"section\" id=\"install-on-ubuntu\">\\n<h1>install on ubuntu</h1>\\n<p class=\"more\"><a href=\"/posts/2011-07-10-mounting-filesystems-using-SSH.html\">Read more…</a></p></div></body>'\n",
      "'<div class=\"section\" id=\"install-on-ubuntu\">\\n<h1>install on ubuntu</h1>\\n<p class=\"more\"><a href=\"/posts/2011-07-10-mounting-filesystems-using-SSH.html\">Read more…</a></p></div>'\n",
      "'<div class=\"section\" id=\"install-on-ubuntu\">\\n<h2>install on ubuntu</h2>\\n<p class=\"more\"><a href=\"/posts/2011-07-10-mounting-filesystems-using-SSH.html\">Read more…</a></p></div></body>'\n",
      "'<div class=\"section\" id=\"install-on-ubuntu\">\\n<h2>install on ubuntu</h2>\\n<p class=\"more\"><a href=\"/posts/2011-07-10-mounting-filesystems-using-SSH.html\">Read more…</a></p></div>'\n",
      "'<!-- TEASER_END -->\\n<div class=\"admonition warning\">\\n<p class=\"admonition-title\">Warning</p>\\n<p>This post is certainly obsolete...</p>\\n</div>\\n<ol class=\"arabic\">\\n<li><p>Just a add the following lines to your Makefile</p>\\n<pre class=\"literal-block\">HGID:=$(shell hg parents -R .. --template \"Mercurial revision {rev} - date: {date|isodate}\")\\nhgid.tex:dummy\\n        [ -f $@ ] || touch $@\\n        echo \\'\\\\\\\\renewcommand{\\\\hgid}{$(HGID)}\\' &gt; $@\\ndummy: ;</pre>\\n</li>\\n<li><p>and this lines to your main tex file</p>\\n<pre class=\"literal-block\">\\\\newcommand{\\\\hgid}{null}\\n\\\\input{hgid}</pre>\\n<p>now one can use the command <code class=\"docutils literal\">\\\\hgid</code> to get the version everywhere.</p>\\n</li>\\n<li><p>for instance</p>\\n<pre class=\"literal-block\">\\\\newcommand{\\\\HRule}{\\\\rule{\\\\linewidth}{0.5mm}}\\n\\\\usepackage{fancyhdr}\\n\\\\pagestyle{fancyplain}\\n\\\\fancyhead{}\\n\\\\chead{{\\\\sc This a DRAFT, please do not distribute.}}\\n\\\\cfoot{\\\\HRule \\\\\\\\ \\\\hgid}</pre>\\n</li>\\n</ol></body>'\n",
      "'<!-- TEASER_END -->\\n<div class=\"admonition warning\">\\n<p class=\"admonition-title\">Warning</p>\\n<p>This post is certainly obsolete...</p>\\n</div>\\n<ol class=\"arabic\">\\n<li><p>Just a add the following lines to your Makefile</p>\\n<pre class=\"literal-block\">HGID:=$(shell hg parents -R .. --template \"Mercurial revision {rev} - date: {date|isodate}\")\\nhgid.tex:dummy\\n        [ -f $@ ] || touch $@\\n        echo \\'\\\\\\\\renewcommand{\\\\hgid}{$(HGID)}\\' &gt; $@\\ndummy: ;</pre>\\n</li>\\n<li><p>and this lines to your main tex file</p>\\n<pre class=\"literal-block\">\\\\newcommand{\\\\hgid}{null}\\n\\\\input{hgid}</pre>\\n<p>now one can use the command <code class=\"docutils literal\">\\\\hgid</code> to get the version everywhere.</p>\\n</li>\\n<li><p>for instance</p>\\n<pre class=\"literal-block\">\\\\newcommand{\\\\HRule}{\\\\rule{\\\\linewidth}{0.5mm}}\\n\\\\usepackage{fancyhdr}\\n\\\\pagestyle{fancyplain}\\n\\\\fancyhead{}\\n\\\\chead{{\\\\sc This a DRAFT, please do not distribute.}}\\n\\\\cfoot{\\\\HRule \\\\\\\\ \\\\hgid}</pre>\\n</li>\\n</ol>'\n",
      "'<!-- TEASER_END -->\\n<div class=\"admonition warning\">\\n<p class=\"admonition-title\">Warning</p>\\n<p>This post is certainly obsolete...</p>\\n</div>\\n<ol class=\"arabic\">\\n<li><p>Just a add the following lines to your Makefile</p>\\n<pre class=\"literal-block\">HGID:=$(shell hg parents -R .. --template \"Mercurial revision {rev} - date: {date|isodate}\")\\nhgid.tex:dummy\\n        [ -f $@ ] || touch $@\\n        echo \\'\\\\\\\\renewcommand{\\\\hgid}{$(HGID)}\\' &gt; $@\\ndummy: ;</pre>\\n</li>\\n<li><p>and this lines to your main tex file</p>\\n<pre class=\"literal-block\">\\\\newcommand{\\\\hgid}{null}\\n\\\\input{hgid}</pre>\\n<p>now one can use the command <code class=\"docutils literal\">\\\\hgid</code> to get the version everywhere.</p>\\n</li>\\n<li><p>for instance</p>\\n<pre class=\"literal-block\">\\\\newcommand{\\\\HRule}{\\\\rule{\\\\linewidth}{0.5mm}}\\n\\\\usepackage{fancyhdr}\\n\\\\pagestyle{fancyplain}\\n\\\\fancyhead{}\\n\\\\chead{{\\\\sc This a DRAFT, please do not distribute.}}\\n\\\\cfoot{\\\\HRule \\\\\\\\ \\\\hgid}</pre>\\n</li>\\n</ol></body>'\n",
      "'<!-- TEASER_END -->\\n<div class=\"admonition warning\">\\n<p class=\"admonition-title\">Warning</p>\\n<p>This post is certainly obsolete...</p>\\n</div>\\n<ol class=\"arabic\">\\n<li><p>Just a add the following lines to your Makefile</p>\\n<pre class=\"literal-block\">HGID:=$(shell hg parents -R .. --template \"Mercurial revision {rev} - date: {date|isodate}\")\\nhgid.tex:dummy\\n        [ -f $@ ] || touch $@\\n        echo \\'\\\\\\\\renewcommand{\\\\hgid}{$(HGID)}\\' &gt; $@\\ndummy: ;</pre>\\n</li>\\n<li><p>and this lines to your main tex file</p>\\n<pre class=\"literal-block\">\\\\newcommand{\\\\hgid}{null}\\n\\\\input{hgid}</pre>\\n<p>now one can use the command <code class=\"docutils literal\">\\\\hgid</code> to get the version everywhere.</p>\\n</li>\\n<li><p>for instance</p>\\n<pre class=\"literal-block\">\\\\newcommand{\\\\HRule}{\\\\rule{\\\\linewidth}{0.5mm}}\\n\\\\usepackage{fancyhdr}\\n\\\\pagestyle{fancyplain}\\n\\\\fancyhead{}\\n\\\\chead{{\\\\sc This a DRAFT, please do not distribute.}}\\n\\\\cfoot{\\\\HRule \\\\\\\\ \\\\hgid}</pre>\\n</li>\\n</ol>'\n",
      "\n",
      "Scanning posts...........done!\n",
      "\u001b[1m[2022-03-31 15:49:06] INFO: deploy: => preset 'default'\u001b[0m\n",
      "\u001b[1m[2022-03-31 15:49:06] INFO: deploy: ==> git add posts/* docs/* files/*\u001b[0m\n",
      "fatal: Unable to create '/Users/laurentperrinet/metagit/blog/laurentperrinet.github.io_sciblog/.git/index.lock': File exists.\n",
      "\n",
      "Another git process seems to be running in this repository, e.g.\n",
      "an editor opened by 'git commit'. Please make sure all processes\n",
      "are terminated then try again. If it still fails, a git process\n",
      "may have crashed in this repository earlier:\n",
      "remove the file manually to continue.\n",
      "\u001b[1;31m[2022-03-31 15:49:06] ERROR: deploy: Failed deployment -- command git add posts/* docs/* files/* returned 128\u001b[0m\n"
     ]
    }
   ],
   "source": [
    "!nikola build ; nikola deploy"
   ]
  },
  {
   "cell_type": "code",
   "execution_count": 16,
   "metadata": {},
   "outputs": [
    {
     "name": "stdout",
     "output_type": "stream",
     "text": [
      "On branch master\n",
      "Your branch and 'origin/master' have diverged,\n",
      "and have 2 and 1 different commits each, respectively.\n",
      "  (use \"git pull\" to merge the remote branch into yours)\n",
      "\n",
      "All conflicts fixed but you are still merging.\n",
      "  (use \"git commit\" to conclude merge)\n",
      "\n",
      "Changes not staged for commit:\n",
      "  (use \"git add <file>...\" to update what will be committed)\n",
      "  (use \"git restore <file>...\" to discard changes in working directory)\n",
      "\t\u001b[32mmodified:   bootstrapPost.ipynb\u001b[m\n",
      "\n",
      "Untracked files:\n",
      "  (use \"git add <file>...\" to include in what will be committed)\n",
      "\t\u001b[36m.merge_file_L4OqML\u001b[m\n",
      "\t\u001b[36m.merge_file_RJ3Thx\u001b[m\n",
      "\t\u001b[36m.merge_file_ym73Sh\u001b[m\n",
      "\n"
     ]
    }
   ],
   "source": [
    "!git status"
   ]
  },
  {
   "cell_type": "code",
   "execution_count": 17,
   "metadata": {},
   "outputs": [],
   "source": [
    "!open https://laurentperrinet.github.io/sciblog"
   ]
  },
  {
   "cell_type": "markdown",
   "metadata": {},
   "source": [
    "Voilà!"
   ]
  }
 ],
 "metadata": {
  "kernelspec": {
   "display_name": "Python 3 (ipykernel)",
   "language": "python",
   "name": "python3"
  },
  "language_info": {
   "codemirror_mode": {
    "name": "ipython",
    "version": 3
   },
   "file_extension": ".py",
   "mimetype": "text/x-python",
   "name": "python",
   "nbconvert_exporter": "python",
   "pygments_lexer": "ipython3",
   "version": "3.9.12"
  },
  "toc": {
   "base_numbering": 1,
   "nav_menu": {
    "height": "117px",
    "width": "252px"
   },
   "number_sections": true,
   "sideBar": true,
   "skip_h1_title": false,
   "title_cell": "Table of Contents",
   "title_sidebar": "Contents",
   "toc_cell": false,
   "toc_position": {},
   "toc_section_display": "block",
   "toc_window_display": false
  }
 },
 "nbformat": 4,
 "nbformat_minor": 4
}
