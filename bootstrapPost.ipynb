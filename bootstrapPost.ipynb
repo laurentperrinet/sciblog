{
 "cells": [
  {
   "cell_type": "markdown",
   "metadata": {},
   "source": [
    "# installing and updating nikola"
   ]
  },
  {
   "cell_type": "code",
   "execution_count": null,
   "metadata": {
    "scrolled": true
   },
   "outputs": [],
   "source": [
    "#!python3 -m pip uninstall -y nikola"
   ]
  },
  {
   "cell_type": "code",
   "execution_count": 1,
   "metadata": {
    "ExecuteTime": {
     "end_time": "2018-09-07T10:24:17.333057Z",
     "start_time": "2018-09-07T10:24:14.585077Z"
    }
   },
   "outputs": [
    {
     "name": "stdout",
     "output_type": "stream",
     "text": [
      "Collecting Nikola[extras]\n",
      "  Using cached https://files.pythonhosted.org/packages/a0/a7/73c0ae1ddc7fafd0e66ab19c68b5f7501a2a91b6042229e7c3722cfc5d52/Nikola-8.0.3-py3-none-any.whl\n",
      "Collecting Pygments>=1.6\n",
      "  Using cached https://files.pythonhosted.org/packages/be/39/32da3184734730c0e4d3fa3b2b5872104668ad6dc1b5a73d8e477e5fe967/Pygments-2.5.2-py2.py3-none-any.whl\n",
      "Collecting mako>=1.0.0\n",
      "\u001b[?25l  Downloading https://files.pythonhosted.org/packages/b0/3c/8dcd6883d009f7cae0f3157fb53e9afb05a0d3d33b3db1268ec2e6f4a56b/Mako-1.1.0.tar.gz (463kB)\n",
      "\u001b[K     |████████████████████████████████| 471kB 203kB/s eta 0:00:01\n",
      "\u001b[?25hProcessing /Users/lolo/Library/Caches/pip/wheels/d2/70/07/68b99a8e05dcd1ab194a8e0ccb9e4d0ac5dd6d8d139c7149b4/Logbook-1.5.3-cp37-cp37m-macosx_10_13_x86_64.whl\n",
      "Collecting PyRSS2Gen>=1.1\n",
      "  Downloading https://files.pythonhosted.org/packages/6d/01/fd610d5fc86f7dbdbefc4baa8f7fe15a2e5484244c41dcf363ca7e89f60c/PyRSS2Gen-1.1.tar.gz\n",
      "Collecting natsort>=3.5.2\n",
      "  Using cached https://files.pythonhosted.org/packages/81/27/db2ee290a962a7c876409c91f12982a699c8956eb9485e4bfb00d1b799b1/natsort-6.2.0-py2.py3-none-any.whl\n",
      "Collecting Babel>=2.6.0\n",
      "  Using cached https://files.pythonhosted.org/packages/15/a1/522dccd23e5d2e47aed4b6a16795b8213e3272c7506e625f2425ad025a19/Babel-2.8.0-py2.py3-none-any.whl\n",
      "Collecting python-dateutil>=2.6.0\n",
      "  Using cached https://files.pythonhosted.org/packages/d4/70/d60450c3dd48ef87586924207ae8907090de0b306af2bce5d134d78615cb/python_dateutil-2.8.1-py2.py3-none-any.whl\n",
      "Processing /Users/lolo/Library/Caches/pip/wheels/26/91/60/d3692030c8315e15452cb59723e25a3c5b6d73457486536805/doit-0.32.0-cp37-none-any.whl\n",
      "Collecting Pillow>=2.4.0\n",
      "  Using cached https://files.pythonhosted.org/packages/0c/43/b52847e473ac6cbd10a749b63018b2bb08b55c6e1a1923872361443906de/Pillow-7.0.0-cp37-cp37m-macosx_10_6_intel.whl\n",
      "Collecting docutils>=0.13\n",
      "\u001b[?25l  Downloading https://files.pythonhosted.org/packages/22/cd/a6aa959dca619918ccb55023b4cb151949c64d4d5d55b3f4ffd7eee0c6e8/docutils-0.15.2-py3-none-any.whl (547kB)\n",
      "\u001b[K     |████████████████████████████████| 552kB 257kB/s eta 0:00:01\n",
      "\u001b[?25hCollecting Markdown>=3.0.0\n",
      "\u001b[?25l  Downloading https://files.pythonhosted.org/packages/c0/4e/fd492e91abdc2d2fcb70ef453064d980688762079397f779758e055f6575/Markdown-3.1.1-py2.py3-none-any.whl (87kB)\n",
      "\u001b[K     |████████████████████████████████| 92kB 286kB/s eta 0:00:01\n",
      "\u001b[?25hCollecting piexif>=1.0.3\n",
      "  Downloading https://files.pythonhosted.org/packages/2c/d8/6f63147dd73373d051c5eb049ecd841207f898f50a5a1d4378594178f6cf/piexif-1.1.3-py2.py3-none-any.whl\n",
      "Collecting lxml>=3.3.5; python_version >= \"3.5\"\n",
      "  Using cached https://files.pythonhosted.org/packages/08/7f/981b9f4dc4f1926f9cbacbf61cba0f93ac7f466eeb62c0221b299fc5fe4f/lxml-4.4.2-cp37-cp37m-macosx_10_6_intel.macosx_10_9_intel.macosx_10_9_x86_64.macosx_10_10_intel.macosx_10_10_x86_64.whl\n",
      "Collecting Yapsy>=1.11.223\n",
      "\u001b[?25l  Downloading https://files.pythonhosted.org/packages/f1/4c/c771fbc77045a45678cdd78f57fd4006259767c363c1f884071debd200f7/Yapsy-1.12.2.tar.gz (83kB)\n",
      "\u001b[K     |████████████████████████████████| 92kB 351kB/s eta 0:00:01\n",
      "\u001b[?25hCollecting setuptools>=24.2.0\n",
      "  Using cached https://files.pythonhosted.org/packages/f9/d3/955738b20d3832dfa3cd3d9b07e29a8162edb480bf988332f5e6e48ca444/setuptools-44.0.0-py2.py3-none-any.whl\n",
      "Collecting requests>=2.2.0\n",
      "\u001b[?25l  Downloading https://files.pythonhosted.org/packages/51/bd/23c926cd341ea6b7dd0b2a00aba99ae0f828be89d72b2190f27c11d4b7fb/requests-2.22.0-py2.py3-none-any.whl (57kB)\n",
      "\u001b[K     |████████████████████████████████| 61kB 340kB/s eta 0:00:01\n",
      "\u001b[?25hCollecting unidecode>=0.04.16\n",
      "\u001b[?25l  Downloading https://files.pythonhosted.org/packages/d0/42/d9edfed04228bacea2d824904cae367ee9efd05e6cce7ceaaedd0b0ad964/Unidecode-1.1.1-py2.py3-none-any.whl (238kB)\n",
      "\u001b[K     |████████████████████████████████| 245kB 337kB/s eta 0:00:01\n",
      "\u001b[?25hCollecting blinker>=1.3\n",
      "\u001b[?25l  Downloading https://files.pythonhosted.org/packages/1b/51/e2a9f3b757eb802f61dc1f2b09c8c99f6eb01cf06416c0671253536517b6/blinker-1.4.tar.gz (111kB)\n",
      "\u001b[K     |████████████████████████████████| 112kB 334kB/s eta 0:00:01\n",
      "\u001b[?25hCollecting notebook>=4.0.0; extra == \"extras\"\n",
      "  Using cached https://files.pythonhosted.org/packages/f5/69/d2ffaf7efc20ce47469187e3a41e6e03e17b45de5a6559f4e7ab3eace5e1/notebook-6.0.2-py3-none-any.whl\n",
      "Collecting phpserialize>=1.3; extra == \"extras\"\n",
      "  Downloading https://files.pythonhosted.org/packages/ec/6d/437efc62d7327bcbcfa18f6bb27a0de3c8621e9af045dfc322d12eb310c9/phpserialize-1.3.tar.gz\n",
      "Collecting aiohttp>=2.3.8; extra == \"extras\"\n",
      "\u001b[?25l  Downloading https://files.pythonhosted.org/packages/40/fd/3a595d6467eb31f7b69eb980778567e764b5d93990b4ceb8ddf6079dd776/aiohttp-3.6.2-cp37-cp37m-macosx_10_13_x86_64.whl (642kB)\n",
      "\u001b[K     |████████████████████████████████| 645kB 273kB/s eta 0:00:01\n",
      "\u001b[?25hCollecting typogrify>=2.0.4; extra == \"extras\"\n",
      "  Downloading https://files.pythonhosted.org/packages/8a/bf/64959d6187d42472acb846bcf462347c9124952c05bd57e5769d5f28f9a6/typogrify-2.0.7.tar.gz\n",
      "Collecting ipykernel>=4.0.0; extra == \"extras\"\n",
      "  Using cached https://files.pythonhosted.org/packages/e1/92/8fec943b5b81078399f969f00557804d884c96fcd0bc296e81a2ed4fd270/ipykernel-5.1.3-py3-none-any.whl\n",
      "Collecting husl>=4.0.2; extra == \"extras\"\n",
      "  Downloading https://files.pythonhosted.org/packages/85/49/089bab9b89e6b5ee99e1c1408664ea0c18a78a8fff3a90ce34daccd241de/husl-4.0.3.tar.gz\n",
      "Collecting ghp-import2>=1.0.0; extra == \"extras\"\n",
      "  Downloading https://files.pythonhosted.org/packages/5f/ef/9a7f507f73b9ae27830de96419ba99e4b8a6b84ac177df6292a7510a0b66/ghp_import2-1.0.1-py2.py3-none-any.whl\n",
      "Collecting pyphen>=0.9.1; extra == \"extras\"\n",
      "\u001b[?25l  Downloading https://files.pythonhosted.org/packages/15/82/08a3629dce8d1f3d91db843bb36d4d7db6b6269d5067259613a0d5c8a9db/Pyphen-0.9.5-py2.py3-none-any.whl (3.0MB)\n",
      "\u001b[K     |████████████████████████████████| 3.0MB 341kB/s eta 0:00:01\n",
      "\u001b[?25hCollecting watchdog>=0.8.3; extra == \"extras\"\n",
      "\u001b[?25l  Downloading https://files.pythonhosted.org/packages/bb/e3/5a55d48a29300160779f0a0d2776d17c1b762a2039b36de528b093b87d5b/watchdog-0.9.0.tar.gz (85kB)\n",
      "\u001b[K     |████████████████████████████████| 92kB 648kB/s eta 0:00:01\n",
      "\u001b[?25hCollecting toml>=0.9.2; extra == \"extras\"\n",
      "  Downloading https://files.pythonhosted.org/packages/a2/12/ced7105d2de62fa7c8fb5fce92cc4ce66b57c95fb875e9318dba7f8c5db0/toml-0.10.0-py2.py3-none-any.whl\n",
      "Collecting pygal>=2.0.0; extra == \"extras\"\n",
      "\u001b[?25l  Downloading https://files.pythonhosted.org/packages/5f/b7/201c9254ac0d2b8ffa3bb2d528d23a4130876d9ba90bc28e99633f323f17/pygal-2.4.0-py2.py3-none-any.whl (127kB)\n",
      "\u001b[K     |████████████████████████████████| 133kB 276kB/s eta 0:00:01\n",
      "\u001b[?25hCollecting Jinja2>=2.7.2; extra == \"extras\"\n",
      "\u001b[?25l  Downloading https://files.pythonhosted.org/packages/65/e0/eb35e762802015cab1ccee04e8a277b03f1d8e53da3ec3106882ec42558b/Jinja2-2.10.3-py2.py3-none-any.whl (125kB)\n",
      "\u001b[K     |████████████████████████████████| 133kB 350kB/s eta 0:00:01\n",
      "\u001b[?25hCollecting ruamel.yaml>=0.15; python_version >= \"3.5\" and extra == \"extras\"\n",
      "\u001b[?25l  Downloading https://files.pythonhosted.org/packages/fa/90/ecff85a2e9c497e2fa7142496e10233556b5137db5bd46f3f3b006935ca8/ruamel.yaml-0.16.5-py2.py3-none-any.whl (123kB)\n",
      "\u001b[K     |████████████████████████████████| 133kB 282kB/s eta 0:00:01\n",
      "\u001b[?25hCollecting micawber>=0.3.0; extra == \"extras\"\n",
      "  Downloading https://files.pythonhosted.org/packages/62/5e/0c346186474f4583d5f31dd8ff24f2994b3a139827efb9c710fdee0cc95c/micawber-0.5.1.tar.gz\n",
      "Collecting MarkupSafe>=0.9.2\n",
      "  Downloading https://files.pythonhosted.org/packages/ce/c6/f000f1af136ef74e4a95e33785921c73595c5390403f102e9b231b065b7a/MarkupSafe-1.1.1-cp37-cp37m-macosx_10_6_intel.whl\n",
      "Collecting pytz>=2015.7\n",
      "\u001b[?25l  Downloading https://files.pythonhosted.org/packages/e7/f9/f0b53f88060247251bf481fa6ea62cd0d25bf1b11a87888e53ce5b7c8ad2/pytz-2019.3-py2.py3-none-any.whl (509kB)\n",
      "\u001b[K     |████████████████████████████████| 512kB 410kB/s eta 0:00:01\n",
      "\u001b[?25hCollecting six>=1.5\n",
      "  Using cached https://files.pythonhosted.org/packages/65/26/32b8464df2a97e6dd1b656ed26b2c194606c16fe163c695a992b36c11cdf/six-1.13.0-py2.py3-none-any.whl\n",
      "Collecting macfsevents; sys_platform == \"darwin\"\n",
      "  Downloading https://files.pythonhosted.org/packages/28/2e/1ff399cfd2a6a8ebb65152203c920643c2169aa507b2e96559d19baeb7c3/MacFSEvents-0.8.1.tar.gz\n",
      "Collecting cloudpickle\n",
      "  Downloading https://files.pythonhosted.org/packages/c1/49/334e279caa3231255725c8e860fa93e72083567625573421db8875846c14/cloudpickle-1.2.2-py2.py3-none-any.whl\n",
      "Collecting idna<2.9,>=2.5\n",
      "\u001b[?25l  Downloading https://files.pythonhosted.org/packages/14/2c/cd551d81dbe15200be1cf41cd03869a46fe7226e7450af7a6545bfc474c9/idna-2.8-py2.py3-none-any.whl (58kB)\n",
      "\u001b[K     |████████████████████████████████| 61kB 320kB/s eta 0:00:01\n",
      "\u001b[?25hCollecting chardet<3.1.0,>=3.0.2\n",
      "\u001b[?25l  Downloading https://files.pythonhosted.org/packages/bc/a9/01ffebfb562e4274b6487b4bb1ddec7ca55ec7510b22e4c51f14098443b8/chardet-3.0.4-py2.py3-none-any.whl (133kB)\n",
      "\u001b[K     |████████████████████████████████| 143kB 256kB/s eta 0:00:01\n",
      "\u001b[?25hCollecting certifi>=2017.4.17\n",
      "  Using cached https://files.pythonhosted.org/packages/b9/63/df50cac98ea0d5b006c55a399c3bf1db9da7b5a24de7890bc9cfd5dd9e99/certifi-2019.11.28-py2.py3-none-any.whl\n",
      "Collecting urllib3!=1.25.0,!=1.25.1,<1.26,>=1.21.1\n",
      "  Using cached https://files.pythonhosted.org/packages/b4/40/a9837291310ee1ccc242ceb6ebfd9eb21539649f193a7c8c86ba15b98539/urllib3-1.25.7-py2.py3-none-any.whl\n",
      "Collecting terminado>=0.8.1\n",
      "  Using cached https://files.pythonhosted.org/packages/ff/96/1d9a2c23990aea8f8e0b5c3b6627d03196a73771a17a2d9860bbe9823ab6/terminado-0.8.3-py2.py3-none-any.whl\n",
      "Collecting prometheus-client\n",
      "  Downloading https://files.pythonhosted.org/packages/b3/23/41a5a24b502d35a4ad50a5bb7202a5e1d9a0364d0c12f56db3dbf7aca76d/prometheus_client-0.7.1.tar.gz\n",
      "Collecting pyzmq>=17\n",
      "  Using cached https://files.pythonhosted.org/packages/71/0e/ee7685d1340a4cc29fb64d164b5c5667122b2ec1a94cfc923adeef378116/pyzmq-18.1.1-cp37-cp37m-macosx_10_9_x86_64.whl\n",
      "Collecting jupyter-client>=5.3.4\n",
      "\u001b[?25l  Downloading https://files.pythonhosted.org/packages/13/81/fe0eee1bcf949851a120254b1f530ae1e01bdde2d3ab9710c6ff81525061/jupyter_client-5.3.4-py2.py3-none-any.whl (92kB)\n",
      "\u001b[K     |████████████████████████████████| 92kB 239kB/s eta 0:00:01\n",
      "\u001b[?25hCollecting traitlets>=4.2.1\n",
      "\u001b[?25l  Downloading https://files.pythonhosted.org/packages/ca/ab/872a23e29cec3cf2594af7e857f18b687ad21039c1f9b922fac5b9b142d5/traitlets-4.3.3-py2.py3-none-any.whl (75kB)\n",
      "\u001b[K     |████████████████████████████████| 81kB 371kB/s eta 0:00:01\n",
      "\u001b[?25hCollecting nbconvert\n",
      "  Using cached https://files.pythonhosted.org/packages/79/6c/05a569e9f703d18aacb89b7ad6075b404e8a4afde2c26b73ca77bb644b14/nbconvert-5.6.1-py2.py3-none-any.whl\n",
      "Collecting Send2Trash\n",
      "  Downloading https://files.pythonhosted.org/packages/49/46/c3dc27481d1cc57b9385aff41c474ceb7714f7935b1247194adae45db714/Send2Trash-1.5.0-py3-none-any.whl\n",
      "Collecting tornado>=5.0\n",
      "\u001b[?25l  Downloading https://files.pythonhosted.org/packages/30/78/2d2823598496127b21423baffaa186b668f73cd91887fcef78b6eade136b/tornado-6.0.3.tar.gz (482kB)\n",
      "\u001b[K     |████████████████████████████████| 491kB 385kB/s eta 0:00:01\n",
      "\u001b[?25hCollecting jupyter-core>=4.6.0\n",
      "  Using cached https://files.pythonhosted.org/packages/fb/82/86437f661875e30682e99d04c13ba6c216f86f5f6ca6ef212d3ee8b6ca11/jupyter_core-4.6.1-py2.py3-none-any.whl\n",
      "Collecting ipython-genutils\n",
      "  Downloading https://files.pythonhosted.org/packages/fa/bc/9bd3b5c2b4774d5f33b2d544f1460be9df7df2fe42f352135381c347c69a/ipython_genutils-0.2.0-py2.py3-none-any.whl\n",
      "Collecting nbformat\n",
      "\u001b[?25l  Downloading https://files.pythonhosted.org/packages/5d/69/87745d03d1964649ef734238b32bf08eb843a6594cb03e8bc77edc8f33e9/nbformat-5.0.3-py3-none-any.whl (169kB)\n",
      "\u001b[K     |████████████████████████████████| 174kB 292kB/s eta 0:00:01\n",
      "\u001b[?25hCollecting multidict<5.0,>=4.5\n",
      "  Using cached https://files.pythonhosted.org/packages/05/84/4ab5ba3a052d811085ba4fa088de651de495e4362010481fd189dcca1a47/multidict-4.7.3-cp37-cp37m-macosx_10_13_x86_64.whl\n",
      "Collecting async-timeout<4.0,>=3.0\n",
      "  Downloading https://files.pythonhosted.org/packages/e1/1e/5a4441be21b0726c4464f3f23c8b19628372f606755a9d2e46c187e65ec4/async_timeout-3.0.1-py3-none-any.whl\n",
      "Collecting yarl<2.0,>=1.0\n",
      "  Using cached https://files.pythonhosted.org/packages/e2/a9/7f06ccfd82ee4ae46591151fca009c96c0e7834b13e110cc09abdb2ed76e/yarl-1.4.2-cp37-cp37m-macosx_10_13_x86_64.whl\n",
      "Collecting attrs>=17.3.0\n",
      "  Using cached https://files.pythonhosted.org/packages/a2/db/4313ab3be961f7a763066401fb77f7748373b6094076ae2bda2806988af6/attrs-19.3.0-py2.py3-none-any.whl\n",
      "Collecting smartypants>=1.8.3\n",
      "  Downloading https://files.pythonhosted.org/packages/da/ed/1da76d11aa858ee23dac5b52d9ac2db7df02b89f7679d5d8970bcd44b59c/smartypants-2.0.1-py2.py3-none-any.whl\n",
      "Collecting ipython>=5.0.0\n",
      "  Using cached https://files.pythonhosted.org/packages/1c/f3/c8be38ee117d02508bb8b9158eb41ca416f442a6e8e3b3159c2f2d14ed79/ipython-7.11.1-py3-none-any.whl\n",
      "Collecting appnope; platform_system == \"Darwin\"\n",
      "  Downloading https://files.pythonhosted.org/packages/87/a9/7985e6a53402f294c8f0e8eff3151a83f1fb901fa92909bb3ff29b4d22af/appnope-0.1.0-py2.py3-none-any.whl\n",
      "Collecting PyYAML>=3.10\n",
      "\u001b[?25l  Downloading https://files.pythonhosted.org/packages/3d/d9/ea9816aea31beeadccd03f1f8b625ecf8f645bd66744484d162d84803ce5/PyYAML-5.3.tar.gz (268kB)\n",
      "\u001b[K     |████████████████████████████████| 276kB 352kB/s eta 0:00:01\n",
      "\u001b[?25hCollecting argh>=0.24.1\n",
      "  Downloading https://files.pythonhosted.org/packages/06/1c/e667a7126f0b84aaa1c56844337bf0ac12445d1beb9c8a6199a7314944bf/argh-0.26.2-py2.py3-none-any.whl\n",
      "Collecting pathtools>=0.1.1\n",
      "  Downloading https://files.pythonhosted.org/packages/e7/7f/470d6fcdf23f9f3518f6b0b76be9df16dcc8630ad409947f8be2eb0ed13a/pathtools-0.1.2.tar.gz\n",
      "Collecting ruamel.yaml.clib>=0.1.2; platform_python_implementation == \"CPython\" and python_version < \"3.8\"\n",
      "\u001b[?25l  Downloading https://files.pythonhosted.org/packages/fa/16/0ff4e92c21f275c071acb68f8ddd55b287e4e3b5dfd14c97983cb3506c90/ruamel.yaml.clib-0.2.0-cp37-cp37m-macosx_10_9_x86_64.whl (147kB)\n",
      "\u001b[K     |████████████████████████████████| 153kB 386kB/s eta 0:00:01\n",
      "\u001b[?25hCollecting ptyprocess; os_name != \"nt\"\n",
      "  Downloading https://files.pythonhosted.org/packages/d1/29/605c2cc68a9992d18dada28206eeada56ea4bd07a239669da41674648b6f/ptyprocess-0.6.0-py2.py3-none-any.whl\n",
      "Collecting decorator\n",
      "  Using cached https://files.pythonhosted.org/packages/8f/b7/f329cfdc75f3d28d12c65980e4469e2fa373f1953f5df6e370e84ea2e875/decorator-4.4.1-py2.py3-none-any.whl\n",
      "Collecting mistune<2,>=0.8.1\n",
      "  Downloading https://files.pythonhosted.org/packages/09/ec/4b43dae793655b7d8a25f76119624350b4d65eb663459eb9603d7f1f0345/mistune-0.8.4-py2.py3-none-any.whl\n",
      "Collecting pandocfilters>=1.4.1\n",
      "  Downloading https://files.pythonhosted.org/packages/4c/ea/236e2584af67bb6df960832731a6e5325fd4441de001767da328c33368ce/pandocfilters-1.4.2.tar.gz\n",
      "Collecting defusedxml\n",
      "  Downloading https://files.pythonhosted.org/packages/06/74/9b387472866358ebc08732de3da6dc48e44b0aacd2ddaa5cb85ab7e986a2/defusedxml-0.6.0-py2.py3-none-any.whl\n",
      "Collecting testpath\n",
      "  Using cached https://files.pythonhosted.org/packages/1b/9e/1a170feaa54f22aeb5a5d16c9015e82234275a3c8ab630b552493f9cb8a9/testpath-0.4.4-py2.py3-none-any.whl\n",
      "Collecting bleach\n",
      "\u001b[?25l  Downloading https://files.pythonhosted.org/packages/ab/05/27e1466475e816d3001efb6e0a85a819be17411420494a1e602c36f8299d/bleach-3.1.0-py2.py3-none-any.whl (157kB)\n",
      "\u001b[K     |████████████████████████████████| 163kB 376kB/s eta 0:00:01\n",
      "\u001b[?25hCollecting entrypoints>=0.2.2\n",
      "  Downloading https://files.pythonhosted.org/packages/ac/c6/44694103f8c221443ee6b0041f69e2740d89a25641e62fb4f2ee568f2f9c/entrypoints-0.3-py2.py3-none-any.whl\n",
      "Collecting jsonschema!=2.5.0,>=2.4\n",
      "  Using cached https://files.pythonhosted.org/packages/c5/8f/51e89ce52a085483359217bc72cdbf6e75ee595d5b1d4b5ade40c7e018b8/jsonschema-3.2.0-py2.py3-none-any.whl\n",
      "Collecting pickleshare\n",
      "  Downloading https://files.pythonhosted.org/packages/9a/41/220f49aaea88bc6fa6cba8d05ecf24676326156c23b991e80b3f2fc24c77/pickleshare-0.7.5-py2.py3-none-any.whl\n",
      "Collecting pexpect; sys_platform != \"win32\"\n",
      "\u001b[?25l  Downloading https://files.pythonhosted.org/packages/0e/3e/377007e3f36ec42f1b84ec322ee12141a9e10d808312e5738f52f80a232c/pexpect-4.7.0-py2.py3-none-any.whl (58kB)\n",
      "\u001b[K     |████████████████████████████████| 61kB 670kB/s eta 0:00:01\n",
      "\u001b[?25hCollecting jedi>=0.10\n",
      "  Using cached https://files.pythonhosted.org/packages/e9/97/55e575a5b49e5c3df9eb3c116c61021d7badf556c816be13bbd7baf55234/jedi-0.15.2-py2.py3-none-any.whl\n",
      "Collecting prompt-toolkit!=3.0.0,!=3.0.1,<3.1.0,>=2.0.0\n",
      "  Using cached https://files.pythonhosted.org/packages/7f/1f/e145dd467dc9b0e6f1e64232c03119498dfec497e383f1e8be9f83eaa97e/prompt_toolkit-3.0.2-py3-none-any.whl\n",
      "Collecting backcall\n",
      "  Downloading https://files.pythonhosted.org/packages/84/71/c8ca4f5bb1e08401b916c68003acf0a0655df935d74d93bf3f3364b310e0/backcall-0.1.0.tar.gz\n",
      "Collecting webencodings\n",
      "  Downloading https://files.pythonhosted.org/packages/f4/24/2a3e3df732393fed8b3ebf2ec078f05546de641fe1b667ee316ec1dcf3b7/webencodings-0.5.1-py2.py3-none-any.whl\n",
      "Collecting importlib-metadata; python_version < \"3.8\"\n",
      "  Using cached https://files.pythonhosted.org/packages/e9/71/1a1e0ed0981bb6a67bce55a210f168126b7ebd2065958673797ea66489ca/importlib_metadata-1.3.0-py2.py3-none-any.whl\n",
      "Collecting pyrsistent>=0.14.0\n",
      "\u001b[?25l  Downloading https://files.pythonhosted.org/packages/90/aa/cdcf7ef88cc0f831b6f14c8c57318824c9de9913fe8de38e46a98c069a35/pyrsistent-0.15.7.tar.gz (107kB)\n",
      "\u001b[K     |████████████████████████████████| 112kB 492kB/s eta 0:00:01\n",
      "\u001b[?25hCollecting parso>=0.5.2\n",
      "  Using cached https://files.pythonhosted.org/packages/9b/b0/90353a5ece0987279837835224dead0c424833a224195683e188d384e06b/parso-0.5.2-py2.py3-none-any.whl\n",
      "Collecting wcwidth\n",
      "  Using cached https://files.pythonhosted.org/packages/58/b4/4850a0ccc6f567cc0ebe7060d20ffd4258b8210efadc259da62dc6ed9c65/wcwidth-0.1.8-py2.py3-none-any.whl\n",
      "Collecting zipp>=0.5\n",
      "  Downloading https://files.pythonhosted.org/packages/74/3d/1ee25a26411ba0401b43c6376d2316a71addcc72ef8690b101b4ea56d76a/zipp-0.6.0-py2.py3-none-any.whl\n",
      "Collecting more-itertools\n",
      "  Using cached https://files.pythonhosted.org/packages/68/03/0604cec1ea13c9f063dd50f900d1a36160334dd3cfb01fd0e638f61b46ba/more_itertools-8.0.2-py3-none-any.whl\n",
      "Building wheels for collected packages: mako, PyRSS2Gen, Yapsy, blinker, phpserialize, typogrify, husl, watchdog, micawber, macfsevents, prometheus-client, tornado, PyYAML, pathtools, pandocfilters, backcall, pyrsistent\n",
      "  Building wheel for mako (setup.py) ... \u001b[?25ldone\n",
      "\u001b[?25h  Created wheel for mako: filename=Mako-1.1.0-cp37-none-any.whl size=75360 sha256=98b3dba381798af5d5e74d011a1d07d33a93b19a6530460f0fb09f5f8f4cc552\n",
      "  Stored in directory: /Users/lolo/Library/Caches/pip/wheels/98/32/7b/a291926643fc1d1e02593e0d9e247c5a866a366b8343b7aa27\n",
      "  Building wheel for PyRSS2Gen (setup.py) ... \u001b[?25ldone\n",
      "\u001b[?25h  Created wheel for PyRSS2Gen: filename=PyRSS2Gen-1.1-cp37-none-any.whl size=4987 sha256=72ebc3240eceb70ebc995461ba595b877d866fe3099790d29256c97cd40e465b\n",
      "  Stored in directory: /Users/lolo/Library/Caches/pip/wheels/08/2e/3d/50052096754e548b10de94a42182f27a1b18966dfa36c6b968\n",
      "  Building wheel for Yapsy (setup.py) ... \u001b[?25ldone\n",
      "\u001b[?25h  Created wheel for Yapsy: filename=Yapsy-1.12.2-cp37-none-any.whl size=39000 sha256=8f0ea105f72a79dcbce53bbf61834e9a6824b06b8980840262b68d1e70c3d07c\n",
      "  Stored in directory: /Users/lolo/Library/Caches/pip/wheels/2a/2f/b1/e60d7dd26d40e3bdfc219cf75ae806298989f33992a0d32c9a\n",
      "  Building wheel for blinker (setup.py) ... \u001b[?25ldone\n",
      "\u001b[?25h  Created wheel for blinker: filename=blinker-1.4-cp37-none-any.whl size=13450 sha256=02bda08b728bf2c1183d3ebb9bd27567db4345b44524f83b50f66240f6760d92\n",
      "  Stored in directory: /Users/lolo/Library/Caches/pip/wheels/92/a0/00/8690a57883956a301d91cf4ec999cc0b258b01e3f548f86e89\n",
      "  Building wheel for phpserialize (setup.py) ... \u001b[?25ldone\n",
      "\u001b[?25h  Created wheel for phpserialize: filename=phpserialize-1.3-cp37-none-any.whl size=9491 sha256=cd6f947c2601307f3d8938990971ae51738f2d760472d264bf748339587084ba\n",
      "  Stored in directory: /Users/lolo/Library/Caches/pip/wheels/21/d7/12/bcfef4b55857340f19215866cad6ea4e1bf0039030c9295f70\n",
      "  Building wheel for typogrify (setup.py) ... \u001b[?25ldone\n",
      "\u001b[?25h  Created wheel for typogrify: filename=typogrify-2.0.7-py2.py3-none-any.whl size=13436 sha256=c81018120c2df461a44b6cca753a5dad9b30dfc196ba63c960e16f37f71a21ed\n",
      "  Stored in directory: /Users/lolo/Library/Caches/pip/wheels/e0/c7/c1/81a2564d08a632c935d320c9bc1d4ea34e35a0287b9b8bc01a\n",
      "  Building wheel for husl (setup.py) ... \u001b[?25ldone\n",
      "\u001b[?25h  Created wheel for husl: filename=husl-4.0.3-cp37-none-any.whl size=3516 sha256=64f4ba09fdcf9bc9a08c38cd9d718c02d08efb7c5d9921556560665c8adb5ebb\n",
      "  Stored in directory: /Users/lolo/Library/Caches/pip/wheels/7e/23/42/a8f5ee0e57b34587c8760d9f6d55df930b3516dba7fbfe1da4\n",
      "  Building wheel for watchdog (setup.py) ... \u001b[?25ldone\n",
      "\u001b[?25h  Created wheel for watchdog: filename=watchdog-0.9.0-cp37-cp37m-macosx_10_13_x86_64.whl size=78346 sha256=0f4e543f1233728261af4716ba2a7aaa01a173df90ad670f6487320f289f81fe\n",
      "  Stored in directory: /Users/lolo/Library/Caches/pip/wheels/61/1d/d0/04cfe495619be2095eb8d89a31c42adb4e42b76495bc8f784c\n",
      "  Building wheel for micawber (setup.py) ... \u001b[?25ldone\n",
      "\u001b[?25h  Created wheel for micawber: filename=micawber-0.5.1-cp37-none-any.whl size=21926 sha256=3a2a629f9e5fa43abe6c8e647e571946a1982d7f332b9bcdc4e9b0f0b4a8ffd9\n",
      "  Stored in directory: /Users/lolo/Library/Caches/pip/wheels/07/51/a2/938eebde881c1da850024cc34d2317eaf9a973241142f2dba3\n",
      "  Building wheel for macfsevents (setup.py) ... \u001b[?25ldone\n",
      "\u001b[?25h  Created wheel for macfsevents: filename=MacFSEvents-0.8.1-cp37-cp37m-macosx_10_13_x86_64.whl size=13074 sha256=1d209b5408770b6b55b0cf6123a15bad3d4d2f3dc38578eef516411198329aa6\n",
      "  Stored in directory: /Users/lolo/Library/Caches/pip/wheels/93/46/ae/a9e467624eea1626493fd2263c122098fe89145d9e90eabeea\n",
      "  Building wheel for prometheus-client (setup.py) ... \u001b[?25ldone\n",
      "\u001b[?25h  Created wheel for prometheus-client: filename=prometheus_client-0.7.1-cp37-none-any.whl size=41402 sha256=8e84437535dcc45282c42423ba083de32b081048b0897191db7eab9428247963\n",
      "  Stored in directory: /Users/lolo/Library/Caches/pip/wheels/1c/54/34/fd47cd9b308826cc4292b54449c1899a30251ef3b506bc91ea\n",
      "  Building wheel for tornado (setup.py) ... \u001b[?25ldone\n",
      "\u001b[?25h  Created wheel for tornado: filename=tornado-6.0.3-cp37-cp37m-macosx_10_13_x86_64.whl size=412838 sha256=5d9181a724a68ecc953a6c6d9e56373d49cb01f092bc70ae5fd2758a29e144cd\n",
      "  Stored in directory: /Users/lolo/Library/Caches/pip/wheels/84/bf/40/2f6ef700f48401ca40e5e3dd7d0e3c0a90e064897b7fe5fc08\n",
      "  Building wheel for PyYAML (setup.py) ... \u001b[?25ldone\n",
      "\u001b[?25h  Created wheel for PyYAML: filename=PyYAML-5.3-cp37-cp37m-macosx_10_13_x86_64.whl size=151841 sha256=1b81a104590ac939ecca153406e51d58b6c98ed235e0c89a0e527116d753d6b2\n",
      "  Stored in directory: /Users/lolo/Library/Caches/pip/wheels/e4/76/4d/a95b8dd7b452b69e8ed4f68b69e1b55e12c9c9624dd962b191\n",
      "  Building wheel for pathtools (setup.py) ... \u001b[?25ldone\n",
      "\u001b[?25h  Created wheel for pathtools: filename=pathtools-0.1.2-cp37-none-any.whl size=8786 sha256=15e29fc58542a008ff938e4b4a33216bb88764c02556c5a10fffb267c5b2558b\n",
      "  Stored in directory: /Users/lolo/Library/Caches/pip/wheels/0b/04/79/c3b0c3a0266a3cb4376da31e5bfe8bba0c489246968a68e843\n",
      "  Building wheel for pandocfilters (setup.py) ... \u001b[?25ldone\n",
      "\u001b[?25h  Created wheel for pandocfilters: filename=pandocfilters-1.4.2-cp37-none-any.whl size=7857 sha256=ce7e61bc48c8b71c09354c93f84fa166fe31093b1b5f74ff271a3113da157b5c\n",
      "  Stored in directory: /Users/lolo/Library/Caches/pip/wheels/39/01/56/f1b08a6275acc59e846fa4c1e1b65dbc1919f20157d9e66c20\n",
      "  Building wheel for backcall (setup.py) ... \u001b[?25ldone\n",
      "\u001b[?25h  Created wheel for backcall: filename=backcall-0.1.0-cp37-none-any.whl size=10415 sha256=ce3b56b0e28965d0f66c4c097bce9476dbcf615bd667d8858f8d7d3930aad251\n",
      "  Stored in directory: /Users/lolo/Library/Caches/pip/wheels/98/b0/dd/29e28ff615af3dda4c67cab719dd51357597eabff926976b45\n",
      "  Building wheel for pyrsistent (setup.py) ... \u001b[?25ldone\n",
      "\u001b[?25h  Created wheel for pyrsistent: filename=pyrsistent-0.15.7-cp37-cp37m-macosx_10_13_x86_64.whl size=68931 sha256=9ee99ed8b191a58f55083fbfa53e8555394ece556196eac6e53a4c5c78be1f27\n",
      "  Stored in directory: /Users/lolo/Library/Caches/pip/wheels/b5/78/ac/f26a78a989cd97f90981d96a560d7e1da5e1307284301d94e8\n",
      "Successfully built mako PyRSS2Gen Yapsy blinker phpserialize typogrify husl watchdog micawber macfsevents prometheus-client tornado PyYAML pathtools pandocfilters backcall pyrsistent\n",
      "\u001b[31mERROR: voila 0.1.20 has requirement jupyter-server<0.2.0,>=0.1.0, but you'll have jupyter-server 0.2.0 which is incompatible.\u001b[0m\n",
      "\u001b[31mERROR: tensorflow 2.0.0 has requirement gast==0.2.2, but you'll have gast 0.3.2 which is incompatible.\u001b[0m\n",
      "\u001b[31mERROR: tensorflow 2.0.0 has requirement tensorboard<2.1.0,>=2.0.0, but you'll have tensorboard 2.1.0 which is incompatible.\u001b[0m\n",
      "\u001b[31mERROR: tensorflow 2.0.0 has requirement tensorflow-estimator<2.1.0,>=2.0.0, but you'll have tensorflow-estimator 2.1.0 which is incompatible.\u001b[0m\n",
      "\u001b[31mERROR: rst2html5 1.10.2 has requirement pygments==2.0.2, but you'll have pygments 2.5.2 which is incompatible.\u001b[0m\n",
      "\u001b[31mERROR: napari 0.2.8 has requirement numcodecs!=0.6.4, but you'll have numcodecs 0.6.4 which is incompatible.\u001b[0m\n",
      "\u001b[31mERROR: jupyter-console 6.0.0 has requirement prompt-toolkit<2.1.0,>=2.0.0, but you'll have prompt-toolkit 3.0.2 which is incompatible.\u001b[0m\n",
      "Installing collected packages: Pygments, MarkupSafe, mako, logbook, PyRSS2Gen, natsort, pytz, Babel, six, python-dateutil, macfsevents, cloudpickle, doit, Pillow, docutils, setuptools, Markdown, piexif, lxml, Yapsy, idna, chardet, certifi, urllib3, requests, unidecode, blinker, ptyprocess, tornado, terminado, prometheus-client, pyzmq, ipython-genutils, decorator, traitlets, jupyter-core, jupyter-client, mistune, more-itertools, zipp, importlib-metadata, pyrsistent, attrs, jsonschema, nbformat, Jinja2, pandocfilters, defusedxml, testpath, webencodings, bleach, entrypoints, nbconvert, pickleshare, pexpect, parso, jedi, wcwidth, prompt-toolkit, appnope, backcall, ipython, ipykernel, Send2Trash, notebook, phpserialize, multidict, async-timeout, yarl, aiohttp, smartypants, typogrify, husl, ghp-import2, pyphen, PyYAML, argh, pathtools, watchdog, toml, pygal, ruamel.yaml.clib, ruamel.yaml, micawber, Nikola\n",
      "  Found existing installation: Pygments 2.5.2\n",
      "    Uninstalling Pygments-2.5.2:\n",
      "      Successfully uninstalled Pygments-2.5.2\n",
      "  Found existing installation: MarkupSafe 1.1.1\n",
      "    Uninstalling MarkupSafe-1.1.1:\n",
      "      Successfully uninstalled MarkupSafe-1.1.1\n",
      "  Found existing installation: Mako 1.1.0\n",
      "    Uninstalling Mako-1.1.0:\n",
      "      Successfully uninstalled Mako-1.1.0\n",
      "  Found existing installation: Logbook 1.5.3\n",
      "    Uninstalling Logbook-1.5.3:\n",
      "      Successfully uninstalled Logbook-1.5.3\n",
      "  Found existing installation: PyRSS2Gen 1.1\n",
      "    Uninstalling PyRSS2Gen-1.1:\n",
      "      Successfully uninstalled PyRSS2Gen-1.1\n",
      "  Found existing installation: natsort 6.2.0\n",
      "    Uninstalling natsort-6.2.0:\n",
      "      Successfully uninstalled natsort-6.2.0\n",
      "  Found existing installation: pytz 2019.3\n",
      "    Uninstalling pytz-2019.3:\n",
      "      Successfully uninstalled pytz-2019.3\n",
      "  Found existing installation: Babel 2.8.0\n",
      "    Uninstalling Babel-2.8.0:\n",
      "      Successfully uninstalled Babel-2.8.0\n",
      "  Found existing installation: six 1.13.0\n",
      "    Uninstalling six-1.13.0:\n",
      "      Successfully uninstalled six-1.13.0\n",
      "  Found existing installation: python-dateutil 2.8.1\n",
      "    Uninstalling python-dateutil-2.8.1:\n",
      "      Successfully uninstalled python-dateutil-2.8.1\n",
      "  Found existing installation: MacFSEvents 0.8.1\n",
      "    Uninstalling MacFSEvents-0.8.1:\n",
      "      Successfully uninstalled MacFSEvents-0.8.1\n",
      "  Rolling back uninstall of MacFSEvents\n",
      "  Moving to /usr/local/lib/python3.7/site-packages/MacFSEvents-0.8.1.dist-info/\n",
      "   from /usr/local/lib/python3.7/site-packages/~acFSEvents-0.8.1.dist-info\n",
      "  Moving to /usr/local/lib/python3.7/site-packages/__pycache__/fsevents.cpython-37.pyc\n",
      "   from /private/var/folders/0t/crx5yf1x3rd8378nbqbv00vc0000gn/T/pip-uninstall-h1larvdq/fsevents.cpython-37.pyc\n",
      "  Moving to /usr/local/lib/python3.7/site-packages/_fsevents.cpython-37m-darwin.so\n",
      "   from /private/var/folders/0t/crx5yf1x3rd8378nbqbv00vc0000gn/T/pip-uninstall-5d1haxlp/_fsevents.cpython-37m-darwin.so\n",
      "  Moving to /usr/local/lib/python3.7/site-packages/fsevents.py\n",
      "   from /private/var/folders/0t/crx5yf1x3rd8378nbqbv00vc0000gn/T/pip-uninstall-5d1haxlp/fsevents.py\n",
      "\u001b[31mERROR: Could not install packages due to an EnvironmentError: [Errno 13] Permission denied: '/usr/local/LICENSE.txt'\n",
      "Consider using the `--user` option or check the permissions.\n",
      "\u001b[0m\n"
     ]
    }
   ],
   "source": [
    "!python3 -m pip install -U --force \"Nikola[extras]\""
   ]
  },
  {
   "cell_type": "code",
   "execution_count": 2,
   "metadata": {
    "ExecuteTime": {
     "end_time": "2018-09-07T10:24:48.097536Z",
     "start_time": "2018-09-07T10:24:43.118411Z"
    }
   },
   "outputs": [
    {
     "name": "stdout",
     "output_type": "stream",
     "text": [
      "Collecting rst2html5\n",
      "  Downloading https://files.pythonhosted.org/packages/b9/a6/8ae3295fb425068eb71a234fe4de6c79d63e60ce11fc15fd267b72b1ea5c/rst2html5-1.10.2-py2.py3-none-any.whl\n",
      "Collecting pygments==2.0.2\n",
      "\u001b[?25l  Downloading https://files.pythonhosted.org/packages/87/e3/cadb43a197476ec0adef73292ea7ea188f2b0531188eebc150905d3ed78c/Pygments-2.0.2-py3-none-any.whl (672kB)\n",
      "\u001b[K     |████████████████████████████████| 675kB 542kB/s eta 0:00:01\n",
      "\u001b[?25hCollecting docutils>=0.14\n",
      "  Using cached https://files.pythonhosted.org/packages/22/cd/a6aa959dca619918ccb55023b4cb151949c64d4d5d55b3f4ffd7eee0c6e8/docutils-0.15.2-py3-none-any.whl\n",
      "Collecting genshi>=0.7\n",
      "\u001b[?25l  Downloading https://files.pythonhosted.org/packages/0b/cb/79f9156d7ba248239ddc16662d696b1bb20628e9c0a049448e79b806b2c2/Genshi-0.7.3-py3-none-any.whl (178kB)\n",
      "\u001b[K     |████████████████████████████████| 184kB 345kB/s eta 0:00:01\n",
      "\u001b[31mERROR: voila 0.1.20 has requirement jupyter-server<0.2.0,>=0.1.0, but you'll have jupyter-server 0.2.0 which is incompatible.\u001b[0m\n",
      "\u001b[31mERROR: voila 0.1.20 has requirement pygments<3,>=2.4.1, but you'll have pygments 2.0.2 which is incompatible.\u001b[0m\n",
      "\u001b[31mERROR: napari 0.2.8 has requirement numcodecs!=0.6.4, but you'll have numcodecs 0.6.4 which is incompatible.\u001b[0m\n",
      "\u001b[31mERROR: jupyterlab-pygments 0.1.0 has requirement pygments<3,>=2.4.1, but you'll have pygments 2.0.2 which is incompatible.\u001b[0m\n",
      "\u001b[31mERROR: jupyter-console 6.0.0 has requirement prompt-toolkit<2.1.0,>=2.0.0, but you'll have prompt-toolkit 3.0.2 which is incompatible.\u001b[0m\n",
      "\u001b[?25hInstalling collected packages: pygments, docutils, genshi, rst2html5\n",
      "  Found existing installation: Pygments 2.5.2\n",
      "    Uninstalling Pygments-2.5.2:\n",
      "      Successfully uninstalled Pygments-2.5.2\n",
      "  Found existing installation: docutils 0.15.2\n",
      "    Uninstalling docutils-0.15.2:\n",
      "      Successfully uninstalled docutils-0.15.2\n",
      "  Found existing installation: Genshi 0.7.3\n",
      "    Uninstalling Genshi-0.7.3:\n",
      "      Successfully uninstalled Genshi-0.7.3\n",
      "  Found existing installation: rst2html5 1.10.2\n",
      "    Uninstalling rst2html5-1.10.2:\n",
      "      Successfully uninstalled rst2html5-1.10.2\n",
      "Successfully installed docutils-0.15.2 genshi-0.7.3 pygments-2.0.2 rst2html5-1.10.2\n"
     ]
    }
   ],
   "source": [
    "#!python3 -m pip uninstall -y rst2html5\n",
    "!python3 -m pip install -U --force rst2html5"
   ]
  },
  {
   "cell_type": "code",
   "execution_count": 3,
   "metadata": {
    "ExecuteTime": {
     "end_time": "2018-09-07T10:24:57.383520Z",
     "start_time": "2018-09-07T10:24:54.879696Z"
    }
   },
   "outputs": [
    {
     "name": "stdout",
     "output_type": "stream",
     "text": [
      "Collecting html5lib\n",
      "\u001b[?25l  Downloading https://files.pythonhosted.org/packages/a5/62/bbd2be0e7943ec8504b517e62bab011b4946e1258842bc159e5dfde15b96/html5lib-1.0.1-py2.py3-none-any.whl (117kB)\n",
      "\u001b[K     |████████████████████████████████| 122kB 193kB/s eta 0:00:01\n",
      "\u001b[?25hCollecting six>=1.9\n",
      "  Using cached https://files.pythonhosted.org/packages/65/26/32b8464df2a97e6dd1b656ed26b2c194606c16fe163c695a992b36c11cdf/six-1.13.0-py2.py3-none-any.whl\n",
      "Collecting webencodings\n",
      "  Using cached https://files.pythonhosted.org/packages/f4/24/2a3e3df732393fed8b3ebf2ec078f05546de641fe1b667ee316ec1dcf3b7/webencodings-0.5.1-py2.py3-none-any.whl\n",
      "\u001b[31mERROR: tensorflow 2.0.0 has requirement gast==0.2.2, but you'll have gast 0.3.2 which is incompatible.\u001b[0m\n",
      "\u001b[31mERROR: tensorflow 2.0.0 has requirement tensorboard<2.1.0,>=2.0.0, but you'll have tensorboard 2.1.0 which is incompatible.\u001b[0m\n",
      "\u001b[31mERROR: tensorflow 2.0.0 has requirement tensorflow-estimator<2.1.0,>=2.0.0, but you'll have tensorflow-estimator 2.1.0 which is incompatible.\u001b[0m\n",
      "\u001b[31mERROR: napari 0.2.8 has requirement numcodecs!=0.6.4, but you'll have numcodecs 0.6.4 which is incompatible.\u001b[0m\n",
      "Installing collected packages: six, webencodings, html5lib\n",
      "  Found existing installation: six 1.13.0\n",
      "    Uninstalling six-1.13.0:\n",
      "      Successfully uninstalled six-1.13.0\n",
      "  Found existing installation: webencodings 0.5.1\n",
      "    Uninstalling webencodings-0.5.1:\n",
      "      Successfully uninstalled webencodings-0.5.1\n",
      "  Found existing installation: html5lib 1.0.1\n",
      "    Uninstalling html5lib-1.0.1:\n",
      "      Successfully uninstalled html5lib-1.0.1\n",
      "Successfully installed html5lib-1.0.1 six-1.13.0 webencodings-0.5.1\n"
     ]
    }
   ],
   "source": [
    "#!pip uninstall -y html5lib\n",
    "!python3 -m pip install -U --force html5lib"
   ]
  },
  {
   "cell_type": "code",
   "execution_count": 4,
   "metadata": {
    "ExecuteTime": {
     "end_time": "2018-09-07T10:25:37.163105Z",
     "start_time": "2018-09-07T10:25:34.804602Z"
    }
   },
   "outputs": [
    {
     "name": "stdout",
     "output_type": "stream",
     "text": [
      "Nikola v8.0.3\n",
      "\u001b[0m"
     ]
    }
   ],
   "source": [
    "!nikola version"
   ]
  },
  {
   "cell_type": "code",
   "execution_count": 5,
   "metadata": {
    "ExecuteTime": {
     "end_time": "2018-09-07T10:25:40.747475Z",
     "start_time": "2018-09-07T10:25:38.376282Z"
    }
   },
   "outputs": [
    {
     "name": "stdout",
     "output_type": "stream",
     "text": [
      "Nikola v8.0.3\n",
      "Nikola is up-to-date\n",
      "\u001b[0m"
     ]
    }
   ],
   "source": [
    "!nikola version --check"
   ]
  },
  {
   "cell_type": "markdown",
   "metadata": {},
   "source": [
    "# Adding a new post"
   ]
  },
  {
   "cell_type": "code",
   "execution_count": 6,
   "metadata": {
    "ExecuteTime": {
     "end_time": "2018-11-05T14:34:58.343345Z",
     "start_time": "2018-11-05T14:34:58.224501Z"
    }
   },
   "outputs": [
    {
     "name": "stdout",
     "output_type": "stream",
     "text": [
      "Wed Jan  8 21:42:51 CET 2020\n"
     ]
    }
   ],
   "source": [
    "!date\n",
    "import datetime"
   ]
  },
  {
   "cell_type": "code",
   "execution_count": 7,
   "metadata": {
    "ExecuteTime": {
     "end_time": "2018-11-05T14:34:58.697822Z",
     "start_time": "2018-11-05T14:34:58.694703Z"
    }
   },
   "outputs": [
    {
     "name": "stdout",
     "output_type": "stream",
     "text": [
      "2020-01-08 21:42:51.206335\n"
     ]
    }
   ],
   "source": [
    "print(datetime.datetime.now())"
   ]
  },
  {
   "cell_type": "code",
   "execution_count": 8,
   "metadata": {
    "ExecuteTime": {
     "end_time": "2018-11-05T14:34:59.176807Z",
     "start_time": "2018-11-05T14:34:59.173942Z"
    }
   },
   "outputs": [
    {
     "name": "stdout",
     "output_type": "stream",
     "text": [
      "2020-01-08\n"
     ]
    }
   ],
   "source": [
    "now = datetime.datetime.now().date()\n",
    "date = now.isoformat()#[2:]\n",
    "print(date)"
   ]
  },
  {
   "cell_type": "raw",
   "metadata": {},
   "source": [
    "date = '2019-10-07'"
   ]
  },
  {
   "cell_type": "code",
   "execution_count": 9,
   "metadata": {
    "ExecuteTime": {
     "end_time": "2018-11-05T14:35:00.048738Z",
     "start_time": "2018-11-05T14:34:59.677518Z"
    }
   },
   "outputs": [],
   "source": [
    "from nikola import utils"
   ]
  },
  {
   "cell_type": "code",
   "execution_count": 10,
   "metadata": {
    "ExecuteTime": {
     "end_time": "2018-11-05T14:40:53.234519Z",
     "start_time": "2018-11-05T14:40:53.230930Z"
    }
   },
   "outputs": [],
   "source": [
    "tags_list = [\n",
    "#    'python', \n",
    "#    'ipython', \n",
    "#    'nikola', \n",
    "#    'blog', \n",
    "#    'themes', \n",
    "#    'pupil',\n",
    "    'psychophysics',\n",
    "#    'outreach',    'grand-public',\n",
    "#   'behavior',\n",
    "#    'povray', \n",
    "#    'elasticite', \n",
    "#    'art', \n",
    "#    'trames', \n",
    "#    'math',\n",
    "#    'bicv', \n",
    "#    'SLIP', \n",
    "#    'LogGabor', \n",
    "#    'SHL_scripts', \n",
    "#    'sparse', \n",
    "#    'Matching Pursuit',\n",
    "#    'Motion Particles',\n",
    "#    'holoviews',\n",
    "#    'pytorch',\n",
    "#    'deep-learning',\n",
    "#    'machine-learning',\n",
    "#    'moviepy', \n",
    "#     'numpy', \n",
    "#    'vispy', \n",
    "#    'neural',\n",
    "    'motionclouds',\n",
    "#    'motion',\n",
    "#    'pynn',\n",
    "#    'saccades',\n",
    "#    'Free Energy',\n",
    "#    'learning',\n",
    "#    'open-science',\n",
    "#    'shell',\n",
    "#    'vim',\n",
    "    'orientation',\n",
    "#    'vision',\n",
    "#    'v1',\n",
    "]\n",
    "formt = 'rest'\n",
    "formt = 'markdown'\n",
    "formt = 'ipynb'"
   ]
  },
  {
   "cell_type": "code",
   "execution_count": 11,
   "metadata": {
    "ExecuteTime": {
     "end_time": "2018-11-05T14:41:01.475071Z",
     "start_time": "2018-11-05T14:41:00.415148Z"
    }
   },
   "outputs": [
    {
     "name": "stdout",
     "output_type": "stream",
     "text": [
      "PURPOSE\n",
      "    create a new blog post or site page\n",
      "\n",
      "USAGE\n",
      "    nikola new_post [options] [path]\n",
      "\n",
      "OPTIONS\n",
      "\n",
      "    new_post\n",
      "      -p, --page\n",
      "            Create a page instead of a blog post. (see also: `nikola\n",
      "            new_page`)  (config: is_page)\n",
      "      -t ARG, --title=ARG\n",
      "            Title for the post.  (config: title)\n",
      "      -a ARG, --author=ARG\n",
      "            Author of the post.  (config: author)\n",
      "      --tags=ARG\n",
      "            Comma-separated tags for the post.  (config: tags)\n",
      "      -1\n",
      "            Create the post with embedded metadata (single file\n",
      "            format)  (config: onefile)\n",
      "      -2\n",
      "            Create the post with separate metadata (two file format)\n",
      "            (config: twofile)\n",
      "      -e\n",
      "            Open the post (and meta file, if any) in $EDITOR after\n",
      "            creation.  (config: edit)\n",
      "      -f ARG, --format=ARG\n",
      "            Markup format for the post (use --available-formats for\n",
      "            list)  (config: content_format)\n",
      "      -F, --available-formats\n",
      "            List all available input formats  (config: available-\n",
      "            formats)\n",
      "      -s\n",
      "            Schedule the post based on recurrence rule  (config:\n",
      "            schedule)\n",
      "      -i ARG, --import=ARG\n",
      "            Import an existing file instead of creating a placeholder\n",
      "            (config: import)\n",
      "      -d, --date-path\n",
      "            Create post with date path (eg. year/month/day, see\n",
      "            NEW_POST_DATE_PATH_FORMAT in config)  (config: date-path)\n"
     ]
    }
   ],
   "source": [
    "!nikola new_post -h"
   ]
  },
  {
   "cell_type": "code",
   "execution_count": 12,
   "metadata": {
    "ExecuteTime": {
     "end_time": "2018-11-05T14:41:01.475071Z",
     "start_time": "2018-11-05T14:41:00.415148Z"
    }
   },
   "outputs": [
    {
     "name": "stdout",
     "output_type": "stream",
     "text": [
      "Available input formats:\n",
      "\n",
      " NAME        DESCRIPTION       EXTENSIONS\n",
      "\n",
      " html        HTML              .html, .htm\n",
      " ipynb       Jupyter Notebook  .ipynb\n",
      " markdown    Markdown          .md, .mdown, .markdown\n",
      " rest        reStructuredText  .rst, .txt\n",
      "!php         PHP               .php\n",
      "~pandoc      Pandoc            (disabled: not in COMPILERS)\n",
      "~rest_html5  rest_html5        (disabled: not in COMPILERS)\n",
      "\n",
      "    More compilers are available in the Plugins Index.\n",
      "\n",
      "    Compilers marked with ! and ~ require additional configuration:\n",
      "        ! not in the POSTS/PAGES tuples and any post scanners (unused)\n",
      "        ~ not in the COMPILERS dict (disabled)\n",
      "    Read more: https://getnikola.com/handbook.html#configuring-other-input-formats\n"
     ]
    }
   ],
   "source": [
    "!nikola new_post  --available-formats"
   ]
  },
  {
   "cell_type": "code",
   "execution_count": 13,
   "metadata": {
    "ExecuteTime": {
     "end_time": "2018-11-05T14:41:08.343633Z",
     "start_time": "2018-11-05T14:41:02.455292Z"
    }
   },
   "outputs": [
    {
     "name": "stdout",
     "output_type": "stream",
     "text": [
      "Creating New Post\n",
      "-----------------\n",
      "\n",
      "Title: 2020-01-08 changing the global phase of a Motion Cloud\n",
      "Scanning posts...........done!\n",
      "[2020-01-08T20:43:42Z] NOTICE: ipynb: No kernel specified, assuming \"python3\".\n",
      "[2020-01-08T20:43:43Z] INFO: new_post: Your post's metadata is at: posts/2020-01-08-changing-the-global-phase-of-a-motion-cloud.meta\n",
      "[2020-01-08T20:43:43Z] INFO: new_post: Your post's text is at: posts/2020-01-08-changing-the-global-phase-of-a-motion-cloud.ipynb\n"
     ]
    }
   ],
   "source": [
    "tags = ', '.join(tags_list)\n",
    "title = date + ' ' + \"changing the global phase of a Motion Cloud\"\n",
    "#title = '2017-12-13 accessing the data from a pupil recording'\n",
    "!nikola new_post -f \"{formt}\" -2 -t \"{title}\" --tags=\"{tags}\""
   ]
  },
  {
   "cell_type": "code",
   "execution_count": 14,
   "metadata": {
    "ExecuteTime": {
     "end_time": "2018-11-08T10:17:49.012273Z",
     "start_time": "2018-11-08T10:17:49.005411Z"
    }
   },
   "outputs": [
    {
     "name": "stdout",
     "output_type": "stream",
     "text": [
      "posts/2020-01-08-changing-the-global-phase-of-a-motion-cloud.ipynb\n"
     ]
    }
   ],
   "source": [
    "fname = utils.os.path.join('posts', utils.slugify(title) + '.' + formt)\n",
    "print(fname)"
   ]
  },
  {
   "cell_type": "code",
   "execution_count": 15,
   "metadata": {
    "ExecuteTime": {
     "end_time": "2018-11-05T14:41:18.822843Z",
     "start_time": "2018-11-05T14:41:18.813958Z"
    }
   },
   "outputs": [
    {
     "data": {
      "text/plain": [
       "'posts/2020-01-08-changing-the-global-phase-of-a-motion-cloud.ipynb'"
      ]
     },
     "execution_count": 15,
     "metadata": {},
     "output_type": "execute_result"
    }
   ],
   "source": [
    "utils.shutil.copy('template.ipynb', fname)"
   ]
  },
  {
   "cell_type": "markdown",
   "metadata": {},
   "source": [
    "## Copying existing notebooks"
   ]
  },
  {
   "cell_type": "code",
   "execution_count": 15,
   "metadata": {},
   "outputs": [
    {
     "name": "stdout",
     "output_type": "stream",
     "text": [
      "posts/2015-05-22-a-hitchhiker-guide-to-matching-pursuit.ipynb\n",
      "posts/2015-05-22-a-hitchhiker-guide-to-matching-pursuit.meta\n"
     ]
    }
   ],
   "source": [
    "%ls posts/2015*hitch*"
   ]
  },
  {
   "cell_type": "code",
   "execution_count": 16,
   "metadata": {
    "ExecuteTime": {
     "end_time": "2018-11-05T14:41:18.822843Z",
     "start_time": "2018-11-05T14:41:18.813958Z"
    }
   },
   "outputs": [
    {
     "data": {
      "text/plain": [
       "'posts/2019-11-28-role-of-gamma-correction-in-sparse-coding.ipynb'"
      ]
     },
     "execution_count": 16,
     "metadata": {},
     "output_type": "execute_result"
    }
   ],
   "source": [
    "utils.shutil.copy('posts/2015-05-22-a-hitchhiker-guide-to-matching-pursuit.ipynb', fname)"
   ]
  },
  {
   "cell_type": "code",
   "execution_count": null,
   "metadata": {
    "ExecuteTime": {
     "end_time": "2018-11-08T10:17:33.863368Z",
     "start_time": "2018-11-08T10:17:33.822970Z"
    }
   },
   "outputs": [],
   "source": [
    "utils.shutil.copy('/Users/laurentperrinet/pool/TimeWarp/2018-11-05_Statistics of the natural input to a ring model.ipynb', fname)\n",
    "utils.shutil.copy('/Users/laurentperrinet/pool/TimeWarp/figs/2018-11-05_Ring_input.mp4', 'files/')"
   ]
  },
  {
   "cell_type": "code",
   "execution_count": null,
   "metadata": {},
   "outputs": [],
   "source": [
    "utils.shutil.copy('/Users/laurentperrinet//science/pupil/dev/2017-12-13 accessing the data from a pupil recording.ipynb', 'posts/2017-12-13-accessing-the-data-from-a-pupil-recording.ipynb')"
   ]
  },
  {
   "cell_type": "code",
   "execution_count": null,
   "metadata": {
    "collapsed": true,
    "jupyter": {
     "outputs_hidden": true
    }
   },
   "outputs": [],
   "source": [
    "titles = ['2017-03-29 testing COMPs-Pcum', '2017-03-29 testing COMPs-fastPcum', '2017-03-29 testing COMPs-fastPcum_scripted']"
   ]
  },
  {
   "cell_type": "code",
   "execution_count": null,
   "metadata": {},
   "outputs": [],
   "source": [
    "tags = ', '.join(tags_list)\n",
    "for title in titles:\n",
    "    !nikola new_post -f \"{formt}\" -2 -t \"{title}\" --tags=\"{tags}\""
   ]
  },
  {
   "cell_type": "code",
   "execution_count": null,
   "metadata": {},
   "outputs": [],
   "source": [
    "for title in titles:\n",
    "    fname = utils.os.path.join('posts', utils.slugify(title) + '.' + formt)\n",
    "    print(fname)\n",
    "    import os\n",
    "    home = os.environ['HOME']\n",
    "    print(home)\n",
    "    filepath = home +  \"/science/VB_These/Rapport d'avancement/2017-03/\"\n",
    "    print(filepath + title +'.ipynb')\n",
    "    utils.shutil.copy(filepath + title +'.ipynb', fname)"
   ]
  },
  {
   "cell_type": "markdown",
   "metadata": {},
   "source": [
    "\n",
    "TODO : 2017-05-23-reproducing-olshausens-classical-sparsenet-part-5.ipynb and others from 2017-05-23-reproducing-olshausens-classical-sparsenet-part-5.ipynb\n"
   ]
  },
  {
   "cell_type": "raw",
   "metadata": {},
   "source": [
    "Below, I detail some thoughts on why it is a perfect preamble for most ipython notebooks.\n",
    "\n",
    "<!-- TEASER_END -->"
   ]
  },
  {
   "cell_type": "code",
   "execution_count": null,
   "metadata": {
    "collapsed": true,
    "jupyter": {
     "outputs_hidden": true
    }
   },
   "outputs": [],
   "source": [
    "import nikola"
   ]
  },
  {
   "cell_type": "code",
   "execution_count": null,
   "metadata": {
    "collapsed": true,
    "jupyter": {
     "outputs_hidden": true
    }
   },
   "outputs": [],
   "source": [
    "nikola.utils."
   ]
  },
  {
   "cell_type": "code",
   "execution_count": null,
   "metadata": {
    "collapsed": true,
    "jupyter": {
     "outputs_hidden": true
    }
   },
   "outputs": [],
   "source": [
    "from nikola.plugins import commands"
   ]
  },
  {
   "cell_type": "code",
   "execution_count": null,
   "metadata": {
    "collapsed": true,
    "jupyter": {
     "outputs_hidden": true
    }
   },
   "outputs": [],
   "source": [
    "plugins.absolute_import"
   ]
  },
  {
   "cell_type": "code",
   "execution_count": null,
   "metadata": {
    "collapsed": true,
    "jupyter": {
     "outputs_hidden": true
    }
   },
   "outputs": [],
   "source": [
    "!nikola help new_post "
   ]
  },
  {
   "cell_type": "code",
   "execution_count": null,
   "metadata": {
    "collapsed": true,
    "jupyter": {
     "outputs_hidden": true
    }
   },
   "outputs": [],
   "source": [
    "base_url = \"http://127.0.0.1:\"\n",
    "port = 8889\n",
    "\n",
    "from nikola import utils\n",
    "notebook = \"/notebooks/posts/\" + utils.slugify(unicode(title)) + \".ipynb\"  \n",
    "\n",
    "url = base_url + str(port) + notebook\n",
    "print url"
   ]
  },
  {
   "cell_type": "code",
   "execution_count": null,
   "metadata": {
    "collapsed": true,
    "jupyter": {
     "outputs_hidden": true
    }
   },
   "outputs": [],
   "source": [
    "def convert(URL, DATE, TIME, TITLE, TAGS, doit=True):\n",
    "\n",
    "    TIMEDTITLE = DATE[2:] + ' ' + TITLE\n",
    "    SLUG = DATE[2:] + '-' + TITLE.replace(' ', '-')\n",
    "    tmplt = \"\"\"\\\n",
    ".. title: %s %s\n",
    ".. slug: %s\n",
    ".. date: %s %s\n",
    ".. type: text\n",
    ".. tags: %s\n",
    "    \n",
    "\"\"\" % (DATE[2:], TITLE, SLUG, DATE, TIME, TAGS)\n",
    "\n",
    "    print tmplt\n",
    "\n",
    "    if doit:\n",
    "        import os\n",
    "        print TITLE, TAGS\n",
    "        cmd = 'cd ..; nikola new_post --title=\"%s\" --tags=\"%s\"' % (TIMEDTITLE, TAGS)\n",
    "        print cmd\n",
    "        os.system(cmd)\n",
    "        f = file(SLUG + '.rst', 'w')\n",
    "        f.write(tmplt + pagerst)\n",
    "        f.close()\n",
    "    else:\n",
    "        print tmplt"
   ]
  },
  {
   "cell_type": "markdown",
   "metadata": {},
   "source": [
    "## updating dates to iso8601 : ipython notebooks"
   ]
  },
  {
   "cell_type": "code",
   "execution_count": null,
   "metadata": {
    "collapsed": true,
    "jupyter": {
     "outputs_hidden": true
    },
    "scrolled": true
   },
   "outputs": [],
   "source": [
    "import glob, os, shutil\n",
    "from nikola import utils\n",
    "\n",
    "for fname in glob.glob(\"posts/14*.ipynb\"):\n",
    "    ROOT, FILE = os.path.split(fname)\n",
    "    SLUG = 'posts/' + FILE.replace('.ipynb', '.meta')\n",
    "    FILE_new = 'posts/20' + FILE\n",
    "    SLUG_new = 'posts/20' + FILE.replace('.ipynb', '.meta')\n",
    "    print(SLUG)\n",
    "    meta = ''\n",
    "    with open(SLUG, 'r') as f: \n",
    "        for line in f.readlines():\n",
    "            meta += line.replace(' 14-', ' 2014-')\n",
    "    print(FILE_new, SLUG_new)\n",
    "    print(meta)\n",
    "    if True:\n",
    "        with open(SLUG_new, 'w') as f: f.write(meta)\n",
    "        shutil.copy( 'posts/' + FILE, FILE_new)\n",
    "        os.remove('posts/' + FILE)\n",
    "        os.remove(SLUG)"
   ]
  },
  {
   "cell_type": "markdown",
   "metadata": {},
   "source": [
    "## updating dates to iso8601 : other posts"
   ]
  },
  {
   "cell_type": "code",
   "execution_count": null,
   "metadata": {
    "collapsed": true,
    "jupyter": {
     "outputs_hidden": true
    }
   },
   "outputs": [],
   "source": [
    "import glob, os, shutil\n",
    "from nikola import utils\n",
    "\n",
    "for YEAR in [\"10\", \"11\", \"12\", \"13\", \"14\"]:\n",
    "    for fname in glob.glob(\"posts/\"+ YEAR + \"-*.txt\"):\n",
    "        ROOT, FILE = os.path.split(fname)\n",
    "        FILE_new = 'posts/20' + FILE\n",
    "        print(FILE_new)\n",
    "        if True:\n",
    "            shutil.copy( 'posts/' + FILE, FILE_new)\n",
    "            os.remove('posts/' + FILE)\n"
   ]
  },
  {
   "cell_type": "code",
   "execution_count": null,
   "metadata": {
    "collapsed": true,
    "jupyter": {
     "outputs_hidden": true
    },
    "scrolled": true
   },
   "outputs": [],
   "source": [
    "import glob, os, shutil\n",
    "from nikola import utils\n",
    "\n",
    "for ext in [\"*.txt\", \"*.rst\"]:\n",
    "    for YEAR in [\"06\", \"07\", \"08\", \"09\", \"10\", \"11\", \"12\", \"13\", \"14\", \"15\"]:\n",
    "        for fname in glob.glob(\"posts/20\"+ YEAR + ext):\n",
    "            ROOT, FILE = os.path.split(fname)\n",
    "            post = ''\n",
    "            with open('posts/' + FILE, 'r') as f: \n",
    "                for line in f.readlines():\n",
    "                    line = line.replace(' '+ YEAR + '-', ' 20'+ YEAR + '-')\n",
    "                    for YEAR_ in [\"10\", \"11\", \"12\", \"13\", \"14\"]:\n",
    "                        line = line.replace('<'+ YEAR_ + '-', '<20'+ YEAR_ + '-')\n",
    "                    post += line\n",
    "            print(FILE)\n",
    "            if True:\n",
    "                with open('posts/' + FILE, 'w') as f: f.write(post)\n",
    "            else:\n",
    "                print(post)\n"
   ]
  },
  {
   "cell_type": "markdown",
   "metadata": {},
   "source": [
    "# deploying changes"
   ]
  },
  {
   "cell_type": "raw",
   "metadata": {},
   "source": [
    "!nikola clean"
   ]
  },
  {
   "cell_type": "code",
   "execution_count": 1,
   "metadata": {},
   "outputs": [
    {
     "name": "stdout",
     "output_type": "stream",
     "text": [
      "On branch master\n",
      "Your branch is up to date with 'origin/master'.\n",
      "\n",
      "Changes not staged for commit:\n",
      "  (use \"git add <file>...\" to update what will be committed)\n",
      "  (use \"git restore <file>...\" to discard changes in working directory)\n",
      "\t\u001b[32mmodified:   bootstrapPost.ipynb\u001b[m\n",
      "\t\u001b[32mmodified:   docs/posts/2015-11-17-elasticite-expansion-en-miroir-dynamique-dun-point-focal.ipynb\u001b[m\n",
      "\t\u001b[32mmodified:   files/2015-05-22-a-hitchhiker-guide-to-matching-pursuit/gamma.png\u001b[m\n",
      "\t\u001b[32mmodified:   posts/2015-11-17-elasticite-expansion-en-miroir-dynamique-dun-point-focal.ipynb\u001b[m\n",
      "\t\u001b[32mmodified:   posts/2019-11-28-role-of-gamma-correction-in-sparse-coding.ipynb\u001b[m\n",
      "\n",
      "Untracked files:\n",
      "  (use \"git add <file>...\" to include in what will be committed)\n",
      "\t\u001b[36mfiles/2015-05-22-a-hitchhiker-guide-to-matching-pursuit/gamma_results.png\u001b[m\n",
      "\n",
      "no changes added to commit (use \"git add\" and/or \"git commit -a\")\n"
     ]
    }
   ],
   "source": [
    "!git status"
   ]
  },
  {
   "cell_type": "code",
   "execution_count": 2,
   "metadata": {},
   "outputs": [
    {
     "name": "stdout",
     "output_type": "stream",
     "text": [
      "total 980520\n",
      "-rw-r--r--   1 lolo  staff    324722 Jun 26  2016 2016-06-26_thesis.png\n",
      "-rw-r--r--   1 lolo  staff      1150 Oct 19  2016 favicon.ico\n",
      "-rw-r--r--   1 lolo  staff   1019049 Nov 18  2016 2016-11-15_test.mp4\n",
      "-rw-r--r--   1 lolo  staff   1110166 Dec 14  2016 2016-11-15_noise.mp4\n",
      "-rw-r--r--   1 lolo  staff   1903114 Dec 13  2017 2017-12-13_pupil test_480.mp4\n",
      "-rw-r--r--   1 lolo  staff    757011 Nov  8  2018 2018-11-05_Ring_input.mp4\n",
      "-rw-r--r--   1 lolo  staff    107656 Nov  8  2018 2018-11-05_Ring_input.png\n",
      "-rw-r--r--   1 lolo  staff     32684 Nov 14  2018 2018-11-14-regex-an-iso8601-date.png\n",
      "drwxr-xr-x   3 lolo  staff       102 Jan 19  2019 \u001b[1m\u001b[36m2014-06-18-stage-m1-chloe-pasturel-week-3\u001b[m\u001b[m\n",
      "drwxr-xr-x  60 lolo  staff      2040 Jan 19  2019 \u001b[1m\u001b[36m2014-10-20_Aperture-Problem\u001b[m\u001b[m\n",
      "drwxr-xr-x  36 lolo  staff      1224 Jan 19  2019 \u001b[1m\u001b[36m2014-10-20_MotionPlaids\u001b[m\u001b[m\n",
      "drwxr-xr-x  42 lolo  staff      1428 Jan 19  2019 \u001b[1m\u001b[36m2014-10-24_waves\u001b[m\u001b[m\n",
      "drwxr-xr-x  74 lolo  staff      2516 Jan 19  2019 \u001b[1m\u001b[36m2014-11-10_balaV1-protocol\u001b[m\u001b[m\n",
      "drwxr-xr-x  16 lolo  staff       544 Jan 19  2019 \u001b[1m\u001b[36m2014-11-10_reverse-phi\u001b[m\u001b[m\n",
      "drwxr-xr-x   4 lolo  staff       136 Jan 19  2019 \u001b[1m\u001b[36m2015-02-19_horizon\u001b[m\u001b[m\n",
      "drwxr-xr-x   4 lolo  staff       136 Jan 19  2019 \u001b[1m\u001b[36m2015-07-02_smooth\u001b[m\u001b[m\n",
      "drwxr-xr-x  52 lolo  staff      1768 Jan 19  2019 \u001b[1m\u001b[36m2015-10-14_elasticite\u001b[m\u001b[m\n",
      "drwxr-xr-x   7 lolo  staff       238 Jan 19  2019 \u001b[1m\u001b[36m2016-01-27_mirror-clouds\u001b[m\u001b[m\n",
      "drwxr-xr-x  12 lolo  staff       408 Jan 19  2019 \u001b[1m\u001b[36m2016-04-06_IRM-protocol\u001b[m\u001b[m\n",
      "drwxr-xr-x   6 lolo  staff       204 Jan 19  2019 \u001b[1m\u001b[36m2016-04-24_a-wave-going-backwards\u001b[m\u001b[m\n",
      "drwxr-xr-x   8 lolo  staff       272 Jan 19  2019 \u001b[1m\u001b[36m2015-12-08_cours_neurocomp\u001b[m\u001b[m\n",
      "drwxr-xr-x  11 lolo  staff       374 Jan 19  2019 \u001b[1m\u001b[36m2016-04-25_pollymagoo\u001b[m\u001b[m\n",
      "drwxr-xr-x   7 lolo  staff       238 Jan 19  2019 \u001b[1m\u001b[36m2016-04-28_mejanes\u001b[m\u001b[m\n",
      "drwxr-xr-x   5 lolo  staff       170 Jan 19  2019 \u001b[1m\u001b[36m2016-07-07_EDP-proba\u001b[m\u001b[m\n",
      "drwxr-xr-x  13 lolo  staff       442 Jan 19  2019 \u001b[1m\u001b[36m2016-07-16-Heeger16JNeuro\u001b[m\u001b[m\n",
      "drwxr-xr-x   7 lolo  staff       238 Jan 19  2019 \u001b[1m\u001b[36m2016-09-26_Perrinet16journalClub\u001b[m\u001b[m\n",
      "drwxr-xr-x  35 lolo  staff      1190 Jan 19  2019 \u001b[1m\u001b[36m2017-12-21-MotionVariability\u001b[m\u001b[m\n",
      "drwxr-xr-x  21 lolo  staff       714 Jan 19  2019 \u001b[1m\u001b[36m2018-11-13-testing-more-complex\u001b[m\u001b[m\n",
      "drwxr-xr-x  11 lolo  staff       374 Jan 19  2019 \u001b[1m\u001b[36m2018-11-29-feature-vs-global-motion\u001b[m\u001b[m\n",
      "drwxr-xr-x   4 lolo  staff       136 Jan 19  2019 \u001b[1m\u001b[36m2015-02-19_MotionPlaid\u001b[m\u001b[m\n",
      "drwxr-xr-x  19 lolo  staff       646 Jan 19  2019 \u001b[1m\u001b[36m2018-01-16-testing-more-complex\u001b[m\u001b[m\n",
      "-rw-r--r--   1 lolo  staff    139908 Jan 31  2019 2019-01-30_Ravello19.mp4\n",
      "-rw-r--r--   1 lolo  staff    338053 Jan 31  2019 2019-01-30_Ravello19_text.mp4\n",
      "-rw-r--r--   1 lolo  staff   4706257 Feb 19  2019 2017-03-06_cours-NeuroComp.html\n",
      "-rw-r--r--   1 lolo  staff  11566936 Feb 19  2019 2018-02-01_BCP_INVIBE_fest.html\n",
      "-rw-r--r--   1 lolo  staff  31158928 Feb 19  2019 2016-11-03_SIGMA.html\n",
      "-rw-r--r--   1 lolo  staff   7497440 Feb 19  2019 2017-03-24_pollymagoo.html\n",
      "-rw-r--r--   1 lolo  staff  23006912 Feb 19  2019 2017-03-13_NeuroComp_FEP.html\n",
      "-rw-r--r--   1 lolo  staff  18331510 Feb 19  2019 2017-02-17_JournalClub.html\n",
      "-rw-r--r--   1 lolo  staff  41202643 Feb 19  2019 2016-10-13_LAW.html\n",
      "-rw-r--r--   1 lolo  staff     36803 Mar 14  2019 static.png\n",
      "-rw-r--r--   1 lolo  staff    229604 Mar 14  2019 static_cube.png\n",
      "-rw-r--r--   1 lolo  staff    134823 Mar 14  2019 static.mp4\n",
      "-rw-r--r--   1 lolo  staff     74771 Apr  3  2019 2017-04-10_physical_speed_group_speed.png\n",
      "-rw-r--r--   1 lolo  staff    366185 Apr  3  2019 2017-04-10_physical_speed_group_speed_cube.png\n",
      "-rw-r--r--   1 lolo  staff   1098721 Apr  3  2019 2017-04-10_physical_speed_group_speed.mp4\n",
      "-rw-r--r--   1 lolo  staff     66714 Apr  3  2019 2017-04-10_physical_speed_group_speed_K_1_6666666666666667.png\n",
      "-rw-r--r--   1 lolo  staff    362826 Apr  3  2019 2017-04-10_physical_speed_group_speed_K_1_6666666666666667_cube.png\n",
      "-rw-r--r--   1 lolo  staff   1038679 Apr  3  2019 2017-04-10_physical_speed_group_speed_K_1_6666666666666667.mp4\n",
      "-rw-r--r--   1 lolo  staff     69618 Apr  3  2019 2017-04-10_physical_speed_group_speed_K_1_3636363636363638.png\n",
      "-rw-r--r--   1 lolo  staff    364927 Apr  3  2019 2017-04-10_physical_speed_group_speed_K_1_3636363636363638_cube.png\n",
      "-rw-r--r--   1 lolo  staff   1061027 Apr  3  2019 2017-04-10_physical_speed_group_speed_K_1_3636363636363638.mp4\n",
      "-rw-r--r--   1 lolo  staff     72453 Apr  3  2019 2017-04-10_physical_speed_group_speed_K_1_1538461538461537.png\n",
      "-rw-r--r--   1 lolo  staff    365619 Apr  3  2019 2017-04-10_physical_speed_group_speed_K_1_1538461538461537_cube.png\n",
      "-rw-r--r--   1 lolo  staff   1097273 Apr  3  2019 2017-04-10_physical_speed_group_speed_K_1_1538461538461537.mp4\n",
      "-rw-r--r--   1 lolo  staff     74771 Apr  3  2019 2017-04-10_physical_speed_group_speed_K_1_0.png\n",
      "-rw-r--r--   1 lolo  staff    363870 Apr  3  2019 2017-04-10_physical_speed_group_speed_K_1_0_cube.png\n",
      "-rw-r--r--   1 lolo  staff   1079517 Apr  3  2019 2017-04-10_physical_speed_group_speed_K_1_0.mp4\n",
      "-rw-r--r--   1 lolo  staff     77008 Apr  3  2019 2017-04-10_physical_speed_group_speed_K_0_8823529411764706.png\n",
      "drwxr-xr-x  23 lolo  staff       782 Apr  3  2019 \u001b[1m\u001b[36m2017-04-10_physical_speed\u001b[m\u001b[m\n",
      "-rw-r--r--   1 lolo  staff    365153 Apr  3  2019 2017-04-10_physical_speed_group_speed_K_0_8823529411764706_cube.png\n",
      "-rw-r--r--   1 lolo  staff   1092657 Apr  3  2019 2017-04-10_physical_speed_group_speed_K_0_8823529411764706.mp4\n",
      "-rw-r--r--   1 lolo  staff     79136 Apr  3  2019 2017-04-10_physical_speed_group_speed_K_0_7894736842105263.png\n",
      "-rw-r--r--   1 lolo  staff    360303 Apr  3  2019 2017-04-10_physical_speed_group_speed_K_0_7894736842105263_cube.png\n",
      "-rw-r--r--   1 lolo  staff   1068254 Apr  3  2019 2017-04-10_physical_speed_group_speed_K_0_7894736842105263.mp4\n",
      "-rw-r--r--   1 lolo  staff     80965 Apr  3  2019 2017-04-10_physical_speed_group_speed_K_0_7142857142857143.png\n",
      "-rw-r--r--   1 lolo  staff    359876 Apr  3  2019 2017-04-10_physical_speed_group_speed_K_0_7142857142857143_cube.png\n",
      "-rw-r--r--   1 lolo  staff   1061845 Apr  3  2019 2017-04-10_physical_speed_group_speed_K_0_7142857142857143.mp4\n",
      "-rw-r--r--   1 lolo  staff  85353751 Jul  9 10:39 2015-10-07_Perrinet15biocomp_slides.pdf\n",
      "-rw-r--r--   1 lolo  staff  19877705 Jul 29 23:13 2017-01-20_LACONEU.html\n",
      "-rw-r--r--   1 lolo  staff  20249393 Jul 29 23:14 2017-01-19_LACONEU.html\n",
      "-rw-r--r--   1 lolo  staff  19190254 Jul 29 23:14 2017-01-18_LACONEU.html\n",
      "-rw-r--r--   1 lolo  staff  29093231 Jul 29 23:17 2018-01-25_meetup-neuronautes.html\n",
      "-rw-r--r--   1 lolo  staff  46711997 Jul 29 23:19 2018-10-11_BioMorphisme.html\n",
      "-rw-r--r--   1 lolo  staff  12035210 Jul 29 23:21 2017-06-30_Telluride.html\n",
      "-rw-r--r--   1 lolo  staff  24104870 Jul 29 23:21 2017-06-28_Telluride.html\n",
      "-rw-r--r--   1 lolo  staff   4163196 Jul 29 23:21 2017-06-27_Telluride_short.html\n",
      "-rw-r--r--   1 lolo  staff  19537382 Jul 30 11:00 2016-10-26_Perrinet16EUVIP_talk.html\n",
      "-rw-r--r--   1 lolo  staff  12523435 Jul 30 11:00 2016-10-26_FillatreBarlaudPerrinet16EUVIP_talk.html\n",
      "-rw-r--r--   1 lolo  staff  37499552 Jul 30 11:03 2017-11-15_ColloqueMaster.html\n",
      "-rw-r--r--   1 lolo  staff   3826913 Sep 16 10:59 2019-09-11_Perrinet19.mp4\n",
      "-rw-r--r--   1 lolo  staff  12031159 Sep 19 10:52 2019-09-11_Perrinet19.gif\n",
      "-rw-r--r--   1 lolo  staff      6550 Oct  1 16:58 2019-09-30_clock.mp4\n",
      "drwxr-xr-x  32 lolo  staff      1088 Dec 11 09:19 \u001b[1m\u001b[36m2015-05-22-a-hitchhiker-guide-to-matching-pursuit\u001b[m\u001b[m\n"
     ]
    }
   ],
   "source": [
    "!ls -ltr files"
   ]
  },
  {
   "cell_type": "code",
   "execution_count": 3,
   "metadata": {},
   "outputs": [
    {
     "name": "stdout",
     "output_type": "stream",
     "text": [
      "Scanning posts...........done!\n",
      ".  render_sources:docs/posts/2019-11-28-role-of-gamma-correction-in-sparse-coding.ipynb\n",
      ".  render_sources:docs/posts/2018-12-13-sparse-coding-using-fista.ipynb\n",
      ".  render_posts:timeline_changes\n",
      ".  render_posts:cache/posts/2019-11-28-role-of-gamma-correction-in-sparse-coding.html\n",
      ".  render_listings:docs/listings/index.html\n",
      ".  render_taxonomies:docs/archive.html\n",
      ".  render_taxonomies:docs/categories/loggabor.html\n",
      ".  render_taxonomies:docs/categories/machine-learning.html\n",
      ".  render_taxonomies:docs/categories/orientation.html\n",
      ".  render_taxonomies:docs/categories/slip.html\n",
      ".  render_taxonomies:docs/categories/sparse.html\n",
      ".  render_taxonomies:docs/index.html\n",
      ".  copy_files:docs/files/2015-05-22-a-hitchhiker-guide-to-matching-pursuit/gamma.png\n",
      ".  copy_files:docs/files/2015-05-22-a-hitchhiker-guide-to-matching-pursuit/gamma_results.png\n",
      ".  render_taxonomies:docs/rss.xml\n",
      ".  render_taxonomies:docs/categories/loggabor.xml\n",
      ".  render_taxonomies:docs/categories/machine-learning.xml\n",
      ".  render_taxonomies:docs/categories/orientation.xml\n",
      ".  render_taxonomies:docs/categories/slip.xml\n",
      ".  render_taxonomies:docs/categories/sparse.xml\n",
      ".  render_pages:docs/posts/2019-11-28-role-of-gamma-correction-in-sparse-coding.html\n",
      ".  render_pages:docs/posts/2018-12-13-sparse-coding-using-fista.html\n",
      ".  sitemap:docs/sitemap.xml\n",
      ".  sitemap:docs/sitemapindex.xml\n",
      "\u001b[0m"
     ]
    }
   ],
   "source": [
    "!nikola build"
   ]
  },
  {
   "cell_type": "code",
   "execution_count": 4,
   "metadata": {},
   "outputs": [
    {
     "name": "stdout",
     "output_type": "stream",
     "text": [
      "rm: posts/__temp__.mp4: No such file or directory\n"
     ]
    }
   ],
   "source": [
    "%rm posts/__temp__.mp4"
   ]
  },
  {
   "cell_type": "code",
   "execution_count": 5,
   "metadata": {
    "scrolled": true
   },
   "outputs": [
    {
     "name": "stdout",
     "output_type": "stream",
     "text": [
      "Scanning posts...........done!\n",
      "\u001b[33;01m[2019-12-11T08:43:15Z] NOTICE: deploy: Deleted 1 posts due to DEPLOY_* settings\u001b[39;49;00m\n",
      "\u001b[37m[2019-12-11T08:43:15Z] INFO: deploy: => preset 'default'\u001b[39;49;00m\n",
      "\u001b[37m[2019-12-11T08:43:15Z] INFO: deploy: ==> git add posts/* docs/* files/*\u001b[39;49;00m\n",
      "\u001b[37m[2019-12-11T08:43:15Z] INFO: deploy: ==> git commit -am' updating site'\u001b[39;49;00m\n",
      "[master 5cba700]  updating site\n",
      " 19 files changed, 378 insertions(+), 1287 deletions(-)\n",
      " rewrite docs/files/2015-05-22-a-hitchhiker-guide-to-matching-pursuit/gamma.png (96%)\n",
      " create mode 100644 docs/files/2015-05-22-a-hitchhiker-guide-to-matching-pursuit/gamma_results.png\n",
      " mode change 100644 => 100755 docs/posts/2015-11-17-elasticite-expansion-en-miroir-dynamique-dun-point-focal.ipynb\n",
      " rewrite files/2015-05-22-a-hitchhiker-guide-to-matching-pursuit/gamma.png (96%)\n",
      " create mode 100644 files/2015-05-22-a-hitchhiker-guide-to-matching-pursuit/gamma_results.png\n",
      " mode change 100644 => 100755 posts/2015-11-17-elasticite-expansion-en-miroir-dynamique-dun-point-focal.ipynb\n",
      "\u001b[37m[2019-12-11T08:43:16Z] INFO: deploy: ==> git push\u001b[39;49;00m\n",
      "Enumerating objects: 44, done.\n",
      "Counting objects: 100% (44/44), done.\n",
      "Delta compression using up to 8 threads\n",
      "Compressing objects: 100% (23/23), done.\n",
      "Writing objects: 100% (23/23), 253.60 KiB | 16.91 MiB/s, done.\n",
      "Total 23 (delta 20), reused 0 (delta 0)\n",
      "remote: Resolving deltas: 100% (20/20), completed with 20 local objects.\u001b[K\n",
      "To https://github.com/laurentperrinet/sciblog.git\n",
      "   f8ee267..5cba700  master -> master\n",
      "\u001b[37m[2019-12-11T08:43:24Z] INFO: deploy: Successful deployment\u001b[39;49;00m\n",
      "\u001b[0m"
     ]
    }
   ],
   "source": [
    "!nikola deploy"
   ]
  },
  {
   "cell_type": "raw",
   "metadata": {},
   "source": [
    "import time\n",
    "time.sleep(3600*0)"
   ]
  },
  {
   "cell_type": "code",
   "execution_count": 7,
   "metadata": {},
   "outputs": [
    {
     "name": "stdout",
     "output_type": "stream",
     "text": [
      "Scanning posts...........done!\n",
      ".  render_posts:timeline_changes\n",
      ".  render_posts:cache/posts/2019-11-28-role-of-gamma-correction-in-sparse-coding.html\n",
      ".  render_sources:docs/posts/2019-11-28-role-of-gamma-correction-in-sparse-coding.ipynb\n",
      ".  render_sources:docs/posts/2018-12-13-sparse-coding-using-fista.ipynb\n",
      ".  render_taxonomies:docs/archive.html\n",
      ".  render_taxonomies:docs/index.html\n",
      ".  render_taxonomies:docs/categories/loggabor.html\n",
      ".  render_taxonomies:docs/categories/machine-learning.html\n",
      ".  render_taxonomies:docs/categories/orientation.html\n",
      ".  render_taxonomies:docs/categories/slip.html\n",
      ".  render_taxonomies:docs/categories/sparse.html\n",
      ".  copy_files:docs/files/2015-05-22-a-hitchhiker-guide-to-matching-pursuit/gamma_results.png\n",
      ".  render_taxonomies:docs/rss.xml\n",
      ".  render_taxonomies:docs/categories/loggabor.xml\n",
      ".  render_taxonomies:docs/categories/machine-learning.xml\n",
      ".  render_taxonomies:docs/categories/orientation.xml\n",
      ".  render_taxonomies:docs/categories/slip.xml\n",
      ".  render_taxonomies:docs/categories/sparse.xml\n",
      ".  render_pages:docs/posts/2019-11-28-role-of-gamma-correction-in-sparse-coding.html\n",
      ".  render_pages:docs/posts/2018-12-13-sparse-coding-using-fista.html\n",
      ".  sitemap:docs/sitemap.xml\n",
      ".  sitemap:docs/sitemapindex.xml\n",
      "\u001b[0mScanning posts...........done!\n",
      "\u001b[33;01m[2019-12-11T10:10:56Z] NOTICE: deploy: Deleted 1 posts due to DEPLOY_* settings\u001b[39;49;00m\n",
      "\u001b[37m[2019-12-11T10:10:56Z] INFO: deploy: => preset 'default'\u001b[39;49;00m\n",
      "\u001b[37m[2019-12-11T10:10:56Z] INFO: deploy: ==> git add posts/* docs/* files/*\u001b[39;49;00m\n",
      "\u001b[37m[2019-12-11T10:10:57Z] INFO: deploy: ==> git commit -am' updating site'\u001b[39;49;00m\n",
      "[master 0292300]  updating site\n",
      " 14 files changed, 31 insertions(+), 27 deletions(-)\n",
      " rewrite docs/files/2015-05-22-a-hitchhiker-guide-to-matching-pursuit/gamma_results.png (99%)\n",
      " rewrite files/2015-05-22-a-hitchhiker-guide-to-matching-pursuit/gamma_results.png (99%)\n",
      "\u001b[37m[2019-12-11T10:10:57Z] INFO: deploy: ==> git push\u001b[39;49;00m\n",
      "Enumerating objects: 41, done.\n",
      "Counting objects: 100% (41/41), done.\n",
      "Delta compression using up to 8 threads\n",
      "Compressing objects: 100% (21/21), done.\n",
      "Writing objects: 100% (21/21), 26.99 KiB | 13.50 MiB/s, done.\n",
      "Total 21 (delta 19), reused 0 (delta 0)\n",
      "remote: Resolving deltas: 100% (19/19), completed with 19 local objects.\u001b[K\n",
      "To https://github.com/laurentperrinet/sciblog.git\n",
      "   dbbbbdb..0292300  master -> master\n",
      "\u001b[37m[2019-12-11T10:11:02Z] INFO: deploy: Successful deployment\u001b[39;49;00m\n",
      "\u001b[0m"
     ]
    }
   ],
   "source": [
    "!nikola build ; nikola deploy"
   ]
  },
  {
   "cell_type": "code",
   "execution_count": 10,
   "metadata": {},
   "outputs": [
    {
     "name": "stdout",
     "output_type": "stream",
     "text": [
      "On branch master\n",
      "Your branch is up to date with 'origin/master'.\n",
      "\n",
      "Changes not staged for commit:\n",
      "  (use \"git add <file>...\" to update what will be committed)\n",
      "  (use \"git restore <file>...\" to discard changes in working directory)\n",
      "\t\u001b[32mmodified:   bootstrapPost.ipynb\u001b[m\n",
      "\n",
      "no changes added to commit (use \"git add\" and/or \"git commit -a\")\n"
     ]
    }
   ],
   "source": [
    "!git status\n",
    "#!git add \tfiles/2015-12-08_cours_neurocomp/2017-03-06_LaurentPezard.pdf"
   ]
  },
  {
   "cell_type": "code",
   "execution_count": null,
   "metadata": {},
   "outputs": [
    {
     "name": "stdout",
     "output_type": "stream",
     "text": [
      "Scanning posts...........done!\n",
      ".  copy_files:docs/files/2018-11-13-testing-more-complex/trajectory_overlay_difficult_reversed.mp4\n",
      ".  copy_files:docs/files/2018-11-13-testing-more-complex/trajectory_straight.mp4\n",
      ".  copy_files:docs/files/2018-11-13-testing-more-complex/trajectory_straight_cube.png\n",
      ".  copy_files:docs/files/2018-11-13-testing-more-complex/trajectory_impulse.png\n",
      ".  copy_files:docs/files/2018-11-13-testing-more-complex/trajectory_overlay.mp4\n",
      ".  copy_files:docs/files/2018-11-13-testing-more-complex/trajectory_overlay_difficult_shuffled.mp4\n",
      ".  copy_files:docs/files/2018-11-13-testing-more-complex/trajectory_shuffled.mp4\n",
      ".  copy_files:docs/files/2018-11-13-testing-more-complex/trajectory_dense.mp4\n",
      ".  copy_files:docs/files/2018-11-13-testing-more-complex/trajectory_impulse_cube.png\n",
      ".  copy_files:docs/files/2018-11-13-testing-more-complex/trajectory_dense_cube.png\n",
      ".  copy_files:docs/files/2018-11-13-testing-more-complex/trajectory_shuffled_cube.png\n",
      ".  copy_files:docs/files/2018-11-13-testing-more-complex/trajectory_shuffled.png\n",
      ".  copy_files:docs/files/2018-11-13-testing-more-complex/trajectory_dense.png\n",
      ".  copy_files:docs/files/2018-11-13-testing-more-complex/trajectory_straight.png\n",
      ".  copy_files:docs/files/2018-11-13-testing-more-complex/trajectory_overlay_difficult_shuffled_reversed.mp4\n",
      ".  copy_files:docs/files/2018-11-13-testing-more-complex/trajectory_overlay_shuffled.mp4\n",
      ".  copy_files:docs/files/2018-11-13-testing-more-complex/trajectory_overlay_difficult.mp4\n",
      ".  copy_files:docs/files/2018-11-13-testing-more-complex/trajectory_impulse.mp4\n",
      ".  render_posts:timeline_changes\n",
      ".  render_posts:cache/posts/2018-11-13-testing-more-complex-trajectories.html\n",
      ".  render_taxonomies:docs/archive.html\n",
      ".  render_taxonomies:docs/index.html\n"
     ]
    }
   ],
   "source": [
    "!nikola build ; nikola deploy"
   ]
  },
  {
   "cell_type": "code",
   "execution_count": 22,
   "metadata": {},
   "outputs": [
    {
     "name": "stdout",
     "output_type": "stream",
     "text": [
      "[master be50111]  new page\n",
      " 3 files changed, 211 insertions(+), 114 deletions(-)\n",
      " mode change 100755 => 100644 docs/posts/2015-11-17-elasticite-expansion-en-miroir-dynamique-dun-point-focal.ipynb\n",
      " mode change 100755 => 100644 posts/2015-11-17-elasticite-expansion-en-miroir-dynamique-dun-point-focal.ipynb\n"
     ]
    }
   ],
   "source": [
    "!git commit -am' new page' "
   ]
  },
  {
   "cell_type": "code",
   "execution_count": 13,
   "metadata": {},
   "outputs": [],
   "source": [
    "!open https://laurentperrinet.github.io/sciblog"
   ]
  },
  {
   "cell_type": "markdown",
   "metadata": {},
   "source": [
    "Voilà!"
   ]
  }
 ],
 "metadata": {
  "kernelspec": {
   "display_name": "Python 3",
   "language": "python",
   "name": "python3"
  },
  "language_info": {
   "codemirror_mode": {
    "name": "ipython",
    "version": 3
   },
   "file_extension": ".py",
   "mimetype": "text/x-python",
   "name": "python",
   "nbconvert_exporter": "python",
   "pygments_lexer": "ipython3",
   "version": "3.7.6"
  },
  "toc": {
   "base_numbering": 1,
   "nav_menu": {
    "height": "117px",
    "width": "252px"
   },
   "number_sections": true,
   "sideBar": true,
   "skip_h1_title": false,
   "title_cell": "Table of Contents",
   "title_sidebar": "Contents",
   "toc_cell": false,
   "toc_position": {},
   "toc_section_display": "block",
   "toc_window_display": false
  }
 },
 "nbformat": 4,
 "nbformat_minor": 4
}
