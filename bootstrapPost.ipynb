{
 "cells": [
  {
   "cell_type": "markdown",
   "metadata": {},
   "source": [
    "# installing and updating nikola"
   ]
  },
  {
   "cell_type": "code",
   "execution_count": 2,
   "metadata": {},
   "outputs": [
    {
     "name": "stdout",
     "output_type": "stream",
     "text": [
      "\u001b[31mERROR: Could not find a version that satisfies the requirement imp (from versions: none)\u001b[0m\u001b[31m\n",
      "\u001b[0m\u001b[31mERROR: No matching distribution found for imp\u001b[0m\u001b[31m\n",
      "\u001b[0mNote: you may need to restart the kernel to use updated packages.\n"
     ]
    }
   ],
   "source": [
    "%pip install imp\n"
   ]
  },
  {
   "cell_type": "code",
   "execution_count": 4,
   "metadata": {
    "ExecuteTime": {
     "end_time": "2018-09-07T10:25:40.747475Z",
     "start_time": "2018-09-07T10:25:38.376282Z"
    }
   },
   "outputs": [
    {
     "name": "stdout",
     "output_type": "stream",
     "text": [
      "Nikola v8.3.3\n",
      "Nikola is up-to-date\n"
     ]
    }
   ],
   "source": [
    "!nikola version --check"
   ]
  },
  {
   "cell_type": "code",
   "execution_count": null,
   "metadata": {},
   "outputs": [],
   "source": [
    "# %conda install -c asmeurer nikola\n",
    "%pip install --upgrade Nikola notebook pip"
   ]
  },
  {
   "cell_type": "code",
   "execution_count": null,
   "metadata": {},
   "outputs": [],
   "source": [
    "!python3 -m pip uninstall -y nikola"
   ]
  },
  {
   "cell_type": "code",
   "execution_count": 3,
   "metadata": {
    "ExecuteTime": {
     "end_time": "2018-09-07T10:24:17.333057Z",
     "start_time": "2018-09-07T10:24:14.585077Z"
    }
   },
   "outputs": [
    {
     "name": "stdout",
     "output_type": "stream",
     "text": [
      "Requirement already satisfied: lxml in /usr/local/anaconda3/lib/python3.12/site-packages (5.3.0)\n",
      "Collecting lxml\n",
      "  Downloading lxml-5.4.0-cp312-cp312-macosx_10_9_x86_64.whl.metadata (3.5 kB)\n",
      "Requirement already satisfied: Nikola[extras] in /usr/local/anaconda3/lib/python3.12/site-packages (8.2.2)\n",
      "Collecting Nikola[extras]\n",
      "  Downloading nikola-8.3.3-py3-none-any.whl.metadata (6.9 kB)\n",
      "Requirement already satisfied: doit>=0.33.1 in /usr/local/anaconda3/lib/python3.12/site-packages (from Nikola[extras]) (0.36.0)\n",
      "Requirement already satisfied: Pygments>=2.4.2 in /usr/local/anaconda3/lib/python3.12/site-packages (from Nikola[extras]) (2.15.1)\n",
      "Requirement already satisfied: Pillow>=9.1.0 in /usr/local/anaconda3/lib/python3.12/site-packages (from Nikola[extras]) (11.1.0)\n",
      "Requirement already satisfied: python-dateutil>=2.8.2 in /usr/local/anaconda3/lib/python3.12/site-packages (from Nikola[extras]) (2.9.0.post0)\n",
      "Collecting docutils>=0.19 (from Nikola[extras])\n",
      "  Using cached docutils-0.21.2-py3-none-any.whl.metadata (2.8 kB)\n",
      "Requirement already satisfied: mako>=1.0.9 in /usr/local/anaconda3/lib/python3.12/site-packages (from Nikola[extras]) (1.2.3)\n",
      "Requirement already satisfied: Markdown>=3.0 in /usr/local/anaconda3/lib/python3.12/site-packages (from Nikola[extras]) (3.4.1)\n",
      "Requirement already satisfied: unidecode>=0.4.16 in /usr/local/anaconda3/lib/python3.12/site-packages (from Nikola[extras]) (1.3.8)\n",
      "Requirement already satisfied: PyRSS2Gen>=1.1 in /usr/local/anaconda3/lib/python3.12/site-packages (from Nikola[extras]) (1.1)\n",
      "Requirement already satisfied: blinker>=1.3 in /usr/local/anaconda3/lib/python3.12/site-packages (from Nikola[extras]) (1.9.0)\n",
      "Requirement already satisfied: setuptools>=60.0.5 in /usr/local/anaconda3/lib/python3.12/site-packages (from Nikola[extras]) (75.8.0)\n",
      "Requirement already satisfied: natsort>=5.1.0 in /usr/local/anaconda3/lib/python3.12/site-packages (from Nikola[extras]) (7.1.1)\n",
      "Requirement already satisfied: requests>=2.31.0 in /usr/local/anaconda3/lib/python3.12/site-packages (from Nikola[extras]) (2.32.3)\n",
      "Requirement already satisfied: piexif>=1.0.3 in /usr/local/anaconda3/lib/python3.12/site-packages (from Nikola[extras]) (1.1.3)\n",
      "Requirement already satisfied: Babel>=2.12.0 in /usr/local/anaconda3/lib/python3.12/site-packages (from Nikola[extras]) (2.16.0)\n",
      "Requirement already satisfied: Jinja2>=3.1.0 in /usr/local/anaconda3/lib/python3.12/site-packages (from Nikola[extras]) (3.1.5)\n",
      "Requirement already satisfied: hsluv>=5.0.0 in /usr/local/anaconda3/lib/python3.12/site-packages (from Nikola[extras]) (5.0.4)\n",
      "Collecting pyphen>=0.9.1 (from Nikola[extras])\n",
      "  Downloading pyphen-0.17.2-py3-none-any.whl.metadata (3.2 kB)\n",
      "Collecting micawber>=0.3.0 (from Nikola[extras])\n",
      "  Downloading micawber-0.5.6.tar.gz (19 kB)\n",
      "  Preparing metadata (setup.py) ... \u001b[?25ldone\n",
      "\u001b[?25hCollecting pygal>=2.0.11 (from Nikola[extras])\n",
      "  Downloading pygal-3.0.5-py3-none-any.whl.metadata (3.5 kB)\n",
      "Collecting typogrify>=2.0.4 (from Nikola[extras])\n",
      "  Downloading typogrify-2.1.0-py3-none-any.whl.metadata (1.3 kB)\n",
      "Collecting phpserialize>=1.3 (from Nikola[extras])\n",
      "  Downloading phpserialize-1.3.tar.gz (7.5 kB)\n",
      "  Preparing metadata (setup.py) ... \u001b[?25ldone\n",
      "\u001b[?25hRequirement already satisfied: notebook>=6.0.0 in /usr/local/anaconda3/lib/python3.12/site-packages (from Nikola[extras]) (7.3.2)\n",
      "Requirement already satisfied: ipykernel>=6.21.2 in /usr/local/anaconda3/lib/python3.12/site-packages (from Nikola[extras]) (6.29.5)\n",
      "Collecting ghp-import>=1.0.0 (from Nikola[extras])\n",
      "  Using cached ghp_import-2.1.0-py3-none-any.whl.metadata (7.2 kB)\n",
      "Requirement already satisfied: aiohttp>=3.8.6 in /usr/local/anaconda3/lib/python3.12/site-packages (from Nikola[extras]) (3.11.10)\n",
      "Requirement already satisfied: watchdog>=2.3.0 in /usr/local/anaconda3/lib/python3.12/site-packages (from Nikola[extras]) (4.0.2)\n",
      "Requirement already satisfied: ruamel.yaml>=0.15.98 in /usr/local/anaconda3/lib/python3.12/site-packages (from Nikola[extras]) (0.18.6)\n",
      "Requirement already satisfied: toml>=0.9.2 in /usr/local/anaconda3/lib/python3.12/site-packages (from Nikola[extras]) (0.10.2)\n",
      "Collecting html5lib>=1.0.1 (from Nikola[extras])\n",
      "  Using cached html5lib-1.1-py2.py3-none-any.whl.metadata (16 kB)\n",
      "Requirement already satisfied: aiohappyeyeballs>=2.3.0 in /usr/local/anaconda3/lib/python3.12/site-packages (from aiohttp>=3.8.6->Nikola[extras]) (2.4.4)\n",
      "Requirement already satisfied: aiosignal>=1.1.2 in /usr/local/anaconda3/lib/python3.12/site-packages (from aiohttp>=3.8.6->Nikola[extras]) (1.2.0)\n",
      "Requirement already satisfied: attrs>=17.3.0 in /usr/local/anaconda3/lib/python3.12/site-packages (from aiohttp>=3.8.6->Nikola[extras]) (24.3.0)\n",
      "Requirement already satisfied: frozenlist>=1.1.1 in /usr/local/anaconda3/lib/python3.12/site-packages (from aiohttp>=3.8.6->Nikola[extras]) (1.5.0)\n",
      "Requirement already satisfied: multidict<7.0,>=4.5 in /usr/local/anaconda3/lib/python3.12/site-packages (from aiohttp>=3.8.6->Nikola[extras]) (6.1.0)\n",
      "Requirement already satisfied: propcache>=0.2.0 in /usr/local/anaconda3/lib/python3.12/site-packages (from aiohttp>=3.8.6->Nikola[extras]) (0.2.0)\n",
      "Requirement already satisfied: yarl<2.0,>=1.17.0 in /usr/local/anaconda3/lib/python3.12/site-packages (from aiohttp>=3.8.6->Nikola[extras]) (1.18.0)\n",
      "Requirement already satisfied: cloudpickle in /usr/local/anaconda3/lib/python3.12/site-packages (from doit>=0.33.1->Nikola[extras]) (3.0.0)\n",
      "Requirement already satisfied: importlib-metadata>=4.4 in /usr/local/anaconda3/lib/python3.12/site-packages (from doit>=0.33.1->Nikola[extras]) (8.5.0)\n",
      "Requirement already satisfied: six>=1.9 in /usr/local/anaconda3/lib/python3.12/site-packages (from html5lib>=1.0.1->Nikola[extras]) (1.16.0)\n",
      "Requirement already satisfied: webencodings in /usr/local/anaconda3/lib/python3.12/site-packages (from html5lib>=1.0.1->Nikola[extras]) (0.5.1)\n",
      "Requirement already satisfied: appnope in /usr/local/anaconda3/lib/python3.12/site-packages (from ipykernel>=6.21.2->Nikola[extras]) (0.1.3)\n",
      "Requirement already satisfied: comm>=0.1.1 in /usr/local/anaconda3/lib/python3.12/site-packages (from ipykernel>=6.21.2->Nikola[extras]) (0.2.1)\n",
      "Requirement already satisfied: debugpy>=1.6.5 in /usr/local/anaconda3/lib/python3.12/site-packages (from ipykernel>=6.21.2->Nikola[extras]) (1.8.11)\n",
      "Requirement already satisfied: ipython>=7.23.1 in /usr/local/anaconda3/lib/python3.12/site-packages (from ipykernel>=6.21.2->Nikola[extras]) (8.30.0)\n",
      "Requirement already satisfied: jupyter-client>=6.1.12 in /usr/local/anaconda3/lib/python3.12/site-packages (from ipykernel>=6.21.2->Nikola[extras]) (8.6.3)\n",
      "Requirement already satisfied: jupyter-core!=5.0.*,>=4.12 in /usr/local/anaconda3/lib/python3.12/site-packages (from ipykernel>=6.21.2->Nikola[extras]) (5.7.2)\n",
      "Requirement already satisfied: matplotlib-inline>=0.1 in /usr/local/anaconda3/lib/python3.12/site-packages (from ipykernel>=6.21.2->Nikola[extras]) (0.1.6)\n",
      "Requirement already satisfied: nest-asyncio in /usr/local/anaconda3/lib/python3.12/site-packages (from ipykernel>=6.21.2->Nikola[extras]) (1.6.0)\n",
      "Requirement already satisfied: packaging in /usr/local/anaconda3/lib/python3.12/site-packages (from ipykernel>=6.21.2->Nikola[extras]) (24.2)\n",
      "Requirement already satisfied: psutil in /usr/local/anaconda3/lib/python3.12/site-packages (from ipykernel>=6.21.2->Nikola[extras]) (5.9.0)\n",
      "Requirement already satisfied: pyzmq>=24 in /usr/local/anaconda3/lib/python3.12/site-packages (from ipykernel>=6.21.2->Nikola[extras]) (26.2.0)\n",
      "Requirement already satisfied: tornado>=6.1 in /usr/local/anaconda3/lib/python3.12/site-packages (from ipykernel>=6.21.2->Nikola[extras]) (6.4.2)\n",
      "Requirement already satisfied: traitlets>=5.4.0 in /usr/local/anaconda3/lib/python3.12/site-packages (from ipykernel>=6.21.2->Nikola[extras]) (5.14.3)\n",
      "Requirement already satisfied: MarkupSafe>=2.0 in /usr/local/anaconda3/lib/python3.12/site-packages (from Jinja2>=3.1.0->Nikola[extras]) (3.0.2)\n",
      "Requirement already satisfied: jupyter-server<3,>=2.4.0 in /usr/local/anaconda3/lib/python3.12/site-packages (from notebook>=6.0.0->Nikola[extras]) (2.14.1)\n",
      "Requirement already satisfied: jupyterlab-server<3,>=2.27.1 in /usr/local/anaconda3/lib/python3.12/site-packages (from notebook>=6.0.0->Nikola[extras]) (2.27.3)\n",
      "Requirement already satisfied: jupyterlab<4.4,>=4.3.4 in /usr/local/anaconda3/lib/python3.12/site-packages (from notebook>=6.0.0->Nikola[extras]) (4.3.4)\n",
      "Requirement already satisfied: notebook-shim<0.3,>=0.2 in /usr/local/anaconda3/lib/python3.12/site-packages (from notebook>=6.0.0->Nikola[extras]) (0.2.3)\n",
      "Requirement already satisfied: charset-normalizer<4,>=2 in /usr/local/anaconda3/lib/python3.12/site-packages (from requests>=2.31.0->Nikola[extras]) (3.3.2)\n",
      "Requirement already satisfied: idna<4,>=2.5 in /usr/local/anaconda3/lib/python3.12/site-packages (from requests>=2.31.0->Nikola[extras]) (3.7)\n",
      "Requirement already satisfied: urllib3<3,>=1.21.1 in /usr/local/anaconda3/lib/python3.12/site-packages (from requests>=2.31.0->Nikola[extras]) (2.3.0)\n",
      "Requirement already satisfied: certifi>=2017.4.17 in /usr/local/anaconda3/lib/python3.12/site-packages (from requests>=2.31.0->Nikola[extras]) (2025.4.26)\n",
      "Requirement already satisfied: ruamel.yaml.clib>=0.2.7 in /usr/local/anaconda3/lib/python3.12/site-packages (from ruamel.yaml>=0.15.98->Nikola[extras]) (0.2.8)\n",
      "Collecting smartypants>=1.8.3 (from typogrify>=2.0.4->Nikola[extras])\n",
      "  Downloading smartypants-2.0.1-py2.py3-none-any.whl.metadata (1.9 kB)\n",
      "Requirement already satisfied: zipp>=3.20 in /usr/local/anaconda3/lib/python3.12/site-packages (from importlib-metadata>=4.4->doit>=0.33.1->Nikola[extras]) (3.21.0)\n",
      "Requirement already satisfied: decorator in /usr/local/anaconda3/lib/python3.12/site-packages (from ipython>=7.23.1->ipykernel>=6.21.2->Nikola[extras]) (5.1.1)\n",
      "Requirement already satisfied: jedi>=0.16 in /usr/local/anaconda3/lib/python3.12/site-packages (from ipython>=7.23.1->ipykernel>=6.21.2->Nikola[extras]) (0.19.2)\n",
      "Requirement already satisfied: prompt-toolkit<3.1.0,>=3.0.41 in /usr/local/anaconda3/lib/python3.12/site-packages (from ipython>=7.23.1->ipykernel>=6.21.2->Nikola[extras]) (3.0.43)\n",
      "Requirement already satisfied: stack-data in /usr/local/anaconda3/lib/python3.12/site-packages (from ipython>=7.23.1->ipykernel>=6.21.2->Nikola[extras]) (0.2.0)\n",
      "Requirement already satisfied: pexpect>4.3 in /usr/local/anaconda3/lib/python3.12/site-packages (from ipython>=7.23.1->ipykernel>=6.21.2->Nikola[extras]) (4.8.0)\n",
      "Requirement already satisfied: platformdirs>=2.5 in /usr/local/anaconda3/lib/python3.12/site-packages (from jupyter-core!=5.0.*,>=4.12->ipykernel>=6.21.2->Nikola[extras]) (3.10.0)\n",
      "Requirement already satisfied: anyio>=3.1.0 in /usr/local/anaconda3/lib/python3.12/site-packages (from jupyter-server<3,>=2.4.0->notebook>=6.0.0->Nikola[extras]) (4.6.2)\n",
      "Requirement already satisfied: argon2-cffi>=21.1 in /usr/local/anaconda3/lib/python3.12/site-packages (from jupyter-server<3,>=2.4.0->notebook>=6.0.0->Nikola[extras]) (21.3.0)\n",
      "Requirement already satisfied: jupyter-events>=0.9.0 in /usr/local/anaconda3/lib/python3.12/site-packages (from jupyter-server<3,>=2.4.0->notebook>=6.0.0->Nikola[extras]) (0.10.0)\n",
      "Requirement already satisfied: jupyter-server-terminals>=0.4.4 in /usr/local/anaconda3/lib/python3.12/site-packages (from jupyter-server<3,>=2.4.0->notebook>=6.0.0->Nikola[extras]) (0.4.4)\n",
      "Requirement already satisfied: nbconvert>=6.4.4 in /usr/local/anaconda3/lib/python3.12/site-packages (from jupyter-server<3,>=2.4.0->notebook>=6.0.0->Nikola[extras]) (7.16.4)\n",
      "Requirement already satisfied: nbformat>=5.3.0 in /usr/local/anaconda3/lib/python3.12/site-packages (from jupyter-server<3,>=2.4.0->notebook>=6.0.0->Nikola[extras]) (5.10.4)\n",
      "Requirement already satisfied: overrides>=5.0 in /usr/local/anaconda3/lib/python3.12/site-packages (from jupyter-server<3,>=2.4.0->notebook>=6.0.0->Nikola[extras]) (7.4.0)\n",
      "Requirement already satisfied: prometheus-client>=0.9 in /usr/local/anaconda3/lib/python3.12/site-packages (from jupyter-server<3,>=2.4.0->notebook>=6.0.0->Nikola[extras]) (0.21.0)\n",
      "Requirement already satisfied: send2trash>=1.8.2 in /usr/local/anaconda3/lib/python3.12/site-packages (from jupyter-server<3,>=2.4.0->notebook>=6.0.0->Nikola[extras]) (1.8.2)\n",
      "Requirement already satisfied: terminado>=0.8.3 in /usr/local/anaconda3/lib/python3.12/site-packages (from jupyter-server<3,>=2.4.0->notebook>=6.0.0->Nikola[extras]) (0.17.1)\n",
      "Requirement already satisfied: websocket-client>=1.7 in /usr/local/anaconda3/lib/python3.12/site-packages (from jupyter-server<3,>=2.4.0->notebook>=6.0.0->Nikola[extras]) (1.8.0)\n",
      "Requirement already satisfied: async-lru>=1.0.0 in /usr/local/anaconda3/lib/python3.12/site-packages (from jupyterlab<4.4,>=4.3.4->notebook>=6.0.0->Nikola[extras]) (2.0.4)\n",
      "Requirement already satisfied: httpx>=0.25.0 in /usr/local/anaconda3/lib/python3.12/site-packages (from jupyterlab<4.4,>=4.3.4->notebook>=6.0.0->Nikola[extras]) (0.27.0)\n",
      "Requirement already satisfied: jupyter-lsp>=2.0.0 in /usr/local/anaconda3/lib/python3.12/site-packages (from jupyterlab<4.4,>=4.3.4->notebook>=6.0.0->Nikola[extras]) (2.2.0)\n",
      "Requirement already satisfied: json5>=0.9.0 in /usr/local/anaconda3/lib/python3.12/site-packages (from jupyterlab-server<3,>=2.27.1->notebook>=6.0.0->Nikola[extras]) (0.9.25)\n",
      "Requirement already satisfied: jsonschema>=4.18.0 in /usr/local/anaconda3/lib/python3.12/site-packages (from jupyterlab-server<3,>=2.27.1->notebook>=6.0.0->Nikola[extras]) (4.23.0)\n",
      "Requirement already satisfied: sniffio>=1.1 in /usr/local/anaconda3/lib/python3.12/site-packages (from anyio>=3.1.0->jupyter-server<3,>=2.4.0->notebook>=6.0.0->Nikola[extras]) (1.3.0)\n",
      "Requirement already satisfied: argon2-cffi-bindings in /usr/local/anaconda3/lib/python3.12/site-packages (from argon2-cffi>=21.1->jupyter-server<3,>=2.4.0->notebook>=6.0.0->Nikola[extras]) (21.2.0)\n",
      "Requirement already satisfied: httpcore==1.* in /usr/local/anaconda3/lib/python3.12/site-packages (from httpx>=0.25.0->jupyterlab<4.4,>=4.3.4->notebook>=6.0.0->Nikola[extras]) (1.0.2)\n",
      "Requirement already satisfied: h11<0.15,>=0.13 in /usr/local/anaconda3/lib/python3.12/site-packages (from httpcore==1.*->httpx>=0.25.0->jupyterlab<4.4,>=4.3.4->notebook>=6.0.0->Nikola[extras]) (0.14.0)\n",
      "Requirement already satisfied: parso<0.9.0,>=0.8.4 in /usr/local/anaconda3/lib/python3.12/site-packages (from jedi>=0.16->ipython>=7.23.1->ipykernel>=6.21.2->Nikola[extras]) (0.8.4)\n",
      "Requirement already satisfied: jsonschema-specifications>=2023.03.6 in /usr/local/anaconda3/lib/python3.12/site-packages (from jsonschema>=4.18.0->jupyterlab-server<3,>=2.27.1->notebook>=6.0.0->Nikola[extras]) (2023.7.1)\n",
      "Requirement already satisfied: referencing>=0.28.4 in /usr/local/anaconda3/lib/python3.12/site-packages (from jsonschema>=4.18.0->jupyterlab-server<3,>=2.27.1->notebook>=6.0.0->Nikola[extras]) (0.30.2)\n",
      "Requirement already satisfied: rpds-py>=0.7.1 in /usr/local/anaconda3/lib/python3.12/site-packages (from jsonschema>=4.18.0->jupyterlab-server<3,>=2.27.1->notebook>=6.0.0->Nikola[extras]) (0.22.3)\n",
      "Requirement already satisfied: python-json-logger>=2.0.4 in /usr/local/anaconda3/lib/python3.12/site-packages (from jupyter-events>=0.9.0->jupyter-server<3,>=2.4.0->notebook>=6.0.0->Nikola[extras]) (3.2.1)\n",
      "Requirement already satisfied: pyyaml>=5.3 in /usr/local/anaconda3/lib/python3.12/site-packages (from jupyter-events>=0.9.0->jupyter-server<3,>=2.4.0->notebook>=6.0.0->Nikola[extras]) (6.0.2)\n",
      "Requirement already satisfied: rfc3339-validator in /usr/local/anaconda3/lib/python3.12/site-packages (from jupyter-events>=0.9.0->jupyter-server<3,>=2.4.0->notebook>=6.0.0->Nikola[extras]) (0.1.4)\n",
      "Requirement already satisfied: rfc3986-validator>=0.1.1 in /usr/local/anaconda3/lib/python3.12/site-packages (from jupyter-events>=0.9.0->jupyter-server<3,>=2.4.0->notebook>=6.0.0->Nikola[extras]) (0.1.1)\n",
      "Requirement already satisfied: beautifulsoup4 in /usr/local/anaconda3/lib/python3.12/site-packages (from nbconvert>=6.4.4->jupyter-server<3,>=2.4.0->notebook>=6.0.0->Nikola[extras]) (4.12.3)\n",
      "Requirement already satisfied: bleach!=5.0.0 in /usr/local/anaconda3/lib/python3.12/site-packages (from nbconvert>=6.4.4->jupyter-server<3,>=2.4.0->notebook>=6.0.0->Nikola[extras]) (6.2.0)\n",
      "Requirement already satisfied: defusedxml in /usr/local/anaconda3/lib/python3.12/site-packages (from nbconvert>=6.4.4->jupyter-server<3,>=2.4.0->notebook>=6.0.0->Nikola[extras]) (0.7.1)\n",
      "Requirement already satisfied: jupyterlab-pygments in /usr/local/anaconda3/lib/python3.12/site-packages (from nbconvert>=6.4.4->jupyter-server<3,>=2.4.0->notebook>=6.0.0->Nikola[extras]) (0.1.2)\n",
      "Requirement already satisfied: mistune<4,>=2.0.3 in /usr/local/anaconda3/lib/python3.12/site-packages (from nbconvert>=6.4.4->jupyter-server<3,>=2.4.0->notebook>=6.0.0->Nikola[extras]) (2.0.4)\n",
      "Requirement already satisfied: nbclient>=0.5.0 in /usr/local/anaconda3/lib/python3.12/site-packages (from nbconvert>=6.4.4->jupyter-server<3,>=2.4.0->notebook>=6.0.0->Nikola[extras]) (0.8.0)\n",
      "Requirement already satisfied: pandocfilters>=1.4.1 in /usr/local/anaconda3/lib/python3.12/site-packages (from nbconvert>=6.4.4->jupyter-server<3,>=2.4.0->notebook>=6.0.0->Nikola[extras]) (1.5.0)\n",
      "Requirement already satisfied: tinycss2 in /usr/local/anaconda3/lib/python3.12/site-packages (from nbconvert>=6.4.4->jupyter-server<3,>=2.4.0->notebook>=6.0.0->Nikola[extras]) (1.4.0)\n",
      "Requirement already satisfied: fastjsonschema>=2.15 in /usr/local/anaconda3/lib/python3.12/site-packages (from nbformat>=5.3.0->jupyter-server<3,>=2.4.0->notebook>=6.0.0->Nikola[extras]) (2.20.0)\n",
      "Requirement already satisfied: ptyprocess>=0.5 in /usr/local/anaconda3/lib/python3.12/site-packages (from pexpect>4.3->ipython>=7.23.1->ipykernel>=6.21.2->Nikola[extras]) (0.7.0)\n",
      "Requirement already satisfied: wcwidth in /usr/local/anaconda3/lib/python3.12/site-packages (from prompt-toolkit<3.1.0,>=3.0.41->ipython>=7.23.1->ipykernel>=6.21.2->Nikola[extras]) (0.2.5)\n",
      "Requirement already satisfied: executing in /usr/local/anaconda3/lib/python3.12/site-packages (from stack-data->ipython>=7.23.1->ipykernel>=6.21.2->Nikola[extras]) (0.8.3)\n",
      "Requirement already satisfied: asttokens in /usr/local/anaconda3/lib/python3.12/site-packages (from stack-data->ipython>=7.23.1->ipykernel>=6.21.2->Nikola[extras]) (2.0.5)\n",
      "Requirement already satisfied: pure-eval in /usr/local/anaconda3/lib/python3.12/site-packages (from stack-data->ipython>=7.23.1->ipykernel>=6.21.2->Nikola[extras]) (0.2.2)\n",
      "Requirement already satisfied: fqdn in /usr/local/anaconda3/lib/python3.12/site-packages (from jsonschema[format-nongpl]>=4.18.0->jupyter-events>=0.9.0->jupyter-server<3,>=2.4.0->notebook>=6.0.0->Nikola[extras]) (1.5.1)\n",
      "Requirement already satisfied: isoduration in /usr/local/anaconda3/lib/python3.12/site-packages (from jsonschema[format-nongpl]>=4.18.0->jupyter-events>=0.9.0->jupyter-server<3,>=2.4.0->notebook>=6.0.0->Nikola[extras]) (20.11.0)\n",
      "Requirement already satisfied: jsonpointer>1.13 in /usr/local/anaconda3/lib/python3.12/site-packages (from jsonschema[format-nongpl]>=4.18.0->jupyter-events>=0.9.0->jupyter-server<3,>=2.4.0->notebook>=6.0.0->Nikola[extras]) (2.1)\n",
      "Requirement already satisfied: uri-template in /usr/local/anaconda3/lib/python3.12/site-packages (from jsonschema[format-nongpl]>=4.18.0->jupyter-events>=0.9.0->jupyter-server<3,>=2.4.0->notebook>=6.0.0->Nikola[extras]) (1.3.0)\n",
      "Requirement already satisfied: webcolors>=24.6.0 in /usr/local/anaconda3/lib/python3.12/site-packages (from jsonschema[format-nongpl]>=4.18.0->jupyter-events>=0.9.0->jupyter-server<3,>=2.4.0->notebook>=6.0.0->Nikola[extras]) (24.11.1)\n",
      "Requirement already satisfied: cffi>=1.0.1 in /usr/local/anaconda3/lib/python3.12/site-packages (from argon2-cffi-bindings->argon2-cffi>=21.1->jupyter-server<3,>=2.4.0->notebook>=6.0.0->Nikola[extras]) (1.17.1)\n",
      "Requirement already satisfied: soupsieve>1.2 in /usr/local/anaconda3/lib/python3.12/site-packages (from beautifulsoup4->nbconvert>=6.4.4->jupyter-server<3,>=2.4.0->notebook>=6.0.0->Nikola[extras]) (2.5)\n",
      "Requirement already satisfied: pycparser in /usr/local/anaconda3/lib/python3.12/site-packages (from cffi>=1.0.1->argon2-cffi-bindings->argon2-cffi>=21.1->jupyter-server<3,>=2.4.0->notebook>=6.0.0->Nikola[extras]) (2.21)\n",
      "Requirement already satisfied: arrow>=0.15.0 in /usr/local/anaconda3/lib/python3.12/site-packages (from isoduration->jsonschema[format-nongpl]>=4.18.0->jupyter-events>=0.9.0->jupyter-server<3,>=2.4.0->notebook>=6.0.0->Nikola[extras]) (1.3.0)\n",
      "Downloading lxml-5.4.0-cp312-cp312-macosx_10_9_x86_64.whl (4.4 MB)\n",
      "\u001b[2K   \u001b[90m━━━━━━━━━━━━━━━━━━━━━━━━━━━━━━━━━━━━━━━━\u001b[0m \u001b[32m4.4/4.4 MB\u001b[0m \u001b[31m3.8 MB/s\u001b[0m eta \u001b[36m0:00:00\u001b[0ma \u001b[36m0:00:01\u001b[0m\n",
      "\u001b[?25hUsing cached docutils-0.21.2-py3-none-any.whl (587 kB)\n",
      "Using cached ghp_import-2.1.0-py3-none-any.whl (11 kB)\n",
      "Using cached html5lib-1.1-py2.py3-none-any.whl (112 kB)\n",
      "Downloading pygal-3.0.5-py3-none-any.whl (129 kB)\n",
      "Downloading pyphen-0.17.2-py3-none-any.whl (2.1 MB)\n",
      "\u001b[2K   \u001b[90m━━━━━━━━━━━━━━━━━━━━━━━━━━━━━━━━━━━━━━━━\u001b[0m \u001b[32m2.1/2.1 MB\u001b[0m \u001b[31m4.8 MB/s\u001b[0m eta \u001b[36m0:00:00\u001b[0ma \u001b[36m0:00:01\u001b[0m\n",
      "\u001b[?25hDownloading typogrify-2.1.0-py3-none-any.whl (12 kB)\n",
      "Downloading nikola-8.3.3-py3-none-any.whl (5.0 MB)\n",
      "\u001b[2K   \u001b[90m━━━━━━━━━━━━━━━━━━━━━━━━━━━━━━━━━━━━━━━━\u001b[0m \u001b[32m5.0/5.0 MB\u001b[0m \u001b[31m8.4 MB/s\u001b[0m eta \u001b[36m0:00:00\u001b[0ma \u001b[36m0:00:01\u001b[0mm\n",
      "\u001b[?25hDownloading smartypants-2.0.1-py2.py3-none-any.whl (9.9 kB)\n",
      "Building wheels for collected packages: micawber, phpserialize\n",
      "  Building wheel for micawber (setup.py) ... \u001b[?25ldone\n",
      "\u001b[?25h  Created wheel for micawber: filename=micawber-0.5.6-py3-none-any.whl size=22495 sha256=028439dd3bbf6eddbd065a81892caca1aed702cecbf2660da20fb92bcdaa8a7e\n",
      "  Stored in directory: /Users/laurentperrinet/Library/Caches/pip/wheels/35/52/be/c1fca89b7a20716ba15256d8407fc7cd9cfdb278eefb642ef7\n",
      "  Building wheel for phpserialize (setup.py) ... \u001b[?25ldone\n",
      "\u001b[?25h  Created wheel for phpserialize: filename=phpserialize-1.3-py3-none-any.whl size=9505 sha256=d969e1381474af4a5edf85de159105b244730dde1d67b4ef4c1d65eea296bc69\n",
      "  Stored in directory: /Users/laurentperrinet/Library/Caches/pip/wheels/65/cc/0f/7dd6fc6d90172103219784e7120e124e9845a33f21ee5b52b2\n",
      "Successfully built micawber phpserialize\n",
      "Installing collected packages: smartypants, phpserialize, micawber, typogrify, pyphen, lxml, html5lib, docutils, pygal, ghp-import, Nikola\n",
      "  Attempting uninstall: lxml\n",
      "    Found existing installation: lxml 5.3.0\n",
      "    Uninstalling lxml-5.3.0:\n",
      "      Successfully uninstalled lxml-5.3.0\n",
      "  Attempting uninstall: docutils\n",
      "    Found existing installation: docutils 0.18.1\n",
      "    Uninstalling docutils-0.18.1:\n",
      "      Successfully uninstalled docutils-0.18.1\n",
      "  Attempting uninstall: Nikola\n",
      "    Found existing installation: Nikola 8.2.2\n",
      "    Uninstalling Nikola-8.2.2:\n",
      "      Successfully uninstalled Nikola-8.2.2\n",
      "Successfully installed Nikola-8.3.3 docutils-0.21.2 ghp-import-2.1.0 html5lib-1.1 lxml-5.4.0 micawber-0.5.6 phpserialize-1.3 pygal-3.0.5 pyphen-0.17.2 smartypants-2.0.1 typogrify-2.1.0\n",
      "Note: you may need to restart the kernel to use updated packages.\n"
     ]
    }
   ],
   "source": [
    "%pip install -U lxml \"Nikola[extras]\""
   ]
  },
  {
   "cell_type": "raw",
   "metadata": {
    "ExecuteTime": {
     "end_time": "2018-09-07T10:24:48.097536Z",
     "start_time": "2018-09-07T10:24:43.118411Z"
    }
   },
   "source": [
    "#!python3 -m pip uninstall -y rst2html5\n",
    "!python3 -m pip install -U --force rst2html5"
   ]
  },
  {
   "cell_type": "raw",
   "metadata": {
    "ExecuteTime": {
     "end_time": "2018-09-07T10:24:57.383520Z",
     "start_time": "2018-09-07T10:24:54.879696Z"
    }
   },
   "source": [
    "#!pip uninstall -y html5lib\n",
    "!python3 -m pip install -U --force html5lib"
   ]
  },
  {
   "cell_type": "code",
   "execution_count": null,
   "metadata": {
    "ExecuteTime": {
     "end_time": "2018-09-07T10:24:57.383520Z",
     "start_time": "2018-09-07T10:24:54.879696Z"
    }
   },
   "outputs": [],
   "source": [
    "#!pip uninstall -y html5lib"
   ]
  },
  {
   "cell_type": "code",
   "execution_count": null,
   "metadata": {},
   "outputs": [],
   "source": [
    "%conda uninstall nikola"
   ]
  },
  {
   "cell_type": "code",
   "execution_count": null,
   "metadata": {},
   "outputs": [],
   "source": [
    "%conda install imp nikola -y"
   ]
  },
  {
   "cell_type": "code",
   "execution_count": 1,
   "metadata": {
    "ExecuteTime": {
     "end_time": "2018-09-07T10:25:37.163105Z",
     "start_time": "2018-09-07T10:25:34.804602Z"
    }
   },
   "outputs": [
    {
     "name": "stdout",
     "output_type": "stream",
     "text": [
      "Nikola v8.3.1\n"
     ]
    }
   ],
   "source": [
    "!nikola version"
   ]
  },
  {
   "cell_type": "markdown",
   "metadata": {},
   "source": [
    "# Adding a new post"
   ]
  },
  {
   "cell_type": "code",
   "execution_count": 11,
   "metadata": {
    "ExecuteTime": {
     "end_time": "2018-11-05T14:34:58.343345Z",
     "start_time": "2018-11-05T14:34:58.224501Z"
    }
   },
   "outputs": [
    {
     "name": "stdout",
     "output_type": "stream",
     "text": [
      "Lun  9 jui 2025 09:16:08 CEST\n"
     ]
    }
   ],
   "source": [
    "!date\n",
    "import datetime"
   ]
  },
  {
   "cell_type": "code",
   "execution_count": 12,
   "metadata": {
    "ExecuteTime": {
     "end_time": "2018-11-05T14:34:58.697822Z",
     "start_time": "2018-11-05T14:34:58.694703Z"
    }
   },
   "outputs": [
    {
     "name": "stdout",
     "output_type": "stream",
     "text": [
      "2025-06-09 09:16:08.639638\n"
     ]
    }
   ],
   "source": [
    "print(datetime.datetime.now())"
   ]
  },
  {
   "cell_type": "code",
   "execution_count": 13,
   "metadata": {
    "ExecuteTime": {
     "end_time": "2018-11-05T14:34:59.176807Z",
     "start_time": "2018-11-05T14:34:59.173942Z"
    }
   },
   "outputs": [
    {
     "name": "stdout",
     "output_type": "stream",
     "text": [
      "2025-06-09\n"
     ]
    }
   ],
   "source": [
    "now = datetime.datetime.now().date()\n",
    "date = now.isoformat()#[2:]\n",
    "print(date)"
   ]
  },
  {
   "cell_type": "raw",
   "metadata": {},
   "source": [
    "date = '2019-10-07'"
   ]
  },
  {
   "cell_type": "code",
   "execution_count": 14,
   "metadata": {
    "ExecuteTime": {
     "end_time": "2018-11-05T14:34:58.343345Z",
     "start_time": "2018-11-05T14:34:58.224501Z"
    }
   },
   "outputs": [
    {
     "name": "stdout",
     "output_type": "stream",
     "text": [
      "2025-06-09\n"
     ]
    }
   ],
   "source": [
    "import datetime\n",
    "date = datetime.datetime.now().date().isoformat()\n",
    "print(date)"
   ]
  },
  {
   "cell_type": "code",
   "execution_count": 15,
   "metadata": {},
   "outputs": [
    {
     "name": "stdout",
     "output_type": "stream",
     "text": [
      "\u001b[0;31mDocstring:\u001b[0m Return string in ISO 8601 format, YYYY-MM-DD.\n",
      "\u001b[0;31mType:\u001b[0m      builtin_function_or_method"
     ]
    }
   ],
   "source": [
    "now.isoformat?"
   ]
  },
  {
   "cell_type": "code",
   "execution_count": 16,
   "metadata": {
    "ExecuteTime": {
     "end_time": "2018-11-05T14:35:00.048738Z",
     "start_time": "2018-11-05T14:34:59.677518Z"
    }
   },
   "outputs": [],
   "source": [
    "from nikola import utils"
   ]
  },
  {
   "cell_type": "code",
   "execution_count": 17,
   "metadata": {
    "ExecuteTime": {
     "end_time": "2018-11-05T14:40:53.234519Z",
     "start_time": "2018-11-05T14:40:53.230930Z"
    }
   },
   "outputs": [
    {
     "data": {
      "text/plain": [
       "'python, blog, psychophysics, behavior, motionclouds, motion, saccades, vision, retina'"
      ]
     },
     "execution_count": 17,
     "metadata": {},
     "output_type": "execute_result"
    }
   ],
   "source": [
    "tags_list = [\n",
    "    'python', \n",
    "#    'ipython', \n",
    "#    'jupyter', \n",
    "#    'nikola', \n",
    "    'blog', \n",
    "#    'themes', \n",
    "#    'pupil',\n",
    "   'psychophysics',\n",
    "#    'outreach',   \n",
    "#     'grand-public',\n",
    "    # 'open-science',\n",
    "#    'space', \n",
    "    'behavior',\n",
    "#    'povray', \n",
    "#    'elasticite', \n",
    "#    'art', \n",
    "#    'trames', \n",
    "#    'nature', \n",
    "#    'math',\n",
    "#    'bicv', \n",
    "#    'SLIP', \n",
    "#    'LogGabor', \n",
    "#    'SHL_scripts', \n",
    "#    'sparse', \n",
    "#    'Matching Pursuit',\n",
    "#    'Motion Particles',\n",
    "#    'holoviews',\n",
    "#     'pytorch',\n",
    "#     'deep-learning',\n",
    "#     'machine-learning',\n",
    "#     'moviepy', \n",
    "    # 'numpy', \n",
    "#    'vispy', \n",
    "#    'neural',\n",
    "    'motionclouds',\n",
    "    'motion',\n",
    "#    'pynn',\n",
    "    'saccades',\n",
    "#    'Free Energy',\n",
    "#    'learning',\n",
    "    # 'pandas',\n",
    "#    'shell',\n",
    "#    'vim',\n",
    "#    'orientation',\n",
    "    'vision',\n",
    "    'retina',\n",
    "#    'v1',\n",
    "]\n",
    "formt = 'rest'\n",
    "formt = 'markdown'\n",
    "formt = 'ipynb'\n",
    "', '.join(tags_list)"
   ]
  },
  {
   "cell_type": "code",
   "execution_count": 18,
   "metadata": {
    "ExecuteTime": {
     "end_time": "2018-11-05T14:41:01.475071Z",
     "start_time": "2018-11-05T14:41:00.415148Z"
    }
   },
   "outputs": [
    {
     "name": "stdout",
     "output_type": "stream",
     "text": [
      "nikola new_post [options] [path]\n",
      "    create a new blog post or site page\n",
      "\n",
      "Options:\n",
      "    -p, --page\n",
      "        Create a page instead of a blog post. (see also: `nikola\n",
      "        new_page`)\n",
      "    -t ARG, --title=ARG\n",
      "        Title for the post.\n",
      "    -a ARG, --author=ARG\n",
      "        Author of the post.\n",
      "    --tags=ARG\n",
      "        Comma-separated tags for the post.\n",
      "    -1\n",
      "        Create the post with embedded metadata (single file format)\n",
      "    -2\n",
      "        Create the post with separate metadata (two file format)\n",
      "    -e\n",
      "        Open the post (and meta file, if any) in $EDITOR after\n",
      "        creation.\n",
      "    -f ARG, --format=ARG\n",
      "        Markup format for the post (use --available-formats for list)\n",
      "    -F, --available-formats\n",
      "        List all available input formats\n",
      "    -s\n",
      "        Schedule the post based on recurrence rule\n",
      "    -i ARG, --import=ARG\n",
      "        Import an existing file instead of creating a placeholder\n",
      "    -d, --date-path\n",
      "        Create post with date path (eg. year/month/day, see\n",
      "        NEW_POST_DATE_PATH_FORMAT in config)\n"
     ]
    }
   ],
   "source": [
    "!nikola new_post -h"
   ]
  },
  {
   "cell_type": "code",
   "execution_count": 19,
   "metadata": {
    "ExecuteTime": {
     "end_time": "2018-11-05T14:41:01.475071Z",
     "start_time": "2018-11-05T14:41:00.415148Z"
    }
   },
   "outputs": [
    {
     "name": "stdout",
     "output_type": "stream",
     "text": [
      "Available input formats:\n",
      "\n",
      " NAME        DESCRIPTION       EXTENSIONS\n",
      "\n",
      " html        HTML              .html, .htm\n",
      " ipynb       Jupyter Notebook  .ipynb\n",
      " markdown    Markdown          .md, .mdown, .markdown\n",
      "!php         PHP               .php\n",
      "~pandoc      Pandoc            (disabled: not in COMPILERS)\n",
      "~rest        reStructuredText  (disabled: not in COMPILERS)\n",
      "~rest_html5  rest_html5        (disabled: not in COMPILERS)\n",
      "\n",
      "    More compilers are available in the Plugins Index.\n",
      "\n",
      "    Compilers marked with ! and ~ require additional configuration:\n",
      "        ! not in the POSTS/PAGES tuples and any post scanners (unused)\n",
      "        ~ not in the COMPILERS dict (disabled)\n",
      "    Read more: https://getnikola.com/handbook.html#configuring-other-input-formats\n"
     ]
    }
   ],
   "source": [
    "!nikola new_post  --available-formats"
   ]
  },
  {
   "cell_type": "code",
   "execution_count": 20,
   "metadata": {
    "ExecuteTime": {
     "end_time": "2018-11-05T14:41:08.343633Z",
     "start_time": "2018-11-05T14:41:02.455292Z"
    }
   },
   "outputs": [
    {
     "name": "stdout",
     "output_type": "stream",
     "text": [
      "Creating New Post\n",
      "-----------------\n",
      "\n",
      "Title: 2025-06-09 Extending the high-phi illusion\n",
      "Scanning posts.....done!\n",
      "\u001b[1;33m[2025-06-09 09:16:40] WARNING: ipynb: No kernel specified, assuming \"python3\".\u001b[0m\n",
      "\u001b[1m[2025-06-09 09:16:40] INFO: new_post: Your post's metadata is at: posts/2025-06-09-extending-the-high-phi-illusion.meta\u001b[0m\n",
      "\u001b[1m[2025-06-09 09:16:40] INFO: new_post: Your post's text is at: posts/2025-06-09-extending-the-high-phi-illusion.ipynb\u001b[0m\n"
     ]
    }
   ],
   "source": [
    "tags = ', '.join(tags_list)\n",
    "title = date + ' ' + \"Extending the high-phi illusion\"\n",
    "#title = '2017-12-13 accessing the data from a pupil recording'\n",
    "!nikola new_post -f \"{formt}\" -2 -t \"{title}\" --tags=\"{tags}\""
   ]
  },
  {
   "cell_type": "code",
   "execution_count": 21,
   "metadata": {
    "ExecuteTime": {
     "end_time": "2018-11-08T10:17:49.012273Z",
     "start_time": "2018-11-08T10:17:49.005411Z"
    }
   },
   "outputs": [
    {
     "name": "stdout",
     "output_type": "stream",
     "text": [
      "posts/2025-06-09-extending-the-high-phi-illusion.ipynb\n"
     ]
    }
   ],
   "source": [
    "fname = utils.os.path.join('posts', utils.slugify(title) + '.' + formt)\n",
    "print(fname)"
   ]
  },
  {
   "cell_type": "code",
   "execution_count": 22,
   "metadata": {
    "ExecuteTime": {
     "end_time": "2018-11-05T14:41:18.822843Z",
     "start_time": "2018-11-05T14:41:18.813958Z"
    }
   },
   "outputs": [
    {
     "data": {
      "text/plain": [
       "'posts/2025-06-09-extending-the-high-phi-illusion.ipynb'"
      ]
     },
     "execution_count": 22,
     "metadata": {},
     "output_type": "execute_result"
    }
   ],
   "source": [
    "utils.shutil.copy('template.ipynb', fname)"
   ]
  },
  {
   "cell_type": "code",
   "execution_count": 23,
   "metadata": {},
   "outputs": [
    {
     "data": {
      "text/plain": [
       "'posts/2025-06-09-extending-the-high-phi-illusion.ipynb'"
      ]
     },
     "execution_count": 23,
     "metadata": {},
     "output_type": "execute_result"
    }
   ],
   "source": [
    "\n",
    "utils.shutil.copy('posts/2025-04-24-orienting-yourself-in-the-visual-flow.ipynb', fname)"
   ]
  },
  {
   "cell_type": "markdown",
   "metadata": {},
   "source": [
    "# Copying existing notebooks"
   ]
  },
  {
   "cell_type": "code",
   "execution_count": null,
   "metadata": {},
   "outputs": [],
   "source": [
    "utils.shutil.copy?"
   ]
  },
  {
   "attachments": {},
   "cell_type": "markdown",
   "metadata": {
    "tags": []
   },
   "source": [
    "## 2023\n"
   ]
  },
  {
   "cell_type": "code",
   "execution_count": null,
   "metadata": {
    "ExecuteTime": {
     "end_time": "2018-11-05T14:41:18.822843Z",
     "start_time": "2018-11-05T14:41:18.813958Z"
    }
   },
   "outputs": [],
   "source": [
    "utils.shutil.copy('/Users/laurentperrinet/quantic/timeline/2023-01-31_formes-et-perception/images/Retinotopie.ipynb', fname)\n"
   ]
  },
  {
   "cell_type": "markdown",
   "metadata": {
    "tags": []
   },
   "source": [
    "## 2022\n"
   ]
  },
  {
   "cell_type": "code",
   "execution_count": null,
   "metadata": {
    "ExecuteTime": {
     "end_time": "2018-11-05T14:41:18.822843Z",
     "start_time": "2018-11-05T14:41:18.813958Z"
    }
   },
   "outputs": [],
   "source": [
    "from nikola import utils"
   ]
  },
  {
   "cell_type": "code",
   "execution_count": null,
   "metadata": {},
   "outputs": [],
   "source": [
    "fname = 'posts/2022-06-08-transfert-de-voix.ipynb'"
   ]
  },
  {
   "cell_type": "code",
   "execution_count": null,
   "metadata": {
    "ExecuteTime": {
     "end_time": "2018-11-05T14:41:18.822843Z",
     "start_time": "2018-11-05T14:41:18.813958Z"
    }
   },
   "outputs": [],
   "source": [
    "utils.shutil.copy('/Users/laurentperrinet/quantic/RTC/2022-05-04_transfert-des-voix/2022-06-08_transfert-des-voix.ipynb', fname)"
   ]
  },
  {
   "cell_type": "code",
   "execution_count": null,
   "metadata": {},
   "outputs": [],
   "source": [
    "fname = 'posts/2022-02-11-cosyne-reviewer-feedback.ipynb'"
   ]
  },
  {
   "cell_type": "code",
   "execution_count": null,
   "metadata": {
    "ExecuteTime": {
     "end_time": "2018-11-05T14:41:18.822843Z",
     "start_time": "2018-11-05T14:41:18.813958Z"
    }
   },
   "outputs": [],
   "source": [
    "utils.shutil.copy('/Users/laurentperrinet/quantic/RTC/2022-02-11_COSYNE-scoresheet/2022-02-11_COSYNE-scoresheet.ipynb', fname)"
   ]
  },
  {
   "cell_type": "markdown",
   "metadata": {},
   "source": [
    "## 2021\n"
   ]
  },
  {
   "cell_type": "code",
   "execution_count": null,
   "metadata": {},
   "outputs": [],
   "source": [
    "fname = 'posts/2021-03-27-density-of-stars-on-the-surface-of-the-sky.ipynb'"
   ]
  },
  {
   "cell_type": "code",
   "execution_count": null,
   "metadata": {
    "ExecuteTime": {
     "end_time": "2018-11-05T14:41:18.822843Z",
     "start_time": "2018-11-05T14:41:18.813958Z"
    }
   },
   "outputs": [],
   "source": [
    "from nikola import utils\n",
    "utils.shutil.copy(fname, '/Users/laurentperrinet/quantic/EtienneRey/2019-06_StarField/')"
   ]
  },
  {
   "cell_type": "code",
   "execution_count": null,
   "metadata": {
    "ExecuteTime": {
     "end_time": "2018-11-05T14:41:18.822843Z",
     "start_time": "2018-11-05T14:41:18.813958Z"
    }
   },
   "outputs": [],
   "source": [
    "from nikola import utils\n",
    "utils.shutil.copy('/Users/laurentperrinet/Downloads/NetworkModel_Toolbox/RunAnalyse_Simulations.ipynb', fname)"
   ]
  },
  {
   "cell_type": "markdown",
   "metadata": {},
   "source": [
    "## 2020"
   ]
  },
  {
   "cell_type": "code",
   "execution_count": null,
   "metadata": {
    "ExecuteTime": {
     "end_time": "2018-11-05T14:41:18.822843Z",
     "start_time": "2018-11-05T14:41:18.813958Z"
    }
   },
   "outputs": [],
   "source": [
    "from nikola import utils\n",
    "utils.shutil.copy('/Users/laurentperrinet/quantic/Documents/downloads/PLayList-Etienne-2019/dev-Genius.ipynb', 'posts/2020-11-24-extracting-music-from-the-screenshots-of-a-spotify-playlist.ipynb')"
   ]
  },
  {
   "cell_type": "code",
   "execution_count": null,
   "metadata": {
    "ExecuteTime": {
     "end_time": "2018-11-05T14:41:18.822843Z",
     "start_time": "2018-11-05T14:41:18.813958Z"
    }
   },
   "outputs": [],
   "source": [
    "from nikola import utils\n",
    "utils.shutil.copy('/Users/laurentperrinet/quantic/science/ActiveVision/2020_StageM1_Jean-Nicolas/2020-06-26_fast_and_curious/benchmark_image_recognition.ipynb', 'posts/2020-09-28-benchmarking-cnns.ipynb')"
   ]
  },
  {
   "cell_type": "code",
   "execution_count": null,
   "metadata": {
    "ExecuteTime": {
     "end_time": "2018-11-05T14:41:18.822843Z",
     "start_time": "2018-11-05T14:41:18.813958Z"
    }
   },
   "outputs": [],
   "source": [
    "from nikola import utils\n",
    "utils.shutil.copy('/Users/laurentperrinet/quantic/EtienneRey/2020_caustiques/2020-06-19_caustique.ipynb', 'posts/2020-06-19-caustic-optics.ipynb')"
   ]
  },
  {
   "cell_type": "code",
   "execution_count": null,
   "metadata": {
    "ExecuteTime": {
     "end_time": "2018-11-05T14:41:18.822843Z",
     "start_time": "2018-11-05T14:41:18.813958Z"
    }
   },
   "outputs": [],
   "source": [
    "!nbdiff /Users/laurentperrinet/quantic/EtienneRey/2020_caustiques/2020-06-19_caustique.ipynb posts/2020-06-19-caustic-optics.ipynb"
   ]
  },
  {
   "cell_type": "code",
   "execution_count": null,
   "metadata": {
    "ExecuteTime": {
     "end_time": "2018-11-05T14:41:18.822843Z",
     "start_time": "2018-11-05T14:41:18.813958Z"
    }
   },
   "outputs": [],
   "source": [
    "utils.shutil.rmtree('files/2020-06-19_caustique', ignore_errors=True)\n",
    "utils.shutil.copytree('/Users/laurentperrinet/quantic/EtienneRey/2020_caustiques/2020-06-19_caustique', 'files/2020-06-19_caustique')"
   ]
  },
  {
   "cell_type": "code",
   "execution_count": null,
   "metadata": {},
   "outputs": [],
   "source": [
    "#utils.shutil.rmtree('/Users/laurentperrinet/quantic/EtienneRey/files', ignore_errors=True)\n",
    "#utils.shutil.move('/Users/laurentperrinet/quantic/EtienneRey/files/2020-06-19_caustique', '/Users/laurentperrinet/quantic/EtienneRey/2020_caustiques/2020-06-19_caustique')"
   ]
  },
  {
   "cell_type": "markdown",
   "metadata": {},
   "source": [
    "## 2019"
   ]
  },
  {
   "cell_type": "code",
   "execution_count": null,
   "metadata": {
    "ExecuteTime": {
     "end_time": "2018-11-05T14:41:18.822843Z",
     "start_time": "2018-11-05T14:41:18.813958Z"
    }
   },
   "outputs": [],
   "source": [
    "utils.shutil.copy('/Users/laurentperrinet/quantic/science/OBV1/jennafradin_MSc-Internship/Notebooks/W13/10_theory-fitting_psychometric.ipynb', fname)"
   ]
  },
  {
   "cell_type": "code",
   "execution_count": null,
   "metadata": {},
   "outputs": [],
   "source": [
    "%ls posts/2015*hitch*"
   ]
  },
  {
   "cell_type": "code",
   "execution_count": null,
   "metadata": {
    "ExecuteTime": {
     "end_time": "2018-11-05T14:41:18.822843Z",
     "start_time": "2018-11-05T14:41:18.813958Z"
    }
   },
   "outputs": [],
   "source": [
    "utils.shutil.copy('posts/2015-05-22-a-hitchhiker-guide-to-matching-pursuit.ipynb', fname)"
   ]
  },
  {
   "cell_type": "code",
   "execution_count": null,
   "metadata": {
    "ExecuteTime": {
     "end_time": "2018-11-08T10:17:33.863368Z",
     "start_time": "2018-11-08T10:17:33.822970Z"
    }
   },
   "outputs": [],
   "source": [
    "utils.shutil.copy('/Users/laurentperrinet/pool/TimeWarp/2018-11-05_Statistics of the natural input to a ring model.ipynb', fname)\n",
    "utils.shutil.copy('/Users/laurentperrinet/pool/TimeWarp/figs/2018-11-05_Ring_input.mp4', 'files/')"
   ]
  },
  {
   "cell_type": "code",
   "execution_count": null,
   "metadata": {},
   "outputs": [],
   "source": [
    "utils.shutil.copy('/Users/laurentperrinet//science/pupil/dev/2017-12-13 accessing the data from a pupil recording.ipynb', 'posts/2017-12-13-accessing-the-data-from-a-pupil-recording.ipynb')"
   ]
  },
  {
   "cell_type": "code",
   "execution_count": null,
   "metadata": {
    "collapsed": true,
    "jupyter": {
     "outputs_hidden": true
    }
   },
   "outputs": [],
   "source": [
    "titles = ['2017-03-29 testing COMPs-Pcum', '2017-03-29 testing COMPs-fastPcum', '2017-03-29 testing COMPs-fastPcum_scripted']"
   ]
  },
  {
   "cell_type": "code",
   "execution_count": null,
   "metadata": {},
   "outputs": [],
   "source": [
    "tags = ', '.join(tags_list)\n",
    "for title in titles:\n",
    "    !nikola new_post -f \"{formt}\" -2 -t \"{title}\" --tags=\"{tags}\""
   ]
  },
  {
   "cell_type": "code",
   "execution_count": null,
   "metadata": {},
   "outputs": [],
   "source": [
    "for title in titles:\n",
    "    fname = utils.os.path.join('posts', utils.slugify(title) + '.' + formt)\n",
    "    print(fname)\n",
    "    import os\n",
    "    home = os.environ['HOME']\n",
    "    print(home)\n",
    "    filepath = home +  \"/science/VB_These/Rapport d'avancement/2017-03/\"\n",
    "    print(filepath + title +'.ipynb')\n",
    "    utils.shutil.copy(filepath + title +'.ipynb', fname)"
   ]
  },
  {
   "cell_type": "markdown",
   "metadata": {},
   "source": [
    "\n",
    "TODO : 2017-05-23-reproducing-olshausens-classical-sparsenet-part-5.ipynb and others from 2017-05-23-reproducing-olshausens-classical-sparsenet-part-5.ipynb\n"
   ]
  },
  {
   "cell_type": "raw",
   "metadata": {},
   "source": [
    "Below, I detail some thoughts on why it is a perfect preamble for most ipython notebooks.\n",
    "\n",
    "<!-- TEASER_END -->"
   ]
  },
  {
   "cell_type": "code",
   "execution_count": null,
   "metadata": {
    "collapsed": true,
    "jupyter": {
     "outputs_hidden": true
    }
   },
   "outputs": [],
   "source": [
    "import nikola"
   ]
  },
  {
   "cell_type": "code",
   "execution_count": null,
   "metadata": {
    "collapsed": true,
    "jupyter": {
     "outputs_hidden": true
    }
   },
   "outputs": [],
   "source": [
    "nikola.utils."
   ]
  },
  {
   "cell_type": "code",
   "execution_count": null,
   "metadata": {
    "collapsed": true,
    "jupyter": {
     "outputs_hidden": true
    }
   },
   "outputs": [],
   "source": [
    "from nikola.plugins import commands"
   ]
  },
  {
   "cell_type": "code",
   "execution_count": null,
   "metadata": {
    "collapsed": true,
    "jupyter": {
     "outputs_hidden": true
    }
   },
   "outputs": [],
   "source": [
    "plugins.absolute_import"
   ]
  },
  {
   "cell_type": "code",
   "execution_count": null,
   "metadata": {
    "collapsed": true,
    "jupyter": {
     "outputs_hidden": true
    }
   },
   "outputs": [],
   "source": [
    "!nikola help new_post "
   ]
  },
  {
   "cell_type": "code",
   "execution_count": null,
   "metadata": {
    "collapsed": true,
    "jupyter": {
     "outputs_hidden": true
    }
   },
   "outputs": [],
   "source": [
    "base_url = \"http://127.0.0.1:\"\n",
    "port = 8889\n",
    "\n",
    "from nikola import utils\n",
    "notebook = \"/notebooks/posts/\" + utils.slugify(unicode(title)) + \".ipynb\"  \n",
    "\n",
    "url = base_url + str(port) + notebook\n",
    "print url"
   ]
  },
  {
   "cell_type": "code",
   "execution_count": null,
   "metadata": {
    "collapsed": true,
    "jupyter": {
     "outputs_hidden": true
    }
   },
   "outputs": [],
   "source": [
    "def convert(URL, DATE, TIME, TITLE, TAGS, doit=True):\n",
    "\n",
    "    TIMEDTITLE = DATE[2:] + ' ' + TITLE\n",
    "    SLUG = DATE[2:] + '-' + TITLE.replace(' ', '-')\n",
    "    tmplt = \"\"\"\\\n",
    ".. title: %s %s\n",
    ".. slug: %s\n",
    ".. date: %s %s\n",
    ".. type: text\n",
    ".. tags: %s\n",
    "    \n",
    "\"\"\" % (DATE[2:], TITLE, SLUG, DATE, TIME, TAGS)\n",
    "\n",
    "    print tmplt\n",
    "\n",
    "    if doit:\n",
    "        import os\n",
    "        print TITLE, TAGS\n",
    "        cmd = 'cd ..; nikola new_post --title=\"%s\" --tags=\"%s\"' % (TIMEDTITLE, TAGS)\n",
    "        print cmd\n",
    "        os.system(cmd)\n",
    "        f = file(SLUG + '.rst', 'w')\n",
    "        f.write(tmplt + pagerst)\n",
    "        f.close()\n",
    "    else:\n",
    "        print tmplt"
   ]
  },
  {
   "cell_type": "markdown",
   "metadata": {},
   "source": [
    "## updating dates to iso8601 : ipython notebooks"
   ]
  },
  {
   "cell_type": "code",
   "execution_count": null,
   "metadata": {
    "collapsed": true,
    "jupyter": {
     "outputs_hidden": true
    },
    "scrolled": true
   },
   "outputs": [],
   "source": [
    "import glob, os, shutil\n",
    "from nikola import utils\n",
    "\n",
    "for fname in glob.glob(\"posts/14*.ipynb\"):\n",
    "    ROOT, FILE = os.path.split(fname)\n",
    "    SLUG = 'posts/' + FILE.replace('.ipynb', '.meta')\n",
    "    FILE_new = 'posts/20' + FILE\n",
    "    SLUG_new = 'posts/20' + FILE.replace('.ipynb', '.meta')\n",
    "    print(SLUG)\n",
    "    meta = ''\n",
    "    with open(SLUG, 'r') as f: \n",
    "        for line in f.readlines():\n",
    "            meta += line.replace(' 14-', ' 2014-')\n",
    "    print(FILE_new, SLUG_new)\n",
    "    print(meta)\n",
    "    if True:\n",
    "        with open(SLUG_new, 'w') as f: f.write(meta)\n",
    "        shutil.copy( 'posts/' + FILE, FILE_new)\n",
    "        os.remove('posts/' + FILE)\n",
    "        os.remove(SLUG)"
   ]
  },
  {
   "cell_type": "markdown",
   "metadata": {},
   "source": [
    "## updating dates to iso8601 : other posts"
   ]
  },
  {
   "cell_type": "code",
   "execution_count": null,
   "metadata": {
    "collapsed": true,
    "jupyter": {
     "outputs_hidden": true
    }
   },
   "outputs": [],
   "source": [
    "import glob, os, shutil\n",
    "from nikola import utils\n",
    "\n",
    "for YEAR in [\"10\", \"11\", \"12\", \"13\", \"14\"]:\n",
    "    for fname in glob.glob(\"posts/\"+ YEAR + \"-*.txt\"):\n",
    "        ROOT, FILE = os.path.split(fname)\n",
    "        FILE_new = 'posts/20' + FILE\n",
    "        print(FILE_new)\n",
    "        if True:\n",
    "            shutil.copy( 'posts/' + FILE, FILE_new)\n",
    "            os.remove('posts/' + FILE)\n"
   ]
  },
  {
   "cell_type": "code",
   "execution_count": null,
   "metadata": {
    "collapsed": true,
    "jupyter": {
     "outputs_hidden": true
    },
    "scrolled": true
   },
   "outputs": [],
   "source": [
    "import glob, os, shutil\n",
    "from nikola import utils\n",
    "\n",
    "for ext in [\"*.txt\", \"*.rst\"]:\n",
    "    for YEAR in [\"06\", \"07\", \"08\", \"09\", \"10\", \"11\", \"12\", \"13\", \"14\", \"15\"]:\n",
    "        for fname in glob.glob(\"posts/20\"+ YEAR + ext):\n",
    "            ROOT, FILE = os.path.split(fname)\n",
    "            post = ''\n",
    "            with open('posts/' + FILE, 'r') as f: \n",
    "                for line in f.readlines():\n",
    "                    line = line.replace(' '+ YEAR + '-', ' 20'+ YEAR + '-')\n",
    "                    for YEAR_ in [\"10\", \"11\", \"12\", \"13\", \"14\"]:\n",
    "                        line = line.replace('<'+ YEAR_ + '-', '<20'+ YEAR_ + '-')\n",
    "                    post += line\n",
    "            print(FILE)\n",
    "            if True:\n",
    "                with open('posts/' + FILE, 'w') as f: f.write(post)\n",
    "            else:\n",
    "                print(post)\n"
   ]
  },
  {
   "cell_type": "markdown",
   "metadata": {},
   "source": [
    "# deploying changes"
   ]
  },
  {
   "cell_type": "code",
   "execution_count": null,
   "metadata": {},
   "outputs": [],
   "source": [
    "%ls -al"
   ]
  },
  {
   "cell_type": "raw",
   "metadata": {},
   "source": [
    "%rm -fr .doit.db cache"
   ]
  },
  {
   "cell_type": "raw",
   "metadata": {},
   "source": [
    "!nikola clean"
   ]
  },
  {
   "cell_type": "code",
   "execution_count": null,
   "metadata": {},
   "outputs": [],
   "source": [
    "!git pull"
   ]
  },
  {
   "cell_type": "code",
   "execution_count": null,
   "metadata": {},
   "outputs": [],
   "source": [
    "!git status"
   ]
  },
  {
   "cell_type": "raw",
   "metadata": {},
   "source": [
    "!ls -ltr files"
   ]
  },
  {
   "cell_type": "code",
   "execution_count": null,
   "metadata": {},
   "outputs": [],
   "source": [
    "!nikola build"
   ]
  },
  {
   "cell_type": "raw",
   "metadata": {},
   "source": [
    "%rm posts/__temp__.mp4 \tposts/debug.log"
   ]
  },
  {
   "cell_type": "code",
   "execution_count": null,
   "metadata": {},
   "outputs": [],
   "source": [
    "!nikola deploy"
   ]
  },
  {
   "cell_type": "code",
   "execution_count": null,
   "metadata": {},
   "outputs": [],
   "source": [
    "# import time\n",
    "# time.sleep(3600*0)"
   ]
  },
  {
   "cell_type": "code",
   "execution_count": null,
   "metadata": {},
   "outputs": [],
   "source": [
    "!nikola build ; nikola deploy"
   ]
  },
  {
   "cell_type": "code",
   "execution_count": null,
   "metadata": {},
   "outputs": [],
   "source": [
    "!git status"
   ]
  },
  {
   "cell_type": "code",
   "execution_count": null,
   "metadata": {},
   "outputs": [],
   "source": [
    "!open https://laurentperrinet.github.io/sciblog"
   ]
  },
  {
   "cell_type": "markdown",
   "metadata": {},
   "source": [
    "Voilà!"
   ]
  }
 ],
 "metadata": {
  "kernelspec": {
   "display_name": "base",
   "language": "python",
   "name": "python3"
  },
  "language_info": {
   "codemirror_mode": {
    "name": "ipython",
    "version": 3
   },
   "file_extension": ".py",
   "mimetype": "text/x-python",
   "name": "python",
   "nbconvert_exporter": "python",
   "pygments_lexer": "ipython3",
   "version": "3.12.3"
  },
  "toc": {
   "base_numbering": 1,
   "nav_menu": {
    "height": "117px",
    "width": "252px"
   },
   "number_sections": true,
   "sideBar": true,
   "skip_h1_title": false,
   "title_cell": "Table of Contents",
   "title_sidebar": "Contents",
   "toc_cell": false,
   "toc_position": {},
   "toc_section_display": "block",
   "toc_window_display": false
  }
 },
 "nbformat": 4,
 "nbformat_minor": 4
}
