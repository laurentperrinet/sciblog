{
 "cells": [
  {
   "cell_type": "markdown",
   "metadata": {},
   "source": [
    "# installing and updating nikola"
   ]
  },
  {
   "cell_type": "code",
   "execution_count": 1,
   "metadata": {
    "scrolled": true
   },
   "outputs": [],
   "source": [
    "#!python3 -m pip uninstall -y nikola"
   ]
  },
  {
   "cell_type": "code",
   "execution_count": 2,
   "metadata": {
    "ExecuteTime": {
     "end_time": "2018-09-07T10:24:17.333057Z",
     "start_time": "2018-09-07T10:24:14.585077Z"
    },
    "scrolled": false
   },
   "outputs": [
    {
     "name": "stdout",
     "output_type": "stream",
     "text": [
      "Collecting Nikola[extras]\n",
      "  Using cached https://files.pythonhosted.org/packages/f3/b1/8dd93e9123eca1b0c3daef20bd9a424532f77d24ee7477ef74e099dacbba/Nikola-8.0.2-py3-none-any.whl\n",
      "Collecting mako>=1.0.0 (from Nikola[extras])\n",
      "Collecting lxml>=3.3.5 (from Nikola[extras])\n",
      "\u001b[?25l  Downloading https://files.pythonhosted.org/packages/30/17/b8a482404d0d1362d22fad2649bb4ac756790875e456a646274ff0de1aad/lxml-4.3.2-cp37-cp37m-macosx_10_6_intel.macosx_10_9_intel.macosx_10_9_x86_64.macosx_10_10_intel.macosx_10_10_x86_64.whl (8.7MB)\n",
      "\u001b[K    100% |████████████████████████████████| 8.7MB 1.7MB/s \n",
      "\u001b[?25hCollecting Yapsy>=1.11.223 (from Nikola[extras])\n",
      "Collecting logbook>=1.3.0 (from Nikola[extras])\n",
      "Collecting doit>=0.30.1 (from Nikola[extras])\n",
      "  Using cached https://files.pythonhosted.org/packages/d0/4d/ebc39fdf33cc9e039b7c69f6783e929d184e5c0652a1a4543c6c5bd94c1c/doit-0.31.1-py3-none-any.whl\n",
      "Collecting blinker>=1.3 (from Nikola[extras])\n",
      "Collecting natsort>=3.5.2 (from Nikola[extras])\n",
      "  Using cached https://files.pythonhosted.org/packages/e7/13/a66bfa0ebf00e17778ca0319d081be686a33384d1f612fc8e0fc542ac5d8/natsort-6.0.0-py2.py3-none-any.whl\n",
      "Collecting requests>=2.2.0 (from Nikola[extras])\n",
      "  Using cached https://files.pythonhosted.org/packages/7d/e3/20f3d364d6c8e5d2353c72a67778eb189176f08e873c9900e10c0287b84b/requests-2.21.0-py2.py3-none-any.whl\n",
      "Collecting Pygments>=1.6 (from Nikola[extras])\n",
      "  Using cached https://files.pythonhosted.org/packages/13/e5/6d710c9cf96c31ac82657bcfb441df328b22df8564d58d0c4cd62612674c/Pygments-2.3.1-py2.py3-none-any.whl\n",
      "Collecting PyRSS2Gen>=1.1 (from Nikola[extras])\n",
      "Collecting setuptools>=24.2.0 (from Nikola[extras])\n",
      "  Using cached https://files.pythonhosted.org/packages/d1/6a/4b2fcefd2ea0868810e92d519dacac1ddc64a2e53ba9e3422c3b62b378a6/setuptools-40.8.0-py2.py3-none-any.whl\n",
      "Collecting Pillow>=2.4.0 (from Nikola[extras])\n",
      "  Using cached https://files.pythonhosted.org/packages/c9/ed/27cc92e99b9ccaa0985a66133baeea7e8a3371d3c04cfa353aaa3b81aac1/Pillow-5.4.1-cp37-cp37m-macosx_10_6_intel.macosx_10_9_intel.macosx_10_9_x86_64.macosx_10_10_intel.macosx_10_10_x86_64.whl\n",
      "Collecting unidecode>=0.04.16 (from Nikola[extras])\n",
      "  Using cached https://files.pythonhosted.org/packages/31/39/53096f9217b057cb049fe872b7fc7ce799a1a89b76cf917d9639e7a558b5/Unidecode-1.0.23-py2.py3-none-any.whl\n",
      "Collecting Babel>=2.6.0 (from Nikola[extras])\n",
      "  Using cached https://files.pythonhosted.org/packages/b8/ad/c6f60602d3ee3d92fbed87675b6fb6a6f9a38c223343ababdb44ba201f10/Babel-2.6.0-py2.py3-none-any.whl\n",
      "Collecting piexif>=1.0.3 (from Nikola[extras])\n",
      "  Using cached https://files.pythonhosted.org/packages/d9/45/19726eac3f8ddedccff86de92fa6d16d90b0e9257df811b7331f0b91d966/piexif-1.1.2-py2.py3-none-any.whl\n",
      "Collecting Markdown<3.0.0,>=2.4.0 (from Nikola[extras])\n",
      "  Using cached https://files.pythonhosted.org/packages/6d/7d/488b90f470b96531a3f5788cf12a93332f543dbab13c423a5e7ce96a0493/Markdown-2.6.11-py2.py3-none-any.whl\n",
      "Collecting python-dateutil>=2.6.0 (from Nikola[extras])\n",
      "  Using cached https://files.pythonhosted.org/packages/41/17/c62faccbfbd163c7f57f3844689e3a78bae1f403648a6afb1d0866d87fbb/python_dateutil-2.8.0-py2.py3-none-any.whl\n",
      "Collecting docutils>=0.13 (from Nikola[extras])\n",
      "  Using cached https://files.pythonhosted.org/packages/36/fa/08e9e6e0e3cbd1d362c3bbee8d01d0aedb2155c4ac112b19ef3cae8eed8d/docutils-0.14-py3-none-any.whl\n",
      "Collecting ruamel.yaml>=0.15; extra == \"extras\" (from Nikola[extras])\n",
      "  Using cached https://files.pythonhosted.org/packages/3b/37/c605e88fbbd6f2ef9896bd3d8477e8581e527193c87094f4ba10442c85af/ruamel.yaml-0.15.89-cp37-cp37m-macosx_10_9_x86_64.whl\n",
      "Collecting micawber>=0.3.0; extra == \"extras\" (from Nikola[extras])\n",
      "Collecting pyphen>=0.9.1; extra == \"extras\" (from Nikola[extras])\n",
      "  Using cached https://files.pythonhosted.org/packages/15/82/08a3629dce8d1f3d91db843bb36d4d7db6b6269d5067259613a0d5c8a9db/Pyphen-0.9.5-py2.py3-none-any.whl\n",
      "Collecting toml>=0.9.2; extra == \"extras\" (from Nikola[extras])\n",
      "  Using cached https://files.pythonhosted.org/packages/a2/12/ced7105d2de62fa7c8fb5fce92cc4ce66b57c95fb875e9318dba7f8c5db0/toml-0.10.0-py2.py3-none-any.whl\n",
      "Collecting husl>=4.0.2; extra == \"extras\" (from Nikola[extras])\n",
      "Collecting pygal>=2.0.0; extra == \"extras\" (from Nikola[extras])\n",
      "  Using cached https://files.pythonhosted.org/packages/5f/b7/201c9254ac0d2b8ffa3bb2d528d23a4130876d9ba90bc28e99633f323f17/pygal-2.4.0-py2.py3-none-any.whl\n",
      "Collecting watchdog>=0.8.3; extra == \"extras\" (from Nikola[extras])\n",
      "Collecting Jinja2>=2.7.2; extra == \"extras\" (from Nikola[extras])\n",
      "  Using cached https://files.pythonhosted.org/packages/7f/ff/ae64bacdfc95f27a016a7bed8e8686763ba4d277a78ca76f32659220a731/Jinja2-2.10-py2.py3-none-any.whl\n",
      "Collecting notebook>=4.0.0; extra == \"extras\" (from Nikola[extras])\n",
      "\u001b[?25l  Downloading https://files.pythonhosted.org/packages/0a/d8/4e9521354ed3d730ba6d8a5af440b66c73245ef46be706e51bead71afc21/notebook-5.7.6-py2.py3-none-any.whl (9.0MB)\n",
      "\u001b[K    100% |████████████████████████████████| 9.0MB 1.8MB/s \n",
      "\u001b[?25hCollecting aiohttp>=2.3.8; extra == \"extras\" (from Nikola[extras])\n",
      "  Using cached https://files.pythonhosted.org/packages/16/60/c6ac986c2caeab6d3bae1e0b3400ab49df3aff23a8e37c543be68780d014/aiohttp-3.5.4-cp37-cp37m-macosx_10_13_x86_64.whl\n",
      "Collecting ghp-import2>=1.0.0; extra == \"extras\" (from Nikola[extras])\n",
      "  Using cached https://files.pythonhosted.org/packages/5f/ef/9a7f507f73b9ae27830de96419ba99e4b8a6b84ac177df6292a7510a0b66/ghp_import2-1.0.1-py2.py3-none-any.whl\n",
      "Collecting ipykernel>=4.0.0; extra == \"extras\" (from Nikola[extras])\n",
      "  Using cached https://files.pythonhosted.org/packages/d8/b0/f0be5c5ab335196f5cce96e5b889a4fcf5bfe462eb0acc05cd7e2caf65eb/ipykernel-5.1.0-py3-none-any.whl\n",
      "Collecting typogrify>=2.0.4; extra == \"extras\" (from Nikola[extras])\n",
      "Collecting phpserialize>=1.3; extra == \"extras\" (from Nikola[extras])\n",
      "Collecting MarkupSafe>=0.9.2 (from mako>=1.0.0->Nikola[extras])\n",
      "  Using cached https://files.pythonhosted.org/packages/ce/c6/f000f1af136ef74e4a95e33785921c73595c5390403f102e9b231b065b7a/MarkupSafe-1.1.1-cp37-cp37m-macosx_10_6_intel.whl\n",
      "Collecting macfsevents; sys_platform == \"darwin\" (from doit>=0.30.1->Nikola[extras])\n",
      "Collecting cloudpickle (from doit>=0.30.1->Nikola[extras])\n",
      "  Using cached https://files.pythonhosted.org/packages/47/d5/efa7cacef5d3bdcd71d7053a698fb9b64a20fff5cb3c592efefa53ea5578/cloudpickle-0.8.0-py2.py3-none-any.whl\n",
      "Collecting idna<2.9,>=2.5 (from requests>=2.2.0->Nikola[extras])\n",
      "  Using cached https://files.pythonhosted.org/packages/14/2c/cd551d81dbe15200be1cf41cd03869a46fe7226e7450af7a6545bfc474c9/idna-2.8-py2.py3-none-any.whl\n",
      "Collecting chardet<3.1.0,>=3.0.2 (from requests>=2.2.0->Nikola[extras])\n",
      "  Using cached https://files.pythonhosted.org/packages/bc/a9/01ffebfb562e4274b6487b4bb1ddec7ca55ec7510b22e4c51f14098443b8/chardet-3.0.4-py2.py3-none-any.whl\n",
      "Collecting certifi>=2017.4.17 (from requests>=2.2.0->Nikola[extras])\n",
      "\u001b[?25l  Downloading https://files.pythonhosted.org/packages/60/75/f692a584e85b7eaba0e03827b3d51f45f571c2e793dd731e598828d380aa/certifi-2019.3.9-py2.py3-none-any.whl (158kB)\n",
      "\u001b[K    100% |████████████████████████████████| 163kB 2.4MB/s \n",
      "\u001b[?25hCollecting urllib3<1.25,>=1.21.1 (from requests>=2.2.0->Nikola[extras])\n",
      "  Using cached https://files.pythonhosted.org/packages/62/00/ee1d7de624db8ba7090d1226aebefab96a2c71cd5cfa7629d6ad3f61b79e/urllib3-1.24.1-py2.py3-none-any.whl\n",
      "Collecting pytz>=0a (from Babel>=2.6.0->Nikola[extras])\n",
      "  Using cached https://files.pythonhosted.org/packages/61/28/1d3920e4d1d50b19bc5d24398a7cd85cc7b9a75a490570d5a30c57622d34/pytz-2018.9-py2.py3-none-any.whl\n",
      "Collecting six>=1.5 (from python-dateutil>=2.6.0->Nikola[extras])\n",
      "  Using cached https://files.pythonhosted.org/packages/73/fb/00a976f728d0d1fecfe898238ce23f502a721c0ac0ecfedb80e0d88c64e9/six-1.12.0-py2.py3-none-any.whl\n",
      "Collecting PyYAML>=3.10 (from watchdog>=0.8.3; extra == \"extras\"->Nikola[extras])\n",
      "\u001b[?25l  Downloading https://files.pythonhosted.org/packages/9f/2c/9417b5c774792634834e730932745bc09a7d36754ca00acf1ccd1ac2594d/PyYAML-5.1.tar.gz (274kB)\n",
      "\u001b[K    100% |████████████████████████████████| 276kB 2.4MB/s \n",
      "\u001b[?25hCollecting argh>=0.24.1 (from watchdog>=0.8.3; extra == \"extras\"->Nikola[extras])\n",
      "  Using cached https://files.pythonhosted.org/packages/06/1c/e667a7126f0b84aaa1c56844337bf0ac12445d1beb9c8a6199a7314944bf/argh-0.26.2-py2.py3-none-any.whl\n",
      "Collecting pathtools>=0.1.1 (from watchdog>=0.8.3; extra == \"extras\"->Nikola[extras])\n",
      "Collecting Send2Trash (from notebook>=4.0.0; extra == \"extras\"->Nikola[extras])\n",
      "  Using cached https://files.pythonhosted.org/packages/49/46/c3dc27481d1cc57b9385aff41c474ceb7714f7935b1247194adae45db714/Send2Trash-1.5.0-py3-none-any.whl\n",
      "Collecting nbformat (from notebook>=4.0.0; extra == \"extras\"->Nikola[extras])\n",
      "  Using cached https://files.pythonhosted.org/packages/da/27/9a654d2b6cc1eaa517d1c5a4405166c7f6d72f04f6e7eea41855fe808a46/nbformat-4.4.0-py2.py3-none-any.whl\n",
      "Collecting jupyter-client>=5.2.0 (from notebook>=4.0.0; extra == \"extras\"->Nikola[extras])\n",
      "  Using cached https://files.pythonhosted.org/packages/3b/c3/3043fe9ffd140d03c9d091a056794ccdc427c56ec19b8eea74f9ea0a498f/jupyter_client-5.2.4-py2.py3-none-any.whl\n",
      "Collecting traitlets>=4.2.1 (from notebook>=4.0.0; extra == \"extras\"->Nikola[extras])\n",
      "  Using cached https://files.pythonhosted.org/packages/93/d6/abcb22de61d78e2fc3959c964628a5771e47e7cc60d53e9342e21ed6cc9a/traitlets-4.3.2-py2.py3-none-any.whl\n",
      "Collecting terminado>=0.8.1 (from notebook>=4.0.0; extra == \"extras\"->Nikola[extras])\n",
      "  Using cached https://files.pythonhosted.org/packages/2e/20/a26211a24425923d46e1213b376a6ee60dc30bcdf1b0c345e2c3769deb1c/terminado-0.8.1-py2.py3-none-any.whl\n",
      "Collecting nbconvert (from notebook>=4.0.0; extra == \"extras\"->Nikola[extras])\n",
      "  Using cached https://files.pythonhosted.org/packages/b8/39/1e67fea74dc9577cc49f9863fe3ec824e525d1304ab6027d95a94cd586f5/nbconvert-5.4.1-py2.py3-none-any.whl\n",
      "Collecting ipython-genutils (from notebook>=4.0.0; extra == \"extras\"->Nikola[extras])\n",
      "  Using cached https://files.pythonhosted.org/packages/fa/bc/9bd3b5c2b4774d5f33b2d544f1460be9df7df2fe42f352135381c347c69a/ipython_genutils-0.2.0-py2.py3-none-any.whl\n",
      "Collecting tornado<7,>=4.1 (from notebook>=4.0.0; extra == \"extras\"->Nikola[extras])\n",
      "\u001b[?25l  Downloading https://files.pythonhosted.org/packages/b1/7f/8109821ff9df1bf3519169e34646705c32ac13be6a4d51a79ed57f47686e/tornado-6.0.1.tar.gz (481kB)\n",
      "\u001b[K    100% |████████████████████████████████| 491kB 2.6MB/s \n",
      "\u001b[?25hCollecting jupyter-core>=4.4.0 (from notebook>=4.0.0; extra == \"extras\"->Nikola[extras])\n",
      "  Using cached https://files.pythonhosted.org/packages/1d/44/065d2d7bae7bebc06f1dd70d23c36da8c50c0f08b4236716743d706762a8/jupyter_core-4.4.0-py2.py3-none-any.whl\n",
      "Collecting prometheus-client (from notebook>=4.0.0; extra == \"extras\"->Nikola[extras])\n",
      "Collecting pyzmq>=17 (from notebook>=4.0.0; extra == \"extras\"->Nikola[extras])\n",
      "\u001b[?25l  Downloading https://files.pythonhosted.org/packages/30/08/64b910e8f5e0285598a15a8d8f2f4d06a1367f0d145c7554fdd02d926272/pyzmq-18.0.1-cp37-cp37m-macosx_10_9_x86_64.whl (814kB)\n",
      "\u001b[K    100% |████████████████████████████████| 819kB 3.0MB/s \n",
      "\u001b[?25hCollecting async-timeout<4.0,>=3.0 (from aiohttp>=2.3.8; extra == \"extras\"->Nikola[extras])\n",
      "  Using cached https://files.pythonhosted.org/packages/e1/1e/5a4441be21b0726c4464f3f23c8b19628372f606755a9d2e46c187e65ec4/async_timeout-3.0.1-py3-none-any.whl\n",
      "Collecting yarl<2.0,>=1.0 (from aiohttp>=2.3.8; extra == \"extras\"->Nikola[extras])\n",
      "Collecting attrs>=17.3.0 (from aiohttp>=2.3.8; extra == \"extras\"->Nikola[extras])\n",
      "  Downloading https://files.pythonhosted.org/packages/23/96/d828354fa2dbdf216eaa7b7de0db692f12c234f7ef888cc14980ef40d1d2/attrs-19.1.0-py2.py3-none-any.whl\n",
      "Collecting multidict<5.0,>=4.0 (from aiohttp>=2.3.8; extra == \"extras\"->Nikola[extras])\n",
      "  Using cached https://files.pythonhosted.org/packages/0e/64/39b167d63e292cc2336d09c4d3577089db82cd7886ed535b6100fc7c7966/multidict-4.5.2-cp37-cp37m-macosx_10_12_intel.macosx_10_12_x86_64.macosx_10_13_intel.macosx_10_13_x86_64.whl\n",
      "Collecting ipython>=5.0.0 (from ipykernel>=4.0.0; extra == \"extras\"->Nikola[extras])\n",
      "  Using cached https://files.pythonhosted.org/packages/14/3b/3fcf422a99a04ee493e6a4fc3014e3c8ff484a7feed238fef68bdc285085/ipython-7.3.0-py3-none-any.whl\n",
      "Collecting smartypants>=1.8.3 (from typogrify>=2.0.4; extra == \"extras\"->Nikola[extras])\n",
      "  Using cached https://files.pythonhosted.org/packages/da/ed/1da76d11aa858ee23dac5b52d9ac2db7df02b89f7679d5d8970bcd44b59c/smartypants-2.0.1-py2.py3-none-any.whl\n",
      "Collecting jsonschema!=2.5.0,>=2.4 (from nbformat->notebook>=4.0.0; extra == \"extras\"->Nikola[extras])\n",
      "\u001b[?25l  Downloading https://files.pythonhosted.org/packages/aa/69/df679dfbdd051568b53c38ec8152a3ab6bc533434fc7ed11ab034bf5e82f/jsonschema-3.0.1-py2.py3-none-any.whl (54kB)\n",
      "\u001b[K    100% |████████████████████████████████| 61kB 5.7MB/s \n",
      "\u001b[?25hCollecting decorator (from traitlets>=4.2.1->notebook>=4.0.0; extra == \"extras\"->Nikola[extras])\n",
      "  Using cached https://files.pythonhosted.org/packages/f1/cd/7c8240007e9716b14679bc217a1baefa4432aa30394f7e2ec40a52b1a708/decorator-4.3.2-py2.py3-none-any.whl\n",
      "Collecting ptyprocess; os_name != \"nt\" (from terminado>=0.8.1->notebook>=4.0.0; extra == \"extras\"->Nikola[extras])\n",
      "  Using cached https://files.pythonhosted.org/packages/d1/29/605c2cc68a9992d18dada28206eeada56ea4bd07a239669da41674648b6f/ptyprocess-0.6.0-py2.py3-none-any.whl\n",
      "Collecting pandocfilters>=1.4.1 (from nbconvert->notebook>=4.0.0; extra == \"extras\"->Nikola[extras])\n",
      "Collecting entrypoints>=0.2.2 (from nbconvert->notebook>=4.0.0; extra == \"extras\"->Nikola[extras])\n",
      "  Using cached https://files.pythonhosted.org/packages/ac/c6/44694103f8c221443ee6b0041f69e2740d89a25641e62fb4f2ee568f2f9c/entrypoints-0.3-py2.py3-none-any.whl\n",
      "Collecting bleach (from nbconvert->notebook>=4.0.0; extra == \"extras\"->Nikola[extras])\n",
      "  Using cached https://files.pythonhosted.org/packages/ab/05/27e1466475e816d3001efb6e0a85a819be17411420494a1e602c36f8299d/bleach-3.1.0-py2.py3-none-any.whl\n",
      "Collecting testpath (from nbconvert->notebook>=4.0.0; extra == \"extras\"->Nikola[extras])\n",
      "  Using cached https://files.pythonhosted.org/packages/be/a4/162f9ebb6489421fe46dcca2ae420369edfee4b563c668d93cb4605d12ba/testpath-0.4.2-py2.py3-none-any.whl\n",
      "Collecting mistune>=0.8.1 (from nbconvert->notebook>=4.0.0; extra == \"extras\"->Nikola[extras])\n",
      "  Using cached https://files.pythonhosted.org/packages/09/ec/4b43dae793655b7d8a25f76119624350b4d65eb663459eb9603d7f1f0345/mistune-0.8.4-py2.py3-none-any.whl\n",
      "Collecting defusedxml (from nbconvert->notebook>=4.0.0; extra == \"extras\"->Nikola[extras])\n",
      "  Using cached https://files.pythonhosted.org/packages/87/1c/17f3e3935a913dfe2a5ca85fa5ccbef366bfd82eb318b1f75dadbf0affca/defusedxml-0.5.0-py2.py3-none-any.whl\n",
      "Collecting backcall (from ipython>=5.0.0->ipykernel>=4.0.0; extra == \"extras\"->Nikola[extras])\n",
      "Collecting prompt-toolkit<2.1.0,>=2.0.0 (from ipython>=5.0.0->ipykernel>=4.0.0; extra == \"extras\"->Nikola[extras])\n",
      "  Using cached https://files.pythonhosted.org/packages/f7/a7/9b1dd14ef45345f186ef69d175bdd2491c40ab1dfa4b2b3e4352df719ed7/prompt_toolkit-2.0.9-py3-none-any.whl\n",
      "Collecting jedi>=0.10 (from ipython>=5.0.0->ipykernel>=4.0.0; extra == \"extras\"->Nikola[extras])\n",
      "  Using cached https://files.pythonhosted.org/packages/25/2b/1f188901be099d52d7b06f4d3b7cb9f8f09692c50697b139eaf6fa2928d8/jedi-0.13.3-py2.py3-none-any.whl\n",
      "Collecting pexpect; sys_platform != \"win32\" (from ipython>=5.0.0->ipykernel>=4.0.0; extra == \"extras\"->Nikola[extras])\n",
      "  Using cached https://files.pythonhosted.org/packages/89/e6/b5a1de8b0cc4e07ca1b305a4fcc3f9806025c1b651ea302646341222f88b/pexpect-4.6.0-py2.py3-none-any.whl\n",
      "Collecting appnope; sys_platform == \"darwin\" (from ipython>=5.0.0->ipykernel>=4.0.0; extra == \"extras\"->Nikola[extras])\n",
      "  Using cached https://files.pythonhosted.org/packages/87/a9/7985e6a53402f294c8f0e8eff3151a83f1fb901fa92909bb3ff29b4d22af/appnope-0.1.0-py2.py3-none-any.whl\n",
      "Collecting pickleshare (from ipython>=5.0.0->ipykernel>=4.0.0; extra == \"extras\"->Nikola[extras])\n",
      "  Using cached https://files.pythonhosted.org/packages/9a/41/220f49aaea88bc6fa6cba8d05ecf24676326156c23b991e80b3f2fc24c77/pickleshare-0.7.5-py2.py3-none-any.whl\n",
      "Collecting pyrsistent>=0.14.0 (from jsonschema!=2.5.0,>=2.4->nbformat->notebook>=4.0.0; extra == \"extras\"->Nikola[extras])\n",
      "Collecting webencodings (from bleach->nbconvert->notebook>=4.0.0; extra == \"extras\"->Nikola[extras])\n",
      "  Using cached https://files.pythonhosted.org/packages/f4/24/2a3e3df732393fed8b3ebf2ec078f05546de641fe1b667ee316ec1dcf3b7/webencodings-0.5.1-py2.py3-none-any.whl\n",
      "Collecting wcwidth (from prompt-toolkit<2.1.0,>=2.0.0->ipython>=5.0.0->ipykernel>=4.0.0; extra == \"extras\"->Nikola[extras])\n",
      "  Using cached https://files.pythonhosted.org/packages/7e/9f/526a6947247599b084ee5232e4f9190a38f398d7300d866af3ab571a5bfe/wcwidth-0.1.7-py2.py3-none-any.whl\n",
      "Collecting parso>=0.3.0 (from jedi>=0.10->ipython>=5.0.0->ipykernel>=4.0.0; extra == \"extras\"->Nikola[extras])\n",
      "  Using cached https://files.pythonhosted.org/packages/19/b1/522b2671cc6d134c9d3f5dfc0d02fee07cab848e908d03d2bffea78cca8f/parso-0.3.4-py2.py3-none-any.whl\n",
      "Building wheels for collected packages: PyYAML, tornado\n",
      "  Building wheel for PyYAML (setup.py) ... \u001b[?25ldone\n",
      "\u001b[?25h  Stored in directory: /Users/laurentperrinet/Library/Caches/pip/wheels/ad/56/bc/1522f864feb2a358ea6f1a92b4798d69ac783a28e80567a18b\n",
      "  Building wheel for tornado (setup.py) ... \u001b[?25ldone\n",
      "\u001b[?25h  Stored in directory: /Users/laurentperrinet/Library/Caches/pip/wheels/09/a9/78/41e23ffcb122e8f4b02537f4480a276ec1ad760dd492373961\n",
      "Successfully built PyYAML tornado\n",
      "\u001b[31mrst2html5 1.10.1 has requirement pygments==2.0.2, but you'll have pygments 2.3.1 which is incompatible.\u001b[0m\n",
      "\u001b[31mjupyterlab 0.35.4 has requirement jupyterlab-server<0.3.0,>=0.2.0, but you'll have jupyterlab-server 0.3.0 which is incompatible.\u001b[0m\n",
      "\u001b[31mdatashader 0.6.9 has requirement testpath<0.4, but you'll have testpath 0.4.2 which is incompatible.\u001b[0m\n",
      "Installing collected packages: MarkupSafe, mako, lxml, Yapsy, logbook, macfsevents, cloudpickle, doit, blinker, natsort, idna, chardet, certifi, urllib3, requests, Pygments, PyRSS2Gen, setuptools, Pillow, unidecode, pytz, Babel, piexif, Markdown, six, python-dateutil, docutils, ruamel.yaml, micawber, pyphen, toml, husl, pygal, PyYAML, argh, pathtools, watchdog, Jinja2, Send2Trash, ipython-genutils, decorator, traitlets, attrs, pyrsistent, jsonschema, jupyter-core, nbformat, pyzmq, tornado, jupyter-client, backcall, wcwidth, prompt-toolkit, parso, jedi, ptyprocess, pexpect, appnope, pickleshare, ipython, ipykernel, terminado, pandocfilters, entrypoints, webencodings, bleach, testpath, mistune, defusedxml, nbconvert, prometheus-client, notebook, async-timeout, multidict, yarl, aiohttp, ghp-import2, smartypants, typogrify, phpserialize, Nikola\n",
      "  Found existing installation: MarkupSafe 1.1.1\n",
      "    Uninstalling MarkupSafe-1.1.1:\n",
      "      Successfully uninstalled MarkupSafe-1.1.1\n",
      "  Found existing installation: Mako 1.0.7\n",
      "    Uninstalling Mako-1.0.7:\n",
      "      Successfully uninstalled Mako-1.0.7\n",
      "  Found existing installation: lxml 4.3.1\n",
      "    Uninstalling lxml-4.3.1:\n",
      "      Successfully uninstalled lxml-4.3.1\n",
      "  Found existing installation: Yapsy 1.12.0\n",
      "    Uninstalling Yapsy-1.12.0:\n",
      "      Successfully uninstalled Yapsy-1.12.0\n",
      "  Found existing installation: Logbook 1.4.3\n",
      "    Uninstalling Logbook-1.4.3:\n",
      "      Successfully uninstalled Logbook-1.4.3\n",
      "  Found existing installation: MacFSEvents 0.8.1\n",
      "    Uninstalling MacFSEvents-0.8.1:\n",
      "      Successfully uninstalled MacFSEvents-0.8.1\n",
      "  Rolling back uninstall of MacFSEvents\n",
      "  Moving to /usr/local/lib/python3.7/site-packages/MacFSEvents-0.8.1.dist-info/\n",
      "   from /usr/local/lib/python3.7/site-packages/~acFSEvents-0.8.1.dist-info\n",
      "  Moving to /usr/local/lib/python3.7/site-packages/__pycache__/fsevents.cpython-37.pyc\n",
      "   from /private/var/folders/3p/m0g52j9j69z3gj8ktpgg1dm00000gn/T/pip-uninstall-_ijppo1k/fsevents.cpython-37.pyc\n",
      "  Moving to /usr/local/lib/python3.7/site-packages/_fsevents.cpython-37m-darwin.so\n",
      "   from /private/var/folders/3p/m0g52j9j69z3gj8ktpgg1dm00000gn/T/pip-uninstall-n13b1ddt/_fsevents.cpython-37m-darwin.so\n",
      "  Moving to /usr/local/lib/python3.7/site-packages/fsevents.py\n",
      "   from /private/var/folders/3p/m0g52j9j69z3gj8ktpgg1dm00000gn/T/pip-uninstall-n13b1ddt/fsevents.py\n",
      "\u001b[31mCould not install packages due to an EnvironmentError: [Errno 13] Permission denied: '/usr/local/LICENSE.txt'\n",
      "Consider using the `--user` option or check the permissions.\n",
      "\u001b[0m\n"
     ]
    }
   ],
   "source": [
    "!python3 -m pip install -U --force \"Nikola[extras]\""
   ]
  },
  {
   "cell_type": "code",
   "execution_count": 3,
   "metadata": {
    "ExecuteTime": {
     "end_time": "2018-09-07T10:24:48.097536Z",
     "start_time": "2018-09-07T10:24:43.118411Z"
    }
   },
   "outputs": [
    {
     "name": "stdout",
     "output_type": "stream",
     "text": [
      "Collecting rst2html5\n",
      "  Using cached https://files.pythonhosted.org/packages/42/e1/bafd4b56ebeb3be0956351e314d1fde64e62ceffb094cb3f1f86eb2700fb/rst2html5-1.10.1-py2.py3-none-any.whl\n",
      "Collecting genshi>=0.7 (from rst2html5)\n",
      "  Using cached https://files.pythonhosted.org/packages/7f/76/a6c9ba86f84100ee67ca69f8cd7c3dcd58a591502dd8729ce1cbbaae8266/Genshi-0.7.1-py3-none-any.whl\n",
      "Collecting pygments==2.0.2 (from rst2html5)\n",
      "  Using cached https://files.pythonhosted.org/packages/87/e3/cadb43a197476ec0adef73292ea7ea188f2b0531188eebc150905d3ed78c/Pygments-2.0.2-py3-none-any.whl\n",
      "Collecting docutils>=0.14 (from rst2html5)\n",
      "  Using cached https://files.pythonhosted.org/packages/36/fa/08e9e6e0e3cbd1d362c3bbee8d01d0aedb2155c4ac112b19ef3cae8eed8d/docutils-0.14-py3-none-any.whl\n",
      "\u001b[31mnikola 8.0.2 has requirement Markdown<3.0.0,>=2.4.0, but you'll have markdown 3.0.1 which is incompatible.\u001b[0m\n",
      "Installing collected packages: genshi, pygments, docutils, rst2html5\n",
      "  Found existing installation: Genshi 0.7.1\n",
      "    Uninstalling Genshi-0.7.1:\n",
      "      Successfully uninstalled Genshi-0.7.1\n",
      "  Found existing installation: Pygments 2.3.1\n",
      "    Uninstalling Pygments-2.3.1:\n",
      "      Successfully uninstalled Pygments-2.3.1\n",
      "  Found existing installation: docutils 0.14\n",
      "    Uninstalling docutils-0.14:\n",
      "      Successfully uninstalled docutils-0.14\n",
      "  Found existing installation: rst2html5 1.10.1\n",
      "    Uninstalling rst2html5-1.10.1:\n",
      "      Successfully uninstalled rst2html5-1.10.1\n",
      "Successfully installed docutils-0.14 genshi-0.7.1 pygments-2.0.2 rst2html5-1.10.1\n"
     ]
    }
   ],
   "source": [
    "#!python3 -m pip uninstall -y rst2html5\n",
    "!python3 -m pip install -U --force rst2html5"
   ]
  },
  {
   "cell_type": "code",
   "execution_count": 4,
   "metadata": {
    "ExecuteTime": {
     "end_time": "2018-09-07T10:24:57.383520Z",
     "start_time": "2018-09-07T10:24:54.879696Z"
    }
   },
   "outputs": [
    {
     "name": "stdout",
     "output_type": "stream",
     "text": [
      "Collecting html5lib\n",
      "  Using cached https://files.pythonhosted.org/packages/a5/62/bbd2be0e7943ec8504b517e62bab011b4946e1258842bc159e5dfde15b96/html5lib-1.0.1-py2.py3-none-any.whl\n",
      "Collecting six>=1.9 (from html5lib)\n",
      "  Using cached https://files.pythonhosted.org/packages/73/fb/00a976f728d0d1fecfe898238ce23f502a721c0ac0ecfedb80e0d88c64e9/six-1.12.0-py2.py3-none-any.whl\n",
      "Collecting webencodings (from html5lib)\n",
      "  Using cached https://files.pythonhosted.org/packages/f4/24/2a3e3df732393fed8b3ebf2ec078f05546de641fe1b667ee316ec1dcf3b7/webencodings-0.5.1-py2.py3-none-any.whl\n",
      "\u001b[31mnikola 8.0.2 has requirement Markdown<3.0.0,>=2.4.0, but you'll have markdown 3.0.1 which is incompatible.\u001b[0m\n",
      "\u001b[31mjupyterlab 0.35.4 has requirement jupyterlab-server<0.3.0,>=0.2.0, but you'll have jupyterlab-server 0.3.0 which is incompatible.\u001b[0m\n",
      "\u001b[31mdatashader 0.6.9 has requirement testpath<0.4, but you'll have testpath 0.4.2 which is incompatible.\u001b[0m\n",
      "Installing collected packages: six, webencodings, html5lib\n",
      "  Found existing installation: six 1.12.0\n",
      "    Uninstalling six-1.12.0:\n",
      "      Successfully uninstalled six-1.12.0\n",
      "  Found existing installation: webencodings 0.5.1\n",
      "    Uninstalling webencodings-0.5.1:\n",
      "      Successfully uninstalled webencodings-0.5.1\n",
      "Successfully installed html5lib-1.0.1 six-1.12.0 webencodings-0.5.1\n"
     ]
    }
   ],
   "source": [
    "#!pip uninstall -y html5lib\n",
    "!python3 -m pip install -U --force html5lib"
   ]
  },
  {
   "cell_type": "code",
   "execution_count": 5,
   "metadata": {
    "ExecuteTime": {
     "end_time": "2018-09-07T10:25:37.163105Z",
     "start_time": "2018-09-07T10:25:34.804602Z"
    }
   },
   "outputs": [
    {
     "name": "stdout",
     "output_type": "stream",
     "text": [
      "Nikola v8.0.2\n",
      "\u001b[0m"
     ]
    }
   ],
   "source": [
    "!nikola version"
   ]
  },
  {
   "cell_type": "code",
   "execution_count": 6,
   "metadata": {
    "ExecuteTime": {
     "end_time": "2018-09-07T10:25:40.747475Z",
     "start_time": "2018-09-07T10:25:38.376282Z"
    }
   },
   "outputs": [
    {
     "name": "stdout",
     "output_type": "stream",
     "text": [
      "Nikola v8.0.2\n",
      "Nikola is up-to-date\n",
      "\u001b[0m"
     ]
    }
   ],
   "source": [
    "!nikola version --check"
   ]
  },
  {
   "cell_type": "markdown",
   "metadata": {},
   "source": [
    "# Adding a new post"
   ]
  },
  {
   "cell_type": "code",
   "execution_count": null,
   "metadata": {
    "ExecuteTime": {
     "end_time": "2018-11-05T14:34:58.343345Z",
     "start_time": "2018-11-05T14:34:58.224501Z"
    }
   },
   "outputs": [],
   "source": [
    "!date\n",
    "import datetime"
   ]
  },
  {
   "cell_type": "code",
   "execution_count": null,
   "metadata": {
    "ExecuteTime": {
     "end_time": "2018-11-05T14:34:58.697822Z",
     "start_time": "2018-11-05T14:34:58.694703Z"
    }
   },
   "outputs": [],
   "source": [
    "print(datetime.datetime.now())"
   ]
  },
  {
   "cell_type": "code",
   "execution_count": null,
   "metadata": {
    "ExecuteTime": {
     "end_time": "2018-11-05T14:34:59.176807Z",
     "start_time": "2018-11-05T14:34:59.173942Z"
    }
   },
   "outputs": [],
   "source": [
    "now = datetime.datetime.now().date()\n",
    "date = now.isoformat()#[2:]\n",
    "print(date)"
   ]
  },
  {
   "cell_type": "code",
   "execution_count": null,
   "metadata": {
    "ExecuteTime": {
     "end_time": "2018-11-05T14:35:00.048738Z",
     "start_time": "2018-11-05T14:34:59.677518Z"
    }
   },
   "outputs": [],
   "source": [
    "from nikola import utils"
   ]
  },
  {
   "cell_type": "code",
   "execution_count": null,
   "metadata": {
    "ExecuteTime": {
     "end_time": "2018-11-05T14:40:53.234519Z",
     "start_time": "2018-11-05T14:40:53.230930Z"
    }
   },
   "outputs": [],
   "source": [
    "tags_list = [\n",
    "#    'python', \n",
    "#    'ipython', \n",
    "#    'nikola', \n",
    "#    'blog', \n",
    "#    'themes', \n",
    "#    'pupil',\n",
    "#    'psychophysics',\n",
    "#    'outreach',\n",
    "#   'behavior',\n",
    "#    'povray', \n",
    "#    'elasticite', \n",
    "#    'art', \n",
    "#    'trames', \n",
    "    'math',\n",
    "#    'bicv', \n",
    "#    'SLIP', \n",
    "#    'LogGabor', \n",
    "#    'SHL_scripts', \n",
    "    'sparse', \n",
    "#    'Matching Pursuit',\n",
    "#    'Motion Particles',\n",
    "#    'holoviews',\n",
    "#    'pytorch',\n",
    "#    'deep-learning',\n",
    "#    'machine-learning',\n",
    "    'moviepy', \n",
    "#     'numpy', \n",
    "#    'vispy', \n",
    "    'neural',\n",
    "#    'motionclouds',\n",
    "#    'motion',\n",
    "    'pynn',\n",
    "#    'saccades',\n",
    "#    'Free Energy',\n",
    "#    'learning',\n",
    "#    'open-science',\n",
    "#    'vim',\n",
    "    'orientation',\n",
    "#    'vision',\n",
    "    'v1',\n",
    "]\n",
    "formt = 'rest'\n",
    "formt = 'ipynb'"
   ]
  },
  {
   "cell_type": "code",
   "execution_count": null,
   "metadata": {
    "ExecuteTime": {
     "end_time": "2018-11-05T14:41:01.475071Z",
     "start_time": "2018-11-05T14:41:00.415148Z"
    }
   },
   "outputs": [],
   "source": [
    "!nikola new_post -h"
   ]
  },
  {
   "cell_type": "code",
   "execution_count": null,
   "metadata": {
    "ExecuteTime": {
     "end_time": "2018-11-05T14:41:08.343633Z",
     "start_time": "2018-11-05T14:41:02.455292Z"
    },
    "scrolled": false
   },
   "outputs": [],
   "source": [
    "tags = ', '.join(tags_list)\n",
    "title = date + ' ' + \"Origins of the Von Mises distribution\"\n",
    "#title = '2017-12-13 accessing the data from a pupil recording'\n",
    "!nikola new_post -f \"{formt}\" -2 -t \"{title}\" --tags=\"{tags}\""
   ]
  },
  {
   "cell_type": "code",
   "execution_count": null,
   "metadata": {
    "ExecuteTime": {
     "end_time": "2018-11-08T10:17:49.012273Z",
     "start_time": "2018-11-08T10:17:49.005411Z"
    }
   },
   "outputs": [],
   "source": [
    "fname = utils.os.path.join('posts', utils.slugify(title) + '.' + formt)\n",
    "print(fname)"
   ]
  },
  {
   "cell_type": "code",
   "execution_count": null,
   "metadata": {
    "ExecuteTime": {
     "end_time": "2018-11-05T14:41:18.822843Z",
     "start_time": "2018-11-05T14:41:18.813958Z"
    }
   },
   "outputs": [],
   "source": [
    "utils.shutil.copy('template.ipynb', fname)"
   ]
  },
  {
   "cell_type": "markdown",
   "metadata": {},
   "source": [
    "## Copying existing notebooks"
   ]
  },
  {
   "cell_type": "code",
   "execution_count": null,
   "metadata": {
    "ExecuteTime": {
     "end_time": "2018-11-08T10:17:33.863368Z",
     "start_time": "2018-11-08T10:17:33.822970Z"
    }
   },
   "outputs": [],
   "source": [
    "utils.shutil.copy('/Users/laurentperrinet/pool/TimeWarp/2018-11-05_Statistics of the natural input to a ring model.ipynb', fname)\n",
    "utils.shutil.copy('/Users/laurentperrinet/pool/TimeWarp/figs/2018-11-05_Ring_input.mp4', 'files/')"
   ]
  },
  {
   "cell_type": "code",
   "execution_count": null,
   "metadata": {},
   "outputs": [],
   "source": [
    "utils.shutil.copy('/Users/laurentperrinet//science/pupil/dev/2017-12-13 accessing the data from a pupil recording.ipynb', 'posts/2017-12-13-accessing-the-data-from-a-pupil-recording.ipynb')"
   ]
  },
  {
   "cell_type": "code",
   "execution_count": null,
   "metadata": {
    "collapsed": true
   },
   "outputs": [],
   "source": [
    "titles = ['2017-03-29 testing COMPs-Pcum', '2017-03-29 testing COMPs-fastPcum', '2017-03-29 testing COMPs-fastPcum_scripted']"
   ]
  },
  {
   "cell_type": "code",
   "execution_count": null,
   "metadata": {
    "scrolled": false
   },
   "outputs": [],
   "source": [
    "tags = ', '.join(tags_list)\n",
    "for title in titles:\n",
    "    !nikola new_post -f \"{formt}\" -2 -t \"{title}\" --tags=\"{tags}\""
   ]
  },
  {
   "cell_type": "code",
   "execution_count": null,
   "metadata": {},
   "outputs": [],
   "source": [
    "for title in titles:\n",
    "    fname = utils.os.path.join('posts', utils.slugify(title) + '.' + formt)\n",
    "    print(fname)\n",
    "    import os\n",
    "    home = os.environ['HOME']\n",
    "    print(home)\n",
    "    filepath = home +  \"/science/VB_These/Rapport d'avancement/2017-03/\"\n",
    "    print(filepath + title +'.ipynb')\n",
    "    utils.shutil.copy(filepath + title +'.ipynb', fname)"
   ]
  },
  {
   "cell_type": "markdown",
   "metadata": {},
   "source": [
    "\n",
    "TODO : 2017-05-23-reproducing-olshausens-classical-sparsenet-part-5.ipynb and others from 2017-05-23-reproducing-olshausens-classical-sparsenet-part-5.ipynb\n"
   ]
  },
  {
   "cell_type": "raw",
   "metadata": {},
   "source": [
    "Below, I detail some thoughts on why it is a perfect preamble for most ipython notebooks.\n",
    "\n",
    "<!-- TEASER_END -->"
   ]
  },
  {
   "cell_type": "code",
   "execution_count": null,
   "metadata": {
    "collapsed": true
   },
   "outputs": [],
   "source": [
    "import nikola"
   ]
  },
  {
   "cell_type": "code",
   "execution_count": null,
   "metadata": {
    "collapsed": true
   },
   "outputs": [],
   "source": [
    "nikola.utils."
   ]
  },
  {
   "cell_type": "code",
   "execution_count": null,
   "metadata": {
    "collapsed": true
   },
   "outputs": [],
   "source": [
    "from nikola.plugins import commands"
   ]
  },
  {
   "cell_type": "code",
   "execution_count": null,
   "metadata": {
    "collapsed": true
   },
   "outputs": [],
   "source": [
    "plugins.absolute_import"
   ]
  },
  {
   "cell_type": "code",
   "execution_count": null,
   "metadata": {
    "collapsed": true
   },
   "outputs": [],
   "source": [
    "!nikola help new_post "
   ]
  },
  {
   "cell_type": "code",
   "execution_count": null,
   "metadata": {
    "collapsed": true
   },
   "outputs": [],
   "source": [
    "base_url = \"http://127.0.0.1:\"\n",
    "port = 8889\n",
    "\n",
    "from nikola import utils\n",
    "notebook = \"/notebooks/posts/\" + utils.slugify(unicode(title)) + \".ipynb\"  \n",
    "\n",
    "url = base_url + str(port) + notebook\n",
    "print url"
   ]
  },
  {
   "cell_type": "code",
   "execution_count": null,
   "metadata": {
    "collapsed": true
   },
   "outputs": [],
   "source": [
    "def convert(URL, DATE, TIME, TITLE, TAGS, doit=True):\n",
    "\n",
    "    TIMEDTITLE = DATE[2:] + ' ' + TITLE\n",
    "    SLUG = DATE[2:] + '-' + TITLE.replace(' ', '-')\n",
    "    tmplt = \"\"\"\\\n",
    ".. title: %s %s\n",
    ".. slug: %s\n",
    ".. date: %s %s\n",
    ".. type: text\n",
    ".. tags: %s\n",
    "    \n",
    "\"\"\" % (DATE[2:], TITLE, SLUG, DATE, TIME, TAGS)\n",
    "\n",
    "    print tmplt\n",
    "\n",
    "    if doit:\n",
    "        import os\n",
    "        print TITLE, TAGS\n",
    "        cmd = 'cd ..; nikola new_post --title=\"%s\" --tags=\"%s\"' % (TIMEDTITLE, TAGS)\n",
    "        print cmd\n",
    "        os.system(cmd)\n",
    "        f = file(SLUG + '.rst', 'w')\n",
    "        f.write(tmplt + pagerst)\n",
    "        f.close()\n",
    "    else:\n",
    "        print tmplt"
   ]
  },
  {
   "cell_type": "markdown",
   "metadata": {},
   "source": [
    "## updating dates to iso8601 : ipython notebooks"
   ]
  },
  {
   "cell_type": "code",
   "execution_count": null,
   "metadata": {
    "collapsed": true,
    "scrolled": true
   },
   "outputs": [],
   "source": [
    "import glob, os, shutil\n",
    "from nikola import utils\n",
    "\n",
    "for fname in glob.glob(\"posts/14*.ipynb\"):\n",
    "    ROOT, FILE = os.path.split(fname)\n",
    "    SLUG = 'posts/' + FILE.replace('.ipynb', '.meta')\n",
    "    FILE_new = 'posts/20' + FILE\n",
    "    SLUG_new = 'posts/20' + FILE.replace('.ipynb', '.meta')\n",
    "    print(SLUG)\n",
    "    meta = ''\n",
    "    with open(SLUG, 'r') as f: \n",
    "        for line in f.readlines():\n",
    "            meta += line.replace(' 14-', ' 2014-')\n",
    "    print(FILE_new, SLUG_new)\n",
    "    print(meta)\n",
    "    if True:\n",
    "        with open(SLUG_new, 'w') as f: f.write(meta)\n",
    "        shutil.copy( 'posts/' + FILE, FILE_new)\n",
    "        os.remove('posts/' + FILE)\n",
    "        os.remove(SLUG)"
   ]
  },
  {
   "cell_type": "markdown",
   "metadata": {},
   "source": [
    "## updating dates to iso8601 : other posts"
   ]
  },
  {
   "cell_type": "code",
   "execution_count": null,
   "metadata": {
    "collapsed": true
   },
   "outputs": [],
   "source": [
    "import glob, os, shutil\n",
    "from nikola import utils\n",
    "\n",
    "for YEAR in [\"10\", \"11\", \"12\", \"13\", \"14\"]:\n",
    "    for fname in glob.glob(\"posts/\"+ YEAR + \"-*.txt\"):\n",
    "        ROOT, FILE = os.path.split(fname)\n",
    "        FILE_new = 'posts/20' + FILE\n",
    "        print(FILE_new)\n",
    "        if True:\n",
    "            shutil.copy( 'posts/' + FILE, FILE_new)\n",
    "            os.remove('posts/' + FILE)\n"
   ]
  },
  {
   "cell_type": "code",
   "execution_count": null,
   "metadata": {
    "collapsed": true,
    "scrolled": true
   },
   "outputs": [],
   "source": [
    "import glob, os, shutil\n",
    "from nikola import utils\n",
    "\n",
    "for ext in [\"*.txt\", \"*.rst\"]:\n",
    "    for YEAR in [\"06\", \"07\", \"08\", \"09\", \"10\", \"11\", \"12\", \"13\", \"14\", \"15\"]:\n",
    "        for fname in glob.glob(\"posts/20\"+ YEAR + ext):\n",
    "            ROOT, FILE = os.path.split(fname)\n",
    "            post = ''\n",
    "            with open('posts/' + FILE, 'r') as f: \n",
    "                for line in f.readlines():\n",
    "                    line = line.replace(' '+ YEAR + '-', ' 20'+ YEAR + '-')\n",
    "                    for YEAR_ in [\"10\", \"11\", \"12\", \"13\", \"14\"]:\n",
    "                        line = line.replace('<'+ YEAR_ + '-', '<20'+ YEAR_ + '-')\n",
    "                    post += line\n",
    "            print(FILE)\n",
    "            if True:\n",
    "                with open('posts/' + FILE, 'w') as f: f.write(post)\n",
    "            else:\n",
    "                print(post)\n"
   ]
  },
  {
   "cell_type": "markdown",
   "metadata": {},
   "source": [
    "# deploying changes"
   ]
  },
  {
   "cell_type": "raw",
   "metadata": {},
   "source": [
    "!nikola clean"
   ]
  },
  {
   "cell_type": "code",
   "execution_count": 7,
   "metadata": {},
   "outputs": [
    {
     "name": "stdout",
     "output_type": "stream",
     "text": [
      "On branch master\n",
      "Your branch is up to date with 'origin/master'.\n",
      "\n",
      "Changes not staged for commit:\n",
      "  (use \"git add <file>...\" to update what will be committed)\n",
      "  (use \"git checkout -- <file>...\" to discard changes in working directory)\n",
      "\n",
      "\t\u001b[32mmodified:   bootstrapPost.ipynb\u001b[m\n",
      "\t\u001b[32mmodified:   posts/2016-07-14_static-motion-clouds.ipynb\u001b[m\n",
      "\t\u001b[32mmodified:   posts/2018-12-13-sparse-coding-using-fista.ipynb\u001b[m\n",
      "\n",
      "Untracked files:\n",
      "  (use \"git add <file>...\" to include in what will be committed)\n",
      "\n",
      "\t\u001b[36mfiles/static.mp4\u001b[m\n",
      "\t\u001b[36mfiles/static.png\u001b[m\n",
      "\t\u001b[36mfiles/static_cube.png\u001b[m\n",
      "\n",
      "no changes added to commit (use \"git add\" and/or \"git commit -a\")\n"
     ]
    }
   ],
   "source": [
    "!git status"
   ]
  },
  {
   "cell_type": "raw",
   "metadata": {},
   "source": [
    "!ls -R files"
   ]
  },
  {
   "cell_type": "code",
   "execution_count": 8,
   "metadata": {
    "scrolled": false
   },
   "outputs": [
    {
     "name": "stdout",
     "output_type": "stream",
     "text": [
      "Scanning posts.........done!\n",
      ".  copy_files:docs/files/static.png\n",
      ".  copy_files:docs/files/static_cube.png\n",
      ".  copy_files:docs/files/static.mp4\n",
      ".  tx3_tag_cloud:docs/assets/css/tx3-tag-cloud.css\n",
      ".  tx3_tag_cloud:docs/assets/js/tx3-tag-cloud.js\n",
      ".  tx3_tag_cloud:docs/assets/js/jquery.tx3-tag-cloud.js\n",
      ".  render_posts:timeline_changes\n",
      ".  render_posts:cache/posts/2018-12-13-sparse-coding-using-fista.html\n",
      ".  render_posts:cache/posts/2016-07-14_static-motion-clouds.html\n",
      ".  render_sources:docs/posts/2018-12-23-origins-of-the-von-mises-distribution.ipynb\n",
      ".  render_sources:docs/posts/2018-12-13-sparse-coding-using-fista.ipynb\n",
      ".  render_sources:docs/posts/2016-07-14_static-motion-clouds.ipynb\n",
      ".  render_listings:docs/listings/index.html\n",
      ".  render_taxonomies:docs/index.html\n",
      ".  render_taxonomies:docs/categories/motionclouds.html\n",
      ".  render_taxonomies:docs/archive.html\n",
      ".  render_pages:docs/posts/2018-12-23-origins-of-the-von-mises-distribution.html\n",
      ".  render_pages:docs/posts/2018-12-13-sparse-coding-using-fista.html\n",
      ".  render_pages:docs/posts/2016-07-14_static-motion-clouds.html\n",
      ".  render_taxonomies:docs/rss.xml\n",
      ".  render_taxonomies:docs/categories/motionclouds.xml\n",
      ".  sitemap:docs/sitemap.xml\n",
      ".  sitemap:docs/sitemapindex.xml\n",
      "\u001b[0m"
     ]
    }
   ],
   "source": [
    "!nikola build"
   ]
  },
  {
   "cell_type": "code",
   "execution_count": 9,
   "metadata": {
    "scrolled": true
   },
   "outputs": [
    {
     "name": "stdout",
     "output_type": "stream",
     "text": [
      "Scanning posts.........done!\n",
      "\u001b[33;01m[2019-03-14T12:54:47Z] NOTICE: deploy: Deleted 2 posts due to DEPLOY_* settings\u001b[39;49;00m\n",
      "\u001b[37m[2019-03-14T12:54:47Z] INFO: deploy: => preset 'default'\u001b[39;49;00m\n",
      "\u001b[37m[2019-03-14T12:54:47Z] INFO: deploy: ==> git add posts/* docs/* files/*\u001b[39;49;00m\n",
      "\u001b[37m[2019-03-14T12:54:48Z] INFO: deploy: ==> git commit -am' updating site'\u001b[39;49;00m\n",
      "[master beecd58]  updating site\n",
      " 15 files changed, 3841 insertions(+), 3483 deletions(-)\n",
      " create mode 100644 docs/files/static.mp4\n",
      " create mode 100644 docs/files/static.png\n",
      " create mode 100644 docs/files/static_cube.png\n",
      " create mode 100644 files/static.mp4\n",
      " create mode 100644 files/static.png\n",
      " create mode 100644 files/static_cube.png\n",
      "\u001b[37m[2019-03-14T12:54:48Z] INFO: deploy: ==> git push\u001b[39;49;00m\n",
      "Enumerating objects: 34, done.\n",
      "Counting objects: 100% (34/34), done.\n",
      "Delta compression using up to 36 threads\n",
      "Compressing objects: 100% (19/19), done.\n",
      "Writing objects: 100% (19/19), 319.97 KiB | 5.92 MiB/s, done.\n",
      "Total 19 (delta 14), reused 0 (delta 0)\n",
      "remote: Resolving deltas: 100% (14/14), completed with 13 local objects.\u001b[K\n",
      "To https://github.com/laurentperrinet/sciblog.git\n",
      "   5a095d4..beecd58  master -> master\n",
      "\u001b[37m[2019-03-14T12:54:52Z] INFO: deploy: Successful deployment\u001b[39;49;00m\n",
      "\u001b[0m"
     ]
    }
   ],
   "source": [
    "!nikola deploy"
   ]
  },
  {
   "cell_type": "raw",
   "metadata": {},
   "source": [
    "import time\n",
    "time.sleep(3600*0)"
   ]
  },
  {
   "cell_type": "code",
   "execution_count": 12,
   "metadata": {
    "scrolled": false
   },
   "outputs": [
    {
     "name": "stdout",
     "output_type": "stream",
     "text": [
      "Scanning posts.........done!\n",
      ".  render_posts:timeline_changes\n",
      ".  render_posts:cache/posts/2016-11-17-finding-extremal-values-in-a-nd-array.html\n",
      ".  render_sources:docs/posts/2018-12-23-origins-of-the-von-mises-distribution.ipynb\n",
      ".  render_sources:docs/posts/2018-12-13-sparse-coding-using-fista.ipynb\n",
      ".  render_sources:docs/posts/2016-11-17-finding-extremal-values-in-a-nd-array.ipynb\n",
      ".  render_taxonomies:docs/categories/numpy.html\n",
      ".  render_taxonomies:docs/categories/open-science.html\n",
      ".  render_taxonomies:docs/categories/ipython.html\n",
      ".  render_taxonomies:docs/categories/blog.html\n",
      ".  render_taxonomies:docs/index.html\n",
      ".  render_taxonomies:docs/categories/python.html\n",
      ".  render_taxonomies:docs/archive.html\n",
      ".  render_pages:docs/posts/2018-12-23-origins-of-the-von-mises-distribution.html\n",
      ".  render_pages:docs/posts/2018-12-13-sparse-coding-using-fista.html\n",
      ".  render_pages:docs/posts/2016-11-17-finding-extremal-values-in-a-nd-array.html\n",
      ".  render_taxonomies:docs/categories/numpy.xml\n",
      ".  render_taxonomies:docs/categories/ipython.xml\n",
      ".  render_taxonomies:docs/categories/open-science.xml\n",
      ".  render_taxonomies:docs/categories/python.xml\n",
      ".  render_taxonomies:docs/rss.xml\n",
      ".  render_taxonomies:docs/categories/blog.xml\n",
      ".  sitemap:docs/sitemap.xml\n",
      ".  sitemap:docs/sitemapindex.xml\n",
      "\u001b[0mScanning posts.........done!\n",
      "\u001b[33;01m[2019-03-15T09:35:13Z] NOTICE: deploy: Deleted 2 posts due to DEPLOY_* settings\u001b[39;49;00m\n",
      "\u001b[37m[2019-03-15T09:35:13Z] INFO: deploy: => preset 'default'\u001b[39;49;00m\n",
      "\u001b[37m[2019-03-15T09:35:13Z] INFO: deploy: ==> git add posts/* docs/* files/*\u001b[39;49;00m\n",
      "\u001b[37m[2019-03-15T09:35:13Z] INFO: deploy: ==> git commit -am' updating site'\u001b[39;49;00m\n",
      "[master 48b22d3]  updating site\n",
      " 13 files changed, 888 insertions(+), 270 deletions(-)\n",
      "\u001b[37m[2019-03-15T09:35:13Z] INFO: deploy: ==> git push\u001b[39;49;00m\n",
      "Enumerating objects: 35, done.\n",
      "Counting objects: 100% (35/35), done.\n",
      "Delta compression using up to 36 threads\n",
      "Compressing objects: 100% (18/18), done.\n",
      "Writing objects: 100% (18/18), 8.67 KiB | 1.44 MiB/s, done.\n",
      "Total 18 (delta 17), reused 0 (delta 0)\n",
      "remote: Resolving deltas: 100% (17/17), completed with 15 local objects.\u001b[K\n",
      "To https://github.com/laurentperrinet/sciblog.git\n",
      "   d657931..48b22d3  master -> master\n",
      "\u001b[37m[2019-03-15T09:35:16Z] INFO: deploy: Successful deployment\u001b[39;49;00m\n",
      "\u001b[0m"
     ]
    }
   ],
   "source": [
    "!nikola build ; nikola deploy"
   ]
  },
  {
   "cell_type": "code",
   "execution_count": null,
   "metadata": {},
   "outputs": [],
   "source": [
    "!git status"
   ]
  },
  {
   "cell_type": "code",
   "execution_count": null,
   "metadata": {
    "collapsed": true
   },
   "outputs": [],
   "source": [
    "!open https://laurentperrinet.github.io/sciblog"
   ]
  }
 ],
 "metadata": {
  "kernelspec": {
   "display_name": "Python 3",
   "language": "python",
   "name": "python3"
  },
  "language_info": {
   "codemirror_mode": {
    "name": "ipython",
    "version": 3
   },
   "file_extension": ".py",
   "mimetype": "text/x-python",
   "name": "python",
   "nbconvert_exporter": "python",
   "pygments_lexer": "ipython3",
   "version": "3.7.2"
  },
  "toc": {
   "base_numbering": 1,
   "nav_menu": {
    "height": "117px",
    "width": "252px"
   },
   "number_sections": true,
   "sideBar": true,
   "skip_h1_title": false,
   "title_cell": "Table of Contents",
   "title_sidebar": "Contents",
   "toc_cell": false,
   "toc_position": {},
   "toc_section_display": "block",
   "toc_window_display": false
  }
 },
 "nbformat": 4,
 "nbformat_minor": 2
}
