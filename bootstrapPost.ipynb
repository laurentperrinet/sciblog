{
 "cells": [
  {
   "cell_type": "markdown",
   "metadata": {},
   "source": [
    "# installing and updating nikola"
   ]
  },
  {
   "cell_type": "code",
   "execution_count": 1,
   "metadata": {
    "ExecuteTime": {
     "end_time": "2018-09-07T10:25:40.747475Z",
     "start_time": "2018-09-07T10:25:38.376282Z"
    }
   },
   "outputs": [
    {
     "name": "stdout",
     "output_type": "stream",
     "text": [
      "Error processing line 1 of /usr/local/Cellar/python@3.9/3.9.15/Frameworks/Python.framework/Versions/3.9/lib/python3.9/site-packages/protobuf-3.14.0-nspkg.pth:\n",
      "\n",
      "  Traceback (most recent call last):\n",
      "    File \"/usr/local/Cellar/python@3.9/3.9.15/Frameworks/Python.framework/Versions/3.9/lib/python3.9/site.py\", line 169, in addpackage\n",
      "      exec(line)\n",
      "    File \"<string>\", line 1, in <module>\n",
      "    File \"<frozen importlib._bootstrap>\", line 562, in module_from_spec\n",
      "  AttributeError: 'NoneType' object has no attribute 'loader'\n",
      "\n",
      "Remainder of file ignored\n",
      "Nikola v8.2.2\n",
      "The latest version of Nikola is v8.2.3. Please upgrade using `pip install --upgrade Nikola==8.2.3` or your system package manager.\n"
     ]
    }
   ],
   "source": [
    "!nikola version --check"
   ]
  },
  {
   "cell_type": "code",
   "execution_count": 2,
   "metadata": {},
   "outputs": [],
   "source": [
    "# %conda install -c asmeurer nikola"
   ]
  },
  {
   "cell_type": "code",
   "execution_count": 2,
   "metadata": {},
   "outputs": [
    {
     "name": "stdout",
     "output_type": "stream",
     "text": [
      "Found existing installation: Nikola 8.1.3\n",
      "Uninstalling Nikola-8.1.3:\n",
      "  Successfully uninstalled Nikola-8.1.3\n"
     ]
    }
   ],
   "source": [
    "!python3 -m pip uninstall -y nikola"
   ]
  },
  {
   "cell_type": "code",
   "execution_count": 3,
   "metadata": {
    "ExecuteTime": {
     "end_time": "2018-09-07T10:24:17.333057Z",
     "start_time": "2018-09-07T10:24:14.585077Z"
    }
   },
   "outputs": [
    {
     "name": "stdout",
     "output_type": "stream",
     "text": [
      "Requirement already satisfied: lxml in /usr/local/lib/python3.10/site-packages (4.9.1)\n",
      "Collecting lxml\n",
      "  Downloading lxml-4.9.2-cp310-cp310-macosx_10_15_x86_64.whl (4.7 MB)\n",
      "\u001b[2K     \u001b[90m━━━━━━━━━━━━━━━━━━━━━━━━━━━━━━━━━━━━━━━━\u001b[0m \u001b[32m4.7/4.7 MB\u001b[0m \u001b[31m33.9 MB/s\u001b[0m eta \u001b[36m0:00:00\u001b[0m00:01\u001b[0m00:01\u001b[0m\n",
      "\u001b[?25hCollecting Nikola[extras]\n",
      "  Downloading Nikola-8.2.3-py3-none-any.whl (1.4 MB)\n",
      "\u001b[2K     \u001b[90m━━━━━━━━━━━━━━━━━━━━━━━━━━━━━━━━━━━━━━━━\u001b[0m \u001b[32m1.4/1.4 MB\u001b[0m \u001b[31m37.4 MB/s\u001b[0m eta \u001b[36m0:00:00\u001b[0m:00:01\u001b[0m\n",
      "\u001b[?25hRequirement already satisfied: requests>=2.2.0 in /usr/local/lib/python3.10/site-packages (from Nikola[extras]) (2.28.2)\n",
      "Requirement already satisfied: python-dateutil>=2.6.0 in /Users/laurentperrinet/Library/Python/3.10/lib/python/site-packages (from Nikola[extras]) (2.8.2)\n",
      "Collecting natsort>=3.5.2\n",
      "  Downloading natsort-8.2.0-py3-none-any.whl (37 kB)\n",
      "Collecting PyRSS2Gen>=1.1\n",
      "  Using cached PyRSS2Gen-1.1.tar.gz (6.9 kB)\n",
      "  Preparing metadata (setup.py) ... \u001b[?25ldone\n",
      "\u001b[?25hRequirement already satisfied: Markdown>=3.0.0 in /usr/local/lib/python3.10/site-packages (from Nikola[extras]) (3.4.1)\n",
      "Collecting doit>=0.32.0\n",
      "  Downloading doit-0.36.0-py3-none-any.whl (85 kB)\n",
      "\u001b[2K     \u001b[90m━━━━━━━━━━━━━━━━━━━━━━━━━━━━━━━━━━━━━━━━\u001b[0m \u001b[32m85.9/85.9 kB\u001b[0m \u001b[31m3.4 MB/s\u001b[0m eta \u001b[36m0:00:00\u001b[0m\n",
      "\u001b[?25hCollecting blinker>=1.3\n",
      "  Downloading blinker-1.5-py2.py3-none-any.whl (12 kB)\n",
      "Collecting piexif>=1.0.3\n",
      "  Using cached piexif-1.1.3-py2.py3-none-any.whl (20 kB)\n",
      "Collecting docutils>=0.13\n",
      "  Downloading docutils-0.19-py3-none-any.whl (570 kB)\n",
      "\u001b[2K     \u001b[90m━━━━━━━━━━━━━━━━━━━━━━━━━━━━━━━━━━━━━━\u001b[0m \u001b[32m570.5/570.5 kB\u001b[0m \u001b[31m21.9 MB/s\u001b[0m eta \u001b[36m0:00:00\u001b[0m\n",
      "\u001b[?25hRequirement already satisfied: setuptools>=24.2.0 in /usr/local/lib/python3.10/site-packages (from Nikola[extras]) (65.4.1)\n",
      "Requirement already satisfied: Babel>=2.6.0 in /usr/local/lib/python3.10/site-packages (from Nikola[extras]) (2.10.3)\n",
      "Requirement already satisfied: Pygments>=1.6 in /Users/laurentperrinet/Library/Python/3.10/lib/python/site-packages (from Nikola[extras]) (2.14.0)\n",
      "Collecting mako>=1.0.0\n",
      "  Downloading Mako-1.2.4-py3-none-any.whl (78 kB)\n",
      "\u001b[2K     \u001b[90m━━━━━━━━━━━━━━━━━━━━━━━━━━━━━━━━━━━━━━━━\u001b[0m \u001b[32m78.7/78.7 kB\u001b[0m \u001b[31m3.3 MB/s\u001b[0m eta \u001b[36m0:00:00\u001b[0m\n",
      "\u001b[?25hRequirement already satisfied: Pillow>=2.4.0 in /usr/local/lib/python3.10/site-packages (from Nikola[extras]) (9.2.0)\n",
      "Collecting unidecode>=0.04.16\n",
      "  Downloading Unidecode-1.3.6-py3-none-any.whl (235 kB)\n",
      "\u001b[2K     \u001b[90m━━━━━━━━━━━━━━━━━━━━━━━━━━━━━━━━━━━━━━\u001b[0m \u001b[32m235.9/235.9 kB\u001b[0m \u001b[31m10.1 MB/s\u001b[0m eta \u001b[36m0:00:00\u001b[0m\n",
      "\u001b[?25hCollecting Yapsy>=1.11.223\n",
      "  Using cached Yapsy-1.12.2.tar.gz (83 kB)\n",
      "  Preparing metadata (setup.py) ... \u001b[?25ldone\n",
      "\u001b[?25hRequirement already satisfied: notebook>=4.0.0 in /usr/local/lib/python3.10/site-packages (from Nikola[extras]) (6.5.2)\n",
      "Collecting typogrify>=2.0.4\n",
      "  Using cached typogrify-2.0.7.tar.gz (12 kB)\n",
      "  Preparing metadata (setup.py) ... \u001b[?25ldone\n",
      "\u001b[?25hCollecting html5lib>=1.0\n",
      "  Using cached html5lib-1.1-py2.py3-none-any.whl (112 kB)\n",
      "Requirement already satisfied: ruamel.yaml>=0.15 in /usr/local/lib/python3.10/site-packages (from Nikola[extras]) (0.16.10)\n",
      "Collecting pygal>=2.0.0\n",
      "  Downloading pygal-3.0.0-py2.py3-none-any.whl (129 kB)\n",
      "\u001b[2K     \u001b[90m━━━━━━━━━━━━━━━━━━━━━━━━━━━━━━━━━━━━━━━\u001b[0m \u001b[32m129.4/129.4 kB\u001b[0m \u001b[31m5.6 MB/s\u001b[0m eta \u001b[36m0:00:00\u001b[0m\n",
      "\u001b[?25hCollecting watchdog>=0.8.3\n",
      "  Downloading watchdog-2.2.1-cp310-cp310-macosx_10_9_x86_64.whl (88 kB)\n",
      "\u001b[2K     \u001b[90m━━━━━━━━━━━━━━━━━━━━━━━━━━━━━━━━━━━━━━━━\u001b[0m \u001b[32m88.2/88.2 kB\u001b[0m \u001b[31m3.2 MB/s\u001b[0m eta \u001b[36m0:00:00\u001b[0m\n",
      "\u001b[?25hCollecting pyphen>=0.9.1\n",
      "  Downloading pyphen-0.13.2-py3-none-any.whl (2.0 MB)\n",
      "\u001b[2K     \u001b[90m━━━━━━━━━━━━━━━━━━━━━━━━━━━━━━━━━━━━━━━━\u001b[0m \u001b[32m2.0/2.0 MB\u001b[0m \u001b[31m46.7 MB/s\u001b[0m eta \u001b[36m0:00:00\u001b[0m:00:01\u001b[0m\n",
      "\u001b[?25hCollecting micawber>=0.3.0\n",
      "  Downloading micawber-0.5.4.tar.gz (18 kB)\n",
      "  Preparing metadata (setup.py) ... \u001b[?25ldone\n",
      "\u001b[?25hRequirement already satisfied: ipykernel>=4.0.0 in /Users/laurentperrinet/Library/Python/3.10/lib/python/site-packages (from Nikola[extras]) (6.20.1)\n",
      "Requirement already satisfied: Jinja2>=2.7.2 in /usr/local/lib/python3.10/site-packages (from Nikola[extras]) (3.1.2)\n",
      "Collecting ghp-import>=1.0.0\n",
      "  Downloading ghp_import-2.1.0-py3-none-any.whl (11 kB)\n",
      "Collecting phpserialize>=1.3\n",
      "  Using cached phpserialize-1.3.tar.gz (7.5 kB)\n",
      "  Preparing metadata (setup.py) ... \u001b[?25ldone\n",
      "\u001b[?25hRequirement already satisfied: toml>=0.9.2 in /usr/local/Cellar/sip/6.7.4/libexec/lib/python3.10/site-packages (from Nikola[extras]) (0.10.2)\n",
      "Collecting aiohttp>=3.0.0\n",
      "  Downloading aiohttp-3.8.3-cp310-cp310-macosx_10_9_x86_64.whl (358 kB)\n",
      "\u001b[2K     \u001b[90m━━━━━━━━━━━━━━━━━━━━━━━━━━━━━━━━━━━━━━\u001b[0m \u001b[32m358.3/358.3 kB\u001b[0m \u001b[31m13.9 MB/s\u001b[0m eta \u001b[36m0:00:00\u001b[0m\n",
      "\u001b[?25hRequirement already satisfied: hsluv>=5.0.0 in /usr/local/lib/python3.10/site-packages (from Nikola[extras]) (5.0.3)\n",
      "Requirement already satisfied: attrs>=17.3.0 in /usr/local/lib/python3.10/site-packages (from aiohttp>=3.0.0->Nikola[extras]) (22.1.0)\n",
      "Collecting async-timeout<5.0,>=4.0.0a3\n",
      "  Downloading async_timeout-4.0.2-py3-none-any.whl (5.8 kB)\n",
      "Collecting yarl<2.0,>=1.0\n",
      "  Downloading yarl-1.8.2-cp310-cp310-macosx_10_9_x86_64.whl (61 kB)\n",
      "\u001b[2K     \u001b[90m━━━━━━━━━━━━━━━━━━━━━━━━━━━━━━━━━━━━━━━━\u001b[0m \u001b[32m61.0/61.0 kB\u001b[0m \u001b[31m2.3 MB/s\u001b[0m eta \u001b[36m0:00:00\u001b[0m\n",
      "\u001b[?25hRequirement already satisfied: charset-normalizer<3.0,>=2.0 in /usr/local/lib/python3.10/site-packages (from aiohttp>=3.0.0->Nikola[extras]) (2.1.1)\n",
      "Collecting multidict<7.0,>=4.5\n",
      "  Downloading multidict-6.0.4-cp310-cp310-macosx_10_9_x86_64.whl (29 kB)\n",
      "Collecting frozenlist>=1.1.1\n",
      "  Downloading frozenlist-1.3.3-cp310-cp310-macosx_10_9_x86_64.whl (35 kB)\n",
      "Collecting aiosignal>=1.1.2\n",
      "  Downloading aiosignal-1.3.1-py3-none-any.whl (7.6 kB)\n",
      "Requirement already satisfied: pytz>=2015.7 in /usr/local/lib/python3.10/site-packages (from Babel>=2.6.0->Nikola[extras]) (2022.2.1)\n",
      "Collecting cloudpickle\n",
      "  Downloading cloudpickle-2.2.1-py3-none-any.whl (25 kB)\n",
      "Collecting importlib-metadata>=4.4\n",
      "  Downloading importlib_metadata-6.0.0-py3-none-any.whl (21 kB)\n",
      "Requirement already satisfied: six>=1.9 in /usr/local/lib/python3.10/site-packages (from html5lib>=1.0->Nikola[extras]) (1.16.0)\n",
      "Requirement already satisfied: webencodings in /usr/local/lib/python3.10/site-packages (from html5lib>=1.0->Nikola[extras]) (0.5.1)\n",
      "Requirement already satisfied: nest-asyncio in /Users/laurentperrinet/Library/Python/3.10/lib/python/site-packages (from ipykernel>=4.0.0->Nikola[extras]) (1.5.6)\n",
      "Requirement already satisfied: jupyter-client>=6.1.12 in /Users/laurentperrinet/Library/Python/3.10/lib/python/site-packages (from ipykernel>=4.0.0->Nikola[extras]) (7.4.9)\n",
      "Requirement already satisfied: tornado>=6.1 in /Users/laurentperrinet/Library/Python/3.10/lib/python/site-packages (from ipykernel>=4.0.0->Nikola[extras]) (6.2)\n",
      "Requirement already satisfied: appnope in /Users/laurentperrinet/Library/Python/3.10/lib/python/site-packages (from ipykernel>=4.0.0->Nikola[extras]) (0.1.3)\n",
      "Requirement already satisfied: matplotlib-inline>=0.1 in /Users/laurentperrinet/Library/Python/3.10/lib/python/site-packages (from ipykernel>=4.0.0->Nikola[extras]) (0.1.6)\n",
      "Requirement already satisfied: ipython>=7.23.1 in /Users/laurentperrinet/Library/Python/3.10/lib/python/site-packages (from ipykernel>=4.0.0->Nikola[extras]) (8.8.0)\n",
      "Requirement already satisfied: comm>=0.1.1 in /Users/laurentperrinet/Library/Python/3.10/lib/python/site-packages (from ipykernel>=4.0.0->Nikola[extras]) (0.1.2)\n",
      "Requirement already satisfied: pyzmq>=17 in /Users/laurentperrinet/Library/Python/3.10/lib/python/site-packages (from ipykernel>=4.0.0->Nikola[extras]) (25.0.0)\n",
      "Requirement already satisfied: packaging in /usr/local/Cellar/sip/6.7.4/libexec/lib/python3.10/site-packages (from ipykernel>=4.0.0->Nikola[extras]) (21.3)\n",
      "Requirement already satisfied: traitlets>=5.4.0 in /Users/laurentperrinet/Library/Python/3.10/lib/python/site-packages (from ipykernel>=4.0.0->Nikola[extras]) (5.8.1)\n",
      "Requirement already satisfied: debugpy>=1.0 in /Users/laurentperrinet/Library/Python/3.10/lib/python/site-packages (from ipykernel>=4.0.0->Nikola[extras]) (1.6.5)\n",
      "Requirement already satisfied: psutil in /Users/laurentperrinet/Library/Python/3.10/lib/python/site-packages (from ipykernel>=4.0.0->Nikola[extras]) (5.9.4)\n",
      "Requirement already satisfied: MarkupSafe>=2.0 in /usr/local/lib/python3.10/site-packages (from Jinja2>=2.7.2->Nikola[extras]) (2.1.1)\n",
      "Requirement already satisfied: ipython-genutils in /usr/local/lib/python3.10/site-packages (from notebook>=4.0.0->Nikola[extras]) (0.2.0)\n",
      "Requirement already satisfied: nbconvert>=5 in /usr/local/lib/python3.10/site-packages (from notebook>=4.0.0->Nikola[extras]) (7.0.0)\n",
      "Requirement already satisfied: nbformat in /usr/local/lib/python3.10/site-packages (from notebook>=4.0.0->Nikola[extras]) (5.4.0)\n",
      "Requirement already satisfied: jupyter-core>=4.6.1 in /Users/laurentperrinet/Library/Python/3.10/lib/python/site-packages (from notebook>=4.0.0->Nikola[extras]) (5.1.3)\n",
      "Requirement already satisfied: prometheus-client in /usr/local/lib/python3.10/site-packages (from notebook>=4.0.0->Nikola[extras]) (0.14.1)\n",
      "Requirement already satisfied: Send2Trash>=1.8.0 in /usr/local/lib/python3.10/site-packages (from notebook>=4.0.0->Nikola[extras]) (1.8.0)\n",
      "Requirement already satisfied: terminado>=0.8.3 in /usr/local/lib/python3.10/site-packages (from notebook>=4.0.0->Nikola[extras]) (0.15.0)\n",
      "Requirement already satisfied: nbclassic>=0.4.7 in /usr/local/lib/python3.10/site-packages (from notebook>=4.0.0->Nikola[extras]) (0.4.8)\n",
      "Requirement already satisfied: argon2-cffi in /usr/local/lib/python3.10/site-packages (from notebook>=4.0.0->Nikola[extras]) (21.3.0)\n",
      "Requirement already satisfied: idna<4,>=2.5 in /usr/local/lib/python3.10/site-packages (from requests>=2.2.0->Nikola[extras]) (3.3)\n",
      "Requirement already satisfied: certifi>=2017.4.17 in /usr/local/lib/python3.10/site-packages (from requests>=2.2.0->Nikola[extras]) (2022.6.15)\n",
      "Requirement already satisfied: urllib3<1.27,>=1.21.1 in /usr/local/lib/python3.10/site-packages (from requests>=2.2.0->Nikola[extras]) (1.26.12)\n",
      "Collecting smartypants>=1.8.3\n",
      "  Using cached smartypants-2.0.1-py2.py3-none-any.whl (9.9 kB)\n",
      "Collecting zipp>=0.5\n",
      "  Downloading zipp-3.12.0-py3-none-any.whl (6.6 kB)\n",
      "Requirement already satisfied: jedi>=0.16 in /Users/laurentperrinet/Library/Python/3.10/lib/python/site-packages (from ipython>=7.23.1->ipykernel>=4.0.0->Nikola[extras]) (0.18.2)\n",
      "Requirement already satisfied: pexpect>4.3 in /Users/laurentperrinet/Library/Python/3.10/lib/python/site-packages (from ipython>=7.23.1->ipykernel>=4.0.0->Nikola[extras]) (4.8.0)\n",
      "Requirement already satisfied: backcall in /Users/laurentperrinet/Library/Python/3.10/lib/python/site-packages (from ipython>=7.23.1->ipykernel>=4.0.0->Nikola[extras]) (0.2.0)\n",
      "Requirement already satisfied: decorator in /Users/laurentperrinet/Library/Python/3.10/lib/python/site-packages (from ipython>=7.23.1->ipykernel>=4.0.0->Nikola[extras]) (5.1.1)\n",
      "Requirement already satisfied: stack-data in /Users/laurentperrinet/Library/Python/3.10/lib/python/site-packages (from ipython>=7.23.1->ipykernel>=4.0.0->Nikola[extras]) (0.6.2)\n",
      "Requirement already satisfied: prompt-toolkit<3.1.0,>=3.0.11 in /Users/laurentperrinet/Library/Python/3.10/lib/python/site-packages (from ipython>=7.23.1->ipykernel>=4.0.0->Nikola[extras]) (3.0.36)\n",
      "Requirement already satisfied: pickleshare in /Users/laurentperrinet/Library/Python/3.10/lib/python/site-packages (from ipython>=7.23.1->ipykernel>=4.0.0->Nikola[extras]) (0.7.5)\n",
      "Requirement already satisfied: entrypoints in /Users/laurentperrinet/Library/Python/3.10/lib/python/site-packages (from jupyter-client>=6.1.12->ipykernel>=4.0.0->Nikola[extras]) (0.4)\n",
      "Requirement already satisfied: platformdirs>=2.5 in /Users/laurentperrinet/Library/Python/3.10/lib/python/site-packages (from jupyter-core>=4.6.1->notebook>=4.0.0->Nikola[extras]) (2.6.2)\n",
      "Requirement already satisfied: notebook-shim>=0.1.0 in /usr/local/lib/python3.10/site-packages (from nbclassic>=0.4.7->notebook>=4.0.0->Nikola[extras]) (0.1.0)\n",
      "Requirement already satisfied: jupyter-server>=1.8 in /usr/local/lib/python3.10/site-packages (from nbclassic>=0.4.7->notebook>=4.0.0->Nikola[extras]) (1.18.1)\n",
      "Requirement already satisfied: beautifulsoup4 in /usr/local/lib/python3.10/site-packages (from nbconvert>=5->notebook>=4.0.0->Nikola[extras]) (4.11.1)\n",
      "Requirement already satisfied: mistune<3,>=2.0.3 in /usr/local/lib/python3.10/site-packages (from nbconvert>=5->notebook>=4.0.0->Nikola[extras]) (2.0.4)\n",
      "Requirement already satisfied: jupyterlab-pygments in /usr/local/lib/python3.10/site-packages (from nbconvert>=5->notebook>=4.0.0->Nikola[extras]) (0.2.2)\n",
      "Requirement already satisfied: bleach in /usr/local/lib/python3.10/site-packages (from nbconvert>=5->notebook>=4.0.0->Nikola[extras]) (5.0.1)\n",
      "Requirement already satisfied: nbclient>=0.5.0 in /usr/local/lib/python3.10/site-packages (from nbconvert>=5->notebook>=4.0.0->Nikola[extras]) (0.5.13)\n",
      "Requirement already satisfied: defusedxml in /usr/local/lib/python3.10/site-packages (from nbconvert>=5->notebook>=4.0.0->Nikola[extras]) (0.7.1)\n",
      "Requirement already satisfied: pandocfilters>=1.4.1 in /usr/local/lib/python3.10/site-packages (from nbconvert>=5->notebook>=4.0.0->Nikola[extras]) (1.5.0)\n",
      "Requirement already satisfied: tinycss2 in /usr/local/lib/python3.10/site-packages (from nbconvert>=5->notebook>=4.0.0->Nikola[extras]) (1.1.1)\n",
      "Requirement already satisfied: fastjsonschema in /usr/local/lib/python3.10/site-packages (from nbformat->notebook>=4.0.0->Nikola[extras]) (2.16.1)\n",
      "Requirement already satisfied: jsonschema>=2.6 in /usr/local/lib/python3.10/site-packages (from nbformat->notebook>=4.0.0->Nikola[extras]) (4.15.0)\n",
      "Requirement already satisfied: ptyprocess in /Users/laurentperrinet/Library/Python/3.10/lib/python/site-packages (from terminado>=0.8.3->notebook>=4.0.0->Nikola[extras]) (0.7.0)\n",
      "Requirement already satisfied: argon2-cffi-bindings in /usr/local/lib/python3.10/site-packages (from argon2-cffi->notebook>=4.0.0->Nikola[extras]) (21.2.0)\n",
      "Requirement already satisfied: pyparsing!=3.0.5,>=2.0.2 in /usr/local/Cellar/sip/6.7.4/libexec/lib/python3.10/site-packages (from packaging->ipykernel>=4.0.0->Nikola[extras]) (3.0.9)\n",
      "Requirement already satisfied: parso<0.9.0,>=0.8.0 in /Users/laurentperrinet/Library/Python/3.10/lib/python/site-packages (from jedi>=0.16->ipython>=7.23.1->ipykernel>=4.0.0->Nikola[extras]) (0.8.3)\n",
      "Requirement already satisfied: pyrsistent!=0.17.0,!=0.17.1,!=0.17.2,>=0.14.0 in /usr/local/lib/python3.10/site-packages (from jsonschema>=2.6->nbformat->notebook>=4.0.0->Nikola[extras]) (0.18.1)\n",
      "Requirement already satisfied: websocket-client in /usr/local/lib/python3.10/site-packages (from jupyter-server>=1.8->nbclassic>=0.4.7->notebook>=4.0.0->Nikola[extras]) (1.4.1)\n",
      "Requirement already satisfied: anyio<4,>=3.1.0 in /usr/local/lib/python3.10/site-packages (from jupyter-server>=1.8->nbclassic>=0.4.7->notebook>=4.0.0->Nikola[extras]) (3.6.1)\n",
      "Requirement already satisfied: wcwidth in /Users/laurentperrinet/Library/Python/3.10/lib/python/site-packages (from prompt-toolkit<3.1.0,>=3.0.11->ipython>=7.23.1->ipykernel>=4.0.0->Nikola[extras]) (0.2.5)\n",
      "Requirement already satisfied: cffi>=1.0.1 in /usr/local/lib/python3.10/site-packages (from argon2-cffi-bindings->argon2-cffi->notebook>=4.0.0->Nikola[extras]) (1.15.1)\n",
      "Requirement already satisfied: soupsieve>1.2 in /usr/local/lib/python3.10/site-packages (from beautifulsoup4->nbconvert>=5->notebook>=4.0.0->Nikola[extras]) (2.3.2.post1)\n",
      "Requirement already satisfied: pure-eval in /Users/laurentperrinet/Library/Python/3.10/lib/python/site-packages (from stack-data->ipython>=7.23.1->ipykernel>=4.0.0->Nikola[extras]) (0.2.2)\n",
      "Requirement already satisfied: asttokens>=2.1.0 in /Users/laurentperrinet/Library/Python/3.10/lib/python/site-packages (from stack-data->ipython>=7.23.1->ipykernel>=4.0.0->Nikola[extras]) (2.2.1)\n",
      "Requirement already satisfied: executing>=1.2.0 in /Users/laurentperrinet/Library/Python/3.10/lib/python/site-packages (from stack-data->ipython>=7.23.1->ipykernel>=4.0.0->Nikola[extras]) (1.2.0)\n",
      "Requirement already satisfied: sniffio>=1.1 in /usr/local/lib/python3.10/site-packages (from anyio<4,>=3.1.0->jupyter-server>=1.8->nbclassic>=0.4.7->notebook>=4.0.0->Nikola[extras]) (1.3.0)\n",
      "Requirement already satisfied: pycparser in /usr/local/lib/python3.10/site-packages (from cffi>=1.0.1->argon2-cffi-bindings->argon2-cffi->notebook>=4.0.0->Nikola[extras]) (2.21)\n",
      "Building wheels for collected packages: micawber, phpserialize, PyRSS2Gen, typogrify, Yapsy\n",
      "  Building wheel for micawber (setup.py) ... \u001b[?25ldone\n",
      "\u001b[?25h  Created wheel for micawber: filename=micawber-0.5.4-py3-none-any.whl size=22350 sha256=867a05af3b2670578bec442166bd4ef450b8984a3b1c61fb10027ee292233e39\n",
      "  Stored in directory: /Users/laurentperrinet/Library/Caches/pip/wheels/cb/72/1b/059cc894d2418f98cbd8ceeaba275559d810e476da723bc572\n",
      "  Building wheel for phpserialize (setup.py) ... \u001b[?25ldone\n",
      "\u001b[?25h  Created wheel for phpserialize: filename=phpserialize-1.3-py3-none-any.whl size=9470 sha256=652c92744b6d889b5394006e0c8458f6d1744b854e140a5c3e7e9b6a77f7286d\n",
      "  Stored in directory: /Users/laurentperrinet/Library/Caches/pip/wheels/d2/08/1e/661e43007b6053db3621f1a6134d5069bf3dd8e3ff0695380f\n",
      "  Building wheel for PyRSS2Gen (setup.py) ... \u001b[?25ldone\n",
      "\u001b[?25h  Created wheel for PyRSS2Gen: filename=PyRSS2Gen-1.1-py3-none-any.whl size=4969 sha256=d9ec3bbef8e632bb89e671ff449306901060aaa090970ceff6da746efd2c7894\n",
      "  Stored in directory: /Users/laurentperrinet/Library/Caches/pip/wheels/db/76/7d/d28983d3b9fed03e60fadab1ac3c0f4967a8a33785133faa91\n",
      "  Building wheel for typogrify (setup.py) ... \u001b[?25ldone\n",
      "\u001b[?25h  Created wheel for typogrify: filename=typogrify-2.0.7-py2.py3-none-any.whl size=13438 sha256=b1eaef6d1874316d998ccdc290d23535cbfefa7510adf2f4b36683d5702f3f91\n",
      "  Stored in directory: /Users/laurentperrinet/Library/Caches/pip/wheels/f5/4a/af/3edef3d51cd1abdbbfab4cdd4a3c51dcb028790dbfe4ad3f2f\n",
      "  Building wheel for Yapsy (setup.py) ... \u001b[?25ldone\n",
      "\u001b[?25h  Created wheel for Yapsy: filename=Yapsy-1.12.2-py3-none-any.whl size=39012 sha256=e3d0a26c5386e23ccff988782a51f20d2aa07f62b3c8d0253f42be321e7c0c6a\n",
      "  Stored in directory: /Users/laurentperrinet/Library/Caches/pip/wheels/cd/84/64/63019b10e0cf89d934e0ee7bbcd9aa5c31c4d6f0f5bb382a68\n",
      "Successfully built micawber phpserialize PyRSS2Gen typogrify Yapsy\n",
      "Installing collected packages: Yapsy, smartypants, PyRSS2Gen, pygal, phpserialize, micawber, zipp, watchdog, unidecode, typogrify, pyphen, piexif, natsort, multidict, mako, lxml, html5lib, frozenlist, docutils, cloudpickle, blinker, async-timeout, yarl, importlib-metadata, ghp-import, aiosignal, doit, aiohttp, Nikola\n",
      "  Attempting uninstall: lxml\n",
      "    Found existing installation: lxml 4.9.1\n",
      "    Uninstalling lxml-4.9.1:\n",
      "      Successfully uninstalled lxml-4.9.1\n",
      "Successfully installed Nikola-8.2.3 PyRSS2Gen-1.1 Yapsy-1.12.2 aiohttp-3.8.3 aiosignal-1.3.1 async-timeout-4.0.2 blinker-1.5 cloudpickle-2.2.1 docutils-0.19 doit-0.36.0 frozenlist-1.3.3 ghp-import-2.1.0 html5lib-1.1 importlib-metadata-6.0.0 lxml-4.9.2 mako-1.2.4 micawber-0.5.4 multidict-6.0.4 natsort-8.2.0 phpserialize-1.3 piexif-1.1.3 pygal-3.0.0 pyphen-0.13.2 smartypants-2.0.1 typogrify-2.0.7 unidecode-1.3.6 watchdog-2.2.1 yarl-1.8.2 zipp-3.12.0\n",
      "Note: you may need to restart the kernel to use updated packages.\n"
     ]
    }
   ],
   "source": [
    "%pip install -U lxml \"Nikola[extras]\""
   ]
  },
  {
   "cell_type": "raw",
   "metadata": {
    "ExecuteTime": {
     "end_time": "2018-09-07T10:24:48.097536Z",
     "start_time": "2018-09-07T10:24:43.118411Z"
    }
   },
   "source": [
    "#!python3 -m pip uninstall -y rst2html5\n",
    "!python3 -m pip install -U --force rst2html5"
   ]
  },
  {
   "cell_type": "raw",
   "metadata": {
    "ExecuteTime": {
     "end_time": "2018-09-07T10:24:57.383520Z",
     "start_time": "2018-09-07T10:24:54.879696Z"
    }
   },
   "source": [
    "#!pip uninstall -y html5lib\n",
    "!python3 -m pip install -U --force html5lib"
   ]
  },
  {
   "cell_type": "code",
   "execution_count": 4,
   "metadata": {
    "ExecuteTime": {
     "end_time": "2018-09-07T10:24:57.383520Z",
     "start_time": "2018-09-07T10:24:54.879696Z"
    }
   },
   "outputs": [],
   "source": [
    "#!pip uninstall -y html5lib"
   ]
  },
  {
   "cell_type": "code",
   "execution_count": 4,
   "metadata": {
    "ExecuteTime": {
     "end_time": "2018-09-07T10:25:37.163105Z",
     "start_time": "2018-09-07T10:25:34.804602Z"
    }
   },
   "outputs": [
    {
     "name": "stdout",
     "output_type": "stream",
     "text": [
      "Nikola v8.2.3\n"
     ]
    }
   ],
   "source": [
    "!nikola version"
   ]
  },
  {
   "cell_type": "markdown",
   "metadata": {},
   "source": [
    "# Adding a new post"
   ]
  },
  {
   "cell_type": "code",
   "execution_count": 5,
   "metadata": {
    "ExecuteTime": {
     "end_time": "2018-11-05T14:34:58.343345Z",
     "start_time": "2018-11-05T14:34:58.224501Z"
    }
   },
   "outputs": [
    {
     "name": "stdout",
     "output_type": "stream",
     "text": [
      "Thu Feb  2 08:56:47 CET 2023\n"
     ]
    }
   ],
   "source": [
    "!date\n",
    "import datetime"
   ]
  },
  {
   "cell_type": "code",
   "execution_count": 6,
   "metadata": {
    "ExecuteTime": {
     "end_time": "2018-11-05T14:34:58.697822Z",
     "start_time": "2018-11-05T14:34:58.694703Z"
    }
   },
   "outputs": [
    {
     "name": "stdout",
     "output_type": "stream",
     "text": [
      "2023-02-02 08:56:48.009670\n"
     ]
    }
   ],
   "source": [
    "print(datetime.datetime.now())"
   ]
  },
  {
   "cell_type": "code",
   "execution_count": 7,
   "metadata": {
    "ExecuteTime": {
     "end_time": "2018-11-05T14:34:59.176807Z",
     "start_time": "2018-11-05T14:34:59.173942Z"
    }
   },
   "outputs": [
    {
     "name": "stdout",
     "output_type": "stream",
     "text": [
      "2023-02-02\n"
     ]
    }
   ],
   "source": [
    "now = datetime.datetime.now().date()\n",
    "date = now.isoformat()#[2:]\n",
    "print(date)"
   ]
  },
  {
   "cell_type": "raw",
   "metadata": {},
   "source": [
    "date = '2019-10-07'"
   ]
  },
  {
   "cell_type": "code",
   "execution_count": 8,
   "metadata": {
    "ExecuteTime": {
     "end_time": "2018-11-05T14:34:58.343345Z",
     "start_time": "2018-11-05T14:34:58.224501Z"
    }
   },
   "outputs": [
    {
     "name": "stdout",
     "output_type": "stream",
     "text": [
      "2023-02-02\n"
     ]
    }
   ],
   "source": [
    "import datetime\n",
    "date = datetime.datetime.now().date().isoformat()\n",
    "print(date)"
   ]
  },
  {
   "cell_type": "code",
   "execution_count": 9,
   "metadata": {},
   "outputs": [
    {
     "name": "stdout",
     "output_type": "stream",
     "text": [
      "\u001b[0;31mDocstring:\u001b[0m Return string in ISO 8601 format, YYYY-MM-DD.\n",
      "\u001b[0;31mType:\u001b[0m      builtin_function_or_method"
     ]
    }
   ],
   "source": [
    "now.isoformat?"
   ]
  },
  {
   "cell_type": "code",
   "execution_count": 10,
   "metadata": {
    "ExecuteTime": {
     "end_time": "2018-11-05T14:35:00.048738Z",
     "start_time": "2018-11-05T14:34:59.677518Z"
    }
   },
   "outputs": [],
   "source": [
    "from nikola import utils"
   ]
  },
  {
   "cell_type": "code",
   "execution_count": 11,
   "metadata": {
    "ExecuteTime": {
     "end_time": "2018-11-05T14:40:53.234519Z",
     "start_time": "2018-11-05T14:40:53.230930Z"
    }
   },
   "outputs": [],
   "source": [
    "tags_list = [\n",
    "    'python', \n",
    "#    'ipython', \n",
    "#    'jupyter', \n",
    "#    'nikola', \n",
    "    'blog', \n",
    "#    'themes', \n",
    "#    'pupil',\n",
    "#    'psychophysics',\n",
    "#    'outreach',   \n",
    "    # 'grand-public',\n",
    "#    'space', \n",
    "#    'behavior',\n",
    "#    'povray', \n",
    "#    'elasticite', \n",
    "#    'art', \n",
    "#    'trames', \n",
    "#    'math',\n",
    "#    'bicv', \n",
    "#    'SLIP', \n",
    "#    'LogGabor', \n",
    "#    'SHL_scripts', \n",
    "#    'sparse', \n",
    "#    'Matching Pursuit',\n",
    "#    'Motion Particles',\n",
    "#    'holoviews',\n",
    "    'pytorch',\n",
    "    'deep-learning',\n",
    "    'machine-learning',\n",
    "#     'moviepy', \n",
    "#     'numpy', \n",
    "#    'vispy', \n",
    "#    'neural',\n",
    "#    'motionclouds',\n",
    "#    'motion',\n",
    "#    'pynn',\n",
    "#    'saccades',\n",
    "#    'Free Energy',\n",
    "#    'learning',\n",
    "    'open-science',\n",
    "    # 'pandas',\n",
    "#    'shell',\n",
    "#    'vim',\n",
    "#    'orientation',\n",
    "   'vision',\n",
    "   'retina',\n",
    "#    'v1',\n",
    "]\n",
    "formt = 'rest'\n",
    "formt = 'markdown'\n",
    "formt = 'ipynb'"
   ]
  },
  {
   "cell_type": "code",
   "execution_count": 12,
   "metadata": {
    "ExecuteTime": {
     "end_time": "2018-11-05T14:41:01.475071Z",
     "start_time": "2018-11-05T14:41:00.415148Z"
    }
   },
   "outputs": [
    {
     "name": "stdout",
     "output_type": "stream",
     "text": [
      "nikola new_post [options] [path]\n",
      "    create a new blog post or site page\n",
      "\n",
      "Options:\n",
      "    -p, --page\n",
      "        Create a page instead of a blog post. (see also: `nikola\n",
      "        new_page`)\n",
      "    -t ARG, --title=ARG\n",
      "        Title for the post.\n",
      "    -a ARG, --author=ARG\n",
      "        Author of the post.\n",
      "    --tags=ARG\n",
      "        Comma-separated tags for the post.\n",
      "    -1\n",
      "        Create the post with embedded metadata (single file format)\n",
      "    -2\n",
      "        Create the post with separate metadata (two file format)\n",
      "    -e\n",
      "        Open the post (and meta file, if any) in $EDITOR after\n",
      "        creation.\n",
      "    -f ARG, --format=ARG\n",
      "        Markup format for the post (use --available-formats for list)\n",
      "    -F, --available-formats\n",
      "        List all available input formats\n",
      "    -s\n",
      "        Schedule the post based on recurrence rule\n",
      "    -i ARG, --import=ARG\n",
      "        Import an existing file instead of creating a placeholder\n",
      "    -d, --date-path\n",
      "        Create post with date path (eg. year/month/day, see\n",
      "        NEW_POST_DATE_PATH_FORMAT in config)\n"
     ]
    }
   ],
   "source": [
    "!nikola new_post -h"
   ]
  },
  {
   "cell_type": "code",
   "execution_count": 13,
   "metadata": {
    "ExecuteTime": {
     "end_time": "2018-11-05T14:41:01.475071Z",
     "start_time": "2018-11-05T14:41:00.415148Z"
    }
   },
   "outputs": [
    {
     "name": "stdout",
     "output_type": "stream",
     "text": [
      "Available input formats:\n",
      "\n",
      " NAME        DESCRIPTION       EXTENSIONS\n",
      "\n",
      " html        HTML              .html, .htm\n",
      " ipynb       Jupyter Notebook  .ipynb\n",
      " markdown    Markdown          .md, .mdown, .markdown\n",
      " rest        reStructuredText  .rst, .txt\n",
      "!php         PHP               .php\n",
      "~pandoc      Pandoc            (disabled: not in COMPILERS)\n",
      "~rest_html5  rest_html5        (disabled: not in COMPILERS)\n",
      "\n",
      "    More compilers are available in the Plugins Index.\n",
      "\n",
      "    Compilers marked with ! and ~ require additional configuration:\n",
      "        ! not in the POSTS/PAGES tuples and any post scanners (unused)\n",
      "        ~ not in the COMPILERS dict (disabled)\n",
      "    Read more: https://getnikola.com/handbook.html#configuring-other-input-formats\n"
     ]
    }
   ],
   "source": [
    "!nikola new_post  --available-formats"
   ]
  },
  {
   "cell_type": "code",
   "execution_count": 14,
   "metadata": {
    "ExecuteTime": {
     "end_time": "2018-11-05T14:41:08.343633Z",
     "start_time": "2018-11-05T14:41:02.455292Z"
    }
   },
   "outputs": [
    {
     "name": "stdout",
     "output_type": "stream",
     "text": [
      "Creating New Post\n",
      "-----------------\n",
      "\n",
      "Title: 2023-02-02 Implementing a retinotopic transform using grid_sample from pyTorch\n",
      "Scanning posts.........done!\n",
      "\u001b[1;33m[2023-02-02 08:59:14] WARNING: ipynb: No kernel specified, assuming \"python3\".\u001b[0m\n",
      "\u001b[1m[2023-02-02 08:59:15] INFO: new_post: Your post's metadata is at: posts/2023-02-02-implementing-a-retinotopic-transform-using-grid_sample-from-pytorch.meta\u001b[0m\n",
      "\u001b[1m[2023-02-02 08:59:15] INFO: new_post: Your post's text is at: posts/2023-02-02-implementing-a-retinotopic-transform-using-grid_sample-from-pytorch.ipynb\u001b[0m\n"
     ]
    }
   ],
   "source": [
    "tags = ', '.join(tags_list)\n",
    "title = date + ' ' + \"Implementing a retinotopic transform using grid_sample from pyTorch\"\n",
    "#title = '2017-12-13 accessing the data from a pupil recording'\n",
    "!nikola new_post -f \"{formt}\" -2 -t \"{title}\" --tags=\"{tags}\""
   ]
  },
  {
   "cell_type": "code",
   "execution_count": 15,
   "metadata": {
    "ExecuteTime": {
     "end_time": "2018-11-08T10:17:49.012273Z",
     "start_time": "2018-11-08T10:17:49.005411Z"
    }
   },
   "outputs": [
    {
     "name": "stdout",
     "output_type": "stream",
     "text": [
      "posts/2023-02-02-implementing-a-retinotopic-transform-using-grid_sample-from-pytorch.ipynb\n"
     ]
    }
   ],
   "source": [
    "fname = utils.os.path.join('posts', utils.slugify(title) + '.' + formt)\n",
    "print(fname)"
   ]
  },
  {
   "cell_type": "code",
   "execution_count": 13,
   "metadata": {
    "ExecuteTime": {
     "end_time": "2018-11-05T14:41:18.822843Z",
     "start_time": "2018-11-05T14:41:18.813958Z"
    }
   },
   "outputs": [
    {
     "data": {
      "text/plain": [
       "'posts/2022-05-18-transfert-de-voix.ipynb'"
      ]
     },
     "execution_count": 13,
     "metadata": {},
     "output_type": "execute_result"
    }
   ],
   "source": [
    "utils.shutil.copy('template.ipynb', fname)"
   ]
  },
  {
   "cell_type": "markdown",
   "metadata": {},
   "source": [
    "# Copying existing notebooks"
   ]
  },
  {
   "cell_type": "code",
   "execution_count": 19,
   "metadata": {},
   "outputs": [
    {
     "data": {
      "text/plain": [
       "\u001b[0;31mSignature:\u001b[0m \u001b[0mutils\u001b[0m\u001b[0;34m.\u001b[0m\u001b[0mshutil\u001b[0m\u001b[0;34m.\u001b[0m\u001b[0mcopy\u001b[0m\u001b[0;34m(\u001b[0m\u001b[0msrc\u001b[0m\u001b[0;34m,\u001b[0m \u001b[0mdst\u001b[0m\u001b[0;34m,\u001b[0m \u001b[0;34m*\u001b[0m\u001b[0;34m,\u001b[0m \u001b[0mfollow_symlinks\u001b[0m\u001b[0;34m=\u001b[0m\u001b[0;32mTrue\u001b[0m\u001b[0;34m)\u001b[0m\u001b[0;34m\u001b[0m\u001b[0;34m\u001b[0m\u001b[0m\n",
       "\u001b[0;31mDocstring:\u001b[0m\n",
       "Copy data and mode bits (\"cp src dst\"). Return the file's destination.\n",
       "\n",
       "The destination may be a directory.\n",
       "\n",
       "If follow_symlinks is false, symlinks won't be followed. This\n",
       "resembles GNU's \"cp -P src dst\".\n",
       "\n",
       "If source and destination are the same file, a SameFileError will be\n",
       "raised.\n",
       "\u001b[0;31mFile:\u001b[0m      /usr/local/Cellar/python/3.7.7/Frameworks/Python.framework/Versions/3.7/lib/python3.7/shutil.py\n",
       "\u001b[0;31mType:\u001b[0m      function\n"
      ]
     },
     "metadata": {},
     "output_type": "display_data"
    }
   ],
   "source": [
    "utils.shutil.copy?"
   ]
  },
  {
   "attachments": {},
   "cell_type": "markdown",
   "metadata": {
    "tags": []
   },
   "source": [
    "## 2023\n"
   ]
  },
  {
   "cell_type": "code",
   "execution_count": 16,
   "metadata": {
    "ExecuteTime": {
     "end_time": "2018-11-05T14:41:18.822843Z",
     "start_time": "2018-11-05T14:41:18.813958Z"
    }
   },
   "outputs": [
    {
     "data": {
      "text/plain": [
       "'posts/2023-02-02-implementing-a-retinotopic-transform-using-grid_sample-from-pytorch.ipynb'"
      ]
     },
     "execution_count": 16,
     "metadata": {},
     "output_type": "execute_result"
    }
   ],
   "source": [
    "utils.shutil.copy('/Users/laurentperrinet/quantic/timeline/2023-01-31_formes-et-perception/images/Retinotopie.ipynb', fname)\n"
   ]
  },
  {
   "cell_type": "markdown",
   "metadata": {
    "tags": []
   },
   "source": [
    "## 2022\n"
   ]
  },
  {
   "cell_type": "code",
   "execution_count": 10,
   "metadata": {
    "ExecuteTime": {
     "end_time": "2018-11-05T14:41:18.822843Z",
     "start_time": "2018-11-05T14:41:18.813958Z"
    }
   },
   "outputs": [],
   "source": [
    "from nikola import utils"
   ]
  },
  {
   "cell_type": "code",
   "execution_count": 11,
   "metadata": {},
   "outputs": [],
   "source": [
    "fname = 'posts/2022-06-08-transfert-de-voix.ipynb'"
   ]
  },
  {
   "cell_type": "code",
   "execution_count": 12,
   "metadata": {
    "ExecuteTime": {
     "end_time": "2018-11-05T14:41:18.822843Z",
     "start_time": "2018-11-05T14:41:18.813958Z"
    }
   },
   "outputs": [
    {
     "data": {
      "text/plain": [
       "'posts/2022-06-08-transfert-de-voix.ipynb'"
      ]
     },
     "execution_count": 12,
     "metadata": {},
     "output_type": "execute_result"
    }
   ],
   "source": [
    "utils.shutil.copy('/Users/laurentperrinet/quantic/RTC/2022-05-04_transfert-des-voix/2022-06-08_transfert-des-voix.ipynb', fname)"
   ]
  },
  {
   "cell_type": "code",
   "execution_count": 26,
   "metadata": {},
   "outputs": [],
   "source": [
    "fname = 'posts/2022-02-11-cosyne-reviewer-feedback.ipynb'"
   ]
  },
  {
   "cell_type": "code",
   "execution_count": 27,
   "metadata": {
    "ExecuteTime": {
     "end_time": "2018-11-05T14:41:18.822843Z",
     "start_time": "2018-11-05T14:41:18.813958Z"
    }
   },
   "outputs": [
    {
     "data": {
      "text/plain": [
       "'posts/2022-02-11-cosyne-reviewer-feedback.ipynb'"
      ]
     },
     "execution_count": 27,
     "metadata": {},
     "output_type": "execute_result"
    }
   ],
   "source": [
    "utils.shutil.copy('/Users/laurentperrinet/quantic/RTC/2022-02-11_COSYNE-scoresheet/2022-02-11_COSYNE-scoresheet.ipynb', fname)"
   ]
  },
  {
   "cell_type": "markdown",
   "metadata": {},
   "source": [
    "## 2021\n"
   ]
  },
  {
   "cell_type": "code",
   "execution_count": 13,
   "metadata": {},
   "outputs": [],
   "source": [
    "fname = 'posts/2021-03-27-density-of-stars-on-the-surface-of-the-sky.ipynb'"
   ]
  },
  {
   "cell_type": "code",
   "execution_count": 14,
   "metadata": {
    "ExecuteTime": {
     "end_time": "2018-11-05T14:41:18.822843Z",
     "start_time": "2018-11-05T14:41:18.813958Z"
    }
   },
   "outputs": [
    {
     "data": {
      "text/plain": [
       "'/Users/laurentperrinet/quantic/EtienneRey/2019-06_StarField/2021-03-27-density-of-stars-on-the-surface-of-the-sky.ipynb'"
      ]
     },
     "execution_count": 14,
     "metadata": {},
     "output_type": "execute_result"
    }
   ],
   "source": [
    "from nikola import utils\n",
    "utils.shutil.copy(fname, '/Users/laurentperrinet/quantic/EtienneRey/2019-06_StarField/')"
   ]
  },
  {
   "cell_type": "code",
   "execution_count": null,
   "metadata": {
    "ExecuteTime": {
     "end_time": "2018-11-05T14:41:18.822843Z",
     "start_time": "2018-11-05T14:41:18.813958Z"
    }
   },
   "outputs": [],
   "source": [
    "from nikola import utils\n",
    "utils.shutil.copy('/Users/laurentperrinet/Downloads/NetworkModel_Toolbox/RunAnalyse_Simulations.ipynb', fname)"
   ]
  },
  {
   "cell_type": "markdown",
   "metadata": {},
   "source": [
    "## 2020"
   ]
  },
  {
   "cell_type": "code",
   "execution_count": 44,
   "metadata": {
    "ExecuteTime": {
     "end_time": "2018-11-05T14:41:18.822843Z",
     "start_time": "2018-11-05T14:41:18.813958Z"
    }
   },
   "outputs": [
    {
     "data": {
      "text/plain": [
       "'posts/2020-11-24-extracting-music-from-the-screenshots-of-a-spotify-playlist.ipynb'"
      ]
     },
     "execution_count": 44,
     "metadata": {},
     "output_type": "execute_result"
    }
   ],
   "source": [
    "from nikola import utils\n",
    "utils.shutil.copy('/Users/laurentperrinet/quantic/Documents/downloads/PLayList-Etienne-2019/dev-Genius.ipynb', 'posts/2020-11-24-extracting-music-from-the-screenshots-of-a-spotify-playlist.ipynb')"
   ]
  },
  {
   "cell_type": "code",
   "execution_count": 24,
   "metadata": {
    "ExecuteTime": {
     "end_time": "2018-11-05T14:41:18.822843Z",
     "start_time": "2018-11-05T14:41:18.813958Z"
    }
   },
   "outputs": [
    {
     "data": {
      "text/plain": [
       "'posts/2020-09-28-benchmarking-cnns.ipynb'"
      ]
     },
     "execution_count": 24,
     "metadata": {},
     "output_type": "execute_result"
    }
   ],
   "source": [
    "from nikola import utils\n",
    "utils.shutil.copy('/Users/laurentperrinet/quantic/science/ActiveVision/2020_StageM1_Jean-Nicolas/2020-06-26_fast_and_curious/benchmark_image_recognition.ipynb', 'posts/2020-09-28-benchmarking-cnns.ipynb')"
   ]
  },
  {
   "cell_type": "code",
   "execution_count": 39,
   "metadata": {
    "ExecuteTime": {
     "end_time": "2018-11-05T14:41:18.822843Z",
     "start_time": "2018-11-05T14:41:18.813958Z"
    }
   },
   "outputs": [
    {
     "data": {
      "text/plain": [
       "'posts/2020-06-19-caustic-optics.ipynb'"
      ]
     },
     "execution_count": 39,
     "metadata": {},
     "output_type": "execute_result"
    }
   ],
   "source": [
    "from nikola import utils\n",
    "utils.shutil.copy('/Users/laurentperrinet/quantic/EtienneRey/2020_caustiques/2020-06-19_caustique.ipynb', 'posts/2020-06-19-caustic-optics.ipynb')"
   ]
  },
  {
   "cell_type": "code",
   "execution_count": 43,
   "metadata": {
    "ExecuteTime": {
     "end_time": "2018-11-05T14:41:18.822843Z",
     "start_time": "2018-11-05T14:41:18.813958Z"
    }
   },
   "outputs": [],
   "source": [
    "!nbdiff /Users/laurentperrinet/quantic/EtienneRey/2020_caustiques/2020-06-19_caustique.ipynb posts/2020-06-19-caustic-optics.ipynb"
   ]
  },
  {
   "cell_type": "code",
   "execution_count": 41,
   "metadata": {
    "ExecuteTime": {
     "end_time": "2018-11-05T14:41:18.822843Z",
     "start_time": "2018-11-05T14:41:18.813958Z"
    }
   },
   "outputs": [
    {
     "data": {
      "text/plain": [
       "'files/2020-06-19_caustique'"
      ]
     },
     "execution_count": 41,
     "metadata": {},
     "output_type": "execute_result"
    }
   ],
   "source": [
    "utils.shutil.rmtree('files/2020-06-19_caustique', ignore_errors=True)\n",
    "utils.shutil.copytree('/Users/laurentperrinet/quantic/EtienneRey/2020_caustiques/2020-06-19_caustique', 'files/2020-06-19_caustique')"
   ]
  },
  {
   "cell_type": "code",
   "execution_count": 42,
   "metadata": {},
   "outputs": [
    {
     "data": {
      "text/plain": [
       "'/Users/laurentperrinet/quantic/EtienneRey/2020_caustiques/2020-06-19_caustique'"
      ]
     },
     "execution_count": 42,
     "metadata": {},
     "output_type": "execute_result"
    }
   ],
   "source": [
    "#utils.shutil.rmtree('/Users/laurentperrinet/quantic/EtienneRey/files', ignore_errors=True)\n",
    "#utils.shutil.move('/Users/laurentperrinet/quantic/EtienneRey/files/2020-06-19_caustique', '/Users/laurentperrinet/quantic/EtienneRey/2020_caustiques/2020-06-19_caustique')"
   ]
  },
  {
   "cell_type": "markdown",
   "metadata": {},
   "source": [
    "## 2019"
   ]
  },
  {
   "cell_type": "code",
   "execution_count": 36,
   "metadata": {
    "ExecuteTime": {
     "end_time": "2018-11-05T14:41:18.822843Z",
     "start_time": "2018-11-05T14:41:18.813958Z"
    }
   },
   "outputs": [
    {
     "data": {
      "text/plain": [
       "'posts/2020-04-08-fitting-a-psychometric-curve-using-pytorch.ipynb'"
      ]
     },
     "execution_count": 36,
     "metadata": {},
     "output_type": "execute_result"
    }
   ],
   "source": [
    "utils.shutil.copy('/Users/laurentperrinet/quantic/science/OBV1/jennafradin_MSc-Internship/Notebooks/W13/10_theory-fitting_psychometric.ipynb', fname)"
   ]
  },
  {
   "cell_type": "code",
   "execution_count": 15,
   "metadata": {},
   "outputs": [
    {
     "name": "stdout",
     "output_type": "stream",
     "text": [
      "posts/2015-05-22-a-hitchhiker-guide-to-matching-pursuit.ipynb\n",
      "posts/2015-05-22-a-hitchhiker-guide-to-matching-pursuit.meta\n"
     ]
    }
   ],
   "source": [
    "%ls posts/2015*hitch*"
   ]
  },
  {
   "cell_type": "code",
   "execution_count": 16,
   "metadata": {
    "ExecuteTime": {
     "end_time": "2018-11-05T14:41:18.822843Z",
     "start_time": "2018-11-05T14:41:18.813958Z"
    }
   },
   "outputs": [
    {
     "data": {
      "text/plain": [
       "'posts/2019-11-28-role-of-gamma-correction-in-sparse-coding.ipynb'"
      ]
     },
     "execution_count": 16,
     "metadata": {},
     "output_type": "execute_result"
    }
   ],
   "source": [
    "utils.shutil.copy('posts/2015-05-22-a-hitchhiker-guide-to-matching-pursuit.ipynb', fname)"
   ]
  },
  {
   "cell_type": "code",
   "execution_count": null,
   "metadata": {
    "ExecuteTime": {
     "end_time": "2018-11-08T10:17:33.863368Z",
     "start_time": "2018-11-08T10:17:33.822970Z"
    }
   },
   "outputs": [],
   "source": [
    "utils.shutil.copy('/Users/laurentperrinet/pool/TimeWarp/2018-11-05_Statistics of the natural input to a ring model.ipynb', fname)\n",
    "utils.shutil.copy('/Users/laurentperrinet/pool/TimeWarp/figs/2018-11-05_Ring_input.mp4', 'files/')"
   ]
  },
  {
   "cell_type": "code",
   "execution_count": null,
   "metadata": {},
   "outputs": [],
   "source": [
    "utils.shutil.copy('/Users/laurentperrinet//science/pupil/dev/2017-12-13 accessing the data from a pupil recording.ipynb', 'posts/2017-12-13-accessing-the-data-from-a-pupil-recording.ipynb')"
   ]
  },
  {
   "cell_type": "code",
   "execution_count": null,
   "metadata": {
    "collapsed": true,
    "jupyter": {
     "outputs_hidden": true
    }
   },
   "outputs": [],
   "source": [
    "titles = ['2017-03-29 testing COMPs-Pcum', '2017-03-29 testing COMPs-fastPcum', '2017-03-29 testing COMPs-fastPcum_scripted']"
   ]
  },
  {
   "cell_type": "code",
   "execution_count": null,
   "metadata": {},
   "outputs": [],
   "source": [
    "tags = ', '.join(tags_list)\n",
    "for title in titles:\n",
    "    !nikola new_post -f \"{formt}\" -2 -t \"{title}\" --tags=\"{tags}\""
   ]
  },
  {
   "cell_type": "code",
   "execution_count": null,
   "metadata": {},
   "outputs": [],
   "source": [
    "for title in titles:\n",
    "    fname = utils.os.path.join('posts', utils.slugify(title) + '.' + formt)\n",
    "    print(fname)\n",
    "    import os\n",
    "    home = os.environ['HOME']\n",
    "    print(home)\n",
    "    filepath = home +  \"/science/VB_These/Rapport d'avancement/2017-03/\"\n",
    "    print(filepath + title +'.ipynb')\n",
    "    utils.shutil.copy(filepath + title +'.ipynb', fname)"
   ]
  },
  {
   "cell_type": "markdown",
   "metadata": {},
   "source": [
    "\n",
    "TODO : 2017-05-23-reproducing-olshausens-classical-sparsenet-part-5.ipynb and others from 2017-05-23-reproducing-olshausens-classical-sparsenet-part-5.ipynb\n"
   ]
  },
  {
   "cell_type": "raw",
   "metadata": {},
   "source": [
    "Below, I detail some thoughts on why it is a perfect preamble for most ipython notebooks.\n",
    "\n",
    "<!-- TEASER_END -->"
   ]
  },
  {
   "cell_type": "code",
   "execution_count": null,
   "metadata": {
    "collapsed": true,
    "jupyter": {
     "outputs_hidden": true
    }
   },
   "outputs": [],
   "source": [
    "import nikola"
   ]
  },
  {
   "cell_type": "code",
   "execution_count": null,
   "metadata": {
    "collapsed": true,
    "jupyter": {
     "outputs_hidden": true
    }
   },
   "outputs": [],
   "source": [
    "nikola.utils."
   ]
  },
  {
   "cell_type": "code",
   "execution_count": null,
   "metadata": {
    "collapsed": true,
    "jupyter": {
     "outputs_hidden": true
    }
   },
   "outputs": [],
   "source": [
    "from nikola.plugins import commands"
   ]
  },
  {
   "cell_type": "code",
   "execution_count": null,
   "metadata": {
    "collapsed": true,
    "jupyter": {
     "outputs_hidden": true
    }
   },
   "outputs": [],
   "source": [
    "plugins.absolute_import"
   ]
  },
  {
   "cell_type": "code",
   "execution_count": null,
   "metadata": {
    "collapsed": true,
    "jupyter": {
     "outputs_hidden": true
    }
   },
   "outputs": [],
   "source": [
    "!nikola help new_post "
   ]
  },
  {
   "cell_type": "code",
   "execution_count": null,
   "metadata": {
    "collapsed": true,
    "jupyter": {
     "outputs_hidden": true
    }
   },
   "outputs": [],
   "source": [
    "base_url = \"http://127.0.0.1:\"\n",
    "port = 8889\n",
    "\n",
    "from nikola import utils\n",
    "notebook = \"/notebooks/posts/\" + utils.slugify(unicode(title)) + \".ipynb\"  \n",
    "\n",
    "url = base_url + str(port) + notebook\n",
    "print url"
   ]
  },
  {
   "cell_type": "code",
   "execution_count": null,
   "metadata": {
    "collapsed": true,
    "jupyter": {
     "outputs_hidden": true
    }
   },
   "outputs": [],
   "source": [
    "def convert(URL, DATE, TIME, TITLE, TAGS, doit=True):\n",
    "\n",
    "    TIMEDTITLE = DATE[2:] + ' ' + TITLE\n",
    "    SLUG = DATE[2:] + '-' + TITLE.replace(' ', '-')\n",
    "    tmplt = \"\"\"\\\n",
    ".. title: %s %s\n",
    ".. slug: %s\n",
    ".. date: %s %s\n",
    ".. type: text\n",
    ".. tags: %s\n",
    "    \n",
    "\"\"\" % (DATE[2:], TITLE, SLUG, DATE, TIME, TAGS)\n",
    "\n",
    "    print tmplt\n",
    "\n",
    "    if doit:\n",
    "        import os\n",
    "        print TITLE, TAGS\n",
    "        cmd = 'cd ..; nikola new_post --title=\"%s\" --tags=\"%s\"' % (TIMEDTITLE, TAGS)\n",
    "        print cmd\n",
    "        os.system(cmd)\n",
    "        f = file(SLUG + '.rst', 'w')\n",
    "        f.write(tmplt + pagerst)\n",
    "        f.close()\n",
    "    else:\n",
    "        print tmplt"
   ]
  },
  {
   "cell_type": "markdown",
   "metadata": {},
   "source": [
    "## updating dates to iso8601 : ipython notebooks"
   ]
  },
  {
   "cell_type": "code",
   "execution_count": null,
   "metadata": {
    "collapsed": true,
    "jupyter": {
     "outputs_hidden": true
    },
    "scrolled": true
   },
   "outputs": [],
   "source": [
    "import glob, os, shutil\n",
    "from nikola import utils\n",
    "\n",
    "for fname in glob.glob(\"posts/14*.ipynb\"):\n",
    "    ROOT, FILE = os.path.split(fname)\n",
    "    SLUG = 'posts/' + FILE.replace('.ipynb', '.meta')\n",
    "    FILE_new = 'posts/20' + FILE\n",
    "    SLUG_new = 'posts/20' + FILE.replace('.ipynb', '.meta')\n",
    "    print(SLUG)\n",
    "    meta = ''\n",
    "    with open(SLUG, 'r') as f: \n",
    "        for line in f.readlines():\n",
    "            meta += line.replace(' 14-', ' 2014-')\n",
    "    print(FILE_new, SLUG_new)\n",
    "    print(meta)\n",
    "    if True:\n",
    "        with open(SLUG_new, 'w') as f: f.write(meta)\n",
    "        shutil.copy( 'posts/' + FILE, FILE_new)\n",
    "        os.remove('posts/' + FILE)\n",
    "        os.remove(SLUG)"
   ]
  },
  {
   "cell_type": "markdown",
   "metadata": {},
   "source": [
    "## updating dates to iso8601 : other posts"
   ]
  },
  {
   "cell_type": "code",
   "execution_count": null,
   "metadata": {
    "collapsed": true,
    "jupyter": {
     "outputs_hidden": true
    }
   },
   "outputs": [],
   "source": [
    "import glob, os, shutil\n",
    "from nikola import utils\n",
    "\n",
    "for YEAR in [\"10\", \"11\", \"12\", \"13\", \"14\"]:\n",
    "    for fname in glob.glob(\"posts/\"+ YEAR + \"-*.txt\"):\n",
    "        ROOT, FILE = os.path.split(fname)\n",
    "        FILE_new = 'posts/20' + FILE\n",
    "        print(FILE_new)\n",
    "        if True:\n",
    "            shutil.copy( 'posts/' + FILE, FILE_new)\n",
    "            os.remove('posts/' + FILE)\n"
   ]
  },
  {
   "cell_type": "code",
   "execution_count": null,
   "metadata": {
    "collapsed": true,
    "jupyter": {
     "outputs_hidden": true
    },
    "scrolled": true
   },
   "outputs": [],
   "source": [
    "import glob, os, shutil\n",
    "from nikola import utils\n",
    "\n",
    "for ext in [\"*.txt\", \"*.rst\"]:\n",
    "    for YEAR in [\"06\", \"07\", \"08\", \"09\", \"10\", \"11\", \"12\", \"13\", \"14\", \"15\"]:\n",
    "        for fname in glob.glob(\"posts/20\"+ YEAR + ext):\n",
    "            ROOT, FILE = os.path.split(fname)\n",
    "            post = ''\n",
    "            with open('posts/' + FILE, 'r') as f: \n",
    "                for line in f.readlines():\n",
    "                    line = line.replace(' '+ YEAR + '-', ' 20'+ YEAR + '-')\n",
    "                    for YEAR_ in [\"10\", \"11\", \"12\", \"13\", \"14\"]:\n",
    "                        line = line.replace('<'+ YEAR_ + '-', '<20'+ YEAR_ + '-')\n",
    "                    post += line\n",
    "            print(FILE)\n",
    "            if True:\n",
    "                with open('posts/' + FILE, 'w') as f: f.write(post)\n",
    "            else:\n",
    "                print(post)\n"
   ]
  },
  {
   "cell_type": "markdown",
   "metadata": {},
   "source": [
    "# deploying changes"
   ]
  },
  {
   "cell_type": "code",
   "execution_count": 3,
   "metadata": {},
   "outputs": [
    {
     "name": "stdout",
     "output_type": "stream",
     "text": [
      "total 66584\n",
      "drwxr-xr-x   26 laurentperrinet  staff       832 Jun 21 08:28 \u001b[1m\u001b[36m.\u001b[m\u001b[m/\n",
      "drwxr-xr-x    9 laurentperrinet  staff       288 Apr 24 13:26 \u001b[1m\u001b[36m..\u001b[m\u001b[m/\n",
      "-rw-r--r--    1 laurentperrinet  staff     14340 Feb 20 12:29 .DS_Store\n",
      "-rw-r--r--    1 laurentperrinet  staff  17997824 Jun  9 22:03 .doit.db\n",
      "-rw-r--r--    1 laurentperrinet  staff  15015936 Jan  8  2021 .doit.db.db\n",
      "drwxr-xr-x   16 laurentperrinet  staff       512 Jun 21 08:28 \u001b[1m\u001b[36m.git\u001b[m\u001b[m/\n",
      "drwxr-xr-x    3 laurentperrinet  staff        96 Feb  4  2021 \u001b[1m\u001b[36m.github_old\u001b[m\u001b[m/\n",
      "-rw-r--r--    1 laurentperrinet  staff       512 Nov 24  2020 .gitignore\n",
      "drwxr-xr-x    4 laurentperrinet  staff       128 Sep 11  2021 \u001b[1m\u001b[36m.ipynb_checkpoints\u001b[m\u001b[m/\n",
      "-rw-r--r--    1 laurentperrinet  staff      8887 Dec 15  2014 LICENSE\n",
      "-rw-r--r--    1 laurentperrinet  staff       155 Dec 10  2020 Makefile\n",
      "-rw-r--r--    1 laurentperrinet  staff        16 Jan 17  2019 README.md\n",
      "drwxr-xr-x    3 laurentperrinet  staff        96 Jun 21 08:28 \u001b[1m\u001b[36m__pycache__\u001b[m\u001b[m/\n",
      "-rw-r--r--    1 laurentperrinet  staff    570466 Jun 21 08:28 bootstrapPost.ipynb\n",
      "drwxr-xr-x    2 laurentperrinet  staff        64 Jun 21 08:16 \u001b[1m\u001b[36mcache\u001b[m\u001b[m/\n",
      "-rw-r--r--    1 laurentperrinet  staff     57327 Jun 21 08:25 conf.py\n",
      "drwxr-xr-x   40 laurentperrinet  staff      1280 Jun 21 08:25 \u001b[1m\u001b[36mdocs\u001b[m\u001b[m/\n",
      "drwxr-xr-x  105 laurentperrinet  staff      3360 Feb 20 11:17 \u001b[1m\u001b[36mfiles\u001b[m\u001b[m/\n",
      "drwxr-xr-x    2 laurentperrinet  staff        64 Feb  4  2021 \u001b[1m\u001b[36mgalleries\u001b[m\u001b[m/\n",
      "drwxr-xr-x    4 laurentperrinet  staff       128 Feb  4  2021 \u001b[1m\u001b[36mlistings\u001b[m\u001b[m/\n",
      "drwxr-xr-x    7 laurentperrinet  staff       224 Feb  4  2021 \u001b[1m\u001b[36mplugins\u001b[m\u001b[m/\n",
      "drwxr-xr-x  419 laurentperrinet  staff     13408 Jun 21 08:25 \u001b[1m\u001b[36mposts\u001b[m\u001b[m/\n",
      "-rw-------    1 laurentperrinet  staff        49 May 18 21:38 state_data.json\n",
      "drwxr-xr-x   14 laurentperrinet  staff       448 Feb  4  2021 \u001b[1m\u001b[36mstories\u001b[m\u001b[m/\n",
      "-rw-r--r--    1 laurentperrinet  staff      5330 Sep 11  2021 template.ipynb\n",
      "drwxr-xr-x    3 laurentperrinet  staff        96 Jun 15 10:48 \u001b[1m\u001b[36mthemes\u001b[m\u001b[m/\n"
     ]
    }
   ],
   "source": [
    "%ls -al"
   ]
  },
  {
   "cell_type": "raw",
   "metadata": {},
   "source": [
    "%rm -fr .doit.db cache"
   ]
  },
  {
   "cell_type": "raw",
   "metadata": {},
   "source": [
    "!nikola clean"
   ]
  },
  {
   "cell_type": "code",
   "execution_count": 4,
   "metadata": {},
   "outputs": [
    {
     "name": "stdout",
     "output_type": "stream",
     "text": [
      "Already up to date.\n"
     ]
    }
   ],
   "source": [
    "!git pull"
   ]
  },
  {
   "cell_type": "code",
   "execution_count": 17,
   "metadata": {},
   "outputs": [
    {
     "name": "stdout",
     "output_type": "stream",
     "text": [
      "On branch master\n",
      "Your branch is up to date with 'origin/master'.\n",
      "\n",
      "Changes not staged for commit:\n",
      "  (use \"git add <file>...\" to update what will be committed)\n",
      "  (use \"git restore <file>...\" to discard changes in working directory)\n",
      "\t\u001b[32mmodified:   bootstrapPost.ipynb\u001b[m\n",
      "\n",
      "Untracked files:\n",
      "  (use \"git add <file>...\" to include in what will be committed)\n",
      "\t\u001b[36mposts/2023-02-02-implementing-a-retinotopic-transform-using-grid_sample-from-pytorch.ipynb\u001b[m\n",
      "\t\u001b[36mposts/2023-02-02-implementing-a-retinotopic-transform-using-grid_sample-from-pytorch.meta\u001b[m\n",
      "\n",
      "no changes added to commit (use \"git add\" and/or \"git commit -a\")\n"
     ]
    }
   ],
   "source": [
    "!git status"
   ]
  },
  {
   "cell_type": "raw",
   "metadata": {},
   "source": [
    "!ls -ltr files"
   ]
  },
  {
   "cell_type": "code",
   "execution_count": 18,
   "metadata": {},
   "outputs": [
    {
     "name": "stdout",
     "output_type": "stream",
     "text": [
      "Scanning posts.........done!\n",
      ".  render_taxonomies:docs/categories/index.html\n",
      ".  copy_assets:docs/assets/css/bootblog.css\n",
      ".  copy_assets:docs/assets/css/bootstrap.min.css\n",
      ".  copy_assets:docs/assets/css/theme.css\n",
      ".  copy_assets:docs/assets/js/jquery.min.js\n",
      ".  copy_assets:docs/assets/js/bootstrap.min.js\n",
      ".  copy_assets:docs/assets/js/popper.min.js\n",
      ".  copy_assets:docs/assets/css/nikola_rst.css\n",
      ".  copy_assets:docs/assets/css/nikola_ipython.css\n",
      ".  copy_assets:docs/assets/css/html4css1.css\n",
      ".  copy_assets:docs/assets/css/rst.css\n",
      ".  copy_assets:docs/assets/css/ipython.min.css\n",
      ".  copy_assets:docs/assets/css/rst_base.css\n",
      ".  copy_assets:docs/assets/css/baguetteBox.min.css\n",
      ".  copy_assets:docs/assets/js/html5.js\n",
      ".  copy_assets:docs/assets/js/fancydates.js\n",
      ".  copy_assets:docs/assets/js/gallery.min.js\n",
      ".  copy_assets:docs/assets/js/fancydates.min.js\n",
      ".  copy_assets:docs/assets/js/gallery.js\n",
      ".  copy_assets:docs/assets/js/baguetteBox.min.js\n",
      ".  copy_assets:docs/assets/js/html5shiv-printshiv.min.js\n",
      ".  copy_assets:docs/assets/js/justified-layout.min.js\n",
      ".  copy_assets:docs/assets/js/luxon.min.js\n",
      ".  copy_assets:docs/assets/xml/atom.xsl\n",
      ".  copy_assets:docs/assets/xml/rss.xsl\n",
      ".  copy_assets:docs/assets/css/code.css\n",
      ".  render_sources:docs/posts/2023-02-02-implementing-a-retinotopic-transform-using-grid_sample-from-pytorch.ipynb\n",
      ".  render_listings:docs/listings/index.html\n",
      ".  render_listings:docs/listings/install-nikola.sh.html\n",
      ".  render_listings:docs/listings/import_moinmoinpages.py.html\n",
      ".  render_posts:timeline_changes\n",
      ".  render_posts:cache/posts/2023-02-02-implementing-a-retinotopic-transform-using-grid_sample-from-pytorch.html\n",
      ".  render_galleries:docs/galleries/index.html\n",
      ".  render_galleries:docs/galleries/rss.xml\n",
      ".  render_taxonomies:docs/categories/space.html\n",
      ".  render_taxonomies:docs/categories/pandas.html\n",
      ".  render_taxonomies:docs/categories/jupyter.html\n",
      ".  render_taxonomies:docs/categories/shell.html\n",
      ".  render_taxonomies:docs/categories/grand-public.html\n",
      ".  render_taxonomies:docs/categories/free-energy.html\n",
      ".  render_taxonomies:docs/categories/sparse-coding.html\n",
      ".  render_taxonomies:docs/categories/pynn.html\n",
      ".  render_taxonomies:docs/categories/math.html\n",
      ".  render_taxonomies:docs/categories/trajectory.html\n",
      ".  render_taxonomies:docs/categories/v1.html\n",
      ".  render_taxonomies:docs/categories/deep-learning.html\n",
      ".  render_taxonomies:docs/categories/machine-learning.html\n",
      ".  render_taxonomies:docs/categories/pytorch.html\n",
      ".  render_taxonomies:docs/categories/vision.html\n",
      ".  render_taxonomies:docs/categories/pupil.html\n",
      ".  render_taxonomies:docs/categories/saccades.html\n",
      ".  render_taxonomies:docs/categories/trames.html\n",
      ".  render_taxonomies:docs/categories/art.html\n",
      ".  render_taxonomies:docs/categories/tensorflow.html\n",
      ".  render_taxonomies:docs/categories/outreach.html\n",
      ".  render_taxonomies:docs/categories/behavior.html\n",
      ".  render_taxonomies:docs/categories/shl_scripts.html\n",
      ".  render_taxonomies:docs/categories/code.html\n",
      ".  render_taxonomies:docs/categories/speed.html\n",
      ".  render_taxonomies:docs/categories/compounds.html\n",
      ".  render_taxonomies:docs/categories/retina.html\n",
      ".  render_taxonomies:docs/categories/computational-neuroscience.html\n",
      ".  render_taxonomies:docs/categories/sparse.html\n",
      ".  render_taxonomies:docs/categories/numpy.html\n",
      ".  render_taxonomies:docs/categories/motion-particles.html\n",
      ".  render_taxonomies:docs/categories/predictive-coding.html\n",
      ".  render_taxonomies:docs/categories/illusion.html\n",
      ".  render_taxonomies:docs/categories/neural.html\n",
      ".  render_taxonomies:docs/categories/symmetry.html\n",
      ".  render_taxonomies:docs/categories/computing.html\n",
      ".  render_taxonomies:docs/categories/vim.html\n",
      ".  render_taxonomies:docs/categories/matching-pursuit.html\n",
      ".  render_taxonomies:docs/categories/sparseedges.html\n",
      ".  render_taxonomies:docs/categories/bicv.html\n",
      ".  render_taxonomies:docs/categories/slip.html\n",
      ".  render_taxonomies:docs/categories/open-science.html\n",
      ".  render_taxonomies:docs/categories/learning.html\n",
      ".  render_taxonomies:docs/categories/vispy.html\n",
      ".  render_taxonomies:docs/categories/matlab.html\n",
      ".  render_taxonomies:docs/categories/motion.html\n",
      ".  render_taxonomies:docs/categories/gizeh.html\n",
      ".  render_taxonomies:docs/categories/moviepy.html\n",
      ".  render_taxonomies:docs/categories/latex.html\n",
      ".  render_taxonomies:docs/categories/tikz.html\n",
      ".  render_taxonomies:docs/categories/povray.html\n",
      ".  render_taxonomies:docs/categories/bibcloud.html\n",
      ".  render_taxonomies:docs/categories/plot.html\n",
      ".  render_taxonomies:docs/categories/cloud.html\n",
      ".  render_taxonomies:docs/categories/mytracks.html\n",
      ".  render_taxonomies:docs/categories/obv1.html\n",
      ".  render_taxonomies:docs/categories/orientation.html\n",
      ".  render_taxonomies:docs/categories/natural-scenes.html\n",
      ".  render_taxonomies:docs/categories/psychophysics.html\n",
      ".  render_taxonomies:docs/categories/area-v1.html\n",
      ".  render_taxonomies:docs/categories/experiment.html\n",
      ".  render_taxonomies:docs/categories/motion-detection.html\n",
      ".  render_taxonomies:docs/categories/anr-speed.html\n",
      ".  render_taxonomies:docs/categories/probability.html\n",
      ".  render_taxonomies:docs/categories/stackoverflow.html\n",
      ".  render_taxonomies:docs/categories/interactive.html\n",
      ".  render_taxonomies:docs/categories/holoviews.html\n",
      ".  render_taxonomies:docs/categories/blog.html\n",
      ".  render_taxonomies:docs/categories/hardlink.html\n",
      ".  render_taxonomies:docs/categories/int.html\n",
      ".  render_taxonomies:docs/categories/rsync.html\n",
      ".  render_taxonomies:docs/categories/notebook.html\n",
      ".  render_taxonomies:docs/categories/elasticite.html\n",
      ".  render_taxonomies:docs/categories/motionclouds.html\n",
      ".  render_taxonomies:docs/categories/ring-model.html\n",
      ".  render_taxonomies:docs/categories/loggabor.html\n",
      ".  render_taxonomies:docs/categories/python.html\n",
      ".  render_taxonomies:docs/categories/anr-balav1.html\n",
      ".  render_taxonomies:docs/categories/info.html\n",
      ".  render_taxonomies:docs/categories/moinmoin.html\n",
      ".  render_taxonomies:docs/categories/nikola.html\n",
      ".  render_taxonomies:docs/categories/ipython.html\n",
      ".  render_taxonomies:docs/categories/craac.html\n",
      ".  render_taxonomies:docs/archive.html\n",
      ".  render_taxonomies:docs/index.html\n",
      ".  render_taxonomies:docs/categories/cnrs.html\n",
      ".  render_pages:docs/posts/2017-12-21-predictive-coding-of-variable-motion.html\n",
      ".  render_pages:docs/posts/2016-11-29-resizing-a-bunch-of-files-using-the-command-line-interface.html\n",
      ".  render_pages:docs/posts/2016-01-19-elasticite-trames-V1.html\n",
      ".  render_pages:docs/posts/2017-10-25-designing-a-a0-poster-using-matplotlib.html\n",
      ".  render_pages:docs/posts/2016-11-15-saving-and-displaying-movies-and-dynamic-figures.html\n",
      ".  render_pages:docs/posts/2016-10-01-a-p-pie-named-monte-carlo.html\n",
      ".  render_pages:docs/posts/2015-11-17-elasticite-expansion-en-miroir-dynamique-dun-point-focal.html\n",
      ".  render_pages:docs/posts/2018-06-13-generating-an-unique-seed-for-a-given-filename.html\n",
      ".  render_pages:docs/posts/2018-11-29-feature-vs-global-motion.html\n",
      ".  render_pages:docs/posts/2018-11-05-statistics-of-the-natural-input-to-a-ring-model.html\n",
      ".  render_taxonomies:docs/categories/blog.xml\n",
      ".  render_taxonomies:docs/categories/deep-learning.xml\n",
      ".  render_pages:docs/posts/2018-11-13-testing-more-complex-trajectories.html\n",
      ".  render_taxonomies:docs/categories/machine-learning.xml\n",
      ".  render_taxonomies:docs/categories/open-science.xml\n",
      ".  render_taxonomies:docs/categories/python.xml\n",
      ".  render_taxonomies:docs/categories/pytorch.xml\n",
      ".  render_taxonomies:docs/categories/retina.xml\n",
      ".  render_taxonomies:docs/categories/vision.xml\n",
      ".  render_taxonomies:docs/rss.xml\n",
      ".  render_pages:docs/posts/2018-11-11-rainbow-effect.html\n",
      ".  render_pages:docs/posts/2023-02-02-implementing-a-retinotopic-transform-using-grid_sample-from-pytorch.html\n",
      ".  render_pages:docs/posts/2022-06-08-transfert-de-voix.html\n",
      ".  render_pages:docs/posts/2022-02-11-cosyne-reviewer-feedback.html\n",
      ".  render_pages:docs/posts/2022-01-30-dreamachine.html\n",
      ".  render_pages:docs/posts/2021-12-12-logistic-regression.html\n",
      ".  render_pages:docs/posts/2018-09-07-extending-datasets-in-pytorch.html\n",
      ".  render_pages:docs/posts/2021-04-28-experimenting-with-transfer-learning-for-visual-categorization.html\n",
      ".  render_pages:docs/posts/2021-12-01-find-a-8-in-a-forest-of-9.html\n",
      ".  render_pages:docs/posts/2021-12-01-triangulating-stars-on-the-night-sky.html\n",
      ".  render_pages:docs/posts/2021-09-11-modelling-ocean-surface-waves.html\n",
      ".  render_pages:docs/posts/2021-03-27-density-of-stars-on-the-surface-of-the-sky.html\n",
      ".  render_pages:docs/posts/2021-02-21-time-lapsing-an-orchids-flower.html\n",
      ".  render_pages:docs/posts/2017-09-20-the-fastest-2d-convolution-in-the-world.html\n",
      ".  render_pages:docs/posts/2021-01-08-kuramoto-model.html\n",
      ".  render_pages:docs/posts/2021-01-08-generating-second-order-figures-from-texture.html\n",
      ".  render_pages:docs/posts/2020-11-24-extracting-music-from-the-screenshots-of-a-spotify-playlist.html\n",
      ".  render_pages:docs/posts/2020-10-10-fitting-covid-data.html\n",
      ".  render_pages:docs/posts/2017-03-16-reproducing-olshausens-classical-sparsenet-part-3.html\n",
      ".  render_pages:docs/posts/2020-09-28-benchmarking-cnns.html\n",
      ".  render_pages:docs/posts/2017-11-07-meul-with-a-non-parametric-homeostasis.html\n",
      ".  render_pages:docs/posts/2014-12-18-can-we-live-without-google-and-co.html\n",
      ".  render_pages:docs/posts/2020-08-09-nesting-jupyter-runs.html\n",
      ".  render_pages:docs/posts/2017-06-15-le-jeu-de-lurne.html\n",
      ".  render_pages:docs/posts/2020-07-04-colors-of-the-sky.html\n",
      ".  render_pages:docs/posts/2015-11-29-elasticite-scenario-onde.html\n",
      ".  render_pages:docs/posts/2014-12-29-todotxt.html\n",
      ".  render_pages:docs/posts/2020-06-19-caustic-optics.html\n",
      ".  render_pages:docs/posts/2014-12-29-bib-cloud.html\n",
      ".  render_pages:docs/posts/2020-04-16-creating-an-hexagonal-grid.html\n",
      ".  render_pages:docs/posts/2015-01-07-the-right-imports-in-a-notebook.html\n",
      ".  render_pages:docs/posts/2014-11-10_reverse-phi-and-asymmetry-of-on-and-off-responses.html\n",
      ".  render_pages:docs/posts/2020-04-08-fitting-a-psychometric-curve-using-pytorch.html\n",
      ".  render_pages:docs/posts/2017-04-10-manipulating-speed-in-motion-clouds.html\n",
      ".  render_pages:docs/posts/2020-01-08-changing-the-global-phase-of-a-motion-cloud.html\n",
      ".  render_pages:docs/posts/2016-11-17-finding-extremal-values-in-a-nd-array.html\n",
      ".  render_pages:docs/posts/2014-12-09-polar-bar-plots.html\n",
      ".  render_pages:docs/posts/2019-11-28-role-of-gamma-correction-in-sparse-coding.html\n",
      ".  render_pages:docs/posts/2016-11-24-using-generators-in-python.html\n",
      ".  render_pages:docs/posts/2019-11-19-converting-a-bunch-of-files-in-a-few-lines.html\n",
      ".  render_pages:docs/posts/2017-03-15-reproducing-olshausens-classical-sparsenet-part-2.html\n",
      ".  render_pages:docs/posts/2015-01-20-using-tikzmagic.html\n",
      ".  render_pages:docs/posts/2019-10-07-neurostories-videos-of-my-talk.html\n",
      ".  render_pages:docs/posts/2017-03-09_probabilities.html\n",
      ".  render_pages:docs/posts/2019-09-11_video-abstract-vision.html\n",
      ".  render_pages:docs/posts/2015-05-22-a-hitchhiker-guide-to-matching-pursuit.html\n",
      ".  render_pages:docs/posts/2015-01-16-rendering-3d-scenes-in-python.html\n",
      ".  render_pages:docs/posts/2019-05-28_MainenSejnowski1995.html\n",
      ".  render_pages:docs/posts/2017-05-23-a-change-in-the-definition-of-spatial-frequency-bandwidth.html\n",
      ".  render_pages:docs/posts/2019-01-30__smooth-transition-between-mcs.html\n",
      ".  render_pages:docs/posts/2017-01-15-bogacz-2017-a-tutorial-on-free-energy.html\n",
      ".  render_pages:docs/posts/2014-12-10_orientation_protocol.html\n",
      ".  render_pages:docs/posts/2018-12-23-origins-of-the-von-mises-distribution.html\n",
      ".  render_pages:docs/posts/2017-03-17-extending-olshausens-classical-sparsenet.html\n",
      ".  render_pages:docs/posts/2014-10-20_aperture-problem.html\n",
      ".  render_pages:docs/posts/2018-12-13-sparse-coding-using-fista.html\n",
      ".  render_pages:docs/posts/2015-04-29-moving-from-mayavi-to-vispy.html\n",
      ".  render_pages:docs/posts/2014-10-20-animation-in-a-notebook-using-holoviews.html\n",
      ".  render_pages:docs/posts/2014-10-08_moving-from-mayavi-to-matplotlib.html\n",
      ".  render_pages:docs/posts/2015-05-28-a-simpler-e-mail-client-diving-into-mutt.html\n",
      ".  render_pages:docs/posts/2014-10-20-chi-distribution.html\n",
      ".  render_pages:docs/posts/2016-06-25-compiling-notebooks-into-a-report.html\n",
      ".  render_pages:docs/posts/2014-10-16-how-can-i-display-an-image-in-the-terminal.html\n",
      ".  render_pages:docs/stories/internals.html\n",
      ".  render_pages:docs/posts/2016-07-14_static-motion-clouds.html\n",
      ".  render_pages:docs/posts/2014-07-07-transferring-lots-of-files-to-a-remote-server-s.html\n",
      ".  render_pages:docs/posts/2015-10-14-elasticite-fresnel.html\n",
      ".  render_pages:docs/posts/2014-06-25-animation-in-a-notebook.html\n",
      ".  render_pages:docs/posts/2015-11-26-elasticite-scenario-vague.html\n",
      ".  render_pages:docs/posts/2014-10-20_motion-plaid.html\n",
      ".  render_pages:docs/posts/2015-11-27-elasticite-geometrie.html\n",
      ".  render_pages:docs/posts/2014-10-21-statistics-of-time-varying-images.html\n",
      ".  render_pages:docs/posts/2015-05-06-reproducing-olshausens-classical-sparsenet-part-2.html\n",
      ".  render_pages:docs/posts/2014-11-10_orientation_biphoton.html\n",
      ".  render_pages:docs/posts/2017-03-29-testing-comps-pcum.html\n",
      ".  render_pages:docs/posts/2014-11-10_orientation.html\n",
      ".  render_pages:docs/posts/2015-09-30-elasticite-vapory-and-reflections.html\n",
      ".  render_pages:docs/posts/2014-10-15-trying-to-include-javascript-in-a-notebook.html\n",
      ".  render_pages:docs/posts/2016-04-24_a-wave-going-backwards.html\n",
      ".  render_pages:docs/posts/2014-11-22-reading-kml-my-tracks-files-in-ipython.html\n",
      ".  render_pages:docs/posts/2015-12-11-reproducing-olshausens-classical-sparsenet-part-4.html\n",
      ".  render_pages:docs/posts/2014-10-24_a-bit-of-fun-with-gravity-waves.html\n",
      ".  render_pages:docs/posts/2016-02-19-compiling-and-using-pynn-+-nest-+-python3.html\n",
      ".  render_pages:docs/posts/2014-06-18-stage-m1-chloe-pasturel-week-5.html\n",
      ".  render_pages:docs/posts/2016-10-01-une-tarte-au-pi-nommee-monte-carlo.html\n",
      ".  render_pages:docs/posts/2014-06-18-stage-m1-chloe-pasturel-week-6.html\n",
      ".  render_pages:docs/posts/2015-02-26-elastic-grids-of-edges.html\n",
      ".  render_pages:docs/posts/2014-06-25-grille-hexagonale.html\n",
      ".  render_pages:docs/posts/2017-03-29-testing-comps-fastpcum_scripted.html\n",
      ".  render_pages:docs/posts/2014-12-07-can-we-live-without-google-and-co.html\n",
      ".  render_pages:docs/posts/2014-10-15-setting-options-in-holoviews.html\n",
      ".  render_pages:docs/posts/2017-10-06-improving-calls-to-the-loggabor-library.html\n",
      ".  render_pages:docs/posts/2014-06-18-stage-m1-chloe-pasturel-week-2.html\n",
      ".  render_pages:docs/posts/2016-07-16-predictive-coding-of-motion-in-an-aperture.html\n",
      ".  render_pages:docs/posts/2014-06-18-stage-m1-chloe-pasturel-plan-du-stage.html\n",
      ".  render_pages:docs/posts/2015-12-05-elasticite-scenario-final-montage.html\n",
      ".  render_pages:docs/posts/2014-02-11 Converting MoinMoin pages to Nikola.html\n",
      ".  render_pages:docs/posts/2015-02-17-creating-an-animation-using-gizeh-+-moviepy.html\n",
      ".  render_pages:docs/posts/2016-06-01-compiling-and-using-pynn-+-nest-+-python3.html\n",
      ".  render_pages:docs/stories/a-study-in-scarlet.html\n",
      ".  render_pages:docs/posts/2017-12-13-accessing-the-data-from-a-pupil-recording.html\n",
      ".  render_pages:docs/posts/2016-01-18-bootstrappost-elasticite.html\n",
      ".  render_pages:docs/stories/extending.html\n",
      ".  render_pages:docs/posts/2015-02-19_an-optic-flow-with-motion-clouds.html\n",
      ".  render_pages:docs/posts/2015-12-11-reproducing-olshausens-classical-sparsenet-part-3.html\n",
      ".  render_pages:docs/posts/2014-11-15-reading-kml-my-tracks-files-in-ipython.html\n",
      ".  render_pages:docs/posts/2015-05-21-a-simple-pre-processing-filter-for-image-processing.html\n",
      ".  render_pages:docs/posts/2014-06-18-stage-m1-chloe-pasturel-week-1.html\n",
      ".  render_pages:docs/posts/2013-11-12-craac.html\n",
      ".  render_pages:docs/stories/upgrading-to-v6.html\n",
      ".  render_pages:docs/posts/2015-11-02-multiprocessing.html\n",
      ".  render_pages:docs/stories/social_buttons.html\n",
      ".  render_pages:docs/posts/2017-03-14-reproducing-olshausens-classical-sparsenet.html\n",
      ".  render_pages:docs/posts/2015-07-02_smooth-transition-between-mcs.html\n",
      ".  render_pages:docs/posts/2015-04-26-moviepy-and-python3.html\n",
      ".  render_pages:docs/posts/2014-06-18-stage-m1-chloe-pasturel-week-3.html\n",
      ".  render_pages:docs/posts/2018-01-16-testing-more-complex-trajectories.html\n",
      ".  render_pages:docs/posts/2016-01-27_mirror-clouds.html\n",
      ".  render_pages:docs/posts/2014-02-15-converting-moinmoin-pages-to-nikola.html\n",
      ".  render_pages:docs/posts/2017-11-21_retina_sparseness.html\n",
      ".  render_pages:docs/posts/2016-04-06_irm-clouds.html\n",
      ".  render_pages:docs/posts/2014-06-18-stage-m1-chloe-pasturel-week-4.html\n",
      ".  render_pages:docs/posts/2015-11-02-elasticite-expansion-en-miroir-principes.html\n",
      ".  render_pages:docs/posts/2014-01-14-trying-out-ipython-blogging.html\n",
      ".  render_pages:docs/posts/2017-03-29-testing-comps-fastpcum.html\n",
      ".  render_pages:docs/stories/charts.html\n",
      ".  render_pages:docs/posts/2015-10-27-elasticite-expansion.html\n",
      ".  render_pages:docs/posts/2014-02-28-batch-removing-files-on-a-ftp-server.html\n",
      ".  render_pages:docs/posts/2015-11-02-elasticite-expansion-en-miroir-exploration-parametres.html\n",
      ".  render_pages:docs/posts/2015-05-05-reproducing-olshausens-classical-sparsenet.html\n",
      ".  render_pages:docs/posts/2015-05-12-extending-olshausens-classical-sparsenet.html\n",
      ".  render_pages:docs/posts/2015-02-19-tiling-motion-clouds.html\n",
      ".  render_pages:docs/posts/2015-02-25-saving-files-in-holoviews.html\n",
      ".  render_pages:docs/posts/2015-10-27-elasticite-expansion-reaction-diffusion.html\n",
      ".  render_pages:docs/posts/2015-03-26_the-vancouver-set.html\n",
      ".  render_pages:docs/posts/2015-04-10-elastic-force.html\n",
      ".  render_pages:docs/posts/2015-04-30-trame-sensorielle.html\n",
      ".  render_pages:docs/posts/2015-10-27-elasticite-rapsberry-pyserial.html\n",
      ".  render_pages:docs/posts/2015-10-14-elasticite-control-scenario.html\n",
      ".  create_bundles:docs/assets/css/all-nocdn.css\n",
      ".  create_bundles:docs/assets/css/all.css\n",
      ".  create_bundles:docs/assets/js/all-nocdn.js\n",
      ".  create_bundles:docs/assets/js/all.js\n",
      ".  sitemap:docs/sitemap.xml\n",
      ".  sitemap:docs/sitemapindex.xml\n"
     ]
    }
   ],
   "source": [
    "!nikola build"
   ]
  },
  {
   "cell_type": "raw",
   "metadata": {},
   "source": [
    "%rm posts/__temp__.mp4 \tposts/debug.log"
   ]
  },
  {
   "cell_type": "code",
   "execution_count": 19,
   "metadata": {},
   "outputs": [
    {
     "name": "stdout",
     "output_type": "stream",
     "text": [
      "Scanning posts.........done!\n",
      "\u001b[1m[2023-02-02 09:05:27] INFO: deploy: => preset 'default'\u001b[0m\n",
      "\u001b[1m[2023-02-02 09:05:27] INFO: deploy: ==> git add posts/* docs/* files/*\u001b[0m\n",
      "\u001b[1m[2023-02-02 09:05:39] INFO: deploy: ==> git commit -am' updating site'\u001b[0m\n",
      "[master 4156b10c]  updating site\n",
      " 261 files changed, 4738 insertions(+), 1656 deletions(-)\n",
      " create mode 100644 docs/posts/2023-02-02-implementing-a-retinotopic-transform-using-grid_sample-from-pytorch.html\n",
      " create mode 100644 docs/posts/2023-02-02-implementing-a-retinotopic-transform-using-grid_sample-from-pytorch.ipynb\n",
      " create mode 100644 posts/2023-02-02-implementing-a-retinotopic-transform-using-grid_sample-from-pytorch.ipynb\n",
      " create mode 100644 posts/2023-02-02-implementing-a-retinotopic-transform-using-grid_sample-from-pytorch.meta\n",
      "\u001b[1m[2023-02-02 09:05:42] INFO: deploy: ==> git push\u001b[0m\n",
      "Enumerating objects: 509, done.\n",
      "Counting objects: 100% (509/509), done.\n",
      "Delta compression using up to 36 threads\n",
      "Compressing objects: 100% (271/271), done.\n",
      "Writing objects: 100% (271/271), 62.74 MiB | 14.27 MiB/s, done.\n",
      "Total 271 (delta 246), reused 0 (delta 0), pack-reused 0\n",
      "remote: Resolving deltas: 100% (246/246), completed with 230 local objects.\u001b[K\n",
      "To https://github.com/laurentperrinet/sciblog.git\n",
      "   f9939377..4156b10c  master -> master\n",
      "\u001b[1m[2023-02-02 09:06:14] INFO: deploy: Successful deployment\u001b[0m\n"
     ]
    }
   ],
   "source": [
    "!nikola deploy"
   ]
  },
  {
   "cell_type": "raw",
   "metadata": {},
   "source": [
    "import time\n",
    "time.sleep(3600*0)"
   ]
  },
  {
   "cell_type": "code",
   "execution_count": 20,
   "metadata": {},
   "outputs": [
    {
     "name": "stdout",
     "output_type": "stream",
     "text": [
      "Scanning posts.........done!\n",
      ".  render_taxonomies:docs/index.html\n",
      "Scanning posts.........done!\n",
      "\u001b[1m[2023-02-02 12:05:24] INFO: deploy: => preset 'default'\u001b[0m\n",
      "\u001b[1m[2023-02-02 12:05:24] INFO: deploy: ==> git add posts/* docs/* files/*\u001b[0m\n"
     ]
    }
   ],
   "source": [
    "!nikola build ; nikola deploy"
   ]
  },
  {
   "cell_type": "code",
   "execution_count": null,
   "metadata": {},
   "outputs": [
    {
     "name": "stdout",
     "output_type": "stream",
     "text": [
      "On branch master\n",
      "Your branch is up to date with 'origin/master'.\n",
      "\n",
      "nothing to commit, working tree clean\n"
     ]
    }
   ],
   "source": [
    "!git status"
   ]
  },
  {
   "cell_type": "code",
   "execution_count": null,
   "metadata": {},
   "outputs": [],
   "source": [
    "!open https://laurentperrinet.github.io/sciblog"
   ]
  },
  {
   "cell_type": "markdown",
   "metadata": {},
   "source": [
    "Voilà!"
   ]
  }
 ],
 "metadata": {
  "kernelspec": {
   "display_name": "Python 3",
   "language": "python",
   "name": "python3"
  },
  "language_info": {
   "codemirror_mode": {
    "name": "ipython",
    "version": 3
   },
   "file_extension": ".py",
   "mimetype": "text/x-python",
   "name": "python",
   "nbconvert_exporter": "python",
   "pygments_lexer": "ipython3",
   "version": "3.10.8"
  },
  "toc": {
   "base_numbering": 1,
   "nav_menu": {
    "height": "117px",
    "width": "252px"
   },
   "number_sections": true,
   "sideBar": true,
   "skip_h1_title": false,
   "title_cell": "Table of Contents",
   "title_sidebar": "Contents",
   "toc_cell": false,
   "toc_position": {},
   "toc_section_display": "block",
   "toc_window_display": false
  },
  "vscode": {
   "interpreter": {
    "hash": "949777d72b0d2535278d3dc13498b2535136f6dfe0678499012e853ee9abcab1"
   }
  }
 },
 "nbformat": 4,
 "nbformat_minor": 4
}
