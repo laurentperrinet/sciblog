{
 "cells": [
  {
   "cell_type": "markdown",
   "metadata": {},
   "source": [
    "# installing and updating nikola"
   ]
  },
  {
   "cell_type": "code",
   "execution_count": 4,
   "metadata": {
    "scrolled": true
   },
   "outputs": [],
   "source": [
    "#!python3 -m pip uninstall -y nikola"
   ]
  },
  {
   "cell_type": "code",
   "execution_count": 5,
   "metadata": {
    "ExecuteTime": {
     "end_time": "2018-09-07T10:24:17.333057Z",
     "start_time": "2018-09-07T10:24:14.585077Z"
    }
   },
   "outputs": [
    {
     "name": "stdout",
     "output_type": "stream",
     "text": [
      "Collecting Nikola[extras]\n",
      "  Using cached Nikola-8.1.1-py3-none-any.whl (1.4 MB)\n",
      "Requirement already satisfied, skipping upgrade: requests>=2.2.0 in /usr/local/lib/python3.8/site-packages (from Nikola[extras]) (2.24.0)\n",
      "Requirement already satisfied, skipping upgrade: python-dateutil>=2.6.0 in /usr/local/lib/python3.8/site-packages (from Nikola[extras]) (2.8.1)\n",
      "Requirement already satisfied, skipping upgrade: blinker>=1.3 in /usr/local/lib/python3.8/site-packages (from Nikola[extras]) (1.4)\n",
      "Requirement already satisfied, skipping upgrade: docutils>=0.13 in /usr/local/lib/python3.8/site-packages (from Nikola[extras]) (0.16)\n",
      "Requirement already satisfied, skipping upgrade: setuptools>=24.2.0 in /usr/local/lib/python3.8/site-packages (from Nikola[extras]) (49.2.0)\n",
      "Requirement already satisfied, skipping upgrade: Babel>=2.6.0 in /usr/local/lib/python3.8/site-packages (from Nikola[extras]) (2.8.0)\n",
      "Requirement already satisfied, skipping upgrade: Markdown>=3.0.0 in /usr/local/lib/python3.8/site-packages (from Nikola[extras]) (3.2.2)\n",
      "Requirement already satisfied, skipping upgrade: unidecode>=0.04.16 in /usr/local/lib/python3.8/site-packages (from Nikola[extras]) (1.1.1)\n",
      "Requirement already satisfied, skipping upgrade: Yapsy>=1.11.223 in /usr/local/lib/python3.8/site-packages (from Nikola[extras]) (1.12.2)\n",
      "Requirement already satisfied, skipping upgrade: natsort>=3.5.2 in /usr/local/lib/python3.8/site-packages (from Nikola[extras]) (7.0.1)\n",
      "Requirement already satisfied, skipping upgrade: piexif>=1.0.3 in /usr/local/lib/python3.8/site-packages (from Nikola[extras]) (1.1.3)\n",
      "Requirement already satisfied, skipping upgrade: Pillow>=2.4.0 in /usr/local/lib/python3.8/site-packages (from Nikola[extras]) (7.2.0)\n",
      "Requirement already satisfied, skipping upgrade: lxml>=3.3.5 in /usr/local/lib/python3.8/site-packages (from Nikola[extras]) (4.5.2)\n",
      "Collecting mako>=1.0.0\n",
      "  Using cached Mako-1.1.3-py2.py3-none-any.whl (75 kB)\n",
      "Processing /Users/laurentperrinet/Library/Caches/pip/wheels/11/a0/10/758a3f51d5f6c300e3cd2ee71e0514c6345bed41b214cfa274/doit-0.32.0-py3-none-any.whl\n",
      "Requirement already satisfied, skipping upgrade: Pygments>=1.6 in /usr/local/lib/python3.8/site-packages (from Nikola[extras]) (2.6.1)\n",
      "Requirement already satisfied, skipping upgrade: PyRSS2Gen>=1.1 in /usr/local/lib/python3.8/site-packages (from Nikola[extras]) (1.1)\n",
      "Requirement already satisfied, skipping upgrade: Jinja2>=2.7.2; extra == \"extras\" in /usr/local/lib/python3.8/site-packages (from Nikola[extras]) (2.11.2)\n",
      "Processing /Users/laurentperrinet/Library/Caches/pip/wheels/f8/39/45/b80612a24e42d9de0bd5eaf69eaf953edc25e1a9809d3d989f/watchdog-0.10.3-cp38-cp38-macosx_10_15_x86_64.whl\n",
      "Requirement already satisfied, skipping upgrade: toml>=0.9.2; extra == \"extras\" in /usr/local/lib/python3.8/site-packages (from Nikola[extras]) (0.10.1)\n",
      "Processing /Users/laurentperrinet/Library/Caches/pip/wheels/0b/e9/98/c888501e8dd2166da059e4f8418694de9b50b48a7192712be9/typogrify-2.0.7-py2.py3-none-any.whl\n",
      "Collecting pyphen>=0.9.1; extra == \"extras\"\n",
      "  Using cached Pyphen-0.9.5-py2.py3-none-any.whl (3.0 MB)\n",
      "Processing /Users/laurentperrinet/Library/Caches/pip/wheels/ab/e4/62/04f67244fffa7c74b0cfaee1a6093249a114c824144c1e9e5b/micawber-0.5.1-py3-none-any.whl\n",
      "Processing /Users/laurentperrinet/Library/Caches/pip/wheels/f4/8d/27/0489d1d151f6e32fd879e165c4da1f2de95013d2afd4632366/husl-4.0.3-py3-none-any.whl\n",
      "Collecting ruamel.yaml>=0.15; extra == \"extras\"\n",
      "  Using cached ruamel.yaml-0.16.10-py2.py3-none-any.whl (111 kB)\n",
      "Requirement already satisfied, skipping upgrade: ipykernel>=4.0.0; extra == \"extras\" in /usr/local/lib/python3.8/site-packages (from Nikola[extras]) (5.3.4)\n",
      "Collecting aiohttp>=2.3.8; extra == \"extras\"\n",
      "  Using cached aiohttp-3.6.2-py3-none-any.whl (441 kB)\n",
      "Collecting pygal>=2.0.0; extra == \"extras\"\n",
      "  Using cached pygal-2.4.0-py2.py3-none-any.whl (127 kB)\n",
      "Requirement already satisfied, skipping upgrade: notebook>=4.0.0; extra == \"extras\" in /usr/local/lib/python3.8/site-packages (from Nikola[extras]) (6.0.3)\n",
      "Processing /Users/laurentperrinet/Library/Caches/pip/wheels/22/81/a7/9869b61a68fb27d3b2a81a3b186a0b5195cb06de96a6c56afb/phpserialize-1.3-py3-none-any.whl\n",
      "Requirement already satisfied, skipping upgrade: ghp-import2>=1.0.0; extra == \"extras\" in /usr/local/lib/python3.8/site-packages (from Nikola[extras]) (1.0.1)\n",
      "Requirement already satisfied, skipping upgrade: chardet<4,>=3.0.2 in /usr/local/lib/python3.8/site-packages (from requests>=2.2.0->Nikola[extras]) (3.0.4)\n",
      "Requirement already satisfied, skipping upgrade: certifi>=2017.4.17 in /usr/local/lib/python3.8/site-packages (from requests>=2.2.0->Nikola[extras]) (2020.6.20)\n",
      "Requirement already satisfied, skipping upgrade: urllib3!=1.25.0,!=1.25.1,<1.26,>=1.21.1 in /usr/local/lib/python3.8/site-packages (from requests>=2.2.0->Nikola[extras]) (1.25.9)\n",
      "Requirement already satisfied, skipping upgrade: idna<3,>=2.5 in /usr/local/lib/python3.8/site-packages (from requests>=2.2.0->Nikola[extras]) (2.10)\n",
      "Requirement already satisfied, skipping upgrade: six>=1.5 in /usr/local/Cellar/protobuf/3.12.3_1/libexec/lib/python3.8/site-packages (from python-dateutil>=2.6.0->Nikola[extras]) (1.15.0)\n",
      "Requirement already satisfied, skipping upgrade: pytz>=2015.7 in /usr/local/lib/python3.8/site-packages (from Babel>=2.6.0->Nikola[extras]) (2020.1)\n",
      "Requirement already satisfied, skipping upgrade: MarkupSafe>=0.9.2 in /usr/local/lib/python3.8/site-packages (from mako>=1.0.0->Nikola[extras]) (1.1.1)\n",
      "Requirement already satisfied, skipping upgrade: cloudpickle in /usr/local/lib/python3.8/site-packages (from doit>=0.32.0->Nikola[extras]) (1.5.0)\n",
      "Requirement already satisfied, skipping upgrade: macfsevents; sys_platform == \"darwin\" in /usr/local/lib/python3.8/site-packages (from doit>=0.32.0->Nikola[extras]) (0.8.1)\n",
      "Processing /Users/laurentperrinet/Library/Caches/pip/wheels/4c/8e/7e/72fbc243e1aeecae64a96875432e70d4e92f3d2d18123be004/pathtools-0.1.2-py3-none-any.whl\n",
      "Collecting smartypants>=1.8.3\n",
      "  Using cached smartypants-2.0.1-py2.py3-none-any.whl (9.9 kB)\n",
      "Processing /Users/laurentperrinet/Library/Caches/pip/wheels/e4/3e/eb/975034325f52bc0d5897b5f8603974d6a79a964aaeb0ec0293/ruamel.yaml.clib-0.2.0-cp38-cp38-macosx_10_15_x86_64.whl\n",
      "Requirement already satisfied, skipping upgrade: appnope; platform_system == \"Darwin\" in /usr/local/lib/python3.8/site-packages (from ipykernel>=4.0.0; extra == \"extras\"->Nikola[extras]) (0.1.0)\n",
      "Requirement already satisfied, skipping upgrade: jupyter-client in /usr/local/lib/python3.8/site-packages (from ipykernel>=4.0.0; extra == \"extras\"->Nikola[extras]) (6.1.6)\n",
      "Requirement already satisfied, skipping upgrade: tornado>=4.2 in /usr/local/lib/python3.8/site-packages (from ipykernel>=4.0.0; extra == \"extras\"->Nikola[extras]) (6.0.4)\n",
      "Requirement already satisfied, skipping upgrade: traitlets>=4.1.0 in /usr/local/lib/python3.8/site-packages (from ipykernel>=4.0.0; extra == \"extras\"->Nikola[extras]) (4.3.3)\n",
      "Requirement already satisfied, skipping upgrade: ipython>=5.0.0 in /usr/local/lib/python3.8/site-packages (from ipykernel>=4.0.0; extra == \"extras\"->Nikola[extras]) (7.16.1)\n",
      "Requirement already satisfied, skipping upgrade: attrs>=17.3.0 in /usr/local/lib/python3.8/site-packages (from aiohttp>=2.3.8; extra == \"extras\"->Nikola[extras]) (19.3.0)\n",
      "Collecting async-timeout<4.0,>=3.0\n",
      "  Using cached async_timeout-3.0.1-py3-none-any.whl (8.2 kB)\n",
      "Collecting multidict<5.0,>=4.5\n",
      "  Using cached multidict-4.7.6-cp38-cp38-macosx_10_14_x86_64.whl (48 kB)\n",
      "Collecting yarl<2.0,>=1.0\n",
      "  Downloading yarl-1.5.0-cp38-cp38-macosx_10_14_x86_64.whl (128 kB)\n",
      "\u001b[K     |████████████████████████████████| 128 kB 284 kB/s eta 0:00:01\n",
      "\u001b[?25hRequirement already satisfied, skipping upgrade: pyzmq>=17 in /usr/local/lib/python3.8/site-packages (from notebook>=4.0.0; extra == \"extras\"->Nikola[extras]) (19.0.1)\n",
      "Requirement already satisfied, skipping upgrade: prometheus-client in /usr/local/lib/python3.8/site-packages (from notebook>=4.0.0; extra == \"extras\"->Nikola[extras]) (0.8.0)\n",
      "Requirement already satisfied, skipping upgrade: ipython-genutils in /usr/local/lib/python3.8/site-packages (from notebook>=4.0.0; extra == \"extras\"->Nikola[extras]) (0.2.0)\n",
      "Requirement already satisfied, skipping upgrade: Send2Trash in /usr/local/lib/python3.8/site-packages (from notebook>=4.0.0; extra == \"extras\"->Nikola[extras]) (1.5.0)\n",
      "Requirement already satisfied, skipping upgrade: terminado>=0.8.1 in /usr/local/lib/python3.8/site-packages (from notebook>=4.0.0; extra == \"extras\"->Nikola[extras]) (0.8.3)\n",
      "Requirement already satisfied, skipping upgrade: nbconvert in /usr/local/lib/python3.8/site-packages (from notebook>=4.0.0; extra == \"extras\"->Nikola[extras]) (5.6.1)\n",
      "Requirement already satisfied, skipping upgrade: nbformat in /usr/local/lib/python3.8/site-packages (from notebook>=4.0.0; extra == \"extras\"->Nikola[extras]) (5.0.7)\n",
      "Requirement already satisfied, skipping upgrade: jupyter-core>=4.6.1 in /usr/local/lib/python3.8/site-packages (from notebook>=4.0.0; extra == \"extras\"->Nikola[extras]) (4.6.3)\n",
      "Requirement already satisfied, skipping upgrade: decorator in /usr/local/lib/python3.8/site-packages (from traitlets>=4.1.0->ipykernel>=4.0.0; extra == \"extras\"->Nikola[extras]) (4.4.2)\n",
      "Requirement already satisfied, skipping upgrade: prompt-toolkit!=3.0.0,!=3.0.1,<3.1.0,>=2.0.0 in /usr/local/lib/python3.8/site-packages (from ipython>=5.0.0->ipykernel>=4.0.0; extra == \"extras\"->Nikola[extras]) (3.0.5)\n",
      "Requirement already satisfied, skipping upgrade: backcall in /usr/local/lib/python3.8/site-packages (from ipython>=5.0.0->ipykernel>=4.0.0; extra == \"extras\"->Nikola[extras]) (0.2.0)\n",
      "Requirement already satisfied, skipping upgrade: jedi>=0.10 in /usr/local/lib/python3.8/site-packages (from ipython>=5.0.0->ipykernel>=4.0.0; extra == \"extras\"->Nikola[extras]) (0.17.2)\n",
      "Requirement already satisfied, skipping upgrade: pexpect; sys_platform != \"win32\" in /usr/local/lib/python3.8/site-packages (from ipython>=5.0.0->ipykernel>=4.0.0; extra == \"extras\"->Nikola[extras]) (4.8.0)\n",
      "Requirement already satisfied, skipping upgrade: pickleshare in /usr/local/lib/python3.8/site-packages (from ipython>=5.0.0->ipykernel>=4.0.0; extra == \"extras\"->Nikola[extras]) (0.7.5)\n",
      "Requirement already satisfied, skipping upgrade: typing-extensions>=3.7.4 in /usr/local/lib/python3.8/site-packages (from yarl<2.0,>=1.0->aiohttp>=2.3.8; extra == \"extras\"->Nikola[extras]) (3.7.4.2)\n",
      "Requirement already satisfied, skipping upgrade: ptyprocess; os_name != \"nt\" in /usr/local/lib/python3.8/site-packages (from terminado>=0.8.1->notebook>=4.0.0; extra == \"extras\"->Nikola[extras]) (0.6.0)\n",
      "Requirement already satisfied, skipping upgrade: pandocfilters>=1.4.1 in /usr/local/lib/python3.8/site-packages (from nbconvert->notebook>=4.0.0; extra == \"extras\"->Nikola[extras]) (1.4.2)\n",
      "Requirement already satisfied, skipping upgrade: bleach in /usr/local/lib/python3.8/site-packages (from nbconvert->notebook>=4.0.0; extra == \"extras\"->Nikola[extras]) (3.1.5)\n",
      "Requirement already satisfied, skipping upgrade: testpath in /usr/local/lib/python3.8/site-packages (from nbconvert->notebook>=4.0.0; extra == \"extras\"->Nikola[extras]) (0.4.4)\n",
      "Requirement already satisfied, skipping upgrade: entrypoints>=0.2.2 in /usr/local/lib/python3.8/site-packages (from nbconvert->notebook>=4.0.0; extra == \"extras\"->Nikola[extras]) (0.3)\n",
      "Requirement already satisfied, skipping upgrade: mistune<2,>=0.8.1 in /usr/local/lib/python3.8/site-packages (from nbconvert->notebook>=4.0.0; extra == \"extras\"->Nikola[extras]) (0.8.4)\n",
      "Requirement already satisfied, skipping upgrade: defusedxml in /usr/local/lib/python3.8/site-packages (from nbconvert->notebook>=4.0.0; extra == \"extras\"->Nikola[extras]) (0.6.0)\n",
      "Requirement already satisfied, skipping upgrade: jsonschema!=2.5.0,>=2.4 in /usr/local/lib/python3.8/site-packages (from nbformat->notebook>=4.0.0; extra == \"extras\"->Nikola[extras]) (3.2.0)\n",
      "Requirement already satisfied, skipping upgrade: wcwidth in /usr/local/lib/python3.8/site-packages (from prompt-toolkit!=3.0.0,!=3.0.1,<3.1.0,>=2.0.0->ipython>=5.0.0->ipykernel>=4.0.0; extra == \"extras\"->Nikola[extras]) (0.2.5)\n",
      "Requirement already satisfied, skipping upgrade: parso<0.8.0,>=0.7.0 in /usr/local/lib/python3.8/site-packages (from jedi>=0.10->ipython>=5.0.0->ipykernel>=4.0.0; extra == \"extras\"->Nikola[extras]) (0.7.1)\n",
      "Requirement already satisfied, skipping upgrade: webencodings in /usr/local/lib/python3.8/site-packages (from bleach->nbconvert->notebook>=4.0.0; extra == \"extras\"->Nikola[extras]) (0.5.1)\n",
      "Requirement already satisfied, skipping upgrade: packaging in /usr/local/lib/python3.8/site-packages (from bleach->nbconvert->notebook>=4.0.0; extra == \"extras\"->Nikola[extras]) (20.4)\n",
      "Requirement already satisfied, skipping upgrade: pyrsistent>=0.14.0 in /usr/local/lib/python3.8/site-packages (from jsonschema!=2.5.0,>=2.4->nbformat->notebook>=4.0.0; extra == \"extras\"->Nikola[extras]) (0.16.0)\n",
      "Requirement already satisfied, skipping upgrade: pyparsing>=2.0.2 in /usr/local/lib/python3.8/site-packages (from packaging->bleach->nbconvert->notebook>=4.0.0; extra == \"extras\"->Nikola[extras]) (2.4.7)\n",
      "Installing collected packages: mako, doit, pathtools, watchdog, smartypants, typogrify, pyphen, micawber, husl, ruamel.yaml.clib, ruamel.yaml, async-timeout, multidict, yarl, aiohttp, pygal, phpserialize, Nikola\n",
      "Successfully installed Nikola-8.1.1 aiohttp-3.6.2 async-timeout-3.0.1 doit-0.32.0 husl-4.0.3 mako-1.1.3 micawber-0.5.1 multidict-4.7.6 pathtools-0.1.2 phpserialize-1.3 pygal-2.4.0 pyphen-0.9.5 ruamel.yaml-0.16.10 ruamel.yaml.clib-0.2.0 smartypants-2.0.1 typogrify-2.0.7 watchdog-0.10.3 yarl-1.5.0\n"
     ]
    }
   ],
   "source": [
    "!python3 -m pip install -U \"Nikola[extras]\""
   ]
  },
  {
   "cell_type": "code",
   "execution_count": 6,
   "metadata": {
    "ExecuteTime": {
     "end_time": "2018-09-07T10:24:48.097536Z",
     "start_time": "2018-09-07T10:24:43.118411Z"
    }
   },
   "outputs": [
    {
     "name": "stdout",
     "output_type": "stream",
     "text": [
      "Collecting rst2html5\n",
      "  Using cached rst2html5-1.10.6-py2.py3-none-any.whl (19 kB)\n",
      "Collecting docutils>=0.14\n",
      "  Using cached docutils-0.16-py2.py3-none-any.whl (548 kB)\n",
      "Collecting pygments>=2.0.2\n",
      "  Using cached Pygments-2.6.1-py3-none-any.whl (914 kB)\n",
      "Collecting genshi>=0.7\n",
      "  Using cached Genshi-0.7.3-py3-none-any.whl (178 kB)\n",
      "Installing collected packages: docutils, pygments, genshi, rst2html5\n",
      "  Attempting uninstall: docutils\n",
      "    Found existing installation: docutils 0.16\n",
      "    Uninstalling docutils-0.16:\n",
      "      Successfully uninstalled docutils-0.16\n",
      "  Attempting uninstall: pygments\n",
      "    Found existing installation: Pygments 2.6.1\n",
      "    Uninstalling Pygments-2.6.1:\n",
      "      Successfully uninstalled Pygments-2.6.1\n",
      "  Attempting uninstall: genshi\n",
      "    Found existing installation: Genshi 0.7.3\n",
      "    Uninstalling Genshi-0.7.3:\n",
      "      Successfully uninstalled Genshi-0.7.3\n",
      "  Attempting uninstall: rst2html5\n",
      "    Found existing installation: rst2html5 1.10.6\n",
      "    Uninstalling rst2html5-1.10.6:\n",
      "      Successfully uninstalled rst2html5-1.10.6\n",
      "Successfully installed docutils-0.16 genshi-0.7.3 pygments-2.6.1 rst2html5-1.10.6\n"
     ]
    }
   ],
   "source": [
    "#!python3 -m pip uninstall -y rst2html5\n",
    "!python3 -m pip install -U --force rst2html5"
   ]
  },
  {
   "cell_type": "code",
   "execution_count": 7,
   "metadata": {
    "ExecuteTime": {
     "end_time": "2018-09-07T10:24:57.383520Z",
     "start_time": "2018-09-07T10:24:54.879696Z"
    }
   },
   "outputs": [
    {
     "name": "stdout",
     "output_type": "stream",
     "text": [
      "Collecting html5lib\n",
      "  Downloading html5lib-1.1-py2.py3-none-any.whl (112 kB)\n",
      "\u001b[K     |████████████████████████████████| 112 kB 200 kB/s eta 0:00:01\n",
      "\u001b[?25hCollecting six>=1.9\n",
      "  Using cached six-1.15.0-py2.py3-none-any.whl (10 kB)\n",
      "Collecting webencodings\n",
      "  Using cached webencodings-0.5.1-py2.py3-none-any.whl (11 kB)\n",
      "\u001b[31mERROR: datashader 0.11.0 has requirement numba<0.49,>=0.37.0, but you'll have numba 0.50.1 which is incompatible.\u001b[0m\n",
      "\u001b[31mERROR: astroid 2.4.2 has requirement lazy-object-proxy==1.4.*, but you'll have lazy-object-proxy 1.5.1 which is incompatible.\u001b[0m\n",
      "Installing collected packages: six, webencodings, html5lib\n",
      "  Attempting uninstall: six\n",
      "    Found existing installation: six 1.15.0\n",
      "    Uninstalling six-1.15.0:\n",
      "      Successfully uninstalled six-1.15.0\n",
      "  Attempting uninstall: webencodings\n",
      "    Found existing installation: webencodings 0.5.1\n",
      "    Uninstalling webencodings-0.5.1:\n",
      "      Successfully uninstalled webencodings-0.5.1\n",
      "Successfully installed html5lib-1.1 six-1.15.0 webencodings-0.5.1\n"
     ]
    }
   ],
   "source": [
    "#!pip uninstall -y html5lib\n",
    "!python3 -m pip install -U --force html5lib"
   ]
  },
  {
   "cell_type": "code",
   "execution_count": 8,
   "metadata": {
    "ExecuteTime": {
     "end_time": "2018-09-07T10:25:37.163105Z",
     "start_time": "2018-09-07T10:25:34.804602Z"
    }
   },
   "outputs": [
    {
     "name": "stdout",
     "output_type": "stream",
     "text": [
      "\u001b[1;33m[2020-07-28 20:27:11] WARNING: SyntaxWarning: conf.py:142: \"is\" with a literal. Did you mean \"==\"?\u001b[0m\n",
      "Nikola v8.1.1\n"
     ]
    }
   ],
   "source": [
    "!nikola version"
   ]
  },
  {
   "cell_type": "code",
   "execution_count": 9,
   "metadata": {
    "ExecuteTime": {
     "end_time": "2018-09-07T10:25:40.747475Z",
     "start_time": "2018-09-07T10:25:38.376282Z"
    }
   },
   "outputs": [
    {
     "name": "stdout",
     "output_type": "stream",
     "text": [
      "Nikola v8.1.1\n",
      "Nikola is up-to-date\n"
     ]
    }
   ],
   "source": [
    "!nikola version --check"
   ]
  },
  {
   "cell_type": "markdown",
   "metadata": {},
   "source": [
    "# Adding a new post"
   ]
  },
  {
   "cell_type": "code",
   "execution_count": 1,
   "metadata": {
    "ExecuteTime": {
     "end_time": "2018-11-05T14:34:58.343345Z",
     "start_time": "2018-11-05T14:34:58.224501Z"
    }
   },
   "outputs": [
    {
     "name": "stdout",
     "output_type": "stream",
     "text": [
      "Sat Jul  4 11:57:19 CEST 2020\n"
     ]
    }
   ],
   "source": [
    "!date\n",
    "import datetime"
   ]
  },
  {
   "cell_type": "code",
   "execution_count": 2,
   "metadata": {
    "ExecuteTime": {
     "end_time": "2018-11-05T14:34:58.697822Z",
     "start_time": "2018-11-05T14:34:58.694703Z"
    }
   },
   "outputs": [
    {
     "name": "stdout",
     "output_type": "stream",
     "text": [
      "2020-07-04 11:57:24.066163\n"
     ]
    }
   ],
   "source": [
    "print(datetime.datetime.now())"
   ]
  },
  {
   "cell_type": "code",
   "execution_count": 3,
   "metadata": {
    "ExecuteTime": {
     "end_time": "2018-11-05T14:34:59.176807Z",
     "start_time": "2018-11-05T14:34:59.173942Z"
    }
   },
   "outputs": [
    {
     "name": "stdout",
     "output_type": "stream",
     "text": [
      "2020-07-04\n"
     ]
    }
   ],
   "source": [
    "now = datetime.datetime.now().date()\n",
    "date = now.isoformat()#[2:]\n",
    "print(date)"
   ]
  },
  {
   "cell_type": "code",
   "execution_count": 4,
   "metadata": {
    "ExecuteTime": {
     "end_time": "2018-11-05T14:34:58.343345Z",
     "start_time": "2018-11-05T14:34:58.224501Z"
    }
   },
   "outputs": [
    {
     "name": "stdout",
     "output_type": "stream",
     "text": [
      "2020-07-04\n"
     ]
    }
   ],
   "source": [
    "import datetime\n",
    "date = datetime.datetime.now().date().isoformat()\n",
    "print(date)"
   ]
  },
  {
   "cell_type": "code",
   "execution_count": 5,
   "metadata": {},
   "outputs": [
    {
     "data": {
      "text/plain": [
       "\u001b[0;31mDocstring:\u001b[0m Return string in ISO 8601 format, YYYY-MM-DD.\n",
       "\u001b[0;31mType:\u001b[0m      builtin_function_or_method\n"
      ]
     },
     "metadata": {},
     "output_type": "display_data"
    }
   ],
   "source": [
    "now.isoformat?"
   ]
  },
  {
   "cell_type": "raw",
   "metadata": {},
   "source": [
    "date = '2019-10-07'"
   ]
  },
  {
   "cell_type": "code",
   "execution_count": 6,
   "metadata": {
    "ExecuteTime": {
     "end_time": "2018-11-05T14:35:00.048738Z",
     "start_time": "2018-11-05T14:34:59.677518Z"
    }
   },
   "outputs": [],
   "source": [
    "from nikola import utils"
   ]
  },
  {
   "cell_type": "code",
   "execution_count": 8,
   "metadata": {
    "ExecuteTime": {
     "end_time": "2018-11-05T14:40:53.234519Z",
     "start_time": "2018-11-05T14:40:53.230930Z"
    }
   },
   "outputs": [],
   "source": [
    "tags_list = [\n",
    "#    'python', \n",
    "#    'ipython', \n",
    "#    'nikola', \n",
    "#    'blog', \n",
    "#    'themes', \n",
    "#    'pupil',\n",
    "#    'psychophysics',\n",
    "    'outreach',    'grand-public',\n",
    "#   'behavior',\n",
    "#    'povray', \n",
    "#    'elasticite', \n",
    "    'art', \n",
    "#    'trames', \n",
    "#    'math',\n",
    "#    'bicv', \n",
    "#    'SLIP', \n",
    "#    'LogGabor', \n",
    "#    'SHL_scripts', \n",
    "#    'sparse', \n",
    "#    'Matching Pursuit',\n",
    "#    'Motion Particles',\n",
    "#    'holoviews',\n",
    "#    'pytorch',\n",
    "#    'deep-learning',\n",
    "#    'machine-learning',\n",
    "#    'moviepy', \n",
    "     'numpy', \n",
    "#    'vispy', \n",
    "#    'neural',\n",
    "    'motionclouds',\n",
    "#    'motion',\n",
    "#    'pynn',\n",
    "#    'saccades',\n",
    "#    'Free Energy',\n",
    "#    'learning',\n",
    "    'open-science',\n",
    "#    'shell',\n",
    "#    'vim',\n",
    "#    'orientation',\n",
    "    'vision',\n",
    "#    'v1',\n",
    "]\n",
    "formt = 'rest'\n",
    "formt = 'markdown'\n",
    "formt = 'ipynb'"
   ]
  },
  {
   "cell_type": "code",
   "execution_count": 10,
   "metadata": {
    "ExecuteTime": {
     "end_time": "2018-11-05T14:41:01.475071Z",
     "start_time": "2018-11-05T14:41:00.415148Z"
    }
   },
   "outputs": [
    {
     "name": "stdout",
     "output_type": "stream",
     "text": [
      "PURPOSE\n",
      "    create a new blog post or site page\n",
      "\n",
      "USAGE\n",
      "    nikola new_post [options] [path]\n",
      "\n",
      "OPTIONS\n",
      "\n",
      "    new_post\n",
      "      -p, --page\n",
      "            Create a page instead of a blog post. (see also: `nikola\n",
      "            new_page`)  (config: is_page)\n",
      "      -t ARG, --title=ARG\n",
      "            Title for the post.  (config: title)\n",
      "      -a ARG, --author=ARG\n",
      "            Author of the post.  (config: author)\n",
      "      --tags=ARG\n",
      "            Comma-separated tags for the post.  (config: tags)\n",
      "      -1\n",
      "            Create the post with embedded metadata (single file\n",
      "            format)  (config: onefile)\n",
      "      -2\n",
      "            Create the post with separate metadata (two file format)\n",
      "            (config: twofile)\n",
      "      -e\n",
      "            Open the post (and meta file, if any) in $EDITOR after\n",
      "            creation.  (config: edit)\n",
      "      -f ARG, --format=ARG\n",
      "            Markup format for the post (use --available-formats for\n",
      "            list)  (config: content_format)\n",
      "      -F, --available-formats\n",
      "            List all available input formats  (config: available-\n",
      "            formats)\n",
      "      -s\n",
      "            Schedule the post based on recurrence rule  (config:\n",
      "            schedule)\n",
      "      -i ARG, --import=ARG\n",
      "            Import an existing file instead of creating a placeholder\n",
      "            (config: import)\n",
      "      -d, --date-path\n",
      "            Create post with date path (eg. year/month/day, see\n",
      "            NEW_POST_DATE_PATH_FORMAT in config)  (config: date-path)\n"
     ]
    }
   ],
   "source": [
    "!nikola new_post -h"
   ]
  },
  {
   "cell_type": "code",
   "execution_count": 11,
   "metadata": {
    "ExecuteTime": {
     "end_time": "2018-11-05T14:41:01.475071Z",
     "start_time": "2018-11-05T14:41:00.415148Z"
    }
   },
   "outputs": [
    {
     "name": "stdout",
     "output_type": "stream",
     "text": [
      "Available input formats:\n",
      "\n",
      " NAME        DESCRIPTION       EXTENSIONS\n",
      "\n",
      " html        HTML              .html, .htm\n",
      " ipynb       Jupyter Notebook  .ipynb\n",
      " markdown    Markdown          .md, .mdown, .markdown\n",
      " rest        reStructuredText  .rst, .txt\n",
      "!php         PHP               .php\n",
      "~pandoc      Pandoc            (disabled: not in COMPILERS)\n",
      "~rest_html5  rest_html5        (disabled: not in COMPILERS)\n",
      "\n",
      "    More compilers are available in the Plugins Index.\n",
      "\n",
      "    Compilers marked with ! and ~ require additional configuration:\n",
      "        ! not in the POSTS/PAGES tuples and any post scanners (unused)\n",
      "        ~ not in the COMPILERS dict (disabled)\n",
      "    Read more: https://getnikola.com/handbook.html#configuring-other-input-formats\n"
     ]
    }
   ],
   "source": [
    "!nikola new_post  --available-formats"
   ]
  },
  {
   "cell_type": "code",
   "execution_count": 9,
   "metadata": {
    "ExecuteTime": {
     "end_time": "2018-11-05T14:41:08.343633Z",
     "start_time": "2018-11-05T14:41:02.455292Z"
    }
   },
   "outputs": [
    {
     "name": "stdout",
     "output_type": "stream",
     "text": [
      "Creating New Post\n",
      "-----------------\n",
      "\n",
      "Title: 2020-07-04 colors of the sky\n",
      "Scanning posts...........done!\n",
      "\u001b[1;33m[2020-07-04T12:05:58Z] WARNING: ipynb: No kernel specified, assuming \"python3\".\u001b[0m\n",
      "\u001b[1m[2020-07-04T12:05:59Z] INFO: new_post: Your post's metadata is at: posts/2020-07-04-colors-of-the-sky.meta\u001b[0m\n",
      "\u001b[1m[2020-07-04T12:05:59Z] INFO: new_post: Your post's text is at: posts/2020-07-04-colors-of-the-sky.ipynb\u001b[0m\n"
     ]
    }
   ],
   "source": [
    "tags = ', '.join(tags_list)\n",
    "title = date + ' ' + \"colors of the sky\"\n",
    "#title = '2017-12-13 accessing the data from a pupil recording'\n",
    "!nikola new_post -f \"{formt}\" -2 -t \"{title}\" --tags=\"{tags}\""
   ]
  },
  {
   "cell_type": "code",
   "execution_count": 10,
   "metadata": {
    "ExecuteTime": {
     "end_time": "2018-11-08T10:17:49.012273Z",
     "start_time": "2018-11-08T10:17:49.005411Z"
    }
   },
   "outputs": [
    {
     "name": "stdout",
     "output_type": "stream",
     "text": [
      "posts/2020-07-04-colors-of-the-sky.ipynb\n"
     ]
    }
   ],
   "source": [
    "fname = utils.os.path.join('posts', utils.slugify(title) + '.' + formt)\n",
    "print(fname)"
   ]
  },
  {
   "cell_type": "code",
   "execution_count": 11,
   "metadata": {
    "ExecuteTime": {
     "end_time": "2018-11-05T14:41:18.822843Z",
     "start_time": "2018-11-05T14:41:18.813958Z"
    }
   },
   "outputs": [
    {
     "data": {
      "text/plain": [
       "'posts/2020-07-04-colors-of-the-sky.ipynb'"
      ]
     },
     "execution_count": 11,
     "metadata": {},
     "output_type": "execute_result"
    }
   ],
   "source": [
    "utils.shutil.copy('template.ipynb', fname)"
   ]
  },
  {
   "cell_type": "markdown",
   "metadata": {},
   "source": [
    "## Copying existing notebooks"
   ]
  },
  {
   "cell_type": "code",
   "execution_count": 19,
   "metadata": {},
   "outputs": [
    {
     "data": {
      "text/plain": [
       "\u001b[0;31mSignature:\u001b[0m \u001b[0mutils\u001b[0m\u001b[0;34m.\u001b[0m\u001b[0mshutil\u001b[0m\u001b[0;34m.\u001b[0m\u001b[0mcopy\u001b[0m\u001b[0;34m(\u001b[0m\u001b[0msrc\u001b[0m\u001b[0;34m,\u001b[0m \u001b[0mdst\u001b[0m\u001b[0;34m,\u001b[0m \u001b[0;34m*\u001b[0m\u001b[0;34m,\u001b[0m \u001b[0mfollow_symlinks\u001b[0m\u001b[0;34m=\u001b[0m\u001b[0;32mTrue\u001b[0m\u001b[0;34m)\u001b[0m\u001b[0;34m\u001b[0m\u001b[0;34m\u001b[0m\u001b[0m\n",
       "\u001b[0;31mDocstring:\u001b[0m\n",
       "Copy data and mode bits (\"cp src dst\"). Return the file's destination.\n",
       "\n",
       "The destination may be a directory.\n",
       "\n",
       "If follow_symlinks is false, symlinks won't be followed. This\n",
       "resembles GNU's \"cp -P src dst\".\n",
       "\n",
       "If source and destination are the same file, a SameFileError will be\n",
       "raised.\n",
       "\u001b[0;31mFile:\u001b[0m      /usr/local/Cellar/python/3.7.7/Frameworks/Python.framework/Versions/3.7/lib/python3.7/shutil.py\n",
       "\u001b[0;31mType:\u001b[0m      function\n"
      ]
     },
     "metadata": {},
     "output_type": "display_data"
    }
   ],
   "source": [
    "utils.shutil.copy?"
   ]
  },
  {
   "cell_type": "code",
   "execution_count": 51,
   "metadata": {
    "ExecuteTime": {
     "end_time": "2018-11-05T14:41:18.822843Z",
     "start_time": "2018-11-05T14:41:18.813958Z"
    }
   },
   "outputs": [
    {
     "data": {
      "text/plain": [
       "'posts/2020-06-19-caustic-optics.ipynb'"
      ]
     },
     "execution_count": 51,
     "metadata": {},
     "output_type": "execute_result"
    }
   ],
   "source": [
    "from nikola import utils\n",
    "utils.shutil.copy('/Users/laurentperrinet/quantic/EtienneRey/2020_caustiques/2020-06-19_caustique.ipynb', 'posts/2020-06-19-caustic-optics.ipynb')"
   ]
  },
  {
   "cell_type": "code",
   "execution_count": 43,
   "metadata": {
    "ExecuteTime": {
     "end_time": "2018-11-05T14:41:18.822843Z",
     "start_time": "2018-11-05T14:41:18.813958Z"
    }
   },
   "outputs": [],
   "source": [
    "!nbdiff /Users/laurentperrinet/quantic/EtienneRey/2020_caustiques/2020-06-19_caustique.ipynb posts/2020-06-19-caustic-optics.ipynb"
   ]
  },
  {
   "cell_type": "code",
   "execution_count": 33,
   "metadata": {
    "ExecuteTime": {
     "end_time": "2018-11-05T14:41:18.822843Z",
     "start_time": "2018-11-05T14:41:18.813958Z"
    }
   },
   "outputs": [
    {
     "data": {
      "text/plain": [
       "'files/2020-06-19_caustique'"
      ]
     },
     "execution_count": 33,
     "metadata": {},
     "output_type": "execute_result"
    }
   ],
   "source": [
    "utils.shutil.rmtree('files/2020-06-19_caustique', ignore_errors=True)\n",
    "utils.shutil.copytree('/Users/laurentperrinet/quantic/EtienneRey/files/2020-06-19_caustique', 'files/2020-06-19_caustique')"
   ]
  },
  {
   "cell_type": "code",
   "execution_count": 54,
   "metadata": {},
   "outputs": [
    {
     "name": "stdout",
     "output_type": "stream",
     "text": [
      "Scanning posts...........done!\n",
      ".  render_taxonomies:docs/index.html\n"
     ]
    }
   ],
   "source": [
    "!nikola build "
   ]
  },
  {
   "cell_type": "code",
   "execution_count": 55,
   "metadata": {},
   "outputs": [
    {
     "name": "stdout",
     "output_type": "stream",
     "text": [
      "Scanning posts...........done!\n",
      "\u001b[1m[2020-06-29T17:11:03Z] INFO: deploy: => preset 'default'\u001b[0m\n",
      "\u001b[1m[2020-06-29T17:11:03Z] INFO: deploy: ==> git add posts/* docs/* files/*\u001b[0m\n",
      "\u001b[1m[2020-06-29T17:11:03Z] INFO: deploy: ==> git commit -am' updating site'\u001b[0m\n",
      "[master 309f307]  updating site\n",
      " 1 file changed, 12 deletions(-)\n",
      "\u001b[1m[2020-06-29T17:11:03Z] INFO: deploy: ==> git push\u001b[0m\n",
      "Enumerating objects: 5, done.\n",
      "Counting objects: 100% (5/5), done.\n",
      "Delta compression using up to 36 threads\n",
      "Compressing objects: 100% (3/3), done.\n",
      "Writing objects: 100% (3/3), 310 bytes | 310.00 KiB/s, done.\n",
      "Total 3 (delta 2), reused 0 (delta 0), pack-reused 0\n",
      "remote: Resolving deltas: 100% (2/2), completed with 2 local objects.\u001b[K\n",
      "To https://github.com/laurentperrinet/sciblog.git\n",
      "   f6d3b3b..309f307  master -> master\n",
      "\u001b[1m[2020-06-29T17:11:07Z] INFO: deploy: Successful deployment\u001b[0m\n"
     ]
    }
   ],
   "source": [
    "!nikola deploy"
   ]
  },
  {
   "cell_type": "code",
   "execution_count": 42,
   "metadata": {},
   "outputs": [
    {
     "data": {
      "text/plain": [
       "'/Users/laurentperrinet/quantic/EtienneRey/2020_caustiques/2020-06-19_caustique'"
      ]
     },
     "execution_count": 42,
     "metadata": {},
     "output_type": "execute_result"
    }
   ],
   "source": [
    "#utils.shutil.rmtree('/Users/laurentperrinet/quantic/EtienneRey/files', ignore_errors=True)\n",
    "utils.shutil.move('/Users/laurentperrinet/quantic/EtienneRey/files/2020-06-19_caustique', '/Users/laurentperrinet/quantic/EtienneRey/2020_caustiques/2020-06-19_caustique')"
   ]
  },
  {
   "cell_type": "markdown",
   "metadata": {},
   "source": [
    "## end"
   ]
  },
  {
   "cell_type": "code",
   "execution_count": 36,
   "metadata": {
    "ExecuteTime": {
     "end_time": "2018-11-05T14:41:18.822843Z",
     "start_time": "2018-11-05T14:41:18.813958Z"
    }
   },
   "outputs": [
    {
     "data": {
      "text/plain": [
       "'posts/2020-04-08-fitting-a-psychometric-curve-using-pytorch.ipynb'"
      ]
     },
     "execution_count": 36,
     "metadata": {},
     "output_type": "execute_result"
    }
   ],
   "source": [
    "utils.shutil.copy('/Users/laurentperrinet/quantic/science/OBV1/jennafradin_MSc-Internship/Notebooks/W13/10_theory-fitting_psychometric.ipynb', fname)"
   ]
  },
  {
   "cell_type": "code",
   "execution_count": 15,
   "metadata": {},
   "outputs": [
    {
     "name": "stdout",
     "output_type": "stream",
     "text": [
      "posts/2015-05-22-a-hitchhiker-guide-to-matching-pursuit.ipynb\n",
      "posts/2015-05-22-a-hitchhiker-guide-to-matching-pursuit.meta\n"
     ]
    }
   ],
   "source": [
    "%ls posts/2015*hitch*"
   ]
  },
  {
   "cell_type": "code",
   "execution_count": 16,
   "metadata": {
    "ExecuteTime": {
     "end_time": "2018-11-05T14:41:18.822843Z",
     "start_time": "2018-11-05T14:41:18.813958Z"
    }
   },
   "outputs": [
    {
     "data": {
      "text/plain": [
       "'posts/2019-11-28-role-of-gamma-correction-in-sparse-coding.ipynb'"
      ]
     },
     "execution_count": 16,
     "metadata": {},
     "output_type": "execute_result"
    }
   ],
   "source": [
    "utils.shutil.copy('posts/2015-05-22-a-hitchhiker-guide-to-matching-pursuit.ipynb', fname)"
   ]
  },
  {
   "cell_type": "code",
   "execution_count": null,
   "metadata": {
    "ExecuteTime": {
     "end_time": "2018-11-08T10:17:33.863368Z",
     "start_time": "2018-11-08T10:17:33.822970Z"
    }
   },
   "outputs": [],
   "source": [
    "utils.shutil.copy('/Users/laurentperrinet/pool/TimeWarp/2018-11-05_Statistics of the natural input to a ring model.ipynb', fname)\n",
    "utils.shutil.copy('/Users/laurentperrinet/pool/TimeWarp/figs/2018-11-05_Ring_input.mp4', 'files/')"
   ]
  },
  {
   "cell_type": "code",
   "execution_count": null,
   "metadata": {},
   "outputs": [],
   "source": [
    "utils.shutil.copy('/Users/laurentperrinet//science/pupil/dev/2017-12-13 accessing the data from a pupil recording.ipynb', 'posts/2017-12-13-accessing-the-data-from-a-pupil-recording.ipynb')"
   ]
  },
  {
   "cell_type": "code",
   "execution_count": null,
   "metadata": {
    "collapsed": true,
    "jupyter": {
     "outputs_hidden": true
    }
   },
   "outputs": [],
   "source": [
    "titles = ['2017-03-29 testing COMPs-Pcum', '2017-03-29 testing COMPs-fastPcum', '2017-03-29 testing COMPs-fastPcum_scripted']"
   ]
  },
  {
   "cell_type": "code",
   "execution_count": null,
   "metadata": {},
   "outputs": [],
   "source": [
    "tags = ', '.join(tags_list)\n",
    "for title in titles:\n",
    "    !nikola new_post -f \"{formt}\" -2 -t \"{title}\" --tags=\"{tags}\""
   ]
  },
  {
   "cell_type": "code",
   "execution_count": null,
   "metadata": {},
   "outputs": [],
   "source": [
    "for title in titles:\n",
    "    fname = utils.os.path.join('posts', utils.slugify(title) + '.' + formt)\n",
    "    print(fname)\n",
    "    import os\n",
    "    home = os.environ['HOME']\n",
    "    print(home)\n",
    "    filepath = home +  \"/science/VB_These/Rapport d'avancement/2017-03/\"\n",
    "    print(filepath + title +'.ipynb')\n",
    "    utils.shutil.copy(filepath + title +'.ipynb', fname)"
   ]
  },
  {
   "cell_type": "markdown",
   "metadata": {},
   "source": [
    "\n",
    "TODO : 2017-05-23-reproducing-olshausens-classical-sparsenet-part-5.ipynb and others from 2017-05-23-reproducing-olshausens-classical-sparsenet-part-5.ipynb\n"
   ]
  },
  {
   "cell_type": "raw",
   "metadata": {},
   "source": [
    "Below, I detail some thoughts on why it is a perfect preamble for most ipython notebooks.\n",
    "\n",
    "<!-- TEASER_END -->"
   ]
  },
  {
   "cell_type": "code",
   "execution_count": null,
   "metadata": {
    "collapsed": true,
    "jupyter": {
     "outputs_hidden": true
    }
   },
   "outputs": [],
   "source": [
    "import nikola"
   ]
  },
  {
   "cell_type": "code",
   "execution_count": null,
   "metadata": {
    "collapsed": true,
    "jupyter": {
     "outputs_hidden": true
    }
   },
   "outputs": [],
   "source": [
    "nikola.utils."
   ]
  },
  {
   "cell_type": "code",
   "execution_count": null,
   "metadata": {
    "collapsed": true,
    "jupyter": {
     "outputs_hidden": true
    }
   },
   "outputs": [],
   "source": [
    "from nikola.plugins import commands"
   ]
  },
  {
   "cell_type": "code",
   "execution_count": null,
   "metadata": {
    "collapsed": true,
    "jupyter": {
     "outputs_hidden": true
    }
   },
   "outputs": [],
   "source": [
    "plugins.absolute_import"
   ]
  },
  {
   "cell_type": "code",
   "execution_count": null,
   "metadata": {
    "collapsed": true,
    "jupyter": {
     "outputs_hidden": true
    }
   },
   "outputs": [],
   "source": [
    "!nikola help new_post "
   ]
  },
  {
   "cell_type": "code",
   "execution_count": null,
   "metadata": {
    "collapsed": true,
    "jupyter": {
     "outputs_hidden": true
    }
   },
   "outputs": [],
   "source": [
    "base_url = \"http://127.0.0.1:\"\n",
    "port = 8889\n",
    "\n",
    "from nikola import utils\n",
    "notebook = \"/notebooks/posts/\" + utils.slugify(unicode(title)) + \".ipynb\"  \n",
    "\n",
    "url = base_url + str(port) + notebook\n",
    "print url"
   ]
  },
  {
   "cell_type": "code",
   "execution_count": null,
   "metadata": {
    "collapsed": true,
    "jupyter": {
     "outputs_hidden": true
    }
   },
   "outputs": [],
   "source": [
    "def convert(URL, DATE, TIME, TITLE, TAGS, doit=True):\n",
    "\n",
    "    TIMEDTITLE = DATE[2:] + ' ' + TITLE\n",
    "    SLUG = DATE[2:] + '-' + TITLE.replace(' ', '-')\n",
    "    tmplt = \"\"\"\\\n",
    ".. title: %s %s\n",
    ".. slug: %s\n",
    ".. date: %s %s\n",
    ".. type: text\n",
    ".. tags: %s\n",
    "    \n",
    "\"\"\" % (DATE[2:], TITLE, SLUG, DATE, TIME, TAGS)\n",
    "\n",
    "    print tmplt\n",
    "\n",
    "    if doit:\n",
    "        import os\n",
    "        print TITLE, TAGS\n",
    "        cmd = 'cd ..; nikola new_post --title=\"%s\" --tags=\"%s\"' % (TIMEDTITLE, TAGS)\n",
    "        print cmd\n",
    "        os.system(cmd)\n",
    "        f = file(SLUG + '.rst', 'w')\n",
    "        f.write(tmplt + pagerst)\n",
    "        f.close()\n",
    "    else:\n",
    "        print tmplt"
   ]
  },
  {
   "cell_type": "markdown",
   "metadata": {},
   "source": [
    "## updating dates to iso8601 : ipython notebooks"
   ]
  },
  {
   "cell_type": "code",
   "execution_count": null,
   "metadata": {
    "collapsed": true,
    "jupyter": {
     "outputs_hidden": true
    },
    "scrolled": true
   },
   "outputs": [],
   "source": [
    "import glob, os, shutil\n",
    "from nikola import utils\n",
    "\n",
    "for fname in glob.glob(\"posts/14*.ipynb\"):\n",
    "    ROOT, FILE = os.path.split(fname)\n",
    "    SLUG = 'posts/' + FILE.replace('.ipynb', '.meta')\n",
    "    FILE_new = 'posts/20' + FILE\n",
    "    SLUG_new = 'posts/20' + FILE.replace('.ipynb', '.meta')\n",
    "    print(SLUG)\n",
    "    meta = ''\n",
    "    with open(SLUG, 'r') as f: \n",
    "        for line in f.readlines():\n",
    "            meta += line.replace(' 14-', ' 2014-')\n",
    "    print(FILE_new, SLUG_new)\n",
    "    print(meta)\n",
    "    if True:\n",
    "        with open(SLUG_new, 'w') as f: f.write(meta)\n",
    "        shutil.copy( 'posts/' + FILE, FILE_new)\n",
    "        os.remove('posts/' + FILE)\n",
    "        os.remove(SLUG)"
   ]
  },
  {
   "cell_type": "markdown",
   "metadata": {},
   "source": [
    "## updating dates to iso8601 : other posts"
   ]
  },
  {
   "cell_type": "code",
   "execution_count": null,
   "metadata": {
    "collapsed": true,
    "jupyter": {
     "outputs_hidden": true
    }
   },
   "outputs": [],
   "source": [
    "import glob, os, shutil\n",
    "from nikola import utils\n",
    "\n",
    "for YEAR in [\"10\", \"11\", \"12\", \"13\", \"14\"]:\n",
    "    for fname in glob.glob(\"posts/\"+ YEAR + \"-*.txt\"):\n",
    "        ROOT, FILE = os.path.split(fname)\n",
    "        FILE_new = 'posts/20' + FILE\n",
    "        print(FILE_new)\n",
    "        if True:\n",
    "            shutil.copy( 'posts/' + FILE, FILE_new)\n",
    "            os.remove('posts/' + FILE)\n"
   ]
  },
  {
   "cell_type": "code",
   "execution_count": null,
   "metadata": {
    "collapsed": true,
    "jupyter": {
     "outputs_hidden": true
    },
    "scrolled": true
   },
   "outputs": [],
   "source": [
    "import glob, os, shutil\n",
    "from nikola import utils\n",
    "\n",
    "for ext in [\"*.txt\", \"*.rst\"]:\n",
    "    for YEAR in [\"06\", \"07\", \"08\", \"09\", \"10\", \"11\", \"12\", \"13\", \"14\", \"15\"]:\n",
    "        for fname in glob.glob(\"posts/20\"+ YEAR + ext):\n",
    "            ROOT, FILE = os.path.split(fname)\n",
    "            post = ''\n",
    "            with open('posts/' + FILE, 'r') as f: \n",
    "                for line in f.readlines():\n",
    "                    line = line.replace(' '+ YEAR + '-', ' 20'+ YEAR + '-')\n",
    "                    for YEAR_ in [\"10\", \"11\", \"12\", \"13\", \"14\"]:\n",
    "                        line = line.replace('<'+ YEAR_ + '-', '<20'+ YEAR_ + '-')\n",
    "                    post += line\n",
    "            print(FILE)\n",
    "            if True:\n",
    "                with open('posts/' + FILE, 'w') as f: f.write(post)\n",
    "            else:\n",
    "                print(post)\n"
   ]
  },
  {
   "cell_type": "markdown",
   "metadata": {},
   "source": [
    "# deploying changes"
   ]
  },
  {
   "cell_type": "raw",
   "metadata": {},
   "source": [
    "!nikola clean"
   ]
  },
  {
   "cell_type": "code",
   "execution_count": 1,
   "metadata": {},
   "outputs": [
    {
     "name": "stdout",
     "output_type": "stream",
     "text": [
      "On branch master\n",
      "Your branch is up to date with 'origin/master'.\n",
      "\n",
      "Changes not staged for commit:\n",
      "  (use \"git add <file>...\" to update what will be committed)\n",
      "  (use \"git restore <file>...\" to discard changes in working directory)\n",
      "\t\u001b[32mmodified:   bootstrapPost.ipynb\u001b[m\n",
      "\t\u001b[32mmodified:   posts/2014-10-24_a-bit-of-fun-with-gravity-waves.ipynb\u001b[m\n",
      "\t\u001b[32mmodified:   posts/2015-05-22-a-hitchhiker-guide-to-matching-pursuit.ipynb\u001b[m\n",
      "\t\u001b[32mmodified:   posts/2018-12-13-sparse-coding-using-fista.ipynb\u001b[m\n",
      "\t\u001b[32mmodified:   template.ipynb\u001b[m\n",
      "\n",
      "Untracked files:\n",
      "  (use \"git add <file>...\" to include in what will be committed)\n",
      "\t\u001b[36mposts/2020-07-04-colors-of-the-sky.ipynb\u001b[m\n",
      "\t\u001b[36mposts/2020-07-04-colors-of-the-sky.meta\u001b[m\n",
      "\n",
      "no changes added to commit (use \"git add\" and/or \"git commit -a\")\n"
     ]
    }
   ],
   "source": [
    "!git status"
   ]
  },
  {
   "cell_type": "code",
   "execution_count": 2,
   "metadata": {},
   "outputs": [
    {
     "name": "stdout",
     "output_type": "stream",
     "text": [
      "total 1143008\n",
      "-rw-r--r--@   1 laurentperrinet  staff    324722 Jun 26  2016 2016-06-26_thesis.png\n",
      "-rw-r--r--    1 laurentperrinet  staff      1150 Oct 19  2016 favicon.ico\n",
      "-rw-r--r--    1 laurentperrinet  staff   1019049 Nov 18  2016 2016-11-15_test.mp4\n",
      "-rw-r--r--    1 laurentperrinet  staff   1110166 Dec 14  2016 2016-11-15_noise.mp4\n",
      "drwxr-xr-x   13 laurentperrinet  staff       416 Jan  9  2017 \u001b[1m\u001b[36m2016-07-16-Heeger16JNeuro\u001b[m\u001b[m\n",
      "-rw-r--r--    1 laurentperrinet  staff   1903114 Dec 13  2017 2017-12-13_pupil test_480.mp4\n",
      "drwxr-xr-x   35 laurentperrinet  staff      1120 Jan 17  2018 \u001b[1m\u001b[36m2017-12-21-MotionVariability\u001b[m\u001b[m\n",
      "-rw-r--r--    1 laurentperrinet  staff    757011 Nov  8  2018 2018-11-05_Ring_input.mp4\n",
      "-rw-r--r--@   1 laurentperrinet  staff    107656 Nov  8  2018 2018-11-05_Ring_input.png\n",
      "drwxr-xr-x    6 laurentperrinet  staff       192 Nov 14  2018 \u001b[1m\u001b[36m2016-04-24_a-wave-going-backwards\u001b[m\u001b[m\n",
      "-rw-r--r--    1 laurentperrinet  staff     32684 Nov 14  2018 2018-11-14-regex-an-iso8601-date.png\n",
      "drwxr-xr-x   16 laurentperrinet  staff       512 Nov 14  2018 \u001b[1m\u001b[36m2014-11-10_reverse-phi\u001b[m\u001b[m\n",
      "drwxr-xr-x    4 laurentperrinet  staff       128 Nov 14  2018 \u001b[1m\u001b[36m2015-02-19_MotionPlaid\u001b[m\u001b[m\n",
      "drwxr-xr-x    4 laurentperrinet  staff       128 Nov 14  2018 \u001b[1m\u001b[36m2015-02-19_horizon\u001b[m\u001b[m\n",
      "drwxr-xr-x    7 laurentperrinet  staff       224 Nov 14  2018 \u001b[1m\u001b[36m2016-01-27_mirror-clouds\u001b[m\u001b[m\n",
      "drwxr-xr-x    4 laurentperrinet  staff       128 Nov 15  2018 \u001b[1m\u001b[36m2015-07-02_smooth\u001b[m\u001b[m\n",
      "drwxr-xr-x   42 laurentperrinet  staff      1344 Nov 15  2018 \u001b[1m\u001b[36m2014-10-24_waves\u001b[m\u001b[m\n",
      "drwxr-xr-x   36 laurentperrinet  staff      1152 Nov 21  2018 \u001b[1m\u001b[36m2014-10-20_MotionPlaids\u001b[m\u001b[m\n",
      "drwxr-xr-x   11 laurentperrinet  staff       352 Nov 22  2018 \u001b[1m\u001b[36m2018-11-29-feature-vs-global-motion\u001b[m\u001b[m\n",
      "drwxr-xr-x   60 laurentperrinet  staff      1920 Dec 21  2018 \u001b[1m\u001b[36m2014-10-20_Aperture-Problem\u001b[m\u001b[m\n",
      "drwxr-xr-x   52 laurentperrinet  staff      1664 Dec 21  2018 \u001b[1m\u001b[36m2015-10-14_elasticite\u001b[m\u001b[m\n",
      "drwxr-xr-x   12 laurentperrinet  staff       384 Jan 13  2019 \u001b[1m\u001b[36m2016-04-06_IRM-protocol\u001b[m\u001b[m\n",
      "drwxr-xr-x   74 laurentperrinet  staff      2368 Jan 13  2019 \u001b[1m\u001b[36m2014-11-10_balaV1-protocol\u001b[m\u001b[m\n",
      "drwxr-xr-x    3 laurentperrinet  staff        96 Jan 13  2019 \u001b[1m\u001b[36m2014-06-18-stage-m1-chloe-pasturel-week-3\u001b[m\u001b[m\n",
      "-rw-r--r--@   1 laurentperrinet  staff    139908 Jan 31  2019 2019-01-30_Ravello19.mp4\n",
      "-rw-r--r--@   1 laurentperrinet  staff    338053 Jan 31  2019 2019-01-30_Ravello19_text.mp4\n",
      "-rw-r--r--    1 laurentperrinet  staff  31158928 Feb 19  2019 2016-11-03_SIGMA.html\n",
      "-rw-r--r--    1 laurentperrinet  staff   7497440 Feb 19  2019 2017-03-24_pollymagoo.html\n",
      "-rw-r--r--    1 laurentperrinet  staff  18331510 Feb 19  2019 2017-02-17_JournalClub.html\n",
      "-rw-r--r--    1 laurentperrinet  staff  41202643 Feb 19  2019 2016-10-13_LAW.html\n",
      "drwxr-xr-x   11 laurentperrinet  staff       352 Feb 26  2019 \u001b[1m\u001b[36m2016-04-25_pollymagoo\u001b[m\u001b[m\n",
      "drwxr-xr-x    7 laurentperrinet  staff       224 Feb 26  2019 \u001b[1m\u001b[36m2016-04-28_mejanes\u001b[m\u001b[m\n",
      "drwxr-xr-x    5 laurentperrinet  staff       160 Feb 26  2019 \u001b[1m\u001b[36m2016-07-07_EDP-proba\u001b[m\u001b[m\n",
      "drwxr-xr-x   19 laurentperrinet  staff       608 Feb 27  2019 \u001b[1m\u001b[36m2018-01-16-testing-more-complex\u001b[m\u001b[m\n",
      "-rw-r--r--    1 laurentperrinet  staff     36803 Mar 14  2019 static.png\n",
      "-rw-r--r--    1 laurentperrinet  staff    229604 Mar 14  2019 static_cube.png\n",
      "-rw-r--r--    1 laurentperrinet  staff    134823 Mar 14  2019 static.mp4\n",
      "-rw-r--r--    1 laurentperrinet  staff     74771 Apr  3  2019 2017-04-10_physical_speed_group_speed.png\n",
      "-rw-r--r--    1 laurentperrinet  staff    366185 Apr  3  2019 2017-04-10_physical_speed_group_speed_cube.png\n",
      "-rw-r--r--    1 laurentperrinet  staff   1098721 Apr  3  2019 2017-04-10_physical_speed_group_speed.mp4\n",
      "-rw-r--r--    1 laurentperrinet  staff     66714 Apr  3  2019 2017-04-10_physical_speed_group_speed_K_1_6666666666666667.png\n",
      "-rw-r--r--    1 laurentperrinet  staff    362826 Apr  3  2019 2017-04-10_physical_speed_group_speed_K_1_6666666666666667_cube.png\n",
      "-rw-r--r--    1 laurentperrinet  staff   1038679 Apr  3  2019 2017-04-10_physical_speed_group_speed_K_1_6666666666666667.mp4\n",
      "-rw-r--r--    1 laurentperrinet  staff     69618 Apr  3  2019 2017-04-10_physical_speed_group_speed_K_1_3636363636363638.png\n",
      "-rw-r--r--    1 laurentperrinet  staff    364927 Apr  3  2019 2017-04-10_physical_speed_group_speed_K_1_3636363636363638_cube.png\n",
      "-rw-r--r--    1 laurentperrinet  staff   1061027 Apr  3  2019 2017-04-10_physical_speed_group_speed_K_1_3636363636363638.mp4\n",
      "-rw-r--r--    1 laurentperrinet  staff     72453 Apr  3  2019 2017-04-10_physical_speed_group_speed_K_1_1538461538461537.png\n",
      "drwxr-xr-x   23 laurentperrinet  staff       736 Apr  3  2019 \u001b[1m\u001b[36m2017-04-10_physical_speed\u001b[m\u001b[m\n",
      "-rw-r--r--    1 laurentperrinet  staff    365619 Apr  3  2019 2017-04-10_physical_speed_group_speed_K_1_1538461538461537_cube.png\n",
      "-rw-r--r--    1 laurentperrinet  staff   1097273 Apr  3  2019 2017-04-10_physical_speed_group_speed_K_1_1538461538461537.mp4\n",
      "-rw-r--r--    1 laurentperrinet  staff     74771 Apr  3  2019 2017-04-10_physical_speed_group_speed_K_1_0.png\n",
      "-rw-r--r--    1 laurentperrinet  staff    363870 Apr  3  2019 2017-04-10_physical_speed_group_speed_K_1_0_cube.png\n",
      "-rw-r--r--    1 laurentperrinet  staff   1079517 Apr  3  2019 2017-04-10_physical_speed_group_speed_K_1_0.mp4\n",
      "-rw-r--r--    1 laurentperrinet  staff     77008 Apr  3  2019 2017-04-10_physical_speed_group_speed_K_0_8823529411764706.png\n",
      "-rw-r--r--    1 laurentperrinet  staff    365153 Apr  3  2019 2017-04-10_physical_speed_group_speed_K_0_8823529411764706_cube.png\n",
      "-rw-r--r--    1 laurentperrinet  staff   1092657 Apr  3  2019 2017-04-10_physical_speed_group_speed_K_0_8823529411764706.mp4\n",
      "-rw-r--r--    1 laurentperrinet  staff     79136 Apr  3  2019 2017-04-10_physical_speed_group_speed_K_0_7894736842105263.png\n",
      "-rw-r--r--    1 laurentperrinet  staff    360303 Apr  3  2019 2017-04-10_physical_speed_group_speed_K_0_7894736842105263_cube.png\n",
      "-rw-r--r--    1 laurentperrinet  staff   1068254 Apr  3  2019 2017-04-10_physical_speed_group_speed_K_0_7894736842105263.mp4\n",
      "-rw-r--r--    1 laurentperrinet  staff     80965 Apr  3  2019 2017-04-10_physical_speed_group_speed_K_0_7142857142857143.png\n",
      "-rw-r--r--    1 laurentperrinet  staff    359876 Apr  3  2019 2017-04-10_physical_speed_group_speed_K_0_7142857142857143_cube.png\n",
      "-rw-r--r--    1 laurentperrinet  staff   1061845 Apr  3  2019 2017-04-10_physical_speed_group_speed_K_0_7142857142857143.mp4\n",
      "-rw-r--r--    1 laurentperrinet  staff  85353751 Jul  9  2019 2015-10-07_Perrinet15biocomp_slides.pdf\n",
      "-rw-r--r--    1 laurentperrinet  staff  19877705 Jul 29  2019 2017-01-20_LACONEU.html\n",
      "-rw-r--r--    1 laurentperrinet  staff  20249393 Jul 29  2019 2017-01-19_LACONEU.html\n",
      "-rw-r--r--    1 laurentperrinet  staff  19190254 Jul 29  2019 2017-01-18_LACONEU.html\n",
      "-rw-r--r--    1 laurentperrinet  staff  29093231 Jul 29  2019 2018-01-25_meetup-neuronautes.html\n",
      "-rw-r--r--    1 laurentperrinet  staff  12035210 Jul 29  2019 2017-06-30_Telluride.html\n",
      "-rw-r--r--    1 laurentperrinet  staff  24104870 Jul 29  2019 2017-06-28_Telluride.html\n",
      "-rw-r--r--    1 laurentperrinet  staff   4163196 Jul 29  2019 2017-06-27_Telluride_short.html\n",
      "-rw-r--r--    1 laurentperrinet  staff  19537382 Jul 30  2019 2016-10-26_Perrinet16EUVIP_talk.html\n",
      "-rw-r--r--    1 laurentperrinet  staff  12523435 Jul 30  2019 2016-10-26_FillatreBarlaudPerrinet16EUVIP_talk.html\n",
      "-rw-r--r--    1 laurentperrinet  staff  37499552 Jul 30  2019 2017-11-15_ColloqueMaster.html\n",
      "-rw-r--r--@   1 laurentperrinet  staff   3826913 Sep 16  2019 2019-09-11_Perrinet19.mp4\n",
      "-rw-r--r--@   1 laurentperrinet  staff  12031159 Sep 19  2019 2019-09-11_Perrinet19.gif\n",
      "-rw-r--r--    1 laurentperrinet  staff      6550 Oct  1  2019 2019-09-30_clock.mp4\n",
      "drwxr-xr-x   32 laurentperrinet  staff      1024 Dec 11  2019 \u001b[1m\u001b[36m2015-05-22-a-hitchhiker-guide-to-matching-pursuit\u001b[m\u001b[m\n",
      "-rw-r--r--    1 laurentperrinet  staff     11681 Dec 20  2019 2019-09-30_flash_lag.mp4\n",
      "-rw-r--r--    1 laurentperrinet  staff     11089 Dec 20  2019 2019-09-30_flash_lag_stop.mp4\n",
      "-rw-r--r--    1 laurentperrinet  staff  11564328 Jan  9  2020 2018-02-01_BCP_INVIBE_fest.html\n",
      "-rw-r--r--    1 laurentperrinet  staff  46712042 Jan  9  2020 2018-10-11_BioMorphisme.html\n",
      "drwxr-xr-x    9 laurentperrinet  staff       288 Jan 17  2020 \u001b[1m\u001b[36m2015-12-08_cours_neurocomp\u001b[m\u001b[m\n",
      "drwxr-xr-x    7 laurentperrinet  staff       224 Jan 17  2020 \u001b[1m\u001b[36m2016-09-26_Perrinet16journalClub\u001b[m\u001b[m\n",
      "drwxr-xr-x   21 laurentperrinet  staff       672 Jan 17  2020 \u001b[1m\u001b[36m2018-11-13-testing-more-complex\u001b[m\u001b[m\n",
      "-rw-r--r--    1 laurentperrinet  staff   1908327 Jan 24  2020 2020-01-08-MC_phase.gif\n",
      "-rw-r--r--    1 laurentperrinet  staff   3159324 Jan 24  2020 2020-01-08-NI_phase.gif\n",
      "-rw-r--r--@   1 laurentperrinet  staff  62315836 Jun 12 12:47 2009-12-10_journal_club_noise.pdf\n",
      "-rw-r--r--    1 laurentperrinet  staff  23006936 Jun 12 13:13 2017-03-13_NeuroComp_FEP.html\n",
      "-rw-r--r--    1 laurentperrinet  staff   4705224 Jun 12 13:15 2017-03-06_cours-NeuroComp.html\n",
      "drwxr-xr-x  140 laurentperrinet  staff      4480 Jun 25 11:26 \u001b[1m\u001b[36m2020-06-19_caustique\u001b[m\u001b[m\n"
     ]
    }
   ],
   "source": [
    "!ls -ltr files"
   ]
  },
  {
   "cell_type": "code",
   "execution_count": 3,
   "metadata": {},
   "outputs": [
    {
     "name": "stdout",
     "output_type": "stream",
     "text": [
      "zsh:1: /usr/local/bin/nikola: bad interpreter: /usr/local/opt/python/bin/python3.7: no such file or directory\n"
     ]
    }
   ],
   "source": [
    "!nikola build"
   ]
  },
  {
   "cell_type": "code",
   "execution_count": 19,
   "metadata": {},
   "outputs": [
    {
     "name": "stdout",
     "output_type": "stream",
     "text": [
      "rm: posts/__temp__.mp4: No such file or directory\n",
      "rm: posts/debug.log: No such file or directory\n"
     ]
    }
   ],
   "source": [
    "%rm posts/__temp__.mp4 \tposts/debug.log"
   ]
  },
  {
   "cell_type": "code",
   "execution_count": 50,
   "metadata": {
    "scrolled": true
   },
   "outputs": [
    {
     "name": "stdout",
     "output_type": "stream",
     "text": [
      "Scanning posts...........done!\n",
      "\u001b[1m[2020-06-29T16:54:43Z] INFO: deploy: => preset 'default'\u001b[0m\n",
      "\u001b[1m[2020-06-29T16:54:43Z] INFO: deploy: ==> git add posts/* docs/* files/*\u001b[0m\n",
      "\u001b[1m[2020-06-29T16:54:43Z] INFO: deploy: ==> git commit -am' updating site'\u001b[0m\n",
      "[master 00c6619]  updating site\n",
      " 17 files changed, 438 insertions(+), 428 deletions(-)\n",
      "\u001b[1m[2020-06-29T16:54:43Z] INFO: deploy: ==> git push\u001b[0m\n",
      "Enumerating objects: 43, done.\n",
      "Counting objects: 100% (43/43), done.\n",
      "Delta compression using up to 36 threads\n",
      "Compressing objects: 100% (22/22), done.\n",
      "Writing objects: 100% (22/22), 5.59 KiB | 2.80 MiB/s, done.\n",
      "Total 22 (delta 21), reused 0 (delta 0), pack-reused 0\n",
      "remote: Resolving deltas: 100% (21/21), completed with 20 local objects.\u001b[K\n",
      "To https://github.com/laurentperrinet/sciblog.git\n",
      "   efb5f98..00c6619  master -> master\n",
      "\u001b[1m[2020-06-29T16:54:47Z] INFO: deploy: Successful deployment\u001b[0m\n"
     ]
    }
   ],
   "source": [
    "!nikola deploy"
   ]
  },
  {
   "cell_type": "raw",
   "metadata": {},
   "source": [
    "import time\n",
    "time.sleep(3600*0)"
   ]
  },
  {
   "cell_type": "code",
   "execution_count": 15,
   "metadata": {},
   "outputs": [
    {
     "name": "stdout",
     "output_type": "stream",
     "text": [
      "Scanning posts...........done!\n",
      ".  render_sources:docs/posts/2020-07-04-colors-of-the-sky.ipynb\n",
      ".  render_posts:timeline_changes\n",
      ".  render_posts:cache/posts/2020-07-04-colors-of-the-sky.html\n",
      ".  render_taxonomies:docs/categories/grand-public.html\n",
      ".  render_taxonomies:docs/categories/vision.html\n",
      ".  render_taxonomies:docs/categories/art.html\n",
      ".  render_taxonomies:docs/categories/outreach.html\n",
      ".  render_taxonomies:docs/categories/numpy.html\n",
      ".  render_taxonomies:docs/categories/open-science.html\n",
      ".  render_taxonomies:docs/index.html\n",
      ".  render_taxonomies:docs/categories/motionclouds.html\n",
      ".  render_taxonomies:docs/archive.html\n",
      ".  render_taxonomies:docs/rss.xml\n",
      ".  render_pages:docs/posts/2020-07-04-colors-of-the-sky.html\n",
      ".  render_taxonomies:docs/categories/art.xml\n",
      ".  render_taxonomies:docs/categories/grand-public.xml\n",
      ".  render_taxonomies:docs/categories/motionclouds.xml\n",
      ".  render_taxonomies:docs/categories/numpy.xml\n",
      ".  render_taxonomies:docs/categories/open-science.xml\n",
      ".  render_taxonomies:docs/categories/outreach.xml\n",
      ".  render_taxonomies:docs/categories/vision.xml\n",
      ".  sitemap:docs/sitemap.xml\n",
      ".  sitemap:docs/sitemapindex.xml\n",
      "Scanning posts...........done!\n",
      "\u001b[1m[2020-07-28 21:47:41] INFO: deploy: => preset 'default'\u001b[0m\n",
      "\u001b[1m[2020-07-28 21:47:41] INFO: deploy: ==> git add posts/* docs/* files/*\u001b[0m\n",
      "\u001b[1m[2020-07-28 21:47:41] INFO: deploy: ==> git commit -am' updating site'\u001b[0m\n",
      "[master 8ec65b1]  updating site\n",
      " 14 files changed, 827 insertions(+), 649 deletions(-)\n",
      "\u001b[1m[2020-07-28 21:47:42] INFO: deploy: ==> git push\u001b[0m\n",
      "Enumerating objects: 38, done.\n",
      "Counting objects: 100% (38/38), done.\n",
      "Delta compression using up to 4 threads\n",
      "Compressing objects: 100% (20/20), done.\n",
      "Writing objects: 100% (20/20), 6.02 KiB | 1.20 MiB/s, done.\n",
      "Total 20 (delta 19), reused 0 (delta 0), pack-reused 0\n",
      "remote: Resolving deltas: 100% (19/19), completed with 18 local objects.\u001b[K\n",
      "To https://github.com/laurentperrinet/sciblog.git\n",
      "   8531d22..8ec65b1  master -> master\n",
      "\u001b[1m[2020-07-28 21:47:46] INFO: deploy: Successful deployment\u001b[0m\n"
     ]
    }
   ],
   "source": [
    "!nikola build ; nikola deploy"
   ]
  },
  {
   "cell_type": "code",
   "execution_count": 11,
   "metadata": {},
   "outputs": [
    {
     "name": "stdout",
     "output_type": "stream",
     "text": [
      "On branch master\n",
      "Your branch is up to date with 'origin/master'.\n",
      "\n",
      "Changes not staged for commit:\n",
      "  (use \"git add <file>...\" to update what will be committed)\n",
      "  (use \"git restore <file>...\" to discard changes in working directory)\n",
      "\t\u001b[32mmodified:   bootstrapPost.ipynb\u001b[m\n",
      "\n",
      "no changes added to commit (use \"git add\" and/or \"git commit -a\")\n"
     ]
    }
   ],
   "source": [
    "!git status"
   ]
  },
  {
   "cell_type": "code",
   "execution_count": null,
   "metadata": {},
   "outputs": [
    {
     "name": "stdout",
     "output_type": "stream",
     "text": [
      "Scanning posts...........done!\n",
      ".  render_sources:docs/posts/2020-07-04-colors-of-the-sky.ipynb\n",
      ".  render_posts:timeline_changes\n",
      ".  render_posts:cache/posts/2020-07-04-colors-of-the-sky.html\n",
      ".  render_taxonomies:docs/categories/grand-public.html\n",
      ".  render_taxonomies:docs/categories/vision.html\n",
      ".  render_taxonomies:docs/categories/art.html\n",
      ".  render_taxonomies:docs/categories/outreach.html\n",
      ".  render_taxonomies:docs/categories/numpy.html\n",
      ".  render_taxonomies:docs/categories/open-science.html\n",
      ".  render_taxonomies:docs/index.html\n"
     ]
    }
   ],
   "source": [
    "!nikola build ; nikola deploy"
   ]
  },
  {
   "cell_type": "code",
   "execution_count": null,
   "metadata": {},
   "outputs": [],
   "source": [
    "!git status\n",
    "#!git add files/2018-11-13-testing-more-complex/trajectory_overlay*"
   ]
  },
  {
   "cell_type": "code",
   "execution_count": 22,
   "metadata": {},
   "outputs": [
    {
     "name": "stdout",
     "output_type": "stream",
     "text": [
      "[master be50111]  new page\n",
      " 3 files changed, 211 insertions(+), 114 deletions(-)\n",
      " mode change 100755 => 100644 docs/posts/2015-11-17-elasticite-expansion-en-miroir-dynamique-dun-point-focal.ipynb\n",
      " mode change 100755 => 100644 posts/2015-11-17-elasticite-expansion-en-miroir-dynamique-dun-point-focal.ipynb\n"
     ]
    }
   ],
   "source": [
    "!git commit -am' new page' "
   ]
  },
  {
   "cell_type": "code",
   "execution_count": 13,
   "metadata": {},
   "outputs": [
    {
     "name": "stdout",
     "output_type": "stream",
     "text": [
      "[master 4fa15d5]  working on page\n",
      " 2 files changed, 43580 insertions(+), 10096 deletions(-)\n"
     ]
    }
   ],
   "source": [
    "!git commit -am' working on page' "
   ]
  },
  {
   "cell_type": "code",
   "execution_count": 13,
   "metadata": {},
   "outputs": [],
   "source": [
    "!open https://laurentperrinet.github.io/sciblog"
   ]
  },
  {
   "cell_type": "markdown",
   "metadata": {},
   "source": [
    "Voilà!"
   ]
  }
 ],
 "metadata": {
  "kernelspec": {
   "display_name": "Python 3",
   "language": "python",
   "name": "python3"
  },
  "language_info": {
   "codemirror_mode": {
    "name": "ipython",
    "version": 3
   },
   "file_extension": ".py",
   "mimetype": "text/x-python",
   "name": "python",
   "nbconvert_exporter": "python",
   "pygments_lexer": "ipython3",
   "version": "3.8.5"
  },
  "toc": {
   "base_numbering": 1,
   "nav_menu": {
    "height": "117px",
    "width": "252px"
   },
   "number_sections": true,
   "sideBar": true,
   "skip_h1_title": false,
   "title_cell": "Table of Contents",
   "title_sidebar": "Contents",
   "toc_cell": false,
   "toc_position": {},
   "toc_section_display": "block",
   "toc_window_display": false
  }
 },
 "nbformat": 4,
 "nbformat_minor": 4
}
