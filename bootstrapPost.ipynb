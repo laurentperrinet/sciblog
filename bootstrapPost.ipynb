{
 "cells": [
  {
   "cell_type": "markdown",
   "metadata": {},
   "source": [
    "# installing and updating nikola"
   ]
  },
  {
   "cell_type": "code",
   "execution_count": 1,
   "metadata": {
    "scrolled": true
   },
   "outputs": [],
   "source": [
    "#!python3 -m pip uninstall -y nikola"
   ]
  },
  {
   "cell_type": "code",
   "execution_count": 2,
   "metadata": {
    "ExecuteTime": {
     "end_time": "2018-09-07T10:24:17.333057Z",
     "start_time": "2018-09-07T10:24:14.585077Z"
    }
   },
   "outputs": [
    {
     "name": "stdout",
     "output_type": "stream",
     "text": [
      "Collecting Nikola[extras]\n",
      "  Using cached https://files.pythonhosted.org/packages/f3/b1/8dd93e9123eca1b0c3daef20bd9a424532f77d24ee7477ef74e099dacbba/Nikola-8.0.2-py3-none-any.whl\n",
      "Collecting setuptools>=24.2.0 (from Nikola[extras])\n",
      "  Using cached https://files.pythonhosted.org/packages/b2/86/095d2f7829badc207c893dd4ac767e871f6cd547145df797ea26baea4e2e/setuptools-41.2.0-py2.py3-none-any.whl\n",
      "Collecting logbook>=1.3.0 (from Nikola[extras])\n",
      "Collecting docutils>=0.13 (from Nikola[extras])\n",
      "  Using cached https://files.pythonhosted.org/packages/22/cd/a6aa959dca619918ccb55023b4cb151949c64d4d5d55b3f4ffd7eee0c6e8/docutils-0.15.2-py3-none-any.whl\n",
      "Collecting natsort>=3.5.2 (from Nikola[extras])\n",
      "  Using cached https://files.pythonhosted.org/packages/e7/13/a66bfa0ebf00e17778ca0319d081be686a33384d1f612fc8e0fc542ac5d8/natsort-6.0.0-py2.py3-none-any.whl\n",
      "Collecting Pillow>=2.4.0 (from Nikola[extras])\n",
      "  Using cached https://files.pythonhosted.org/packages/8f/f3/c6d351d7e582e4f2ef4343c9be1f0472cb249fb69695e68631e337f4b6e9/Pillow-6.1.0-cp37-cp37m-macosx_10_6_intel.macosx_10_9_intel.macosx_10_9_x86_64.macosx_10_10_intel.macosx_10_10_x86_64.whl\n",
      "Collecting piexif>=1.0.3 (from Nikola[extras])\n",
      "  Using cached https://files.pythonhosted.org/packages/2c/d8/6f63147dd73373d051c5eb049ecd841207f898f50a5a1d4378594178f6cf/piexif-1.1.3-py2.py3-none-any.whl\n",
      "Collecting Babel>=2.6.0 (from Nikola[extras])\n",
      "  Using cached https://files.pythonhosted.org/packages/2c/60/f2af68eb046c5de5b1fe6dd4743bf42c074f7141fe7b2737d3061533b093/Babel-2.7.0-py2.py3-none-any.whl\n",
      "Collecting requests>=2.2.0 (from Nikola[extras])\n",
      "  Using cached https://files.pythonhosted.org/packages/51/bd/23c926cd341ea6b7dd0b2a00aba99ae0f828be89d72b2190f27c11d4b7fb/requests-2.22.0-py2.py3-none-any.whl\n",
      "Collecting lxml>=3.3.5 (from Nikola[extras])\n",
      "  Using cached https://files.pythonhosted.org/packages/bd/9f/6cda4672d3ad1aa4cf818ab8401a763787efba751c88aaf4b38fc8f923bb/lxml-4.4.1-cp37-cp37m-macosx_10_6_intel.macosx_10_9_intel.macosx_10_9_x86_64.macosx_10_10_intel.macosx_10_10_x86_64.whl\n",
      "Collecting blinker>=1.3 (from Nikola[extras])\n",
      "Collecting PyRSS2Gen>=1.1 (from Nikola[extras])\n",
      "Collecting Pygments>=1.6 (from Nikola[extras])\n",
      "  Using cached https://files.pythonhosted.org/packages/5c/73/1dfa428150e3ccb0fa3e68db406e5be48698f2a979ccbcec795f28f44048/Pygments-2.4.2-py2.py3-none-any.whl\n",
      "Collecting mako>=1.0.0 (from Nikola[extras])\n",
      "Collecting doit>=0.30.1 (from Nikola[extras])\n",
      "  Using cached https://files.pythonhosted.org/packages/d0/4d/ebc39fdf33cc9e039b7c69f6783e929d184e5c0652a1a4543c6c5bd94c1c/doit-0.31.1-py3-none-any.whl\n",
      "Collecting python-dateutil>=2.6.0 (from Nikola[extras])\n",
      "  Using cached https://files.pythonhosted.org/packages/41/17/c62faccbfbd163c7f57f3844689e3a78bae1f403648a6afb1d0866d87fbb/python_dateutil-2.8.0-py2.py3-none-any.whl\n",
      "Collecting unidecode>=0.04.16 (from Nikola[extras])\n",
      "  Using cached https://files.pythonhosted.org/packages/d0/42/d9edfed04228bacea2d824904cae367ee9efd05e6cce7ceaaedd0b0ad964/Unidecode-1.1.1-py2.py3-none-any.whl\n",
      "Collecting Yapsy>=1.11.223 (from Nikola[extras])\n",
      "Collecting Markdown<3.0.0,>=2.4.0 (from Nikola[extras])\n",
      "  Using cached https://files.pythonhosted.org/packages/6d/7d/488b90f470b96531a3f5788cf12a93332f543dbab13c423a5e7ce96a0493/Markdown-2.6.11-py2.py3-none-any.whl\n",
      "Collecting phpserialize>=1.3; extra == \"extras\" (from Nikola[extras])\n",
      "Collecting pygal>=2.0.0; extra == \"extras\" (from Nikola[extras])\n",
      "  Using cached https://files.pythonhosted.org/packages/5f/b7/201c9254ac0d2b8ffa3bb2d528d23a4130876d9ba90bc28e99633f323f17/pygal-2.4.0-py2.py3-none-any.whl\n",
      "Collecting typogrify>=2.0.4; extra == \"extras\" (from Nikola[extras])\n",
      "Collecting Jinja2>=2.7.2; extra == \"extras\" (from Nikola[extras])\n",
      "  Using cached https://files.pythonhosted.org/packages/1d/e7/fd8b501e7a6dfe492a433deb7b9d833d39ca74916fa8bc63dd1a4947a671/Jinja2-2.10.1-py2.py3-none-any.whl\n",
      "Collecting aiohttp>=2.3.8; extra == \"extras\" (from Nikola[extras])\n",
      "Collecting husl>=4.0.2; extra == \"extras\" (from Nikola[extras])\n",
      "Collecting micawber>=0.3.0; extra == \"extras\" (from Nikola[extras])\n",
      "Collecting ruamel.yaml>=0.15; extra == \"extras\" (from Nikola[extras])\n",
      "  Using cached https://files.pythonhosted.org/packages/fa/90/ecff85a2e9c497e2fa7142496e10233556b5137db5bd46f3f3b006935ca8/ruamel.yaml-0.16.5-py2.py3-none-any.whl\n",
      "Collecting ipykernel>=4.0.0; extra == \"extras\" (from Nikola[extras])\n",
      "  Using cached https://files.pythonhosted.org/packages/d4/16/43f51f65a8a08addf04f909a0938b06ba1ee1708b398a9282474531bd893/ipykernel-5.1.2-py3-none-any.whl\n",
      "Collecting watchdog>=0.8.3; extra == \"extras\" (from Nikola[extras])\n",
      "Collecting notebook>=4.0.0; extra == \"extras\" (from Nikola[extras])\n",
      "  Using cached https://files.pythonhosted.org/packages/f3/a1/1e07cedcb554408fefe4a7d32b2a041c86517167aec6ca8251c808ef6c1e/notebook-6.0.1-py3-none-any.whl\n",
      "Collecting ghp-import2>=1.0.0; extra == \"extras\" (from Nikola[extras])\n",
      "  Using cached https://files.pythonhosted.org/packages/5f/ef/9a7f507f73b9ae27830de96419ba99e4b8a6b84ac177df6292a7510a0b66/ghp_import2-1.0.1-py2.py3-none-any.whl\n",
      "Collecting pyphen>=0.9.1; extra == \"extras\" (from Nikola[extras])\n",
      "  Using cached https://files.pythonhosted.org/packages/15/82/08a3629dce8d1f3d91db843bb36d4d7db6b6269d5067259613a0d5c8a9db/Pyphen-0.9.5-py2.py3-none-any.whl\n",
      "Collecting toml>=0.9.2; extra == \"extras\" (from Nikola[extras])\n",
      "  Using cached https://files.pythonhosted.org/packages/a2/12/ced7105d2de62fa7c8fb5fce92cc4ce66b57c95fb875e9318dba7f8c5db0/toml-0.10.0-py2.py3-none-any.whl\n",
      "Collecting pytz>=2015.7 (from Babel>=2.6.0->Nikola[extras])\n",
      "  Using cached https://files.pythonhosted.org/packages/87/76/46d697698a143e05f77bec5a526bf4e56a0be61d63425b68f4ba553b51f2/pytz-2019.2-py2.py3-none-any.whl\n",
      "Collecting chardet<3.1.0,>=3.0.2 (from requests>=2.2.0->Nikola[extras])\n",
      "  Using cached https://files.pythonhosted.org/packages/bc/a9/01ffebfb562e4274b6487b4bb1ddec7ca55ec7510b22e4c51f14098443b8/chardet-3.0.4-py2.py3-none-any.whl\n",
      "Collecting idna<2.9,>=2.5 (from requests>=2.2.0->Nikola[extras])\n",
      "  Using cached https://files.pythonhosted.org/packages/14/2c/cd551d81dbe15200be1cf41cd03869a46fe7226e7450af7a6545bfc474c9/idna-2.8-py2.py3-none-any.whl\n",
      "Collecting urllib3!=1.25.0,!=1.25.1,<1.26,>=1.21.1 (from requests>=2.2.0->Nikola[extras])\n",
      "  Using cached https://files.pythonhosted.org/packages/e0/da/55f51ea951e1b7c63a579c09dd7db825bb730ec1fe9c0180fc77bfb31448/urllib3-1.25.6-py2.py3-none-any.whl\n",
      "Collecting certifi>=2017.4.17 (from requests>=2.2.0->Nikola[extras])\n",
      "  Using cached https://files.pythonhosted.org/packages/18/b0/8146a4f8dd402f60744fa380bc73ca47303cccf8b9190fd16a827281eac2/certifi-2019.9.11-py2.py3-none-any.whl\n",
      "Collecting MarkupSafe>=0.9.2 (from mako>=1.0.0->Nikola[extras])\n",
      "  Using cached https://files.pythonhosted.org/packages/ce/c6/f000f1af136ef74e4a95e33785921c73595c5390403f102e9b231b065b7a/MarkupSafe-1.1.1-cp37-cp37m-macosx_10_6_intel.whl\n",
      "Collecting cloudpickle (from doit>=0.30.1->Nikola[extras])\n",
      "  Using cached https://files.pythonhosted.org/packages/c1/49/334e279caa3231255725c8e860fa93e72083567625573421db8875846c14/cloudpickle-1.2.2-py2.py3-none-any.whl\n",
      "Collecting macfsevents; sys_platform == \"darwin\" (from doit>=0.30.1->Nikola[extras])\n",
      "Collecting six>=1.5 (from python-dateutil>=2.6.0->Nikola[extras])\n",
      "  Using cached https://files.pythonhosted.org/packages/73/fb/00a976f728d0d1fecfe898238ce23f502a721c0ac0ecfedb80e0d88c64e9/six-1.12.0-py2.py3-none-any.whl\n",
      "Collecting smartypants>=1.8.3 (from typogrify>=2.0.4; extra == \"extras\"->Nikola[extras])\n",
      "  Using cached https://files.pythonhosted.org/packages/da/ed/1da76d11aa858ee23dac5b52d9ac2db7df02b89f7679d5d8970bcd44b59c/smartypants-2.0.1-py2.py3-none-any.whl\n",
      "Collecting attrs>=17.3.0 (from aiohttp>=2.3.8; extra == \"extras\"->Nikola[extras])\n",
      "  Using cached https://files.pythonhosted.org/packages/23/96/d828354fa2dbdf216eaa7b7de0db692f12c234f7ef888cc14980ef40d1d2/attrs-19.1.0-py2.py3-none-any.whl\n",
      "Collecting async-timeout<4.0,>=3.0 (from aiohttp>=2.3.8; extra == \"extras\"->Nikola[extras])\n",
      "  Using cached https://files.pythonhosted.org/packages/e1/1e/5a4441be21b0726c4464f3f23c8b19628372f606755a9d2e46c187e65ec4/async_timeout-3.0.1-py3-none-any.whl\n",
      "Collecting multidict<5.0,>=4.5 (from aiohttp>=2.3.8; extra == \"extras\"->Nikola[extras])\n",
      "  Using cached https://files.pythonhosted.org/packages/0e/64/39b167d63e292cc2336d09c4d3577089db82cd7886ed535b6100fc7c7966/multidict-4.5.2-cp37-cp37m-macosx_10_12_intel.macosx_10_12_x86_64.macosx_10_13_intel.macosx_10_13_x86_64.whl\n",
      "Collecting yarl<2.0,>=1.0 (from aiohttp>=2.3.8; extra == \"extras\"->Nikola[extras])\n",
      "Collecting ruamel.yaml.clib>=0.1.2; platform_python_implementation == \"CPython\" and python_version < \"3.8\" (from ruamel.yaml>=0.15; extra == \"extras\"->Nikola[extras])\n",
      "  Using cached https://files.pythonhosted.org/packages/89/27/d8875d000ba9ae7cf7f31c28ed7e9d286569d6316f9b54012475046a435b/ruamel.yaml.clib-0.1.2-cp37-cp37m-macosx_10_9_x86_64.whl\n",
      "Collecting ipython>=5.0.0 (from ipykernel>=4.0.0; extra == \"extras\"->Nikola[extras])\n",
      "  Using cached https://files.pythonhosted.org/packages/fb/44/f28a13852e562af719f9de1761680a84a93e8b4c50e22d00d68f60ee2e8b/ipython-7.8.0-py3-none-any.whl\n",
      "Collecting jupyter-client (from ipykernel>=4.0.0; extra == \"extras\"->Nikola[extras])\n",
      "  Using cached https://files.pythonhosted.org/packages/07/61/0b923eefa2faa34d896665f136a0a6c26d721e910a661437cc615a0dc4ed/jupyter_client-5.3.3-py2.py3-none-any.whl\n",
      "Collecting traitlets>=4.1.0 (from ipykernel>=4.0.0; extra == \"extras\"->Nikola[extras])\n",
      "  Using cached https://files.pythonhosted.org/packages/93/d6/abcb22de61d78e2fc3959c964628a5771e47e7cc60d53e9342e21ed6cc9a/traitlets-4.3.2-py2.py3-none-any.whl\n",
      "Collecting tornado>=4.2 (from ipykernel>=4.0.0; extra == \"extras\"->Nikola[extras])\n",
      "Collecting argh>=0.24.1 (from watchdog>=0.8.3; extra == \"extras\"->Nikola[extras])\n",
      "  Using cached https://files.pythonhosted.org/packages/06/1c/e667a7126f0b84aaa1c56844337bf0ac12445d1beb9c8a6199a7314944bf/argh-0.26.2-py2.py3-none-any.whl\n",
      "Collecting PyYAML>=3.10 (from watchdog>=0.8.3; extra == \"extras\"->Nikola[extras])\n",
      "Collecting pathtools>=0.1.1 (from watchdog>=0.8.3; extra == \"extras\"->Nikola[extras])\n",
      "Collecting Send2Trash (from notebook>=4.0.0; extra == \"extras\"->Nikola[extras])\n",
      "  Using cached https://files.pythonhosted.org/packages/49/46/c3dc27481d1cc57b9385aff41c474ceb7714f7935b1247194adae45db714/Send2Trash-1.5.0-py3-none-any.whl\n",
      "Collecting prometheus-client (from notebook>=4.0.0; extra == \"extras\"->Nikola[extras])\n",
      "Collecting nbconvert (from notebook>=4.0.0; extra == \"extras\"->Nikola[extras])\n",
      "  Using cached https://files.pythonhosted.org/packages/f9/df/4505c0a7fea624cac461d0f41051f33456ae656753f65cee8c2f43121cb2/nbconvert-5.6.0-py2.py3-none-any.whl\n",
      "Collecting terminado>=0.8.1 (from notebook>=4.0.0; extra == \"extras\"->Nikola[extras])\n",
      "  Using cached https://files.pythonhosted.org/packages/a7/56/80ea7fa66565fa75ae21ce0c16bc90067530e5d15e48854afcc86585a391/terminado-0.8.2-py2.py3-none-any.whl\n",
      "Collecting pyzmq>=17 (from notebook>=4.0.0; extra == \"extras\"->Nikola[extras])\n",
      "  Using cached https://files.pythonhosted.org/packages/fe/77/0d44304be367e21179fe05c067f7b8c00fdf2cebd9ec7053840c0de76df2/pyzmq-18.1.0-cp37-cp37m-macosx_10_9_x86_64.whl\n",
      "Collecting ipython-genutils (from notebook>=4.0.0; extra == \"extras\"->Nikola[extras])\n",
      "  Using cached https://files.pythonhosted.org/packages/fa/bc/9bd3b5c2b4774d5f33b2d544f1460be9df7df2fe42f352135381c347c69a/ipython_genutils-0.2.0-py2.py3-none-any.whl\n",
      "Collecting jupyter-core>=4.4.0 (from notebook>=4.0.0; extra == \"extras\"->Nikola[extras])\n",
      "  Using cached https://files.pythonhosted.org/packages/e6/25/6ffb0f6e57fa6ef5d2f814377133b361b42a6dd39105f4885a4f1666c2c3/jupyter_core-4.5.0-py2.py3-none-any.whl\n",
      "Collecting nbformat (from notebook>=4.0.0; extra == \"extras\"->Nikola[extras])\n",
      "  Using cached https://files.pythonhosted.org/packages/da/27/9a654d2b6cc1eaa517d1c5a4405166c7f6d72f04f6e7eea41855fe808a46/nbformat-4.4.0-py2.py3-none-any.whl\n",
      "Collecting jedi>=0.10 (from ipython>=5.0.0->ipykernel>=4.0.0; extra == \"extras\"->Nikola[extras])\n",
      "  Using cached https://files.pythonhosted.org/packages/55/54/da994f359e4e7da4776a200e76dbc85ba5fc319eefc22e33d55296d95a1d/jedi-0.15.1-py2.py3-none-any.whl\n",
      "Collecting pexpect; sys_platform != \"win32\" (from ipython>=5.0.0->ipykernel>=4.0.0; extra == \"extras\"->Nikola[extras])\n",
      "  Using cached https://files.pythonhosted.org/packages/0e/3e/377007e3f36ec42f1b84ec322ee12141a9e10d808312e5738f52f80a232c/pexpect-4.7.0-py2.py3-none-any.whl\n",
      "Collecting pickleshare (from ipython>=5.0.0->ipykernel>=4.0.0; extra == \"extras\"->Nikola[extras])\n",
      "  Using cached https://files.pythonhosted.org/packages/9a/41/220f49aaea88bc6fa6cba8d05ecf24676326156c23b991e80b3f2fc24c77/pickleshare-0.7.5-py2.py3-none-any.whl\n",
      "Collecting appnope; sys_platform == \"darwin\" (from ipython>=5.0.0->ipykernel>=4.0.0; extra == \"extras\"->Nikola[extras])\n",
      "  Using cached https://files.pythonhosted.org/packages/87/a9/7985e6a53402f294c8f0e8eff3151a83f1fb901fa92909bb3ff29b4d22af/appnope-0.1.0-py2.py3-none-any.whl\n",
      "Collecting prompt-toolkit<2.1.0,>=2.0.0 (from ipython>=5.0.0->ipykernel>=4.0.0; extra == \"extras\"->Nikola[extras])\n",
      "  Using cached https://files.pythonhosted.org/packages/f7/a7/9b1dd14ef45345f186ef69d175bdd2491c40ab1dfa4b2b3e4352df719ed7/prompt_toolkit-2.0.9-py3-none-any.whl\n",
      "Collecting decorator (from ipython>=5.0.0->ipykernel>=4.0.0; extra == \"extras\"->Nikola[extras])\n",
      "  Using cached https://files.pythonhosted.org/packages/5f/88/0075e461560a1e750a0dcbf77f1d9de775028c37a19a346a6c565a257399/decorator-4.4.0-py2.py3-none-any.whl\n",
      "Collecting backcall (from ipython>=5.0.0->ipykernel>=4.0.0; extra == \"extras\"->Nikola[extras])\n",
      "Collecting mistune<2,>=0.8.1 (from nbconvert->notebook>=4.0.0; extra == \"extras\"->Nikola[extras])\n",
      "  Using cached https://files.pythonhosted.org/packages/09/ec/4b43dae793655b7d8a25f76119624350b4d65eb663459eb9603d7f1f0345/mistune-0.8.4-py2.py3-none-any.whl\n",
      "Collecting bleach (from nbconvert->notebook>=4.0.0; extra == \"extras\"->Nikola[extras])\n",
      "  Using cached https://files.pythonhosted.org/packages/ab/05/27e1466475e816d3001efb6e0a85a819be17411420494a1e602c36f8299d/bleach-3.1.0-py2.py3-none-any.whl\n",
      "Collecting entrypoints>=0.2.2 (from nbconvert->notebook>=4.0.0; extra == \"extras\"->Nikola[extras])\n",
      "  Using cached https://files.pythonhosted.org/packages/ac/c6/44694103f8c221443ee6b0041f69e2740d89a25641e62fb4f2ee568f2f9c/entrypoints-0.3-py2.py3-none-any.whl\n",
      "Collecting pandocfilters>=1.4.1 (from nbconvert->notebook>=4.0.0; extra == \"extras\"->Nikola[extras])\n",
      "Collecting defusedxml (from nbconvert->notebook>=4.0.0; extra == \"extras\"->Nikola[extras])\n",
      "  Using cached https://files.pythonhosted.org/packages/06/74/9b387472866358ebc08732de3da6dc48e44b0aacd2ddaa5cb85ab7e986a2/defusedxml-0.6.0-py2.py3-none-any.whl\n",
      "Collecting testpath (from nbconvert->notebook>=4.0.0; extra == \"extras\"->Nikola[extras])\n",
      "  Using cached https://files.pythonhosted.org/packages/be/a4/162f9ebb6489421fe46dcca2ae420369edfee4b563c668d93cb4605d12ba/testpath-0.4.2-py2.py3-none-any.whl\n",
      "Collecting ptyprocess; os_name != \"nt\" (from terminado>=0.8.1->notebook>=4.0.0; extra == \"extras\"->Nikola[extras])\n",
      "  Using cached https://files.pythonhosted.org/packages/d1/29/605c2cc68a9992d18dada28206eeada56ea4bd07a239669da41674648b6f/ptyprocess-0.6.0-py2.py3-none-any.whl\n",
      "Collecting jsonschema!=2.5.0,>=2.4 (from nbformat->notebook>=4.0.0; extra == \"extras\"->Nikola[extras])\n",
      "  Using cached https://files.pythonhosted.org/packages/54/48/f5f11003ceddcd4ad292d4d9b5677588e9169eef41f88e38b2888e7ec6c4/jsonschema-3.0.2-py2.py3-none-any.whl\n",
      "Collecting parso>=0.5.0 (from jedi>=0.10->ipython>=5.0.0->ipykernel>=4.0.0; extra == \"extras\"->Nikola[extras])\n",
      "  Using cached https://files.pythonhosted.org/packages/a3/bd/bf4e5bd01d79906e5b945a7af033154da49fd2b0d5b5c705a21330323305/parso-0.5.1-py2.py3-none-any.whl\n",
      "Collecting wcwidth (from prompt-toolkit<2.1.0,>=2.0.0->ipython>=5.0.0->ipykernel>=4.0.0; extra == \"extras\"->Nikola[extras])\n",
      "  Using cached https://files.pythonhosted.org/packages/7e/9f/526a6947247599b084ee5232e4f9190a38f398d7300d866af3ab571a5bfe/wcwidth-0.1.7-py2.py3-none-any.whl\n",
      "Collecting webencodings (from bleach->nbconvert->notebook>=4.0.0; extra == \"extras\"->Nikola[extras])\n",
      "  Using cached https://files.pythonhosted.org/packages/f4/24/2a3e3df732393fed8b3ebf2ec078f05546de641fe1b667ee316ec1dcf3b7/webencodings-0.5.1-py2.py3-none-any.whl\n",
      "Collecting pyrsistent>=0.14.0 (from jsonschema!=2.5.0,>=2.4->nbformat->notebook>=4.0.0; extra == \"extras\"->Nikola[extras])\n",
      "\u001b[31mERROR: brian2tools 0.2.1.1 requires setuptools-scm, which is not installed.\u001b[0m\n",
      "\u001b[31mERROR: rst2html5 1.10.2 has requirement pygments==2.0.2, but you'll have pygments 2.4.2 which is incompatible.\u001b[0m\n",
      "\u001b[31mERROR: python-language-server 0.28.3 has requirement jedi<0.15,>=0.14.1, but you'll have jedi 0.15.1 which is incompatible.\u001b[0m\n",
      "\u001b[31mERROR: gym 0.14.0 has requirement pyglet<=1.3.2,>=1.2.0, but you'll have pyglet 1.4.4 which is incompatible.\u001b[0m\n",
      "\u001b[31mERROR: datashader 0.7.0 has requirement testpath<0.4, but you'll have testpath 0.4.2 which is incompatible.\u001b[0m\n",
      "Installing collected packages: setuptools, logbook, docutils, natsort, Pillow, piexif, pytz, Babel, chardet, idna, urllib3, certifi, requests, lxml, blinker, PyRSS2Gen, Pygments, MarkupSafe, mako, cloudpickle, macfsevents, doit, six, python-dateutil, unidecode, Yapsy, Markdown, phpserialize, pygal, smartypants, typogrify, Jinja2, attrs, async-timeout, multidict, yarl, aiohttp, husl, micawber, ruamel.yaml.clib, ruamel.yaml, parso, jedi, ptyprocess, pexpect, pickleshare, appnope, wcwidth, prompt-toolkit, ipython-genutils, decorator, traitlets, backcall, ipython, tornado, pyzmq, jupyter-core, jupyter-client, ipykernel, argh, PyYAML, pathtools, watchdog, Send2Trash, prometheus-client, pyrsistent, jsonschema, nbformat, mistune, webencodings, bleach, entrypoints, pandocfilters, defusedxml, testpath, nbconvert, terminado, notebook, ghp-import2, pyphen, toml, Nikola\n",
      "  Found existing installation: setuptools 41.2.0\n",
      "    Uninstalling setuptools-41.2.0:\n",
      "      Successfully uninstalled setuptools-41.2.0\n",
      "  Found existing installation: Logbook 1.5.2\n",
      "    Uninstalling Logbook-1.5.2:\n",
      "      Successfully uninstalled Logbook-1.5.2\n",
      "  Found existing installation: docutils 0.15.2\n",
      "    Uninstalling docutils-0.15.2:\n",
      "      Successfully uninstalled docutils-0.15.2\n",
      "  Found existing installation: natsort 6.0.0\n",
      "    Uninstalling natsort-6.0.0:\n",
      "      Successfully uninstalled natsort-6.0.0\n",
      "  Found existing installation: Pillow 6.1.0\n",
      "    Uninstalling Pillow-6.1.0:\n",
      "      Successfully uninstalled Pillow-6.1.0\n",
      "  Found existing installation: piexif 1.1.3\n",
      "    Uninstalling piexif-1.1.3:\n",
      "      Successfully uninstalled piexif-1.1.3\n",
      "  Found existing installation: pytz 2019.2\n",
      "    Uninstalling pytz-2019.2:\n",
      "      Successfully uninstalled pytz-2019.2\n",
      "  Found existing installation: Babel 2.7.0\n",
      "    Uninstalling Babel-2.7.0:\n",
      "      Successfully uninstalled Babel-2.7.0\n",
      "  Found existing installation: chardet 3.0.4\n",
      "    Uninstalling chardet-3.0.4:\n",
      "      Successfully uninstalled chardet-3.0.4\n",
      "  Found existing installation: idna 2.8\n",
      "    Uninstalling idna-2.8:\n",
      "      Successfully uninstalled idna-2.8\n",
      "  Found existing installation: urllib3 1.25.6\n",
      "    Uninstalling urllib3-1.25.6:\n",
      "      Successfully uninstalled urllib3-1.25.6\n",
      "  Found existing installation: certifi 2019.9.11\n",
      "    Uninstalling certifi-2019.9.11:\n",
      "      Successfully uninstalled certifi-2019.9.11\n",
      "  Found existing installation: requests 2.22.0\n",
      "    Uninstalling requests-2.22.0:\n",
      "      Successfully uninstalled requests-2.22.0\n",
      "  Found existing installation: lxml 4.4.1\n",
      "    Uninstalling lxml-4.4.1:\n",
      "      Successfully uninstalled lxml-4.4.1\n",
      "  Found existing installation: blinker 1.4\n",
      "    Uninstalling blinker-1.4:\n",
      "      Successfully uninstalled blinker-1.4\n",
      "  Found existing installation: PyRSS2Gen 1.1\n",
      "    Uninstalling PyRSS2Gen-1.1:\n",
      "      Successfully uninstalled PyRSS2Gen-1.1\n",
      "  Found existing installation: Pygments 2.4.2\n",
      "    Uninstalling Pygments-2.4.2:\n",
      "      Successfully uninstalled Pygments-2.4.2\n",
      "  Found existing installation: MarkupSafe 1.1.1\n",
      "    Uninstalling MarkupSafe-1.1.1:\n",
      "      Successfully uninstalled MarkupSafe-1.1.1\n",
      "  Found existing installation: Mako 1.1.0\n",
      "    Uninstalling Mako-1.1.0:\n",
      "      Successfully uninstalled Mako-1.1.0\n",
      "  Found existing installation: cloudpickle 1.2.2\n",
      "    Uninstalling cloudpickle-1.2.2:\n",
      "      Successfully uninstalled cloudpickle-1.2.2\n",
      "  Found existing installation: MacFSEvents 0.8.1\n",
      "    Uninstalling MacFSEvents-0.8.1:\n",
      "      Successfully uninstalled MacFSEvents-0.8.1\n",
      "  Rolling back uninstall of MacFSEvents\n",
      "  Moving to /usr/local/lib/python3.7/site-packages/MacFSEvents-0.8.1.dist-info/\n",
      "   from /usr/local/lib/python3.7/site-packages/~acFSEvents-0.8.1.dist-info\n",
      "  Moving to /usr/local/lib/python3.7/site-packages/__pycache__/fsevents.cpython-37.pyc\n",
      "   from /private/var/folders/3p/m0g52j9j69z3gj8ktpgg1dm00000gn/T/pip-uninstall-0g984ffd/fsevents.cpython-37.pyc\n",
      "  Moving to /usr/local/lib/python3.7/site-packages/_fsevents.cpython-37m-darwin.so\n",
      "   from /private/var/folders/3p/m0g52j9j69z3gj8ktpgg1dm00000gn/T/pip-uninstall-ta4_8qpk/_fsevents.cpython-37m-darwin.so\n",
      "  Moving to /usr/local/lib/python3.7/site-packages/fsevents.py\n",
      "   from /private/var/folders/3p/m0g52j9j69z3gj8ktpgg1dm00000gn/T/pip-uninstall-ta4_8qpk/fsevents.py\n",
      "\u001b[31mERROR: Could not install packages due to an EnvironmentError: [Errno 13] Permission denied: '/usr/local/LICENSE.txt'\n",
      "Consider using the `--user` option or check the permissions.\n",
      "\u001b[0m\n"
     ]
    }
   ],
   "source": [
    "!python3 -m pip install -U --force \"Nikola[extras]\""
   ]
  },
  {
   "cell_type": "code",
   "execution_count": 3,
   "metadata": {
    "ExecuteTime": {
     "end_time": "2018-09-07T10:24:48.097536Z",
     "start_time": "2018-09-07T10:24:43.118411Z"
    }
   },
   "outputs": [
    {
     "name": "stdout",
     "output_type": "stream",
     "text": [
      "Collecting rst2html5\n",
      "  Using cached https://files.pythonhosted.org/packages/b9/a6/8ae3295fb425068eb71a234fe4de6c79d63e60ce11fc15fd267b72b1ea5c/rst2html5-1.10.2-py2.py3-none-any.whl\n",
      "Collecting pygments==2.0.2 (from rst2html5)\n",
      "  Using cached https://files.pythonhosted.org/packages/87/e3/cadb43a197476ec0adef73292ea7ea188f2b0531188eebc150905d3ed78c/Pygments-2.0.2-py3-none-any.whl\n",
      "Collecting docutils>=0.14 (from rst2html5)\n",
      "  Using cached https://files.pythonhosted.org/packages/36/fa/08e9e6e0e3cbd1d362c3bbee8d01d0aedb2155c4ac112b19ef3cae8eed8d/docutils-0.14-py3-none-any.whl\n",
      "Collecting genshi>=0.7 (from rst2html5)\n",
      "  Using cached https://files.pythonhosted.org/packages/0b/cb/79f9156d7ba248239ddc16662d696b1bb20628e9c0a049448e79b806b2c2/Genshi-0.7.3-py3-none-any.whl\n",
      "\u001b[31mERROR: nikola 8.0.2 has requirement Markdown<3.0.0,>=2.4.0, but you'll have markdown 3.1.1 which is incompatible.\u001b[0m\n",
      "Installing collected packages: pygments, docutils, genshi, rst2html5\n",
      "  Found existing installation: Pygments 2.4.2\n",
      "    Uninstalling Pygments-2.4.2:\n",
      "      Successfully uninstalled Pygments-2.4.2\n",
      "  Found existing installation: docutils 0.14\n",
      "    Uninstalling docutils-0.14:\n",
      "      Successfully uninstalled docutils-0.14\n",
      "  Found existing installation: Genshi 0.7.3\n",
      "    Uninstalling Genshi-0.7.3:\n",
      "      Successfully uninstalled Genshi-0.7.3\n",
      "  Found existing installation: rst2html5 1.10.2\n",
      "    Uninstalling rst2html5-1.10.2:\n",
      "      Successfully uninstalled rst2html5-1.10.2\n",
      "Successfully installed docutils-0.14 genshi-0.7.3 pygments-2.0.2 rst2html5-1.10.2\n"
     ]
    }
   ],
   "source": [
    "#!python3 -m pip uninstall -y rst2html5\n",
    "!python3 -m pip install -U --force rst2html5"
   ]
  },
  {
   "cell_type": "code",
   "execution_count": 4,
   "metadata": {
    "ExecuteTime": {
     "end_time": "2018-09-07T10:24:57.383520Z",
     "start_time": "2018-09-07T10:24:54.879696Z"
    }
   },
   "outputs": [
    {
     "name": "stdout",
     "output_type": "stream",
     "text": [
      "Collecting html5lib\n",
      "  Using cached https://files.pythonhosted.org/packages/a5/62/bbd2be0e7943ec8504b517e62bab011b4946e1258842bc159e5dfde15b96/html5lib-1.0.1-py2.py3-none-any.whl\n",
      "Collecting webencodings (from html5lib)\n",
      "  Using cached https://files.pythonhosted.org/packages/f4/24/2a3e3df732393fed8b3ebf2ec078f05546de641fe1b667ee316ec1dcf3b7/webencodings-0.5.1-py2.py3-none-any.whl\n",
      "Collecting six>=1.9 (from html5lib)\n",
      "  Using cached https://files.pythonhosted.org/packages/73/fb/00a976f728d0d1fecfe898238ce23f502a721c0ac0ecfedb80e0d88c64e9/six-1.12.0-py2.py3-none-any.whl\n",
      "\u001b[31mERROR: nikola 8.0.2 has requirement Markdown<3.0.0,>=2.4.0, but you'll have markdown 3.1.1 which is incompatible.\u001b[0m\n",
      "\u001b[31mERROR: jupyterlab 0.35.6 has requirement jupyterlab-server<0.3.0,>=0.2.0, but you'll have jupyterlab-server 0.3.4 which is incompatible.\u001b[0m\n",
      "\u001b[31mERROR: datashader 0.7.0 has requirement testpath<0.4, but you'll have testpath 0.4.2 which is incompatible.\u001b[0m\n",
      "Installing collected packages: webencodings, six, html5lib\n",
      "  Found existing installation: webencodings 0.5.1\n",
      "    Uninstalling webencodings-0.5.1:\n",
      "      Successfully uninstalled webencodings-0.5.1\n",
      "  Found existing installation: six 1.12.0\n",
      "    Uninstalling six-1.12.0:\n",
      "      Successfully uninstalled six-1.12.0\n",
      "  Found existing installation: html5lib 1.0.1\n",
      "    Uninstalling html5lib-1.0.1:\n",
      "      Successfully uninstalled html5lib-1.0.1\n",
      "Successfully installed html5lib-1.0.1 six-1.12.0 webencodings-0.5.1\n"
     ]
    }
   ],
   "source": [
    "#!pip uninstall -y html5lib\n",
    "!python3 -m pip install -U --force html5lib"
   ]
  },
  {
   "cell_type": "code",
   "execution_count": 1,
   "metadata": {
    "ExecuteTime": {
     "end_time": "2018-09-07T10:25:37.163105Z",
     "start_time": "2018-09-07T10:25:34.804602Z"
    }
   },
   "outputs": [
    {
     "name": "stdout",
     "output_type": "stream",
     "text": [
      "Nikola v8.0.3\n",
      "\u001b[0m"
     ]
    }
   ],
   "source": [
    "!nikola version"
   ]
  },
  {
   "cell_type": "code",
   "execution_count": 2,
   "metadata": {
    "ExecuteTime": {
     "end_time": "2018-09-07T10:25:40.747475Z",
     "start_time": "2018-09-07T10:25:38.376282Z"
    }
   },
   "outputs": [
    {
     "name": "stdout",
     "output_type": "stream",
     "text": [
      "Nikola v8.0.3\n",
      "Nikola is up-to-date\n",
      "\u001b[0m"
     ]
    }
   ],
   "source": [
    "!nikola version --check"
   ]
  },
  {
   "cell_type": "markdown",
   "metadata": {},
   "source": [
    "# Adding a new post"
   ]
  },
  {
   "cell_type": "code",
   "execution_count": 3,
   "metadata": {
    "ExecuteTime": {
     "end_time": "2018-11-05T14:34:58.343345Z",
     "start_time": "2018-11-05T14:34:58.224501Z"
    }
   },
   "outputs": [
    {
     "name": "stdout",
     "output_type": "stream",
     "text": [
      "Thu Nov 28 12:44:43 CET 2019\n"
     ]
    }
   ],
   "source": [
    "!date\n",
    "import datetime"
   ]
  },
  {
   "cell_type": "code",
   "execution_count": 4,
   "metadata": {
    "ExecuteTime": {
     "end_time": "2018-11-05T14:34:58.697822Z",
     "start_time": "2018-11-05T14:34:58.694703Z"
    }
   },
   "outputs": [
    {
     "name": "stdout",
     "output_type": "stream",
     "text": [
      "2019-11-28 12:44:43.789676\n"
     ]
    }
   ],
   "source": [
    "print(datetime.datetime.now())"
   ]
  },
  {
   "cell_type": "code",
   "execution_count": 5,
   "metadata": {
    "ExecuteTime": {
     "end_time": "2018-11-05T14:34:59.176807Z",
     "start_time": "2018-11-05T14:34:59.173942Z"
    }
   },
   "outputs": [
    {
     "name": "stdout",
     "output_type": "stream",
     "text": [
      "2019-11-28\n"
     ]
    }
   ],
   "source": [
    "now = datetime.datetime.now().date()\n",
    "date = now.isoformat()#[2:]\n",
    "print(date)"
   ]
  },
  {
   "cell_type": "raw",
   "metadata": {},
   "source": [
    "date = '2019-10-07'"
   ]
  },
  {
   "cell_type": "code",
   "execution_count": 6,
   "metadata": {
    "ExecuteTime": {
     "end_time": "2018-11-05T14:35:00.048738Z",
     "start_time": "2018-11-05T14:34:59.677518Z"
    }
   },
   "outputs": [],
   "source": [
    "from nikola import utils"
   ]
  },
  {
   "cell_type": "code",
   "execution_count": 10,
   "metadata": {
    "ExecuteTime": {
     "end_time": "2018-11-05T14:40:53.234519Z",
     "start_time": "2018-11-05T14:40:53.230930Z"
    }
   },
   "outputs": [],
   "source": [
    "tags_list = [\n",
    "#    'python', \n",
    "#    'ipython', \n",
    "#    'nikola', \n",
    "#    'blog', \n",
    "#    'themes', \n",
    "#    'pupil',\n",
    "#    'psychophysics',\n",
    "#    'outreach',    'grand-public',\n",
    "#   'behavior',\n",
    "#    'povray', \n",
    "#    'elasticite', \n",
    "#    'art', \n",
    "#    'trames', \n",
    "#    'math',\n",
    "#    'bicv', \n",
    "    'SLIP', \n",
    "    'LogGabor', \n",
    "#    'SHL_scripts', \n",
    "    'sparse', \n",
    "#    'Matching Pursuit',\n",
    "#    'Motion Particles',\n",
    "#    'holoviews',\n",
    "#    'pytorch',\n",
    "#    'deep-learning',\n",
    "    'machine-learning',\n",
    "#    'moviepy', \n",
    "#     'numpy', \n",
    "#    'vispy', \n",
    "#    'neural',\n",
    "#    'motionclouds',\n",
    "#    'motion',\n",
    "#    'pynn',\n",
    "#    'saccades',\n",
    "#    'Free Energy',\n",
    "#    'learning',\n",
    "#    'open-science',\n",
    "#    'shell',\n",
    "#    'vim',\n",
    "    'orientation',\n",
    "#    'vision',\n",
    "#    'v1',\n",
    "]\n",
    "formt = 'rest'\n",
    "formt = 'markdown'\n",
    "formt = 'ipynb'"
   ]
  },
  {
   "cell_type": "code",
   "execution_count": 11,
   "metadata": {
    "ExecuteTime": {
     "end_time": "2018-11-05T14:41:01.475071Z",
     "start_time": "2018-11-05T14:41:00.415148Z"
    }
   },
   "outputs": [
    {
     "name": "stdout",
     "output_type": "stream",
     "text": [
      "Purpose: create a new blog post or site page\n",
      "Usage:   nikola new_post [options] [path]\n",
      "\n",
      "Options:\n",
      "  -p, --page                Create a page instead of a blog post. (see also: `nikola new_page`)  (config: is_page)\n",
      "  -t ARG, --title=ARG       Title for the post.  (config: title)\n",
      "  -a ARG, --author=ARG      Author of the post.  (config: author)\n",
      "  --tags=ARG                Comma-separated tags for the post.  (config: tags)\n",
      "  -1                        Create the post with embedded metadata (single file format)  (config: onefile)\n",
      "  -2                        Create the post with separate metadata (two file format)  (config: twofile)\n",
      "  -e                        Open the post (and meta file, if any) in $EDITOR after creation.  (config: edit)\n",
      "  -f ARG, --format=ARG      Markup format for the post (use --available-formats for list)  (config: content_format)\n",
      "  -F, --available-formats   List all available input formats  (config: available-formats)\n",
      "  -s                        Schedule the post based on recurrence rule  (config: schedule)\n",
      "  -i ARG, --import=ARG      Import an existing file instead of creating a placeholder  (config: import)\n",
      "  -d, --date-path           Create post with date path (eg. year/month/day, see NEW_POST_DATE_PATH_FORMAT in config)  (config: date-path)\n"
     ]
    }
   ],
   "source": [
    "!nikola new_post -h"
   ]
  },
  {
   "cell_type": "code",
   "execution_count": 12,
   "metadata": {
    "ExecuteTime": {
     "end_time": "2018-11-05T14:41:01.475071Z",
     "start_time": "2018-11-05T14:41:00.415148Z"
    }
   },
   "outputs": [
    {
     "name": "stdout",
     "output_type": "stream",
     "text": [
      "Available input formats:\n",
      "\n",
      " NAME        DESCRIPTION       EXTENSIONS\n",
      "\n",
      " html        HTML              .html, .htm\n",
      " ipynb       Jupyter Notebook  .ipynb\n",
      " markdown    Markdown          .md, .mdown, .markdown\n",
      " rest        reStructuredText  .rst, .txt\n",
      "!php         PHP               .php\n",
      "~pandoc      Pandoc            (disabled: not in COMPILERS)\n",
      "~rest_html5  rest_html5        (disabled: not in COMPILERS)\n",
      "\n",
      "    More compilers are available in the Plugins Index.\n",
      "\n",
      "    Compilers marked with ! and ~ require additional configuration:\n",
      "        ! not in the POSTS/PAGES tuples and any post scanners (unused)\n",
      "        ~ not in the COMPILERS dict (disabled)\n",
      "    Read more: https://getnikola.com/handbook.html#configuring-other-input-formats\n"
     ]
    }
   ],
   "source": [
    "!nikola new_post  --available-formats"
   ]
  },
  {
   "cell_type": "code",
   "execution_count": 13,
   "metadata": {
    "ExecuteTime": {
     "end_time": "2018-11-05T14:41:08.343633Z",
     "start_time": "2018-11-05T14:41:02.455292Z"
    }
   },
   "outputs": [
    {
     "name": "stdout",
     "output_type": "stream",
     "text": [
      "Creating New Post\n",
      "-----------------\n",
      "\n",
      "Title: 2019-11-28 role of gamma correction in Sparse coding\n",
      "Scanning posts...........done!\n",
      "[2019-11-28T11:46:24Z] NOTICE: ipynb: No kernel specified, assuming \"python3\".\n",
      "[2019-11-28T11:46:24Z] INFO: new_post: Your post's metadata is at: posts/2019-11-28-role-of-gamma-correction-in-sparse-coding.meta\n",
      "[2019-11-28T11:46:24Z] INFO: new_post: Your post's text is at: posts/2019-11-28-role-of-gamma-correction-in-sparse-coding.ipynb\n"
     ]
    }
   ],
   "source": [
    "tags = ', '.join(tags_list)\n",
    "title = date + ' ' + \"role of gamma correction in Sparse coding\"\n",
    "#title = '2017-12-13 accessing the data from a pupil recording'\n",
    "!nikola new_post -f \"{formt}\" -2 -t \"{title}\" --tags=\"{tags}\""
   ]
  },
  {
   "cell_type": "code",
   "execution_count": 14,
   "metadata": {
    "ExecuteTime": {
     "end_time": "2018-11-08T10:17:49.012273Z",
     "start_time": "2018-11-08T10:17:49.005411Z"
    }
   },
   "outputs": [
    {
     "name": "stdout",
     "output_type": "stream",
     "text": [
      "posts/2019-11-28-role-of-gamma-correction-in-sparse-coding.ipynb\n"
     ]
    }
   ],
   "source": [
    "fname = utils.os.path.join('posts', utils.slugify(title) + '.' + formt)\n",
    "print(fname)"
   ]
  },
  {
   "cell_type": "code",
   "execution_count": 21,
   "metadata": {
    "ExecuteTime": {
     "end_time": "2018-11-05T14:41:18.822843Z",
     "start_time": "2018-11-05T14:41:18.813958Z"
    }
   },
   "outputs": [
    {
     "data": {
      "text/plain": [
       "'posts/2019-10-07-neurostories-videos-of-my-talk.ipynb'"
      ]
     },
     "execution_count": 21,
     "metadata": {},
     "output_type": "execute_result"
    }
   ],
   "source": [
    "utils.shutil.copy('template.ipynb', fname)"
   ]
  },
  {
   "cell_type": "markdown",
   "metadata": {},
   "source": [
    "## Copying existing notebooks"
   ]
  },
  {
   "cell_type": "code",
   "execution_count": 15,
   "metadata": {},
   "outputs": [
    {
     "name": "stdout",
     "output_type": "stream",
     "text": [
      "posts/2015-05-22-a-hitchhiker-guide-to-matching-pursuit.ipynb\n",
      "posts/2015-05-22-a-hitchhiker-guide-to-matching-pursuit.meta\n"
     ]
    }
   ],
   "source": [
    "%ls posts/2015*hitch*"
   ]
  },
  {
   "cell_type": "code",
   "execution_count": 16,
   "metadata": {
    "ExecuteTime": {
     "end_time": "2018-11-05T14:41:18.822843Z",
     "start_time": "2018-11-05T14:41:18.813958Z"
    }
   },
   "outputs": [
    {
     "data": {
      "text/plain": [
       "'posts/2019-11-28-role-of-gamma-correction-in-sparse-coding.ipynb'"
      ]
     },
     "execution_count": 16,
     "metadata": {},
     "output_type": "execute_result"
    }
   ],
   "source": [
    "utils.shutil.copy('posts/2015-05-22-a-hitchhiker-guide-to-matching-pursuit.ipynb', fname)"
   ]
  },
  {
   "cell_type": "code",
   "execution_count": null,
   "metadata": {
    "ExecuteTime": {
     "end_time": "2018-11-08T10:17:33.863368Z",
     "start_time": "2018-11-08T10:17:33.822970Z"
    }
   },
   "outputs": [],
   "source": [
    "utils.shutil.copy('/Users/laurentperrinet/pool/TimeWarp/2018-11-05_Statistics of the natural input to a ring model.ipynb', fname)\n",
    "utils.shutil.copy('/Users/laurentperrinet/pool/TimeWarp/figs/2018-11-05_Ring_input.mp4', 'files/')"
   ]
  },
  {
   "cell_type": "code",
   "execution_count": null,
   "metadata": {},
   "outputs": [],
   "source": [
    "utils.shutil.copy('/Users/laurentperrinet//science/pupil/dev/2017-12-13 accessing the data from a pupil recording.ipynb', 'posts/2017-12-13-accessing-the-data-from-a-pupil-recording.ipynb')"
   ]
  },
  {
   "cell_type": "code",
   "execution_count": null,
   "metadata": {
    "collapsed": true,
    "jupyter": {
     "outputs_hidden": true
    }
   },
   "outputs": [],
   "source": [
    "titles = ['2017-03-29 testing COMPs-Pcum', '2017-03-29 testing COMPs-fastPcum', '2017-03-29 testing COMPs-fastPcum_scripted']"
   ]
  },
  {
   "cell_type": "code",
   "execution_count": null,
   "metadata": {},
   "outputs": [],
   "source": [
    "tags = ', '.join(tags_list)\n",
    "for title in titles:\n",
    "    !nikola new_post -f \"{formt}\" -2 -t \"{title}\" --tags=\"{tags}\""
   ]
  },
  {
   "cell_type": "code",
   "execution_count": null,
   "metadata": {},
   "outputs": [],
   "source": [
    "for title in titles:\n",
    "    fname = utils.os.path.join('posts', utils.slugify(title) + '.' + formt)\n",
    "    print(fname)\n",
    "    import os\n",
    "    home = os.environ['HOME']\n",
    "    print(home)\n",
    "    filepath = home +  \"/science/VB_These/Rapport d'avancement/2017-03/\"\n",
    "    print(filepath + title +'.ipynb')\n",
    "    utils.shutil.copy(filepath + title +'.ipynb', fname)"
   ]
  },
  {
   "cell_type": "markdown",
   "metadata": {},
   "source": [
    "\n",
    "TODO : 2017-05-23-reproducing-olshausens-classical-sparsenet-part-5.ipynb and others from 2017-05-23-reproducing-olshausens-classical-sparsenet-part-5.ipynb\n"
   ]
  },
  {
   "cell_type": "raw",
   "metadata": {},
   "source": [
    "Below, I detail some thoughts on why it is a perfect preamble for most ipython notebooks.\n",
    "\n",
    "<!-- TEASER_END -->"
   ]
  },
  {
   "cell_type": "code",
   "execution_count": null,
   "metadata": {
    "collapsed": true,
    "jupyter": {
     "outputs_hidden": true
    }
   },
   "outputs": [],
   "source": [
    "import nikola"
   ]
  },
  {
   "cell_type": "code",
   "execution_count": null,
   "metadata": {
    "collapsed": true,
    "jupyter": {
     "outputs_hidden": true
    }
   },
   "outputs": [],
   "source": [
    "nikola.utils."
   ]
  },
  {
   "cell_type": "code",
   "execution_count": null,
   "metadata": {
    "collapsed": true,
    "jupyter": {
     "outputs_hidden": true
    }
   },
   "outputs": [],
   "source": [
    "from nikola.plugins import commands"
   ]
  },
  {
   "cell_type": "code",
   "execution_count": null,
   "metadata": {
    "collapsed": true,
    "jupyter": {
     "outputs_hidden": true
    }
   },
   "outputs": [],
   "source": [
    "plugins.absolute_import"
   ]
  },
  {
   "cell_type": "code",
   "execution_count": null,
   "metadata": {
    "collapsed": true,
    "jupyter": {
     "outputs_hidden": true
    }
   },
   "outputs": [],
   "source": [
    "!nikola help new_post "
   ]
  },
  {
   "cell_type": "code",
   "execution_count": null,
   "metadata": {
    "collapsed": true,
    "jupyter": {
     "outputs_hidden": true
    }
   },
   "outputs": [],
   "source": [
    "base_url = \"http://127.0.0.1:\"\n",
    "port = 8889\n",
    "\n",
    "from nikola import utils\n",
    "notebook = \"/notebooks/posts/\" + utils.slugify(unicode(title)) + \".ipynb\"  \n",
    "\n",
    "url = base_url + str(port) + notebook\n",
    "print url"
   ]
  },
  {
   "cell_type": "code",
   "execution_count": null,
   "metadata": {
    "collapsed": true,
    "jupyter": {
     "outputs_hidden": true
    }
   },
   "outputs": [],
   "source": [
    "def convert(URL, DATE, TIME, TITLE, TAGS, doit=True):\n",
    "\n",
    "    TIMEDTITLE = DATE[2:] + ' ' + TITLE\n",
    "    SLUG = DATE[2:] + '-' + TITLE.replace(' ', '-')\n",
    "    tmplt = \"\"\"\\\n",
    ".. title: %s %s\n",
    ".. slug: %s\n",
    ".. date: %s %s\n",
    ".. type: text\n",
    ".. tags: %s\n",
    "    \n",
    "\"\"\" % (DATE[2:], TITLE, SLUG, DATE, TIME, TAGS)\n",
    "\n",
    "    print tmplt\n",
    "\n",
    "    if doit:\n",
    "        import os\n",
    "        print TITLE, TAGS\n",
    "        cmd = 'cd ..; nikola new_post --title=\"%s\" --tags=\"%s\"' % (TIMEDTITLE, TAGS)\n",
    "        print cmd\n",
    "        os.system(cmd)\n",
    "        f = file(SLUG + '.rst', 'w')\n",
    "        f.write(tmplt + pagerst)\n",
    "        f.close()\n",
    "    else:\n",
    "        print tmplt"
   ]
  },
  {
   "cell_type": "markdown",
   "metadata": {},
   "source": [
    "## updating dates to iso8601 : ipython notebooks"
   ]
  },
  {
   "cell_type": "code",
   "execution_count": null,
   "metadata": {
    "collapsed": true,
    "jupyter": {
     "outputs_hidden": true
    },
    "scrolled": true
   },
   "outputs": [],
   "source": [
    "import glob, os, shutil\n",
    "from nikola import utils\n",
    "\n",
    "for fname in glob.glob(\"posts/14*.ipynb\"):\n",
    "    ROOT, FILE = os.path.split(fname)\n",
    "    SLUG = 'posts/' + FILE.replace('.ipynb', '.meta')\n",
    "    FILE_new = 'posts/20' + FILE\n",
    "    SLUG_new = 'posts/20' + FILE.replace('.ipynb', '.meta')\n",
    "    print(SLUG)\n",
    "    meta = ''\n",
    "    with open(SLUG, 'r') as f: \n",
    "        for line in f.readlines():\n",
    "            meta += line.replace(' 14-', ' 2014-')\n",
    "    print(FILE_new, SLUG_new)\n",
    "    print(meta)\n",
    "    if True:\n",
    "        with open(SLUG_new, 'w') as f: f.write(meta)\n",
    "        shutil.copy( 'posts/' + FILE, FILE_new)\n",
    "        os.remove('posts/' + FILE)\n",
    "        os.remove(SLUG)"
   ]
  },
  {
   "cell_type": "markdown",
   "metadata": {},
   "source": [
    "## updating dates to iso8601 : other posts"
   ]
  },
  {
   "cell_type": "code",
   "execution_count": null,
   "metadata": {
    "collapsed": true,
    "jupyter": {
     "outputs_hidden": true
    }
   },
   "outputs": [],
   "source": [
    "import glob, os, shutil\n",
    "from nikola import utils\n",
    "\n",
    "for YEAR in [\"10\", \"11\", \"12\", \"13\", \"14\"]:\n",
    "    for fname in glob.glob(\"posts/\"+ YEAR + \"-*.txt\"):\n",
    "        ROOT, FILE = os.path.split(fname)\n",
    "        FILE_new = 'posts/20' + FILE\n",
    "        print(FILE_new)\n",
    "        if True:\n",
    "            shutil.copy( 'posts/' + FILE, FILE_new)\n",
    "            os.remove('posts/' + FILE)\n"
   ]
  },
  {
   "cell_type": "code",
   "execution_count": null,
   "metadata": {
    "collapsed": true,
    "jupyter": {
     "outputs_hidden": true
    },
    "scrolled": true
   },
   "outputs": [],
   "source": [
    "import glob, os, shutil\n",
    "from nikola import utils\n",
    "\n",
    "for ext in [\"*.txt\", \"*.rst\"]:\n",
    "    for YEAR in [\"06\", \"07\", \"08\", \"09\", \"10\", \"11\", \"12\", \"13\", \"14\", \"15\"]:\n",
    "        for fname in glob.glob(\"posts/20\"+ YEAR + ext):\n",
    "            ROOT, FILE = os.path.split(fname)\n",
    "            post = ''\n",
    "            with open('posts/' + FILE, 'r') as f: \n",
    "                for line in f.readlines():\n",
    "                    line = line.replace(' '+ YEAR + '-', ' 20'+ YEAR + '-')\n",
    "                    for YEAR_ in [\"10\", \"11\", \"12\", \"13\", \"14\"]:\n",
    "                        line = line.replace('<'+ YEAR_ + '-', '<20'+ YEAR_ + '-')\n",
    "                    post += line\n",
    "            print(FILE)\n",
    "            if True:\n",
    "                with open('posts/' + FILE, 'w') as f: f.write(post)\n",
    "            else:\n",
    "                print(post)\n"
   ]
  },
  {
   "cell_type": "markdown",
   "metadata": {},
   "source": [
    "# deploying changes"
   ]
  },
  {
   "cell_type": "raw",
   "metadata": {},
   "source": [
    "!nikola clean"
   ]
  },
  {
   "cell_type": "code",
   "execution_count": 1,
   "metadata": {},
   "outputs": [
    {
     "name": "stdout",
     "output_type": "stream",
     "text": [
      "On branch master\n",
      "Your branch is up to date with 'origin/master'.\n",
      "\n",
      "Changes not staged for commit:\n",
      "  (use \"git add <file>...\" to update what will be committed)\n",
      "  (use \"git restore <file>...\" to discard changes in working directory)\n",
      "\t\u001b[32mmodified:   bootstrapPost.ipynb\u001b[m\n",
      "\t\u001b[32mmodified:   docs/posts/2015-11-17-elasticite-expansion-en-miroir-dynamique-dun-point-focal.ipynb\u001b[m\n",
      "\t\u001b[32mmodified:   files/2015-05-22-a-hitchhiker-guide-to-matching-pursuit/gamma.png\u001b[m\n",
      "\t\u001b[32mmodified:   posts/2015-11-17-elasticite-expansion-en-miroir-dynamique-dun-point-focal.ipynb\u001b[m\n",
      "\t\u001b[32mmodified:   posts/2019-11-28-role-of-gamma-correction-in-sparse-coding.ipynb\u001b[m\n",
      "\n",
      "Untracked files:\n",
      "  (use \"git add <file>...\" to include in what will be committed)\n",
      "\t\u001b[36mfiles/2015-05-22-a-hitchhiker-guide-to-matching-pursuit/gamma_results.png\u001b[m\n",
      "\n",
      "no changes added to commit (use \"git add\" and/or \"git commit -a\")\n"
     ]
    }
   ],
   "source": [
    "!git status"
   ]
  },
  {
   "cell_type": "code",
   "execution_count": 2,
   "metadata": {},
   "outputs": [
    {
     "name": "stdout",
     "output_type": "stream",
     "text": [
      "total 980520\n",
      "-rw-r--r--   1 lolo  staff    324722 Jun 26  2016 2016-06-26_thesis.png\n",
      "-rw-r--r--   1 lolo  staff      1150 Oct 19  2016 favicon.ico\n",
      "-rw-r--r--   1 lolo  staff   1019049 Nov 18  2016 2016-11-15_test.mp4\n",
      "-rw-r--r--   1 lolo  staff   1110166 Dec 14  2016 2016-11-15_noise.mp4\n",
      "-rw-r--r--   1 lolo  staff   1903114 Dec 13  2017 2017-12-13_pupil test_480.mp4\n",
      "-rw-r--r--   1 lolo  staff    757011 Nov  8  2018 2018-11-05_Ring_input.mp4\n",
      "-rw-r--r--   1 lolo  staff    107656 Nov  8  2018 2018-11-05_Ring_input.png\n",
      "-rw-r--r--   1 lolo  staff     32684 Nov 14  2018 2018-11-14-regex-an-iso8601-date.png\n",
      "drwxr-xr-x   3 lolo  staff       102 Jan 19  2019 \u001b[1m\u001b[36m2014-06-18-stage-m1-chloe-pasturel-week-3\u001b[m\u001b[m\n",
      "drwxr-xr-x  60 lolo  staff      2040 Jan 19  2019 \u001b[1m\u001b[36m2014-10-20_Aperture-Problem\u001b[m\u001b[m\n",
      "drwxr-xr-x  36 lolo  staff      1224 Jan 19  2019 \u001b[1m\u001b[36m2014-10-20_MotionPlaids\u001b[m\u001b[m\n",
      "drwxr-xr-x  42 lolo  staff      1428 Jan 19  2019 \u001b[1m\u001b[36m2014-10-24_waves\u001b[m\u001b[m\n",
      "drwxr-xr-x  74 lolo  staff      2516 Jan 19  2019 \u001b[1m\u001b[36m2014-11-10_balaV1-protocol\u001b[m\u001b[m\n",
      "drwxr-xr-x  16 lolo  staff       544 Jan 19  2019 \u001b[1m\u001b[36m2014-11-10_reverse-phi\u001b[m\u001b[m\n",
      "drwxr-xr-x   4 lolo  staff       136 Jan 19  2019 \u001b[1m\u001b[36m2015-02-19_horizon\u001b[m\u001b[m\n",
      "drwxr-xr-x   4 lolo  staff       136 Jan 19  2019 \u001b[1m\u001b[36m2015-07-02_smooth\u001b[m\u001b[m\n",
      "drwxr-xr-x  52 lolo  staff      1768 Jan 19  2019 \u001b[1m\u001b[36m2015-10-14_elasticite\u001b[m\u001b[m\n",
      "drwxr-xr-x   7 lolo  staff       238 Jan 19  2019 \u001b[1m\u001b[36m2016-01-27_mirror-clouds\u001b[m\u001b[m\n",
      "drwxr-xr-x  12 lolo  staff       408 Jan 19  2019 \u001b[1m\u001b[36m2016-04-06_IRM-protocol\u001b[m\u001b[m\n",
      "drwxr-xr-x   6 lolo  staff       204 Jan 19  2019 \u001b[1m\u001b[36m2016-04-24_a-wave-going-backwards\u001b[m\u001b[m\n",
      "drwxr-xr-x   8 lolo  staff       272 Jan 19  2019 \u001b[1m\u001b[36m2015-12-08_cours_neurocomp\u001b[m\u001b[m\n",
      "drwxr-xr-x  11 lolo  staff       374 Jan 19  2019 \u001b[1m\u001b[36m2016-04-25_pollymagoo\u001b[m\u001b[m\n",
      "drwxr-xr-x   7 lolo  staff       238 Jan 19  2019 \u001b[1m\u001b[36m2016-04-28_mejanes\u001b[m\u001b[m\n",
      "drwxr-xr-x   5 lolo  staff       170 Jan 19  2019 \u001b[1m\u001b[36m2016-07-07_EDP-proba\u001b[m\u001b[m\n",
      "drwxr-xr-x  13 lolo  staff       442 Jan 19  2019 \u001b[1m\u001b[36m2016-07-16-Heeger16JNeuro\u001b[m\u001b[m\n",
      "drwxr-xr-x   7 lolo  staff       238 Jan 19  2019 \u001b[1m\u001b[36m2016-09-26_Perrinet16journalClub\u001b[m\u001b[m\n",
      "drwxr-xr-x  35 lolo  staff      1190 Jan 19  2019 \u001b[1m\u001b[36m2017-12-21-MotionVariability\u001b[m\u001b[m\n",
      "drwxr-xr-x  21 lolo  staff       714 Jan 19  2019 \u001b[1m\u001b[36m2018-11-13-testing-more-complex\u001b[m\u001b[m\n",
      "drwxr-xr-x  11 lolo  staff       374 Jan 19  2019 \u001b[1m\u001b[36m2018-11-29-feature-vs-global-motion\u001b[m\u001b[m\n",
      "drwxr-xr-x   4 lolo  staff       136 Jan 19  2019 \u001b[1m\u001b[36m2015-02-19_MotionPlaid\u001b[m\u001b[m\n",
      "drwxr-xr-x  19 lolo  staff       646 Jan 19  2019 \u001b[1m\u001b[36m2018-01-16-testing-more-complex\u001b[m\u001b[m\n",
      "-rw-r--r--   1 lolo  staff    139908 Jan 31  2019 2019-01-30_Ravello19.mp4\n",
      "-rw-r--r--   1 lolo  staff    338053 Jan 31  2019 2019-01-30_Ravello19_text.mp4\n",
      "-rw-r--r--   1 lolo  staff   4706257 Feb 19  2019 2017-03-06_cours-NeuroComp.html\n",
      "-rw-r--r--   1 lolo  staff  11566936 Feb 19  2019 2018-02-01_BCP_INVIBE_fest.html\n",
      "-rw-r--r--   1 lolo  staff  31158928 Feb 19  2019 2016-11-03_SIGMA.html\n",
      "-rw-r--r--   1 lolo  staff   7497440 Feb 19  2019 2017-03-24_pollymagoo.html\n",
      "-rw-r--r--   1 lolo  staff  23006912 Feb 19  2019 2017-03-13_NeuroComp_FEP.html\n",
      "-rw-r--r--   1 lolo  staff  18331510 Feb 19  2019 2017-02-17_JournalClub.html\n",
      "-rw-r--r--   1 lolo  staff  41202643 Feb 19  2019 2016-10-13_LAW.html\n",
      "-rw-r--r--   1 lolo  staff     36803 Mar 14  2019 static.png\n",
      "-rw-r--r--   1 lolo  staff    229604 Mar 14  2019 static_cube.png\n",
      "-rw-r--r--   1 lolo  staff    134823 Mar 14  2019 static.mp4\n",
      "-rw-r--r--   1 lolo  staff     74771 Apr  3  2019 2017-04-10_physical_speed_group_speed.png\n",
      "-rw-r--r--   1 lolo  staff    366185 Apr  3  2019 2017-04-10_physical_speed_group_speed_cube.png\n",
      "-rw-r--r--   1 lolo  staff   1098721 Apr  3  2019 2017-04-10_physical_speed_group_speed.mp4\n",
      "-rw-r--r--   1 lolo  staff     66714 Apr  3  2019 2017-04-10_physical_speed_group_speed_K_1_6666666666666667.png\n",
      "-rw-r--r--   1 lolo  staff    362826 Apr  3  2019 2017-04-10_physical_speed_group_speed_K_1_6666666666666667_cube.png\n",
      "-rw-r--r--   1 lolo  staff   1038679 Apr  3  2019 2017-04-10_physical_speed_group_speed_K_1_6666666666666667.mp4\n",
      "-rw-r--r--   1 lolo  staff     69618 Apr  3  2019 2017-04-10_physical_speed_group_speed_K_1_3636363636363638.png\n",
      "-rw-r--r--   1 lolo  staff    364927 Apr  3  2019 2017-04-10_physical_speed_group_speed_K_1_3636363636363638_cube.png\n",
      "-rw-r--r--   1 lolo  staff   1061027 Apr  3  2019 2017-04-10_physical_speed_group_speed_K_1_3636363636363638.mp4\n",
      "-rw-r--r--   1 lolo  staff     72453 Apr  3  2019 2017-04-10_physical_speed_group_speed_K_1_1538461538461537.png\n",
      "-rw-r--r--   1 lolo  staff    365619 Apr  3  2019 2017-04-10_physical_speed_group_speed_K_1_1538461538461537_cube.png\n",
      "-rw-r--r--   1 lolo  staff   1097273 Apr  3  2019 2017-04-10_physical_speed_group_speed_K_1_1538461538461537.mp4\n",
      "-rw-r--r--   1 lolo  staff     74771 Apr  3  2019 2017-04-10_physical_speed_group_speed_K_1_0.png\n",
      "-rw-r--r--   1 lolo  staff    363870 Apr  3  2019 2017-04-10_physical_speed_group_speed_K_1_0_cube.png\n",
      "-rw-r--r--   1 lolo  staff   1079517 Apr  3  2019 2017-04-10_physical_speed_group_speed_K_1_0.mp4\n",
      "-rw-r--r--   1 lolo  staff     77008 Apr  3  2019 2017-04-10_physical_speed_group_speed_K_0_8823529411764706.png\n",
      "drwxr-xr-x  23 lolo  staff       782 Apr  3  2019 \u001b[1m\u001b[36m2017-04-10_physical_speed\u001b[m\u001b[m\n",
      "-rw-r--r--   1 lolo  staff    365153 Apr  3  2019 2017-04-10_physical_speed_group_speed_K_0_8823529411764706_cube.png\n",
      "-rw-r--r--   1 lolo  staff   1092657 Apr  3  2019 2017-04-10_physical_speed_group_speed_K_0_8823529411764706.mp4\n",
      "-rw-r--r--   1 lolo  staff     79136 Apr  3  2019 2017-04-10_physical_speed_group_speed_K_0_7894736842105263.png\n",
      "-rw-r--r--   1 lolo  staff    360303 Apr  3  2019 2017-04-10_physical_speed_group_speed_K_0_7894736842105263_cube.png\n",
      "-rw-r--r--   1 lolo  staff   1068254 Apr  3  2019 2017-04-10_physical_speed_group_speed_K_0_7894736842105263.mp4\n",
      "-rw-r--r--   1 lolo  staff     80965 Apr  3  2019 2017-04-10_physical_speed_group_speed_K_0_7142857142857143.png\n",
      "-rw-r--r--   1 lolo  staff    359876 Apr  3  2019 2017-04-10_physical_speed_group_speed_K_0_7142857142857143_cube.png\n",
      "-rw-r--r--   1 lolo  staff   1061845 Apr  3  2019 2017-04-10_physical_speed_group_speed_K_0_7142857142857143.mp4\n",
      "-rw-r--r--   1 lolo  staff  85353751 Jul  9 10:39 2015-10-07_Perrinet15biocomp_slides.pdf\n",
      "-rw-r--r--   1 lolo  staff  19877705 Jul 29 23:13 2017-01-20_LACONEU.html\n",
      "-rw-r--r--   1 lolo  staff  20249393 Jul 29 23:14 2017-01-19_LACONEU.html\n",
      "-rw-r--r--   1 lolo  staff  19190254 Jul 29 23:14 2017-01-18_LACONEU.html\n",
      "-rw-r--r--   1 lolo  staff  29093231 Jul 29 23:17 2018-01-25_meetup-neuronautes.html\n",
      "-rw-r--r--   1 lolo  staff  46711997 Jul 29 23:19 2018-10-11_BioMorphisme.html\n",
      "-rw-r--r--   1 lolo  staff  12035210 Jul 29 23:21 2017-06-30_Telluride.html\n",
      "-rw-r--r--   1 lolo  staff  24104870 Jul 29 23:21 2017-06-28_Telluride.html\n",
      "-rw-r--r--   1 lolo  staff   4163196 Jul 29 23:21 2017-06-27_Telluride_short.html\n",
      "-rw-r--r--   1 lolo  staff  19537382 Jul 30 11:00 2016-10-26_Perrinet16EUVIP_talk.html\n",
      "-rw-r--r--   1 lolo  staff  12523435 Jul 30 11:00 2016-10-26_FillatreBarlaudPerrinet16EUVIP_talk.html\n",
      "-rw-r--r--   1 lolo  staff  37499552 Jul 30 11:03 2017-11-15_ColloqueMaster.html\n",
      "-rw-r--r--   1 lolo  staff   3826913 Sep 16 10:59 2019-09-11_Perrinet19.mp4\n",
      "-rw-r--r--   1 lolo  staff  12031159 Sep 19 10:52 2019-09-11_Perrinet19.gif\n",
      "-rw-r--r--   1 lolo  staff      6550 Oct  1 16:58 2019-09-30_clock.mp4\n",
      "drwxr-xr-x  32 lolo  staff      1088 Dec 11 09:19 \u001b[1m\u001b[36m2015-05-22-a-hitchhiker-guide-to-matching-pursuit\u001b[m\u001b[m\n"
     ]
    }
   ],
   "source": [
    "!ls -ltr files"
   ]
  },
  {
   "cell_type": "code",
   "execution_count": 3,
   "metadata": {},
   "outputs": [
    {
     "name": "stdout",
     "output_type": "stream",
     "text": [
      "Scanning posts...........done!\n",
      ".  render_sources:docs/posts/2019-11-28-role-of-gamma-correction-in-sparse-coding.ipynb\n",
      ".  render_sources:docs/posts/2018-12-13-sparse-coding-using-fista.ipynb\n",
      ".  render_posts:timeline_changes\n",
      ".  render_posts:cache/posts/2019-11-28-role-of-gamma-correction-in-sparse-coding.html\n",
      ".  render_listings:docs/listings/index.html\n",
      ".  render_taxonomies:docs/archive.html\n",
      ".  render_taxonomies:docs/categories/loggabor.html\n",
      ".  render_taxonomies:docs/categories/machine-learning.html\n",
      ".  render_taxonomies:docs/categories/orientation.html\n",
      ".  render_taxonomies:docs/categories/slip.html\n",
      ".  render_taxonomies:docs/categories/sparse.html\n",
      ".  render_taxonomies:docs/index.html\n",
      ".  copy_files:docs/files/2015-05-22-a-hitchhiker-guide-to-matching-pursuit/gamma.png\n",
      ".  copy_files:docs/files/2015-05-22-a-hitchhiker-guide-to-matching-pursuit/gamma_results.png\n",
      ".  render_taxonomies:docs/rss.xml\n",
      ".  render_taxonomies:docs/categories/loggabor.xml\n",
      ".  render_taxonomies:docs/categories/machine-learning.xml\n",
      ".  render_taxonomies:docs/categories/orientation.xml\n",
      ".  render_taxonomies:docs/categories/slip.xml\n",
      ".  render_taxonomies:docs/categories/sparse.xml\n",
      ".  render_pages:docs/posts/2019-11-28-role-of-gamma-correction-in-sparse-coding.html\n",
      ".  render_pages:docs/posts/2018-12-13-sparse-coding-using-fista.html\n",
      ".  sitemap:docs/sitemap.xml\n",
      ".  sitemap:docs/sitemapindex.xml\n",
      "\u001b[0m"
     ]
    }
   ],
   "source": [
    "!nikola build"
   ]
  },
  {
   "cell_type": "code",
   "execution_count": 4,
   "metadata": {},
   "outputs": [
    {
     "name": "stdout",
     "output_type": "stream",
     "text": [
      "rm: posts/__temp__.mp4: No such file or directory\n"
     ]
    }
   ],
   "source": [
    "%rm posts/__temp__.mp4"
   ]
  },
  {
   "cell_type": "code",
   "execution_count": 5,
   "metadata": {
    "scrolled": true
   },
   "outputs": [
    {
     "name": "stdout",
     "output_type": "stream",
     "text": [
      "Scanning posts...........done!\n",
      "\u001b[33;01m[2019-12-11T08:43:15Z] NOTICE: deploy: Deleted 1 posts due to DEPLOY_* settings\u001b[39;49;00m\n",
      "\u001b[37m[2019-12-11T08:43:15Z] INFO: deploy: => preset 'default'\u001b[39;49;00m\n",
      "\u001b[37m[2019-12-11T08:43:15Z] INFO: deploy: ==> git add posts/* docs/* files/*\u001b[39;49;00m\n",
      "\u001b[37m[2019-12-11T08:43:15Z] INFO: deploy: ==> git commit -am' updating site'\u001b[39;49;00m\n",
      "[master 5cba700]  updating site\n",
      " 19 files changed, 378 insertions(+), 1287 deletions(-)\n",
      " rewrite docs/files/2015-05-22-a-hitchhiker-guide-to-matching-pursuit/gamma.png (96%)\n",
      " create mode 100644 docs/files/2015-05-22-a-hitchhiker-guide-to-matching-pursuit/gamma_results.png\n",
      " mode change 100644 => 100755 docs/posts/2015-11-17-elasticite-expansion-en-miroir-dynamique-dun-point-focal.ipynb\n",
      " rewrite files/2015-05-22-a-hitchhiker-guide-to-matching-pursuit/gamma.png (96%)\n",
      " create mode 100644 files/2015-05-22-a-hitchhiker-guide-to-matching-pursuit/gamma_results.png\n",
      " mode change 100644 => 100755 posts/2015-11-17-elasticite-expansion-en-miroir-dynamique-dun-point-focal.ipynb\n",
      "\u001b[37m[2019-12-11T08:43:16Z] INFO: deploy: ==> git push\u001b[39;49;00m\n",
      "Enumerating objects: 44, done.\n",
      "Counting objects: 100% (44/44), done.\n",
      "Delta compression using up to 8 threads\n",
      "Compressing objects: 100% (23/23), done.\n",
      "Writing objects: 100% (23/23), 253.60 KiB | 16.91 MiB/s, done.\n",
      "Total 23 (delta 20), reused 0 (delta 0)\n",
      "remote: Resolving deltas: 100% (20/20), completed with 20 local objects.\u001b[K\n",
      "To https://github.com/laurentperrinet/sciblog.git\n",
      "   f8ee267..5cba700  master -> master\n",
      "\u001b[37m[2019-12-11T08:43:24Z] INFO: deploy: Successful deployment\u001b[39;49;00m\n",
      "\u001b[0m"
     ]
    }
   ],
   "source": [
    "!nikola deploy"
   ]
  },
  {
   "cell_type": "raw",
   "metadata": {},
   "source": [
    "import time\n",
    "time.sleep(3600*0)"
   ]
  },
  {
   "cell_type": "code",
   "execution_count": 7,
   "metadata": {},
   "outputs": [
    {
     "name": "stdout",
     "output_type": "stream",
     "text": [
      "Scanning posts...........done!\n",
      ".  render_posts:timeline_changes\n",
      ".  render_posts:cache/posts/2019-11-28-role-of-gamma-correction-in-sparse-coding.html\n",
      ".  render_sources:docs/posts/2019-11-28-role-of-gamma-correction-in-sparse-coding.ipynb\n",
      ".  render_sources:docs/posts/2018-12-13-sparse-coding-using-fista.ipynb\n",
      ".  render_taxonomies:docs/archive.html\n",
      ".  render_taxonomies:docs/index.html\n",
      ".  render_taxonomies:docs/categories/loggabor.html\n",
      ".  render_taxonomies:docs/categories/machine-learning.html\n",
      ".  render_taxonomies:docs/categories/orientation.html\n",
      ".  render_taxonomies:docs/categories/slip.html\n",
      ".  render_taxonomies:docs/categories/sparse.html\n",
      ".  copy_files:docs/files/2015-05-22-a-hitchhiker-guide-to-matching-pursuit/gamma_results.png\n",
      ".  render_taxonomies:docs/rss.xml\n",
      ".  render_taxonomies:docs/categories/loggabor.xml\n",
      ".  render_taxonomies:docs/categories/machine-learning.xml\n",
      ".  render_taxonomies:docs/categories/orientation.xml\n",
      ".  render_taxonomies:docs/categories/slip.xml\n",
      ".  render_taxonomies:docs/categories/sparse.xml\n",
      ".  render_pages:docs/posts/2019-11-28-role-of-gamma-correction-in-sparse-coding.html\n",
      ".  render_pages:docs/posts/2018-12-13-sparse-coding-using-fista.html\n",
      ".  sitemap:docs/sitemap.xml\n",
      ".  sitemap:docs/sitemapindex.xml\n",
      "\u001b[0mScanning posts...........done!\n",
      "\u001b[33;01m[2019-12-11T10:10:56Z] NOTICE: deploy: Deleted 1 posts due to DEPLOY_* settings\u001b[39;49;00m\n",
      "\u001b[37m[2019-12-11T10:10:56Z] INFO: deploy: => preset 'default'\u001b[39;49;00m\n",
      "\u001b[37m[2019-12-11T10:10:56Z] INFO: deploy: ==> git add posts/* docs/* files/*\u001b[39;49;00m\n",
      "\u001b[37m[2019-12-11T10:10:57Z] INFO: deploy: ==> git commit -am' updating site'\u001b[39;49;00m\n",
      "[master 0292300]  updating site\n",
      " 14 files changed, 31 insertions(+), 27 deletions(-)\n",
      " rewrite docs/files/2015-05-22-a-hitchhiker-guide-to-matching-pursuit/gamma_results.png (99%)\n",
      " rewrite files/2015-05-22-a-hitchhiker-guide-to-matching-pursuit/gamma_results.png (99%)\n",
      "\u001b[37m[2019-12-11T10:10:57Z] INFO: deploy: ==> git push\u001b[39;49;00m\n",
      "Enumerating objects: 41, done.\n",
      "Counting objects: 100% (41/41), done.\n",
      "Delta compression using up to 8 threads\n",
      "Compressing objects: 100% (21/21), done.\n",
      "Writing objects: 100% (21/21), 26.99 KiB | 13.50 MiB/s, done.\n",
      "Total 21 (delta 19), reused 0 (delta 0)\n",
      "remote: Resolving deltas: 100% (19/19), completed with 19 local objects.\u001b[K\n",
      "To https://github.com/laurentperrinet/sciblog.git\n",
      "   dbbbbdb..0292300  master -> master\n",
      "\u001b[37m[2019-12-11T10:11:02Z] INFO: deploy: Successful deployment\u001b[39;49;00m\n",
      "\u001b[0m"
     ]
    }
   ],
   "source": [
    "!nikola build ; nikola deploy"
   ]
  },
  {
   "cell_type": "code",
   "execution_count": 1,
   "metadata": {},
   "outputs": [
    {
     "name": "stdout",
     "output_type": "stream",
     "text": [
      "On branch master\n",
      "Your branch is up to date with 'origin/master'.\n",
      "\n",
      "Changes not staged for commit:\n",
      "  (use \"git add/rm <file>...\" to update what will be committed)\n",
      "  (use \"git restore <file>...\" to discard changes in working directory)\n",
      "\t\u001b[32mmodified:   bootstrapPost.ipynb\u001b[m\n",
      "\t\u001b[32mmodified:   docs/posts/2015-11-17-elasticite-expansion-en-miroir-dynamique-dun-point-focal.ipynb\u001b[m\n",
      "\t\u001b[32mmodified:   posts/2015-11-17-elasticite-expansion-en-miroir-dynamique-dun-point-focal.ipynb\u001b[m\n",
      "\t\u001b[32mmodified:   posts/2019-10-07-neurostories-videos-of-my-talk.ipynb\u001b[m\n",
      "\t\u001b[32mdeleted:    posts/debug.log\u001b[m\n",
      "\n",
      "Untracked files:\n",
      "  (use \"git add <file>...\" to include in what will be committed)\n",
      "\t\u001b[36mfiles/2019-09-30_flash_lag.mp4\u001b[m\n",
      "\t\u001b[36mfiles/2019-09-30_flash_lag_stop.mp4\u001b[m\n",
      "\n",
      "no changes added to commit (use \"git add\" and/or \"git commit -a\")\n"
     ]
    }
   ],
   "source": [
    "!git status"
   ]
  },
  {
   "cell_type": "code",
   "execution_count": null,
   "metadata": {},
   "outputs": [
    {
     "name": "stdout",
     "output_type": "stream",
     "text": [
      "Scanning posts...........done!\n",
      ".  copy_files:docs/files/2019-09-30_flash_lag.mp4\n",
      ".  copy_files:docs/files/2019-09-30_flash_lag_stop.mp4\n",
      ".  render_posts:timeline_changes\n",
      ".  render_posts:cache/posts/2019-10-07-neurostories-videos-of-my-talk.html\n",
      ".  render_sources:docs/posts/2019-10-07-neurostories-videos-of-my-talk.ipynb\n",
      ".  render_sources:docs/posts/2018-12-13-sparse-coding-using-fista.ipynb\n",
      ".  render_taxonomies:docs/categories/free-energy.html\n",
      ".  render_taxonomies:docs/categories/grand-public.html\n",
      ".  render_taxonomies:docs/categories/moviepy.html\n",
      ".  render_taxonomies:docs/categories/neural.html\n",
      ".  render_taxonomies:docs/categories/outreach.html\n",
      ".  render_taxonomies:docs/categories/vision.html\n",
      ".  render_taxonomies:docs/archive.html\n",
      ".  render_taxonomies:docs/index.html\n"
     ]
    }
   ],
   "source": [
    "!nikola build ; nikola deploy"
   ]
  },
  {
   "cell_type": "code",
   "execution_count": 22,
   "metadata": {},
   "outputs": [
    {
     "name": "stdout",
     "output_type": "stream",
     "text": [
      "[master be50111]  new page\n",
      " 3 files changed, 211 insertions(+), 114 deletions(-)\n",
      " mode change 100755 => 100644 docs/posts/2015-11-17-elasticite-expansion-en-miroir-dynamique-dun-point-focal.ipynb\n",
      " mode change 100755 => 100644 posts/2015-11-17-elasticite-expansion-en-miroir-dynamique-dun-point-focal.ipynb\n"
     ]
    }
   ],
   "source": [
    "!git commit -am' new page' "
   ]
  },
  {
   "cell_type": "code",
   "execution_count": 13,
   "metadata": {},
   "outputs": [],
   "source": [
    "!open https://laurentperrinet.github.io/sciblog"
   ]
  },
  {
   "cell_type": "markdown",
   "metadata": {},
   "source": [
    "Voilà!"
   ]
  }
 ],
 "metadata": {
  "kernelspec": {
   "display_name": "Python 3",
   "language": "python",
   "name": "python3"
  },
  "language_info": {
   "codemirror_mode": {
    "name": "ipython",
    "version": 3
   },
   "file_extension": ".py",
   "mimetype": "text/x-python",
   "name": "python",
   "nbconvert_exporter": "python",
   "pygments_lexer": "ipython3",
   "version": "3.7.5"
  },
  "toc": {
   "base_numbering": 1,
   "nav_menu": {
    "height": "117px",
    "width": "252px"
   },
   "number_sections": true,
   "sideBar": true,
   "skip_h1_title": false,
   "title_cell": "Table of Contents",
   "title_sidebar": "Contents",
   "toc_cell": false,
   "toc_position": {},
   "toc_section_display": "block",
   "toc_window_display": false
  }
 },
 "nbformat": 4,
 "nbformat_minor": 4
}
