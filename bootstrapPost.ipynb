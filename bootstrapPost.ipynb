{
 "cells": [
  {
   "cell_type": "markdown",
   "metadata": {},
   "source": [
    "# installing and updating nikola"
   ]
  },
  {
   "cell_type": "code",
   "execution_count": 7,
   "metadata": {
    "ExecuteTime": {
     "end_time": "2018-09-07T10:25:40.747475Z",
     "start_time": "2018-09-07T10:25:38.376282Z"
    }
   },
   "outputs": [
    {
     "name": "stdout",
     "output_type": "stream",
     "text": [
      "Nikola v8.2.3\n",
      "The latest version of Nikola is v8.2.4. Please upgrade using `pip install --upgrade Nikola==8.2.4` or your system package manager.\n"
     ]
    }
   ],
   "source": [
    "!nikola version --check"
   ]
  },
  {
   "cell_type": "code",
   "execution_count": 2,
   "metadata": {},
   "outputs": [],
   "source": [
    "# %conda install -c asmeurer nikola"
   ]
  },
  {
   "cell_type": "code",
   "execution_count": 3,
   "metadata": {},
   "outputs": [
    {
     "name": "stdout",
     "output_type": "stream",
     "text": [
      "Found existing installation: Nikola 8.2.3\n",
      "Uninstalling Nikola-8.2.3:\n",
      "  Successfully uninstalled Nikola-8.2.3\n"
     ]
    }
   ],
   "source": [
    "!python3 -m pip uninstall -y nikola"
   ]
  },
  {
   "cell_type": "code",
   "execution_count": 8,
   "metadata": {
    "ExecuteTime": {
     "end_time": "2018-09-07T10:24:17.333057Z",
     "start_time": "2018-09-07T10:24:14.585077Z"
    }
   },
   "outputs": [
    {
     "name": "stdout",
     "output_type": "stream",
     "text": [
      "Requirement already satisfied: lxml in /opt/homebrew/lib/python3.11/site-packages (4.9.2)\n",
      "Requirement already satisfied: Nikola[extras] in /opt/homebrew/lib/python3.11/site-packages (8.2.3)\n",
      "Collecting Nikola[extras]\n",
      "  Downloading Nikola-8.2.4-py3-none-any.whl (1.4 MB)\n",
      "\u001b[2K     \u001b[90m━━━━━━━━━━━━━━━━━━━━━━━━━━━━━━━━━━━━━━━━\u001b[0m \u001b[32m1.4/1.4 MB\u001b[0m \u001b[31m882.0 kB/s\u001b[0m eta \u001b[36m0:00:00\u001b[0ma \u001b[36m0:00:01\u001b[0m\n",
      "\u001b[?25hRequirement already satisfied: doit>=0.32.0 in /opt/homebrew/lib/python3.11/site-packages (from Nikola[extras]) (0.36.0)\n",
      "Requirement already satisfied: Pygments>=1.6 in /opt/homebrew/lib/python3.11/site-packages (from Nikola[extras]) (2.14.0)\n",
      "Requirement already satisfied: Pillow>=2.4.0 in /opt/homebrew/lib/python3.11/site-packages (from Nikola[extras]) (9.5.0)\n",
      "Requirement already satisfied: python-dateutil>=2.6.0 in /opt/homebrew/lib/python3.11/site-packages (from Nikola[extras]) (2.8.2)\n",
      "Requirement already satisfied: docutils>=0.13 in /opt/homebrew/lib/python3.11/site-packages (from Nikola[extras]) (0.17.1)\n",
      "Requirement already satisfied: mako>=1.0.0 in /opt/homebrew/lib/python3.11/site-packages (from Nikola[extras]) (1.2.4)\n",
      "Requirement already satisfied: Markdown>=3.0.0 in /opt/homebrew/lib/python3.11/site-packages (from Nikola[extras]) (3.4.1)\n",
      "Requirement already satisfied: unidecode>=0.04.16 in /opt/homebrew/lib/python3.11/site-packages (from Nikola[extras]) (1.3.6)\n",
      "Requirement already satisfied: Yapsy>=1.11.223 in /opt/homebrew/lib/python3.11/site-packages (from Nikola[extras]) (1.12.2)\n",
      "Requirement already satisfied: PyRSS2Gen>=1.1 in /opt/homebrew/lib/python3.11/site-packages (from Nikola[extras]) (1.1)\n",
      "Requirement already satisfied: blinker>=1.3 in /opt/homebrew/lib/python3.11/site-packages (from Nikola[extras]) (1.5)\n",
      "Requirement already satisfied: setuptools>=24.2.0 in /opt/homebrew/lib/python3.11/site-packages (from Nikola[extras]) (67.6.1)\n",
      "Requirement already satisfied: natsort>=3.5.2 in /opt/homebrew/lib/python3.11/site-packages (from Nikola[extras]) (8.2.0)\n",
      "Requirement already satisfied: requests>=2.2.0 in /opt/homebrew/lib/python3.11/site-packages (from Nikola[extras]) (2.29.0)\n",
      "Requirement already satisfied: piexif>=1.0.3 in /opt/homebrew/lib/python3.11/site-packages (from Nikola[extras]) (1.1.3)\n",
      "Requirement already satisfied: Babel>=2.6.0 in /opt/homebrew/lib/python3.11/site-packages (from Nikola[extras]) (2.11.0)\n",
      "Requirement already satisfied: Jinja2>=2.7.2 in /opt/homebrew/lib/python3.11/site-packages (from Nikola[extras]) (3.1.2)\n",
      "Requirement already satisfied: hsluv>=5.0.0 in /opt/homebrew/lib/python3.11/site-packages (from Nikola[extras]) (5.0.3)\n",
      "Requirement already satisfied: pyphen>=0.9.1 in /opt/homebrew/lib/python3.11/site-packages (from Nikola[extras]) (0.13.2)\n",
      "Requirement already satisfied: micawber>=0.3.0 in /opt/homebrew/lib/python3.11/site-packages (from Nikola[extras]) (0.5.4)\n",
      "Requirement already satisfied: pygal>=2.0.0 in /opt/homebrew/lib/python3.11/site-packages (from Nikola[extras]) (3.0.0)\n",
      "Requirement already satisfied: typogrify>=2.0.4 in /opt/homebrew/lib/python3.11/site-packages (from Nikola[extras]) (2.0.7)\n",
      "Requirement already satisfied: phpserialize>=1.3 in /opt/homebrew/lib/python3.11/site-packages (from Nikola[extras]) (1.3)\n",
      "Requirement already satisfied: notebook>=4.0.0 in /opt/homebrew/lib/python3.11/site-packages (from Nikola[extras]) (6.5.4)\n",
      "Requirement already satisfied: ipykernel>=4.0.0 in /opt/homebrew/lib/python3.11/site-packages (from Nikola[extras]) (6.21.2)\n",
      "Requirement already satisfied: ghp-import>=1.0.0 in /opt/homebrew/lib/python3.11/site-packages (from Nikola[extras]) (2.1.0)\n",
      "Requirement already satisfied: aiohttp>=3.0.0 in /opt/homebrew/lib/python3.11/site-packages (from Nikola[extras]) (3.8.4)\n",
      "Requirement already satisfied: watchdog>=0.8.3 in /opt/homebrew/lib/python3.11/site-packages (from Nikola[extras]) (2.2.1)\n",
      "Requirement already satisfied: ruamel.yaml>=0.15 in /opt/homebrew/lib/python3.11/site-packages (from Nikola[extras]) (0.16.10)\n",
      "Requirement already satisfied: toml>=0.9.2 in /opt/homebrew/lib/python3.11/site-packages (from Nikola[extras]) (0.10.2)\n",
      "Requirement already satisfied: html5lib>=1.0 in /opt/homebrew/lib/python3.11/site-packages (from Nikola[extras]) (1.1)\n",
      "Requirement already satisfied: attrs>=17.3.0 in /opt/homebrew/lib/python3.11/site-packages (from aiohttp>=3.0.0->Nikola[extras]) (22.2.0)\n",
      "Requirement already satisfied: charset-normalizer<4.0,>=2.0 in /opt/homebrew/lib/python3.11/site-packages (from aiohttp>=3.0.0->Nikola[extras]) (3.0.1)\n",
      "Requirement already satisfied: multidict<7.0,>=4.5 in /opt/homebrew/lib/python3.11/site-packages (from aiohttp>=3.0.0->Nikola[extras]) (6.0.4)\n",
      "Requirement already satisfied: async-timeout<5.0,>=4.0.0a3 in /opt/homebrew/lib/python3.11/site-packages (from aiohttp>=3.0.0->Nikola[extras]) (4.0.2)\n",
      "Requirement already satisfied: yarl<2.0,>=1.0 in /opt/homebrew/lib/python3.11/site-packages (from aiohttp>=3.0.0->Nikola[extras]) (1.8.2)\n",
      "Requirement already satisfied: frozenlist>=1.1.1 in /opt/homebrew/lib/python3.11/site-packages (from aiohttp>=3.0.0->Nikola[extras]) (1.3.3)\n",
      "Requirement already satisfied: aiosignal>=1.1.2 in /opt/homebrew/lib/python3.11/site-packages (from aiohttp>=3.0.0->Nikola[extras]) (1.3.1)\n",
      "Requirement already satisfied: pytz>=2015.7 in /opt/homebrew/lib/python3.11/site-packages (from Babel>=2.6.0->Nikola[extras]) (2022.7.1)\n",
      "Requirement already satisfied: cloudpickle in /opt/homebrew/lib/python3.11/site-packages (from doit>=0.32.0->Nikola[extras]) (2.2.1)\n",
      "Requirement already satisfied: importlib-metadata>=4.4 in /opt/homebrew/lib/python3.11/site-packages (from doit>=0.32.0->Nikola[extras]) (6.0.0)\n",
      "Requirement already satisfied: six>=1.9 in /opt/homebrew/lib/python3.11/site-packages (from html5lib>=1.0->Nikola[extras]) (1.16.0)\n",
      "Requirement already satisfied: webencodings in /opt/homebrew/lib/python3.11/site-packages (from html5lib>=1.0->Nikola[extras]) (0.5.1)\n",
      "Requirement already satisfied: appnope in /opt/homebrew/lib/python3.11/site-packages (from ipykernel>=4.0.0->Nikola[extras]) (0.1.3)\n",
      "Requirement already satisfied: comm>=0.1.1 in /opt/homebrew/lib/python3.11/site-packages (from ipykernel>=4.0.0->Nikola[extras]) (0.1.2)\n",
      "Requirement already satisfied: debugpy>=1.6.5 in /opt/homebrew/lib/python3.11/site-packages (from ipykernel>=4.0.0->Nikola[extras]) (1.6.6)\n",
      "Requirement already satisfied: ipython>=7.23.1 in /opt/homebrew/lib/python3.11/site-packages (from ipykernel>=4.0.0->Nikola[extras]) (8.11.0)\n",
      "Requirement already satisfied: jupyter-client>=6.1.12 in /opt/homebrew/lib/python3.11/site-packages (from ipykernel>=4.0.0->Nikola[extras]) (7.4.1)\n",
      "Requirement already satisfied: jupyter-core!=5.0.*,>=4.12 in /opt/homebrew/lib/python3.11/site-packages (from ipykernel>=4.0.0->Nikola[extras]) (5.2.0)\n",
      "Requirement already satisfied: matplotlib-inline>=0.1 in /opt/homebrew/lib/python3.11/site-packages (from ipykernel>=4.0.0->Nikola[extras]) (0.1.6)\n",
      "Requirement already satisfied: nest-asyncio in /opt/homebrew/lib/python3.11/site-packages (from ipykernel>=4.0.0->Nikola[extras]) (1.5.6)\n",
      "Requirement already satisfied: packaging in /opt/homebrew/Cellar/sip/6.7.9/libexec/lib/python3.11/site-packages (from ipykernel>=4.0.0->Nikola[extras]) (23.1)\n",
      "Requirement already satisfied: psutil in /opt/homebrew/lib/python3.11/site-packages (from ipykernel>=4.0.0->Nikola[extras]) (5.9.4)\n",
      "Requirement already satisfied: pyzmq>=20 in /opt/homebrew/lib/python3.11/site-packages (from ipykernel>=4.0.0->Nikola[extras]) (25.0.0)\n",
      "Requirement already satisfied: tornado>=6.1 in /opt/homebrew/lib/python3.11/site-packages (from ipykernel>=4.0.0->Nikola[extras]) (6.2)\n",
      "Requirement already satisfied: traitlets>=5.4.0 in /opt/homebrew/lib/python3.11/site-packages (from ipykernel>=4.0.0->Nikola[extras]) (5.9.0)\n",
      "Requirement already satisfied: MarkupSafe>=2.0 in /opt/homebrew/lib/python3.11/site-packages (from Jinja2>=2.7.2->Nikola[extras]) (2.1.2)\n",
      "Requirement already satisfied: argon2-cffi in /opt/homebrew/lib/python3.11/site-packages (from notebook>=4.0.0->Nikola[extras]) (21.3.0)\n",
      "Requirement already satisfied: ipython-genutils in /opt/homebrew/lib/python3.11/site-packages (from notebook>=4.0.0->Nikola[extras]) (0.2.0)\n",
      "Requirement already satisfied: nbformat in /opt/homebrew/lib/python3.11/site-packages (from notebook>=4.0.0->Nikola[extras]) (5.7.3)\n",
      "Requirement already satisfied: nbconvert>=5 in /opt/homebrew/lib/python3.11/site-packages (from notebook>=4.0.0->Nikola[extras]) (7.2.9)\n",
      "Requirement already satisfied: Send2Trash>=1.8.0 in /opt/homebrew/lib/python3.11/site-packages (from notebook>=4.0.0->Nikola[extras]) (1.8.0)\n",
      "Requirement already satisfied: terminado>=0.8.3 in /opt/homebrew/lib/python3.11/site-packages (from notebook>=4.0.0->Nikola[extras]) (0.17.1)\n",
      "Requirement already satisfied: prometheus-client in /opt/homebrew/lib/python3.11/site-packages (from notebook>=4.0.0->Nikola[extras]) (0.16.0)\n",
      "Requirement already satisfied: nbclassic>=0.4.7 in /opt/homebrew/lib/python3.11/site-packages (from notebook>=4.0.0->Nikola[extras]) (0.5.2)\n",
      "Requirement already satisfied: idna<4,>=2.5 in /opt/homebrew/lib/python3.11/site-packages (from requests>=2.2.0->Nikola[extras]) (3.4)\n",
      "Requirement already satisfied: urllib3<1.27,>=1.21.1 in /opt/homebrew/lib/python3.11/site-packages (from requests>=2.2.0->Nikola[extras]) (1.26.14)\n",
      "Requirement already satisfied: certifi>=2017.4.17 in /opt/homebrew/lib/python3.11/site-packages (from requests>=2.2.0->Nikola[extras]) (2022.12.7)\n",
      "Requirement already satisfied: smartypants>=1.8.3 in /opt/homebrew/lib/python3.11/site-packages (from typogrify>=2.0.4->Nikola[extras]) (2.0.1)\n",
      "Requirement already satisfied: zipp>=0.5 in /opt/homebrew/lib/python3.11/site-packages (from importlib-metadata>=4.4->doit>=0.32.0->Nikola[extras]) (3.14.0)\n",
      "Requirement already satisfied: backcall in /opt/homebrew/lib/python3.11/site-packages (from ipython>=7.23.1->ipykernel>=4.0.0->Nikola[extras]) (0.2.0)\n",
      "Requirement already satisfied: decorator in /opt/homebrew/lib/python3.11/site-packages (from ipython>=7.23.1->ipykernel>=4.0.0->Nikola[extras]) (4.4.2)\n",
      "Requirement already satisfied: jedi>=0.16 in /opt/homebrew/lib/python3.11/site-packages (from ipython>=7.23.1->ipykernel>=4.0.0->Nikola[extras]) (0.17.2)\n",
      "Requirement already satisfied: pickleshare in /opt/homebrew/lib/python3.11/site-packages (from ipython>=7.23.1->ipykernel>=4.0.0->Nikola[extras]) (0.7.5)\n",
      "Requirement already satisfied: prompt-toolkit!=3.0.37,<3.1.0,>=3.0.30 in /opt/homebrew/lib/python3.11/site-packages (from ipython>=7.23.1->ipykernel>=4.0.0->Nikola[extras]) (3.0.38)\n",
      "Requirement already satisfied: stack-data in /opt/homebrew/lib/python3.11/site-packages (from ipython>=7.23.1->ipykernel>=4.0.0->Nikola[extras]) (0.6.2)\n",
      "Requirement already satisfied: pexpect>4.3 in /opt/homebrew/lib/python3.11/site-packages (from ipython>=7.23.1->ipykernel>=4.0.0->Nikola[extras]) (4.8.0)\n",
      "Requirement already satisfied: entrypoints in /opt/homebrew/lib/python3.11/site-packages (from jupyter-client>=6.1.12->ipykernel>=4.0.0->Nikola[extras]) (0.4)\n",
      "Requirement already satisfied: platformdirs>=2.5 in /opt/homebrew/lib/python3.11/site-packages (from jupyter-core!=5.0.*,>=4.12->ipykernel>=4.0.0->Nikola[extras]) (3.1.0)\n",
      "Requirement already satisfied: jupyter-server>=1.8 in /opt/homebrew/lib/python3.11/site-packages (from nbclassic>=0.4.7->notebook>=4.0.0->Nikola[extras]) (1.23.6)\n",
      "Requirement already satisfied: notebook-shim>=0.1.0 in /opt/homebrew/lib/python3.11/site-packages (from nbclassic>=0.4.7->notebook>=4.0.0->Nikola[extras]) (0.2.2)\n",
      "Requirement already satisfied: beautifulsoup4 in /opt/homebrew/lib/python3.11/site-packages (from nbconvert>=5->notebook>=4.0.0->Nikola[extras]) (4.11.2)\n",
      "Requirement already satisfied: bleach in /opt/homebrew/lib/python3.11/site-packages (from nbconvert>=5->notebook>=4.0.0->Nikola[extras]) (6.0.0)\n",
      "Requirement already satisfied: defusedxml in /opt/homebrew/lib/python3.11/site-packages (from nbconvert>=5->notebook>=4.0.0->Nikola[extras]) (0.7.1)\n",
      "Requirement already satisfied: jupyterlab-pygments in /opt/homebrew/lib/python3.11/site-packages (from nbconvert>=5->notebook>=4.0.0->Nikola[extras]) (0.2.2)\n",
      "Requirement already satisfied: mistune<3,>=2.0.3 in /opt/homebrew/lib/python3.11/site-packages (from nbconvert>=5->notebook>=4.0.0->Nikola[extras]) (2.0.5)\n",
      "Requirement already satisfied: nbclient>=0.5.0 in /opt/homebrew/lib/python3.11/site-packages (from nbconvert>=5->notebook>=4.0.0->Nikola[extras]) (0.7.2)\n",
      "Requirement already satisfied: pandocfilters>=1.4.1 in /opt/homebrew/lib/python3.11/site-packages (from nbconvert>=5->notebook>=4.0.0->Nikola[extras]) (1.5.0)\n",
      "Requirement already satisfied: tinycss2 in /opt/homebrew/lib/python3.11/site-packages (from nbconvert>=5->notebook>=4.0.0->Nikola[extras]) (1.2.1)\n",
      "Requirement already satisfied: fastjsonschema in /opt/homebrew/lib/python3.11/site-packages (from nbformat->notebook>=4.0.0->Nikola[extras]) (2.16.2)\n",
      "Requirement already satisfied: jsonschema>=2.6 in /opt/homebrew/lib/python3.11/site-packages (from nbformat->notebook>=4.0.0->Nikola[extras]) (4.17.3)\n",
      "Requirement already satisfied: ptyprocess in /opt/homebrew/lib/python3.11/site-packages (from terminado>=0.8.3->notebook>=4.0.0->Nikola[extras]) (0.7.0)\n",
      "Requirement already satisfied: argon2-cffi-bindings in /opt/homebrew/lib/python3.11/site-packages (from argon2-cffi->notebook>=4.0.0->Nikola[extras]) (21.2.0)\n",
      "Requirement already satisfied: parso<0.8.0,>=0.7.0 in /opt/homebrew/lib/python3.11/site-packages (from jedi>=0.16->ipython>=7.23.1->ipykernel>=4.0.0->Nikola[extras]) (0.7.1)\n",
      "Requirement already satisfied: pyrsistent!=0.17.0,!=0.17.1,!=0.17.2,>=0.14.0 in /opt/homebrew/lib/python3.11/site-packages (from jsonschema>=2.6->nbformat->notebook>=4.0.0->Nikola[extras]) (0.19.3)\n",
      "Requirement already satisfied: anyio<4,>=3.1.0 in /opt/homebrew/lib/python3.11/site-packages (from jupyter-server>=1.8->nbclassic>=0.4.7->notebook>=4.0.0->Nikola[extras]) (3.6.2)\n",
      "Requirement already satisfied: websocket-client in /opt/homebrew/lib/python3.11/site-packages (from jupyter-server>=1.8->nbclassic>=0.4.7->notebook>=4.0.0->Nikola[extras]) (1.5.1)\n",
      "Requirement already satisfied: wcwidth in /opt/homebrew/lib/python3.11/site-packages (from prompt-toolkit!=3.0.37,<3.1.0,>=3.0.30->ipython>=7.23.1->ipykernel>=4.0.0->Nikola[extras]) (0.2.6)\n",
      "Requirement already satisfied: cffi>=1.0.1 in /opt/homebrew/lib/python3.11/site-packages (from argon2-cffi-bindings->argon2-cffi->notebook>=4.0.0->Nikola[extras]) (1.15.1)\n",
      "Requirement already satisfied: soupsieve>1.2 in /opt/homebrew/lib/python3.11/site-packages (from beautifulsoup4->nbconvert>=5->notebook>=4.0.0->Nikola[extras]) (2.4)\n",
      "Requirement already satisfied: executing>=1.2.0 in /opt/homebrew/lib/python3.11/site-packages (from stack-data->ipython>=7.23.1->ipykernel>=4.0.0->Nikola[extras]) (1.2.0)\n",
      "Requirement already satisfied: asttokens>=2.1.0 in /opt/homebrew/lib/python3.11/site-packages (from stack-data->ipython>=7.23.1->ipykernel>=4.0.0->Nikola[extras]) (2.2.1)\n",
      "Requirement already satisfied: pure-eval in /opt/homebrew/lib/python3.11/site-packages (from stack-data->ipython>=7.23.1->ipykernel>=4.0.0->Nikola[extras]) (0.2.2)\n",
      "Requirement already satisfied: sniffio>=1.1 in /opt/homebrew/lib/python3.11/site-packages (from anyio<4,>=3.1.0->jupyter-server>=1.8->nbclassic>=0.4.7->notebook>=4.0.0->Nikola[extras]) (1.3.0)\n",
      "Requirement already satisfied: pycparser in /opt/homebrew/lib/python3.11/site-packages (from cffi>=1.0.1->argon2-cffi-bindings->argon2-cffi->notebook>=4.0.0->Nikola[extras]) (2.21)\n",
      "Installing collected packages: Nikola\n",
      "  Attempting uninstall: Nikola\n",
      "    Found existing installation: Nikola 8.2.3\n",
      "    Uninstalling Nikola-8.2.3:\n",
      "      Successfully uninstalled Nikola-8.2.3\n",
      "Successfully installed Nikola-8.2.4\n",
      "Note: you may need to restart the kernel to use updated packages.\n"
     ]
    }
   ],
   "source": [
    "%pip install -U lxml \"Nikola[extras]\""
   ]
  },
  {
   "cell_type": "raw",
   "metadata": {
    "ExecuteTime": {
     "end_time": "2018-09-07T10:24:48.097536Z",
     "start_time": "2018-09-07T10:24:43.118411Z"
    }
   },
   "source": [
    "#!python3 -m pip uninstall -y rst2html5\n",
    "!python3 -m pip install -U --force rst2html5"
   ]
  },
  {
   "cell_type": "raw",
   "metadata": {
    "ExecuteTime": {
     "end_time": "2018-09-07T10:24:57.383520Z",
     "start_time": "2018-09-07T10:24:54.879696Z"
    }
   },
   "source": [
    "#!pip uninstall -y html5lib\n",
    "!python3 -m pip install -U --force html5lib"
   ]
  },
  {
   "cell_type": "code",
   "execution_count": null,
   "metadata": {
    "ExecuteTime": {
     "end_time": "2018-09-07T10:24:57.383520Z",
     "start_time": "2018-09-07T10:24:54.879696Z"
    }
   },
   "outputs": [],
   "source": [
    "#!pip uninstall -y html5lib"
   ]
  },
  {
   "cell_type": "code",
   "execution_count": 5,
   "metadata": {
    "ExecuteTime": {
     "end_time": "2018-09-07T10:25:37.163105Z",
     "start_time": "2018-09-07T10:25:34.804602Z"
    }
   },
   "outputs": [
    {
     "name": "stdout",
     "output_type": "stream",
     "text": [
      "Nikola v8.2.3\n"
     ]
    }
   ],
   "source": [
    "!nikola version"
   ]
  },
  {
   "cell_type": "markdown",
   "metadata": {},
   "source": [
    "# Adding a new post"
   ]
  },
  {
   "cell_type": "code",
   "execution_count": 6,
   "metadata": {
    "ExecuteTime": {
     "end_time": "2018-11-05T14:34:58.343345Z",
     "start_time": "2018-11-05T14:34:58.224501Z"
    }
   },
   "outputs": [
    {
     "name": "stdout",
     "output_type": "stream",
     "text": [
      "dim. 16 avril 2023 19:25:40 CEST\n"
     ]
    }
   ],
   "source": [
    "!date\n",
    "import datetime"
   ]
  },
  {
   "cell_type": "code",
   "execution_count": 7,
   "metadata": {
    "ExecuteTime": {
     "end_time": "2018-11-05T14:34:58.697822Z",
     "start_time": "2018-11-05T14:34:58.694703Z"
    }
   },
   "outputs": [
    {
     "name": "stdout",
     "output_type": "stream",
     "text": [
      "2023-04-16 19:25:44.804549\n"
     ]
    }
   ],
   "source": [
    "print(datetime.datetime.now())"
   ]
  },
  {
   "cell_type": "code",
   "execution_count": 8,
   "metadata": {
    "ExecuteTime": {
     "end_time": "2018-11-05T14:34:59.176807Z",
     "start_time": "2018-11-05T14:34:59.173942Z"
    }
   },
   "outputs": [
    {
     "name": "stdout",
     "output_type": "stream",
     "text": [
      "2023-04-16\n"
     ]
    }
   ],
   "source": [
    "now = datetime.datetime.now().date()\n",
    "date = now.isoformat()#[2:]\n",
    "print(date)"
   ]
  },
  {
   "cell_type": "raw",
   "metadata": {},
   "source": [
    "date = '2019-10-07'"
   ]
  },
  {
   "cell_type": "code",
   "execution_count": 9,
   "metadata": {
    "ExecuteTime": {
     "end_time": "2018-11-05T14:34:58.343345Z",
     "start_time": "2018-11-05T14:34:58.224501Z"
    }
   },
   "outputs": [
    {
     "name": "stdout",
     "output_type": "stream",
     "text": [
      "2023-04-16\n"
     ]
    }
   ],
   "source": [
    "import datetime\n",
    "date = datetime.datetime.now().date().isoformat()\n",
    "print(date)"
   ]
  },
  {
   "cell_type": "code",
   "execution_count": 10,
   "metadata": {},
   "outputs": [
    {
     "name": "stdout",
     "output_type": "stream",
     "text": [
      "\u001b[0;31mDocstring:\u001b[0m Return string in ISO 8601 format, YYYY-MM-DD.\n",
      "\u001b[0;31mType:\u001b[0m      builtin_function_or_method"
     ]
    }
   ],
   "source": [
    "now.isoformat?"
   ]
  },
  {
   "cell_type": "code",
   "execution_count": 11,
   "metadata": {
    "ExecuteTime": {
     "end_time": "2018-11-05T14:35:00.048738Z",
     "start_time": "2018-11-05T14:34:59.677518Z"
    }
   },
   "outputs": [],
   "source": [
    "from nikola import utils"
   ]
  },
  {
   "cell_type": "code",
   "execution_count": 13,
   "metadata": {
    "ExecuteTime": {
     "end_time": "2018-11-05T14:40:53.234519Z",
     "start_time": "2018-11-05T14:40:53.230930Z"
    }
   },
   "outputs": [],
   "source": [
    "tags_list = [\n",
    "    'python', \n",
    "#    'ipython', \n",
    "#    'jupyter', \n",
    "#    'nikola', \n",
    "    'blog', \n",
    "#    'themes', \n",
    "#    'pupil',\n",
    "#    'psychophysics',\n",
    "#    'outreach',   \n",
    "    # 'grand-public',\n",
    "#    'space', \n",
    "#    'behavior',\n",
    "#    'povray', \n",
    "#    'elasticite', \n",
    "   'art', \n",
    "   'trames', \n",
    "   'nature', \n",
    "#    'math',\n",
    "#    'bicv', \n",
    "#    'SLIP', \n",
    "#    'LogGabor', \n",
    "#    'SHL_scripts', \n",
    "#    'sparse', \n",
    "#    'Matching Pursuit',\n",
    "#    'Motion Particles',\n",
    "#    'holoviews',\n",
    "    # 'pytorch',\n",
    "    # 'deep-learning',\n",
    "    # 'machine-learning',\n",
    "#     'moviepy', \n",
    "    'numpy', \n",
    "#    'vispy', \n",
    "#    'neural',\n",
    "#    'motionclouds',\n",
    "#    'motion',\n",
    "#    'pynn',\n",
    "#    'saccades',\n",
    "#    'Free Energy',\n",
    "#    'learning',\n",
    "    'open-science',\n",
    "    # 'pandas',\n",
    "#    'shell',\n",
    "#    'vim',\n",
    "#    'orientation',\n",
    "#    'vision',\n",
    "#    'retina',\n",
    "#    'v1',\n",
    "]\n",
    "formt = 'rest'\n",
    "formt = 'markdown'\n",
    "formt = 'ipynb'"
   ]
  },
  {
   "cell_type": "code",
   "execution_count": 14,
   "metadata": {
    "ExecuteTime": {
     "end_time": "2018-11-05T14:41:01.475071Z",
     "start_time": "2018-11-05T14:41:00.415148Z"
    }
   },
   "outputs": [
    {
     "name": "stdout",
     "output_type": "stream",
     "text": [
      "nikola new_post [options] [path]\n",
      "    create a new blog post or site page\n",
      "\n",
      "Options:\n",
      "    -p, --page\n",
      "        Create a page instead of a blog post. (see also: `nikola\n",
      "        new_page`)\n",
      "    -t ARG, --title=ARG\n",
      "        Title for the post.\n",
      "    -a ARG, --author=ARG\n",
      "        Author of the post.\n",
      "    --tags=ARG\n",
      "        Comma-separated tags for the post.\n",
      "    -1\n",
      "        Create the post with embedded metadata (single file format)\n",
      "    -2\n",
      "        Create the post with separate metadata (two file format)\n",
      "    -e\n",
      "        Open the post (and meta file, if any) in $EDITOR after\n",
      "        creation.\n",
      "    -f ARG, --format=ARG\n",
      "        Markup format for the post (use --available-formats for list)\n",
      "    -F, --available-formats\n",
      "        List all available input formats\n",
      "    -s\n",
      "        Schedule the post based on recurrence rule\n",
      "    -i ARG, --import=ARG\n",
      "        Import an existing file instead of creating a placeholder\n",
      "    -d, --date-path\n",
      "        Create post with date path (eg. year/month/day, see\n",
      "        NEW_POST_DATE_PATH_FORMAT in config)\n"
     ]
    }
   ],
   "source": [
    "!nikola new_post -h"
   ]
  },
  {
   "cell_type": "code",
   "execution_count": 15,
   "metadata": {
    "ExecuteTime": {
     "end_time": "2018-11-05T14:41:01.475071Z",
     "start_time": "2018-11-05T14:41:00.415148Z"
    }
   },
   "outputs": [
    {
     "name": "stdout",
     "output_type": "stream",
     "text": [
      "Available input formats:\n",
      "\n",
      " NAME        DESCRIPTION       EXTENSIONS\n",
      "\n",
      " html        HTML              .html, .htm\n",
      " ipynb       Jupyter Notebook  .ipynb\n",
      " markdown    Markdown          .md, .mdown, .markdown\n",
      " rest        reStructuredText  .rst, .txt\n",
      "!php         PHP               .php\n",
      "~pandoc      Pandoc            (disabled: not in COMPILERS)\n",
      "~rest_html5  rest_html5        (disabled: not in COMPILERS)\n",
      "\n",
      "    More compilers are available in the Plugins Index.\n",
      "\n",
      "    Compilers marked with ! and ~ require additional configuration:\n",
      "        ! not in the POSTS/PAGES tuples and any post scanners (unused)\n",
      "        ~ not in the COMPILERS dict (disabled)\n",
      "    Read more: https://getnikola.com/handbook.html#configuring-other-input-formats\n"
     ]
    }
   ],
   "source": [
    "!nikola new_post  --available-formats"
   ]
  },
  {
   "cell_type": "code",
   "execution_count": 16,
   "metadata": {
    "ExecuteTime": {
     "end_time": "2018-11-05T14:41:08.343633Z",
     "start_time": "2018-11-05T14:41:02.455292Z"
    }
   },
   "outputs": [
    {
     "name": "stdout",
     "output_type": "stream",
     "text": [
      "Creating New Post\n",
      "-----------------\n",
      "\n",
      "Title: 2023-04-16 Modelling wind ripples\n",
      "Scanning posts.........done!\n",
      "\u001b[1;33m[2023-04-16 19:30:21] WARNING: ipynb: No kernel specified, assuming \"python3\".\u001b[0m\n",
      "0.00s - Debugger warning: It seems that frozen modules are being used, which may\n",
      "0.00s - make the debugger miss breakpoints. Please pass -Xfrozen_modules=off\n",
      "0.00s - to python to disable frozen modules.\n",
      "0.00s - Note: Debugging will proceed. Set PYDEVD_DISABLE_FILE_VALIDATION=1 to disable this validation.\n",
      "\u001b[1m[2023-04-16 19:30:21] INFO: new_post: Your post's metadata is at: posts/2023-04-16-modelling-wind-ripples.meta\u001b[0m\n",
      "\u001b[1m[2023-04-16 19:30:21] INFO: new_post: Your post's text is at: posts/2023-04-16-modelling-wind-ripples.ipynb\u001b[0m\n"
     ]
    }
   ],
   "source": [
    "tags = ', '.join(tags_list)\n",
    "title = date + ' ' + \"Modelling wind ripples\"\n",
    "#title = '2017-12-13 accessing the data from a pupil recording'\n",
    "!nikola new_post -f \"{formt}\" -2 -t \"{title}\" --tags=\"{tags}\""
   ]
  },
  {
   "cell_type": "code",
   "execution_count": 17,
   "metadata": {
    "ExecuteTime": {
     "end_time": "2018-11-08T10:17:49.012273Z",
     "start_time": "2018-11-08T10:17:49.005411Z"
    }
   },
   "outputs": [
    {
     "name": "stdout",
     "output_type": "stream",
     "text": [
      "posts/2023-04-16-modelling-wind-ripples.ipynb\n"
     ]
    }
   ],
   "source": [
    "fname = utils.os.path.join('posts', utils.slugify(title) + '.' + formt)\n",
    "print(fname)"
   ]
  },
  {
   "cell_type": "code",
   "execution_count": 18,
   "metadata": {
    "ExecuteTime": {
     "end_time": "2018-11-05T14:41:18.822843Z",
     "start_time": "2018-11-05T14:41:18.813958Z"
    }
   },
   "outputs": [
    {
     "data": {
      "text/plain": [
       "'posts/2023-04-16-modelling-wind-ripples.ipynb'"
      ]
     },
     "execution_count": 18,
     "metadata": {},
     "output_type": "execute_result"
    }
   ],
   "source": [
    "utils.shutil.copy('template.ipynb', fname)"
   ]
  },
  {
   "cell_type": "markdown",
   "metadata": {},
   "source": [
    "# Copying existing notebooks"
   ]
  },
  {
   "cell_type": "code",
   "execution_count": null,
   "metadata": {},
   "outputs": [
    {
     "data": {
      "text/plain": [
       "\u001b[0;31mSignature:\u001b[0m \u001b[0mutils\u001b[0m\u001b[0;34m.\u001b[0m\u001b[0mshutil\u001b[0m\u001b[0;34m.\u001b[0m\u001b[0mcopy\u001b[0m\u001b[0;34m(\u001b[0m\u001b[0msrc\u001b[0m\u001b[0;34m,\u001b[0m \u001b[0mdst\u001b[0m\u001b[0;34m,\u001b[0m \u001b[0;34m*\u001b[0m\u001b[0;34m,\u001b[0m \u001b[0mfollow_symlinks\u001b[0m\u001b[0;34m=\u001b[0m\u001b[0;32mTrue\u001b[0m\u001b[0;34m)\u001b[0m\u001b[0;34m\u001b[0m\u001b[0;34m\u001b[0m\u001b[0m\n",
       "\u001b[0;31mDocstring:\u001b[0m\n",
       "Copy data and mode bits (\"cp src dst\"). Return the file's destination.\n",
       "\n",
       "The destination may be a directory.\n",
       "\n",
       "If follow_symlinks is false, symlinks won't be followed. This\n",
       "resembles GNU's \"cp -P src dst\".\n",
       "\n",
       "If source and destination are the same file, a SameFileError will be\n",
       "raised.\n",
       "\u001b[0;31mFile:\u001b[0m      /usr/local/Cellar/python/3.7.7/Frameworks/Python.framework/Versions/3.7/lib/python3.7/shutil.py\n",
       "\u001b[0;31mType:\u001b[0m      function\n"
      ]
     },
     "metadata": {},
     "output_type": "display_data"
    }
   ],
   "source": [
    "utils.shutil.copy?"
   ]
  },
  {
   "attachments": {},
   "cell_type": "markdown",
   "metadata": {
    "tags": []
   },
   "source": [
    "## 2023\n"
   ]
  },
  {
   "cell_type": "code",
   "execution_count": null,
   "metadata": {
    "ExecuteTime": {
     "end_time": "2018-11-05T14:41:18.822843Z",
     "start_time": "2018-11-05T14:41:18.813958Z"
    }
   },
   "outputs": [
    {
     "data": {
      "text/plain": [
       "'posts/2023-02-02-implementing-a-retinotopic-transform-using-grid_sample-from-pytorch.ipynb'"
      ]
     },
     "execution_count": 16,
     "metadata": {},
     "output_type": "execute_result"
    }
   ],
   "source": [
    "utils.shutil.copy('/Users/laurentperrinet/quantic/timeline/2023-01-31_formes-et-perception/images/Retinotopie.ipynb', fname)\n"
   ]
  },
  {
   "cell_type": "markdown",
   "metadata": {
    "tags": []
   },
   "source": [
    "## 2022\n"
   ]
  },
  {
   "cell_type": "code",
   "execution_count": null,
   "metadata": {
    "ExecuteTime": {
     "end_time": "2018-11-05T14:41:18.822843Z",
     "start_time": "2018-11-05T14:41:18.813958Z"
    }
   },
   "outputs": [],
   "source": [
    "from nikola import utils"
   ]
  },
  {
   "cell_type": "code",
   "execution_count": null,
   "metadata": {},
   "outputs": [],
   "source": [
    "fname = 'posts/2022-06-08-transfert-de-voix.ipynb'"
   ]
  },
  {
   "cell_type": "code",
   "execution_count": null,
   "metadata": {
    "ExecuteTime": {
     "end_time": "2018-11-05T14:41:18.822843Z",
     "start_time": "2018-11-05T14:41:18.813958Z"
    }
   },
   "outputs": [
    {
     "data": {
      "text/plain": [
       "'posts/2022-06-08-transfert-de-voix.ipynb'"
      ]
     },
     "execution_count": 12,
     "metadata": {},
     "output_type": "execute_result"
    }
   ],
   "source": [
    "utils.shutil.copy('/Users/laurentperrinet/quantic/RTC/2022-05-04_transfert-des-voix/2022-06-08_transfert-des-voix.ipynb', fname)"
   ]
  },
  {
   "cell_type": "code",
   "execution_count": null,
   "metadata": {},
   "outputs": [],
   "source": [
    "fname = 'posts/2022-02-11-cosyne-reviewer-feedback.ipynb'"
   ]
  },
  {
   "cell_type": "code",
   "execution_count": null,
   "metadata": {
    "ExecuteTime": {
     "end_time": "2018-11-05T14:41:18.822843Z",
     "start_time": "2018-11-05T14:41:18.813958Z"
    }
   },
   "outputs": [
    {
     "data": {
      "text/plain": [
       "'posts/2022-02-11-cosyne-reviewer-feedback.ipynb'"
      ]
     },
     "execution_count": 27,
     "metadata": {},
     "output_type": "execute_result"
    }
   ],
   "source": [
    "utils.shutil.copy('/Users/laurentperrinet/quantic/RTC/2022-02-11_COSYNE-scoresheet/2022-02-11_COSYNE-scoresheet.ipynb', fname)"
   ]
  },
  {
   "cell_type": "markdown",
   "metadata": {},
   "source": [
    "## 2021\n"
   ]
  },
  {
   "cell_type": "code",
   "execution_count": null,
   "metadata": {},
   "outputs": [],
   "source": [
    "fname = 'posts/2021-03-27-density-of-stars-on-the-surface-of-the-sky.ipynb'"
   ]
  },
  {
   "cell_type": "code",
   "execution_count": null,
   "metadata": {
    "ExecuteTime": {
     "end_time": "2018-11-05T14:41:18.822843Z",
     "start_time": "2018-11-05T14:41:18.813958Z"
    }
   },
   "outputs": [
    {
     "data": {
      "text/plain": [
       "'/Users/laurentperrinet/quantic/EtienneRey/2019-06_StarField/2021-03-27-density-of-stars-on-the-surface-of-the-sky.ipynb'"
      ]
     },
     "execution_count": 14,
     "metadata": {},
     "output_type": "execute_result"
    }
   ],
   "source": [
    "from nikola import utils\n",
    "utils.shutil.copy(fname, '/Users/laurentperrinet/quantic/EtienneRey/2019-06_StarField/')"
   ]
  },
  {
   "cell_type": "code",
   "execution_count": null,
   "metadata": {
    "ExecuteTime": {
     "end_time": "2018-11-05T14:41:18.822843Z",
     "start_time": "2018-11-05T14:41:18.813958Z"
    }
   },
   "outputs": [],
   "source": [
    "from nikola import utils\n",
    "utils.shutil.copy('/Users/laurentperrinet/Downloads/NetworkModel_Toolbox/RunAnalyse_Simulations.ipynb', fname)"
   ]
  },
  {
   "cell_type": "markdown",
   "metadata": {},
   "source": [
    "## 2020"
   ]
  },
  {
   "cell_type": "code",
   "execution_count": null,
   "metadata": {
    "ExecuteTime": {
     "end_time": "2018-11-05T14:41:18.822843Z",
     "start_time": "2018-11-05T14:41:18.813958Z"
    }
   },
   "outputs": [
    {
     "data": {
      "text/plain": [
       "'posts/2020-11-24-extracting-music-from-the-screenshots-of-a-spotify-playlist.ipynb'"
      ]
     },
     "execution_count": 44,
     "metadata": {},
     "output_type": "execute_result"
    }
   ],
   "source": [
    "from nikola import utils\n",
    "utils.shutil.copy('/Users/laurentperrinet/quantic/Documents/downloads/PLayList-Etienne-2019/dev-Genius.ipynb', 'posts/2020-11-24-extracting-music-from-the-screenshots-of-a-spotify-playlist.ipynb')"
   ]
  },
  {
   "cell_type": "code",
   "execution_count": null,
   "metadata": {
    "ExecuteTime": {
     "end_time": "2018-11-05T14:41:18.822843Z",
     "start_time": "2018-11-05T14:41:18.813958Z"
    }
   },
   "outputs": [
    {
     "data": {
      "text/plain": [
       "'posts/2020-09-28-benchmarking-cnns.ipynb'"
      ]
     },
     "execution_count": 24,
     "metadata": {},
     "output_type": "execute_result"
    }
   ],
   "source": [
    "from nikola import utils\n",
    "utils.shutil.copy('/Users/laurentperrinet/quantic/science/ActiveVision/2020_StageM1_Jean-Nicolas/2020-06-26_fast_and_curious/benchmark_image_recognition.ipynb', 'posts/2020-09-28-benchmarking-cnns.ipynb')"
   ]
  },
  {
   "cell_type": "code",
   "execution_count": null,
   "metadata": {
    "ExecuteTime": {
     "end_time": "2018-11-05T14:41:18.822843Z",
     "start_time": "2018-11-05T14:41:18.813958Z"
    }
   },
   "outputs": [
    {
     "data": {
      "text/plain": [
       "'posts/2020-06-19-caustic-optics.ipynb'"
      ]
     },
     "execution_count": 39,
     "metadata": {},
     "output_type": "execute_result"
    }
   ],
   "source": [
    "from nikola import utils\n",
    "utils.shutil.copy('/Users/laurentperrinet/quantic/EtienneRey/2020_caustiques/2020-06-19_caustique.ipynb', 'posts/2020-06-19-caustic-optics.ipynb')"
   ]
  },
  {
   "cell_type": "code",
   "execution_count": null,
   "metadata": {
    "ExecuteTime": {
     "end_time": "2018-11-05T14:41:18.822843Z",
     "start_time": "2018-11-05T14:41:18.813958Z"
    }
   },
   "outputs": [],
   "source": [
    "!nbdiff /Users/laurentperrinet/quantic/EtienneRey/2020_caustiques/2020-06-19_caustique.ipynb posts/2020-06-19-caustic-optics.ipynb"
   ]
  },
  {
   "cell_type": "code",
   "execution_count": null,
   "metadata": {
    "ExecuteTime": {
     "end_time": "2018-11-05T14:41:18.822843Z",
     "start_time": "2018-11-05T14:41:18.813958Z"
    }
   },
   "outputs": [
    {
     "data": {
      "text/plain": [
       "'files/2020-06-19_caustique'"
      ]
     },
     "execution_count": 41,
     "metadata": {},
     "output_type": "execute_result"
    }
   ],
   "source": [
    "utils.shutil.rmtree('files/2020-06-19_caustique', ignore_errors=True)\n",
    "utils.shutil.copytree('/Users/laurentperrinet/quantic/EtienneRey/2020_caustiques/2020-06-19_caustique', 'files/2020-06-19_caustique')"
   ]
  },
  {
   "cell_type": "code",
   "execution_count": null,
   "metadata": {},
   "outputs": [
    {
     "data": {
      "text/plain": [
       "'/Users/laurentperrinet/quantic/EtienneRey/2020_caustiques/2020-06-19_caustique'"
      ]
     },
     "execution_count": 42,
     "metadata": {},
     "output_type": "execute_result"
    }
   ],
   "source": [
    "#utils.shutil.rmtree('/Users/laurentperrinet/quantic/EtienneRey/files', ignore_errors=True)\n",
    "#utils.shutil.move('/Users/laurentperrinet/quantic/EtienneRey/files/2020-06-19_caustique', '/Users/laurentperrinet/quantic/EtienneRey/2020_caustiques/2020-06-19_caustique')"
   ]
  },
  {
   "cell_type": "markdown",
   "metadata": {},
   "source": [
    "## 2019"
   ]
  },
  {
   "cell_type": "code",
   "execution_count": null,
   "metadata": {
    "ExecuteTime": {
     "end_time": "2018-11-05T14:41:18.822843Z",
     "start_time": "2018-11-05T14:41:18.813958Z"
    }
   },
   "outputs": [
    {
     "data": {
      "text/plain": [
       "'posts/2020-04-08-fitting-a-psychometric-curve-using-pytorch.ipynb'"
      ]
     },
     "execution_count": 36,
     "metadata": {},
     "output_type": "execute_result"
    }
   ],
   "source": [
    "utils.shutil.copy('/Users/laurentperrinet/quantic/science/OBV1/jennafradin_MSc-Internship/Notebooks/W13/10_theory-fitting_psychometric.ipynb', fname)"
   ]
  },
  {
   "cell_type": "code",
   "execution_count": null,
   "metadata": {},
   "outputs": [
    {
     "name": "stdout",
     "output_type": "stream",
     "text": [
      "posts/2015-05-22-a-hitchhiker-guide-to-matching-pursuit.ipynb\n",
      "posts/2015-05-22-a-hitchhiker-guide-to-matching-pursuit.meta\n"
     ]
    }
   ],
   "source": [
    "%ls posts/2015*hitch*"
   ]
  },
  {
   "cell_type": "code",
   "execution_count": null,
   "metadata": {
    "ExecuteTime": {
     "end_time": "2018-11-05T14:41:18.822843Z",
     "start_time": "2018-11-05T14:41:18.813958Z"
    }
   },
   "outputs": [
    {
     "data": {
      "text/plain": [
       "'posts/2019-11-28-role-of-gamma-correction-in-sparse-coding.ipynb'"
      ]
     },
     "execution_count": 16,
     "metadata": {},
     "output_type": "execute_result"
    }
   ],
   "source": [
    "utils.shutil.copy('posts/2015-05-22-a-hitchhiker-guide-to-matching-pursuit.ipynb', fname)"
   ]
  },
  {
   "cell_type": "code",
   "execution_count": null,
   "metadata": {
    "ExecuteTime": {
     "end_time": "2018-11-08T10:17:33.863368Z",
     "start_time": "2018-11-08T10:17:33.822970Z"
    }
   },
   "outputs": [],
   "source": [
    "utils.shutil.copy('/Users/laurentperrinet/pool/TimeWarp/2018-11-05_Statistics of the natural input to a ring model.ipynb', fname)\n",
    "utils.shutil.copy('/Users/laurentperrinet/pool/TimeWarp/figs/2018-11-05_Ring_input.mp4', 'files/')"
   ]
  },
  {
   "cell_type": "code",
   "execution_count": null,
   "metadata": {},
   "outputs": [],
   "source": [
    "utils.shutil.copy('/Users/laurentperrinet//science/pupil/dev/2017-12-13 accessing the data from a pupil recording.ipynb', 'posts/2017-12-13-accessing-the-data-from-a-pupil-recording.ipynb')"
   ]
  },
  {
   "cell_type": "code",
   "execution_count": null,
   "metadata": {
    "collapsed": true,
    "jupyter": {
     "outputs_hidden": true
    }
   },
   "outputs": [],
   "source": [
    "titles = ['2017-03-29 testing COMPs-Pcum', '2017-03-29 testing COMPs-fastPcum', '2017-03-29 testing COMPs-fastPcum_scripted']"
   ]
  },
  {
   "cell_type": "code",
   "execution_count": null,
   "metadata": {},
   "outputs": [],
   "source": [
    "tags = ', '.join(tags_list)\n",
    "for title in titles:\n",
    "    !nikola new_post -f \"{formt}\" -2 -t \"{title}\" --tags=\"{tags}\""
   ]
  },
  {
   "cell_type": "code",
   "execution_count": null,
   "metadata": {},
   "outputs": [],
   "source": [
    "for title in titles:\n",
    "    fname = utils.os.path.join('posts', utils.slugify(title) + '.' + formt)\n",
    "    print(fname)\n",
    "    import os\n",
    "    home = os.environ['HOME']\n",
    "    print(home)\n",
    "    filepath = home +  \"/science/VB_These/Rapport d'avancement/2017-03/\"\n",
    "    print(filepath + title +'.ipynb')\n",
    "    utils.shutil.copy(filepath + title +'.ipynb', fname)"
   ]
  },
  {
   "cell_type": "markdown",
   "metadata": {},
   "source": [
    "\n",
    "TODO : 2017-05-23-reproducing-olshausens-classical-sparsenet-part-5.ipynb and others from 2017-05-23-reproducing-olshausens-classical-sparsenet-part-5.ipynb\n"
   ]
  },
  {
   "cell_type": "raw",
   "metadata": {},
   "source": [
    "Below, I detail some thoughts on why it is a perfect preamble for most ipython notebooks.\n",
    "\n",
    "<!-- TEASER_END -->"
   ]
  },
  {
   "cell_type": "code",
   "execution_count": null,
   "metadata": {
    "collapsed": true,
    "jupyter": {
     "outputs_hidden": true
    }
   },
   "outputs": [],
   "source": [
    "import nikola"
   ]
  },
  {
   "cell_type": "code",
   "execution_count": null,
   "metadata": {
    "collapsed": true,
    "jupyter": {
     "outputs_hidden": true
    }
   },
   "outputs": [],
   "source": [
    "nikola.utils."
   ]
  },
  {
   "cell_type": "code",
   "execution_count": null,
   "metadata": {
    "collapsed": true,
    "jupyter": {
     "outputs_hidden": true
    }
   },
   "outputs": [],
   "source": [
    "from nikola.plugins import commands"
   ]
  },
  {
   "cell_type": "code",
   "execution_count": null,
   "metadata": {
    "collapsed": true,
    "jupyter": {
     "outputs_hidden": true
    }
   },
   "outputs": [],
   "source": [
    "plugins.absolute_import"
   ]
  },
  {
   "cell_type": "code",
   "execution_count": null,
   "metadata": {
    "collapsed": true,
    "jupyter": {
     "outputs_hidden": true
    }
   },
   "outputs": [],
   "source": [
    "!nikola help new_post "
   ]
  },
  {
   "cell_type": "code",
   "execution_count": null,
   "metadata": {
    "collapsed": true,
    "jupyter": {
     "outputs_hidden": true
    }
   },
   "outputs": [],
   "source": [
    "base_url = \"http://127.0.0.1:\"\n",
    "port = 8889\n",
    "\n",
    "from nikola import utils\n",
    "notebook = \"/notebooks/posts/\" + utils.slugify(unicode(title)) + \".ipynb\"  \n",
    "\n",
    "url = base_url + str(port) + notebook\n",
    "print url"
   ]
  },
  {
   "cell_type": "code",
   "execution_count": null,
   "metadata": {
    "collapsed": true,
    "jupyter": {
     "outputs_hidden": true
    }
   },
   "outputs": [],
   "source": [
    "def convert(URL, DATE, TIME, TITLE, TAGS, doit=True):\n",
    "\n",
    "    TIMEDTITLE = DATE[2:] + ' ' + TITLE\n",
    "    SLUG = DATE[2:] + '-' + TITLE.replace(' ', '-')\n",
    "    tmplt = \"\"\"\\\n",
    ".. title: %s %s\n",
    ".. slug: %s\n",
    ".. date: %s %s\n",
    ".. type: text\n",
    ".. tags: %s\n",
    "    \n",
    "\"\"\" % (DATE[2:], TITLE, SLUG, DATE, TIME, TAGS)\n",
    "\n",
    "    print tmplt\n",
    "\n",
    "    if doit:\n",
    "        import os\n",
    "        print TITLE, TAGS\n",
    "        cmd = 'cd ..; nikola new_post --title=\"%s\" --tags=\"%s\"' % (TIMEDTITLE, TAGS)\n",
    "        print cmd\n",
    "        os.system(cmd)\n",
    "        f = file(SLUG + '.rst', 'w')\n",
    "        f.write(tmplt + pagerst)\n",
    "        f.close()\n",
    "    else:\n",
    "        print tmplt"
   ]
  },
  {
   "cell_type": "markdown",
   "metadata": {},
   "source": [
    "## updating dates to iso8601 : ipython notebooks"
   ]
  },
  {
   "cell_type": "code",
   "execution_count": null,
   "metadata": {
    "collapsed": true,
    "jupyter": {
     "outputs_hidden": true
    },
    "scrolled": true
   },
   "outputs": [],
   "source": [
    "import glob, os, shutil\n",
    "from nikola import utils\n",
    "\n",
    "for fname in glob.glob(\"posts/14*.ipynb\"):\n",
    "    ROOT, FILE = os.path.split(fname)\n",
    "    SLUG = 'posts/' + FILE.replace('.ipynb', '.meta')\n",
    "    FILE_new = 'posts/20' + FILE\n",
    "    SLUG_new = 'posts/20' + FILE.replace('.ipynb', '.meta')\n",
    "    print(SLUG)\n",
    "    meta = ''\n",
    "    with open(SLUG, 'r') as f: \n",
    "        for line in f.readlines():\n",
    "            meta += line.replace(' 14-', ' 2014-')\n",
    "    print(FILE_new, SLUG_new)\n",
    "    print(meta)\n",
    "    if True:\n",
    "        with open(SLUG_new, 'w') as f: f.write(meta)\n",
    "        shutil.copy( 'posts/' + FILE, FILE_new)\n",
    "        os.remove('posts/' + FILE)\n",
    "        os.remove(SLUG)"
   ]
  },
  {
   "cell_type": "markdown",
   "metadata": {},
   "source": [
    "## updating dates to iso8601 : other posts"
   ]
  },
  {
   "cell_type": "code",
   "execution_count": null,
   "metadata": {
    "collapsed": true,
    "jupyter": {
     "outputs_hidden": true
    }
   },
   "outputs": [],
   "source": [
    "import glob, os, shutil\n",
    "from nikola import utils\n",
    "\n",
    "for YEAR in [\"10\", \"11\", \"12\", \"13\", \"14\"]:\n",
    "    for fname in glob.glob(\"posts/\"+ YEAR + \"-*.txt\"):\n",
    "        ROOT, FILE = os.path.split(fname)\n",
    "        FILE_new = 'posts/20' + FILE\n",
    "        print(FILE_new)\n",
    "        if True:\n",
    "            shutil.copy( 'posts/' + FILE, FILE_new)\n",
    "            os.remove('posts/' + FILE)\n"
   ]
  },
  {
   "cell_type": "code",
   "execution_count": null,
   "metadata": {
    "collapsed": true,
    "jupyter": {
     "outputs_hidden": true
    },
    "scrolled": true
   },
   "outputs": [],
   "source": [
    "import glob, os, shutil\n",
    "from nikola import utils\n",
    "\n",
    "for ext in [\"*.txt\", \"*.rst\"]:\n",
    "    for YEAR in [\"06\", \"07\", \"08\", \"09\", \"10\", \"11\", \"12\", \"13\", \"14\", \"15\"]:\n",
    "        for fname in glob.glob(\"posts/20\"+ YEAR + ext):\n",
    "            ROOT, FILE = os.path.split(fname)\n",
    "            post = ''\n",
    "            with open('posts/' + FILE, 'r') as f: \n",
    "                for line in f.readlines():\n",
    "                    line = line.replace(' '+ YEAR + '-', ' 20'+ YEAR + '-')\n",
    "                    for YEAR_ in [\"10\", \"11\", \"12\", \"13\", \"14\"]:\n",
    "                        line = line.replace('<'+ YEAR_ + '-', '<20'+ YEAR_ + '-')\n",
    "                    post += line\n",
    "            print(FILE)\n",
    "            if True:\n",
    "                with open('posts/' + FILE, 'w') as f: f.write(post)\n",
    "            else:\n",
    "                print(post)\n"
   ]
  },
  {
   "cell_type": "markdown",
   "metadata": {},
   "source": [
    "# deploying changes"
   ]
  },
  {
   "cell_type": "code",
   "execution_count": 1,
   "metadata": {},
   "outputs": [
    {
     "name": "stdout",
     "output_type": "stream",
     "text": [
      "total 73616\n",
      "drwxr-xr-x@  26 laurentperrinet  staff       832 Apr 17 22:31 \u001b[1m\u001b[36m.\u001b[m\u001b[m/\n",
      "drwxr-xr-x@   7 laurentperrinet  staff       224 Mar 25  2022 \u001b[1m\u001b[36m..\u001b[m\u001b[m/\n",
      "-rw-r--r--@   1 laurentperrinet  staff     14340 Apr 28 16:35 .DS_Store\n",
      "-rw-r--r--@   1 laurentperrinet  staff  21803008 Aug  5  2022 .doit.db\n",
      "-rw-r--r--@   1 laurentperrinet  staff  15015936 Jan  8  2021 .doit.db.db\n",
      "drwxr-xr-x@  16 laurentperrinet  staff       512 May  3 21:24 \u001b[1m\u001b[36m.git\u001b[m\u001b[m/\n",
      "drwxr-xr-x@   3 laurentperrinet  staff        96 Feb  4  2021 \u001b[1m\u001b[36m.github_old\u001b[m\u001b[m/\n",
      "-rw-r--r--    1 laurentperrinet  staff       543 Dec 13 23:20 .gitignore\n",
      "drwxr-xr-x@   4 laurentperrinet  staff       128 Feb 23 13:00 \u001b[1m\u001b[36m.ipynb_checkpoints\u001b[m\u001b[m/\n",
      "-rw-r--r--@   1 laurentperrinet  staff      8887 Dec 15  2014 LICENSE\n",
      "-rw-r--r--@   1 laurentperrinet  staff       155 Dec 10  2020 Makefile\n",
      "-rw-r--r--@   1 laurentperrinet  staff        16 Jan 17  2019 README.md\n",
      "drwxr-xr-x@   4 laurentperrinet  staff       128 Feb  1 00:17 \u001b[1m\u001b[36m__pycache__\u001b[m\u001b[m/\n",
      "-rw-r--r--@   1 laurentperrinet  staff     90191 Apr 17 22:31 bootstrapPost.ipynb\n",
      "drwxr-xr-x@   5 laurentperrinet  staff       160 Aug  5  2022 \u001b[1m\u001b[36mcache\u001b[m\u001b[m/\n",
      "-rw-r--r--@   1 laurentperrinet  staff     57327 Jun 20  2022 conf.py\n",
      "drwxr-xr-x@  40 laurentperrinet  staff      1280 Feb 23 12:20 \u001b[1m\u001b[36mdocs\u001b[m\u001b[m/\n",
      "drwxr-xr-x@ 105 laurentperrinet  staff      3360 Oct 12  2022 \u001b[1m\u001b[36mfiles\u001b[m\u001b[m/\n",
      "drwxr-xr-x@   2 laurentperrinet  staff        64 Feb  4  2021 \u001b[1m\u001b[36mgalleries\u001b[m\u001b[m/\n",
      "drwxr-xr-x@   4 laurentperrinet  staff       128 Feb  4  2021 \u001b[1m\u001b[36mlistings\u001b[m\u001b[m/\n",
      "drwxr-xr-x@   7 laurentperrinet  staff       224 Feb  4  2021 \u001b[1m\u001b[36mplugins\u001b[m\u001b[m/\n",
      "drwxr-xr-x@ 423 laurentperrinet  staff     13536 Apr 29 10:57 \u001b[1m\u001b[36mposts\u001b[m\u001b[m/\n",
      "-rw-------@   1 laurentperrinet  staff        49 Aug  5  2022 state_data.json\n",
      "drwxr-xr-x@  14 laurentperrinet  staff       448 Feb  4  2021 \u001b[1m\u001b[36mstories\u001b[m\u001b[m/\n",
      "-rw-r--r--    1 laurentperrinet  staff      5330 Feb 23 12:20 template.ipynb\n",
      "drwxr-xr-x@   3 laurentperrinet  staff        96 Jun 13  2022 \u001b[1m\u001b[36mthemes\u001b[m\u001b[m/\n"
     ]
    }
   ],
   "source": [
    "%ls -al"
   ]
  },
  {
   "cell_type": "raw",
   "metadata": {},
   "source": [
    "%rm -fr .doit.db cache"
   ]
  },
  {
   "cell_type": "raw",
   "metadata": {},
   "source": [
    "!nikola clean"
   ]
  },
  {
   "cell_type": "code",
   "execution_count": 2,
   "metadata": {},
   "outputs": [
    {
     "name": "stdout",
     "output_type": "stream",
     "text": [
      "Already up to date.\n"
     ]
    }
   ],
   "source": [
    "!git pull"
   ]
  },
  {
   "cell_type": "code",
   "execution_count": 3,
   "metadata": {},
   "outputs": [
    {
     "name": "stdout",
     "output_type": "stream",
     "text": [
      "On branch master\n",
      "Your branch is up to date with 'origin/master'.\n",
      "\n",
      "Changes not staged for commit:\n",
      "  (use \"git add <file>...\" to update what will be committed)\n",
      "  (use \"git restore <file>...\" to discard changes in working directory)\n",
      "\t\u001b[32mmodified:   bootstrapPost.ipynb\u001b[m\n",
      "\t\u001b[32mmodified:   posts/2014-10-21-statistics-of-time-varying-images.ipynb\u001b[m\n",
      "\t\u001b[32mmodified:   posts/2023-04-16-modelling-wind-ripples.ipynb\u001b[m\n",
      "\n",
      "Untracked files:\n",
      "  (use \"git add <file>...\" to include in what will be committed)\n",
      "\t\u001b[36mposts/2016-07-14_static-motion-clouds.meta\u001b[m\n",
      "\n",
      "no changes added to commit (use \"git add\" and/or \"git commit -a\")\n"
     ]
    }
   ],
   "source": [
    "!git status"
   ]
  },
  {
   "cell_type": "raw",
   "metadata": {},
   "source": [
    "!ls -ltr files"
   ]
  },
  {
   "cell_type": "code",
   "execution_count": 4,
   "metadata": {},
   "outputs": [
    {
     "name": "stdout",
     "output_type": "stream",
     "text": [
      "Scanning posts.........done!\n",
      ".  render_sources:docs/posts/2023-04-16-modelling-wind-ripples.ipynb\n",
      ".  render_sources:docs/posts/2023-02-02-implementing-a-retinotopic-transform-using-grid_sample-from-pytorch.ipynb\n",
      ".  render_sources:docs/posts/2022-06-08-transfert-de-voix.ipynb\n",
      ".  render_sources:docs/posts/2022-02-11-cosyne-reviewer-feedback.ipynb\n",
      ".  render_sources:docs/posts/2022-01-30-dreamachine.ipynb\n",
      ".  render_sources:docs/posts/2021-12-12-logistic-regression.ipynb\n",
      ".  render_sources:docs/posts/2021-04-28-experimenting-with-transfer-learning-for-visual-categorization.ipynb\n",
      ".  render_sources:docs/posts/2021-12-01-find-a-8-in-a-forest-of-9.ipynb\n",
      ".  render_sources:docs/posts/2021-12-01-triangulating-stars-on-the-night-sky.ipynb\n",
      ".  render_sources:docs/posts/2021-09-11-modelling-ocean-surface-waves.ipynb\n",
      ".  render_sources:docs/posts/2021-03-27-density-of-stars-on-the-surface-of-the-sky.ipynb\n",
      ".  render_sources:docs/posts/2021-02-21-time-lapsing-an-orchids-flower.ipynb\n",
      ".  render_sources:docs/posts/2020-10-10-fitting-covid-data.ipynb\n",
      ".  render_sources:docs/posts/2020-07-04-colors-of-the-sky.ipynb\n",
      ".  render_sources:docs/posts/2020-06-19-caustic-optics.ipynb\n",
      ".  render_sources:docs/posts/2020-04-16-creating-an-hexagonal-grid.ipynb\n",
      ".  render_sources:docs/posts/2019-09-11_video-abstract-vision.ipynb\n",
      ".  render_sources:docs/posts/2019-05-28_MainenSejnowski1995.ipynb\n",
      ".  render_sources:docs/posts/2018-12-13-sparse-coding-using-fista.ipynb\n",
      ".  render_sources:docs/posts/2018-11-29-feature-vs-global-motion.ipynb\n",
      ".  render_sources:docs/posts/2018-11-05-statistics-of-the-natural-input-to-a-ring-model.ipynb\n",
      ".  render_sources:docs/posts/2017-12-21-predictive-coding-of-variable-motion.ipynb\n",
      ".  render_sources:docs/posts/2017-11-21_retina_sparseness.ipynb\n",
      ".  render_sources:docs/posts/2017-11-07-meul-with-a-non-parametric-homeostasis.ipynb\n",
      ".  render_sources:docs/posts/2017-03-29-testing-comps-fastpcum_scripted.ipynb\n",
      ".  render_sources:docs/posts/2017-03-29-testing-comps-fastpcum.ipynb\n",
      ".  render_sources:docs/posts/2017-04-10-manipulating-speed-in-motion-clouds.ipynb\n",
      ".  render_sources:docs/posts/2017-03-17-extending-olshausens-classical-sparsenet.ipynb\n",
      ".  render_sources:docs/posts/2017-03-09_probabilities.ipynb\n",
      ".  render_sources:docs/posts/2016-10-01-a-p-pie-named-monte-carlo.ipynb\n",
      ".  render_sources:docs/posts/2016-10-01-une-tarte-au-pi-nommee-monte-carlo.ipynb\n",
      ".  render_sources:docs/posts/2016-07-16-predictive-coding-of-motion-in-an-aperture.ipynb\n",
      ".  render_sources:docs/posts/2016-04-06_irm-clouds.ipynb\n",
      ".  render_sources:docs/posts/2015-11-29-elasticite-scenario-onde.ipynb\n",
      ".  render_sources:docs/posts/2015-11-26-elasticite-scenario-vague.ipynb\n",
      ".  render_sources:docs/posts/2015-04-29-moving-from-mayavi-to-vispy.ipynb\n",
      ".  render_sources:docs/posts/2015-04-26-moviepy-and-python3.ipynb\n",
      ".  render_sources:docs/posts/2015-03-26_the-vancouver-set.ipynb\n",
      ".  render_sources:docs/posts/2014-12-10_orientation_protocol.ipynb\n",
      ".  render_sources:docs/posts/2014-11-15-reading-kml-my-tracks-files-in-ipython.ipynb\n",
      ".  render_sources:docs/posts/2014-11-10_orientation.ipynb\n",
      ".  render_sources:docs/posts/2014-11-10_orientation_biphoton.ipynb\n",
      ".  render_sources:docs/posts/2014-10-21-statistics-of-time-varying-images.ipynb\n",
      ".  render_sources:docs/posts/2014-10-20_motion-plaid.ipynb\n",
      ".  render_sources:docs/posts/2014-06-18-stage-m1-chloe-pasturel-week-3.ipynb\n",
      ".  render_sources:docs/posts/2013-11-12-craac.src.html\n",
      ".  render_taxonomies:docs/categories/index.html\n",
      ".  copy_files:docs/files/2017-06-27_Telluride_short.html\n",
      ".  copy_files:docs/files/2017-06-28_Telluride.html\n",
      ".  copy_files:docs/files/2016-10-26_Perrinet16EUVIP_talk.html\n",
      ".  copy_files:docs/files/2016-10-13_LAW.html\n",
      ".  copy_files:docs/files/2017-02-17_JournalClub.html\n",
      ".  copy_files:docs/files/2017-11-15_ColloqueMaster.html\n",
      ".  copy_files:docs/files/2017-03-24_pollymagoo.html\n",
      ".  copy_files:docs/files/2017-01-20_LACONEU.html\n",
      ".  copy_files:docs/files/2017-06-30_Telluride.html\n",
      ".  copy_files:docs/files/2018-01-25_meetup-neuronautes.html\n",
      ".  copy_files:docs/files/2016-11-03_SIGMA.html\n",
      ".  copy_files:docs/files/2017-03-06_cours-NeuroComp.html\n",
      ".  copy_files:docs/files/2021-12-01-99999999999998.jpg\n",
      ".  copy_files:docs/files/2018-02-01_BCP_INVIBE_fest.html\n",
      ".  copy_files:docs/files/2021-03-27_generative.png\n",
      ".  copy_files:docs/files/2018-10-11_BioMorphisme.html\n",
      ".  copy_files:docs/files/2017-01-18_LACONEU.html\n",
      ".  copy_files:docs/files/2016-10-26_FillatreBarlaudPerrinet16EUVIP_talk.html\n",
      ".  copy_files:docs/files/2017-01-19_LACONEU.html\n",
      ".  copy_files:docs/files/2017-03-13_NeuroComp_FEP.html\n",
      ".  copy_files:docs/files/2015-12-08_cours_neurocomp/TaoualiPerrinet12neurocomp.slides.html\n",
      ".  copy_files:docs/files/2015-12-08_cours_neurocomp/PerrinetTaouali12neurocomp.slides.html\n",
      ".  copy_files:docs/files/2015-12-08_cours_neurocomp/PerrinetEtAl12neurocomp-intro.slides.html\n",
      ".  copy_files:docs/files/2015-12-08_cours_neurocomp/TaoualiPerrinet12neurocomp_final.slides.html\n",
      ".  copy_files:docs/files/2015-03-26_the-vancouver-set/vancouver-fog-V_X-0_5_cube.png\n",
      ".  copy_files:docs/files/2015-03-26_the-vancouver-set/vancouver-fog-V_X--1_0.png\n",
      ".  copy_files:docs/files/2015-03-26_the-vancouver-set/vancouver-fog-V_X--1_0_cube.png\n",
      ".  copy_files:docs/files/2015-03-26_the-vancouver-set/vancouver-fog-V_X-0_5.mp4\n",
      ".  copy_files:docs/files/2015-03-26_the-vancouver-set/vancouver-fog-V_X-4_0.mp4\n",
      ".  copy_files:docs/files/2015-03-26_the-vancouver-set/vancouver-fog.png\n",
      ".  copy_files:docs/files/2015-03-26_the-vancouver-set/vancouver-fog-V_X-0_0.mp4\n",
      ".  copy_files:docs/files/2015-03-26_the-vancouver-set/vancouver-fog-V_X-0_1.mp4\n",
      ".  copy_files:docs/files/2015-03-26_the-vancouver-set/vancouver-fog-V_X-4_0_cube.png\n",
      ".  copy_files:docs/files/2015-03-26_the-vancouver-set/vancouver_cube.png\n",
      ".  copy_files:docs/files/2015-03-26_the-vancouver-set/vancouver-fog-V_X--0_5_cube.png\n",
      ".  copy_files:docs/files/2015-03-26_the-vancouver-set/vancouver.mp4\n",
      ".  copy_files:docs/files/2015-03-26_the-vancouver-set/vancouver-fog-V_X--0_5.png\n",
      ".  copy_files:docs/files/2015-03-26_the-vancouver-set/vancouver-fog-V_X-1_0.mp4\n",
      ".  copy_files:docs/files/2015-03-26_the-vancouver-set/vancouver-fog.mat\n",
      ".  copy_files:docs/files/2015-03-26_the-vancouver-set/vancouver-fog-V_X-1_0_cube.png\n",
      ".  copy_files:docs/files/2015-03-26_the-vancouver-set/vancouver-fog_cube.png\n",
      ".  copy_files:docs/files/2015-03-26_the-vancouver-set/vancouver-fog-V_X-1_0.png\n",
      ".  copy_files:docs/files/2015-03-26_the-vancouver-set/vancouver.png\n",
      ".  copy_files:docs/files/2015-03-26_the-vancouver-set/vancouver-fog-V_X--0_5.mp4\n",
      ".  copy_files:docs/files/2015-03-26_the-vancouver-set/vancouver-fog-V_X-0_5.png\n",
      ".  copy_files:docs/files/2015-03-26_the-vancouver-set/vancouver-fog.mp4\n",
      ".  copy_files:docs/files/2015-03-26_the-vancouver-set/vancouver-fog-V_X-4_0.png\n",
      ".  copy_files:docs/files/2015-03-26_the-vancouver-set/vancouver-fog-V_X-0_1_cube.png\n",
      ".  copy_files:docs/files/2015-03-26_the-vancouver-set/vancouver-fog-V_X--1_0.mp4\n",
      ".  copy_files:docs/files/2015-03-26_the-vancouver-set/vancouver-fog-V_X-0_0_cube.png\n",
      ".  copy_files:docs/files/2015-03-26_the-vancouver-set/vancouver-fog-V_X-0_0.png\n",
      ".  copy_files:docs/files/2015-03-26_the-vancouver-set/vancouver-fog-V_X-0_1.png\n",
      ".  copy_files:docs/files/2022-01-30-dreamachine/alpha_pure.mp4\n",
      ".  copy_files:docs/files/2022-01-30-dreamachine/alpha_1_cube.png\n",
      ".  copy_files:docs/files/2022-01-30-dreamachine/alpha_1.png\n",
      ".  copy_files:docs/files/2022-01-30-dreamachine/alpha_12_tight.png\n",
      ".  copy_files:docs/files/2022-01-30-dreamachine/alpha_12.png\n",
      ".  copy_files:docs/files/2022-01-30-dreamachine/alpha_pure_cube.png\n",
      ".  copy_files:docs/files/2022-01-30-dreamachine/alpha_12_cube.png\n",
      ".  copy_files:docs/files/2022-01-30-dreamachine/alpha_12_tight.mp4\n",
      ".  copy_files:docs/files/2022-01-30-dreamachine/alpha_12_tight_cube.png\n",
      ".  copy_files:docs/files/2022-01-30-dreamachine/alpha_12.mp4\n",
      ".  copy_files:docs/files/2022-01-30-dreamachine/retino_alpha.gif\n",
      ".  copy_files:docs/files/2022-01-30-dreamachine/alpha_pure.png\n",
      ".  copy_files:docs/files/2022-01-30-dreamachine/retino_alpha.mp4\n",
      ".  copy_files:docs/files/2022-01-30-dreamachine/alpha_1.mp4\n",
      ".  copy_files:docs/files/2016-04-28_mejanes/index.html\n",
      ".  copy_files:docs/files/2016-04-28_mejanes/2016-04-28_mejanes.py\n",
      ".  copy_files:docs/files/2016-07-07_EDP-proba/index.html\n",
      ".  copy_files:docs/files/2016-09-26_Perrinet16journalClub/2016-09-26_Perrinet16journalClub.ipynb\n",
      ".  copy_files:docs/files/2016-09-26_Perrinet16journalClub/2016-09-26_Perrinet16journalClub.slides.html\n",
      ".  copy_files:docs/files/2016-04-25_pollymagoo/index.html\n",
      ".  copy_files:docs/files/2016-04-25_pollymagoo/2016-04-25_pollymagoo.py\n",
      ".  render_posts:timeline_changes\n",
      ".  render_posts:cache/posts/2023-04-16-modelling-wind-ripples.html\n",
      ".  render_posts:cache/posts/2023-02-02-implementing-a-retinotopic-transform-using-grid_sample-from-pytorch.html\n",
      ".  render_posts:cache/posts/2022-06-08-transfert-de-voix.html\n",
      ".  render_posts:cache/posts/2022-02-11-cosyne-reviewer-feedback.html\n",
      ".  render_posts:cache/posts/2022-01-30-dreamachine.html\n",
      ".  render_posts:cache/posts/2021-12-12-logistic-regression.html\n",
      ".  render_posts:cache/posts/2021-04-28-experimenting-with-transfer-learning-for-visual-categorization.html\n",
      ".  render_posts:cache/posts/2021-12-01-find-a-8-in-a-forest-of-9.html\n",
      ".  render_posts:cache/posts/2021-12-01-triangulating-stars-on-the-night-sky.html\n",
      ".  render_posts:cache/posts/2021-09-11-modelling-ocean-surface-waves.html\n",
      ".  render_posts:cache/posts/2021-03-27-density-of-stars-on-the-surface-of-the-sky.html\n",
      ".  render_posts:cache/posts/2021-02-21-time-lapsing-an-orchids-flower.html\n",
      ".  render_posts:cache/posts/2021-01-08-kuramoto-model.html\n",
      ".  render_posts:cache/posts/2020-11-24-extracting-music-from-the-screenshots-of-a-spotify-playlist.html\n",
      ".  render_posts:cache/posts/2020-10-10-fitting-covid-data.html\n",
      ".  render_posts:cache/posts/2020-09-28-benchmarking-cnns.html\n",
      ".  render_posts:cache/posts/2020-07-04-colors-of-the-sky.html\n",
      ".  render_posts:cache/posts/2020-06-19-caustic-optics.html\n",
      ".  render_posts:cache/posts/2020-04-16-creating-an-hexagonal-grid.html\n",
      ".  render_posts:cache/posts/2020-04-08-fitting-a-psychometric-curve-using-pytorch.html\n",
      ".  render_posts:cache/posts/2019-10-07-neurostories-videos-of-my-talk.html\n",
      ".  render_posts:cache/posts/2019-09-11_video-abstract-vision.html\n",
      ".  render_posts:cache/posts/2019-05-28_MainenSejnowski1995.html\n",
      ".  render_posts:cache/posts/2018-12-13-sparse-coding-using-fista.html\n",
      ".  render_posts:cache/posts/2018-11-29-feature-vs-global-motion.html\n",
      ".  render_posts:cache/posts/2018-11-05-statistics-of-the-natural-input-to-a-ring-model.html\n",
      ".  render_posts:cache/posts/2018-09-07-extending-datasets-in-pytorch.html\n",
      ".  render_posts:cache/posts/2018-06-13-generating-an-unique-seed-for-a-given-filename.html\n",
      ".  render_posts:cache/posts/2018-01-16-testing-more-complex-trajectories.html\n",
      ".  render_posts:cache/posts/2017-12-21-predictive-coding-of-variable-motion.html\n",
      ".  render_posts:cache/posts/2017-11-21_retina_sparseness.html\n",
      ".  render_posts:cache/posts/2017-11-07-meul-with-a-non-parametric-homeostasis.html\n",
      ".  render_posts:cache/posts/2017-03-29-testing-comps-fastpcum_scripted.html\n",
      ".  render_posts:cache/posts/2017-03-29-testing-comps-fastpcum.html\n",
      ".  render_posts:cache/posts/2017-03-29-testing-comps-pcum.html\n",
      ".  render_posts:cache/posts/2017-04-10-manipulating-speed-in-motion-clouds.html\n",
      ".  render_posts:cache/posts/2017-03-17-extending-olshausens-classical-sparsenet.html\n",
      ".  render_posts:cache/posts/2017-03-16-reproducing-olshausens-classical-sparsenet-part-3.html\n",
      ".  render_posts:cache/posts/2017-03-15-reproducing-olshausens-classical-sparsenet-part-2.html\n",
      ".  render_posts:cache/posts/2017-03-14-reproducing-olshausens-classical-sparsenet.html\n",
      ".  render_posts:cache/posts/2017-03-09_probabilities.html\n",
      ".  render_posts:cache/posts/2016-10-01-a-p-pie-named-monte-carlo.html\n",
      ".  render_posts:cache/posts/2016-10-01-une-tarte-au-pi-nommee-monte-carlo.html\n",
      ".  render_posts:cache/posts/2016-07-16-predictive-coding-of-motion-in-an-aperture.html\n",
      ".  render_posts:cache/posts/2016-07-14_static-motion-clouds.html\n",
      ".  render_posts:cache/posts/2016-04-06_irm-clouds.html\n",
      ".  render_posts:cache/posts/2015-11-29-elasticite-scenario-onde.html\n",
      ".  render_posts:cache/posts/2015-11-26-elasticite-scenario-vague.html\n",
      ".  render_posts:cache/posts/2015-04-29-moving-from-mayavi-to-vispy.html\n",
      ".  render_posts:cache/posts/2015-04-26-moviepy-and-python3.html\n",
      ".  render_posts:cache/posts/2015-03-26_the-vancouver-set.html\n",
      ".  render_posts:cache/posts/2014-12-10_orientation_protocol.html\n",
      ".  render_posts:cache/posts/2014-11-15-reading-kml-my-tracks-files-in-ipython.html\n",
      ".  render_posts:cache/posts/2014-11-10_orientation.html\n",
      ".  render_posts:cache/posts/2014-11-10_orientation_biphoton.html\n",
      ".  render_posts:cache/posts/2014-10-21-statistics-of-time-varying-images.html\n",
      ".  render_posts:cache/posts/2014-10-20_motion-plaid.html\n",
      ".  render_posts:cache/posts/2014-10-08_moving-from-mayavi-to-matplotlib.html\n",
      ".  render_posts:cache/posts/2014-06-18-stage-m1-chloe-pasturel-week-3.html\n",
      ".  render_posts:cache/posts/2013-11-12-craac.html\n",
      ".  copy_assets:docs/assets/css/bootblog.css\n",
      ".  copy_assets:docs/assets/css/bootstrap.min.css\n",
      ".  copy_assets:docs/assets/css/theme.css\n",
      ".  copy_assets:docs/assets/js/jquery.min.js\n",
      ".  copy_assets:docs/assets/js/bootstrap.min.js\n",
      ".  copy_assets:docs/assets/js/popper.min.js\n",
      ".  copy_assets:docs/assets/css/nikola_rst.css\n",
      ".  copy_assets:docs/assets/css/nikola_ipython.css\n",
      ".  copy_assets:docs/assets/css/html4css1.css\n",
      ".  copy_assets:docs/assets/css/rst.css\n",
      ".  copy_assets:docs/assets/css/ipython.min.css\n",
      ".  copy_assets:docs/assets/css/rst_base.css\n",
      ".  copy_assets:docs/assets/css/baguetteBox.min.css\n",
      ".  copy_assets:docs/assets/js/html5.js\n",
      ".  copy_assets:docs/assets/js/fancydates.js\n",
      ".  copy_assets:docs/assets/js/gallery.min.js\n",
      ".  copy_assets:docs/assets/js/fancydates.min.js\n",
      ".  copy_assets:docs/assets/js/gallery.js\n",
      ".  copy_assets:docs/assets/js/baguetteBox.min.js\n",
      ".  copy_assets:docs/assets/js/html5shiv-printshiv.min.js\n",
      ".  copy_assets:docs/assets/js/justified-layout.min.js\n",
      ".  copy_assets:docs/assets/js/luxon.min.js\n",
      ".  copy_assets:docs/assets/xml/atom.xsl\n",
      ".  copy_assets:docs/assets/xml/rss.xsl\n",
      ".  copy_assets:docs/assets/css/code.css\n",
      ".  tx3_tag_cloud:docs/assets/js/tx3_tag_cloud.json\n",
      ".  render_galleries:docs/galleries\n",
      ".  render_galleries:docs/galleries/index.html\n",
      ".  render_galleries:docs/galleries/rss.xml\n",
      ".  render_listings:docs/listings/index.html\n",
      "TaskError - taskid:render_listings:docs/listings/index.html\n",
      "PythonAction Error\n",
      "Traceback (most recent call last):\n",
      "  File \"/opt/homebrew/lib/python3.11/site-packages/doit/action.py\", line 461, in execute\n",
      "    returned_value = self.py_callable(*self.args, **kwargs)\n",
      "                     ^^^^^^^^^^^^^^^^^^^^^^^^^^^^^^^^^^^^^^\n",
      "  File \"/opt/homebrew/lib/python3.11/site-packages/nikola/plugins/task/listings.py\", line 178, in render_listing\n",
      "    self.site.render_template('listing.tmpl', out_name, context)\n",
      "  File \"/opt/homebrew/lib/python3.11/site-packages/nikola/nikola.py\", line 1509, in render_template\n",
      "    doc = lxml.html.document_fromstring(data.strip(), parser)\n",
      "          ^^^^^^^^^^^^^^^^^^^^^^^^^^^^^^^^^^^^^^^^^^^^^^^^^^^\n",
      "  File \"/opt/homebrew/lib/python3.11/site-packages/lxml/html/__init__.py\", line 761, in document_fromstring\n",
      "    raise etree.ParserError(\n",
      "lxml.etree.ParserError: Document is empty\n",
      "\n",
      "########################################\n",
      "render_listings:docs/listings/index.html <stdout>:\n",
      "\n"
     ]
    }
   ],
   "source": [
    "!nikola build"
   ]
  },
  {
   "cell_type": "raw",
   "metadata": {},
   "source": [
    "%rm posts/__temp__.mp4 \tposts/debug.log"
   ]
  },
  {
   "cell_type": "code",
   "execution_count": 6,
   "metadata": {},
   "outputs": [
    {
     "name": "stdout",
     "output_type": "stream",
     "text": [
      "Scanning posts.........done!\n",
      "\u001b[1m[2023-05-03 21:29:46] INFO: deploy: => preset 'default'\u001b[0m\n",
      "\u001b[1m[2023-05-03 21:29:46] INFO: deploy: ==> git add posts/* docs/* files/*\u001b[0m\n",
      "\u001b[1m[2023-05-03 21:29:46] INFO: deploy: ==> git commit -am' updating site'\u001b[0m\n",
      "[master f5c1baff]  updating site\n",
      " 2 files changed, 5 insertions(+), 7 deletions(-)\n",
      "\u001b[1m[2023-05-03 21:29:46] INFO: deploy: ==> git push\u001b[0m\n",
      "Enumerating objects: 9, done.\n",
      "Counting objects: 100% (9/9), done.\n",
      "Delta compression using up to 10 threads\n",
      "Compressing objects: 100% (5/5), done.\n",
      "Writing objects: 100% (5/5), 773 bytes | 773.00 KiB/s, done.\n",
      "Total 5 (delta 4), reused 0 (delta 0), pack-reused 0\n",
      "remote: Resolving deltas: 100% (4/4), completed with 4 local objects.\u001b[K\n",
      "To https://github.com/laurentperrinet/sciblog.git\n",
      "   8cacf645..f5c1baff  master -> master\n",
      "\u001b[1m[2023-05-03 21:29:51] INFO: deploy: Successful deployment\u001b[0m\n"
     ]
    }
   ],
   "source": [
    "!nikola deploy"
   ]
  },
  {
   "cell_type": "raw",
   "metadata": {},
   "source": [
    "import time\n",
    "time.sleep(3600*0)"
   ]
  },
  {
   "cell_type": "code",
   "execution_count": null,
   "metadata": {},
   "outputs": [
    {
     "name": "stdout",
     "output_type": "stream",
     "text": [
      "Scanning posts.........done!\n",
      ".  render_posts:timeline_changes\n",
      ".  render_posts:cache/posts/2023-02-02-implementing-a-retinotopic-transform-using-grid_sample-from-pytorch.html\n",
      ".  render_taxonomies:docs/archive.html\n",
      ".  render_taxonomies:docs/index.html\n",
      ".  render_taxonomies:docs/categories/blog.html\n",
      ".  render_taxonomies:docs/categories/deep-learning.html\n",
      ".  render_taxonomies:docs/categories/machine-learning.html\n",
      ".  render_taxonomies:docs/categories/open-science.html\n",
      ".  render_taxonomies:docs/categories/python.html\n",
      ".  render_taxonomies:docs/categories/pytorch.html\n",
      ".  render_taxonomies:docs/categories/retina.html\n",
      ".  render_taxonomies:docs/categories/vision.html\n",
      ".  render_taxonomies:docs/rss.xml\n",
      ".  render_taxonomies:docs/categories/blog.xml\n",
      ".  render_taxonomies:docs/categories/deep-learning.xml\n",
      ".  render_taxonomies:docs/categories/machine-learning.xml\n",
      ".  render_taxonomies:docs/categories/open-science.xml\n",
      ".  render_taxonomies:docs/categories/python.xml\n",
      ".  render_taxonomies:docs/categories/pytorch.xml\n",
      ".  render_taxonomies:docs/categories/retina.xml\n",
      ".  render_taxonomies:docs/categories/vision.xml\n",
      ".  render_pages:docs/posts/2023-02-02-implementing-a-retinotopic-transform-using-grid_sample-from-pytorch.html\n",
      ".  sitemap:docs/sitemap.xml\n",
      ".  sitemap:docs/sitemapindex.xml\n",
      "Scanning posts."
     ]
    }
   ],
   "source": [
    "!nikola build ; nikola deploy"
   ]
  },
  {
   "cell_type": "code",
   "execution_count": null,
   "metadata": {},
   "outputs": [
    {
     "name": "stdout",
     "output_type": "stream",
     "text": [
      "On branch master\n",
      "Your branch is up to date with 'origin/master'.\n",
      "\n",
      "nothing to commit, working tree clean\n"
     ]
    }
   ],
   "source": [
    "!git status"
   ]
  },
  {
   "cell_type": "code",
   "execution_count": null,
   "metadata": {},
   "outputs": [],
   "source": [
    "!open https://laurentperrinet.github.io/sciblog"
   ]
  },
  {
   "cell_type": "markdown",
   "metadata": {},
   "source": [
    "Voilà!"
   ]
  }
 ],
 "metadata": {
  "kernelspec": {
   "display_name": "Python 3",
   "language": "python",
   "name": "python3"
  },
  "language_info": {
   "codemirror_mode": {
    "name": "ipython",
    "version": 3
   },
   "file_extension": ".py",
   "mimetype": "text/x-python",
   "name": "python",
   "nbconvert_exporter": "python",
   "pygments_lexer": "ipython3",
   "version": "3.11.3"
  },
  "toc": {
   "base_numbering": 1,
   "nav_menu": {
    "height": "117px",
    "width": "252px"
   },
   "number_sections": true,
   "sideBar": true,
   "skip_h1_title": false,
   "title_cell": "Table of Contents",
   "title_sidebar": "Contents",
   "toc_cell": false,
   "toc_position": {},
   "toc_section_display": "block",
   "toc_window_display": false
  },
  "vscode": {
   "interpreter": {
    "hash": "949777d72b0d2535278d3dc13498b2535136f6dfe0678499012e853ee9abcab1"
   }
  }
 },
 "nbformat": 4,
 "nbformat_minor": 4
}
