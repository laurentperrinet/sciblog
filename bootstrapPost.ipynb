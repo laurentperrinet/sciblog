{
 "cells": [
  {
   "cell_type": "markdown",
   "metadata": {},
   "source": [
    "# installing and updating nikola"
   ]
  },
  {
   "cell_type": "code",
   "execution_count": null,
   "metadata": {
    "scrolled": true
   },
   "outputs": [],
   "source": [
    "#!python3 -m pip uninstall -y nikola"
   ]
  },
  {
   "cell_type": "code",
   "execution_count": 2,
   "metadata": {
    "ExecuteTime": {
     "end_time": "2018-09-07T10:24:17.333057Z",
     "start_time": "2018-09-07T10:24:14.585077Z"
    }
   },
   "outputs": [
    {
     "name": "stdout",
     "output_type": "stream",
     "text": [
      "Collecting Nikola[extras]\n",
      "  Using cached Nikola-8.0.4-py3-none-any.whl (1.5 MB)\n",
      "Collecting python-dateutil>=2.6.0\n",
      "  Using cached python_dateutil-2.8.1-py2.py3-none-any.whl (227 kB)\n",
      "Collecting mako>=1.0.0\n",
      "  Using cached Mako-1.1.2-py2.py3-none-any.whl (75 kB)\n",
      "Collecting piexif>=1.0.3\n",
      "  Using cached piexif-1.1.3-py2.py3-none-any.whl (20 kB)\n",
      "Collecting Markdown>=3.0.0\n",
      "  Using cached Markdown-3.2.1-py2.py3-none-any.whl (88 kB)\n",
      "Processing /Users/laurentperrinet/Library/Caches/pip/wheels/92/a0/00/8690a57883956a301d91cf4ec999cc0b258b01e3f548f86e89/blinker-1.4-cp37-none-any.whl\n",
      "Collecting setuptools>=24.2.0\n",
      "  Using cached setuptools-46.1.3-py3-none-any.whl (582 kB)\n",
      "Processing /Users/laurentperrinet/Library/Caches/pip/wheels/2a/2f/b1/e60d7dd26d40e3bdfc219cf75ae806298989f33992a0d32c9a/Yapsy-1.12.2-cp37-none-any.whl\n",
      "Processing /Users/laurentperrinet/Library/Caches/pip/wheels/08/2e/3d/50052096754e548b10de94a42182f27a1b18966dfa36c6b968/PyRSS2Gen-1.1-cp37-none-any.whl\n",
      "Collecting docutils>=0.13\n",
      "  Using cached docutils-0.16-py2.py3-none-any.whl (548 kB)\n",
      "Processing /Users/laurentperrinet/Library/Caches/pip/wheels/26/91/60/d3692030c8315e15452cb59723e25a3c5b6d73457486536805/doit-0.32.0-cp37-none-any.whl\n",
      "Collecting unidecode>=0.04.16\n",
      "  Using cached Unidecode-1.1.1-py2.py3-none-any.whl (238 kB)\n",
      "Collecting Pillow>=2.4.0\n",
      "  Using cached Pillow-7.1.1-cp37-cp37m-macosx_10_10_x86_64.whl (2.2 MB)\n",
      "Collecting Pygments>=1.6\n",
      "  Using cached Pygments-2.6.1-py3-none-any.whl (914 kB)\n",
      "Collecting lxml>=3.3.5\n",
      "  Using cached lxml-4.5.0-cp37-cp37m-macosx_10_9_x86_64.whl (4.5 MB)\n",
      "Collecting natsort>=3.5.2\n",
      "  Using cached natsort-7.0.1-py3-none-any.whl (33 kB)\n",
      "Collecting requests>=2.2.0\n",
      "  Using cached requests-2.23.0-py2.py3-none-any.whl (58 kB)\n",
      "Collecting Babel>=2.6.0\n",
      "  Using cached Babel-2.8.0-py2.py3-none-any.whl (8.6 MB)\n",
      "Collecting ipykernel>=4.0.0; extra == \"extras\"\n",
      "  Using cached ipykernel-5.2.0-py3-none-any.whl (117 kB)\n",
      "Processing /Users/laurentperrinet/Library/Caches/pip/wheels/36/93/24/29e375ee74e0f178889e6906cb73e693e9f06a5f589dcee6b9/watchdog-0.10.2-cp37-cp37m-macosx_10_15_x86_64.whl\n",
      "Collecting notebook>=4.0.0; extra == \"extras\"\n",
      "  Using cached notebook-6.0.3-py3-none-any.whl (9.7 MB)\n",
      "Collecting Jinja2>=2.7.2; extra == \"extras\"\n",
      "  Using cached Jinja2-2.11.1-py2.py3-none-any.whl (126 kB)\n",
      "Collecting aiohttp>=2.3.8; extra == \"extras\"\n",
      "  Using cached aiohttp-3.6.2-cp37-cp37m-macosx_10_13_x86_64.whl (642 kB)\n",
      "Collecting ghp-import2>=1.0.0; extra == \"extras\"\n",
      "  Using cached ghp_import2-1.0.1-py2.py3-none-any.whl (7.3 kB)\n",
      "Collecting toml>=0.9.2; extra == \"extras\"\n",
      "  Using cached toml-0.10.0-py2.py3-none-any.whl (25 kB)\n",
      "Processing /Users/laurentperrinet/Library/Caches/pip/wheels/7e/23/42/a8f5ee0e57b34587c8760d9f6d55df930b3516dba7fbfe1da4/husl-4.0.3-cp37-none-any.whl\n",
      "Processing /Users/laurentperrinet/Library/Caches/pip/wheels/07/51/a2/938eebde881c1da850024cc34d2317eaf9a973241142f2dba3/micawber-0.5.1-cp37-none-any.whl\n",
      "Collecting pygal>=2.0.0; extra == \"extras\"\n",
      "  Using cached pygal-2.4.0-py2.py3-none-any.whl (127 kB)\n",
      "Collecting ruamel.yaml>=0.15; extra == \"extras\"\n",
      "  Using cached ruamel.yaml-0.16.10-py2.py3-none-any.whl (111 kB)\n",
      "Processing /Users/laurentperrinet/Library/Caches/pip/wheels/e0/c7/c1/81a2564d08a632c935d320c9bc1d4ea34e35a0287b9b8bc01a/typogrify-2.0.7-py2.py3-none-any.whl\n",
      "Processing /Users/laurentperrinet/Library/Caches/pip/wheels/21/d7/12/bcfef4b55857340f19215866cad6ea4e1bf0039030c9295f70/phpserialize-1.3-cp37-none-any.whl\n",
      "Collecting pyphen>=0.9.1; extra == \"extras\"\n",
      "  Using cached Pyphen-0.9.5-py2.py3-none-any.whl (3.0 MB)\n",
      "Collecting six>=1.5\n",
      "  Using cached six-1.14.0-py2.py3-none-any.whl (10 kB)\n",
      "Collecting MarkupSafe>=0.9.2\n",
      "  Using cached MarkupSafe-1.1.1-cp37-cp37m-macosx_10_6_intel.whl (18 kB)\n",
      "Collecting cloudpickle\n",
      "  Using cached cloudpickle-1.3.0-py2.py3-none-any.whl (26 kB)\n",
      "Processing /Users/laurentperrinet/Library/Caches/pip/wheels/93/46/ae/a9e467624eea1626493fd2263c122098fe89145d9e90eabeea/MacFSEvents-0.8.1-cp37-cp37m-macosx_10_13_x86_64.whl\n",
      "Collecting certifi>=2017.4.17\n",
      "  Using cached certifi-2020.4.5.1-py2.py3-none-any.whl (157 kB)\n",
      "Collecting urllib3!=1.25.0,!=1.25.1,<1.26,>=1.21.1\n",
      "  Using cached urllib3-1.25.8-py2.py3-none-any.whl (125 kB)\n",
      "Collecting chardet<4,>=3.0.2\n",
      "  Using cached chardet-3.0.4-py2.py3-none-any.whl (133 kB)\n",
      "Collecting idna<3,>=2.5\n",
      "  Using cached idna-2.9-py2.py3-none-any.whl (58 kB)\n",
      "Collecting pytz>=2015.7\n",
      "  Using cached pytz-2019.3-py2.py3-none-any.whl (509 kB)\n",
      "Collecting appnope; platform_system == \"Darwin\"\n",
      "  Using cached appnope-0.1.0-py2.py3-none-any.whl (4.0 kB)\n",
      "Collecting ipython>=5.0.0\n",
      "  Using cached ipython-7.13.0-py3-none-any.whl (780 kB)\n",
      "Processing /Users/laurentperrinet/Library/Caches/pip/wheels/7d/14/fa/d88fb5da77d813ea0ffca38a2ab2a052874e9e1142bad0b348/tornado-6.0.4-cp37-cp37m-macosx_10_15_x86_64.whl\n",
      "Collecting jupyter-client\n",
      "  Using cached jupyter_client-6.1.2-py3-none-any.whl (106 kB)\n",
      "Collecting traitlets>=4.1.0\n",
      "  Using cached traitlets-4.3.3-py2.py3-none-any.whl (75 kB)\n",
      "Processing /Users/laurentperrinet/Library/Caches/pip/wheels/0b/04/79/c3b0c3a0266a3cb4376da31e5bfe8bba0c489246968a68e843/pathtools-0.1.2-cp37-none-any.whl\n",
      "Processing /Users/laurentperrinet/Library/Caches/pip/wheels/1c/54/34/fd47cd9b308826cc4292b54449c1899a30251ef3b506bc91ea/prometheus_client-0.7.1-cp37-none-any.whl\n",
      "Collecting jupyter-core>=4.6.1\n",
      "  Using cached jupyter_core-4.6.3-py2.py3-none-any.whl (83 kB)\n",
      "Collecting pyzmq>=17\n",
      "  Using cached pyzmq-19.0.0-cp37-cp37m-macosx_10_9_x86_64.whl (815 kB)\n",
      "Collecting nbformat\n",
      "  Using cached nbformat-5.0.5-py3-none-any.whl (170 kB)\n",
      "Collecting Send2Trash\n",
      "  Using cached Send2Trash-1.5.0-py3-none-any.whl (12 kB)\n",
      "Collecting ipython-genutils\n",
      "  Using cached ipython_genutils-0.2.0-py2.py3-none-any.whl (26 kB)\n",
      "Collecting nbconvert\n",
      "  Using cached nbconvert-5.6.1-py2.py3-none-any.whl (455 kB)\n",
      "Collecting terminado>=0.8.1\n",
      "  Using cached terminado-0.8.3-py2.py3-none-any.whl (33 kB)\n",
      "Collecting yarl<2.0,>=1.0\n",
      "  Using cached yarl-1.4.2-cp37-cp37m-macosx_10_13_x86_64.whl (125 kB)\n",
      "Collecting async-timeout<4.0,>=3.0\n",
      "  Using cached async_timeout-3.0.1-py3-none-any.whl (8.2 kB)\n",
      "Collecting attrs>=17.3.0\n",
      "  Using cached attrs-19.3.0-py2.py3-none-any.whl (39 kB)\n",
      "Collecting multidict<5.0,>=4.5\n",
      "  Using cached multidict-4.7.5-cp37-cp37m-macosx_10_13_x86_64.whl (48 kB)\n",
      "Collecting ruamel.yaml.clib>=0.1.2; platform_python_implementation == \"CPython\" and python_version < \"3.9\"\n",
      "  Using cached ruamel.yaml.clib-0.2.0-cp37-cp37m-macosx_10_9_x86_64.whl (147 kB)\n",
      "Collecting smartypants>=1.8.3\n",
      "  Using cached smartypants-2.0.1-py2.py3-none-any.whl (9.9 kB)\n",
      "Collecting pickleshare\n",
      "  Using cached pickleshare-0.7.5-py2.py3-none-any.whl (6.9 kB)\n",
      "Collecting prompt-toolkit!=3.0.0,!=3.0.1,<3.1.0,>=2.0.0\n",
      "  Using cached prompt_toolkit-3.0.5-py3-none-any.whl (351 kB)\n",
      "Collecting decorator\n",
      "  Using cached decorator-4.4.2-py2.py3-none-any.whl (9.2 kB)\n",
      "Collecting pexpect; sys_platform != \"win32\"\n",
      "  Using cached pexpect-4.8.0-py2.py3-none-any.whl (59 kB)\n",
      "Processing /Users/laurentperrinet/Library/Caches/pip/wheels/98/b0/dd/29e28ff615af3dda4c67cab719dd51357597eabff926976b45/backcall-0.1.0-cp37-none-any.whl\n",
      "Collecting jedi>=0.10\n",
      "  Using cached jedi-0.16.0-py2.py3-none-any.whl (1.1 MB)\n",
      "Collecting jsonschema!=2.5.0,>=2.4\n",
      "  Using cached jsonschema-3.2.0-py2.py3-none-any.whl (56 kB)\n",
      "Collecting testpath\n",
      "  Using cached testpath-0.4.4-py2.py3-none-any.whl (163 kB)\n",
      "Collecting bleach\n",
      "  Using cached bleach-3.1.4-py2.py3-none-any.whl (151 kB)\n",
      "Collecting mistune<2,>=0.8.1\n",
      "  Using cached mistune-0.8.4-py2.py3-none-any.whl (16 kB)\n",
      "Collecting entrypoints>=0.2.2\n",
      "  Using cached entrypoints-0.3-py2.py3-none-any.whl (11 kB)\n",
      "Collecting defusedxml\n",
      "  Using cached defusedxml-0.6.0-py2.py3-none-any.whl (23 kB)\n",
      "Processing /Users/laurentperrinet/Library/Caches/pip/wheels/39/01/56/f1b08a6275acc59e846fa4c1e1b65dbc1919f20157d9e66c20/pandocfilters-1.4.2-cp37-none-any.whl\n",
      "Collecting ptyprocess; os_name != \"nt\"\n",
      "  Using cached ptyprocess-0.6.0-py2.py3-none-any.whl (39 kB)\n",
      "Collecting wcwidth\n",
      "  Using cached wcwidth-0.1.9-py2.py3-none-any.whl (19 kB)\n",
      "Collecting parso>=0.5.2\n",
      "  Using cached parso-0.6.2-py2.py3-none-any.whl (97 kB)\n",
      "Collecting importlib-metadata; python_version < \"3.8\"\n",
      "  Using cached importlib_metadata-1.6.0-py2.py3-none-any.whl (30 kB)\n",
      "Processing /Users/laurentperrinet/Library/Caches/pip/wheels/22/52/11/f0920f95c23ed7d2d0b05f2b7b2f4509e87a20cfe8ea43d987/pyrsistent-0.16.0-cp37-cp37m-macosx_10_15_x86_64.whl\n",
      "Collecting webencodings\n",
      "  Using cached webencodings-0.5.1-py2.py3-none-any.whl (11 kB)\n",
      "Collecting zipp>=0.5\n",
      "  Using cached zipp-3.1.0-py3-none-any.whl (4.9 kB)\n",
      "\u001b[31mERROR: tensorflow 2.1.0 has requirement gast==0.2.2, but you'll have gast 0.3.3 which is incompatible.\u001b[0m\n",
      "\u001b[31mERROR: tensorflow 2.1.0 has requirement tensorboard<2.2.0,>=2.1.0, but you'll have tensorboard 2.2.0 which is incompatible.\u001b[0m\n",
      "\u001b[31mERROR: python-language-server 0.31.9 has requirement jedi<0.16,>=0.14.1, but you'll have jedi 0.16.0 which is incompatible.\u001b[0m\n",
      "\u001b[31mERROR: python-language-server 0.31.9 has requirement ujson<=1.35; platform_system != \"Windows\", but you'll have ujson 2.0.3 which is incompatible.\u001b[0m\n",
      "\u001b[31mERROR: napari 0.2.12 has requirement jupyter-client<6.0.0, but you'll have jupyter-client 6.1.2 which is incompatible.\u001b[0m\n",
      "\u001b[31mERROR: jupyterlab 2.0.1 has requirement jupyterlab-server~=1.0.0, but you'll have jupyterlab-server 1.1.0 which is incompatible.\u001b[0m\n",
      "\u001b[31mERROR: jupyterlab-git 0.10.0 has requirement nbdime<2.0.0,>=1.1.0, but you'll have nbdime 2.0.0 which is incompatible.\u001b[0m\n",
      "\u001b[31mERROR: gym 0.17.1 has requirement pyglet<=1.5.0,>=1.4.0, but you'll have pyglet 1.5.2 which is incompatible.\u001b[0m\n",
      "Installing collected packages: six, python-dateutil, MarkupSafe, mako, piexif, setuptools, Markdown, blinker, Yapsy, PyRSS2Gen, docutils, cloudpickle, macfsevents, doit, unidecode, Pillow, Pygments, lxml, natsort, certifi, urllib3, chardet, idna, requests, pytz, Babel, appnope, pickleshare, ipython-genutils, decorator, traitlets, wcwidth, prompt-toolkit, ptyprocess, pexpect, backcall, parso, jedi, ipython, tornado, jupyter-core, pyzmq, jupyter-client, ipykernel, pathtools, watchdog, prometheus-client, Jinja2, zipp, importlib-metadata, attrs, pyrsistent, jsonschema, nbformat, Send2Trash, testpath, webencodings, bleach, mistune, entrypoints, defusedxml, pandocfilters, nbconvert, terminado, notebook, multidict, yarl, async-timeout, aiohttp, ghp-import2, toml, husl, micawber, pygal, ruamel.yaml.clib, ruamel.yaml, smartypants, typogrify, phpserialize, pyphen, Nikola\n",
      "  Attempting uninstall: six\n",
      "    Found existing installation: six 1.14.0\n",
      "    Uninstalling six-1.14.0:\n",
      "      Successfully uninstalled six-1.14.0\n",
      "  Attempting uninstall: python-dateutil\n",
      "    Found existing installation: python-dateutil 2.8.1\n",
      "    Uninstalling python-dateutil-2.8.1:\n",
      "      Successfully uninstalled python-dateutil-2.8.1\n",
      "  Attempting uninstall: MarkupSafe\n",
      "    Found existing installation: MarkupSafe 1.1.1\n",
      "    Uninstalling MarkupSafe-1.1.1:\n",
      "      Successfully uninstalled MarkupSafe-1.1.1\n",
      "  Attempting uninstall: mako\n",
      "    Found existing installation: Mako 1.1.2\n",
      "    Uninstalling Mako-1.1.2:\n",
      "      Successfully uninstalled Mako-1.1.2\n",
      "  Attempting uninstall: piexif\n",
      "    Found existing installation: piexif 1.1.3\n",
      "    Uninstalling piexif-1.1.3:\n",
      "      Successfully uninstalled piexif-1.1.3\n",
      "  Attempting uninstall: setuptools\n",
      "    Found existing installation: setuptools 46.1.3\n",
      "    Uninstalling setuptools-46.1.3:\n",
      "      Successfully uninstalled setuptools-46.1.3\n",
      "  Attempting uninstall: Markdown\n",
      "    Found existing installation: Markdown 3.2.1\n",
      "    Uninstalling Markdown-3.2.1:\n",
      "      Successfully uninstalled Markdown-3.2.1\n",
      "  Attempting uninstall: blinker\n",
      "    Found existing installation: blinker 1.4\n",
      "    Uninstalling blinker-1.4:\n",
      "      Successfully uninstalled blinker-1.4\n",
      "  Attempting uninstall: Yapsy\n",
      "    Found existing installation: Yapsy 1.12.2\n",
      "    Uninstalling Yapsy-1.12.2:\n",
      "      Successfully uninstalled Yapsy-1.12.2\n",
      "  Attempting uninstall: PyRSS2Gen\n",
      "    Found existing installation: PyRSS2Gen 1.1\n",
      "    Uninstalling PyRSS2Gen-1.1:\n",
      "      Successfully uninstalled PyRSS2Gen-1.1\n",
      "  Attempting uninstall: docutils\n",
      "    Found existing installation: docutils 0.16\n",
      "    Uninstalling docutils-0.16:\n",
      "      Successfully uninstalled docutils-0.16\n",
      "  Attempting uninstall: cloudpickle\n",
      "    Found existing installation: cloudpickle 1.3.0\n",
      "    Uninstalling cloudpickle-1.3.0:\n",
      "      Successfully uninstalled cloudpickle-1.3.0\n",
      "  Attempting uninstall: macfsevents\n",
      "    Found existing installation: MacFSEvents 0.8.1\n",
      "    Uninstalling MacFSEvents-0.8.1:\n",
      "      Successfully uninstalled MacFSEvents-0.8.1\n",
      "  Rolling back uninstall of MacFSEvents\n",
      "  Moving to /usr/local/lib/python3.7/site-packages/MacFSEvents-0.8.1.dist-info/\n",
      "   from /usr/local/lib/python3.7/site-packages/~acFSEvents-0.8.1.dist-info\n",
      "  Moving to /usr/local/lib/python3.7/site-packages/__pycache__/fsevents.cpython-37.pyc\n",
      "   from /private/var/folders/3p/m0g52j9j69z3gj8ktpgg1dm00000gn/T/pip-uninstall-7z3_8eod/fsevents.cpython-37.pyc\n",
      "  Moving to /usr/local/lib/python3.7/site-packages/_fsevents.cpython-37m-darwin.so\n",
      "   from /private/var/folders/3p/m0g52j9j69z3gj8ktpgg1dm00000gn/T/pip-uninstall-nbiwfbxj/_fsevents.cpython-37m-darwin.so\n",
      "  Moving to /usr/local/lib/python3.7/site-packages/fsevents.py\n",
      "   from /private/var/folders/3p/m0g52j9j69z3gj8ktpgg1dm00000gn/T/pip-uninstall-nbiwfbxj/fsevents.py\n",
      "\u001b[31mERROR: Could not install packages due to an EnvironmentError: [Errno 13] Permission denied: '/usr/local/LICENSE.txt'\n",
      "Consider using the `--user` option or check the permissions.\n",
      "\u001b[0m\n"
     ]
    }
   ],
   "source": [
    "!python3 -m pip install -U \"Nikola[extras]\""
   ]
  },
  {
   "cell_type": "code",
   "execution_count": 2,
   "metadata": {
    "ExecuteTime": {
     "end_time": "2018-09-07T10:24:48.097536Z",
     "start_time": "2018-09-07T10:24:43.118411Z"
    }
   },
   "outputs": [
    {
     "name": "stdout",
     "output_type": "stream",
     "text": [
      "Collecting rst2html5\n",
      "  Downloading https://files.pythonhosted.org/packages/b9/a6/8ae3295fb425068eb71a234fe4de6c79d63e60ce11fc15fd267b72b1ea5c/rst2html5-1.10.2-py2.py3-none-any.whl\n",
      "Collecting pygments==2.0.2\n",
      "\u001b[?25l  Downloading https://files.pythonhosted.org/packages/87/e3/cadb43a197476ec0adef73292ea7ea188f2b0531188eebc150905d3ed78c/Pygments-2.0.2-py3-none-any.whl (672kB)\n",
      "\u001b[K     |████████████████████████████████| 675kB 542kB/s eta 0:00:01\n",
      "\u001b[?25hCollecting docutils>=0.14\n",
      "  Using cached https://files.pythonhosted.org/packages/22/cd/a6aa959dca619918ccb55023b4cb151949c64d4d5d55b3f4ffd7eee0c6e8/docutils-0.15.2-py3-none-any.whl\n",
      "Collecting genshi>=0.7\n",
      "\u001b[?25l  Downloading https://files.pythonhosted.org/packages/0b/cb/79f9156d7ba248239ddc16662d696b1bb20628e9c0a049448e79b806b2c2/Genshi-0.7.3-py3-none-any.whl (178kB)\n",
      "\u001b[K     |████████████████████████████████| 184kB 345kB/s eta 0:00:01\n",
      "\u001b[31mERROR: voila 0.1.20 has requirement jupyter-server<0.2.0,>=0.1.0, but you'll have jupyter-server 0.2.0 which is incompatible.\u001b[0m\n",
      "\u001b[31mERROR: voila 0.1.20 has requirement pygments<3,>=2.4.1, but you'll have pygments 2.0.2 which is incompatible.\u001b[0m\n",
      "\u001b[31mERROR: napari 0.2.8 has requirement numcodecs!=0.6.4, but you'll have numcodecs 0.6.4 which is incompatible.\u001b[0m\n",
      "\u001b[31mERROR: jupyterlab-pygments 0.1.0 has requirement pygments<3,>=2.4.1, but you'll have pygments 2.0.2 which is incompatible.\u001b[0m\n",
      "\u001b[31mERROR: jupyter-console 6.0.0 has requirement prompt-toolkit<2.1.0,>=2.0.0, but you'll have prompt-toolkit 3.0.2 which is incompatible.\u001b[0m\n",
      "\u001b[?25hInstalling collected packages: pygments, docutils, genshi, rst2html5\n",
      "  Found existing installation: Pygments 2.5.2\n",
      "    Uninstalling Pygments-2.5.2:\n",
      "      Successfully uninstalled Pygments-2.5.2\n",
      "  Found existing installation: docutils 0.15.2\n",
      "    Uninstalling docutils-0.15.2:\n",
      "      Successfully uninstalled docutils-0.15.2\n",
      "  Found existing installation: Genshi 0.7.3\n",
      "    Uninstalling Genshi-0.7.3:\n",
      "      Successfully uninstalled Genshi-0.7.3\n",
      "  Found existing installation: rst2html5 1.10.2\n",
      "    Uninstalling rst2html5-1.10.2:\n",
      "      Successfully uninstalled rst2html5-1.10.2\n",
      "Successfully installed docutils-0.15.2 genshi-0.7.3 pygments-2.0.2 rst2html5-1.10.2\n"
     ]
    }
   ],
   "source": [
    "#!python3 -m pip uninstall -y rst2html5\n",
    "!python3 -m pip install -U --force rst2html5"
   ]
  },
  {
   "cell_type": "code",
   "execution_count": 3,
   "metadata": {
    "ExecuteTime": {
     "end_time": "2018-09-07T10:24:57.383520Z",
     "start_time": "2018-09-07T10:24:54.879696Z"
    }
   },
   "outputs": [
    {
     "name": "stdout",
     "output_type": "stream",
     "text": [
      "Collecting html5lib\n",
      "\u001b[?25l  Downloading https://files.pythonhosted.org/packages/a5/62/bbd2be0e7943ec8504b517e62bab011b4946e1258842bc159e5dfde15b96/html5lib-1.0.1-py2.py3-none-any.whl (117kB)\n",
      "\u001b[K     |████████████████████████████████| 122kB 193kB/s eta 0:00:01\n",
      "\u001b[?25hCollecting six>=1.9\n",
      "  Using cached https://files.pythonhosted.org/packages/65/26/32b8464df2a97e6dd1b656ed26b2c194606c16fe163c695a992b36c11cdf/six-1.13.0-py2.py3-none-any.whl\n",
      "Collecting webencodings\n",
      "  Using cached https://files.pythonhosted.org/packages/f4/24/2a3e3df732393fed8b3ebf2ec078f05546de641fe1b667ee316ec1dcf3b7/webencodings-0.5.1-py2.py3-none-any.whl\n",
      "\u001b[31mERROR: tensorflow 2.0.0 has requirement gast==0.2.2, but you'll have gast 0.3.2 which is incompatible.\u001b[0m\n",
      "\u001b[31mERROR: tensorflow 2.0.0 has requirement tensorboard<2.1.0,>=2.0.0, but you'll have tensorboard 2.1.0 which is incompatible.\u001b[0m\n",
      "\u001b[31mERROR: tensorflow 2.0.0 has requirement tensorflow-estimator<2.1.0,>=2.0.0, but you'll have tensorflow-estimator 2.1.0 which is incompatible.\u001b[0m\n",
      "\u001b[31mERROR: napari 0.2.8 has requirement numcodecs!=0.6.4, but you'll have numcodecs 0.6.4 which is incompatible.\u001b[0m\n",
      "Installing collected packages: six, webencodings, html5lib\n",
      "  Found existing installation: six 1.13.0\n",
      "    Uninstalling six-1.13.0:\n",
      "      Successfully uninstalled six-1.13.0\n",
      "  Found existing installation: webencodings 0.5.1\n",
      "    Uninstalling webencodings-0.5.1:\n",
      "      Successfully uninstalled webencodings-0.5.1\n",
      "  Found existing installation: html5lib 1.0.1\n",
      "    Uninstalling html5lib-1.0.1:\n",
      "      Successfully uninstalled html5lib-1.0.1\n",
      "Successfully installed html5lib-1.0.1 six-1.13.0 webencodings-0.5.1\n"
     ]
    }
   ],
   "source": [
    "#!pip uninstall -y html5lib\n",
    "!python3 -m pip install -U --force html5lib"
   ]
  },
  {
   "cell_type": "code",
   "execution_count": 3,
   "metadata": {
    "ExecuteTime": {
     "end_time": "2018-09-07T10:25:37.163105Z",
     "start_time": "2018-09-07T10:25:34.804602Z"
    }
   },
   "outputs": [
    {
     "name": "stdout",
     "output_type": "stream",
     "text": [
      "Nikola v8.0.4\n"
     ]
    }
   ],
   "source": [
    "!nikola version"
   ]
  },
  {
   "cell_type": "code",
   "execution_count": 4,
   "metadata": {
    "ExecuteTime": {
     "end_time": "2018-09-07T10:25:40.747475Z",
     "start_time": "2018-09-07T10:25:38.376282Z"
    }
   },
   "outputs": [
    {
     "name": "stdout",
     "output_type": "stream",
     "text": [
      "Nikola v8.0.4\n",
      "Nikola is up-to-date\n"
     ]
    }
   ],
   "source": [
    "!nikola version --check"
   ]
  },
  {
   "cell_type": "markdown",
   "metadata": {},
   "source": [
    "# Adding a new post"
   ]
  },
  {
   "cell_type": "code",
   "execution_count": 5,
   "metadata": {
    "ExecuteTime": {
     "end_time": "2018-11-05T14:34:58.343345Z",
     "start_time": "2018-11-05T14:34:58.224501Z"
    }
   },
   "outputs": [
    {
     "name": "stdout",
     "output_type": "stream",
     "text": [
      "Wed Apr  8 16:28:01 CEST 2020\n"
     ]
    }
   ],
   "source": [
    "!date\n",
    "import datetime"
   ]
  },
  {
   "cell_type": "code",
   "execution_count": 6,
   "metadata": {
    "ExecuteTime": {
     "end_time": "2018-11-05T14:34:58.697822Z",
     "start_time": "2018-11-05T14:34:58.694703Z"
    }
   },
   "outputs": [
    {
     "name": "stdout",
     "output_type": "stream",
     "text": [
      "2020-04-08 16:28:01.472125\n"
     ]
    }
   ],
   "source": [
    "print(datetime.datetime.now())"
   ]
  },
  {
   "cell_type": "code",
   "execution_count": 7,
   "metadata": {
    "ExecuteTime": {
     "end_time": "2018-11-05T14:34:59.176807Z",
     "start_time": "2018-11-05T14:34:59.173942Z"
    }
   },
   "outputs": [
    {
     "name": "stdout",
     "output_type": "stream",
     "text": [
      "2020-04-08\n"
     ]
    }
   ],
   "source": [
    "now = datetime.datetime.now().date()\n",
    "date = now.isoformat()#[2:]\n",
    "print(date)"
   ]
  },
  {
   "cell_type": "raw",
   "metadata": {},
   "source": [
    "date = '2019-10-07'"
   ]
  },
  {
   "cell_type": "code",
   "execution_count": 8,
   "metadata": {
    "ExecuteTime": {
     "end_time": "2018-11-05T14:35:00.048738Z",
     "start_time": "2018-11-05T14:34:59.677518Z"
    }
   },
   "outputs": [],
   "source": [
    "from nikola import utils"
   ]
  },
  {
   "cell_type": "code",
   "execution_count": 9,
   "metadata": {
    "ExecuteTime": {
     "end_time": "2018-11-05T14:40:53.234519Z",
     "start_time": "2018-11-05T14:40:53.230930Z"
    }
   },
   "outputs": [],
   "source": [
    "tags_list = [\n",
    "#    'python', \n",
    "#    'ipython', \n",
    "#    'nikola', \n",
    "#    'blog', \n",
    "#    'themes', \n",
    "#    'pupil',\n",
    "    'psychophysics',\n",
    "#    'outreach',    'grand-public',\n",
    "#   'behavior',\n",
    "#    'povray', \n",
    "#    'elasticite', \n",
    "#    'art', \n",
    "#    'trames', \n",
    "#    'math',\n",
    "#    'bicv', \n",
    "#    'SLIP', \n",
    "#    'LogGabor', \n",
    "#    'SHL_scripts', \n",
    "#    'sparse', \n",
    "#    'Matching Pursuit',\n",
    "#    'Motion Particles',\n",
    "#    'holoviews',\n",
    "    'pytorch',\n",
    "#    'deep-learning',\n",
    "#    'machine-learning',\n",
    "#    'moviepy', \n",
    "     'numpy', \n",
    "#    'vispy', \n",
    "#    'neural',\n",
    "#    'motionclouds',\n",
    "#    'motion',\n",
    "#    'pynn',\n",
    "#    'saccades',\n",
    "#    'Free Energy',\n",
    "#    'learning',\n",
    "    'open-science',\n",
    "#    'shell',\n",
    "#    'vim',\n",
    "    'orientation',\n",
    "#    'vision',\n",
    "#    'v1',\n",
    "]\n",
    "formt = 'rest'\n",
    "formt = 'markdown'\n",
    "formt = 'ipynb'"
   ]
  },
  {
   "cell_type": "code",
   "execution_count": 10,
   "metadata": {
    "ExecuteTime": {
     "end_time": "2018-11-05T14:41:01.475071Z",
     "start_time": "2018-11-05T14:41:00.415148Z"
    }
   },
   "outputs": [
    {
     "name": "stdout",
     "output_type": "stream",
     "text": [
      "PURPOSE\n",
      "    create a new blog post or site page\n",
      "\n",
      "USAGE\n",
      "    nikola new_post [options] [path]\n",
      "\n",
      "OPTIONS\n",
      "\n",
      "    new_post\n",
      "      -p, --page\n",
      "            Create a page instead of a blog post. (see also: `nikola\n",
      "            new_page`)  (config: is_page)\n",
      "      -t ARG, --title=ARG\n",
      "            Title for the post.  (config: title)\n",
      "      -a ARG, --author=ARG\n",
      "            Author of the post.  (config: author)\n",
      "      --tags=ARG\n",
      "            Comma-separated tags for the post.  (config: tags)\n",
      "      -1\n",
      "            Create the post with embedded metadata (single file\n",
      "            format)  (config: onefile)\n",
      "      -2\n",
      "            Create the post with separate metadata (two file format)\n",
      "            (config: twofile)\n",
      "      -e\n",
      "            Open the post (and meta file, if any) in $EDITOR after\n",
      "            creation.  (config: edit)\n",
      "      -f ARG, --format=ARG\n",
      "            Markup format for the post (use --available-formats for\n",
      "            list)  (config: content_format)\n",
      "      -F, --available-formats\n",
      "            List all available input formats  (config: available-\n",
      "            formats)\n",
      "      -s\n",
      "            Schedule the post based on recurrence rule  (config:\n",
      "            schedule)\n",
      "      -i ARG, --import=ARG\n",
      "            Import an existing file instead of creating a placeholder\n",
      "            (config: import)\n",
      "      -d, --date-path\n",
      "            Create post with date path (eg. year/month/day, see\n",
      "            NEW_POST_DATE_PATH_FORMAT in config)  (config: date-path)\n"
     ]
    }
   ],
   "source": [
    "!nikola new_post -h"
   ]
  },
  {
   "cell_type": "code",
   "execution_count": 11,
   "metadata": {
    "ExecuteTime": {
     "end_time": "2018-11-05T14:41:01.475071Z",
     "start_time": "2018-11-05T14:41:00.415148Z"
    }
   },
   "outputs": [
    {
     "name": "stdout",
     "output_type": "stream",
     "text": [
      "Available input formats:\n",
      "\n",
      " NAME        DESCRIPTION       EXTENSIONS\n",
      "\n",
      " html        HTML              .html, .htm\n",
      " ipynb       Jupyter Notebook  .ipynb\n",
      " markdown    Markdown          .md, .mdown, .markdown\n",
      " rest        reStructuredText  .rst, .txt\n",
      "!php         PHP               .php\n",
      "~pandoc      Pandoc            (disabled: not in COMPILERS)\n",
      "~rest_html5  rest_html5        (disabled: not in COMPILERS)\n",
      "\n",
      "    More compilers are available in the Plugins Index.\n",
      "\n",
      "    Compilers marked with ! and ~ require additional configuration:\n",
      "        ! not in the POSTS/PAGES tuples and any post scanners (unused)\n",
      "        ~ not in the COMPILERS dict (disabled)\n",
      "    Read more: https://getnikola.com/handbook.html#configuring-other-input-formats\n"
     ]
    }
   ],
   "source": [
    "!nikola new_post  --available-formats"
   ]
  },
  {
   "cell_type": "code",
   "execution_count": 12,
   "metadata": {
    "ExecuteTime": {
     "end_time": "2018-11-05T14:41:08.343633Z",
     "start_time": "2018-11-05T14:41:02.455292Z"
    }
   },
   "outputs": [
    {
     "name": "stdout",
     "output_type": "stream",
     "text": [
      "Creating New Post\n",
      "-----------------\n",
      "\n",
      "Title: 2020-04-08 fitting a psychometric curve using pyTorch\n",
      "Scanning posts...........done!\n",
      "\u001b[1;33m[2020-04-08T16:29:06Z] WARNING: ipynb: No kernel specified, assuming \"python3\".\u001b[0m\n",
      "\u001b[1m[2020-04-08T16:29:06Z] INFO: new_post: Your post's metadata is at: posts/2020-04-08-fitting-a-psychometric-curve-using-pytorch.meta\u001b[0m\n",
      "\u001b[1m[2020-04-08T16:29:06Z] INFO: new_post: Your post's text is at: posts/2020-04-08-fitting-a-psychometric-curve-using-pytorch.ipynb\u001b[0m\n"
     ]
    }
   ],
   "source": [
    "tags = ', '.join(tags_list)\n",
    "title = date + ' ' + \"fitting a psychometric curve using pyTorch\"\n",
    "#title = '2017-12-13 accessing the data from a pupil recording'\n",
    "!nikola new_post -f \"{formt}\" -2 -t \"{title}\" --tags=\"{tags}\""
   ]
  },
  {
   "cell_type": "code",
   "execution_count": 13,
   "metadata": {
    "ExecuteTime": {
     "end_time": "2018-11-08T10:17:49.012273Z",
     "start_time": "2018-11-08T10:17:49.005411Z"
    }
   },
   "outputs": [
    {
     "name": "stdout",
     "output_type": "stream",
     "text": [
      "posts/2020-04-08-fitting-a-psychometric-curve-using-pytorch.ipynb\n"
     ]
    }
   ],
   "source": [
    "fname = utils.os.path.join('posts', utils.slugify(title) + '.' + formt)\n",
    "print(fname)"
   ]
  },
  {
   "cell_type": "code",
   "execution_count": 15,
   "metadata": {
    "ExecuteTime": {
     "end_time": "2018-11-05T14:41:18.822843Z",
     "start_time": "2018-11-05T14:41:18.813958Z"
    }
   },
   "outputs": [
    {
     "data": {
      "text/plain": [
       "'posts/2020-01-08-changing-the-global-phase-of-a-motion-cloud.ipynb'"
      ]
     },
     "execution_count": 15,
     "metadata": {},
     "output_type": "execute_result"
    }
   ],
   "source": [
    "utils.shutil.copy('template.ipynb', fname)"
   ]
  },
  {
   "cell_type": "markdown",
   "metadata": {},
   "source": [
    "## Copying existing notebooks"
   ]
  },
  {
   "cell_type": "code",
   "execution_count": 36,
   "metadata": {
    "ExecuteTime": {
     "end_time": "2018-11-05T14:41:18.822843Z",
     "start_time": "2018-11-05T14:41:18.813958Z"
    }
   },
   "outputs": [
    {
     "data": {
      "text/plain": [
       "'posts/2020-04-08-fitting-a-psychometric-curve-using-pytorch.ipynb'"
      ]
     },
     "execution_count": 36,
     "metadata": {},
     "output_type": "execute_result"
    }
   ],
   "source": [
    "utils.shutil.copy('/Users/laurentperrinet/quantic/science/OBV1/jennafradin_MSc-Internship/Notebooks/W13/10_theory-fitting_psychometric.ipynb', fname)"
   ]
  },
  {
   "cell_type": "code",
   "execution_count": 15,
   "metadata": {},
   "outputs": [
    {
     "name": "stdout",
     "output_type": "stream",
     "text": [
      "posts/2015-05-22-a-hitchhiker-guide-to-matching-pursuit.ipynb\n",
      "posts/2015-05-22-a-hitchhiker-guide-to-matching-pursuit.meta\n"
     ]
    }
   ],
   "source": [
    "%ls posts/2015*hitch*"
   ]
  },
  {
   "cell_type": "code",
   "execution_count": 16,
   "metadata": {
    "ExecuteTime": {
     "end_time": "2018-11-05T14:41:18.822843Z",
     "start_time": "2018-11-05T14:41:18.813958Z"
    }
   },
   "outputs": [
    {
     "data": {
      "text/plain": [
       "'posts/2019-11-28-role-of-gamma-correction-in-sparse-coding.ipynb'"
      ]
     },
     "execution_count": 16,
     "metadata": {},
     "output_type": "execute_result"
    }
   ],
   "source": [
    "utils.shutil.copy('posts/2015-05-22-a-hitchhiker-guide-to-matching-pursuit.ipynb', fname)"
   ]
  },
  {
   "cell_type": "code",
   "execution_count": null,
   "metadata": {
    "ExecuteTime": {
     "end_time": "2018-11-08T10:17:33.863368Z",
     "start_time": "2018-11-08T10:17:33.822970Z"
    }
   },
   "outputs": [],
   "source": [
    "utils.shutil.copy('/Users/laurentperrinet/pool/TimeWarp/2018-11-05_Statistics of the natural input to a ring model.ipynb', fname)\n",
    "utils.shutil.copy('/Users/laurentperrinet/pool/TimeWarp/figs/2018-11-05_Ring_input.mp4', 'files/')"
   ]
  },
  {
   "cell_type": "code",
   "execution_count": null,
   "metadata": {},
   "outputs": [],
   "source": [
    "utils.shutil.copy('/Users/laurentperrinet//science/pupil/dev/2017-12-13 accessing the data from a pupil recording.ipynb', 'posts/2017-12-13-accessing-the-data-from-a-pupil-recording.ipynb')"
   ]
  },
  {
   "cell_type": "code",
   "execution_count": null,
   "metadata": {
    "collapsed": true,
    "jupyter": {
     "outputs_hidden": true
    }
   },
   "outputs": [],
   "source": [
    "titles = ['2017-03-29 testing COMPs-Pcum', '2017-03-29 testing COMPs-fastPcum', '2017-03-29 testing COMPs-fastPcum_scripted']"
   ]
  },
  {
   "cell_type": "code",
   "execution_count": null,
   "metadata": {},
   "outputs": [],
   "source": [
    "tags = ', '.join(tags_list)\n",
    "for title in titles:\n",
    "    !nikola new_post -f \"{formt}\" -2 -t \"{title}\" --tags=\"{tags}\""
   ]
  },
  {
   "cell_type": "code",
   "execution_count": null,
   "metadata": {},
   "outputs": [],
   "source": [
    "for title in titles:\n",
    "    fname = utils.os.path.join('posts', utils.slugify(title) + '.' + formt)\n",
    "    print(fname)\n",
    "    import os\n",
    "    home = os.environ['HOME']\n",
    "    print(home)\n",
    "    filepath = home +  \"/science/VB_These/Rapport d'avancement/2017-03/\"\n",
    "    print(filepath + title +'.ipynb')\n",
    "    utils.shutil.copy(filepath + title +'.ipynb', fname)"
   ]
  },
  {
   "cell_type": "markdown",
   "metadata": {},
   "source": [
    "\n",
    "TODO : 2017-05-23-reproducing-olshausens-classical-sparsenet-part-5.ipynb and others from 2017-05-23-reproducing-olshausens-classical-sparsenet-part-5.ipynb\n"
   ]
  },
  {
   "cell_type": "raw",
   "metadata": {},
   "source": [
    "Below, I detail some thoughts on why it is a perfect preamble for most ipython notebooks.\n",
    "\n",
    "<!-- TEASER_END -->"
   ]
  },
  {
   "cell_type": "code",
   "execution_count": null,
   "metadata": {
    "collapsed": true,
    "jupyter": {
     "outputs_hidden": true
    }
   },
   "outputs": [],
   "source": [
    "import nikola"
   ]
  },
  {
   "cell_type": "code",
   "execution_count": null,
   "metadata": {
    "collapsed": true,
    "jupyter": {
     "outputs_hidden": true
    }
   },
   "outputs": [],
   "source": [
    "nikola.utils."
   ]
  },
  {
   "cell_type": "code",
   "execution_count": null,
   "metadata": {
    "collapsed": true,
    "jupyter": {
     "outputs_hidden": true
    }
   },
   "outputs": [],
   "source": [
    "from nikola.plugins import commands"
   ]
  },
  {
   "cell_type": "code",
   "execution_count": null,
   "metadata": {
    "collapsed": true,
    "jupyter": {
     "outputs_hidden": true
    }
   },
   "outputs": [],
   "source": [
    "plugins.absolute_import"
   ]
  },
  {
   "cell_type": "code",
   "execution_count": null,
   "metadata": {
    "collapsed": true,
    "jupyter": {
     "outputs_hidden": true
    }
   },
   "outputs": [],
   "source": [
    "!nikola help new_post "
   ]
  },
  {
   "cell_type": "code",
   "execution_count": null,
   "metadata": {
    "collapsed": true,
    "jupyter": {
     "outputs_hidden": true
    }
   },
   "outputs": [],
   "source": [
    "base_url = \"http://127.0.0.1:\"\n",
    "port = 8889\n",
    "\n",
    "from nikola import utils\n",
    "notebook = \"/notebooks/posts/\" + utils.slugify(unicode(title)) + \".ipynb\"  \n",
    "\n",
    "url = base_url + str(port) + notebook\n",
    "print url"
   ]
  },
  {
   "cell_type": "code",
   "execution_count": null,
   "metadata": {
    "collapsed": true,
    "jupyter": {
     "outputs_hidden": true
    }
   },
   "outputs": [],
   "source": [
    "def convert(URL, DATE, TIME, TITLE, TAGS, doit=True):\n",
    "\n",
    "    TIMEDTITLE = DATE[2:] + ' ' + TITLE\n",
    "    SLUG = DATE[2:] + '-' + TITLE.replace(' ', '-')\n",
    "    tmplt = \"\"\"\\\n",
    ".. title: %s %s\n",
    ".. slug: %s\n",
    ".. date: %s %s\n",
    ".. type: text\n",
    ".. tags: %s\n",
    "    \n",
    "\"\"\" % (DATE[2:], TITLE, SLUG, DATE, TIME, TAGS)\n",
    "\n",
    "    print tmplt\n",
    "\n",
    "    if doit:\n",
    "        import os\n",
    "        print TITLE, TAGS\n",
    "        cmd = 'cd ..; nikola new_post --title=\"%s\" --tags=\"%s\"' % (TIMEDTITLE, TAGS)\n",
    "        print cmd\n",
    "        os.system(cmd)\n",
    "        f = file(SLUG + '.rst', 'w')\n",
    "        f.write(tmplt + pagerst)\n",
    "        f.close()\n",
    "    else:\n",
    "        print tmplt"
   ]
  },
  {
   "cell_type": "markdown",
   "metadata": {},
   "source": [
    "## updating dates to iso8601 : ipython notebooks"
   ]
  },
  {
   "cell_type": "code",
   "execution_count": null,
   "metadata": {
    "collapsed": true,
    "jupyter": {
     "outputs_hidden": true
    },
    "scrolled": true
   },
   "outputs": [],
   "source": [
    "import glob, os, shutil\n",
    "from nikola import utils\n",
    "\n",
    "for fname in glob.glob(\"posts/14*.ipynb\"):\n",
    "    ROOT, FILE = os.path.split(fname)\n",
    "    SLUG = 'posts/' + FILE.replace('.ipynb', '.meta')\n",
    "    FILE_new = 'posts/20' + FILE\n",
    "    SLUG_new = 'posts/20' + FILE.replace('.ipynb', '.meta')\n",
    "    print(SLUG)\n",
    "    meta = ''\n",
    "    with open(SLUG, 'r') as f: \n",
    "        for line in f.readlines():\n",
    "            meta += line.replace(' 14-', ' 2014-')\n",
    "    print(FILE_new, SLUG_new)\n",
    "    print(meta)\n",
    "    if True:\n",
    "        with open(SLUG_new, 'w') as f: f.write(meta)\n",
    "        shutil.copy( 'posts/' + FILE, FILE_new)\n",
    "        os.remove('posts/' + FILE)\n",
    "        os.remove(SLUG)"
   ]
  },
  {
   "cell_type": "markdown",
   "metadata": {},
   "source": [
    "## updating dates to iso8601 : other posts"
   ]
  },
  {
   "cell_type": "code",
   "execution_count": null,
   "metadata": {
    "collapsed": true,
    "jupyter": {
     "outputs_hidden": true
    }
   },
   "outputs": [],
   "source": [
    "import glob, os, shutil\n",
    "from nikola import utils\n",
    "\n",
    "for YEAR in [\"10\", \"11\", \"12\", \"13\", \"14\"]:\n",
    "    for fname in glob.glob(\"posts/\"+ YEAR + \"-*.txt\"):\n",
    "        ROOT, FILE = os.path.split(fname)\n",
    "        FILE_new = 'posts/20' + FILE\n",
    "        print(FILE_new)\n",
    "        if True:\n",
    "            shutil.copy( 'posts/' + FILE, FILE_new)\n",
    "            os.remove('posts/' + FILE)\n"
   ]
  },
  {
   "cell_type": "code",
   "execution_count": null,
   "metadata": {
    "collapsed": true,
    "jupyter": {
     "outputs_hidden": true
    },
    "scrolled": true
   },
   "outputs": [],
   "source": [
    "import glob, os, shutil\n",
    "from nikola import utils\n",
    "\n",
    "for ext in [\"*.txt\", \"*.rst\"]:\n",
    "    for YEAR in [\"06\", \"07\", \"08\", \"09\", \"10\", \"11\", \"12\", \"13\", \"14\", \"15\"]:\n",
    "        for fname in glob.glob(\"posts/20\"+ YEAR + ext):\n",
    "            ROOT, FILE = os.path.split(fname)\n",
    "            post = ''\n",
    "            with open('posts/' + FILE, 'r') as f: \n",
    "                for line in f.readlines():\n",
    "                    line = line.replace(' '+ YEAR + '-', ' 20'+ YEAR + '-')\n",
    "                    for YEAR_ in [\"10\", \"11\", \"12\", \"13\", \"14\"]:\n",
    "                        line = line.replace('<'+ YEAR_ + '-', '<20'+ YEAR_ + '-')\n",
    "                    post += line\n",
    "            print(FILE)\n",
    "            if True:\n",
    "                with open('posts/' + FILE, 'w') as f: f.write(post)\n",
    "            else:\n",
    "                print(post)\n"
   ]
  },
  {
   "cell_type": "markdown",
   "metadata": {},
   "source": [
    "# deploying changes"
   ]
  },
  {
   "cell_type": "raw",
   "metadata": {},
   "source": [
    "!nikola clean"
   ]
  },
  {
   "cell_type": "code",
   "execution_count": 30,
   "metadata": {},
   "outputs": [
    {
     "name": "stdout",
     "output_type": "stream",
     "text": [
      "On branch master\n",
      "Your branch is up to date with 'origin/master'.\n",
      "\n",
      "Changes not staged for commit:\n",
      "  (use \"git add <file>...\" to update what will be committed)\n",
      "  (use \"git restore <file>...\" to discard changes in working directory)\n",
      "\t\u001b[32mmodified:   bootstrapPost.ipynb\u001b[m\n",
      "\t\u001b[32mmodified:   posts/2020-04-08-fitting-a-psychometric-curve-using-pytorch.ipynb\u001b[m\n",
      "\n",
      "no changes added to commit (use \"git add\" and/or \"git commit -a\")\n"
     ]
    }
   ],
   "source": [
    "!git status"
   ]
  },
  {
   "cell_type": "code",
   "execution_count": 31,
   "metadata": {},
   "outputs": [
    {
     "name": "stdout",
     "output_type": "stream",
     "text": [
      "total 1019944\n",
      "-rw-r--r--@  1 laurentperrinet  staff    324722 Jun 26  2016 2016-06-26_thesis.png\n",
      "-rw-r--r--   1 laurentperrinet  staff      1150 Oct 19  2016 favicon.ico\n",
      "-rw-r--r--   1 laurentperrinet  staff   1019049 Nov 18  2016 2016-11-15_test.mp4\n",
      "-rw-r--r--   1 laurentperrinet  staff   1110166 Dec 14  2016 2016-11-15_noise.mp4\n",
      "drwxr-xr-x  13 laurentperrinet  staff       416 Jan  9  2017 \u001b[1m\u001b[36m2016-07-16-Heeger16JNeuro\u001b[m\u001b[m\n",
      "-rw-r--r--   1 laurentperrinet  staff   1903114 Dec 13  2017 2017-12-13_pupil test_480.mp4\n",
      "drwxr-xr-x  35 laurentperrinet  staff      1120 Jan 17  2018 \u001b[1m\u001b[36m2017-12-21-MotionVariability\u001b[m\u001b[m\n",
      "-rw-r--r--   1 laurentperrinet  staff    757011 Nov  8  2018 2018-11-05_Ring_input.mp4\n",
      "-rw-r--r--@  1 laurentperrinet  staff    107656 Nov  8  2018 2018-11-05_Ring_input.png\n",
      "drwxr-xr-x   6 laurentperrinet  staff       192 Nov 14  2018 \u001b[1m\u001b[36m2016-04-24_a-wave-going-backwards\u001b[m\u001b[m\n",
      "-rw-r--r--   1 laurentperrinet  staff     32684 Nov 14  2018 2018-11-14-regex-an-iso8601-date.png\n",
      "drwxr-xr-x  16 laurentperrinet  staff       512 Nov 14  2018 \u001b[1m\u001b[36m2014-11-10_reverse-phi\u001b[m\u001b[m\n",
      "drwxr-xr-x   4 laurentperrinet  staff       128 Nov 14  2018 \u001b[1m\u001b[36m2015-02-19_MotionPlaid\u001b[m\u001b[m\n",
      "drwxr-xr-x   4 laurentperrinet  staff       128 Nov 14  2018 \u001b[1m\u001b[36m2015-02-19_horizon\u001b[m\u001b[m\n",
      "drwxr-xr-x   7 laurentperrinet  staff       224 Nov 14  2018 \u001b[1m\u001b[36m2016-01-27_mirror-clouds\u001b[m\u001b[m\n",
      "drwxr-xr-x   4 laurentperrinet  staff       128 Nov 15  2018 \u001b[1m\u001b[36m2015-07-02_smooth\u001b[m\u001b[m\n",
      "drwxr-xr-x  42 laurentperrinet  staff      1344 Nov 15  2018 \u001b[1m\u001b[36m2014-10-24_waves\u001b[m\u001b[m\n",
      "drwxr-xr-x  36 laurentperrinet  staff      1152 Nov 21  2018 \u001b[1m\u001b[36m2014-10-20_MotionPlaids\u001b[m\u001b[m\n",
      "drwxr-xr-x  11 laurentperrinet  staff       352 Nov 22  2018 \u001b[1m\u001b[36m2018-11-29-feature-vs-global-motion\u001b[m\u001b[m\n",
      "drwxr-xr-x  60 laurentperrinet  staff      1920 Dec 21  2018 \u001b[1m\u001b[36m2014-10-20_Aperture-Problem\u001b[m\u001b[m\n",
      "drwxr-xr-x  52 laurentperrinet  staff      1664 Dec 21  2018 \u001b[1m\u001b[36m2015-10-14_elasticite\u001b[m\u001b[m\n",
      "drwxr-xr-x  12 laurentperrinet  staff       384 Jan 13  2019 \u001b[1m\u001b[36m2016-04-06_IRM-protocol\u001b[m\u001b[m\n",
      "drwxr-xr-x  74 laurentperrinet  staff      2368 Jan 13  2019 \u001b[1m\u001b[36m2014-11-10_balaV1-protocol\u001b[m\u001b[m\n",
      "drwxr-xr-x   3 laurentperrinet  staff        96 Jan 13  2019 \u001b[1m\u001b[36m2014-06-18-stage-m1-chloe-pasturel-week-3\u001b[m\u001b[m\n",
      "-rw-r--r--@  1 laurentperrinet  staff    139908 Jan 31  2019 2019-01-30_Ravello19.mp4\n",
      "-rw-r--r--@  1 laurentperrinet  staff    338053 Jan 31  2019 2019-01-30_Ravello19_text.mp4\n",
      "-rw-r--r--   1 laurentperrinet  staff  31158928 Feb 19  2019 2016-11-03_SIGMA.html\n",
      "-rw-r--r--   1 laurentperrinet  staff   7497440 Feb 19  2019 2017-03-24_pollymagoo.html\n",
      "-rw-r--r--   1 laurentperrinet  staff  23006912 Feb 19  2019 2017-03-13_NeuroComp_FEP.html\n",
      "-rw-r--r--   1 laurentperrinet  staff  18331510 Feb 19  2019 2017-02-17_JournalClub.html\n",
      "-rw-r--r--   1 laurentperrinet  staff  41202643 Feb 19  2019 2016-10-13_LAW.html\n",
      "drwxr-xr-x  11 laurentperrinet  staff       352 Feb 26  2019 \u001b[1m\u001b[36m2016-04-25_pollymagoo\u001b[m\u001b[m\n",
      "drwxr-xr-x   7 laurentperrinet  staff       224 Feb 26  2019 \u001b[1m\u001b[36m2016-04-28_mejanes\u001b[m\u001b[m\n",
      "drwxr-xr-x   5 laurentperrinet  staff       160 Feb 26  2019 \u001b[1m\u001b[36m2016-07-07_EDP-proba\u001b[m\u001b[m\n",
      "drwxr-xr-x  19 laurentperrinet  staff       608 Feb 27  2019 \u001b[1m\u001b[36m2018-01-16-testing-more-complex\u001b[m\u001b[m\n",
      "-rw-r--r--   1 laurentperrinet  staff     36803 Mar 14  2019 static.png\n",
      "-rw-r--r--   1 laurentperrinet  staff    229604 Mar 14  2019 static_cube.png\n",
      "-rw-r--r--   1 laurentperrinet  staff    134823 Mar 14  2019 static.mp4\n",
      "-rw-r--r--   1 laurentperrinet  staff     74771 Apr  3  2019 2017-04-10_physical_speed_group_speed.png\n",
      "-rw-r--r--   1 laurentperrinet  staff    366185 Apr  3  2019 2017-04-10_physical_speed_group_speed_cube.png\n",
      "-rw-r--r--   1 laurentperrinet  staff   1098721 Apr  3  2019 2017-04-10_physical_speed_group_speed.mp4\n",
      "-rw-r--r--   1 laurentperrinet  staff     66714 Apr  3  2019 2017-04-10_physical_speed_group_speed_K_1_6666666666666667.png\n",
      "-rw-r--r--   1 laurentperrinet  staff    362826 Apr  3  2019 2017-04-10_physical_speed_group_speed_K_1_6666666666666667_cube.png\n",
      "-rw-r--r--   1 laurentperrinet  staff   1038679 Apr  3  2019 2017-04-10_physical_speed_group_speed_K_1_6666666666666667.mp4\n",
      "-rw-r--r--   1 laurentperrinet  staff     69618 Apr  3  2019 2017-04-10_physical_speed_group_speed_K_1_3636363636363638.png\n",
      "-rw-r--r--   1 laurentperrinet  staff    364927 Apr  3  2019 2017-04-10_physical_speed_group_speed_K_1_3636363636363638_cube.png\n",
      "-rw-r--r--   1 laurentperrinet  staff   1061027 Apr  3  2019 2017-04-10_physical_speed_group_speed_K_1_3636363636363638.mp4\n",
      "-rw-r--r--   1 laurentperrinet  staff     72453 Apr  3  2019 2017-04-10_physical_speed_group_speed_K_1_1538461538461537.png\n",
      "drwxr-xr-x  23 laurentperrinet  staff       736 Apr  3  2019 \u001b[1m\u001b[36m2017-04-10_physical_speed\u001b[m\u001b[m\n",
      "-rw-r--r--   1 laurentperrinet  staff    365619 Apr  3  2019 2017-04-10_physical_speed_group_speed_K_1_1538461538461537_cube.png\n",
      "-rw-r--r--   1 laurentperrinet  staff   1097273 Apr  3  2019 2017-04-10_physical_speed_group_speed_K_1_1538461538461537.mp4\n",
      "-rw-r--r--   1 laurentperrinet  staff     74771 Apr  3  2019 2017-04-10_physical_speed_group_speed_K_1_0.png\n",
      "-rw-r--r--   1 laurentperrinet  staff    363870 Apr  3  2019 2017-04-10_physical_speed_group_speed_K_1_0_cube.png\n",
      "-rw-r--r--   1 laurentperrinet  staff   1079517 Apr  3  2019 2017-04-10_physical_speed_group_speed_K_1_0.mp4\n",
      "-rw-r--r--   1 laurentperrinet  staff     77008 Apr  3  2019 2017-04-10_physical_speed_group_speed_K_0_8823529411764706.png\n",
      "-rw-r--r--   1 laurentperrinet  staff    365153 Apr  3  2019 2017-04-10_physical_speed_group_speed_K_0_8823529411764706_cube.png\n",
      "-rw-r--r--   1 laurentperrinet  staff   1092657 Apr  3  2019 2017-04-10_physical_speed_group_speed_K_0_8823529411764706.mp4\n",
      "-rw-r--r--   1 laurentperrinet  staff     79136 Apr  3  2019 2017-04-10_physical_speed_group_speed_K_0_7894736842105263.png\n",
      "-rw-r--r--   1 laurentperrinet  staff    360303 Apr  3  2019 2017-04-10_physical_speed_group_speed_K_0_7894736842105263_cube.png\n",
      "-rw-r--r--   1 laurentperrinet  staff   1068254 Apr  3  2019 2017-04-10_physical_speed_group_speed_K_0_7894736842105263.mp4\n",
      "-rw-r--r--   1 laurentperrinet  staff     80965 Apr  3  2019 2017-04-10_physical_speed_group_speed_K_0_7142857142857143.png\n",
      "-rw-r--r--   1 laurentperrinet  staff    359876 Apr  3  2019 2017-04-10_physical_speed_group_speed_K_0_7142857142857143_cube.png\n",
      "-rw-r--r--   1 laurentperrinet  staff   1061845 Apr  3  2019 2017-04-10_physical_speed_group_speed_K_0_7142857142857143.mp4\n",
      "-rw-r--r--   1 laurentperrinet  staff  85353751 Jul  9  2019 2015-10-07_Perrinet15biocomp_slides.pdf\n",
      "-rw-r--r--   1 laurentperrinet  staff  19877705 Jul 29  2019 2017-01-20_LACONEU.html\n",
      "-rw-r--r--   1 laurentperrinet  staff  20249393 Jul 29  2019 2017-01-19_LACONEU.html\n",
      "-rw-r--r--   1 laurentperrinet  staff  19190254 Jul 29  2019 2017-01-18_LACONEU.html\n",
      "-rw-r--r--   1 laurentperrinet  staff  29093231 Jul 29  2019 2018-01-25_meetup-neuronautes.html\n",
      "-rw-r--r--   1 laurentperrinet  staff  12035210 Jul 29  2019 2017-06-30_Telluride.html\n",
      "-rw-r--r--   1 laurentperrinet  staff  24104870 Jul 29  2019 2017-06-28_Telluride.html\n",
      "-rw-r--r--   1 laurentperrinet  staff   4163196 Jul 29  2019 2017-06-27_Telluride_short.html\n",
      "-rw-r--r--   1 laurentperrinet  staff  19537382 Jul 30  2019 2016-10-26_Perrinet16EUVIP_talk.html\n",
      "-rw-r--r--   1 laurentperrinet  staff  12523435 Jul 30  2019 2016-10-26_FillatreBarlaudPerrinet16EUVIP_talk.html\n",
      "-rw-r--r--   1 laurentperrinet  staff  37499552 Jul 30  2019 2017-11-15_ColloqueMaster.html\n",
      "-rw-r--r--@  1 laurentperrinet  staff   3826913 Sep 16  2019 2019-09-11_Perrinet19.mp4\n",
      "-rw-r--r--@  1 laurentperrinet  staff  12031159 Sep 19  2019 2019-09-11_Perrinet19.gif\n",
      "-rw-r--r--   1 laurentperrinet  staff      6550 Oct  1  2019 2019-09-30_clock.mp4\n",
      "drwxr-xr-x  32 laurentperrinet  staff      1024 Dec 11 18:27 \u001b[1m\u001b[36m2015-05-22-a-hitchhiker-guide-to-matching-pursuit\u001b[m\u001b[m\n",
      "-rw-r--r--   1 laurentperrinet  staff     11681 Dec 20 15:00 2019-09-30_flash_lag.mp4\n",
      "-rw-r--r--   1 laurentperrinet  staff     11089 Dec 20 15:01 2019-09-30_flash_lag_stop.mp4\n",
      "-rw-r--r--   1 laurentperrinet  staff  11564328 Jan  9 11:18 2018-02-01_BCP_INVIBE_fest.html\n",
      "-rw-r--r--   1 laurentperrinet  staff  46712042 Jan  9 11:18 2018-10-11_BioMorphisme.html\n",
      "-rw-r--r--   1 laurentperrinet  staff   4705394 Jan  9 11:26 2017-03-06_cours-NeuroComp.html\n",
      "drwxr-xr-x   9 laurentperrinet  staff       288 Jan 17 15:25 \u001b[1m\u001b[36m2015-12-08_cours_neurocomp\u001b[m\u001b[m\n",
      "drwxr-xr-x   7 laurentperrinet  staff       224 Jan 17 15:25 \u001b[1m\u001b[36m2016-09-26_Perrinet16journalClub\u001b[m\u001b[m\n",
      "drwxr-xr-x  21 laurentperrinet  staff       672 Jan 17 15:25 \u001b[1m\u001b[36m2018-11-13-testing-more-complex\u001b[m\u001b[m\n",
      "-rw-r--r--   1 laurentperrinet  staff   1908327 Jan 24 10:44 2020-01-08-MC_phase.gif\n",
      "-rw-r--r--   1 laurentperrinet  staff   3159324 Jan 24 10:44 2020-01-08-NI_phase.gif\n"
     ]
    }
   ],
   "source": [
    "!ls -ltr files"
   ]
  },
  {
   "cell_type": "code",
   "execution_count": null,
   "metadata": {},
   "outputs": [
    {
     "name": "stdout",
     "output_type": "stream",
     "text": [
      "Scanning posts...........done!\n",
      ".  render_sources:docs/posts/2020-04-08-fitting-a-psychometric-curve-using-pytorch.ipynb\n",
      ".  render_sources:docs/posts/2018-12-13-sparse-coding-using-fista.ipynb\n",
      ".  render_posts:timeline_changes\n",
      ".  render_posts:cache/posts/2020-04-08-fitting-a-psychometric-curve-using-pytorch.html\n",
      ".  render_taxonomies:docs/categories/numpy.html\n",
      ".  render_taxonomies:docs/categories/open-science.html\n",
      ".  render_taxonomies:docs/categories/orientation.html\n",
      ".  render_taxonomies:docs/categories/psychophysics.html\n",
      ".  render_taxonomies:docs/categories/pytorch.html\n",
      ".  render_taxonomies:docs/archive.html\n",
      ".  render_taxonomies:docs/index.html\n"
     ]
    }
   ],
   "source": [
    "!nikola build"
   ]
  },
  {
   "cell_type": "code",
   "execution_count": null,
   "metadata": {},
   "outputs": [],
   "source": [
    "%rm posts/__temp__.mp4 \tposts/debug.log"
   ]
  },
  {
   "cell_type": "code",
   "execution_count": null,
   "metadata": {
    "scrolled": true
   },
   "outputs": [],
   "source": [
    "!nikola deploy"
   ]
  },
  {
   "cell_type": "raw",
   "metadata": {},
   "source": [
    "import time\n",
    "time.sleep(3600*0)"
   ]
  },
  {
   "cell_type": "code",
   "execution_count": 35,
   "metadata": {},
   "outputs": [
    {
     "name": "stdout",
     "output_type": "stream",
     "text": [
      "Scanning posts...........done!\n",
      ".  render_sources:docs/posts/2018-12-13-sparse-coding-using-fista.ipynb\n",
      ".  render_taxonomies:docs/index.html\n",
      ".  render_pages:docs/posts/2018-12-13-sparse-coding-using-fista.html\n",
      "Scanning posts...........done!\n",
      "\u001b[1;33m[2020-04-09T12:50:51Z] WARNING: deploy: Deleted 1 posts due to DEPLOY_* settings\u001b[0m\n",
      "\u001b[1m[2020-04-09T12:50:51Z] INFO: deploy: => preset 'default'\u001b[0m\n",
      "\u001b[1m[2020-04-09T12:50:51Z] INFO: deploy: ==> git add posts/* docs/* files/*\u001b[0m\n",
      "\u001b[1m[2020-04-09T12:50:51Z] INFO: deploy: ==> git commit -am' updating site'\u001b[0m\n",
      "[master 45d26cb]  updating site\n",
      " 1 file changed, 38 insertions(+), 3 deletions(-)\n",
      "\u001b[1m[2020-04-09T12:50:51Z] INFO: deploy: ==> git push\u001b[0m\n",
      "Enumerating objects: 5, done.\n",
      "Counting objects: 100% (5/5), done.\n",
      "Delta compression using up to 4 threads\n",
      "Compressing objects: 100% (3/3), done.\n",
      "Writing objects: 100% (3/3), 706 bytes | 706.00 KiB/s, done.\n",
      "Total 3 (delta 2), reused 0 (delta 0), pack-reused 0\n",
      "remote: Resolving deltas: 100% (2/2), completed with 2 local objects.\u001b[K\n",
      "To https://github.com/laurentperrinet/sciblog.git\n",
      "   825d42e..45d26cb  master -> master\n",
      "\u001b[1m[2020-04-09T12:50:55Z] INFO: deploy: Successful deployment\u001b[0m\n"
     ]
    }
   ],
   "source": [
    "!nikola build ; nikola deploy"
   ]
  },
  {
   "cell_type": "code",
   "execution_count": 19,
   "metadata": {},
   "outputs": [
    {
     "name": "stdout",
     "output_type": "stream",
     "text": [
      "On branch master\n",
      "Your branch is up to date with 'origin/master'.\n",
      "\n",
      "Changes not staged for commit:\n",
      "  (use \"git add <file>...\" to update what will be committed)\n",
      "  (use \"git restore <file>...\" to discard changes in working directory)\n",
      "\t\u001b[32mmodified:   bootstrapPost.ipynb\u001b[m\n",
      "\t\u001b[32mmodified:   posts/2020-01-08-changing-the-global-phase-of-a-motion-cloud.ipynb\u001b[m\n",
      "\n",
      "no changes added to commit (use \"git add\" and/or \"git commit -a\")\n"
     ]
    }
   ],
   "source": [
    "!git status"
   ]
  },
  {
   "cell_type": "code",
   "execution_count": 11,
   "metadata": {},
   "outputs": [
    {
     "name": "stdout",
     "output_type": "stream",
     "text": [
      "Scanning posts...........done!\n",
      ".  render_sources:docs/posts/2018-12-13-sparse-coding-using-fista.ipynb\n",
      ".  render_sources:docs/posts/2018-11-13-testing-more-complex-trajectories.ipynb\n",
      ".  render_posts:timeline_changes\n",
      ".  render_posts:cache/posts/2018-11-13-testing-more-complex-trajectories.html\n",
      ".  copy_files:docs/files/2018-11-13-testing-more-complex/trajectory_overlay_shuffled_reversed.mp4\n",
      ".  copy_files:docs/files/2018-11-13-testing-more-complex/trajectory_overlay_reversed.mp4\n",
      ".  render_taxonomies:docs/categories/trajectory.html\n",
      ".  render_taxonomies:docs/categories/code.html\n",
      ".  render_taxonomies:docs/index.html\n",
      ".  render_taxonomies:docs/categories/motionclouds.html\n",
      ".  render_taxonomies:docs/archive.html\n",
      ".  render_taxonomies:docs/rss.xml\n",
      ".  render_pages:docs/posts/2018-12-13-sparse-coding-using-fista.html\n",
      ".  render_pages:docs/posts/2018-11-13-testing-more-complex-trajectories.html\n",
      ".  render_taxonomies:docs/categories/code.xml\n",
      ".  render_taxonomies:docs/categories/trajectory.xml\n",
      ".  render_taxonomies:docs/categories/motionclouds.xml\n",
      ".  sitemap:docs/sitemap.xml\n",
      ".  sitemap:docs/sitemapindex.xml\n",
      "\u001b[0mScanning posts...........done!\n",
      "\u001b[33;01m[2020-01-14T11:47:51Z] NOTICE: deploy: Deleted 1 posts due to DEPLOY_* settings\u001b[39;49;00m\n",
      "\u001b[37m[2020-01-14T11:47:51Z] INFO: deploy: => preset 'default'\u001b[39;49;00m\n",
      "\u001b[37m[2020-01-14T11:47:51Z] INFO: deploy: ==> git add posts/* docs/* files/*\u001b[39;49;00m\n",
      "\u001b[37m[2020-01-14T11:47:51Z] INFO: deploy: ==> git commit -am' updating site'\u001b[39;49;00m\n",
      "[master 4b39487]  updating site\n",
      " 15 files changed, 74 insertions(+), 56 deletions(-)\n",
      " rename files/2018-11-13-testing-more-complex/trajectory_overlay_difficult_reversed.mp4 => docs/files/2018-11-13-testing-more-complex/trajectory_overlay_reversed.mp4 (56%)\n",
      " rename files/2018-11-13-testing-more-complex/trajectory_overlay_difficult_shuffled_reversed.mp4 => docs/files/2018-11-13-testing-more-complex/trajectory_overlay_shuffled_reversed.mp4 (57%)\n",
      " create mode 100644 files/2018-11-13-testing-more-complex/trajectory_overlay_reversed.mp4\n",
      " create mode 100644 files/2018-11-13-testing-more-complex/trajectory_overlay_shuffled_reversed.mp4\n",
      "\u001b[37m[2020-01-14T11:47:52Z] INFO: deploy: ==> git push\u001b[39;49;00m\n",
      "Enumerating objects: 40, done.\n",
      "Counting objects: 100% (40/40), done.\n",
      "Delta compression using up to 36 threads\n",
      "Compressing objects: 100% (22/22), done.\n",
      "Writing objects: 100% (22/22), 3.86 MiB | 3.88 MiB/s, done.\n",
      "Total 22 (delta 19), reused 0 (delta 0)\n",
      "remote: Resolving deltas: 100% (19/19), completed with 18 local objects.\u001b[K\n",
      "To https://github.com/laurentperrinet/sciblog.git\n",
      "   e1540f7..4b39487  master -> master\n",
      "\u001b[37m[2020-01-14T11:47:57Z] INFO: deploy: Successful deployment\u001b[39;49;00m\n",
      "\u001b[0m"
     ]
    }
   ],
   "source": [
    "!nikola build ; nikola deploy"
   ]
  },
  {
   "cell_type": "code",
   "execution_count": 10,
   "metadata": {},
   "outputs": [
    {
     "name": "stdout",
     "output_type": "stream",
     "text": [
      "On branch master\n",
      "Your branch is up to date with 'origin/master'.\n",
      "\n",
      "Changes to be committed:\n",
      "  (use \"git restore --staged <file>...\" to unstage)\n",
      "\t\u001b[33mnew file:   files/2018-11-13-testing-more-complex/trajectory_overlay_reversed.mp4\u001b[m\n",
      "\t\u001b[33mnew file:   files/2018-11-13-testing-more-complex/trajectory_overlay_shuffled_reversed.mp4\u001b[m\n",
      "\n",
      "Changes not staged for commit:\n",
      "  (use \"git add/rm <file>...\" to update what will be committed)\n",
      "  (use \"git restore <file>...\" to discard changes in working directory)\n",
      "\t\u001b[32mmodified:   bootstrapPost.ipynb\u001b[m\n",
      "\t\u001b[32mdeleted:    files/2018-11-13-testing-more-complex/trajectory_overlay_difficult_reversed.mp4\u001b[m\n",
      "\t\u001b[32mdeleted:    files/2018-11-13-testing-more-complex/trajectory_overlay_difficult_shuffled_reversed.mp4\u001b[m\n",
      "\t\u001b[32mmodified:   posts/2018-11-13-testing-more-complex-trajectories.ipynb\u001b[m\n",
      "\n"
     ]
    }
   ],
   "source": [
    "!git status\n",
    "!git add files/2018-11-13-testing-more-complex/trajectory_overlay*"
   ]
  },
  {
   "cell_type": "code",
   "execution_count": 22,
   "metadata": {},
   "outputs": [
    {
     "name": "stdout",
     "output_type": "stream",
     "text": [
      "[master be50111]  new page\n",
      " 3 files changed, 211 insertions(+), 114 deletions(-)\n",
      " mode change 100755 => 100644 docs/posts/2015-11-17-elasticite-expansion-en-miroir-dynamique-dun-point-focal.ipynb\n",
      " mode change 100755 => 100644 posts/2015-11-17-elasticite-expansion-en-miroir-dynamique-dun-point-focal.ipynb\n"
     ]
    }
   ],
   "source": [
    "!git commit -am' new page' "
   ]
  },
  {
   "cell_type": "code",
   "execution_count": 13,
   "metadata": {},
   "outputs": [],
   "source": [
    "!open https://laurentperrinet.github.io/sciblog"
   ]
  },
  {
   "cell_type": "markdown",
   "metadata": {},
   "source": [
    "Voilà!"
   ]
  }
 ],
 "metadata": {
  "kernelspec": {
   "display_name": "Python 3",
   "language": "python",
   "name": "python3"
  },
  "language_info": {
   "codemirror_mode": {
    "name": "ipython",
    "version": 3
   },
   "file_extension": ".py",
   "mimetype": "text/x-python",
   "name": "python",
   "nbconvert_exporter": "python",
   "pygments_lexer": "ipython3",
   "version": "3.7.7"
  },
  "toc": {
   "base_numbering": 1,
   "nav_menu": {
    "height": "117px",
    "width": "252px"
   },
   "number_sections": true,
   "sideBar": true,
   "skip_h1_title": false,
   "title_cell": "Table of Contents",
   "title_sidebar": "Contents",
   "toc_cell": false,
   "toc_position": {},
   "toc_section_display": "block",
   "toc_window_display": false
  }
 },
 "nbformat": 4,
 "nbformat_minor": 4
}
