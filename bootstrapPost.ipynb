{
 "cells": [
  {
   "cell_type": "markdown",
   "metadata": {},
   "source": [
    "# installing and updating nikola"
   ]
  },
  {
   "cell_type": "code",
   "execution_count": null,
   "metadata": {
    "ExecuteTime": {
     "end_time": "2018-09-07T10:25:40.747475Z",
     "start_time": "2018-09-07T10:25:38.376282Z"
    }
   },
   "outputs": [],
   "source": [
    "!nikola version --check"
   ]
  },
  {
   "cell_type": "code",
   "execution_count": null,
   "metadata": {},
   "outputs": [],
   "source": [
    "# %conda install -c asmeurer nikola\n",
    "%pip install --upgrade Nikola notebook"
   ]
  },
  {
   "cell_type": "code",
   "execution_count": null,
   "metadata": {},
   "outputs": [],
   "source": [
    "!python3 -m pip uninstall -y nikola"
   ]
  },
  {
   "cell_type": "code",
   "execution_count": null,
   "metadata": {
    "ExecuteTime": {
     "end_time": "2018-09-07T10:24:17.333057Z",
     "start_time": "2018-09-07T10:24:14.585077Z"
    }
   },
   "outputs": [],
   "source": [
    "%pip install -U lxml \"Nikola[extras]\""
   ]
  },
  {
   "cell_type": "raw",
   "metadata": {
    "ExecuteTime": {
     "end_time": "2018-09-07T10:24:48.097536Z",
     "start_time": "2018-09-07T10:24:43.118411Z"
    }
   },
   "source": [
    "#!python3 -m pip uninstall -y rst2html5\n",
    "!python3 -m pip install -U --force rst2html5"
   ]
  },
  {
   "cell_type": "raw",
   "metadata": {
    "ExecuteTime": {
     "end_time": "2018-09-07T10:24:57.383520Z",
     "start_time": "2018-09-07T10:24:54.879696Z"
    }
   },
   "source": [
    "#!pip uninstall -y html5lib\n",
    "!python3 -m pip install -U --force html5lib"
   ]
  },
  {
   "cell_type": "code",
   "execution_count": null,
   "metadata": {
    "ExecuteTime": {
     "end_time": "2018-09-07T10:24:57.383520Z",
     "start_time": "2018-09-07T10:24:54.879696Z"
    }
   },
   "outputs": [],
   "source": [
    "#!pip uninstall -y html5lib"
   ]
  },
  {
   "cell_type": "code",
   "execution_count": null,
   "metadata": {},
   "outputs": [],
   "source": [
    "%conda uninstall nikola"
   ]
  },
  {
   "cell_type": "code",
   "execution_count": null,
   "metadata": {},
   "outputs": [
    {
     "name": "stdout",
     "output_type": "stream",
     "text": [
      "Channels:\n",
      " - defaults\n",
      " - conda-forge\n",
      "Platform: osx-64\n",
      "Collecting package metadata (repodata.json): done\n",
      "Solving environment: \u001b[33m\u001b[1mwarning  libmamba\u001b[m Added empty dependency for problem type SOLVER_RULE_UPDATE\n",
      "\\ "
     ]
    }
   ],
   "source": [
    "%conda install imp nikola -y"
   ]
  },
  {
   "cell_type": "code",
   "execution_count": null,
   "metadata": {
    "ExecuteTime": {
     "end_time": "2018-09-07T10:25:37.163105Z",
     "start_time": "2018-09-07T10:25:34.804602Z"
    }
   },
   "outputs": [],
   "source": [
    "!nikola version"
   ]
  },
  {
   "cell_type": "markdown",
   "metadata": {},
   "source": [
    "# Adding a new post"
   ]
  },
  {
   "cell_type": "code",
   "execution_count": null,
   "metadata": {
    "ExecuteTime": {
     "end_time": "2018-11-05T14:34:58.343345Z",
     "start_time": "2018-11-05T14:34:58.224501Z"
    }
   },
   "outputs": [],
   "source": [
    "!date\n",
    "import datetime"
   ]
  },
  {
   "cell_type": "code",
   "execution_count": null,
   "metadata": {
    "ExecuteTime": {
     "end_time": "2018-11-05T14:34:58.697822Z",
     "start_time": "2018-11-05T14:34:58.694703Z"
    }
   },
   "outputs": [],
   "source": [
    "print(datetime.datetime.now())"
   ]
  },
  {
   "cell_type": "code",
   "execution_count": null,
   "metadata": {
    "ExecuteTime": {
     "end_time": "2018-11-05T14:34:59.176807Z",
     "start_time": "2018-11-05T14:34:59.173942Z"
    }
   },
   "outputs": [],
   "source": [
    "now = datetime.datetime.now().date()\n",
    "date = now.isoformat()#[2:]\n",
    "print(date)"
   ]
  },
  {
   "cell_type": "raw",
   "metadata": {},
   "source": [
    "date = '2019-10-07'"
   ]
  },
  {
   "cell_type": "code",
   "execution_count": null,
   "metadata": {
    "ExecuteTime": {
     "end_time": "2018-11-05T14:34:58.343345Z",
     "start_time": "2018-11-05T14:34:58.224501Z"
    }
   },
   "outputs": [],
   "source": [
    "import datetime\n",
    "date = datetime.datetime.now().date().isoformat()\n",
    "print(date)"
   ]
  },
  {
   "cell_type": "code",
   "execution_count": null,
   "metadata": {},
   "outputs": [],
   "source": [
    "now.isoformat?"
   ]
  },
  {
   "cell_type": "code",
   "execution_count": null,
   "metadata": {
    "ExecuteTime": {
     "end_time": "2018-11-05T14:35:00.048738Z",
     "start_time": "2018-11-05T14:34:59.677518Z"
    }
   },
   "outputs": [],
   "source": [
    "from nikola import utils"
   ]
  },
  {
   "cell_type": "code",
   "execution_count": 11,
   "metadata": {
    "ExecuteTime": {
     "end_time": "2018-11-05T14:40:53.234519Z",
     "start_time": "2018-11-05T14:40:53.230930Z"
    }
   },
   "outputs": [],
   "source": [
    "tags_list = [\n",
    "    'python', \n",
    "#    'ipython', \n",
    "#    'jupyter', \n",
    "#    'nikola', \n",
    "    'blog', \n",
    "#    'themes', \n",
    "#    'pupil',\n",
    "#    'psychophysics',\n",
    "   'outreach',   \n",
    "    'grand-public',\n",
    "#    'space', \n",
    "#    'behavior',\n",
    "#    'povray', \n",
    "#    'elasticite', \n",
    "   'art', \n",
    "   'trames', \n",
    "   'nature', \n",
    "   'math',\n",
    "#    'bicv', \n",
    "#    'SLIP', \n",
    "#    'LogGabor', \n",
    "#    'SHL_scripts', \n",
    "#    'sparse', \n",
    "#    'Matching Pursuit',\n",
    "#    'Motion Particles',\n",
    "#    'holoviews',\n",
    "    #  'pytorch',\n",
    "    #  'deep-learning',\n",
    "    #  'machine-learning',\n",
    "#     'moviepy', \n",
    "    'numpy', \n",
    "#    'vispy', \n",
    "#    'neural',\n",
    "#    'motionclouds',\n",
    "#    'motion',\n",
    "#    'pynn',\n",
    "#    'saccades',\n",
    "#    'Free Energy',\n",
    "#    'learning',\n",
    "    'open-science',\n",
    "    # 'pandas',\n",
    "#    'shell',\n",
    "#    'vim',\n",
    "#    'orientation',\n",
    "   'vision',\n",
    "#    'retina',\n",
    "#    'v1',\n",
    "]\n",
    "formt = 'rest'\n",
    "formt = 'markdown'\n",
    "formt = 'ipynb'"
   ]
  },
  {
   "cell_type": "code",
   "execution_count": null,
   "metadata": {
    "ExecuteTime": {
     "end_time": "2018-11-05T14:41:01.475071Z",
     "start_time": "2018-11-05T14:41:00.415148Z"
    }
   },
   "outputs": [],
   "source": [
    "!nikola new_post -h"
   ]
  },
  {
   "cell_type": "code",
   "execution_count": null,
   "metadata": {
    "ExecuteTime": {
     "end_time": "2018-11-05T14:41:01.475071Z",
     "start_time": "2018-11-05T14:41:00.415148Z"
    }
   },
   "outputs": [],
   "source": [
    "!nikola new_post  --available-formats"
   ]
  },
  {
   "cell_type": "code",
   "execution_count": null,
   "metadata": {
    "ExecuteTime": {
     "end_time": "2018-11-05T14:41:08.343633Z",
     "start_time": "2018-11-05T14:41:02.455292Z"
    }
   },
   "outputs": [],
   "source": [
    "tags = ', '.join(tags_list)\n",
    "title = date + ' ' + \"La vibration des apparences\"\n",
    "#title = '2017-12-13 accessing the data from a pupil recording'\n",
    "!nikola new_post -f \"{formt}\" -2 -t \"{title}\" --tags=\"{tags}\""
   ]
  },
  {
   "cell_type": "code",
   "execution_count": null,
   "metadata": {
    "ExecuteTime": {
     "end_time": "2018-11-08T10:17:49.012273Z",
     "start_time": "2018-11-08T10:17:49.005411Z"
    }
   },
   "outputs": [],
   "source": [
    "fname = utils.os.path.join('posts', utils.slugify(title) + '.' + formt)\n",
    "print(fname)"
   ]
  },
  {
   "cell_type": "code",
   "execution_count": null,
   "metadata": {
    "ExecuteTime": {
     "end_time": "2018-11-05T14:41:18.822843Z",
     "start_time": "2018-11-05T14:41:18.813958Z"
    }
   },
   "outputs": [],
   "source": [
    "utils.shutil.copy('template.ipynb', fname)"
   ]
  },
  {
   "cell_type": "markdown",
   "metadata": {},
   "source": [
    "# Copying existing notebooks"
   ]
  },
  {
   "cell_type": "code",
   "execution_count": null,
   "metadata": {},
   "outputs": [],
   "source": [
    "utils.shutil.copy?"
   ]
  },
  {
   "attachments": {},
   "cell_type": "markdown",
   "metadata": {
    "tags": []
   },
   "source": [
    "## 2023\n"
   ]
  },
  {
   "cell_type": "code",
   "execution_count": null,
   "metadata": {
    "ExecuteTime": {
     "end_time": "2018-11-05T14:41:18.822843Z",
     "start_time": "2018-11-05T14:41:18.813958Z"
    }
   },
   "outputs": [],
   "source": [
    "utils.shutil.copy('/Users/laurentperrinet/quantic/timeline/2023-01-31_formes-et-perception/images/Retinotopie.ipynb', fname)\n"
   ]
  },
  {
   "cell_type": "markdown",
   "metadata": {
    "tags": []
   },
   "source": [
    "## 2022\n"
   ]
  },
  {
   "cell_type": "code",
   "execution_count": null,
   "metadata": {
    "ExecuteTime": {
     "end_time": "2018-11-05T14:41:18.822843Z",
     "start_time": "2018-11-05T14:41:18.813958Z"
    }
   },
   "outputs": [],
   "source": [
    "from nikola import utils"
   ]
  },
  {
   "cell_type": "code",
   "execution_count": null,
   "metadata": {},
   "outputs": [],
   "source": [
    "fname = 'posts/2022-06-08-transfert-de-voix.ipynb'"
   ]
  },
  {
   "cell_type": "code",
   "execution_count": null,
   "metadata": {
    "ExecuteTime": {
     "end_time": "2018-11-05T14:41:18.822843Z",
     "start_time": "2018-11-05T14:41:18.813958Z"
    }
   },
   "outputs": [],
   "source": [
    "utils.shutil.copy('/Users/laurentperrinet/quantic/RTC/2022-05-04_transfert-des-voix/2022-06-08_transfert-des-voix.ipynb', fname)"
   ]
  },
  {
   "cell_type": "code",
   "execution_count": null,
   "metadata": {},
   "outputs": [],
   "source": [
    "fname = 'posts/2022-02-11-cosyne-reviewer-feedback.ipynb'"
   ]
  },
  {
   "cell_type": "code",
   "execution_count": null,
   "metadata": {
    "ExecuteTime": {
     "end_time": "2018-11-05T14:41:18.822843Z",
     "start_time": "2018-11-05T14:41:18.813958Z"
    }
   },
   "outputs": [],
   "source": [
    "utils.shutil.copy('/Users/laurentperrinet/quantic/RTC/2022-02-11_COSYNE-scoresheet/2022-02-11_COSYNE-scoresheet.ipynb', fname)"
   ]
  },
  {
   "cell_type": "markdown",
   "metadata": {},
   "source": [
    "## 2021\n"
   ]
  },
  {
   "cell_type": "code",
   "execution_count": null,
   "metadata": {},
   "outputs": [],
   "source": [
    "fname = 'posts/2021-03-27-density-of-stars-on-the-surface-of-the-sky.ipynb'"
   ]
  },
  {
   "cell_type": "code",
   "execution_count": null,
   "metadata": {
    "ExecuteTime": {
     "end_time": "2018-11-05T14:41:18.822843Z",
     "start_time": "2018-11-05T14:41:18.813958Z"
    }
   },
   "outputs": [],
   "source": [
    "from nikola import utils\n",
    "utils.shutil.copy(fname, '/Users/laurentperrinet/quantic/EtienneRey/2019-06_StarField/')"
   ]
  },
  {
   "cell_type": "code",
   "execution_count": null,
   "metadata": {
    "ExecuteTime": {
     "end_time": "2018-11-05T14:41:18.822843Z",
     "start_time": "2018-11-05T14:41:18.813958Z"
    }
   },
   "outputs": [],
   "source": [
    "from nikola import utils\n",
    "utils.shutil.copy('/Users/laurentperrinet/Downloads/NetworkModel_Toolbox/RunAnalyse_Simulations.ipynb', fname)"
   ]
  },
  {
   "cell_type": "markdown",
   "metadata": {},
   "source": [
    "## 2020"
   ]
  },
  {
   "cell_type": "code",
   "execution_count": null,
   "metadata": {
    "ExecuteTime": {
     "end_time": "2018-11-05T14:41:18.822843Z",
     "start_time": "2018-11-05T14:41:18.813958Z"
    }
   },
   "outputs": [],
   "source": [
    "from nikola import utils\n",
    "utils.shutil.copy('/Users/laurentperrinet/quantic/Documents/downloads/PLayList-Etienne-2019/dev-Genius.ipynb', 'posts/2020-11-24-extracting-music-from-the-screenshots-of-a-spotify-playlist.ipynb')"
   ]
  },
  {
   "cell_type": "code",
   "execution_count": null,
   "metadata": {
    "ExecuteTime": {
     "end_time": "2018-11-05T14:41:18.822843Z",
     "start_time": "2018-11-05T14:41:18.813958Z"
    }
   },
   "outputs": [],
   "source": [
    "from nikola import utils\n",
    "utils.shutil.copy('/Users/laurentperrinet/quantic/science/ActiveVision/2020_StageM1_Jean-Nicolas/2020-06-26_fast_and_curious/benchmark_image_recognition.ipynb', 'posts/2020-09-28-benchmarking-cnns.ipynb')"
   ]
  },
  {
   "cell_type": "code",
   "execution_count": null,
   "metadata": {
    "ExecuteTime": {
     "end_time": "2018-11-05T14:41:18.822843Z",
     "start_time": "2018-11-05T14:41:18.813958Z"
    }
   },
   "outputs": [],
   "source": [
    "from nikola import utils\n",
    "utils.shutil.copy('/Users/laurentperrinet/quantic/EtienneRey/2020_caustiques/2020-06-19_caustique.ipynb', 'posts/2020-06-19-caustic-optics.ipynb')"
   ]
  },
  {
   "cell_type": "code",
   "execution_count": null,
   "metadata": {
    "ExecuteTime": {
     "end_time": "2018-11-05T14:41:18.822843Z",
     "start_time": "2018-11-05T14:41:18.813958Z"
    }
   },
   "outputs": [],
   "source": [
    "!nbdiff /Users/laurentperrinet/quantic/EtienneRey/2020_caustiques/2020-06-19_caustique.ipynb posts/2020-06-19-caustic-optics.ipynb"
   ]
  },
  {
   "cell_type": "code",
   "execution_count": null,
   "metadata": {
    "ExecuteTime": {
     "end_time": "2018-11-05T14:41:18.822843Z",
     "start_time": "2018-11-05T14:41:18.813958Z"
    }
   },
   "outputs": [],
   "source": [
    "utils.shutil.rmtree('files/2020-06-19_caustique', ignore_errors=True)\n",
    "utils.shutil.copytree('/Users/laurentperrinet/quantic/EtienneRey/2020_caustiques/2020-06-19_caustique', 'files/2020-06-19_caustique')"
   ]
  },
  {
   "cell_type": "code",
   "execution_count": null,
   "metadata": {},
   "outputs": [],
   "source": [
    "#utils.shutil.rmtree('/Users/laurentperrinet/quantic/EtienneRey/files', ignore_errors=True)\n",
    "#utils.shutil.move('/Users/laurentperrinet/quantic/EtienneRey/files/2020-06-19_caustique', '/Users/laurentperrinet/quantic/EtienneRey/2020_caustiques/2020-06-19_caustique')"
   ]
  },
  {
   "cell_type": "markdown",
   "metadata": {},
   "source": [
    "## 2019"
   ]
  },
  {
   "cell_type": "code",
   "execution_count": null,
   "metadata": {
    "ExecuteTime": {
     "end_time": "2018-11-05T14:41:18.822843Z",
     "start_time": "2018-11-05T14:41:18.813958Z"
    }
   },
   "outputs": [],
   "source": [
    "utils.shutil.copy('/Users/laurentperrinet/quantic/science/OBV1/jennafradin_MSc-Internship/Notebooks/W13/10_theory-fitting_psychometric.ipynb', fname)"
   ]
  },
  {
   "cell_type": "code",
   "execution_count": null,
   "metadata": {},
   "outputs": [],
   "source": [
    "%ls posts/2015*hitch*"
   ]
  },
  {
   "cell_type": "code",
   "execution_count": null,
   "metadata": {
    "ExecuteTime": {
     "end_time": "2018-11-05T14:41:18.822843Z",
     "start_time": "2018-11-05T14:41:18.813958Z"
    }
   },
   "outputs": [],
   "source": [
    "utils.shutil.copy('posts/2015-05-22-a-hitchhiker-guide-to-matching-pursuit.ipynb', fname)"
   ]
  },
  {
   "cell_type": "code",
   "execution_count": null,
   "metadata": {
    "ExecuteTime": {
     "end_time": "2018-11-08T10:17:33.863368Z",
     "start_time": "2018-11-08T10:17:33.822970Z"
    }
   },
   "outputs": [],
   "source": [
    "utils.shutil.copy('/Users/laurentperrinet/pool/TimeWarp/2018-11-05_Statistics of the natural input to a ring model.ipynb', fname)\n",
    "utils.shutil.copy('/Users/laurentperrinet/pool/TimeWarp/figs/2018-11-05_Ring_input.mp4', 'files/')"
   ]
  },
  {
   "cell_type": "code",
   "execution_count": null,
   "metadata": {},
   "outputs": [],
   "source": [
    "utils.shutil.copy('/Users/laurentperrinet//science/pupil/dev/2017-12-13 accessing the data from a pupil recording.ipynb', 'posts/2017-12-13-accessing-the-data-from-a-pupil-recording.ipynb')"
   ]
  },
  {
   "cell_type": "code",
   "execution_count": null,
   "metadata": {
    "collapsed": true,
    "jupyter": {
     "outputs_hidden": true
    }
   },
   "outputs": [],
   "source": [
    "titles = ['2017-03-29 testing COMPs-Pcum', '2017-03-29 testing COMPs-fastPcum', '2017-03-29 testing COMPs-fastPcum_scripted']"
   ]
  },
  {
   "cell_type": "code",
   "execution_count": null,
   "metadata": {},
   "outputs": [],
   "source": [
    "tags = ', '.join(tags_list)\n",
    "for title in titles:\n",
    "    !nikola new_post -f \"{formt}\" -2 -t \"{title}\" --tags=\"{tags}\""
   ]
  },
  {
   "cell_type": "code",
   "execution_count": null,
   "metadata": {},
   "outputs": [],
   "source": [
    "for title in titles:\n",
    "    fname = utils.os.path.join('posts', utils.slugify(title) + '.' + formt)\n",
    "    print(fname)\n",
    "    import os\n",
    "    home = os.environ['HOME']\n",
    "    print(home)\n",
    "    filepath = home +  \"/science/VB_These/Rapport d'avancement/2017-03/\"\n",
    "    print(filepath + title +'.ipynb')\n",
    "    utils.shutil.copy(filepath + title +'.ipynb', fname)"
   ]
  },
  {
   "cell_type": "markdown",
   "metadata": {},
   "source": [
    "\n",
    "TODO : 2017-05-23-reproducing-olshausens-classical-sparsenet-part-5.ipynb and others from 2017-05-23-reproducing-olshausens-classical-sparsenet-part-5.ipynb\n"
   ]
  },
  {
   "cell_type": "raw",
   "metadata": {},
   "source": [
    "Below, I detail some thoughts on why it is a perfect preamble for most ipython notebooks.\n",
    "\n",
    "<!-- TEASER_END -->"
   ]
  },
  {
   "cell_type": "code",
   "execution_count": null,
   "metadata": {
    "collapsed": true,
    "jupyter": {
     "outputs_hidden": true
    }
   },
   "outputs": [],
   "source": [
    "import nikola"
   ]
  },
  {
   "cell_type": "code",
   "execution_count": null,
   "metadata": {
    "collapsed": true,
    "jupyter": {
     "outputs_hidden": true
    }
   },
   "outputs": [],
   "source": [
    "nikola.utils."
   ]
  },
  {
   "cell_type": "code",
   "execution_count": null,
   "metadata": {
    "collapsed": true,
    "jupyter": {
     "outputs_hidden": true
    }
   },
   "outputs": [],
   "source": [
    "from nikola.plugins import commands"
   ]
  },
  {
   "cell_type": "code",
   "execution_count": null,
   "metadata": {
    "collapsed": true,
    "jupyter": {
     "outputs_hidden": true
    }
   },
   "outputs": [],
   "source": [
    "plugins.absolute_import"
   ]
  },
  {
   "cell_type": "code",
   "execution_count": null,
   "metadata": {
    "collapsed": true,
    "jupyter": {
     "outputs_hidden": true
    }
   },
   "outputs": [],
   "source": [
    "!nikola help new_post "
   ]
  },
  {
   "cell_type": "code",
   "execution_count": null,
   "metadata": {
    "collapsed": true,
    "jupyter": {
     "outputs_hidden": true
    }
   },
   "outputs": [],
   "source": [
    "base_url = \"http://127.0.0.1:\"\n",
    "port = 8889\n",
    "\n",
    "from nikola import utils\n",
    "notebook = \"/notebooks/posts/\" + utils.slugify(unicode(title)) + \".ipynb\"  \n",
    "\n",
    "url = base_url + str(port) + notebook\n",
    "print url"
   ]
  },
  {
   "cell_type": "code",
   "execution_count": null,
   "metadata": {
    "collapsed": true,
    "jupyter": {
     "outputs_hidden": true
    }
   },
   "outputs": [],
   "source": [
    "def convert(URL, DATE, TIME, TITLE, TAGS, doit=True):\n",
    "\n",
    "    TIMEDTITLE = DATE[2:] + ' ' + TITLE\n",
    "    SLUG = DATE[2:] + '-' + TITLE.replace(' ', '-')\n",
    "    tmplt = \"\"\"\\\n",
    ".. title: %s %s\n",
    ".. slug: %s\n",
    ".. date: %s %s\n",
    ".. type: text\n",
    ".. tags: %s\n",
    "    \n",
    "\"\"\" % (DATE[2:], TITLE, SLUG, DATE, TIME, TAGS)\n",
    "\n",
    "    print tmplt\n",
    "\n",
    "    if doit:\n",
    "        import os\n",
    "        print TITLE, TAGS\n",
    "        cmd = 'cd ..; nikola new_post --title=\"%s\" --tags=\"%s\"' % (TIMEDTITLE, TAGS)\n",
    "        print cmd\n",
    "        os.system(cmd)\n",
    "        f = file(SLUG + '.rst', 'w')\n",
    "        f.write(tmplt + pagerst)\n",
    "        f.close()\n",
    "    else:\n",
    "        print tmplt"
   ]
  },
  {
   "cell_type": "markdown",
   "metadata": {},
   "source": [
    "## updating dates to iso8601 : ipython notebooks"
   ]
  },
  {
   "cell_type": "code",
   "execution_count": null,
   "metadata": {
    "collapsed": true,
    "jupyter": {
     "outputs_hidden": true
    },
    "scrolled": true
   },
   "outputs": [],
   "source": [
    "import glob, os, shutil\n",
    "from nikola import utils\n",
    "\n",
    "for fname in glob.glob(\"posts/14*.ipynb\"):\n",
    "    ROOT, FILE = os.path.split(fname)\n",
    "    SLUG = 'posts/' + FILE.replace('.ipynb', '.meta')\n",
    "    FILE_new = 'posts/20' + FILE\n",
    "    SLUG_new = 'posts/20' + FILE.replace('.ipynb', '.meta')\n",
    "    print(SLUG)\n",
    "    meta = ''\n",
    "    with open(SLUG, 'r') as f: \n",
    "        for line in f.readlines():\n",
    "            meta += line.replace(' 14-', ' 2014-')\n",
    "    print(FILE_new, SLUG_new)\n",
    "    print(meta)\n",
    "    if True:\n",
    "        with open(SLUG_new, 'w') as f: f.write(meta)\n",
    "        shutil.copy( 'posts/' + FILE, FILE_new)\n",
    "        os.remove('posts/' + FILE)\n",
    "        os.remove(SLUG)"
   ]
  },
  {
   "cell_type": "markdown",
   "metadata": {},
   "source": [
    "## updating dates to iso8601 : other posts"
   ]
  },
  {
   "cell_type": "code",
   "execution_count": null,
   "metadata": {
    "collapsed": true,
    "jupyter": {
     "outputs_hidden": true
    }
   },
   "outputs": [],
   "source": [
    "import glob, os, shutil\n",
    "from nikola import utils\n",
    "\n",
    "for YEAR in [\"10\", \"11\", \"12\", \"13\", \"14\"]:\n",
    "    for fname in glob.glob(\"posts/\"+ YEAR + \"-*.txt\"):\n",
    "        ROOT, FILE = os.path.split(fname)\n",
    "        FILE_new = 'posts/20' + FILE\n",
    "        print(FILE_new)\n",
    "        if True:\n",
    "            shutil.copy( 'posts/' + FILE, FILE_new)\n",
    "            os.remove('posts/' + FILE)\n"
   ]
  },
  {
   "cell_type": "code",
   "execution_count": null,
   "metadata": {
    "collapsed": true,
    "jupyter": {
     "outputs_hidden": true
    },
    "scrolled": true
   },
   "outputs": [],
   "source": [
    "import glob, os, shutil\n",
    "from nikola import utils\n",
    "\n",
    "for ext in [\"*.txt\", \"*.rst\"]:\n",
    "    for YEAR in [\"06\", \"07\", \"08\", \"09\", \"10\", \"11\", \"12\", \"13\", \"14\", \"15\"]:\n",
    "        for fname in glob.glob(\"posts/20\"+ YEAR + ext):\n",
    "            ROOT, FILE = os.path.split(fname)\n",
    "            post = ''\n",
    "            with open('posts/' + FILE, 'r') as f: \n",
    "                for line in f.readlines():\n",
    "                    line = line.replace(' '+ YEAR + '-', ' 20'+ YEAR + '-')\n",
    "                    for YEAR_ in [\"10\", \"11\", \"12\", \"13\", \"14\"]:\n",
    "                        line = line.replace('<'+ YEAR_ + '-', '<20'+ YEAR_ + '-')\n",
    "                    post += line\n",
    "            print(FILE)\n",
    "            if True:\n",
    "                with open('posts/' + FILE, 'w') as f: f.write(post)\n",
    "            else:\n",
    "                print(post)\n"
   ]
  },
  {
   "cell_type": "markdown",
   "metadata": {},
   "source": [
    "# deploying changes"
   ]
  },
  {
   "cell_type": "code",
   "execution_count": null,
   "metadata": {},
   "outputs": [],
   "source": [
    "%ls -al"
   ]
  },
  {
   "cell_type": "raw",
   "metadata": {},
   "source": [
    "%rm -fr .doit.db cache"
   ]
  },
  {
   "cell_type": "raw",
   "metadata": {},
   "source": [
    "!nikola clean"
   ]
  },
  {
   "cell_type": "code",
   "execution_count": null,
   "metadata": {},
   "outputs": [],
   "source": [
    "!git pull"
   ]
  },
  {
   "cell_type": "code",
   "execution_count": null,
   "metadata": {},
   "outputs": [],
   "source": [
    "!git status"
   ]
  },
  {
   "cell_type": "raw",
   "metadata": {},
   "source": [
    "!ls -ltr files"
   ]
  },
  {
   "cell_type": "code",
   "execution_count": null,
   "metadata": {},
   "outputs": [],
   "source": [
    "!nikola build"
   ]
  },
  {
   "cell_type": "raw",
   "metadata": {},
   "source": [
    "%rm posts/__temp__.mp4 \tposts/debug.log"
   ]
  },
  {
   "cell_type": "code",
   "execution_count": null,
   "metadata": {},
   "outputs": [],
   "source": [
    "!nikola deploy"
   ]
  },
  {
   "cell_type": "code",
   "execution_count": 23,
   "metadata": {},
   "outputs": [],
   "source": [
    "# import time\n",
    "# time.sleep(3600*0)"
   ]
  },
  {
   "cell_type": "code",
   "execution_count": null,
   "metadata": {},
   "outputs": [],
   "source": [
    "!nikola build ; nikola deploy"
   ]
  },
  {
   "cell_type": "code",
   "execution_count": null,
   "metadata": {},
   "outputs": [],
   "source": [
    "!git status"
   ]
  },
  {
   "cell_type": "code",
   "execution_count": 27,
   "metadata": {},
   "outputs": [],
   "source": [
    "!open https://laurentperrinet.github.io/sciblog"
   ]
  },
  {
   "cell_type": "markdown",
   "metadata": {},
   "source": [
    "Voilà!"
   ]
  }
 ],
 "metadata": {
  "kernelspec": {
   "display_name": "base",
   "language": "python",
   "name": "python3"
  },
  "language_info": {
   "codemirror_mode": {
    "name": "ipython",
    "version": 3
   },
   "file_extension": ".py",
   "mimetype": "text/x-python",
   "name": "python",
   "nbconvert_exporter": "python",
   "pygments_lexer": "ipython3",
   "version": "3.12.3"
  },
  "toc": {
   "base_numbering": 1,
   "nav_menu": {
    "height": "117px",
    "width": "252px"
   },
   "number_sections": true,
   "sideBar": true,
   "skip_h1_title": false,
   "title_cell": "Table of Contents",
   "title_sidebar": "Contents",
   "toc_cell": false,
   "toc_position": {},
   "toc_section_display": "block",
   "toc_window_display": false
  }
 },
 "nbformat": 4,
 "nbformat_minor": 4
}
