{
 "cells": [
  {
   "cell_type": "markdown",
   "metadata": {},
   "source": [
    "# installing and updating nikola"
   ]
  },
  {
   "cell_type": "code",
   "execution_count": 1,
   "metadata": {
    "ExecuteTime": {
     "end_time": "2018-09-07T10:25:40.747475Z",
     "start_time": "2018-09-07T10:25:38.376282Z"
    }
   },
   "outputs": [
    {
     "name": "stdout",
     "output_type": "stream",
     "text": [
      "Nikola v8.2.3\n",
      "Nikola is up-to-date\n"
     ]
    }
   ],
   "source": [
    "!nikola version --check"
   ]
  },
  {
   "cell_type": "code",
   "execution_count": 2,
   "metadata": {},
   "outputs": [],
   "source": [
    "# %conda install -c asmeurer nikola"
   ]
  },
  {
   "cell_type": "code",
   "execution_count": 3,
   "metadata": {},
   "outputs": [
    {
     "name": "stdout",
     "output_type": "stream",
     "text": [
      "Found existing installation: Nikola 8.2.3\n",
      "Uninstalling Nikola-8.2.3:\n",
      "  Successfully uninstalled Nikola-8.2.3\n"
     ]
    }
   ],
   "source": [
    "!python3 -m pip uninstall -y nikola"
   ]
  },
  {
   "cell_type": "code",
   "execution_count": 4,
   "metadata": {
    "ExecuteTime": {
     "end_time": "2018-09-07T10:24:17.333057Z",
     "start_time": "2018-09-07T10:24:14.585077Z"
    }
   },
   "outputs": [
    {
     "name": "stdout",
     "output_type": "stream",
     "text": [
      "Requirement already satisfied: lxml in ./nikola/lib/python3.11/site-packages (4.9.2)\n",
      "Collecting Nikola[extras]\n",
      "  Using cached Nikola-8.2.3-py3-none-any.whl (1.4 MB)\n",
      "Requirement already satisfied: doit>=0.32.0 in ./nikola/lib/python3.11/site-packages (from Nikola[extras]) (0.36.0)\n",
      "Requirement already satisfied: Pygments>=1.6 in ./nikola/lib/python3.11/site-packages (from Nikola[extras]) (2.15.0)\n",
      "Requirement already satisfied: Pillow>=2.4.0 in ./nikola/lib/python3.11/site-packages (from Nikola[extras]) (9.5.0)\n",
      "Requirement already satisfied: python-dateutil>=2.6.0 in ./nikola/lib/python3.11/site-packages (from Nikola[extras]) (2.8.2)\n",
      "Requirement already satisfied: docutils>=0.13 in ./nikola/lib/python3.11/site-packages (from Nikola[extras]) (0.19)\n",
      "Requirement already satisfied: mako>=1.0.0 in ./nikola/lib/python3.11/site-packages (from Nikola[extras]) (1.2.4)\n",
      "Requirement already satisfied: Markdown>=3.0.0 in ./nikola/lib/python3.11/site-packages (from Nikola[extras]) (3.4.3)\n",
      "Requirement already satisfied: unidecode>=0.04.16 in ./nikola/lib/python3.11/site-packages (from Nikola[extras]) (1.3.6)\n",
      "Requirement already satisfied: Yapsy>=1.11.223 in ./nikola/lib/python3.11/site-packages (from Nikola[extras]) (1.12.2)\n",
      "Requirement already satisfied: PyRSS2Gen>=1.1 in ./nikola/lib/python3.11/site-packages (from Nikola[extras]) (1.1)\n",
      "Requirement already satisfied: blinker>=1.3 in ./nikola/lib/python3.11/site-packages (from Nikola[extras]) (1.6.2)\n",
      "Requirement already satisfied: setuptools>=24.2.0 in ./nikola/lib/python3.11/site-packages (from Nikola[extras]) (66.1.1)\n",
      "Requirement already satisfied: natsort>=3.5.2 in ./nikola/lib/python3.11/site-packages (from Nikola[extras]) (8.3.1)\n",
      "Requirement already satisfied: requests>=2.2.0 in ./nikola/lib/python3.11/site-packages (from Nikola[extras]) (2.28.2)\n",
      "Requirement already satisfied: piexif>=1.0.3 in ./nikola/lib/python3.11/site-packages (from Nikola[extras]) (1.1.3)\n",
      "Requirement already satisfied: Babel>=2.6.0 in ./nikola/lib/python3.11/site-packages (from Nikola[extras]) (2.12.1)\n",
      "Collecting Jinja2>=2.7.2\n",
      "  Using cached Jinja2-3.1.2-py3-none-any.whl (133 kB)\n",
      "Collecting hsluv>=5.0.0\n",
      "  Downloading hsluv-5.0.3-py2.py3-none-any.whl (5.1 kB)\n",
      "Collecting pyphen>=0.9.1\n",
      "  Downloading pyphen-0.14.0-py3-none-any.whl (2.0 MB)\n",
      "\u001b[2K     \u001b[38;2;114;156;31m━━━━━━━━━━━━━━━━━━━━━━━━━━━━━━━━━━━━━━━━\u001b[0m \u001b[32m2.0/2.0 MB\u001b[0m \u001b[31m274.1 kB/s\u001b[0m eta \u001b[36m0:00:00\u001b[0mm eta \u001b[36m0:00:01\u001b[0m0:01\u001b[0m:01\u001b[0m\n",
      "\u001b[?25hCollecting micawber>=0.3.0\n",
      "  Downloading micawber-0.5.4.tar.gz (18 kB)\n",
      "  Preparing metadata (setup.py) ... \u001b[?25ldone\n",
      "\u001b[?25hCollecting pygal>=2.0.0\n",
      "  Downloading pygal-3.0.0-py2.py3-none-any.whl (129 kB)\n",
      "\u001b[2K     \u001b[38;2;114;156;31m━━━━━━━━━━━━━━━━━━━━━━━━━━━━━━━━━━━━━━\u001b[0m \u001b[32m129.4/129.4 kB\u001b[0m \u001b[31m52.4 kB/s\u001b[0m eta \u001b[36m0:00:00\u001b[0m kB/s\u001b[0m eta \u001b[36m0:00:01\u001b[0m\n",
      "\u001b[?25hCollecting typogrify>=2.0.4\n",
      "  Downloading typogrify-2.0.7.tar.gz (12 kB)\n",
      "  Preparing metadata (setup.py) ... \u001b[?25ldone\n",
      "\u001b[?25hCollecting phpserialize>=1.3\n",
      "  Downloading phpserialize-1.3.tar.gz (7.5 kB)\n",
      "  Preparing metadata (setup.py) ... \u001b[?25ldone\n",
      "\u001b[?25hCollecting notebook>=4.0.0\n",
      "  Downloading notebook-6.5.4-py3-none-any.whl (529 kB)\n",
      "\u001b[2K     \u001b[38;2;114;156;31m━━━━━━━━━━━━━━━━━━━━━━━━━━━━━━━━━━━━━\u001b[0m \u001b[32m529.8/529.8 kB\u001b[0m \u001b[31m130.2 kB/s\u001b[0m eta \u001b[36m0:00:00\u001b[0m[36m0:00:01\u001b[0mm eta \u001b[36m0:00:01\u001b[0m\n",
      "\u001b[?25hRequirement already satisfied: ipykernel>=4.0.0 in ./nikola/lib/python3.11/site-packages (from Nikola[extras]) (6.22.0)\n",
      "Collecting ghp-import>=1.0.0\n",
      "  Downloading ghp_import-2.1.0-py3-none-any.whl (11 kB)\n",
      "Collecting aiohttp>=3.0.0\n",
      "  Downloading aiohttp-3.8.4-cp311-cp311-manylinux_2_17_x86_64.manylinux2014_x86_64.whl (1.0 MB)\n",
      "\u001b[2K     \u001b[38;2;114;156;31m━━━━━━━━━━━━━━━━━━━━━━━━━━━━━━━━━━━━━━━━\u001b[0m \u001b[32m1.0/1.0 MB\u001b[0m \u001b[31m450.9 kB/s\u001b[0m eta \u001b[36m0:00:00\u001b[0mm eta \u001b[36m0:00:01\u001b[0m0:01\u001b[0m:01\u001b[0m\n",
      "\u001b[?25hCollecting watchdog>=0.8.3\n",
      "  Downloading watchdog-3.0.0-py3-none-manylinux2014_x86_64.whl (82 kB)\n",
      "\u001b[2K     \u001b[38;2;114;156;31m━━━━━━━━━━━━━━━━━━━━━━━━━━━━━━━━━━━━━━━━\u001b[0m \u001b[32m82.1/82.1 kB\u001b[0m \u001b[31m7.8 kB/s\u001b[0m eta \u001b[36m0:00:00\u001b[0mm eta \u001b[36m0:00:01\u001b[0m00:01\u001b[0m01\u001b[0m\n",
      "\u001b[?25hCollecting ruamel.yaml>=0.15\n",
      "  Downloading ruamel.yaml-0.17.21-py3-none-any.whl (109 kB)\n",
      "\u001b[2K     \u001b[38;2;114;156;31m━━━━━━━━━━━━━━━━━━━━━━━━━━━━━━━━━━━━━━\u001b[0m \u001b[32m109.5/109.5 kB\u001b[0m \u001b[31m91.2 kB/s\u001b[0m eta \u001b[36m0:00:00\u001b[0m1m349.1 kB/s\u001b[0m eta \u001b[36m0:00:01\u001b[0m\n",
      "\u001b[?25hCollecting toml>=0.9.2\n",
      "  Using cached toml-0.10.2-py2.py3-none-any.whl (16 kB)\n",
      "Collecting html5lib>=1.0\n",
      "  Downloading html5lib-1.1-py2.py3-none-any.whl (112 kB)\n",
      "\u001b[2K     \u001b[38;2;114;156;31m━━━━━━━━━━━━━━━━━━━━━━━━━━━━━━━━━━━━━━\u001b[0m \u001b[32m112.2/112.2 kB\u001b[0m \u001b[31m45.7 kB/s\u001b[0m eta \u001b[36m0:00:00\u001b[0m1m323.0 kB/s\u001b[0m eta \u001b[36m0:00:01\u001b[0m\n",
      "\u001b[?25hCollecting attrs>=17.3.0\n",
      "  Downloading attrs-23.1.0-py3-none-any.whl (61 kB)\n",
      "\u001b[2K     \u001b[38;2;114;156;31m━━━━━━━━━━━━━━━━━━━━━━━━━━━━━━━━━━━━━━━\u001b[0m \u001b[32m61.2/61.2 kB\u001b[0m \u001b[31m133.5 kB/s\u001b[0m eta \u001b[36m0:00:00\u001b[0m1m460.1 kB/s\u001b[0m eta \u001b[36m0:00:01\u001b[0m\n",
      "\u001b[?25hRequirement already satisfied: charset-normalizer<4.0,>=2.0 in ./nikola/lib/python3.11/site-packages (from aiohttp>=3.0.0->Nikola[extras]) (3.1.0)\n",
      "Collecting multidict<7.0,>=4.5\n",
      "  Downloading multidict-6.0.4-cp311-cp311-manylinux_2_17_x86_64.manylinux2014_x86_64.whl (117 kB)\n",
      "\u001b[2K     \u001b[38;2;114;156;31m━━━━━━━━━━━━━━━━━━━━━━━━━━━━━━━━━━━━━\u001b[0m \u001b[32m117.4/117.4 kB\u001b[0m \u001b[31m172.3 kB/s\u001b[0m eta \u001b[36m0:00:00\u001b[0m1m268.3 kB/s\u001b[0m eta \u001b[36m0:00:01\u001b[0m\n",
      "\u001b[?25hCollecting async-timeout<5.0,>=4.0.0a3\n",
      "  Downloading async_timeout-4.0.2-py3-none-any.whl (5.8 kB)\n",
      "Collecting yarl<2.0,>=1.0\n",
      "  Downloading yarl-1.8.2-cp311-cp311-manylinux_2_17_x86_64.manylinux2014_x86_64.whl (278 kB)\n",
      "\u001b[2K     \u001b[38;2;114;156;31m━━━━━━━━━━━━━━━━━━━━━━━━━━━━━━━━━━━━━\u001b[0m \u001b[32m278.1/278.1 kB\u001b[0m \u001b[31m219.1 kB/s\u001b[0m eta \u001b[36m0:00:00\u001b[0mm eta \u001b[36m0:00:01\u001b[0m0:01\u001b[0m:01\u001b[0m\n",
      "\u001b[?25hCollecting frozenlist>=1.1.1\n",
      "  Downloading frozenlist-1.3.3-cp311-cp311-manylinux_2_5_x86_64.manylinux1_x86_64.manylinux_2_17_x86_64.manylinux2014_x86_64.whl (154 kB)\n",
      "\u001b[2K     \u001b[38;2;114;156;31m━━━━━━━━━━━━━━━━━━━━━━━━━━━━━━━━━━━━━━\u001b[0m \u001b[32m154.3/154.3 kB\u001b[0m \u001b[31m65.0 kB/s\u001b[0m eta \u001b[36m0:00:00\u001b[0mm eta \u001b[36m0:00:01\u001b[0m0:01\u001b[0m:01\u001b[0m\n",
      "\u001b[?25hCollecting aiosignal>=1.1.2\n",
      "  Downloading aiosignal-1.3.1-py3-none-any.whl (7.6 kB)\n",
      "Requirement already satisfied: cloudpickle in ./nikola/lib/python3.11/site-packages (from doit>=0.32.0->Nikola[extras]) (2.2.1)\n",
      "Requirement already satisfied: importlib-metadata>=4.4 in ./nikola/lib/python3.11/site-packages (from doit>=0.32.0->Nikola[extras]) (6.4.1)\n",
      "Requirement already satisfied: six>=1.9 in ./nikola/lib/python3.11/site-packages (from html5lib>=1.0->Nikola[extras]) (1.16.0)\n",
      "Collecting webencodings\n",
      "  Downloading webencodings-0.5.1-py2.py3-none-any.whl (11 kB)\n",
      "Requirement already satisfied: comm>=0.1.1 in ./nikola/lib/python3.11/site-packages (from ipykernel>=4.0.0->Nikola[extras]) (0.1.3)\n",
      "Requirement already satisfied: debugpy>=1.6.5 in ./nikola/lib/python3.11/site-packages (from ipykernel>=4.0.0->Nikola[extras]) (1.6.7)\n",
      "Requirement already satisfied: ipython>=7.23.1 in ./nikola/lib/python3.11/site-packages (from ipykernel>=4.0.0->Nikola[extras]) (8.12.0)\n",
      "Requirement already satisfied: jupyter-client>=6.1.12 in ./nikola/lib/python3.11/site-packages (from ipykernel>=4.0.0->Nikola[extras]) (8.2.0)\n",
      "Requirement already satisfied: jupyter-core!=5.0.*,>=4.12 in ./nikola/lib/python3.11/site-packages (from ipykernel>=4.0.0->Nikola[extras]) (5.3.0)\n",
      "Requirement already satisfied: matplotlib-inline>=0.1 in ./nikola/lib/python3.11/site-packages (from ipykernel>=4.0.0->Nikola[extras]) (0.1.6)\n",
      "Requirement already satisfied: nest-asyncio in ./nikola/lib/python3.11/site-packages (from ipykernel>=4.0.0->Nikola[extras]) (1.5.6)\n",
      "Requirement already satisfied: packaging in ./nikola/lib/python3.11/site-packages (from ipykernel>=4.0.0->Nikola[extras]) (23.1)\n",
      "Requirement already satisfied: psutil in ./nikola/lib/python3.11/site-packages (from ipykernel>=4.0.0->Nikola[extras]) (5.9.4)\n",
      "Requirement already satisfied: pyzmq>=20 in ./nikola/lib/python3.11/site-packages (from ipykernel>=4.0.0->Nikola[extras]) (25.0.2)\n",
      "Requirement already satisfied: tornado>=6.1 in ./nikola/lib/python3.11/site-packages (from ipykernel>=4.0.0->Nikola[extras]) (6.2)\n",
      "Requirement already satisfied: traitlets>=5.4.0 in ./nikola/lib/python3.11/site-packages (from ipykernel>=4.0.0->Nikola[extras]) (5.9.0)\n",
      "Requirement already satisfied: MarkupSafe>=2.0 in ./nikola/lib/python3.11/site-packages (from Jinja2>=2.7.2->Nikola[extras]) (2.1.2)\n",
      "Collecting argon2-cffi\n",
      "  Using cached argon2_cffi-21.3.0-py3-none-any.whl (14 kB)\n",
      "Collecting ipython-genutils\n",
      "  Using cached ipython_genutils-0.2.0-py2.py3-none-any.whl (26 kB)\n",
      "Collecting nbformat\n",
      "  Downloading nbformat-5.8.0-py3-none-any.whl (77 kB)\n",
      "\u001b[2K     \u001b[38;2;114;156;31m━━━━━━━━━━━━━━━━━━━━━━━━━━━━━━━━━━━━━━━\u001b[0m \u001b[32m77.4/77.4 kB\u001b[0m \u001b[31m151.8 kB/s\u001b[0m eta \u001b[36m0:00:00\u001b[0m kB/s\u001b[0m eta \u001b[36m0:00:01\u001b[0m:01\u001b[0m\n",
      "\u001b[?25hCollecting nbconvert>=5\n",
      "  Downloading nbconvert-7.3.1-py3-none-any.whl (284 kB)\n",
      "\u001b[2K     \u001b[38;2;114;156;31m━━━━━━━━━━━━━━━━━━━━━━━━━━━━━━━━━━━━━\u001b[0m \u001b[32m284.1/284.1 kB\u001b[0m \u001b[31m431.0 kB/s\u001b[0m eta \u001b[36m0:00:00\u001b[0m[36m0:00:01\u001b[0m[36m0:00:01\u001b[0m:01\u001b[0m\n",
      "\u001b[?25hCollecting Send2Trash>=1.8.0\n",
      "  Using cached Send2Trash-1.8.0-py3-none-any.whl (18 kB)\n",
      "Collecting terminado>=0.8.3\n",
      "  Downloading terminado-0.17.1-py3-none-any.whl (17 kB)\n",
      "Collecting prometheus-client\n",
      "  Downloading prometheus_client-0.16.0-py3-none-any.whl (122 kB)\n",
      "\u001b[2K     \u001b[38;2;114;156;31m━━━━━━━━━━━━━━━━━━━━━━━━━━━━━━━━━━━━━\u001b[0m \u001b[32m122.5/122.5 kB\u001b[0m \u001b[31m240.6 kB/s\u001b[0m eta \u001b[36m0:00:00\u001b[0m kB/s\u001b[0m eta \u001b[36m0:00:01\u001b[0m:01\u001b[0m\n",
      "\u001b[?25hCollecting nbclassic>=0.4.7\n",
      "  Downloading nbclassic-0.5.5-py3-none-any.whl (10.0 MB)\n",
      "\u001b[2K     \u001b[38;2;114;156;31m━━━━━━━━━━━━━━━━━━━━━━━━━━━━━━━━━━━━━━━\u001b[0m \u001b[32m10.0/10.0 MB\u001b[0m \u001b[31m421.6 kB/s\u001b[0m eta \u001b[36m0:00:00\u001b[0mm eta \u001b[36m0:00:01\u001b[0m[36m0:00:01\u001b[0m\n",
      "\u001b[?25hRequirement already satisfied: idna<4,>=2.5 in ./nikola/lib/python3.11/site-packages (from requests>=2.2.0->Nikola[extras]) (3.4)\n",
      "Requirement already satisfied: urllib3<1.27,>=1.21.1 in ./nikola/lib/python3.11/site-packages (from requests>=2.2.0->Nikola[extras]) (1.26.15)\n",
      "Requirement already satisfied: certifi>=2017.4.17 in ./nikola/lib/python3.11/site-packages (from requests>=2.2.0->Nikola[extras]) (2022.12.7)\n",
      "Collecting smartypants>=1.8.3\n",
      "  Downloading smartypants-2.0.1-py2.py3-none-any.whl (9.9 kB)\n",
      "Requirement already satisfied: zipp>=0.5 in ./nikola/lib/python3.11/site-packages (from importlib-metadata>=4.4->doit>=0.32.0->Nikola[extras]) (3.15.0)\n",
      "Requirement already satisfied: backcall in ./nikola/lib/python3.11/site-packages (from ipython>=7.23.1->ipykernel>=4.0.0->Nikola[extras]) (0.2.0)\n",
      "Requirement already satisfied: decorator in ./nikola/lib/python3.11/site-packages (from ipython>=7.23.1->ipykernel>=4.0.0->Nikola[extras]) (5.1.1)\n",
      "Requirement already satisfied: jedi>=0.16 in ./nikola/lib/python3.11/site-packages (from ipython>=7.23.1->ipykernel>=4.0.0->Nikola[extras]) (0.18.2)\n",
      "Requirement already satisfied: pickleshare in ./nikola/lib/python3.11/site-packages (from ipython>=7.23.1->ipykernel>=4.0.0->Nikola[extras]) (0.7.5)\n",
      "Requirement already satisfied: prompt-toolkit!=3.0.37,<3.1.0,>=3.0.30 in ./nikola/lib/python3.11/site-packages (from ipython>=7.23.1->ipykernel>=4.0.0->Nikola[extras]) (3.0.38)\n",
      "Requirement already satisfied: stack-data in ./nikola/lib/python3.11/site-packages (from ipython>=7.23.1->ipykernel>=4.0.0->Nikola[extras]) (0.6.2)\n",
      "Requirement already satisfied: pexpect>4.3 in ./nikola/lib/python3.11/site-packages (from ipython>=7.23.1->ipykernel>=4.0.0->Nikola[extras]) (4.8.0)\n",
      "Requirement already satisfied: platformdirs>=2.5 in ./nikola/lib/python3.11/site-packages (from jupyter-core!=5.0.*,>=4.12->ipykernel>=4.0.0->Nikola[extras]) (3.2.0)\n",
      "Collecting jupyter-server>=1.8\n",
      "  Downloading jupyter_server-2.5.0-py3-none-any.whl (366 kB)\n",
      "\u001b[2K     \u001b[38;2;114;156;31m━━━━━━━━━━━━━━━━━━━━━━━━━━━━━━━━━━━━━\u001b[0m \u001b[32m366.8/366.8 kB\u001b[0m \u001b[31m204.3 kB/s\u001b[0m eta \u001b[36m0:00:00\u001b[0m[36m0:00:01\u001b[0m[36m0:00:01\u001b[0m:01\u001b[0m\n",
      "\u001b[?25hCollecting notebook-shim>=0.1.0\n",
      "  Downloading notebook_shim-0.2.2-py3-none-any.whl (13 kB)\n",
      "Collecting beautifulsoup4\n",
      "  Downloading beautifulsoup4-4.12.2-py3-none-any.whl (142 kB)\n",
      "\u001b[2K     \u001b[38;2;114;156;31m━━━━━━━━━━━━━━━━━━━━━━━━━━━━━━━━━━━━━\u001b[0m \u001b[32m143.0/143.0 kB\u001b[0m \u001b[31m207.3 kB/s\u001b[0m eta \u001b[36m0:00:00\u001b[0m kB/s\u001b[0m eta \u001b[36m0:00:01\u001b[0m:01\u001b[0m\n",
      "\u001b[?25hCollecting bleach\n",
      "  Downloading bleach-6.0.0-py3-none-any.whl (162 kB)\n",
      "\u001b[2K     \u001b[38;2;114;156;31m━━━━━━━━━━━━━━━━━━━━━━━━━━━━━━━━━━━━━━\u001b[0m \u001b[32m162.5/162.5 kB\u001b[0m \u001b[31m62.0 kB/s\u001b[0m eta \u001b[36m0:00:00\u001b[0m1m608.3 kB/s\u001b[0m eta \u001b[36m0:00:01\u001b[0m\n",
      "\u001b[?25hCollecting defusedxml\n",
      "  Using cached defusedxml-0.7.1-py2.py3-none-any.whl (25 kB)\n",
      "Collecting jupyterlab-pygments\n",
      "  Using cached jupyterlab_pygments-0.2.2-py2.py3-none-any.whl (21 kB)\n",
      "Collecting mistune<3,>=2.0.3\n",
      "  Downloading mistune-2.0.5-py2.py3-none-any.whl (24 kB)\n",
      "Collecting nbclient>=0.5.0\n",
      "  Downloading nbclient-0.7.3-py3-none-any.whl (72 kB)\n",
      "\u001b[2K     \u001b[38;2;114;156;31m━━━━━━━━━━━━━━━━━━━━━━━━━━━━━━━━━━━━━━━━\u001b[0m \u001b[32m72.4/72.4 kB\u001b[0m \u001b[31m2.3 kB/s\u001b[0m eta \u001b[36m0:00:00\u001b[0m0m eta \u001b[36m0:00:01\u001b[0m0:01\u001b[0m01\u001b[0m\n",
      "\u001b[?25hCollecting pandocfilters>=1.4.1\n",
      "  Using cached pandocfilters-1.5.0-py2.py3-none-any.whl (8.7 kB)\n",
      "Collecting tinycss2\n",
      "  Downloading tinycss2-1.2.1-py3-none-any.whl (21 kB)\n",
      "Collecting fastjsonschema\n",
      "  Downloading fastjsonschema-2.16.3-py3-none-any.whl (23 kB)\n",
      "Collecting jsonschema>=2.6\n",
      "  Downloading jsonschema-4.17.3-py3-none-any.whl (90 kB)\n",
      "\u001b[2K     \u001b[38;2;114;156;31m━━━━━━━━━━━━━━━━━━━━━━━━━━━━━━━━━━━━━━━\u001b[0m \u001b[32m90.4/90.4 kB\u001b[0m \u001b[31m138.4 kB/s\u001b[0m eta \u001b[36m0:00:00\u001b[0m kB/s\u001b[0m eta \u001b[36m0:00:01\u001b[0m:01\u001b[0m\n",
      "\u001b[?25hRequirement already satisfied: ptyprocess in ./nikola/lib/python3.11/site-packages (from terminado>=0.8.3->notebook>=4.0.0->Nikola[extras]) (0.7.0)\n",
      "Collecting argon2-cffi-bindings\n",
      "  Using cached argon2_cffi_bindings-21.2.0-cp36-abi3-manylinux_2_17_x86_64.manylinux2014_x86_64.whl (86 kB)\n",
      "Requirement already satisfied: parso<0.9.0,>=0.8.0 in ./nikola/lib/python3.11/site-packages (from jedi>=0.16->ipython>=7.23.1->ipykernel>=4.0.0->Nikola[extras]) (0.8.3)\n",
      "Collecting pyrsistent!=0.17.0,!=0.17.1,!=0.17.2,>=0.14.0\n",
      "  Downloading pyrsistent-0.19.3-py3-none-any.whl (57 kB)\n",
      "\u001b[2K     \u001b[38;2;114;156;31m━━━━━━━━━━━━━━━━━━━━━━━━━━━━━━━━━━━━━━━\u001b[0m \u001b[32m57.5/57.5 kB\u001b[0m \u001b[31m179.1 kB/s\u001b[0m eta \u001b[36m0:00:00\u001b[0m1m343.8 kB/s\u001b[0m eta \u001b[36m0:00:01\u001b[0m\n",
      "\u001b[?25hCollecting anyio>=3.1.0\n",
      "  Downloading anyio-3.6.2-py3-none-any.whl (80 kB)\n",
      "\u001b[2K     \u001b[38;2;114;156;31m━━━━━━━━━━━━━━━━━━━━━━━━━━━━━━━━━━━━━━━━\u001b[0m \u001b[32m80.6/80.6 kB\u001b[0m \u001b[31m22.5 kB/s\u001b[0m eta \u001b[36m0:00:00\u001b[0m1m367.0 kB/s\u001b[0m eta \u001b[36m0:00:01\u001b[0m\n",
      "\u001b[?25hCollecting jupyter-events>=0.4.0\n",
      "  Downloading jupyter_events-0.6.3-py3-none-any.whl (18 kB)\n",
      "Collecting jupyter-server-terminals\n",
      "  Downloading jupyter_server_terminals-0.4.4-py3-none-any.whl (13 kB)\n",
      "Collecting websocket-client\n",
      "  Downloading websocket_client-1.5.1-py3-none-any.whl (55 kB)\n",
      "\u001b[2K     \u001b[38;2;114;156;31m━━━━━━━━━━━━━━━━━━━━━━━━━━━━━━━━━━━━━━━━\u001b[0m \u001b[32m55.9/55.9 kB\u001b[0m \u001b[31m92.2 kB/s\u001b[0m eta \u001b[36m0:00:00\u001b[0m1m537.5 kB/s\u001b[0m eta \u001b[36m0:00:01\u001b[0m\n",
      "\u001b[?25hRequirement already satisfied: wcwidth in ./nikola/lib/python3.11/site-packages (from prompt-toolkit!=3.0.37,<3.1.0,>=3.0.30->ipython>=7.23.1->ipykernel>=4.0.0->Nikola[extras]) (0.2.6)\n",
      "Collecting cffi>=1.0.1\n",
      "  Downloading cffi-1.15.1-cp311-cp311-manylinux_2_17_x86_64.manylinux2014_x86_64.whl (462 kB)\n",
      "\u001b[2K     \u001b[38;2;114;156;31m━━━━━━━━━━━━━━━━━━━━━━━━━━━━━━━━━━━━━━\u001b[0m \u001b[32m462.6/462.6 kB\u001b[0m \u001b[31m16.1 kB/s\u001b[0m eta \u001b[36m0:00:00\u001b[0mm eta \u001b[36m0:00:01\u001b[0m0:01\u001b[0m:01\u001b[0m\n",
      "\u001b[?25hCollecting soupsieve>1.2\n",
      "  Downloading soupsieve-2.4-py3-none-any.whl (37 kB)\n",
      "Requirement already satisfied: executing>=1.2.0 in ./nikola/lib/python3.11/site-packages (from stack-data->ipython>=7.23.1->ipykernel>=4.0.0->Nikola[extras]) (1.2.0)\n",
      "Requirement already satisfied: asttokens>=2.1.0 in ./nikola/lib/python3.11/site-packages (from stack-data->ipython>=7.23.1->ipykernel>=4.0.0->Nikola[extras]) (2.2.1)\n",
      "Requirement already satisfied: pure-eval in ./nikola/lib/python3.11/site-packages (from stack-data->ipython>=7.23.1->ipykernel>=4.0.0->Nikola[extras]) (0.2.2)\n",
      "Collecting sniffio>=1.1\n",
      "  Downloading sniffio-1.3.0-py3-none-any.whl (10 kB)\n",
      "Collecting pycparser\n",
      "  Downloading pycparser-2.21-py2.py3-none-any.whl (118 kB)\n",
      "\u001b[2K     \u001b[38;2;114;156;31m━━━━━━━━━━━━━━━━━━━━━━━━━━━━━━━━━━━━━\u001b[0m \u001b[32m118.7/118.7 kB\u001b[0m \u001b[31m228.0 kB/s\u001b[0m eta \u001b[36m0:00:00\u001b[0m kB/s\u001b[0m eta \u001b[36m0:00:01\u001b[0m:01\u001b[0m\n",
      "\u001b[?25hCollecting python-json-logger>=2.0.4\n",
      "  Downloading python_json_logger-2.0.7-py3-none-any.whl (8.1 kB)\n",
      "Collecting pyyaml>=5.3\n",
      "  Downloading PyYAML-6.0-cp311-cp311-manylinux_2_17_x86_64.manylinux2014_x86_64.whl (757 kB)\n",
      "\u001b[2K     \u001b[38;2;114;156;31m━━━━━━━━━━━━━━━━━━━━━━━━━━━━━━━━━━━━━\u001b[0m \u001b[32m757.9/757.9 kB\u001b[0m \u001b[31m582.1 kB/s\u001b[0m eta \u001b[36m0:00:00\u001b[0mm eta \u001b[36m0:00:01\u001b[0m0:01\u001b[0m:01\u001b[0m\n",
      "\u001b[?25hCollecting rfc3339-validator\n",
      "  Downloading rfc3339_validator-0.1.4-py2.py3-none-any.whl (3.5 kB)\n",
      "Collecting rfc3986-validator>=0.1.1\n",
      "  Downloading rfc3986_validator-0.1.1-py2.py3-none-any.whl (4.2 kB)\n",
      "Collecting fqdn\n",
      "  Downloading fqdn-1.5.1-py3-none-any.whl (9.1 kB)\n",
      "Collecting isoduration\n",
      "  Downloading isoduration-20.11.0-py3-none-any.whl (11 kB)\n",
      "Collecting jsonpointer>1.13\n",
      "  Downloading jsonpointer-2.3-py2.py3-none-any.whl (7.8 kB)\n",
      "Collecting uri-template\n",
      "  Downloading uri_template-1.2.0-py3-none-any.whl (10 kB)\n",
      "Collecting webcolors>=1.11\n",
      "  Downloading webcolors-1.13-py3-none-any.whl (14 kB)\n",
      "Collecting arrow>=0.15.0\n",
      "  Downloading arrow-1.2.3-py3-none-any.whl (66 kB)\n",
      "\u001b[2K     \u001b[38;2;114;156;31m━━━━━━━━━━━━━━━━━━━━━━━━━━━━━━━━━━━━━━━\u001b[0m \u001b[32m66.4/66.4 kB\u001b[0m \u001b[31m133.1 kB/s\u001b[0m eta \u001b[36m0:00:00\u001b[0m kB/s\u001b[0m eta \u001b[36m0:00:01\u001b[0m\n",
      "\u001b[?25hBuilding wheels for collected packages: micawber, phpserialize, typogrify\n",
      "  Building wheel for micawber (setup.py) ... \u001b[?25ldone\n",
      "\u001b[?25h  Created wheel for micawber: filename=micawber-0.5.4-py3-none-any.whl size=22352 sha256=66bac87986381e77a05f71374350f655a059ded6bf008b24315be02f28ed8cc6\n",
      "  Stored in directory: /home/laurent/.cache/pip/wheels/79/91/52/bd953285e7a776fbe6e09dadf0cf22317316ed2fe4ae7c55b1\n",
      "  Building wheel for phpserialize (setup.py) ... \u001b[?25ldone\n",
      "\u001b[?25h  Created wheel for phpserialize: filename=phpserialize-1.3-py3-none-any.whl size=9470 sha256=f6406a9f109aeeff8dcada237ee0911aaa6a869f7d633fd47bbe826ee11695f1\n",
      "  Stored in directory: /home/laurent/.cache/pip/wheels/51/68/1d/c6f3e0f54403135513252e311c0dd8a48c7d96567974d4ed0f\n",
      "  Building wheel for typogrify (setup.py) ... \u001b[?25ldone\n",
      "\u001b[?25h  Created wheel for typogrify: filename=typogrify-2.0.7-py2.py3-none-any.whl size=13438 sha256=995a8c0515bf41cd4291ac8431553b94b05d9f1aee35721915f1a79d72be3e47\n",
      "  Stored in directory: /home/laurent/.cache/pip/wheels/02/88/c0/44a4e57c1e0a40ecc461f45fc00c2ac861887a0676de966bc7\n",
      "Successfully built micawber phpserialize typogrify\n",
      "Installing collected packages: webencodings, smartypants, Send2Trash, pygal, phpserialize, mistune, micawber, ipython-genutils, fastjsonschema, websocket-client, webcolors, watchdog, uri-template, typogrify, toml, tinycss2, terminado, soupsieve, sniffio, ruamel.yaml, rfc3986-validator, rfc3339-validator, pyyaml, python-json-logger, pyrsistent, pyphen, pycparser, prometheus-client, pandocfilters, multidict, jupyterlab-pygments, jsonpointer, Jinja2, html5lib, hsluv, frozenlist, fqdn, defusedxml, bleach, attrs, async-timeout, yarl, jupyter-server-terminals, jsonschema, ghp-import, cffi, beautifulsoup4, arrow, anyio, aiosignal, Nikola, nbformat, isoduration, argon2-cffi-bindings, aiohttp, nbclient, argon2-cffi, nbconvert, jupyter-events, jupyter-server, notebook-shim, nbclassic, notebook\n",
      "Successfully installed Jinja2-3.1.2 Nikola-8.2.3 Send2Trash-1.8.0 aiohttp-3.8.4 aiosignal-1.3.1 anyio-3.6.2 argon2-cffi-21.3.0 argon2-cffi-bindings-21.2.0 arrow-1.2.3 async-timeout-4.0.2 attrs-23.1.0 beautifulsoup4-4.12.2 bleach-6.0.0 cffi-1.15.1 defusedxml-0.7.1 fastjsonschema-2.16.3 fqdn-1.5.1 frozenlist-1.3.3 ghp-import-2.1.0 hsluv-5.0.3 html5lib-1.1 ipython-genutils-0.2.0 isoduration-20.11.0 jsonpointer-2.3 jsonschema-4.17.3 jupyter-events-0.6.3 jupyter-server-2.5.0 jupyter-server-terminals-0.4.4 jupyterlab-pygments-0.2.2 micawber-0.5.4 mistune-2.0.5 multidict-6.0.4 nbclassic-0.5.5 nbclient-0.7.3 nbconvert-7.3.1 nbformat-5.8.0 notebook-6.5.4 notebook-shim-0.2.2 pandocfilters-1.5.0 phpserialize-1.3 prometheus-client-0.16.0 pycparser-2.21 pygal-3.0.0 pyphen-0.14.0 pyrsistent-0.19.3 python-json-logger-2.0.7 pyyaml-6.0 rfc3339-validator-0.1.4 rfc3986-validator-0.1.1 ruamel.yaml-0.17.21 smartypants-2.0.1 sniffio-1.3.0 soupsieve-2.4 terminado-0.17.1 tinycss2-1.2.1 toml-0.10.2 typogrify-2.0.7 uri-template-1.2.0 watchdog-3.0.0 webcolors-1.13 webencodings-0.5.1 websocket-client-1.5.1 yarl-1.8.2\n",
      "Note: you may need to restart the kernel to use updated packages.\n"
     ]
    }
   ],
   "source": [
    "%pip install -U lxml \"Nikola[extras]\""
   ]
  },
  {
   "cell_type": "raw",
   "metadata": {
    "ExecuteTime": {
     "end_time": "2018-09-07T10:24:48.097536Z",
     "start_time": "2018-09-07T10:24:43.118411Z"
    }
   },
   "source": [
    "#!python3 -m pip uninstall -y rst2html5\n",
    "!python3 -m pip install -U --force rst2html5"
   ]
  },
  {
   "cell_type": "raw",
   "metadata": {
    "ExecuteTime": {
     "end_time": "2018-09-07T10:24:57.383520Z",
     "start_time": "2018-09-07T10:24:54.879696Z"
    }
   },
   "source": [
    "#!pip uninstall -y html5lib\n",
    "!python3 -m pip install -U --force html5lib"
   ]
  },
  {
   "cell_type": "code",
   "execution_count": null,
   "metadata": {
    "ExecuteTime": {
     "end_time": "2018-09-07T10:24:57.383520Z",
     "start_time": "2018-09-07T10:24:54.879696Z"
    }
   },
   "outputs": [],
   "source": [
    "#!pip uninstall -y html5lib"
   ]
  },
  {
   "cell_type": "code",
   "execution_count": 5,
   "metadata": {
    "ExecuteTime": {
     "end_time": "2018-09-07T10:25:37.163105Z",
     "start_time": "2018-09-07T10:25:34.804602Z"
    }
   },
   "outputs": [
    {
     "name": "stdout",
     "output_type": "stream",
     "text": [
      "Nikola v8.2.3\n"
     ]
    }
   ],
   "source": [
    "!nikola version"
   ]
  },
  {
   "cell_type": "markdown",
   "metadata": {},
   "source": [
    "# Adding a new post"
   ]
  },
  {
   "cell_type": "code",
   "execution_count": 6,
   "metadata": {
    "ExecuteTime": {
     "end_time": "2018-11-05T14:34:58.343345Z",
     "start_time": "2018-11-05T14:34:58.224501Z"
    }
   },
   "outputs": [
    {
     "name": "stdout",
     "output_type": "stream",
     "text": [
      "dim. 16 avril 2023 19:25:40 CEST\n"
     ]
    }
   ],
   "source": [
    "!date\n",
    "import datetime"
   ]
  },
  {
   "cell_type": "code",
   "execution_count": 7,
   "metadata": {
    "ExecuteTime": {
     "end_time": "2018-11-05T14:34:58.697822Z",
     "start_time": "2018-11-05T14:34:58.694703Z"
    }
   },
   "outputs": [
    {
     "name": "stdout",
     "output_type": "stream",
     "text": [
      "2023-04-16 19:25:44.804549\n"
     ]
    }
   ],
   "source": [
    "print(datetime.datetime.now())"
   ]
  },
  {
   "cell_type": "code",
   "execution_count": 8,
   "metadata": {
    "ExecuteTime": {
     "end_time": "2018-11-05T14:34:59.176807Z",
     "start_time": "2018-11-05T14:34:59.173942Z"
    }
   },
   "outputs": [
    {
     "name": "stdout",
     "output_type": "stream",
     "text": [
      "2023-04-16\n"
     ]
    }
   ],
   "source": [
    "now = datetime.datetime.now().date()\n",
    "date = now.isoformat()#[2:]\n",
    "print(date)"
   ]
  },
  {
   "cell_type": "raw",
   "metadata": {},
   "source": [
    "date = '2019-10-07'"
   ]
  },
  {
   "cell_type": "code",
   "execution_count": 9,
   "metadata": {
    "ExecuteTime": {
     "end_time": "2018-11-05T14:34:58.343345Z",
     "start_time": "2018-11-05T14:34:58.224501Z"
    }
   },
   "outputs": [
    {
     "name": "stdout",
     "output_type": "stream",
     "text": [
      "2023-04-16\n"
     ]
    }
   ],
   "source": [
    "import datetime\n",
    "date = datetime.datetime.now().date().isoformat()\n",
    "print(date)"
   ]
  },
  {
   "cell_type": "code",
   "execution_count": 10,
   "metadata": {},
   "outputs": [
    {
     "name": "stdout",
     "output_type": "stream",
     "text": [
      "\u001b[0;31mDocstring:\u001b[0m Return string in ISO 8601 format, YYYY-MM-DD.\n",
      "\u001b[0;31mType:\u001b[0m      builtin_function_or_method"
     ]
    }
   ],
   "source": [
    "now.isoformat?"
   ]
  },
  {
   "cell_type": "code",
   "execution_count": 11,
   "metadata": {
    "ExecuteTime": {
     "end_time": "2018-11-05T14:35:00.048738Z",
     "start_time": "2018-11-05T14:34:59.677518Z"
    }
   },
   "outputs": [],
   "source": [
    "from nikola import utils"
   ]
  },
  {
   "cell_type": "code",
   "execution_count": 13,
   "metadata": {
    "ExecuteTime": {
     "end_time": "2018-11-05T14:40:53.234519Z",
     "start_time": "2018-11-05T14:40:53.230930Z"
    }
   },
   "outputs": [],
   "source": [
    "tags_list = [\n",
    "    'python', \n",
    "#    'ipython', \n",
    "#    'jupyter', \n",
    "#    'nikola', \n",
    "    'blog', \n",
    "#    'themes', \n",
    "#    'pupil',\n",
    "#    'psychophysics',\n",
    "#    'outreach',   \n",
    "    # 'grand-public',\n",
    "#    'space', \n",
    "#    'behavior',\n",
    "#    'povray', \n",
    "#    'elasticite', \n",
    "   'art', \n",
    "   'trames', \n",
    "   'nature', \n",
    "#    'math',\n",
    "#    'bicv', \n",
    "#    'SLIP', \n",
    "#    'LogGabor', \n",
    "#    'SHL_scripts', \n",
    "#    'sparse', \n",
    "#    'Matching Pursuit',\n",
    "#    'Motion Particles',\n",
    "#    'holoviews',\n",
    "    # 'pytorch',\n",
    "    # 'deep-learning',\n",
    "    # 'machine-learning',\n",
    "#     'moviepy', \n",
    "    'numpy', \n",
    "#    'vispy', \n",
    "#    'neural',\n",
    "#    'motionclouds',\n",
    "#    'motion',\n",
    "#    'pynn',\n",
    "#    'saccades',\n",
    "#    'Free Energy',\n",
    "#    'learning',\n",
    "    'open-science',\n",
    "    # 'pandas',\n",
    "#    'shell',\n",
    "#    'vim',\n",
    "#    'orientation',\n",
    "#    'vision',\n",
    "#    'retina',\n",
    "#    'v1',\n",
    "]\n",
    "formt = 'rest'\n",
    "formt = 'markdown'\n",
    "formt = 'ipynb'"
   ]
  },
  {
   "cell_type": "code",
   "execution_count": 14,
   "metadata": {
    "ExecuteTime": {
     "end_time": "2018-11-05T14:41:01.475071Z",
     "start_time": "2018-11-05T14:41:00.415148Z"
    }
   },
   "outputs": [
    {
     "name": "stdout",
     "output_type": "stream",
     "text": [
      "nikola new_post [options] [path]\n",
      "    create a new blog post or site page\n",
      "\n",
      "Options:\n",
      "    -p, --page\n",
      "        Create a page instead of a blog post. (see also: `nikola\n",
      "        new_page`)\n",
      "    -t ARG, --title=ARG\n",
      "        Title for the post.\n",
      "    -a ARG, --author=ARG\n",
      "        Author of the post.\n",
      "    --tags=ARG\n",
      "        Comma-separated tags for the post.\n",
      "    -1\n",
      "        Create the post with embedded metadata (single file format)\n",
      "    -2\n",
      "        Create the post with separate metadata (two file format)\n",
      "    -e\n",
      "        Open the post (and meta file, if any) in $EDITOR after\n",
      "        creation.\n",
      "    -f ARG, --format=ARG\n",
      "        Markup format for the post (use --available-formats for list)\n",
      "    -F, --available-formats\n",
      "        List all available input formats\n",
      "    -s\n",
      "        Schedule the post based on recurrence rule\n",
      "    -i ARG, --import=ARG\n",
      "        Import an existing file instead of creating a placeholder\n",
      "    -d, --date-path\n",
      "        Create post with date path (eg. year/month/day, see\n",
      "        NEW_POST_DATE_PATH_FORMAT in config)\n"
     ]
    }
   ],
   "source": [
    "!nikola new_post -h"
   ]
  },
  {
   "cell_type": "code",
   "execution_count": 15,
   "metadata": {
    "ExecuteTime": {
     "end_time": "2018-11-05T14:41:01.475071Z",
     "start_time": "2018-11-05T14:41:00.415148Z"
    }
   },
   "outputs": [
    {
     "name": "stdout",
     "output_type": "stream",
     "text": [
      "Available input formats:\n",
      "\n",
      " NAME        DESCRIPTION       EXTENSIONS\n",
      "\n",
      " html        HTML              .html, .htm\n",
      " ipynb       Jupyter Notebook  .ipynb\n",
      " markdown    Markdown          .md, .mdown, .markdown\n",
      " rest        reStructuredText  .rst, .txt\n",
      "!php         PHP               .php\n",
      "~pandoc      Pandoc            (disabled: not in COMPILERS)\n",
      "~rest_html5  rest_html5        (disabled: not in COMPILERS)\n",
      "\n",
      "    More compilers are available in the Plugins Index.\n",
      "\n",
      "    Compilers marked with ! and ~ require additional configuration:\n",
      "        ! not in the POSTS/PAGES tuples and any post scanners (unused)\n",
      "        ~ not in the COMPILERS dict (disabled)\n",
      "    Read more: https://getnikola.com/handbook.html#configuring-other-input-formats\n"
     ]
    }
   ],
   "source": [
    "!nikola new_post  --available-formats"
   ]
  },
  {
   "cell_type": "code",
   "execution_count": 16,
   "metadata": {
    "ExecuteTime": {
     "end_time": "2018-11-05T14:41:08.343633Z",
     "start_time": "2018-11-05T14:41:02.455292Z"
    }
   },
   "outputs": [
    {
     "name": "stdout",
     "output_type": "stream",
     "text": [
      "Creating New Post\n",
      "-----------------\n",
      "\n",
      "Title: 2023-04-16 Modelling wind ripples\n",
      "Scanning posts.........done!\n",
      "\u001b[1;33m[2023-04-16 19:30:21] WARNING: ipynb: No kernel specified, assuming \"python3\".\u001b[0m\n",
      "0.00s - Debugger warning: It seems that frozen modules are being used, which may\n",
      "0.00s - make the debugger miss breakpoints. Please pass -Xfrozen_modules=off\n",
      "0.00s - to python to disable frozen modules.\n",
      "0.00s - Note: Debugging will proceed. Set PYDEVD_DISABLE_FILE_VALIDATION=1 to disable this validation.\n",
      "\u001b[1m[2023-04-16 19:30:21] INFO: new_post: Your post's metadata is at: posts/2023-04-16-modelling-wind-ripples.meta\u001b[0m\n",
      "\u001b[1m[2023-04-16 19:30:21] INFO: new_post: Your post's text is at: posts/2023-04-16-modelling-wind-ripples.ipynb\u001b[0m\n"
     ]
    }
   ],
   "source": [
    "tags = ', '.join(tags_list)\n",
    "title = date + ' ' + \"Modelling wind ripples\"\n",
    "#title = '2017-12-13 accessing the data from a pupil recording'\n",
    "!nikola new_post -f \"{formt}\" -2 -t \"{title}\" --tags=\"{tags}\""
   ]
  },
  {
   "cell_type": "code",
   "execution_count": 17,
   "metadata": {
    "ExecuteTime": {
     "end_time": "2018-11-08T10:17:49.012273Z",
     "start_time": "2018-11-08T10:17:49.005411Z"
    }
   },
   "outputs": [
    {
     "name": "stdout",
     "output_type": "stream",
     "text": [
      "posts/2023-04-16-modelling-wind-ripples.ipynb\n"
     ]
    }
   ],
   "source": [
    "fname = utils.os.path.join('posts', utils.slugify(title) + '.' + formt)\n",
    "print(fname)"
   ]
  },
  {
   "cell_type": "code",
   "execution_count": 18,
   "metadata": {
    "ExecuteTime": {
     "end_time": "2018-11-05T14:41:18.822843Z",
     "start_time": "2018-11-05T14:41:18.813958Z"
    }
   },
   "outputs": [
    {
     "data": {
      "text/plain": [
       "'posts/2023-04-16-modelling-wind-ripples.ipynb'"
      ]
     },
     "execution_count": 18,
     "metadata": {},
     "output_type": "execute_result"
    }
   ],
   "source": [
    "utils.shutil.copy('template.ipynb', fname)"
   ]
  },
  {
   "cell_type": "markdown",
   "metadata": {},
   "source": [
    "# Copying existing notebooks"
   ]
  },
  {
   "cell_type": "code",
   "execution_count": null,
   "metadata": {},
   "outputs": [
    {
     "data": {
      "text/plain": [
       "\u001b[0;31mSignature:\u001b[0m \u001b[0mutils\u001b[0m\u001b[0;34m.\u001b[0m\u001b[0mshutil\u001b[0m\u001b[0;34m.\u001b[0m\u001b[0mcopy\u001b[0m\u001b[0;34m(\u001b[0m\u001b[0msrc\u001b[0m\u001b[0;34m,\u001b[0m \u001b[0mdst\u001b[0m\u001b[0;34m,\u001b[0m \u001b[0;34m*\u001b[0m\u001b[0;34m,\u001b[0m \u001b[0mfollow_symlinks\u001b[0m\u001b[0;34m=\u001b[0m\u001b[0;32mTrue\u001b[0m\u001b[0;34m)\u001b[0m\u001b[0;34m\u001b[0m\u001b[0;34m\u001b[0m\u001b[0m\n",
       "\u001b[0;31mDocstring:\u001b[0m\n",
       "Copy data and mode bits (\"cp src dst\"). Return the file's destination.\n",
       "\n",
       "The destination may be a directory.\n",
       "\n",
       "If follow_symlinks is false, symlinks won't be followed. This\n",
       "resembles GNU's \"cp -P src dst\".\n",
       "\n",
       "If source and destination are the same file, a SameFileError will be\n",
       "raised.\n",
       "\u001b[0;31mFile:\u001b[0m      /usr/local/Cellar/python/3.7.7/Frameworks/Python.framework/Versions/3.7/lib/python3.7/shutil.py\n",
       "\u001b[0;31mType:\u001b[0m      function\n"
      ]
     },
     "metadata": {},
     "output_type": "display_data"
    }
   ],
   "source": [
    "utils.shutil.copy?"
   ]
  },
  {
   "attachments": {},
   "cell_type": "markdown",
   "metadata": {
    "tags": []
   },
   "source": [
    "## 2023\n"
   ]
  },
  {
   "cell_type": "code",
   "execution_count": null,
   "metadata": {
    "ExecuteTime": {
     "end_time": "2018-11-05T14:41:18.822843Z",
     "start_time": "2018-11-05T14:41:18.813958Z"
    }
   },
   "outputs": [
    {
     "data": {
      "text/plain": [
       "'posts/2023-02-02-implementing-a-retinotopic-transform-using-grid_sample-from-pytorch.ipynb'"
      ]
     },
     "execution_count": 16,
     "metadata": {},
     "output_type": "execute_result"
    }
   ],
   "source": [
    "utils.shutil.copy('/Users/laurentperrinet/quantic/timeline/2023-01-31_formes-et-perception/images/Retinotopie.ipynb', fname)\n"
   ]
  },
  {
   "cell_type": "markdown",
   "metadata": {
    "tags": []
   },
   "source": [
    "## 2022\n"
   ]
  },
  {
   "cell_type": "code",
   "execution_count": null,
   "metadata": {
    "ExecuteTime": {
     "end_time": "2018-11-05T14:41:18.822843Z",
     "start_time": "2018-11-05T14:41:18.813958Z"
    }
   },
   "outputs": [],
   "source": [
    "from nikola import utils"
   ]
  },
  {
   "cell_type": "code",
   "execution_count": null,
   "metadata": {},
   "outputs": [],
   "source": [
    "fname = 'posts/2022-06-08-transfert-de-voix.ipynb'"
   ]
  },
  {
   "cell_type": "code",
   "execution_count": null,
   "metadata": {
    "ExecuteTime": {
     "end_time": "2018-11-05T14:41:18.822843Z",
     "start_time": "2018-11-05T14:41:18.813958Z"
    }
   },
   "outputs": [
    {
     "data": {
      "text/plain": [
       "'posts/2022-06-08-transfert-de-voix.ipynb'"
      ]
     },
     "execution_count": 12,
     "metadata": {},
     "output_type": "execute_result"
    }
   ],
   "source": [
    "utils.shutil.copy('/Users/laurentperrinet/quantic/RTC/2022-05-04_transfert-des-voix/2022-06-08_transfert-des-voix.ipynb', fname)"
   ]
  },
  {
   "cell_type": "code",
   "execution_count": null,
   "metadata": {},
   "outputs": [],
   "source": [
    "fname = 'posts/2022-02-11-cosyne-reviewer-feedback.ipynb'"
   ]
  },
  {
   "cell_type": "code",
   "execution_count": null,
   "metadata": {
    "ExecuteTime": {
     "end_time": "2018-11-05T14:41:18.822843Z",
     "start_time": "2018-11-05T14:41:18.813958Z"
    }
   },
   "outputs": [
    {
     "data": {
      "text/plain": [
       "'posts/2022-02-11-cosyne-reviewer-feedback.ipynb'"
      ]
     },
     "execution_count": 27,
     "metadata": {},
     "output_type": "execute_result"
    }
   ],
   "source": [
    "utils.shutil.copy('/Users/laurentperrinet/quantic/RTC/2022-02-11_COSYNE-scoresheet/2022-02-11_COSYNE-scoresheet.ipynb', fname)"
   ]
  },
  {
   "cell_type": "markdown",
   "metadata": {},
   "source": [
    "## 2021\n"
   ]
  },
  {
   "cell_type": "code",
   "execution_count": null,
   "metadata": {},
   "outputs": [],
   "source": [
    "fname = 'posts/2021-03-27-density-of-stars-on-the-surface-of-the-sky.ipynb'"
   ]
  },
  {
   "cell_type": "code",
   "execution_count": null,
   "metadata": {
    "ExecuteTime": {
     "end_time": "2018-11-05T14:41:18.822843Z",
     "start_time": "2018-11-05T14:41:18.813958Z"
    }
   },
   "outputs": [
    {
     "data": {
      "text/plain": [
       "'/Users/laurentperrinet/quantic/EtienneRey/2019-06_StarField/2021-03-27-density-of-stars-on-the-surface-of-the-sky.ipynb'"
      ]
     },
     "execution_count": 14,
     "metadata": {},
     "output_type": "execute_result"
    }
   ],
   "source": [
    "from nikola import utils\n",
    "utils.shutil.copy(fname, '/Users/laurentperrinet/quantic/EtienneRey/2019-06_StarField/')"
   ]
  },
  {
   "cell_type": "code",
   "execution_count": null,
   "metadata": {
    "ExecuteTime": {
     "end_time": "2018-11-05T14:41:18.822843Z",
     "start_time": "2018-11-05T14:41:18.813958Z"
    }
   },
   "outputs": [],
   "source": [
    "from nikola import utils\n",
    "utils.shutil.copy('/Users/laurentperrinet/Downloads/NetworkModel_Toolbox/RunAnalyse_Simulations.ipynb', fname)"
   ]
  },
  {
   "cell_type": "markdown",
   "metadata": {},
   "source": [
    "## 2020"
   ]
  },
  {
   "cell_type": "code",
   "execution_count": null,
   "metadata": {
    "ExecuteTime": {
     "end_time": "2018-11-05T14:41:18.822843Z",
     "start_time": "2018-11-05T14:41:18.813958Z"
    }
   },
   "outputs": [
    {
     "data": {
      "text/plain": [
       "'posts/2020-11-24-extracting-music-from-the-screenshots-of-a-spotify-playlist.ipynb'"
      ]
     },
     "execution_count": 44,
     "metadata": {},
     "output_type": "execute_result"
    }
   ],
   "source": [
    "from nikola import utils\n",
    "utils.shutil.copy('/Users/laurentperrinet/quantic/Documents/downloads/PLayList-Etienne-2019/dev-Genius.ipynb', 'posts/2020-11-24-extracting-music-from-the-screenshots-of-a-spotify-playlist.ipynb')"
   ]
  },
  {
   "cell_type": "code",
   "execution_count": null,
   "metadata": {
    "ExecuteTime": {
     "end_time": "2018-11-05T14:41:18.822843Z",
     "start_time": "2018-11-05T14:41:18.813958Z"
    }
   },
   "outputs": [
    {
     "data": {
      "text/plain": [
       "'posts/2020-09-28-benchmarking-cnns.ipynb'"
      ]
     },
     "execution_count": 24,
     "metadata": {},
     "output_type": "execute_result"
    }
   ],
   "source": [
    "from nikola import utils\n",
    "utils.shutil.copy('/Users/laurentperrinet/quantic/science/ActiveVision/2020_StageM1_Jean-Nicolas/2020-06-26_fast_and_curious/benchmark_image_recognition.ipynb', 'posts/2020-09-28-benchmarking-cnns.ipynb')"
   ]
  },
  {
   "cell_type": "code",
   "execution_count": null,
   "metadata": {
    "ExecuteTime": {
     "end_time": "2018-11-05T14:41:18.822843Z",
     "start_time": "2018-11-05T14:41:18.813958Z"
    }
   },
   "outputs": [
    {
     "data": {
      "text/plain": [
       "'posts/2020-06-19-caustic-optics.ipynb'"
      ]
     },
     "execution_count": 39,
     "metadata": {},
     "output_type": "execute_result"
    }
   ],
   "source": [
    "from nikola import utils\n",
    "utils.shutil.copy('/Users/laurentperrinet/quantic/EtienneRey/2020_caustiques/2020-06-19_caustique.ipynb', 'posts/2020-06-19-caustic-optics.ipynb')"
   ]
  },
  {
   "cell_type": "code",
   "execution_count": null,
   "metadata": {
    "ExecuteTime": {
     "end_time": "2018-11-05T14:41:18.822843Z",
     "start_time": "2018-11-05T14:41:18.813958Z"
    }
   },
   "outputs": [],
   "source": [
    "!nbdiff /Users/laurentperrinet/quantic/EtienneRey/2020_caustiques/2020-06-19_caustique.ipynb posts/2020-06-19-caustic-optics.ipynb"
   ]
  },
  {
   "cell_type": "code",
   "execution_count": null,
   "metadata": {
    "ExecuteTime": {
     "end_time": "2018-11-05T14:41:18.822843Z",
     "start_time": "2018-11-05T14:41:18.813958Z"
    }
   },
   "outputs": [
    {
     "data": {
      "text/plain": [
       "'files/2020-06-19_caustique'"
      ]
     },
     "execution_count": 41,
     "metadata": {},
     "output_type": "execute_result"
    }
   ],
   "source": [
    "utils.shutil.rmtree('files/2020-06-19_caustique', ignore_errors=True)\n",
    "utils.shutil.copytree('/Users/laurentperrinet/quantic/EtienneRey/2020_caustiques/2020-06-19_caustique', 'files/2020-06-19_caustique')"
   ]
  },
  {
   "cell_type": "code",
   "execution_count": null,
   "metadata": {},
   "outputs": [
    {
     "data": {
      "text/plain": [
       "'/Users/laurentperrinet/quantic/EtienneRey/2020_caustiques/2020-06-19_caustique'"
      ]
     },
     "execution_count": 42,
     "metadata": {},
     "output_type": "execute_result"
    }
   ],
   "source": [
    "#utils.shutil.rmtree('/Users/laurentperrinet/quantic/EtienneRey/files', ignore_errors=True)\n",
    "#utils.shutil.move('/Users/laurentperrinet/quantic/EtienneRey/files/2020-06-19_caustique', '/Users/laurentperrinet/quantic/EtienneRey/2020_caustiques/2020-06-19_caustique')"
   ]
  },
  {
   "cell_type": "markdown",
   "metadata": {},
   "source": [
    "## 2019"
   ]
  },
  {
   "cell_type": "code",
   "execution_count": null,
   "metadata": {
    "ExecuteTime": {
     "end_time": "2018-11-05T14:41:18.822843Z",
     "start_time": "2018-11-05T14:41:18.813958Z"
    }
   },
   "outputs": [
    {
     "data": {
      "text/plain": [
       "'posts/2020-04-08-fitting-a-psychometric-curve-using-pytorch.ipynb'"
      ]
     },
     "execution_count": 36,
     "metadata": {},
     "output_type": "execute_result"
    }
   ],
   "source": [
    "utils.shutil.copy('/Users/laurentperrinet/quantic/science/OBV1/jennafradin_MSc-Internship/Notebooks/W13/10_theory-fitting_psychometric.ipynb', fname)"
   ]
  },
  {
   "cell_type": "code",
   "execution_count": null,
   "metadata": {},
   "outputs": [
    {
     "name": "stdout",
     "output_type": "stream",
     "text": [
      "posts/2015-05-22-a-hitchhiker-guide-to-matching-pursuit.ipynb\n",
      "posts/2015-05-22-a-hitchhiker-guide-to-matching-pursuit.meta\n"
     ]
    }
   ],
   "source": [
    "%ls posts/2015*hitch*"
   ]
  },
  {
   "cell_type": "code",
   "execution_count": null,
   "metadata": {
    "ExecuteTime": {
     "end_time": "2018-11-05T14:41:18.822843Z",
     "start_time": "2018-11-05T14:41:18.813958Z"
    }
   },
   "outputs": [
    {
     "data": {
      "text/plain": [
       "'posts/2019-11-28-role-of-gamma-correction-in-sparse-coding.ipynb'"
      ]
     },
     "execution_count": 16,
     "metadata": {},
     "output_type": "execute_result"
    }
   ],
   "source": [
    "utils.shutil.copy('posts/2015-05-22-a-hitchhiker-guide-to-matching-pursuit.ipynb', fname)"
   ]
  },
  {
   "cell_type": "code",
   "execution_count": null,
   "metadata": {
    "ExecuteTime": {
     "end_time": "2018-11-08T10:17:33.863368Z",
     "start_time": "2018-11-08T10:17:33.822970Z"
    }
   },
   "outputs": [],
   "source": [
    "utils.shutil.copy('/Users/laurentperrinet/pool/TimeWarp/2018-11-05_Statistics of the natural input to a ring model.ipynb', fname)\n",
    "utils.shutil.copy('/Users/laurentperrinet/pool/TimeWarp/figs/2018-11-05_Ring_input.mp4', 'files/')"
   ]
  },
  {
   "cell_type": "code",
   "execution_count": null,
   "metadata": {},
   "outputs": [],
   "source": [
    "utils.shutil.copy('/Users/laurentperrinet//science/pupil/dev/2017-12-13 accessing the data from a pupil recording.ipynb', 'posts/2017-12-13-accessing-the-data-from-a-pupil-recording.ipynb')"
   ]
  },
  {
   "cell_type": "code",
   "execution_count": null,
   "metadata": {
    "collapsed": true,
    "jupyter": {
     "outputs_hidden": true
    }
   },
   "outputs": [],
   "source": [
    "titles = ['2017-03-29 testing COMPs-Pcum', '2017-03-29 testing COMPs-fastPcum', '2017-03-29 testing COMPs-fastPcum_scripted']"
   ]
  },
  {
   "cell_type": "code",
   "execution_count": null,
   "metadata": {},
   "outputs": [],
   "source": [
    "tags = ', '.join(tags_list)\n",
    "for title in titles:\n",
    "    !nikola new_post -f \"{formt}\" -2 -t \"{title}\" --tags=\"{tags}\""
   ]
  },
  {
   "cell_type": "code",
   "execution_count": null,
   "metadata": {},
   "outputs": [],
   "source": [
    "for title in titles:\n",
    "    fname = utils.os.path.join('posts', utils.slugify(title) + '.' + formt)\n",
    "    print(fname)\n",
    "    import os\n",
    "    home = os.environ['HOME']\n",
    "    print(home)\n",
    "    filepath = home +  \"/science/VB_These/Rapport d'avancement/2017-03/\"\n",
    "    print(filepath + title +'.ipynb')\n",
    "    utils.shutil.copy(filepath + title +'.ipynb', fname)"
   ]
  },
  {
   "cell_type": "markdown",
   "metadata": {},
   "source": [
    "\n",
    "TODO : 2017-05-23-reproducing-olshausens-classical-sparsenet-part-5.ipynb and others from 2017-05-23-reproducing-olshausens-classical-sparsenet-part-5.ipynb\n"
   ]
  },
  {
   "cell_type": "raw",
   "metadata": {},
   "source": [
    "Below, I detail some thoughts on why it is a perfect preamble for most ipython notebooks.\n",
    "\n",
    "<!-- TEASER_END -->"
   ]
  },
  {
   "cell_type": "code",
   "execution_count": null,
   "metadata": {
    "collapsed": true,
    "jupyter": {
     "outputs_hidden": true
    }
   },
   "outputs": [],
   "source": [
    "import nikola"
   ]
  },
  {
   "cell_type": "code",
   "execution_count": null,
   "metadata": {
    "collapsed": true,
    "jupyter": {
     "outputs_hidden": true
    }
   },
   "outputs": [],
   "source": [
    "nikola.utils."
   ]
  },
  {
   "cell_type": "code",
   "execution_count": null,
   "metadata": {
    "collapsed": true,
    "jupyter": {
     "outputs_hidden": true
    }
   },
   "outputs": [],
   "source": [
    "from nikola.plugins import commands"
   ]
  },
  {
   "cell_type": "code",
   "execution_count": null,
   "metadata": {
    "collapsed": true,
    "jupyter": {
     "outputs_hidden": true
    }
   },
   "outputs": [],
   "source": [
    "plugins.absolute_import"
   ]
  },
  {
   "cell_type": "code",
   "execution_count": null,
   "metadata": {
    "collapsed": true,
    "jupyter": {
     "outputs_hidden": true
    }
   },
   "outputs": [],
   "source": [
    "!nikola help new_post "
   ]
  },
  {
   "cell_type": "code",
   "execution_count": null,
   "metadata": {
    "collapsed": true,
    "jupyter": {
     "outputs_hidden": true
    }
   },
   "outputs": [],
   "source": [
    "base_url = \"http://127.0.0.1:\"\n",
    "port = 8889\n",
    "\n",
    "from nikola import utils\n",
    "notebook = \"/notebooks/posts/\" + utils.slugify(unicode(title)) + \".ipynb\"  \n",
    "\n",
    "url = base_url + str(port) + notebook\n",
    "print url"
   ]
  },
  {
   "cell_type": "code",
   "execution_count": null,
   "metadata": {
    "collapsed": true,
    "jupyter": {
     "outputs_hidden": true
    }
   },
   "outputs": [],
   "source": [
    "def convert(URL, DATE, TIME, TITLE, TAGS, doit=True):\n",
    "\n",
    "    TIMEDTITLE = DATE[2:] + ' ' + TITLE\n",
    "    SLUG = DATE[2:] + '-' + TITLE.replace(' ', '-')\n",
    "    tmplt = \"\"\"\\\n",
    ".. title: %s %s\n",
    ".. slug: %s\n",
    ".. date: %s %s\n",
    ".. type: text\n",
    ".. tags: %s\n",
    "    \n",
    "\"\"\" % (DATE[2:], TITLE, SLUG, DATE, TIME, TAGS)\n",
    "\n",
    "    print tmplt\n",
    "\n",
    "    if doit:\n",
    "        import os\n",
    "        print TITLE, TAGS\n",
    "        cmd = 'cd ..; nikola new_post --title=\"%s\" --tags=\"%s\"' % (TIMEDTITLE, TAGS)\n",
    "        print cmd\n",
    "        os.system(cmd)\n",
    "        f = file(SLUG + '.rst', 'w')\n",
    "        f.write(tmplt + pagerst)\n",
    "        f.close()\n",
    "    else:\n",
    "        print tmplt"
   ]
  },
  {
   "cell_type": "markdown",
   "metadata": {},
   "source": [
    "## updating dates to iso8601 : ipython notebooks"
   ]
  },
  {
   "cell_type": "code",
   "execution_count": null,
   "metadata": {
    "collapsed": true,
    "jupyter": {
     "outputs_hidden": true
    },
    "scrolled": true
   },
   "outputs": [],
   "source": [
    "import glob, os, shutil\n",
    "from nikola import utils\n",
    "\n",
    "for fname in glob.glob(\"posts/14*.ipynb\"):\n",
    "    ROOT, FILE = os.path.split(fname)\n",
    "    SLUG = 'posts/' + FILE.replace('.ipynb', '.meta')\n",
    "    FILE_new = 'posts/20' + FILE\n",
    "    SLUG_new = 'posts/20' + FILE.replace('.ipynb', '.meta')\n",
    "    print(SLUG)\n",
    "    meta = ''\n",
    "    with open(SLUG, 'r') as f: \n",
    "        for line in f.readlines():\n",
    "            meta += line.replace(' 14-', ' 2014-')\n",
    "    print(FILE_new, SLUG_new)\n",
    "    print(meta)\n",
    "    if True:\n",
    "        with open(SLUG_new, 'w') as f: f.write(meta)\n",
    "        shutil.copy( 'posts/' + FILE, FILE_new)\n",
    "        os.remove('posts/' + FILE)\n",
    "        os.remove(SLUG)"
   ]
  },
  {
   "cell_type": "markdown",
   "metadata": {},
   "source": [
    "## updating dates to iso8601 : other posts"
   ]
  },
  {
   "cell_type": "code",
   "execution_count": null,
   "metadata": {
    "collapsed": true,
    "jupyter": {
     "outputs_hidden": true
    }
   },
   "outputs": [],
   "source": [
    "import glob, os, shutil\n",
    "from nikola import utils\n",
    "\n",
    "for YEAR in [\"10\", \"11\", \"12\", \"13\", \"14\"]:\n",
    "    for fname in glob.glob(\"posts/\"+ YEAR + \"-*.txt\"):\n",
    "        ROOT, FILE = os.path.split(fname)\n",
    "        FILE_new = 'posts/20' + FILE\n",
    "        print(FILE_new)\n",
    "        if True:\n",
    "            shutil.copy( 'posts/' + FILE, FILE_new)\n",
    "            os.remove('posts/' + FILE)\n"
   ]
  },
  {
   "cell_type": "code",
   "execution_count": null,
   "metadata": {
    "collapsed": true,
    "jupyter": {
     "outputs_hidden": true
    },
    "scrolled": true
   },
   "outputs": [],
   "source": [
    "import glob, os, shutil\n",
    "from nikola import utils\n",
    "\n",
    "for ext in [\"*.txt\", \"*.rst\"]:\n",
    "    for YEAR in [\"06\", \"07\", \"08\", \"09\", \"10\", \"11\", \"12\", \"13\", \"14\", \"15\"]:\n",
    "        for fname in glob.glob(\"posts/20\"+ YEAR + ext):\n",
    "            ROOT, FILE = os.path.split(fname)\n",
    "            post = ''\n",
    "            with open('posts/' + FILE, 'r') as f: \n",
    "                for line in f.readlines():\n",
    "                    line = line.replace(' '+ YEAR + '-', ' 20'+ YEAR + '-')\n",
    "                    for YEAR_ in [\"10\", \"11\", \"12\", \"13\", \"14\"]:\n",
    "                        line = line.replace('<'+ YEAR_ + '-', '<20'+ YEAR_ + '-')\n",
    "                    post += line\n",
    "            print(FILE)\n",
    "            if True:\n",
    "                with open('posts/' + FILE, 'w') as f: f.write(post)\n",
    "            else:\n",
    "                print(post)\n"
   ]
  },
  {
   "cell_type": "markdown",
   "metadata": {},
   "source": [
    "# deploying changes"
   ]
  },
  {
   "cell_type": "code",
   "execution_count": null,
   "metadata": {},
   "outputs": [
    {
     "name": "stdout",
     "output_type": "stream",
     "text": [
      "total 66584\n",
      "drwxr-xr-x   26 laurentperrinet  staff       832 Jun 21 08:28 \u001b[1m\u001b[36m.\u001b[m\u001b[m/\n",
      "drwxr-xr-x    9 laurentperrinet  staff       288 Apr 24 13:26 \u001b[1m\u001b[36m..\u001b[m\u001b[m/\n",
      "-rw-r--r--    1 laurentperrinet  staff     14340 Feb 20 12:29 .DS_Store\n",
      "-rw-r--r--    1 laurentperrinet  staff  17997824 Jun  9 22:03 .doit.db\n",
      "-rw-r--r--    1 laurentperrinet  staff  15015936 Jan  8  2021 .doit.db.db\n",
      "drwxr-xr-x   16 laurentperrinet  staff       512 Jun 21 08:28 \u001b[1m\u001b[36m.git\u001b[m\u001b[m/\n",
      "drwxr-xr-x    3 laurentperrinet  staff        96 Feb  4  2021 \u001b[1m\u001b[36m.github_old\u001b[m\u001b[m/\n",
      "-rw-r--r--    1 laurentperrinet  staff       512 Nov 24  2020 .gitignore\n",
      "drwxr-xr-x    4 laurentperrinet  staff       128 Sep 11  2021 \u001b[1m\u001b[36m.ipynb_checkpoints\u001b[m\u001b[m/\n",
      "-rw-r--r--    1 laurentperrinet  staff      8887 Dec 15  2014 LICENSE\n",
      "-rw-r--r--    1 laurentperrinet  staff       155 Dec 10  2020 Makefile\n",
      "-rw-r--r--    1 laurentperrinet  staff        16 Jan 17  2019 README.md\n",
      "drwxr-xr-x    3 laurentperrinet  staff        96 Jun 21 08:28 \u001b[1m\u001b[36m__pycache__\u001b[m\u001b[m/\n",
      "-rw-r--r--    1 laurentperrinet  staff    570466 Jun 21 08:28 bootstrapPost.ipynb\n",
      "drwxr-xr-x    2 laurentperrinet  staff        64 Jun 21 08:16 \u001b[1m\u001b[36mcache\u001b[m\u001b[m/\n",
      "-rw-r--r--    1 laurentperrinet  staff     57327 Jun 21 08:25 conf.py\n",
      "drwxr-xr-x   40 laurentperrinet  staff      1280 Jun 21 08:25 \u001b[1m\u001b[36mdocs\u001b[m\u001b[m/\n",
      "drwxr-xr-x  105 laurentperrinet  staff      3360 Feb 20 11:17 \u001b[1m\u001b[36mfiles\u001b[m\u001b[m/\n",
      "drwxr-xr-x    2 laurentperrinet  staff        64 Feb  4  2021 \u001b[1m\u001b[36mgalleries\u001b[m\u001b[m/\n",
      "drwxr-xr-x    4 laurentperrinet  staff       128 Feb  4  2021 \u001b[1m\u001b[36mlistings\u001b[m\u001b[m/\n",
      "drwxr-xr-x    7 laurentperrinet  staff       224 Feb  4  2021 \u001b[1m\u001b[36mplugins\u001b[m\u001b[m/\n",
      "drwxr-xr-x  419 laurentperrinet  staff     13408 Jun 21 08:25 \u001b[1m\u001b[36mposts\u001b[m\u001b[m/\n",
      "-rw-------    1 laurentperrinet  staff        49 May 18 21:38 state_data.json\n",
      "drwxr-xr-x   14 laurentperrinet  staff       448 Feb  4  2021 \u001b[1m\u001b[36mstories\u001b[m\u001b[m/\n",
      "-rw-r--r--    1 laurentperrinet  staff      5330 Sep 11  2021 template.ipynb\n",
      "drwxr-xr-x    3 laurentperrinet  staff        96 Jun 15 10:48 \u001b[1m\u001b[36mthemes\u001b[m\u001b[m/\n"
     ]
    }
   ],
   "source": [
    "%ls -al"
   ]
  },
  {
   "cell_type": "raw",
   "metadata": {},
   "source": [
    "%rm -fr .doit.db cache"
   ]
  },
  {
   "cell_type": "raw",
   "metadata": {},
   "source": [
    "!nikola clean"
   ]
  },
  {
   "cell_type": "code",
   "execution_count": null,
   "metadata": {},
   "outputs": [
    {
     "name": "stdout",
     "output_type": "stream",
     "text": [
      "Already up to date.\n"
     ]
    }
   ],
   "source": [
    "!git pull"
   ]
  },
  {
   "cell_type": "code",
   "execution_count": null,
   "metadata": {},
   "outputs": [
    {
     "name": "stdout",
     "output_type": "stream",
     "text": [
      "On branch master\n",
      "Your branch is up to date with 'origin/master'.\n",
      "\n",
      "Changes not staged for commit:\n",
      "  (use \"git add <file>...\" to update what will be committed)\n",
      "  (use \"git restore <file>...\" to discard changes in working directory)\n",
      "\t\u001b[32mmodified:   bootstrapPost.ipynb\u001b[m\n",
      "\n",
      "Untracked files:\n",
      "  (use \"git add <file>...\" to include in what will be committed)\n",
      "\t\u001b[36mposts/2023-02-02-implementing-a-retinotopic-transform-using-grid_sample-from-pytorch.ipynb\u001b[m\n",
      "\t\u001b[36mposts/2023-02-02-implementing-a-retinotopic-transform-using-grid_sample-from-pytorch.meta\u001b[m\n",
      "\n",
      "no changes added to commit (use \"git add\" and/or \"git commit -a\")\n"
     ]
    }
   ],
   "source": [
    "!git status"
   ]
  },
  {
   "cell_type": "raw",
   "metadata": {},
   "source": [
    "!ls -ltr files"
   ]
  },
  {
   "cell_type": "code",
   "execution_count": null,
   "metadata": {},
   "outputs": [
    {
     "name": "stdout",
     "output_type": "stream",
     "text": [
      "Scanning posts.........done!\n",
      ".  render_taxonomies:docs/categories/index.html\n",
      ".  copy_assets:docs/assets/css/bootblog.css\n",
      ".  copy_assets:docs/assets/css/bootstrap.min.css\n",
      ".  copy_assets:docs/assets/css/theme.css\n",
      ".  copy_assets:docs/assets/js/jquery.min.js\n",
      ".  copy_assets:docs/assets/js/bootstrap.min.js\n",
      ".  copy_assets:docs/assets/js/popper.min.js\n",
      ".  copy_assets:docs/assets/css/nikola_rst.css\n",
      ".  copy_assets:docs/assets/css/nikola_ipython.css\n",
      ".  copy_assets:docs/assets/css/html4css1.css\n",
      ".  copy_assets:docs/assets/css/rst.css\n",
      ".  copy_assets:docs/assets/css/ipython.min.css\n",
      ".  copy_assets:docs/assets/css/rst_base.css\n",
      ".  copy_assets:docs/assets/css/baguetteBox.min.css\n",
      ".  copy_assets:docs/assets/js/html5.js\n",
      ".  copy_assets:docs/assets/js/fancydates.js\n",
      ".  copy_assets:docs/assets/js/gallery.min.js\n",
      ".  copy_assets:docs/assets/js/fancydates.min.js\n",
      ".  copy_assets:docs/assets/js/gallery.js\n",
      ".  copy_assets:docs/assets/js/baguetteBox.min.js\n",
      ".  copy_assets:docs/assets/js/html5shiv-printshiv.min.js\n",
      ".  copy_assets:docs/assets/js/justified-layout.min.js\n",
      ".  copy_assets:docs/assets/js/luxon.min.js\n",
      ".  copy_assets:docs/assets/xml/atom.xsl\n",
      ".  copy_assets:docs/assets/xml/rss.xsl\n",
      ".  copy_assets:docs/assets/css/code.css\n",
      ".  render_sources:docs/posts/2023-02-02-implementing-a-retinotopic-transform-using-grid_sample-from-pytorch.ipynb\n",
      ".  render_listings:docs/listings/index.html\n",
      ".  render_listings:docs/listings/install-nikola.sh.html\n",
      ".  render_listings:docs/listings/import_moinmoinpages.py.html\n",
      ".  render_posts:timeline_changes\n",
      ".  render_posts:cache/posts/2023-02-02-implementing-a-retinotopic-transform-using-grid_sample-from-pytorch.html\n",
      ".  render_galleries:docs/galleries/index.html\n",
      ".  render_galleries:docs/galleries/rss.xml\n",
      ".  render_taxonomies:docs/categories/space.html\n",
      ".  render_taxonomies:docs/categories/pandas.html\n",
      ".  render_taxonomies:docs/categories/jupyter.html\n",
      ".  render_taxonomies:docs/categories/shell.html\n",
      ".  render_taxonomies:docs/categories/grand-public.html\n",
      ".  render_taxonomies:docs/categories/free-energy.html\n",
      ".  render_taxonomies:docs/categories/sparse-coding.html\n",
      ".  render_taxonomies:docs/categories/pynn.html\n",
      ".  render_taxonomies:docs/categories/math.html\n",
      ".  render_taxonomies:docs/categories/trajectory.html\n",
      ".  render_taxonomies:docs/categories/v1.html\n",
      ".  render_taxonomies:docs/categories/deep-learning.html\n",
      ".  render_taxonomies:docs/categories/machine-learning.html\n",
      ".  render_taxonomies:docs/categories/pytorch.html\n",
      ".  render_taxonomies:docs/categories/vision.html\n",
      ".  render_taxonomies:docs/categories/pupil.html\n",
      ".  render_taxonomies:docs/categories/saccades.html\n",
      ".  render_taxonomies:docs/categories/trames.html\n",
      ".  render_taxonomies:docs/categories/art.html\n",
      ".  render_taxonomies:docs/categories/tensorflow.html\n",
      ".  render_taxonomies:docs/categories/outreach.html\n",
      ".  render_taxonomies:docs/categories/behavior.html\n",
      ".  render_taxonomies:docs/categories/shl_scripts.html\n",
      ".  render_taxonomies:docs/categories/code.html\n",
      ".  render_taxonomies:docs/categories/speed.html\n",
      ".  render_taxonomies:docs/categories/compounds.html\n",
      ".  render_taxonomies:docs/categories/retina.html\n",
      ".  render_taxonomies:docs/categories/computational-neuroscience.html\n",
      ".  render_taxonomies:docs/categories/sparse.html\n",
      ".  render_taxonomies:docs/categories/numpy.html\n",
      ".  render_taxonomies:docs/categories/motion-particles.html\n",
      ".  render_taxonomies:docs/categories/predictive-coding.html\n",
      ".  render_taxonomies:docs/categories/illusion.html\n",
      ".  render_taxonomies:docs/categories/neural.html\n",
      ".  render_taxonomies:docs/categories/symmetry.html\n",
      ".  render_taxonomies:docs/categories/computing.html\n",
      ".  render_taxonomies:docs/categories/vim.html\n",
      ".  render_taxonomies:docs/categories/matching-pursuit.html\n",
      ".  render_taxonomies:docs/categories/sparseedges.html\n",
      ".  render_taxonomies:docs/categories/bicv.html\n",
      ".  render_taxonomies:docs/categories/slip.html\n",
      ".  render_taxonomies:docs/categories/open-science.html\n",
      ".  render_taxonomies:docs/categories/learning.html\n",
      ".  render_taxonomies:docs/categories/vispy.html\n",
      ".  render_taxonomies:docs/categories/matlab.html\n",
      ".  render_taxonomies:docs/categories/motion.html\n",
      ".  render_taxonomies:docs/categories/gizeh.html\n",
      ".  render_taxonomies:docs/categories/moviepy.html\n",
      ".  render_taxonomies:docs/categories/latex.html\n",
      ".  render_taxonomies:docs/categories/tikz.html\n",
      ".  render_taxonomies:docs/categories/povray.html\n",
      ".  render_taxonomies:docs/categories/bibcloud.html\n",
      ".  render_taxonomies:docs/categories/plot.html\n",
      ".  render_taxonomies:docs/categories/cloud.html\n",
      ".  render_taxonomies:docs/categories/mytracks.html\n",
      ".  render_taxonomies:docs/categories/obv1.html\n",
      ".  render_taxonomies:docs/categories/orientation.html\n",
      ".  render_taxonomies:docs/categories/natural-scenes.html\n",
      ".  render_taxonomies:docs/categories/psychophysics.html\n",
      ".  render_taxonomies:docs/categories/area-v1.html\n",
      ".  render_taxonomies:docs/categories/experiment.html\n",
      ".  render_taxonomies:docs/categories/motion-detection.html\n",
      ".  render_taxonomies:docs/categories/anr-speed.html\n",
      ".  render_taxonomies:docs/categories/probability.html\n",
      ".  render_taxonomies:docs/categories/stackoverflow.html\n",
      ".  render_taxonomies:docs/categories/interactive.html\n",
      ".  render_taxonomies:docs/categories/holoviews.html\n",
      ".  render_taxonomies:docs/categories/blog.html\n",
      ".  render_taxonomies:docs/categories/hardlink.html\n",
      ".  render_taxonomies:docs/categories/int.html\n",
      ".  render_taxonomies:docs/categories/rsync.html\n",
      ".  render_taxonomies:docs/categories/notebook.html\n",
      ".  render_taxonomies:docs/categories/elasticite.html\n",
      ".  render_taxonomies:docs/categories/motionclouds.html\n",
      ".  render_taxonomies:docs/categories/ring-model.html\n",
      ".  render_taxonomies:docs/categories/loggabor.html\n",
      ".  render_taxonomies:docs/categories/python.html\n",
      ".  render_taxonomies:docs/categories/anr-balav1.html\n",
      ".  render_taxonomies:docs/categories/info.html\n",
      ".  render_taxonomies:docs/categories/moinmoin.html\n",
      ".  render_taxonomies:docs/categories/nikola.html\n",
      ".  render_taxonomies:docs/categories/ipython.html\n",
      ".  render_taxonomies:docs/categories/craac.html\n",
      ".  render_taxonomies:docs/archive.html\n",
      ".  render_taxonomies:docs/index.html\n",
      ".  render_taxonomies:docs/categories/cnrs.html\n",
      ".  render_pages:docs/posts/2017-12-21-predictive-coding-of-variable-motion.html\n",
      ".  render_pages:docs/posts/2016-11-29-resizing-a-bunch-of-files-using-the-command-line-interface.html\n",
      ".  render_pages:docs/posts/2016-01-19-elasticite-trames-V1.html\n",
      ".  render_pages:docs/posts/2017-10-25-designing-a-a0-poster-using-matplotlib.html\n",
      ".  render_pages:docs/posts/2016-11-15-saving-and-displaying-movies-and-dynamic-figures.html\n",
      ".  render_pages:docs/posts/2016-10-01-a-p-pie-named-monte-carlo.html\n",
      ".  render_pages:docs/posts/2015-11-17-elasticite-expansion-en-miroir-dynamique-dun-point-focal.html\n",
      ".  render_pages:docs/posts/2018-06-13-generating-an-unique-seed-for-a-given-filename.html\n",
      ".  render_pages:docs/posts/2018-11-29-feature-vs-global-motion.html\n",
      ".  render_pages:docs/posts/2018-11-05-statistics-of-the-natural-input-to-a-ring-model.html\n",
      ".  render_taxonomies:docs/categories/blog.xml\n",
      ".  render_taxonomies:docs/categories/deep-learning.xml\n",
      ".  render_pages:docs/posts/2018-11-13-testing-more-complex-trajectories.html\n",
      ".  render_taxonomies:docs/categories/machine-learning.xml\n",
      ".  render_taxonomies:docs/categories/open-science.xml\n",
      ".  render_taxonomies:docs/categories/python.xml\n",
      ".  render_taxonomies:docs/categories/pytorch.xml\n",
      ".  render_taxonomies:docs/categories/retina.xml\n",
      ".  render_taxonomies:docs/categories/vision.xml\n",
      ".  render_taxonomies:docs/rss.xml\n",
      ".  render_pages:docs/posts/2018-11-11-rainbow-effect.html\n",
      ".  render_pages:docs/posts/2023-02-02-implementing-a-retinotopic-transform-using-grid_sample-from-pytorch.html\n",
      ".  render_pages:docs/posts/2022-06-08-transfert-de-voix.html\n",
      ".  render_pages:docs/posts/2022-02-11-cosyne-reviewer-feedback.html\n",
      ".  render_pages:docs/posts/2022-01-30-dreamachine.html\n",
      ".  render_pages:docs/posts/2021-12-12-logistic-regression.html\n",
      ".  render_pages:docs/posts/2018-09-07-extending-datasets-in-pytorch.html\n",
      ".  render_pages:docs/posts/2021-04-28-experimenting-with-transfer-learning-for-visual-categorization.html\n",
      ".  render_pages:docs/posts/2021-12-01-find-a-8-in-a-forest-of-9.html\n",
      ".  render_pages:docs/posts/2021-12-01-triangulating-stars-on-the-night-sky.html\n",
      ".  render_pages:docs/posts/2021-09-11-modelling-ocean-surface-waves.html\n",
      ".  render_pages:docs/posts/2021-03-27-density-of-stars-on-the-surface-of-the-sky.html\n",
      ".  render_pages:docs/posts/2021-02-21-time-lapsing-an-orchids-flower.html\n",
      ".  render_pages:docs/posts/2017-09-20-the-fastest-2d-convolution-in-the-world.html\n",
      ".  render_pages:docs/posts/2021-01-08-kuramoto-model.html\n",
      ".  render_pages:docs/posts/2021-01-08-generating-second-order-figures-from-texture.html\n",
      ".  render_pages:docs/posts/2020-11-24-extracting-music-from-the-screenshots-of-a-spotify-playlist.html\n",
      ".  render_pages:docs/posts/2020-10-10-fitting-covid-data.html\n",
      ".  render_pages:docs/posts/2017-03-16-reproducing-olshausens-classical-sparsenet-part-3.html\n",
      ".  render_pages:docs/posts/2020-09-28-benchmarking-cnns.html\n",
      ".  render_pages:docs/posts/2017-11-07-meul-with-a-non-parametric-homeostasis.html\n",
      ".  render_pages:docs/posts/2014-12-18-can-we-live-without-google-and-co.html\n",
      ".  render_pages:docs/posts/2020-08-09-nesting-jupyter-runs.html\n",
      ".  render_pages:docs/posts/2017-06-15-le-jeu-de-lurne.html\n",
      ".  render_pages:docs/posts/2020-07-04-colors-of-the-sky.html\n",
      ".  render_pages:docs/posts/2015-11-29-elasticite-scenario-onde.html\n",
      ".  render_pages:docs/posts/2014-12-29-todotxt.html\n",
      ".  render_pages:docs/posts/2020-06-19-caustic-optics.html\n",
      ".  render_pages:docs/posts/2014-12-29-bib-cloud.html\n",
      ".  render_pages:docs/posts/2020-04-16-creating-an-hexagonal-grid.html\n",
      ".  render_pages:docs/posts/2015-01-07-the-right-imports-in-a-notebook.html\n",
      ".  render_pages:docs/posts/2014-11-10_reverse-phi-and-asymmetry-of-on-and-off-responses.html\n",
      ".  render_pages:docs/posts/2020-04-08-fitting-a-psychometric-curve-using-pytorch.html\n",
      ".  render_pages:docs/posts/2017-04-10-manipulating-speed-in-motion-clouds.html\n",
      ".  render_pages:docs/posts/2020-01-08-changing-the-global-phase-of-a-motion-cloud.html\n",
      ".  render_pages:docs/posts/2016-11-17-finding-extremal-values-in-a-nd-array.html\n",
      ".  render_pages:docs/posts/2014-12-09-polar-bar-plots.html\n",
      ".  render_pages:docs/posts/2019-11-28-role-of-gamma-correction-in-sparse-coding.html\n",
      ".  render_pages:docs/posts/2016-11-24-using-generators-in-python.html\n",
      ".  render_pages:docs/posts/2019-11-19-converting-a-bunch-of-files-in-a-few-lines.html\n",
      ".  render_pages:docs/posts/2017-03-15-reproducing-olshausens-classical-sparsenet-part-2.html\n",
      ".  render_pages:docs/posts/2015-01-20-using-tikzmagic.html\n",
      ".  render_pages:docs/posts/2019-10-07-neurostories-videos-of-my-talk.html\n",
      ".  render_pages:docs/posts/2017-03-09_probabilities.html\n",
      ".  render_pages:docs/posts/2019-09-11_video-abstract-vision.html\n",
      ".  render_pages:docs/posts/2015-05-22-a-hitchhiker-guide-to-matching-pursuit.html\n",
      ".  render_pages:docs/posts/2015-01-16-rendering-3d-scenes-in-python.html\n",
      ".  render_pages:docs/posts/2019-05-28_MainenSejnowski1995.html\n",
      ".  render_pages:docs/posts/2017-05-23-a-change-in-the-definition-of-spatial-frequency-bandwidth.html\n",
      ".  render_pages:docs/posts/2019-01-30__smooth-transition-between-mcs.html\n",
      ".  render_pages:docs/posts/2017-01-15-bogacz-2017-a-tutorial-on-free-energy.html\n",
      ".  render_pages:docs/posts/2014-12-10_orientation_protocol.html\n",
      ".  render_pages:docs/posts/2018-12-23-origins-of-the-von-mises-distribution.html\n",
      ".  render_pages:docs/posts/2017-03-17-extending-olshausens-classical-sparsenet.html\n",
      ".  render_pages:docs/posts/2014-10-20_aperture-problem.html\n",
      ".  render_pages:docs/posts/2018-12-13-sparse-coding-using-fista.html\n",
      ".  render_pages:docs/posts/2015-04-29-moving-from-mayavi-to-vispy.html\n",
      ".  render_pages:docs/posts/2014-10-20-animation-in-a-notebook-using-holoviews.html\n",
      ".  render_pages:docs/posts/2014-10-08_moving-from-mayavi-to-matplotlib.html\n",
      ".  render_pages:docs/posts/2015-05-28-a-simpler-e-mail-client-diving-into-mutt.html\n",
      ".  render_pages:docs/posts/2014-10-20-chi-distribution.html\n",
      ".  render_pages:docs/posts/2016-06-25-compiling-notebooks-into-a-report.html\n",
      ".  render_pages:docs/posts/2014-10-16-how-can-i-display-an-image-in-the-terminal.html\n",
      ".  render_pages:docs/stories/internals.html\n",
      ".  render_pages:docs/posts/2016-07-14_static-motion-clouds.html\n",
      ".  render_pages:docs/posts/2014-07-07-transferring-lots-of-files-to-a-remote-server-s.html\n",
      ".  render_pages:docs/posts/2015-10-14-elasticite-fresnel.html\n",
      ".  render_pages:docs/posts/2014-06-25-animation-in-a-notebook.html\n",
      ".  render_pages:docs/posts/2015-11-26-elasticite-scenario-vague.html\n",
      ".  render_pages:docs/posts/2014-10-20_motion-plaid.html\n",
      ".  render_pages:docs/posts/2015-11-27-elasticite-geometrie.html\n",
      ".  render_pages:docs/posts/2014-10-21-statistics-of-time-varying-images.html\n",
      ".  render_pages:docs/posts/2015-05-06-reproducing-olshausens-classical-sparsenet-part-2.html\n",
      ".  render_pages:docs/posts/2014-11-10_orientation_biphoton.html\n",
      ".  render_pages:docs/posts/2017-03-29-testing-comps-pcum.html\n",
      ".  render_pages:docs/posts/2014-11-10_orientation.html\n",
      ".  render_pages:docs/posts/2015-09-30-elasticite-vapory-and-reflections.html\n",
      ".  render_pages:docs/posts/2014-10-15-trying-to-include-javascript-in-a-notebook.html\n",
      ".  render_pages:docs/posts/2016-04-24_a-wave-going-backwards.html\n",
      ".  render_pages:docs/posts/2014-11-22-reading-kml-my-tracks-files-in-ipython.html\n",
      ".  render_pages:docs/posts/2015-12-11-reproducing-olshausens-classical-sparsenet-part-4.html\n",
      ".  render_pages:docs/posts/2014-10-24_a-bit-of-fun-with-gravity-waves.html\n",
      ".  render_pages:docs/posts/2016-02-19-compiling-and-using-pynn-+-nest-+-python3.html\n",
      ".  render_pages:docs/posts/2014-06-18-stage-m1-chloe-pasturel-week-5.html\n",
      ".  render_pages:docs/posts/2016-10-01-une-tarte-au-pi-nommee-monte-carlo.html\n",
      ".  render_pages:docs/posts/2014-06-18-stage-m1-chloe-pasturel-week-6.html\n",
      ".  render_pages:docs/posts/2015-02-26-elastic-grids-of-edges.html\n",
      ".  render_pages:docs/posts/2014-06-25-grille-hexagonale.html\n",
      ".  render_pages:docs/posts/2017-03-29-testing-comps-fastpcum_scripted.html\n",
      ".  render_pages:docs/posts/2014-12-07-can-we-live-without-google-and-co.html\n",
      ".  render_pages:docs/posts/2014-10-15-setting-options-in-holoviews.html\n",
      ".  render_pages:docs/posts/2017-10-06-improving-calls-to-the-loggabor-library.html\n",
      ".  render_pages:docs/posts/2014-06-18-stage-m1-chloe-pasturel-week-2.html\n",
      ".  render_pages:docs/posts/2016-07-16-predictive-coding-of-motion-in-an-aperture.html\n",
      ".  render_pages:docs/posts/2014-06-18-stage-m1-chloe-pasturel-plan-du-stage.html\n",
      ".  render_pages:docs/posts/2015-12-05-elasticite-scenario-final-montage.html\n",
      ".  render_pages:docs/posts/2014-02-11 Converting MoinMoin pages to Nikola.html\n",
      ".  render_pages:docs/posts/2015-02-17-creating-an-animation-using-gizeh-+-moviepy.html\n",
      ".  render_pages:docs/posts/2016-06-01-compiling-and-using-pynn-+-nest-+-python3.html\n",
      ".  render_pages:docs/stories/a-study-in-scarlet.html\n",
      ".  render_pages:docs/posts/2017-12-13-accessing-the-data-from-a-pupil-recording.html\n",
      ".  render_pages:docs/posts/2016-01-18-bootstrappost-elasticite.html\n",
      ".  render_pages:docs/stories/extending.html\n",
      ".  render_pages:docs/posts/2015-02-19_an-optic-flow-with-motion-clouds.html\n",
      ".  render_pages:docs/posts/2015-12-11-reproducing-olshausens-classical-sparsenet-part-3.html\n",
      ".  render_pages:docs/posts/2014-11-15-reading-kml-my-tracks-files-in-ipython.html\n",
      ".  render_pages:docs/posts/2015-05-21-a-simple-pre-processing-filter-for-image-processing.html\n",
      ".  render_pages:docs/posts/2014-06-18-stage-m1-chloe-pasturel-week-1.html\n",
      ".  render_pages:docs/posts/2013-11-12-craac.html\n",
      ".  render_pages:docs/stories/upgrading-to-v6.html\n",
      ".  render_pages:docs/posts/2015-11-02-multiprocessing.html\n",
      ".  render_pages:docs/stories/social_buttons.html\n",
      ".  render_pages:docs/posts/2017-03-14-reproducing-olshausens-classical-sparsenet.html\n",
      ".  render_pages:docs/posts/2015-07-02_smooth-transition-between-mcs.html\n",
      ".  render_pages:docs/posts/2015-04-26-moviepy-and-python3.html\n",
      ".  render_pages:docs/posts/2014-06-18-stage-m1-chloe-pasturel-week-3.html\n",
      ".  render_pages:docs/posts/2018-01-16-testing-more-complex-trajectories.html\n",
      ".  render_pages:docs/posts/2016-01-27_mirror-clouds.html\n",
      ".  render_pages:docs/posts/2014-02-15-converting-moinmoin-pages-to-nikola.html\n",
      ".  render_pages:docs/posts/2017-11-21_retina_sparseness.html\n",
      ".  render_pages:docs/posts/2016-04-06_irm-clouds.html\n",
      ".  render_pages:docs/posts/2014-06-18-stage-m1-chloe-pasturel-week-4.html\n",
      ".  render_pages:docs/posts/2015-11-02-elasticite-expansion-en-miroir-principes.html\n",
      ".  render_pages:docs/posts/2014-01-14-trying-out-ipython-blogging.html\n",
      ".  render_pages:docs/posts/2017-03-29-testing-comps-fastpcum.html\n",
      ".  render_pages:docs/stories/charts.html\n",
      ".  render_pages:docs/posts/2015-10-27-elasticite-expansion.html\n",
      ".  render_pages:docs/posts/2014-02-28-batch-removing-files-on-a-ftp-server.html\n",
      ".  render_pages:docs/posts/2015-11-02-elasticite-expansion-en-miroir-exploration-parametres.html\n",
      ".  render_pages:docs/posts/2015-05-05-reproducing-olshausens-classical-sparsenet.html\n",
      ".  render_pages:docs/posts/2015-05-12-extending-olshausens-classical-sparsenet.html\n",
      ".  render_pages:docs/posts/2015-02-19-tiling-motion-clouds.html\n",
      ".  render_pages:docs/posts/2015-02-25-saving-files-in-holoviews.html\n",
      ".  render_pages:docs/posts/2015-10-27-elasticite-expansion-reaction-diffusion.html\n",
      ".  render_pages:docs/posts/2015-03-26_the-vancouver-set.html\n",
      ".  render_pages:docs/posts/2015-04-10-elastic-force.html\n",
      ".  render_pages:docs/posts/2015-04-30-trame-sensorielle.html\n",
      ".  render_pages:docs/posts/2015-10-27-elasticite-rapsberry-pyserial.html\n",
      ".  render_pages:docs/posts/2015-10-14-elasticite-control-scenario.html\n",
      ".  create_bundles:docs/assets/css/all-nocdn.css\n",
      ".  create_bundles:docs/assets/css/all.css\n",
      ".  create_bundles:docs/assets/js/all-nocdn.js\n",
      ".  create_bundles:docs/assets/js/all.js\n",
      ".  sitemap:docs/sitemap.xml\n",
      ".  sitemap:docs/sitemapindex.xml\n"
     ]
    }
   ],
   "source": [
    "!nikola build"
   ]
  },
  {
   "cell_type": "raw",
   "metadata": {},
   "source": [
    "%rm posts/__temp__.mp4 \tposts/debug.log"
   ]
  },
  {
   "cell_type": "code",
   "execution_count": null,
   "metadata": {},
   "outputs": [
    {
     "name": "stdout",
     "output_type": "stream",
     "text": [
      "Scanning posts.........done!\n",
      "\u001b[1m[2023-02-02 09:05:27] INFO: deploy: => preset 'default'\u001b[0m\n",
      "\u001b[1m[2023-02-02 09:05:27] INFO: deploy: ==> git add posts/* docs/* files/*\u001b[0m\n",
      "\u001b[1m[2023-02-02 09:05:39] INFO: deploy: ==> git commit -am' updating site'\u001b[0m\n",
      "[master 4156b10c]  updating site\n",
      " 261 files changed, 4738 insertions(+), 1656 deletions(-)\n",
      " create mode 100644 docs/posts/2023-02-02-implementing-a-retinotopic-transform-using-grid_sample-from-pytorch.html\n",
      " create mode 100644 docs/posts/2023-02-02-implementing-a-retinotopic-transform-using-grid_sample-from-pytorch.ipynb\n",
      " create mode 100644 posts/2023-02-02-implementing-a-retinotopic-transform-using-grid_sample-from-pytorch.ipynb\n",
      " create mode 100644 posts/2023-02-02-implementing-a-retinotopic-transform-using-grid_sample-from-pytorch.meta\n",
      "\u001b[1m[2023-02-02 09:05:42] INFO: deploy: ==> git push\u001b[0m\n",
      "Enumerating objects: 509, done.\n",
      "Counting objects: 100% (509/509), done.\n",
      "Delta compression using up to 36 threads\n",
      "Compressing objects: 100% (271/271), done.\n",
      "Writing objects: 100% (271/271), 62.74 MiB | 14.27 MiB/s, done.\n",
      "Total 271 (delta 246), reused 0 (delta 0), pack-reused 0\n",
      "remote: Resolving deltas: 100% (246/246), completed with 230 local objects.\u001b[K\n",
      "To https://github.com/laurentperrinet/sciblog.git\n",
      "   f9939377..4156b10c  master -> master\n",
      "\u001b[1m[2023-02-02 09:06:14] INFO: deploy: Successful deployment\u001b[0m\n"
     ]
    }
   ],
   "source": [
    "!nikola deploy"
   ]
  },
  {
   "cell_type": "raw",
   "metadata": {},
   "source": [
    "import time\n",
    "time.sleep(3600*0)"
   ]
  },
  {
   "cell_type": "code",
   "execution_count": null,
   "metadata": {},
   "outputs": [
    {
     "name": "stdout",
     "output_type": "stream",
     "text": [
      "Scanning posts.........done!\n",
      ".  render_posts:timeline_changes\n",
      ".  render_posts:cache/posts/2023-02-02-implementing-a-retinotopic-transform-using-grid_sample-from-pytorch.html\n",
      ".  render_taxonomies:docs/archive.html\n",
      ".  render_taxonomies:docs/index.html\n",
      ".  render_taxonomies:docs/categories/blog.html\n",
      ".  render_taxonomies:docs/categories/deep-learning.html\n",
      ".  render_taxonomies:docs/categories/machine-learning.html\n",
      ".  render_taxonomies:docs/categories/open-science.html\n",
      ".  render_taxonomies:docs/categories/python.html\n",
      ".  render_taxonomies:docs/categories/pytorch.html\n",
      ".  render_taxonomies:docs/categories/retina.html\n",
      ".  render_taxonomies:docs/categories/vision.html\n",
      ".  render_taxonomies:docs/rss.xml\n",
      ".  render_taxonomies:docs/categories/blog.xml\n",
      ".  render_taxonomies:docs/categories/deep-learning.xml\n",
      ".  render_taxonomies:docs/categories/machine-learning.xml\n",
      ".  render_taxonomies:docs/categories/open-science.xml\n",
      ".  render_taxonomies:docs/categories/python.xml\n",
      ".  render_taxonomies:docs/categories/pytorch.xml\n",
      ".  render_taxonomies:docs/categories/retina.xml\n",
      ".  render_taxonomies:docs/categories/vision.xml\n",
      ".  render_pages:docs/posts/2023-02-02-implementing-a-retinotopic-transform-using-grid_sample-from-pytorch.html\n",
      ".  sitemap:docs/sitemap.xml\n",
      ".  sitemap:docs/sitemapindex.xml\n",
      "Scanning posts."
     ]
    }
   ],
   "source": [
    "!nikola build ; nikola deploy"
   ]
  },
  {
   "cell_type": "code",
   "execution_count": null,
   "metadata": {},
   "outputs": [
    {
     "name": "stdout",
     "output_type": "stream",
     "text": [
      "On branch master\n",
      "Your branch is up to date with 'origin/master'.\n",
      "\n",
      "nothing to commit, working tree clean\n"
     ]
    }
   ],
   "source": [
    "!git status"
   ]
  },
  {
   "cell_type": "code",
   "execution_count": null,
   "metadata": {},
   "outputs": [],
   "source": [
    "!open https://laurentperrinet.github.io/sciblog"
   ]
  },
  {
   "cell_type": "markdown",
   "metadata": {},
   "source": [
    "Voilà!"
   ]
  }
 ],
 "metadata": {
  "kernelspec": {
   "display_name": "Python 3",
   "language": "python",
   "name": "python3"
  },
  "language_info": {
   "codemirror_mode": {
    "name": "ipython",
    "version": 3
   },
   "file_extension": ".py",
   "mimetype": "text/x-python",
   "name": "python",
   "nbconvert_exporter": "python",
   "pygments_lexer": "ipython3",
   "version": "3.11.2"
  },
  "toc": {
   "base_numbering": 1,
   "nav_menu": {
    "height": "117px",
    "width": "252px"
   },
   "number_sections": true,
   "sideBar": true,
   "skip_h1_title": false,
   "title_cell": "Table of Contents",
   "title_sidebar": "Contents",
   "toc_cell": false,
   "toc_position": {},
   "toc_section_display": "block",
   "toc_window_display": false
  },
  "vscode": {
   "interpreter": {
    "hash": "949777d72b0d2535278d3dc13498b2535136f6dfe0678499012e853ee9abcab1"
   }
  }
 },
 "nbformat": 4,
 "nbformat_minor": 4
}
