{
 "metadata": {
  "name": "",
  "signature": "sha256:cd16811e934dc312620eeb0a4384e353c8f771f4294e88083a13f8dc75a23d71"
 },
 "nbformat": 3,
 "nbformat_minor": 0,
 "worksheets": [
  {
   "cells": [
    {
     "cell_type": "markdown",
     "metadata": {},
     "source": [
      "Modele d'une entr\u00e9e naturelle \u00e0 un mod\u00e8le de selectivit\u00e9 \u00e0 l'orientation\n",
      "========================================================================\n",
      "\n",
      "Stage M1 de Chlo\u00e9 Pasturel, encadr\u00e9e par Laurent Perrinet (INT, CNRS)\n",
      "\n",
      "Contexte du stage\n",
      "-----------------\n",
      "\n",
      "(import\u00e9 depuis http://invibe.net/LaurentPerrinet/TagAnrBalaV1 )\n",
      "\n",
      "<!-- TEASER_END -->\n",
      "\n",
      "Chez les carnivores et des primates la s\u00e9lectivit\u00e9 d'orientation (SO) des cellules du cortex visuel primaire (V1) est organis\u00e9 dans les cartes de pr\u00e9f\u00e9rance d'orientations (PO) des cellules qui changent progressivement, sauf pr\u00e8s de \"pin-wheels\", autour de laquelle toutes les orientations sont pr\u00e9sente. Les th\u00e9ories qui pr\u00e9tendent expliquer SO l'ont presque tous consid\u00e9r\u00e9s comme des r\u00e9seaux corticaux dans lequel les neurones re\u00e7oivent une entr\u00e9e pr\u00e9f\u00e9rentielle de cellules avec PO similaire. De telles th\u00e9ories saissisent certainement  la connectivit\u00e9 pour les neurones dans des domaines d'orientation o\u00f9 les neurones sont entour\u00e9s par d'autres cellules avec des PO similaire. Toutefois, ce n'est pas n\u00e9cessairement pr\u00e8s de pinwheels : en raison du changement discontinu dans l'orientation de pr\u00e9f\u00e9rence au pinwheels, les neurones dans ce domaine sont entour\u00e9es par des cellules de toutes les orientations privil\u00e9gi\u00e9es. Ainsi, si la probabilit\u00e9 de connexion se fait uniquement en fonction de la distance anatomique, les entr\u00e9es que ces neurones re\u00e7oivent doivent repr\u00e9senter toutes les orientations de la m\u00eame mani\u00e8re.\n",
      "\n",
      "Ainsi, on peut s'attendre \u00e0 ce que la r\u00e9ponse des cellules \u00e0 proximit\u00e9 de pinwheels varie peu en fonction de l'orientation, \u00e0 la diff\u00e9rence de donn\u00e9es exp\u00e9rimentales. En cons\u00e9quence, la croyance commune est que, \u00e0 moins qu'un pinwheels soit proches, la connectivit\u00e9 d\u00e9pend aussi des diff\u00e9rences entre les orientations pr\u00e9f\u00e9r\u00e9es. La situation pr\u00e8s de pinwheels dans V1 des carnivores et des primates est similaire \u00e0 celle de l'ensemble de la V1 de rongeurs. Chez ces esp\u00e8ces, les neurones V1 sont SO mais le r\u00e9seau ne pr\u00e9sentent pas une carte d'orientation et l'encadrement des cellules repr\u00e9sente toutes les orientations \u00e0 peu pr\u00e8s \u00e9galement.\n",
      "\n",
      "Dans un article r\u00e9cent th\u00e9orique (Hansel et van Vreeswijk 2012), il a \u00e9t\u00e9 d\u00e9montr\u00e9 que, dans cette situation, la r\u00e9ponse des cellules peut \u00eatre encore modul\u00e9 par l'orientation s\u00e9lective \u00e0 condition que le r\u00e9seau fonctionne dans le r\u00e9gime \u00e9quilibr\u00e9. Ici, nous \u00e9mettons l'hypoth\u00e8se que V1 avec une carte d'orientation fonctionnant en r\u00e9gime \u00e9quilibr\u00e9 et donc les neurones peuvent pr\u00e9senter une SO pr\u00e8s de pinwheels m\u00eame en l'absence de connectivit\u00e9 fonctionnelle sp\u00e9cifique.\n",
      "Le but de ce projet interdisciplinaire est de v\u00e9rifier si \"l'hypoth\u00e8se de l'\u00e9quilibre\" tient pour la couche 2/3 de V1 de primate et carnivore et si l'organisation fonctionnelle observ\u00e9e dans cette couche peut \u00eatre repr\u00e9sent\u00e9 sans connectivit\u00e9 fonctionnalit\u00e9 sp\u00e9cifique.\n",
      "\n",
      "\n",
      "Le probleme en 2 phrases\n",
      "------------------------\n",
      "\n",
      "Le ring model est un mod\u00e8le de la s\u00e9lectivit\u00e9 d'orientation des cellules du cortex visuel primaire (V1). Il est bas\u00e9 ---contrairement aux mod\u00e8les \"en-avant\"--- sur une connectivit\u00e9 r\u00e9currente. La fonction \u00e9merge de cette connectivit\u00e9. Mais c'est un syst\u00e8me complexe.\n",
      "\n",
      "Jusqu'\u00e0 pr\u00e9sent ce model a \u00e9t\u00e9 \u00e9tudi\u00e9 avec des stimuli non-naturel, ici nous allons observer la r\u00e9ponce de ce model lorsqu'on le soumet \u00e0 des stimuli 'naturels', repr\u00e9sent\u00e9s par des Motion Clouds\n",
      "\n",
      "Plan d'impl\u00e9mentation global (sur le stage) d\u00e9coup\u00e9 en 6 semaines\n",
      "-----------------------------------------------------------------\n",
      "\n",
      "* La premi\u00e8re semaine a consist\u00e9e \u00e0 installer les programmes que nous allions utiliser par la suite et \u00e0 definir la probl\u00e9matique\n",
      "\n",
      "* la seconde semaine, nous avons simul\u00e9 un ring model gr\u00e2ce au programme brian et observ\u00e9 les cons\u00e9quences du changement de diff\u00e9rents param\u00eatres en particulier l'intensit\u00e9 et la largeur des entr\u00e9es\n",
      "\n",
      "* la troisi\u00e8me semaine, nous avons travaill\u00e9 sur les Motion Clouds et observ\u00e9 les diff\u00e9rents changement de param\u00eatre en particulier B_sf\n",
      "\n",
      "* la quatri\u00e8me semaine, nous avons d\u00e9montr\u00e9 qu'un Motion Clouds et un Gabor se comportaient comme des guaussiennes, et leur convolution donnait aussi une guausienne\n",
      "\n",
      "* la cinqui\u00e8me semaine, nous avons d\u00e9montr\u00e9 que la convolution d'un von-mises avais le m\u00eame comportement que notre pr\u00e9diction de la semaine pr\u00e9c\u00e9dante\n",
      "\n",
      "* enfin la derni\u00e8re semaine, nous avons synth\u00e9tis\u00e9 ces r\u00e9sultats en simulant un ring model avec pour entr\u00e9e le comportement th\u00e9orique de la convolution d'un Motion Clouds avec un Gabor\n",
      "\n"
     ]
    }
   ],
   "metadata": {}
  }
 ]
}