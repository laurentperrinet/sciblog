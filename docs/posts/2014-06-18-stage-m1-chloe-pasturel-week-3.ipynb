{
 "cells": [
  {
   "cell_type": "markdown",
   "metadata": {},
   "source": [
    "Travail sur les Motion Clouds et observation des différents changement de paramètre particulièrement B_sf\n",
    "\n",
    "\n",
    " * introduction aux motions clouds: installation et display dans un notebook\n",
    " * synthèse de clouds avec différents theta \n",
    " * synthèse avec différents B_theta  (V=0)\n",
    " * utilisation du trick dans http://motionclouds.invibe.net/posts/smooth-transition-between-mcs.html pour créer un stimulus pour lequel l'orientation tourne de 0 à 2*pi\n",
    " * proposer une façon simple de passer de ce signal à une entré pour le ring (un peu de maths? un MC est une texture définie en fourier, une cellule simple fait une convolution dans l'espace, donc une multiplication dans Fourier: on pourrait avoir la sortie linéaire du neurone de V1 directement ...)\n",
    " \n",
    " \n",
    "http://neuralensemble.github.io/MotionClouds/\n",
    "\n",
    "https://invibe.net/LaurentPerrinet/TagMotionClouds\n",
    "\n",
    "\n",
    "<!-- TEASER_END -->\n"
   ]
  },
  {
   "cell_type": "code",
   "execution_count": null,
   "metadata": {
    "collapsed": false
   },
   "outputs": [
    {
     "name": "stderr",
     "output_type": "stream",
     "text": [
      "/usr/local/lib/python3.7/site-packages/vispy/visuals/isocurve.py:22: UserWarning: VisPy is not yet compatible with matplotlib 2.2+\n",
      "  warnings.warn(\"VisPy is not yet compatible with matplotlib 2.2+\")\n"
     ]
    }
   ],
   "source": [
    "import numpy as np\n",
    "import MotionClouds as mc\n",
    "ds = 2\n",
    "fx, fy, ft = mc.get_grids(mc.N_X//ds, mc.N_Y//ds, mc.N_frame//ds)\n",
    "figpath = mc.figpath = '../files/2014-06-18-stage-m1-chloe-pasturel-week-3/'\n",
    "name = 'B_theta'\n",
    "theta =  np.pi/4\n",
    "B_theta = np.pi/10\n",
    "mc1 = mc.envelope_gabor(fx, fy, ft, V_X=0., V_Y=0., theta=theta, B_theta=B_theta)\n",
    "name_ = name + '_' + str(B_theta).replace('.', '_')\n",
    "mc.figures(mc1, name_, figpath=figpath)\n",
    "mc.in_show_video(name_, figpath=figpath)"
   ]
  },
  {
   "cell_type": "code",
   "execution_count": null,
   "metadata": {
    "collapsed": false
   },
   "outputs": [],
   "source": [
    "B_theta =  np.pi\n",
    "mc2 = mc.envelope_gabor(fx, fy, ft, V_X=0., V_Y=0., theta=theta, B_theta=B_theta)\n",
    "name_ = name + '_' + str(B_theta).replace('.', '_')\n",
    "mc.figures(mc2, name_, figpath=figpath)\n",
    "mc.in_show_video(name_, figpath=figpath)"
   ]
  },
  {
   "cell_type": "code",
   "execution_count": null,
   "metadata": {
    "collapsed": false
   },
   "outputs": [],
   "source": [
    "# Demonstration of studying the role of speed bandwidth using MotionClouds.\n",
    "\n",
    "name = 'B_V'\n",
    "\n",
    "theta, B_theta = np.pi/2., np.pi/32\n",
    "seed = 12234565\n",
    "\n",
    "B_V_ = 0.01\n",
    "mc1 = mc.envelope_gabor(fx, fy, ft, V_X=0., V_Y=0., theta=theta, B_V=B_V_, B_theta=B_theta)\n",
    "\n",
    "name_ = name + '_' + str(B_V).replace('.', '_')\n",
    "mc.figures(mc1, name_, figpath=figpath)\n",
    "mc.in_show_video(name_, figpath=figpath)"
   ]
  },
  {
   "cell_type": "code",
   "execution_count": null,
   "metadata": {
    "collapsed": false
   },
   "outputs": [],
   "source": [
    "B_V_ = 20.\n",
    "mc2 = mc.envelope_gabor(fx, fy, ft, V_X=0., V_Y=0., theta=theta, B_V=B_V_, B_theta=B_theta)\n",
    "name_ = name + '_' + str(B_V).replace('.', '_')\n",
    "mc.figures(mc2, name_, figpath=figpath)\n",
    "mc.in_show_video(name_, figpath=figpath)"
   ]
  },
  {
   "cell_type": "code",
   "execution_count": null,
   "metadata": {
    "collapsed": false
   },
   "outputs": [],
   "source": [
    "# Demonstration of studying the role of horizontal speed component using MotionClouds.\n",
    "\n",
    "name = 'V_X'\n",
    "\n",
    "theta, B_theta = np.pi/4., np.pi/32\n",
    "B_V = 10.\n",
    "seed=12234565\n",
    "\n",
    "V_X=0.\n",
    "mc1 = mc.envelope_gabor(fx, fy, ft, V_X=V_X, V_Y=0., theta=theta, B_V=B_V, B_theta=B_theta)\n",
    "name_ = name + '_' + str(V_X).replace('.', '_')\n",
    "mc.figures(mc1, name_, figpath=figpath)\n",
    "mc.in_show_video(name_, figpath=figpath)"
   ]
  },
  {
   "cell_type": "code",
   "execution_count": null,
   "metadata": {
    "collapsed": false
   },
   "outputs": [],
   "source": [
    "V_X=8.\n",
    "mc2 = mc.envelope_gabor(fx, fy, ft, V_X=8., V_Y=0., theta=theta, B_V=B_V, B_theta=B_theta)\n",
    "name_ = name + '_' + str(V_X).replace('.', '_')\n",
    "mc.figures(mc2, name_, figpath=figpath)\n",
    "mc.in_show_video(name_, figpath=figpath)"
   ]
  },
  {
   "cell_type": "code",
   "execution_count": null,
   "metadata": {
    "collapsed": false
   },
   "outputs": [],
   "source": [
    "# Demonstration of studying the role of vertical speed component using MotionClouds.\n",
    "\n",
    "name = 'V_Y'\n",
    "\n",
    "theta, B_theta = np.pi/4., np.pi/32\n",
    "B_V = 1.\n",
    "seed=12234565\n",
    "\n",
    "V_Y=0.\n",
    "mc1 = mc.envelope_gabor(fx, fy, ft, V_X=0., V_Y=V_Y, theta=theta, B_V=B_V, B_theta=B_theta)\n",
    "\n",
    "name_ = name + '_' + str(V_Y).replace('.', '_')\n",
    "mc.figures(mc1, name_, figpath=figpath)\n",
    "mc.in_show_video(name_, figpath=figpath)"
   ]
  },
  {
   "cell_type": "code",
   "execution_count": null,
   "metadata": {
    "collapsed": false
   },
   "outputs": [],
   "source": [
    "V_Y=8.\n",
    "mc2 = mc.envelope_gabor(fx, fy, ft, V_X=0., V_Y=V_Y, theta=theta, B_V=B_V, B_theta=B_theta)\n",
    "mc.figures(mc2, name_, figpath=figpath)\n",
    "mc.in_show_video(name_, figpath=figpath)"
   ]
  },
  {
   "cell_type": "code",
   "execution_count": null,
   "metadata": {
    "collapsed": false
   },
   "outputs": [],
   "source": [
    "import os\n",
    "\n",
    "name = 'B_theta-smooth'\n",
    "\n",
    "fx, fy, ft = mc.get_grids(mc.N_X, mc.N_Y, mc.N_frame)\n",
    "\n",
    "theta = 2*np.pi*np.random.rand()\n",
    "seed = 123456\n",
    "B_theta_ = np.pi * 2**np.linspace(-5, 0, 9)[::-1]\n",
    "B_theta_ = np.concatenate((B_theta_, B_theta_[:-1][::-1]))\n",
    "im = np.empty(shape=(mc.N_X, mc.N_Y, 0))\n",
    "if mc.check_if_anim_exist(name_):\n",
    "    for i_, B_theta in enumerate(B_theta_):\n",
    "        im_new = mc.random_cloud(mc.envelope_gabor(fx, fy, ft, V_X=0., V_Y=0., theta=theta, B_theta=B_theta), seed=seed)\n",
    "        im = np.concatenate((im, im_new), axis=-1)\n",
    "    mc.anim_save(mc.rectif(im), os.path.join(figpath, name))\n",
    "mc.in_show_video(name_, figpath=figpath)    "
   ]
  },
  {
   "cell_type": "code",
   "execution_count": null,
   "metadata": {
    "collapsed": false
   },
   "outputs": [],
   "source": [
    "name = 'B_theta-smoother'\n",
    "if mc.check_if_anim_exist(name):\n",
    "    smooth = (ft - ft.min())/(ft.max() - ft.min()) # smoothly progress from 0. to 1.\n",
    "    N = len(B_theta_)\n",
    "    im = np.empty(shape=(mc.N_X, mc.N_Y, 0))\n",
    "    for i_, B_theta in enumerate(B_theta_):\n",
    "        im_old = mc.random_cloud(mc.envelope_gabor(fx, fy, ft, V_X=0., V_Y=0., theta=theta, B_theta=B_theta), seed=seed)\n",
    "        im_new = mc.random_cloud(mc.envelope_gabor(fx, fy, ft, V_X=0., V_Y=0., theta=theta, B_theta=B_theta_[(i_+1) % N]), seed=seed)\n",
    "        im = np.concatenate((im, (1.-smooth)*im_old+smooth*im_new), axis=-1)\n",
    "    mc.anim_save(mc.rectif(im),os.path.join(figpath, name))\n",
    "mc.in_show_video(name_, figpath=figpath)"
   ]
  },
  {
   "cell_type": "code",
   "execution_count": null,
   "metadata": {
    "collapsed": false
   },
   "outputs": [],
   "source": [
    "def guess_my_orientation(N_B_theta=5, seed=None, figpath=figpath):\n",
    "    np.random.seed(seed=seed)\n",
    "    theta = 2*np.pi*np.random.rand()\n",
    "    seed = 123456\n",
    "    B_theta_ = np.pi * 2**np.linspace(-5, 0, N_B_theta)[::-1]\n",
    "    B_theta_ = np.concatenate((B_theta_, B_theta_[:-1][::-1]))\n",
    "\n",
    "    im = np.empty(shape=(mc.N_X, mc.N_Y, 0))\n",
    "    name_ = 'guess_theta_' + str(theta).replace('.', '_')\n",
    "    if mc.check_if_anim_exist(name_):\n",
    "        smooth = (ft - ft.min())/(ft.max() - ft.min()) # smoothly progress from 0. to 1.\n",
    "        N = len(B_theta_)\n",
    "        im = np.empty(shape=(mc.N_X, mc.N_Y, 0))\n",
    "        for i_, B_theta in enumerate(B_theta_):\n",
    "            im_old = mc.rectif(mc.random_cloud(mc.envelope_gabor(fx, fy, ft, V_X=0., V_Y=0., theta=theta, B_theta=B_theta), seed=seed))\n",
    "            im_new = mc.rectif(mc.random_cloud(mc.envelope_gabor(fx, fy, ft, V_X=0., V_Y=0., theta=theta, B_theta=B_theta_[(i_+1) % N]), seed=seed))\n",
    "            im = np.concatenate((im, (1.-smooth)*im_old+smooth*im_new), axis=-1)\n",
    "        mc.anim_save(mc.rectif(im), os.path.join(figpath, name_))\n",
    "    return name_\n",
    "    \n",
    "for seed in [42]:#, 1973, 2016]:\n",
    "    name_ = guess_my_orientation(seed=seed, figpath=figpath)\n",
    "    mc.in_show_video(name_, figpath=figpath)\n"
   ]
  }
 ],
 "metadata": {
  "kernelspec": {
   "display_name": "Python 3",
   "language": "python",
   "name": "python3"
  },
  "language_info": {
   "codemirror_mode": {
    "name": "ipython",
    "version": 3
   },
   "file_extension": ".py",
   "mimetype": "text/x-python",
   "name": "python",
   "nbconvert_exporter": "python",
   "pygments_lexer": "ipython3",
   "version": "3.7.2"
  }
 },
 "nbformat": 4,
 "nbformat_minor": 2
}
