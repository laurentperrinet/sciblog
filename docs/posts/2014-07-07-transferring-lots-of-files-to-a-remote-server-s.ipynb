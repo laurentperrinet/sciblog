{
 "metadata": {
  "name": "",
  "signature": "sha256:e426870bbfbf83d4551479a6ceeed378be451631702b17f03d2cedbf9377aa8b"
 },
 "nbformat": 3,
 "nbformat_minor": 0,
 "worksheets": [
  {
   "cells": [
    {
     "cell_type": "markdown",
     "metadata": {},
     "source": [
      "I have recently been asked how to transfer lots of file from a backup server to a local disk. The context is that \n",
      "\n",
      "1. the backup is an archive to be put on an external hard drive and then in a closet for future use,\n",
      "1. the transfer line is not quite reliable and transfers may stop (for instance if it is mounted as a samba / windows / applefile share)\n",
      "\n",
      "\n",
      "<!-- TEASER_END -->"
     ]
    },
    {
     "cell_type": "heading",
     "level": 2,
     "metadata": {},
     "source": [
      "rsync"
     ]
    },
    {
     "cell_type": "markdown",
     "metadata": {},
     "source": [
      "The solution is to use the beloved ``rsync`` tool:\n",
      "\n",
      "In its most simple form, you use this command in the termina:\n",
      "\n",
      "    rsync -av  $INPUT  $OUTPUT\n",
      "    \n",
      "Where ``-av``stands for \"keep file attributes and be (not too) verbose\", ``$INPUT`` is the folder containing the files to be backed up, ``$OUTPUT`` is the destination folder. Be careful to avoid a trailing slash in ``$INPUT``, unless you want the files that reside within the folder to be transferred instead of the folder itself.\n",
      "\n",
      "One huge advantage is that ``$INPUT`` or ``$OUTPUT`` can contain a remote server in the form of ``myname@remoteserver:/path/to/my/folder``.\n",
      "\n",
      "An additional, useful option is ``--dry-run`` to try the command without moving the files. Also `` --progress `` gives a bit more info.\n",
      "\n",
      "Let's try it:"
     ]
    },
    {
     "cell_type": "code",
     "collapsed": false,
     "input": [
      "%%bash\n",
      "rsync -av  --progress --dry-run perrinet.l@frioul.int.univ-amu.fr:/riou/work/invibe/ARCHIVES/backups_perrinet/12_backups/alex /Volumes/3tera/backups/12_backups/"
     ],
     "language": "python",
     "metadata": {},
     "outputs": [
      {
       "output_type": "stream",
       "stream": "stdout",
       "text": [
        "receiving incremental file list\n",
        "alex/\n",
        "alex/bruitlolo_090319.mat\n",
        "alex/lolo.mat\n",
        "alex/lolo2.mat\n",
        "alex/lolocenter.mat\n",
        "alex/lolofrozenpixel.mat\n",
        "alex/worloloofr.mat\n",
        "alex/.AppleDouble/\n",
        "alex/.AppleDouble/.Parent\n",
        "alex/.AppleDouble/bruitlolo_090319.mat\n",
        "alex/.AppleDouble/lolo.mat\n",
        "alex/.AppleDouble/lolo2.mat\n",
        "alex/.AppleDouble/lolocenter.mat\n",
        "alex/.AppleDouble/lolofrozenpixel.mat\n",
        "alex/.AppleDouble/worloloofr.mat\n",
        "\n",
        "sent 58 bytes  received 422 bytes  960.00 bytes/sec\n",
        "total size is 2,772,534,329  speedup is 5,776,113.19 (DRY RUN)\n"
       ]
      }
     ],
     "prompt_number": 2
    },
    {
     "cell_type": "markdown",
     "metadata": {},
     "source": [
      "All good! We could connect to the server and the folder names were apparently correct. Let's use another option to exclude some files:\n"
     ]
    },
    {
     "cell_type": "code",
     "collapsed": false,
     "input": [
      "%%bash\n",
      "INPUT=perrinet.l@frioul.int.univ-amu.fr:/riou/work/invibe/ARCHIVES/backups_perrinet/12_backups/alex\n",
      "OUTPUT=/Volumes/3tera/backups/12_backups/\n",
      "rsync -av --dry-run  --progress --exclude .AppleDouble $INPUT $OUTPUT"
     ],
     "language": "python",
     "metadata": {},
     "outputs": [
      {
       "output_type": "stream",
       "stream": "stdout",
       "text": [
        "receiving incremental file list\n",
        "alex/\n",
        "alex/bruitlolo_090319.mat\n",
        "alex/lolo.mat\n",
        "alex/lolo2.mat\n",
        "alex/lolocenter.mat\n",
        "alex/lolofrozenpixel.mat\n",
        "alex/worloloofr.mat\n",
        "\n",
        "sent 51 bytes  received 222 bytes  546.00 bytes/sec\n",
        "total size is 2,772,529,142  speedup is 10,155,784.40 (DRY RUN)\n"
       ]
      }
     ],
     "prompt_number": 4
    },
    {
     "cell_type": "markdown",
     "metadata": {},
     "source": [
      "Let's now do it for real:"
     ]
    },
    {
     "cell_type": "code",
     "collapsed": false,
     "input": [
      "%%bash\n",
      "INPUT=perrinet.l@frioul.int.univ-amu.fr:/riou/work/invibe/ARCHIVES/backups_perrinet/12_backups/alex\n",
      "OUTPUT=/Volumes/3tera/backups/12_backups/\n",
      "rsync -av  --progress --exclude .AppleDouble $INPUT $OUTPUT"
     ],
     "language": "python",
     "metadata": {},
     "outputs": [
      {
       "output_type": "stream",
       "stream": "stdout",
       "text": [
        "receiving incremental file list\n",
        "alex/\n",
        "alex/bruitlolo_090319.mat\n",
        "\r",
        "              0   0%    0.00kB/s    0:00:00  \r",
        "     51,642,368   5%   49.25MB/s    0:00:18  \r",
        "    124,387,328  12%   59.34MB/s    0:00:14  \r",
        "    180,551,680  18%   57.43MB/s    0:00:13  \r",
        "    242,057,216  24%   57.74MB/s    0:00:12  \r",
        "    314,900,480  31%   62.80MB/s    0:00:10  \r",
        "    380,928,000  38%   61.19MB/s    0:00:09  \r",
        "    454,590,464  46%   65.37MB/s    0:00:07  \r",
        "    510,066,688  51%   63.95MB/s    0:00:07  \r",
        "    578,224,128  58%   62.83MB/s    0:00:06  \r",
        "    649,527,296  65%   64.07MB/s    0:00:05  \r",
        "    718,143,488  72%   62.87MB/s    0:00:04  \r",
        "    788,725,760  79%   66.47MB/s    0:00:02  \r",
        "    857,112,576  86%   66.53MB/s    0:00:01  \r",
        "    925,990,912  93%   65.95MB/s    0:00:00  \r",
        "    986,581,489 100%   63.21MB/s    0:00:14 (xfr#1, to-chk=5/7)\n",
        "alex/lolo.mat\n",
        "\r",
        "              0   0%    0.00kB/s    0:00:00  \r",
        "        248,942 100%  248.83kB/s    0:00:00 (xfr#2, to-chk=4/7)\n",
        "alex/lolo2.mat\n",
        "\r",
        "              0   0%    0.00kB/s    0:00:00  \r",
        "        229,376   0%  209.54kB/s    0:41:32  \r",
        "     60,555,264  11%   27.91MB/s    0:00:16  \r",
        "    127,696,896  24%   39.69MB/s    0:00:09  \r",
        "    196,837,376  37%   46.16MB/s    0:00:06  \r",
        "    270,270,464  51%   64.42MB/s    0:00:03  \r",
        "    333,643,776  63%   61.99MB/s    0:00:02  \r",
        "    355,074,048  67%   51.62MB/s    0:00:03  \r",
        "    426,901,504  81%   52.23MB/s    0:00:01  \r",
        "    494,108,672  94%   50.63MB/s    0:00:00  \r",
        "    522,599,574 100%   49.22MB/s    0:00:10 (xfr#3, to-chk=3/7)\n",
        "alex/lolocenter.mat\n",
        "\r",
        "              0   0%    0.00kB/s    0:00:00  \r",
        "        425,984  92%  407.84kB/s    0:00:00  \r",
        "        458,267 100%  438.75kB/s    0:00:01 (xfr#4, to-chk=2/7)\n",
        "alex/lolofrozenpixel.mat\n",
        "\r",
        "              0   0%    0.00kB/s    0:00:00  \r",
        "     41,189,376  63%   39.28MB/s    0:00:00  \r",
        "     65,216,914 100%   47.08MB/s    0:00:01 (xfr#5, to-chk=1/7)\n",
        "alex/worloloofr.mat\n",
        "\r",
        "              0   0%    0.00kB/s    0:00:00  \r",
        "     31,883,264   2%   30.41MB/s    0:00:37  \r",
        "    106,528,768   8%   50.82MB/s    0:00:20  \r",
        "    157,253,632  13%   33.39MB/s    0:00:30  \r",
        "    220,954,624  18%   38.38MB/s    0:00:24  \r",
        "    292,913,152  24%   45.34MB/s    0:00:19  \r",
        "    352,059,392  29%   42.64MB/s    0:00:19  \r",
        "    425,295,872  35%   63.95MB/s    0:00:11  \r",
        "    476,184,576  39%   55.04MB/s    0:00:12  \r",
        "    545,193,984  45%   54.41MB/s    0:00:11  \r",
        "    617,447,424  51%   57.24MB/s    0:00:09  \r",
        "    684,097,536  57%   55.81MB/s    0:00:08  \r",
        "    756,744,192  63%   66.94MB/s    0:00:06  \r",
        "    804,028,416  67%   61.76MB/s    0:00:06  \r",
        "    875,692,032  73%   61.62MB/s    0:00:05  \r",
        "    920,813,568  76%   55.45MB/s    0:00:04  \r",
        "    987,234,304  82%   53.99MB/s    0:00:03  \r",
        "  1,054,834,688  88%   58.75MB/s    0:00:02  \r",
        "  1,120,567,296  93%   57.35MB/s    0:00:01  \r",
        "  1,189,609,472  99%   64.12MB/s    0:00:00  \r",
        "  1,197,423,956 100%   54.14MB/s    0:00:21 (xfr#6, to-chk=0/7)\n",
        "\n",
        "sent 147 bytes  received 2,772,868,036 bytes  58,376,172.27 bytes/sec\n",
        "total size is 2,772,529,142  speedup is 1.00\n"
       ]
      }
     ],
     "prompt_number": 5
    },
    {
     "cell_type": "markdown",
     "metadata": {},
     "source": [
      "Everything went fine, with a file transfer speed of ~58Mb/s. The good sync with ``rsync`` is that if you do that once again (or if the transfer was interrupted) you only transfer the files you need and not the whole thing. So for instance, if we do the same command again, we get:"
     ]
    },
    {
     "cell_type": "code",
     "collapsed": false,
     "input": [
      "%%bash\n",
      "INPUT=perrinet.l@frioul.int.univ-amu.fr:/riou/work/invibe/ARCHIVES/backups_perrinet/12_backups/alex\n",
      "OUTPUT=/Volumes/3tera/backups/12_backups/\n",
      "rsync -av  --progress --exclude .AppleDouble $INPUT $OUTPUT"
     ],
     "language": "python",
     "metadata": {},
     "outputs": [
      {
       "output_type": "stream",
       "stream": "stdout",
       "text": [
        "receiving incremental file list\n",
        "\n",
        "sent 30 bytes  received 201 bytes  154.00 bytes/sec\n",
        "total size is 2,772,529,142  speedup is 12,002,290.66\n"
       ]
      }
     ],
     "prompt_number": 7
    },
    {
     "cell_type": "markdown",
     "metadata": {},
     "source": [
      "That is a speedup of more than $10^7$, but that does not make sense, it's just very quick :-)"
     ]
    },
    {
     "cell_type": "heading",
     "level": 2,
     "metadata": {},
     "source": [
      "Hardlinking"
     ]
    },
    {
     "cell_type": "markdown",
     "metadata": {},
     "source": [
      "And now, what about saving space? On a hard drive, files exist physically on the plates as streeams of bits --- zeros and ones--- but a curcial point is that they may be chunked in different pieces (imagine placing a big file on a disk which is fragmented may cause problems similar to when you have to re-order your desk...). A solution on most filesystems is that they contain a file allocation tables containing (1) all the filenames and the name of the folder in which they sit (2) a pointer to the chunks on the physical disk where the actual data is.\n",
      "\n",
      "So we can take advantage of that on a backup: a somewhat obscure habit is to take a folder ``my_work``, copy it and then rename ``my_work_new``. Strange habit, but let's stick with that and take advantage of the previous remark. Such technique is used in many backup mechanisms (such as the Time Machine used on Mac Os X) and allows to copy a whole folder with a different name but without taking more space on the disk (google ``incremental backups`` for more info on this).\n",
      "\n",
      "As a matter of fact, it is possible to have two files with different names but pointing to the same data chunks, it is a harlink. If a program would detect files that are exactly the same, for instance if we used the copy-and-paste procedure described above, this would greatly reduce the actual physical space. Many such programs exist and one easy piece of software is available on https://hardlinkpy.googlecode.com/. It just consists of a python script, so the install is obvious:"
     ]
    },
    {
     "cell_type": "code",
     "collapsed": false,
     "input": [
      "%%bash\n",
      "wget https://hardlinkpy.googlecode.com/hg-history/1be1ba7ea38917e6b52c189ef625b05b4e7e4d52/hardlink.py"
     ],
     "language": "python",
     "metadata": {},
     "outputs": [
      {
       "output_type": "stream",
       "stream": "stderr",
       "text": [
        "--2014-07-07 11:47:55--  https://hardlinkpy.googlecode.com/hg-history/1be1ba7ea38917e6b52c189ef625b05b4e7e4d52/hardlink.py\n",
        "Resolving hardlinkpy.googlecode.com (hardlinkpy.googlecode.com)... 173.194.70.82, 2a00:1450:4001:c02::52\n",
        "Connecting to hardlinkpy.googlecode.com (hardlinkpy.googlecode.com)|173.194.70.82|:443... connected.\n",
        "HTTP request sent, awaiting response... \n",
        "  HTTP/1.1 200 OK\n",
        "  Accept-Ranges: none\n",
        "  ETag: \"544c8545289d2cbbb3d7b6d76eca8d743bca65bf/hardlink.py\"\n",
        "  Date: Mon, 07 Jul 2014 09:45:13 GMT\n",
        "  Content-Type: text/plain\n",
        "  Server: hg_frontend\n",
        "  X-XSS-Protection: 1; mode=block\n",
        "  Cache-Control: public,max-age=60\n",
        "  Age: 0\n",
        "  Alternate-Protocol: 443:quic\n",
        "  Transfer-Encoding: chunked\n",
        "Length: unspecified [text/plain]\n",
        "Last-modified header missing -- time-stamps turned off.\n",
        "--2014-07-07 11:47:55--  https://hardlinkpy.googlecode.com/hg-history/1be1ba7ea38917e6b52c189ef625b05b4e7e4d52/hardlink.py\n",
        "Reusing existing connection to hardlinkpy.googlecode.com:443.\n",
        "HTTP request sent, awaiting response... \n",
        "  HTTP/1.1 200 OK\n",
        "  Accept-Ranges: none\n",
        "  ETag: \"544c8545289d2cbbb3d7b6d76eca8d743bca65bf/hardlink.py\"\n",
        "  Date: Mon, 07 Jul 2014 09:45:13 GMT\n",
        "  Content-Type: text/plain\n",
        "  Server: hg_frontend\n",
        "  X-XSS-Protection: 1; mode=block\n",
        "  Cache-Control: public,max-age=60\n",
        "  Age: 0\n",
        "  Alternate-Protocol: 443:quic\n",
        "  Transfer-Encoding: chunked\n",
        "Length: unspecified [text/plain]\n",
        "Saving to: 'hardlink.py'\n",
        "\n",
        "     0K .......... ..........                                   947K=0.02s\n",
        "\n",
        "2014-07-07 11:47:55 (947 KB/s) - 'hardlink.py' saved [21430]\n",
        "\n"
       ]
      }
     ],
     "prompt_number": 13
    },
    {
     "cell_type": "markdown",
     "metadata": {},
     "source": [
      "Now imagine we had copied the folder twice:"
     ]
    },
    {
     "cell_type": "code",
     "collapsed": false,
     "input": [
      "%%bash\n",
      "INPUT=perrinet.l@frioul.int.univ-amu.fr:/riou/work/invibe/ARCHIVES/backups_perrinet/12_backups/alex\n",
      "OUTPUT=/Volumes/3tera/backups/12_backups/alex_new\n",
      "rsync -av  --progress --exclude .AppleDouble $INPUT $OUTPUT"
     ],
     "language": "python",
     "metadata": {},
     "outputs": [
      {
       "output_type": "stream",
       "stream": "stdout",
       "text": [
        "receiving incremental file list\n",
        "created directory /Volumes/3tera/backups/12_backups/alex_new\n",
        "alex/\n",
        "alex/bruitlolo_090319.mat\n",
        "\r",
        "              0   0%    0.00kB/s    0:00:00  \r",
        "      3,112,960   0%    2.66MB/s    0:06:01  \r",
        "      6,684,672   0%    3.01MB/s    0:05:17  \r",
        "     12,025,856   1%    3.63MB/s    0:04:21  \r",
        "     19,628,032   1%    4.35MB/s    0:03:37  \r",
        "     27,230,208   2%    5.41MB/s    0:02:53  \r",
        "     32,997,376   3%    5.84MB/s    0:02:39  \r",
        "     37,715,968   3%    5.76MB/s    0:02:41  \r",
        "     42,696,704   4%    5.31MB/s    0:02:53  \r",
        "     48,726,016   4%    4.93MB/s    0:03:05  \r",
        "     53,444,608   5%    4.70MB/s    0:03:14  \r",
        "     57,376,768   5%    4.49MB/s    0:03:21  \r",
        "     62,324,736   6%    4.53MB/s    0:03:19  \r",
        "     74,153,984   7%    5.84MB/s    0:02:32  \r",
        "    102,465,536  10%   11.30MB/s    0:01:16  \r",
        "    133,136,384  13%   17.35MB/s    0:00:48  \r",
        "    170,885,120  17%   24.85MB/s    0:00:32  \r",
        "    211,419,136  21%   32.16MB/s    0:00:23  \r",
        "    244,547,584  24%   33.27MB/s    0:00:21  \r",
        "    297,074,688  30%   38.84MB/s    0:00:17  \r",
        "    330,792,960  33%   37.90MB/s    0:00:16  \r",
        "    372,473,856  37%   38.17MB/s    0:00:15  \r",
        "    397,115,392  40%   36.22MB/s    0:00:15  \r",
        "    403,668,992  40%   25.28MB/s    0:00:22  \r",
        "    410,484,736  41%   18.75MB/s    0:00:30  \r",
        "    423,329,792  42%   11.85MB/s    0:00:46  \r",
        "    443,252,736  44%   10.49MB/s    0:00:50  \r",
        "    457,932,800  46%   12.26MB/s    0:00:42  \r",
        "    469,991,424  47%   13.39MB/s    0:00:37  \r",
        "    490,438,656  49%   15.12MB/s    0:00:32  \r",
        "    498,302,976  50%   12.57MB/s    0:00:37  \r",
        "    510,361,600  51%   12.03MB/s    0:00:38  \r",
        "    535,461,888  54%   15.21MB/s    0:00:28  \r",
        "    566,493,184  57%   17.82MB/s    0:00:23  \r",
        "    589,955,072  59%   21.81MB/s    0:00:17  \r",
        "    614,170,624  62%   24.70MB/s    0:00:14  \r",
        "    627,802,112  63%   21.96MB/s    0:00:15  \r",
        "    645,890,048  65%   18.41MB/s    0:00:18  \r",
        "    684,949,504  69%   21.99MB/s    0:00:13  \r",
        "    700,153,856  70%   19.92MB/s    0:00:14  \r",
        "    723,877,888  73%   22.27MB/s    0:00:11  \r",
        "    772,145,152  78%   30.02MB/s    0:00:06  \r",
        "    814,153,728  82%   30.77MB/s    0:00:05  \r",
        "    851,935,232  86%   35.76MB/s    0:00:03  \r",
        "    861,372,416  87%   32.32MB/s    0:00:03  \r",
        "    901,382,144  91%   30.38MB/s    0:00:02  \r",
        "    940,474,368  95%   29.69MB/s    0:00:01  \r",
        "    984,055,808  99%   31.34MB/s    0:00:00  \r",
        "    986,581,489 100%   19.40MB/s    0:00:48 (xfr#1, to-chk=5/7)\n",
        "alex/lolo.mat\n",
        "\r",
        "              0   0%    0.00kB/s    0:00:00  \r",
        "        248,942 100%    1.70MB/s    0:00:00 (xfr#2, to-chk=4/7)\n",
        "alex/lolo2.mat\n",
        "\r",
        "              0   0%    0.00kB/s    0:00:00  \r",
        "     37,453,824   7%   34.81MB/s    0:00:13  \r",
        "    100,368,384  19%   46.69MB/s    0:00:08  \r",
        "    146,505,728  28%   45.17MB/s    0:00:08  \r",
        "    173,768,704  33%   40.40MB/s    0:00:08  \r",
        "    244,580,352  46%   48.39MB/s    0:00:05  \r",
        "    300,122,112  57%   46.54MB/s    0:00:04  \r",
        "    372,310,016  71%   53.17MB/s    0:00:02  \r",
        "    440,107,008  84%   62.21MB/s    0:00:01  \r",
        "    493,387,776  94%   58.21MB/s    0:00:00  \r",
        "    522,599,574 100%   52.06MB/s    0:00:09 (xfr#3, to-chk=3/7)\n",
        "alex/lolocenter.mat\n",
        "\r",
        "              0   0%    0.00kB/s    0:00:00  \r",
        "        458,267 100%  962.42kB/s    0:00:00 (xfr#4, to-chk=2/7)\n",
        "alex/lolofrozenpixel.mat\n",
        "\r",
        "              0   0%    0.00kB/s    0:00:00  \r",
        "     41,648,128  63%   39.72MB/s    0:00:00  \r",
        "     65,216,914 100%   47.12MB/s    0:00:01 (xfr#5, to-chk=1/7)\n",
        "alex/worloloofr.mat\n",
        "\r",
        "              0   0%    0.00kB/s    0:00:00  \r",
        "     38,797,312   3%   37.00MB/s    0:00:30  \r",
        "     96,829,440   8%   46.19MB/s    0:00:23  \r",
        "    156,729,344  13%   49.71MB/s    0:00:20  \r",
        "    227,639,296  19%   54.18MB/s    0:00:17  \r",
        "    286,490,624  23%   58.95MB/s    0:00:15  \r",
        "    358,645,760  29%   62.31MB/s    0:00:13  \r",
        "    433,913,856  36%   66.12MB/s    0:00:11  \r",
        "    501,448,704  41%   65.33MB/s    0:00:10  \r",
        "    563,773,440  47%   65.13MB/s    0:00:09  \r",
        "    639,959,040  53%   66.08MB/s    0:00:08  \r",
        "    710,803,456  59%   65.06MB/s    0:00:07  \r",
        "    766,935,040  64%   62.38MB/s    0:00:06  \r",
        "    795,672,576  66%   55.33MB/s    0:00:07  \r",
        "    859,701,248  71%   52.43MB/s    0:00:06  \r",
        "    919,961,600  76%   49.90MB/s    0:00:05  \r",
        "    985,104,384  82%   52.04MB/s    0:00:03  \r",
        "  1,053,491,200  87%   61.50MB/s    0:00:02  \r",
        "  1,118,666,752  93%   61.79MB/s    0:00:01  \r",
        "  1,171,456,000  97%   60.01MB/s    0:00:00  \r",
        "  1,197,423,956 100%   58.84MB/s    0:00:19 (xfr#6, to-chk=0/7)\n",
        "\n",
        "sent 147 bytes  received 2,772,868,036 bytes  34,878,845.07 bytes/sec\n",
        "total size is 2,772,529,142  speedup is 1.00\n"
       ]
      }
     ],
     "prompt_number": 17
    },
    {
     "cell_type": "markdown",
     "metadata": {},
     "source": [
      "The program is easy to use: just type ``python hardlink.py`` in the terminal to have basic usage:"
     ]
    },
    {
     "cell_type": "code",
     "collapsed": false,
     "input": [
      "!python hardlink.py"
     ],
     "language": "python",
     "metadata": {},
     "outputs": [
      {
       "output_type": "stream",
       "stream": "stdout",
       "text": [
        "Usage: hardlink.py [options] directory [ directory ... ]\r\n",
        "\r\n",
        "Options:\r\n",
        "  --version             show program's version number and exit\r\n",
        "  -h, --help            show this help message and exit\r\n",
        "  -f, --filenames-equal\r\n",
        "                        Filenames have to be identical\r\n",
        "  -n, --dry-run         Do NOT actually hardlink files\r\n",
        "  -p, --print-previous  Print previously created hardlinks\r\n",
        "  -q, --no-stats        Do not print the statistics\r\n",
        "  -t, --timestamp-ignore\r\n",
        "                        File modification times do NOT have to be identical\r\n",
        "  -c, --content-only    Only file contents have to match\r\n",
        "  -v LEVEL, --verbose=LEVEL\r\n",
        "                        Verbosity level (default: 1)\r\n",
        "  -x REGEX, --exclude=REGEX\r\n",
        "                        Regular expression used to exclude files/dirs (may specify multiple times)\r\n",
        "\r\n",
        "Error: Must supply one or more directories\r\n"
       ]
      }
     ],
     "prompt_number": 16
    },
    {
     "cell_type": "markdown",
     "metadata": {},
     "source": [
      "Such that in our case, we want to do this: ``python hardlink.py /Volumes/3tera/backups/12_backups/`` :"
     ]
    },
    {
     "cell_type": "code",
     "collapsed": false,
     "input": [
      "!python hardlink.py /Volumes/3tera/backups/12_backups/"
     ],
     "language": "python",
     "metadata": {},
     "outputs": [
      {
       "output_type": "stream",
       "stream": "stdout",
       "text": [
        "Comparing: /Volumes/3tera/backups/12_backups/alex/bruitlolo_090319.mat\r\n",
        "     to  : /Volumes/3tera/backups/12_backups/alex_new/alex/bruitlolo_090319.mat\r\n"
       ]
      },
      {
       "output_type": "stream",
       "stream": "stdout",
       "text": [
        "Linked: /Volumes/3tera/backups/12_backups/alex_new/alex/bruitlolo_090319.mat\r\n",
        "     to: /Volumes/3tera/backups/12_backups/alex/bruitlolo_090319.mat, saved 986581489\r\n",
        "Comparing: /Volumes/3tera/backups/12_backups/alex/lolo.mat\r\n",
        "     to  : /Volumes/3tera/backups/12_backups/alex_new/alex/lolo.mat\r\n",
        "Linked: /Volumes/3tera/backups/12_backups/alex_new/alex/lolo.mat\r\n",
        "     to: /Volumes/3tera/backups/12_backups/alex/lolo.mat, saved 248942\r\n",
        "Comparing: /Volumes/3tera/backups/12_backups/alex/lolo2.mat\r\n",
        "     to  : /Volumes/3tera/backups/12_backups/alex_new/alex/lolo2.mat\r\n"
       ]
      },
      {
       "output_type": "stream",
       "stream": "stdout",
       "text": [
        "Linked: /Volumes/3tera/backups/12_backups/alex_new/alex/lolo2.mat\r\n",
        "     to: /Volumes/3tera/backups/12_backups/alex/lolo2.mat, saved 522599574\r\n",
        "Comparing: /Volumes/3tera/backups/12_backups/alex/lolocenter.mat\r\n",
        "     to  : /Volumes/3tera/backups/12_backups/alex_new/alex/lolocenter.mat\r\n",
        "Linked: /Volumes/3tera/backups/12_backups/alex_new/alex/lolocenter.mat\r\n",
        "     to: /Volumes/3tera/backups/12_backups/alex/lolocenter.mat, saved 458267\r\n",
        "Comparing: /Volumes/3tera/backups/12_backups/alex/lolofrozenpixel.mat\r\n",
        "     to  : /Volumes/3tera/backups/12_backups/alex_new/alex/lolofrozenpixel.mat\r\n"
       ]
      },
      {
       "output_type": "stream",
       "stream": "stdout",
       "text": [
        "Linked: /Volumes/3tera/backups/12_backups/alex_new/alex/lolofrozenpixel.mat\r\n",
        "     to: /Volumes/3tera/backups/12_backups/alex/lolofrozenpixel.mat, saved 65216914\r\n",
        "Comparing: /Volumes/3tera/backups/12_backups/alex/worloloofr.mat\r\n",
        "     to  : /Volumes/3tera/backups/12_backups/alex_new/alex/worloloofr.mat\r\n"
       ]
      },
      {
       "output_type": "stream",
       "stream": "stdout",
       "text": [
        "Linked: /Volumes/3tera/backups/12_backups/alex_new/alex/worloloofr.mat\r\n",
        "     to: /Volumes/3tera/backups/12_backups/alex/worloloofr.mat, saved 1197423956\r\n",
        "\r\n",
        "\r\n",
        "Hard linking Statistics:\r\n",
        "Files Hardlinked this run:\r\n",
        "Hardlinked: /Volumes/3tera/backups/12_backups/alex_new/alex/bruitlolo_090319.mat\r\n",
        "        to: /Volumes/3tera/backups/12_backups/alex/bruitlolo_090319.mat\r\n",
        "Hardlinked: /Volumes/3tera/backups/12_backups/alex_new/alex/lolo.mat\r\n",
        "        to: /Volumes/3tera/backups/12_backups/alex/lolo.mat\r\n",
        "Hardlinked: /Volumes/3tera/backups/12_backups/alex_new/alex/lolo2.mat\r\n",
        "        to: /Volumes/3tera/backups/12_backups/alex/lolo2.mat\r\n",
        "Hardlinked: /Volumes/3tera/backups/12_backups/alex_new/alex/lolocenter.mat\r\n",
        "        to: /Volumes/3tera/backups/12_backups/alex/lolocenter.mat\r\n",
        "Hardlinked: /Volumes/3tera/backups/12_backups/alex_new/alex/lolofrozenpixel.mat\r\n",
        "        to: /Volumes/3tera/backups/12_backups/alex/lolofrozenpixel.mat\r\n",
        "Hardlinked: /Volumes/3tera/backups/12_backups/alex_new/alex/worloloofr.mat\r\n",
        "        to: /Volumes/3tera/backups/12_backups/alex/worloloofr.mat\r\n",
        "\r\n",
        "Directories           : 4\r\n",
        "Regular files         : 12\r\n",
        "Comparisons           : 6\r\n",
        "Hardlinked this run   : 6\r\n",
        "Total hardlinks       : 6\r\n",
        "Bytes saved this run  : 2772529142 (2.582 gibibytes)\r\n",
        "Total bytes saved     : 2772529142 (2.582 gibibytes)\r\n",
        "Total run time        : 17.3441710472 seconds\r\n"
       ]
      }
     ],
     "prompt_number": 18
    },
    {
     "cell_type": "markdown",
     "metadata": {},
     "source": [
      "Ok, we just saved over 2Go :-)"
     ]
    },
    {
     "cell_type": "heading",
     "level": 2,
     "metadata": {},
     "source": [
      "book keeping"
     ]
    },
    {
     "cell_type": "code",
     "collapsed": false,
     "input": [
      "%%writefile 14-07-07-transferring-lots-of-files-to-a-remote-server-saving-space.meta\n",
      ".. title: 14-07-07 transferring (lots of) files to a remote server + saving space\n",
      ".. slug: 14-07-07-transferring-lots-of-files-to-a-remote-server-s\n",
      ".. date: 2014-07-07 10:31:28 UTC+02:00\n",
      ".. tags: int, hardlink, rsync\n",
      ".. link: \n",
      ".. description: \n",
      ".. type: text"
     ],
     "language": "python",
     "metadata": {},
     "outputs": [
      {
       "output_type": "stream",
       "stream": "stdout",
       "text": [
        "Overwriting 14-07-07-transferring-lots-of-files-to-a-remote-server-saving-space.meta\n"
       ]
      }
     ],
     "prompt_number": 24
    },
    {
     "cell_type": "code",
     "collapsed": false,
     "input": [
      "!nikola build"
     ],
     "language": "python",
     "metadata": {},
     "outputs": [
      {
       "output_type": "stream",
       "stream": "stdout",
       "text": [
        "Scanning posts."
       ]
      },
      {
       "output_type": "stream",
       "stream": "stdout",
       "text": [
        ".."
       ]
      },
      {
       "output_type": "stream",
       "stream": "stdout",
       "text": [
        "...."
       ]
      },
      {
       "output_type": "stream",
       "stream": "stdout",
       "text": [
        ".done!\r\n"
       ]
      },
      {
       "output_type": "stream",
       "stream": "stdout",
       "text": [
        ".  render_posts:cache/posts/14-07-07-transferring-lots-of-files-to-a-remote-server-saving-space.html\r\n"
       ]
      },
      {
       "output_type": "stream",
       "stream": "stdout",
       "text": [
        ".  render_sources:output/posts/14-07-07-transferring-lots-of-files-to-a-remote-server-s.ipynb\r\n",
        ".  render_tags:output/categories/index.html\r\n"
       ]
      },
      {
       "output_type": "stream",
       "stream": "stdout",
       "text": [
        ".  render_tags:output/categories/int.html\r\n"
       ]
      },
      {
       "output_type": "stream",
       "stream": "stdout",
       "text": [
        ".  render_tags:output/categories/demo.html\r\n",
        ".  render_tags:output/categories/oss.html\r\n",
        ".  render_tags:output/categories/vim.html\r\n",
        ".  render_tags:output/categories/macos.html\r\n",
        ".  render_tags:output/categories/elasticite.html\r\n",
        ".  render_tags:output/categories/ring-model.html\r\n",
        ".  render_tags:output/categories/computationalneuroscience.html\r\n"
       ]
      },
      {
       "output_type": "stream",
       "stream": "stdout",
       "text": [
        ".  render_tags:output/categories/moin.html\r\n",
        ".  render_tags:output/categories/talks.html\r\n",
        ".  render_tags:output/categories/anr-balav1.html\r\n",
        ".  render_tags:output/categories/find.html\r\n",
        ".  render_tags:output/categories/nikola.html\r\n",
        ".  render_tags:output/categories/year09.html\r\n",
        ".  render_tags:output/categories/year08.html\r\n",
        ".  render_tags:output/categories/year07.html\r\n"
       ]
      },
      {
       "output_type": "stream",
       "stream": "stdout",
       "text": [
        ".  render_tags:output/categories/blog.html\r\n",
        ".  render_tags:output/categories/craac.html\r\n",
        ".  render_tags:output/categories/cnrs.html\r\n",
        ".  render_tags:output/categories/python.html\r\n",
        ".  render_tags:output/categories/rsync.html\r\n"
       ]
      },
      {
       "output_type": "stream",
       "stream": "stdout",
       "text": [
        ".  render_tags:output/categories/neuralensemble.html\r\n",
        ".  render_tags:output/categories/hardlink.html\r\n"
       ]
      },
      {
       "output_type": "stream",
       "stream": "stdout",
       "text": [
        ".  render_tags:output/categories/ssh.html\r\n"
       ]
      },
      {
       "output_type": "stream",
       "stream": "stdout",
       "text": [
        ".  render_tags:output/categories/ubuntu.html\r\n",
        ".  render_tags:output/categories/moinmoin.html\r\n",
        ".  render_tags:output/categories/using.html\r\n",
        ".  render_tags:output/categories/info.html\r\n",
        ".  render_tags:output/categories/latex.html\r\n",
        ".  render_tags:output/categories/ipython.html\r\n",
        ".  render_tags:output/categories/motionclouds.html\r\n"
       ]
      },
      {
       "output_type": "stream",
       "stream": "stdout",
       "text": [
        ".  render_tags:output/categories/facets.html\r\n",
        ".  render_tags:output/categories/year12.html\r\n",
        ".  render_tags:output/categories/year10.html\r\n",
        ".  render_tags:output/categories/notebook.html\r\n",
        ".  render_tags:output/categories/tropique.html\r\n",
        ".  render_tags:output/categories/sciblog.html\r\n"
       ]
      },
      {
       "output_type": "stream",
       "stream": "stdout",
       "text": [
        ".  render_tags:output/categories/bibcloud.html\r\n",
        ".  render_tags:output/categories/brainscales.html\r\n",
        ".  render_tags:output/categories/pynn.html\r\n",
        ".  render_tags:output/assets/js/tag_cloud_data.json\r\n",
        ".  render_indexes:output/index.html\r\n"
       ]
      },
      {
       "output_type": "stream",
       "stream": "stdout",
       "text": [
        ".  render_indexes:output/index-11.html\r\n"
       ]
      },
      {
       "output_type": "stream",
       "stream": "stdout",
       "text": [
        ".  render_indexes:output/index-9.html\r\n"
       ]
      },
      {
       "output_type": "stream",
       "stream": "stdout",
       "text": [
        ".  render_indexes:output/index-2.html\r\n"
       ]
      },
      {
       "output_type": "stream",
       "stream": "stdout",
       "text": [
        ".  render_indexes:output/index-13.html\r\n"
       ]
      },
      {
       "output_type": "stream",
       "stream": "stdout",
       "text": [
        ".  render_indexes:output/index-14.html\r\n"
       ]
      },
      {
       "output_type": "stream",
       "stream": "stdout",
       "text": [
        ".  render_indexes:output/index-3.html\r\n"
       ]
      },
      {
       "output_type": "stream",
       "stream": "stdout",
       "text": [
        ".  render_indexes:output/index-4.html\r\n",
        ".  render_indexes:output/index-8.html\r\n"
       ]
      },
      {
       "output_type": "stream",
       "stream": "stdout",
       "text": [
        ".  render_indexes:output/index-5.html\r\n",
        ".  render_indexes:output/index-6.html\r\n"
       ]
      },
      {
       "output_type": "stream",
       "stream": "stdout",
       "text": [
        ".  render_indexes:output/index-7.html\r\n"
       ]
      },
      {
       "output_type": "stream",
       "stream": "stdout",
       "text": [
        ".  render_indexes:output/index-12.html\r\n",
        ".  render_indexes:output/index-1.html\r\n"
       ]
      },
      {
       "output_type": "stream",
       "stream": "stdout",
       "text": [
        ".  render_indexes:output/index-10.html\r\n"
       ]
      },
      {
       "output_type": "stream",
       "stream": "stdout",
       "text": [
        ".  generate_rss:output/rss.xml\r\n"
       ]
      },
      {
       "output_type": "stream",
       "stream": "stdout",
       "text": [
        ".  render_tags:output/categories/oss.xml\r\n",
        ".  render_tags:output/categories/int.xml\r\n"
       ]
      },
      {
       "output_type": "stream",
       "stream": "stdout",
       "text": [
        ".  render_tags:output/categories/elasticite.xml\r\n"
       ]
      },
      {
       "output_type": "stream",
       "stream": "stdout",
       "text": [
        ".  render_tags:output/categories/rsync.xml\r\n"
       ]
      },
      {
       "output_type": "stream",
       "stream": "stdout",
       "text": [
        ".  render_tags:output/categories/notebook.xml\r\n"
       ]
      },
      {
       "output_type": "stream",
       "stream": "stdout",
       "text": [
        ".  render_tags:output/categories/vim.xml\r\n"
       ]
      },
      {
       "output_type": "stream",
       "stream": "stdout",
       "text": [
        ".  render_tags:output/categories/tropique.xml\r\n",
        ".  render_tags:output/categories/macos.xml\r\n",
        ".  render_tags:output/categories/sciblog.xml\r\n"
       ]
      },
      {
       "output_type": "stream",
       "stream": "stdout",
       "text": [
        ".  render_tags:output/categories/bibcloud.xml\r\n",
        ".  render_tags:output/categories/ring-model.xml\r\n"
       ]
      },
      {
       "output_type": "stream",
       "stream": "stdout",
       "text": [
        ".  render_tags:output/categories/brainscales.xml\r\n",
        ".  render_tags:output/categories/computationalneuroscience.xml\r\n",
        ".  render_tags:output/categories/pynn.xml\r\n"
       ]
      },
      {
       "output_type": "stream",
       "stream": "stdout",
       "text": [
        ".  render_tags:output/categories/moin.xml\r\n",
        ".  render_tags:output/categories/talks.xml\r\n",
        ".  render_tags:output/categories/anr-balav1.xml\r\n"
       ]
      },
      {
       "output_type": "stream",
       "stream": "stdout",
       "text": [
        ".  render_tags:output/categories/demo.xml\r\n",
        ".  render_tags:output/categories/find.xml\r\n",
        ".  render_tags:output/categories/nikola.xml\r\n"
       ]
      },
      {
       "output_type": "stream",
       "stream": "stdout",
       "text": [
        ".  render_tags:output/categories/year09.xml\r\n"
       ]
      },
      {
       "output_type": "stream",
       "stream": "stdout",
       "text": [
        ".  render_tags:output/categories/year08.xml\r\n",
        ".  render_tags:output/categories/year07.xml\r\n"
       ]
      },
      {
       "output_type": "stream",
       "stream": "stdout",
       "text": [
        ".  render_tags:output/categories/blog.xml\r\n",
        ".  render_tags:output/categories/craac.xml\r\n"
       ]
      },
      {
       "output_type": "stream",
       "stream": "stdout",
       "text": [
        ".  render_tags:output/categories/cnrs.xml\r\n"
       ]
      },
      {
       "output_type": "stream",
       "stream": "stdout",
       "text": [
        ".  render_tags:output/categories/python.xml\r\n"
       ]
      },
      {
       "output_type": "stream",
       "stream": "stdout",
       "text": [
        ".  render_tags:output/categories/neuralensemble.xml\r\n",
        ".  render_tags:output/categories/hardlink.xml\r\n",
        ".  render_tags:output/categories/ubuntu.xml\r\n",
        ".  render_tags:output/categories/ssh.xml\r\n",
        ".  render_tags:output/categories/moinmoin.xml\r\n"
       ]
      },
      {
       "output_type": "stream",
       "stream": "stdout",
       "text": [
        ".  render_tags:output/categories/using.xml\r\n"
       ]
      },
      {
       "output_type": "stream",
       "stream": "stdout",
       "text": [
        ".  render_tags:output/categories/info.xml\r\n",
        ".  render_pages:output/posts/14-07-07-transferring-lots-of-files-to-a-remote-server-s.html\r\n"
       ]
      },
      {
       "output_type": "stream",
       "stream": "stdout",
       "text": [
        ".  render_tags:output/categories/latex.xml\r\n"
       ]
      },
      {
       "output_type": "stream",
       "stream": "stdout",
       "text": [
        ".  render_tags:output/categories/ipython.xml\r\n",
        ".  render_tags:output/categories/motionclouds.xml\r\n"
       ]
      },
      {
       "output_type": "stream",
       "stream": "stdout",
       "text": [
        ".  render_tags:output/categories/facets.xml\r\n",
        ".  render_tags:output/categories/year12.xml\r\n",
        ".  render_tags:output/categories/year10.xml\r\n"
       ]
      }
     ],
     "prompt_number": 25
    },
    {
     "cell_type": "code",
     "collapsed": false,
     "input": [
      "!nikola deploy"
     ],
     "language": "python",
     "metadata": {},
     "outputs": [
      {
       "output_type": "stream",
       "stream": "stdout",
       "text": [
        "Scanning posts..."
       ]
      },
      {
       "output_type": "stream",
       "stream": "stdout",
       "text": [
        ".....done!\r\n",
        "\u001b[37m[2014-07-07T09:57:21Z] INFO: deploy: ==> git add .\r\n",
        "\u001b[39;49;00m"
       ]
      },
      {
       "output_type": "stream",
       "stream": "stdout",
       "text": [
        "\u001b[37m[2014-07-07T09:57:21Z] INFO: deploy: ==> git commit --dry-run -am 'Test' |grep -q -v 'nothing to commit' && git commit -am 'Update'; git push\r\n",
        "\u001b[39;49;00m[master 6f3001e] Update\r\n",
        " 2 files changed, 126 insertions(+), 9 deletions(-)\r\n"
       ]
      },
      {
       "output_type": "stream",
       "stream": "stdout",
       "text": [
        "Counting objects: 5, done.\r\n",
        "Delta compression using up to 8 threads.\r\n",
        "Compressing objects:  20% (1/5)   \r",
        "Compressing objects:  40% (2/5)   \r",
        "Compressing objects:  60% (3/5)   \r",
        "Compressing objects:  80% (4/5)   \r",
        "Compressing objects: 100% (5/5)   \r",
        "Compressing objects: 100% (5/5), done.\r\n",
        "Writing objects:  20% (1/5)   \r",
        "Writing objects:  40% (2/5)   \r",
        "Writing objects:  60% (3/5)   \r",
        "Writing objects:  80% (4/5)   \r",
        "Writing objects: 100% (5/5)   \r",
        "Writing objects: 100% (5/5), 1.16 KiB | 0 bytes/s, done.\r\n",
        "Total 5 (delta 4), reused 0 (delta 0)\r\n"
       ]
      },
      {
       "output_type": "stream",
       "stream": "stdout",
       "text": [
        "To https://meduz@bitbucket.org/meduz/invibe.git\r\n",
        "   154ad20..6f3001e  master -> master\r\n",
        "\u001b[37m[2014-07-07T09:57:24Z] INFO: deploy: ==> ./deploy.sh\r\n",
        "\u001b[39;49;00m"
       ]
      },
      {
       "output_type": "stream",
       "stream": "stdout",
       "text": [
        "  \r",
        "mkdir `/nikola' [FEAT negotiation...]\r"
       ]
      },
      {
       "output_type": "stream",
       "stream": "stdout",
       "text": [
        "                                       \r",
        "Removing old file `index-1.html'\r\n",
        "Transferring file `index-1.html'\r\n",
        "`index-1.html' at 0 (0%) [Waiting for response...]\r"
       ]
      },
      {
       "output_type": "stream",
       "stream": "stdout",
       "text": [
        "                                                    \r",
        "Removing old file `index-10.html'\r\n",
        "Transferring file `index-10.html'\r\n"
       ]
      },
      {
       "output_type": "stream",
       "stream": "stdout",
       "text": [
        "`index-10.html' at 0 (0%) [Waiting for response...]\r"
       ]
      },
      {
       "output_type": "stream",
       "stream": "stdout",
       "text": [
        "                                                     \r",
        "Removing old file `index-11.html'\r\n",
        "Transferring file `index-11.html'\r\n"
       ]
      },
      {
       "output_type": "stream",
       "stream": "stdout",
       "text": [
        "`index-11.html' at 0 (0%) [Waiting for response...]\r"
       ]
      },
      {
       "output_type": "stream",
       "stream": "stdout",
       "text": [
        "                                                     \r",
        "Removing old file `index-12.html'\r\n",
        "Transferring file `index-12.html'\r\n"
       ]
      },
      {
       "output_type": "stream",
       "stream": "stdout",
       "text": [
        "`index-12.html' at 0 (0%) [Waiting for response...]\r"
       ]
      },
      {
       "output_type": "stream",
       "stream": "stdout",
       "text": [
        "                                                     \r",
        "Removing old file `index-13.html'\r\n",
        "Transferring file `index-13.html'\r\n"
       ]
      },
      {
       "output_type": "stream",
       "stream": "stdout",
       "text": [
        "`index-13.html' at 0 (0%) [Waiting for response...]\r"
       ]
      },
      {
       "output_type": "stream",
       "stream": "stdout",
       "text": [
        "                                                     \r",
        "Removing old file `index-14.html'\r\n",
        "Transferring file `index-14.html'\r\n",
        "`index-14.html' at 0 (0%) [Waiting for response...]\r"
       ]
      },
      {
       "output_type": "stream",
       "stream": "stdout",
       "text": [
        "                                                     \r",
        "Removing old file `index-2.html'\r\n",
        "Transferring file `index-2.html'\r\n",
        "`index-2.html' at 0 (0%) [Waiting for response...]\r"
       ]
      },
      {
       "output_type": "stream",
       "stream": "stdout",
       "text": [
        "                                                    \r",
        "Removing old file `index-3.html'\r\n",
        "Transferring file `index-3.html'\r\n",
        "`index-3.html' at 0 (0%) [Waiting for response...]\r"
       ]
      },
      {
       "output_type": "stream",
       "stream": "stdout",
       "text": [
        "                                                    \r",
        "Removing old file `index-4.html'\r\n",
        "Transferring file `index-4.html'\r\n",
        "`index-4.html' at 0 (0%) [Waiting for response...]\r"
       ]
      },
      {
       "output_type": "stream",
       "stream": "stdout",
       "text": [
        "                                                    \r",
        "Removing old file `index-5.html'\r\n",
        "Transferring file `index-5.html'\r\n"
       ]
      },
      {
       "output_type": "stream",
       "stream": "stdout",
       "text": [
        "`index-5.html' at 0 (0%) [Waiting for response...]\r"
       ]
      },
      {
       "output_type": "stream",
       "stream": "stdout",
       "text": [
        "                                                    \r",
        "Removing old file `index-6.html'\r\n",
        "Transferring file `index-6.html'\r\n"
       ]
      },
      {
       "output_type": "stream",
       "stream": "stdout",
       "text": [
        "`index-6.html' at 0 (0%) [Waiting for response...]\r"
       ]
      },
      {
       "output_type": "stream",
       "stream": "stdout",
       "text": [
        "                                                    \r",
        "Removing old file `index-7.html'\r\n",
        "Transferring file `index-7.html'\r\n",
        "`index-7.html' at 0 (0%) [Waiting for response...]\r"
       ]
      },
      {
       "output_type": "stream",
       "stream": "stdout",
       "text": [
        "                                                    \r",
        "Removing old file `index-8.html'\r\n",
        "Transferring file `index-8.html'\r\n"
       ]
      },
      {
       "output_type": "stream",
       "stream": "stdout",
       "text": [
        "`index-8.html' at 0 (0%) [Waiting for response...]\r"
       ]
      },
      {
       "output_type": "stream",
       "stream": "stdout",
       "text": [
        "                                                    \r",
        "Removing old file `index-9.html'\r\n",
        "Transferring file `index-9.html'\r\n",
        "`index-9.html' at 0 (0%) [Waiting for response...]\r"
       ]
      },
      {
       "output_type": "stream",
       "stream": "stdout",
       "text": [
        "                                                    \r",
        "Removing old file `index.html'\r\n",
        "Transferring file `index.html'\r\n",
        "`index.html' at 0 (0%) [Waiting for response...]\r"
       ]
      },
      {
       "output_type": "stream",
       "stream": "stdout",
       "text": [
        "                                                  \r",
        "Removing old file `rss.xml'\r\n",
        "Transferring file `rss.xml'\r\n",
        "`rss.xml' at 0 (0%) [Waiting for response...]\r"
       ]
      },
      {
       "output_type": "stream",
       "stream": "stdout",
       "text": [
        "                                               \r",
        "Mirroring directory `2005'\r\n",
        "2005: Getting directory contents (0) [Waiting for response...]\r"
       ]
      },
      {
       "output_type": "stream",
       "stream": "stdout",
       "text": [
        "                                                                \r",
        "Mirroring directory `2006'\r\n",
        "2006: Getting directory contents (0) [Waiting for response...]\r"
       ]
      },
      {
       "output_type": "stream",
       "stream": "stdout",
       "text": [
        "                                                                \r",
        "Mirroring directory `2007'\r\n"
       ]
      },
      {
       "output_type": "stream",
       "stream": "stdout",
       "text": [
        "2007: Getting directory contents (0) [Waiting for response...]\r"
       ]
      },
      {
       "output_type": "stream",
       "stream": "stdout",
       "text": [
        "                                                                \r",
        "Mirroring directory `2008'\r\n",
        "2008: Getting directory contents (0) [Waiting for response...]\r"
       ]
      },
      {
       "output_type": "stream",
       "stream": "stdout",
       "text": [
        "                                                                \r",
        "Mirroring directory `2009'\r\n"
       ]
      },
      {
       "output_type": "stream",
       "stream": "stdout",
       "text": [
        "2009: Getting directory contents (0) [Waiting for response...]\r"
       ]
      },
      {
       "output_type": "stream",
       "stream": "stdout",
       "text": [
        "                                                                \r",
        "Mirroring directory `2010'\r\n",
        "2010: Getting directory contents (0) [Waiting for response...]\r"
       ]
      },
      {
       "output_type": "stream",
       "stream": "stdout",
       "text": [
        "                                                                \r",
        "Mirroring directory `2011'\r\n"
       ]
      },
      {
       "output_type": "stream",
       "stream": "stdout",
       "text": [
        "2011: Getting directory contents (0) [Waiting for response...]\r"
       ]
      },
      {
       "output_type": "stream",
       "stream": "stdout",
       "text": [
        "                                                                \r",
        "Mirroring directory `2012'\r\n",
        "2012: Getting directory contents (0) [Waiting for response...]\r"
       ]
      },
      {
       "output_type": "stream",
       "stream": "stdout",
       "text": [
        "                                                                \r",
        "Mirroring directory `2013'\r\n"
       ]
      },
      {
       "output_type": "stream",
       "stream": "stdout",
       "text": [
        "2013: Getting directory contents (0) [Waiting for response...]\r"
       ]
      },
      {
       "output_type": "stream",
       "stream": "stdout",
       "text": [
        "                                                                \r",
        "Mirroring directory `2014'\r\n",
        "2014: Getting directory contents (0) [Waiting for response...]\r"
       ]
      },
      {
       "output_type": "stream",
       "stream": "stdout",
       "text": [
        "                                                                \r",
        "Mirroring directory `assets'\r\n"
       ]
      },
      {
       "output_type": "stream",
       "stream": "stdout",
       "text": [
        "assets: Getting directory contents (0) [Waiting for response...]\r"
       ]
      },
      {
       "output_type": "stream",
       "stream": "stdout",
       "text": [
        "                                                                  \r",
        "Mirroring directory `assets/css'\r\n",
        "assets/css: Getting directory contents (0) [Waiting for response...]\r"
       ]
      },
      {
       "output_type": "stream",
       "stream": "stdout",
       "text": [
        "                                                                      \r",
        "Mirroring directory `assets/fonts'\r\n"
       ]
      },
      {
       "output_type": "stream",
       "stream": "stdout",
       "text": [
        "assets/fonts: Getting directory contents (0) [Waiting for response...]\r"
       ]
      },
      {
       "output_type": "stream",
       "stream": "stdout",
       "text": [
        "                                                                        \r",
        "Mirroring directory `assets/images'\r\n"
       ]
      },
      {
       "output_type": "stream",
       "stream": "stdout",
       "text": [
        "assets/images: Getting directory contents (0) [Waiting for response...]\r"
       ]
      },
      {
       "output_type": "stream",
       "stream": "stdout",
       "text": [
        "                                                                         \r",
        "Mirroring directory `assets/js'\r\n",
        "assets/js: Getting directory contents (0) [Waiting for response...]\r"
       ]
      },
      {
       "output_type": "stream",
       "stream": "stdout",
       "text": [
        "                                                                     \r",
        "Removing old file `assets/js/tag_cloud_data.json'\r\n",
        "Transferring file `assets/js/tag_cloud_data.json'\r\n"
       ]
      },
      {
       "output_type": "stream",
       "stream": "stdout",
       "text": [
        "`tag_cloud_data.json' at 0 (0%) [Waiting for response...]\r"
       ]
      },
      {
       "output_type": "stream",
       "stream": "stdout",
       "text": [
        "                                                           \r",
        "Mirroring directory `categories'\r\n"
       ]
      },
      {
       "output_type": "stream",
       "stream": "stdout",
       "text": [
        "categories: Getting directory contents (0) [Waiting for response...]\r"
       ]
      },
      {
       "output_type": "stream",
       "stream": "stdout",
       "text": [
        "categories: Getting files information (68%) [Waiting for response...] \r"
       ]
      },
      {
       "output_type": "stream",
       "stream": "stdout",
       "text": [
        "                                                                       \r",
        "Removing old file `categories/anr-balav1.html'\r\n",
        "Transferring file `categories/anr-balav1.html'\r\n",
        "`anr-balav1.html' at 0 (0%) [Waiting for response...]\r"
       ]
      },
      {
       "output_type": "stream",
       "stream": "stdout",
       "text": [
        "                                                       \r",
        "Removing old file `categories/bibcloud.html'\r\n",
        "Transferring file `categories/bibcloud.html'\r\n",
        "`bibcloud.html' at 0 (0%) [Waiting for response...]\r"
       ]
      },
      {
       "output_type": "stream",
       "stream": "stdout",
       "text": [
        "                                                     \r",
        "Removing old file `categories/blog.html'\r\n",
        "Transferring file `categories/blog.html'\r\n",
        "`blog.html' at 0 (0%) [Waiting for response...]\r"
       ]
      },
      {
       "output_type": "stream",
       "stream": "stdout",
       "text": [
        "                                                 \r",
        "Removing old file `categories/brainscales.html'\r\n",
        "Transferring file `categories/brainscales.html'\r\n",
        "`brainscales.html' at 0 (0%) [Waiting for response...]\r"
       ]
      },
      {
       "output_type": "stream",
       "stream": "stdout",
       "text": [
        "                                                        \r",
        "Removing old file `categories/cnrs.html'\r\n",
        "Transferring file `categories/cnrs.html'\r\n",
        "`cnrs.html' at 0 (0%) [Waiting for response...]\r"
       ]
      },
      {
       "output_type": "stream",
       "stream": "stdout",
       "text": [
        "                                                 \r",
        "Removing old file `categories/computationalneuroscience.html'\r\n",
        "Transferring file `categories/computationalneuroscience.html'\r\n",
        "`computationalneuroscience.html' at 0 (0%) [Waiting for response...]\r"
       ]
      },
      {
       "output_type": "stream",
       "stream": "stdout",
       "text": [
        "                                                                      \r",
        "Removing old file `categories/craac.html'\r\n",
        "Transferring file `categories/craac.html'\r\n"
       ]
      },
      {
       "output_type": "stream",
       "stream": "stdout",
       "text": [
        "`craac.html' at 0 (0%) [Waiting for response...]\r"
       ]
      },
      {
       "output_type": "stream",
       "stream": "stdout",
       "text": [
        "                                                  \r",
        "Removing old file `categories/demo.html'\r\n",
        "Transferring file `categories/demo.html'\r\n",
        "`demo.html' at 0 (0%) [Waiting for response...]\r"
       ]
      },
      {
       "output_type": "stream",
       "stream": "stdout",
       "text": [
        "                                                 \r",
        "Removing old file `categories/elasticite.html'\r\n",
        "Transferring file `categories/elasticite.html'\r\n"
       ]
      },
      {
       "output_type": "stream",
       "stream": "stdout",
       "text": [
        "`elasticite.html' at 0 (0%) [Waiting for response...]\r"
       ]
      },
      {
       "output_type": "stream",
       "stream": "stdout",
       "text": [
        "                                                       \r",
        "Removing old file `categories/facets.html'\r\n",
        "Transferring file `categories/facets.html'\r\n",
        "`facets.html' at 0 (0%) [Waiting for response...]\r"
       ]
      },
      {
       "output_type": "stream",
       "stream": "stdout",
       "text": [
        "                                                   \r",
        "Removing old file `categories/find.html'\r\n",
        "Transferring file `categories/find.html'\r\n"
       ]
      },
      {
       "output_type": "stream",
       "stream": "stdout",
       "text": [
        "`find.html' at 0 (0%) [Waiting for response...]\r"
       ]
      },
      {
       "output_type": "stream",
       "stream": "stdout",
       "text": [
        "                                                 \r",
        "Removing old file `categories/info.html'\r\n",
        "Transferring file `categories/info.html'\r\n",
        "`info.html' at 0 (0%) [Waiting for response...]\r"
       ]
      },
      {
       "output_type": "stream",
       "stream": "stdout",
       "text": [
        "                                                 \r",
        "Removing old file `categories/int.html'\r\n",
        "Transferring file `categories/int.html'\r\n"
       ]
      },
      {
       "output_type": "stream",
       "stream": "stdout",
       "text": [
        "`int.html' at 0 (0%) [Waiting for response...]\r"
       ]
      },
      {
       "output_type": "stream",
       "stream": "stdout",
       "text": [
        "                                                \r",
        "Removing old file `categories/int.xml'\r\n",
        "Transferring file `categories/int.xml'\r\n"
       ]
      },
      {
       "output_type": "stream",
       "stream": "stdout",
       "text": [
        "`int.xml' at 0 (0%) [Waiting for response...]\r"
       ]
      },
      {
       "output_type": "stream",
       "stream": "stdout",
       "text": [
        "                                               \r",
        "Removing old file `categories/ipython.html'\r\n",
        "Transferring file `categories/ipython.html'\r\n",
        "`ipython.html' at 0 (0%) [Waiting for response...]\r"
       ]
      },
      {
       "output_type": "stream",
       "stream": "stdout",
       "text": [
        "                                                    \r",
        "Removing old file `categories/latex.html'\r\n",
        "Transferring file `categories/latex.html'\r\n",
        "`latex.html' at 0 (0%) [Waiting for response...]\r"
       ]
      },
      {
       "output_type": "stream",
       "stream": "stdout",
       "text": [
        "                                                  \r",
        "Removing old file `categories/macos.html'\r\n",
        "Transferring file `categories/macos.html'\r\n"
       ]
      },
      {
       "output_type": "stream",
       "stream": "stdout",
       "text": [
        "`macos.html' at 0 (0%) [Waiting for response...]\r"
       ]
      },
      {
       "output_type": "stream",
       "stream": "stdout",
       "text": [
        "                                                  \r",
        "Removing old file `categories/moin.html'\r\n",
        "Transferring file `categories/moin.html'\r\n",
        "`moin.html' at 0 (0%) [Waiting for response...]\r"
       ]
      },
      {
       "output_type": "stream",
       "stream": "stdout",
       "text": [
        "                                                 \r",
        "Removing old file `categories/moinmoin.html'\r\n",
        "Transferring file `categories/moinmoin.html'\r\n",
        "`moinmoin.html' at 0 (0%) [Waiting for response...]\r"
       ]
      },
      {
       "output_type": "stream",
       "stream": "stdout",
       "text": [
        "                                                     \r",
        "Removing old file `categories/motionclouds.html'\r\n",
        "Transferring file `categories/motionclouds.html'\r\n",
        "`motionclouds.html' at 0 (0%) [Waiting for response...]\r"
       ]
      },
      {
       "output_type": "stream",
       "stream": "stdout",
       "text": [
        "                                                         \r",
        "Removing old file `categories/neuralensemble.html'\r\n",
        "Transferring file `categories/neuralensemble.html'\r\n"
       ]
      },
      {
       "output_type": "stream",
       "stream": "stdout",
       "text": [
        "`neuralensemble.html' at 0 (0%) [Waiting for response...]\r"
       ]
      },
      {
       "output_type": "stream",
       "stream": "stdout",
       "text": [
        "                                                           \r",
        "Removing old file `categories/nikola.html'\r\n",
        "Transferring file `categories/nikola.html'\r\n"
       ]
      },
      {
       "output_type": "stream",
       "stream": "stdout",
       "text": [
        "`nikola.html' at 0 (0%) [Waiting for response...]\r"
       ]
      },
      {
       "output_type": "stream",
       "stream": "stdout",
       "text": [
        "                                                   \r",
        "Removing old file `categories/notebook.html'\r\n",
        "Transferring file `categories/notebook.html'\r\n"
       ]
      },
      {
       "output_type": "stream",
       "stream": "stdout",
       "text": [
        "`notebook.html' at 0 (0%) [Waiting for response...]\r"
       ]
      },
      {
       "output_type": "stream",
       "stream": "stdout",
       "text": [
        "                                                     \r",
        "Removing old file `categories/oss.html'\r\n",
        "Transferring file `categories/oss.html'\r\n"
       ]
      },
      {
       "output_type": "stream",
       "stream": "stdout",
       "text": [
        "`oss.html' at 0 (0%) [Waiting for response...]\r"
       ]
      },
      {
       "output_type": "stream",
       "stream": "stdout",
       "text": [
        "                                                \r",
        "Removing old file `categories/pynn.html'\r\n",
        "Transferring file `categories/pynn.html'\r\n"
       ]
      },
      {
       "output_type": "stream",
       "stream": "stdout",
       "text": [
        "`pynn.html' at 0 (0%) [Waiting for response...]\r"
       ]
      },
      {
       "output_type": "stream",
       "stream": "stdout",
       "text": [
        "                                                 \r",
        "Removing old file `categories/python.html'\r\n",
        "Transferring file `categories/python.html'\r\n"
       ]
      },
      {
       "output_type": "stream",
       "stream": "stdout",
       "text": [
        "`python.html' at 0 (0%) [Waiting for response...]\r"
       ]
      },
      {
       "output_type": "stream",
       "stream": "stdout",
       "text": [
        "                                                   \r",
        "Removing old file `categories/ring-model.html'\r\n",
        "Transferring file `categories/ring-model.html'\r\n",
        "`ring-model.html' at 0 (0%) [Waiting for response...]\r"
       ]
      },
      {
       "output_type": "stream",
       "stream": "stdout",
       "text": [
        "                                                       \r",
        "Removing old file `categories/sciblog.html'\r\n",
        "Transferring file `categories/sciblog.html'\r\n",
        "`sciblog.html' at 0 (0%) [Waiting for response...]\r"
       ]
      },
      {
       "output_type": "stream",
       "stream": "stdout",
       "text": [
        "                                                    \r",
        "Removing old file `categories/ssh.html'\r\n",
        "Transferring file `categories/ssh.html'\r\n",
        "`ssh.html' at 0 (0%) [Waiting for response...]\r"
       ]
      },
      {
       "output_type": "stream",
       "stream": "stdout",
       "text": [
        "                                                \r",
        "Removing old file `categories/talks.html'\r\n",
        "Transferring file `categories/talks.html'\r\n",
        "`talks.html' at 0 (0%) [Waiting for response...]\r"
       ]
      },
      {
       "output_type": "stream",
       "stream": "stdout",
       "text": [
        "                                                  \r",
        "Removing old file `categories/tropique.html'\r\n",
        "Transferring file `categories/tropique.html'\r\n"
       ]
      },
      {
       "output_type": "stream",
       "stream": "stdout",
       "text": [
        "`tropique.html' at 0 (0%) [Waiting for response...]\r"
       ]
      },
      {
       "output_type": "stream",
       "stream": "stdout",
       "text": [
        "                                                     \r",
        "Removing old file `categories/ubuntu.html'\r\n",
        "Transferring file `categories/ubuntu.html'\r\n"
       ]
      },
      {
       "output_type": "stream",
       "stream": "stdout",
       "text": [
        "`ubuntu.html' at 0 (0%) [Waiting for response...]\r"
       ]
      },
      {
       "output_type": "stream",
       "stream": "stdout",
       "text": [
        "                                                   \r",
        "Removing old file `categories/using.html'\r\n",
        "Transferring file `categories/using.html'\r\n"
       ]
      },
      {
       "output_type": "stream",
       "stream": "stdout",
       "text": [
        "`using.html' at 0 (0%) [Waiting for response...]\r"
       ]
      },
      {
       "output_type": "stream",
       "stream": "stdout",
       "text": [
        "                                                  \r",
        "Removing old file `categories/vim.html'\r\n",
        "Transferring file `categories/vim.html'\r\n"
       ]
      },
      {
       "output_type": "stream",
       "stream": "stdout",
       "text": [
        "`vim.html' at 0 (0%) [Waiting for response...]\r"
       ]
      },
      {
       "output_type": "stream",
       "stream": "stdout",
       "text": [
        "                                                \r",
        "Removing old file `categories/year07.html'\r\n",
        "Transferring file `categories/year07.html'\r\n"
       ]
      },
      {
       "output_type": "stream",
       "stream": "stdout",
       "text": [
        "`year07.html' at 0 (0%) [Waiting for response...]\r"
       ]
      },
      {
       "output_type": "stream",
       "stream": "stdout",
       "text": [
        "                                                   \r",
        "Removing old file `categories/year08.html'\r\n",
        "Transferring file `categories/year08.html'\r\n",
        "`year08.html' at 0 (0%) [Waiting for response...]\r"
       ]
      },
      {
       "output_type": "stream",
       "stream": "stdout",
       "text": [
        "                                                   \r",
        "Removing old file `categories/year09.html'\r\n",
        "Transferring file `categories/year09.html'\r\n",
        "`year09.html' at 0 (0%) [Waiting for response...]\r"
       ]
      },
      {
       "output_type": "stream",
       "stream": "stdout",
       "text": [
        "                                                   \r",
        "Removing old file `categories/year10.html'\r\n",
        "Transferring file `categories/year10.html'\r\n",
        "`year10.html' at 0 (0%) [Waiting for response...]\r"
       ]
      },
      {
       "output_type": "stream",
       "stream": "stdout",
       "text": [
        "                                                   \r",
        "Removing old file `categories/year12.html'\r\n",
        "Transferring file `categories/year12.html'\r\n",
        "`year12.html' at 0 (0%) [Waiting for response...]\r"
       ]
      },
      {
       "output_type": "stream",
       "stream": "stdout",
       "text": [
        "                                                   \r",
        "Mirroring directory `galleries'\r\n"
       ]
      },
      {
       "output_type": "stream",
       "stream": "stdout",
       "text": [
        "galleries: Getting directory contents (0) [Waiting for response...]\r"
       ]
      },
      {
       "output_type": "stream",
       "stream": "stdout",
       "text": [
        "                                                                     \r",
        "Mirroring directory `galleries/demo'\r\n"
       ]
      },
      {
       "output_type": "stream",
       "stream": "stdout",
       "text": [
        "galleries/demo: Getting directory contents (0) [Waiting for response...]\r"
       ]
      },
      {
       "output_type": "stream",
       "stream": "stdout",
       "text": [
        "                                                                          \r",
        "Mirroring directory `listings'\r\n",
        "listings: Getting directory contents (0) [Waiting for response...]\r"
       ]
      },
      {
       "output_type": "stream",
       "stream": "stdout",
       "text": [
        "                                                                    \r",
        "Mirroring directory `posts'\r\n",
        "posts: Getting directory contents (0) [Waiting for response...]\r"
       ]
      },
      {
       "output_type": "stream",
       "stream": "stdout",
       "text": [
        "posts: Getting files information (16%) [Waiting for response...] \r"
       ]
      },
      {
       "output_type": "stream",
       "stream": "stdout",
       "text": [
        "posts: Getting files information (38%) [Waiting for response...]  \r"
       ]
      },
      {
       "output_type": "stream",
       "stream": "stdout",
       "text": [
        "posts: Getting files information (58%) [Waiting for response...]  \r"
       ]
      },
      {
       "output_type": "stream",
       "stream": "stdout",
       "text": [
        "posts: Getting files information (79%) [Waiting for response...]  \r"
       ]
      },
      {
       "output_type": "stream",
       "stream": "stdout",
       "text": [
        "                                                                  \r",
        "Removing old file `posts/14-06-25-grille-hexagonale.html'\r\n",
        "Transferring file `posts/14-06-25-grille-hexagonale.html'\r\n",
        "`...6-25-grille-hexagonale.html' at 0 (0%) [Waiting for response...]\r"
       ]
      },
      {
       "output_type": "stream",
       "stream": "stdout",
       "text": [
        "                                                                      \r",
        "Transferring file `posts/14-07-07-transferring-lots-of-files-to-a-remote-server-s.html'\r\n",
        "`...s-to-a-remote-server-s.html' at 0 (0%) [Making data connection...]\r"
       ]
      },
      {
       "output_type": "stream",
       "stream": "stdout",
       "text": [
        "                                                                        \r",
        "Transferring file `posts/14-07-07-transferring-lots-of-files-to-a-remote-server-s.ipynb'\r\n",
        "`...-to-a-remote-server-s.ipynb' at 0 (0%) [Making data connection...]\r"
       ]
      },
      {
       "output_type": "stream",
       "stream": "stdout",
       "text": [
        "                                                                        \r",
        "Mirroring directory `stories'\r\n",
        "stories: Getting directory contents (0) [Waiting for response...]\r"
       ]
      },
      {
       "output_type": "stream",
       "stream": "stdout",
       "text": [
        "                                                                   \r",
        "\u001b[37m[2014-07-07T09:57:42Z] INFO: deploy: Successful deployment\r\n",
        "\u001b[39;49;00m"
       ]
      }
     ],
     "prompt_number": 23
    }
   ],
   "metadata": {}
  }
 ]
}