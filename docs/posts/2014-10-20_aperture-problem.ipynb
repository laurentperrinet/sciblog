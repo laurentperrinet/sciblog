{
 "cells": [
  {
   "cell_type": "markdown",
   "metadata": {},
   "source": [
    "# SlippingClouds: MotionClouds for exploring the aperture problem\n",
    "\n",
    "<!-- TEASER_END -->\n"
   ]
  },
  {
   "cell_type": "code",
   "execution_count": 1,
   "metadata": {
    "collapsed": false
   },
   "outputs": [],
   "source": [
    "import numpy as np\n",
    "import MotionClouds as mc\n",
    "\n",
    "fx, fy, ft = mc.get_grids(mc.N_X, mc.N_Y, mc.N_frame)\n",
    "name = 'SlippingClouds'\n",
    "\n",
    "import os\n",
    "mc.figpath = '../files/2014-10-20_Aperture-Problem'\n",
    "if not(os.path.isdir(mc.figpath)): os.mkdir(mc.figpath)\n",
    "\n",
    "B_sf = .3\n",
    "B_theta = np.pi/32"
   ]
  },
  {
   "cell_type": "code",
   "execution_count": 2,
   "metadata": {
    "collapsed": false
   },
   "outputs": [
    {
     "name": "stderr",
     "output_type": "stream",
     "text": [
      "/usr/local/lib/python3.6/site-packages/vispy/visuals/isocurve.py:22: UserWarning: VisPy is not yet compatible with matplotlib 2.2+\n",
      "  warnings.warn(\"VisPy is not yet compatible with matplotlib 2.2+\")\n"
     ]
    },
    {
     "data": {
      "text/html": [
       "\n",
       "                <center><table border=none width=100% height=100%>\n",
       "                <tr>\n",
       "                <td width=33%%><center><img src=\"../files/2014-10-20_Aperture-Problem/SlippingClouds_iso.png\" width=100%/></td>\n",
       "                <td rowspan=2  colspan=2><center><video src=\"../files/2014-10-20_Aperture-Problem/SlippingClouds_iso.mp4\"   loop=\"1\" autoplay=\"1\" controls   type=\"video/mp4\" width=100%/></td>\n",
       "                </tr>\n",
       "                <tr>\n",
       "                <td><center><img src=\"../files/2014-10-20_Aperture-Problem/SlippingClouds_iso_cube.png\" width=100%/></td>\n",
       "                </tr>\n",
       "                </table></center>"
      ],
      "text/plain": [
       "<IPython.core.display.HTML object>"
      ]
     },
     "metadata": {},
     "output_type": "display_data"
    }
   ],
   "source": [
    "theta1, theta2 = 0., 0.\n",
    "diag = mc.envelope_gabor(fx, fy, ft, theta=theta2, V_X=np.cos(theta1), V_Y=np.sin(theta1), B_sf=B_sf, B_theta=B_theta)\n",
    "name_ = name + '_iso'\n",
    "mc.figures(diag, name_, seed=12234565, figpath=mc.figpath)\n",
    "mc.in_show_video(name_, figpath=mc.figpath)"
   ]
  },
  {
   "cell_type": "code",
   "execution_count": 3,
   "metadata": {
    "collapsed": false
   },
   "outputs": [
    {
     "data": {
      "text/html": [
       "\n",
       "                <center><table border=none width=100% height=100%>\n",
       "                <tr>\n",
       "                <td width=33%%><center><img src=\"../files/2014-10-20_Aperture-Problem/SlippingClouds_diag.png\" width=100%/></td>\n",
       "                <td rowspan=2  colspan=2><center><video src=\"../files/2014-10-20_Aperture-Problem/SlippingClouds_diag.mp4\"   loop=\"1\" autoplay=\"1\" controls   type=\"video/mp4\" width=100%/></td>\n",
       "                </tr>\n",
       "                <tr>\n",
       "                <td><center><img src=\"../files/2014-10-20_Aperture-Problem/SlippingClouds_diag_cube.png\" width=100%/></td>\n",
       "                </tr>\n",
       "                </table></center>"
      ],
      "text/plain": [
       "<IPython.core.display.HTML object>"
      ]
     },
     "metadata": {},
     "output_type": "display_data"
    }
   ],
   "source": [
    "theta1, theta2 = 0., np.pi/4.\n",
    "diag = mc.envelope_gabor(fx, fy, ft, theta=theta2, V_X=np.cos(theta1), V_Y=np.sin(theta1), B_sf=B_sf, B_theta=B_theta)\n",
    "name_ = name + '_diag'\n",
    "mc.figures(diag, name_, seed=12234565, figpath=mc.figpath)\n",
    "mc.in_show_video(name_, figpath=mc.figpath)"
   ]
  },
  {
   "cell_type": "code",
   "execution_count": 4,
   "metadata": {
    "collapsed": false
   },
   "outputs": [
    {
     "data": {
      "text/html": [
       "\n",
       "                <center><table border=none width=100% height=100%>\n",
       "                <tr>\n",
       "                <td width=33%%><center><img src=\"../files/2014-10-20_Aperture-Problem/SlippingClouds_contra.png\" width=100%/></td>\n",
       "                <td rowspan=2  colspan=2><center><video src=\"../files/2014-10-20_Aperture-Problem/SlippingClouds_contra.mp4\"   loop=\"1\" autoplay=\"1\" controls   type=\"video/mp4\" width=100%/></td>\n",
       "                </tr>\n",
       "                <tr>\n",
       "                <td><center><img src=\"../files/2014-10-20_Aperture-Problem/SlippingClouds_contra_cube.png\" width=100%/></td>\n",
       "                </tr>\n",
       "                </table></center>"
      ],
      "text/plain": [
       "<IPython.core.display.HTML object>"
      ]
     },
     "metadata": {},
     "output_type": "display_data"
    }
   ],
   "source": [
    "theta1, theta2 = 0., np.pi/2.\n",
    "diag = mc.envelope_gabor(fx, fy, ft, theta=theta2, V_X=np.cos(theta1), V_Y=np.sin(theta1), B_sf=B_sf, B_theta=B_theta)\n",
    "name_ = name + '_contra'\n",
    "mc.figures(diag, name_, seed=12234565, figpath=mc.figpath)\n",
    "mc.in_show_video(name_, figpath=mc.figpath)"
   ]
  },
  {
   "cell_type": "markdown",
   "metadata": {},
   "source": [
    "This figure shows how one can create MotionCloud stimuli that have specific direction and orientation which are not necessarily perpendicular, components \"slipping\" relative to the motion.\n",
    "<br> We generate MotionClouds components with a strong selectivity toward one orientation. We show in different lines of this table respectively: Top) orientation perpendicular to orientation as in the standard case with a line, Middle) a 45° difference between both,  Bottom) orientation and direction are parallel.\n",
    "<br> We created the aperture problem without any aperture! This can be shown by looking at envelopes in the Fourier space. To best infer motion, you would look fro the best speed plane that would go through each envelope. If these envelopes are rather tight, there are many different speed planes that can go through this envelope: motion is ambiguous.\n",
    "<br> Columns represent isometric projections of a cube. The left column displays iso-surfaces of the spectral envelope by displaying enclosing volumes at 5 different energy values with respect to the peak amplitude of the Fourier spectrum. The middle column shows an isometric view of the  faces of the movie cube.\n",
    "<br> The first frame of the movie lies on the x-y plane, the x-t plane lies on the top face and motion direction is seen as diagonal lines on this face (vertical motion is similarly see in the y-t face). The third column displays the actual movie as an animation."
   ]
  },
  {
   "cell_type": "markdown",
   "metadata": {},
   "source": [
    "## exploring different slipping angles"
   ]
  },
  {
   "cell_type": "code",
   "execution_count": 5,
   "metadata": {
    "collapsed": false
   },
   "outputs": [
    {
     "data": {
      "text/html": [
       "\n",
       "                <center><table border=none width=100% height=100%>\n",
       "                <tr>\n",
       "                <td width=33%%><center><img src=\"../files/2014-10-20_Aperture-Problem/SlippingClouds_dtheta_0_0.png\" width=100%/></td>\n",
       "                <td rowspan=2  colspan=2><center><video src=\"../files/2014-10-20_Aperture-Problem/SlippingClouds_dtheta_0_0.mp4\"   loop=\"1\" autoplay=\"1\" controls   type=\"video/mp4\" width=100%/></td>\n",
       "                </tr>\n",
       "                <tr>\n",
       "                <td><center><img src=\"../files/2014-10-20_Aperture-Problem/SlippingClouds_dtheta_0_0_cube.png\" width=100%/></td>\n",
       "                </tr>\n",
       "                </table></center>"
      ],
      "text/plain": [
       "<IPython.core.display.HTML object>"
      ]
     },
     "metadata": {},
     "output_type": "display_data"
    },
    {
     "data": {
      "text/html": [
       "\n",
       "                <center><table border=none width=100% height=100%>\n",
       "                <tr>\n",
       "                <td width=33%%><center><img src=\"../files/2014-10-20_Aperture-Problem/SlippingClouds_dtheta_0_2243994752564138.png\" width=100%/></td>\n",
       "                <td rowspan=2  colspan=2><center><video src=\"../files/2014-10-20_Aperture-Problem/SlippingClouds_dtheta_0_2243994752564138.mp4\"   loop=\"1\" autoplay=\"1\" controls   type=\"video/mp4\" width=100%/></td>\n",
       "                </tr>\n",
       "                <tr>\n",
       "                <td><center><img src=\"../files/2014-10-20_Aperture-Problem/SlippingClouds_dtheta_0_2243994752564138_cube.png\" width=100%/></td>\n",
       "                </tr>\n",
       "                </table></center>"
      ],
      "text/plain": [
       "<IPython.core.display.HTML object>"
      ]
     },
     "metadata": {},
     "output_type": "display_data"
    },
    {
     "data": {
      "text/html": [
       "\n",
       "                <center><table border=none width=100% height=100%>\n",
       "                <tr>\n",
       "                <td width=33%%><center><img src=\"../files/2014-10-20_Aperture-Problem/SlippingClouds_dtheta_0_4487989505128276.png\" width=100%/></td>\n",
       "                <td rowspan=2  colspan=2><center><video src=\"../files/2014-10-20_Aperture-Problem/SlippingClouds_dtheta_0_4487989505128276.mp4\"   loop=\"1\" autoplay=\"1\" controls   type=\"video/mp4\" width=100%/></td>\n",
       "                </tr>\n",
       "                <tr>\n",
       "                <td><center><img src=\"../files/2014-10-20_Aperture-Problem/SlippingClouds_dtheta_0_4487989505128276_cube.png\" width=100%/></td>\n",
       "                </tr>\n",
       "                </table></center>"
      ],
      "text/plain": [
       "<IPython.core.display.HTML object>"
      ]
     },
     "metadata": {},
     "output_type": "display_data"
    },
    {
     "data": {
      "text/html": [
       "\n",
       "                <center><table border=none width=100% height=100%>\n",
       "                <tr>\n",
       "                <td width=33%%><center><img src=\"../files/2014-10-20_Aperture-Problem/SlippingClouds_dtheta_0_6731984257692414.png\" width=100%/></td>\n",
       "                <td rowspan=2  colspan=2><center><video src=\"../files/2014-10-20_Aperture-Problem/SlippingClouds_dtheta_0_6731984257692414.mp4\"   loop=\"1\" autoplay=\"1\" controls   type=\"video/mp4\" width=100%/></td>\n",
       "                </tr>\n",
       "                <tr>\n",
       "                <td><center><img src=\"../files/2014-10-20_Aperture-Problem/SlippingClouds_dtheta_0_6731984257692414_cube.png\" width=100%/></td>\n",
       "                </tr>\n",
       "                </table></center>"
      ],
      "text/plain": [
       "<IPython.core.display.HTML object>"
      ]
     },
     "metadata": {},
     "output_type": "display_data"
    },
    {
     "data": {
      "text/html": [
       "\n",
       "                <center><table border=none width=100% height=100%>\n",
       "                <tr>\n",
       "                <td width=33%%><center><img src=\"../files/2014-10-20_Aperture-Problem/SlippingClouds_dtheta_0_8975979010256552.png\" width=100%/></td>\n",
       "                <td rowspan=2  colspan=2><center><video src=\"../files/2014-10-20_Aperture-Problem/SlippingClouds_dtheta_0_8975979010256552.mp4\"   loop=\"1\" autoplay=\"1\" controls   type=\"video/mp4\" width=100%/></td>\n",
       "                </tr>\n",
       "                <tr>\n",
       "                <td><center><img src=\"../files/2014-10-20_Aperture-Problem/SlippingClouds_dtheta_0_8975979010256552_cube.png\" width=100%/></td>\n",
       "                </tr>\n",
       "                </table></center>"
      ],
      "text/plain": [
       "<IPython.core.display.HTML object>"
      ]
     },
     "metadata": {},
     "output_type": "display_data"
    },
    {
     "data": {
      "text/html": [
       "\n",
       "                <center><table border=none width=100% height=100%>\n",
       "                <tr>\n",
       "                <td width=33%%><center><img src=\"../files/2014-10-20_Aperture-Problem/SlippingClouds_dtheta_1_121997376282069.png\" width=100%/></td>\n",
       "                <td rowspan=2  colspan=2><center><video src=\"../files/2014-10-20_Aperture-Problem/SlippingClouds_dtheta_1_121997376282069.mp4\"   loop=\"1\" autoplay=\"1\" controls   type=\"video/mp4\" width=100%/></td>\n",
       "                </tr>\n",
       "                <tr>\n",
       "                <td><center><img src=\"../files/2014-10-20_Aperture-Problem/SlippingClouds_dtheta_1_121997376282069_cube.png\" width=100%/></td>\n",
       "                </tr>\n",
       "                </table></center>"
      ],
      "text/plain": [
       "<IPython.core.display.HTML object>"
      ]
     },
     "metadata": {},
     "output_type": "display_data"
    },
    {
     "data": {
      "text/html": [
       "\n",
       "                <center><table border=none width=100% height=100%>\n",
       "                <tr>\n",
       "                <td width=33%%><center><img src=\"../files/2014-10-20_Aperture-Problem/SlippingClouds_dtheta_1_3463968515384828.png\" width=100%/></td>\n",
       "                <td rowspan=2  colspan=2><center><video src=\"../files/2014-10-20_Aperture-Problem/SlippingClouds_dtheta_1_3463968515384828.mp4\"   loop=\"1\" autoplay=\"1\" controls   type=\"video/mp4\" width=100%/></td>\n",
       "                </tr>\n",
       "                <tr>\n",
       "                <td><center><img src=\"../files/2014-10-20_Aperture-Problem/SlippingClouds_dtheta_1_3463968515384828_cube.png\" width=100%/></td>\n",
       "                </tr>\n",
       "                </table></center>"
      ],
      "text/plain": [
       "<IPython.core.display.HTML object>"
      ]
     },
     "metadata": {},
     "output_type": "display_data"
    },
    {
     "data": {
      "text/html": [
       "\n",
       "                <center><table border=none width=100% height=100%>\n",
       "                <tr>\n",
       "                <td width=33%%><center><img src=\"../files/2014-10-20_Aperture-Problem/SlippingClouds_dtheta_1_5707963267948966.png\" width=100%/></td>\n",
       "                <td rowspan=2  colspan=2><center><video src=\"../files/2014-10-20_Aperture-Problem/SlippingClouds_dtheta_1_5707963267948966.mp4\"   loop=\"1\" autoplay=\"1\" controls   type=\"video/mp4\" width=100%/></td>\n",
       "                </tr>\n",
       "                <tr>\n",
       "                <td><center><img src=\"../files/2014-10-20_Aperture-Problem/SlippingClouds_dtheta_1_5707963267948966_cube.png\" width=100%/></td>\n",
       "                </tr>\n",
       "                </table></center>"
      ],
      "text/plain": [
       "<IPython.core.display.HTML object>"
      ]
     },
     "metadata": {},
     "output_type": "display_data"
    }
   ],
   "source": [
    "N_orient = 8\n",
    "#downscale= 2\n",
    "#fx, fy, ft = mc.get_grids(mc.N_X/downscale, mc.N_Y/downscale, mc.N_frame)\n",
    "theta = 0\n",
    "for dtheta in np.linspace(0, np.pi/2, N_orient):\n",
    "    name_ = name + '_dtheta_' + str(dtheta).replace('.', '_')\n",
    "    theta1, theta2, B_theta = 0., np.pi/2., np.pi/32\n",
    "    diag = mc.envelope_gabor(fx, fy, ft, theta=theta+dtheta, V_X=np.cos(theta), V_Y=np.sin(theta), B_sf=B_sf, B_theta=B_theta)\n",
    "    mc.figures(diag, name_, seed=12234565, figpath=mc.figpath)\n",
    "    mc.in_show_video(name_, figpath=mc.figpath)"
   ]
  },
  {
   "cell_type": "markdown",
   "metadata": {},
   "source": [
    "We display SlippingClouds with different angle between direction and orientation.\n",
    "<br> Left column displays iso-surfaces of the spectral envelope by displaying enclosing volumes at 5 different energy values with respect to the peak amplitude of the Fourier spectrum.\n",
    "<br> Right column of the table displays the actual movie as an animation."
   ]
  },
  {
   "cell_type": "markdown",
   "metadata": {},
   "source": [
    "## manipulating different ambiguities"
   ]
  },
  {
   "cell_type": "code",
   "execution_count": 6,
   "metadata": {
    "collapsed": false
   },
   "outputs": [
    {
     "data": {
      "text/html": [
       "\n",
       "                <center><table border=none width=100% height=100%>\n",
       "                <tr>\n",
       "                <td width=33%%><center><img src=\"../files/2014-10-20_Aperture-Problem/SlippingClouds_B_theta_0_39269908169872414.png\" width=100%/></td>\n",
       "                <td rowspan=2  colspan=2><center><video src=\"../files/2014-10-20_Aperture-Problem/SlippingClouds_B_theta_0_39269908169872414.mp4\"   loop=\"1\" autoplay=\"1\" controls   type=\"video/mp4\" width=100%/></td>\n",
       "                </tr>\n",
       "                <tr>\n",
       "                <td><center><img src=\"../files/2014-10-20_Aperture-Problem/SlippingClouds_B_theta_0_39269908169872414_cube.png\" width=100%/></td>\n",
       "                </tr>\n",
       "                </table></center>"
      ],
      "text/plain": [
       "<IPython.core.display.HTML object>"
      ]
     },
     "metadata": {},
     "output_type": "display_data"
    },
    {
     "data": {
      "text/html": [
       "\n",
       "                <center><table border=none width=100% height=100%>\n",
       "                <tr>\n",
       "                <td width=33%%><center><img src=\"../files/2014-10-20_Aperture-Problem/SlippingClouds_B_theta_0_19634954084936207.png\" width=100%/></td>\n",
       "                <td rowspan=2  colspan=2><center><video src=\"../files/2014-10-20_Aperture-Problem/SlippingClouds_B_theta_0_19634954084936207.mp4\"   loop=\"1\" autoplay=\"1\" controls   type=\"video/mp4\" width=100%/></td>\n",
       "                </tr>\n",
       "                <tr>\n",
       "                <td><center><img src=\"../files/2014-10-20_Aperture-Problem/SlippingClouds_B_theta_0_19634954084936207_cube.png\" width=100%/></td>\n",
       "                </tr>\n",
       "                </table></center>"
      ],
      "text/plain": [
       "<IPython.core.display.HTML object>"
      ]
     },
     "metadata": {},
     "output_type": "display_data"
    },
    {
     "data": {
      "text/html": [
       "\n",
       "                <center><table border=none width=100% height=100%>\n",
       "                <tr>\n",
       "                <td width=33%%><center><img src=\"../files/2014-10-20_Aperture-Problem/SlippingClouds_B_theta_0_1308996938995747.png\" width=100%/></td>\n",
       "                <td rowspan=2  colspan=2><center><video src=\"../files/2014-10-20_Aperture-Problem/SlippingClouds_B_theta_0_1308996938995747.mp4\"   loop=\"1\" autoplay=\"1\" controls   type=\"video/mp4\" width=100%/></td>\n",
       "                </tr>\n",
       "                <tr>\n",
       "                <td><center><img src=\"../files/2014-10-20_Aperture-Problem/SlippingClouds_B_theta_0_1308996938995747_cube.png\" width=100%/></td>\n",
       "                </tr>\n",
       "                </table></center>"
      ],
      "text/plain": [
       "<IPython.core.display.HTML object>"
      ]
     },
     "metadata": {},
     "output_type": "display_data"
    },
    {
     "data": {
      "text/html": [
       "\n",
       "                <center><table border=none width=100% height=100%>\n",
       "                <tr>\n",
       "                <td width=33%%><center><img src=\"../files/2014-10-20_Aperture-Problem/SlippingClouds_B_theta_0_09817477042468103.png\" width=100%/></td>\n",
       "                <td rowspan=2  colspan=2><center><video src=\"../files/2014-10-20_Aperture-Problem/SlippingClouds_B_theta_0_09817477042468103.mp4\"   loop=\"1\" autoplay=\"1\" controls   type=\"video/mp4\" width=100%/></td>\n",
       "                </tr>\n",
       "                <tr>\n",
       "                <td><center><img src=\"../files/2014-10-20_Aperture-Problem/SlippingClouds_B_theta_0_09817477042468103_cube.png\" width=100%/></td>\n",
       "                </tr>\n",
       "                </table></center>"
      ],
      "text/plain": [
       "<IPython.core.display.HTML object>"
      ]
     },
     "metadata": {},
     "output_type": "display_data"
    },
    {
     "data": {
      "text/html": [
       "\n",
       "                <center><table border=none width=100% height=100%>\n",
       "                <tr>\n",
       "                <td width=33%%><center><img src=\"../files/2014-10-20_Aperture-Problem/SlippingClouds_B_theta_0_07853981633974483.png\" width=100%/></td>\n",
       "                <td rowspan=2  colspan=2><center><video src=\"../files/2014-10-20_Aperture-Problem/SlippingClouds_B_theta_0_07853981633974483.mp4\"   loop=\"1\" autoplay=\"1\" controls   type=\"video/mp4\" width=100%/></td>\n",
       "                </tr>\n",
       "                <tr>\n",
       "                <td><center><img src=\"../files/2014-10-20_Aperture-Problem/SlippingClouds_B_theta_0_07853981633974483_cube.png\" width=100%/></td>\n",
       "                </tr>\n",
       "                </table></center>"
      ],
      "text/plain": [
       "<IPython.core.display.HTML object>"
      ]
     },
     "metadata": {},
     "output_type": "display_data"
    },
    {
     "data": {
      "text/html": [
       "\n",
       "                <center><table border=none width=100% height=100%>\n",
       "                <tr>\n",
       "                <td width=33%%><center><img src=\"../files/2014-10-20_Aperture-Problem/SlippingClouds_B_theta_0_06544984694978735.png\" width=100%/></td>\n",
       "                <td rowspan=2  colspan=2><center><video src=\"../files/2014-10-20_Aperture-Problem/SlippingClouds_B_theta_0_06544984694978735.mp4\"   loop=\"1\" autoplay=\"1\" controls   type=\"video/mp4\" width=100%/></td>\n",
       "                </tr>\n",
       "                <tr>\n",
       "                <td><center><img src=\"../files/2014-10-20_Aperture-Problem/SlippingClouds_B_theta_0_06544984694978735_cube.png\" width=100%/></td>\n",
       "                </tr>\n",
       "                </table></center>"
      ],
      "text/plain": [
       "<IPython.core.display.HTML object>"
      ]
     },
     "metadata": {},
     "output_type": "display_data"
    },
    {
     "data": {
      "text/html": [
       "\n",
       "                <center><table border=none width=100% height=100%>\n",
       "                <tr>\n",
       "                <td width=33%%><center><img src=\"../files/2014-10-20_Aperture-Problem/SlippingClouds_B_theta_0_05609986881410345.png\" width=100%/></td>\n",
       "                <td rowspan=2  colspan=2><center><video src=\"../files/2014-10-20_Aperture-Problem/SlippingClouds_B_theta_0_05609986881410345.mp4\"   loop=\"1\" autoplay=\"1\" controls   type=\"video/mp4\" width=100%/></td>\n",
       "                </tr>\n",
       "                <tr>\n",
       "                <td><center><img src=\"../files/2014-10-20_Aperture-Problem/SlippingClouds_B_theta_0_05609986881410345_cube.png\" width=100%/></td>\n",
       "                </tr>\n",
       "                </table></center>"
      ],
      "text/plain": [
       "<IPython.core.display.HTML object>"
      ]
     },
     "metadata": {},
     "output_type": "display_data"
    },
    {
     "data": {
      "text/html": [
       "\n",
       "                <center><table border=none width=100% height=100%>\n",
       "                <tr>\n",
       "                <td width=33%%><center><img src=\"../files/2014-10-20_Aperture-Problem/SlippingClouds_B_theta_0_04908738521234052.png\" width=100%/></td>\n",
       "                <td rowspan=2  colspan=2><center><video src=\"../files/2014-10-20_Aperture-Problem/SlippingClouds_B_theta_0_04908738521234052.mp4\"   loop=\"1\" autoplay=\"1\" controls   type=\"video/mp4\" width=100%/></td>\n",
       "                </tr>\n",
       "                <tr>\n",
       "                <td><center><img src=\"../files/2014-10-20_Aperture-Problem/SlippingClouds_B_theta_0_04908738521234052_cube.png\" width=100%/></td>\n",
       "                </tr>\n",
       "                </table></center>"
      ],
      "text/plain": [
       "<IPython.core.display.HTML object>"
      ]
     },
     "metadata": {},
     "output_type": "display_data"
    }
   ],
   "source": [
    "N_test = 8\n",
    "#downscale= 2\n",
    "#fx, fy, ft = mc.get_grids(mc.N_X/downscale, mc.N_Y/downscale, mc.N_frame)\n",
    "theta = 0\n",
    "dtheta = np.pi/4\n",
    "for B_theta_ in np.pi/8/np.arange(1, N_test+1):#np.linspace(0, np.pi/8, N_test)[1:]:\n",
    "    name_ = name + '_B_theta_' + str(B_theta_).replace('.', '_')\n",
    "    theta1, theta2, B_theta = 0., np.pi/2., np.pi/32\n",
    "    diag = mc.envelope_gabor(fx, fy, ft, theta=theta+dtheta, V_X=np.cos(theta), V_Y=np.sin(theta), B_sf=B_sf, B_theta=B_theta_)\n",
    "    mc.figures(diag, name_, seed=12234565, figpath=mc.figpath)\n",
    "    mc.in_show_video(name_, figpath=mc.figpath)"
   ]
  },
  {
   "cell_type": "markdown",
   "metadata": {},
   "source": [
    "The ambiguity in !SlippingClouds can be manipualted by changing B_theta for a given B_V.\n",
    "<br> Left column displays iso-surfaces of the spectral envelope by displaying enclosing volumes at 5 different energy values with respect to the peak amplitude of the Fourier spectrum.\n",
    "<br> Right column of the table displays the actual movie as an animation."
   ]
  },
  {
   "cell_type": "markdown",
   "metadata": {},
   "source": [
    "## some book keeping for the notebook"
   ]
  },
  {
   "cell_type": "code",
   "execution_count": 1,
   "metadata": {
    "ExecuteTime": {
     "end_time": "2018-11-07T16:19:23.177738Z",
     "start_time": "2018-11-07T16:19:23.125993Z"
    }
   },
   "outputs": [
    {
     "data": {
      "application/json": {
       "Software versions": [
        {
         "module": "Python",
         "version": "3.7.1 64bit [Clang 10.0.0 (clang-1000.11.45.5)]"
        },
        {
         "module": "IPython",
         "version": "7.1.1"
        },
        {
         "module": "OS",
         "version": "Darwin 17.7.0 x86_64 i386 64bit"
        },
        {
         "module": "numpy",
         "version": "1.15.4"
        },
        {
         "module": "scipy",
         "version": "1.1.0"
        },
        {
         "module": "matplotlib",
         "version": "3.0.1"
        },
        {
         "module": "MotionClouds",
         "version": "20180606"
        }
       ]
      },
      "text/html": [
       "<table><tr><th>Software</th><th>Version</th></tr><tr><td>Python</td><td>3.7.1 64bit [Clang 10.0.0 (clang-1000.11.45.5)]</td></tr><tr><td>IPython</td><td>7.1.1</td></tr><tr><td>OS</td><td>Darwin 17.7.0 x86_64 i386 64bit</td></tr><tr><td>numpy</td><td>1.15.4</td></tr><tr><td>scipy</td><td>1.1.0</td></tr><tr><td>matplotlib</td><td>3.0.1</td></tr><tr><td>MotionClouds</td><td>20180606</td></tr><tr><td colspan='2'>Wed Nov 14 09:37:58 2018 CET</td></tr></table>"
      ],
      "text/latex": [
       "\\begin{tabular}{|l|l|}\\hline\n",
       "{\\bf Software} & {\\bf Version} \\\\ \\hline\\hline\n",
       "Python & 3.7.1 64bit [Clang 10.0.0 (clang-1000.11.45.5)] \\\\ \\hline\n",
       "IPython & 7.1.1 \\\\ \\hline\n",
       "OS & Darwin 17.7.0 x86\\_64 i386 64bit \\\\ \\hline\n",
       "numpy & 1.15.4 \\\\ \\hline\n",
       "scipy & 1.1.0 \\\\ \\hline\n",
       "matplotlib & 3.0.1 \\\\ \\hline\n",
       "MotionClouds & 20180606 \\\\ \\hline\n",
       "\\hline \\multicolumn{2}{|l|}{Wed Nov 14 09:37:58 2018 CET} \\\\ \\hline\n",
       "\\end{tabular}\n"
      ],
      "text/plain": [
       "Software versions\n",
       "Python 3.7.1 64bit [Clang 10.0.0 (clang-1000.11.45.5)]\n",
       "IPython 7.1.1\n",
       "OS Darwin 17.7.0 x86_64 i386 64bit\n",
       "numpy 1.15.4\n",
       "scipy 1.1.0\n",
       "matplotlib 3.0.1\n",
       "MotionClouds 20180606\n",
       "Wed Nov 14 09:37:58 2018 CET"
      ]
     },
     "execution_count": 1,
     "metadata": {},
     "output_type": "execute_result"
    }
   ],
   "source": [
    "%load_ext version_information\n",
    "%version_information numpy, scipy, matplotlib, MotionClouds"
   ]
  }
 ],
 "metadata": {
  "kernelspec": {
   "display_name": "Python 3",
   "language": "python",
   "name": "python3"
  },
  "language_info": {
   "codemirror_mode": {
    "name": "ipython",
    "version": 3
   },
   "file_extension": ".py",
   "mimetype": "text/x-python",
   "name": "python",
   "nbconvert_exporter": "python",
   "pygments_lexer": "ipython3",
   "version": "3.7.1"
  }
 },
 "nbformat": 4,
 "nbformat_minor": 2
}
