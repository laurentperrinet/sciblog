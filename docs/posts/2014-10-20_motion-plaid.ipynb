{
 "cells": [
  {
   "cell_type": "markdown",
   "metadata": {},
   "source": [
    "# MotionPaids : from MotionClouds components to a plaid-like stimulus"
   ]
  },
  {
   "cell_type": "code",
   "execution_count": 1,
   "metadata": {},
   "outputs": [],
   "source": [
    "import numpy as np\n",
    "import MotionClouds as mc\n",
    "downscale = 2\n",
    "fx, fy, ft = mc.get_grids(mc.N_X/downscale, mc.N_Y/downscale, mc.N_frame/downscale)\n",
    "name = 'MotionPlaid'\n",
    "\n",
    "mc.figpath = '../files/2014-10-20_MotionPlaids'\n",
    "import os\n",
    "if not(os.path.isdir(mc.figpath)): os.mkdir(mc.figpath)"
   ]
  },
  {
   "cell_type": "markdown",
   "metadata": {},
   "source": [
    "Plaids are usually created by adding two moving gratings (the components) to form a new simulus (the pattern). Such stimuli are crucial to understand how for instance information about motion is represented and processed and its neural mechanisms have been extensively studied notably by Anthony Movshon at the NYU.\n",
    "One shortcomming is the fact that these are created by components which created interference patterns when they are added (as in a Moiré pattern). The question remains to know if everything that we know about components vs pattern processing comes from these interference patterns or reaaly by the processing of the two componenents as a whole.\n",
    "As such, Motion Clouds are ideal candidates because they are generated with random phases: by construction, there should not be any localized interference between components. Let's verfy that:"
   ]
  },
  {
   "cell_type": "markdown",
   "metadata": {},
   "source": [
    "Defintion of parameters:"
   ]
  },
  {
   "cell_type": "code",
   "execution_count": 2,
   "metadata": {},
   "outputs": [],
   "source": [
    "theta1, theta2, B_theta = np.pi/4., -np.pi/4., np.pi/32"
   ]
  },
  {
   "cell_type": "markdown",
   "metadata": {},
   "source": [
    "This figure shows how one can create MotionCloud stimuli that specifically target component and pattern cell. We show in the different lines of this table respectively: Top) one motion cloud component (with a strong selectivity toward the orientation perpendicular to direction) heading in the upper diagonal Middle) a similar motion cloud component following the lower diagonal Bottom) the addition of both components: perceptually, the horizontal direction is predominant. "
   ]
  },
  {
   "cell_type": "code",
   "execution_count": 3,
   "metadata": {},
   "outputs": [
    {
     "name": "stdout",
     "output_type": "stream",
     "text": [
      "\n",
      "\n",
      "    Columns represent isometric projections of a cube. The left column displays\n",
      "    iso-surfaces of the spectral envelope by displaying enclosing volumes at 5\n",
      "    different energy values with respect to the peak amplitude of the Fourier spectrum.\n",
      "    The middle column shows an isometric view of the faces of the movie cube.\n",
      "    The first frame of the movie lies on the x-y plane, the x-t plane lies on the\n",
      "    top face and motion direction is seen as diagonal lines on this face (vertical\n",
      "    motion is similarly see in the y-t face). The third column displays the actual\n",
      "    movie as an animation.\n",
      "\n",
      "    Given a name, displays the figures corresponding to the Fourier spectra, the\n",
      "    stimulus cubes and movies within the notebook.\n",
      "\n",
      "    \n"
     ]
    }
   ],
   "source": [
    "print( mc.in_show_video.__doc__)"
   ]
  },
  {
   "cell_type": "markdown",
   "metadata": {},
   "source": [
    "Component one:"
   ]
  },
  {
   "cell_type": "code",
   "execution_count": null,
   "metadata": {},
   "outputs": [
    {
     "name": "stderr",
     "output_type": "stream",
     "text": [
      "/usr/local/lib/python3.7/site-packages/vispy/visuals/isocurve.py:22: UserWarning: VisPy is not yet compatible with matplotlib 2.2+\n",
      "  warnings.warn(\"VisPy is not yet compatible with matplotlib 2.2+\")\n"
     ]
    }
   ],
   "source": [
    "diag1 = mc.envelope_gabor(fx, fy, ft, theta=theta1, V_X=np.cos(theta1), V_Y=np.sin(theta1), B_theta=B_theta)\n",
    "name_ = name + '_comp1'\n",
    "mc.figures(diag1, name_, seed=12234565, figpath=mc.figpath)\n",
    "mc.in_show_video(name_, figpath=mc.figpath)"
   ]
  },
  {
   "cell_type": "markdown",
   "metadata": {},
   "source": [
    "Component two:"
   ]
  },
  {
   "cell_type": "code",
   "execution_count": null,
   "metadata": {},
   "outputs": [],
   "source": [
    "diag2 = mc.envelope_gabor(fx, fy, ft, theta=theta2, V_X=np.cos(theta2), V_Y=np.sin(theta2), B_theta=B_theta)\n",
    "name_ = name + '_comp2'\n",
    "mc.figures(diag2, name_, seed=12234565, figpath=mc.figpath)\n",
    "mc.in_show_video(name_, figpath=mc.figpath)"
   ]
  },
  {
   "cell_type": "markdown",
   "metadata": {},
   "source": [
    "The pattern is the sum of the two components:"
   ]
  },
  {
   "cell_type": "code",
   "execution_count": null,
   "metadata": {},
   "outputs": [],
   "source": [
    "name_ = name\n",
    "mc.figures(diag1 + diag2, name, seed=12234565, figpath=mc.figpath)\n",
    "mc.in_show_video(name_, figpath=mc.figpath)"
   ]
  },
  {
   "cell_type": "markdown",
   "metadata": {},
   "source": [
    "## A grid of plaids shows switch from transparency to pattern motion\n",
    "\n",
    "Script done in collaboration with [Jean Spezia](https://invibe.net/LaurentPerrinet/JeanSpezia).\n"
   ]
  },
  {
   "cell_type": "code",
   "execution_count": null,
   "metadata": {},
   "outputs": [],
   "source": [
    "import os\n",
    "import numpy as np\n",
    "import MotionClouds as mc\n",
    "\n",
    "name = 'MotionPlaid_9x9'\n",
    "if mc.check_if_anim_exist(name):\n",
    "    B_theta = np.pi/32\n",
    "    N_orient = 9\n",
    "    downscale = 4\n",
    "    fx, fy, ft = mc.get_grids(mc.N_X//downscale, mc.N_Y//downscale, mc.N_frame//downscale)\n",
    "    mov = mc.np.zeros(((N_orient*mc.N_X//downscale), (N_orient*mc.N_X//downscale), mc.N_frame//downscale))\n",
    "    i = 0\n",
    "    j = 0\n",
    "    for theta1 in np.linspace(0, np.pi/2, N_orient)[::-1]:\n",
    "        for theta2 in np.linspace(0, np.pi/2, N_orient):\n",
    "            diag1 = mc.envelope_gabor(fx, fy, ft, theta=theta1, V_X=np.cos(theta1), V_Y=np.sin(theta1), B_theta=B_theta)\n",
    "            diag2 = mc.envelope_gabor(fx, fy, ft, theta=theta2, V_X=np.cos(theta2), V_Y=np.sin(theta2), B_theta=B_theta)\n",
    "            mov[(i)*mc.N_X//downscale:(i+1)*mc.N_X//downscale, (j)*mc.N_Y//downscale : (j+1)*mc.N_Y//downscale, :] = mc.random_cloud(diag1 + diag2, seed=1234)\n",
    "            j += 1\n",
    "        j = 0\n",
    "        i += 1\n",
    "    mc.anim_save(mc.rectif(mov, contrast=.99), os.path.join(mc.figpath, name))"
   ]
  },
  {
   "cell_type": "code",
   "execution_count": null,
   "metadata": {},
   "outputs": [],
   "source": [
    "mc.in_show_video(name, figpath=mc.figpath)"
   ]
  },
  {
   "cell_type": "markdown",
   "metadata": {},
   "source": [
    "As in (Rust, 06) we show in this table the concatenation of a table of 9x9 MotionPlaids where the angle of the components vary on respectively the horizontal and vertical axes.\n",
    "<br>The diagonal from the bottom left to the top right corners show the addition of two component MotionClouds of similar direction: They are therefore also intance of the same Motion Clouds and thus consist in a single component.\n",
    "<br>As one gets further away from this diagonal, the angle between both component increases, as can be seen in the figure below. Note that first and last column are different instance of similar MotionClouds, just as first and last lines in in the table."
   ]
  },
  {
   "cell_type": "markdown",
   "metadata": {},
   "source": [
    "## A parametric exploration on MotionPlaids"
   ]
  },
  {
   "cell_type": "code",
   "execution_count": null,
   "metadata": {},
   "outputs": [],
   "source": [
    "N_orient = 8\n",
    "downscale = 2\n",
    "fx, fy, ft = mc.get_grids(mc.N_X/downscale, mc.N_Y/downscale, mc.N_frame)\n",
    "theta = 0\n",
    "for dtheta in np.linspace(0, np.pi/2, N_orient):\n",
    "    name_ = name + 'dtheta_' + str(dtheta).replace('.', '_')\n",
    "    diag1 = mc.envelope_gabor(fx, fy, ft, theta=theta + dtheta, V_X=np.cos(theta + dtheta), V_Y=np.sin(theta + dtheta), B_theta=B_theta)\n",
    "    diag2 = mc.envelope_gabor(fx, fy, ft, theta=theta - dtheta, V_X=np.cos(theta - dtheta), V_Y=np.sin(theta - dtheta), B_theta=B_theta)\n",
    "    mc.figures(diag1 + diag2, name_, seed=12234565, figpath=mc.figpath)\n",
    "    mc.in_show_video(name_, figpath=mc.figpath)"
   ]
  },
  {
   "cell_type": "markdown",
   "metadata": {},
   "source": [
    "For clarity, we display MotionPlaids as the angle between both component increases from 0 to pi/2. \n",
    "<br>Left column displays iso-surfaces of the spectral envelope by displaying enclosing volumes at 5 different energy values with respect to the peak amplitude of the Fourier spectrum.\n",
    "<br>Right column of the table displays the actual movie as an animation."
   ]
  }
 ],
 "metadata": {
  "kernelspec": {
   "display_name": "Python 3",
   "language": "python",
   "name": "python3"
  },
  "language_info": {
   "codemirror_mode": {
    "name": "ipython",
    "version": 3
   },
   "file_extension": ".py",
   "mimetype": "text/x-python",
   "name": "python",
   "nbconvert_exporter": "python",
   "pygments_lexer": "ipython3",
   "version": "3.7.1"
  },
  "toc": {
   "nav_menu": {},
   "number_sections": true,
   "sideBar": true,
   "skip_h1_title": false,
   "toc_cell": false,
   "toc_position": {},
   "toc_section_display": "block",
   "toc_window_display": false
  }
 },
 "nbformat": 4,
 "nbformat_minor": 2
}
