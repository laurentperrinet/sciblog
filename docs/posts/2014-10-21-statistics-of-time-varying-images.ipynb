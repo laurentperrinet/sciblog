{
 "cells": [
  {
   "cell_type": "markdown",
   "metadata": {},
   "source": [
    "In this notebook, we are interested in replicating the results from Dong and Attick (1995).\n",
    "\n",
    "\n",
    "<!-- TEASER_END -->"
   ]
  },
  {
   "cell_type": "code",
   "execution_count": 1,
   "metadata": {
    "collapsed": false
   },
   "outputs": [],
   "source": [
    "%matplotlib inline\n",
    "import matplotlib.pyplot as plt\n",
    "figsize=(21, 13) # fib\n",
    "opts = {'fontsize':24}"
   ]
  },
  {
   "cell_type": "code",
   "execution_count": 2,
   "metadata": {
    "collapsed": false
   },
   "outputs": [],
   "source": [
    "import numpy as np"
   ]
  },
  {
   "cell_type": "markdown",
   "metadata": {},
   "source": [
    "Takes a MPEG movie and produces a numpy array:"
   ]
  },
  {
   "cell_type": "markdown",
   "metadata": {},
   "source": [
    "TODO:\n",
    "-----\n",
    "\n",
    "We here provide a large data set of eye movement data on high-resolution natural movies, Hollywood trailers, and static images. Our analysis of this data and details on data collection can be found in\n",
    "\n",
    " \n",
    "\n",
    "Michael Dorr, Thomas Martinetz, Karl Gegenfurtner, and Erhardt Barth. Variability of eye movements when viewing dynamic natural scenes. Journal of Vision, 10(10):1-17, 2010.\n",
    "\n",
    " http://webmail.inb.uni-luebeck.de/inb-toolsdemos/FILES/movies-mpg.zip"
   ]
  },
  {
   "cell_type": "code",
   "execution_count": 3,
   "metadata": {
    "collapsed": false
   },
   "outputs": [
    {
     "ename": "FileNotFoundError",
     "evalue": "[Errno 2] No such file or directory: '/var/tmp/foo-001.png'",
     "output_type": "error",
     "traceback": [
      "\u001b[0;31m---------------------------------------------------------------------------\u001b[0m",
      "\u001b[0;31mFileNotFoundError\u001b[0m                         Traceback (most recent call last)",
      "\u001b[0;32m<ipython-input-3-02422c48ca21>\u001b[0m in \u001b[0;36m<module>\u001b[0;34m()\u001b[0m\n\u001b[1;32m      1\u001b[0m \u001b[0;32mtry\u001b[0m\u001b[0;34m:\u001b[0m\u001b[0;34m\u001b[0m\u001b[0m\n\u001b[0;32m----> 2\u001b[0;31m     \u001b[0mmovie\u001b[0m \u001b[0;34m=\u001b[0m \u001b[0mnp\u001b[0m\u001b[0;34m.\u001b[0m\u001b[0mload\u001b[0m\u001b[0;34m(\u001b[0m\u001b[0;34m'/var/tmp/movie.npy'\u001b[0m\u001b[0;34m)\u001b[0m\u001b[0;34m\u001b[0m\u001b[0m\n\u001b[0m\u001b[1;32m      3\u001b[0m \u001b[0;32mexcept\u001b[0m\u001b[0;34m:\u001b[0m\u001b[0;34m\u001b[0m\u001b[0m\n",
      "\u001b[0;32m/usr/local/lib/python3.5/site-packages/numpy/lib/npyio.py\u001b[0m in \u001b[0;36mload\u001b[0;34m(file, mmap_mode, allow_pickle, fix_imports, encoding)\u001b[0m\n\u001b[1;32m    361\u001b[0m     \u001b[0;32mif\u001b[0m \u001b[0misinstance\u001b[0m\u001b[0;34m(\u001b[0m\u001b[0mfile\u001b[0m\u001b[0;34m,\u001b[0m \u001b[0mbasestring\u001b[0m\u001b[0;34m)\u001b[0m\u001b[0;34m:\u001b[0m\u001b[0;34m\u001b[0m\u001b[0m\n\u001b[0;32m--> 362\u001b[0;31m         \u001b[0mfid\u001b[0m \u001b[0;34m=\u001b[0m \u001b[0mopen\u001b[0m\u001b[0;34m(\u001b[0m\u001b[0mfile\u001b[0m\u001b[0;34m,\u001b[0m \u001b[0;34m\"rb\"\u001b[0m\u001b[0;34m)\u001b[0m\u001b[0;34m\u001b[0m\u001b[0m\n\u001b[0m\u001b[1;32m    363\u001b[0m         \u001b[0mown_fid\u001b[0m \u001b[0;34m=\u001b[0m \u001b[0;32mTrue\u001b[0m\u001b[0;34m\u001b[0m\u001b[0m\n",
      "\u001b[0;31mFileNotFoundError\u001b[0m: [Errno 2] No such file or directory: '/var/tmp/movie.npy'",
      "\nDuring handling of the above exception, another exception occurred:\n",
      "\u001b[0;31mFileNotFoundError\u001b[0m                         Traceback (most recent call last)",
      "\u001b[0;32m<ipython-input-3-02422c48ca21>\u001b[0m in \u001b[0;36m<module>\u001b[0;34m()\u001b[0m\n\u001b[1;32m     25\u001b[0m     \u001b[0mzfactor\u001b[0m \u001b[0;34m=\u001b[0m \u001b[0mexpected_size\u001b[0m\u001b[0;34m/\u001b[0m\u001b[0mactual_size\u001b[0m\u001b[0;34m\u001b[0m\u001b[0m\n\u001b[1;32m     26\u001b[0m     \u001b[0mxmin\u001b[0m\u001b[0;34m,\u001b[0m \u001b[0mxmax\u001b[0m\u001b[0;34m,\u001b[0m \u001b[0mymin\u001b[0m\u001b[0;34m,\u001b[0m \u001b[0mymax\u001b[0m \u001b[0;34m=\u001b[0m \u001b[0mborder_x\u001b[0m\u001b[0;34m,\u001b[0m \u001b[0mborder_x\u001b[0m\u001b[0;34m+\u001b[0m\u001b[0mactual_size\u001b[0m \u001b[0;34m,\u001b[0m \u001b[0mborder_y\u001b[0m\u001b[0;34m,\u001b[0m \u001b[0mborder_y\u001b[0m\u001b[0;34m+\u001b[0m\u001b[0mactual_size\u001b[0m\u001b[0;34m\u001b[0m\u001b[0m\n\u001b[0;32m---> 27\u001b[0;31m     \u001b[0mn_x\u001b[0m\u001b[0;34m,\u001b[0m \u001b[0mn_y\u001b[0m \u001b[0;34m=\u001b[0m \u001b[0mzoom\u001b[0m\u001b[0;34m(\u001b[0m\u001b[0mmean\u001b[0m\u001b[0;34m(\u001b[0m\u001b[0mimread\u001b[0m\u001b[0;34m(\u001b[0m\u001b[0;34m'/var/tmp/foo-001.png'\u001b[0m\u001b[0;34m)\u001b[0m\u001b[0;34m,\u001b[0m \u001b[0maxis\u001b[0m\u001b[0;34m=\u001b[0m\u001b[0;36m2\u001b[0m\u001b[0;34m)\u001b[0m\u001b[0;34m[\u001b[0m\u001b[0mxmin\u001b[0m\u001b[0;34m:\u001b[0m\u001b[0mxmax\u001b[0m\u001b[0;34m,\u001b[0m \u001b[0mymin\u001b[0m\u001b[0;34m:\u001b[0m\u001b[0mymax\u001b[0m\u001b[0;34m]\u001b[0m\u001b[0;34m,\u001b[0m \u001b[0mzfactor\u001b[0m\u001b[0;34m)\u001b[0m\u001b[0;34m.\u001b[0m\u001b[0mshape\u001b[0m\u001b[0;34m\u001b[0m\u001b[0m\n\u001b[0m\u001b[1;32m     28\u001b[0m \u001b[0;34m\u001b[0m\u001b[0m\n\u001b[1;32m     29\u001b[0m     \u001b[0mmovie\u001b[0m \u001b[0;34m=\u001b[0m \u001b[0mzeros\u001b[0m\u001b[0;34m(\u001b[0m\u001b[0;34m(\u001b[0m\u001b[0mn_y\u001b[0m\u001b[0;34m,\u001b[0m \u001b[0mn_x\u001b[0m\u001b[0;34m,\u001b[0m \u001b[0mN_frame\u001b[0m\u001b[0;34m)\u001b[0m\u001b[0;34m)\u001b[0m\u001b[0;34m\u001b[0m\u001b[0m\n",
      "\u001b[0;32m/usr/local/lib/python3.5/site-packages/matplotlib/pyplot.py\u001b[0m in \u001b[0;36mimread\u001b[0;34m(*args, **kwargs)\u001b[0m\n\u001b[1;32m   2288\u001b[0m \u001b[0;34m@\u001b[0m\u001b[0mdocstring\u001b[0m\u001b[0;34m.\u001b[0m\u001b[0mcopy_dedent\u001b[0m\u001b[0;34m(\u001b[0m\u001b[0m_imread\u001b[0m\u001b[0;34m)\u001b[0m\u001b[0;34m\u001b[0m\u001b[0m\n\u001b[1;32m   2289\u001b[0m \u001b[0;32mdef\u001b[0m \u001b[0mimread\u001b[0m\u001b[0;34m(\u001b[0m\u001b[0;34m*\u001b[0m\u001b[0margs\u001b[0m\u001b[0;34m,\u001b[0m \u001b[0;34m**\u001b[0m\u001b[0mkwargs\u001b[0m\u001b[0;34m)\u001b[0m\u001b[0;34m:\u001b[0m\u001b[0;34m\u001b[0m\u001b[0m\n\u001b[0;32m-> 2290\u001b[0;31m     \u001b[0;32mreturn\u001b[0m \u001b[0m_imread\u001b[0m\u001b[0;34m(\u001b[0m\u001b[0;34m*\u001b[0m\u001b[0margs\u001b[0m\u001b[0;34m,\u001b[0m \u001b[0;34m**\u001b[0m\u001b[0mkwargs\u001b[0m\u001b[0;34m)\u001b[0m\u001b[0;34m\u001b[0m\u001b[0m\n\u001b[0m\u001b[1;32m   2291\u001b[0m \u001b[0;34m\u001b[0m\u001b[0m\n\u001b[1;32m   2292\u001b[0m \u001b[0;34m\u001b[0m\u001b[0m\n",
      "\u001b[0;32m/usr/local/lib/python3.5/site-packages/matplotlib/image.py\u001b[0m in \u001b[0;36mimread\u001b[0;34m(fname, format)\u001b[0m\n\u001b[1;32m   1321\u001b[0m             \u001b[0;32mreturn\u001b[0m \u001b[0mhandler\u001b[0m\u001b[0;34m(\u001b[0m\u001b[0mfd\u001b[0m\u001b[0;34m)\u001b[0m\u001b[0;34m\u001b[0m\u001b[0m\n\u001b[1;32m   1322\u001b[0m         \u001b[0;32melse\u001b[0m\u001b[0;34m:\u001b[0m\u001b[0;34m\u001b[0m\u001b[0m\n\u001b[0;32m-> 1323\u001b[0;31m             \u001b[0;32mwith\u001b[0m \u001b[0mopen\u001b[0m\u001b[0;34m(\u001b[0m\u001b[0mfname\u001b[0m\u001b[0;34m,\u001b[0m \u001b[0;34m'rb'\u001b[0m\u001b[0;34m)\u001b[0m \u001b[0;32mas\u001b[0m \u001b[0mfd\u001b[0m\u001b[0;34m:\u001b[0m\u001b[0;34m\u001b[0m\u001b[0m\n\u001b[0m\u001b[1;32m   1324\u001b[0m                 \u001b[0;32mreturn\u001b[0m \u001b[0mhandler\u001b[0m\u001b[0;34m(\u001b[0m\u001b[0mfd\u001b[0m\u001b[0;34m)\u001b[0m\u001b[0;34m\u001b[0m\u001b[0m\n\u001b[1;32m   1325\u001b[0m     \u001b[0;32melse\u001b[0m\u001b[0;34m:\u001b[0m\u001b[0;34m\u001b[0m\u001b[0m\n",
      "\u001b[0;31mFileNotFoundError\u001b[0m: [Errno 2] No such file or directory: '/var/tmp/foo-001.png'"
     ]
    }
   ],
   "source": [
    "try: \n",
    "    movie = np.load('/var/tmp/movie.npy')\n",
    "except:\n",
    "    # Let's take whatever movie that is supported by ffmpeg\n",
    "    MOVIE = '/Volumes/archives/11-07-14_RTC/montypython.mpg'\n",
    "    #MOVIE = '/Users/lolo/Downloads/movies_mpg/beach.mpg'\n",
    "    fs = 25. # framerate of the movie (in Hz)\n",
    "\n",
    "    N_frame = 512 # 8192 # 4096 # 16348 # 44197\n",
    "    start_frame = 2000\n",
    "    \n",
    "    start, duration = start_frame / fs, N_frame / fs\n",
    "    \n",
    "    import os\n",
    "    if not(os.path.isfile('/var/tmp/foo-001.png')):\n",
    "        os.system('ffmpeg -i ' + MOVIE + ' -ss ' + str(start) + ' -t ' + str(duration) +' -f image2 /var/tmp/foo-%03d.png')\n",
    "\n",
    "    # convert them to numpy\n",
    "    from numpy import zeros, save, mean, flipud\n",
    "    from pylab import imread\n",
    "    #from scipy import\n",
    "    from scipy.ndimage import zoom\n",
    "\n",
    "    border_x, border_y, actual_size, expected_size = 20, 80, 190, 128.\n",
    "    zfactor = expected_size/actual_size\n",
    "    xmin, xmax, ymin, ymax = border_x, border_x+actual_size , border_y, border_y+actual_size\n",
    "    n_x, n_y = zoom(mean(imread('/var/tmp/foo-001.png'), axis=2)[xmin:xmax, ymin:ymax], zfactor).shape\n",
    "\n",
    "    movie = zeros((n_y, n_x, N_frame))\n",
    "    for i_frame in range(N_frame):\n",
    "        name = '/var/tmp/foo-%03d.png' % (i_frame +1)\n",
    "        image = flipud(mean(imread(name)[xmin:xmax, ymin:ymax], axis=2)).T\n",
    "        movie[:, :, i_frame] = zoom(image, zfactor)\n",
    "\n",
    "    #movie -= movie.mean()\n",
    "    ##    print mov.shape\n",
    "    os.system('rm -f /var/tmp/foo-*.png')\n",
    "\n",
    "    save('/var/tmp/movie.npy', movie)"
   ]
  },
  {
   "cell_type": "code",
   "execution_count": null,
   "metadata": {
    "collapsed": false
   },
   "outputs": [],
   "source": [
    "N_X, N_Y, N_frame = movie.shape\n",
    "print 'The movie consists of ', N_frame, ' frames @ size (', N_X, ' x ', N_Y, ')'"
   ]
  },
  {
   "cell_type": "code",
   "execution_count": null,
   "metadata": {
    "collapsed": false
   },
   "outputs": [],
   "source": [
    "movie.mean(), movie.min(), movie.max()"
   ]
  },
  {
   "cell_type": "markdown",
   "metadata": {},
   "source": []
  },
  {
   "cell_type": "markdown",
   "metadata": {},
   "source": [
    "Sample images:"
   ]
  },
  {
   "cell_type": "code",
   "execution_count": null,
   "metadata": {
    "collapsed": false
   },
   "outputs": [],
   "source": [
    "fig, axs = plt.subplots(5, 8, figsize=figsize) # fib\n",
    "np.random.seed(42)\n",
    "for axs_ in axs:\n",
    "    for ax in axs_:\n",
    "        _ = ax.imshow(movie[:, :, int(N_frame*np.random.rand())].T, cmap=plt.gray(), origin='lower')\n",
    "        ax.set_xticks([])\n",
    "        ax.set_yticks([])"
   ]
  },
  {
   "cell_type": "markdown",
   "metadata": {},
   "source": [
    "We wish to compute the motion energy of this movie, first globally."
   ]
  },
  {
   "cell_type": "code",
   "execution_count": null,
   "metadata": {
    "collapsed": false
   },
   "outputs": [],
   "source": [
    "import MotionClouds as mc"
   ]
  },
  {
   "cell_type": "code",
   "execution_count": null,
   "metadata": {
    "collapsed": false
   },
   "outputs": [],
   "source": [
    "import os, tempfile\n",
    "from base64 import b64encode\n",
    "\n",
    "def show_spectrum(F_in):\n",
    "    F_ = F_in.copy()\n",
    "    from IPython.core.display import display, Image, HTML\n",
    "    name = os.path.join(tempfile.mkdtemp(), 'spectrum')\n",
    "    mc.visualize(F_, name=name)           # Visualize the Fourier Spectrum\n",
    "    with open(name + mc.ext, \"r\") as image_file:\n",
    "        s = \"\"\"<center><table border=none width=100%% height=100%%>\n",
    "            <tr><td width=33%%><center><img src=\"%s\" width=100%%/></td>        </tr>\n",
    "            </table></center>\"\"\" % ('data:image/png;base64,' + b64encode(image_file.read()))\n",
    "        display(HTML(s)) "
   ]
  },
  {
   "cell_type": "markdown",
   "metadata": {},
   "source": [
    "Let's try first on a first chunk of 64 frames:"
   ]
  },
  {
   "cell_type": "code",
   "execution_count": null,
   "metadata": {
    "collapsed": false
   },
   "outputs": [],
   "source": [
    "chunk = 128\n",
    "fx, fy, ft = mc.get_grids(N_X, N_Y, chunk)\n",
    "fr = np.sqrt(fx**2 + fy**2)\n",
    "#print fr.min(), fr.max(), F.shape[-1]"
   ]
  },
  {
   "cell_type": "code",
   "execution_count": null,
   "metadata": {
    "collapsed": false
   },
   "outputs": [],
   "source": [
    "F = np.fft.fftshift(np.absolute(np.fft.fftn(movie[:, :, :chunk]))**2)\n",
    "print 'F is maximum at :', np.unravel_index(np.argmax(F), dims=F.shape), ' (we expected (', chunk/2, ', ', chunk/2, ', ', chunk/2, ')'\n",
    "show_spectrum(np.sqrt(F))"
   ]
  },
  {
   "cell_type": "code",
   "execution_count": null,
   "metadata": {
    "collapsed": false
   },
   "outputs": [],
   "source": [
    "N_f = chunk/2 - 1 # making an histogram with N_f bins\n",
    "f_bins = np.linspace(0., 0.5, N_f+1)"
   ]
  },
  {
   "cell_type": "code",
   "execution_count": null,
   "metadata": {
    "collapsed": false
   },
   "outputs": [],
   "source": [
    "from lmfit.models import PowerLawModel\n",
    "mod = PowerLawModel()\n",
    "pars = mod.guess((F/fr**2)[(chunk/2+1):, chunk/2, chunk/2], x=(f_bins[:-1]+f_bins[1:])/2)\n",
    "out  = mod.fit((F/fr**2)[(chunk/2+1):, chunk/2, chunk/2], pars, x=(f_bins[:-1]+f_bins[1:])/2)\n",
    "print(out.fit_report(min_correl=0.25))"
   ]
  },
  {
   "cell_type": "code",
   "execution_count": null,
   "metadata": {
    "collapsed": false
   },
   "outputs": [],
   "source": [
    "show_spectrum(np.sqrt(F)*fr)#*np.abs(ft)**.5)"
   ]
  },
  {
   "cell_type": "markdown",
   "metadata": {},
   "source": [
    "Averaging over the movie:"
   ]
  },
  {
   "cell_type": "code",
   "execution_count": null,
   "metadata": {
    "collapsed": false
   },
   "outputs": [],
   "source": [
    "F = np.zeros_like(F)\n",
    "for i_frame in np.arange(0, N_frame, chunk):\n",
    "    F += np.fft.fftshift(np.absolute(np.fft.fftn(movie[:, :, i_frame:(i_frame+chunk)]))**2)\n",
    "show_spectrum(np.sqrt(F))"
   ]
  },
  {
   "cell_type": "code",
   "execution_count": null,
   "metadata": {
    "collapsed": false
   },
   "outputs": [],
   "source": [
    "show_spectrum(np.sqrt(F)*fr)"
   ]
  },
  {
   "cell_type": "code",
   "execution_count": null,
   "metadata": {
    "collapsed": false
   },
   "outputs": [],
   "source": [
    "from lmfit.models import PowerLawModel\n",
    "mod = PowerLawModel()\n",
    "pars = mod.guess(F[(chunk/2+1):, chunk/2, chunk/2], x=(f_bins[:-1]+f_bins[1:])/2)\n",
    "out  = mod.fit(F[(chunk/2+1):, chunk/2, chunk/2], pars, x=(f_bins[:-1]+f_bins[1:])/2)\n",
    "print(out.fit_report(min_correl=0.25))"
   ]
  },
  {
   "cell_type": "code",
   "execution_count": null,
   "metadata": {
    "collapsed": false
   },
   "outputs": [],
   "source": [
    "print 'F is maximum at :', np.unravel_index(np.argmax(F), dims=F.shape), ' (we expected ', [f/2 for f in F.shape], ')'"
   ]
  },
  {
   "cell_type": "markdown",
   "metadata": {},
   "source": [
    "Averaging circularly"
   ]
  },
  {
   "cell_type": "code",
   "execution_count": null,
   "metadata": {
    "collapsed": false
   },
   "outputs": [],
   "source": [
    "N_f = chunk/2 - 1 # making an histogram with N_f bins\n",
    "f_bins = np.linspace(0., 0.5, N_f+1)\n",
    "F_rot = np.zeros((N_f, F.shape[-1]))\n",
    "for i_bin in range(N_f):\n",
    "    f_slice = (f_bins[i_bin] < fr) *  ( fr < f_bins[i_bin+1])\n",
    "    F_rot[i_bin, :] = (f_slice * F).sum(axis=(0, 1))\n",
    "    #F_rot[i_bin, :] /= (f_bins[i_bin] + f_bins[i_bin+1])/2 # normalize by the integration area (theory)\n",
    "    F_rot[i_bin, :] /= f_slice.sum() # normalize by the integration area (numeric)\n",
    "F_rot /= F_rot.max()"
   ]
  },
  {
   "cell_type": "code",
   "execution_count": null,
   "metadata": {
    "collapsed": false
   },
   "outputs": [],
   "source": [
    "fig, axs = plt.subplots(1, 1, figsize=figsize) # fib\n",
    "axs.contourf(f_bins[:-1], np.linspace(-.5, .5, chunk), np.log(F_rot).T, cmap=plt.hot())\n",
    "axs.set_xlabel('radial frequency', **opts)\n",
    "_ = axs.set_ylabel('temporal frequency', **opts)"
   ]
  },
  {
   "cell_type": "markdown",
   "metadata": {},
   "source": [
    "Let's reproduce the results from Dong and Attick (1995, 2001). Basically, this spectrum is not separable (see page 342 of http://www.naturalimagestatistics.net/nis_preprintFeb2009.pdf):"
   ]
  },
  {
   "cell_type": "code",
   "execution_count": null,
   "metadata": {
    "collapsed": false
   },
   "outputs": [],
   "source": [
    "fig, axs = plt.subplots(1, 2, figsize=figsize) # fib\n",
    "ft_bins = np.linspace(-.5, .5, chunk, endpoint=False)\n",
    "grad =  np.abs(ft_bins)\n",
    "axs[0].set_color_cycle(np.array([[1., 0., 0.]]) * grad[:, np.newaxis])\n",
    "axs[1].set_color_cycle(np.array([[0., 1., 0.]]) * f_bins[:, np.newaxis])\n",
    "for ft_bin in range(chunk): axs[0].loglog(f_bins[:-1], F_rot[:, ft_bin], alpha=.7)\n",
    "for f_bin in range(N_f): axs[1].loglog(ft_bins, F_rot[f_bin, :], alpha=.7)\n",
    "axs[0].loglog(f_bins[:-1], f_bins[:-1]**-1*2.e-8, 'k', lw=2, alpha=.7)\n",
    "axs[0].loglog(f_bins[:-1], f_bins[:-1]**-2*5.e-5, 'k', lw=2, alpha=.7)\n",
    "axs[1].loglog(ft_bins[chunk/2:-1], ft_bins[chunk/2:-1]**-1*2.e-8, 'k', lw=2, alpha=.7)\n",
    "axs[1].loglog(ft_bins[chunk/2:-1], ft_bins[chunk/2:-1]**-2*5.e-5, 'k', lw=2, alpha=.7)\n",
    "axs[0].set_xlabel('spatial frequency', **opts)\n",
    "axs[1].set_xlabel('temporal frequency', **opts)\n",
    "axs[0].axis('tight')\n",
    "axs[1].axis('tight')\n",
    "_ = axs[0].set_ylabel('Power', **opts)"
   ]
  },
  {
   "cell_type": "code",
   "execution_count": null,
   "metadata": {
    "collapsed": false
   },
   "outputs": [],
   "source": [
    "fig, axs = plt.subplots(1, 2, figsize=figsize) # fib\n",
    "fig.suptitle('Fitting a power-law', **opts)\n",
    "from lmfit.models import PowerLawModel\n",
    "mod = PowerLawModel()\n",
    "\n",
    "f_exp, ft_exp = np.zeros(chunk), np.zeros(N_f)\n",
    "for i_ft in range(chunk):\n",
    "    pars = mod.guess(F_rot[:, i_ft], x=(f_bins[:-1]+f_bins[1:])/2)\n",
    "    out  = mod.fit(F_rot[:, i_ft], pars, x=(f_bins[:-1]+f_bins[1:])/2)\n",
    "    if i_ft == chunk/2: print(out.fit_report(min_correl=0.25))\n",
    "    f_exp[i_ft] = -out.params.get('exponent').value\n",
    "for i_f in range(N_f):\n",
    "    v_dyn = -(np.arange(chunk)==chunk/2)\n",
    "    pars = mod.guess(F_rot[i_f, v_dyn], x=np.abs(ft_bins[v_dyn]))\n",
    "    out  = mod.fit(F_rot[i_f, v_dyn], pars, x=np.abs(ft_bins[v_dyn]))\n",
    "    if i_f == 0: print(out.fit_report(min_correl=0.25))\n",
    "    ft_exp[i_f] = -out.params.get('exponent').value\n",
    "    \n",
    "    \n",
    "axs[0].plot(f_bins[:-1], ft_exp)\n",
    "axs[0].set_xlabel('spatial frequency', **opts)\n",
    "axs[0].axis('tight', **opts)\n",
    "axs[1].plot(ft_bins, f_exp)\n",
    "axs[1].set_xlabel('temporal frequency', **opts)\n",
    "axs[1].axis('tight')\n",
    "\n",
    "_ = axs[0].set_ylabel('exponent of the best-fit of a power-law', **opts)"
   ]
  },
  {
   "cell_type": "markdown",
   "metadata": {},
   "source": [
    " but will be if one looks at different slices corresponding to different speeds."
   ]
  },
  {
   "cell_type": "markdown",
   "metadata": {},
   "source": [
    " Let's first define a slice in the speed plane (as we handle real signals, it's fine to consider just one side of the plane):"
   ]
  },
  {
   "cell_type": "code",
   "execution_count": null,
   "metadata": {
    "collapsed": false
   },
   "outputs": [],
   "source": [
    "N_f, N_v, N_dir = 15, 24, 24 # making an histogram with N_v - 1 speeds\n",
    "v_max = 3.\n",
    "speed = np.linspace(0., v_max, N_v+1)\n",
    "direction = np.linspace(0, 2*np.pi, N_dir+1)\n",
    "f_bins = np.linspace(0., 0.5, N_f+1)\n",
    "f_bins = np.logspace(-.5, 0, N_f+1, base=10)*0.5"
   ]
  },
  {
   "cell_type": "code",
   "execution_count": null,
   "metadata": {
    "collapsed": false
   },
   "outputs": [],
   "source": [
    "v_bin, dir_bin = -2, 11\n",
    "#v_slice = (speed[v_bin]*np.cos(direction[dir_bin])*fx + speed[v_bin]*np.sin(direction[dir_bin])*fy + ft > 0. ) \n",
    "#v_slice *= (speed[v_bin+1]*np.cos(direction[dir_bin])*fx + speed[v_bin+1]*np.sin(direction[dir_bin])*fy + ft < 0. ) # speed plane\n",
    "B_V = .8\n",
    "#fr[fr<.001]=1.e6\n",
    "v_slice = np.exp(-(speed[v_bin]*np.cos(direction[dir_bin])*fx + speed[v_bin]*np.sin(direction[dir_bin])*fy + ft )**2/2/(B_V*fr)**2) \n",
    "show_spectrum(v_slice*1.)\n",
    "#print v_slice.min(), v_slice.max()"
   ]
  },
  {
   "cell_type": "code",
   "execution_count": null,
   "metadata": {
    "collapsed": false
   },
   "outputs": [],
   "source": [
    "F_v = np.zeros((N_f, N_v, N_dir))\n",
    "for f_bin in range(N_f):\n",
    "    for dir_bin in range(N_dir):\n",
    "        for v_bin in range(N_v):\n",
    "            #v_slice = (speed[v_bin]*np.cos(direction[dir_bin])*fx + speed[v_bin]*np.sin(direction[dir_bin])*fy + ft > 0. ) \n",
    "            #v_slice *= (speed[v_bin+1]*np.cos(direction[dir_bin])*fx + speed[v_bin+1]*np.sin(direction[dir_bin])*fy + ft < 0. ) # speed plane\n",
    "            v_slice = np.exp(-(speed[v_bin]*np.cos(direction[dir_bin])*fx + speed[v_bin]*np.sin(direction[dir_bin])*fy + ft )**2/2/(B_V*fr)**2) \n",
    "            f_slice = (f_bins[f_bin] < fr) *  ( fr < f_bins[f_bin+1])\n",
    "            F_v[f_bin, v_bin, dir_bin] = (v_slice * f_slice * F).sum()\n",
    "            #print f_bin, v_bin, dir_bin, F_v[f_bin, v_bin, dir_bin], (v_slice * f_slice).sum(), ( f_slice).sum(), (v_slice ).sum()\n",
    "            F_v[f_bin, v_bin, dir_bin] /= (v_slice * f_slice).sum() # (f_bins[i_bin] + f_bins[i_bin+1])/2 # normalize by the integration area"
   ]
  },
  {
   "cell_type": "code",
   "execution_count": null,
   "metadata": {
    "collapsed": false
   },
   "outputs": [],
   "source": [
    "fig, axs = plt.subplots(1, 1, figsize=figsize) # fib\n",
    "grad =  np.abs(np.linspace(-1, 1., N_v))\n",
    "axs.set_color_cycle(np.array([[0., 1., 0.]]) * grad[:, np.newaxis])\n",
    "for v_bin in range(N_v-1):\n",
    "    axs.loglog(f_bins[:-1], F_v[:, v_bin], 'o')\n",
    "    axs.loglog(f_bins[:-1], np.mean(F_v[:, v_bin], axis=-1), '-' )\n",
    "axs.set_xlabel('radial frequency')\n",
    "axs.axis('tight')\n",
    "_ = axs.set_ylabel('Amplitude')"
   ]
  },
  {
   "cell_type": "markdown",
   "metadata": {},
   "source": [
    "If we multiply this spectrum by $f_r^\\alpha$, with $\\alpha$ being an appropriate scaling, we get:"
   ]
  },
  {
   "cell_type": "code",
   "execution_count": null,
   "metadata": {
    "collapsed": false
   },
   "outputs": [],
   "source": [
    "N_test = 100\n",
    "error, alphas = np.zeros(N_test), np.linspace(1.5, 4.5, N_test)\n",
    "for i, alpha in enumerate(alphas):\n",
    "    spectrum = ((f_bins[1:]+f_bins[:-1])[:, np.newaxis, np.newaxis]/2)**(alpha+1) * F_v[:, :, :]\n",
    "    spectrum /= spectrum.mean()\n",
    "    error[i] = np.std(spectrum, axis = (0,2)).mean()\n",
    "fig, axs = plt.subplots(1, 1, figsize=figsize) # fib\n",
    "axs.plot(alphas, error)\n",
    "axs.text(2.5, 0.2, r'Error is minimal at $\\alpha$=' + '%0.2f' % alphas[error.argmin()], **opts)\n",
    "axs.set_xlabel('Alpha', **opts)\n",
    "axs.axis('tight')\n",
    "axs.set_ylim([0, error.max()])\n",
    "_ = axs.set_ylabel('Error', **opts)"
   ]
  },
  {
   "cell_type": "code",
   "execution_count": null,
   "metadata": {
    "collapsed": false
   },
   "outputs": [],
   "source": [
    "alpha = alphas[error.argmin()] # 2.3 for Dong - 2.7 for Hyvarinen\n",
    "fig, axs = plt.subplots(1, 1, figsize=figsize) # fib\n",
    "grad =  np.abs(np.linspace(-1, 1., N_v))\n",
    "axs.set_color_cycle(np.array([[0., 1., 0.]]) * grad[:, np.newaxis])\n",
    "for f_bin in range(1, N_f):\n",
    "    axs.semilogy(speed[:-1], ((f_bins[f_bin]+f_bins[f_bin+1])/2)**(alpha+1) * F_v[f_bin, :, :], 'o')\n",
    "    axs.semilogy(speed[:-1], np.mean(((f_bins[f_bin]+f_bins[f_bin+1])/2)**(alpha+1) * F_v[f_bin, :, :], axis = -1), '-')\n",
    "#    axs.loglog(speed[:-1], F_v[f_bin, :, :])\n",
    "axs.set_xlabel('velocity')\n",
    "#axs.axis('tight')\n",
    "_ = axs.set_ylabel('Amplitude')"
   ]
  },
  {
   "cell_type": "code",
   "execution_count": null,
   "metadata": {
    "collapsed": false
   },
   "outputs": [],
   "source": []
  }
 ],
 "metadata": {
  "kernelspec": {
   "display_name": "Python 3",
   "language": "python",
   "name": "python3"
  },
  "language_info": {
   "codemirror_mode": {
    "name": "ipython",
    "version": 3
   },
   "file_extension": ".py",
   "mimetype": "text/x-python",
   "name": "python",
   "nbconvert_exporter": "python",
   "pygments_lexer": "ipython3",
   "version": "3.5.2"
  }
 },
 "nbformat": 4,
 "nbformat_minor": 0
}
