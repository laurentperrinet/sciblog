{
 "cells": [
  {
   "cell_type": "markdown",
   "metadata": {},
   "source": [
    "A feature of MotionClouds is the ability to precisely tune the precision of information  following the principal axes. One which is particularly relevant for the primary visual cortical area of primates (area V1) is to tune the otirentation mean and bandwidth.\n",
    "\n",
    "To install the necessary libraries, check out [the documentation](https://github.com/NeuralEnsemble/MotionClouds/blob/master/README.md).\n",
    "\n",
    "## summary of the biphoton protocol\n",
    "\n",
    "For the biphoton experiment:\n",
    "* The refresh rate of the screen is 70Hz and stimulation for 5 times 1s, which makes 350 images.\n",
    "* for the spatial frequency 0.125 cyc/deg is optimal (between 0.01 and 0.16).\n",
    "* for the temporal frequency 2 cyc/sec is optimal (between 0.8 and 4 sic/sec), we manipulate $B_V$ to get a qualitative estimate.\n",
    "\n",
    "<!-- TEASER_END -->\n",
    "\n",
    "This is part of a larger study to tune [orientation bandwidth](http://motionclouds.invibe.net/categories/orientation.html).\n",
    "\n",
    "Let's summarize this:\n",
    "\n",
    "* Presentation of stimuli with a circular disk during 250 ms ON then 250ms OFF\n",
    "* fixed parameters:\n",
    " - mean spatial frequency tuned for optimal neural tuning,\n",
    " - spatial frequency bandwidth tuned for optimal neural tuning,\n",
    " - temporal frequency bandwidth tuned for optimal neural tuning (TODO),\n",
    "\n",
    "* parameters:\n",
    " - 12 orientations including cardinals (TO BE DONE AT THE PRESENTATION SOFTWARE LEVEL)\n",
    " - 7 orientation bandwidths (infinite, pi/2, pi/4, pi/8, pi/16, pi/32, dirac),\n",
    " - 2 bandwidth in speed: dynamic (B_V=.5) or static (STATIC TO BE DONE AT THE PRESENTATION SOFTWARE LEVEL BY TAKING ONE FRAME of the DYNAMIC STIMULUS)\n",
    " - 3 different seeds: 42, 1973 and 2015 (completely arbitrary)\n",
    "\n",
    "\n",
    "Grand total for one block is (12 orientations times 6 BWo + 1) * (Dyn / stat) * 0.5s :"
   ]
  },
  {
   "cell_type": "code",
   "execution_count": 3,
   "metadata": {},
   "outputs": [
    {
     "name": "stdout",
     "output_type": "stream",
     "text": [
      "Overwriting ../files/2014-11-10_balaV1-protocol/2018-11-22_biphoton_protocol.py\n"
     ]
    }
   ],
   "source": [
    "%%writefile ../files/2014-11-10_balaV1-protocol/2018-11-22_biphoton_protocol.py\n",
    "#!/usr/bin/env python3\n",
    "# -*- coding: utf-8 -*\n",
    "import numpy as np\n",
    "import MotionClouds as mc\n",
    "import os\n",
    "\n",
    "viewingDistance = 12.3 # cm\n",
    "screen_height_cm = 26.8 # cm\n",
    "#un deg / cm\n",
    "print('visual angle of the screen', 2*np.arctan(screen_height_cm/2/viewingDistance)*180/np.pi, ' degrees')\n",
    "print('degrees per centimeter', 2*np.arctan(screen_height_cm/2/viewingDistance)*180/np.pi/screen_height_cm)\n",
    "\n",
    "#screen_height_px = 1024 # pixels \n",
    "screen_height_px = 512 # pixels \n",
    "deg_per_px = 2*np.arctan(screen_height_cm/2/viewingDistance)*180/np.pi/screen_height_px\n",
    "print('degrees per pixel', deg_per_px)\n",
    "\n",
    "fps = 60 # frames per second\n",
    "T = 1 # duration of one period in second\n",
    "\n",
    "mc.N_X, mc.N_Y, mc.N_frame = screen_height_px, screen_height_px, int(fps*T)\n",
    "\n",
    "print('width of these motion clouds (', mc.N_X, ', ', mc.N_Y, ')')\n",
    "print('width of stimulus in degrees', mc.N_X * deg_per_px)\n",
    "phi_sf_0 = 3 # Optimal spatial frequency [cpd]\n",
    "print('Optimal spatial frequency in cycles per degree', phi_sf_0)\n",
    "print('Optimal spatial frequency in cycles per window = ', phi_sf_0 *  mc.N_X * deg_per_px)\n",
    "sf_0 = phi_sf_0 * deg_per_px\n",
    "print('cycles per pixel = ', sf_0)\n",
    "\n",
    "# Experimental constants \n",
    "contrast = 1.\n",
    "B_sf = 0.1*sf_0 # 0.1   # BW spat. freq.\n",
    "B_ft = .1 # BW temp. freq.\n",
    "\n",
    "B_V = B_ft/sf_0     # BW in speed (\"plane thickness\")\n",
    "print('B_V = ', B_V)\n",
    "theta = 0.0   # Central orientation\n",
    "# generate all files\n",
    "dry_run = True\n",
    "dry_run = False\n",
    "\n",
    "#downscale = 1\n",
    "fx, fy, ft = mc.get_grids(mc.N_X, mc.N_Y, mc.N_frame)\n",
    "\n",
    "name = '2018-11-22_biphoton'\n",
    "vext = '.png'\n",
    "mc.figpath = '.'\n",
    "try:\n",
    "    os.mkdir(os.path.join(mc.figpath, name))\n",
    "except:\n",
    "    pass\n",
    "print('-'*50)\n",
    "print('Starting protocol')\n",
    "print('-'*50)\n",
    "for B_theta in [np.pi/32, np.pi/16, np.pi/8, np.pi/4]: #, np.pi/2, np.inf]: # 2, 5.5, 11, 23, 45]:\n",
    "    if B_theta == np.inf: B_theta_str = 'inf'\n",
    "    else: B_theta_str = str(int(np.ceil(B_theta*180/np.pi)))\n",
    "    for seed in [42, 1973]:\n",
    "        name_ = name + '_B_theta_' + B_theta_str\n",
    "        name_ += '_seed_' + str(seed)\n",
    "        print('Cooking:', name_)\n",
    "        if not dry_run:\n",
    "            if not(os.path.isfile(os.path.join(mc.figpath, name, name_ + vext))) and not(os.path.isfile(os.path.join(mc.figpath, name, name_))):\n",
    "                mc_i = mc.envelope_gabor(fx, fy, ft, \n",
    "                                         V_X=0., V_Y=0., B_V=B_V, \n",
    "                                         sf_0=sf_0, B_sf=B_sf, \n",
    "                                         theta=0., B_theta=B_theta)\n",
    "                im = mc.random_cloud(mc_i)\n",
    "                im = mc.rectif(im, contrast=contrast, verbose=True)\n",
    "                # TERRIBLE HACK ! setting 2 corner pixels to 0 and 1 to ensure contrast is well preserved...\n",
    "                im[0, 0, :] = 0.\n",
    "                im[-1, -1, :] = 1.\n",
    "                mc.anim_save(im, os.path.join(mc.figpath, name, name_), T_movie=T, vext=vext)\n",
    "            else:\n",
    "                print(' MC ' + os.path.join(mc.figpath, name, name_) + ' already done')\n",
    "        else:\n",
    "            print(' MC ' + os.path.join(mc.figpath, name, name_) + ' skipped  (dry run)')\n",
    "\n"
   ]
  },
  {
   "cell_type": "code",
   "execution_count": 4,
   "metadata": {
    "scrolled": true
   },
   "outputs": [
    {
     "name": "stdout",
     "output_type": "stream",
     "text": [
      "Overwriting ../files/2014-11-10_balaV1-protocol/2018-11-22_biphoton_protocol.sh\n"
     ]
    }
   ],
   "source": [
    "%%writefile  ../files/2014-11-10_balaV1-protocol/2018-11-22_biphoton_protocol.sh\n",
    "#!/usr/bin/env bash\n",
    "NAME=2018-11-22_biphoton\n",
    "cd ../files/2014-11-10_balaV1-protocol\n",
    "rm -fr `echo $NAME`_protocol.zip `echo $NAME`\n",
    "echo 'start generating files'\n",
    "ipython3 `echo $NAME`_protocol.py\n",
    "echo 'done generating files'\n",
    "zip `echo $NAME`_protocol.zip `echo $NAME`_protocol.* `echo $NAME`_protocol.sh `echo $NAME`/* `echo $NAME`/**/*\n",
    "rm -fr `echo $NAME`\n",
    "cd ../.."
   ]
  },
  {
   "cell_type": "code",
   "execution_count": null,
   "metadata": {
    "collapsed": true,
    "scrolled": false
   },
   "outputs": [],
   "source": [
    "!sh ../files/2014-11-10_balaV1-protocol/2017-04-19_biphoton_protocol.sh"
   ]
  },
  {
   "cell_type": "markdown",
   "metadata": {},
   "source": [
    "## some book keeping for the notebook"
   ]
  },
  {
   "cell_type": "code",
   "execution_count": 4,
   "metadata": {
    "ExecuteTime": {
     "end_time": "2018-11-07T16:19:23.177738Z",
     "start_time": "2018-11-07T16:19:23.125993Z"
    }
   },
   "outputs": [
    {
     "data": {
      "application/json": {
       "Software versions": [
        {
         "module": "Python",
         "version": "3.6.5 64bit [GCC 4.2.1 Compatible Apple LLVM 9.1.0 (clang-902.0.39.2)]"
        },
        {
         "module": "IPython",
         "version": "7.1.1"
        },
        {
         "module": "OS",
         "version": "Darwin 18.2.0 x86_64 i386 64bit"
        },
        {
         "module": "numpy",
         "version": "1.15.4"
        },
        {
         "module": "scipy",
         "version": "1.1.0"
        },
        {
         "module": "matplotlib",
         "version": "3.0.2"
        },
        {
         "module": "MotionClouds",
         "version": "20180606"
        }
       ]
      },
      "text/html": [
       "<table><tr><th>Software</th><th>Version</th></tr><tr><td>Python</td><td>3.6.5 64bit [GCC 4.2.1 Compatible Apple LLVM 9.1.0 (clang-902.0.39.2)]</td></tr><tr><td>IPython</td><td>7.1.1</td></tr><tr><td>OS</td><td>Darwin 18.2.0 x86_64 i386 64bit</td></tr><tr><td>numpy</td><td>1.15.4</td></tr><tr><td>scipy</td><td>1.1.0</td></tr><tr><td>matplotlib</td><td>3.0.2</td></tr><tr><td>MotionClouds</td><td>20180606</td></tr><tr><td colspan='2'>Thu Nov 15 12:15:47 2018 CET</td></tr></table>"
      ],
      "text/latex": [
       "\\begin{tabular}{|l|l|}\\hline\n",
       "{\\bf Software} & {\\bf Version} \\\\ \\hline\\hline\n",
       "Python & 3.6.5 64bit [GCC 4.2.1 Compatible Apple LLVM 9.1.0 (clang-902.0.39.2)] \\\\ \\hline\n",
       "IPython & 7.1.1 \\\\ \\hline\n",
       "OS & Darwin 18.2.0 x86\\_64 i386 64bit \\\\ \\hline\n",
       "numpy & 1.15.4 \\\\ \\hline\n",
       "scipy & 1.1.0 \\\\ \\hline\n",
       "matplotlib & 3.0.2 \\\\ \\hline\n",
       "MotionClouds & 20180606 \\\\ \\hline\n",
       "\\hline \\multicolumn{2}{|l|}{Thu Nov 15 12:15:47 2018 CET} \\\\ \\hline\n",
       "\\end{tabular}\n"
      ],
      "text/plain": [
       "Software versions\n",
       "Python 3.6.5 64bit [GCC 4.2.1 Compatible Apple LLVM 9.1.0 (clang-902.0.39.2)]\n",
       "IPython 7.1.1\n",
       "OS Darwin 18.2.0 x86_64 i386 64bit\n",
       "numpy 1.15.4\n",
       "scipy 1.1.0\n",
       "matplotlib 3.0.2\n",
       "MotionClouds 20180606\n",
       "Thu Nov 15 12:15:47 2018 CET"
      ]
     },
     "execution_count": 4,
     "metadata": {},
     "output_type": "execute_result"
    }
   ],
   "source": [
    "%load_ext version_information\n",
    "%version_information numpy, scipy, matplotlib, MotionClouds"
   ]
  }
 ],
 "metadata": {
  "kernel_info": {
   "name": "python3"
  },
  "kernelspec": {
   "display_name": "Python 3",
   "language": "python",
   "name": "python3"
  },
  "language_info": {
   "codemirror_mode": {
    "name": "ipython",
    "version": 3
   },
   "file_extension": ".py",
   "mimetype": "text/x-python",
   "name": "python",
   "nbconvert_exporter": "python",
   "pygments_lexer": "ipython3",
   "version": "3.7.1"
  }
 },
 "nbformat": 4,
 "nbformat_minor": 2
}
