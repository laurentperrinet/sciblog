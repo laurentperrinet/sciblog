{
  "cells": [
    {
      "cell_type": "markdown",
      "source": [
        "I have heard Vancouver can get foggy and cloudy in the winter. Here, I will provide some examples of realistic simulations of it...\n",
        "\n",
        "This stimulation was used in the following poster presented at VSS:\n",
        "\n",
        "````\n",
        "\n",
        "@article{Kreyenmeier2016,\n",
        "author = {Kreyenmeier, Philipp and Fooken, Jolande and Spering, Miriam},\n",
        "doi = {10.1167/16.12.457},\n",
        "issn = {1534-7362},\n",
        "journal = {Journal of Vision},\n",
        "month = {sep},\n",
        "number = {12},\n",
        "pages = {457},\n",
        "publisher = {The Association for Research in Vision and Ophthalmology},\n",
        "title = {{Similar effects of visual context dynamics on eye and hand movements}},\n",
        "url = {http://jov.arvojournals.org/article.aspx?doi=10.1167/16.12.457},\n",
        "volume = {16},\n",
        "year = {2016}\n",
        "}\n",
        "\n",
        "````\n",
        "\n",
        "\n",
        "<!-- TEASER_END -->\n"
      ],
      "metadata": {
        "collapsed": false
      }
    },
    {
      "cell_type": "code",
      "source": [
        "%load_ext autoreload\n",
        "%autoreload 2\n",
        "import numpy as np\n",
        "np.set_printoptions(precision=3, suppress=True)\n",
        "import MotionClouds as mc\n",
        "mc.figpath = '../files/2015-03-26_the-vancouver-set'\n",
        "import os\n",
        "# set some custom size:\n",
        "fx, fy, ft = mc.get_grids(200, 128, mc.N_frame)"
      ],
      "outputs": [],
      "execution_count": 1,
      "metadata": {
        "collapsed": false,
        "execution": {
          "iopub.status.busy": "2021-10-18T19:50:23.309Z",
          "iopub.execute_input": "2021-10-18T19:50:23.335Z",
          "iopub.status.idle": "2021-10-18T19:50:23.980Z",
          "shell.execute_reply": "2021-10-18T19:50:24.010Z"
        }
      }
    },
    {
      "cell_type": "markdown",
      "source": [
        "## finding a good initial parameter"
      ],
      "metadata": {}
    },
    {
      "cell_type": "markdown",
      "source": [
        "The \"vanilla\" version of the Motion Cloud:"
      ],
      "metadata": {}
    },
    {
      "cell_type": "code",
      "source": [
        "name = 'vancouver'\n",
        "mc.figures_MC(fx, fy, ft, name, figpath=mc.figpath)\n",
        "mc.in_show_video(name, figpath=mc.figpath)"
      ],
      "outputs": [
        {
          "output_type": "stream",
          "name": "stderr",
          "text": [
            "2021-10-18 21:50:28.687 Python[45982:5325760] ApplePersistenceIgnoreState: Existing state will not be touched. New state will be written to /var/folders/3p/m0g52j9j69z3gj8ktpgg1dm00000gn/T/org.python.python.savedState\n",
            "/usr/local/lib/python3.9/site-packages/vispy/gloo/texture.py:28: UserWarning: GPUs can't support floating point data with more than 32-bits, precision will be lost due to downcasting to 32-bit float.\n",
            "  warnings.warn(F64_PRECISION_WARNING)\n",
            "/usr/local/lib/python3.9/site-packages/vispy/gloo/texture.py:28: UserWarning: GPUs can't support floating point data with more than 32-bits, precision will be lost due to downcasting to 32-bit float.\n",
            "  warnings.warn(F64_PRECISION_WARNING)\n"
          ]
        },
        {
          "output_type": "stream",
          "name": "stdout",
          "text": [
            "ffmpeg version 4.4 Copyright (c) 2000-2021 the FFmpeg developers\n",
            "built with Apple clang version 12.0.5 (clang-1205.0.22.9)\n",
            "configuration: --prefix=/usr/local/Cellar/ffmpeg/4.4_2 --enable-shared --enable-pthreads --enable-version3 --cc=clang --host-cflags= --host-ldflags= --enable-ffplay --enable-gnutls --enable-gpl --enable-libaom --enable-libbluray --enable-libdav1d --enable-libmp3lame --enable-libopus --enable-librav1e --enable-librubberband --enable-libsnappy --enable-libsrt --enable-libtesseract --enable-libtheora --enable-libvidstab --enable-libvorbis --enable-libvpx --enable-libwebp --enable-libx264 --enable-libx265 --enable-libxml2 --enable-libxvid --enable-lzma --enable-libfontconfig --enable-libfreetype --enable-frei0r --enable-libass --enable-libopencore-amrnb --enable-libopencore-amrwb --enable-libopenjpeg --enable-libspeex --enable-libsoxr --enable-libzmq --enable-libzimg --disable-libjack --disable-indev=jack --enable-avresample --enable-videotoolbox\n",
            "libavutil      56. 70.100 / 56. 70.100\n",
            "libavcodec     58.134.100 / 58.134.100\n",
            "libavformat    58. 76.100 / 58. 76.100\n",
            "libavdevice    58. 13.100 / 58. 13.100\n",
            "libavfilter     7.110.100 /  7.110.100\n",
            "libavresample   4.  0.  0 /  4.  0.  0\n",
            "libswscale      5.  9.100 /  5.  9.100\n",
            "libswresample   3.  9.100 /  3.  9.100\n",
            "libpostproc    55.  9.100 / 55.  9.100\n"
          ]
        },
        {
          "output_type": "display_data",
          "data": {
            "text/plain": "<IPython.core.display.HTML object>",
            "text/html": "\n                <center><table border=none width=100% height=100%>\n                <tr>\n                <td width=33%%><center><img src=\"../files/2015-03-26_the-vancouver-set/vancouver.png\" width=100%/></td>\n                <td rowspan=2  colspan=2><center><video src=\"../files/2015-03-26_the-vancouver-set/vancouver.mp4\"   loop=\"1\" autoplay=\"1\" controls   type=\"video/mp4\" width=100%/></td>\n                </tr>\n                <tr>\n                <td><center><img src=\"../files/2015-03-26_the-vancouver-set/vancouver_cube.png\" width=100%/></td>\n                </tr>\n                </table></center>"
          },
          "metadata": {}
        }
      ],
      "execution_count": 2,
      "metadata": {
        "collapsed": false,
        "execution": {
          "iopub.status.busy": "2021-10-18T19:50:23.993Z",
          "iopub.execute_input": "2021-10-18T19:50:24.000Z",
          "shell.execute_reply": "2021-10-18T19:50:48.208Z",
          "iopub.status.idle": "2021-10-18T19:50:48.228Z"
        }
      }
    },
    {
      "cell_type": "markdown",
      "source": [
        "To create a fog, the spatial frenquency should be less precise, so its sufficient to make the bandwidth large. The units are absolute (relative to the Nyquist frequency). So, a value of 1 is already big. Also, (except if it rains?) we can similarly assume a large bandwidth for the orientation."
      ],
      "metadata": {}
    },
    {
      "cell_type": "code",
      "source": [
        "name = 'vancouver-fog'\n",
        "mc.figures_MC(fx, fy, ft, name, B_sf=.3, B_theta=10., figpath=mc.figpath)\n",
        "mc.in_show_video(name, figpath=mc.figpath)"
      ],
      "outputs": [
        {
          "output_type": "stream",
          "name": "stdout",
          "text": [
            "ffmpeg version 4.4 Copyright (c) 2000-2021 the FFmpeg developers\n",
            "built with Apple clang version 12.0.5 (clang-1205.0.22.9)\n",
            "configuration: --prefix=/usr/local/Cellar/ffmpeg/4.4_2 --enable-shared --enable-pthreads --enable-version3 --cc=clang --host-cflags= --host-ldflags= --enable-ffplay --enable-gnutls --enable-gpl --enable-libaom --enable-libbluray --enable-libdav1d --enable-libmp3lame --enable-libopus --enable-librav1e --enable-librubberband --enable-libsnappy --enable-libsrt --enable-libtesseract --enable-libtheora --enable-libvidstab --enable-libvorbis --enable-libvpx --enable-libwebp --enable-libx264 --enable-libx265 --enable-libxml2 --enable-libxvid --enable-lzma --enable-libfontconfig --enable-libfreetype --enable-frei0r --enable-libass --enable-libopencore-amrnb --enable-libopencore-amrwb --enable-libopenjpeg --enable-libspeex --enable-libsoxr --enable-libzmq --enable-libzimg --disable-libjack --disable-indev=jack --enable-avresample --enable-videotoolbox\n",
            "libavutil      56. 70.100 / 56. 70.100\n",
            "libavcodec     58.134.100 / 58.134.100\n",
            "libavformat    58. 76.100 / 58. 76.100\n",
            "libavdevice    58. 13.100 / 58. 13.100\n",
            "libavfilter     7.110.100 /  7.110.100\n",
            "libavresample   4.  0.  0 /  4.  0.  0\n",
            "libswscale      5.  9.100 /  5.  9.100\n",
            "libswresample   3.  9.100 /  3.  9.100\n",
            "libpostproc    55.  9.100 / 55.  9.100\n"
          ]
        },
        {
          "output_type": "display_data",
          "data": {
            "text/plain": "<IPython.core.display.HTML object>",
            "text/html": "\n                <center><table border=none width=100% height=100%>\n                <tr>\n                <td width=33%%><center><img src=\"../files/2015-03-26_the-vancouver-set/vancouver-fog.png\" width=100%/></td>\n                <td rowspan=2  colspan=2><center><video src=\"../files/2015-03-26_the-vancouver-set/vancouver-fog.mp4\"   loop=\"1\" autoplay=\"1\" controls   type=\"video/mp4\" width=100%/></td>\n                </tr>\n                <tr>\n                <td><center><img src=\"../files/2015-03-26_the-vancouver-set/vancouver-fog_cube.png\" width=100%/></td>\n                </tr>\n                </table></center>"
          },
          "metadata": {}
        }
      ],
      "execution_count": 3,
      "metadata": {
        "collapsed": false,
        "scrolled": true,
        "execution": {
          "iopub.status.busy": "2021-10-18T19:50:48.290Z",
          "iopub.execute_input": "2021-10-18T19:50:48.298Z",
          "iopub.status.idle": "2021-10-18T19:51:10.286Z",
          "shell.execute_reply": "2021-10-18T19:51:10.340Z"
        }
      }
    },
    {
      "cell_type": "markdown",
      "source": [
        "It is easy to save that file in another format like the matlab binary format (use ``vext='.mat``) or using the more universal [HDF5](http://www.hdfgroup.org/HDF5/) format  (use ``vext='.h5'``):"
      ],
      "metadata": {}
    },
    {
      "cell_type": "code",
      "source": [
        "env = mc.envelope_gabor(fx, fy, ft, B_sf=.3, B_theta=10.) # makes an envelope in Fourier space\n",
        "mov = mc.random_cloud(env) # transforms the envelope into a movie\n",
        "mc.anim_save(mov, os.path.join(mc.figpath, name), vext='.mat') # saves that movie into MATLAB format\n",
        "#mc.anim_save(mov, os.path.join(mc.figpath, name), vext='.h5') # saves that movie into HDF5 format"
      ],
      "outputs": [],
      "execution_count": 4,
      "metadata": {
        "collapsed": false,
        "execution": {
          "iopub.status.busy": "2021-10-18T19:51:10.306Z",
          "iopub.execute_input": "2021-10-18T19:51:10.323Z",
          "iopub.status.idle": "2021-10-18T19:51:12.773Z",
          "shell.execute_reply": "2021-10-18T19:51:12.845Z"
        }
      }
    },
    {
      "cell_type": "markdown",
      "source": [
        "Now you may directly download that file from [this link](../files/2015-03-26_the-vancouver-set/vancouver-fog.mat)."
      ],
      "metadata": {}
    },
    {
      "cell_type": "markdown",
      "source": [
        "## parameterizing the set"
      ],
      "metadata": {}
    },
    {
      "cell_type": "markdown",
      "source": [
        "Now that we got a good fog, we may want to try out different speeds:"
      ],
      "metadata": {}
    },
    {
      "cell_type": "code",
      "source": [
        "for V_X in [-1.0, -0.5, 0.0, 0.1, 0.5, 1.0, 4.0]:\n",
        "    name_ = name + '-V_X-' + str(V_X).replace('.', '_')\n",
        "    mc.figures_MC(fx, fy, ft, name_, V_X=V_X, B_sf=1., B_theta=10., figpath=mc.figpath)\n",
        "    mc.in_show_video(name_, figpath=mc.figpath)"
      ],
      "outputs": [
        {
          "output_type": "stream",
          "name": "stdout",
          "text": [
            "ffmpeg version 4.4 Copyright (c) 2000-2021 the FFmpeg developers\n",
            "built with Apple clang version 12.0.5 (clang-1205.0.22.9)\n",
            "configuration: --prefix=/usr/local/Cellar/ffmpeg/4.4_2 --enable-shared --enable-pthreads --enable-version3 --cc=clang --host-cflags= --host-ldflags= --enable-ffplay --enable-gnutls --enable-gpl --enable-libaom --enable-libbluray --enable-libdav1d --enable-libmp3lame --enable-libopus --enable-librav1e --enable-librubberband --enable-libsnappy --enable-libsrt --enable-libtesseract --enable-libtheora --enable-libvidstab --enable-libvorbis --enable-libvpx --enable-libwebp --enable-libx264 --enable-libx265 --enable-libxml2 --enable-libxvid --enable-lzma --enable-libfontconfig --enable-libfreetype --enable-frei0r --enable-libass --enable-libopencore-amrnb --enable-libopencore-amrwb --enable-libopenjpeg --enable-libspeex --enable-libsoxr --enable-libzmq --enable-libzimg --disable-libjack --disable-indev=jack --enable-avresample --enable-videotoolbox\n",
            "libavutil      56. 70.100 / 56. 70.100\n",
            "libavcodec     58.134.100 / 58.134.100\n",
            "libavformat    58. 76.100 / 58. 76.100\n",
            "libavdevice    58. 13.100 / 58. 13.100\n",
            "libavfilter     7.110.100 /  7.110.100\n",
            "libavresample   4.  0.  0 /  4.  0.  0\n",
            "libswscale      5.  9.100 /  5.  9.100\n",
            "libswresample   3.  9.100 /  3.  9.100\n",
            "libpostproc    55.  9.100 / 55.  9.100\n"
          ]
        },
        {
          "output_type": "display_data",
          "data": {
            "text/plain": "<IPython.core.display.HTML object>",
            "text/html": "\n                <center><table border=none width=100% height=100%>\n                <tr>\n                <td width=33%%><center><img src=\"../files/2015-03-26_the-vancouver-set/vancouver-fog-V_X--1_0.png\" width=100%/></td>\n                <td rowspan=2  colspan=2><center><video src=\"../files/2015-03-26_the-vancouver-set/vancouver-fog-V_X--1_0.mp4\"   loop=\"1\" autoplay=\"1\" controls   type=\"video/mp4\" width=100%/></td>\n                </tr>\n                <tr>\n                <td><center><img src=\"../files/2015-03-26_the-vancouver-set/vancouver-fog-V_X--1_0_cube.png\" width=100%/></td>\n                </tr>\n                </table></center>"
          },
          "metadata": {}
        },
        {
          "output_type": "stream",
          "name": "stdout",
          "text": [
            "ffmpeg version 4.4 Copyright (c) 2000-2021 the FFmpeg developers\n",
            "built with Apple clang version 12.0.5 (clang-1205.0.22.9)\n",
            "configuration: --prefix=/usr/local/Cellar/ffmpeg/4.4_2 --enable-shared --enable-pthreads --enable-version3 --cc=clang --host-cflags= --host-ldflags= --enable-ffplay --enable-gnutls --enable-gpl --enable-libaom --enable-libbluray --enable-libdav1d --enable-libmp3lame --enable-libopus --enable-librav1e --enable-librubberband --enable-libsnappy --enable-libsrt --enable-libtesseract --enable-libtheora --enable-libvidstab --enable-libvorbis --enable-libvpx --enable-libwebp --enable-libx264 --enable-libx265 --enable-libxml2 --enable-libxvid --enable-lzma --enable-libfontconfig --enable-libfreetype --enable-frei0r --enable-libass --enable-libopencore-amrnb --enable-libopencore-amrwb --enable-libopenjpeg --enable-libspeex --enable-libsoxr --enable-libzmq --enable-libzimg --disable-libjack --disable-indev=jack --enable-avresample --enable-videotoolbox\n",
            "libavutil      56. 70.100 / 56. 70.100\n",
            "libavcodec     58.134.100 / 58.134.100\n",
            "libavformat    58. 76.100 / 58. 76.100\n",
            "libavdevice    58. 13.100 / 58. 13.100\n",
            "libavfilter     7.110.100 /  7.110.100\n",
            "libavresample   4.  0.  0 /  4.  0.  0\n",
            "libswscale      5.  9.100 /  5.  9.100\n",
            "libswresample   3.  9.100 /  3.  9.100\n",
            "libpostproc    55.  9.100 / 55.  9.100\n"
          ]
        },
        {
          "output_type": "display_data",
          "data": {
            "text/plain": "<IPython.core.display.HTML object>",
            "text/html": "\n                <center><table border=none width=100% height=100%>\n                <tr>\n                <td width=33%%><center><img src=\"../files/2015-03-26_the-vancouver-set/vancouver-fog-V_X--0_5.png\" width=100%/></td>\n                <td rowspan=2  colspan=2><center><video src=\"../files/2015-03-26_the-vancouver-set/vancouver-fog-V_X--0_5.mp4\"   loop=\"1\" autoplay=\"1\" controls   type=\"video/mp4\" width=100%/></td>\n                </tr>\n                <tr>\n                <td><center><img src=\"../files/2015-03-26_the-vancouver-set/vancouver-fog-V_X--0_5_cube.png\" width=100%/></td>\n                </tr>\n                </table></center>"
          },
          "metadata": {}
        },
        {
          "output_type": "stream",
          "name": "stdout",
          "text": [
            "ffmpeg version 4.4 Copyright (c) 2000-2021 the FFmpeg developers\n",
            "built with Apple clang version 12.0.5 (clang-1205.0.22.9)\n",
            "configuration: --prefix=/usr/local/Cellar/ffmpeg/4.4_2 --enable-shared --enable-pthreads --enable-version3 --cc=clang --host-cflags= --host-ldflags= --enable-ffplay --enable-gnutls --enable-gpl --enable-libaom --enable-libbluray --enable-libdav1d --enable-libmp3lame --enable-libopus --enable-librav1e --enable-librubberband --enable-libsnappy --enable-libsrt --enable-libtesseract --enable-libtheora --enable-libvidstab --enable-libvorbis --enable-libvpx --enable-libwebp --enable-libx264 --enable-libx265 --enable-libxml2 --enable-libxvid --enable-lzma --enable-libfontconfig --enable-libfreetype --enable-frei0r --enable-libass --enable-libopencore-amrnb --enable-libopencore-amrwb --enable-libopenjpeg --enable-libspeex --enable-libsoxr --enable-libzmq --enable-libzimg --disable-libjack --disable-indev=jack --enable-avresample --enable-videotoolbox\n",
            "libavutil      56. 70.100 / 56. 70.100\n",
            "libavcodec     58.134.100 / 58.134.100\n",
            "libavformat    58. 76.100 / 58. 76.100\n",
            "libavdevice    58. 13.100 / 58. 13.100\n",
            "libavfilter     7.110.100 /  7.110.100\n",
            "libavresample   4.  0.  0 /  4.  0.  0\n",
            "libswscale      5.  9.100 /  5.  9.100\n",
            "libswresample   3.  9.100 /  3.  9.100\n",
            "libpostproc    55.  9.100 / 55.  9.100\n"
          ]
        },
        {
          "output_type": "display_data",
          "data": {
            "text/plain": "<IPython.core.display.HTML object>",
            "text/html": "\n                <center><table border=none width=100% height=100%>\n                <tr>\n                <td width=33%%><center><img src=\"../files/2015-03-26_the-vancouver-set/vancouver-fog-V_X-0_0.png\" width=100%/></td>\n                <td rowspan=2  colspan=2><center><video src=\"../files/2015-03-26_the-vancouver-set/vancouver-fog-V_X-0_0.mp4\"   loop=\"1\" autoplay=\"1\" controls   type=\"video/mp4\" width=100%/></td>\n                </tr>\n                <tr>\n                <td><center><img src=\"../files/2015-03-26_the-vancouver-set/vancouver-fog-V_X-0_0_cube.png\" width=100%/></td>\n                </tr>\n                </table></center>"
          },
          "metadata": {}
        },
        {
          "output_type": "stream",
          "name": "stdout",
          "text": [
            "ffmpeg version 4.4 Copyright (c) 2000-2021 the FFmpeg developers\n",
            "built with Apple clang version 12.0.5 (clang-1205.0.22.9)\n",
            "configuration: --prefix=/usr/local/Cellar/ffmpeg/4.4_2 --enable-shared --enable-pthreads --enable-version3 --cc=clang --host-cflags= --host-ldflags= --enable-ffplay --enable-gnutls --enable-gpl --enable-libaom --enable-libbluray --enable-libdav1d --enable-libmp3lame --enable-libopus --enable-librav1e --enable-librubberband --enable-libsnappy --enable-libsrt --enable-libtesseract --enable-libtheora --enable-libvidstab --enable-libvorbis --enable-libvpx --enable-libwebp --enable-libx264 --enable-libx265 --enable-libxml2 --enable-libxvid --enable-lzma --enable-libfontconfig --enable-libfreetype --enable-frei0r --enable-libass --enable-libopencore-amrnb --enable-libopencore-amrwb --enable-libopenjpeg --enable-libspeex --enable-libsoxr --enable-libzmq --enable-libzimg --disable-libjack --disable-indev=jack --enable-avresample --enable-videotoolbox\n",
            "libavutil      56. 70.100 / 56. 70.100\n",
            "libavcodec     58.134.100 / 58.134.100\n",
            "libavformat    58. 76.100 / 58. 76.100\n",
            "libavdevice    58. 13.100 / 58. 13.100\n",
            "libavfilter     7.110.100 /  7.110.100\n",
            "libavresample   4.  0.  0 /  4.  0.  0\n",
            "libswscale      5.  9.100 /  5.  9.100\n",
            "libswresample   3.  9.100 /  3.  9.100\n",
            "libpostproc    55.  9.100 / 55.  9.100\n"
          ]
        },
        {
          "output_type": "display_data",
          "data": {
            "text/plain": "<IPython.core.display.HTML object>",
            "text/html": "\n                <center><table border=none width=100% height=100%>\n                <tr>\n                <td width=33%%><center><img src=\"../files/2015-03-26_the-vancouver-set/vancouver-fog-V_X-0_1.png\" width=100%/></td>\n                <td rowspan=2  colspan=2><center><video src=\"../files/2015-03-26_the-vancouver-set/vancouver-fog-V_X-0_1.mp4\"   loop=\"1\" autoplay=\"1\" controls   type=\"video/mp4\" width=100%/></td>\n                </tr>\n                <tr>\n                <td><center><img src=\"../files/2015-03-26_the-vancouver-set/vancouver-fog-V_X-0_1_cube.png\" width=100%/></td>\n                </tr>\n                </table></center>"
          },
          "metadata": {}
        },
        {
          "output_type": "stream",
          "name": "stdout",
          "text": [
            "ffmpeg version 4.4 Copyright (c) 2000-2021 the FFmpeg developers\n",
            "built with Apple clang version 12.0.5 (clang-1205.0.22.9)\n",
            "configuration: --prefix=/usr/local/Cellar/ffmpeg/4.4_2 --enable-shared --enable-pthreads --enable-version3 --cc=clang --host-cflags= --host-ldflags= --enable-ffplay --enable-gnutls --enable-gpl --enable-libaom --enable-libbluray --enable-libdav1d --enable-libmp3lame --enable-libopus --enable-librav1e --enable-librubberband --enable-libsnappy --enable-libsrt --enable-libtesseract --enable-libtheora --enable-libvidstab --enable-libvorbis --enable-libvpx --enable-libwebp --enable-libx264 --enable-libx265 --enable-libxml2 --enable-libxvid --enable-lzma --enable-libfontconfig --enable-libfreetype --enable-frei0r --enable-libass --enable-libopencore-amrnb --enable-libopencore-amrwb --enable-libopenjpeg --enable-libspeex --enable-libsoxr --enable-libzmq --enable-libzimg --disable-libjack --disable-indev=jack --enable-avresample --enable-videotoolbox\n",
            "libavutil      56. 70.100 / 56. 70.100\n",
            "libavcodec     58.134.100 / 58.134.100\n",
            "libavformat    58. 76.100 / 58. 76.100\n",
            "libavdevice    58. 13.100 / 58. 13.100\n",
            "libavfilter     7.110.100 /  7.110.100\n",
            "libavresample   4.  0.  0 /  4.  0.  0\n",
            "libswscale      5.  9.100 /  5.  9.100\n",
            "libswresample   3.  9.100 /  3.  9.100\n",
            "libpostproc    55.  9.100 / 55.  9.100\n"
          ]
        },
        {
          "output_type": "display_data",
          "data": {
            "text/plain": "<IPython.core.display.HTML object>",
            "text/html": "\n                <center><table border=none width=100% height=100%>\n                <tr>\n                <td width=33%%><center><img src=\"../files/2015-03-26_the-vancouver-set/vancouver-fog-V_X-0_5.png\" width=100%/></td>\n                <td rowspan=2  colspan=2><center><video src=\"../files/2015-03-26_the-vancouver-set/vancouver-fog-V_X-0_5.mp4\"   loop=\"1\" autoplay=\"1\" controls   type=\"video/mp4\" width=100%/></td>\n                </tr>\n                <tr>\n                <td><center><img src=\"../files/2015-03-26_the-vancouver-set/vancouver-fog-V_X-0_5_cube.png\" width=100%/></td>\n                </tr>\n                </table></center>"
          },
          "metadata": {}
        },
        {
          "output_type": "stream",
          "name": "stdout",
          "text": [
            "ffmpeg version 4.4 Copyright (c) 2000-2021 the FFmpeg developers\n",
            "built with Apple clang version 12.0.5 (clang-1205.0.22.9)\n",
            "configuration: --prefix=/usr/local/Cellar/ffmpeg/4.4_2 --enable-shared --enable-pthreads --enable-version3 --cc=clang --host-cflags= --host-ldflags= --enable-ffplay --enable-gnutls --enable-gpl --enable-libaom --enable-libbluray --enable-libdav1d --enable-libmp3lame --enable-libopus --enable-librav1e --enable-librubberband --enable-libsnappy --enable-libsrt --enable-libtesseract --enable-libtheora --enable-libvidstab --enable-libvorbis --enable-libvpx --enable-libwebp --enable-libx264 --enable-libx265 --enable-libxml2 --enable-libxvid --enable-lzma --enable-libfontconfig --enable-libfreetype --enable-frei0r --enable-libass --enable-libopencore-amrnb --enable-libopencore-amrwb --enable-libopenjpeg --enable-libspeex --enable-libsoxr --enable-libzmq --enable-libzimg --disable-libjack --disable-indev=jack --enable-avresample --enable-videotoolbox\n",
            "libavutil      56. 70.100 / 56. 70.100\n",
            "libavcodec     58.134.100 / 58.134.100\n",
            "libavformat    58. 76.100 / 58. 76.100\n",
            "libavdevice    58. 13.100 / 58. 13.100\n",
            "libavfilter     7.110.100 /  7.110.100\n",
            "libavresample   4.  0.  0 /  4.  0.  0\n",
            "libswscale      5.  9.100 /  5.  9.100\n",
            "libswresample   3.  9.100 /  3.  9.100\n",
            "libpostproc    55.  9.100 / 55.  9.100\n"
          ]
        },
        {
          "output_type": "display_data",
          "data": {
            "text/plain": "<IPython.core.display.HTML object>",
            "text/html": "\n                <center><table border=none width=100% height=100%>\n                <tr>\n                <td width=33%%><center><img src=\"../files/2015-03-26_the-vancouver-set/vancouver-fog-V_X-1_0.png\" width=100%/></td>\n                <td rowspan=2  colspan=2><center><video src=\"../files/2015-03-26_the-vancouver-set/vancouver-fog-V_X-1_0.mp4\"   loop=\"1\" autoplay=\"1\" controls   type=\"video/mp4\" width=100%/></td>\n                </tr>\n                <tr>\n                <td><center><img src=\"../files/2015-03-26_the-vancouver-set/vancouver-fog-V_X-1_0_cube.png\" width=100%/></td>\n                </tr>\n                </table></center>"
          },
          "metadata": {}
        },
        {
          "output_type": "stream",
          "name": "stdout",
          "text": [
            "ffmpeg version 4.4 Copyright (c) 2000-2021 the FFmpeg developers\n",
            "built with Apple clang version 12.0.5 (clang-1205.0.22.9)\n",
            "configuration: --prefix=/usr/local/Cellar/ffmpeg/4.4_2 --enable-shared --enable-pthreads --enable-version3 --cc=clang --host-cflags= --host-ldflags= --enable-ffplay --enable-gnutls --enable-gpl --enable-libaom --enable-libbluray --enable-libdav1d --enable-libmp3lame --enable-libopus --enable-librav1e --enable-librubberband --enable-libsnappy --enable-libsrt --enable-libtesseract --enable-libtheora --enable-libvidstab --enable-libvorbis --enable-libvpx --enable-libwebp --enable-libx264 --enable-libx265 --enable-libxml2 --enable-libxvid --enable-lzma --enable-libfontconfig --enable-libfreetype --enable-frei0r --enable-libass --enable-libopencore-amrnb --enable-libopencore-amrwb --enable-libopenjpeg --enable-libspeex --enable-libsoxr --enable-libzmq --enable-libzimg --disable-libjack --disable-indev=jack --enable-avresample --enable-videotoolbox\n",
            "libavutil      56. 70.100 / 56. 70.100\n",
            "libavcodec     58.134.100 / 58.134.100\n",
            "libavformat    58. 76.100 / 58. 76.100\n",
            "libavdevice    58. 13.100 / 58. 13.100\n",
            "libavfilter     7.110.100 /  7.110.100\n",
            "libavresample   4.  0.  0 /  4.  0.  0\n",
            "libswscale      5.  9.100 /  5.  9.100\n",
            "libswresample   3.  9.100 /  3.  9.100\n",
            "libpostproc    55.  9.100 / 55.  9.100\n"
          ]
        },
        {
          "output_type": "display_data",
          "data": {
            "text/plain": "<IPython.core.display.HTML object>",
            "text/html": "\n                <center><table border=none width=100% height=100%>\n                <tr>\n                <td width=33%%><center><img src=\"../files/2015-03-26_the-vancouver-set/vancouver-fog-V_X-4_0.png\" width=100%/></td>\n                <td rowspan=2  colspan=2><center><video src=\"../files/2015-03-26_the-vancouver-set/vancouver-fog-V_X-4_0.mp4\"   loop=\"1\" autoplay=\"1\" controls   type=\"video/mp4\" width=100%/></td>\n                </tr>\n                <tr>\n                <td><center><img src=\"../files/2015-03-26_the-vancouver-set/vancouver-fog-V_X-4_0_cube.png\" width=100%/></td>\n                </tr>\n                </table></center>"
          },
          "metadata": {}
        }
      ],
      "execution_count": 5,
      "metadata": {
        "collapsed": false,
        "execution": {
          "iopub.status.busy": "2021-10-18T19:51:12.794Z",
          "iopub.execute_input": "2021-10-18T19:51:12.812Z",
          "shell.execute_reply": "2021-10-18T19:53:33.674Z",
          "iopub.status.idle": "2021-10-18T19:53:33.701Z"
        }
      }
    },
    {
      "cell_type": "markdown",
      "source": [
        "Obviously, a speed of $4$ seems to introduce aliasing. That effect is expected and should be avoided."
      ],
      "metadata": {}
    }
  ],
  "metadata": {
    "kernelspec": {
      "display_name": "Python 3",
      "language": "python",
      "name": "python3"
    },
    "language_info": {
      "name": "python",
      "version": "3.9.7",
      "mimetype": "text/x-python",
      "codemirror_mode": {
        "name": "ipython",
        "version": 3
      },
      "pygments_lexer": "ipython3",
      "nbconvert_exporter": "python",
      "file_extension": ".py"
    },
    "nteract": {
      "version": "0.28.0"
    }
  },
  "nbformat": 4,
  "nbformat_minor": 0
}