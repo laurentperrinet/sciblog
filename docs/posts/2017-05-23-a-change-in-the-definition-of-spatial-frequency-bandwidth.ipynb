{
 "cells": [
  {
   "cell_type": "markdown",
   "metadata": {},
   "source": [
    "Since the beginning, we have used a definition of bandwidth in the spatial frequency domain which was quite standard (see [supp material](http://www.motionclouds.invibe.net/files/MotionClouds_Supplementary.pdf) for instance):\n",
    "\n",
    "$$\n",
    "\\mathcal{E}(f; sf_0, B_{sf}) \\propto \\frac {1}{f} \\cdot \\exp \\left( -.5 \\frac {\\log( \\frac{f}{sf_0} ) ^2} {\\log( 1 + \\frac {B_sf}{sf_0} )^2 } \\right)\n",
    "$$\n",
    "\n",
    "This is implemented in the folowing [code](https://github.com/NeuralEnsemble/MotionClouds/blob/79939f447c45c8a400d93735cca4fe498193be59/MotionClouds/MotionClouds.py#L206) which reads:\n",
    "\n",
    "```python\n",
    "\n",
    "env = 1./f_radius*np.exp(-.5*(np.log(f_radius/sf_0)**2)/(np.log((sf_0+B_sf)/sf_0)**2))\n",
    "\n",
    "```\n",
    "\n",
    "However the one implemented in the code looks different (thanks to [Kiana](https://laurentperrinet.github.io/authors/kiana-mansour-pour/) for spotting this!), so that one can think that the code is using:\n",
    "\n",
    "$$\n",
    "\\mathcal{E}(f; sf_0, B_{sf}) \\propto \\frac {1}{f} \\cdot \\exp \\left( -.5 \\frac {\\log( \\frac{f}{sf_0} ) ^2} {\\log(( 1 + \\frac {B_sf}{sf_0} )^2 ) } \\right)\n",
    "$$\n",
    "\n",
    "The difference is minimal, yet very important for a correct definition of the bandwidth!\n",
    "\n",
    "<!-- TEASER_END -->\n",
    "\n",
    "In fact, we are really using the correct formula, but to make it clearer, I just changed it to this new [code](https://github.com/NeuralEnsemble/MotionClouds/blob/2b0a7a89c75987b40ce2b202bb96ba78d0e907af/MotionClouds/MotionClouds.py#L206) which reads:\n",
    "\n",
    "```python\n",
    "\n",
    "env = 1./f_radius*np.exp(-.5*(np.log(f_radius/sf_0)**2)/((np.log((sf_0+B_sf)/sf_0))**2))\n",
    "      \n",
    "```\n"
   ]
  }
 ],
 "metadata": {
  "kernelspec": {
   "display_name": "Python 3",
   "language": "python",
   "name": "python3"
  },
  "language_info": {
   "codemirror_mode": {
    "name": "ipython",
    "version": 3
   },
   "file_extension": ".py",
   "mimetype": "text/x-python",
   "name": "python",
   "nbconvert_exporter": "python",
   "pygments_lexer": "ipython3",
   "version": "3.6.1"
  },
  "nikola": {
   "category": "",
   "date": "2017-05-23 11:43:46 UTC+02:00",
   "description": "",
   "link": "",
   "slug": "2017-05-23-a-change-in-the-definition-of-spatial-frequency-bandwidth",
   "tags": "motionclouds, code",
   "title": "A change in the definition of spatial frequency bandwidth?",
   "type": "text"
  }
 },
 "nbformat": 4,
 "nbformat_minor": 2
}
