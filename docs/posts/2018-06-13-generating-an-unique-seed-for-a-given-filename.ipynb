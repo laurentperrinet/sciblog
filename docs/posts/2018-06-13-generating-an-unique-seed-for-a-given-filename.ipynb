{
 "cells": [
  {
   "cell_type": "markdown",
   "metadata": {},
   "source": [
    "When creating large simulations, you may sometimes create unique identifiers for each of it. This is useful to cache intermediate results for instance. This is the main function of [hashes](https://en.wikipedia.org/wiki/Hash_function). We will here create a simple one-liner function to generate one.\n",
    "\n",
    "<!-- TEASER_END -->\n"
   ]
  },
  {
   "cell_type": "code",
   "execution_count": 1,
   "metadata": {
    "ExecuteTime": {
     "end_time": "2018-06-13T11:09:44.473712Z",
     "start_time": "2018-06-13T11:09:44.460793Z"
    }
   },
   "outputs": [
    {
     "name": "stdout",
     "output_type": "stream",
     "text": [
      "filename= https://raw.githubusercontent.com/bicv/SLIP/master/database/serre07_targets/B_N107001.jpg\n"
     ]
    }
   ],
   "source": [
    "filename = 'https://raw.githubusercontent.com/bicv/SLIP/master/database/serre07_targets/B_N107001.jpg'\n",
    "print ('filename=', filename)"
   ]
  },
  {
   "cell_type": "code",
   "execution_count": 2,
   "metadata": {
    "ExecuteTime": {
     "end_time": "2018-06-13T11:09:44.495652Z",
     "start_time": "2018-06-13T11:09:44.478681Z"
    }
   },
   "outputs": [
    {
     "name": "stdout",
     "output_type": "stream",
     "text": [
      "hash_str= d9dee4e30946f8306a87b83b3a5723e9b9546e114e9f477025090ba2\n"
     ]
    }
   ],
   "source": [
    "import os\n",
    "import hashlib\n",
    "hash_str = hashlib.sha224(filename.encode('utf-8')).hexdigest()\n",
    "print('hash_str=', hash_str)"
   ]
  },
  {
   "cell_type": "code",
   "execution_count": 3,
   "metadata": {
    "ExecuteTime": {
     "end_time": "2018-06-13T11:09:44.520496Z",
     "start_time": "2018-06-13T11:09:44.509657Z"
    }
   },
   "outputs": [
    {
     "name": "stdout",
     "output_type": "stream",
     "text": [
      "filename= https://raw.githubusercontent.com/bicv/SLIP/master/database/serre07_targets/B_N107002.jpg\n",
      "hash_str= fd94b7e0e5e950996d548c0777ccf7f800205065d9c28c1f255a3e82\n"
     ]
    }
   ],
   "source": [
    "filename = 'https://raw.githubusercontent.com/bicv/SLIP/master/database/serre07_targets/B_N107002.jpg'\n",
    "print ('filename=', filename)\n",
    "print('hash_str=', hashlib.sha224(filename.encode('utf-8')).hexdigest())"
   ]
  },
  {
   "cell_type": "markdown",
   "metadata": {},
   "source": [
    "Done! This gives a simple one-liner to associate a filename to a (most probably) hash.\n",
    "\n",
    "## dependencies"
   ]
  },
  {
   "cell_type": "code",
   "execution_count": 4,
   "metadata": {
    "ExecuteTime": {
     "end_time": "2018-06-13T11:09:44.564837Z",
     "start_time": "2018-06-13T11:09:44.524812Z"
    }
   },
   "outputs": [
    {
     "name": "stdout",
     "output_type": "stream",
     "text": [
      "2018-06-13T13:09:44+02:00\n",
      "\n",
      "CPython 3.6.5\n",
      "IPython 6.4.0\n",
      "\n",
      "compiler   : GCC 4.2.1 Compatible Apple LLVM 9.0.0 (clang-900.0.39.2)\n",
      "system     : Darwin\n",
      "release    : 17.5.0\n",
      "machine    : x86_64\n",
      "processor  : i386\n",
      "CPU cores  : 4\n",
      "interpreter: 64bit\n"
     ]
    }
   ],
   "source": [
    "%load_ext watermark\n",
    "%watermark"
   ]
  },
  {
   "cell_type": "code",
   "execution_count": 5,
   "metadata": {
    "ExecuteTime": {
     "end_time": "2018-06-13T11:09:46.081856Z",
     "start_time": "2018-06-13T11:09:44.569705Z"
    }
   },
   "outputs": [
    {
     "data": {
      "application/json": {
       "Software versions": [
        {
         "module": "Python",
         "version": "3.6.5 64bit [GCC 4.2.1 Compatible Apple LLVM 9.0.0 (clang-900.0.39.2)]"
        },
        {
         "module": "IPython",
         "version": "6.4.0"
        },
        {
         "module": "OS",
         "version": "Darwin 17.5.0 x86_64 i386 64bit"
        },
        {
         "module": "numpy",
         "version": "1.14.4"
        },
        {
         "module": "hashlib",
         "version": "The 'hashlib' distribution was not found and is required by the application"
        }
       ]
      },
      "text/html": [
       "<table><tr><th>Software</th><th>Version</th></tr><tr><td>Python</td><td>3.6.5 64bit [GCC 4.2.1 Compatible Apple LLVM 9.0.0 (clang-900.0.39.2)]</td></tr><tr><td>IPython</td><td>6.4.0</td></tr><tr><td>OS</td><td>Darwin 17.5.0 x86_64 i386 64bit</td></tr><tr><td>numpy</td><td>1.14.4</td></tr><tr><td>hashlib</td><td>The 'hashlib' distribution was not found and is required by the application</td></tr><tr><td colspan='2'>Wed Jun 13 13:09:46 2018 CEST</td></tr></table>"
      ],
      "text/latex": [
       "\\begin{tabular}{|l|l|}\\hline\n",
       "{\\bf Software} & {\\bf Version} \\\\ \\hline\\hline\n",
       "Python & 3.6.5 64bit [GCC 4.2.1 Compatible Apple LLVM 9.0.0 (clang-900.0.39.2)] \\\\ \\hline\n",
       "IPython & 6.4.0 \\\\ \\hline\n",
       "OS & Darwin 17.5.0 x86\\_64 i386 64bit \\\\ \\hline\n",
       "numpy & 1.14.4 \\\\ \\hline\n",
       "hashlib & The 'hashlib' distribution was not found and is required by the application \\\\ \\hline\n",
       "\\hline \\multicolumn{2}{|l|}{Wed Jun 13 13:09:46 2018 CEST} \\\\ \\hline\n",
       "\\end{tabular}\n"
      ],
      "text/plain": [
       "Software versions\n",
       "Python 3.6.5 64bit [GCC 4.2.1 Compatible Apple LLVM 9.0.0 (clang-900.0.39.2)]\n",
       "IPython 6.4.0\n",
       "OS Darwin 17.5.0 x86_64 i386 64bit\n",
       "numpy 1.14.4\n",
       "hashlib The 'hashlib' distribution was not found and is required by the application\n",
       "Wed Jun 13 13:09:46 2018 CEST"
      ]
     },
     "execution_count": 5,
     "metadata": {},
     "output_type": "execute_result"
    }
   ],
   "source": [
    "%load_ext version_information\n",
    "%version_information numpy, hashlib"
   ]
  }
 ],
 "metadata": {
  "kernelspec": {
   "display_name": "Python 3",
   "language": "python",
   "name": "python3"
  },
  "language_info": {
   "codemirror_mode": {
    "name": "ipython",
    "version": 3
   },
   "file_extension": ".py",
   "mimetype": "text/x-python",
   "name": "python",
   "nbconvert_exporter": "python",
   "pygments_lexer": "ipython3",
   "version": "3.6.5"
  },
  "toc": {
   "base_numbering": 1,
   "nav_menu": {},
   "number_sections": true,
   "sideBar": true,
   "skip_h1_title": false,
   "title_cell": "Table of Contents",
   "title_sidebar": "Contents",
   "toc_cell": false,
   "toc_position": {},
   "toc_section_display": true,
   "toc_window_display": false
  }
 },
 "nbformat": 4,
 "nbformat_minor": 1
}
