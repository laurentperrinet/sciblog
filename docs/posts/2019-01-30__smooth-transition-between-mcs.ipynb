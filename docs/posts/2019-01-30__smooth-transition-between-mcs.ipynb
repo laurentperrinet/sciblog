{
 "cells": [
  {
   "cell_type": "markdown",
   "metadata": {},
   "source": [
    "\n",
    "A smooth transition of [MotionClouds](http://motionclouds.invibe.net/) while smoothly changing their parameters. This is to illustrate the different stimuli used in this [paper on the chracterization of speed-selectivity in the retina](https://invibe.net/LaurentPerrinet/Publications/Ravello19) available @ https://www.nature.com/articles/s41598-018-36861-8 .\n",
    "\n",
    "\n",
    "<BR>\n",
    "<center><video controls autoplay loop src=\"../files/2019-01-30_Ravello19_text.mp4\" width=61.8%/> </center>\n",
    "<BR>\n",
    "\n",
    "<!-- TEASER_END -->\n"
   ]
  },
  {
   "cell_type": "code",
   "execution_count": 1,
   "metadata": {
    "collapsed": false
   },
   "outputs": [],
   "source": [
    "#initialize\n",
    "import os\n",
    "import numpy as np\n",
    "import MotionClouds as mc\n",
    "\n",
    "B_theta = 0.\n",
    "mc.N_frame = 64\n",
    "\n",
    "fx, fy, ft = mc.get_grids(mc.N_X, mc.N_Y, mc.N_frame)\n",
    "\n",
    "mc.figpath = '../files/'\n",
    "if not(os.path.isdir(mc.figpath)): os.mkdir(mc.figpath)"
   ]
  },
  {
   "cell_type": "code",
   "execution_count": 2,
   "metadata": {},
   "outputs": [
    {
     "data": {
      "text/plain": [
       "1.0"
      ]
     },
     "execution_count": 2,
     "metadata": {},
     "output_type": "execute_result"
    }
   ],
   "source": [
    "mc.V_X"
   ]
  },
  {
   "cell_type": "code",
   "execution_count": 3,
   "metadata": {
    "collapsed": false
   },
   "outputs": [
    {
     "data": {
      "text/html": [
       "\n",
       "            <center><table border=none width=100% height=100%>\n",
       "            <tr> <td width=100%><center><video  loop=\"1\" autoplay=\"1\" controls  src=\"../files/../files/2019-01-30_Ravello19.mp4\" type=\"video/mp4\"  width=100%\\>\n",
       "            </td></tr></table></center>"
      ],
      "text/plain": [
       "<IPython.core.display.HTML object>"
      ]
     },
     "metadata": {},
     "output_type": "display_data"
    }
   ],
   "source": [
    "name = '2019-01-30_Ravello19'\n",
    "vext = '.mp4'\n",
    "name_ = os.path.join(mc.figpath, name)\n",
    "\n",
    "seed = 123456\n",
    "B_sfs = [0., 0.025, 0.1] \n",
    "\n",
    "im = np.empty(shape=(mc.N_X, mc.N_Y, 0))\n",
    "for B_sf in B_sfs:\n",
    "    if B_sf==0: # Grating\n",
    "        im_new = np.sin(2*np.pi*(mc.sf_0*mc.N_X*(fx - .25*ft/mc.V_X)))\n",
    "    else: # Motion Cloud\n",
    "        im_new = mc.random_cloud(mc.envelope_gabor(fx, fy, ft, B_sf=B_sf, B_theta=B_theta), seed=seed)\n",
    "    im_new = mc.rectif(im_new, method='energy')\n",
    "    im = np.concatenate((im, im_new), axis=-1)\n",
    "\n",
    "im = mc.rectif(im)\n",
    "\n",
    "mc.anim_save(im, name_, vext=vext)\n",
    "mc.in_show_video(name_, figpath=mc.figpath, vext=vext)"
   ]
  },
  {
   "cell_type": "markdown",
   "metadata": {},
   "source": [
    "Annotating the movie:"
   ]
  },
  {
   "cell_type": "code",
   "execution_count": 4,
   "metadata": {},
   "outputs": [
    {
     "name": "stdout",
     "output_type": "stream",
     "text": [
      "pygame 1.9.4\n",
      "Hello from the pygame community. https://www.pygame.org/contribute.html\n"
     ]
    },
    {
     "name": "stderr",
     "output_type": "stream",
     "text": [
      "t:   1%|          | 3/576 [00:00<00:21, 26.41it/s, now=None]"
     ]
    },
    {
     "name": "stdout",
     "output_type": "stream",
     "text": [
      "Moviepy - Building video ../files/2019-01-30_Ravello19_text.mp4.\n",
      "Moviepy - Writing video ../files/2019-01-30_Ravello19_text.mp4\n",
      "\n"
     ]
    },
    {
     "name": "stderr",
     "output_type": "stream",
     "text": []
    },
    {
     "name": "stdout",
     "output_type": "stream",
     "text": [
      "Moviepy - Done !\n",
      "Moviepy - video ready ../files/2019-01-30_Ravello19_text.mp4\n"
     ]
    }
   ],
   "source": [
    "from moviepy.editor import VideoFileClip, TextClip, CompositeVideoClip\n",
    "\n",
    "clip = [VideoFileClip(name_ + vext)]\n",
    "\n",
    "t = 0\n",
    "texts = [\"Grating\", \"MC Narrow\", \"MC Broad\"]\n",
    "colors = ['blue', 'green', 'orange']\n",
    "for text, color in zip(texts, colors):\n",
    "    # Generate a text clip. You can customize the font, color, etc.\n",
    "    txt_clip = TextClip(text, fontsize=30, font=\"Amiri-Bold\", color=color)\n",
    "    # Say that you want it to appear 10s at the center of the screen\n",
    "    txt_clip = txt_clip.set_start(t).set_pos('center').set_duration(1)\n",
    "    t += clip[0].duration/len(texts)\n",
    "    clip.append(txt_clip)\n",
    "\n",
    "# Overlay the text clip on the first video clip\n",
    "video = CompositeVideoClip(clip)\n",
    "\n",
    "# Write the result to a file (many options available !)\n",
    "video.write_videofile(name_ + '_text' + vext)"
   ]
  },
  {
   "cell_type": "markdown",
   "metadata": {},
   "source": [
    "## some book keeping for the notebook"
   ]
  },
  {
   "cell_type": "code",
   "execution_count": 5,
   "metadata": {
    "ExecuteTime": {
     "end_time": "2018-11-07T16:19:23.177738Z",
     "start_time": "2018-11-07T16:19:23.125993Z"
    }
   },
   "outputs": [
    {
     "data": {
      "application/json": {
       "Software versions": [
        {
         "module": "Python",
         "version": "3.7.2 64bit [Clang 10.0.0 (clang-1000.11.45.5)]"
        },
        {
         "module": "IPython",
         "version": "7.2.0"
        },
        {
         "module": "OS",
         "version": "Darwin 18.2.0 x86_64 i386 64bit"
        },
        {
         "module": "numpy",
         "version": "1.16.0"
        },
        {
         "module": "scipy",
         "version": "1.2.0"
        },
        {
         "module": "matplotlib",
         "version": "3.0.2"
        },
        {
         "module": "MotionClouds",
         "version": "20180606"
        }
       ]
      },
      "text/html": [
       "<table><tr><th>Software</th><th>Version</th></tr><tr><td>Python</td><td>3.7.2 64bit [Clang 10.0.0 (clang-1000.11.45.5)]</td></tr><tr><td>IPython</td><td>7.2.0</td></tr><tr><td>OS</td><td>Darwin 18.2.0 x86_64 i386 64bit</td></tr><tr><td>numpy</td><td>1.16.0</td></tr><tr><td>scipy</td><td>1.2.0</td></tr><tr><td>matplotlib</td><td>3.0.2</td></tr><tr><td>MotionClouds</td><td>20180606</td></tr><tr><td colspan='2'>Thu Jan 31 11:56:24 2019 CET</td></tr></table>"
      ],
      "text/latex": [
       "\\begin{tabular}{|l|l|}\\hline\n",
       "{\\bf Software} & {\\bf Version} \\\\ \\hline\\hline\n",
       "Python & 3.7.2 64bit [Clang 10.0.0 (clang-1000.11.45.5)] \\\\ \\hline\n",
       "IPython & 7.2.0 \\\\ \\hline\n",
       "OS & Darwin 18.2.0 x86\\_64 i386 64bit \\\\ \\hline\n",
       "numpy & 1.16.0 \\\\ \\hline\n",
       "scipy & 1.2.0 \\\\ \\hline\n",
       "matplotlib & 3.0.2 \\\\ \\hline\n",
       "MotionClouds & 20180606 \\\\ \\hline\n",
       "\\hline \\multicolumn{2}{|l|}{Thu Jan 31 11:56:24 2019 CET} \\\\ \\hline\n",
       "\\end{tabular}\n"
      ],
      "text/plain": [
       "Software versions\n",
       "Python 3.7.2 64bit [Clang 10.0.0 (clang-1000.11.45.5)]\n",
       "IPython 7.2.0\n",
       "OS Darwin 18.2.0 x86_64 i386 64bit\n",
       "numpy 1.16.0\n",
       "scipy 1.2.0\n",
       "matplotlib 3.0.2\n",
       "MotionClouds 20180606\n",
       "Thu Jan 31 11:56:24 2019 CET"
      ]
     },
     "execution_count": 5,
     "metadata": {},
     "output_type": "execute_result"
    }
   ],
   "source": [
    "%load_ext version_information\n",
    "%version_information numpy, scipy, matplotlib, MotionClouds"
   ]
  }
 ],
 "metadata": {
  "kernelspec": {
   "display_name": "Python 3",
   "language": "python",
   "name": "python3"
  },
  "language_info": {
   "codemirror_mode": {
    "name": "ipython",
    "version": 3
   },
   "file_extension": ".py",
   "mimetype": "text/x-python",
   "name": "python",
   "nbconvert_exporter": "python",
   "pygments_lexer": "ipython3",
   "version": "3.7.2"
  }
 },
 "nbformat": 4,
 "nbformat_minor": 2
}
