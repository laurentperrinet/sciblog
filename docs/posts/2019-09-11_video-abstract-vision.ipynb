{
 "cells": [
  {
   "cell_type": "markdown",
   "metadata": {},
   "source": [
    "\n",
    "This video shows the results of unsupervised learning with different type of kezrnel normalization. This is to illustrate the results obtained in this [paper on the An Adaptive Homeostatic Algorithm for the Unsupervised Learning of Visual Features](https://laurentperrinet.github.io/publication/perrinet-19) which is now in press.\n",
    "\n",
    "\n",
    "<BR>\n",
    "<center><video controls autoplay loop src=\"../files/2019-09-11_Perrinet19.mp4\" width=61.8%/> </center>\n",
    "<BR>\n",
    "\n",
    "<!-- TEASER_END -->\n"
   ]
  },
  {
   "cell_type": "code",
   "execution_count": 1,
   "metadata": {},
   "outputs": [],
   "source": [
    "%matplotlib inline"
   ]
  },
  {
   "cell_type": "code",
   "execution_count": 2,
   "metadata": {},
   "outputs": [],
   "source": [
    "%ls -ltr /tmp/cache_dir"
   ]
  },
  {
   "cell_type": "code",
   "execution_count": 3,
   "metadata": {},
   "outputs": [
    {
     "name": "stdout",
     "output_type": "stream",
     "text": [
      "ls: /tmp/2019-09-11*: No such file or directory\n"
     ]
    }
   ],
   "source": [
    "%ls -ltr /tmp/2019-09-11*\n"
   ]
  },
  {
   "cell_type": "code",
   "execution_count": 4,
   "metadata": {},
   "outputs": [
    {
     "name": "stdout",
     "output_type": "stream",
     "text": [
      "rm: /tmp/cache_dir/*lock*: No such file or directory\n"
     ]
    }
   ],
   "source": [
    "%rm /tmp/cache_dir/*lock* \n",
    "#%rm/tmp/2019-09-11*"
   ]
  },
  {
   "cell_type": "code",
   "execution_count": null,
   "metadata": {
    "collapsed": false,
    "jupyter": {
     "outputs_hidden": false
    }
   },
   "outputs": [
    {
     "name": "stdout",
     "output_type": "stream",
     "text": [
      "=> homeo_method=None\n",
      "==> i_iter=0 / n_iter=2\n"
     ]
    }
   ],
   "source": [
    "#initialize\n",
    "import os\n",
    "import numpy as np\n",
    "np.set_printoptions(precision=2, suppress=True)\n",
    "seed = 42\n",
    "np.random.seed(seed)\n",
    "\n",
    "from shl_scripts.shl_experiments import SHL\n",
    "#from shl_scripts import sparse_encode\n",
    "name = '2019-09-11_Perrinet19'\n",
    "\n",
    "datapath = '/tmp/database'\n",
    "opts = dict(datapath=datapath, verbose=0, cache_dir='/tmp/cache_dir', n_iter=2**5 + 1, seed=seed)\n",
    "shl = SHL(**opts)\n",
    "data = shl.get_data(matname=f'{name}_data')\n",
    "\n",
    "# running main simulations\n",
    "# Figure 1 & 3\n",
    "N_cv = 1\n",
    "homeo_methods = ['None', 'OLS', 'HEH', 'HAP']\n",
    "colors = ['black', 'orange', 'blue', 'red']\n",
    "\n",
    "n_jobs = 1\n",
    "N_step = 12\n",
    "phi = (np.sqrt(5) + 1. ) /2\n",
    "base_iter = phi\n",
    "\n",
    "fig_width = 15\n",
    "dpi_export = 300\n",
    "\n",
    "\n",
    "import matplotlib.pyplot as plt\n",
    "def plot_dico(dico, color, dim_graph = (8, 8)):\n",
    "    subplotpars = dict(left=0.05, right=.95, bottom=0.05, top=.95, wspace=0.05, hspace=0.05,)\n",
    "    fig, axs = plt.subplots(1, 2, figsize=(fig_width, fig_width/(1+phi)), gridspec_kw=subplotpars)\n",
    "    for ax in axs:\n",
    "        ax.axis(c='b', lw=2, axisbg='w')\n",
    "        ax.set_facecolor('w')\n",
    "        \n",
    "    from shl_scripts import show_dico\n",
    "    fig, axs[0] = show_dico(shl, dico, data=data, dim_graph=dim_graph, fig=fig, ax=axs[0], order=False)\n",
    "    \n",
    "    if False:\n",
    "        from shl_scripts import plot_P_cum\n",
    "        fig, axs[1] = plot_P_cum(dico.P_cum, ymin=0.6, ymax=1.001, \n",
    "                             title=None, suptitle=None, ylabel='non-linear functions', \n",
    "                             verbose=False, n_yticks=21, alpha=.02, c=color, fig=fig, ax=axs[1])\n",
    "        axs[1].plot([0], [0], lw=1, color=color, label=homeo_method, alpha=.6)\n",
    "    \n",
    "    else:\n",
    "        from shl_scripts import plot_proba_histogram\n",
    "        coding = shl.code(data, dico)\n",
    "        fig, axs[1] = plot_proba_histogram(coding, fig=fig, ax=axs[1])\n",
    "        axs[1].plot([0], [0], lw=1, color=color, label=homeo_method, alpha=.6)\n",
    "    # ax.set_ylabel(homeo_method)\n",
    "\n",
    "    #ax.text(-8, 7*dim_graph[0], homeo_method, fontsize=12, color='k', rotation=90)#, backgroundcolor='white'\n",
    "    #axs[1].legend(loc='lower right')\n",
    "    return fig, axs\n",
    "    \n",
    "    \n",
    "from shl_scripts.shl_experiments import SHL_set\n",
    "for homeo_method, color in zip(homeo_methods, colors):\n",
    "    print(f'=> homeo_method={homeo_method}')\n",
    "    for i_step in range(N_step):\n",
    "        \n",
    "        opts_ = opts.copy()\n",
    "        n_iter = int(base_iter**i_step + 1)\n",
    "        if i_step>0:\n",
    "            d_iter = int(base_iter**i_step - base_iter**(i_step-1))\n",
    "        else:\n",
    "            d_iter = 1\n",
    "        print(f'==> i_iter={i_step} / n_iter={n_iter}')\n",
    "        opts_.update(homeo_method=homeo_method, n_iter=d_iter,)\n",
    "\n",
    "        shl = SHL(**opts)\n",
    "        if i_step==0:\n",
    "            dictionary = None\n",
    "        else:\n",
    "            dictionary = shl.learn_dico(data=data, matname=f'{name}_{homeo_method}_{i_step-1}', list_figures=[]).dictionary\n",
    "            \n",
    "        dico = shl.learn_dico(data=data, dictionary=dictionary, matname=f'{name}_{homeo_method}_{i_step}', list_figures=[])\n",
    "            \n",
    "\n",
    "        figname = f'/tmp/{name}_{homeo_method}_{i_step}.png'\n",
    "        if os.path.isfile(figname):\n",
    "            fig, axs = plot_dico(dico, color)\n",
    "            axs[1].text(.1, .9, f'homeo_method={homeo_method}', fontsize=24, color=color, rotation=0)#, backgroundcolor='white'\n",
    "            axs[1].text(.7, .65, f'n_iter={n_iter}', fontsize=24, color='k', rotation=0)#, backgroundcolor='white'\n",
    "            plt.show()\n",
    "            fig.savefig(figname, dpi=dpi_export, bbox_inches='tight')\n"
   ]
  },
  {
   "cell_type": "raw",
   "metadata": {
    "jupyter": {
     "outputs_hidden": false
    }
   },
   "source": [
    "#initialize\n",
    "from shl_scripts.shl_experiments import SHL\n",
    "name = '2019-09-11_Perrinet19'\n",
    "\n",
    "datapath = '/tmp/database'\n",
    "opts = dict(datapath=datapath, verbose=0, cache_dir='/tmp/cache_dir', n_iter=2**5 + 1,)\n",
    "shl = SHL(**opts)\n",
    "data = shl.get_data(matname=f'{name}_data')\n",
    "\n",
    "# running main simulations\n",
    "# Figure 1 & 3\n",
    "N_cv = 1\n",
    "homeo_methods = ['HAP']\n",
    "colors = ['black', 'orange', 'blue', 'red']\n",
    "\n",
    "seed = 42\n",
    "n_jobs = 1\n",
    "\n",
    "\n",
    "import numpy as np\n",
    "np.set_printoptions(precision=2, suppress=True)\n",
    "np.random.seed(seed)\n",
    "\n",
    "    \n",
    "from shl_scripts.shl_experiments import SHL_set\n",
    "for homeo_method, color in zip(homeo_methods, colors):\n",
    "    print(f'=> homeo_method={homeo_method}')\n",
    "    for i_step in range(7):\n",
    "        opts_ = opts.copy()\n",
    "        n_iter = 2**i_step + 1\n",
    "        if i_step>0:\n",
    "            d_iter = 2**i_step - 2**(i_step-1)\n",
    "        else:\n",
    "            d_iter = 1\n",
    "        print(f'==> i_iter={i_step} / n_iter={n_iter}')\n",
    "        opts_.update(homeo_method=homeo_method, n_iter=d_iter,)\n",
    "\n",
    "        shl = SHL(**opts)\n",
    "        if i_step==0:\n",
    "            dictionary = None\n",
    "        else:\n",
    "            dictionary = shl.learn_dico(data=data, matname=f'{name}_{homeo_method}_{i_step-1}', list_figures=[]).dictionary\n",
    "            \n",
    "        dico = shl.learn_dico(data=data, dictionary=dictionary, matname=f'{name}_{homeo_method}_{i_step}', list_figures=[])\n",
    "            \n",
    "\n"
   ]
  },
  {
   "cell_type": "markdown",
   "metadata": {},
   "source": [
    "Creating the movie using the (excellent) [MoviePy](http://zulko.github.io/moviepy/index.html) library:"
   ]
  },
  {
   "cell_type": "code",
   "execution_count": null,
   "metadata": {
    "collapsed": false,
    "jupyter": {
     "outputs_hidden": false
    }
   },
   "outputs": [],
   "source": [
    "vext = 'mp4'\n",
    "\n",
    "from moviepy.editor import ImageSequenceClip\n",
    "\n",
    "for homeo_method in homeo_methods:\n",
    "    clip = ImageSequenceClip([f'/tmp/{name}_{homeo_method}_{i_step}.png' for i_step in range(N_step)], fps=1)\n",
    "    clip.write_videofile(f'/tmp/{name}_{homeo_method}.{vext}')\n"
   ]
  },
  {
   "cell_type": "markdown",
   "metadata": {},
   "source": [
    "Annotating the movie using the (excellent) [MoviePy](http://zulko.github.io/moviepy/index.html) library:"
   ]
  },
  {
   "cell_type": "code",
   "execution_count": null,
   "metadata": {},
   "outputs": [],
   "source": [
    "from moviepy.editor import ImageClip, TextClip, CompositeVideoClip\n",
    "\n",
    "clip = []\n",
    "t = 0 \n",
    "texts = [\"An Adaptive Homeostatic Algorithm\\n for the Unsupervised Learning\\n of Visual Features\",\n",
    "    \"https://laurentperrinet.github.io/publication/perrinet-19\"]\n",
    "for text, color in zip(texts, colors):\n",
    "    txt_clip = TextClip(text, color=color, **txt_opts)\n",
    "    txt_clip = txt_clip.set_start(t).set_pos('center').set_duration(3)\n",
    "    clip.append(txt_clip)\n",
    "    \n",
    "texts = [\"No homeostasis\", \"Olshausen (1997)\", \"Histogram Equalization\", \"Activation Probability\"]\n",
    "subtitles = {}\n",
    "subtitles['None'] = [\n",
    "    'I show here the result of learning...',\n",
    "    '... evolving with the number of iterations  ...',\n",
    "    '... on the left the receptive fields (kernels) ...',\n",
    "    '... by showing 64 randomly picked from the 661 cells ...',\n",
    "    '... and on the right histogram of activation probability.',\n",
    "    '... After some iterations, edge-like filters appear ...',\n",
    "    '... but the histogram shows a desequilibrium in the ...',\n",
    "    '... activation probability, even though  ...',\n",
    "    '... the norm of the kerenals are normalized.',\n",
    "]\n",
    "subtitles['OLS'] = [\n",
    "    'The original homeostasis algorithm developped ...',\n",
    "    '... by Olshausen and Field (1997) included a more  ...',\n",
    "    '... elaborated adaptation based on the variance of ...',\n",
    "    '... the coefficients, yielding a better balance...',\n",
    "    '...  ...',\n",
    "    'Still, this causes an under-optimisation of the ... ',\n",
    "    '... sparse code as some are a priori ...',\n",
    "    '... more likely to be selected than ...',\n",
    "    '... others ...',\n",
    "]\n",
    "subtitles['HEH'] = [\n",
    "    'Such an objective can be simply optimzed...',\n",
    "    '... by introducing an adaptive non-linearity in our ...',\n",
    "    '... sparse coding algorithm. This non-linearity  ...',\n",
    "    '... is based on the concept of histogram normalization ...',\n",
    "    '... to make sure that all neurons are always picked up.',\n",
    "    '...  with a priori the same probability ...',\n",
    "    '... We called this Histogram Equalization Homeostasis ...',\n",
    "    '... and it effectively works very well, as well ...',\n",
    "    '... qualitatively (left) than quantitatively (right).',\n",
    "]\n",
    "subtitles['HAP'] = [\n",
    "    'A problem of Histogram Equalization Homeostasis ...',\n",
    "    '... is that it is computationally more expensive  ...',\n",
    "    '... and less plausible to be implemented in real ...',\n",
    "    '...  biological neurons. We thus explored another...',\n",
    "    '... algorithm simply based on the activation probability.',\n",
    "    'This Homeostasis on the Activation Probability  ... ',\n",
    "    '... performed qualitatively as well as HEH ...',\n",
    "    '... and also quantitatively similarly ...',\n",
    "    'Yet it comes at a very low cost compatible with biomimetic algorithms',\n",
    "]\n",
    "txt_opts = dict(fontsize=50, font=\"Amiri-Bold\", stroke_color='gray', stroke_width=.5)\n",
    "\n",
    "for homeo_method, text, color in zip(homeo_methods, texts, colors):\n",
    "    print(f'=> homeo_method={homeo_method}')\n",
    "    txt_clip = TextClip(text, color=color, **txt_opts)\n",
    "    txt_clip = txt_clip.set_start(t).set_pos('center').set_duration(1)\n",
    "    clip.append(txt_clip)\n",
    "    \n",
    "    #clip = [VideoFileClip(f'{name}_{homeo_method}.{vext}')]\n",
    "    \n",
    "    for i_step in range(N_step):\n",
    "        im_clip = ImageClip(f'/tmp/{name}_{homeo_method}_{i_step}.png')\n",
    "        clip.append(im_clip)\n",
    "\n",
    "\n",
    "# Overlay the text clip on the first video clip\n",
    "video = CompositeVideoClip(clip)\n",
    "\n",
    "# Write the result to a file (many options available !)\n",
    "video.write_videofile(f'{name}.{vext}')"
   ]
  },
  {
   "cell_type": "markdown",
   "metadata": {},
   "source": [
    "## some book keeping for the notebook"
   ]
  },
  {
   "cell_type": "markdown",
   "metadata": {},
   "source": [
    "\n",
    "<BR>\n",
    "<center><video controls autoplay loop src=\"../files/2019-09-11_Perrinet19.mp4\" width=61.8%/> </center>\n",
    "<BR>\n"
   ]
  },
  {
   "cell_type": "code",
   "execution_count": null,
   "metadata": {
    "ExecuteTime": {
     "end_time": "2018-11-07T16:19:23.177738Z",
     "start_time": "2018-11-07T16:19:23.125993Z"
    }
   },
   "outputs": [],
   "source": [
    "%load_ext version_information\n",
    "%version_information numpy, scipy, matplotlib, MotionClouds"
   ]
  }
 ],
 "metadata": {
  "kernelspec": {
   "display_name": "Python 3",
   "language": "python",
   "name": "python3"
  },
  "language_info": {
   "codemirror_mode": {
    "name": "ipython",
    "version": 3
   },
   "file_extension": ".py",
   "mimetype": "text/x-python",
   "name": "python",
   "nbconvert_exporter": "python",
   "pygments_lexer": "ipython3",
   "version": "3.7.4"
  }
 },
 "nbformat": 4,
 "nbformat_minor": 4
}
