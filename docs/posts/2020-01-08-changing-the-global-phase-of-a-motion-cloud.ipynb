{
 "cells": [
  {
   "cell_type": "markdown",
   "metadata": {},
   "source": [
    "[Motion Clouds](https://neuralensemble.github.io/MotionClouds) were defined in the origin to define parameterized moving textures. In [that other post](https://laurentperrinet.github.io/sciblog/posts/2016-07-14_static-motion-clouds.html), we defined a simple code to generate static images using a simple code. Can we generate a series of images while chanigning the phase *globally*?\n",
    "\n",
    "![2020-01-08-MC_phase](../files/2020-01-08-MC_phase.gif)\n",
    "\n",
    "<!-- TEASER_END -->\n",
    "\n",
    "There are multiple solutions, and the simplest is perhaps to generate a movie that does not move. This means that the mean velocity $(V_X, V_Y)$ is null $=(0, 0)$ but also that there is no noise in the definition of the speed plane. This is defined by $B_V=0$, that is, that all the energy is concentrated on the spped plane:"
   ]
  },
  {
   "cell_type": "code",
   "execution_count": 1,
   "metadata": {},
   "outputs": [
    {
     "name": "stdout",
     "output_type": "stream",
     "text": [
      "(256, 256, 1)\n"
     ]
    }
   ],
   "source": [
    "import MotionClouds as mc\n",
    "mc.N_frame, seed = 1, 42\n",
    "fx, fy, ft = mc.get_grids(mc.N_X, mc.N_Y, mc.N_frame)\n",
    "name = 'phase'\n",
    "env = mc.envelope_gabor(fx, fy, ft, V_X=0., V_Y=0., B_V=0)\n",
    "z = mc.rectif(mc.random_cloud(env, seed=seed))\n",
    "print(z.shape)\n",
    "z = z.reshape((mc.N_X, mc.N_Y))"
   ]
  },
  {
   "cell_type": "code",
   "execution_count": null,
   "metadata": {
    "collapsed": false,
    "jupyter": {
     "outputs_hidden": false
    }
   },
   "outputs": [],
   "source": [
    "import matplotlib.pyplot as plt\n",
    "%matplotlib inline\n",
    "fig, ax = plt.subplots(figsize=(10,10))\n",
    "_ = ax.imshow(z.T, cmap=plt.gray())"
   ]
  },
  {
   "cell_type": "markdown",
   "metadata": {},
   "source": [
    "The function generating the texture takes an envelope and multiplies it with a random phase matrix to generate the image:"
   ]
  },
  {
   "cell_type": "code",
   "execution_count": null,
   "metadata": {},
   "outputs": [],
   "source": [
    "help(mc.random_cloud)"
   ]
  },
  {
   "cell_type": "markdown",
   "metadata": {},
   "source": [
    "To globally change the phase of the gabors in the texture, a \"trick\" is to multiply this envelope by a rotation in the complew plane (that is, by multiplying by $\\exp(i\\cdot\\phi)$), *globally* on all points of the Fourier space, and keep the same seed:"
   ]
  },
  {
   "cell_type": "code",
   "execution_count": null,
   "metadata": {
    "collapsed": false,
    "jupyter": {
     "outputs_hidden": false
    }
   },
   "outputs": [],
   "source": [
    "N_phase = 4\n",
    "fig_width = 21\n",
    "import numpy as np\n",
    "\n",
    "fig, axs = plt.subplots(1, N_phase, figsize=(fig_width, fig_width/N_phase))\n",
    "for i_ax, phase in enumerate(np.linspace(0, 2*np.pi, N_phase, endpoint=False)):\n",
    "    im = mc.rectif(mc.random_cloud(env*np.exp(1j * phase), seed=seed))\n",
    "\n",
    "    axs[i_ax].imshow(im[:, :, 0], cmap=plt.gray())\n",
    "    axs[i_ax].text(5, 29, r'$\\phi=%.1f$°' % (phase*180/np.pi), color='white', fontsize=32)\n",
    "    axs[i_ax].set_xticks([])\n",
    "    axs[i_ax].set_yticks([])\n",
    "#plt.tight_layout()\n",
    "fig.subplots_adjust(hspace = .0, wspace = .0, left=0.0, bottom=0., right=1., top=1.)\n",
    "\n",
    "#import os\n",
    "#fig.savefig(os.path.join('../figs', 'orientation_tuning.png'))"
   ]
  },
  {
   "cell_type": "markdown",
   "metadata": {},
   "source": [
    "now trying to generate an animation:"
   ]
  },
  {
   "cell_type": "code",
   "execution_count": null,
   "metadata": {},
   "outputs": [],
   "source": [
    "import imageio\n",
    "from pygifsicle import optimize\n",
    "N_phase = 32\n",
    "fig_width = 12\n",
    "fps, dpi = 8, (128, 128)\n",
    "\n",
    "fig, ax = plt.subplots(1, 1, figsize=(fig_width, fig_width))\n",
    "template = \"/tmp/MCphase_{}.png\"\n",
    "for i_phase, phase in enumerate(np.linspace(0, 2*np.pi, N_phase, endpoint=False)):\n",
    "    im = (mc.rectif(mc.random_cloud(env*np.exp(1j * phase), seed=seed))*255).astype(np.uint8)\n",
    "    imageio.imsave(f\"/tmp/MCphase_{i_phase}.png\", im, dpi=dpi)\n",
    "\n",
    "gifname = '../files/2020-01-08-MC_phase.gif'\n",
    "with imageio.get_writer(gifname, mode='I', fps=fps) as writer:\n",
    "    for i_phase in range(N_phase):\n",
    "        writer.append_data(imageio.imread(f\"/tmp/MCphase_{i_phase}.png\"))\n",
    "optimize(str(gifname))\n",
    "from IPython.display import Image\n",
    "Image(gifname, width=2000)"
   ]
  },
  {
   "cell_type": "markdown",
   "metadata": {},
   "source": [
    "## some book keeping for the notebook"
   ]
  },
  {
   "cell_type": "code",
   "execution_count": null,
   "metadata": {},
   "outputs": [],
   "source": [
    "%load_ext watermark\n",
    "%watermark"
   ]
  },
  {
   "cell_type": "code",
   "execution_count": null,
   "metadata": {},
   "outputs": [],
   "source": [
    "%load_ext version_information\n",
    "%version_information numpy, scipy, matplotlib, sympy, pillow, imageio"
   ]
  },
  {
   "cell_type": "code",
   "execution_count": null,
   "metadata": {},
   "outputs": [],
   "source": [
    "%%bash\n",
    "cd ..\n",
    "nikola build ; nikola deploy\n",
    "cd posts"
   ]
  }
 ],
 "metadata": {
  "kernelspec": {
   "display_name": "Python 3",
   "language": "python",
   "name": "python3"
  },
  "language_info": {
   "codemirror_mode": {
    "name": "ipython",
    "version": 3
   },
   "file_extension": ".py",
   "mimetype": "text/x-python",
   "name": "python",
   "nbconvert_exporter": "python",
   "pygments_lexer": "ipython3",
   "version": "3.7.6"
  },
  "toc": {
   "base_numbering": 1,
   "nav_menu": {},
   "number_sections": true,
   "sideBar": true,
   "skip_h1_title": false,
   "title_cell": "Table of Contents",
   "title_sidebar": "Contents",
   "toc_cell": false,
   "toc_position": {},
   "toc_section_display": true,
   "toc_window_display": false
  }
 },
 "nbformat": 4,
 "nbformat_minor": 4
}
