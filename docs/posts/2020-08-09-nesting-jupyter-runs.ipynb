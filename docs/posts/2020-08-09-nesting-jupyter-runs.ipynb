{
 "cells": [
  {
   "cell_type": "markdown",
   "metadata": {},
   "source": [
    "[Jupyter notebooks](https://jupyter.org/) are a great way of sharing knowledge in science, art, programming. \n",
    "For instance, in a recent musing, I tried to programmatically determine the [color of the sky](https://laurentperrinet.github.io/sciblog/posts/2020-07-04-colors-of-the-sky.html). This renders as a web page, but is also a piece of [runnable code](https://laurentperrinet.github.io/sciblog/posts/2020-07-04-colors-of-the-sky.ipynb).\n",
    "\n",
    "As such, they are also great ways to store the knowledge that was acquired at a given time and that could be reusable. This may be considered as bad programming and may have downsides\n",
    "\n",
    "[![Joel Grus](https://revolution-computing.typepad.com/.a/6a010534b1db25970b022ad3b0836c200b-800wi)](https://docs.google.com/presentation/d/1n2RlMdmv1p25Xy5thJUhkKGvjtV-dkAIsUXP-AL4ffI/edit#slide=id.g362da58057_0_1)\n",
    "\n",
    "Recently, thanks to an answer to a [stack overflow question](https://stackoverflow.com/questions/48067529/ipython-run-magic-n-switch-not-working),  I found a way to overcome this by detecting if the caall to a notebook is made from the notebook itself or from a parent.\n",
    "\n",
    "\n",
    "<!-- TEASER_END -->\n",
    "\n",
    "It's as simple as this cell:"
   ]
  },
  {
   "cell_type": "code",
   "execution_count": 4,
   "metadata": {},
   "outputs": [
    {
     "name": "stdout",
     "output_type": "stream",
     "text": [
      "__name__= __main__ \n",
      "Am I a running this notebook directly?  True\n"
     ]
    }
   ],
   "source": [
    "#verb =  (__name__ == \"__main__\")\n",
    "def has_parent():\n",
    "    \"\"\"\n",
    "    https://stackoverflow.com/questions/48067529/ipython-run-magic-n-switch-not-working\n",
    "    \n",
    "    Return True if this notebook is being run by calling\n",
    "    %run in another notebook, False otherwise.\n",
    "    \"\"\"\n",
    "    try:\n",
    "        __file__\n",
    "        # __file__ has been defined, so this notebook is \n",
    "        # being run in a parent notebook\n",
    "        return True\n",
    "\n",
    "    except NameError:\n",
    "        # __file__ has not been defined, so this notebook is \n",
    "        # not being run in a parent notebook\n",
    "        return False\n",
    "def do_verb():\n",
    "    return not has_parent()\n",
    "\n",
    "verb = do_verb()\n",
    "if verb : print('__name__=', __name__, '\\nAm I a running this notebook directly? ', verb)"
   ]
  },
  {
   "cell_type": "markdown",
   "metadata": {},
   "source": [
    "## some book keeping for the notebook"
   ]
  },
  {
   "cell_type": "code",
   "execution_count": 2,
   "metadata": {},
   "outputs": [
    {
     "name": "stdout",
     "output_type": "stream",
     "text": [
      "2020-08-09T11:04:54+02:00\n",
      "\n",
      "CPython 3.8.5\n",
      "IPython 7.17.0\n",
      "\n",
      "numpy 1.19.1\n",
      "SLIP not installed\n",
      "LogGabor not installed\n",
      "SparseEdges not installed\n",
      "matplotlib 3.3.0\n",
      "scipy 1.5.2\n",
      "pillow not installed\n",
      "imageio 2.9.0\n",
      "\n",
      "compiler   : Clang 11.0.3 (clang-1103.0.32.62)\n",
      "system     : Darwin\n",
      "release    : 19.5.0\n",
      "machine    : x86_64\n",
      "processor  : i386\n",
      "CPU cores  : 4\n",
      "interpreter: 64bit\n",
      "host name  : ekla\n",
      "Git hash   : 709d46accbfe03fffd18e747a0900b51131d06bc\n",
      "Git repo   : https://github.com/laurentperrinet/sciblog.git\n",
      "Git branch : master\n"
     ]
    }
   ],
   "source": [
    "if verb:\n",
    "    %load_ext watermark\n",
    "    %watermark -i -h -m -v -p numpy,SLIP,LogGabor,SparseEdges,matplotlib,scipy,pillow,imageio  -r -g -b"
   ]
  }
 ],
 "metadata": {
  "kernelspec": {
   "display_name": "Python 3",
   "language": "python",
   "name": "python3"
  },
  "language_info": {
   "codemirror_mode": {
    "name": "ipython",
    "version": 3
   },
   "file_extension": ".py",
   "mimetype": "text/x-python",
   "name": "python",
   "nbconvert_exporter": "python",
   "pygments_lexer": "ipython3",
   "version": "3.8.5"
  },
  "toc": {
   "base_numbering": 1,
   "nav_menu": {},
   "number_sections": true,
   "sideBar": true,
   "skip_h1_title": false,
   "title_cell": "Table of Contents",
   "title_sidebar": "Contents",
   "toc_cell": false,
   "toc_position": {},
   "toc_section_display": true,
   "toc_window_display": false
  }
 },
 "nbformat": 4,
 "nbformat_minor": 4
}
