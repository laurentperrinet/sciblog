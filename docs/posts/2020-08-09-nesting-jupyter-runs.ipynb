{
 "cells": [
  {
   "cell_type": "markdown",
   "metadata": {},
   "source": [
    "[Jupyter notebooks](https://jupyter.org/) are a great way of sharing knowledge in science, art, programming. \n",
    "For instance, in a recent musing, I tried to programmatically determine the [color of the sky](https://laurentperrinet.github.io/sciblog/posts/2020-07-04-colors-of-the-sky.html). This renders as a web page, but is also a piece of [runnable code](https://laurentperrinet.github.io/sciblog/posts/2020-07-04-colors-of-the-sky.ipynb).\n",
    "\n",
    "As such, they are also great ways to store the knowledge that was acquired at a given time and that could be reusable. This may be considered as bad programming and may have downsides as described in that [slides](https://docs.google.com/presentation/d/1n2RlMdmv1p25Xy5thJUhkKGvjtV-dkAIsUXP-AL4ffI/edit#slide=id.g362da58057_0_1) :\n",
    "\n",
    "[![Joel Grus](https://revolution-computing.typepad.com/.a/6a010534b1db25970b022ad3b0836c200b-800wi)](https://docs.google.com/presentation/d/1n2RlMdmv1p25Xy5thJUhkKGvjtV-dkAIsUXP-AL4ffI/edit#slide=id.g362da58057_0_1)\n",
    "\n",
    "Recently, thanks to an answer to a [stack overflow question](https://stackoverflow.com/questions/48067529/ipython-run-magic-n-switch-not-working),  I found a way to overcome this by detecting if the caall to a notebook is made from the notebook itself or from a parent.\n",
    "\n",
    "\n",
    "<!-- TEASER_END -->\n",
    "\n",
    "It's as simple as this cell:"
   ]
  },
  {
   "cell_type": "code",
   "execution_count": 1,
   "metadata": {},
   "outputs": [
    {
     "name": "stdout",
     "output_type": "stream",
     "text": [
      "__name__= __main__ \n",
      "Am I a running this notebook directly?  True\n"
     ]
    }
   ],
   "source": [
    "#verb =  (__name__ == \"__main__\")\n",
    "def has_parent():\n",
    "    \"\"\"\n",
    "    https://stackoverflow.com/questions/48067529/ipython-run-magic-n-switch-not-working\n",
    "    \n",
    "    Return True if this notebook is being run by calling\n",
    "    %run in another notebook, False otherwise.\n",
    "    \"\"\"\n",
    "    try:\n",
    "        __file__\n",
    "        # __file__ has been defined, so this notebook is \n",
    "        # being run in a parent notebook\n",
    "        return True\n",
    "\n",
    "    except NameError:\n",
    "        # __file__ has not been defined, so this notebook is \n",
    "        # not being run in a parent notebook\n",
    "        return False\n",
    "def do_verb():\n",
    "    return not has_parent()\n",
    "\n",
    "verb = do_verb()\n",
    "if verb : print('__name__=', __name__, '\\nAm I a running this notebook directly? ', verb)"
   ]
  },
  {
   "cell_type": "markdown",
   "metadata": {},
   "source": [
    "Let's see what we have in the memory:"
   ]
  },
  {
   "cell_type": "code",
   "execution_count": 2,
   "metadata": {},
   "outputs": [
    {
     "name": "stdout",
     "output_type": "stream",
     "text": [
      "Variable     Type        Data/Info\n",
      "----------------------------------\n",
      "do_verb      function    <function do_verb at 0x1066ac360>\n",
      "has_parent   function    <function has_parent at 0x1066ac040>\n",
      "verb         bool        True\n"
     ]
    }
   ],
   "source": [
    "if verb:\n",
    "    %whos"
   ]
  },
  {
   "cell_type": "markdown",
   "metadata": {},
   "source": [
    "Let's run the above mentioned notebook by it from this URL:"
   ]
  },
  {
   "cell_type": "code",
   "execution_count": 3,
   "metadata": {},
   "outputs": [],
   "source": [
    "if verb:\n",
    "    %run -n 2020-07-04-colors-of-the-sky.ipynb\n",
    "    verb = do_verb()"
   ]
  },
  {
   "cell_type": "markdown",
   "metadata": {},
   "source": [
    "And now:"
   ]
  },
  {
   "cell_type": "code",
   "execution_count": 4,
   "metadata": {},
   "outputs": [
    {
     "name": "stdout",
     "output_type": "stream",
     "text": [
      "Variable         Type            Data/Info\n",
      "------------------------------------------\n",
      "CMF              ndarray         81x4: 324 elems, type `float64`, 2592 bytes\n",
      "CMF_str          str             380 0.0014 0.0000 0.0065\\<...>n780 0.0000 0.0000 0.0000\n",
      "ColourSystem     type            <class '__main__.ColourSystem'>\n",
      "bluesky          ndarray         3: 3 elems, type `float64`, 24 bytes\n",
      "chappuis         function        <function chappuis at 0x11e9b74c0>\n",
      "cs_srgb          ColourSystem    <__main__.ColourSystem object at 0x107344810>\n",
      "do_verb          function        <function do_verb at 0x1066ac040>\n",
      "fig_width        int             15\n",
      "figsize          tuple           n=2\n",
      "fontsize         int             20\n",
      "has_parent       function        <function has_parent at 0x106bdafc0>\n",
      "i                int             80\n",
      "illuminant_D65   ndarray         3: 3 elems, type `float64`, 24 bytes\n",
      "intensity5800    ndarray         81: 81 elems, type `float64`, 648 bytes\n",
      "line             str             780 0.0000 0.0000 0.0000\n",
      "np               module          <module 'numpy' from '/op<...>kages/numpy/__init__.py'>\n",
      "os               module          <module 'os' (frozen)>\n",
      "phi              float64         1.618033988749895\n",
      "planck           function        <function planck at 0x11e9b7060>\n",
      "plt              module          <module 'matplotlib.pyplo<...>es/matplotlib/pyplot.py'>\n",
      "rcParams         RcParams        _internal.classic_mode: F<...>: 0.6\\nytick.right: False\n",
      "scatter          ndarray         81: 81 elems, type `float64`, 648 bytes\n",
      "scattering       function        <function scattering at 0x11e9b7240>\n",
      "spectrum         ndarray         81: 81 elems, type `float64`, 648 bytes\n",
      "verb             bool            True\n",
      "wavelengths      ndarray         81: 81 elems, type `float64`, 648 bytes\n",
      "xyz_from_xy      function        <function xyz_from_xy at 0x11e9b7600>\n"
     ]
    }
   ],
   "source": [
    "if verb:\n",
    "    %whos"
   ]
  },
  {
   "cell_type": "markdown",
   "metadata": {},
   "source": [
    "Meaning that I can access the functions and some data from this notebook, to be used in another one."
   ]
  },
  {
   "cell_type": "code",
   "execution_count": 5,
   "metadata": {},
   "outputs": [
    {
     "name": "stdout",
     "output_type": "stream",
     "text": [
      "The color of the sky is equal to  [0.488779 0.672615 1.      ]\n"
     ]
    }
   ],
   "source": [
    "if verb:\n",
    "    print('The color of the sky is equal to ', bluesky)"
   ]
  },
  {
   "cell_type": "markdown",
   "metadata": {},
   "source": [
    "## some book keeping for the notebook"
   ]
  },
  {
   "cell_type": "code",
   "execution_count": 6,
   "metadata": {},
   "outputs": [
    {
     "name": "stdout",
     "output_type": "stream",
     "text": [
      "Python implementation: CPython\n",
      "Python version       : 3.11.6\n",
      "IPython version      : 8.17.2\n",
      "\n",
      "Compiler    : Clang 15.0.0 (clang-1500.0.40.1)\n",
      "OS          : Darwin\n",
      "Release     : 23.1.0\n",
      "Machine     : arm64\n",
      "Processor   : arm\n",
      "CPU cores   : 10\n",
      "Architecture: 64bit\n",
      "\n",
      "Hostname: obiwan.local\n",
      "\n",
      "Git hash: 3f1c25c7a1ca749e735fb886b056f7f2e665d77c\n",
      "\n",
      "Git repo: https://github.com/laurentperrinet/sciblog.git\n",
      "\n",
      "Git branch: master\n",
      "\n"
     ]
    }
   ],
   "source": [
    "if verb:\n",
    "    %load_ext watermark\n",
    "    %watermark -i -h -m -v -r -g -b\n",
    "    "
   ]
  }
 ],
 "metadata": {
  "kernelspec": {
   "display_name": "Python 3",
   "language": "python",
   "name": "python3"
  },
  "language_info": {
   "codemirror_mode": {
    "name": "ipython",
    "version": 3
   },
   "file_extension": ".py",
   "mimetype": "text/x-python",
   "name": "python",
   "nbconvert_exporter": "python",
   "pygments_lexer": "ipython3",
   "version": "3.11.6"
  },
  "toc": {
   "base_numbering": 1,
   "nav_menu": {},
   "number_sections": true,
   "sideBar": true,
   "skip_h1_title": false,
   "title_cell": "Table of Contents",
   "title_sidebar": "Contents",
   "toc_cell": false,
   "toc_position": {},
   "toc_section_display": true,
   "toc_window_display": false
  }
 },
 "nbformat": 4,
 "nbformat_minor": 4
}
