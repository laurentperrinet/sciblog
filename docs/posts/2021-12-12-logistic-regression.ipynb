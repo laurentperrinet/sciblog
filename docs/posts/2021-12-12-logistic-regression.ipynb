{
 "cells": [
  {
   "cell_type": "markdown",
   "metadata": {},
   "source": [
    "In a previous notebook, I have shown how to [fit a psychometric curve using pyTorch](https://laurentperrinet.github.io/sciblog/posts/2020-04-08-fitting-a-psychometric-curve-using-pytorch.html). Here, I would like to review some nice properies of the logistic regression model (WORK IN PROGRESS). \n",
    "\n",
    "<!-- TEASER_END -->\n",
    "\n",
    "Let's first initialize the notebook:"
   ]
  },
  {
   "cell_type": "code",
   "execution_count": 1,
   "metadata": {},
   "outputs": [],
   "source": [
    "import time\n",
    "import os\n",
    "import datetime\n",
    "import numpy as np\n",
    "import matplotlib.pyplot as plt"
   ]
  },
  {
   "cell_type": "code",
   "execution_count": 2,
   "metadata": {},
   "outputs": [],
   "source": [
    "N = 256 # number of factors\n",
    "n_classes = 10 # number of classes\n",
    "N_batch = 4\n",
    "seed = 1973 # release year of https://en.wikipedia.org/wiki/Ring_Ring_(ABBA_song)\n",
    "\n",
    "np.random.seed(seed)\n",
    "W = np.random.randn(N+1, n_classes) # FIXED design matrix\n",
    "\n",
    "def psychometric_function(W, factors):\n",
    "    print(W.shape, factors.shape)\n",
    "    logit = (factors @ W[:-1, :]) + W[-1, :]\n",
    "    return 1 / (1 + np.exp(-logit))\n",
    "\n",
    "def get_data(W, seed, N_batch):\n",
    "    N, n_classes = W.shape[0]-1, W.shape[1]\n",
    "    np.random.seed(seed)\n",
    "    factors = np.random.randn(N_batch, N)\n",
    "    p = psychometric_function(W, factors)\n",
    "    y = p > np.random.rand(N_batch, n_classes)  # generate data\n",
    "    \n",
    "    return factors, p, y"
   ]
  },
  {
   "cell_type": "code",
   "execution_count": 3,
   "metadata": {},
   "outputs": [
    {
     "data": {
      "text/plain": [
       "(4, 256)"
      ]
     },
     "execution_count": 3,
     "metadata": {},
     "output_type": "execute_result"
    }
   ],
   "source": [
    "factors = np.random.randn(N_batch, N)\n",
    "factors.shape"
   ]
  },
  {
   "cell_type": "code",
   "execution_count": 4,
   "metadata": {},
   "outputs": [
    {
     "data": {
      "text/plain": [
       "(257, 10)"
      ]
     },
     "execution_count": 4,
     "metadata": {},
     "output_type": "execute_result"
    }
   ],
   "source": [
    "W.shape"
   ]
  },
  {
   "cell_type": "code",
   "execution_count": 5,
   "metadata": {},
   "outputs": [
    {
     "data": {
      "text/plain": [
       "(4, 10)"
      ]
     },
     "execution_count": 5,
     "metadata": {},
     "output_type": "execute_result"
    }
   ],
   "source": [
    "(factors@W[:-1, :]).shape"
   ]
  },
  {
   "cell_type": "code",
   "execution_count": 6,
   "metadata": {},
   "outputs": [
    {
     "data": {
      "text/plain": [
       "(4, 10)"
      ]
     },
     "execution_count": 6,
     "metadata": {},
     "output_type": "execute_result"
    }
   ],
   "source": [
    "((factors@W[:-1, :]) + W[-1, :]).shape"
   ]
  },
  {
   "cell_type": "code",
   "execution_count": 7,
   "metadata": {},
   "outputs": [
    {
     "name": "stdout",
     "output_type": "stream",
     "text": [
      "(257, 10) (4, 256)\n"
     ]
    },
    {
     "data": {
      "text/plain": [
       "array([[9.99953315e-01, 3.45805742e-04, 9.99999999e-01, 4.75663615e-10,\n",
       "        1.00000000e+00, 9.82830237e-01, 2.55754635e-09, 4.08280280e-01,\n",
       "        4.28969143e-08, 9.99999994e-01],\n",
       "       [1.10737661e-07, 8.51910182e-01, 2.73556933e-01, 9.99999999e-01,\n",
       "        5.29446551e-02, 1.00000000e+00, 6.10242975e-03, 9.99336308e-01,\n",
       "        1.00000000e+00, 9.29815468e-01],\n",
       "       [9.99999496e-01, 9.99936173e-01, 3.46135826e-07, 1.00000000e+00,\n",
       "        2.80007212e-04, 1.00000000e+00, 1.09061508e-07, 9.49790432e-04,\n",
       "        7.03708243e-07, 1.09295139e-04],\n",
       "       [1.00000000e+00, 9.99999846e-01, 1.00000000e+00, 9.99999968e-01,\n",
       "        1.33090647e-04, 1.00000000e+00, 5.67447527e-02, 9.81359607e-01,\n",
       "        9.99998653e-01, 9.99882309e-01]])"
      ]
     },
     "execution_count": 7,
     "metadata": {},
     "output_type": "execute_result"
    }
   ],
   "source": [
    "psychometric_function(W, factors)"
   ]
  },
  {
   "cell_type": "code",
   "execution_count": 8,
   "metadata": {},
   "outputs": [
    {
     "name": "stdout",
     "output_type": "stream",
     "text": [
      "(257, 10) (4, 256)\n"
     ]
    },
    {
     "data": {
      "text/plain": [
       "((4, 256), (4, 10), (4, 10))"
      ]
     },
     "execution_count": 8,
     "metadata": {},
     "output_type": "execute_result"
    }
   ],
   "source": [
    "factors, p, y = get_data(W, seed, N_batch)\n",
    "factors.shape, p.shape, y.shape"
   ]
  },
  {
   "cell_type": "code",
   "execution_count": 9,
   "metadata": {},
   "outputs": [
    {
     "data": {
      "text/plain": [
       "(array([17.,  1.,  1.,  0.,  0.,  2.,  0.,  0.,  0., 19.]),\n",
       " array([1.10640081e-12, 1.00000000e-01, 2.00000000e-01, 3.00000000e-01,\n",
       "        4.00000000e-01, 5.00000000e-01, 6.00000000e-01, 7.00000000e-01,\n",
       "        8.00000000e-01, 9.00000000e-01, 1.00000000e+00]),\n",
       " <BarContainer object of 10 artists>)"
      ]
     },
     "execution_count": 9,
     "metadata": {},
     "output_type": "execute_result"
    },
    {
     "data": {
      "image/png": "[encoded data removed]",
      "text/plain": [
       "<Figure size 432x288 with 1 Axes>"
      ]
     },
     "metadata": {
      "needs_background": "light"
     },
     "output_type": "display_data"
    }
   ],
   "source": [
    "plt.hist(p.ravel(), bins=10)"
   ]
  },
  {
   "cell_type": "markdown",
   "metadata": {},
   "source": [
    "# inversion"
   ]
  },
  {
   "cell_type": "code",
   "execution_count": 10,
   "metadata": {},
   "outputs": [],
   "source": [
    "import torch\n",
    "from torch.utils.data import TensorDataset, DataLoader\n",
    "torch.set_default_tensor_type(\"torch.DoubleTensor\") # -> torch.tensor([1.2, 3]).dtype = torch.float64\n",
    "# see https://sebastianraschka.com/faq/docs/pytorch-crossentropy.html#pytorch-loss-input-confusion-cheatsheet\n",
    "criterion = torch.nn.BCELoss(reduction=\"mean\") # loss divided by output size\n",
    "#criterion = torch.nn.NLLLoss(reduction=\"mean\") # loss divided by output size\n",
    "\n",
    "class LogisticRegressionModel(torch.nn.Module):\n",
    "    #torch.nn.Module -> Base class for all neural network modules\n",
    "    def __init__(self, N, n_classes, bias=True):\n",
    "        super(LogisticRegressionModel, self).__init__() \n",
    "        self.linear = torch.nn.Linear(N, n_classes, bias=bias)\n",
    "        # self.nl = torch.nn.LogSoftmax(n_classes)\n",
    "        self.nl = torch.nn.Sigmoid()\n",
    "\n",
    "    def forward(self, factors):\n",
    "        return self.nl(self.linear(factors))"
   ]
  },
  {
   "cell_type": "code",
   "execution_count": 11,
   "metadata": {},
   "outputs": [],
   "source": [
    "learning_rate = 0.005\n",
    "beta1, beta2 = 0.9, 0.999\n",
    "betas = (beta1, beta2)\n",
    "num_epochs = 2 ** 9 + 1\n",
    "batch_size = 256\n",
    "n_classes=10\n",
    "amsgrad = False # gives similar results\n",
    "amsgrad = True  # gives similar results"
   ]
  },
  {
   "cell_type": "code",
   "execution_count": 12,
   "metadata": {},
   "outputs": [],
   "source": [
    "logistic_model = LogisticRegressionModel(N, n_classes)"
   ]
  },
  {
   "cell_type": "code",
   "execution_count": 13,
   "metadata": {},
   "outputs": [],
   "source": [
    "factors = torch.randn(N_batch, N)\n",
    "outputs = logistic_model(factors)"
   ]
  },
  {
   "cell_type": "code",
   "execution_count": 14,
   "metadata": {},
   "outputs": [],
   "source": [
    "def fit_data(factors, y, \n",
    "            learning_rate=learning_rate,\n",
    "            batch_size=batch_size,  # gamma=gamma,\n",
    "            num_epochs=num_epochs,\n",
    "            betas=betas,\n",
    "            verbose=False, **kwargs\n",
    "        ):\n",
    "\n",
    "    X, labels = torch.Tensor(factors[:, None]), torch.Tensor(y[:, None])\n",
    "    loader = DataLoader(\n",
    "        TensorDataset(X, labels), batch_size=batch_size, shuffle=True\n",
    "    )\n",
    "\n",
    "    device = torch.device(\"cuda\" if torch.cuda.is_available() else \"cpu\")\n",
    "\n",
    "    N_batch = factors.shape[0]\n",
    "    N = factors.shape[1]\n",
    "    n_classes = y.shape[1]\n",
    "    logistic_model = LogisticRegressionModel(N, n_classes)\n",
    "    logistic_model = logistic_model.to(device)\n",
    "    logistic_model.train()\n",
    "    optimizer = torch.optim.Adam(\n",
    "        logistic_model.parameters(), lr=learning_rate, betas=betas, amsgrad=amsgrad\n",
    "    )\n",
    "    for epoch in range(int(num_epochs)):\n",
    "        logistic_model.train()\n",
    "        losses = []\n",
    "        for X_, labels_ in loader:\n",
    "            X_, labels_ = X_.to(device), labels_.to(device)\n",
    "            outputs = logistic_model(X_)\n",
    "            loss = criterion(outputs, labels_)\n",
    "\n",
    "            optimizer.zero_grad()\n",
    "            loss.backward()\n",
    "            optimizer.step()\n",
    "            losses.append(loss.item())\n",
    "\n",
    "        if verbose and (epoch % (num_epochs // 32) == 0):\n",
    "            print(f\"Iteration: {epoch} - Loss: {np.mean(losses):.5f}\")\n",
    "\n",
    "    logistic_model.eval()\n",
    "    X, labels = torch.Tensor(factors[:, None]), torch.Tensor(y[:, None])\n",
    "    outputs = logistic_model(X)\n",
    "    loss = criterion(outputs, labels).item()\n",
    "    return logistic_model, loss"
   ]
  },
  {
   "cell_type": "code",
   "execution_count": null,
   "metadata": {},
   "outputs": [
    {
     "name": "stdout",
     "output_type": "stream",
     "text": [
      "(257, 10) (10000, 256)\n",
      "Iteration: 0 - Loss: 0.51191\n",
      "Iteration: 16 - Loss: 0.11679\n",
      "Iteration: 32 - Loss: 0.09595\n",
      "Iteration: 48 - Loss: 0.08673\n",
      "Iteration: 64 - Loss: 0.08175\n",
      "Iteration: 80 - Loss: 0.07856\n",
      "Iteration: 96 - Loss: 0.07641\n",
      "Iteration: 112 - Loss: 0.07492\n",
      "Iteration: 128 - Loss: 0.07407\n",
      "Iteration: 144 - Loss: 0.07360\n",
      "Iteration: 160 - Loss: 0.07150\n"
     ]
    }
   ],
   "source": [
    "factors, p, y = get_data(W, seed=seed, N_batch=10000)\n",
    "logistic_model, loss = fit_data(factors, y, verbose=True)\n",
    "print(\"Final loss =\", loss)"
   ]
  },
  {
   "cell_type": "code",
   "execution_count": null,
   "metadata": {},
   "outputs": [],
   "source": [
    "import matplotlib.pyplot as plt\n",
    "fig, ax = plt.subplots(figsize=(13, 5))\n",
    "ax.plot(logistic_model.linear.bias.detach().numpy(), 'r')\n",
    "ax.plot(W[-1, :], 'r--')"
   ]
  },
  {
   "cell_type": "code",
   "execution_count": null,
   "metadata": {},
   "outputs": [],
   "source": [
    "logistic_model.linear.weight.shape, W.shape"
   ]
  },
  {
   "cell_type": "code",
   "execution_count": null,
   "metadata": {},
   "outputs": [],
   "source": [
    "i_digit = 2\n",
    "fig, ax = plt.subplots(figsize=(13, 5))\n",
    "ax.plot(W[:, i_digit], 'g--', lw=3)\n",
    "ax.plot(logistic_model.linear.weight[i_digit, :].detach().numpy(), 'r')"
   ]
  }
 ],
 "metadata": {
  "kernelspec": {
   "display_name": "Python 3 (ipykernel)",
   "language": "python",
   "name": "python3"
  },
  "language_info": {
   "codemirror_mode": {
    "name": "ipython",
    "version": 3
   },
   "file_extension": ".py",
   "mimetype": "text/x-python",
   "name": "python",
   "nbconvert_exporter": "python",
   "pygments_lexer": "ipython3",
   "version": "3.9.9"
  }
 },
 "nbformat": 4,
 "nbformat_minor": 4
}
