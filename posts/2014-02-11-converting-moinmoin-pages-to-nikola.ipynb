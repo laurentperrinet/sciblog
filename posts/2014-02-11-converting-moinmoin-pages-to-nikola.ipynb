{
 "metadata": {
  "name": "",
  "signature": "sha256:6254caba5209a5c1d0af3d821584d578496bcc834f22d71809cb267110dde687"
 },
 "nbformat": 3,
 "nbformat_minor": 0,
 "worksheets": [
  {
   "cells": [
    {
     "cell_type": "markdown",
     "metadata": {},
     "source": [
      "I have another wiki to take notes. These are written using the MoinMoin syntax, which is nice, but I found no converter from MoinMoin to anything compatible with Nikola."
     ]
    },
    {
     "cell_type": "markdown",
     "metadata": {},
     "source": [
      "Following this post http://carreau.github.io/posts/06-NBconvert-Doc-Draft.html , I thought I might give it a try using ipython within nikola:\n"
     ]
    },
    {
     "cell_type": "code",
     "collapsed": false,
     "input": [
      "URL = 'https://URL/cgi-bin/index.cgi/SciBlog/2005-10-29?action=print'"
     ],
     "language": "python",
     "metadata": {},
     "outputs": [],
     "prompt_number": 1
    },
    {
     "cell_type": "markdown",
     "metadata": {},
     "source": [
      "NOTE: this should not be tried with these URLS as they do not exist anymore...\n",
      "\n",
      "\n",
      "<!-- TEASER_END -->"
     ]
    },
    {
     "cell_type": "heading",
     "level": 2,
     "metadata": {},
     "source": [
      "First thoughts..."
     ]
    },
    {
     "cell_type": "code",
     "collapsed": false,
     "input": [
      "#import requests\n",
      "#response = requests.get(URL)"
     ],
     "language": "python",
     "metadata": {},
     "outputs": [],
     "prompt_number": 2
    },
    {
     "cell_type": "code",
     "collapsed": false,
     "input": [
      "import urllib\n",
      "f = urllib.urlopen(URL)\n",
      "pagehtml = f.read()"
     ],
     "language": "python",
     "metadata": {},
     "outputs": [],
     "prompt_number": 3
    },
    {
     "cell_type": "code",
     "collapsed": false,
     "input": [
      "print len(pagehtml)"
     ],
     "language": "python",
     "metadata": {},
     "outputs": [
      {
       "output_type": "stream",
       "stream": "stdout",
       "text": [
        "13569\n"
       ]
      }
     ],
     "prompt_number": 4
    },
    {
     "cell_type": "heading",
     "level": 2,
     "metadata": {},
     "source": [
      "... using pandoc"
     ]
    },
    {
     "cell_type": "code",
     "collapsed": false,
     "input": [
      "import subprocess\n",
      "def html2rst(html):\n",
      "    p = subprocess.Popen(['pandoc', '--from=html', '--to=rst'],\n",
      "                         stdin=subprocess.PIPE, stdout=subprocess.PIPE)\n",
      "    return p.communicate(html)[0]"
     ],
     "language": "python",
     "metadata": {},
     "outputs": [],
     "prompt_number": 7
    },
    {
     "cell_type": "code",
     "collapsed": false,
     "input": [
      "pagerst = html2rst(pagehtml)\n",
      "print pagerst[-200:]"
     ],
     "language": "python",
     "metadata": {},
     "outputs": [
      {
       "output_type": "stream",
       "stream": "stdout",
       "text": [
        "| et/ScientificPython>`__              |\n",
        "                                                                             \n",
        "+--------------------------------------+--------------------------------------+\n",
        "\n",
        "\n"
       ]
      }
     ],
     "prompt_number": 8
    },
    {
     "cell_type": "code",
     "collapsed": false,
     "input": [
      "!nikola new_post --title=\"05-10-29 craac\" --tag=\"cnrs, craac\""
     ],
     "language": "python",
     "metadata": {},
     "outputs": [
      {
       "output_type": "stream",
       "stream": "stdout",
       "text": [
        "Creating New Post\r\n",
        "-----------------\r\n",
        "\r\n",
        "Title: 05-10-29 craac\r\n",
        "Scanning posts..."
       ]
      },
      {
       "output_type": "stream",
       "stream": "stdout",
       "text": [
        ".....done!\r\n"
       ]
      },
      {
       "output_type": "stream",
       "stream": "stdout",
       "text": [
        "[2014-02-11T16:16:23Z] ERROR: new_post: The title already exists!\r\n"
       ]
      }
     ],
     "prompt_number": 9
    },
    {
     "cell_type": "code",
     "collapsed": false,
     "input": [
      "tmplt = \"\"\"\n",
      ".. title: 05-10-29 craac\n",
      ".. slug: 05-10-29-craac\n",
      ".. date: 2005-10-29 14:15:23\n",
      ".. description: importing from moinmoin to nikola\n",
      ".. type: text\n",
      ".. tags: cnrs, craac\n",
      "\n",
      "\"\"\"\n",
      "pagerst = tmplt + pagerst"
     ],
     "language": "python",
     "metadata": {},
     "outputs": [],
     "prompt_number": 10
    },
    {
     "cell_type": "code",
     "collapsed": false,
     "input": [
      "if False:\n",
      "    f = file('05-10-29-craac.rst', 'w')\n",
      "    f.write(pagerst)\n",
      "    f.close()"
     ],
     "language": "python",
     "metadata": {},
     "outputs": [],
     "prompt_number": 14
    },
    {
     "cell_type": "code",
     "collapsed": false,
     "input": [
      "!cat '05-10-29-craac.rst'"
     ],
     "language": "python",
     "metadata": {},
     "outputs": [
      {
       "output_type": "stream",
       "stream": "stdout",
       "text": [
        "\r\n",
        ".. title: 05-10-29 craac\r\n",
        ".. slug: 05-10-29-craac\r\n",
        ".. date: 2005-10-29 14:15:23\r\n",
        ".. description: importing from moinmoin to nikola\r\n",
        ".. type: text\r\n",
        ".. tags: cnrs, craac\r\n",
        "\r\n",
        "CRAAC 2005\r\n",
        "==========\r\n",
        "\r\n",
        "2005-10-24\r\n",
        "\r\n",
        "R\u00e9capitulatif de votre saisie : ce document sera soumis au visa de votre\r\n",
        "directeur\r\n",
        "\r\n",
        "Compte rendu annuel d'activit\u00e9 des chercheurs du CNRS Ann\u00e9e 2004 - 2005\r\n",
        "\r\n",
        "Identit\u00e9\r\n",
        "\r\n",
        "Nom (nom de jeune fille) PERRINET Pr\u00e9nom Laurent Date de naissance\r\n",
        "23/02/1973 Grade CR2 N\u00b0 d'agent QAF195447 T\u00e9l\u00e9phone 04 91 16 43 64\r\n",
        "T\u00e9l\u00e9copie 04 91 16 43 64 Adresse \u00e9lectronique\r\n",
        "`laurent.perrinet@incm.cnrs-mrs.fr <mailto:laurent.perrinet@incm.cnrs-mrs.fr>`__\r\n",
        "Section(s) du Comit\u00e9 National 7 D\u00e9partement scientifique Sciences de la\r\n",
        "vie D\u00e9l\u00e9gation r\u00e9gionale Provence Affectation\r\n",
        "\r\n",
        "Intitul\u00e9 de l'unit\u00e9 Institut de neurosciences cognitives de la\r\n",
        "m\u00e9diterran\u00e9e - INCM Code unit\u00e9 UMR6193 Directeur Driss BOUSSAOUD Adresse\r\n",
        "\u00e9lectronique du directeur\r\n",
        "`driss.boussaoud@incm.cnrs-mrs.fr <mailto:driss.boussaoud@incm.cnrs-mrs.fr>`__\r\n",
        "Adresse 31 Chemin Joseph Aiguier\r\n",
        "\r\n",
        "-  13402 MARSEILLE CEDEX 20\r\n",
        "\r\n",
        "T\u00e9l\u00e9phone 04 91 16 43 18 T\u00e9l\u00e9copie 04 91 77 49 69 D\u00e9l\u00e9gation Provence\r\n",
        "Site Web Distinction(s)\r\n",
        "\r\n",
        "Qualification\r\n",
        "\r\n",
        "Habilitation \u00e0 diriger des recherches non Doctorat d'Etat non Doctorat\r\n",
        "oui Ann\u00e9e d'obtention 2003 Qualification \"Ma\u00eetre de conf\u00e9rences\" non\r\n",
        "Qualification \"Professeur\" non P\u00e9riode d'inactivit\u00e9\r\n",
        "\r\n",
        "Mobilit\u00e9(s) ant\u00e9rieure(s)\r\n",
        "\r\n",
        "Activit\u00e9s de recherche d\u00e9velopp\u00e9es\r\n",
        "\r\n",
        "Rattachement \u00e0(aux) activit\u00e9(s) de recherche de l'unit\u00e9 UMR6193\r\n",
        "\r\n",
        "Intitul\u00e9 d'activit\u00e9 Date fin du rattachement\r\n",
        "\r\n",
        "-  DYNAMIQUE DE LA PERCEPTION VISUELLE ET DE L'ACTION (DyVA)\r\n",
        "\r\n",
        "Mots cl\u00e9s des sections/CID du Comit\u00e9 national\r\n",
        "\r\n",
        "Section 1 : \u00c9quations aux d\u00e9riv\u00e9es partielles, optimisation, contr\u00f4le,\r\n",
        "th\u00e9orie du signal Section 1 : Probabilit\u00e9s, processus et algorithmes\r\n",
        "stochastiques, statistique, analyses des donn\u00e9es Section 7 :\r\n",
        "Intelligence artificielle : raisonnement, d\u00e9cision, apprentissage\r\n",
        "Section 7 : Mod\u00e9lisation, analyse, commande et supervision des syst\u00e8mes\r\n",
        "dynamiques Section 27 : Neurosciences comportementales et cognitives\r\n",
        "normales et pathologiques, homme et mod\u00e8les animaux, imagerie c\u00e9r\u00e9brale\r\n",
        "fonctionnelle Section 27 : Mod\u00e9lisation des processus cognitifs et\r\n",
        "neurosciences computationnelles Publication(s), parue(s) ou sous presse,\r\n",
        "dans des revues \u00e0 comit\u00e9 de lecture\r\n",
        "\r\n",
        "R\u00e9f\u00e9rence FISCHER, S.; REDONDO, R.; PERRINET, L.; CRISTOBAL, G. (2005),\r\n",
        "\u00abSparse gabor wavelets by local operations.\u00bb, Proceedings SPIE, volume\r\n",
        "5839 of Bioengineered and Bioinspired Systems, 75 86 PERRINET L. Feature\r\n",
        "detection using spikes : the greedy approach. Journal of Physiology,\r\n",
        "Paris (special issue) - Sous presse PERRINET L., SAMUELIDES S., THORPE\r\n",
        "S.,. Coding static natural images using spiking event times: do neuron\r\n",
        "cooperate?. IEEE Transactions on Neural Networks. . . . 15. . .\r\n",
        "1164-1175. . PERRINET L.,. Finding independent components using spikes:\r\n",
        "A natural result of hebbian learning in a spike coding scheme. Natural\r\n",
        "Computing . . . . 3. . . 159-175-. . PERRINET L.;. Emergence of filters\r\n",
        "from natural scenes in a sparse spike coding scheme. Neurocomputing. . .\r\n",
        ". 58-60. . . 821-826. . PERRINET, L; (2005), \u00abEfficient source detection\r\n",
        "using integrate-and-fire neurons.\u00bb, In W. Duch et al., editor, ICANN\r\n",
        "2005, Lecture Notes in Computer Science, volume 3696, pages 167-72\r\n",
        "Rafael Redondo, Sylvain Fischer, Laurent Perrinet, and Gabriel\r\n",
        "Cristobal. Simple cells modeling through a sparse overcomplete gabor\r\n",
        "wavelet representation based on local inhibition and facilitation. In\r\n",
        "Gustavo Linan-Cembrano Ricardo A. Carmona, editor, Perception, volume 34\r\n",
        "of Bioengineered and Bioinspired Systems II, page 238, August 2005.\r\n",
        "Publication(s), parue(s) ou sous presse, dans des revues sans comit\u00e9 de\r\n",
        "lecture\r\n",
        "\r\n",
        "Ouvrage(s) ou chapitre(s) d'ouvrage(s), paru(s) ou sous presse\r\n",
        "\r\n",
        "Participation \u00e0 des manifestations scientifiques\r\n",
        "\r\n",
        "Manifestation Dynn - ACI Temps et Cerveau Type de manifestation (\r\n",
        "national ) Lieu Cannes ( FRANCE ) Dur\u00e9e 3 (jour(s))\r\n",
        "\r\n",
        "Manifestation ECVP Type de manifestation ( international ) Lieu La\r\n",
        "Corogne ( ESPAGNE ) Dur\u00e9e 5 (jour(s))\r\n",
        "\r\n",
        "Manifestation ICANN Type de manifestation ( international ) Lieu\r\n",
        "Varsovie ( POLOGNE ) Dur\u00e9e 5 (jour(s))\r\n",
        "\r\n",
        "Manifestation Maths et Cerveau Type de manifestation ( international )\r\n",
        "Lieu Paris ( FRANCE ) Dur\u00e9e 15 (jour(s))\r\n",
        "\r\n",
        "Manifestation Pre-FACETS Workshop on Simulation and Computation Type de\r\n",
        "manifestation ( international ) Lieu Graz ( AUTRICHE ) Dur\u00e9e 4 (jour(s))\r\n",
        "\r\n",
        "Activit\u00e9 \u00e9ditoriale\r\n",
        "\r\n",
        "Rapporteur/Relecteur dans des revues Informations compl\u00e9mentaires\r\n",
        "Advanced Concepts for Intelligent Vision Systems (Sept 20-23, 2005,\r\n",
        "University of Antwerp, Antwerp, Belgium,\r\n",
        "`http://acivs.org/acivs2005/ <http://acivs.org/acivs2005/>`__)\r\n",
        "\r\n",
        "Rapporteur/Relecteur dans des revues Informations compl\u00e9mentaires Neural\r\n",
        "Information Processing\r\n",
        "\r\n",
        "Rapporteur/Relecteur dans des revues Informations compl\u00e9mentaires Neural\r\n",
        "Processing Letters\r\n",
        "\r\n",
        "Rapporteur/Relecteur dans des revues Informations compl\u00e9mentaires\r\n",
        "International Journal of Neural Systems (IJNS)\r\n",
        "\r\n",
        "S\u00e9jour(s) dans d'autres laboratoires\r\n",
        "\r\n",
        "Objet Visite et collaboration avec Bruno Olshausen Organisme Redwood\r\n",
        "Neuroscience Institute Pays ETATS UNIS Unit\u00e9 RNI Dur\u00e9e annuelle 30 (j)\r\n",
        "\r\n",
        "Objet Collaboration avec Sylvain Fischer et Gabriel Cristobal -\r\n",
        "co-publications Organisme CSIC Pays ESPAGNE Unit\u00e9 Instituto de Optica\r\n",
        "Dur\u00e9e annuelle 30 (j)\r\n",
        "\r\n",
        "Mission(s) sur le terrain\r\n",
        "\r\n",
        "Formation personnelle\r\n",
        "\r\n",
        "Collaborations\r\n",
        "\r\n",
        "Organisme partenaire CNRS Pays FRANCE ( Europe ) Unit\u00e9 partenaire UMR\r\n",
        "Mouvement et Perception Intitul\u00e9 ANR RETINAE Cadre de la coop\u00e9ration\r\n",
        "Nature de l'activit\u00e9\r\n",
        "\r\n",
        "Organisme partenaire INRIA Pays FRANCE ( Europe ) Unit\u00e9 partenaire\r\n",
        "Odyssee Intitul\u00e9 FACETS Cadre de la coop\u00e9ration AUTRE - contrat europeen\r\n",
        "Nature de l'activit\u00e9 Participation \u00e0 un r\u00e9seau\r\n",
        "\r\n",
        "Organisme partenaire SUPAERO - CERT Pays FRANCE ( Europe ) Unit\u00e9\r\n",
        "partenaire ONERA Intitul\u00e9 Reseau Dynn - ACI Temps et Cerveau Cadre de la\r\n",
        "coop\u00e9ration Nature de l'activit\u00e9 Participation \u00e0 un r\u00e9seau\r\n",
        "\r\n",
        "Encadrement et animation scientifique\r\n",
        "\r\n",
        "Animation scientifique Participation et organisation dans la formation\r\n",
        "interne organisee par l'INCM. Enseignement\r\n",
        "\r\n",
        "Valorisation et partenariat\r\n",
        "\r\n",
        "Vulgarisation\r\n",
        "\r\n",
        "Type d'information Intitul\u00e9 Type de participation Intervention en milieu\r\n",
        "scolaire Fete de la Science Participation ponctuelle Administration de\r\n",
        "la recherche\r\n",
        "\r\n",
        "--------------\r\n",
        "\r\n",
        "-- `LaurentPerrinet </LaurentPerrinet/LaurentPerrinet>`__ 2005-10-29\r\n",
        "13:50:37\r\n"
       ]
      }
     ],
     "prompt_number": 15
    },
    {
     "cell_type": "markdown",
     "metadata": {},
     "source": [
      "and now ... deploy!"
     ]
    },
    {
     "cell_type": "heading",
     "level": 2,
     "metadata": {},
     "source": [
      "another page"
     ]
    },
    {
     "cell_type": "code",
     "collapsed": false,
     "input": [
      "DATE, TIME = '2010-06-24', '13:36:57'\n",
      "TITLE, TAGS = 'installing SUMATRA', 'python, sciblog'"
     ],
     "language": "python",
     "metadata": {},
     "outputs": [],
     "prompt_number": 16
    },
    {
     "cell_type": "markdown",
     "metadata": {},
     "source": [
      "What about doing that directly from the url:"
     ]
    },
    {
     "cell_type": "code",
     "collapsed": false,
     "input": [
      "import urllib\n",
      "import subprocess\n",
      "def url2rst(url):\n",
      "    f = urllib.urlopen(URL)\n",
      "    html = f.read()\n",
      "    p = subprocess.Popen(['pandoc', '--from=html', '--to=rst'],\n",
      "                         stdin=subprocess.PIPE, stdout=subprocess.PIPE)\n",
      "    return p.communicate(html)[0]"
     ],
     "language": "python",
     "metadata": {},
     "outputs": [],
     "prompt_number": 17
    },
    {
     "cell_type": "code",
     "collapsed": false,
     "input": [
      "URL = 'https://URL.net/LaurentPerrinet/SciBlog/%s?action=print' % DATE\n",
      "pagerst = url2rst(URL)"
     ],
     "language": "python",
     "metadata": {},
     "outputs": [
      {
       "output_type": "stream",
       "stream": "stdout",
       "text": [
        "10-06-24 installing SUMATRA 10-06-24-installing-SUMATRA\n"
       ]
      }
     ],
     "prompt_number": 21
    },
    {
     "cell_type": "code",
     "collapsed": false,
     "input": [
      "TIMEDTITLE = DATE[2:] + ' ' + TITLE\n",
      "SLUG = DATE[2:] + '-' + TITLE.replace(' ', '-')\n",
      "print TIMEDTITLE, SLUG"
     ],
     "language": "python",
     "metadata": {},
     "outputs": [
      {
       "output_type": "stream",
       "stream": "stdout",
       "text": [
        "10-06-24 installing SUMATRA 10-06-24-installing-SUMATRA\n"
       ]
      }
     ],
     "prompt_number": 22
    },
    {
     "cell_type": "code",
     "collapsed": false,
     "input": [
      "tmplt = \"\"\"\\\n",
      ".. title: %s %s\n",
      ".. slug: %s\n",
      ".. date: %s %s\n",
      ".. type: text\n",
      ".. tags: %s\n",
      "\n",
      "\"\"\" % (DATE[2:], TITLE, SLUG, DATE, TIME, TAGS)\n",
      "print tmplt + pagerst"
     ],
     "language": "python",
     "metadata": {},
     "outputs": [
      {
       "output_type": "stream",
       "stream": "stdout",
       "text": [
        "\n",
        ".. title: 10-06-24 installing SUMATRA\n",
        ".. slug: 10-06-24-installing-SUMATRA\n",
        ".. date: 2010-06-24 13:36:57\n",
        ".. type: text\n",
        ".. tags: python, sciblog\n",
        "\n",
        "--------------\n",
        "\n",
        "installing SUMATRA\n",
        "==================\n",
        "\n",
        "+-----------------------+\n",
        "| 2010-06-24 13:36:57   |\n",
        "+-----------------------+\n",
        "\n",
        "-  notes from the\n",
        "   `CodeJamNr4 </LaurentPerrinet/FACETS%20CodeJam%20Workshop%20#A4>`__\n",
        "-  this was using a fresh install of ETS 6.2\n",
        "\n",
        "dependencies\n",
        "------------\n",
        "\n",
        "-  pysvn :\n",
        "\n",
        "   -  had to uninstall stuff from MacPorts\n",
        "\n",
        "      ::\n",
        "\n",
        "          sudo port uninstall --follow-dependents subversion \n",
        "\n",
        "   -  `get\n",
        "      pysvn <http://pysvn.tigris.org/servlets/ProjectDocumentList?folderID=1762&expandFolder=1762&folderID=5842>`__\n",
        "\n",
        "      -  make :\n",
        "\n",
        "         ::\n",
        "\n",
        "             cd Source\n",
        "             python setup.py backport\n",
        "             Create the Makefile using python setup.py configure\n",
        "             make\n",
        "\n",
        "   -  install\n",
        "\n",
        "      ::\n",
        "\n",
        "          sudo rsync -av pysvn /Library/Frameworks/Python.framework/Versions/6.2/lib/python2.6/site-packages/\n",
        "\n",
        "      -  pysvn 1.7.1 worked for me\n",
        "\n",
        "-  mercurial\n",
        "\n",
        "   ::\n",
        "\n",
        "       sudo easy_install mercurial\n",
        "\n",
        "-  django\n",
        "\n",
        "   ::\n",
        "\n",
        "       sudo easy_install django django_tagging\n",
        "\n",
        "with hg\n",
        "-------\n",
        "\n",
        "::\n",
        "\n",
        "      525  svn export ../sci/dyva/Motion/particles hg_particles\n",
        "      526  cd hg_particles/\n",
        "      527  hg init\n",
        "      528  hg add MotionParticles.py experiment_all.py \n",
        "      529  hg commit\n",
        "      530  hg commit -m 'test'\n",
        "      531  echo $USER\n",
        "      532  vim .hgrc\n",
        "      533  vim ~/.hgrc\n",
        "      534  hg commit -m 'my first HG commit'\n",
        "      535  vim ~/.hgrc\n",
        "      536  ipython\n",
        "      537  ls\n",
        "      538  smt init sumatraTest_hg\n",
        "      539  smt info\n",
        "\n",
        "with svn\n",
        "--------\n",
        "\n",
        "::\n",
        "\n",
        "      501  cd sci/dyva/Motion/particles/\n",
        "      502  smt init -h\n",
        "      503  smt init sumatraTest\n",
        "      504  smt info\n",
        "     511  smt configure --simulator=python --main=experiment_all.py \n",
        "      512  smt info\n",
        "      513  smtweb &\n",
        "      514  ls -a\n",
        "      515  rm -fr .smt\n",
        "      516  smt init sumatraTest\n",
        "      517  smtweb &\n",
        "      518  open experiment_all.py \n",
        "      519  touch fake.param\n",
        "      520  smt run\n",
        "      521  smt run -s python -m experiment_dot.py fake.param \n",
        "      522  smt info\n",
        "      523  smt configure -h\n",
        "      524  smt configure -c diff\n",
        "      525  smt info\n",
        "      526  smt run -s python -m experiment_dot.py fake.param \n",
        "      529  smt run -s python -m experiment_dot.py fake.param \n",
        "      534  rm mat/dot.npy \n",
        "      535  python experiment_dot.py fake.param \n",
        "      536  ls\n",
        "      537  smt help configure\n",
        "      538  smt configure -d ./figures/\n",
        "      539  smt info\n",
        "      540  smt configure -s python -m experiment_dot.py\n",
        "      541  smt run fake.param \n",
        "      542  rm mat/dot.npy \n",
        "      543  smt run fake.param \n",
        "      544  ls figures/\n",
        "      545  rm figures/dot_*\n",
        "      546  smt run fake.param \n",
        "      547  smt info\n",
        "      548  smt configure -d ./figures\n",
        "      549  smt info\n",
        "      550  rm figures/dot_*png\n",
        "      551  smt configure -d ./figures\n",
        "      552  smt run fake.param \n",
        "      553  smt comment \"apparently, it is worth NaN shekels.\"\n",
        "      554  smt tag codejam\n",
        "      558  rm figures/dot_*png\n",
        "      559  rm mat/dot.npy \n",
        "      560  smt run --reason=\"test effect of a bigger dot\" fake.param dot_size=0.1\n",
        "      561  ls\n",
        "      562  ls -al .smt/\n",
        "      563  less .smt/simulation_records \n",
        "      564  sqlite3 .smt/simulation_records \n",
        "\n",
        "--------------\n",
        "\n",
        "`TagSciBlog </LaurentPerrinet/TagSciBlog>`__\n",
        "\n"
       ]
      }
     ],
     "prompt_number": 19
    },
    {
     "cell_type": "code",
     "collapsed": false,
     "input": [
      "import os\n",
      "os.system('nikola new_post --title=\"%s\" --tag=\"%s\"' % (TITLE, TAGS))\n",
      "f = file(SLUG + '.rst', 'w')\n",
      "f.write(tmplt + pagerst)\n",
      "f.close()"
     ],
     "language": "python",
     "metadata": {},
     "outputs": [],
     "prompt_number": 20
    },
    {
     "cell_type": "markdown",
     "metadata": {},
     "source": [
      "Next steps: automatizing extraction of metadata: date and tags"
     ]
    },
    {
     "cell_type": "code",
     "collapsed": false,
     "input": [
      "!cd ..\n",
      "!nikola new_post -f ipynb --title=\"14-02-15-converting-moinmoin-pages-to-nikola\" --tags=\"ipython, nikola, moinmoin\""
     ],
     "language": "python",
     "metadata": {},
     "outputs": [
      {
       "output_type": "stream",
       "stream": "stdout",
       "text": [
        "Creating New Post\r\n",
        "-----------------\r\n",
        "\r\n",
        "Title: 14-02-15-converting-moinmoin-pages-to-nikola\r\n",
        "Scanning posts."
       ]
      },
      {
       "output_type": "stream",
       "stream": "stdout",
       "text": [
        ".."
       ]
      },
      {
       "output_type": "stream",
       "stream": "stdout",
       "text": [
        ".."
       ]
      },
      {
       "output_type": "stream",
       "stream": "stdout",
       "text": [
        "."
       ]
      },
      {
       "output_type": "stream",
       "stream": "stdout",
       "text": [
        "..done!\r\n",
        "Your post's metadata is at:  posts/14-02-15-converting-moinmoin-pages-to-nikola.meta\r\n",
        "[2014-02-15T14:09:31Z] NOTICE: new_post: Your post's text is at: posts/14-02-15-converting-moinmoin-pages-to-nikola.ipynb\r\n"
       ]
      }
     ],
     "prompt_number": 1
    }
   ],
   "metadata": {}
  }
 ]
}
