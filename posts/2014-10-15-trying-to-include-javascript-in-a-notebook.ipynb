{
 "metadata": {
  "name": "",
  "signature": "sha256:40e93d3a7a4ba0ad9c142dbcdf33524c51f3e6d0a684a97a7599194d21e5a91a"
 },
 "nbformat": 3,
 "nbformat_minor": 0,
 "worksheets": [
  {
   "cells": [
    {
     "cell_type": "heading",
     "level": 2,
     "metadata": {},
     "source": [
      "Trying to include javascript in a notebook"
     ]
    },
    {
     "cell_type": "markdown",
     "metadata": {},
     "source": [
      "Following http://nbviewer.ipython.org/github/ipython/ipython/blob/1.x/examples/notebooks/Part%205%20-%20Rich%20Display%20System.ipynb and http://nbviewer.ipython.org/gist/fonnesbeck/ad091b81bffda28fd657 , let's try to integrate an interactive D3 plot within a notebook.\n",
      "\n",
      "<!-- TEASER_END -->\n"
     ]
    },
    {
     "cell_type": "code",
     "collapsed": false,
     "input": [
      "from IPython.display import IFrame, HTML\n",
      "from IPython.core.display import display\n"
     ],
     "language": "python",
     "metadata": {},
     "outputs": [],
     "prompt_number": 2
    },
    {
     "cell_type": "code",
     "collapsed": false,
     "input": [
      "s = \"\"\"\n",
      "<style>\n",
      "\n",
      "rect {\n",
      "  fill: none;\n",
      "  pointer-events: all;\n",
      "}\n",
      "\n",
      "circle {\n",
      "  fill: none;\n",
      "  stroke: #000;\n",
      "}\n",
      "\n",
      "</style>\n",
      "<body>\n",
      " <center><table border=none width=100%% height=100%%>\n",
      "<tr>\n",
      "<script src=\"http://d3js.org/d3.v3.min.js\"></script>\n",
      "<script>\n",
      "\n",
      "var w = 960,\n",
      "    h = 500;\n",
      "\n",
      "var svg = d3.select(\"body\").append(\"svg\")\n",
      "    .attr(\"width\", w)\n",
      "    .attr(\"height\", h);\n",
      "\n",
      "svg.append(\"rect\")\n",
      "    .attr(\"width\", w)\n",
      "    .attr(\"height\", h);\n",
      "\n",
      "svg.append(\"g\").selectAll(\"circle\")\n",
      "    .data(d3.range(110))\n",
      "  .enter().append(\"circle\")\n",
      "    .attr(\"transform\", \"translate(\" + w / 2 + \",\" + h / 2 + \")\")\n",
      "    .attr(\"r\", function(d) { return d * 5; });\n",
      "\n",
      "var circle = svg.append(\"g\").selectAll(\"circle\")\n",
      "    .data(d3.range(60))\n",
      "  .enter().append(\"circle\")\n",
      "    .attr(\"transform\", \"translate(\" + w / 2 + \",\" + h / 2 + \")\")\n",
      "    .attr(\"r\", function(d) { return d * 3; });\n",
      "\n",
      "svg.on(\"mousemove\", function() {\n",
      "  var mouse = d3.mouse(this),\n",
      "      r = (Math.sqrt(mouse[0]) + 10) / 10;\n",
      "\n",
      "  circle\n",
      "      .attr(\"transform\", \"translate(\" + mouse + \")\")\n",
      "      .attr(\"r\", function(d) { return d * r; });\n",
      "});\n",
      "\n",
      "</script>\n",
      "</tr>\n",
      "</table></center>\n",
      "\n",
      "\"\"\""
     ],
     "language": "python",
     "metadata": {},
     "outputs": [],
     "prompt_number": 11
    },
    {
     "cell_type": "code",
     "collapsed": false,
     "input": [
      "HTML(s)"
     ],
     "language": "python",
     "metadata": {},
     "outputs": [
      {
       "html": [
        "\n",
        "<style>\n",
        "\n",
        "rect {\n",
        "  fill: none;\n",
        "  pointer-events: all;\n",
        "}\n",
        "\n",
        "circle {\n",
        "  fill: none;\n",
        "  stroke: #000;\n",
        "}\n",
        "\n",
        "</style>\n",
        "<body>\n",
        " <center><table border=none width=100%% height=100%%>\n",
        "<tr>\n",
        "<script src=\"http://d3js.org/d3.v3.min.js\"></script>\n",
        "<script>\n",
        "\n",
        "var w = 960,\n",
        "    h = 500;\n",
        "\n",
        "var svg = d3.select(\"body\").append(\"svg\")\n",
        "    .attr(\"width\", w)\n",
        "    .attr(\"height\", h);\n",
        "\n",
        "svg.append(\"rect\")\n",
        "    .attr(\"width\", w)\n",
        "    .attr(\"height\", h);\n",
        "\n",
        "svg.append(\"g\").selectAll(\"circle\")\n",
        "    .data(d3.range(110))\n",
        "  .enter().append(\"circle\")\n",
        "    .attr(\"transform\", \"translate(\" + w / 2 + \",\" + h / 2 + \")\")\n",
        "    .attr(\"r\", function(d) { return d * 5; });\n",
        "\n",
        "var circle = svg.append(\"g\").selectAll(\"circle\")\n",
        "    .data(d3.range(60))\n",
        "  .enter().append(\"circle\")\n",
        "    .attr(\"transform\", \"translate(\" + w / 2 + \",\" + h / 2 + \")\")\n",
        "    .attr(\"r\", function(d) { return d * 3; });\n",
        "\n",
        "svg.on(\"mousemove\", function() {\n",
        "  var mouse = d3.mouse(this),\n",
        "      r = (Math.sqrt(mouse[0]) + 10) / 10;\n",
        "\n",
        "  circle\n",
        "      .attr(\"transform\", \"translate(\" + mouse + \")\")\n",
        "      .attr(\"r\", function(d) { return d * r; });\n",
        "});\n",
        "\n",
        "</script>\n",
        "</tr>\n",
        "</table></center>\n",
        "\n"
       ],
       "metadata": {},
       "output_type": "pyout",
       "prompt_number": 12,
       "text": [
        "<IPython.core.display.HTML at 0x108d9ba10>"
       ]
      }
     ],
     "prompt_number": 12
    },
    {
     "cell_type": "code",
     "collapsed": false,
     "input": [
      "display(IFrame(\"http://demographics.coopercenter.org/DotMap/index.html\", '800px', '600px'))"
     ],
     "language": "python",
     "metadata": {},
     "outputs": [
      {
       "html": [
        "\n",
        "        <iframe\n",
        "            width=\"800px\"\n",
        "            height=600px\"\n",
        "            src=\"http://demographics.coopercenter.org/DotMap/index.html\"\n",
        "            frameborder=\"0\"\n",
        "            allowfullscreen\n",
        "        ></iframe>\n",
        "        "
       ],
       "metadata": {},
       "output_type": "display_data",
       "text": [
        "<IPython.lib.display.IFrame at 0x108d9be90>"
       ]
      }
     ],
     "prompt_number": 13
    },
    {
     "cell_type": "code",
     "collapsed": false,
     "input": [
      "display(HTML(s))"
     ],
     "language": "python",
     "metadata": {},
     "outputs": [
      {
       "html": [
        "\n",
        "<style>\n",
        "\n",
        "rect {\n",
        "  fill: none;\n",
        "  pointer-events: all;\n",
        "}\n",
        "\n",
        "circle {\n",
        "  fill: none;\n",
        "  stroke: #000;\n",
        "}\n",
        "\n",
        "</style>\n",
        "<body>\n",
        " <center><table border=none width=100%% height=100%%>\n",
        "<tr>\n",
        "<script src=\"http://d3js.org/d3.v3.min.js\"></script>\n",
        "<script>\n",
        "\n",
        "var w = 960,\n",
        "    h = 500;\n",
        "\n",
        "var svg = d3.select(\"body\").append(\"svg\")\n",
        "    .attr(\"width\", w)\n",
        "    .attr(\"height\", h);\n",
        "\n",
        "svg.append(\"rect\")\n",
        "    .attr(\"width\", w)\n",
        "    .attr(\"height\", h);\n",
        "\n",
        "svg.append(\"g\").selectAll(\"circle\")\n",
        "    .data(d3.range(110))\n",
        "  .enter().append(\"circle\")\n",
        "    .attr(\"transform\", \"translate(\" + w / 2 + \",\" + h / 2 + \")\")\n",
        "    .attr(\"r\", function(d) { return d * 5; });\n",
        "\n",
        "var circle = svg.append(\"g\").selectAll(\"circle\")\n",
        "    .data(d3.range(60))\n",
        "  .enter().append(\"circle\")\n",
        "    .attr(\"transform\", \"translate(\" + w / 2 + \",\" + h / 2 + \")\")\n",
        "    .attr(\"r\", function(d) { return d * 3; });\n",
        "\n",
        "svg.on(\"mousemove\", function() {\n",
        "  var mouse = d3.mouse(this),\n",
        "      r = (Math.sqrt(mouse[0]) + 10) / 10;\n",
        "\n",
        "  circle\n",
        "      .attr(\"transform\", \"translate(\" + mouse + \")\")\n",
        "      .attr(\"r\", function(d) { return d * r; });\n",
        "});\n",
        "\n",
        "</script>\n",
        "</tr>\n",
        "</table></center>\n",
        "\n"
       ],
       "metadata": {},
       "output_type": "display_data",
       "text": [
        "<IPython.core.display.HTML at 0x108d9bc50>"
       ]
      }
     ],
     "prompt_number": 14
    },
    {
     "cell_type": "code",
     "collapsed": false,
     "input": [],
     "language": "python",
     "metadata": {},
     "outputs": []
    }
   ],
   "metadata": {}
  }
 ]
}