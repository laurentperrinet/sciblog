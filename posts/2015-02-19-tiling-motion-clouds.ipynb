{
 "cells": [
  {
   "cell_type": "markdown",
   "metadata": {},
   "source": [
    "Script done in collaboration with [Jean Spezia](http://invibe.net/LaurentPerrinet/JeanSpezia).\n",
    "<!-- TEASER_END -->\n",
    "\n"
   ]
  },
  {
   "cell_type": "code",
   "execution_count": 1,
   "metadata": {
    "collapsed": false
   },
   "outputs": [],
   "source": [
    "import os"
   ]
  },
  {
   "cell_type": "code",
   "execution_count": 2,
   "metadata": {
    "collapsed": false
   },
   "outputs": [],
   "source": [
    "import numpy as np\n",
    "import MotionClouds as mc\n",
    "size = 5\n",
    "mc.N_X, mc.N_Y, mc.N_frame = 2**size, 2**size, 2**size\n",
    "fx, fy, ft = mc.get_grids(mc.N_X, mc.N_Y, mc.N_frame)\n",
    "name = 'MotionPlaid'\n",
    "mc.figpath = '../files/2015-02-19_MotionPlaid'\n",
    "if not(os.path.isdir(mc.figpath)): os.mkdir(mc.figpath)"
   ]
  },
  {
   "cell_type": "raw",
   "metadata": {},
   "source": [
    "!ls -lR"
   ]
  },
  {
   "cell_type": "code",
   "execution_count": 3,
   "metadata": {
    "collapsed": false
   },
   "outputs": [],
   "source": [
    "!mkdir -p results"
   ]
  },
  {
   "cell_type": "code",
   "execution_count": 4,
   "metadata": {
    "collapsed": false
   },
   "outputs": [
    {
     "name": "stdout",
     "output_type": "stream",
     "text": [
      "0.0 1.0 (32, 32, 32)\n"
     ]
    },
    {
     "data": {
      "text/html": [
       "\n",
       "            <center><table border=none width=100% height=100%>\n",
       "            <tr> <td width=100%><center><video  loop=\"1\" autoplay=\"1\" controls  src=\"../files/2015-02-19_MotionPlaid/mask2.mp4\" type=\"video/mp4\"  width=100%\\>\n",
       "            </td></tr></table></center>"
      ],
      "text/plain": [
       "<IPython.core.display.HTML object>"
      ]
     },
     "metadata": {},
     "output_type": "display_data"
    }
   ],
   "source": [
    "#mask = 1 - np.abs(2*fx) - np.abs(2*fy)\n",
    "#mask = 1.*(mask>0.)\n",
    "#mask *= mask>0.\n",
    "mask = 1 - np.max((np.abs(2*fx), np.abs(2*fy)), axis=0)\n",
    "#mask = np.sqrt((2*fx)**2 + (2*fy)**2)\n",
    "#mask = np.ones_like(fx)\n",
    "print (mask.min(), mask.max(), mask.shape)\n",
    "mov_=mc.anim_save(mask, os.path.join(mc.figpath, 'mask2'))\n",
    "mc.in_show_video('mask2', figpath=mc.figpath)"
   ]
  },
  {
   "cell_type": "code",
   "execution_count": 5,
   "metadata": {
    "collapsed": false
   },
   "outputs": [],
   "source": [
    "N_orient, N_overlap = 8, 2\n",
    "B_theta = 1."
   ]
  },
  {
   "cell_type": "code",
   "execution_count": 6,
   "metadata": {
    "collapsed": false
   },
   "outputs": [],
   "source": [
    "mov = mc.np.zeros(((N_orient*mc.N_X), (N_orient*mc.N_X), mc.N_frame))\n",
    "mov_mask = mc.np.zeros(((N_orient*mc.N_X), (N_orient*mc.N_X), mc.N_frame))\n",
    "for i, theta1 in enumerate(np.linspace(0, 2*np.pi, N_orient*N_overlap, endpoint=False)[::-1]):\n",
    "    diag1 = mc.envelope_gabor(fx, fy, ft, theta=theta1, V_X=np.cos(theta1), V_Y=np.sin(theta1), B_theta=B_theta)\n",
    "    for j, theta2 in enumerate(np.linspace(0, 2*np.pi, N_orient*N_overlap, endpoint=False)):\n",
    "        mov_ = np.zeros_like(mov)\n",
    "        mov_mask_ = np.zeros_like(mov)\n",
    "        diag2 = mc.envelope_gabor(fx, fy, ft, theta=theta2, V_X=np.cos(theta2), V_Y=np.sin(theta2), B_theta=B_theta)\n",
    "        #mov[(i)*mc.N_X:(i+1)*mc.N_X, (j)*mc.N_Y : (j+1)*mc.N_Y, :] = mc.random_cloud(diag1 + diag2, seed=1234)\n",
    "        mov_[:mc.N_X, :mc.N_Y, :] = mc.random_cloud(diag1 + diag2, seed=1234)*mask\n",
    "        mov_mask_[:mc.N_X, :mc.N_Y, :] = mask\n",
    "        #mov_[:mc.N_X, :mc.N_Y, :] = mask\n",
    "        mov_ = np.roll(mov_, i*mc.N_X//N_overlap, axis=0)\n",
    "        mov_ = np.roll(mov_, j*mc.N_Y//N_overlap, axis=1)\n",
    "        mov += mov_\n",
    "        mov_mask_ = np.roll(mov_mask_, i*mc.N_X//N_overlap, axis=0)\n",
    "        mov_mask_ = np.roll(mov_mask_, j*mc.N_Y//N_overlap, axis=1)\n",
    "        #print mov_mask_.max(), mov_mask_.min()\n",
    "        mov_mask += mov_mask_"
   ]
  },
  {
   "cell_type": "code",
   "execution_count": 7,
   "metadata": {
    "collapsed": false
   },
   "outputs": [
    {
     "name": "stdout",
     "output_type": "stream",
     "text": [
      "0.021823749347671922 -0.02810640379575316\n"
     ]
    }
   ],
   "source": [
    "print (mov.max(), mov.min())"
   ]
  },
  {
   "cell_type": "code",
   "execution_count": 8,
   "metadata": {
    "collapsed": false
   },
   "outputs": [
    {
     "data": {
      "text/html": [
       "\n",
       "            <center><table border=none width=100% height=100%>\n",
       "            <tr> <td width=100%><center><video  loop=\"1\" autoplay=\"1\" controls  src=\"../files/2015-02-19_MotionPlaid/MotionPlaid.mp4\" type=\"video/mp4\"  width=100%\\>\n",
       "            </td></tr></table></center>"
      ],
      "text/plain": [
       "<IPython.core.display.HTML object>"
      ]
     },
     "metadata": {},
     "output_type": "display_data"
    }
   ],
   "source": [
    "mov_=mc.anim_save(mc.rectif(mov, contrast=.99), os.path.join(mc.figpath, name))\n",
    "mc.in_show_video(name, figpath=mc.figpath)"
   ]
  },
  {
   "cell_type": "code",
   "execution_count": 9,
   "metadata": {
    "collapsed": false
   },
   "outputs": [
    {
     "data": {
      "text/html": [
       "\n",
       "            <center><table border=none width=100% height=100%>\n",
       "            <tr> <td width=100%><center><video  loop=\"1\" autoplay=\"1\" controls  src=\"../files/2015-02-19_MotionPlaid/MotionPlaid.mp4\" type=\"video/mp4\"  width=100%\\>\n",
       "            </td></tr></table></center>"
      ],
      "text/plain": [
       "<IPython.core.display.HTML object>"
      ]
     },
     "metadata": {},
     "output_type": "display_data"
    }
   ],
   "source": [
    "mov_=mc.anim_save(mc.rectif(mov_mask, contrast=.99), os.path.join(mc.figpath, name))\n",
    "mc.in_show_video(name, figpath=mc.figpath)"
   ]
  },
  {
   "cell_type": "code",
   "execution_count": 10,
   "metadata": {
    "collapsed": false
   },
   "outputs": [
    {
     "data": {
      "text/html": [
       "\n",
       "            <center><table border=none width=100% height=100%>\n",
       "            <tr> <td width=100%><center><video  loop=\"1\" autoplay=\"1\" controls  src=\"../files/2015-02-19_MotionPlaid/MotionPlaid.mp4\" type=\"video/mp4\"  width=100%\\>\n",
       "            </td></tr></table></center>"
      ],
      "text/plain": [
       "<IPython.core.display.HTML object>"
      ]
     },
     "metadata": {},
     "output_type": "display_data"
    }
   ],
   "source": [
    "mov_=mc.anim_save(mc.rectif(mov/mov_mask, contrast=.99), os.path.join(mc.figpath, name))\n",
    "mc.in_show_video(name, figpath=mc.figpath)"
   ]
  },
  {
   "cell_type": "code",
   "execution_count": 11,
   "metadata": {
    "collapsed": false
   },
   "outputs": [
    {
     "name": "stdout",
     "output_type": "stream",
     "text": [
      "2.0 1.0\n"
     ]
    }
   ],
   "source": [
    "print (mov_mask.max(), mov_mask.min())"
   ]
  },
  {
   "cell_type": "code",
   "execution_count": 12,
   "metadata": {
    "collapsed": false
   },
   "outputs": [],
   "source": [
    "A = np.random.rand(5, 5)\n"
   ]
  },
  {
   "cell_type": "code",
   "execution_count": 13,
   "metadata": {
    "collapsed": false
   },
   "outputs": [
    {
     "name": "stdout",
     "output_type": "stream",
     "text": [
      "Before Rectification of the frames\n",
      "Mean= 0.43978454786297305 , std= 0.2720926860968015 , Min= 0.01025970733568149 , Max= 0.9813959661071936  Abs(Max)= 0.9813959661071936\n",
      "After Rectification of the frames\n",
      "Mean= 0.5000000000000001 , std= 0.2511880999286013 , Min= 0.10347508743472195 , Max= 1.0\n",
      "percentage pixels clipped= 0.0\n"
     ]
    },
    {
     "data": {
      "text/plain": [
       "array([[0.76293304, 0.49006422, 0.5631343 , 0.37241039, 0.12623763],\n",
       "       [0.67414584, 0.42895541, 0.62363661, 0.10927369, 0.31543963],\n",
       "       [0.51993205, 0.19865564, 0.46936419, 0.426361  , 0.10347509],\n",
       "       [0.80148186, 0.98015382, 0.22723519, 0.60546607, 0.41806369],\n",
       "       [0.51916894, 0.25848294, 0.69983334, 1.        , 0.80609542]])"
      ]
     },
     "execution_count": 13,
     "metadata": {},
     "output_type": "execute_result"
    }
   ],
   "source": [
    "mc.rectif(A, contrast=1, verbose=True)"
   ]
  },
  {
   "cell_type": "code",
   "execution_count": 14,
   "metadata": {
    "collapsed": false
   },
   "outputs": [
    {
     "data": {
      "text/plain": [
       "array([[0.72459963, 0.42902188, 0.50817307, 0.30157657, 0.03491662],\n",
       "       [0.6284233 , 0.36282742, 0.57371054, 0.01654088, 0.23986455],\n",
       "       [0.4613754 , 0.11336145, 0.40659914, 0.3600171 , 0.01025971],\n",
       "       [0.76635659, 0.95989813, 0.14431948, 0.5540278 , 0.35102927],\n",
       "       [0.46054878, 0.17816775, 0.65624859, 0.98139597, 0.77135409]])"
      ]
     },
     "execution_count": 14,
     "metadata": {},
     "output_type": "execute_result"
    }
   ],
   "source": [
    "A"
   ]
  },
  {
   "cell_type": "code",
   "execution_count": 15,
   "metadata": {
    "collapsed": false
   },
   "outputs": [],
   "source": [
    "N_orient, N_overlap = 8, 3\n",
    "B_theta = 1."
   ]
  },
  {
   "cell_type": "code",
   "execution_count": 16,
   "metadata": {
    "collapsed": false
   },
   "outputs": [
    {
     "name": "stdout",
     "output_type": "stream",
     "text": [
      "39.6 s ± 3.11 s per loop (mean ± std. dev. of 7 runs, 1 loop each)\n"
     ]
    }
   ],
   "source": [
    "%%timeit -n1\n",
    "\n",
    "mov = mc.np.zeros(((N_orient*mc.N_X), (N_orient*mc.N_X), mc.N_frame))\n",
    "\n",
    "for i, theta1 in enumerate(np.linspace(0, 2*np.pi, N_orient*N_overlap, endpoint=False)[::-1]):\n",
    "    diag1 = mc.envelope_gabor(fx, fy, ft, theta=theta1, V_X=np.cos(theta1), V_Y=np.sin(theta1), B_theta=B_theta)\n",
    "    for j, theta2 in enumerate(np.linspace(0, 2*np.pi, N_orient*N_overlap, endpoint=False)):\n",
    "        mov_ = np.zeros_like(mov)\n",
    "        diag2 = mc.envelope_gabor(fx, fy, ft, theta=theta2, V_X=np.cos(theta2), V_Y=np.sin(theta2), B_theta=B_theta)\n",
    "        #mov[(i)*mc.N_X:(i+1)*mc.N_X, (j)*mc.N_Y : (j+1)*mc.N_Y, :] = mc.random_cloud(diag1 + diag2, seed=1234)\n",
    "        mov_[:mc.N_X, :mc.N_Y, :] = mc.random_cloud(diag1 + diag2, seed=1234)\n",
    "        #mov_[:mc.N_X, :mc.N_Y, :] = mask\n",
    "        mov_ = np.roll(mov_, i*mc.N_X//N_overlap, axis=0)\n",
    "        mov_ = np.roll(mov_, j*mc.N_Y//N_overlap, axis=1)\n",
    "        mov += mov_"
   ]
  },
  {
   "cell_type": "code",
   "execution_count": 17,
   "metadata": {
    "collapsed": false
   },
   "outputs": [
    {
     "name": "stdout",
     "output_type": "stream",
     "text": [
      "25.4 s ± 703 ms per loop (mean ± std. dev. of 7 runs, 1 loop each)\n"
     ]
    }
   ],
   "source": [
    "%%timeit -n1\n",
    "\n",
    "mov = mc.np.zeros(((N_orient*mc.N_X), (N_orient*mc.N_X), mc.N_frame))\n",
    "\n",
    "for i, theta1 in enumerate(np.linspace(0, 2*np.pi, N_orient*N_overlap, endpoint=False)[::-1]):\n",
    "    diag1 = mc.envelope_gabor(fx, fy, ft, theta=theta1, V_X=np.cos(theta1), V_Y=np.sin(theta1), B_theta=B_theta)\n",
    "    mov_ = np.zeros_like(mov)\n",
    "    mov_[:mc.N_X, :mc.N_Y, :] = mc.random_cloud(diag1, seed=1234)\n",
    "    for j, theta2 in enumerate(np.linspace(0, 2*np.pi, N_orient*N_overlap, endpoint=False)):\n",
    "        mov += np.roll(mov_, j*mc.N_Y//N_overlap, axis=1)\n",
    "for j, theta2 in enumerate(np.linspace(0, 2*np.pi, N_orient*N_overlap, endpoint=False)):\n",
    "    diag2 = mc.envelope_gabor(fx, fy, ft, theta=theta2, V_X=np.cos(theta2), V_Y=np.sin(theta2), B_theta=B_theta)\n",
    "    mov_ = np.zeros_like(mov)\n",
    "    mov_[:mc.N_X, :mc.N_Y, :] = mc.random_cloud(diag2, seed=1234)\n",
    "    for i, theta1 in enumerate(np.linspace(0, 2*np.pi, N_orient*N_overlap, endpoint=False)[::-1]):\n",
    "        mov += np.roll(mov_, i*mc.N_X//N_overlap, axis=0)\n"
   ]
  },
  {
   "cell_type": "code",
   "execution_count": 18,
   "metadata": {
    "collapsed": false
   },
   "outputs": [
    {
     "name": "stdout",
     "output_type": "stream",
     "text": [
      "27.7 s ± 3.49 s per loop (mean ± std. dev. of 7 runs, 1 loop each)\n"
     ]
    }
   ],
   "source": [
    "%%timeit -n1\n",
    "\n",
    "mov = mc.np.zeros(((N_orient*mc.N_X), (N_orient*mc.N_X), mc.N_frame))\n",
    "mov1 = mc.np.zeros(((N_orient*mc.N_X), (N_orient*mc.N_X), mc.N_frame))\n",
    "mov2 = mc.np.zeros(((N_orient*mc.N_X), (N_orient*mc.N_X), mc.N_frame))\n",
    "\n",
    "for i, theta1 in enumerate(np.linspace(0, 2*np.pi, N_orient*N_overlap, endpoint=False)[::-1]):\n",
    "    diag1 = mc.envelope_gabor(fx, fy, ft, theta=theta1, V_X=np.cos(theta1), V_Y=np.sin(theta1), B_theta=B_theta)\n",
    "    mov_ = np.zeros_like(mov)\n",
    "    mov_[:mc.N_X, :mc.N_Y, :] = mc.random_cloud(diag1, seed=1234)\n",
    "    mov1 += np.roll(mov_, i*mc.N_X//N_overlap, axis=0)\n",
    "    mov2 += np.roll(mov_, i*mc.N_Y//N_overlap, axis=1)\n",
    "    for j, theta2 in enumerate(np.linspace(0, 2*np.pi, N_orient*N_overlap, endpoint=False)):\n",
    "        mov1 += np.roll(mov1, j*mc.N_Y//N_overlap, axis=1)\n",
    "        mov2 += np.roll(mov2, j*mc.N_Y//N_overlap, axis=0)\n",
    "\n",
    "mov = mov1 + mov2"
   ]
  },
  {
   "cell_type": "code",
   "execution_count": 19,
   "metadata": {
    "collapsed": false
   },
   "outputs": [
    {
     "name": "stdout",
     "output_type": "stream",
     "text": [
      "9.49 ms ± 3.86 ms per loop (mean ± std. dev. of 7 runs, 1 loop each)\n"
     ]
    }
   ],
   "source": [
    "%%timeit -n1\n",
    "\n",
    "diag1 = mc.envelope_gabor(fx, fy, ft)\n"
   ]
  },
  {
   "cell_type": "markdown",
   "metadata": {},
   "source": [
    "## some book keeping for the notebook"
   ]
  },
  {
   "cell_type": "code",
   "execution_count": 20,
   "metadata": {
    "ExecuteTime": {
     "end_time": "2018-11-07T16:19:23.177738Z",
     "start_time": "2018-11-07T16:19:23.125993Z"
    }
   },
   "outputs": [
    {
     "data": {
      "application/json": {
       "Software versions": [
        {
         "module": "Python",
         "version": "3.7.1 64bit [Clang 10.0.0 (clang-1000.11.45.5)]"
        },
        {
         "module": "IPython",
         "version": "7.1.1"
        },
        {
         "module": "OS",
         "version": "Darwin 17.7.0 x86_64 i386 64bit"
        },
        {
         "module": "numpy",
         "version": "1.15.4"
        },
        {
         "module": "scipy",
         "version": "1.1.0"
        },
        {
         "module": "matplotlib",
         "version": "3.0.1"
        },
        {
         "module": "MotionClouds",
         "version": "20180606"
        }
       ]
      },
      "text/html": [
       "<table><tr><th>Software</th><th>Version</th></tr><tr><td>Python</td><td>3.7.1 64bit [Clang 10.0.0 (clang-1000.11.45.5)]</td></tr><tr><td>IPython</td><td>7.1.1</td></tr><tr><td>OS</td><td>Darwin 17.7.0 x86_64 i386 64bit</td></tr><tr><td>numpy</td><td>1.15.4</td></tr><tr><td>scipy</td><td>1.1.0</td></tr><tr><td>matplotlib</td><td>3.0.1</td></tr><tr><td>MotionClouds</td><td>20180606</td></tr><tr><td colspan='2'>Wed Nov 14 11:49:50 2018 CET</td></tr></table>"
      ],
      "text/latex": [
       "\\begin{tabular}{|l|l|}\\hline\n",
       "{\\bf Software} & {\\bf Version} \\\\ \\hline\\hline\n",
       "Python & 3.7.1 64bit [Clang 10.0.0 (clang-1000.11.45.5)] \\\\ \\hline\n",
       "IPython & 7.1.1 \\\\ \\hline\n",
       "OS & Darwin 17.7.0 x86\\_64 i386 64bit \\\\ \\hline\n",
       "numpy & 1.15.4 \\\\ \\hline\n",
       "scipy & 1.1.0 \\\\ \\hline\n",
       "matplotlib & 3.0.1 \\\\ \\hline\n",
       "MotionClouds & 20180606 \\\\ \\hline\n",
       "\\hline \\multicolumn{2}{|l|}{Wed Nov 14 11:49:50 2018 CET} \\\\ \\hline\n",
       "\\end{tabular}\n"
      ],
      "text/plain": [
       "Software versions\n",
       "Python 3.7.1 64bit [Clang 10.0.0 (clang-1000.11.45.5)]\n",
       "IPython 7.1.1\n",
       "OS Darwin 17.7.0 x86_64 i386 64bit\n",
       "numpy 1.15.4\n",
       "scipy 1.1.0\n",
       "matplotlib 3.0.1\n",
       "MotionClouds 20180606\n",
       "Wed Nov 14 11:49:50 2018 CET"
      ]
     },
     "execution_count": 20,
     "metadata": {},
     "output_type": "execute_result"
    }
   ],
   "source": [
    "%load_ext version_information\n",
    "%version_information numpy, scipy, matplotlib, MotionClouds"
   ]
  }
 ],
 "metadata": {
  "kernelspec": {
   "display_name": "Python 3",
   "language": "python",
   "name": "python3"
  },
  "language_info": {
   "codemirror_mode": {
    "name": "ipython",
    "version": 3
   },
   "file_extension": ".py",
   "mimetype": "text/x-python",
   "name": "python",
   "nbconvert_exporter": "python",
   "pygments_lexer": "ipython3",
   "version": "3.7.1"
  }
 },
 "nbformat": 4,
 "nbformat_minor": 2
}
