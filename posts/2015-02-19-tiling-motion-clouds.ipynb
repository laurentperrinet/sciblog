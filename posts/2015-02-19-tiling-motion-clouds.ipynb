{
 "cells": [
  {
   "cell_type": "markdown",
   "metadata": {},
   "source": [
    "Script done in collaboration with Jean Spezia.\n",
    "<!-- TEASER_END -->\n",
    "\n"
   ]
  },
  {
   "cell_type": "code",
   "execution_count": 1,
   "metadata": {
    "collapsed": false
   },
   "outputs": [],
   "source": [
    "import os"
   ]
  },
  {
   "cell_type": "code",
   "execution_count": 2,
   "metadata": {
    "collapsed": false
   },
   "outputs": [],
   "source": [
    "import numpy as np\n",
    "import MotionClouds as mc\n",
    "size = 8\n",
    "mc.N_X, mc.N_Y, mc.N_frame = 2**size, 2**size, 2**size\n",
    "fx, fy, ft = mc.get_grids(mc.N_X, mc.N_Y, mc.N_frame)\n",
    "name = 'MotionPlaid'\n",
    "mc.figpath = '../files/2015-02-19_MotionPlaid'\n",
    "mc.seed = 42\n",
    "os.makedirs(mc.figpath, exist_ok=True)"
   ]
  },
  {
   "cell_type": "raw",
   "metadata": {},
   "source": [
    "!ls -lR"
   ]
  },
  {
   "cell_type": "code",
   "execution_count": 3,
   "metadata": {
    "collapsed": false
   },
   "outputs": [],
   "source": [
    "!mkdir -p results"
   ]
  },
  {
   "cell_type": "code",
   "execution_count": 4,
   "metadata": {
    "collapsed": false
   },
   "outputs": [
    {
     "name": "stdout",
     "output_type": "stream",
     "text": [
      "0.0 1.0 (256, 256, 256)\n"
     ]
    },
    {
     "data": {
      "text/html": [
       "\n",
       "            <center><table border=none width=100% height=100%>\n",
       "            <tr> <td width=100%><center><video playsinline loop autoplay controls  src=\"../files/2015-02-19_MotionPlaid/mask2.mp4\" type=\"video/mp4\"  width=100%\\>\n",
       "            </td></tr></table></center>"
      ],
      "text/plain": [
       "<IPython.core.display.HTML object>"
      ]
     },
     "metadata": {},
     "output_type": "display_data"
    }
   ],
   "source": [
    "#mask = 1 - np.abs(2*fx) - np.abs(2*fy)\n",
    "#mask = 1.*(mask>0.)\n",
    "#mask *= mask>0.\n",
    "mask = 1 - np.max((np.abs(2*fx), np.abs(2*fy)), axis=0)\n",
    "#mask = np.sqrt((2*fx)**2 + (2*fy)**2)\n",
    "#mask = np.ones_like(fx)\n",
    "print (mask.min(), mask.max(), mask.shape)\n",
    "mc.anim_save(mask, os.path.join(mc.figpath, 'mask2'), verbose=False)\n",
    "# mc.figures(mask, 'mask2', figpath=mc.figpath, seed=mc.seed, do_figs=False)\n",
    "mc.in_show_video('mask2', figpath=mc.figpath)"
   ]
  },
  {
   "cell_type": "code",
   "execution_count": 5,
   "metadata": {
    "collapsed": false
   },
   "outputs": [],
   "source": [
    "N_orient, N_overlap = 8, 2\n",
    "B_theta = 1."
   ]
  },
  {
   "cell_type": "code",
   "execution_count": 6,
   "metadata": {
    "collapsed": false
   },
   "outputs": [],
   "source": [
    "mov = mc.np.zeros(((N_orient*mc.N_X), (N_orient*mc.N_X), mc.N_frame))\n",
    "mov_mask = mc.np.zeros(((N_orient*mc.N_X), (N_orient*mc.N_X), mc.N_frame))\n",
    "for i, theta1 in enumerate(np.linspace(0, 2*np.pi, N_orient*N_overlap, endpoint=False)[::-1]):\n",
    "    diag1 = mc.envelope_gabor(fx, fy, ft, theta=theta1, V_X=np.cos(theta1), V_Y=np.sin(theta1), B_theta=B_theta)\n",
    "    for j, theta2 in enumerate(np.linspace(0, 2*np.pi, N_orient*N_overlap, endpoint=False)):\n",
    "        mov_ = np.zeros_like(mov)\n",
    "        mov_mask_ = np.zeros_like(mov)\n",
    "        diag2 = mc.envelope_gabor(fx, fy, ft, theta=theta2, V_X=np.cos(theta2), V_Y=np.sin(theta2), B_theta=B_theta)\n",
    "        #mov[(i)*mc.N_X:(i+1)*mc.N_X, (j)*mc.N_Y : (j+1)*mc.N_Y, :] = mc.random_cloud(diag1 + diag2, seed=1234)\n",
    "        mov_[:mc.N_X, :mc.N_Y, :] = mc.random_cloud(diag1 + diag2, seed=1234)*mask\n",
    "        mov_mask_[:mc.N_X, :mc.N_Y, :] = mask\n",
    "        #mov_[:mc.N_X, :mc.N_Y, :] = mask\n",
    "        mov_ = np.roll(mov_, i*mc.N_X//N_overlap, axis=0)\n",
    "        mov_ = np.roll(mov_, j*mc.N_Y//N_overlap, axis=1)\n",
    "        mov += mov_\n",
    "        mov_mask_ = np.roll(mov_mask_, i*mc.N_X//N_overlap, axis=0)\n",
    "        mov_mask_ = np.roll(mov_mask_, j*mc.N_Y//N_overlap, axis=1)\n",
    "        #print mov_mask_.max(), mov_mask_.min()\n",
    "        mov_mask += mov_mask_"
   ]
  },
  {
   "cell_type": "code",
   "execution_count": 7,
   "metadata": {
    "collapsed": false
   },
   "outputs": [
    {
     "name": "stdout",
     "output_type": "stream",
     "text": [
      "0.0014431233612189815 -0.001493586661014011\n"
     ]
    }
   ],
   "source": [
    "print (mov.max(), mov.min())"
   ]
  },
  {
   "cell_type": "code",
   "execution_count": 8,
   "metadata": {
    "collapsed": false
   },
   "outputs": [
    {
     "data": {
      "text/html": [
       "\n",
       "            <center><table border=none width=100% height=100%>\n",
       "            <tr> <td width=100%><center><video playsinline loop autoplay controls  src=\"../files/2015-02-19_MotionPlaid/MotionPlaid.mp4\" type=\"video/mp4\"  width=100%\\>\n",
       "            </td></tr></table></center>"
      ],
      "text/plain": [
       "<IPython.core.display.HTML object>"
      ]
     },
     "metadata": {},
     "output_type": "display_data"
    }
   ],
   "source": [
    "mc.anim_save(mc.rectif(mov, contrast=.99), os.path.join(mc.figpath, name), verbose=False)\n",
    "mc.in_show_video(name, figpath=mc.figpath)"
   ]
  },
  {
   "cell_type": "code",
   "execution_count": 9,
   "metadata": {
    "collapsed": false
   },
   "outputs": [
    {
     "data": {
      "text/html": [
       "\n",
       "            <center><table border=none width=100% height=100%>\n",
       "            <tr> <td width=100%><center><video playsinline loop autoplay controls  src=\"../files/2015-02-19_MotionPlaid/MotionPlaid.mp4\" type=\"video/mp4\"  width=100%\\>\n",
       "            </td></tr></table></center>"
      ],
      "text/plain": [
       "<IPython.core.display.HTML object>"
      ]
     },
     "metadata": {},
     "output_type": "display_data"
    }
   ],
   "source": [
    "mov_=mc.anim_save(mc.rectif(mov_mask, contrast=.99), os.path.join(mc.figpath, name + '_mask'), verbose=False)\n",
    "mc.in_show_video(name, figpath=mc.figpath)"
   ]
  },
  {
   "cell_type": "markdown",
   "metadata": {},
   "source": []
  },
  {
   "cell_type": "code",
   "execution_count": 10,
   "metadata": {
    "collapsed": false
   },
   "outputs": [
    {
     "data": {
      "text/html": [
       "\n",
       "            <center><table border=none width=100% height=100%>\n",
       "            <tr> <td width=100%><center><video playsinline loop autoplay controls  src=\"../files/2015-02-19_MotionPlaid/MotionPlaid.mp4\" type=\"video/mp4\"  width=100%\\>\n",
       "            </td></tr></table></center>"
      ],
      "text/plain": [
       "<IPython.core.display.HTML object>"
      ]
     },
     "metadata": {},
     "output_type": "display_data"
    }
   ],
   "source": [
    "mov_=mc.anim_save(mc.rectif(mov/mov_mask, contrast=.99), os.path.join(mc.figpath, name + '_div-mask'), verbose=False)\n",
    "mc.in_show_video(name, figpath=mc.figpath)"
   ]
  },
  {
   "cell_type": "code",
   "execution_count": 11,
   "metadata": {
    "collapsed": false
   },
   "outputs": [
    {
     "name": "stdout",
     "output_type": "stream",
     "text": [
      "2.0 1.0\n"
     ]
    }
   ],
   "source": [
    "print (mov_mask.max(), mov_mask.min())"
   ]
  },
  {
   "cell_type": "code",
   "execution_count": 12,
   "metadata": {
    "collapsed": false
   },
   "outputs": [],
   "source": [
    "A = np.random.rand(5, 5)"
   ]
  },
  {
   "cell_type": "code",
   "execution_count": 13,
   "metadata": {
    "collapsed": false
   },
   "outputs": [
    {
     "data": {
      "text/plain": [
       "array([[0.43064154, 0.685696  , 0.83759052, 0.57948009, 0.62478965],\n",
       "       [0.12521843, 0.86895494, 0.21959545, 0.20643294, 0.41805521],\n",
       "       [0.13307147, 0.53089714, 0.6082179 , 0.59117388, 0.21733599],\n",
       "       [0.42241094, 0.31889594, 0.70038546, 0.7034166 , 0.85961836],\n",
       "       [0.7500114 , 0.38186557, 0.        , 0.87463093, 0.41161366]])"
      ]
     },
     "execution_count": 13,
     "metadata": {},
     "output_type": "execute_result"
    }
   ],
   "source": [
    "mc.rectif(A, contrast=1, verbose=False)"
   ]
  },
  {
   "cell_type": "code",
   "execution_count": 14,
   "metadata": {
    "collapsed": false
   },
   "outputs": [
    {
     "data": {
      "text/plain": [
       "array([[0.47445221, 0.75463556, 0.9214953 , 0.63795487, 0.68772849],\n",
       "       [0.13893768, 0.95594985, 0.24261308, 0.22815375, 0.46062583],\n",
       "       [0.14756443, 0.58458535, 0.66952404, 0.65080079, 0.240131  ],\n",
       "       [0.4654107 , 0.35169701, 0.77077229, 0.77410206, 0.9456934 ],\n",
       "       [0.82528755, 0.42087064, 0.00138227, 0.96218506, 0.45354962]])"
      ]
     },
     "execution_count": 14,
     "metadata": {},
     "output_type": "execute_result"
    }
   ],
   "source": [
    "A"
   ]
  },
  {
   "cell_type": "code",
   "execution_count": 17,
   "metadata": {
    "collapsed": false
   },
   "outputs": [],
   "source": [
    "size = 6\n",
    "mc.N_X, mc.N_Y, mc.N_frame = 2**size, 2**size, 2**size\n",
    "fx, fy, ft = mc.get_grids(mc.N_X, mc.N_Y, mc.N_frame)\n",
    "\n",
    "N_orient, N_overlap = 8, 3\n",
    "B_theta = 1."
   ]
  },
  {
   "cell_type": "code",
   "execution_count": 18,
   "metadata": {
    "collapsed": false
   },
   "outputs": [
    {
     "name": "stdout",
     "output_type": "stream",
     "text": [
      "1min 37s ± 2.34 s per loop (mean ± std. dev. of 7 runs, 1 loop each)\n"
     ]
    }
   ],
   "source": [
    "%%timeit -n1\n",
    "\n",
    "mov = mc.np.zeros(((N_orient*mc.N_X), (N_orient*mc.N_X), mc.N_frame))\n",
    "\n",
    "for i, theta1 in enumerate(np.linspace(0, 2*np.pi, N_orient*N_overlap, endpoint=False)[::-1]):\n",
    "    diag1 = mc.envelope_gabor(fx, fy, ft, theta=theta1, V_X=np.cos(theta1), V_Y=np.sin(theta1), B_theta=B_theta)\n",
    "    for j, theta2 in enumerate(np.linspace(0, 2*np.pi, N_orient*N_overlap, endpoint=False)):\n",
    "        mov_ = np.zeros_like(mov)\n",
    "        diag2 = mc.envelope_gabor(fx, fy, ft, theta=theta2, V_X=np.cos(theta2), V_Y=np.sin(theta2), B_theta=B_theta)\n",
    "        #mov[(i)*mc.N_X:(i+1)*mc.N_X, (j)*mc.N_Y : (j+1)*mc.N_Y, :] = mc.random_cloud(diag1 + diag2, seed=1234)\n",
    "        mov_[:mc.N_X, :mc.N_Y, :] = mc.random_cloud(diag1 + diag2, seed=1234)\n",
    "        #mov_[:mc.N_X, :mc.N_Y, :] = mask\n",
    "        mov_ = np.roll(mov_, i*mc.N_X//N_overlap, axis=0)\n",
    "        mov_ = np.roll(mov_, j*mc.N_Y//N_overlap, axis=1)\n",
    "        mov += mov_"
   ]
  },
  {
   "cell_type": "code",
   "execution_count": 19,
   "metadata": {
    "collapsed": false
   },
   "outputs": [
    {
     "name": "stdout",
     "output_type": "stream",
     "text": [
      "1min 4s ± 1.11 s per loop (mean ± std. dev. of 7 runs, 1 loop each)\n"
     ]
    }
   ],
   "source": [
    "%%timeit -n1\n",
    "\n",
    "mov = mc.np.zeros(((N_orient*mc.N_X), (N_orient*mc.N_X), mc.N_frame))\n",
    "\n",
    "for i, theta1 in enumerate(np.linspace(0, 2*np.pi, N_orient*N_overlap, endpoint=False)[::-1]):\n",
    "    diag1 = mc.envelope_gabor(fx, fy, ft, theta=theta1, V_X=np.cos(theta1), V_Y=np.sin(theta1), B_theta=B_theta)\n",
    "    mov_ = np.zeros_like(mov)\n",
    "    mov_[:mc.N_X, :mc.N_Y, :] = mc.random_cloud(diag1, seed=1234)\n",
    "    for j, theta2 in enumerate(np.linspace(0, 2*np.pi, N_orient*N_overlap, endpoint=False)):\n",
    "        mov += np.roll(mov_, j*mc.N_Y//N_overlap, axis=1)\n",
    "for j, theta2 in enumerate(np.linspace(0, 2*np.pi, N_orient*N_overlap, endpoint=False)):\n",
    "    diag2 = mc.envelope_gabor(fx, fy, ft, theta=theta2, V_X=np.cos(theta2), V_Y=np.sin(theta2), B_theta=B_theta)\n",
    "    mov_ = np.zeros_like(mov)\n",
    "    mov_[:mc.N_X, :mc.N_Y, :] = mc.random_cloud(diag2, seed=1234)\n",
    "    for i, theta1 in enumerate(np.linspace(0, 2*np.pi, N_orient*N_overlap, endpoint=False)[::-1]):\n",
    "        mov += np.roll(mov_, i*mc.N_X//N_overlap, axis=0)\n"
   ]
  },
  {
   "cell_type": "code",
   "execution_count": 20,
   "metadata": {
    "collapsed": false
   },
   "outputs": [
    {
     "name": "stdout",
     "output_type": "stream",
     "text": [
      "1min 1s ± 1.19 s per loop (mean ± std. dev. of 7 runs, 1 loop each)\n"
     ]
    }
   ],
   "source": [
    "%%timeit -n1\n",
    "\n",
    "mov = mc.np.zeros(((N_orient*mc.N_X), (N_orient*mc.N_X), mc.N_frame))\n",
    "mov1 = mc.np.zeros(((N_orient*mc.N_X), (N_orient*mc.N_X), mc.N_frame))\n",
    "mov2 = mc.np.zeros(((N_orient*mc.N_X), (N_orient*mc.N_X), mc.N_frame))\n",
    "\n",
    "for i, theta1 in enumerate(np.linspace(0, 2*np.pi, N_orient*N_overlap, endpoint=False)[::-1]):\n",
    "    diag1 = mc.envelope_gabor(fx, fy, ft, theta=theta1, V_X=np.cos(theta1), V_Y=np.sin(theta1), B_theta=B_theta)\n",
    "    mov_ = np.zeros_like(mov)\n",
    "    mov_[:mc.N_X, :mc.N_Y, :] = mc.random_cloud(diag1, seed=1234)\n",
    "    mov1 += np.roll(mov_, i*mc.N_X//N_overlap, axis=0)\n",
    "    mov2 += np.roll(mov_, i*mc.N_Y//N_overlap, axis=1)\n",
    "    for j, theta2 in enumerate(np.linspace(0, 2*np.pi, N_orient*N_overlap, endpoint=False)):\n",
    "        mov1 += np.roll(mov1, j*mc.N_Y//N_overlap, axis=1)\n",
    "        mov2 += np.roll(mov2, j*mc.N_Y//N_overlap, axis=0)\n",
    "\n",
    "mov = mov1 + mov2"
   ]
  },
  {
   "cell_type": "code",
   "execution_count": 21,
   "metadata": {
    "collapsed": false
   },
   "outputs": [
    {
     "name": "stdout",
     "output_type": "stream",
     "text": [
      "22.4 ms ± 2.09 ms per loop (mean ± std. dev. of 7 runs, 1 loop each)\n"
     ]
    }
   ],
   "source": [
    "%%timeit -n1\n",
    "\n",
    "diag1 = mc.envelope_gabor(fx, fy, ft)\n"
   ]
  },
  {
   "cell_type": "markdown",
   "metadata": {},
   "source": [
    "## some book keeping for the notebook"
   ]
  },
  {
   "cell_type": "code",
   "execution_count": 22,
   "metadata": {
    "ExecuteTime": {
     "end_time": "2018-11-07T16:19:23.177738Z",
     "start_time": "2018-11-07T16:19:23.125993Z"
    }
   },
   "outputs": [
    {
     "name": "stdout",
     "output_type": "stream",
     "text": [
      "Python implementation: CPython\n",
      "Python version       : 3.9.22\n",
      "IPython version      : 8.18.1\n",
      "\n",
      "numpy     : 1.26.4\n",
      "matplotlib: 3.9.4\n",
      "scipy     : 1.13.1\n",
      "pillow    : not installed\n",
      "imageio   : 2.37.0\n",
      "\n",
      "Compiler    : Clang 16.0.0 (clang-1600.0.26.6)\n",
      "OS          : Darwin\n",
      "Release     : 24.5.0\n",
      "Machine     : x86_64\n",
      "Processor   : i386\n",
      "CPU cores   : 36\n",
      "Architecture: 64bit\n",
      "\n",
      "Hostname: Ahsoka\n",
      "\n",
      "Git hash: deee42141be8a69b1ce6e6c24fbc1f5b89ab26e8\n",
      "\n",
      "Git repo: https://github.com/laurentperrinet/sciblog\n",
      "\n",
      "Git branch: master\n",
      "\n"
     ]
    }
   ],
   "source": [
    "%load_ext watermark\n",
    "%watermark -i -h -m -v -p numpy,matplotlib,scipy,pillow,imageio  -r -g -b"
   ]
  }
 ],
 "metadata": {
  "kernelspec": {
   "display_name": "Python 3",
   "language": "python",
   "name": "python3"
  },
  "language_info": {
   "codemirror_mode": {
    "name": "ipython",
    "version": 3
   },
   "file_extension": ".py",
   "mimetype": "text/x-python",
   "name": "python",
   "nbconvert_exporter": "python",
   "pygments_lexer": "ipython3",
   "version": "3.9.22"
  }
 },
 "nbformat": 4,
 "nbformat_minor": 2
}
