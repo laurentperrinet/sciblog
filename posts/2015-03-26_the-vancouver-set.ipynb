{
 "cells": [
  {
   "cell_type": "markdown",
   "metadata": {
    "collapsed": false
   },
   "source": [
    "I have heard Vancouver can get foggy and cloudy in the winter. Here, I will provide some examples of realistic simulations of it...\n",
    "\n",
    "This stimulation was used in the following poster presented at VSS:\n",
    "\n",
    "````\n",
    "\n",
    "@article{Kreyenmeier2016,\n",
    "author = {Kreyenmeier, Philipp and Fooken, Jolande and Spering, Miriam},\n",
    "doi = {10.1167/16.12.457},\n",
    "issn = {1534-7362},\n",
    "journal = {Journal of Vision},\n",
    "month = {sep},\n",
    "number = {12},\n",
    "pages = {457},\n",
    "publisher = {The Association for Research in Vision and Ophthalmology},\n",
    "title = {{Similar effects of visual context dynamics on eye and hand movements}},\n",
    "url = {http://jov.arvojournals.org/article.aspx?doi=10.1167/16.12.457},\n",
    "volume = {16},\n",
    "year = {2016}\n",
    "}\n",
    "\n",
    "````\n",
    "\n",
    "\n",
    "<!-- TEASER_END -->\n"
   ]
  },
  {
   "cell_type": "code",
   "execution_count": 1,
   "metadata": {
    "collapsed": false
   },
   "outputs": [],
   "source": [
    "%load_ext autoreload\n",
    "%autoreload 2\n",
    "import numpy as np\n",
    "np.set_printoptions(precision=3, suppress=True)\n",
    "import MotionClouds as mc\n",
    "import os\n",
    "# set some custom size:\n",
    "fx, fy, ft = mc.get_grids(200, 128, mc.N_frame)\n",
    "#!rm ../files/vancouver*"
   ]
  },
  {
   "cell_type": "markdown",
   "metadata": {},
   "source": [
    "## finding a good initial parameter"
   ]
  },
  {
   "cell_type": "markdown",
   "metadata": {},
   "source": [
    "The \"vanilla\" version of the Motion Cloud:"
   ]
  },
  {
   "cell_type": "code",
   "execution_count": 2,
   "metadata": {
    "collapsed": false
   },
   "outputs": [
    {
     "data": {
      "text/html": [
       "\n",
       "                <center><table border=none width=100% height=100%>\n",
       "                <tr>\n",
       "                <td width=33%%><center><img src=\"../files/vancouver.png\" width=100%/></td>\n",
       "                <td rowspan=2  colspan=2><center><video src=\"../files/vancouver.mp4\"   loop=\"1\" autoplay=\"1\" controls   type=\"video/mp4\" width=100%/></td>\n",
       "                </tr>\n",
       "                <tr>\n",
       "                <td><center><img src=\"../files/vancouver_cube.png\" width=100%/></td>\n",
       "                </tr>\n",
       "                </table></center>"
      ],
      "text/plain": [
       "<IPython.core.display.HTML object>"
      ]
     },
     "metadata": {},
     "output_type": "display_data"
    }
   ],
   "source": [
    "name = 'vancouver'\n",
    "mc.figures_MC(fx, fy, ft, name)\n",
    "mc.in_show_video(name)"
   ]
  },
  {
   "cell_type": "markdown",
   "metadata": {},
   "source": [
    "To create a fog, the spatial frenquency should be less precise, so its sufficient to make the bandwidth large. The units are absolute (relative to the Nyquist frequency). So, a value of 1 is already big. Also, (except if it rains?) we can similarly assume a large bandwidth for the orientation."
   ]
  },
  {
   "cell_type": "code",
   "execution_count": 3,
   "metadata": {
    "collapsed": false,
    "scrolled": true
   },
   "outputs": [
    {
     "data": {
      "text/html": [
       "\n",
       "                <center><table border=none width=100% height=100%>\n",
       "                <tr>\n",
       "                <td width=33%%><center><img src=\"../files/vancouver-fog.png\" width=100%/></td>\n",
       "                <td rowspan=2  colspan=2><center><video src=\"../files/vancouver-fog.mp4\"   loop=\"1\" autoplay=\"1\" controls   type=\"video/mp4\" width=100%/></td>\n",
       "                </tr>\n",
       "                <tr>\n",
       "                <td><center><img src=\"../files/vancouver-fog_cube.png\" width=100%/></td>\n",
       "                </tr>\n",
       "                </table></center>"
      ],
      "text/plain": [
       "<IPython.core.display.HTML object>"
      ]
     },
     "metadata": {},
     "output_type": "display_data"
    }
   ],
   "source": [
    "name = 'vancouver-fog'\n",
    "mc.figures_MC(fx, fy, ft, name, B_sf=.3, B_theta=10.)\n",
    "mc.in_show_video(name)"
   ]
  },
  {
   "cell_type": "markdown",
   "metadata": {},
   "source": [
    "It is easy to save that file in another format like the matlab binary format (use ``vext='.mat``) or using the more universal [HDF5](http://www.hdfgroup.org/HDF5/) format  (use ``vext='.h5'``):"
   ]
  },
  {
   "cell_type": "code",
   "execution_count": 4,
   "metadata": {
    "collapsed": false
   },
   "outputs": [],
   "source": [
    "env = mc.envelope_gabor(fx, fy, ft, B_sf=.3, B_theta=10.) # makes an envelope in Fourier space\n",
    "mov = mc.random_cloud(env) # transforms the envelope into a movie\n",
    "mc.anim_save(mov, os.path.join('../files', name), vext='.mat') # saves that movie into MATLAB format\n",
    "#mc.anim_save(mov, os.path.join('../files', name), vext='.h5') # saves that movie into HDF5 format"
   ]
  },
  {
   "cell_type": "markdown",
   "metadata": {},
   "source": [
    "Now you may directly download that file from [this link](../files/vancouver-fog.mat)."
   ]
  },
  {
   "cell_type": "markdown",
   "metadata": {},
   "source": [
    "## parameterizing the set"
   ]
  },
  {
   "cell_type": "markdown",
   "metadata": {},
   "source": [
    "Now that we got a good fog, we may want to try out different speeds:"
   ]
  },
  {
   "cell_type": "code",
   "execution_count": 5,
   "metadata": {
    "collapsed": false
   },
   "outputs": [
    {
     "data": {
      "text/html": [
       "\n",
       "                <center><table border=none width=100% height=100%>\n",
       "                <tr>\n",
       "                <td width=33%%><center><img src=\"../files/vancouver-fog-V_X--1_0.png\" width=100%/></td>\n",
       "                <td rowspan=2  colspan=2><center><video src=\"../files/vancouver-fog-V_X--1_0.mp4\"   loop=\"1\" autoplay=\"1\" controls   type=\"video/mp4\" width=100%/></td>\n",
       "                </tr>\n",
       "                <tr>\n",
       "                <td><center><img src=\"../files/vancouver-fog-V_X--1_0_cube.png\" width=100%/></td>\n",
       "                </tr>\n",
       "                </table></center>"
      ],
      "text/plain": [
       "<IPython.core.display.HTML object>"
      ]
     },
     "metadata": {},
     "output_type": "display_data"
    },
    {
     "data": {
      "text/html": [
       "\n",
       "                <center><table border=none width=100% height=100%>\n",
       "                <tr>\n",
       "                <td width=33%%><center><img src=\"../files/vancouver-fog-V_X--0_5.png\" width=100%/></td>\n",
       "                <td rowspan=2  colspan=2><center><video src=\"../files/vancouver-fog-V_X--0_5.mp4\"   loop=\"1\" autoplay=\"1\" controls   type=\"video/mp4\" width=100%/></td>\n",
       "                </tr>\n",
       "                <tr>\n",
       "                <td><center><img src=\"../files/vancouver-fog-V_X--0_5_cube.png\" width=100%/></td>\n",
       "                </tr>\n",
       "                </table></center>"
      ],
      "text/plain": [
       "<IPython.core.display.HTML object>"
      ]
     },
     "metadata": {},
     "output_type": "display_data"
    },
    {
     "data": {
      "text/html": [
       "\n",
       "                <center><table border=none width=100% height=100%>\n",
       "                <tr>\n",
       "                <td width=33%%><center><img src=\"../files/vancouver-fog-V_X-0_0.png\" width=100%/></td>\n",
       "                <td rowspan=2  colspan=2><center><video src=\"../files/vancouver-fog-V_X-0_0.mp4\"   loop=\"1\" autoplay=\"1\" controls   type=\"video/mp4\" width=100%/></td>\n",
       "                </tr>\n",
       "                <tr>\n",
       "                <td><center><img src=\"../files/vancouver-fog-V_X-0_0_cube.png\" width=100%/></td>\n",
       "                </tr>\n",
       "                </table></center>"
      ],
      "text/plain": [
       "<IPython.core.display.HTML object>"
      ]
     },
     "metadata": {},
     "output_type": "display_data"
    },
    {
     "data": {
      "text/html": [
       "\n",
       "                <center><table border=none width=100% height=100%>\n",
       "                <tr>\n",
       "                <td width=33%%><center><img src=\"../files/vancouver-fog-V_X-0_1.png\" width=100%/></td>\n",
       "                <td rowspan=2  colspan=2><center><video src=\"../files/vancouver-fog-V_X-0_1.mp4\"   loop=\"1\" autoplay=\"1\" controls   type=\"video/mp4\" width=100%/></td>\n",
       "                </tr>\n",
       "                <tr>\n",
       "                <td><center><img src=\"../files/vancouver-fog-V_X-0_1_cube.png\" width=100%/></td>\n",
       "                </tr>\n",
       "                </table></center>"
      ],
      "text/plain": [
       "<IPython.core.display.HTML object>"
      ]
     },
     "metadata": {},
     "output_type": "display_data"
    },
    {
     "data": {
      "text/html": [
       "\n",
       "                <center><table border=none width=100% height=100%>\n",
       "                <tr>\n",
       "                <td width=33%%><center><img src=\"../files/vancouver-fog-V_X-0_5.png\" width=100%/></td>\n",
       "                <td rowspan=2  colspan=2><center><video src=\"../files/vancouver-fog-V_X-0_5.mp4\"   loop=\"1\" autoplay=\"1\" controls   type=\"video/mp4\" width=100%/></td>\n",
       "                </tr>\n",
       "                <tr>\n",
       "                <td><center><img src=\"../files/vancouver-fog-V_X-0_5_cube.png\" width=100%/></td>\n",
       "                </tr>\n",
       "                </table></center>"
      ],
      "text/plain": [
       "<IPython.core.display.HTML object>"
      ]
     },
     "metadata": {},
     "output_type": "display_data"
    },
    {
     "data": {
      "text/html": [
       "\n",
       "                <center><table border=none width=100% height=100%>\n",
       "                <tr>\n",
       "                <td width=33%%><center><img src=\"../files/vancouver-fog-V_X-1_0.png\" width=100%/></td>\n",
       "                <td rowspan=2  colspan=2><center><video src=\"../files/vancouver-fog-V_X-1_0.mp4\"   loop=\"1\" autoplay=\"1\" controls   type=\"video/mp4\" width=100%/></td>\n",
       "                </tr>\n",
       "                <tr>\n",
       "                <td><center><img src=\"../files/vancouver-fog-V_X-1_0_cube.png\" width=100%/></td>\n",
       "                </tr>\n",
       "                </table></center>"
      ],
      "text/plain": [
       "<IPython.core.display.HTML object>"
      ]
     },
     "metadata": {},
     "output_type": "display_data"
    },
    {
     "data": {
      "text/html": [
       "\n",
       "                <center><table border=none width=100% height=100%>\n",
       "                <tr>\n",
       "                <td width=33%%><center><img src=\"../files/vancouver-fog-V_X-4_0.png\" width=100%/></td>\n",
       "                <td rowspan=2  colspan=2><center><video src=\"../files/vancouver-fog-V_X-4_0.mp4\"   loop=\"1\" autoplay=\"1\" controls   type=\"video/mp4\" width=100%/></td>\n",
       "                </tr>\n",
       "                <tr>\n",
       "                <td><center><img src=\"../files/vancouver-fog-V_X-4_0_cube.png\" width=100%/></td>\n",
       "                </tr>\n",
       "                </table></center>"
      ],
      "text/plain": [
       "<IPython.core.display.HTML object>"
      ]
     },
     "metadata": {},
     "output_type": "display_data"
    }
   ],
   "source": [
    "for V_X in [-1.0, -0.5, 0.0, 0.1, 0.5, 1.0, 4.0]:\n",
    "    name_ = name + '-V_X-' + str(V_X).replace('.', '_')\n",
    "    mc.figures_MC(fx, fy, ft, name_, V_X=V_X, B_sf=1., B_theta=10.)\n",
    "    mc.in_show_video(name_)"
   ]
  },
  {
   "cell_type": "markdown",
   "metadata": {},
   "source": [
    "Obviously, a speed of $4$ seems to introduce aliasing. That effect is expected and should be avoided."
   ]
  }
 ],
 "metadata": {
  "kernelspec": {
   "display_name": "Python 3",
   "language": "python",
   "name": "python3"
  },
  "language_info": {
   "codemirror_mode": {
    "name": "ipython",
    "version": 3
   },
   "file_extension": ".py",
   "mimetype": "text/x-python",
   "name": "python",
   "nbconvert_exporter": "python",
   "pygments_lexer": "ipython3",
   "version": "3.5.2"
  }
 },
 "nbformat": 4,
 "nbformat_minor": 0
}
