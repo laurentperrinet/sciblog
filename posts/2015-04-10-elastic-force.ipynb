{
 "cells": [
  {
   "cell_type": "markdown",
   "metadata": {},
   "source": [
    "L'installation [Elasticité dynamique](https://github.com/laurentperrinet/elasticite) agit comme un filtre et génère de nouveaux espaces démultipliés, comme un empilement quasi infini d'horizons. Par principe de réflexion, la pièce absorbe l'image de l'environnement et accumule les points de vue ; le mouvement permanent requalifie continuellement ce qui est regardé et entendu. \n",
    "\n",
    "On va maintenant utiliser des forces elastiques pour coordonner la dynamique des lames dans la trame.\n",
    "\n",
    "\n",
    "<!-- TEASER_END -->"
   ]
  },
  {
   "cell_type": "code",
   "execution_count": 2,
   "metadata": {
    "collapsed": false
   },
   "outputs": [],
   "source": [
    "%load_ext autoreload\n",
    "%autoreload 2"
   ]
  },
  {
   "cell_type": "code",
   "execution_count": 3,
   "metadata": {
    "collapsed": true
   },
   "outputs": [],
   "source": [
    "from elasticite import EdgeGrid\n",
    "e = EdgeGrid(N_lame = 72, grid_type = 'hex', verb=False, structure=False)\n",
    "fps = 20\n",
    "loop = 1\n",
    "autoplay = 0\n"
   ]
  },
  {
   "cell_type": "code",
   "execution_count": 4,
   "metadata": {
    "collapsed": false
   },
   "outputs": [
    {
     "name": "stdout",
     "output_type": "stream",
     "text": [
      "[MoviePy] >>>> Building video ../files/2015-10-14_elasticite/test_grid2.mp4\n",
      "[MoviePy] Writing video ../files/2015-10-14_elasticite/test_grid2.mp4\n"
     ]
    },
    {
     "name": "stderr",
     "output_type": "stream",
     "text": [
      "                                               "
     ]
    },
    {
     "name": "stdout",
     "output_type": "stream",
     "text": [
      "[MoviePy] Done.\n",
      "[MoviePy] >>>> Video ready: ../files/2015-10-14_elasticite/test_grid2.mp4 \n",
      "\n"
     ]
    },
    {
     "name": "stderr",
     "output_type": "stream",
     "text": [
      "\r"
     ]
    },
    {
     "data": {
      "text/html": [
       "\n",
       "            <center><table border=none width=100% height=100%>\n",
       "            <tr> <td width=100%><center><video  loop=\"1\" autoplay=\"1\" controls  src=\"../files/2015-10-14_elasticite/test_grid2.mp4\" type=\"video/webm\"  width=100%>\n",
       "            </td></tr></table></center>"
      ],
      "text/plain": [
       "<IPython.core.display.HTML object>"
      ]
     },
     "metadata": {},
     "output_type": "display_data"
    }
   ],
   "source": [
    "name = 'test_grid2'\n",
    "import numpy as np\n",
    "\n",
    "e = EdgeGrid(N_lame = 72, grid_type = 'hex', verb=False, structure=False)\n",
    "duration = 3.\n",
    "def make_lames(lames, t):\n",
    "    return lames[0, :] * np.pi +  t*np.pi/duration\n",
    "\n",
    "duration = 3.\n",
    "e.make_anim(name, make_lames, duration=duration)\n",
    "e.ipython_display(name)\n"
   ]
  },
  {
   "cell_type": "code",
   "execution_count": 5,
   "metadata": {
    "collapsed": false
   },
   "outputs": [
    {
     "data": {
      "text/html": [
       "\n",
       "            <center><table border=none width=100% height=100%>\n",
       "            <tr> <td width=100%><center><video  loop=\"1\" autoplay=\"1\" controls  src=\"../files/2015-10-14_elasticite/parallel_force.mp4\" type=\"video/webm\"  width=100%>\n",
       "            </td></tr></table></center>"
      ],
      "text/plain": [
       "<IPython.core.display.HTML object>"
      ]
     },
     "metadata": {},
     "output_type": "display_data"
    }
   ],
   "source": [
    "name = 'parallel_force'\n",
    "import numpy as np\n",
    "# re-init\n",
    "e.lames[2, :] = np.pi*np.random.randn(e.N_lame)\n",
    "\n",
    "# distance\n",
    "dx = e.lames[0, :, np.newaxis]-e.lames[0, np.newaxis, :]\n",
    "dy = e.lames[1, :, np.newaxis]-e.lames[1, np.newaxis, :]\n",
    "\n",
    "distance = np.sqrt(dx **2 + dy **2)\n",
    "\n",
    "def make_lames(lames, t):\n",
    "    angle_relatif = lames[2, :, np.newaxis]-lames[2, np.newaxis, :]\n",
    "    lames[2, :] += -.0001 * np.sum(np.sin(2*angle_relatif)/(distance+.1), axis=1)\n",
    "    lames[2, :] += .01*np.pi*np.random.randn(e.N_lame)\n",
    "    return lames[2, :]\n",
    "\n",
    "duration = 10.\n",
    "e.make_anim(name, make_lames, duration=duration, redo=False)\n",
    "e.ipython_display(name)"
   ]
  },
  {
   "cell_type": "code",
   "execution_count": 6,
   "metadata": {
    "collapsed": false
   },
   "outputs": [
    {
     "name": "stdout",
     "output_type": "stream",
     "text": [
      "[MoviePy] >>>> Building video ../files/2015-10-14_elasticite/cocircular_force.mp4\n",
      "[MoviePy] Writing video ../files/2015-10-14_elasticite/cocircular_force.mp4\n"
     ]
    },
    {
     "name": "stderr",
     "output_type": "stream",
     "text": [
      "                                                 "
     ]
    },
    {
     "name": "stdout",
     "output_type": "stream",
     "text": [
      "[MoviePy] Done.\n",
      "[MoviePy] >>>> Video ready: ../files/2015-10-14_elasticite/cocircular_force.mp4 \n",
      "\n"
     ]
    },
    {
     "name": "stderr",
     "output_type": "stream",
     "text": [
      "\r"
     ]
    },
    {
     "data": {
      "text/html": [
       "\n",
       "            <center><table border=none width=100% height=100%>\n",
       "            <tr> <td width=100%><center><video  loop=\"1\" autoplay=\"1\" controls  src=\"../files/2015-10-14_elasticite/cocircular_force.mp4\" type=\"video/webm\"  width=100%>\n",
       "            </td></tr></table></center>"
      ],
      "text/plain": [
       "<IPython.core.display.HTML object>"
      ]
     },
     "metadata": {},
     "output_type": "display_data"
    }
   ],
   "source": [
    "name = 'cocircular_force'\n",
    "# re-init\n",
    "e.lames[2, :] = np.pi*np.random.randn(e.N_lame)\n",
    "\n",
    "# distance\n",
    "dx = e.lames[0, :, np.newaxis]-e.lames[0, np.newaxis, :]\n",
    "dy = e.lames[1, :, np.newaxis]-e.lames[1, np.newaxis, :]\n",
    "\n",
    "distance = np.sqrt(dx **2 + dy **2)\n",
    "\n",
    "def make_lames(lames, t):\n",
    "    theta = lames[2, :, np.newaxis]-lames[2, np.newaxis, :]\n",
    "    psi = np.arctan2(dy, dx) - np.pi/2 - theta\n",
    "    psi -= theta/2\n",
    "    lames[2, :] += .000125 * np.sum(np.sin(2**psi)/(distance+.1), axis=1)\n",
    "    lames[2, :] += .00*np.pi*np.random.randn(e.N_lame)\n",
    "    return lames[2, :]\n",
    "\n",
    "duration = 10.\n",
    "e.make_anim(name, make_lames, duration=duration)#, redo=True)\n",
    "e.ipython_display(name)"
   ]
  },
  {
   "cell_type": "code",
   "execution_count": 7,
   "metadata": {
    "collapsed": false
   },
   "outputs": [
    {
     "name": "stdout",
     "output_type": "stream",
     "text": [
      "[MoviePy] >>>> Building video ../files/2015-10-14_elasticite/cocircular_antiparallel_force.mp4\n",
      "[MoviePy] Writing video ../files/2015-10-14_elasticite/cocircular_antiparallel_force.mp4\n"
     ]
    },
    {
     "name": "stderr",
     "output_type": "stream",
     "text": [
      "                                                 "
     ]
    },
    {
     "name": "stdout",
     "output_type": "stream",
     "text": [
      "[MoviePy] Done.\n",
      "[MoviePy] >>>> Video ready: ../files/2015-10-14_elasticite/cocircular_antiparallel_force.mp4 \n",
      "\n"
     ]
    },
    {
     "name": "stderr",
     "output_type": "stream",
     "text": [
      "\r"
     ]
    },
    {
     "data": {
      "text/html": [
       "\n",
       "            <center><table border=none width=100% height=100%>\n",
       "            <tr> <td width=100%><center><video  loop=\"1\" autoplay=\"1\" controls  src=\"../files/2015-10-14_elasticite/cocircular_antiparallel_force.mp4\" type=\"video/webm\"  width=100%>\n",
       "            </td></tr></table></center>"
      ],
      "text/plain": [
       "<IPython.core.display.HTML object>"
      ]
     },
     "metadata": {},
     "output_type": "display_data"
    }
   ],
   "source": [
    "name = 'cocircular_antiparallel_force'\n",
    "import numpy as np\n",
    "# re-init\n",
    "e.lames[2, :] = np.pi*np.random.randn(e.N_lame)\n",
    "\n",
    "# distance\n",
    "dx = e.lames[0, :, np.newaxis]-e.lames[0, np.newaxis, :]\n",
    "dy = e.lames[1, :, np.newaxis]-e.lames[1, np.newaxis, :]\n",
    "\n",
    "distance = np.sqrt(dx **2 + dy **2)\n",
    "\n",
    "def make_lames(lames, t):\n",
    "    theta = lames[2, :, np.newaxis]-lames[2, np.newaxis, :]\n",
    "    psi = np.arctan2(dy, dx) - np.pi/2 - theta\n",
    "    psi -= theta/2\n",
    "    lames[2, :] += .00125 * np.sum(np.sin(theta)/(distance+.1), axis=1)\n",
    "    lames[2, :] += -.00125 * np.sum(np.sin(psi)/(distance+.1), axis=1)\n",
    "    lames[2, :] += .001*np.pi*np.random.randn(e.N_lame)\n",
    "    return lames[2, :]\n",
    "\n",
    "duration = 10.\n",
    "e.make_anim(name, make_lames, duration=duration)#, redo=True)\n",
    "e.ipython_display(name)"
   ]
  }
 ],
 "metadata": {
  "kernelspec": {
   "display_name": "Python 3",
   "language": "python",
   "name": "python3"
  },
  "language_info": {
   "codemirror_mode": {
    "name": "ipython",
    "version": 3
   },
   "file_extension": ".py",
   "mimetype": "text/x-python",
   "name": "python",
   "nbconvert_exporter": "python",
   "pygments_lexer": "ipython3",
   "version": "3.5.2"
  }
 },
 "nbformat": 4,
 "nbformat_minor": 0
}
