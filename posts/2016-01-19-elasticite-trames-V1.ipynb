{
 "cells": [
  {
   "cell_type": "markdown",
   "metadata": {},
   "source": [
    "L'installation [Elasticité dynamique](https://github.com/laurentperrinet/elasticite) agit comme un filtre et génère de nouveaux espaces démultipliés, comme un empilement quasi infini d'horizons. Par principe de réflexion, la pièce absorbe l'image de l'environnement et accumule les points de vue ; le mouvement permanent requalifie continuellement ce qui est regardé et entendu. \n",
    "\n",
    "On va maintenant utiliser des forces elastiques pour coordonner la dynamique des lames dans la trame.\n",
    "\n",
    "\n",
    "<!-- TEASER_END -->"
   ]
  },
  {
   "cell_type": "code",
   "execution_count": 1,
   "metadata": {
    "collapsed": false
   },
   "outputs": [],
   "source": [
    "%load_ext autoreload\n",
    "%autoreload 2"
   ]
  },
  {
   "cell_type": "code",
   "execution_count": 2,
   "metadata": {
    "collapsed": false
   },
   "outputs": [
    {
     "name": "stdout",
     "output_type": "stream",
     "text": [
      "Overwriting ../files/2015-10-14_elasticite/scenario_grille_carre.py\n"
     ]
    }
   ],
   "source": [
    "%%writefile ../files/2015-10-14_elasticite/scenario_grille_carre.py\n",
    "#!/usr/bin/env python3\n",
    "# -*- coding: utf8 -*-\n",
    "\n",
    "\"\"\"\n",
    "\n",
    "Dans une grille en tore (pacman) privilégie les co-linéarités à angle droit.\n",
    "\n",
    "\"\"\"\n",
    "import elasticite as el\n",
    "import numpy as np\n",
    "class EdgeGrid(el.EdgeGrid):\n",
    "    def champ(self):\n",
    "        force = np.zeros_like(self.lames[2, :])\n",
    "        damp = lambda t: 0.1\n",
    "        noise = lambda t: 2* np.exp((np.cos(2*np.pi*(t-0.) / 6.)-1.)/ 1.**2)\n",
    "        colin_t = lambda t: -2.*np.exp((np.cos(2*np.pi*(t-4.) / 6.)-1.)/ 1.**2)\n",
    "        colin_d = lambda d: np.exp(-d/.05)\n",
    "        #colin_d = lambda d: -1. + 2*np.exp(-np.log((d+1.e-12)/.1)**2/2/1.5**2)\n",
    "        delta_angle = self.angle_relatif()-np.pi/2.\n",
    "        #delta_angle *= np.sign(delta_angle)\n",
    "        force += colin_t(self.t) * np.sum(np.sin(4*delta_angle)*colin_d(self.distance(do_torus=True)), axis=1)\n",
    "        force += noise(self.t)*np.pi*np.random.randn(self.N_lame)\n",
    "        force -= damp(self.t) * self.lames[3, :]/self.dt\n",
    "        return .1 * force\n",
    "\n",
    "if __name__ == \"__main__\":\n",
    "    import sys\n",
    "    if len(sys.argv)>1: mode = sys.argv[1]\n",
    "    else: mode = 'both'\n",
    "    e = EdgeGrid(N_lame=72, mode=mode, verb=False, structure=False)\n",
    "    el.main(e, name='grille_carre')"
   ]
  },
  {
   "cell_type": "code",
   "execution_count": 3,
   "metadata": {
    "collapsed": false
   },
   "outputs": [
    {
     "data": {
      "text/html": [
       "\n",
       "            <center><table border=none width=100% height=100%>\n",
       "            <tr> <td width=100%><center><video  loop=\"1\" autoplay=\"1\" controls  src=\"../files/2015-10-14_elasticite/grille_carre.mp4\" type=\"video/webm\"  width=100%>\n",
       "            </td></tr></table></center>"
      ],
      "text/plain": [
       "<IPython.core.display.HTML object>"
      ]
     },
     "metadata": {},
     "output_type": "display_data"
    }
   ],
   "source": [
    "%run ../files/2015-10-14_elasticite/scenario_grille_carre.py notebook"
   ]
  },
  {
   "cell_type": "code",
   "execution_count": 4,
   "metadata": {
    "collapsed": false
   },
   "outputs": [
    {
     "name": "stdout",
     "output_type": "stream",
     "text": [
      "Overwriting ../files/2015-10-14_elasticite/scenario_grille_contours.py\n"
     ]
    }
   ],
   "source": [
    "%%writefile ../files/2015-10-14_elasticite/scenario_grille_contours.py\n",
    "#!/usr/bin/env python3\n",
    "# -*- coding: utf8 -*-\n",
    "\n",
    "\"\"\"\n",
    "\n",
    "Dans une grille en tore (pacman) privilégie les co-circulrités en évitant les co-linéarités\n",
    "\n",
    "Short-range pour donner des patterns locaux\n",
    "\n",
    "\"\"\"\n",
    "import sys\n",
    "if len(sys.argv)>1: mode = sys.argv[1]\n",
    "else: mode = 'both'\n",
    "\n",
    "import elasticite as el\n",
    "import numpy as np\n",
    "class EdgeGrid(el.EdgeGrid):\n",
    "    def champ(self):\n",
    "        force = np.zeros_like(self.lames[2, :])\n",
    "        noise = lambda t: .1* np.exp((np.cos(2*np.pi*(t-0.) / 6.)-1.)/ 1.5**2)\n",
    "        damp = lambda t: 0.001 #* np.exp(np.cos(t / 6.) / 3.**2)\n",
    "        cocir_t = lambda t: 4.*np.exp((np.cos(2*np.pi*(t-2.) / 6.)-1.)/ .5**2)\n",
    "        cocir_d = lambda d: np.exp(-d/.1)\n",
    "        colin_t = lambda t: 2.*np.exp((np.cos(2*np.pi*(t-4.) / 6.)-1.)/ .5**2)\n",
    "        colin_d = lambda d: np.exp(-d/.05)\n",
    "\n",
    "        VM_grad = lambda angle, sigma: -2*np.sin(2*angle)*np.exp(np.cos(2*angle)/sigma**2)\n",
    "\n",
    "        force += colin_t(self.t) * np.sum(VM_grad(self.angle_relatif(), np.pi/2)*colin_d(self.distance(do_torus=True)), axis=1)\n",
    "        force += cocir_t(self.t) * np.sum(VM_grad(self.angle_cocir(do_torus=True), np.pi/6)*cocir_d(self.distance(do_torus=True)), axis=1)\n",
    "        force += noise(self.t)*np.pi*np.random.randn(self.N_lame)\n",
    "        force -= damp(self.t) * self.lames[3, :]/self.dt\n",
    "        return .1 * force\n",
    "\n",
    "if __name__ == \"__main__\":\n",
    "    import sys\n",
    "    if len(sys.argv)>1: mode = sys.argv[1]\n",
    "    else: mode = 'both'\n",
    "    e = EdgeGrid(N_lame=72, mode=mode, verb=False, structure=False)\n",
    "    #el.main(e)\n",
    "    name = 'grille_v1_contours'\n",
    "    el.main(e, name)"
   ]
  },
  {
   "cell_type": "code",
   "execution_count": 5,
   "metadata": {
    "collapsed": false
   },
   "outputs": [
    {
     "data": {
      "text/html": [
       "\n",
       "            <center><table border=none width=100% height=100%>\n",
       "            <tr> <td width=100%><center><video  loop=\"1\" autoplay=\"1\" controls  src=\"../files/2015-10-14_elasticite/grille_v1_contours.mp4\" type=\"video/webm\"  width=100%>\n",
       "            </td></tr></table></center>"
      ],
      "text/plain": [
       "<IPython.core.display.HTML object>"
      ]
     },
     "metadata": {},
     "output_type": "display_data"
    }
   ],
   "source": [
    "%run ../files/2015-10-14_elasticite/scenario_grille_contours.py notebook"
   ]
  },
  {
   "cell_type": "code",
   "execution_count": 6,
   "metadata": {
    "collapsed": false
   },
   "outputs": [
    {
     "name": "stdout",
     "output_type": "stream",
     "text": [
      "Overwriting ../files/2015-10-14_elasticite/scenario_grille_triangles.py\n"
     ]
    }
   ],
   "source": [
    "%%writefile ../files/2015-10-14_elasticite/scenario_grille_triangles.py\n",
    "#!/usr/bin/env python3\n",
    "# -*- coding: utf8 -*-\n",
    "\n",
    "\"\"\"\n",
    "\n",
    "Dans une grille en tore (pacman) privilégie les co-linéarités à angles triangulaires.\n",
    "\n",
    "\"\"\"\n",
    "import sys\n",
    "if len(sys.argv)>1: mode = sys.argv[1]\n",
    "else: mode = 'both'\n",
    "\n",
    "import elasticite as el\n",
    "import numpy as np\n",
    "class EdgeGrid(el.EdgeGrid):\n",
    "    def champ(self):\n",
    "        force = np.zeros_like(self.lames[2, :])\n",
    "        noise = lambda t: 2* np.exp((np.cos(2*np.pi*(t-0.) / 6.)-1.)/ 1.**2)\n",
    "        damp = lambda t: 0.001 #* np.exp(np.cos(t / 6.) / 3.**2)\n",
    "        colin_t = lambda t: -2.*np.exp((np.cos(2*np.pi*(t-3.) / 6.)-1.)/ 1.**2)\n",
    "        colin_d = lambda d: np.exp(-d/.05) #np.exp(-np.log((d+1.e-12)/.05)**2/2/1.5)\n",
    "\n",
    "        #delta_angle = np.mod(self.angle_relatif()-np.pi/3., 2*np.pi/3)\n",
    "        delta_angle = self.angle_relatif()-np.pi/3.\n",
    "        #delta_angle *= np.sign(delta_angle)\n",
    "        force += colin_t(self.t) * np.sum(np.sin(6*delta_angle)*colin_d(self.distance(do_torus=True)), axis=1)\n",
    "        force += noise(self.t)*np.pi*np.random.randn(self.N_lame)\n",
    "        force -= damp(self.t) * self.lames[3, :]/self.dt\n",
    "        return .1 * force\n",
    "\n",
    "if __name__ == \"__main__\":\n",
    "    import sys\n",
    "    if len(sys.argv)>1: mode = sys.argv[1]\n",
    "    else: mode = 'both'\n",
    "    e = el.EdgeGrid(N_lame=72*4, mode=mode, verb=False, structure=False)\n",
    "    #el.main(e)\n",
    "    name = 'grille_v1_triangles'\n",
    "    el.main(e, name)"
   ]
  },
  {
   "cell_type": "code",
   "execution_count": 7,
   "metadata": {
    "collapsed": false
   },
   "outputs": [
    {
     "data": {
      "text/html": [
       "\n",
       "            <center><table border=none width=100% height=100%>\n",
       "            <tr> <td width=100%><center><video  loop=\"1\" autoplay=\"1\" controls  src=\"../files/2015-10-14_elasticite/grille_v1_triangles.mp4\" type=\"video/webm\"  width=100%>\n",
       "            </td></tr></table></center>"
      ],
      "text/plain": [
       "<IPython.core.display.HTML object>"
      ]
     },
     "metadata": {},
     "output_type": "display_data"
    }
   ],
   "source": [
    "%run ../files/2015-10-14_elasticite/scenario_grille_triangles.py notebook"
   ]
  },
  {
   "cell_type": "code",
   "execution_count": 9,
   "metadata": {
    "collapsed": false
   },
   "outputs": [
    {
     "data": {
      "text/html": [
       "\n",
       "            <center><table border=none width=100% height=100%>\n",
       "            <tr> <td width=100%><center><video  loop=\"1\" autoplay=\"1\" controls  src=\"../files/2015-10-14_elasticite/grille_v1.mp4\" type=\"video/webm\"  width=100%>\n",
       "            </td></tr></table></center>"
      ],
      "text/plain": [
       "<IPython.core.display.HTML object>"
      ]
     },
     "metadata": {},
     "output_type": "display_data"
    }
   ],
   "source": [
    "import elasticite as el\n",
    "e = el.EdgeGrid(mode='notebook', verb=False, structure=False)\n",
    "#el.main(e)\n",
    "name = 'grille_v1'\n",
    "el.main(e, name)"
   ]
  },
  {
   "cell_type": "code",
   "execution_count": 10,
   "metadata": {
    "collapsed": false
   },
   "outputs": [
    {
     "name": "stdout",
     "output_type": "stream",
     "text": [
      "Overwriting ../files/2015-10-14_elasticite/scenario_grille_v1_tore.py\n"
     ]
    }
   ],
   "source": [
    "%%writefile ../files/2015-10-14_elasticite/scenario_grille_v1_tore.py\n",
    "#!/usr/bin/env python\n",
    "# -*- coding: utf8 -*-\n",
    "\n",
    "\"\"\"\n",
    "\n",
    "Dans une grille en tore (pacman) privilégie les co-circulrités en évitant les co-linéarités\n",
    "\n",
    "Short-range pour donner des patterns locaux\n",
    "\n",
    "\"\"\"\n",
    "\n",
    "import elasticite as el\n",
    "import numpy as np\n",
    "class EdgeGrid(el.EdgeGrid):\n",
    "    def champ(self):\n",
    "        force = np.zeros_like(self.lames[2, :])\n",
    "        noise = lambda t: 1.* np.exp((np.cos(2*np.pi*(t-0.) / 6.)-1.)/ 1.5**2)\n",
    "        damp = lambda t: 0.001 #* np.exp(np.cos(t / 6.) / 3.**2)\n",
    "        cocir_t = lambda t: 1.5*np.exp((np.cos(2*np.pi*(t-2.) / 6.)-1.)/ .3**2)\n",
    "        cocir_d = lambda d: np.exp(-d/.1)\n",
    "        colin_t = lambda t: -2.*np.exp((np.cos(2*np.pi*(t-4.) / 6.)-1.)/ .5**2)\n",
    "        colin_d = lambda d: np.exp(-d/.05)\n",
    "\n",
    "        force += colin_t(self.t) * np.sum(np.sin(2*(self.angle_relatif()))*colin_d(self.distance(do_torus=True)), axis=1)\n",
    "        force += cocir_t(self.t) * np.sum(np.sin(2*(self.angle_cocir(do_torus=True)))*cocir_d(self.distance(do_torus=True)), axis=1)\n",
    "        force += noise(self.t)*np.pi*np.random.randn(self.N_lame)\n",
    "        force -= damp(self.t) * self.lames[3, :]/self.dt\n",
    "        speed = lambda t: .2*(1-np.exp((np.cos(2*np.pi*(t-4.) / 6.)-1.)/ .5**2))\n",
    "        return speed(self.t) * force\n",
    "\n",
    "if __name__ == \"__main__\":\n",
    "    import sys\n",
    "    if len(sys.argv)>1: mode = sys.argv[1]\n",
    "    else: mode = 'both'\n",
    "    e = EdgeGrid(N_lame=72*4, mode=mode, verb=False, structure=False)\n",
    "    #el.main(e)\n",
    "    name = 'grille_v1_tore'\n",
    "    el.main(e, name)"
   ]
  },
  {
   "cell_type": "code",
   "execution_count": 11,
   "metadata": {
    "collapsed": false
   },
   "outputs": [
    {
     "data": {
      "text/html": [
       "\n",
       "            <center><table border=none width=100% height=100%>\n",
       "            <tr> <td width=100%><center><video  loop=\"1\" autoplay=\"1\" controls  src=\"../files/2015-10-14_elasticite/grille_v1_tore.mp4\" type=\"video/webm\"  width=100%>\n",
       "            </td></tr></table></center>"
      ],
      "text/plain": [
       "<IPython.core.display.HTML object>"
      ]
     },
     "metadata": {},
     "output_type": "display_data"
    }
   ],
   "source": [
    "%run ../files/2015-10-14_elasticite/scenario_grille_v1_tore.py notebook"
   ]
  }
 ],
 "metadata": {
  "kernelspec": {
   "display_name": "Python 3",
   "language": "python",
   "name": "python3"
  },
  "language_info": {
   "codemirror_mode": {
    "name": "ipython",
    "version": 3
   },
   "file_extension": ".py",
   "mimetype": "text/x-python",
   "name": "python",
   "nbconvert_exporter": "python",
   "pygments_lexer": "ipython3",
   "version": "3.5.2"
  }
 },
 "nbformat": 4,
 "nbformat_minor": 0
}
