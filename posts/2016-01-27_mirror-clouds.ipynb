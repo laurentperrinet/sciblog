{
 "cells": [
  {
   "cell_type": "markdown",
   "metadata": {},
   "source": [
    "An essential component of natural images is that they may contain order at large scales such as [symmetries](https://en.wikipedia.org/wiki/Symmetry). Let's try to generate some textures with an axial (arbitrarily vertical) symmetry and take advantage of the different properties of random phase textures. \n",
    "\n",
    "<!-- TEASER_END -->\n",
    "\n",
    "\n",
    "For that, we will first create a \"vanilla\" texture:"
   ]
  },
  {
   "cell_type": "code",
   "execution_count": 1,
   "metadata": {
    "collapsed": false
   },
   "outputs": [],
   "source": [
    "%matplotlib inline\n",
    "import numpy as np\n",
    "np.set_printoptions(precision=3, suppress=True)\n",
    "import pylab\n",
    "import matplotlib.pyplot as plt"
   ]
  },
  {
   "cell_type": "code",
   "execution_count": 2,
   "metadata": {
    "collapsed": true
   },
   "outputs": [],
   "source": [
    "import os\n",
    "name = 'mirror'\n",
    "DOWNSCALE = 1\n",
    "V_X = .5"
   ]
  },
  {
   "cell_type": "code",
   "execution_count": 3,
   "metadata": {
    "collapsed": false
   },
   "outputs": [
    {
     "data": {
      "text/html": [
       "\n",
       "            <center><table border=none width=100% height=100%>\n",
       "            <tr> <td width=100%><center><video  loop=\"1\" autoplay=\"1\" controls  src=\"../files/2016-01-27_mirror-clouds/mirror_nomirror.mp4\" type=\"video/mp4\"  width=100%\\>\n",
       "            </td></tr></table></center>"
      ],
      "text/plain": [
       "<IPython.core.display.HTML object>"
      ]
     },
     "metadata": {},
     "output_type": "display_data"
    }
   ],
   "source": [
    "import MotionClouds as mc\n",
    "N_X, N_Y, N_frame = mc.N_X/DOWNSCALE, mc.N_Y/DOWNSCALE, mc.N_frame/DOWNSCALE\n",
    "mc.figpath = '../files/2016-01-27_mirror-clouds/'\n",
    "if not(os.path.isdir(mc.figpath)): os.mkdir(mc.figpath)\n",
    "    \n",
    "fx, fy, ft = mc.get_grids(N_X, N_Y, N_frame)\n",
    "z = mc.envelope_gabor(fx, fy, ft, V_X=V_X)\n",
    "\n",
    "name_ = name + '_nomirror'\n",
    "movie = mc.rectif(mc.random_cloud(z))\n",
    "mc.anim_save(movie, os.path.join(mc.figpath, name_))\n",
    "mc.in_show_video(name_, figpath=mc.figpath)"
   ]
  },
  {
   "cell_type": "markdown",
   "metadata": {},
   "source": [
    "The first thing to try is to use the periodicity of MotionClouds: Since they are generated in the Fourier space, they have a period in space (width of the display) and in time (there is no gap perceived when you play these in loops as we do here). So we may take the above texture, mirror it vertically and concatenate it to its right:"
   ]
  },
  {
   "cell_type": "code",
   "execution_count": 4,
   "metadata": {
    "collapsed": false
   },
   "outputs": [
    {
     "data": {
      "text/html": [
       "\n",
       "            <center><table border=none width=100% height=100%>\n",
       "            <tr> <td width=100%><center><video  loop=\"1\" autoplay=\"1\" controls  src=\"../files/2016-01-27_mirror-clouds/mirror_horizontal.mp4\" type=\"video/mp4\"  width=100%\\>\n",
       "            </td></tr></table></center>"
      ],
      "text/plain": [
       "<IPython.core.display.HTML object>"
      ]
     },
     "metadata": {},
     "output_type": "display_data"
    }
   ],
   "source": [
    "name_ = name + '_horizontal'\n",
    "mirrored_movie = np.vstack((movie, movie[::-1, :, :])) \n",
    "mc.anim_save(mirrored_movie, os.path.join(mc.figpath, name_))\n",
    "mc.in_show_video(name_, figpath=mc.figpath)"
   ]
  },
  {
   "cell_type": "markdown",
   "metadata": {},
   "source": [
    "Mathematically, taking the sum of these two parts\n",
    "$$\n",
    "I_M(x, y, t) = \\frac 1 2 \\cdot (I(x, y, t) + I(x, -y, t))\n",
    "$$\n",
    "\n",
    "generates a symmetric pattern:\n",
    "$$\n",
    "I_M(x, -y, t) = \\frac 1 2 \\cdot (I(x, -y, t) + I(x, y, t)) = I_M(x, y, t)\n",
    "$$\n",
    "\n",
    "The vertical axis of symmetry is around $y=0$ and (from the periodicity $I(x, y+N_y, t)=I(x, y, t)$) around $y=N_y/2$:\n",
    "$$\n",
    "I_M(x, -y-N_y/2, t) = \\frac 1 2 \\cdot (I(x, -y-N_y/2, t) + I(x, -(-y-N_y/2), t))\n",
    "                    = \\frac 1 2 \\cdot (I(x, -N_y/2-y, t) + I(x, N_y/2+y, t))\n",
    "                    = I_M(x, y-N_y/2, t)\n",
    "$$\n",
    "\n",
    "Another advantage of these clouds is that they are random phase textures: the different features are not coherent. While adding these 2 textures (the original and the mirrored one) would produce an interference pattern if we would have used gratings, it is different here:"
   ]
  },
  {
   "cell_type": "code",
   "execution_count": 5,
   "metadata": {
    "collapsed": false,
    "scrolled": true
   },
   "outputs": [
    {
     "data": {
      "text/html": [
       "\n",
       "            <center><table border=none width=100% height=100%>\n",
       "            <tr> <td width=100%><center><video  loop=\"1\" autoplay=\"1\" controls  src=\"../files/2016-01-27_mirror-clouds/mirror_fuse.mp4\" type=\"video/mp4\"  width=100%\\>\n",
       "            </td></tr></table></center>"
      ],
      "text/plain": [
       "<IPython.core.display.HTML object>"
      ]
     },
     "metadata": {},
     "output_type": "display_data"
    }
   ],
   "source": [
    "name_ = name + '_fuse'\n",
    "mirrored_movie = np.vstack((movie, movie[::-1, :, :])) \n",
    "mirrored_movie = .5*(movie + movie[::-1, :, :])\n",
    "mc.anim_save(mirrored_movie, os.path.join(mc.figpath, name_))\n",
    "mc.in_show_video(name_, figpath=mc.figpath)"
   ]
  },
  {
   "cell_type": "markdown",
   "metadata": {},
   "source": [
    "What happens now if we add more symmetries? \n",
    "\n",
    "In general, it is possible to make this axis of symmetry at every coordinate $y=Y$. Let's call this operation $\\mathcal{M}^Y$, such that :\n",
    "$$\n",
    "\\mathcal{M}^Y(I)(x, y-Y, t) = \\frac 1 2 \\cdot (I(x, y-Y, t) + I(x, -y-Y, t))\n",
    "$$\n",
    "It follows:\n",
    "$$\n",
    "\\mathcal{M}^Y(I)(x, y, t) = \\frac 1 2 \\cdot (I(x, y, t) + I(x, -y-2Y, t))\n",
    "$$\n",
    "\n",
    "In particular, in the example above, $I_M = \\mathcal{M}^0(I)$.\n",
    "\n",
    "Interestingly, the Fourier spectrum of such a transform is dual and in particular:\n",
    "$$\n",
    "\\mathcal{F}(\\mathcal{M}^0(I))(f_x, f_y, f_t) = \\mathcal{F}(\\frac 1 2 \\cdot (I(x, y, t) + I(x, -y, t)))\n",
    "$$\n",
    "thus\n",
    "$$\n",
    "\\mathcal{F}(\\mathcal{M}^0(I))(f_x, f_y, f_t) =\\frac 1 2 \\cdot (\\mathcal{F}(I)(f_x, f_y, f_t) - \\mathcal{F}(I)(f_x, -f_y, f_t)))\n",
    "$$\n",
    "It means that this \"mirrored motion clouds\" are still random phase textures but where the phase is bound to have a mirror symmetry with respect to the central plane (here, $f_x, f_t$).\n",
    "\n",
    "For instance, let's add it at $N_y/4$ by creating $\\mathcal{M}^{N_y/4}(I)$:"
   ]
  },
  {
   "cell_type": "code",
   "execution_count": 6,
   "metadata": {
    "collapsed": false
   },
   "outputs": [
    {
     "data": {
      "text/html": [
       "\n",
       "            <center><table border=none width=100% height=100%>\n",
       "            <tr> <td width=100%><center><video  loop=\"1\" autoplay=\"1\" controls  src=\"../files/2016-01-27_mirror-clouds/mirror_fuse_quarter.mp4\" type=\"video/mp4\"  width=100%\\>\n",
       "            </td></tr></table></center>"
      ],
      "text/plain": [
       "<IPython.core.display.HTML object>"
      ]
     },
     "metadata": {},
     "output_type": "display_data"
    }
   ],
   "source": [
    "def mirror(movie, Y=0):\n",
    "    # translate\n",
    "    movie = np.roll(movie, -Y, axis=0)\n",
    "    # add the mirror image\n",
    "    mirrored_movie = .5*(movie + movie[::-1, :, :])\n",
    "    # translate in the other direction\n",
    "    return np.roll(mirrored_movie, Y, axis=0)\n",
    "\n",
    "name_ = name + '_fuse_quarter'\n",
    "mirrored_movie = mirror(movie, Y=int(N_Y/4))\n",
    "mc.anim_save(mirrored_movie, os.path.join(mc.figpath, name_))\n",
    "mc.in_show_video(name_, figpath=mc.figpath)"
   ]
  },
  {
   "cell_type": "markdown",
   "metadata": {},
   "source": [
    "Note that in the particular case of Motion Clouds (and everything created in the Fourier domain in general), the stimulus is periodic in time and space. Due to this, we have $I(x, y + N_Y, t)=I(x, y, t)$ and thus\n",
    "$$\n",
    "\\mathcal{M}^Y(I)(x, y-Y+N_Y/2, t) = \\frac 1 2 \\cdot (I(x, y-Y+N_Y/2, t) + I(x, -y-Y+N_Y/2- N_Y, t))= \\mathcal{M}^Y(I)(x, -y-Y+N_Y/2, t)\n",
    "$$\n",
    "\n",
    "That is, $Y$ is an axis of symmetry for $\\mathcal{M}^Y(I)$, but $Y+N_Y/2$ is too. For $Y=0$, there is an axis of symmetry at $y=0$ and one at $y=N_y/2$.\n",
    "\n",
    "Now we may pipe both operations:\n",
    "$$\n",
    "I_MM = \\mathcal{M}^{N_y/4}(\\mathcal{M}^0(I))\n",
    "$$\n",
    "\n",
    "We check that:\n",
    "$$\n",
    "I_MM(-y) = \\mathcal{M}^{N_y/4}(\\mathcal{M}^0(I(-y))) = \\mathcal{M}^{N_y/4}(\\mathcal{M}^0(I(y))) = I_MM(y)\n",
    "$$\n",
    "and\n",
    "$$\n",
    "I_MM(-y-N_y/4) = \\mathcal{M}^{N_y/4}(.5 * (I(y-N_y/4)+I(-y+N_y/4)))) = .25 * (I(y-N_y/4)+I(-y-N_y/4)+I(y+N_y/4)+I(-y+N_y/4)) = I_MM(y-N_y/4)\n",
    "$$\n",
    "The stimulus is thus symmetric at $y \\in \\{ 0, N_y/4, N_y/2, 3*N_y/4 \\} $."
   ]
  },
  {
   "cell_type": "code",
   "execution_count": 7,
   "metadata": {
    "collapsed": false,
    "scrolled": true
   },
   "outputs": [
    {
     "data": {
      "text/html": [
       "\n",
       "            <center><table border=none width=100% height=100%>\n",
       "            <tr> <td width=100%><center><video  loop=\"1\" autoplay=\"1\" controls  src=\"../files/2016-01-27_mirror-clouds/mirror_fuse_double.mp4\" type=\"video/mp4\"  width=100%\\>\n",
       "            </td></tr></table></center>"
      ],
      "text/plain": [
       "<IPython.core.display.HTML object>"
      ]
     },
     "metadata": {},
     "output_type": "display_data"
    }
   ],
   "source": [
    "name_ = name + '_fuse_double'\n",
    "\n",
    "mirrored_movie = mirror(mirror(movie, Y=0), Y=int(N_Y/4))\n",
    "mc.anim_save(mirrored_movie, os.path.join(mc.figpath, name_))\n",
    "mc.in_show_video(name_, figpath=mc.figpath)"
   ]
  },
  {
   "cell_type": "markdown",
   "metadata": {},
   "source": [
    "You may have noticed that contrast has decreased: that's quite normal as we make sums and make the random phase texture more coherent. It can be easily proven that if we repeat this procedure again and again to be symmetric at every signle coordinate $y$, we end up with a constant stimulus (in the $y$ coordinate, not $x$ or $t$)."
   ]
  },
  {
   "cell_type": "markdown",
   "metadata": {},
   "source": [
    "## some book keeping for the notebook"
   ]
  },
  {
   "cell_type": "code",
   "execution_count": 8,
   "metadata": {
    "ExecuteTime": {
     "end_time": "2018-11-07T16:19:23.177738Z",
     "start_time": "2018-11-07T16:19:23.125993Z"
    }
   },
   "outputs": [
    {
     "data": {
      "application/json": {
       "Software versions": [
        {
         "module": "Python",
         "version": "3.7.1 64bit [Clang 10.0.0 (clang-1000.11.45.5)]"
        },
        {
         "module": "IPython",
         "version": "7.1.1"
        },
        {
         "module": "OS",
         "version": "Darwin 17.7.0 x86_64 i386 64bit"
        },
        {
         "module": "numpy",
         "version": "1.15.4"
        },
        {
         "module": "scipy",
         "version": "1.1.0"
        },
        {
         "module": "matplotlib",
         "version": "3.0.1"
        },
        {
         "module": "MotionClouds",
         "version": "20180606"
        }
       ]
      },
      "text/html": [
       "<table><tr><th>Software</th><th>Version</th></tr><tr><td>Python</td><td>3.7.1 64bit [Clang 10.0.0 (clang-1000.11.45.5)]</td></tr><tr><td>IPython</td><td>7.1.1</td></tr><tr><td>OS</td><td>Darwin 17.7.0 x86_64 i386 64bit</td></tr><tr><td>numpy</td><td>1.15.4</td></tr><tr><td>scipy</td><td>1.1.0</td></tr><tr><td>matplotlib</td><td>3.0.1</td></tr><tr><td>MotionClouds</td><td>20180606</td></tr><tr><td colspan='2'>Wed Nov 14 11:00:18 2018 CET</td></tr></table>"
      ],
      "text/latex": [
       "\\begin{tabular}{|l|l|}\\hline\n",
       "{\\bf Software} & {\\bf Version} \\\\ \\hline\\hline\n",
       "Python & 3.7.1 64bit [Clang 10.0.0 (clang-1000.11.45.5)] \\\\ \\hline\n",
       "IPython & 7.1.1 \\\\ \\hline\n",
       "OS & Darwin 17.7.0 x86\\_64 i386 64bit \\\\ \\hline\n",
       "numpy & 1.15.4 \\\\ \\hline\n",
       "scipy & 1.1.0 \\\\ \\hline\n",
       "matplotlib & 3.0.1 \\\\ \\hline\n",
       "MotionClouds & 20180606 \\\\ \\hline\n",
       "\\hline \\multicolumn{2}{|l|}{Wed Nov 14 11:00:18 2018 CET} \\\\ \\hline\n",
       "\\end{tabular}\n"
      ],
      "text/plain": [
       "Software versions\n",
       "Python 3.7.1 64bit [Clang 10.0.0 (clang-1000.11.45.5)]\n",
       "IPython 7.1.1\n",
       "OS Darwin 17.7.0 x86_64 i386 64bit\n",
       "numpy 1.15.4\n",
       "scipy 1.1.0\n",
       "matplotlib 3.0.1\n",
       "MotionClouds 20180606\n",
       "Wed Nov 14 11:00:18 2018 CET"
      ]
     },
     "execution_count": 8,
     "metadata": {},
     "output_type": "execute_result"
    }
   ],
   "source": [
    "%load_ext version_information\n",
    "%version_information numpy, scipy, matplotlib, MotionClouds"
   ]
  }
 ],
 "metadata": {
  "kernelspec": {
   "display_name": "Python 3",
   "language": "python",
   "name": "python3"
  },
  "language_info": {
   "codemirror_mode": {
    "name": "ipython",
    "version": 3
   },
   "file_extension": ".py",
   "mimetype": "text/x-python",
   "name": "python",
   "nbconvert_exporter": "python",
   "pygments_lexer": "ipython3",
   "version": "3.7.1"
  }
 },
 "nbformat": 4,
 "nbformat_minor": 2
}
