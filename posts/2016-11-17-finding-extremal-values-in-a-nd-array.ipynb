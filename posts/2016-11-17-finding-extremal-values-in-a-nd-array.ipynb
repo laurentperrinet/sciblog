{
 "cells": [
  {
   "cell_type": "markdown",
   "metadata": {},
   "source": [
    "Sometimes, you need to pick up the $N$-th  extremal values in a mutli-dimensional matrix. \n",
    "\n",
    "Let's suppose it is represented as a ``nd-array`` (here, I further suppose you are using the numpy library from the python language). Finding extremal values is easy with ``argmax``,  ``argmin`` or ``argsort`` but this function operated on 1d vectors...  Juggling around indices is sometimes not such an easy task, but luckily, we have the ``unravel_index`` function."
   ]
  },
  {
   "cell_type": "markdown",
   "metadata": {},
   "source": [
    "For those in a hurry, one quick application is that given an ``np.ndarray``, it's eeasy to get the index of the maximal value in that array :"
   ]
  },
  {
   "cell_type": "code",
   "execution_count": 1,
   "metadata": {
    "collapsed": false,
    "scrolled": true
   },
   "outputs": [
    {
     "name": "stdout",
     "output_type": "stream",
     "text": [
      "input ndarray [[[ 4  3]\n",
      "  [19  7]\n",
      "  [ 1 13]]\n",
      "\n",
      " [[ 6 12]\n",
      "  [14  0]\n",
      "  [16 11]]\n",
      "\n",
      " [[15 17]\n",
      "  [20 22]\n",
      "  [ 9  5]]\n",
      "\n",
      " [[ 8 18]\n",
      "  [23 21]\n",
      "  [10  2]]]\n",
      "index of maximal value =  (3, 1, 0)  and we verify that  23 = 23\n"
     ]
    }
   ],
   "source": [
    "import numpy as np\n",
    "x = np.arange(2*3*4).reshape((4, 3, 2))\n",
    "x = np.random.permutation(np.arange(2*3*4)).reshape((4, 3, 2))\n",
    "print ('input ndarray', x)\n",
    "idx = np.unravel_index(np.argmax(x.ravel()), x.shape)\n",
    "print ('index of maximal value = ', idx, ' and we verify that ', x[idx], '=', x.max())"
   ]
  },
  {
   "cell_type": "markdown",
   "metadata": {},
   "source": [
    "Let's unwrap how we found such an easy solution...\n",
    "\n",
    "<!-- TEASER_END -->\n",
    "\n",
    "Let's first initialize the notebook with all we need, `numpy`:"
   ]
  },
  {
   "cell_type": "code",
   "execution_count": 2,
   "metadata": {
    "collapsed": true
   },
   "outputs": [],
   "source": [
    "import numpy as np"
   ]
  },
  {
   "cell_type": "markdown",
   "metadata": {},
   "source": [
    "To work out on \"real-like\" data, let's first define a dummy 3-D array:"
   ]
  },
  {
   "cell_type": "code",
   "execution_count": 3,
   "metadata": {
    "collapsed": false
   },
   "outputs": [
    {
     "name": "stdout",
     "output_type": "stream",
     "text": [
      "[[[19 17]\n",
      "  [ 8 16]\n",
      "  [11  7]]\n",
      "\n",
      " [[ 3 10]\n",
      "  [23  1]\n",
      "  [ 0 15]]\n",
      "\n",
      " [[12 13]\n",
      "  [ 9 20]\n",
      "  [ 4 18]]\n",
      "\n",
      " [[ 2 21]\n",
      "  [22  6]\n",
      "  [ 5 14]]]\n"
     ]
    }
   ],
   "source": [
    "x = np.arange(2*3*4).reshape((4, 3, 2))\n",
    "x = np.random.permutation(np.arange(2*3*4)).reshape((4, 3, 2))\n",
    "print (x)"
   ]
  },
  {
   "cell_type": "markdown",
   "metadata": {},
   "source": [
    "We wish to find the indices of the sorted values of this matrix. For this, we will use the `np.argsort` function which operates on 1-D vectors.\n",
    "\n",
    "Indeed, we can represent as a 1-d array (a vector):"
   ]
  },
  {
   "cell_type": "code",
   "execution_count": 4,
   "metadata": {
    "collapsed": false
   },
   "outputs": [
    {
     "name": "stdout",
     "output_type": "stream",
     "text": [
      "[19 17  8 16 11  7  3 10 23  1  0 15 12 13  9 20  4 18  2 21 22  6  5 14]\n"
     ]
    }
   ],
   "source": [
    "print (x.ravel())"
   ]
  },
  {
   "cell_type": "markdown",
   "metadata": {},
   "source": [
    "We may now find the list of indices to sort it:"
   ]
  },
  {
   "cell_type": "code",
   "execution_count": 5,
   "metadata": {
    "collapsed": false
   },
   "outputs": [
    {
     "name": "stdout",
     "output_type": "stream",
     "text": [
      "[10  9 18  6 16 22 21  5  2 14  7  4 12 13 23 11  3  1 17  0 15 19 20  8]\n"
     ]
    }
   ],
   "source": [
    "print (np.argsort(x.ravel()))"
   ]
  },
  {
   "cell_type": "markdown",
   "metadata": {},
   "source": [
    "And we verify that the entries are indeed sorted:"
   ]
  },
  {
   "cell_type": "code",
   "execution_count": 6,
   "metadata": {
    "collapsed": false
   },
   "outputs": [
    {
     "name": "stdout",
     "output_type": "stream",
     "text": [
      "[ 0  1  2  3  4  5  6  7  8  9 10 11 12 13 14 15 16 17 18 19 20 21 22 23]\n"
     ]
    }
   ],
   "source": [
    "print (x.ravel()[np.argsort(x.ravel())])"
   ]
  },
  {
   "cell_type": "markdown",
   "metadata": {},
   "source": [
    "To go back to the coordinates of the initial ``np.ndarray``, we use the ``unraval_index`` function:"
   ]
  },
  {
   "cell_type": "code",
   "execution_count": 7,
   "metadata": {
    "collapsed": false
   },
   "outputs": [
    {
     "name": "stdout",
     "output_type": "stream",
     "text": [
      "Help on built-in function unravel_index in module numpy:\n",
      "\n",
      "unravel_index(...)\n",
      "    unravel_index(indices, shape, order='C')\n",
      "    \n",
      "    Converts a flat index or array of flat indices into a tuple\n",
      "    of coordinate arrays.\n",
      "    \n",
      "    Parameters\n",
      "    ----------\n",
      "    indices : array_like\n",
      "        An integer array whose elements are indices into the flattened\n",
      "        version of an array of dimensions ``shape``. Before version 1.6.0,\n",
      "        this function accepted just one index value.\n",
      "    shape : tuple of ints\n",
      "        The shape of the array to use for unraveling ``indices``.\n",
      "    \n",
      "        .. versionchanged:: 1.16.0\n",
      "            Renamed from ``dims`` to ``shape``.\n",
      "    \n",
      "    order : {'C', 'F'}, optional\n",
      "        Determines whether the indices should be viewed as indexing in\n",
      "        row-major (C-style) or column-major (Fortran-style) order.\n",
      "    \n",
      "        .. versionadded:: 1.6.0\n",
      "    \n",
      "    Returns\n",
      "    -------\n",
      "    unraveled_coords : tuple of ndarray\n",
      "        Each array in the tuple has the same shape as the ``indices``\n",
      "        array.\n",
      "    \n",
      "    See Also\n",
      "    --------\n",
      "    ravel_multi_index\n",
      "    \n",
      "    Examples\n",
      "    --------\n",
      "    >>> np.unravel_index([22, 41, 37], (7,6))\n",
      "    (array([3, 6, 6]), array([4, 5, 1]))\n",
      "    >>> np.unravel_index([31, 41, 13], (7,6), order='F')\n",
      "    (array([3, 6, 6]), array([4, 5, 1]))\n",
      "    \n",
      "    >>> np.unravel_index(1621, (6,7,8,9))\n",
      "    (3, 1, 4, 1)\n",
      "\n"
     ]
    }
   ],
   "source": [
    "help(np.unravel_index)"
   ]
  },
  {
   "cell_type": "code",
   "execution_count": 8,
   "metadata": {
    "collapsed": false
   },
   "outputs": [
    {
     "name": "stdout",
     "output_type": "stream",
     "text": [
      "(array([1, 1, 3, 1, 2, 3, 3, 0, 0, 2, 1, 0, 2, 2, 3, 1, 0, 0, 2, 0, 2, 3,\n",
      "       3, 1]), array([2, 1, 0, 0, 2, 2, 1, 2, 1, 1, 0, 2, 0, 0, 2, 2, 1, 0, 2, 0, 1, 0,\n",
      "       1, 1]), array([0, 1, 0, 0, 0, 0, 1, 1, 0, 0, 1, 0, 0, 1, 1, 1, 1, 1, 1, 0, 1, 1,\n",
      "       0, 0]))\n"
     ]
    }
   ],
   "source": [
    "print (np.unravel_index(np.argsort(x.ravel()), x.shape))"
   ]
  },
  {
   "cell_type": "markdown",
   "metadata": {},
   "source": [
    "Such that we can now sort the whole array from the lowest to highest index. We verify that:"
   ]
  },
  {
   "cell_type": "code",
   "execution_count": 9,
   "metadata": {
    "collapsed": false
   },
   "outputs": [
    {
     "name": "stdout",
     "output_type": "stream",
     "text": [
      "[ 0  1  2  3  4  5  6  7  8  9 10 11 12 13 14 15 16 17 18 19 20 21 22 23]\n"
     ]
    }
   ],
   "source": [
    "print (x[np.unravel_index(np.argsort(x.ravel()), x.shape)])"
   ]
  },
  {
   "cell_type": "markdown",
   "metadata": {},
   "source": [
    "Some applications: We can now pick just the ``datapoints`` extremal values of interest :"
   ]
  },
  {
   "cell_type": "code",
   "execution_count": 10,
   "metadata": {
    "collapsed": false,
    "scrolled": false
   },
   "outputs": [
    {
     "name": "stdout",
     "output_type": "stream",
     "text": [
      "(array([1, 1, 3, 1, 2, 3, 3, 0, 0, 2]), array([2, 1, 0, 0, 2, 2, 1, 2, 1, 1]), array([0, 1, 0, 0, 0, 0, 1, 1, 0, 0]))\n"
     ]
    }
   ],
   "source": [
    "datapoints = 10\n",
    "print (np.unravel_index(np.argsort(x.ravel())[:datapoints], x.shape))"
   ]
  },
  {
   "cell_type": "markdown",
   "metadata": {},
   "source": [
    "Let's now try with a more generic example :"
   ]
  },
  {
   "cell_type": "code",
   "execution_count": 11,
   "metadata": {
    "collapsed": false,
    "scrolled": true
   },
   "outputs": [
    {
     "name": "stdout",
     "output_type": "stream",
     "text": [
      "[[[0.06834601 0.60352804]\n",
      "  [0.60561573 0.77685711]\n",
      "  [0.19118084 0.2985651 ]]\n",
      "\n",
      " [[0.91722699 0.99373095]\n",
      "  [0.50057943 0.50154522]\n",
      "  [0.39299099 0.43339377]]\n",
      "\n",
      " [[0.97056531 0.00931049]\n",
      "  [0.95539077 0.44781701]\n",
      "  [0.87493581 0.93165374]]\n",
      "\n",
      " [[0.0136503  0.41497518]\n",
      "  [0.46685109 0.86126145]\n",
      "  [0.60488443 0.1447974 ]]]\n"
     ]
    }
   ],
   "source": [
    "x = np.random.rand(4, 3, 2)\n",
    "print (x)"
   ]
  },
  {
   "cell_type": "markdown",
   "metadata": {},
   "source": [
    "The indices for the ``datapoints`` extremal values of interest are :"
   ]
  },
  {
   "cell_type": "code",
   "execution_count": 12,
   "metadata": {
    "collapsed": false,
    "scrolled": true
   },
   "outputs": [
    {
     "name": "stdout",
     "output_type": "stream",
     "text": [
      "(array([2, 3, 0, 3, 0, 0, 1, 3, 1, 2]), array([0, 0, 0, 2, 2, 2, 2, 0, 2, 1]), array([1, 0, 0, 1, 0, 1, 0, 1, 1, 1]))\n"
     ]
    }
   ],
   "source": [
    "print (np.unravel_index(np.argsort(x.ravel())[:datapoints], x.shape))"
   ]
  },
  {
   "cell_type": "markdown",
   "metadata": {},
   "source": [
    "... which correspond to the minimal values of interest :"
   ]
  },
  {
   "cell_type": "code",
   "execution_count": 13,
   "metadata": {
    "collapsed": false,
    "scrolled": true
   },
   "outputs": [
    {
     "name": "stdout",
     "output_type": "stream",
     "text": [
      "[0.00931049 0.0136503  0.06834601 0.1447974  0.19118084 0.2985651\n",
      " 0.39299099 0.41497518 0.43339377 0.44781701]\n"
     ]
    }
   ],
   "source": [
    "print (x[np.unravel_index(np.argsort(x.ravel())[:datapoints], x.shape)])"
   ]
  },
  {
   "cell_type": "markdown",
   "metadata": {},
   "source": [
    "Note that it is also easy to pick the maximal values :"
   ]
  },
  {
   "cell_type": "code",
   "execution_count": 14,
   "metadata": {
    "collapsed": false,
    "scrolled": true
   },
   "outputs": [
    {
     "name": "stdout",
     "output_type": "stream",
     "text": [
      "(array([1, 2, 2, 2, 1, 2, 3, 0, 0, 3]), array([0, 0, 1, 2, 0, 2, 1, 1, 1, 2]), array([1, 0, 0, 1, 0, 0, 1, 1, 0, 0]))\n"
     ]
    }
   ],
   "source": [
    "print (np.unravel_index(np.argsort(-x.ravel())[:datapoints], x.shape))"
   ]
  },
  {
   "cell_type": "markdown",
   "metadata": {},
   "source": [
    "Another application: Get the index of the maximal value of an array :"
   ]
  },
  {
   "cell_type": "code",
   "execution_count": 15,
   "metadata": {
    "collapsed": false,
    "scrolled": true
   },
   "outputs": [
    {
     "name": "stdout",
     "output_type": "stream",
     "text": [
      "index of maximal value =  (1, 0, 1)  and we verify that  0.9937309474909091 = 0.9937309474909091\n"
     ]
    }
   ],
   "source": [
    "idx = np.unravel_index(np.argmax(x.ravel()), x.shape)\n",
    "print ('index of maximal value = ', idx, ' and we verify that ', x[idx], '=', x.max())"
   ]
  }
 ],
 "metadata": {
  "kernelspec": {
   "display_name": "Python 3",
   "language": "python",
   "name": "python3"
  },
  "language_info": {
   "codemirror_mode": {
    "name": "ipython",
    "version": 3
   },
   "file_extension": ".py",
   "mimetype": "text/x-python",
   "name": "python",
   "nbconvert_exporter": "python",
   "pygments_lexer": "ipython3",
   "version": "3.7.2"
  },
  "nikola": {
   "category": "",
   "date": "2016-11-17 18:07:37 UTC+01:00",
   "description": "",
   "link": "",
   "slug": "2016-11-17-finding-extremal-values-in-a-nd-array",
   "tags": "python, ipython, blog, numpy, open-science",
   "title": "2016-11-17 Finding extremal values in a nd-array",
   "type": "text"
  }
 },
 "nbformat": 4,
 "nbformat_minor": 2
}
