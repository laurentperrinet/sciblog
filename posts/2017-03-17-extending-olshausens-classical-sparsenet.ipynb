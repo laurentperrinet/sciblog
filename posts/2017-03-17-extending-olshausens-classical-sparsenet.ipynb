{
 "cells": [
  {
   "cell_type": "markdown",
   "metadata": {},
   "source": [
    "\n",
    "\n",
    "* In a [previous notebook](https://laurentperrinet.github.io/sciblog/posts/2017-03-15-reproducing-olshausens-classical-sparsenet-part-2.html), we tried to reproduce the learning strategy specified in the framework of the [SparseNet algorithm from Bruno Olshausen](http://redwood.berkeley.edu/bruno/sparsenet/). It allows to efficiently code natural image patches by constraining the code to be sparse. In particular, we saw that in order to optimize competition, it is important to control cooperation and we implemented a heuristic to just do this.\n",
    "\n",
    "* In this notebook, we provide an extension to the SparseNet algorithm. We will study how homeostasis (cooperation) may be an essential ingredient to this algorithm working on a winner-take-all basis (competition). This extension has been published as Perrinet, Neural Computation (2010) (see  https://laurentperrinet.github.io/publication/perrinet-10-shl ):\n",
    "\n",
    "```bibtex\n",
    "@article{Perrinet10shl,\n",
    "    Title = {Role of homeostasis in learning sparse representations},\n",
    "    Author = {Perrinet, Laurent U.},\n",
    "    Journal = {Neural Computation},\n",
    "    Year = {2010},\n",
    "    Doi = {10.1162/neco.2010.05-08-795},\n",
    "    Keywords = {Neural population coding, Unsupervised learning, Statistics of natural images, Simple cell receptive fields, Sparse Hebbian Learning, Adaptive Matching Pursuit, Cooperative Homeostasis, Competition-Optimized Matching Pursuit},\n",
    "    Month = {July},\n",
    "    Number = {7},\n",
    "    Url = {https://laurentperrinet.github.io/publication/perrinet-10-shl},\n",
    "    Volume = {22},\n",
    "}\n",
    "```\n",
    "\n",
    "This is joint work with [Victor Boutin](https://invibe.net/LaurentPerrinet/VictorBoutin).\n",
    "\n",
    "<!-- TEASER_END -->\n",
    "\n",
    "\n",
    "* find out updates on https://invibe.net/LaurentPerrinet/SparseHebbianLearning and https://github.com/bicv/SHL_scripts\n",
    "    \n",
    "    "
   ]
  },
  {
   "cell_type": "markdown",
   "metadata": {},
   "source": [
    "## dictionary learning on natural images\n",
    "\n",
    "Here, we reproduce the dictionary learning obtained with the SparseNet alogrithm while using the Matching Pursuit algorithm for the sparse coding algorithm."
   ]
  },
  {
   "cell_type": "code",
   "execution_count": null,
   "metadata": {},
   "outputs": [],
   "source": [
    "import matplotlib.pyplot as plt\n",
    "%matplotlib inline\n",
    "#%config InlineBackend.figure_format='svg'\n",
    "import numpy as np\n",
    "np.set_printoptions(precision=2, suppress=True)\n",
    "import pandas as pd\n",
    "import seaborn as sns\n",
    "%load_ext autoreload\n",
    "%autoreload 2"
   ]
  },
  {
   "cell_type": "code",
   "execution_count": null,
   "metadata": {
    "scrolled": false
   },
   "outputs": [],
   "source": [
    "from shl_scripts import SHL\n",
    "database = 'database/'\n",
    "DEBUG_DOWNSCALE, verbose = 1, 100\n",
    "DEBUG_DOWNSCALE, verbose = 10, 100\n",
    "DEBUG_DOWNSCALE, verbose = 1, 0\n",
    "\n",
    "matname = 'homeo'\n",
    "shl = SHL(database=database, DEBUG_DOWNSCALE=DEBUG_DOWNSCALE, verbose=verbose)\n",
    "dico = shl.learn_dico(matname=matname)\n",
    "fig, ax = shl.show_dico(dico)\n",
    "fig.show()\n",
    "fig, ax = shl.plot_variance(dico)\n",
    "fig.show()\n",
    "fig, ax = shl.plot_variance_histogram(dico)\n",
    "fig.show()"
   ]
  },
  {
   "cell_type": "code",
   "execution_count": null,
   "metadata": {},
   "outputs": [],
   "source": [
    "data = shl.get_data()"
   ]
  },
  {
   "cell_type": "code",
   "execution_count": null,
   "metadata": {},
   "outputs": [],
   "source": [
    "np.sum(data**2, axis=1).shape"
   ]
  },
  {
   "cell_type": "code",
   "execution_count": null,
   "metadata": {
    "scrolled": false
   },
   "outputs": [],
   "source": [
    "for eta in np.logspace(-4, 0, int(15/(DEBUG_DOWNSCALE)**.3), base=10, endpoint=False):\n",
    "    shl = SHL(DEBUG_DOWNSCALE=DEBUG_DOWNSCALE, eta=eta, verbose=verbose)\n",
    "    dico = shl.learn_dico()\n",
    "    fig, ax = shl.show_dico(dico, title='eta={}'.format(eta))\n",
    "    fig.show()\n",
    "    fig, ax = shl.plot_variance(dico)\n",
    "    fig.show()\n",
    "    fig, ax = shl.plot_variance_histogram(dico)\n",
    "    fig.show()"
   ]
  },
  {
   "cell_type": "markdown",
   "metadata": {},
   "source": [
    "## a quick diagnostic of what is wrong\n",
    "\n",
    "An assumption in the previous code is the heuristics used to control how elements are chosen. Basically, we have set the norm of every dictionary element to the inverse of an estimate of the mean variance, such that a high variance means a lower norm and a lower corresponding coefficient: it will thus get less likely to be selected again. "
   ]
  },
  {
   "cell_type": "code",
   "execution_count": null,
   "metadata": {},
   "outputs": [],
   "source": [
    "data = shl.get_data()"
   ]
  },
  {
   "cell_type": "code",
   "execution_count": null,
   "metadata": {},
   "outputs": [],
   "source": [
    "code = dico.transform(data, algorithm='mp', l0_sparseness=shl.n_dictionary)"
   ]
  },
  {
   "cell_type": "code",
   "execution_count": null,
   "metadata": {
    "scrolled": true
   },
   "outputs": [],
   "source": [
    "Z = np.mean(code**2)\n",
    "fig = plt.figure(figsize=(12, 4))\n",
    "ax = fig.add_subplot(111)\n",
    "ax.bar(np.arange(shl.n_dictionary), np.mean(code**2/Z, axis=0))#, yerr=np.std(code**2/Z, axis=0))\n",
    "ax.set_title('Variance of coefficients')\n",
    "ax.set_ylabel('Variance')\n",
    "ax.set_xlabel('#')\n",
    "ax.axis('tight')\n",
    "fig.show()"
   ]
  },
  {
   "cell_type": "code",
   "execution_count": null,
   "metadata": {},
   "outputs": [],
   "source": [
    "fig = plt.figure(figsize=(6, 4))\n",
    "ax = fig.add_subplot(111)\n",
    "data = pd.DataFrame(np.mean(code**2/Z, axis=0), columns=['Variance'])\n",
    "with sns.axes_style(\"white\"):\n",
    "    ax = sns.distplot(data['Variance'], kde=False) #,  kde_kws={'clip':(0., 5.)})\n",
    "ax.set_title('distribution of the mean variance of coefficients')\n",
    "ax.set_ylabel('pdf')\n",
    "fig.show()"
   ]
  },
  {
   "cell_type": "markdown",
   "metadata": {},
   "source": [
    "In particular, those with high-variance are more likely features that were more learned, while those with lower variance correspond to textures closer to the initail state of the dictionary. That is shown by ordering filters in the dictionary (from the first line on the top from left to right and then to the bottom):"
   ]
  },
  {
   "cell_type": "code",
   "execution_count": null,
   "metadata": {
    "scrolled": false
   },
   "outputs": [],
   "source": [
    "sorted_idx = np.argsort(np.mean(code**2/Z, axis=0))\n",
    "dico.dictionary = dico.dictionary[sorted_idx, :]\n",
    "fig, ax = shl.show_dico(dico)\n",
    "fig.show()"
   ]
  },
  {
   "cell_type": "code",
   "execution_count": null,
   "metadata": {},
   "outputs": [],
   "source": [
    "print(dico.dictionary.shape, data.shape)"
   ]
  },
  {
   "cell_type": "code",
   "execution_count": null,
   "metadata": {},
   "outputs": [],
   "source": [
    "data = shl.get_data()\n",
    "#dico.set_params(transform_algorithm='mp', l0_sparseness=shl.n_dictionary)\n",
    "#code = dico.transform(data)\n",
    "coef = np.dot(dico.dictionary, data.T).T / np.sum(dico.dictionary**2, axis=1)[np.newaxis, :]\n",
    "#Z = np.mean(code**2)\n",
    "fig = plt.figure(figsize=(12, 4))\n",
    "ax = fig.add_subplot(111)\n",
    "ax.bar(np.arange(shl.n_dictionary), np.mean(coef**2, axis=0))#, yerr=np.std(code**2/Z, axis=0))\n",
    "ax.set_title('Variance of linear coefficients')\n",
    "ax.set_ylabel('Variance')\n",
    "ax.set_xlabel('#')\n",
    "ax.axis('tight')\n",
    "fig.show()"
   ]
  },
  {
   "cell_type": "markdown",
   "metadata": {},
   "source": [
    "By the scaling law of a linear filter, one may normalize the norm of the filters relative to the mean deviation (root square of variance) measured on the input. By doing this operation, the observed variance of the linear coefficients is normalized to the same value. That's what we have with the heuristics implemented in the previous notebook.\n",
    "\n",
    "However, the learning rate (``gain_rate``) of this heuristics may be hard to tune. Most importantly, this heuristics assumes that all components are scaled (for instance that the first to learn will have higher variance and that its whole distribution will be scaled), and thus assumes that they all have the same distribution. This assumption misses an important aspect of this unsupervised learning scheme. \n",
    "\n",
    "Indeed, when a feature appears during the learning, its response is scaled but its distribution becomes more kurtotic. This may be understood using the central limit theorem. When mixing signals such as when computing the average of random variables, the distribution converges to a Gaussian. \n",
    "\n",
    "Let's show the distribution of the two dictionary elements with respectively the highest (left) and lowest (right) variance:"
   ]
  },
  {
   "cell_type": "code",
   "execution_count": null,
   "metadata": {},
   "outputs": [],
   "source": [
    "sorted_idx = np.argsort(np.mean(coef**2, axis=0))\n",
    "# plot distribution of most kurtotic vs least\n",
    "fig = plt.figure(figsize=(12, 4))\n",
    "for i, idx in enumerate([0, -1]):\n",
    "    #data = pd.DataFrame(code[:, sorted_idx[idx]], columns=['coefficient'])\n",
    "    with sns.axes_style(\"white\"):\n",
    "        ax = fig.add_subplot(1, 2, i+1)\n",
    "        n_bins = 30\n",
    "        n, bins = np.histogram((np.abs(coef[:, sorted_idx[idx]])), n_bins)# = \n",
    "        ax.bar(bins[:-1], np.log2(n), width=(np.abs(coef[:, sorted_idx[idx]].max()))/n_bins)\n",
    "        #ax = sns.distplot(data['coefficient'])#,  kde_kws={'clip':(0., 5.)})\n",
    "        ax.set_title('Variance = {}'.format(np.mean(coef[:, sorted_idx[idx]]**2)))\n",
    "        ax.set_ylabel('log2-density')\n",
    "        ax.set_xlabel('absolute coefficient')\n",
    "fig.suptitle('distribution of the value of coefficients', fontsize=16)\n",
    "        \n",
    "fig.show()"
   ]
  },
  {
   "cell_type": "markdown",
   "metadata": {},
   "source": [
    "To circumvent this problem, instead of changing the learning scheme, it is possible to change the coding procedure such that we are sure that every coefficient is selected *a priori* with the same probability. To perform that in a non-parametric fashion, one may use histogram equalization.\n",
    "\n"
   ]
  },
  {
   "cell_type": "code",
   "execution_count": null,
   "metadata": {},
   "outputs": [],
   "source": [
    "n_samples, n_dictionary = coef.shape\n",
    "np.sort(np.abs(coef[:(n_samples//2), sorted_idx[idx]])).shape\n",
    "#print(-np.sort(-np.abs(coef[:(n_samples/2), sorted_idx[idx]])))\n",
    "#print(-np.sort(-np.abs(coef[:, sorted_idx[idx]]]))"
   ]
  },
  {
   "cell_type": "code",
   "execution_count": null,
   "metadata": {},
   "outputs": [],
   "source": [
    "# plot distribution of most kurtotic vs least\n",
    "fig = plt.figure(figsize=(12, 4))\n",
    "for i, idx in enumerate([0, -1]):\n",
    "    with sns.axes_style(\"white\"):\n",
    "        ax = fig.add_subplot(1, 2, i+1)\n",
    "        ax.semilogx(-np.sort(-np.abs(coef[:(n_samples//2), sorted_idx[idx]])))\n",
    "        ax.set_title('Variance = {}'.format(np.mean(coef[:, sorted_idx[idx]]**2)))\n",
    "        ax.set_ylabel('value')\n",
    "        ax.set_xlabel('rank')\n",
    "        ax.axis('tight')\n",
    "fig.suptitle('distribution of the value of linear coefficients', fontsize=16)\n",
    "fig.show()"
   ]
  },
  {
   "cell_type": "code",
   "execution_count": null,
   "metadata": {},
   "outputs": [],
   "source": [
    "# what we need is some sort of histogram normalization\n",
    "def histeq(abs_code, mod):\n",
    "    # use linear interpolation of cdf to find z-values\n",
    "    # use the fact that the sorted coeffs give the inverse cdf\n",
    "    # moreover we use a hack to ensure that np.interp uses an increasing sequence of x-coordinates\n",
    "    z = np.interp(-abs_code, -mod, np.linspace(0, 1., mod.size, endpoint=True))\n",
    "    return z\n",
    "\n",
    "fig = plt.figure(figsize=(12, 4))\n",
    "for i, idx in enumerate([0, -1]):\n",
    "    mod = -np.sort(-np.abs(coef[:(n_samples//2), sorted_idx[idx]]))\n",
    "    # learn distribution of z-values on the first half of the data\n",
    "    z = histeq(np.abs(coef[(n_samples//2):, sorted_idx[idx]]), mod)\n",
    "\n",
    "    #z = histeq(np.abs(coef[:(n_samples/2), sorted_idx[idx]]), mod) - to check it is exact\n",
    "    # plot distribution of z-values on the second half of the data\n",
    "    with sns.axes_style(\"white\"):\n",
    "        ax = fig.add_subplot(1, 2, i+1)\n",
    "        n_bins = 30\n",
    "        n, bins = np.histogram(z, n_bins)# = \n",
    "        ax.bar(bins[:-1], n, width=.5/n_bins)\n",
    "        #ax.scatter(np.linspace(0, 1., z.size, endpoint=True), z)\n",
    "        #ax.set_title('Variance = {}'.format(np.mean(code[:, sorted_idx[idx]]**2/Z, axis=0)))\n",
    "        ax.set_ylabel('density')\n",
    "        ax.set_xlabel('z-score')\n",
    "        ax.axis('tight')\n",
    "        \n",
    "fig.suptitle('distribution of the value of z-scores', fontsize=16)\n",
    "        \n",
    "fig.show()"
   ]
  },
  {
   "cell_type": "markdown",
   "metadata": {},
   "source": [
    "To learn this modulation function, we may just estimate it online beginning with a flat one:"
   ]
  },
  {
   "cell_type": "code",
   "execution_count": null,
   "metadata": {},
   "outputs": [],
   "source": [
    "mod = np.dot(np.linspace(1., 0, n_samples, endpoint=True)[:, np.newaxis], np.ones((1, n_dictionary)))\n",
    "print(mod.shape)\n",
    "plt.plot(mod[:, 0])"
   ]
  },
  {
   "cell_type": "code",
   "execution_count": null,
   "metadata": {
    "scrolled": false
   },
   "outputs": [],
   "source": [
    "print(coef.shape)\n",
    "print(np.sort(np.abs(coef), axis=0).shape)\n",
    "mod_ = -np.sort(-np.abs(coef), axis=0)\n",
    "gain_rate = .1\n",
    "mod = (1 - gain_rate)*mod + gain_rate * mod_\n",
    "plt.semilogx(mod[:, 0])"
   ]
  },
  {
   "cell_type": "code",
   "execution_count": null,
   "metadata": {},
   "outputs": [],
   "source": [
    "shl = SHL(DEBUG_DOWNSCALE=DEBUG_DOWNSCALE)\n",
    "dico = shl.learn_dico(learning_algorithm='comp', l0_sparseness=shl.n_dictionary, gain_rate=0.001, verbose=verbose)\n",
    "fig, ax = shl.show_dico(dico)\n",
    "fig.show()"
   ]
  },
  {
   "cell_type": "code",
   "execution_count": null,
   "metadata": {
    "scrolled": true
   },
   "outputs": [],
   "source": [
    "data = shl.get_data()\n",
    "#dico.set_params(transform_algorithm='mp', l0_sparseness=shl.n_dictionary)\n",
    "#code = dico.transform(data)\n",
    "coef = np.dot(dico.dictionary, data.T).T / np.sum(dico.dictionary**2, axis=1)[np.newaxis, :]\n",
    "#Z = np.mean(code**2)\n",
    "fig = plt.figure(figsize=(12, 4))\n",
    "ax = fig.add_subplot(111)\n",
    "ax.bar(np.arange(shl.n_dictionary), np.mean(coef**2, axis=0))#, yerr=np.std(code**2/Z, axis=0))\n",
    "ax.set_title('Variance of linear coefficients')\n",
    "ax.set_ylabel('Variance')\n",
    "ax.set_xlabel('#')\n",
    "ax.axis('tight')\n",
    "fig.show()"
   ]
  },
  {
   "cell_type": "code",
   "execution_count": null,
   "metadata": {},
   "outputs": [],
   "source": [
    "# plot distribution of most kurtotic vs least\n",
    "sorted_idx = np.argsort(np.mean(coef**2, axis=0))\n",
    "fig = plt.figure(figsize=(12, 4))\n",
    "for i, idx in enumerate([0, -1]):\n",
    "    #data = pd.DataFrame(code[:, sorted_idx[idx]], columns=['coefficient'])\n",
    "    with sns.axes_style(\"white\"):\n",
    "        ax = fig.add_subplot(1, 2, i)\n",
    "        n_bins = 30\n",
    "        n, bins = np.histogram((np.abs(coef[:, sorted_idx[idx]])), n_bins)# = \n",
    "        ax.bar(bins[:-1], np.log2(n), width=(np.abs(coef[:, sorted_idx[idx]].max()))/n_bins)\n",
    "        #ax = sns.distplot(data['coefficient'])#,  kde_kws={'clip':(0., 5.)})\n",
    "        ax.set_title('Variance = {}'.format(np.mean(coef[:, sorted_idx[idx]]**2)))\n",
    "        ax.set_ylabel('log2-density')\n",
    "        ax.set_xlabel('absolute coefficient')\n",
    "fig.suptitle('distribution of the value of coefficients', fontsize=16)\n",
    "        \n",
    "fig.show()"
   ]
  },
  {
   "cell_type": "code",
   "execution_count": null,
   "metadata": {},
   "outputs": [],
   "source": [
    "# quick estipmation of the z-scores\n",
    "#z = np.interp(-np.abs(coef[(n_samples/2):, sorted_idx[idx]]), -mod, np.linspace(0, 1., mod.size, endpoint=True))\n",
    "from shl_scripts import SHL\n",
    "DEBUG_DOWNSCALE=1\n",
    "for gain_rate in np.logspace(-4, 0, 15, base=10):\n",
    "    #\n",
    "    shl = SHL(DEBUG_DOWNSCALE=DEBUG_DOWNSCALE)\n",
    "    dico = shl.learn_dico(learning_algorithm='comp', l0_sparseness=10, gain_rate=gain_rate)\n",
    "    fig = shl.show_dico(dico)\n",
    "    fig.show()\n",
    "    data = shl.get_data()           \n",
    "    dico.set_params(transform_algorithm='mp', l0_sparseness=shl.n_dictionary)\n",
    "    code = dico.transform(data)\n",
    "    n_dictionary, n_samples = code.shape\n",
    "    Z = np.mean(code**2)\n",
    "    fig = plt.figure(figsize=(12, 4))\n",
    "    ax = fig.add_subplot(111)\n",
    "    ax.bar(np.arange(shl.n_dictionary), np.mean(code**2, axis=0)/Z)\n",
    "    ax.set_title('Variance of coefficients - gain {}'.format(gain_rate))\n",
    "    ax.set_ylabel('Variance')\n",
    "    ax.set_xlabel('#')      \n",
    "    ax.axis('tight')\n",
    "    fig.show()\n",
    "    fig = plt.figure(figsize=(6, 4))\n",
    "    ax = fig.add_subplot(111)\n",
    "    data = pd.DataFrame(np.mean(code**2, axis=0)/np.mean(code**2), columns=['Variance'])\n",
    "    with sns.axes_style(\"white\"):\n",
    "        ax = sns.distplot(data['Variance'],  kde_kws={'clip':(0., 5.)})\n",
    "    ax.set_title('distribution of the mean variance of coefficients')\n",
    "    ax.set_ylabel('pdf')\n",
    "    fig.show()"
   ]
  },
  {
   "cell_type": "markdown",
   "metadata": {},
   "source": [
    "## great, let's try that new version  of the classical algorithm\n",
    "\n",
    "TODO...\n"
   ]
  },
  {
   "cell_type": "code",
   "execution_count": null,
   "metadata": {
    "collapsed": true
   },
   "outputs": [],
   "source": []
  }
 ],
 "metadata": {
  "kernelspec": {
   "display_name": "Python 3",
   "language": "python",
   "name": "python3"
  },
  "language_info": {
   "codemirror_mode": {
    "name": "ipython",
    "version": 3
   },
   "file_extension": ".py",
   "mimetype": "text/x-python",
   "name": "python",
   "nbconvert_exporter": "python",
   "pygments_lexer": "ipython3",
   "version": "3.6.3"
  },
  "toc": {
   "colors": {
    "hover_highlight": "#DAA520",
    "navigate_num": "#000000",
    "navigate_text": "#333333",
    "running_highlight": "#FF0000",
    "selected_highlight": "#FFD700",
    "sidebar_border": "#EEEEEE",
    "wrapper_background": "#FFFFFF"
   },
   "moveMenuLeft": true,
   "nav_menu": {
    "height": "81px",
    "width": "252px"
   },
   "navigate_menu": true,
   "number_sections": true,
   "sideBar": true,
   "threshold": 4,
   "toc_cell": false,
   "toc_section_display": "block",
   "toc_window_display": false,
   "widenNotebook": false
  }
 },
 "nbformat": 4,
 "nbformat_minor": 1
}
