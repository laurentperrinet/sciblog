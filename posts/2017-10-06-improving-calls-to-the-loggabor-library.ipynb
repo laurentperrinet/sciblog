{
 "cells": [
  {
   "cell_type": "markdown",
   "metadata": {},
   "source": [
    "To code image as edges, for instance in the ``SparseEdges`` [sparse coding scheme](https://github.com/bicv/SparseEdges), we use a model of edges in images. A good model for these edges are [bidimensional Log Gabor filter](https://en.wikipedia.org/wiki/Log_Gabor_filter#Bi-dimensional_Log-Gabor_filter). This is implemented for instance in the ``LogGabor`` library. The library was designed to be precise, but not particularly for efficiency. In order to improve its speed, we demonstrate here the use of a cache to avoid redundant computations.\n",
    "\n",
    "<!-- TEASER_END -->\n",
    "\n",
    "Let's first initialize the notebook:"
   ]
  },
  {
   "cell_type": "code",
   "execution_count": 1,
   "metadata": {
    "collapsed": true
   },
   "outputs": [],
   "source": [
    "from __future__ import division, print_function\n",
    "import numpy as np\n",
    "np.set_printoptions(precision=6, suppress=True)\n",
    "%load_ext autoreload\n",
    "%autoreload 2\n",
    "%load_ext line_profiler"
   ]
  },
  {
   "cell_type": "markdown",
   "metadata": {},
   "source": [
    "## timing of the library without cache\n",
    "\n",
    "Let's make calls to the library and record the wall clock timing:"
   ]
  },
  {
   "cell_type": "code",
   "execution_count": 2,
   "metadata": {
    "collapsed": true
   },
   "outputs": [],
   "source": [
    "from LogGabor import LogGabor\n",
    "lg = LogGabor('https://raw.githubusercontent.com/bicv/SparseEdges/master/default_param.py')\n",
    "lg.pe.use_cache = False\n",
    "lg.pe.verbose = 100\n",
    "lg.init()"
   ]
  },
  {
   "cell_type": "code",
   "execution_count": 3,
   "metadata": {},
   "outputs": [
    {
     "name": "stdout",
     "output_type": "stream",
     "text": [
      "7.77 ms ± 1.32 ms per loop (mean ± std. dev. of 7 runs, 100 loops each)\n"
     ]
    }
   ],
   "source": [
    "%%timeit\n",
    "edge = [3*lg.pe.N_X/4, lg.pe.N_Y/2, 2, 2]\n",
    "FT_lg = lg.loggabor(edge[0], edge[1], sf_0=lg.sf_0[edge[3]], B_sf=lg.pe.B_sf, theta=lg.theta[edge[2]], B_theta=lg.pe.B_theta)"
   ]
  },
  {
   "cell_type": "raw",
   "metadata": {},
   "source": [
    "%lprun -s -m LogGabor lg.loggabor(0, 0, sf_0=lg.sf_0[2], B_sf=lg.pe.B_sf, theta=lg.theta[2], B_theta=lg.pe.B_theta)"
   ]
  },
  {
   "cell_type": "markdown",
   "metadata": {},
   "source": [
    "Note that most of the time, we compute the filter at the origin and that whenever it is the case we avoid performing the translation. This makes the call systematically faster:"
   ]
  },
  {
   "cell_type": "code",
   "execution_count": 4,
   "metadata": {},
   "outputs": [
    {
     "name": "stdout",
     "output_type": "stream",
     "text": [
      "3.49 ms ± 259 µs per loop (mean ± std. dev. of 7 runs, 100 loops each)\n"
     ]
    }
   ],
   "source": [
    "%%timeit\n",
    "edge = [0., 0., 2, 2]\n",
    "FT_lg = lg.loggabor(edge[0], edge[1], sf_0=lg.sf_0[edge[3]], B_sf=lg.pe.B_sf, theta=lg.theta[edge[2]], B_theta=lg.pe.B_theta)"
   ]
  },
  {
   "cell_type": "markdown",
   "metadata": {},
   "source": [
    "## Using a cache\n",
    "\n",
    "We will use the fact that the many calls to the logGabor library repeat the same operation. We can cache the computed matrices instead of repeating the operation. In particular, we will take advantage of using scales (bands) and orientation separately, the multiplication being rapid in numpy."
   ]
  },
  {
   "cell_type": "code",
   "execution_count": 5,
   "metadata": {},
   "outputs": [
    {
     "name": "stdout",
     "output_type": "stream",
     "text": [
      "Dictionary that will contain the matrices= {'band': {}, 'orientation': {}}\n"
     ]
    }
   ],
   "source": [
    "lg = LogGabor('https://raw.githubusercontent.com/bicv/SparseEdges/master/default_param.py')\n",
    "lg.pe.use_cache = True\n",
    "lg.pe.verbose = 100\n",
    "lg.init()\n",
    "print ('Dictionary that will contain the matrices=', lg.cache)"
   ]
  },
  {
   "cell_type": "markdown",
   "metadata": {},
   "source": [
    "In the beginning, the cache is empty but every time with compute one matrix, it gets filled up:"
   ]
  },
  {
   "cell_type": "code",
   "execution_count": 6,
   "metadata": {},
   "outputs": [
    {
     "name": "stdout",
     "output_type": "stream",
     "text": [
      "doing band cache for tag  0.189503126127_0.4\n",
      "doing orientation cache for tag  -1.1780972451_0.17453277777777776\n",
      "Dictionary that contains the matrices= {'band': {'0.189503126127_0.4': array([[ 0.006271,  0.006501,  0.006738, ...,  0.006984,  0.006738,\n",
      "         0.006501],\n",
      "       [ 0.006501,  0.00674 ,  0.006988, ...,  0.007244,  0.006988,\n",
      "         0.00674 ],\n",
      "       [ 0.006738,  0.006988,  0.007246, ...,  0.007513,  0.007246,\n",
      "         0.006988],\n",
      "       ..., \n",
      "       [ 0.006984,  0.007244,  0.007513, ...,  0.007792,  0.007513,\n",
      "         0.007244],\n",
      "       [ 0.006738,  0.006988,  0.007246, ...,  0.007513,  0.007246,\n",
      "         0.006988],\n",
      "       [ 0.006501,  0.00674 ,  0.006988, ...,  0.007244,  0.006988,\n",
      "         0.00674 ]])}, 'orientation': {'-1.1780972451_0.17453277777777776': array([[  2.857228e+05,   2.536583e+05,   2.249385e+05, ...,\n",
      "          7.830696e-14,   7.439627e-14,   7.074259e-14],\n",
      "       [  3.217782e+05,   2.857228e+05,   2.534195e+05, ...,\n",
      "          7.445581e-14,   7.077041e-14,   6.732618e-14],\n",
      "       [  3.626499e+05,   3.220804e+05,   2.857228e+05, ...,\n",
      "          7.079868e-14,   6.732618e-14,   6.407993e-14],\n",
      "       ..., \n",
      "       [  1.720206e+13,   1.639461e+13,   1.561163e+13, ...,\n",
      "          3.499896e-06,   3.101855e-06,   2.752276e-06],\n",
      "       [  1.638199e+13,   1.560551e+13,   1.485306e+13, ...,\n",
      "          3.949803e-06,   3.499896e-06,   3.104815e-06],\n",
      "       [  1.559949e+13,   1.485306e+13,   1.413020e+13, ...,\n",
      "          4.454120e-06,   3.946026e-06,   3.499896e-06]])}}\n"
     ]
    }
   ],
   "source": [
    "edge = [0., 0., 2, 2]\n",
    "FT_lg = lg.loggabor(edge[0], edge[1], sf_0=lg.sf_0[edge[3]], B_sf=lg.pe.B_sf, theta=lg.theta[edge[2]], B_theta=lg.pe.B_theta)\n",
    "print ('Dictionary that contains the matrices=', lg.cache)"
   ]
  },
  {
   "cell_type": "code",
   "execution_count": 7,
   "metadata": {},
   "outputs": [
    {
     "name": "stdout",
     "output_type": "stream",
     "text": [
      "5.12 ms ± 1.9 ms per loop (mean ± std. dev. of 7 runs, 100 loops each)\n"
     ]
    }
   ],
   "source": [
    "%%timeit\n",
    "edge = [3*lg.pe.N_X/4, lg.pe.N_Y/2, 2, 2]\n",
    "FT_lg = lg.loggabor(edge[0], edge[1], sf_0=lg.sf_0[edge[3]], B_sf=lg.pe.B_sf, theta=lg.theta[edge[2]], B_theta=lg.pe.B_theta)"
   ]
  },
  {
   "cell_type": "code",
   "execution_count": 8,
   "metadata": {},
   "outputs": [
    {
     "name": "stdout",
     "output_type": "stream",
     "text": [
      "486 µs ± 48.3 µs per loop (mean ± std. dev. of 7 runs, 1000 loops each)\n"
     ]
    }
   ],
   "source": [
    "%%timeit\n",
    "edge = [0., 0., 2, 2]\n",
    "FT_lg = lg.loggabor(edge[0], edge[1], sf_0=lg.sf_0[edge[3]], B_sf=lg.pe.B_sf, theta=lg.theta[edge[2]], B_theta=lg.pe.B_theta)"
   ]
  },
  {
   "cell_type": "markdown",
   "metadata": {},
   "source": [
    "That's a great improvement! Let's now apply that to the Matching Pursuit algorithm implemented in the ``SparseEdges`` library:\n",
    "\n",
    "## application to SparseEdges\n"
   ]
  },
  {
   "cell_type": "code",
   "execution_count": 9,
   "metadata": {
    "collapsed": true
   },
   "outputs": [],
   "source": [
    "from SparseEdges import SparseEdges\n",
    "mp = SparseEdges('https://raw.githubusercontent.com/bicv/SparseEdges/master/default_param.py')\n",
    "mp.pe.N = 32 # number of edges\n",
    "mp.pe.use_cache = False\n",
    "mp.init()\n",
    "\n",
    "# defining a test image\n",
    "image = np.zeros((mp.pe.N_X, mp.pe.N_Y))\n",
    "image[mp.pe.N_X//2:mp.pe.N_X//2+mp.pe.N_X//4, mp.pe.N_X//2:mp.pe.N_X//2+mp.pe.N_X//4] = 1\n",
    "image[mp.pe.N_X//2:mp.pe.N_X//2+mp.pe.N_X//4, mp.pe.N_X//4:mp.pe.N_X//2] = -1"
   ]
  },
  {
   "cell_type": "code",
   "execution_count": 10,
   "metadata": {},
   "outputs": [
    {
     "name": "stdout",
     "output_type": "stream",
     "text": [
      "2min 1s ± 0 ns per loop (mean ± std. dev. of 1 run, 1 loop each)\n"
     ]
    }
   ],
   "source": [
    "%%timeit -n1 -r1\n",
    "edges, C_res = mp.run_mp(image, verbose=False)"
   ]
  },
  {
   "cell_type": "code",
   "execution_count": 11,
   "metadata": {
    "collapsed": true
   },
   "outputs": [],
   "source": [
    "from SparseEdges import SparseEdges\n",
    "mp = SparseEdges('https://raw.githubusercontent.com/bicv/SparseEdges/master/default_param.py')\n",
    "mp.pe.N = 32 # number of edges\n",
    "mp.pe.use_cache = True\n",
    "mp.init()\n",
    "\n",
    "# defining a test image\n",
    "image = np.zeros((mp.pe.N_X, mp.pe.N_Y))\n",
    "image[mp.pe.N_X//2:mp.pe.N_X//2+mp.pe.N_X//4, mp.pe.N_X//2:mp.pe.N_X//2+mp.pe.N_X//4] = 1\n",
    "image[mp.pe.N_X//2:mp.pe.N_X//2+mp.pe.N_X//4, mp.pe.N_X//4:mp.pe.N_X//2] = -1"
   ]
  },
  {
   "cell_type": "code",
   "execution_count": 12,
   "metadata": {
    "scrolled": false
   },
   "outputs": [
    {
     "name": "stdout",
     "output_type": "stream",
     "text": [
      "1min 41s ± 0 ns per loop (mean ± std. dev. of 1 run, 1 loop each)\n"
     ]
    }
   ],
   "source": [
    "%%timeit -n1 -r1\n",
    "edges, C_res = mp.run_mp(image, verbose=False)"
   ]
  },
  {
   "cell_type": "markdown",
   "metadata": {},
   "source": [
    "Which shows a performance gain of approximately 25%. These changes are now effective in the code (see [this commit](https://github.com/bicv/LogGabor/commit/05b81deda5993e14583a84b3d56d7aaf1adc51f1))."
   ]
  },
  {
   "cell_type": "markdown",
   "metadata": {
    "collapsed": true
   },
   "source": [
    "Further profiling shows that most of the time is spend in the ``backprop``function:"
   ]
  },
  {
   "cell_type": "raw",
   "metadata": {},
   "source": [
    "%lprun -m SparseEdges edges, C_res = mp.run_mp(image, verbose=False)"
   ]
  },
  {
   "cell_type": "markdown",
   "metadata": {},
   "source": [
    "## some book keeping for the notebook"
   ]
  },
  {
   "cell_type": "code",
   "execution_count": 13,
   "metadata": {},
   "outputs": [
    {
     "name": "stdout",
     "output_type": "stream",
     "text": [
      "2017-10-25T15:08:31+02:00\n",
      "\n",
      "CPython 3.6.3\n",
      "IPython 6.1.0\n",
      "\n",
      "compiler   : GCC 4.2.1 Compatible Apple LLVM 9.0.0 (clang-900.0.37)\n",
      "system     : Darwin\n",
      "release    : 17.0.0\n",
      "machine    : x86_64\n",
      "processor  : i386\n",
      "CPU cores  : 4\n",
      "interpreter: 64bit\n"
     ]
    }
   ],
   "source": [
    "%load_ext watermark\n",
    "%watermark"
   ]
  },
  {
   "cell_type": "code",
   "execution_count": 14,
   "metadata": {},
   "outputs": [
    {
     "data": {
      "application/json": {
       "Software versions": [
        {
         "module": "Python",
         "version": "3.6.3 64bit [GCC 4.2.1 Compatible Apple LLVM 9.0.0 (clang-900.0.37)]"
        },
        {
         "module": "IPython",
         "version": "6.1.0"
        },
        {
         "module": "OS",
         "version": "Darwin 17.0.0 x86_64 i386 64bit"
        },
        {
         "module": "numpy",
         "version": "1.13.1"
        },
        {
         "module": "scipy",
         "version": "0.19.1"
        },
        {
         "module": "matplotlib",
         "version": "2.0.2"
        },
        {
         "module": "sympy",
         "version": "1.1.1"
        },
        {
         "module": "pillow",
         "version": "4.2.1"
        },
        {
         "module": "imageio",
         "version": "2.1.2"
        }
       ]
      },
      "text/html": [
       "<table><tr><th>Software</th><th>Version</th></tr><tr><td>Python</td><td>3.6.3 64bit [GCC 4.2.1 Compatible Apple LLVM 9.0.0 (clang-900.0.37)]</td></tr><tr><td>IPython</td><td>6.1.0</td></tr><tr><td>OS</td><td>Darwin 17.0.0 x86_64 i386 64bit</td></tr><tr><td>numpy</td><td>1.13.1</td></tr><tr><td>scipy</td><td>0.19.1</td></tr><tr><td>matplotlib</td><td>2.0.2</td></tr><tr><td>sympy</td><td>1.1.1</td></tr><tr><td>pillow</td><td>4.2.1</td></tr><tr><td>imageio</td><td>2.1.2</td></tr><tr><td colspan='2'>Wed Oct 25 15:08:32 2017 CEST</td></tr></table>"
      ],
      "text/latex": [
       "\\begin{tabular}{|l|l|}\\hline\n",
       "{\\bf Software} & {\\bf Version} \\\\ \\hline\\hline\n",
       "Python & 3.6.3 64bit [GCC 4.2.1 Compatible Apple LLVM 9.0.0 (clang-900.0.37)] \\\\ \\hline\n",
       "IPython & 6.1.0 \\\\ \\hline\n",
       "OS & Darwin 17.0.0 x86\\_64 i386 64bit \\\\ \\hline\n",
       "numpy & 1.13.1 \\\\ \\hline\n",
       "scipy & 0.19.1 \\\\ \\hline\n",
       "matplotlib & 2.0.2 \\\\ \\hline\n",
       "sympy & 1.1.1 \\\\ \\hline\n",
       "pillow & 4.2.1 \\\\ \\hline\n",
       "imageio & 2.1.2 \\\\ \\hline\n",
       "\\hline \\multicolumn{2}{|l|}{Wed Oct 25 15:08:32 2017 CEST} \\\\ \\hline\n",
       "\\end{tabular}\n"
      ],
      "text/plain": [
       "Software versions\n",
       "Python 3.6.3 64bit [GCC 4.2.1 Compatible Apple LLVM 9.0.0 (clang-900.0.37)]\n",
       "IPython 6.1.0\n",
       "OS Darwin 17.0.0 x86_64 i386 64bit\n",
       "numpy 1.13.1\n",
       "scipy 0.19.1\n",
       "matplotlib 2.0.2\n",
       "sympy 1.1.1\n",
       "pillow 4.2.1\n",
       "imageio 2.1.2\n",
       "Wed Oct 25 15:08:32 2017 CEST"
      ]
     },
     "execution_count": 14,
     "metadata": {},
     "output_type": "execute_result"
    }
   ],
   "source": [
    "%load_ext version_information\n",
    "%version_information numpy, scipy, matplotlib, sympy, pillow, imageio"
   ]
  }
 ],
 "metadata": {
  "kernelspec": {
   "display_name": "Python 3",
   "language": "python",
   "name": "python3"
  },
  "language_info": {
   "codemirror_mode": {
    "name": "ipython",
    "version": 3
   },
   "file_extension": ".py",
   "mimetype": "text/x-python",
   "name": "python",
   "nbconvert_exporter": "python",
   "pygments_lexer": "ipython3",
   "version": "3.6.3"
  }
 },
 "nbformat": 4,
 "nbformat_minor": 2
}
