{
 "cells": [
  {
   "cell_type": "markdown",
   "metadata": {},
   "source": [
    "MotionClouds may be considered as a control stimulus - it seems more interesting to consider more complex trajectories. Following a [previous post](https://laurentperrinet.github.io/sciblog/posts/2018-01-16-testing-more-complex-trajectories.html), we design a trajectory embedded in noise."
   ]
  },
  {
   "cell_type": "markdown",
   "metadata": {},
   "source": [
    "<center><table style=\"width:100%\"><tr><td><video controls autoplay loop src=\"../files/2018-11-13-testing-more-complex/trajectory_overlay_difficult.mp4\" width=100%/></td><td><video controls autoplay loop src=\"../files/2018-11-13-testing-more-complex/trajectory_overlay_difficult_reversed.mp4\" width=100%/></td></tr><tr><td><video controls autoplay loop src=\"../files/2018-11-13-testing-more-complex/trajectory_overlay_difficult_shuffled.mp4\" width=100%/></td><td><video controls autoplay loop src=\"../files/2018-11-13-testing-more-complex/trajectory_overlay_difficult_shuffled_reversed.mp4\" width=100%/></td></tr></table></center>"
   ]
  },
  {
   "cell_type": "markdown",
   "metadata": {},
   "source": [
    "\n",
    "Can you spot the motion ? from left to right or reversed ?\n",
    "\n",
    "(For a more controlled test, imagine you fixate on the top left corner of each movie.)\n",
    "\n",
    "(Upper row is coherent, lower row uncoherent / Left is ``->`` Right column is ``<-``)\n",
    "\n",
    "TODO: use a biomimetic camouflage such as in this [video](https://twitter.com/CoenCagli_Lab/status/1168565787818385408).\n",
    "\n",
    "<!-- TEASER_END -->\n",
    "\n",
    "Let's start with the classical Motion Cloud:"
   ]
  },
  {
   "cell_type": "code",
   "execution_count": 1,
   "metadata": {
    "ExecuteTime": {
     "end_time": "2018-01-16T15:06:58.608090Z",
     "start_time": "2018-01-16T15:06:56.480814Z"
    }
   },
   "outputs": [],
   "source": [
    "name = 'trajectory'\n",
    "%matplotlib inline\n",
    "import matplotlib.pyplot as plt\n",
    "import os\n",
    "import numpy as np\n",
    "import MotionClouds as mc\n",
    "fx, fy, ft = mc.get_grids(mc.N_X, mc.N_Y, mc.N_frame)\n",
    "\n",
    "mc.figpath = '../files/2018-11-13-testing-more-complex'\n",
    "if not(os.path.isdir(mc.figpath)): os.mkdir(mc.figpath)"
   ]
  },
  {
   "cell_type": "markdown",
   "metadata": {},
   "source": [
    "Some default parameters for the textons used here:"
   ]
  },
  {
   "cell_type": "code",
   "execution_count": 2,
   "metadata": {},
   "outputs": [],
   "source": [
    "opts = dict(sf_0=0.04, B_sf=0.02, B_theta=np.inf, B_V=1.1, V_X=2.)"
   ]
  },
  {
   "cell_type": "markdown",
   "metadata": {},
   "source": [
    "First defining a dense,stationary noise with an horizontal drift:"
   ]
  },
  {
   "cell_type": "code",
   "execution_count": 3,
   "metadata": {
    "ExecuteTime": {
     "end_time": "2018-01-16T15:07:14.108893Z",
     "start_time": "2018-01-16T15:06:58.614799Z"
    }
   },
   "outputs": [
    {
     "data": {
      "text/html": [
       "\n",
       "                <center><table border=none width=100% height=100%>\n",
       "                <tr>\n",
       "                <td width=33%%><center><img src=\"../files/2018-11-13-testing-more-complex/trajectory_dense.png\" width=100%/></td>\n",
       "                <td rowspan=2  colspan=2><center><video src=\"../files/2018-11-13-testing-more-complex/trajectory_dense.mp4\"   loop=\"1\" autoplay=\"1\" controls   type=\"video/mp4\" width=100%/></td>\n",
       "                </tr>\n",
       "                <tr>\n",
       "                <td><center><img src=\"../files/2018-11-13-testing-more-complex/trajectory_dense_cube.png\" width=100%/></td>\n",
       "                </tr>\n",
       "                </table></center>"
      ],
      "text/plain": [
       "<IPython.core.display.HTML object>"
      ]
     },
     "metadata": {},
     "output_type": "display_data"
    }
   ],
   "source": [
    "name_ = name + '_dense'\n",
    "seed = 42\n",
    "mc1 = mc.envelope_gabor(fx, fy, ft, **opts)\n",
    "mc.figures(mc1, name_, seed=seed, figpath=mc.figpath)\n",
    "mc.in_show_video(name_, figpath=mc.figpath)"
   ]
  },
  {
   "cell_type": "markdown",
   "metadata": {},
   "source": [
    "The information is distributed densely in space and time. \n",
    "\n",
    "## one definition of a trajectory\n",
    "\n",
    "It is also possible to show the impulse response (\"texton\") corresponding to this particular texture (be patient to see a full period):"
   ]
  },
  {
   "cell_type": "code",
   "execution_count": 4,
   "metadata": {
    "ExecuteTime": {
     "end_time": "2018-01-16T15:07:33.397357Z",
     "start_time": "2018-01-16T15:07:14.115329Z"
    }
   },
   "outputs": [
    {
     "data": {
      "text/html": [
       "\n",
       "                <center><table border=none width=100% height=100%>\n",
       "                <tr>\n",
       "                <td width=33%%><center><img src=\"../files/2018-11-13-testing-more-complex/trajectory_impulse.png\" width=100%/></td>\n",
       "                <td rowspan=2  colspan=2><center><video src=\"../files/2018-11-13-testing-more-complex/trajectory_impulse.mp4\"   loop=\"1\" autoplay=\"1\" controls   type=\"video/mp4\" width=100%/></td>\n",
       "                </tr>\n",
       "                <tr>\n",
       "                <td><center><img src=\"../files/2018-11-13-testing-more-complex/trajectory_impulse_cube.png\" width=100%/></td>\n",
       "                </tr>\n",
       "                </table></center>"
      ],
      "text/plain": [
       "<IPython.core.display.HTML object>"
      ]
     },
     "metadata": {},
     "output_type": "display_data"
    }
   ],
   "source": [
    "name_ = name + '_impulse'\n",
    "seed = 42\n",
    "mc1 = mc.envelope_gabor(fx, fy, ft, **opts)\n",
    "mc.figures(mc1, name_, seed=seed, impulse=True, figpath=mc.figpath)\n",
    "mc.in_show_video(name_, figpath=mc.figpath)"
   ]
  },
  {
   "cell_type": "markdown",
   "metadata": {},
   "source": [
    "To generate a trajectory, we should just convolve this impulse response to a trajectory defined as a binary profile in space and time:"
   ]
  },
  {
   "cell_type": "code",
   "execution_count": 5,
   "metadata": {
    "ExecuteTime": {
     "end_time": "2018-01-16T15:07:56.663100Z",
     "start_time": "2018-01-16T15:07:33.425386Z"
    }
   },
   "outputs": [],
   "source": [
    "name_ = name + '_straight'\n",
    "seed = 42\n",
    "x, y, t = fx+.5, fy+.5, ft+.5 # trick to use fourier coordinates to get spatial coordinates\n",
    "width_y, width_x = 1/mc.N_X, 1/mc.N_Y\n",
    "t0, t1 = .375, .625\n",
    "x0 = .25 #np.random.rand() * (1 - opts['V_X'] * (t1-t0)) # makes sure the trajectory does not wrap across the border\n",
    "y0 = np.random.rand()\n",
    "events = 1. * (np.abs(y - y0) < width_y)* (np.abs(x - x0 - opts['V_X']*(t-t0)) < width_x) * (t > t0 ) * (t < t1)\n"
   ]
  },
  {
   "cell_type": "code",
   "execution_count": 6,
   "metadata": {},
   "outputs": [
    {
     "data": {
      "image/png": "[encoded data removed]",
      "text/plain": [
       "<Figure size 1080x1080 with 1 Axes>"
      ]
     },
     "metadata": {
      "needs_background": "light"
     },
     "output_type": "display_data"
    }
   ],
   "source": [
    "fig, ax = plt.subplots(1, 1, figsize=(15, 15))\n",
    "ax.imshow(events.mean(axis=1))\n",
    "ax.set_xlabel('Time')\n",
    "ax.set_ylabel('X-axis');"
   ]
  },
  {
   "cell_type": "code",
   "execution_count": 7,
   "metadata": {},
   "outputs": [
    {
     "data": {
      "text/html": [
       "\n",
       "                <center><table border=none width=100% height=100%>\n",
       "                <tr>\n",
       "                <td width=33%%><center><img src=\"../files/2018-11-13-testing-more-complex/trajectory_straight.png\" width=100%/></td>\n",
       "                <td rowspan=2  colspan=2><center><video src=\"../files/2018-11-13-testing-more-complex/trajectory_straight.mp4\"   loop=\"1\" autoplay=\"1\" controls   type=\"video/mp4\" width=100%/></td>\n",
       "                </tr>\n",
       "                <tr>\n",
       "                <td><center><img src=\"../files/2018-11-13-testing-more-complex/trajectory_straight_cube.png\" width=100%/></td>\n",
       "                </tr>\n",
       "                </table></center>"
      ],
      "text/plain": [
       "<IPython.core.display.HTML object>"
      ]
     },
     "metadata": {},
     "output_type": "display_data"
    }
   ],
   "source": [
    "mc1 = mc.envelope_gabor(fx, fy, ft, **opts)\n",
    "mc.figures(mc1, name_, seed=seed, events=events, figpath=mc.figpath)\n",
    "mc.in_show_video(name_, figpath=mc.figpath)"
   ]
  },
  {
   "cell_type": "markdown",
   "metadata": {},
   "source": [
    "To replicate the work from Watamaniuk, McKee and colleagues, we replicate the same motion but where we keep the motion energy while shuffling the coherence:"
   ]
  },
  {
   "cell_type": "code",
   "execution_count": 8,
   "metadata": {
    "ExecuteTime": {
     "end_time": "2018-01-16T15:09:22.521657Z",
     "start_time": "2018-01-16T15:08:41.248865Z"
    }
   },
   "outputs": [
    {
     "data": {
      "image/png": "[encoded data removed]",
      "text/plain": [
       "<Figure size 1080x1080 with 1 Axes>"
      ]
     },
     "metadata": {
      "needs_background": "light"
     },
     "output_type": "display_data"
    }
   ],
   "source": [
    "name_ = name + '_shuffled'\n",
    "N_folds = 8\n",
    "N_traj = int((t1-t0)*mc.N_frame) // N_folds\n",
    "N_start = int(t0*mc.N_frame)\n",
    "folding = np.random.permutation(N_folds)\n",
    "events_shuffled = events.copy()\n",
    "for i_fold in range(N_folds):\n",
    "    S0, S1 = (N_start+folding[i_fold]*N_traj), (N_start+(folding[i_fold]+1)*N_traj)\n",
    "    N0, N1 = (N_start+i_fold*N_traj), (N_start+(i_fold+1)*N_traj)\n",
    "    nx = int(np.random.rand()*mc.N_Y)\n",
    "    ny = int(np.random.rand()*mc.N_Y)\n",
    "    events_shuffled[:, :, S0:S1] = np.roll(np.roll(events[:, :, N0:N1], nx, axis=0), ny, axis=1)\n",
    "\n",
    "fig, ax = plt.subplots(1, 1, figsize=(15, 15))\n",
    "ax.imshow(events_shuffled.mean(axis=1))\n",
    "ax.set_xlabel('Time')\n",
    "ax.set_ylabel('X-axis');"
   ]
  },
  {
   "cell_type": "code",
   "execution_count": 9,
   "metadata": {
    "ExecuteTime": {
     "end_time": "2018-01-16T15:09:22.521657Z",
     "start_time": "2018-01-16T15:08:41.248865Z"
    }
   },
   "outputs": [
    {
     "data": {
      "text/html": [
       "\n",
       "                <center><table border=none width=100% height=100%>\n",
       "                <tr>\n",
       "                <td width=33%%><center><img src=\"../files/2018-11-13-testing-more-complex/trajectory_shuffled.png\" width=100%/></td>\n",
       "                <td rowspan=2  colspan=2><center><video src=\"../files/2018-11-13-testing-more-complex/trajectory_shuffled.mp4\"   loop=\"1\" autoplay=\"1\" controls   type=\"video/mp4\" width=100%/></td>\n",
       "                </tr>\n",
       "                <tr>\n",
       "                <td><center><img src=\"../files/2018-11-13-testing-more-complex/trajectory_shuffled_cube.png\" width=100%/></td>\n",
       "                </tr>\n",
       "                </table></center>"
      ],
      "text/plain": [
       "<IPython.core.display.HTML object>"
      ]
     },
     "metadata": {},
     "output_type": "display_data"
    }
   ],
   "source": [
    "mc1 = mc.envelope_gabor(fx, fy, ft, **opts)\n",
    "mc.figures(mc1, name_, seed=seed, events=events_shuffled, figpath=mc.figpath)\n",
    "mc.in_show_video(name_, figpath=mc.figpath)"
   ]
  },
  {
   "cell_type": "markdown",
   "metadata": {},
   "source": [
    "## addition of a the trajectory to the incoherent noise\n",
    "\n",
    "It is now possible to add this trajectory to any kind of background, such as a background texture of the same \"texton\" but with a null average motion:"
   ]
  },
  {
   "cell_type": "code",
   "execution_count": 10,
   "metadata": {},
   "outputs": [],
   "source": [
    "def overlay(movie1, movie2, rho, do_linear=False):\n",
    "    if do_linear:\n",
    "        return rho*movie1+(1-rho)*movie2\n",
    "    else:\n",
    "        movie1, movie2 = rho*(2.*movie1-1), 2.*movie2-1\n",
    "        movie = np.zeros_like(movie1)\n",
    "        mask = np.abs(movie1) > np.abs(movie2)\n",
    "        movie[mask] = movie1[mask]\n",
    "        movie[1-mask] = movie2[1-mask]\n",
    "        return .5 + .5*movie"
   ]
  },
  {
   "cell_type": "markdown",
   "metadata": {},
   "source": [
    "a more memory-efficient version of the above:"
   ]
  },
  {
   "cell_type": "code",
   "execution_count": 11,
   "metadata": {},
   "outputs": [],
   "source": [
    "def overlay(movie1, movie2, rho, do_linear=False):\n",
    "    if do_linear:\n",
    "        return rho*movie1+(1-rho)*movie2\n",
    "    else:\n",
    "        movie1, movie2 = rho*(2.*movie1-1), 2.*movie2-1\n",
    "        movie = movie1 * (np.abs(movie1) > np.abs(movie2)) + movie2 * (np.abs(movie1) <= np.abs(movie2))\n",
    "        #return .5 + .5*movie\n",
    "        return 1. * (movie > 0.)\n",
    "        #seuil = .1\n",
    "        #return .5 + .5 * (-1. * (movie < -seuil) +  1. * (movie > seuil))\n",
    "        #return  .5 + .5* np.tan(4.*movie)"
   ]
  },
  {
   "cell_type": "code",
   "execution_count": 12,
   "metadata": {
    "ExecuteTime": {
     "end_time": "2018-01-16T15:09:22.521657Z",
     "start_time": "2018-01-16T15:08:41.248865Z"
    }
   },
   "outputs": [],
   "source": [
    "mc1 = mc.envelope_gabor(fx, fy, ft, **opts)\n",
    "movie_coh = mc.rectif(mc.random_cloud(mc1, seed=seed, events=events))\n",
    "opts_ = opts.copy()\n",
    "opts_.update(V_X=0)\n",
    "mc0 = mc.envelope_gabor(fx, fy, ft, **opts_)\n",
    "movie_unc = mc.rectif(mc.random_cloud(mc0, seed=seed+1))"
   ]
  },
  {
   "cell_type": "code",
   "execution_count": 13,
   "metadata": {
    "ExecuteTime": {
     "end_time": "2018-01-16T15:09:22.521657Z",
     "start_time": "2018-01-16T15:08:41.248865Z"
    }
   },
   "outputs": [
    {
     "data": {
      "text/html": [
       "\n",
       "            <center><table border=none width=100% height=100%>\n",
       "            <tr> <td width=100%><center><video  loop=\"1\" autoplay=\"1\" controls  src=\"../files/2018-11-13-testing-more-complex/trajectory_overlay.mp4\" type=\"video/mp4\"  width=100%\\>\n",
       "            </td></tr></table></center>"
      ],
      "text/plain": [
       "<IPython.core.display.HTML object>"
      ]
     },
     "metadata": {},
     "output_type": "display_data"
    }
   ],
   "source": [
    "name_ = name + '_overlay'\n",
    "rho_coh = .9\n",
    "mc.anim_save(overlay(movie_coh, movie_unc, rho_coh), os.path.join(mc.figpath, name_))\n",
    "mc.in_show_video(name_, figpath=mc.figpath)"
   ]
  },
  {
   "cell_type": "code",
   "execution_count": 14,
   "metadata": {
    "ExecuteTime": {
     "end_time": "2018-01-16T15:09:53.872831Z",
     "start_time": "2018-01-16T15:09:22.526189Z"
    }
   },
   "outputs": [
    {
     "data": {
      "text/html": [
       "\n",
       "            <center><table border=none width=100% height=100%>\n",
       "            <tr> <td width=100%><center><video  loop=\"1\" autoplay=\"1\" controls  src=\"../files/2018-11-13-testing-more-complex/trajectory_overlay_difficult.mp4\" type=\"video/mp4\"  width=100%\\>\n",
       "            </td></tr></table></center>"
      ],
      "text/plain": [
       "<IPython.core.display.HTML object>"
      ]
     },
     "metadata": {},
     "output_type": "display_data"
    }
   ],
   "source": [
    "name_ = name + '_overlay_difficult'\n",
    "rho_coh = .5\n",
    "mc.anim_save(overlay(movie_coh, movie_unc, rho_coh), os.path.join(mc.figpath, name_))\n",
    "mc.in_show_video(name_, figpath=mc.figpath)"
   ]
  },
  {
   "cell_type": "markdown",
   "metadata": {},
   "source": [
    "Though it is difficult to find the coherent pattern in a single frame, one detects it thanks to its coherent motion."
   ]
  },
  {
   "cell_type": "code",
   "execution_count": 15,
   "metadata": {
    "ExecuteTime": {
     "end_time": "2018-01-16T15:09:22.521657Z",
     "start_time": "2018-01-16T15:08:41.248865Z"
    }
   },
   "outputs": [
    {
     "data": {
      "text/html": [
       "\n",
       "            <center><table border=none width=100% height=100%>\n",
       "            <tr> <td width=100%><center><video  loop=\"1\" autoplay=\"1\" controls  src=\"../files/2018-11-13-testing-more-complex/trajectory_overlay_shuffled.mp4\" type=\"video/mp4\"  width=100%\\>\n",
       "            </td></tr></table></center>"
      ],
      "text/plain": [
       "<IPython.core.display.HTML object>"
      ]
     },
     "metadata": {},
     "output_type": "display_data"
    }
   ],
   "source": [
    "name_ = name + '_overlay_shuffled'\n",
    "movie_coh_shuffled = mc.rectif(mc.random_cloud(mc1, seed=seed, events=events_shuffled))\n",
    "rho_coh = .9\n",
    "mc.anim_save(overlay(movie_coh_shuffled, movie_unc, rho_coh), os.path.join(mc.figpath, name_))\n",
    "mc.in_show_video(name_, figpath=mc.figpath)"
   ]
  },
  {
   "cell_type": "code",
   "execution_count": 16,
   "metadata": {
    "ExecuteTime": {
     "end_time": "2018-01-16T15:09:22.521657Z",
     "start_time": "2018-01-16T15:08:41.248865Z"
    }
   },
   "outputs": [
    {
     "data": {
      "text/html": [
       "\n",
       "            <center><table border=none width=100% height=100%>\n",
       "            <tr> <td width=100%><center><video  loop=\"1\" autoplay=\"1\" controls  src=\"../files/2018-11-13-testing-more-complex/trajectory_overlay_difficult_shuffled.mp4\" type=\"video/mp4\"  width=100%\\>\n",
       "            </td></tr></table></center>"
      ],
      "text/plain": [
       "<IPython.core.display.HTML object>"
      ]
     },
     "metadata": {},
     "output_type": "display_data"
    }
   ],
   "source": [
    "name_ = name + '_overlay_difficult_shuffled'\n",
    "rho_coh = .5\n",
    "mc.anim_save(overlay(movie_coh_shuffled, movie_unc, rho_coh), os.path.join(mc.figpath, name_))\n",
    "mc.in_show_video(name_, figpath=mc.figpath)"
   ]
  },
  {
   "cell_type": "markdown",
   "metadata": {},
   "source": [
    "## trying out different directions\n"
   ]
  },
  {
   "cell_type": "code",
   "execution_count": 17,
   "metadata": {
    "ExecuteTime": {
     "end_time": "2018-01-16T15:09:53.872831Z",
     "start_time": "2018-01-16T15:09:22.526189Z"
    }
   },
   "outputs": [
    {
     "data": {
      "text/html": [
       "\n",
       "            <center><table border=none width=100% height=100%>\n",
       "            <tr> <td width=100%><center><video  loop=\"1\" autoplay=\"1\" controls  src=\"../files/2018-11-13-testing-more-complex/trajectory_overlay_difficult_reversed.mp4\" type=\"video/mp4\"  width=100%\\>\n",
       "            </td></tr></table></center>"
      ],
      "text/plain": [
       "<IPython.core.display.HTML object>"
      ]
     },
     "metadata": {},
     "output_type": "display_data"
    }
   ],
   "source": [
    "name_ = name + '_overlay_difficult_reversed'\n",
    "mc.anim_save(overlay(movie_coh[::-1, :, :], movie_unc, rho_coh), os.path.join(mc.figpath, name_))\n",
    "mc.in_show_video(name_, figpath=mc.figpath)"
   ]
  },
  {
   "cell_type": "code",
   "execution_count": 18,
   "metadata": {
    "ExecuteTime": {
     "end_time": "2018-01-16T15:09:22.521657Z",
     "start_time": "2018-01-16T15:08:41.248865Z"
    }
   },
   "outputs": [
    {
     "data": {
      "text/html": [
       "\n",
       "            <center><table border=none width=100% height=100%>\n",
       "            <tr> <td width=100%><center><video  loop=\"1\" autoplay=\"1\" controls  src=\"../files/2018-11-13-testing-more-complex/trajectory_overlay_difficult_shuffled_reversed.mp4\" type=\"video/mp4\"  width=100%\\>\n",
       "            </td></tr></table></center>"
      ],
      "text/plain": [
       "<IPython.core.display.HTML object>"
      ]
     },
     "metadata": {},
     "output_type": "display_data"
    }
   ],
   "source": [
    "name_ = name + '_overlay_difficult_shuffled_reversed'\n",
    "mc.anim_save(overlay(movie_coh_shuffled[::-1, :, :], movie_unc, rho_coh), os.path.join(mc.figpath, name_))\n",
    "mc.in_show_video(name_, figpath=mc.figpath)"
   ]
  },
  {
   "cell_type": "markdown",
   "metadata": {},
   "source": [
    "## some book keeping for the notebook"
   ]
  },
  {
   "cell_type": "code",
   "execution_count": 20,
   "metadata": {
    "ExecuteTime": {
     "end_time": "2018-11-07T16:19:23.177738Z",
     "start_time": "2018-11-07T16:19:23.125993Z"
    }
   },
   "outputs": [
    {
     "name": "stdout",
     "output_type": "stream",
     "text": [
      "2020-01-14T11:23:54+01:00\n",
      "\n",
      "CPython 3.7.6\n",
      "IPython 7.11.1\n",
      "\n",
      "compiler   : Clang 11.0.0 (clang-1100.0.33.16)\n",
      "system     : Darwin\n",
      "release    : 19.2.0\n",
      "machine    : x86_64\n",
      "processor  : i386\n",
      "CPU cores  : 36\n",
      "interpreter: 64bit\n"
     ]
    }
   ],
   "source": [
    "%load_ext watermark\n",
    "%watermark"
   ]
  },
  {
   "cell_type": "code",
   "execution_count": 21,
   "metadata": {},
   "outputs": [
    {
     "name": "stdout",
     "output_type": "stream",
     "text": [
      "The watermark extension is already loaded. To reload it, use:\n",
      "  %reload_ext watermark\n",
      "2020-01-14T11:23:55+01:00\n",
      "\n",
      "CPython 3.7.6\n",
      "IPython 7.11.1\n",
      "\n",
      "MotionClouds 20180606\n",
      "numpy 1.19.0.dev0+624d34c\n",
      "pillow not installed\n",
      "imageio 2.6.1\n",
      "\n",
      "compiler   : Clang 11.0.0 (clang-1100.0.33.16)\n",
      "system     : Darwin\n",
      "release    : 19.2.0\n",
      "machine    : x86_64\n",
      "processor  : i386\n",
      "CPU cores  : 36\n",
      "interpreter: 64bit\n",
      "host name  : fortytwo\n",
      "Git hash   : 7a9632c08197e479802f7b890ae18179d347a12e\n",
      "Git repo   : https://github.com/laurentperrinet/sciblog.git\n",
      "Git branch : master\n"
     ]
    }
   ],
   "source": [
    "%load_ext watermark\n",
    "%watermark -i -h -m -v -p MotionClouds,numpy,pillow,imageio  -r -g -b"
   ]
  }
 ],
 "metadata": {
  "kernelspec": {
   "display_name": "Python 3",
   "language": "python",
   "name": "python3"
  },
  "language_info": {
   "codemirror_mode": {
    "name": "ipython",
    "version": 3
   },
   "file_extension": ".py",
   "mimetype": "text/x-python",
   "name": "python",
   "nbconvert_exporter": "python",
   "pygments_lexer": "ipython3",
   "version": "3.7.6"
  },
  "nikola": {
   "category": "",
   "date": "2018-11-13 11:43:46 UTC+02:00",
   "description": "",
   "link": "",
   "slug": "2018-11-13-testing-more-complex-trajectories",
   "tags": "motionclouds, code, trajectory",
   "title": "Embedding a trajectory in noise",
   "type": "text"
  },
  "toc": {
   "nav_menu": {},
   "number_sections": true,
   "sideBar": true,
   "skip_h1_title": false,
   "toc_cell": false,
   "toc_position": {},
   "toc_section_display": "block",
   "toc_window_display": false
  }
 },
 "nbformat": 4,
 "nbformat_minor": 4
}
