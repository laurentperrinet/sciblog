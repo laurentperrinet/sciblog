{
 "cells": [
  {
   "cell_type": "markdown",
   "metadata": {},
   "source": [
    "[Motion Clouds](https://neuralensemble.github.io/MotionClouds) were defined in the origin to define parameterized moving textures. In [that other post](https://laurentperrinet.github.io/sciblog/posts/2016-07-14_static-motion-clouds.html), we defined a simple code to generate static images using a simple code. Can we generate a series of images while chanigning the phase *globally*?\n",
    "\n",
    "<!-- TEASER_END -->\n",
    "\n",
    "There are multiple solutions, and the simplest is perhaps to generate a movie that does not move. This means that the mean velocity $(V_X, V_Y)$ is null $=(0, 0)$ but also that there is no noise in the definition of the speed plane. This is defined by $B_V=0$, that is, that all the energy is concentrated on the spped plane:"
   ]
  },
  {
   "cell_type": "code",
   "execution_count": null,
   "metadata": {
    "collapsed": true,
    "jupyter": {
     "outputs_hidden": true
    }
   },
   "outputs": [],
   "source": [
    "from __future__ import division, print_function\n",
    "import numpy as np\n",
    "np.set_printoptions(precision=6, suppress=True)\n",
    "import os\n",
    "%matplotlib inline\n",
    "#%config InlineBackend.figure_format='retina'\n",
    "%config InlineBackend.figure_format = 'svg'\n",
    "import matplotlib.pyplot as plt\n",
    "phi = (np.sqrt(5)+1)/2\n",
    "fig_width = 10\n",
    "figsize = (fig_width, fig_width/phi)\n",
    "from IPython.display import display, HTML\n",
    "def show_video(filename): \n",
    "    return HTML(data='<video src=\"{}\" loop autoplay width=\"600\" height=\"600\"></video>'.format(filename))\n",
    "%load_ext autoreload\n",
    "%autoreload 2"
   ]
  },
  {
   "cell_type": "markdown",
   "metadata": {},
   "source": [
    "## some book keeping for the notebook"
   ]
  },
  {
   "cell_type": "code",
   "execution_count": 1,
   "metadata": {},
   "outputs": [
    {
     "name": "stdout",
     "output_type": "stream",
     "text": [
      "2017-10-06T11:01:51+02:00\n",
      "\n",
      "CPython 3.6.3\n",
      "IPython 6.2.1\n",
      "\n",
      "compiler   : GCC 4.2.1 Compatible Apple LLVM 9.0.0 (clang-900.0.37)\n",
      "system     : Darwin\n",
      "release    : 17.0.0\n",
      "machine    : x86_64\n",
      "processor  : i386\n",
      "CPU cores  : 8\n",
      "interpreter: 64bit\n"
     ]
    }
   ],
   "source": [
    "%load_ext watermark\n",
    "%watermark"
   ]
  },
  {
   "cell_type": "code",
   "execution_count": 2,
   "metadata": {},
   "outputs": [
    {
     "data": {
      "application/json": {
       "Software versions": [
        {
         "module": "Python",
         "version": "3.6.3 64bit [GCC 4.2.1 Compatible Apple LLVM 9.0.0 (clang-900.0.37)]"
        },
        {
         "module": "IPython",
         "version": "6.2.1"
        },
        {
         "module": "OS",
         "version": "Darwin 17.0.0 x86_64 i386 64bit"
        },
        {
         "module": "numpy",
         "version": "1.13.3"
        },
        {
         "module": "scipy",
         "version": "0.19.1"
        },
        {
         "module": "matplotlib",
         "version": "2.1.0rc1"
        },
        {
         "module": "sympy",
         "version": "1.1.1"
        },
        {
         "module": "pillow",
         "version": "4.3.0"
        },
        {
         "module": "imageio",
         "version": "2.1.2"
        }
       ]
      },
      "text/html": [
       "<table><tr><th>Software</th><th>Version</th></tr><tr><td>Python</td><td>3.6.3 64bit [GCC 4.2.1 Compatible Apple LLVM 9.0.0 (clang-900.0.37)]</td></tr><tr><td>IPython</td><td>6.2.1</td></tr><tr><td>OS</td><td>Darwin 17.0.0 x86_64 i386 64bit</td></tr><tr><td>numpy</td><td>1.13.3</td></tr><tr><td>scipy</td><td>0.19.1</td></tr><tr><td>matplotlib</td><td>2.1.0rc1</td></tr><tr><td>sympy</td><td>1.1.1</td></tr><tr><td>pillow</td><td>4.3.0</td></tr><tr><td>imageio</td><td>2.1.2</td></tr><tr><td colspan='2'>Fri Oct 06 11:01:55 2017 CEST</td></tr></table>"
      ],
      "text/latex": [
       "\\begin{tabular}{|l|l|}\\hline\n",
       "{\\bf Software} & {\\bf Version} \\\\ \\hline\\hline\n",
       "Python & 3.6.3 64bit [GCC 4.2.1 Compatible Apple LLVM 9.0.0 (clang-900.0.37)] \\\\ \\hline\n",
       "IPython & 6.2.1 \\\\ \\hline\n",
       "OS & Darwin 17.0.0 x86\\_64 i386 64bit \\\\ \\hline\n",
       "numpy & 1.13.3 \\\\ \\hline\n",
       "scipy & 0.19.1 \\\\ \\hline\n",
       "matplotlib & 2.1.0rc1 \\\\ \\hline\n",
       "sympy & 1.1.1 \\\\ \\hline\n",
       "pillow & 4.3.0 \\\\ \\hline\n",
       "imageio & 2.1.2 \\\\ \\hline\n",
       "\\hline \\multicolumn{2}{|l|}{Fri Oct 06 11:01:55 2017 CEST} \\\\ \\hline\n",
       "\\end{tabular}\n"
      ],
      "text/plain": [
       "Software versions\n",
       "Python 3.6.3 64bit [GCC 4.2.1 Compatible Apple LLVM 9.0.0 (clang-900.0.37)]\n",
       "IPython 6.2.1\n",
       "OS Darwin 17.0.0 x86_64 i386 64bit\n",
       "numpy 1.13.3\n",
       "scipy 0.19.1\n",
       "matplotlib 2.1.0rc1\n",
       "sympy 1.1.1\n",
       "pillow 4.3.0\n",
       "imageio 2.1.2\n",
       "Fri Oct 06 11:01:55 2017 CEST"
      ]
     },
     "execution_count": 2,
     "metadata": {},
     "output_type": "execute_result"
    }
   ],
   "source": [
    "%load_ext version_information\n",
    "%version_information numpy, scipy, matplotlib, sympy, pillow, imageio"
   ]
  },
  {
   "cell_type": "code",
   "execution_count": null,
   "metadata": {
    "collapsed": true,
    "jupyter": {
     "outputs_hidden": true
    }
   },
   "outputs": [],
   "source": [
    "%%bash\n",
    "cd ..\n",
    "nikola build ; nikola deploy\n",
    "cd posts"
   ]
  }
 ],
 "metadata": {
  "kernelspec": {
   "display_name": "Python 3",
   "language": "python",
   "name": "python3"
  },
  "language_info": {
   "codemirror_mode": {
    "name": "ipython",
    "version": 3
   },
   "file_extension": ".py",
   "mimetype": "text/x-python",
   "name": "python",
   "nbconvert_exporter": "python",
   "pygments_lexer": "ipython3",
   "version": "3.7.6"
  },
  "toc": {
   "base_numbering": 1,
   "nav_menu": {},
   "number_sections": true,
   "sideBar": true,
   "skip_h1_title": false,
   "title_cell": "Table of Contents",
   "title_sidebar": "Contents",
   "toc_cell": false,
   "toc_position": {},
   "toc_section_display": true,
   "toc_window_display": false
  }
 },
 "nbformat": 4,
 "nbformat_minor": 4
}
