{
 "cells": [
  {
   "cell_type": "markdown",
   "metadata": {},
   "source": [
    "[Jupyter notebooks](https://jupyter.org/) are a great way of sharing knowledge in science, art, programming. \n",
    "For instance, in a recent musing, I tried to programmatically determine the [color of the sky](https://laurentperrinet.github.io/sciblog/posts/2020-07-04-colors-of-the-sky.html). This renders as a web page, but is also a piece of [runnable code](https://laurentperrinet.github.io/sciblog/posts/2020-07-04-colors-of-the-sky.ipynb).\n",
    "\n",
    "As such, they are also great ways to store the knowledge that was acquired at a given time and that could be reusable. This may be considered as bad programming and may have downsides\n",
    "\n",
    "[![Joel Grus](https://revolution-computing.typepad.com/.a/6a010534b1db25970b022ad3b0836c200b-800wi)](https://docs.google.com/presentation/d/1n2RlMdmv1p25Xy5thJUhkKGvjtV-dkAIsUXP-AL4ffI/edit#slide=id.g362da58057_0_1)\n",
    "\n",
    "Recently, thanks to an answer to a [stack overflow question](https://stackoverflow.com/questions/48067529/ipython-run-magic-n-switch-not-working),  I found a way to overcome this by detecting if the caall to a notebook is made from the notebook itself or from a parent.\n",
    "\n",
    "\n",
    "<!-- TEASER_END -->\n",
    "\n",
    "It's as simple as this cell:"
   ]
  },
  {
   "cell_type": "code",
   "execution_count": 1,
   "metadata": {},
   "outputs": [
    {
     "name": "stdout",
     "output_type": "stream",
     "text": [
      "__name__= __main__ \n",
      "Am I a running this notebook directly?  True\n"
     ]
    }
   ],
   "source": [
    "#verb =  (__name__ == \"__main__\")\n",
    "def has_parent():\n",
    "    \"\"\"\n",
    "    https://stackoverflow.com/questions/48067529/ipython-run-magic-n-switch-not-working\n",
    "    \n",
    "    Return True if this notebook is being run by calling\n",
    "    %run in another notebook, False otherwise.\n",
    "    \"\"\"\n",
    "    try:\n",
    "        __file__\n",
    "        # __file__ has been defined, so this notebook is \n",
    "        # being run in a parent notebook\n",
    "        return True\n",
    "\n",
    "    except NameError:\n",
    "        # __file__ has not been defined, so this notebook is \n",
    "        # not being run in a parent notebook\n",
    "        return False\n",
    "def do_verb():\n",
    "    return not has_parent()\n",
    "\n",
    "verb = do_verb()\n",
    "if verb : print('__name__=', __name__, '\\nAm I a running this notebook directly? ', verb)"
   ]
  },
  {
   "cell_type": "markdown",
   "metadata": {},
   "source": [
    "Let's see what we have in the memory:"
   ]
  },
  {
   "cell_type": "code",
   "execution_count": 2,
   "metadata": {},
   "outputs": [
    {
     "name": "stdout",
     "output_type": "stream",
     "text": [
      "Variable     Type        Data/Info\n",
      "----------------------------------\n",
      "do_verb      function    <function do_verb at 0x10e899820>\n",
      "has_parent   function    <function has_parent at 0x10e8998b0>\n",
      "verb         bool        True\n"
     ]
    }
   ],
   "source": [
    "if verb:\n",
    "    %whos"
   ]
  },
  {
   "cell_type": "markdown",
   "metadata": {},
   "source": [
    "Let's run the above mentioned notebook by it from this URL:"
   ]
  },
  {
   "cell_type": "code",
   "execution_count": 4,
   "metadata": {},
   "outputs": [],
   "source": [
    "if verb:\n",
    "    %run -n 2020-07-04-colors-of-the-sky.ipynb"
   ]
  },
  {
   "cell_type": "markdown",
   "metadata": {},
   "source": [
    "And now:"
   ]
  },
  {
   "cell_type": "code",
   "execution_count": 7,
   "metadata": {},
   "outputs": [
    {
     "data": {
      "text/plain": [
       "False"
      ]
     },
     "execution_count": 7,
     "metadata": {},
     "output_type": "execute_result"
    }
   ],
   "source": [
    "verb"
   ]
  },
  {
   "cell_type": "code",
   "execution_count": 5,
   "metadata": {},
   "outputs": [],
   "source": [
    "if verb:\n",
    "    %whos"
   ]
  },
  {
   "cell_type": "markdown",
   "metadata": {},
   "source": [
    "## some book keeping for the notebook"
   ]
  },
  {
   "cell_type": "code",
   "execution_count": 6,
   "metadata": {},
   "outputs": [],
   "source": [
    "if verb:\n",
    "    %load_ext watermark\n",
    "    %watermark -i -h -m -v -p numpy,SLIP,LogGabor,SparseEdges,matplotlib,scipy,pillow,imageio  -r -g -b"
   ]
  }
 ],
 "metadata": {
  "kernelspec": {
   "display_name": "Python 3",
   "language": "python",
   "name": "python3"
  },
  "language_info": {
   "codemirror_mode": {
    "name": "ipython",
    "version": 3
   },
   "file_extension": ".py",
   "mimetype": "text/x-python",
   "name": "python",
   "nbconvert_exporter": "python",
   "pygments_lexer": "ipython3",
   "version": "3.8.5"
  },
  "toc": {
   "base_numbering": 1,
   "nav_menu": {},
   "number_sections": true,
   "sideBar": true,
   "skip_h1_title": false,
   "title_cell": "Table of Contents",
   "title_sidebar": "Contents",
   "toc_cell": false,
   "toc_position": {},
   "toc_section_display": true,
   "toc_window_display": false
  }
 },
 "nbformat": 4,
 "nbformat_minor": 4
}
