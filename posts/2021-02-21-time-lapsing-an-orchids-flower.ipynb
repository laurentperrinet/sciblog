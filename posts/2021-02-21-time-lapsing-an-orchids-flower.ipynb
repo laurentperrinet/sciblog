{
 "cells": [
  {
   "cell_type": "markdown",
   "metadata": {},
   "source": [
    "\n",
    "The goal is to realize a time-lapse using a raspberry π and some python code and finally get this:\n",
    "\n",
    "![](https://github.com/laurentperrinet/TimeTeleScope/raw/main/videos/2021-02-17_TimeTeleScope.gif)\n",
    "\n",
    "(This was done over 10 days, with *almost* each day an *irregular* session the morning and one in the evening)\n",
    "\n",
    "<!-- TEASER_END -->\n",
    "\n",
    "The code (and more) is also available @ https://github.com/laurentperrinet/TimeTeleScope\n",
    "\n",
    "## data acquisition\n",
    "\n",
    "This is well documented on the web and consisted in simply:\n",
    "\n",
    "* setting up the raspberry π to use the camera\n",
    "* create a startup script [`startup.sh`](startup.sh) (or clone this repo in `/home/pi` using `git clone https://github.com/laurentperrinet/TimeTeleScope)` consisting of the commands which take 2 successive frames at different exposures :\n",
    "```\n",
    "raspistill -rot 270 -ev -10 --metering spot -o /home/pi/Desktop/orchid/`date +%Y-%m-%d.%H:%M:%S`.jpg\n",
    "raspistill -rot 270 -ev -8 --metering spot -o /home/pi/Desktop/orchid/`date +%Y-%m-%d.%H:%M:%S`.jpg\n",
    "```\n",
    "* run that script regularly (every ten minute) by adding the following line to the cron table (using `sudo crontab -e`):\n",
    "```\n",
    "*/10 * * * * /home/pi/TimeTelescope/startup.sh\n",
    "```\n",
    "\n",
    "\n",
    "This notebook transforms the sequence of frames into a movie.\n"
   ]
  },
  {
   "cell_type": "markdown",
   "metadata": {},
   "source": [
    "# low-level utilities\n",
    "\n",
    "In this first part, we:\n",
    "\n",
    " * set up parameters,\n",
    " * load images and display one,\n",
    " * perform a low-level filtering of the good versus bad images\n",
    " * todo: low-level re-alignment (seems not necessary as the camera did not move during the acquisition)"
   ]
  },
  {
   "cell_type": "code",
   "execution_count": 3,
   "metadata": {},
   "outputs": [],
   "source": [
    "import numpy as np\n",
    "import matplotlib\n",
    "import matplotlib.pyplot as plt\n",
    "phi = (np.sqrt(5)+1)/2"
   ]
  },
  {
   "cell_type": "code",
   "execution_count": 4,
   "metadata": {},
   "outputs": [],
   "source": [
    "def init(args=[], date=None, DEBUG=1):\n",
    "    if date is None:\n",
    "        import datetime\n",
    "        # https://en.wikipedia.org/wiki/ISO_8601\n",
    "        date = datetime.datetime.now().date().isoformat()\n",
    "    tag = f'{date}_TimeTeleScope'\n",
    "\n",
    "    import argparse\n",
    "    # Training settings\n",
    "    parser = argparse.ArgumentParser(description='TimeTeleScope')\n",
    "    parser.add_argument('--tag', type=str, default=tag, help='unique ID to tag our results')\n",
    "    parser.add_argument('--date', type=str, default=date, help='date of the run')\n",
    "    parser.add_argument('--in-path', type=str, default='../orchid', help='Folder containing the raw images')\n",
    "    parser.add_argument('--cache-path', type=str, default='cache_path', help='Folder to store intermediate images')\n",
    "    parser.add_argument('--videos-path', type=str, default='videos', help='Folder to store the final video')\n",
    "    parser.add_argument('--figwidth', type=float, default=15, help='Width of figures')\n",
    "    parser.add_argument('--ds', type=int, default=1, help='downsampling factor')\n",
    "    parser.add_argument('--fps', type=float, default=12, help='FPS of output gif')\n",
    "    parser.add_argument('--verb', type=bool, default=0, help='to blah or not blah')\n",
    "    args = parser.parse_args(args=[])\n",
    "\n",
    "    return args"
   ]
  },
  {
   "cell_type": "code",
   "execution_count": 5,
   "metadata": {},
   "outputs": [
    {
     "data": {
      "text/plain": [
       "Namespace(tag='2021-02-20_TimeTeleScope', date='2021-02-20', in_path='../orchid', cache_path='cache_path', videos_path='videos', figwidth=15, ds=1, fps=12, verb=0)"
      ]
     },
     "execution_count": 5,
     "metadata": {},
     "output_type": "execute_result"
    }
   ],
   "source": [
    "args = init()\n",
    "args"
   ]
  },
  {
   "cell_type": "code",
   "execution_count": 6,
   "metadata": {},
   "outputs": [],
   "source": [
    "import os\n",
    "class TimeTeleScopeLoad():\n",
    "    def __init__(self, args):\n",
    "        # saving parameters in the class\n",
    "        self.args = args\n",
    "        if self.args.verb : print(f'Tagging our simulations with tag={self.args.tag}')\n",
    "            \n",
    "        # creating folders\n",
    "        os.makedirs(self.args.cache_path, exist_ok=True)\n",
    "        os.makedirs(self.args.videos_path, exist_ok=True)\n",
    "        # setting up figure size\n",
    "        self.figsize = (self.args.figwidth, self.args.figwidth/phi)\n",
    "\n",
    "    # IMAGE\n",
    "    def glob(self, gex='*.jpg'):\n",
    "        \"\"\"\n",
    "        Globs images in a folder.\n",
    "\n",
    "        Images should have a jpg extension and\n",
    "        be in JPG format.\n",
    "        \n",
    "        Returns a list of image filenames sorted alphabetically.\n",
    "        \"\"\"\n",
    "        fnames = []\n",
    "\n",
    "        import glob\n",
    "        # https://stackoverflow.com/questions/6773584/how-is-pythons-glob-glob-ordered\n",
    "        for fname in sorted(glob.glob(f'{self.args.in_path}/{gex}')):\n",
    "            fnames.append(fname)\n",
    "\n",
    "        return fnames\n",
    "\n",
    "    \n",
    "    def glob_and_load(self, gex='2021-02-14*.jpg'):\n",
    "        \"\"\"\n",
    "        Globs images in a folder.\n",
    "\n",
    "        Images should have a jpg extension and\n",
    "        be in JPG format.\n",
    "        \n",
    "        Returns a list of images.\n",
    "        \"\"\"\n",
    "        imgs = {}\n",
    "        for fname in self.glob(gex=gex):\n",
    "            imgs[fname] = self.process(fname, do_preprend=False)\n",
    "        return imgs\n",
    "\n",
    "\n",
    "    def process(self, fname):\n",
    "        \"\"\"\n",
    "        Placeholder function for preprocessing images.\n",
    "        \n",
    "        It simply consists here in normalizing the 8-bits raw images to be in the [0, 1] range.\n",
    "        \n",
    "        \"\"\"\n",
    "        nx, ny, img = self.load(fname)\n",
    "        if self.args.verb >= 20 : print('img min max', img.min(), img.max())\n",
    "        return img/255.\n",
    "    \n",
    "    def load(self, fname):\n",
    "        \"\"\"\n",
    "        Loads an image using openCV.\n",
    "\n",
    "        \"\"\"\n",
    "        import cv2\n",
    "        if self.args.verb : print(f'Loading {fname}')\n",
    "        im = cv2.imread(fname, cv2.IMREAD_UNCHANGED)\n",
    "        im = cv2.cvtColor(im, cv2.COLOR_BGR2RGB)\n",
    "\n",
    "        # resample by resizing image\n",
    "        nx, ny, three = im.shape\n",
    "        if self.args.ds > 1:\n",
    "            # CAREFUL ! for a strange reason openCV inverts H and W ??\n",
    "            im = cv2.resize(im, (ny//self.args.ds, nx//self.args.ds),\n",
    "                            interpolation = cv2.INTER_AREA)\n",
    "            nx, ny, three = im.shape\n",
    "        assert(three==3)\n",
    "        return nx, ny, im\n"
   ]
  },
  {
   "cell_type": "markdown",
   "metadata": {},
   "source": [
    "Instantiate the class:"
   ]
  },
  {
   "cell_type": "code",
   "execution_count": 7,
   "metadata": {},
   "outputs": [],
   "source": [
    "ttl = TimeTeleScopeLoad(args)"
   ]
  },
  {
   "cell_type": "code",
   "execution_count": 8,
   "metadata": {},
   "outputs": [],
   "source": [
    "fnames = ttl.glob()"
   ]
  },
  {
   "cell_type": "code",
   "execution_count": 9,
   "metadata": {},
   "outputs": [
    {
     "name": "stdout",
     "output_type": "stream",
     "text": [
      "len(fnames)=684\n"
     ]
    }
   ],
   "source": [
    "print(f'{len(fnames)=}')"
   ]
  },
  {
   "cell_type": "markdown",
   "metadata": {},
   "source": [
    "## some book keeping for the notebook"
   ]
  },
  {
   "cell_type": "code",
   "execution_count": null,
   "metadata": {},
   "outputs": [],
   "source": [
    "%load_ext watermark\n",
    "%watermark -i -h -m -v -p numpy,SLIP,LogGabor,SparseEdges,matplotlib,scipy,pillow,imageio  -r -g -b"
   ]
  }
 ],
 "metadata": {
  "kernelspec": {
   "display_name": "Python 3",
   "language": "python",
   "name": "python3"
  },
  "language_info": {
   "codemirror_mode": {
    "name": "ipython",
    "version": 3
   },
   "file_extension": ".py",
   "mimetype": "text/x-python",
   "name": "python",
   "nbconvert_exporter": "python",
   "pygments_lexer": "ipython3",
   "version": "3.9.1"
  },
  "toc": {
   "base_numbering": 1,
   "nav_menu": {},
   "number_sections": true,
   "sideBar": true,
   "skip_h1_title": false,
   "title_cell": "Table of Contents",
   "title_sidebar": "Contents",
   "toc_cell": false,
   "toc_position": {},
   "toc_section_display": true,
   "toc_window_display": false
  }
 },
 "nbformat": 4,
 "nbformat_minor": 4
}
