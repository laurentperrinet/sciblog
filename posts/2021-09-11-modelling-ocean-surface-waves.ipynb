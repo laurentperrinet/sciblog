{
 "cells": [
  {
   "cell_type": "markdown",
   "metadata": {},
   "source": [
    "Trying to model Ocean surface waves, I have played using a [linear superposition of sinusoids](https://laurentperrinet.github.io/sciblog/posts/2014-10-24_a-bit-of-fun-with-gravity-waves.html) and also on the fact that [phase speed (following a wave's crest) is twice as fast as group speed (following a group of waves)](https://laurentperrinet.github.io/sciblog/posts/2016-04-24_a-wave-going-backwards.html). Finally, I more recently used such generation of a model of the random superposition of waves to model the [wigggling lines formed by the refraction (bendings of the trajectory of a ray at the interface between air and water) of light, called caustics](https://laurentperrinet.github.io/sciblog/posts/2020-06-19-caustic-optics.html)...\n",
    "\n",
    "Observing real-life ocean waves instructed me that if a single wave is well approximated by a sinusoïd, it is qualitatively a bit different. Typical for these surface gravity waves are [the sharp crests and flat troughs](https://en.wikipedia.org/wiki/Stokes_wave). As a matter of fact, modelling ocean waves is on one side very useful (modelling tides, tsunamis, diffraction in a bay to predict coastline evolution, ...) but quite demanding despite a [well known mathematical model](https://en.wikipedia.org/wiki/Airy_wave_theory). Starting with the Navier-Stokes equations to an incompressible fluid (water) in a gravitational field leads to [Luke's variational principle](https://en.wikipedia.org/wiki/Luke%27s_variational_principle) in certain simplifying conditions. Further simplifications lead to the approximate solution given by Stokes w:\n",
    "\n",
    "![Stokes wave(https://en.wikipedia.org/wiki/Stokes_wave)](https://upload.wikimedia.org/wikipedia/commons/thumb/c/cb/Stokes3_wave.svg/2880px-Stokes3_wave.svg.png)\n",
    "\n",
    "This seems well enough at the moement and I will capture this shape in this notebook and notably if that applies to a random mixture of such waves...\n",
    "\n",
    "(WORK IN PROGRESS)\n",
    "\n",
    "<!-- TEASER_END -->\n",
    "\n",
    "Let's first initialize the notebook:"
   ]
  },
  {
   "cell_type": "code",
   "execution_count": 1,
   "metadata": {},
   "outputs": [],
   "source": [
    "from __future__ import division, print_function\n",
    "import numpy as np\n",
    "np.set_printoptions(precision=6, suppress=True)\n",
    "import os\n",
    "%matplotlib inline\n",
    "#%config InlineBackend.figure_format='retina'\n",
    "%config InlineBackend.figure_format = 'svg'\n",
    "import matplotlib.pyplot as plt\n",
    "phi = (np.sqrt(5)+1)/2\n",
    "fig_width = 10\n",
    "figsize = (fig_width, fig_width/phi)\n",
    "from IPython.display import display, HTML\n",
    "def show_video(filename): \n",
    "    return HTML(data='<video src=\"{}\" loop autoplay width=\"600\" height=\"600\"></video>'.format(filename))\n",
    "%load_ext autoreload\n",
    "%autoreload 2"
   ]
  },
  {
   "cell_type": "markdown",
   "metadata": {},
   "source": [
    "## some book keeping for the notebook"
   ]
  },
  {
   "cell_type": "code",
   "execution_count": null,
   "metadata": {},
   "outputs": [],
   "source": [
    "%load_ext watermark\n",
    "%watermark -i -h -m -v -p numpy,matplotlib,scipy,pillow,imageio  -r -g -b"
   ]
  }
 ],
 "metadata": {
  "kernelspec": {
   "display_name": "Python 3",
   "language": "python",
   "name": "python3"
  },
  "language_info": {
   "codemirror_mode": {
    "name": "ipython",
    "version": 3
   },
   "file_extension": ".py",
   "mimetype": "text/x-python",
   "name": "python",
   "nbconvert_exporter": "python",
   "pygments_lexer": "ipython3",
   "version": "3.9.6"
  },
  "toc": {
   "base_numbering": 1,
   "nav_menu": {},
   "number_sections": true,
   "sideBar": true,
   "skip_h1_title": false,
   "title_cell": "Table of Contents",
   "title_sidebar": "Contents",
   "toc_cell": false,
   "toc_position": {},
   "toc_section_display": true,
   "toc_window_display": false
  }
 },
 "nbformat": 4,
 "nbformat_minor": 4
}
