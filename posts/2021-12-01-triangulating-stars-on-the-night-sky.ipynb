{
 "cells": [
  {
   "cell_type": "markdown",
   "metadata": {},
   "source": [
    "In a previous notebook, I have shown that the [](https://laurentperrinet.github.io/sciblog/posts/2021-03-27-density-of-stars-on-the-surface-of-the-sky.html). Here, I would like to use the existing database of stars' positions \n",
    "\n",
    "<!-- TEASER_END -->\n",
    "\n",
    "Let's first initialize the notebook:"
   ]
  },
  {
   "cell_type": "code",
   "execution_count": 1,
   "metadata": {},
   "outputs": [],
   "source": [
    "import numpy as np\n",
    "np.set_printoptions(precision=6, suppress=True)\n",
    "%matplotlib inline\n",
    "%config InlineBackend.figure_format = 'svg'\n",
    "import matplotlib.pyplot as plt\n",
    "phi = (np.sqrt(5)+1)/2\n",
    "fig_width = 10\n",
    "figsize = (fig_width, fig_width/phi)"
   ]
  },
  {
   "cell_type": "markdown",
   "metadata": {},
   "source": [
    "Importing all stars' position is as simple as invoking the [HYG database](https://github.com/astronexus/HYG-Database):"
   ]
  },
  {
   "cell_type": "code",
   "execution_count": 2,
   "metadata": {},
   "outputs": [],
   "source": [
    "import pandas as pd\n",
    "url = \"https://github.com/astronexus/HYG-Database/raw/master/hygdata_v3.csv\"\n",
    "space = pd.read_csv(url)"
   ]
  },
  {
   "cell_type": "code",
   "execution_count": 3,
   "metadata": {},
   "outputs": [
    {
     "name": "stdout",
     "output_type": "stream",
     "text": [
      "space.columns=Index(['id', 'hip', 'hd', 'hr', 'gl', 'bf', 'proper', 'ra', 'dec', 'dist',\n",
      "       'pmra', 'pmdec', 'rv', 'mag', 'absmag', 'spect', 'ci', 'x', 'y', 'z',\n",
      "       'vx', 'vy', 'vz', 'rarad', 'decrad', 'pmrarad', 'pmdecrad', 'bayer',\n",
      "       'flam', 'con', 'comp', 'comp_primary', 'base', 'lum', 'var', 'var_min',\n",
      "       'var_max'],\n",
      "      dtype='object')\n"
     ]
    }
   ],
   "source": [
    "print(f'Columns in the database: {space.columns=}')"
   ]
  },
  {
   "cell_type": "code",
   "execution_count": 6,
   "metadata": {},
   "outputs": [
    {
     "name": "stdout",
     "output_type": "stream",
     "text": [
      "Number of stars in the catalog = len(space)=119614\n"
     ]
    }
   ],
   "source": [
    "print(f'Number of stars in the catalog = {len(space)=}')"
   ]
  },
  {
   "cell_type": "markdown",
   "metadata": {},
   "source": [
    "For which we may extract what interests us: position (right ascension and declination) and brightness:"
   ]
  },
  {
   "cell_type": "code",
   "execution_count": 7,
   "metadata": {},
   "outputs": [
    {
     "data": {
      "text/html": [
       "<div>\n",
       "<style scoped>\n",
       "    .dataframe tbody tr th:only-of-type {\n",
       "        vertical-align: middle;\n",
       "    }\n",
       "\n",
       "    .dataframe tbody tr th {\n",
       "        vertical-align: top;\n",
       "    }\n",
       "\n",
       "    .dataframe thead th {\n",
       "        text-align: right;\n",
       "    }\n",
       "</style>\n",
       "<table border=\"1\" class=\"dataframe\">\n",
       "  <thead>\n",
       "    <tr style=\"text-align: right;\">\n",
       "      <th></th>\n",
       "      <th>ra</th>\n",
       "      <th>dec</th>\n",
       "      <th>lum</th>\n",
       "    </tr>\n",
       "  </thead>\n",
       "  <tbody>\n",
       "    <tr>\n",
       "      <th>0</th>\n",
       "      <td>0.000000</td>\n",
       "      <td>0.000000</td>\n",
       "      <td>1.000000</td>\n",
       "    </tr>\n",
       "    <tr>\n",
       "      <th>1</th>\n",
       "      <td>0.000060</td>\n",
       "      <td>1.089009</td>\n",
       "      <td>9.638290</td>\n",
       "    </tr>\n",
       "    <tr>\n",
       "      <th>2</th>\n",
       "      <td>0.000283</td>\n",
       "      <td>-19.498840</td>\n",
       "      <td>0.392283</td>\n",
       "    </tr>\n",
       "    <tr>\n",
       "      <th>3</th>\n",
       "      <td>0.000335</td>\n",
       "      <td>38.859279</td>\n",
       "      <td>386.901132</td>\n",
       "    </tr>\n",
       "    <tr>\n",
       "      <th>4</th>\n",
       "      <td>0.000569</td>\n",
       "      <td>-51.893546</td>\n",
       "      <td>9.366989</td>\n",
       "    </tr>\n",
       "    <tr>\n",
       "      <th>...</th>\n",
       "      <td>...</td>\n",
       "      <td>...</td>\n",
       "      <td>...</td>\n",
       "    </tr>\n",
       "    <tr>\n",
       "      <th>119609</th>\n",
       "      <td>23.963895</td>\n",
       "      <td>38.629391</td>\n",
       "      <td>0.002200</td>\n",
       "    </tr>\n",
       "    <tr>\n",
       "      <th>119610</th>\n",
       "      <td>23.996567</td>\n",
       "      <td>47.762093</td>\n",
       "      <td>0.000088</td>\n",
       "    </tr>\n",
       "    <tr>\n",
       "      <th>119611</th>\n",
       "      <td>23.996218</td>\n",
       "      <td>-44.067905</td>\n",
       "      <td>0.002224</td>\n",
       "    </tr>\n",
       "    <tr>\n",
       "      <th>119612</th>\n",
       "      <td>23.997386</td>\n",
       "      <td>-34.111986</td>\n",
       "      <td>0.001086</td>\n",
       "    </tr>\n",
       "    <tr>\n",
       "      <th>119613</th>\n",
       "      <td>0.036059</td>\n",
       "      <td>-43.165974</td>\n",
       "      <td>0.000319</td>\n",
       "    </tr>\n",
       "  </tbody>\n",
       "</table>\n",
       "<p>119614 rows × 3 columns</p>\n",
       "</div>"
      ],
      "text/plain": [
       "               ra        dec         lum\n",
       "0        0.000000   0.000000    1.000000\n",
       "1        0.000060   1.089009    9.638290\n",
       "2        0.000283 -19.498840    0.392283\n",
       "3        0.000335  38.859279  386.901132\n",
       "4        0.000569 -51.893546    9.366989\n",
       "...           ...        ...         ...\n",
       "119609  23.963895  38.629391    0.002200\n",
       "119610  23.996567  47.762093    0.000088\n",
       "119611  23.996218 -44.067905    0.002224\n",
       "119612  23.997386 -34.111986    0.001086\n",
       "119613   0.036059 -43.165974    0.000319\n",
       "\n",
       "[119614 rows x 3 columns]"
      ]
     },
     "execution_count": 7,
     "metadata": {},
     "output_type": "execute_result"
    }
   ],
   "source": [
    "space_pos = space[['ra', 'dec', 'lum']]\n",
    "space_pos"
   ]
  },
  {
   "cell_type": "markdown",
   "metadata": {},
   "source": [
    "First, [right ascension](https://en.wikipedia.org/wiki/Right_ascension) is \"the angular distance of a particular point measured eastward along the celestial equator from the Sun at the March equinox to the (hour circle of the) point in question above the earth.\" It is given in *hours*:"
   ]
  },
  {
   "cell_type": "code",
   "execution_count": 11,
   "metadata": {},
   "outputs": [
    {
     "name": "stdout",
     "output_type": "stream",
     "text": [
      "RA: space['ra'].min()=0.0, space['ra'].max()=23.998594\n"
     ]
    }
   ],
   "source": [
    "ra_min, ra_max = 0, 24\n",
    "print(f\"RA: {space['ra'].min()=}, {space['ra'].max()=}\")"
   ]
  },
  {
   "cell_type": "markdown",
   "metadata": {},
   "source": [
    "Then, [declination](https://en.wikipedia.org/wiki/Declination) is \"comparable to geographic latitude, projected onto the celestial sphere\" and is given here in degrees:"
   ]
  },
  {
   "cell_type": "code",
   "execution_count": 12,
   "metadata": {},
   "outputs": [
    {
     "name": "stdout",
     "output_type": "stream",
     "text": [
      "DEC: space['dec'].min()=-89.782428, space['dec'].max()=89.569427\n"
     ]
    }
   ],
   "source": [
    "print(f\"DEC: {space['dec'].min()=}, {space['dec'].max()=}\")"
   ]
  },
  {
   "cell_type": "markdown",
   "metadata": {},
   "source": [
    "The brightness varies a lot:"
   ]
  },
  {
   "cell_type": "code",
   "execution_count": 12,
   "metadata": {},
   "outputs": [
    {
     "name": "stdout",
     "output_type": "stream",
     "text": [
      "DEC: space['dec'].min()=-89.782428, space['dec'].max()=89.569427\n"
     ]
    }
   ],
   "source": [
    "print(f\"LUM: {space['lum'].min()=}, {space['lum'].max()=}\")"
   ]
  },
  {
   "cell_type": "markdown",
   "metadata": {},
   "source": [
    "From these elements, we may plot the stars on these coordinates:"
   ]
  },
  {
   "cell_type": "code",
   "execution_count": 12,
   "metadata": {},
   "outputs": [
    {
     "data": {
      "image/png": "[encoded data removed]",
      "text/plain": [
       "<Figure size 1080x1080 with 1 Axes>"
      ]
     },
     "metadata": {
      "needs_background": "light"
     },
     "output_type": "display_data"
    }
   ],
   "source": [
    "fig, ax = plt.subplots(figsize=(fig_width, fig_width))\n",
    "d = np.sqrt((pos**2).sum(axis=0))\n",
    "ax.scatter(space['ra'], space['dec'], s=20 * space['lum'])\n",
    "ax.set_xlim(ra_min, ra_max)\n",
    "ax.set_ylim(dec_min, dec_max);"
   ]
  },
  {
   "cell_type": "markdown",
   "metadata": {},
   "source": [
    "## some book keeping for the notebook"
   ]
  },
  {
   "cell_type": "code",
   "execution_count": null,
   "metadata": {},
   "outputs": [],
   "source": [
    "%load_ext watermark\n",
    "%watermark -i -h -m -v -p numpy,matplotlib,scipy,pillow,imageio  -r -g -b"
   ]
  }
 ],
 "metadata": {
  "kernelspec": {
   "display_name": "Python 3 (ipykernel)",
   "language": "python",
   "name": "python3"
  },
  "language_info": {
   "codemirror_mode": {
    "name": "ipython",
    "version": 3
   },
   "file_extension": ".py",
   "mimetype": "text/x-python",
   "name": "python",
   "nbconvert_exporter": "python",
   "pygments_lexer": "ipython3",
   "version": "3.9.9"
  },
  "toc": {
   "base_numbering": 1,
   "nav_menu": {},
   "number_sections": true,
   "sideBar": true,
   "skip_h1_title": false,
   "title_cell": "Table of Contents",
   "title_sidebar": "Contents",
   "toc_cell": false,
   "toc_position": {},
   "toc_section_display": true,
   "toc_window_display": false
  }
 },
 "nbformat": 4,
 "nbformat_minor": 4
}
