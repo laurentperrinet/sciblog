{
 "cells": [
  {
   "cell_type": "markdown",
   "metadata": {},
   "source": [
    "\n",
    "https://en.wikipedia.org/wiki/Dreamachine\n",
    "\n",
    "MIAM\n",
    "\n",
    "The goal is here :\n",
    "\n",
    "* to generate a complex visual stimulation flickering on average at 12 Hz\n",
    "\n",
    "* to project it on a retinotopic space to maximise the psychelic effect\n",
    "\n",
    "<!-- TEASER_END -->\n",
    "\n",
    "Let's first initialize the notebook:"
   ]
  },
  {
   "cell_type": "code",
   "execution_count": null,
   "metadata": {},
   "outputs": [],
   "source": [
    "from __future__ import division, print_function\n",
    "import numpy as np\n",
    "np.set_printoptions(precision=6, suppress=True)\n",
    "import os\n",
    "%matplotlib inline\n",
    "%config InlineBackend.figure_format='retina'\n",
    "#%config InlineBackend.figure_format = 'svg'\n",
    "import matplotlib.pyplot as plt\n",
    "phi = (np.sqrt(5)+1)/2\n",
    "fig_width = 10\n",
    "figsize = (fig_width, fig_width/phi)\n",
    "from IPython.display import display, HTML\n",
    "def show_video(filename): \n",
    "    return HTML(data='<video src=\"{}\" loop autoplay width=\"600\" height=\"600\"></video>'.format(filename))\n",
    "# https://docs.python.org/3/library/warnings.html#warning-filter\n",
    "import warnings\n",
    "warnings.simplefilter(\"ignore\")\n",
    "\n",
    "%load_ext autoreload\n",
    "%autoreload 2"
   ]
  },
  {
   "cell_type": "markdown",
   "metadata": {},
   "source": [
    "## a flickering motion cloud"
   ]
  },
  {
   "cell_type": "markdown",
   "metadata": {},
   "source": [
    "A simple way to generate a flickering stimulus is to combine two sinusiods going in two opposite directions, following :\n",
    "\n",
    "$$\n",
    "\\sin(\\omega_x \\cdot x + \\omega_t \\cdot v \\cdot t) + \\sin(\\omega_x \\cdot x - \\omega_t \\cdot v \\cdot t) = 2\\cdot \\cos(\\omega_x \\cdot x)\\cos(\\omega_t \\cdot v \\cdot t)\n",
    "$$\n",
    "\n",
    "\n",
    "A first solution is to use an existing library for generating band-pass filtered noise, with a parameterization which fits well natural scenes:"
   ]
  },
  {
   "cell_type": "markdown",
   "metadata": {},
   "source": [
    "https://github.com/NeuralEnsemble/MotionClouds/blob/master/MotionClouds/MotionClouds.py"
   ]
  },
  {
   "cell_type": "code",
   "execution_count": null,
   "metadata": {},
   "outputs": [],
   "source": [
    "import os\n",
    "name = 'alpha'\n",
    "DOWNSCALE = 2\n",
    "import MotionClouds as mc"
   ]
  },
  {
   "cell_type": "code",
   "execution_count": null,
   "metadata": {},
   "outputs": [],
   "source": [
    "mc.figpath = '../files/2022-01-30-dreamachine'\n",
    "os.makedirs(mc.figpath, exist_ok=True)"
   ]
  },
  {
   "cell_type": "markdown",
   "metadata": {},
   "source": [
    "Let's explore parameters:"
   ]
  },
  {
   "cell_type": "code",
   "execution_count": null,
   "metadata": {},
   "outputs": [],
   "source": [
    "mc.envelope_gabor?"
   ]
  },
  {
   "cell_type": "markdown",
   "metadata": {},
   "source": [
    "To find that which will best will what we wish to do:"
   ]
  },
  {
   "cell_type": "code",
   "execution_count": null,
   "metadata": {},
   "outputs": [],
   "source": [
    "T_movie = 2.4 # period in seconds\n",
    "fps = 120 # frames per second\n",
    "sf_0 = 0.05 # spatial frequency per period\n",
    "TF_0 = 12.  # peak temporal frequency\n",
    "N_X, N_Y, N_frame = 256//DOWNSCALE, 256//DOWNSCALE, int(T_movie*fps)\n",
    "print(f'{N_X=}, {N_Y=}, {N_frame=}')"
   ]
  },
  {
   "cell_type": "code",
   "execution_count": null,
   "metadata": {},
   "outputs": [],
   "source": [
    "fx, fy, ft = mc.get_grids(N_X, N_Y, N_frame)\n",
    "\n",
    "tf_0 = TF_0/fps # temporal frequency per period\n",
    "V_X = tf_0 / sf_0\n",
    "B_V = 0.12\n",
    "theta = 0\n",
    "B_theta = .1\n",
    "print(f'{V_X=}, {sf_0=}, {tf_0=}')"
   ]
  },
  {
   "cell_type": "code",
   "execution_count": null,
   "metadata": {},
   "outputs": [],
   "source": [
    "z_1 = mc.envelope_gabor(fx, fy, ft, V_X=V_X, sf_0=sf_0, B_V=B_V, theta=theta, B_theta=B_theta)\n",
    "\n",
    "movie_1 = mc.rectif(mc.random_cloud(z_1))"
   ]
  },
  {
   "cell_type": "raw",
   "metadata": {},
   "source": [
    "mc.anim_save?"
   ]
  },
  {
   "cell_type": "raw",
   "metadata": {},
   "source": [
    "mc.figures?"
   ]
  },
  {
   "cell_type": "code",
   "execution_count": null,
   "metadata": {},
   "outputs": [],
   "source": [
    "name_ = name + '_1'\n",
    "#mc.anim_save(movie_1, os.path.join(mc.figpath, name_))\n",
    "mc.figures(z_1, name_, figpath=mc.figpath)\n",
    "mc.in_show_video(name_, figpath=mc.figpath)"
   ]
  },
  {
   "cell_type": "code",
   "execution_count": null,
   "metadata": {},
   "outputs": [],
   "source": [
    "z_2 = mc.envelope_gabor(fx, fy, ft, V_X=-V_X, sf_0=sf_0, B_V=B_V, theta=theta, B_theta=B_theta)\n",
    "z_12 = z_1 + z_2\n",
    "#movie_2 = mc.rectif(mc.random_cloud(z_2))\n",
    "#movie_12 = mc.rectif(movie_1 + movie_2)\n",
    "\n",
    "name_ = name + '_12'\n",
    "#mc.anim_save(movie_12, os.path.join(mc.figpath, name_))\n",
    "mc.figures(z_12, name_, figpath=mc.figpath)\n",
    "mc.in_show_video(name_, figpath=mc.figpath)"
   ]
  },
  {
   "cell_type": "markdown",
   "metadata": {},
   "source": [
    "The combination of both wavec indeedd generates a flickering effect, but to increase it, let's make the wave more sinusoid-like by making the envelope more \"tight\":"
   ]
  },
  {
   "cell_type": "code",
   "execution_count": null,
   "metadata": {},
   "outputs": [],
   "source": [
    "tightness = 8.\n",
    "z_1 = mc.envelope_gabor(fx, fy, ft, V_X=V_X, sf_0=sf_0, B_sf=0.1/tightness, B_V=B_V/tightness, theta=theta, B_theta=B_theta)\n",
    "z_2 = mc.envelope_gabor(fx, fy, ft, V_X=-V_X, sf_0=sf_0, B_sf=0.1/tightness, B_V=B_V/tightness, theta=theta, B_theta=B_theta)\n",
    "\n",
    "z_12 = z_1 + z_2\n",
    "\n",
    "name_ = name + '_12_tight'\n",
    "#mc.anim_save(movie_12, os.path.join(mc.figpath, name_))\n",
    "mc.figures(z_12, name_, figpath=mc.figpath)\n",
    "mc.in_show_video(name_, figpath=mc.figpath)"
   ]
  },
  {
   "cell_type": "markdown",
   "metadata": {},
   "source": [
    "\n",
    "This indeed looks better, but we may also follow a simpler route by generating our custom envelope.\n",
    "\n",
    "## custom cloud\n",
    "\n",
    "\n",
    "Let's inspire us by the function which defines the enveloppe :"
   ]
  },
  {
   "cell_type": "code",
   "execution_count": null,
   "metadata": {},
   "outputs": [],
   "source": [
    "mc.frequency_radius?"
   ]
  },
  {
   "cell_type": "markdown",
   "metadata": {},
   "source": [
    "and to define a custom one "
   ]
  },
  {
   "cell_type": "code",
   "execution_count": null,
   "metadata": {},
   "outputs": [],
   "source": [
    "tf_0"
   ]
  },
  {
   "cell_type": "code",
   "execution_count": null,
   "metadata": {},
   "outputs": [],
   "source": [
    "ft.min(), ft.max()"
   ]
  },
  {
   "cell_type": "code",
   "execution_count": null,
   "metadata": {},
   "outputs": [],
   "source": [
    "B_sf = .05\n",
    "B_tf = .1\n",
    "B_theta = .1\n",
    "theta = np.pi*(3 - np.sqrt(5)) # https://en.wikipedia.org/wiki/Golden_angle\n"
   ]
  },
  {
   "cell_type": "code",
   "execution_count": null,
   "metadata": {},
   "outputs": [],
   "source": [
    "def envelope_alpha(fx, fy, ft, tf_0=tf_0, B_tf=B_tf, sf_0=sf_0, B_sf=B_sf, theta=theta, B_theta=B_theta):\n",
    "    #f_radius = mc.frequency_radius(fx, fy, ft, ft_0=1.0, clean_division=True)    \n",
    "    ft_ = ft + 1.0*(ft==0.) # to avoid numerical errors\n",
    "    #env = 1./np.abs(ft_)*np.exp(-.5*(np.log((ft_/tf_0)**2))/((np.log((tf_0+B_tf)/tf_0))**2))    \n",
    "    env = np.exp(-.5*(ft_-tf_0)**2/B_tf**2)    \n",
    "    env *= mc.envelope_orientation(fx, fy, ft, theta=theta, B_theta=B_theta)\n",
    "    env *= mc.envelope_radial(fx, fy, ft, sf_0=sf_0, B_sf=B_sf)\n",
    "        \n",
    "    return env"
   ]
  },
  {
   "cell_type": "code",
   "execution_count": null,
   "metadata": {},
   "outputs": [],
   "source": [
    "\n",
    "z_pure = envelope_alpha(fx, fy, ft, tf_0=tf_0, B_tf=B_tf, B_sf=B_sf, theta=theta, B_theta=B_theta)\n",
    "\n",
    "name_ = name + '_pure'\n",
    "mc.figures(z_pure, name_, figpath=mc.figpath, recompute=True)\n",
    "mc.in_show_video(name_, figpath=mc.figpath)"
   ]
  },
  {
   "cell_type": "markdown",
   "metadata": {
    "tags": []
   },
   "source": [
    "## retinotopic mapping\n",
    "\n",
    "We can directly acess the movie as a 3D `ndarray`:"
   ]
  },
  {
   "cell_type": "code",
   "execution_count": null,
   "metadata": {},
   "outputs": [],
   "source": [
    "movie_pure = mc.rectif(mc.random_cloud(z_pure))"
   ]
  },
  {
   "cell_type": "markdown",
   "metadata": {},
   "source": [
    "One may want to project it on retinotopic coordinates to give a psychedelic effect...\n",
    "\n",
    "Following [this answer](https://stackoverflow.com/a/49630831/234547), it's pretty easy to take one image and to project it to a retinotopic map. In our case, there are no color, so it's even easier..."
   ]
  },
  {
   "cell_type": "code",
   "execution_count": null,
   "metadata": {},
   "outputs": [],
   "source": [
    "movie_pure_ = np.zeros((movie_pure.shape[0], movie_pure.shape[1]+1, movie_pure.shape[2]))\n",
    "movie_pure_[:, :-1, :] = movie_pure\n",
    "movie_pure_[:, -1, :] = movie_pure[:, 0, :]\n",
    "movie_pure = movie_pure_"
   ]
  },
  {
   "cell_type": "code",
   "execution_count": null,
   "metadata": {},
   "outputs": [],
   "source": [
    "# get coordinates of boxes in the mesh :\n",
    "phi = np.linspace(0, 2*np.pi, movie_pure.shape[1])\n",
    "r = np.linspace(0, 1, movie_pure.shape[0])\n",
    "Phi, R = np.meshgrid(phi, r)"
   ]
  },
  {
   "cell_type": "code",
   "execution_count": null,
   "metadata": {},
   "outputs": [],
   "source": [
    "fig, ax = plt.subplots(1, 1, figsize=(fig_width, fig_width), subplot_kw=dict(polar=True))\n",
    "# https://matplotlib.org/3.1.1/api/_as_gen/matplotlib.pyplot.pcolormesh.html\n",
    "# https://matplotlib.org/devdocs/gallery/images_contours_and_fields/pcolormesh_grids.html\n",
    "m = ax.pcolormesh(Phi, R, movie_pure[:, :, 0], shading='gouraud', vmin=movie_pure.min(), vmax=movie_pure.max(), \n",
    "                  edgecolors='none', linewidth=0, cmap=plt.gray())\n",
    "ax.set_xticks([])\n",
    "ax.set_yticks([]);"
   ]
  },
  {
   "cell_type": "markdown",
   "metadata": {},
   "source": [
    "Let's sature the grayscale values to give it a more natural look:"
   ]
  },
  {
   "cell_type": "code",
   "execution_count": null,
   "metadata": {},
   "outputs": [],
   "source": [
    "movie_pure_bw = np.tanh(2*movie_pure)"
   ]
  },
  {
   "cell_type": "code",
   "execution_count": null,
   "metadata": {},
   "outputs": [],
   "source": [
    "fig, ax = plt.subplots(1, 1, figsize=(fig_width, fig_width), subplot_kw=dict(polar=True))\n",
    "#fig.subplots_adjust(bottom=0.4, left=.3, right=0.6, top=0.6);\n",
    "# https://matplotlib.org/3.1.1/api/_as_gen/matplotlib.pyplot.pcolormesh.html\n",
    "# https://matplotlib.org/devdocs/gallery/images_contours_and_fields/pcolormesh_grids.html\n",
    "m = ax.pcolormesh(Phi, R, movie_pure_bw[:, :, 0], shading='gouraud', \n",
    "                  vmin=movie_pure_bw.min(), vmax=movie_pure_bw.max(), \n",
    "                  edgecolors='none', cmap=plt.gray())\n",
    "#ax.margins(y=-0.2)\n",
    "ax.set_xticks([])\n",
    "ax.set_yticks([]);"
   ]
  },
  {
   "cell_type": "markdown",
   "metadata": {},
   "source": [
    "## DREAMACHINE videos\n",
    "\n",
    "Following a [previous post](https://laurentperrinet.github.io/sciblog/posts/2019-10-07-neurostories-videos-of-my-talk.html), we can make a one-cell code to create and display the video (see also the [doc](https://zulko.github.io/moviepy/getting_started/working_with_matplotlib.html#simple-matplotlib-example)):"
   ]
  },
  {
   "cell_type": "code",
   "execution_count": null,
   "metadata": {},
   "outputs": [],
   "source": [
    "T_movie, fps"
   ]
  },
  {
   "cell_type": "code",
   "execution_count": null,
   "metadata": {},
   "outputs": [],
   "source": [
    "%pip install pyglet"
   ]
  },
  {
   "cell_type": "code",
   "execution_count": null,
   "metadata": {},
   "outputs": [],
   "source": [
    "%pip install moviepy"
   ]
  },
  {
   "cell_type": "code",
   "execution_count": null,
   "metadata": {},
   "outputs": [],
   "source": [
    "width = 1024\n",
    "def make_gif(gifname, fnames, fps):\n",
    "    import imageio\n",
    "\n",
    "    with imageio.get_writer(gifname, mode='I', fps=fps) as writer:\n",
    "        for fname in fnames:\n",
    "            writer.append_data(imageio.imread(fname))\n",
    "\n",
    "    from pygifsicle import optimize\n",
    "    optimize(str(gifname))\n",
    "    return gifname\n",
    "\n",
    "import moviepy.editor as mpy\n",
    "import moviepy.video.io.ImageSequenceClip\n",
    "def make_mp4(moviename, fnames, fps):\n",
    "    # https://github.com/Zulko/moviepy/blob/master/moviepy/video/VideoClip.py#L199\n",
    "    clip = moviepy.video.io.ImageSequenceClip.ImageSequenceClip(fnames, fps=fps)\n",
    "    clip.write_videofile(moviename, codec='mpeg4', audio_codec='aac') # , codec=\"mpeg4\" libx264\n",
    "    for fname in fnames: os.remove(fname)\n",
    "    return moviename\n"
   ]
  },
  {
   "cell_type": "code",
   "execution_count": null,
   "metadata": {},
   "outputs": [],
   "source": [
    "\n",
    "def make_shots(figname, r = 16,\n",
    "                 B_tf = .1,\n",
    "                 B_sf = .05,\n",
    "                 B_theta = .1,\n",
    "                 theta = np.pi*(3 - np.sqrt(5)), # https://en.wikipedia.org/wiki/Golden_angle                 \n",
    "                 T_movie = T_movie,\n",
    "                 fps = fps,\n",
    "                 W=W, H=H):\n",
    "    \n",
    "\n",
    "    z_pure = envelope_alpha(fx, fy, ft, tf_0=tf_0, B_tf=B_tf, B_sf=B_sf, theta=theta, B_theta=B_theta)\n",
    "\n",
    "    name_ = name + '_pure'\n",
    "    mc.figures(z_pure, name_, figpath=mc.figpath, recompute=True)\n",
    "    mc.in_show_video(name_, figpath=mc.figpath)\n",
    "    \n",
    "    subplotpars = matplotlib.figure.SubplotParams(left=0., right=1., bottom=0., top=1., wspace=0., hspace=0.,)\n",
    "    fnames = []\n",
    "    \n",
    "    for i, delta in enumerate(deltas):\n",
    "\n",
    "        imgnp = self.post_process(model(img, delta_x=int(delta)), n_bits=16)\n",
    "\n",
    "        fname = f'{cache_path}/{self.args.tag}_{i}_delta_{delta:.5f}.png'\n",
    "\n",
    "        fig, ax = plt.subplots(1, 1, figsize=(fig_width, fig_width), subplot_kw=dict(polar=True))\n",
    "        m = ax.pcolormesh(Phi, R, movie_pure[:, :, t], shading='gouraud', vmin=movie_pure.min(), vmax=movie_pure.max(), \n",
    "                      edgecolors='none', cmap=plt.gray())\n",
    "        ax.set_xticks([])\n",
    "        ax.set_yticks([])        \n",
    "        \n",
    "        fnames.append(fname)\n",
    "\n",
    "        make_mp4(video_name, fnames, fps=self.args.fps)\n",
    "    return video_name # returns filename\n",
    "\n",
    "figname = os.path.join(mc.figpath, 'retino_alpha.mp4')\n",
    "if not os.path.isfile(figname): \n",
    "    clip = create_movie(figname)\n",
    "clip = mpy.VideoFileClip(figname)\n",
    "clip.ipython_display(fps=fps, autoplay=True, loop=True)"
   ]
  },
  {
   "cell_type": "markdown",
   "metadata": {
    "tags": []
   },
   "source": [
    "## some book keeping for the notebook"
   ]
  },
  {
   "cell_type": "code",
   "execution_count": null,
   "metadata": {},
   "outputs": [],
   "source": [
    "%pwd"
   ]
  },
  {
   "cell_type": "code",
   "execution_count": null,
   "metadata": {},
   "outputs": [],
   "source": [
    "mc.figpath"
   ]
  },
  {
   "cell_type": "code",
   "execution_count": null,
   "metadata": {},
   "outputs": [],
   "source": [
    "%ls -ltr {mc.figpath}"
   ]
  },
  {
   "cell_type": "raw",
   "metadata": {},
   "source": [
    "%rm {mc.figpath}/alpha_pure*"
   ]
  },
  {
   "cell_type": "code",
   "execution_count": null,
   "metadata": {},
   "outputs": [],
   "source": [
    "%load_ext watermark\n",
    "%watermark -i -h -m -v -p numpy,matplotlib,scipy,pillow,imageio  -r -g -b"
   ]
  }
 ],
 "metadata": {
  "kernelspec": {
   "display_name": "Python 3 (ipykernel)",
   "language": "python",
   "name": "python3"
  },
  "language_info": {
   "codemirror_mode": {
    "name": "ipython",
    "version": 3
   },
   "file_extension": ".py",
   "mimetype": "text/x-python",
   "name": "python",
   "nbconvert_exporter": "python",
   "pygments_lexer": "ipython3",
   "version": "3.9.7"
  },
  "toc": {
   "base_numbering": 1,
   "nav_menu": {},
   "number_sections": true,
   "sideBar": true,
   "skip_h1_title": false,
   "title_cell": "Table of Contents",
   "title_sidebar": "Contents",
   "toc_cell": false,
   "toc_position": {},
   "toc_section_display": true,
   "toc_window_display": false
  }
 },
 "nbformat": 4,
 "nbformat_minor": 4
}
