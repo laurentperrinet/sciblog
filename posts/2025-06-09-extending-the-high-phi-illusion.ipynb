{
 "cells": [
  {
   "cell_type": "markdown",
   "metadata": {},
   "source": [
    "The  High Phi Motion illusion, is the illusory perception of a strong shift of motion induced by a slow inducing motion. A demo page is available on the [min author's webpage](http://lab-perception.org/demo/highphi/) and the effect is described in this excellent paper :\n",
    "    Wexler M, Glennerster A, Cavanagh P, Ito H & Seno T (2013). Default perception of high-speed motion. PNAS, 110, 7080-7085. http://wexler.free.fr/papers/highphi.pdf\n",
    "\n",
    "\n",
    "In this notebook, we will generate an extension of this illusion to answer to the question of knowing if it limited to the one-dimensional motion along the ring or if this can extended to arbitrary, 2D, planar motions. This will help decipher some of the factors leading to this \"illusion\".\n",
    "\n",
    "TL;DR : one can redrouce the illusion on a planar motion (not a rotation), but it seems important that the motion is limited to a band-like shape:"
   ]
  },
  {
   "cell_type": "code",
   "execution_count": 1,
   "metadata": {},
   "outputs": [],
   "source": [
    "from IPython.display import Video\n",
    "\n",
    "prefix = '2025-06-09_extending-the-high-phi-illusion'\n",
    "# Video(f'../files/{prefix}/high-phi.mp4', html_attributes=\"loop=True autoplay=True  controls=True\")"
   ]
  },
  {
   "cell_type": "markdown",
   "metadata": {},
   "source": [
    "\n",
    "<!-- TEASER_END -->\n",
    "\n",
    "Let's first initialize the notebook:"
   ]
  },
  {
   "cell_type": "code",
   "execution_count": 2,
   "metadata": {},
   "outputs": [
    {
     "name": "stdout",
     "output_type": "stream",
     "text": [
      "high-phi-band-shuffle.mp4  inducer.mp4\n",
      "high-phi-band.mp4          shuffle.mp4\n",
      "high-phi-concatenated.mp4\n"
     ]
    }
   ],
   "source": [
    "%ls ../files/{prefix}/"
   ]
  },
  {
   "cell_type": "code",
   "execution_count": 3,
   "metadata": {},
   "outputs": [],
   "source": [
    "import os\n",
    "import numpy as np\n",
    "import matplotlib.pyplot as plt"
   ]
  },
  {
   "cell_type": "markdown",
   "metadata": {},
   "source": [
    "## creating a textured motion\n",
    "\n",
    "\n"
   ]
  },
  {
   "cell_type": "markdown",
   "metadata": {},
   "source": [
    "As a generic visual texture, let's synthetize a [Motion Clouds](https://neuralensemble.github.io/MotionClouds) for the inducer:"
   ]
  },
  {
   "cell_type": "code",
   "execution_count": 4,
   "metadata": {},
   "outputs": [],
   "source": [
    "# %pip install MotionClouds"
   ]
  },
  {
   "cell_type": "code",
   "execution_count": 5,
   "metadata": {},
   "outputs": [],
   "source": [
    "import MotionClouds as mc\n",
    "mc.figpath = os.path.join('../files/', prefix)\n",
    "os.makedirs(mc.figpath, exist_ok=True)\n",
    "\n",
    "image_size_az, image_size_el, N_frame = 400, 400, 80\n",
    "do_mask = True\n",
    "N_frame_inducer = 60\n",
    "\n",
    "V = 4.\n",
    "B_theta_shuffle = np.inf\n",
    "B_theta_inducer = np.inf\n",
    "fps = 16\n",
    "fx, fy, ft = mc.get_grids(image_size_az, image_size_el, N_frame)\n"
   ]
  },
  {
   "cell_type": "code",
   "execution_count": 6,
   "metadata": {},
   "outputs": [],
   "source": [
    "# HACK\n",
    "%rm -f ../files/{prefix}/*mp4 "
   ]
  },
  {
   "cell_type": "code",
   "execution_count": 7,
   "metadata": {},
   "outputs": [
    {
     "name": "stdout",
     "output_type": "stream",
     "text": [
      "Before Rectification of the frames\n",
      "Mean= -2.791230366480235e-09 , std= 3.780516432905623e-05 , Min= -0.00024022903127231458 , Max= 0.0002218101417629138  Abs(Max)= 0.00024022903127231458\n",
      "After Rectification of the frames\n",
      "Mean= 0.5 , std= 0.07868658378546557 , Min= 0.0 , Max= 0.9616750712881064\n",
      "percentage pixels clipped= 0.0\n"
     ]
    },
    {
     "data": {
      "text/html": [
       "\n",
       "            <center><table border=none width=100% height=100%>\n",
       "            <tr> <td width=100%><center><video playsinline loop autoplay controls  src=\"../files/2025-06-09_extending-the-high-phi-illusion/inducer.mp4\" type=\"video/mp4\"  width=100%>\n",
       "            </td></tr></table></center>"
      ],
      "text/plain": [
       "<IPython.core.display.HTML object>"
      ]
     },
     "metadata": {},
     "output_type": "display_data"
    }
   ],
   "source": [
    "name = 'inducer'\n",
    "\n",
    "opts = dict(sf_0=0.025, B_sf=0.015, B_theta=B_theta_inducer)\n",
    "env = mc.envelope_gabor(fx, fy, ft, V_X=V, **opts)\n",
    "\n",
    "mc.figures(env, name, do_figs=False, figpath=mc.figpath, do_mask=do_mask, verbose=True)\n",
    "mc.in_show_video(name, figpath=mc.figpath)"
   ]
  },
  {
   "cell_type": "markdown",
   "metadata": {},
   "source": [
    "This can be accessed as a `numpy` array:"
   ]
  },
  {
   "cell_type": "code",
   "execution_count": 8,
   "metadata": {},
   "outputs": [
    {
     "name": "stdout",
     "output_type": "stream",
     "text": [
      "movie_inducer shape = (400, 400, 60)\n"
     ]
    }
   ],
   "source": [
    "movie_inducer = mc.rectif(mc.random_cloud(env, do_mask=do_mask))[:, :, :N_frame_inducer]\n",
    "print(f'movie_inducer shape = {movie_inducer.shape}')"
   ]
  },
  {
   "cell_type": "markdown",
   "metadata": {},
   "source": [
    "On the first two axis, the spatial axis of pixels ($x$ and $y$), on the third the temporal axis $t$.\n"
   ]
  },
  {
   "cell_type": "markdown",
   "metadata": {},
   "source": [
    "\n",
    "### shuffled movie\n",
    "\n",
    "This corresponds in Fourier space to a white noise in time and can be parameterized by an infinite bandwidth on the temporal frequency axis:"
   ]
  },
  {
   "cell_type": "code",
   "execution_count": 9,
   "metadata": {},
   "outputs": [
    {
     "data": {
      "text/html": [
       "\n",
       "            <center><table border=none width=100% height=100%>\n",
       "            <tr> <td width=100%><center><video playsinline loop autoplay controls  src=\"../files/2025-06-09_extending-the-high-phi-illusion/shuffle.mp4\" type=\"video/mp4\"  width=100%>\n",
       "            </td></tr></table></center>"
      ],
      "text/plain": [
       "<IPython.core.display.HTML object>"
      ]
     },
     "metadata": {},
     "output_type": "display_data"
    }
   ],
   "source": [
    "name = 'shuffle'\n",
    "N_frame_shuffle = 5\n",
    "fx, fy, ft = mc.get_grids(image_size_az, image_size_el, N_frame)\n",
    "B_V = np.inf\n",
    "B_V = 1.*V\n",
    "opts = dict(sf_0=0.025, B_sf=0.015, B_theta=B_theta_shuffle)\n",
    "env = mc.envelope_gabor(fx, fy, ft, V_X=0., V_Y=0., B_V=B_V, **opts)\n",
    "\n",
    "mc.figures(env, name, do_figs=False, figpath=mc.figpath, do_mask=do_mask)\n",
    "mc.in_show_video(name, figpath=mc.figpath)"
   ]
  },
  {
   "cell_type": "markdown",
   "metadata": {},
   "source": [
    "Similarly, we get a movie:"
   ]
  },
  {
   "cell_type": "code",
   "execution_count": 10,
   "metadata": {},
   "outputs": [
    {
     "name": "stdout",
     "output_type": "stream",
     "text": [
      "movie_shuffle shape = (400, 400, 5)\n"
     ]
    }
   ],
   "source": [
    "movie_shuffle = mc.rectif(mc.random_cloud(env, do_mask=do_mask))[:, :, :N_frame_shuffle]\n",
    "print(f'movie_shuffle shape = {movie_shuffle.shape}')"
   ]
  },
  {
   "cell_type": "markdown",
   "metadata": {},
   "source": [
    "we can now use these arrays and concatenate them:"
   ]
  },
  {
   "cell_type": "code",
   "execution_count": 11,
   "metadata": {},
   "outputs": [
    {
     "data": {
      "text/html": [
       "\n",
       "            <center><table border=none width=100% height=100%>\n",
       "            <tr> <td width=100%><center><video playsinline loop autoplay controls  src=\"../files/2025-06-09_extending-the-high-phi-illusion/high-phi-concatenated.mp4\" type=\"video/mp4\"  width=100%>\n",
       "            </td></tr></table></center>"
      ],
      "text/plain": [
       "<IPython.core.display.HTML object>"
      ]
     },
     "metadata": {},
     "output_type": "display_data"
    }
   ],
   "source": [
    "name = 'high-phi-concatenated'\n",
    "\n",
    "N_frame_blank = 15\n",
    "movie_blank = np.ones((image_size_az, image_size_el, N_frame_blank)) * 0.5\n",
    "\n",
    "movie_inducer_east = mc.rectif(mc.random_cloud(mc.envelope_gabor(fx, fy, ft, V_X=V, V_Y=0, **opts), do_mask=do_mask))[:, :, :N_frame_inducer]\n",
    "movie_inducer_west = mc.rectif(mc.random_cloud(mc.envelope_gabor(fx, fy, ft, V_X=-V, V_Y=0, **opts), do_mask=do_mask))[:, :, :N_frame_inducer]\n",
    "movie_inducer_north = mc.rectif(mc.random_cloud(mc.envelope_gabor(fx, fy, ft, V_X=0, V_Y=V, **opts), do_mask=do_mask))[:, :, :N_frame_inducer]\n",
    "movie_inducer_south = mc.rectif(mc.random_cloud(mc.envelope_gabor(fx, fy, ft, V_X=0, V_Y=-V, **opts), do_mask=do_mask))[:, :, :N_frame_inducer]\n",
    "\n",
    "movie_highphi = np.concatenate((movie_inducer_east, movie_shuffle, movie_blank, movie_inducer_north, movie_shuffle, movie_blank, \n",
    "                                movie_inducer_west, movie_shuffle, movie_blank, movie_inducer_south, movie_shuffle, movie_blank), axis=-1)\n",
    "mc.anim_save(movie_highphi, os.path.join(mc.figpath, name), figpath=mc.figpath, verbose=False)\n",
    "mc.in_show_video(name, figpath=mc.figpath)"
   ]
  },
  {
   "cell_type": "markdown",
   "metadata": {},
   "source": [
    "Surprisingly, the effect is not as striking as the 1D motion produced in the initial illusion. So let's add a mask to check if the form of the moving texture is one important factor:"
   ]
  },
  {
   "cell_type": "code",
   "execution_count": 12,
   "metadata": {},
   "outputs": [
    {
     "data": {
      "text/html": [
       "\n",
       "            <center><table border=none width=100% height=100%>\n",
       "            <tr> <td width=100%><center><video playsinline loop autoplay controls  src=\"../files/2025-06-09_extending-the-high-phi-illusion/high-phi-band-shuffle.mp4\" type=\"video/mp4\"  width=100%>\n",
       "            </td></tr></table></center>"
      ],
      "text/plain": [
       "<IPython.core.display.HTML object>"
      ]
     },
     "metadata": {},
     "output_type": "display_data"
    }
   ],
   "source": [
    "do_band_inducer = True\n",
    "do_band_shuffle = True\n",
    "band_radius = 0.05\n",
    "\n",
    "\n",
    "name = 'high-phi-band-shuffle'\n",
    "\n",
    "movie_band =  (np.abs(fy) < band_radius)\n",
    "movie_highphi = np.concatenate((movie_inducer_east, (movie_shuffle-.5)*movie_band[:, :, :N_frame_shuffle]+.5), axis=-1)\n",
    "mc.anim_save(movie_highphi, os.path.join(mc.figpath, name), figpath=mc.figpath, verbose=False)\n",
    "mc.in_show_video(name, figpath=mc.figpath)"
   ]
  },
  {
   "cell_type": "code",
   "execution_count": 13,
   "metadata": {},
   "outputs": [
    {
     "data": {
      "text/html": [
       "\n",
       "            <center><table border=none width=100% height=100%>\n",
       "            <tr> <td width=100%><center><video playsinline loop autoplay controls  src=\"../files/2025-06-09_extending-the-high-phi-illusion/high-phi-band.mp4\" type=\"video/mp4\"  width=100%>\n",
       "            </td></tr></table></center>"
      ],
      "text/plain": [
       "<IPython.core.display.HTML object>"
      ]
     },
     "metadata": {},
     "output_type": "display_data"
    }
   ],
   "source": [
    "name = 'high-phi-band'\n",
    "\n",
    "movie_highphi = np.concatenate(( ((movie_inducer_east-.5)*movie_band[:, :, :N_frame_inducer]+.5), (movie_shuffle-.5)*movie_band[:, :, :N_frame_shuffle]+.5), axis=-1)\n",
    "mc.anim_save(movie_highphi, os.path.join(mc.figpath, name), figpath=mc.figpath, verbose=False)\n",
    "mc.in_show_video(name, figpath=mc.figpath)"
   ]
  },
  {
   "cell_type": "markdown",
   "metadata": {},
   "source": [
    "\n",
    "### wrapping up and make a movie\n",
    "\n",
    "\n",
    "Now that we have all elements, let's wrap them up in a single function and export the result as a"
   ]
  },
  {
   "cell_type": "code",
   "execution_count": 14,
   "metadata": {},
   "outputs": [
    {
     "data": {
      "text/html": [
       "\n",
       "            <center><table border=none width=100% height=100%>\n",
       "            <tr> <td width=100%><center><video playsinline loop autoplay controls  src=\"../files/2025-06-09_extending-the-high-phi-illusion/high-phi.mp4\" type=\"video/mp4\"  width=100%>\n",
       "            </td></tr></table></center>"
      ],
      "text/plain": [
       "<IPython.core.display.HTML object>"
      ]
     },
     "metadata": {},
     "output_type": "display_data"
    }
   ],
   "source": [
    "\n",
    "def make_shots(figname, \n",
    "               N_frame_inducer=N_frame_inducer, N_frame_shuffle=N_frame_shuffle, N_frame_blank=N_frame_blank, V=V, \n",
    "               image_size_az=image_size_az, image_size_el=image_size_el, N_frame=N_frame, do_mask=do_mask, \n",
    "               do_band_inducer=do_band_inducer, do_band_shuffle=do_band_shuffle, band_radius=band_radius,\n",
    "               sf_0=opts['sf_0'], B_theta_shuffle=B_theta_shuffle, B_theta_inducer=B_theta_inducer, theta=np.pi/4, B_sf=opts['B_sf'],\n",
    "               fps = fps # frames per second\n",
    "    ):\n",
    "\n",
    "\n",
    "    fx, fy, ft = mc.get_grids(image_size_az, image_size_el, N_frame)\n",
    "\n",
    "    opts = dict(sf_0=sf_0, B_theta=B_theta_shuffle, B_sf=B_sf)\n",
    "\n",
    "    movie_shuffle_h = mc.rectif(mc.random_cloud(mc.envelope_gabor(fx, fy, ft, theta=theta, V_X=0., V_Y=0., B_V=B_V, **opts), do_mask=do_mask))[:, :, :N_frame_shuffle]\n",
    "    movie_shuffle_v = mc.rectif(mc.random_cloud(mc.envelope_gabor(fx, fy, ft, theta=theta+np.pi/2, V_X=0., V_Y=0., B_V=B_V, **opts), do_mask=do_mask))[:, :, :N_frame_shuffle]\n",
    "    if do_band_shuffle:\n",
    "        movie_band = (np.abs(fy) < band_radius)[:, :, :N_frame_shuffle]\n",
    "        movie_shuffle_h = (movie_shuffle_h - 0.5) * movie_band + 0.5\n",
    "\n",
    "        movie_band = (np.abs(fx) < band_radius)[:, :, :N_frame_shuffle]\n",
    "        movie_shuffle_v = (movie_shuffle_v - 0.5) * movie_band + 0.5\n",
    "\n",
    "    movie_blank = np.ones((image_size_az, image_size_el, N_frame_blank)) * 0.5\n",
    "\n",
    "    opts.update(B_theta=B_theta_inducer)\n",
    "    movie_inducer_east = mc.rectif(mc.random_cloud(mc.envelope_gabor(fx, fy, ft, V_X=V, V_Y=0, theta=0.,  **opts), do_mask=do_mask))[:, :, :N_frame_inducer]\n",
    "    movie_inducer_west = mc.rectif(mc.random_cloud(mc.envelope_gabor(fx, fy, ft, V_X=-V, V_Y=0, theta=0., **opts), do_mask=do_mask))[:, :, :N_frame_inducer]\n",
    "    movie_inducer_north = mc.rectif(mc.random_cloud(mc.envelope_gabor(fx, fy, ft, V_X=0, V_Y=V, theta=np.pi/2, **opts), do_mask=do_mask))[:, :, :N_frame_inducer]\n",
    "    movie_inducer_south = mc.rectif(mc.random_cloud(mc.envelope_gabor(fx, fy, ft, V_X=0, V_Y=-V, theta=np.pi/2, **opts), do_mask=do_mask))[:, :, :N_frame_inducer]\n",
    "\n",
    "    if do_band_inducer:\n",
    "        movie_band = (np.abs(fy) < band_radius)[:, :, :N_frame_inducer]\n",
    "        movie_inducer_east = (movie_inducer_east - 0.5) * movie_band + 0.5\n",
    "        movie_inducer_west = (movie_inducer_west - 0.5) * movie_band + 0.5\n",
    "        movie_band = (np.abs(fx) < band_radius)[:, :, :N_frame_inducer]\n",
    "        movie_inducer_south = (movie_inducer_south - 0.5) * movie_band + 0.5\n",
    "        movie_inducer_north = (movie_inducer_north - 0.5) * movie_band + 0.5\n",
    "\n",
    "    movie_highphi = np.concatenate((movie_inducer_east, movie_shuffle_h, movie_blank, movie_inducer_north, movie_shuffle_v, movie_blank, \n",
    "                                    movie_inducer_west, movie_shuffle_h, movie_blank, movie_inducer_south, movie_shuffle_v, movie_blank), axis=-1)\n",
    "    \n",
    "    fname = os.path.join(mc.figpath, figname)\n",
    "    mc.anim_save(movie_highphi, fname, figpath=mc.figpath, fps=fps, verbose=False)\n",
    "    return fname + mc.vext # returns filename\n",
    "\n",
    "\n",
    "figname = 'high-phi'\n",
    "fname = make_shots(figname)\n",
    "mc.in_show_video(figname, figpath=mc.figpath)"
   ]
  },
  {
   "cell_type": "markdown",
   "metadata": {},
   "source": [
    "This function allows us to test different configurations.\n",
    "\n",
    "What if the inducer is short in time ?"
   ]
  },
  {
   "cell_type": "code",
   "execution_count": 15,
   "metadata": {},
   "outputs": [
    {
     "data": {
      "text/html": [
       "\n",
       "            <center><table border=none width=100% height=100%>\n",
       "            <tr> <td width=100%><center><video playsinline loop autoplay controls  src=\"../files/2025-06-09_extending-the-high-phi-illusion/high-phi-short-inducer.mp4\" type=\"video/mp4\"  width=100%>\n",
       "            </td></tr></table></center>"
      ],
      "text/plain": [
       "<IPython.core.display.HTML object>"
      ]
     },
     "metadata": {},
     "output_type": "display_data"
    }
   ],
   "source": [
    "figname = 'high-phi-short-inducer'\n",
    "fname = make_shots(figname, N_frame_shuffle=5, N_frame_inducer=10, N_frame_blank=65)\n",
    "mc.in_show_video(figname, figpath=mc.figpath)"
   ]
  },
  {
   "cell_type": "markdown",
   "metadata": {},
   "source": [
    "What if the inducer's speed is slower ?"
   ]
  },
  {
   "cell_type": "code",
   "execution_count": 16,
   "metadata": {},
   "outputs": [
    {
     "data": {
      "text/html": [
       "\n",
       "            <center><table border=none width=100% height=100%>\n",
       "            <tr> <td width=100%><center><video playsinline loop autoplay controls  src=\"../files/2025-06-09_extending-the-high-phi-illusion/high-phi-slow.mp4\" type=\"video/mp4\"  width=100%>\n",
       "            </td></tr></table></center>"
      ],
      "text/plain": [
       "<IPython.core.display.HTML object>"
      ]
     },
     "metadata": {},
     "output_type": "display_data"
    }
   ],
   "source": [
    "figname = 'high-phi-slow'\n",
    "fname = make_shots(figname, V=1.)\n",
    "mc.in_show_video(figname, figpath=mc.figpath)"
   ]
  },
  {
   "cell_type": "markdown",
   "metadata": {},
   "source": [
    "What if the inducer is long in time but the shuffle is long ?"
   ]
  },
  {
   "cell_type": "code",
   "execution_count": 17,
   "metadata": {},
   "outputs": [
    {
     "data": {
      "text/html": [
       "\n",
       "            <center><table border=none width=100% height=100%>\n",
       "            <tr> <td width=100%><center><video playsinline loop autoplay controls  src=\"../files/2025-06-09_extending-the-high-phi-illusion/high-phi-short-shuffle.mp4\" type=\"video/mp4\"  width=100%>\n",
       "            </td></tr></table></center>"
      ],
      "text/plain": [
       "<IPython.core.display.HTML object>"
      ]
     },
     "metadata": {},
     "output_type": "display_data"
    }
   ],
   "source": [
    "figname = 'high-phi-short-shuffle'\n",
    "fname = make_shots(figname, N_frame_shuffle=5, N_frame_inducer=65, N_frame_blank=10)\n",
    "mc.in_show_video(figname, figpath=mc.figpath)"
   ]
  },
  {
   "cell_type": "markdown",
   "metadata": {},
   "source": [
    "What if both are short in time ?"
   ]
  },
  {
   "cell_type": "code",
   "execution_count": 18,
   "metadata": {},
   "outputs": [
    {
     "data": {
      "text/html": [
       "\n",
       "            <center><table border=none width=100% height=100%>\n",
       "            <tr> <td width=100%><center><video playsinline loop autoplay controls  src=\"../files/2025-06-09_extending-the-high-phi-illusion/high-phi-short.mp4\" type=\"video/mp4\"  width=100%>\n",
       "            </td></tr></table></center>"
      ],
      "text/plain": [
       "<IPython.core.display.HTML object>"
      ]
     },
     "metadata": {},
     "output_type": "display_data"
    }
   ],
   "source": [
    "figname = 'high-phi-short'\n",
    "fname = make_shots(figname, N_frame_shuffle=5, N_frame_inducer=5, N_frame_blank=70)\n",
    "mc.in_show_video(figname, figpath=mc.figpath)"
   ]
  },
  {
   "cell_type": "markdown",
   "metadata": {},
   "source": [
    "What if both are long in time ?"
   ]
  },
  {
   "cell_type": "code",
   "execution_count": 19,
   "metadata": {},
   "outputs": [
    {
     "data": {
      "text/html": [
       "\n",
       "            <center><table border=none width=100% height=100%>\n",
       "            <tr> <td width=100%><center><video playsinline loop autoplay controls  src=\"../files/2025-06-09_extending-the-high-phi-illusion/high-phi-long.mp4\" type=\"video/mp4\"  width=100%>\n",
       "            </td></tr></table></center>"
      ],
      "text/plain": [
       "<IPython.core.display.HTML object>"
      ]
     },
     "metadata": {},
     "output_type": "display_data"
    }
   ],
   "source": [
    "figname = 'high-phi-long'\n",
    "fname = make_shots(figname, N_frame_shuffle=40, N_frame_inducer=40, N_frame_blank=0)\n",
    "mc.in_show_video(figname, figpath=mc.figpath)"
   ]
  },
  {
   "cell_type": "markdown",
   "metadata": {},
   "source": [
    "What if the inducer contains oriented textures ?"
   ]
  },
  {
   "cell_type": "code",
   "execution_count": 24,
   "metadata": {},
   "outputs": [
    {
     "data": {
      "text/html": [
       "\n",
       "            <center><table border=none width=100% height=100%>\n",
       "            <tr> <td width=100%><center><video playsinline loop autoplay controls  src=\"../files/2025-06-09_extending-the-high-phi-illusion/high-phi-oriented-inducer.mp4\" type=\"video/mp4\"  width=100%>\n",
       "            </td></tr></table></center>"
      ],
      "text/plain": [
       "<IPython.core.display.HTML object>"
      ]
     },
     "metadata": {},
     "output_type": "display_data"
    }
   ],
   "source": [
    "figname = 'high-phi-oriented-inducer'\n",
    "fname = make_shots(figname, theta=0., B_theta_inducer=.2)\n",
    "mc.in_show_video(figname, figpath=mc.figpath)"
   ]
  },
  {
   "cell_type": "code",
   "execution_count": 25,
   "metadata": {},
   "outputs": [
    {
     "data": {
      "text/html": [
       "\n",
       "            <center><table border=none width=100% height=100%>\n",
       "            <tr> <td width=100%><center><video playsinline loop autoplay controls  src=\"../files/2025-06-09_extending-the-high-phi-illusion/high-phi-oriented-inducer-shuffle.mp4\" type=\"video/mp4\"  width=100%>\n",
       "            </td></tr></table></center>"
      ],
      "text/plain": [
       "<IPython.core.display.HTML object>"
      ]
     },
     "metadata": {},
     "output_type": "display_data"
    }
   ],
   "source": [
    "figname = 'high-phi-oriented-inducer-shuffle'\n",
    "fname = make_shots(figname, theta=0., B_theta_shuffle=.2, B_theta_inducer=.2)\n",
    "mc.in_show_video(figname, figpath=mc.figpath)"
   ]
  },
  {
   "cell_type": "code",
   "execution_count": 26,
   "metadata": {},
   "outputs": [
    {
     "data": {
      "text/html": [
       "\n",
       "            <center><table border=none width=100% height=100%>\n",
       "            <tr> <td width=100%><center><video playsinline loop autoplay controls  src=\"../files/2025-06-09_extending-the-high-phi-illusion/high-phi-oriented-inducer-noband.mp4\" type=\"video/mp4\"  width=100%>\n",
       "            </td></tr></table></center>"
      ],
      "text/plain": [
       "<IPython.core.display.HTML object>"
      ]
     },
     "metadata": {},
     "output_type": "display_data"
    }
   ],
   "source": [
    "figname = 'high-phi-oriented-inducer-noband'\n",
    "fname = make_shots(figname, theta=0., B_theta_shuffle=.2, B_theta_inducer=.2, do_band_inducer=False, do_band_shuffle=False)\n",
    "mc.in_show_video(figname, figpath=mc.figpath)"
   ]
  },
  {
   "cell_type": "markdown",
   "metadata": {},
   "source": [
    "and that these orientation is tilted at 45° ?"
   ]
  },
  {
   "cell_type": "code",
   "execution_count": 20,
   "metadata": {},
   "outputs": [
    {
     "data": {
      "text/html": [
       "\n",
       "            <center><table border=none width=100% height=100%>\n",
       "            <tr> <td width=100%><center><video playsinline loop autoplay controls  src=\"../files/2025-06-09_extending-the-high-phi-illusion/high-phi-diagonal.mp4\" type=\"video/mp4\"  width=100%>\n",
       "            </td></tr></table></center>"
      ],
      "text/plain": [
       "<IPython.core.display.HTML object>"
      ]
     },
     "metadata": {},
     "output_type": "display_data"
    }
   ],
   "source": [
    "figname = 'high-phi-diagonal'\n",
    "fname = make_shots(figname, B_theta_shuffle=.2)\n",
    "mc.in_show_video(figname, figpath=mc.figpath)\n"
   ]
  },
  {
   "cell_type": "code",
   "execution_count": 21,
   "metadata": {},
   "outputs": [
    {
     "data": {
      "text/html": [
       "\n",
       "            <center><table border=none width=100% height=100%>\n",
       "            <tr> <td width=100%><center><video playsinline loop autoplay controls  src=\"../files/2025-06-09_extending-the-high-phi-illusion/high-phi-diagonal-inducer.mp4\" type=\"video/mp4\"  width=100%>\n",
       "            </td></tr></table></center>"
      ],
      "text/plain": [
       "<IPython.core.display.HTML object>"
      ]
     },
     "metadata": {},
     "output_type": "display_data"
    }
   ],
   "source": [
    "figname = 'high-phi-diagonal-inducer'\n",
    "fname = make_shots(figname, B_theta_inducer=.2)\n",
    "mc.in_show_video(figname, figpath=mc.figpath)\n"
   ]
  },
  {
   "cell_type": "code",
   "execution_count": 22,
   "metadata": {},
   "outputs": [
    {
     "data": {
      "text/html": [
       "\n",
       "            <center><table border=none width=100% height=100%>\n",
       "            <tr> <td width=100%><center><video playsinline loop autoplay controls  src=\"../files/2025-06-09_extending-the-high-phi-illusion/high-phi-diagonal-both.mp4\" type=\"video/mp4\"  width=100%>\n",
       "            </td></tr></table></center>"
      ],
      "text/plain": [
       "<IPython.core.display.HTML object>"
      ]
     },
     "metadata": {},
     "output_type": "display_data"
    }
   ],
   "source": [
    "figname = 'high-phi-diagonal-both'\n",
    "fname = make_shots(figname, B_theta_shuffle=.2, B_theta_inducer=.2)\n",
    "mc.in_show_video(figname, figpath=mc.figpath)"
   ]
  },
  {
   "cell_type": "markdown",
   "metadata": {},
   "source": [
    "## some book keeping for the notebook"
   ]
  },
  {
   "cell_type": "code",
   "execution_count": 23,
   "metadata": {},
   "outputs": [
    {
     "name": "stdout",
     "output_type": "stream",
     "text": [
      "Python implementation: CPython\n",
      "Python version       : 3.13.5\n",
      "IPython version      : 9.3.0\n",
      "\n",
      "numpy     : 2.3.0\n",
      "matplotlib: 3.10.3\n",
      "imageio   : 2.37.0\n",
      "\n",
      "Compiler    : Clang 17.0.0 (clang-1700.0.13.3)\n",
      "OS          : Darwin\n",
      "Release     : 24.5.0\n",
      "Machine     : x86_64\n",
      "Processor   : i386\n",
      "CPU cores   : 36\n",
      "Architecture: 64bit\n",
      "\n",
      "Hostname: Ahsoka\n",
      "\n",
      "Git hash: b97d7a23e35afe9d4ccf3f22e96d5aa986946004\n",
      "\n",
      "Git repo: https://github.com/laurentperrinet/sciblog\n",
      "\n",
      "Git branch: master\n",
      "\n"
     ]
    }
   ],
   "source": [
    "%load_ext watermark\n",
    "%watermark -i -h -m -v -p numpy,matplotlib,imageio  -r -g -b"
   ]
  }
 ],
 "metadata": {
  "kernelspec": {
   "display_name": ".venv",
   "language": "python",
   "name": "python3"
  },
  "language_info": {
   "codemirror_mode": {
    "name": "ipython",
    "version": 3
   },
   "file_extension": ".py",
   "mimetype": "text/x-python",
   "name": "python",
   "nbconvert_exporter": "python",
   "pygments_lexer": "ipython3",
   "version": "3.13.5"
  },
  "toc": {
   "base_numbering": 1,
   "nav_menu": {},
   "number_sections": true,
   "sideBar": true,
   "skip_h1_title": false,
   "title_cell": "Table of Contents",
   "title_sidebar": "Contents",
   "toc_cell": false,
   "toc_position": {},
   "toc_section_display": true,
   "toc_window_display": false
  }
 },
 "nbformat": 4,
 "nbformat_minor": 4
}
