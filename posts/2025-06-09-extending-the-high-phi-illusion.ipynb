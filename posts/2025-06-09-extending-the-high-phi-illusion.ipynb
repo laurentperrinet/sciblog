{
 "cells": [
  {
   "cell_type": "markdown",
   "metadata": {},
   "source": [
    "The  High Phi Motion illusion, is the illusory perception of a strong shift of motion induced by a slow inducing motion. A demo page is available on the [min author's webpage](http://lab-perception.org/demo/highphi/) and the effect is described in this excellent paper :\n",
    "    Wexler M, Glennerster A, Cavanagh P, Ito H & Seno T (2013). Default perception of high-speed motion. PNAS, 110, 7080-7085. http://wexler.free.fr/papers/highphi.pdf\n",
    "\n",
    "\n",
    "In this notebook, we will generate an extension of this illusion to answer to the question of knowing if it limited to the one-dimensional motion along the ring or if this can extended to arbitrary, 2D, planar motions."
   ]
  },
  {
   "cell_type": "code",
   "execution_count": 1,
   "metadata": {},
   "outputs": [],
   "source": [
    "from IPython.display import Video\n",
    "\n",
    "prefix = '2025-06-09_extending-the-high-phi-illusion'\n",
    "# Video(f'../files/{prefix}/high-phi.mp4', html_attributes=\"loop=True autoplay=True  controls=True\")"
   ]
  },
  {
   "cell_type": "markdown",
   "metadata": {},
   "source": [
    "\n",
    "<!-- TEASER_END -->\n",
    "\n",
    "Let's first initialize the notebook:"
   ]
  },
  {
   "cell_type": "code",
   "execution_count": 2,
   "metadata": {},
   "outputs": [
    {
     "name": "stdout",
     "output_type": "stream",
     "text": [
      "high-phi-diagonal-inducer.mp4  high-phi-short.mp4\n",
      "high-phi-diagonal.mp4          high-phi.mp4\n",
      "high-phi-long.mp4              inducer.mp4\n",
      "high-phi-short-inducer.mp4     shuffle.mp4\n",
      "high-phi-short-shuffle.mp4\n"
     ]
    }
   ],
   "source": [
    "%ls ../files/{prefix}/"
   ]
  },
  {
   "cell_type": "code",
   "execution_count": 3,
   "metadata": {},
   "outputs": [],
   "source": [
    "import os\n",
    "import numpy as np\n",
    "import matplotlib.pyplot as plt"
   ]
  },
  {
   "cell_type": "markdown",
   "metadata": {},
   "source": [
    "## creating a textured motion\n",
    "\n",
    "\n"
   ]
  },
  {
   "cell_type": "markdown",
   "metadata": {},
   "source": [
    "As a generic visual texture, let's synthetize a [Motion Clouds](https://neuralensemble.github.io/MotionClouds) for the inducer:"
   ]
  },
  {
   "cell_type": "code",
   "execution_count": 4,
   "metadata": {},
   "outputs": [],
   "source": [
    "# %pip install MotionClouds"
   ]
  },
  {
   "cell_type": "code",
   "execution_count": 5,
   "metadata": {},
   "outputs": [],
   "source": [
    "import MotionClouds as mc\n",
    "mc.figpath = os.path.join('../files/', prefix)\n",
    "os.makedirs(mc.figpath, exist_ok=True)\n",
    "\n",
    "image_size_az, image_size_el, N_frame = 512, 512, 64\n",
    "N_frame_inducer = 48\n",
    "fx, fy, ft = mc.get_grids(image_size_az, image_size_el, N_frame)\n"
   ]
  },
  {
   "cell_type": "code",
   "execution_count": 6,
   "metadata": {},
   "outputs": [],
   "source": [
    "# HACK\n",
    "%rm -f ../files/{prefix}/*mp4 "
   ]
  },
  {
   "cell_type": "code",
   "execution_count": 7,
   "metadata": {},
   "outputs": [
    {
     "name": "stdout",
     "output_type": "stream",
     "text": [
      "Before Rectification of the frames\n",
      "Mean= 0.0 , std= 5.873840747692175e-05 , Min= -0.0002725409587618176 , Max= 0.0002620943760986014  Abs(Max)= 0.0002725409587618176\n",
      "After Rectification of the frames\n",
      "Mean= 0.5 , std= 0.10776069722469707 , Min= 0.0 , Max= 0.980834839081296\n",
      "percentage pixels clipped= 0.0\n"
     ]
    },
    {
     "data": {
      "text/html": [
       "\n",
       "            <center><table border=none width=100% height=100%>\n",
       "            <tr> <td width=100%><center><video playsinline loop autoplay controls  src=\"../files/2025-06-09_extending-the-high-phi-illusion/inducer.mp4\" type=\"video/mp4\"  width=100%>\n",
       "            </td></tr></table></center>"
      ],
      "text/plain": [
       "<IPython.core.display.HTML object>"
      ]
     },
     "metadata": {},
     "output_type": "display_data"
    }
   ],
   "source": [
    "name = 'inducer'\n",
    "\n",
    "opts = dict(sf_0=0.015, B_theta=np.inf, B_sf=0.015)\n",
    "env = mc.envelope_gabor(fx, fy, ft, **opts)\n",
    "\n",
    "mc.figures(env, name, do_figs=False, figpath=mc.figpath, verbose=True)\n",
    "mc.in_show_video(name, figpath=mc.figpath)"
   ]
  },
  {
   "cell_type": "markdown",
   "metadata": {},
   "source": [
    "This can be accessed as a `numpy` array:"
   ]
  },
  {
   "cell_type": "code",
   "execution_count": null,
   "metadata": {},
   "outputs": [],
   "source": [
    "movie_inducer = mc.rectif(mc.random_cloud(env))[:, :, :N_frame_inducer]\n",
    "print(f'movie_inducer shape = {movie_inducer.shape}')"
   ]
  },
  {
   "cell_type": "markdown",
   "metadata": {},
   "source": [
    "On the first two axis, the spatial axis of pixels ($x$ and $y$), on the third the temporal axis $t$.\n"
   ]
  },
  {
   "cell_type": "markdown",
   "metadata": {},
   "source": [
    "\n",
    "### shuffled movie\n",
    "\n",
    "This corresponds in Fourier space to a white noise in time and can be parameterized by an infinite bandwidth on the temporal frequency axis:"
   ]
  },
  {
   "cell_type": "code",
   "execution_count": null,
   "metadata": {},
   "outputs": [],
   "source": [
    "name = 'shuffle'\n",
    "N_frame_shuffle = 4\n",
    "fx, fy, ft = mc.get_grids(image_size_az, image_size_el, N_frame)\n",
    "env = mc.envelope_gabor(fx, fy, ft, B_V=np.inf, **opts)\n",
    "\n",
    "mc.figures(env, name, do_figs=False, figpath=mc.figpath)\n",
    "mc.in_show_video(name, figpath=mc.figpath)"
   ]
  },
  {
   "cell_type": "markdown",
   "metadata": {},
   "source": [
    "Similarly, we get a movie:"
   ]
  },
  {
   "cell_type": "code",
   "execution_count": null,
   "metadata": {},
   "outputs": [],
   "source": [
    "movie_shuffle = mc.rectif(mc.random_cloud(env))[:, :, :N_frame_shuffle]\n",
    "print(f'movie_shuffle shape = {movie_shuffle.shape}')"
   ]
  },
  {
   "cell_type": "markdown",
   "metadata": {},
   "source": [
    "we can now use these arrays and concatenate them:"
   ]
  },
  {
   "cell_type": "code",
   "execution_count": null,
   "metadata": {},
   "outputs": [],
   "source": [
    "name = 'high-phi'\n",
    "\n",
    "movie_blank = np.ones_like(movie_shuffle) * 0.5\n",
    "movie_inducer_east = mc.rectif(mc.random_cloud(mc.envelope_gabor(fx, fy, ft, V_X=1, V_Y=0, **opts)))\n",
    "movie_inducer_west = mc.rectif(mc.random_cloud(mc.envelope_gabor(fx, fy, ft, V_X=-1, V_Y=0, **opts)))\n",
    "movie_inducer_north = mc.rectif(mc.random_cloud(mc.envelope_gabor(fx, fy, ft, V_X=0, V_Y=1, **opts)))\n",
    "movie_inducer_south = mc.rectif(mc.random_cloud(mc.envelope_gabor(fx, fy, ft, V_X=0, V_Y=-1, **opts)))\n",
    "\n",
    "movie_highphi = np.concatenate((movie_inducer_east, movie_shuffle, movie_blank, movie_inducer_north, movie_shuffle, movie_blank, \n",
    "                                movie_inducer_west, movie_shuffle, movie_blank, movie_inducer_south, movie_shuffle, movie_blank), axis=-1)\n",
    "mc.anim_save(movie_highphi, os.path.join(mc.figpath, name), figpath=mc.figpath, verbose=False)\n",
    "mc.in_show_video(name, figpath=mc.figpath)"
   ]
  },
  {
   "cell_type": "markdown",
   "metadata": {},
   "source": [
    "\n",
    "### wrapping up and make a movie\n",
    "\n",
    "\n",
    "Now that we have all elements, let's wrap them up in a single function and export the result as a"
   ]
  },
  {
   "cell_type": "code",
   "execution_count": null,
   "metadata": {},
   "outputs": [],
   "source": [
    "UPSCALE = 1\n",
    "image_size_az, image_size_el, N_frame = 256*UPSCALE, 256*UPSCALE, 64\n",
    "\n",
    "def make_shots(figname, \n",
    "               N_frame_inducer=32, N_frame_shuffle=4, \n",
    "               image_size_az=image_size_az, image_size_el=image_size_el, N_frame=N_frame, \n",
    "               sf_0=opts['sf_0'], B_theta=opts['B_theta'], B_theta_inducer=opts['B_theta'], theta=np.pi/4, B_sf=opts['B_sf'],\n",
    "               fps = 12 # frames per second\n",
    "    ):\n",
    "\n",
    "\n",
    "    fx, fy, ft = mc.get_grids(image_size_az, image_size_el, N_frame)\n",
    "\n",
    "    opts = dict(sf_0=sf_0, theta=theta, B_theta=B_theta, B_sf=B_sf)\n",
    "    movie_shuffle = mc.rectif(mc.random_cloud(mc.envelope_gabor(fx, fy, ft, B_V=np.inf, **opts)))[:, :, :N_frame_shuffle]\n",
    "    movie_blank = np.ones_like(movie_shuffle) * 0.5\n",
    "\n",
    "    opts.update(B_theta=B_theta_inducer)\n",
    "    movie_inducer_east = mc.rectif(mc.random_cloud(mc.envelope_gabor(fx, fy, ft, V_X=1, V_Y=0, **opts)))[:, :, :N_frame_inducer]\n",
    "    movie_inducer_west = mc.rectif(mc.random_cloud(mc.envelope_gabor(fx, fy, ft, V_X=-1, V_Y=0, **opts)))[:, :, :N_frame_inducer]\n",
    "    movie_inducer_north = mc.rectif(mc.random_cloud(mc.envelope_gabor(fx, fy, ft, V_X=0, V_Y=1, **opts)))[:, :, :N_frame_inducer]\n",
    "    movie_inducer_south = mc.rectif(mc.random_cloud(mc.envelope_gabor(fx, fy, ft, V_X=0, V_Y=-1, **opts)))[:, :, :N_frame_inducer]\n",
    "\n",
    "    movie_highphi = np.concatenate((movie_inducer_east, movie_shuffle, movie_blank, movie_inducer_north, movie_shuffle, movie_blank, \n",
    "                                    movie_inducer_west, movie_shuffle, movie_blank, movie_inducer_south, movie_shuffle, movie_blank), axis=-1)\n",
    "    \n",
    "    fname = os.path.join(mc.figpath, figname)\n",
    "    mc.anim_save(movie_highphi, fname, figpath=mc.figpath, fps=fps, verbose=False)\n",
    "    return fname + mc.vext # returns filename\n"
   ]
  },
  {
   "cell_type": "markdown",
   "metadata": {},
   "source": [
    "This function allows us to test different configurations.\n",
    "\n",
    "What if the inducer is short in time ?"
   ]
  },
  {
   "cell_type": "code",
   "execution_count": null,
   "metadata": {},
   "outputs": [],
   "source": [
    "figname = 'high-phi-short-inducer'\n",
    "fname = make_shots(figname, N_frame_shuffle=32, N_frame_inducer=8)\n",
    "mc.in_show_video(figname, figpath=mc.figpath)"
   ]
  },
  {
   "cell_type": "markdown",
   "metadata": {},
   "source": [
    "What if the inducer is long in time but the shuffle is long ?"
   ]
  },
  {
   "cell_type": "code",
   "execution_count": null,
   "metadata": {},
   "outputs": [],
   "source": [
    "figname = 'high-phi-short-shuffle'\n",
    "fname = make_shots(figname, N_frame_shuffle=8, N_frame_inducer=32)\n",
    "mc.in_show_video(figname, figpath=mc.figpath)"
   ]
  },
  {
   "cell_type": "markdown",
   "metadata": {},
   "source": [
    "What if both are short in time ?"
   ]
  },
  {
   "cell_type": "code",
   "execution_count": null,
   "metadata": {},
   "outputs": [],
   "source": [
    "figname = 'high-phi-short'\n",
    "fname = make_shots(figname, N_frame_shuffle=8, N_frame_inducer=8)\n",
    "mc.in_show_video(figname, figpath=mc.figpath)"
   ]
  },
  {
   "cell_type": "markdown",
   "metadata": {},
   "source": [
    "What if both are long in time ?"
   ]
  },
  {
   "cell_type": "code",
   "execution_count": null,
   "metadata": {},
   "outputs": [],
   "source": [
    "figname = 'high-phi-long'\n",
    "fname = make_shots(figname, N_frame_shuffle=32, N_frame_inducer=32)\n",
    "mc.in_show_video(figname, figpath=mc.figpath)"
   ]
  },
  {
   "cell_type": "markdown",
   "metadata": {},
   "source": [
    "What if both are long in time ?"
   ]
  },
  {
   "cell_type": "code",
   "execution_count": null,
   "metadata": {},
   "outputs": [],
   "source": [
    "figname = 'high-phi-diagonal'\n",
    "fname = make_shots(figname, B_theta=.1)\n",
    "mc.in_show_video(figname, figpath=mc.figpath)\n"
   ]
  },
  {
   "cell_type": "code",
   "execution_count": null,
   "metadata": {},
   "outputs": [],
   "source": [
    "figname = 'high-phi-diagonal-inducer'\n",
    "fname = make_shots(figname, B_theta_inducer=.1)\n",
    "mc.in_show_video(figname, figpath=mc.figpath)\n"
   ]
  },
  {
   "cell_type": "code",
   "execution_count": null,
   "metadata": {},
   "outputs": [],
   "source": [
    "figname = 'high-phi-diagonal-both'\n",
    "fname = make_shots(figname, B_theta=.1, B_theta_inducer=.1)\n",
    "mc.in_show_video(figname, figpath=mc.figpath)"
   ]
  },
  {
   "cell_type": "markdown",
   "metadata": {},
   "source": [
    "## some book keeping for the notebook"
   ]
  },
  {
   "cell_type": "code",
   "execution_count": null,
   "metadata": {},
   "outputs": [],
   "source": [
    "%load_ext watermark\n",
    "%watermark -i -h -m -v -p numpy,matplotlib,imageio  -r -g -b"
   ]
  }
 ],
 "metadata": {
  "kernelspec": {
   "display_name": ".venv",
   "language": "python",
   "name": "python3"
  },
  "language_info": {
   "codemirror_mode": {
    "name": "ipython",
    "version": 3
   },
   "file_extension": ".py",
   "mimetype": "text/x-python",
   "name": "python",
   "nbconvert_exporter": "python",
   "pygments_lexer": "ipython3",
   "version": "3.13.5"
  },
  "toc": {
   "base_numbering": 1,
   "nav_menu": {},
   "number_sections": true,
   "sideBar": true,
   "skip_h1_title": false,
   "title_cell": "Table of Contents",
   "title_sidebar": "Contents",
   "toc_cell": false,
   "toc_position": {},
   "toc_section_display": true,
   "toc_window_display": false
  }
 },
 "nbformat": 4,
 "nbformat_minor": 4
}
